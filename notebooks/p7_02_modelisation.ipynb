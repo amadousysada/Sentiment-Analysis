{
  "cells": [
    {
      "cell_type": "markdown",
      "source": [
        "# Import des librairies"
      ],
      "metadata": {
        "id": "hwecoVR_24PI"
      }
    },
    {
      "cell_type": "code",
      "execution_count": 2,
      "metadata": {
        "execution": {
          "iopub.execute_input": "2020-08-26T20:59:06.289122Z",
          "iopub.status.busy": "2020-08-26T20:59:06.288192Z",
          "iopub.status.idle": "2020-08-26T20:59:08.802804Z",
          "shell.execute_reply": "2020-08-26T20:59:08.802075Z"
        },
        "papermill": {
          "duration": 2.557066,
          "end_time": "2020-08-26T20:59:08.802938",
          "exception": false,
          "start_time": "2020-08-26T20:59:06.245872",
          "status": "completed"
        },
        "scrolled": true,
        "tags": [],
        "colab": {
          "base_uri": "https://localhost:8080/"
        },
        "id": "4DO_uFhC0Qsr",
        "outputId": "fbc3822e-d1b9-48ab-c5aa-69e210f4211d"
      },
      "outputs": [
        {
          "output_type": "stream",
          "name": "stdout",
          "text": [
            "Python version: 3.11.12 (main, Apr  9 2025, 08:55:54) [GCC 11.4.0]\n",
            "Version info.: sys.version_info(major=3, minor=11, micro=12, releaselevel='final', serial=0)\n",
            "pandas version: 2.2.2\n",
            "numpy version: 2.0.2\n",
            "skearn version: 1.6.1\n",
            "re version: 2.2.1\n",
            "tensorflow version: 2.18.0\n",
            "tensorflow_hub version: 0.16.1\n",
            "tensorflow_text version: 2.18.1\n",
            "CPU times: user 7.23 s, sys: 1.66 s, total: 8.88 s\n",
            "Wall time: 14.8 s\n"
          ]
        }
      ],
      "source": [
        "%%time\n",
        "import time\n",
        "init_time = time.time()\n",
        "\n",
        "import os\n",
        "import sys\n",
        "import warnings\n",
        "warnings.filterwarnings(\"ignore\", category=FutureWarning)\n",
        "\n",
        "if not sys.warnoptions:\n",
        "    warnings.simplefilter(\"ignore\")\n",
        "\n",
        "import numpy as np\n",
        "import pandas as pd\n",
        "import sklearn\n",
        "\n",
        "from matplotlib import pyplot as plt\n",
        "from matplotlib.gridspec import GridSpec\n",
        "\n",
        "\n",
        "import seaborn as sns\n",
        "\n",
        "import string\n",
        "import re\n",
        "\n",
        "# Tensorflow\n",
        "import tensorflow as tf\n",
        "import tensorflow_hub as hub\n",
        "import tensorflow_text as text\n",
        "\n",
        "#Scikit-learn\n",
        "from sklearn.naive_bayes import GaussianNB\n",
        "from sklearn.linear_model import LogisticRegression, RidgeClassifier\n",
        "from sklearn.naive_bayes import GaussianNB\n",
        "from sklearn.discriminant_analysis import LinearDiscriminantAnalysis as LDA\n",
        "from sklearn.model_selection import cross_val_score, train_test_split, StratifiedKFold\n",
        "from sklearn.metrics import accuracy_score, f1_score, roc_auc_score, recall_score, precision_score, mean_squared_error, r2_score\n",
        "from sklearn.calibration import CalibrationDisplay\n",
        "from sklearn.ensemble import RandomForestClassifier\n",
        "from sklearn.svm import LinearSVC\n",
        "\n",
        "from xgboost import XGBClassifier\n",
        "\n",
        "# Modèles de Boosting\n",
        "from xgboost import XGBClassifier\n",
        "from lightgbm import LGBMClassifier\n",
        "\n",
        "\n",
        "print(\"Python version:\", sys.version)\n",
        "print(\"Version info.:\", sys.version_info)\n",
        "print(\"pandas version:\", pd.__version__)\n",
        "print(\"numpy version:\", np.__version__)\n",
        "print(\"skearn version:\", sklearn.__version__)\n",
        "print(\"re version:\", re.__version__)\n",
        "#print(\"nltk version:\", nltk.__version__)\n",
        "print(\"tensorflow version:\", tf.__version__)\n",
        "print(\"tensorflow_hub version:\", hub.__version__)\n",
        "print(\"tensorflow_text version:\", text.__version__)"
      ]
    },
    {
      "cell_type": "markdown",
      "metadata": {
        "papermill": {
          "duration": 0.02595,
          "end_time": "2020-08-26T20:59:08.856139",
          "exception": false,
          "start_time": "2020-08-26T20:59:08.830189",
          "status": "completed"
        },
        "tags": [],
        "id": "0yR7Xntu0Qss"
      },
      "source": [
        "# Chargement des données"
      ]
    },
    {
      "cell_type": "code",
      "source": [
        "path = \"/content/drive/MyDrive/data/sentiments\"\n",
        "#path = \"./data/sentiments\""
      ],
      "metadata": {
        "id": "R-voC08WLnhy"
      },
      "execution_count": 3,
      "outputs": []
    },
    {
      "cell_type": "code",
      "source": [
        "import os\n",
        "\n",
        "for name in [\"tweets_df_tfidf_1gram\", \"embeddings_bert\", \"embeddings_fasttext\", \"embeddings_word2vec\"]:\n",
        "    size = os.path.getsize(os.path.join(path, f\"{name}.npy\")) / 1e6\n",
        "    print(f\"{name}: {size:.2f} MB\")\n"
      ],
      "metadata": {
        "id": "X8mLJj6lu2HA",
        "outputId": "55bed09d-b608-4d04-eb3f-7d68b674637b",
        "colab": {
          "base_uri": "https://localhost:8080/"
        }
      },
      "execution_count": 4,
      "outputs": [
        {
          "output_type": "stream",
          "name": "stdout",
          "text": [
            "tweets_df_tfidf_1gram: 80.46 MB\n",
            "embeddings_bert: 30.72 MB\n",
            "embeddings_fasttext: 3823.37 MB\n",
            "embeddings_word2vec: 3823.37 MB\n"
          ]
        }
      ]
    },
    {
      "cell_type": "code",
      "source": [
        "%%time\n",
        "tweets_df_tfidf_1gram = np.load(os.path.join(path, \"tweets_df_tfidf_1gram.npy\"), allow_pickle=True)\n",
        "\n",
        "tweets_embeddings_bert = np.load(os.path.join(path, \"embeddings_bert.npy\"), allow_pickle=True)\n",
        "tweets_embeddings_fasttext = np.load(os.path.join(path, \"embeddings_fasttext.npy\"), mmap_mode='r')\n",
        "tweets_embeddings_word2vec = np.load(os.path.join(path, \"embeddings_word2vec.npy\"), mmap_mode='r')"
      ],
      "metadata": {
        "id": "hQrTqDqRLtFP",
        "outputId": "654f3909-d646-41d9-a5b6-1944ac2e72f1",
        "colab": {
          "base_uri": "https://localhost:8080/"
        }
      },
      "execution_count": 6,
      "outputs": [
        {
          "output_type": "stream",
          "name": "stdout",
          "text": [
            "CPU times: user 0 ns, sys: 122 ms, total: 122 ms\n",
            "Wall time: 536 ms\n"
          ]
        }
      ]
    },
    {
      "cell_type": "code",
      "source": [
        "print(tweets_df_tfidf_1gram.item().shape)\n",
        "print(tweets_embeddings_word2vec.shape)\n",
        "print(tweets_embeddings_fasttext.shape)\n",
        "print(tweets_embeddings_bert.shape)"
      ],
      "metadata": {
        "id": "ilbCvRzROnEe",
        "outputId": "65e005e4-6005-4d7b-cf08-4edf80fcf5f5",
        "colab": {
          "base_uri": "https://localhost:8080/"
        }
      },
      "execution_count": 7,
      "outputs": [
        {
          "output_type": "stream",
          "name": "stdout",
          "text": [
            "(1593071, 500)\n",
            "(1593071, 300)\n",
            "(1593071, 300)\n",
            "(10000, 768)\n"
          ]
        }
      ]
    },
    {
      "cell_type": "markdown",
      "source": [
        "> Chargement de la variable cible"
      ],
      "metadata": {
        "id": "6Q3cKj798QPQ"
      }
    },
    {
      "cell_type": "code",
      "source": [
        "# Variable cible\n",
        "Y = np.load(os.path.join(path, \"targets.npy\"), allow_pickle=True)\n",
        "display(Y.shape)"
      ],
      "metadata": {
        "colab": {
          "base_uri": "https://localhost:8080/",
          "height": 35
        },
        "id": "ehajTkli8N88",
        "outputId": "abd96698-2540-4e84-848f-b23950992654"
      },
      "execution_count": 8,
      "outputs": [
        {
          "output_type": "display_data",
          "data": {
            "text/plain": [
              "(1593071,)"
            ]
          },
          "metadata": {}
        }
      ]
    },
    {
      "cell_type": "code",
      "source": [
        "def plot_distribution(y_train, y_val, y_test):\n",
        "  # Création des distributions\n",
        "  dist_df = pd.DataFrame({\n",
        "      \"Train set\": pd.Series(y_train).value_counts(normalize=True),\n",
        "      \"Validation set\": pd.Series(y_val).value_counts(normalize=True),\n",
        "      \"Test set\": pd.Series(y_test).value_counts(normalize=True)\n",
        "  }).T\n",
        "\n",
        "  # Optionnel : renommer les colonnes\n",
        "  #dist_df.columns = [\"Classe 1\", \"Classe 0\"]\n",
        "\n",
        "  # Barplot\n",
        "  dist_df.plot(kind=\"bar\", figsize=(8, 5), colormap=\"Set2\")\n",
        "  plt.title(\"Répartition des classes dans y_train, y_val et y_test\")\n",
        "  plt.ylabel(\"Proportion\")\n",
        "  plt.xticks(rotation=0)\n",
        "  plt.ylim(0, 1)\n",
        "  plt.legend(title=\"Classe\")\n",
        "  plt.tight_layout()\n",
        "  plt.show()\n",
        "\n",
        "\n",
        "def split_train_val_test(X, y, sample_size=None, test_size=0.2, val_size=0.2, random_state=42):\n",
        "    \"\"\"\n",
        "    Splitte un jeu de données en trois sous-ensembles : train, validation et test.\n",
        "\n",
        "    Paramètres :\n",
        "    -----------\n",
        "    X : array-like ou sparse matrix\n",
        "        Matrice des features (peut être dense ou sparse).\n",
        "\n",
        "    y : array-like\n",
        "        Vecteur cible (labels ou classes).\n",
        "\n",
        "    sample_size : int ou None (default=None)\n",
        "        Si spécifié, un sous-échantillon (stratifié) de cette taille est prélevé depuis X/y avant le split.\n",
        "\n",
        "    test_size : float (default=0.2)\n",
        "        Proportion du test set par rapport à l'ensemble X (ou X échantillonné).\n",
        "\n",
        "    val_size : float (default=0.2)\n",
        "        Proportion du validation set par rapport à (train + val).\n",
        "\n",
        "    random_state : int (default=42)\n",
        "        Graine pour la reproductibilité.\n",
        "\n",
        "    Retourne :\n",
        "    ---------\n",
        "    X_train, X_val, X_test, y_train, y_val, y_test : datasets splités avec stratification.\n",
        "    \"\"\"\n",
        "\n",
        "    if sample_size is not None:\n",
        "        X_sample, _, y_sample, _ = train_test_split(\n",
        "            X, y, train_size=sample_size, stratify=y, random_state=random_state\n",
        "        )\n",
        "    else:\n",
        "        X_sample, y_sample = X, y\n",
        "\n",
        "    # Split temporaire : train_val vs test\n",
        "    X_train_val, X_test, y_train_val, y_test = train_test_split(\n",
        "        X_sample, y_sample, test_size=test_size, stratify=y_sample, random_state=random_state\n",
        "    )\n",
        "\n",
        "    # Split train vs validation (sur le train_val)\n",
        "    val_split = val_size / (1 - test_size)\n",
        "    X_train, X_val, y_train, y_val = train_test_split(\n",
        "        X_train_val, y_train_val, test_size=val_split, stratify=y_train_val, random_state=random_state\n",
        "    )\n",
        "\n",
        "    return X_train, X_val, X_test, y_train, y_val, y_test\n"
      ],
      "metadata": {
        "id": "B5szwQ44_jsq"
      },
      "execution_count": 12,
      "outputs": []
    },
    {
      "cell_type": "markdown",
      "source": [
        "# Approche 1: Modéle sur mesure"
      ],
      "metadata": {
        "id": "Z34S7rCCB9Uv"
      }
    },
    {
      "cell_type": "markdown",
      "source": [
        "- Logistic Regression\n",
        "- Ridge Classifier\n",
        "- Naive Bayes\n",
        "- Light Gradient Boosting Machine\n",
        "- Gradient Boosting Classifier\n",
        "- linear discriminant analysis"
      ],
      "metadata": {
        "id": "Mqn1YSL-Lw60"
      }
    },
    {
      "cell_type": "code",
      "source": [
        "models = {\n",
        "    \"Logistic Regression\": LogisticRegression(max_iter=1000),\n",
        "    \"Ridge Classifier\": RidgeClassifier(),\n",
        "    \"XGBoost\": XGBClassifier(eval_metric='logloss', n_jobs=-1),\n",
        "    \"LightGBM\": LGBMClassifier(verbose=-1, n_jobs=-1),\n",
        "    \"Random Forest\": RandomForestClassifier(n_estimators=100),\n",
        "}"
      ],
      "metadata": {
        "id": "UZLWX9FXMNsa"
      },
      "execution_count": 9,
      "outputs": []
    },
    {
      "cell_type": "code",
      "source": [
        "from tqdm import tqdm\n",
        "tqdm.pandas()\n",
        "def evaluate_models(x_train, x_valid, y_train, y_valid, cv=3, scoring=\"accuracy\"):\n",
        "    results = []\n",
        "\n",
        "    for name, model in tqdm(models.items()):\n",
        "      start_time = time.time()\n",
        "      print(f\"Evaluating {name}...\")\n",
        "      scores = cross_val_score(model, x_train, y_train, cv=cv, scoring=scoring)\n",
        "      y_pred = model.fit(x_train, y_train).predict(x_valid)\n",
        "      results.append({\n",
        "          \"Model\": name,\n",
        "          \"score\": model.score(x_valid, y_valid),\n",
        "          \"precision\": precision_score(y_valid, y_pred),\n",
        "          \"recall\": recall_score(y_valid, y_pred),\n",
        "          \"f1\": f1_score(y_valid, y_pred),\n",
        "          \"auc\": roc_auc_score(y_valid, y_pred),\n",
        "          \"mse\": mean_squared_error(y_valid, y_pred),\n",
        "          \"train_time (s)\": time.time() - start_time\n",
        "      })\n",
        "    print(\"\\n\")\n",
        "\n",
        "    return pd.DataFrame(results).sort_values(by=\"score\", ascending=False)\n",
        "\n",
        "def show_calibration_curve(models, X_valid, y_valid, exclude=None):\n",
        "  if exclude is None:\n",
        "    exclude = []\n",
        "  fig = plt.figure(figsize=(16, 10))\n",
        "  gs = GridSpec(7, 3)\n",
        "  colors = plt.get_cmap(\"Dark2\")\n",
        "\n",
        "  ax_calibration_curve = fig.add_subplot(gs[:2, :2])\n",
        "  calibration_displays = {}\n",
        "  markers = [\"^\", \"v\", \"s\", \"o\", \"2\"]\n",
        "  for i, (name, clf) in enumerate(models.items()):\n",
        "    if name not in exclude:\n",
        "      display = CalibrationDisplay.from_estimator(\n",
        "          clf,\n",
        "          X_valid,\n",
        "          y_valid,\n",
        "          n_bins=10,\n",
        "          name=name,\n",
        "          ax=ax_calibration_curve,\n",
        "          color=colors(i),\n",
        "          marker=markers[i],\n",
        "      )\n",
        "      calibration_displays[name] = display\n",
        "\n",
        "  ax_calibration_curve.grid()\n",
        "  ax_calibration_curve.set_title(\"Calibration plots\")\n",
        "\n",
        "skf = StratifiedKFold(n_splits=4)"
      ],
      "metadata": {
        "id": "gJgKZ158Mrpp"
      },
      "execution_count": 10,
      "outputs": []
    },
    {
      "cell_type": "markdown",
      "source": [
        "## | Tf-idf"
      ],
      "metadata": {
        "id": "Xs5P0zRjWxrK"
      }
    },
    {
      "cell_type": "code",
      "source": [
        "X_train_tfidf, X_valid_tfidf, X_test_tfidf, y_train_tfidf, y_valid_tfidf, y_test_tfidf = split_train_val_test(tweets_df_tfidf_1gram.item(), Y, sample_size=20000)\n",
        "print(\"Répartition dans y_train    :\", pd.Series(y_train_tfidf).value_counts(normalize=True))\n",
        "print(\"Répartition dans y_validation:\", pd.Series(y_valid_tfidf).value_counts(normalize=True))\n",
        "print(\"Répartition dans y_test :\", pd.Series(y_test_tfidf).value_counts(normalize=True))\n",
        "plot_distribution(y_train_tfidf, y_valid_tfidf, y_test_tfidf)"
      ],
      "metadata": {
        "colab": {
          "base_uri": "https://localhost:8080/",
          "height": 672
        },
        "id": "CRsXanc9XtLS",
        "outputId": "df6089b7-528a-4dbc-cd0b-df1c3df3c1bd"
      },
      "execution_count": 13,
      "outputs": [
        {
          "output_type": "stream",
          "name": "stdout",
          "text": [
            "Répartition dans y_train    : 1    0.500083\n",
            "0    0.499917\n",
            "Name: proportion, dtype: float64\n",
            "Répartition dans y_validation: 0    0.5\n",
            "1    0.5\n",
            "Name: proportion, dtype: float64\n",
            "Répartition dans y_test : 1    0.5\n",
            "0    0.5\n",
            "Name: proportion, dtype: float64\n"
          ]
        },
        {
          "output_type": "display_data",
          "data": {
            "text/plain": [
              "<Figure size 800x500 with 1 Axes>"
            ],
            "image/png": "[encoded data removed]"
          },
          "metadata": {}
        }
      ]
    },
    {
      "cell_type": "code",
      "source": [
        "skf.get_n_splits(X_train_tfidf, y_train_tfidf)\n",
        "for i, (train_index, test_index) in enumerate(skf.split(X_train_tfidf, y_train_tfidf)):\n",
        "    print(f\"Fold {i}:\")\n",
        "    print(f\"  Train: index={train_index}\")\n",
        "    print(f\"  Test:  index={test_index}\")"
      ],
      "metadata": {
        "colab": {
          "base_uri": "https://localhost:8080/"
        },
        "id": "LwmhkTjzVEj2",
        "outputId": "6bc03789-876c-40c2-ce3e-b048112b77ed"
      },
      "execution_count": 14,
      "outputs": [
        {
          "output_type": "stream",
          "name": "stdout",
          "text": [
            "Fold 0:\n",
            "  Train: index=[ 2890  2891  2892 ... 11997 11998 11999]\n",
            "  Test:  index=[   0    1    2 ... 3107 3108 3109]\n",
            "Fold 1:\n",
            "  Train: index=[    0     1     2 ... 11997 11998 11999]\n",
            "  Test:  index=[2890 2891 2892 ... 5997 5999 6000]\n",
            "Fold 2:\n",
            "  Train: index=[    0     1     2 ... 11997 11998 11999]\n",
            "  Test:  index=[5998 6001 6002 ... 8999 9001 9004]\n",
            "Fold 3:\n",
            "  Train: index=[   0    1    2 ... 8999 9001 9004]\n",
            "  Test:  index=[ 8994  8995  9000 ... 11997 11998 11999]\n"
          ]
        }
      ]
    },
    {
      "cell_type": "code",
      "source": [
        "%%time\n",
        "tfidf_results_df = evaluate_models(X_train_tfidf, X_valid_tfidf, y_train_tfidf, y_valid_tfidf, cv=skf)"
      ],
      "metadata": {
        "colab": {
          "base_uri": "https://localhost:8080/"
        },
        "id": "yM0hEsvqYObk",
        "outputId": "dafd5e6d-76b1-407d-bf1f-a01a9734c04c"
      },
      "execution_count": 11,
      "outputs": [
        {
          "output_type": "stream",
          "name": "stderr",
          "text": [
            "\r  0%|          | 0/5 [00:00<?, ?it/s]"
          ]
        },
        {
          "output_type": "stream",
          "name": "stdout",
          "text": [
            "Evaluating Logistic Regression...\n"
          ]
        },
        {
          "output_type": "stream",
          "name": "stderr",
          "text": [
            " 40%|████      | 2/5 [00:00<00:00,  5.51it/s]"
          ]
        },
        {
          "output_type": "stream",
          "name": "stdout",
          "text": [
            "Evaluating Ridge Classifier...\n",
            "Evaluating XGBoost...\n"
          ]
        },
        {
          "output_type": "stream",
          "name": "stderr",
          "text": [
            "\r 60%|██████    | 3/5 [00:13<00:11,  5.94s/it]"
          ]
        },
        {
          "output_type": "stream",
          "name": "stdout",
          "text": [
            "Evaluating LightGBM...\n"
          ]
        },
        {
          "output_type": "stream",
          "name": "stderr",
          "text": [
            "\r 80%|████████  | 4/5 [00:18<00:05,  5.71s/it]"
          ]
        },
        {
          "output_type": "stream",
          "name": "stdout",
          "text": [
            "Evaluating Random Forest...\n"
          ]
        },
        {
          "output_type": "stream",
          "name": "stderr",
          "text": [
            "100%|██████████| 5/5 [00:57<00:00, 11.57s/it]"
          ]
        },
        {
          "output_type": "stream",
          "name": "stdout",
          "text": [
            "\n",
            "\n",
            "CPU times: user 1min 9s, sys: 345 ms, total: 1min 10s\n",
            "Wall time: 57.9 s\n"
          ]
        },
        {
          "output_type": "stream",
          "name": "stderr",
          "text": [
            "\n"
          ]
        }
      ]
    },
    {
      "cell_type": "code",
      "source": [
        "tfidf_results_df"
      ],
      "metadata": {
        "id": "KUtDW0cpYbom",
        "outputId": "b79c0c71-50d0-4032-9a90-78f24aaf2c9d",
        "colab": {
          "base_uri": "https://localhost:8080/",
          "height": 206
        }
      },
      "execution_count": 12,
      "outputs": [
        {
          "output_type": "execute_result",
          "data": {
            "text/plain": [
              "                 Model    score  precision  recall        f1      auc  \\\n",
              "1     Ridge Classifier  0.71225   0.700141  0.7425  0.720699  0.71225   \n",
              "0  Logistic Regression  0.71025   0.698443  0.7400  0.718621  0.71025   \n",
              "3             LightGBM  0.70150   0.685373  0.7450  0.713943  0.70150   \n",
              "2              XGBoost  0.68900   0.668449  0.7500  0.706880  0.68900   \n",
              "4        Random Forest  0.68600   0.689409  0.6770  0.683148  0.68600   \n",
              "\n",
              "       mse  train_time (s)  \n",
              "1  0.28775        0.152564  \n",
              "0  0.28975        0.215981  \n",
              "3  0.29850        5.350444  \n",
              "2  0.31100       12.794148  \n",
              "4  0.31400       39.334760  "
            ],
            "text/html": [
              "\n",
              "  <div id=\"df-2f22df93-4746-48cf-90d6-465f0bc01726\" class=\"colab-df-container\">\n",
              "    <div>\n",
              "<style scoped>\n",
              "    .dataframe tbody tr th:only-of-type {\n",
              "        vertical-align: middle;\n",
              "    }\n",
              "\n",
              "    .dataframe tbody tr th {\n",
              "        vertical-align: top;\n",
              "    }\n",
              "\n",
              "    .dataframe thead th {\n",
              "        text-align: right;\n",
              "    }\n",
              "</style>\n",
              "<table border=\"1\" class=\"dataframe\">\n",
              "  <thead>\n",
              "    <tr style=\"text-align: right;\">\n",
              "      <th></th>\n",
              "      <th>Model</th>\n",
              "      <th>score</th>\n",
              "      <th>precision</th>\n",
              "      <th>recall</th>\n",
              "      <th>f1</th>\n",
              "      <th>auc</th>\n",
              "      <th>mse</th>\n",
              "      <th>train_time (s)</th>\n",
              "    </tr>\n",
              "  </thead>\n",
              "  <tbody>\n",
              "    <tr>\n",
              "      <th>1</th>\n",
              "      <td>Ridge Classifier</td>\n",
              "      <td>0.71225</td>\n",
              "      <td>0.700141</td>\n",
              "      <td>0.7425</td>\n",
              "      <td>0.720699</td>\n",
              "      <td>0.71225</td>\n",
              "      <td>0.28775</td>\n",
              "      <td>0.152564</td>\n",
              "    </tr>\n",
              "    <tr>\n",
              "      <th>0</th>\n",
              "      <td>Logistic Regression</td>\n",
              "      <td>0.71025</td>\n",
              "      <td>0.698443</td>\n",
              "      <td>0.7400</td>\n",
              "      <td>0.718621</td>\n",
              "      <td>0.71025</td>\n",
              "      <td>0.28975</td>\n",
              "      <td>0.215981</td>\n",
              "    </tr>\n",
              "    <tr>\n",
              "      <th>3</th>\n",
              "      <td>LightGBM</td>\n",
              "      <td>0.70150</td>\n",
              "      <td>0.685373</td>\n",
              "      <td>0.7450</td>\n",
              "      <td>0.713943</td>\n",
              "      <td>0.70150</td>\n",
              "      <td>0.29850</td>\n",
              "      <td>5.350444</td>\n",
              "    </tr>\n",
              "    <tr>\n",
              "      <th>2</th>\n",
              "      <td>XGBoost</td>\n",
              "      <td>0.68900</td>\n",
              "      <td>0.668449</td>\n",
              "      <td>0.7500</td>\n",
              "      <td>0.706880</td>\n",
              "      <td>0.68900</td>\n",
              "      <td>0.31100</td>\n",
              "      <td>12.794148</td>\n",
              "    </tr>\n",
              "    <tr>\n",
              "      <th>4</th>\n",
              "      <td>Random Forest</td>\n",
              "      <td>0.68600</td>\n",
              "      <td>0.689409</td>\n",
              "      <td>0.6770</td>\n",
              "      <td>0.683148</td>\n",
              "      <td>0.68600</td>\n",
              "      <td>0.31400</td>\n",
              "      <td>39.334760</td>\n",
              "    </tr>\n",
              "  </tbody>\n",
              "</table>\n",
              "</div>\n",
              "    <div class=\"colab-df-buttons\">\n",
              "\n",
              "  <div class=\"colab-df-container\">\n",
              "    <button class=\"colab-df-convert\" onclick=\"convertToInteractive('df-2f22df93-4746-48cf-90d6-465f0bc01726')\"\n",
              "            title=\"Convert this dataframe to an interactive table.\"\n",
              "            style=\"display:none;\">\n",
              "\n",
              "  <svg xmlns=\"http://www.w3.org/2000/svg\" height=\"24px\" viewBox=\"0 -960 960 960\">\n",
              "    <path d=\"M120-120v-720h720v720H120Zm60-500h600v-160H180v160Zm220 220h160v-160H400v160Zm0 220h160v-160H400v160ZM180-400h160v-160H180v160Zm440 0h160v-160H620v160ZM180-180h160v-160H180v160Zm440 0h160v-160H620v160Z\"/>\n",
              "  </svg>\n",
              "    </button>\n",
              "\n",
              "  <style>\n",
              "    .colab-df-container {\n",
              "      display:flex;\n",
              "      gap: 12px;\n",
              "    }\n",
              "\n",
              "    .colab-df-convert {\n",
              "      background-color: #E8F0FE;\n",
              "      border: none;\n",
              "      border-radius: 50%;\n",
              "      cursor: pointer;\n",
              "      display: none;\n",
              "      fill: #1967D2;\n",
              "      height: 32px;\n",
              "      padding: 0 0 0 0;\n",
              "      width: 32px;\n",
              "    }\n",
              "\n",
              "    .colab-df-convert:hover {\n",
              "      background-color: #E2EBFA;\n",
              "      box-shadow: 0px 1px 2px rgba(60, 64, 67, 0.3), 0px 1px 3px 1px rgba(60, 64, 67, 0.15);\n",
              "      fill: #174EA6;\n",
              "    }\n",
              "\n",
              "    .colab-df-buttons div {\n",
              "      margin-bottom: 4px;\n",
              "    }\n",
              "\n",
              "    [theme=dark] .colab-df-convert {\n",
              "      background-color: #3B4455;\n",
              "      fill: #D2E3FC;\n",
              "    }\n",
              "\n",
              "    [theme=dark] .colab-df-convert:hover {\n",
              "      background-color: #434B5C;\n",
              "      box-shadow: 0px 1px 3px 1px rgba(0, 0, 0, 0.15);\n",
              "      filter: drop-shadow(0px 1px 2px rgba(0, 0, 0, 0.3));\n",
              "      fill: #FFFFFF;\n",
              "    }\n",
              "  </style>\n",
              "\n",
              "    <script>\n",
              "      const buttonEl =\n",
              "        document.querySelector('#df-2f22df93-4746-48cf-90d6-465f0bc01726 button.colab-df-convert');\n",
              "      buttonEl.style.display =\n",
              "        google.colab.kernel.accessAllowed ? 'block' : 'none';\n",
              "\n",
              "      async function convertToInteractive(key) {\n",
              "        const element = document.querySelector('#df-2f22df93-4746-48cf-90d6-465f0bc01726');\n",
              "        const dataTable =\n",
              "          await google.colab.kernel.invokeFunction('convertToInteractive',\n",
              "                                                    [key], {});\n",
              "        if (!dataTable) return;\n",
              "\n",
              "        const docLinkHtml = 'Like what you see? Visit the ' +\n",
              "          '<a target=\"_blank\" href=https://colab.research.google.com/notebooks/data_table.ipynb>data table notebook</a>'\n",
              "          + ' to learn more about interactive tables.';\n",
              "        element.innerHTML = '';\n",
              "        dataTable['output_type'] = 'display_data';\n",
              "        await google.colab.output.renderOutput(dataTable, element);\n",
              "        const docLink = document.createElement('div');\n",
              "        docLink.innerHTML = docLinkHtml;\n",
              "        element.appendChild(docLink);\n",
              "      }\n",
              "    </script>\n",
              "  </div>\n",
              "\n",
              "\n",
              "    <div id=\"df-3de21c3f-6264-4616-b8ee-1aa7857137f3\">\n",
              "      <button class=\"colab-df-quickchart\" onclick=\"quickchart('df-3de21c3f-6264-4616-b8ee-1aa7857137f3')\"\n",
              "                title=\"Suggest charts\"\n",
              "                style=\"display:none;\">\n",
              "\n",
              "<svg xmlns=\"http://www.w3.org/2000/svg\" height=\"24px\"viewBox=\"0 0 24 24\"\n",
              "     width=\"24px\">\n",
              "    <g>\n",
              "        <path d=\"M19 3H5c-1.1 0-2 .9-2 2v14c0 1.1.9 2 2 2h14c1.1 0 2-.9 2-2V5c0-1.1-.9-2-2-2zM9 17H7v-7h2v7zm4 0h-2V7h2v10zm4 0h-2v-4h2v4z\"/>\n",
              "    </g>\n",
              "</svg>\n",
              "      </button>\n",
              "\n",
              "<style>\n",
              "  .colab-df-quickchart {\n",
              "      --bg-color: #E8F0FE;\n",
              "      --fill-color: #1967D2;\n",
              "      --hover-bg-color: #E2EBFA;\n",
              "      --hover-fill-color: #174EA6;\n",
              "      --disabled-fill-color: #AAA;\n",
              "      --disabled-bg-color: #DDD;\n",
              "  }\n",
              "\n",
              "  [theme=dark] .colab-df-quickchart {\n",
              "      --bg-color: #3B4455;\n",
              "      --fill-color: #D2E3FC;\n",
              "      --hover-bg-color: #434B5C;\n",
              "      --hover-fill-color: #FFFFFF;\n",
              "      --disabled-bg-color: #3B4455;\n",
              "      --disabled-fill-color: #666;\n",
              "  }\n",
              "\n",
              "  .colab-df-quickchart {\n",
              "    background-color: var(--bg-color);\n",
              "    border: none;\n",
              "    border-radius: 50%;\n",
              "    cursor: pointer;\n",
              "    display: none;\n",
              "    fill: var(--fill-color);\n",
              "    height: 32px;\n",
              "    padding: 0;\n",
              "    width: 32px;\n",
              "  }\n",
              "\n",
              "  .colab-df-quickchart:hover {\n",
              "    background-color: var(--hover-bg-color);\n",
              "    box-shadow: 0 1px 2px rgba(60, 64, 67, 0.3), 0 1px 3px 1px rgba(60, 64, 67, 0.15);\n",
              "    fill: var(--button-hover-fill-color);\n",
              "  }\n",
              "\n",
              "  .colab-df-quickchart-complete:disabled,\n",
              "  .colab-df-quickchart-complete:disabled:hover {\n",
              "    background-color: var(--disabled-bg-color);\n",
              "    fill: var(--disabled-fill-color);\n",
              "    box-shadow: none;\n",
              "  }\n",
              "\n",
              "  .colab-df-spinner {\n",
              "    border: 2px solid var(--fill-color);\n",
              "    border-color: transparent;\n",
              "    border-bottom-color: var(--fill-color);\n",
              "    animation:\n",
              "      spin 1s steps(1) infinite;\n",
              "  }\n",
              "\n",
              "  @keyframes spin {\n",
              "    0% {\n",
              "      border-color: transparent;\n",
              "      border-bottom-color: var(--fill-color);\n",
              "      border-left-color: var(--fill-color);\n",
              "    }\n",
              "    20% {\n",
              "      border-color: transparent;\n",
              "      border-left-color: var(--fill-color);\n",
              "      border-top-color: var(--fill-color);\n",
              "    }\n",
              "    30% {\n",
              "      border-color: transparent;\n",
              "      border-left-color: var(--fill-color);\n",
              "      border-top-color: var(--fill-color);\n",
              "      border-right-color: var(--fill-color);\n",
              "    }\n",
              "    40% {\n",
              "      border-color: transparent;\n",
              "      border-right-color: var(--fill-color);\n",
              "      border-top-color: var(--fill-color);\n",
              "    }\n",
              "    60% {\n",
              "      border-color: transparent;\n",
              "      border-right-color: var(--fill-color);\n",
              "    }\n",
              "    80% {\n",
              "      border-color: transparent;\n",
              "      border-right-color: var(--fill-color);\n",
              "      border-bottom-color: var(--fill-color);\n",
              "    }\n",
              "    90% {\n",
              "      border-color: transparent;\n",
              "      border-bottom-color: var(--fill-color);\n",
              "    }\n",
              "  }\n",
              "</style>\n",
              "\n",
              "      <script>\n",
              "        async function quickchart(key) {\n",
              "          const quickchartButtonEl =\n",
              "            document.querySelector('#' + key + ' button');\n",
              "          quickchartButtonEl.disabled = true;  // To prevent multiple clicks.\n",
              "          quickchartButtonEl.classList.add('colab-df-spinner');\n",
              "          try {\n",
              "            const charts = await google.colab.kernel.invokeFunction(\n",
              "                'suggestCharts', [key], {});\n",
              "          } catch (error) {\n",
              "            console.error('Error during call to suggestCharts:', error);\n",
              "          }\n",
              "          quickchartButtonEl.classList.remove('colab-df-spinner');\n",
              "          quickchartButtonEl.classList.add('colab-df-quickchart-complete');\n",
              "        }\n",
              "        (() => {\n",
              "          let quickchartButtonEl =\n",
              "            document.querySelector('#df-3de21c3f-6264-4616-b8ee-1aa7857137f3 button');\n",
              "          quickchartButtonEl.style.display =\n",
              "            google.colab.kernel.accessAllowed ? 'block' : 'none';\n",
              "        })();\n",
              "      </script>\n",
              "    </div>\n",
              "\n",
              "  <div id=\"id_f6f728c8-f363-4c81-8e9a-598f55f4ea50\">\n",
              "    <style>\n",
              "      .colab-df-generate {\n",
              "        background-color: #E8F0FE;\n",
              "        border: none;\n",
              "        border-radius: 50%;\n",
              "        cursor: pointer;\n",
              "        display: none;\n",
              "        fill: #1967D2;\n",
              "        height: 32px;\n",
              "        padding: 0 0 0 0;\n",
              "        width: 32px;\n",
              "      }\n",
              "\n",
              "      .colab-df-generate:hover {\n",
              "        background-color: #E2EBFA;\n",
              "        box-shadow: 0px 1px 2px rgba(60, 64, 67, 0.3), 0px 1px 3px 1px rgba(60, 64, 67, 0.15);\n",
              "        fill: #174EA6;\n",
              "      }\n",
              "\n",
              "      [theme=dark] .colab-df-generate {\n",
              "        background-color: #3B4455;\n",
              "        fill: #D2E3FC;\n",
              "      }\n",
              "\n",
              "      [theme=dark] .colab-df-generate:hover {\n",
              "        background-color: #434B5C;\n",
              "        box-shadow: 0px 1px 3px 1px rgba(0, 0, 0, 0.15);\n",
              "        filter: drop-shadow(0px 1px 2px rgba(0, 0, 0, 0.3));\n",
              "        fill: #FFFFFF;\n",
              "      }\n",
              "    </style>\n",
              "    <button class=\"colab-df-generate\" onclick=\"generateWithVariable('tfidf_results_df')\"\n",
              "            title=\"Generate code using this dataframe.\"\n",
              "            style=\"display:none;\">\n",
              "\n",
              "  <svg xmlns=\"http://www.w3.org/2000/svg\" height=\"24px\"viewBox=\"0 0 24 24\"\n",
              "       width=\"24px\">\n",
              "    <path d=\"M7,19H8.4L18.45,9,17,7.55,7,17.6ZM5,21V16.75L18.45,3.32a2,2,0,0,1,2.83,0l1.4,1.43a1.91,1.91,0,0,1,.58,1.4,1.91,1.91,0,0,1-.58,1.4L9.25,21ZM18.45,9,17,7.55Zm-12,3A5.31,5.31,0,0,0,4.9,8.1,5.31,5.31,0,0,0,1,6.5,5.31,5.31,0,0,0,4.9,4.9,5.31,5.31,0,0,0,6.5,1,5.31,5.31,0,0,0,8.1,4.9,5.31,5.31,0,0,0,12,6.5,5.46,5.46,0,0,0,6.5,12Z\"/>\n",
              "  </svg>\n",
              "    </button>\n",
              "    <script>\n",
              "      (() => {\n",
              "      const buttonEl =\n",
              "        document.querySelector('#id_f6f728c8-f363-4c81-8e9a-598f55f4ea50 button.colab-df-generate');\n",
              "      buttonEl.style.display =\n",
              "        google.colab.kernel.accessAllowed ? 'block' : 'none';\n",
              "\n",
              "      buttonEl.onclick = () => {\n",
              "        google.colab.notebook.generateWithVariable('tfidf_results_df');\n",
              "      }\n",
              "      })();\n",
              "    </script>\n",
              "  </div>\n",
              "\n",
              "    </div>\n",
              "  </div>\n"
            ],
            "application/vnd.google.colaboratory.intrinsic+json": {
              "type": "dataframe",
              "variable_name": "tfidf_results_df",
              "summary": "{\n  \"name\": \"tfidf_results_df\",\n  \"rows\": 5,\n  \"fields\": [\n    {\n      \"column\": \"Model\",\n      \"properties\": {\n        \"dtype\": \"string\",\n        \"num_unique_values\": 5,\n        \"samples\": [\n          \"Logistic Regression\",\n          \"Random Forest\",\n          \"LightGBM\"\n        ],\n        \"semantic_type\": \"\",\n        \"description\": \"\"\n      }\n    },\n    {\n      \"column\": \"score\",\n      \"properties\": {\n        \"dtype\": \"number\",\n        \"std\": 0.011980974501266601,\n        \"min\": 0.686,\n        \"max\": 0.71225,\n        \"num_unique_values\": 5,\n        \"samples\": [\n          0.71025,\n          0.686,\n          0.7015\n        ],\n        \"semantic_type\": \"\",\n        \"description\": \"\"\n      }\n    },\n    {\n      \"column\": \"precision\",\n      \"properties\": {\n        \"dtype\": \"number\",\n        \"std\": 0.01271739237889442,\n        \"min\": 0.6684491978609626,\n        \"max\": 0.7001414427157001,\n        \"num_unique_values\": 5,\n        \"samples\": [\n          0.6984426616328456,\n          0.6894093686354379,\n          0.6853725850965962\n        ],\n        \"semantic_type\": \"\",\n        \"description\": \"\"\n      }\n    },\n    {\n      \"column\": \"recall\",\n      \"properties\": {\n        \"dtype\": \"number\",\n        \"std\": 0.03035704201663922,\n        \"min\": 0.677,\n        \"max\": 0.75,\n        \"num_unique_values\": 5,\n        \"samples\": [\n          0.74,\n          0.677,\n          0.745\n        ],\n        \"semantic_type\": \"\",\n        \"description\": \"\"\n      }\n    },\n    {\n      \"column\": \"f1\",\n      \"properties\": {\n        \"dtype\": \"number\",\n        \"std\": 0.015215809671130833,\n        \"min\": 0.6831483350151363,\n        \"max\": 0.7206988595001214,\n        \"num_unique_values\": 5,\n        \"samples\": [\n          0.7186210245205147,\n          0.6831483350151363,\n          0.7139434595112601\n        ],\n        \"semantic_type\": \"\",\n        \"description\": \"\"\n      }\n    },\n    {\n      \"column\": \"auc\",\n      \"properties\": {\n        \"dtype\": \"number\",\n        \"std\": 0.011980974501266553,\n        \"min\": 0.686,\n        \"max\": 0.71225,\n        \"num_unique_values\": 5,\n        \"samples\": [\n          0.7102499999999999,\n          0.686,\n          0.7015\n        ],\n        \"semantic_type\": \"\",\n        \"description\": \"\"\n      }\n    },\n    {\n      \"column\": \"mse\",\n      \"properties\": {\n        \"dtype\": \"number\",\n        \"std\": 0.011980974501266579,\n        \"min\": 0.28775,\n        \"max\": 0.314,\n        \"num_unique_values\": 5,\n        \"samples\": [\n          0.28975,\n          0.314,\n          0.2985\n        ],\n        \"semantic_type\": \"\",\n        \"description\": \"\"\n      }\n    },\n    {\n      \"column\": \"train_time (s)\",\n      \"properties\": {\n        \"dtype\": \"number\",\n        \"std\": 16.35798679775152,\n        \"min\": 0.15256357192993164,\n        \"max\": 39.3347601890564,\n        \"num_unique_values\": 5,\n        \"samples\": [\n          0.21598076820373535,\n          39.3347601890564,\n          5.350444078445435\n        ],\n        \"semantic_type\": \"\",\n        \"description\": \"\"\n      }\n    }\n  ]\n}"
            }
          },
          "metadata": {},
          "execution_count": 12
        }
      ]
    },
    {
      "cell_type": "markdown",
      "source": [
        "## | Word2Vec"
      ],
      "metadata": {
        "id": "Go475o0OW3WD"
      }
    },
    {
      "cell_type": "code",
      "source": [
        "%%time\n",
        "X_train_w2v, X_valid_w2v, X_test_w2v, y_train_w2v, y_valid_w2v, y_test_w2v = split_train_val_test(tweets_embeddings_word2vec, Y, sample_size=20000)\n",
        "print(\"Répartition dans y_train    :\", pd.Series(y_train_w2v).value_counts(normalize=True))\n",
        "print(\"Répartition dans y_validation:\", pd.Series(y_valid_w2v).value_counts(normalize=True))\n",
        "print(\"Répartition dans y_test :\", pd.Series(y_test_w2v).value_counts(normalize=True))\n",
        "plot_distribution(y_train_w2v, y_valid_w2v,  y_test_w2v)"
      ],
      "metadata": {
        "id": "SFmK7CpdYvik",
        "outputId": "ceea698e-615c-42b6-90cc-6598ce9dff03",
        "colab": {
          "base_uri": "https://localhost:8080/",
          "height": 672
        }
      },
      "execution_count": 15,
      "outputs": [
        {
          "output_type": "stream",
          "name": "stdout",
          "text": [
            "Répartition dans y_train    : 1    0.500083\n",
            "0    0.499917\n",
            "Name: proportion, dtype: float64\n",
            "Répartition dans y_validation: 0    0.5\n",
            "1    0.5\n",
            "Name: proportion, dtype: float64\n",
            "Répartition dans y_test : 1    0.5\n",
            "0    0.5\n",
            "Name: proportion, dtype: float64\n"
          ]
        },
        {
          "output_type": "display_data",
          "data": {
            "text/plain": [
              "<Figure size 800x500 with 1 Axes>"
            ],
            "image/png": "[encoded data removed]"
          },
          "metadata": {}
        }
      ]
    },
    {
      "cell_type": "code",
      "source": [
        "%%time\n",
        "w2v_results__df = evaluate_models(X_train_w2v, X_valid_w2v, y_train_w2v, y_valid_w2v, cv=skf)"
      ],
      "metadata": {
        "id": "dRimE4KMZJJA",
        "outputId": "6e6159fb-92cb-42c3-e473-07ca193b6bd6",
        "colab": {
          "base_uri": "https://localhost:8080/"
        }
      },
      "execution_count": null,
      "outputs": [
        {
          "output_type": "stream",
          "name": "stderr",
          "text": [
            "\r  0%|          | 0/5 [00:00<?, ?it/s]"
          ]
        },
        {
          "output_type": "stream",
          "name": "stdout",
          "text": [
            "Evaluating Logistic Regression...\n"
          ]
        }
      ]
    },
    {
      "cell_type": "code",
      "source": [
        "w2v_results__df"
      ],
      "metadata": {
        "id": "b6paz8p0ZVpd"
      },
      "execution_count": null,
      "outputs": []
    },
    {
      "cell_type": "code",
      "source": [
        "show_calibration_curve(models, X_test_w2v, y_test_w2v, exclude=[\"Ridge Classifier\"])"
      ],
      "metadata": {
        "id": "BzvEAr8AGGte"
      },
      "execution_count": null,
      "outputs": []
    },
    {
      "cell_type": "markdown",
      "source": [
        "## | FastText"
      ],
      "metadata": {
        "id": "TJ8qN4p7XIm1"
      }
    },
    {
      "cell_type": "code",
      "source": [
        "%%time\n",
        "X_train_ft, X_valid_ft, X_test_ft, y_train_ft, y_valid_ft, y_test_ft = split_train_val_test(tweets_embeddings_fasttext, Y, sample_size=20000)"
      ],
      "metadata": {
        "id": "kCEq-SicZhMQ"
      },
      "execution_count": null,
      "outputs": []
    },
    {
      "cell_type": "code",
      "source": [
        "%%time\n",
        "ft_results_df = evaluate_models(X_train_ft, X_valid_ft, y_train_ft, y_valid_ft, cv=skf)"
      ],
      "metadata": {
        "id": "gUAslpRmZpmN"
      },
      "execution_count": null,
      "outputs": []
    },
    {
      "cell_type": "code",
      "source": [
        "display(ft_results_df)"
      ],
      "metadata": {
        "id": "b8d0UMbOZt7J"
      },
      "execution_count": null,
      "outputs": []
    },
    {
      "cell_type": "markdown",
      "source": [
        "# Approche 2: Modèle sur mesure avancé (Reseau de Neurone)"
      ],
      "metadata": {
        "id": "xFkplq7MZ90y"
      }
    },
    {
      "cell_type": "code",
      "source": [
        "from tensorflow.keras.models import Sequential\n",
        "from tensorflow.keras.layers import Embedding, Bidirectional, LSTM, Dense, Dropout\n",
        "\n",
        "def build_model(embeddings, input_dim=300, output_dim=300):\n",
        "  model = Sequential()\n",
        "  model.add(Embedding(input_dim=input_dim, output_dim=output_dim, input_length=input_dim))\n",
        "  model.add(Bidirectional(LSTM(64, return_sequences=False)))\n",
        "  model.add(Dropout(0.5))\n",
        "  model.add(Dense(32, activation='relu'))\n",
        "  model.add(Dense(1, activation='sigmoid'))  # pour classification binaire\n",
        "\n",
        "  return model"
      ],
      "metadata": {
        "id": "ALfZgzwTQ2IW"
      },
      "execution_count": null,
      "outputs": []
    },
    {
      "cell_type": "code",
      "source": [
        "model.compile(loss='binary_crossentropy', optimizer='adam', metrics=['accuracy'])\n",
        "model.summary()"
      ],
      "metadata": {
        "id": "lWxkJS4UTja9"
      },
      "execution_count": null,
      "outputs": []
    },
    {
      "cell_type": "markdown",
      "source": [
        "## | Word2Vec"
      ],
      "metadata": {
        "id": "3uKHYumiSAv8"
      }
    },
    {
      "cell_type": "markdown",
      "source": [
        "## | FastText"
      ],
      "metadata": {
        "id": "4uzSFd6vSG8r"
      }
    }
  ],
  "metadata": {
    "kernelspec": {
      "display_name": "Python 3 (ipykernel)",
      "language": "python",
      "name": "python3"
    },
    "language_info": {
      "codemirror_mode": {
        "name": "ipython",
        "version": 3
      },
      "file_extension": ".py",
      "mimetype": "text/x-python",
      "name": "python",
      "nbconvert_exporter": "python",
      "pygments_lexer": "ipython3",
      "version": "3.13.2"
    },
    "papermill": {
      "duration": 500.435762,
      "end_time": "2020-08-26T21:07:20.093709",
      "environment_variables": {},
      "exception": null,
      "input_path": "__notebook__.ipynb",
      "output_path": "__notebook__.ipynb",
      "parameters": {},
      "start_time": "2020-08-26T20:58:59.657947",
      "version": "2.1.0"
    },
    "colab": {
      "provenance": [],
      "toc_visible": true
    }
  },
  "nbformat": 4,
  "nbformat_minor": 0
}