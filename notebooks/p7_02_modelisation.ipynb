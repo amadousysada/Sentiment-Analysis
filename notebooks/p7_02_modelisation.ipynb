{
  "cells": [
    {
      "cell_type": "markdown",
      "source": [
        "# Import des librairies"
      ],
      "metadata": {
        "id": "hwecoVR_24PI"
      }
    },
    {
      "cell_type": "code",
      "execution_count": 1,
      "metadata": {
        "execution": {
          "iopub.execute_input": "2020-08-26T20:59:06.289122Z",
          "iopub.status.busy": "2020-08-26T20:59:06.288192Z",
          "iopub.status.idle": "2020-08-26T20:59:08.802804Z",
          "shell.execute_reply": "2020-08-26T20:59:08.802075Z"
        },
        "papermill": {
          "duration": 2.557066,
          "end_time": "2020-08-26T20:59:08.802938",
          "exception": false,
          "start_time": "2020-08-26T20:59:06.245872",
          "status": "completed"
        },
        "scrolled": true,
        "tags": [],
        "colab": {
          "base_uri": "https://localhost:8080/"
        },
        "id": "4DO_uFhC0Qsr",
        "outputId": "67e18fb7-dc8c-4e12-f86e-38f15cfb5887"
      },
      "outputs": [
        {
          "output_type": "stream",
          "name": "stdout",
          "text": [
            "Python version: 3.11.12 (main, Apr  9 2025, 08:55:54) [GCC 11.4.0]\n",
            "Version info.: sys.version_info(major=3, minor=11, micro=12, releaselevel='final', serial=0)\n",
            "pandas version: 2.2.2\n",
            "numpy version: 1.26.4\n",
            "skearn version: 1.6.1\n",
            "re version: 2.2.1\n",
            "tensorflow version: 2.18.0\n",
            "tensorflow_hub version: 0.16.1\n",
            "tensorflow_text version: 2.18.1\n",
            "CPU times: user 4.06 s, sys: 1.53 s, total: 5.59 s\n",
            "Wall time: 9.94 s\n"
          ]
        }
      ],
      "source": [
        "%%time\n",
        "import time\n",
        "init_time = time.time()\n",
        "\n",
        "import os\n",
        "import sys\n",
        "import warnings\n",
        "if not sys.warnoptions:\n",
        "    warnings.simplefilter(\"ignore\")\n",
        "\n",
        "\n",
        "import numpy as np\n",
        "import pandas as pd\n",
        "import sklearn\n",
        "import pickle\n",
        "\n",
        "\n",
        "from matplotlib import pyplot as plt\n",
        "\n",
        "import seaborn as sns\n",
        "\n",
        "import string\n",
        "import re\n",
        "\n",
        "# Tensorflow\n",
        "import tensorflow as tf\n",
        "import tensorflow_hub as hub\n",
        "import tensorflow_text as text\n",
        "\n",
        "\n",
        "print(\"Python version:\", sys.version)\n",
        "print(\"Version info.:\", sys.version_info)\n",
        "print(\"pandas version:\", pd.__version__)\n",
        "print(\"numpy version:\", np.__version__)\n",
        "print(\"skearn version:\", sklearn.__version__)\n",
        "print(\"re version:\", re.__version__)\n",
        "#print(\"nltk version:\", nltk.__version__)\n",
        "print(\"tensorflow version:\", tf.__version__)\n",
        "print(\"tensorflow_hub version:\", hub.__version__)\n",
        "print(\"tensorflow_text version:\", text.__version__)"
      ]
    },
    {
      "cell_type": "markdown",
      "metadata": {
        "papermill": {
          "duration": 0.02595,
          "end_time": "2020-08-26T20:59:08.856139",
          "exception": false,
          "start_time": "2020-08-26T20:59:08.830189",
          "status": "completed"
        },
        "tags": [],
        "id": "0yR7Xntu0Qss"
      },
      "source": [
        "# Chargement des données"
      ]
    },
    {
      "cell_type": "code",
      "source": [
        "path = \"/content/drive/MyDrive/data/sentiments\"\n",
        "#path = \"./data/sentiments\""
      ],
      "metadata": {
        "id": "R-voC08WLnhy"
      },
      "execution_count": 2,
      "outputs": []
    },
    {
      "cell_type": "code",
      "source": [
        "tweets_df_count_vectorizer_1gram = np.load(os.path.join(path, \"tweets_df_em_1gram.npy\"), allow_pickle=True)\n",
        "tweets_df_count_vectorizer_1gram"
      ],
      "metadata": {
        "id": "D7lftQAQQvrL",
        "outputId": "a68650df-3b91-4114-99cb-be058b4fb961",
        "colab": {
          "base_uri": "https://localhost:8080/"
        }
      },
      "execution_count": 3,
      "outputs": [
        {
          "output_type": "execute_result",
          "data": {
            "text/plain": [
              "array(<1593071x695610 sparse matrix of type '<class 'numpy.int64'>'\n",
              "\twith 11079999 stored elements in Compressed Sparse Row format>,\n",
              "      dtype=object)"
            ]
          },
          "metadata": {},
          "execution_count": 3
        }
      ]
    },
    {
      "cell_type": "code",
      "source": [
        "tweets_df_count_vectorizer_1gram.item()[10].toarray()"
      ],
      "metadata": {
        "id": "JIBvyPGmRGl-",
        "outputId": "c15ff87c-0b75-434d-91ec-ed8927db3903",
        "colab": {
          "base_uri": "https://localhost:8080/"
        }
      },
      "execution_count": 4,
      "outputs": [
        {
          "output_type": "execute_result",
          "data": {
            "text/plain": [
              "array([[0, 0, 0, ..., 0, 0, 0]])"
            ]
          },
          "metadata": {},
          "execution_count": 4
        }
      ]
    },
    {
      "cell_type": "code",
      "source": [
        "targets = np.load(os.path.join(path, \"targets.npy\"), allow_pickle=True)\n",
        "targets"
      ],
      "metadata": {
        "id": "019DrnieWzFj",
        "outputId": "b2bb247a-18e7-4c1c-eb90-30bb6d43142f",
        "colab": {
          "base_uri": "https://localhost:8080/"
        }
      },
      "execution_count": 8,
      "outputs": [
        {
          "output_type": "execute_result",
          "data": {
            "text/plain": [
              "array([0, 0, 0, ..., 1, 1, 1])"
            ]
          },
          "metadata": {},
          "execution_count": 8
        }
      ]
    },
    {
      "cell_type": "code",
      "source": [
        "%%time\n",
        "tweets_df_count_vectorizer_1gram = np.load(os.path.join(path, \"tweets_df_em_1gram.npy\"), allow_pickle=True)\n",
        "tweets_df_count_vectorizer_2gram = np.load(os.path.join(path, \"tweets_df_em_2gram.npy\"), allow_pickle=True)\n",
        "\n",
        "tweets_df_tfidf_1gram = np.load(os.path.join(path, \"tweets_df_tfidf_1gram.npy\"), allow_pickle=True)\n",
        "\n",
        "tweets_embeddings_bert = np.load(os.path.join(path, \"embeddings_bert.npy\"), allow_pickle=True)\n",
        "tweets_embeddings_fasttext = pickle.load(open(os.path.join(path, \"embeddings_fasttext.pkl\"), \"rb\"))\n",
        "tweets_embeddings_word2vec = pickle.load(open(os.path.join(path, \"embeddings_word2vec.pkl\"), \"rb\"))"
      ],
      "metadata": {
        "id": "hQrTqDqRLtFP",
        "outputId": "338e070a-c1d9-43ec-ae0b-0f049dd60a0d",
        "colab": {
          "base_uri": "https://localhost:8080/"
        }
      },
      "execution_count": 5,
      "outputs": [
        {
          "output_type": "stream",
          "name": "stdout",
          "text": [
            "CPU times: user 8.07 s, sys: 10.2 s, total: 18.2 s\n",
            "Wall time: 23.9 s\n"
          ]
        }
      ]
    },
    {
      "cell_type": "code",
      "source": [],
      "metadata": {
        "id": "jUWj-a3PQvCn"
      },
      "execution_count": 5,
      "outputs": []
    },
    {
      "cell_type": "code",
      "source": [
        "print(tweets_df_count_vectorizer_1gram.item().shape)\n",
        "print(tweets_df_count_vectorizer_2gram.item().shape)\n",
        "print(tweets_df_tfidf_1gram.item().shape)\n",
        "print(tweets_embeddings_bert.shape)"
      ],
      "metadata": {
        "id": "ilbCvRzROnEe",
        "outputId": "3912289f-6f6d-4278-f5aa-eb219bb4d032",
        "colab": {
          "base_uri": "https://localhost:8080/"
        }
      },
      "execution_count": 6,
      "outputs": [
        {
          "output_type": "stream",
          "name": "stdout",
          "text": [
            "(1593071, 695610)\n",
            "(1593071, 695643)\n",
            "(1593071, 695610)\n",
            "(10000, 768)\n"
          ]
        }
      ]
    },
    {
      "cell_type": "code",
      "source": [
        "%%time\n",
        "from sklearn.linear_model import LinearRegression\n",
        "from sklearn.model_selection import train_test_split\n",
        "from sklearn.metrics import mean_squared_error, r2_score\n",
        "\n",
        "# Matrice d'entrée (CSR sparse matrix)\n",
        "X = tweets_df_count_vectorizer_1gram.item()  # ou .item() si stocké dans np.array\n",
        "\n",
        "# Variable cible\n",
        "y = targets  # adapte le nom ici\n",
        "\n",
        "X_train, X_test, y_train, y_test = train_test_split(X, y, test_size=0.2, random_state=42, stratify=y)\n",
        "\n",
        "print(\"Répartition dans y      :\", pd.Series(y).value_counts(normalize=True))\n",
        "print(\"Répartition dans y_train:\", pd.Series(y_train).value_counts(normalize=True))\n",
        "print(\"Répartition dans y_test :\", pd.Series(y_test).value_counts(normalize=True))"
      ],
      "metadata": {
        "id": "EhlwvyOUWJL0",
        "outputId": "ce08dd99-4ea9-4997-e2ad-f6b6485e1f2b",
        "colab": {
          "base_uri": "https://localhost:8080/"
        }
      },
      "execution_count": 21,
      "outputs": [
        {
          "output_type": "stream",
          "name": "stdout",
          "text": [
            "Répartition dans y      : 1    0.500037\n",
            "0    0.499963\n",
            "Name: proportion, dtype: float64\n",
            "Répartition dans y_train: 1    0.500038\n",
            "0    0.499962\n",
            "Name: proportion, dtype: float64\n",
            "Répartition dans y_test : 1    0.500036\n",
            "0    0.499964\n",
            "Name: proportion, dtype: float64\n",
            "CPU times: user 428 ms, sys: 32.1 ms, total: 460 ms\n",
            "Wall time: 477 ms\n"
          ]
        }
      ]
    },
    {
      "cell_type": "code",
      "source": [
        "import pandas as pd\n",
        "import matplotlib.pyplot as plt\n",
        "\n",
        "# Création des distributions\n",
        "dist_df = pd.DataFrame({\n",
        "    \"Full dataset\": pd.Series(y).value_counts(normalize=True),\n",
        "    \"Train set\": pd.Series(y_train).value_counts(normalize=True),\n",
        "    \"Test set\": pd.Series(y_test).value_counts(normalize=True)\n",
        "}).T\n",
        "\n",
        "# Optionnel : renommer les colonnes\n",
        "dist_df.columns = [\"Classe 1\", \"Classe 0\"]\n",
        "\n",
        "# Barplot\n",
        "dist_df.plot(kind=\"bar\", figsize=(8, 5), colormap=\"Set2\")\n",
        "plt.title(\"Répartition des classes dans y, y_train et y_test\")\n",
        "plt.ylabel(\"Proportion\")\n",
        "plt.xticks(rotation=0)\n",
        "plt.ylim(0, 1)\n",
        "plt.legend(title=\"Classe\")\n",
        "plt.tight_layout()\n",
        "plt.show()"
      ],
      "metadata": {
        "id": "yXwjX5_XbdMv",
        "outputId": "99f0509d-2c4d-4fbf-df82-143d76346148",
        "colab": {
          "base_uri": "https://localhost:8080/",
          "height": 507
        }
      },
      "execution_count": 23,
      "outputs": [
        {
          "output_type": "display_data",
          "data": {
            "text/plain": [
              "<Figure size 800x500 with 1 Axes>"
            ],
            "image/png": "[encoded data removed]"
          },
          "metadata": {}
        }
      ]
    },
    {
      "cell_type": "code",
      "source": [
        "model = LinearRegression()\n",
        "model.fit(X_train, y_train)\n",
        "\n",
        "y_pred = model.predict(X_test)\n",
        "\n",
        "print(\"MSE :\", mean_squared_error(y_test, y_pred))\n",
        "print(\"R² :\", r2_score(y_test, y_pred))"
      ],
      "metadata": {
        "id": "QAw3cgdia4xO",
        "outputId": "edae9d64-6795-461b-f4a0-2d75aa8e2b0b",
        "colab": {
          "base_uri": "https://localhost:8080/"
        }
      },
      "execution_count": 24,
      "outputs": [
        {
          "output_type": "stream",
          "name": "stdout",
          "text": [
            "MSE : 0.21332754508650964\n",
            "R² : 0.14668981520734004\n"
          ]
        }
      ]
    },
    {
      "cell_type": "code",
      "source": [
        "from sklearn.metrics import roc_auc_score, roc_curve\n",
        "\n",
        "fpr, tpr, _= roc_curve(y_test, y_pred)"
      ],
      "metadata": {
        "id": "F41CAT_VYVnl"
      },
      "execution_count": 25,
      "outputs": []
    },
    {
      "cell_type": "code",
      "source": [
        "roc_auc_score(y_test, y_pred)"
      ],
      "metadata": {
        "id": "aWqJCvaFaG_J",
        "outputId": "cc54edde-2751-4d34-e7a9-733047e00e74",
        "colab": {
          "base_uri": "https://localhost:8080/"
        }
      },
      "execution_count": 26,
      "outputs": [
        {
          "output_type": "execute_result",
          "data": {
            "text/plain": [
              "0.801536673276564"
            ]
          },
          "metadata": {},
          "execution_count": 26
        }
      ]
    },
    {
      "cell_type": "code",
      "source": [
        "plt.plot(fpr, tpr)"
      ],
      "metadata": {
        "id": "kcHcPsV1ZZng",
        "outputId": "5a1d4858-5fcc-4ee3-88b4-0f5d9f1b1082",
        "colab": {
          "base_uri": "https://localhost:8080/",
          "height": 448
        }
      },
      "execution_count": 27,
      "outputs": [
        {
          "output_type": "execute_result",
          "data": {
            "text/plain": [
              "[<matplotlib.lines.Line2D at 0x7922182ad450>]"
            ]
          },
          "metadata": {},
          "execution_count": 27
        },
        {
          "output_type": "display_data",
          "data": {
            "text/plain": [
              "<Figure size 640x480 with 1 Axes>"
            ],
            "image/png": "[encoded data removed]"
          },
          "metadata": {}
        }
      ]
    }
  ],
  "metadata": {
    "kernelspec": {
      "display_name": "Python 3 (ipykernel)",
      "language": "python",
      "name": "python3"
    },
    "language_info": {
      "codemirror_mode": {
        "name": "ipython",
        "version": 3
      },
      "file_extension": ".py",
      "mimetype": "text/x-python",
      "name": "python",
      "nbconvert_exporter": "python",
      "pygments_lexer": "ipython3",
      "version": "3.13.2"
    },
    "papermill": {
      "duration": 500.435762,
      "end_time": "2020-08-26T21:07:20.093709",
      "environment_variables": {},
      "exception": null,
      "input_path": "__notebook__.ipynb",
      "output_path": "__notebook__.ipynb",
      "parameters": {},
      "start_time": "2020-08-26T20:58:59.657947",
      "version": "2.1.0"
    },
    "colab": {
      "provenance": [],
      "toc_visible": true
    }
  },
  "nbformat": 4,
  "nbformat_minor": 0
}