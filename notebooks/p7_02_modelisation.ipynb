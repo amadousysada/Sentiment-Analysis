{
  "cells": [
    {
      "cell_type": "markdown",
      "metadata": {
        "id": "view-in-github",
        "colab_type": "text"
      },
      "source": [
        "<a href=\"https://colab.research.google.com/github/amadousysada/Sentiment-Analysis/blob/main/notebooks/p7_02_modelisation.ipynb\" target=\"_parent\"><img src=\"https://colab.research.google.com/assets/colab-badge.svg\" alt=\"Open In Colab\"/></a>"
      ]
    },
    {
      "cell_type": "markdown",
      "source": [
        "# Import des librairies"
      ],
      "metadata": {
        "id": "hwecoVR_24PI"
      }
    },
    {
      "cell_type": "code",
      "execution_count": 1,
      "metadata": {
        "execution": {
          "iopub.execute_input": "2020-08-26T20:59:06.289122Z",
          "iopub.status.busy": "2020-08-26T20:59:06.288192Z",
          "iopub.status.idle": "2020-08-26T20:59:08.802804Z",
          "shell.execute_reply": "2020-08-26T20:59:08.802075Z"
        },
        "papermill": {
          "duration": 2.557066,
          "end_time": "2020-08-26T20:59:08.802938",
          "exception": false,
          "start_time": "2020-08-26T20:59:06.245872",
          "status": "completed"
        },
        "scrolled": true,
        "tags": [],
        "colab": {
          "base_uri": "https://localhost:8080/"
        },
        "id": "4DO_uFhC0Qsr",
        "outputId": "f8f9d6d3-726d-4df2-eb97-f111f9fa05a1"
      },
      "outputs": [
        {
          "output_type": "stream",
          "name": "stdout",
          "text": [
            "\u001b[2K   \u001b[90m━━━━━━━━━━━━━━━━━━━━━━━━━━━━━━━━━━━━━━━━\u001b[0m \u001b[32m29.0/29.0 MB\u001b[0m \u001b[31m33.1 MB/s\u001b[0m eta \u001b[36m0:00:00\u001b[0m\n",
            "\u001b[2K   \u001b[90m━━━━━━━━━━━━━━━━━━━━━━━━━━━━━━━━━━━━━━━━\u001b[0m \u001b[32m6.3/6.3 MB\u001b[0m \u001b[31m121.5 MB/s\u001b[0m eta \u001b[36m0:00:00\u001b[0m\n",
            "\u001b[2K   \u001b[90m━━━━━━━━━━━━━━━━━━━━━━━━━━━━━━━━━━━━━━━━\u001b[0m \u001b[32m242.5/242.5 kB\u001b[0m \u001b[31m29.5 MB/s\u001b[0m eta \u001b[36m0:00:00\u001b[0m\n",
            "\u001b[2K   \u001b[90m━━━━━━━━━━━━━━━━━━━━━━━━━━━━━━━━━━━━━━━━\u001b[0m \u001b[32m147.8/147.8 kB\u001b[0m \u001b[31m17.2 MB/s\u001b[0m eta \u001b[36m0:00:00\u001b[0m\n",
            "\u001b[2K   \u001b[90m━━━━━━━━━━━━━━━━━━━━━━━━━━━━━━━━━━━━━━━━\u001b[0m \u001b[32m114.9/114.9 kB\u001b[0m \u001b[31m15.5 MB/s\u001b[0m eta \u001b[36m0:00:00\u001b[0m\n",
            "\u001b[2K   \u001b[90m━━━━━━━━━━━━━━━━━━━━━━━━━━━━━━━━━━━━━━━━\u001b[0m \u001b[32m85.0/85.0 kB\u001b[0m \u001b[31m11.7 MB/s\u001b[0m eta \u001b[36m0:00:00\u001b[0m\n",
            "\u001b[2K   \u001b[90m━━━━━━━━━━━━━━━━━━━━━━━━━━━━━━━━━━━━━━━━\u001b[0m \u001b[32m722.9/722.9 kB\u001b[0m \u001b[31m53.0 MB/s\u001b[0m eta \u001b[36m0:00:00\u001b[0m\n",
            "\u001b[2K   \u001b[90m━━━━━━━━━━━━━━━━━━━━━━━━━━━━━━━━━━━━━━━━\u001b[0m \u001b[32m203.4/203.4 kB\u001b[0m \u001b[31m25.4 MB/s\u001b[0m eta \u001b[36m0:00:00\u001b[0m\n",
            "\u001b[2K   \u001b[90m━━━━━━━━━━━━━━━━━━━━━━━━━━━━━━━━━━━━━━━━\u001b[0m \u001b[32m65.8/65.8 kB\u001b[0m \u001b[31m9.1 MB/s\u001b[0m eta \u001b[36m0:00:00\u001b[0m\n",
            "\u001b[2K   \u001b[90m━━━━━━━━━━━━━━━━━━━━━━━━━━━━━━━━━━━━━━━━\u001b[0m \u001b[32m118.4/118.4 kB\u001b[0m \u001b[31m15.8 MB/s\u001b[0m eta \u001b[36m0:00:00\u001b[0m\n",
            "\u001b[2K   \u001b[90m━━━━━━━━━━━━━━━━━━━━━━━━━━━━━━━━━━━━━━━━\u001b[0m \u001b[32m196.2/196.2 kB\u001b[0m \u001b[31m25.1 MB/s\u001b[0m eta \u001b[36m0:00:00\u001b[0m\n",
            "\u001b[?25hPython version: 3.11.12 (main, Apr  9 2025, 08:55:54) [GCC 11.4.0]\n",
            "Version info.: sys.version_info(major=3, minor=11, micro=12, releaselevel='final', serial=0)\n",
            "pandas version: 2.2.2\n",
            "numpy version: 1.26.4\n",
            "skearn version: 1.6.1\n",
            "tensorflow version: 2.18.0\n",
            "tensorflow_text version: 2.18.1\n",
            "CPU times: user 8.24 s, sys: 896 ms, total: 9.14 s\n",
            "Wall time: 20.5 s\n"
          ]
        }
      ],
      "source": [
        "%%time\n",
        "import time\n",
        "init_time = time.time()\n",
        "\n",
        "import os\n",
        "import sys\n",
        "import warnings\n",
        "warnings.filterwarnings(\"ignore\", category=FutureWarning)\n",
        "\n",
        "if not sys.warnoptions:\n",
        "    warnings.simplefilter(\"ignore\")\n",
        "\n",
        "# Installation du package gensim\n",
        "!pip install --no-cache-dir -q gensim\n",
        "import gensim\n",
        "from gensim.models import Word2Vec\n",
        "\n",
        "import numpy as np\n",
        "import pandas as pd\n",
        "import sklearn\n",
        "\n",
        "from matplotlib import pyplot as plt\n",
        "from matplotlib.gridspec import GridSpec\n",
        "\n",
        "\n",
        "import seaborn as sns\n",
        "\n",
        "# Tensorflow\n",
        "import tensorflow as tf\n",
        "import tensorflow_text as text\n",
        "\n",
        "#Scikit-learn\n",
        "from sklearn.linear_model import LogisticRegression, RidgeClassifier\n",
        "from sklearn.model_selection import cross_val_score, train_test_split, StratifiedKFold\n",
        "from sklearn.metrics import accuracy_score, f1_score, roc_auc_score, recall_score, precision_score, mean_squared_error\n",
        "from sklearn.calibration import CalibrationDisplay\n",
        "from sklearn.ensemble import RandomForestClassifier\n",
        "\n",
        "# Modèles de Boosting\n",
        "from xgboost import XGBClassifier\n",
        "from lightgbm import LGBMClassifier\n",
        "\n",
        "# MLFLOW\n",
        "!pip install mlflow -q\n",
        "import mlflow\n",
        "import mlflow.sklearn\n",
        "from mlflow.models import infer_signature\n",
        "\n",
        "print(\"Python version:\", sys.version)\n",
        "print(\"Version info.:\", sys.version_info)\n",
        "print(\"pandas version:\", pd.__version__)\n",
        "print(\"numpy version:\", np.__version__)\n",
        "print(\"skearn version:\", sklearn.__version__)\n",
        "#print(\"nltk version:\", nltk.__version__)\n",
        "print(\"tensorflow version:\", tf.__version__)\n",
        "print(\"tensorflow_text version:\", text.__version__)"
      ]
    },
    {
      "cell_type": "code",
      "source": [],
      "metadata": {
        "id": "NiheTsdAfadx"
      },
      "execution_count": null,
      "outputs": []
    },
    {
      "cell_type": "code",
      "source": [
        "MLFLOW_TRACKING_URI = \"https://mlflow.amadousy.dev\"\n",
        "mlflow.set_tracking_uri(MLFLOW_TRACKING_URI)"
      ],
      "metadata": {
        "id": "5EJBMWGMfH48"
      },
      "execution_count": 4,
      "outputs": []
    },
    {
      "cell_type": "markdown",
      "metadata": {
        "papermill": {
          "duration": 0.02595,
          "end_time": "2020-08-26T20:59:08.856139",
          "exception": false,
          "start_time": "2020-08-26T20:59:08.830189",
          "status": "completed"
        },
        "tags": [],
        "id": "0yR7Xntu0Qss"
      },
      "source": [
        "# Chargement des données"
      ]
    },
    {
      "cell_type": "code",
      "source": [
        "path = \"/content/drive/MyDrive/data/sentiments\"\n",
        "#path = \"./data/sentiments\""
      ],
      "metadata": {
        "id": "R-voC08WLnhy"
      },
      "execution_count": 6,
      "outputs": []
    },
    {
      "cell_type": "code",
      "source": [
        "for name in [\"tweets_df_tfidf_1gram\", \"embeddings_bert\", \"embeddings_fasttext\", \"embeddings_word2vec\"]:\n",
        "    size = os.path.getsize(os.path.join(path, f\"{name}.npy\")) / 1e6\n",
        "    print(f\"{name}: {size:.2f} MB\")"
      ],
      "metadata": {
        "colab": {
          "base_uri": "https://localhost:8080/"
        },
        "id": "X8mLJj6lu2HA",
        "outputId": "dd982e43-7459-402e-9733-fde340c0410e"
      },
      "execution_count": 7,
      "outputs": [
        {
          "output_type": "stream",
          "name": "stdout",
          "text": [
            "tweets_df_tfidf_1gram: 80.46 MB\n",
            "embeddings_bert: 30.72 MB\n",
            "embeddings_fasttext: 3823.37 MB\n",
            "embeddings_word2vec: 3823.37 MB\n"
          ]
        }
      ]
    },
    {
      "cell_type": "code",
      "source": [
        "%%time\n",
        "tweets_df_tfidf_1gram = np.load(os.path.join(path, \"tweets_df_tfidf_1gram.npy\"), allow_pickle=True)\n",
        "\n",
        "tweets_embeddings_bert = np.load(os.path.join(path, \"embeddings_bert.npy\"), allow_pickle=True)\n",
        "tweets_embeddings_fasttext = np.load(os.path.join(path, \"embeddings_fasttext.npy\"), mmap_mode='r')\n",
        "tweets_embeddings_word2vec = np.load(os.path.join(path, \"embeddings_word2vec.npy\"), mmap_mode='r')"
      ],
      "metadata": {
        "id": "hQrTqDqRLtFP",
        "outputId": "492015b5-d629-4aa9-9507-d2e9c6ec01b1",
        "colab": {
          "base_uri": "https://localhost:8080/"
        }
      },
      "execution_count": 8,
      "outputs": [
        {
          "output_type": "stream",
          "name": "stdout",
          "text": [
            "CPU times: user 25.9 ms, sys: 86.2 ms, total: 112 ms\n",
            "Wall time: 8.47 s\n"
          ]
        }
      ]
    },
    {
      "cell_type": "code",
      "source": [
        "print(tweets_df_tfidf_1gram.item().shape)\n",
        "print(tweets_embeddings_word2vec.shape)\n",
        "print(tweets_embeddings_fasttext.shape)\n",
        "print(tweets_embeddings_bert.shape)"
      ],
      "metadata": {
        "id": "ilbCvRzROnEe",
        "outputId": "d93b971a-fd23-414d-fef0-04c0efd725da",
        "colab": {
          "base_uri": "https://localhost:8080/"
        }
      },
      "execution_count": 9,
      "outputs": [
        {
          "output_type": "stream",
          "name": "stdout",
          "text": [
            "(1593071, 500)\n",
            "(1593071, 300)\n",
            "(1593071, 300)\n",
            "(10000, 768)\n"
          ]
        }
      ]
    },
    {
      "cell_type": "markdown",
      "source": [
        "> Chargement de la variable cible"
      ],
      "metadata": {
        "id": "6Q3cKj798QPQ"
      }
    },
    {
      "cell_type": "code",
      "source": [
        "# Variable cible\n",
        "Y = np.load(os.path.join(path, \"targets.npy\"), allow_pickle=True)\n",
        "display(Y.shape)"
      ],
      "metadata": {
        "colab": {
          "base_uri": "https://localhost:8080/",
          "height": 35
        },
        "id": "ehajTkli8N88",
        "outputId": "81d2d70b-ac2f-4756-de9d-b0f884021736"
      },
      "execution_count": 10,
      "outputs": [
        {
          "output_type": "display_data",
          "data": {
            "text/plain": [
              "(1593071,)"
            ]
          },
          "metadata": {}
        }
      ]
    },
    {
      "cell_type": "code",
      "source": [
        "def plot_distribution(y_train, y_val, y_test):\n",
        "  # Création des distributions\n",
        "  dist_df = pd.DataFrame({\n",
        "      \"Train set\": pd.Series(y_train).value_counts(normalize=True),\n",
        "      \"Validation set\": pd.Series(y_val).value_counts(normalize=True),\n",
        "      \"Test set\": pd.Series(y_test).value_counts(normalize=True)\n",
        "  }).T\n",
        "\n",
        "  # Optionnel : renommer les colonnes\n",
        "  #dist_df.columns = [\"Classe 1\", \"Classe 0\"]\n",
        "\n",
        "  # Barplot\n",
        "  dist_df.plot(kind=\"bar\", figsize=(8, 5), colormap=\"Set2\")\n",
        "  plt.title(\"Répartition des classes dans y_train, y_val et y_test\")\n",
        "  plt.ylabel(\"Proportion\")\n",
        "  plt.xticks(rotation=0)\n",
        "  plt.ylim(0, 1)\n",
        "  plt.legend(title=\"Classe\")\n",
        "  plt.tight_layout()\n",
        "  plt.show()\n",
        "\n",
        "\n",
        "def split_train_val_test(X, y, sample_size=None, test_size=0.2, val_size=0.2, random_state=42):\n",
        "    \"\"\"\n",
        "    Splitte un jeu de données en trois sous-ensembles : train, validation et test.\n",
        "\n",
        "    Paramètres :\n",
        "    -----------\n",
        "    X : array-like ou sparse matrix\n",
        "        Matrice des features (peut être dense ou sparse).\n",
        "\n",
        "    y : array-like\n",
        "        Vecteur cible (labels ou classes).\n",
        "\n",
        "    sample_size : int ou None (default=None)\n",
        "        Si spécifié, un sous-échantillon (stratifié) de cette taille est prélevé depuis X/y avant le split.\n",
        "\n",
        "    test_size : float (default=0.2)\n",
        "        Proportion du test set par rapport à l'ensemble X (ou X échantillonné).\n",
        "\n",
        "    val_size : float (default=0.2)\n",
        "        Proportion du validation set par rapport à (train + val).\n",
        "\n",
        "    random_state : int (default=42)\n",
        "        Graine pour la reproductibilité.\n",
        "\n",
        "    Retourne :\n",
        "    ---------\n",
        "    X_train, X_val, X_test, y_train, y_val, y_test : datasets splités avec stratification.\n",
        "    \"\"\"\n",
        "\n",
        "    if sample_size is not None:\n",
        "        X_sample, _, y_sample, _ = train_test_split(\n",
        "            X, y, train_size=sample_size, stratify=y, random_state=random_state\n",
        "        )\n",
        "    else:\n",
        "        X_sample, y_sample = X, y\n",
        "\n",
        "    # Split temporaire : train_val vs test\n",
        "    X_train_val, X_test, y_train_val, y_test = train_test_split(\n",
        "        X_sample, y_sample, test_size=test_size, stratify=y_sample, random_state=random_state\n",
        "    )\n",
        "\n",
        "    # Split train vs validation (sur le train_val)\n",
        "    val_split = val_size / (1 - test_size)\n",
        "    X_train, X_val, y_train, y_val = train_test_split(\n",
        "        X_train_val, y_train_val, test_size=val_split, stratify=y_train_val, random_state=random_state\n",
        "    )\n",
        "\n",
        "    return X_train, X_val, X_test, y_train, y_val, y_test\n"
      ],
      "metadata": {
        "id": "B5szwQ44_jsq"
      },
      "execution_count": 11,
      "outputs": []
    },
    {
      "cell_type": "markdown",
      "source": [
        "# Approche 1: Modéle sur mesure"
      ],
      "metadata": {
        "id": "Z34S7rCCB9Uv"
      }
    },
    {
      "cell_type": "markdown",
      "source": [
        "- Logistic Regression\n",
        "- Ridge Classifier\n",
        "- Naive Bayes\n",
        "- Light Gradient Boosting Machine\n",
        "- Gradient Boosting Classifier\n",
        "- linear discriminant analysis"
      ],
      "metadata": {
        "id": "Mqn1YSL-Lw60"
      }
    },
    {
      "cell_type": "code",
      "source": [
        "import re\n",
        "import unicodedata\n",
        "\n",
        "def slugify(text):\n",
        "    text = text.lower()\n",
        "    text = unicodedata.normalize('NFKD', text).encode('ascii', 'ignore').decode('utf-8')\n",
        "    text = re.sub(r'[^a-z0-9]+', '-', text)\n",
        "    text = text.strip('-')\n",
        "    return text"
      ],
      "metadata": {
        "id": "JzukHM-lj7zH"
      },
      "execution_count": null,
      "outputs": []
    },
    {
      "cell_type": "code",
      "source": [
        "models = {\n",
        "    \"Logistic Regression\": LogisticRegression(max_iter=1000),\n",
        "    \"Ridge Classifier\": RidgeClassifier(),\n",
        "    \"XGBoost\": XGBClassifier(eval_metric='logloss', n_jobs=-1),\n",
        "    \"LightGBM\": LGBMClassifier(verbose=-1, n_jobs=-1),\n",
        "    \"Random Forest\": RandomForestClassifier(n_estimators=100),\n",
        "}"
      ],
      "metadata": {
        "id": "UZLWX9FXMNsa"
      },
      "execution_count": null,
      "outputs": []
    },
    {
      "cell_type": "code",
      "source": [
        "from tqdm import tqdm\n",
        "tqdm.pandas()\n",
        "\n",
        "def evaluate_models(x_train, x_valid, y_train, y_valid, cv=3, scoring=\"accuracy\", source=\"\"):\n",
        "    results = []\n",
        "    signature = infer_signature(x_train, y_train)\n",
        "    for name, model in tqdm(models.items()):\n",
        "      start_time = time.time()\n",
        "      print(f\"Evaluating {name}...\")\n",
        "      mlflow.set_experiment(f\"{source}-{slugify(name)}\")\n",
        "      with mlflow.start_run():\n",
        "        scores = cross_val_score(model, x_train, y_train, cv=cv, scoring=scoring)\n",
        "        y_pred = model.fit(x_train, y_train).predict(x_valid)\n",
        "        cv_score = scores.mean()\n",
        "        val_score = model.score(x_valid, y_valid)\n",
        "        precision = precision_score(y_valid, y_pred)\n",
        "        recall = recall_score(y_valid, y_pred)\n",
        "        f1 = f1_score(y_valid, y_pred)\n",
        "        auc = roc_auc_score(y_valid, y_pred)\n",
        "        mse = mean_squared_error(y_valid, y_pred)\n",
        "        train_time = time.time() - start_time\n",
        "\n",
        "        results.append({\n",
        "            \"Model\": name,\n",
        "            \"cv_score\": cv_score,\n",
        "            \"val_score\": val_score,\n",
        "            \"precision\": precision,\n",
        "            \"recall\": recall,\n",
        "            \"f1\": f1,\n",
        "            \"auc\": auc,\n",
        "            \"mse\": mse,\n",
        "            \"train_time (s)\": train_time\n",
        "        })\n",
        "        mlflow.log_params(model.get_params())\n",
        "        mlflow.log_metric(\"cv_score\", cv_score)\n",
        "        mlflow.log_metric(\"val_score\", val_score)\n",
        "        mlflow.log_metric(\"precision\", precision)\n",
        "        mlflow.log_metric(\"recall\", recall)\n",
        "        mlflow.log_metric(\"f1\", f1)\n",
        "        mlflow.log_metric(\"auc\", auc)\n",
        "        mlflow.log_metric(\"loss\", mse)\n",
        "        mlflow.log_metric(\"train_time\", train_time)\n",
        "        try:\n",
        "          mlflow.sklearn.log_model(\n",
        "              sk_model=model,\n",
        "              artifact_path=\"model-artifact\",\n",
        "              signature=signature,\n",
        "              input_example=x_train[:10],\n",
        "              registered_model_name=slugify(name)\n",
        "          )\n",
        "        except Exception as e:\n",
        "          print(f\"Erreur lors de l'enregistrement du modèle : {e}\")\n",
        "\n",
        "    print(\"\\n\")\n",
        "\n",
        "    return pd.DataFrame(results).sort_values(by=\"val_score\", ascending=False)\n",
        "\n",
        "def show_calibration_curve(models, X_valid, y_valid, exclude=None):\n",
        "  if exclude is None:\n",
        "    exclude = []\n",
        "  fig = plt.figure(figsize=(16, 10))\n",
        "  gs = GridSpec(7, 3)\n",
        "  colors = plt.get_cmap(\"Dark2\")\n",
        "\n",
        "  ax_calibration_curve = fig.add_subplot(gs[:2, :2])\n",
        "  calibration_displays = {}\n",
        "  markers = [\"^\", \"v\", \"s\", \"o\", \"2\"]\n",
        "  for i, (name, clf) in enumerate(models.items()):\n",
        "    if name not in exclude:\n",
        "      display = CalibrationDisplay.from_estimator(\n",
        "          clf,\n",
        "          X_valid,\n",
        "          y_valid,\n",
        "          n_bins=10,\n",
        "          name=name,\n",
        "          ax=ax_calibration_curve,\n",
        "          color=colors(i),\n",
        "          marker=markers[i],\n",
        "      )\n",
        "      calibration_displays[name] = display\n",
        "\n",
        "  ax_calibration_curve.grid()\n",
        "  ax_calibration_curve.set_title(\"Calibration plots\")\n",
        "\n",
        "skf = StratifiedKFold(n_splits=4)"
      ],
      "metadata": {
        "id": "gJgKZ158Mrpp"
      },
      "execution_count": null,
      "outputs": []
    },
    {
      "cell_type": "markdown",
      "source": [
        "## | Tf-idf"
      ],
      "metadata": {
        "id": "Xs5P0zRjWxrK"
      }
    },
    {
      "cell_type": "code",
      "source": [
        "X_train_tfidf, X_valid_tfidf, X_test_tfidf, y_train_tfidf, y_valid_tfidf, y_test_tfidf = split_train_val_test(tweets_df_tfidf_1gram.item(), Y, sample_size=20000)\n",
        "print(\"Répartition dans y_train    :\", pd.Series(y_train_tfidf).value_counts(normalize=True))\n",
        "print(\"Répartition dans y_validation:\", pd.Series(y_valid_tfidf).value_counts(normalize=True))\n",
        "print(\"Répartition dans y_test :\", pd.Series(y_test_tfidf).value_counts(normalize=True))\n",
        "plot_distribution(y_train_tfidf, y_valid_tfidf, y_test_tfidf)"
      ],
      "metadata": {
        "id": "CRsXanc9XtLS"
      },
      "execution_count": null,
      "outputs": []
    },
    {
      "cell_type": "code",
      "source": [
        "skf.get_n_splits(X_train_tfidf, y_train_tfidf)\n",
        "for i, (train_index, test_index) in enumerate(skf.split(X_train_tfidf, y_train_tfidf)):\n",
        "    print(f\"Fold {i}:\")\n",
        "    print(f\"  Train: index={train_index}\")\n",
        "    print(f\"  Test:  index={test_index}\")"
      ],
      "metadata": {
        "id": "LwmhkTjzVEj2"
      },
      "execution_count": null,
      "outputs": []
    },
    {
      "cell_type": "code",
      "source": [
        "%%time\n",
        "tfidf_results_df = evaluate_models(X_train_tfidf, X_valid_tfidf, y_train_tfidf, y_valid_tfidf, cv=skf, source=\"tfidf\")"
      ],
      "metadata": {
        "id": "yM0hEsvqYObk",
        "colab": {
          "base_uri": "https://localhost:8080/"
        },
        "outputId": "a299d533-5c68-47c9-f58a-b31461e67fff"
      },
      "execution_count": null,
      "outputs": [
        {
          "output_type": "stream",
          "name": "stderr",
          "text": [
            "\r  0%|          | 0/5 [00:00<?, ?it/s]"
          ]
        },
        {
          "output_type": "stream",
          "name": "stdout",
          "text": [
            "Evaluating Logistic Regression...\n"
          ]
        },
        {
          "output_type": "stream",
          "name": "stderr",
          "text": [
            "Registered model 'logistic-regression' already exists. Creating a new version of this model...\n",
            "2025/06/02 01:48:29 INFO mlflow.store.model_registry.abstract_store: Waiting up to 300 seconds for model version to finish creation. Model name: logistic-regression, version 8\n",
            "Created version '8' of model 'logistic-regression'.\n",
            " 20%|██        | 1/5 [00:07<00:30,  7.53s/it]"
          ]
        },
        {
          "output_type": "stream",
          "name": "stdout",
          "text": [
            "🏃 View run bright-dog-279 at: https://mlflow.amadousy.dev/#/experiments/8/runs/b57282bf1b154e16b40ef748f18810c1\n",
            "🧪 View experiment at: https://mlflow.amadousy.dev/#/experiments/8\n",
            "Evaluating Ridge Classifier...\n"
          ]
        },
        {
          "output_type": "stream",
          "name": "stderr",
          "text": [
            "Registered model 'ridge-classifier' already exists. Creating a new version of this model...\n",
            "2025/06/02 01:48:36 INFO mlflow.store.model_registry.abstract_store: Waiting up to 300 seconds for model version to finish creation. Model name: ridge-classifier, version 8\n",
            "Created version '8' of model 'ridge-classifier'.\n",
            " 40%|████      | 2/5 [00:14<00:21,  7.30s/it]"
          ]
        },
        {
          "output_type": "stream",
          "name": "stdout",
          "text": [
            "🏃 View run painted-snipe-394 at: https://mlflow.amadousy.dev/#/experiments/9/runs/ee48b20af415490298c0b497e1f72029\n",
            "🧪 View experiment at: https://mlflow.amadousy.dev/#/experiments/9\n",
            "Evaluating XGBoost...\n"
          ]
        },
        {
          "output_type": "stream",
          "name": "stderr",
          "text": [
            "Registered model 'xgboost' already exists. Creating a new version of this model...\n",
            "2025/06/02 01:48:47 INFO mlflow.store.model_registry.abstract_store: Waiting up to 300 seconds for model version to finish creation. Model name: xgboost, version 8\n",
            "Created version '8' of model 'xgboost'.\n",
            " 60%|██████    | 3/5 [00:26<00:18,  9.23s/it]"
          ]
        },
        {
          "output_type": "stream",
          "name": "stdout",
          "text": [
            "🏃 View run nervous-deer-563 at: https://mlflow.amadousy.dev/#/experiments/10/runs/44c1451c442645caab168c035f10a4de\n",
            "🧪 View experiment at: https://mlflow.amadousy.dev/#/experiments/10\n",
            "Evaluating LightGBM...\n"
          ]
        },
        {
          "output_type": "stream",
          "name": "stderr",
          "text": [
            "Registered model 'lightgbm' already exists. Creating a new version of this model...\n",
            "2025/06/02 01:48:58 INFO mlflow.store.model_registry.abstract_store: Waiting up to 300 seconds for model version to finish creation. Model name: lightgbm, version 8\n",
            "Created version '8' of model 'lightgbm'.\n",
            " 80%|████████  | 4/5 [00:36<00:09,  9.66s/it]"
          ]
        },
        {
          "output_type": "stream",
          "name": "stdout",
          "text": [
            "🏃 View run enthused-wolf-531 at: https://mlflow.amadousy.dev/#/experiments/11/runs/99462135451d48349d504a7a46d48a23\n",
            "🧪 View experiment at: https://mlflow.amadousy.dev/#/experiments/11\n",
            "Evaluating Random Forest...\n",
            "Erreur lors de l'enregistrement du modèle : 413 Client Error: Request Entity Too Large for url: https://mlflow.amadousy.dev/api/2.0/mlflow-artifacts/artifacts/12/dd8a907ce0ad400782b9479801f34f8b/artifacts/model-artifact/model.pkl. Response text: <html>\n",
            "<head><title>413 Request Entity Too Large</title></head>\n",
            "<body>\n",
            "<center><h1>413 Request Entity Too Large</h1></center>\n",
            "<hr><center>nginx/1.25.2</center>\n",
            "</body>\n",
            "</html>\n",
            "\n",
            "🏃 View run sassy-hound-649 at: https://mlflow.amadousy.dev/#/experiments/12/runs/dd8a907ce0ad400782b9479801f34f8b\n",
            "🧪 View experiment at: https://mlflow.amadousy.dev/#/experiments/12\n"
          ]
        },
        {
          "output_type": "stream",
          "name": "stderr",
          "text": [
            "100%|██████████| 5/5 [01:16<00:00, 15.26s/it]"
          ]
        },
        {
          "output_type": "stream",
          "name": "stdout",
          "text": [
            "\n",
            "\n",
            "CPU times: user 1min 18s, sys: 1.12 s, total: 1min 19s\n",
            "Wall time: 1min 16s\n"
          ]
        },
        {
          "output_type": "stream",
          "name": "stderr",
          "text": [
            "\n"
          ]
        }
      ]
    },
    {
      "cell_type": "code",
      "source": [
        "tfidf_results_df"
      ],
      "metadata": {
        "id": "KUtDW0cpYbom",
        "colab": {
          "base_uri": "https://localhost:8080/",
          "height": 206
        },
        "outputId": "9573dd02-87ed-485d-bda0-3d2abe743ae2"
      },
      "execution_count": null,
      "outputs": [
        {
          "output_type": "execute_result",
          "data": {
            "text/plain": [
              "                 Model  cv_score  val_score  precision  recall        f1  \\\n",
              "1     Ridge Classifier  0.699667    0.71225   0.700141  0.7425  0.720699   \n",
              "0  Logistic Regression  0.703167    0.71025   0.698443  0.7400  0.718621   \n",
              "3             LightGBM  0.698083    0.70150   0.685373  0.7450  0.713943   \n",
              "2              XGBoost  0.693667    0.68900   0.668449  0.7500  0.706880   \n",
              "4        Random Forest  0.694667    0.68575   0.687911  0.6800  0.683933   \n",
              "\n",
              "       auc      mse  train_time (s)  \n",
              "1  0.71225  0.28775        0.377805  \n",
              "0  0.71025  0.28975        0.776481  \n",
              "3  0.70150  0.29850        1.801008  \n",
              "2  0.68900  0.31100        4.522496  \n",
              "4  0.68575  0.31425       30.741806  "
            ],
            "text/html": [
              "\n",
              "  <div id=\"df-8fcc29e5-7d6c-4528-a03b-e14de897c194\" class=\"colab-df-container\">\n",
              "    <div>\n",
              "<style scoped>\n",
              "    .dataframe tbody tr th:only-of-type {\n",
              "        vertical-align: middle;\n",
              "    }\n",
              "\n",
              "    .dataframe tbody tr th {\n",
              "        vertical-align: top;\n",
              "    }\n",
              "\n",
              "    .dataframe thead th {\n",
              "        text-align: right;\n",
              "    }\n",
              "</style>\n",
              "<table border=\"1\" class=\"dataframe\">\n",
              "  <thead>\n",
              "    <tr style=\"text-align: right;\">\n",
              "      <th></th>\n",
              "      <th>Model</th>\n",
              "      <th>cv_score</th>\n",
              "      <th>val_score</th>\n",
              "      <th>precision</th>\n",
              "      <th>recall</th>\n",
              "      <th>f1</th>\n",
              "      <th>auc</th>\n",
              "      <th>mse</th>\n",
              "      <th>train_time (s)</th>\n",
              "    </tr>\n",
              "  </thead>\n",
              "  <tbody>\n",
              "    <tr>\n",
              "      <th>1</th>\n",
              "      <td>Ridge Classifier</td>\n",
              "      <td>0.699667</td>\n",
              "      <td>0.71225</td>\n",
              "      <td>0.700141</td>\n",
              "      <td>0.7425</td>\n",
              "      <td>0.720699</td>\n",
              "      <td>0.71225</td>\n",
              "      <td>0.28775</td>\n",
              "      <td>0.377805</td>\n",
              "    </tr>\n",
              "    <tr>\n",
              "      <th>0</th>\n",
              "      <td>Logistic Regression</td>\n",
              "      <td>0.703167</td>\n",
              "      <td>0.71025</td>\n",
              "      <td>0.698443</td>\n",
              "      <td>0.7400</td>\n",
              "      <td>0.718621</td>\n",
              "      <td>0.71025</td>\n",
              "      <td>0.28975</td>\n",
              "      <td>0.776481</td>\n",
              "    </tr>\n",
              "    <tr>\n",
              "      <th>3</th>\n",
              "      <td>LightGBM</td>\n",
              "      <td>0.698083</td>\n",
              "      <td>0.70150</td>\n",
              "      <td>0.685373</td>\n",
              "      <td>0.7450</td>\n",
              "      <td>0.713943</td>\n",
              "      <td>0.70150</td>\n",
              "      <td>0.29850</td>\n",
              "      <td>1.801008</td>\n",
              "    </tr>\n",
              "    <tr>\n",
              "      <th>2</th>\n",
              "      <td>XGBoost</td>\n",
              "      <td>0.693667</td>\n",
              "      <td>0.68900</td>\n",
              "      <td>0.668449</td>\n",
              "      <td>0.7500</td>\n",
              "      <td>0.706880</td>\n",
              "      <td>0.68900</td>\n",
              "      <td>0.31100</td>\n",
              "      <td>4.522496</td>\n",
              "    </tr>\n",
              "    <tr>\n",
              "      <th>4</th>\n",
              "      <td>Random Forest</td>\n",
              "      <td>0.694667</td>\n",
              "      <td>0.68575</td>\n",
              "      <td>0.687911</td>\n",
              "      <td>0.6800</td>\n",
              "      <td>0.683933</td>\n",
              "      <td>0.68575</td>\n",
              "      <td>0.31425</td>\n",
              "      <td>30.741806</td>\n",
              "    </tr>\n",
              "  </tbody>\n",
              "</table>\n",
              "</div>\n",
              "    <div class=\"colab-df-buttons\">\n",
              "\n",
              "  <div class=\"colab-df-container\">\n",
              "    <button class=\"colab-df-convert\" onclick=\"convertToInteractive('df-8fcc29e5-7d6c-4528-a03b-e14de897c194')\"\n",
              "            title=\"Convert this dataframe to an interactive table.\"\n",
              "            style=\"display:none;\">\n",
              "\n",
              "  <svg xmlns=\"http://www.w3.org/2000/svg\" height=\"24px\" viewBox=\"0 -960 960 960\">\n",
              "    <path d=\"M120-120v-720h720v720H120Zm60-500h600v-160H180v160Zm220 220h160v-160H400v160Zm0 220h160v-160H400v160ZM180-400h160v-160H180v160Zm440 0h160v-160H620v160ZM180-180h160v-160H180v160Zm440 0h160v-160H620v160Z\"/>\n",
              "  </svg>\n",
              "    </button>\n",
              "\n",
              "  <style>\n",
              "    .colab-df-container {\n",
              "      display:flex;\n",
              "      gap: 12px;\n",
              "    }\n",
              "\n",
              "    .colab-df-convert {\n",
              "      background-color: #E8F0FE;\n",
              "      border: none;\n",
              "      border-radius: 50%;\n",
              "      cursor: pointer;\n",
              "      display: none;\n",
              "      fill: #1967D2;\n",
              "      height: 32px;\n",
              "      padding: 0 0 0 0;\n",
              "      width: 32px;\n",
              "    }\n",
              "\n",
              "    .colab-df-convert:hover {\n",
              "      background-color: #E2EBFA;\n",
              "      box-shadow: 0px 1px 2px rgba(60, 64, 67, 0.3), 0px 1px 3px 1px rgba(60, 64, 67, 0.15);\n",
              "      fill: #174EA6;\n",
              "    }\n",
              "\n",
              "    .colab-df-buttons div {\n",
              "      margin-bottom: 4px;\n",
              "    }\n",
              "\n",
              "    [theme=dark] .colab-df-convert {\n",
              "      background-color: #3B4455;\n",
              "      fill: #D2E3FC;\n",
              "    }\n",
              "\n",
              "    [theme=dark] .colab-df-convert:hover {\n",
              "      background-color: #434B5C;\n",
              "      box-shadow: 0px 1px 3px 1px rgba(0, 0, 0, 0.15);\n",
              "      filter: drop-shadow(0px 1px 2px rgba(0, 0, 0, 0.3));\n",
              "      fill: #FFFFFF;\n",
              "    }\n",
              "  </style>\n",
              "\n",
              "    <script>\n",
              "      const buttonEl =\n",
              "        document.querySelector('#df-8fcc29e5-7d6c-4528-a03b-e14de897c194 button.colab-df-convert');\n",
              "      buttonEl.style.display =\n",
              "        google.colab.kernel.accessAllowed ? 'block' : 'none';\n",
              "\n",
              "      async function convertToInteractive(key) {\n",
              "        const element = document.querySelector('#df-8fcc29e5-7d6c-4528-a03b-e14de897c194');\n",
              "        const dataTable =\n",
              "          await google.colab.kernel.invokeFunction('convertToInteractive',\n",
              "                                                    [key], {});\n",
              "        if (!dataTable) return;\n",
              "\n",
              "        const docLinkHtml = 'Like what you see? Visit the ' +\n",
              "          '<a target=\"_blank\" href=https://colab.research.google.com/notebooks/data_table.ipynb>data table notebook</a>'\n",
              "          + ' to learn more about interactive tables.';\n",
              "        element.innerHTML = '';\n",
              "        dataTable['output_type'] = 'display_data';\n",
              "        await google.colab.output.renderOutput(dataTable, element);\n",
              "        const docLink = document.createElement('div');\n",
              "        docLink.innerHTML = docLinkHtml;\n",
              "        element.appendChild(docLink);\n",
              "      }\n",
              "    </script>\n",
              "  </div>\n",
              "\n",
              "\n",
              "    <div id=\"df-468b423e-c12f-4c49-9eca-347a5431e6cb\">\n",
              "      <button class=\"colab-df-quickchart\" onclick=\"quickchart('df-468b423e-c12f-4c49-9eca-347a5431e6cb')\"\n",
              "                title=\"Suggest charts\"\n",
              "                style=\"display:none;\">\n",
              "\n",
              "<svg xmlns=\"http://www.w3.org/2000/svg\" height=\"24px\"viewBox=\"0 0 24 24\"\n",
              "     width=\"24px\">\n",
              "    <g>\n",
              "        <path d=\"M19 3H5c-1.1 0-2 .9-2 2v14c0 1.1.9 2 2 2h14c1.1 0 2-.9 2-2V5c0-1.1-.9-2-2-2zM9 17H7v-7h2v7zm4 0h-2V7h2v10zm4 0h-2v-4h2v4z\"/>\n",
              "    </g>\n",
              "</svg>\n",
              "      </button>\n",
              "\n",
              "<style>\n",
              "  .colab-df-quickchart {\n",
              "      --bg-color: #E8F0FE;\n",
              "      --fill-color: #1967D2;\n",
              "      --hover-bg-color: #E2EBFA;\n",
              "      --hover-fill-color: #174EA6;\n",
              "      --disabled-fill-color: #AAA;\n",
              "      --disabled-bg-color: #DDD;\n",
              "  }\n",
              "\n",
              "  [theme=dark] .colab-df-quickchart {\n",
              "      --bg-color: #3B4455;\n",
              "      --fill-color: #D2E3FC;\n",
              "      --hover-bg-color: #434B5C;\n",
              "      --hover-fill-color: #FFFFFF;\n",
              "      --disabled-bg-color: #3B4455;\n",
              "      --disabled-fill-color: #666;\n",
              "  }\n",
              "\n",
              "  .colab-df-quickchart {\n",
              "    background-color: var(--bg-color);\n",
              "    border: none;\n",
              "    border-radius: 50%;\n",
              "    cursor: pointer;\n",
              "    display: none;\n",
              "    fill: var(--fill-color);\n",
              "    height: 32px;\n",
              "    padding: 0;\n",
              "    width: 32px;\n",
              "  }\n",
              "\n",
              "  .colab-df-quickchart:hover {\n",
              "    background-color: var(--hover-bg-color);\n",
              "    box-shadow: 0 1px 2px rgba(60, 64, 67, 0.3), 0 1px 3px 1px rgba(60, 64, 67, 0.15);\n",
              "    fill: var(--button-hover-fill-color);\n",
              "  }\n",
              "\n",
              "  .colab-df-quickchart-complete:disabled,\n",
              "  .colab-df-quickchart-complete:disabled:hover {\n",
              "    background-color: var(--disabled-bg-color);\n",
              "    fill: var(--disabled-fill-color);\n",
              "    box-shadow: none;\n",
              "  }\n",
              "\n",
              "  .colab-df-spinner {\n",
              "    border: 2px solid var(--fill-color);\n",
              "    border-color: transparent;\n",
              "    border-bottom-color: var(--fill-color);\n",
              "    animation:\n",
              "      spin 1s steps(1) infinite;\n",
              "  }\n",
              "\n",
              "  @keyframes spin {\n",
              "    0% {\n",
              "      border-color: transparent;\n",
              "      border-bottom-color: var(--fill-color);\n",
              "      border-left-color: var(--fill-color);\n",
              "    }\n",
              "    20% {\n",
              "      border-color: transparent;\n",
              "      border-left-color: var(--fill-color);\n",
              "      border-top-color: var(--fill-color);\n",
              "    }\n",
              "    30% {\n",
              "      border-color: transparent;\n",
              "      border-left-color: var(--fill-color);\n",
              "      border-top-color: var(--fill-color);\n",
              "      border-right-color: var(--fill-color);\n",
              "    }\n",
              "    40% {\n",
              "      border-color: transparent;\n",
              "      border-right-color: var(--fill-color);\n",
              "      border-top-color: var(--fill-color);\n",
              "    }\n",
              "    60% {\n",
              "      border-color: transparent;\n",
              "      border-right-color: var(--fill-color);\n",
              "    }\n",
              "    80% {\n",
              "      border-color: transparent;\n",
              "      border-right-color: var(--fill-color);\n",
              "      border-bottom-color: var(--fill-color);\n",
              "    }\n",
              "    90% {\n",
              "      border-color: transparent;\n",
              "      border-bottom-color: var(--fill-color);\n",
              "    }\n",
              "  }\n",
              "</style>\n",
              "\n",
              "      <script>\n",
              "        async function quickchart(key) {\n",
              "          const quickchartButtonEl =\n",
              "            document.querySelector('#' + key + ' button');\n",
              "          quickchartButtonEl.disabled = true;  // To prevent multiple clicks.\n",
              "          quickchartButtonEl.classList.add('colab-df-spinner');\n",
              "          try {\n",
              "            const charts = await google.colab.kernel.invokeFunction(\n",
              "                'suggestCharts', [key], {});\n",
              "          } catch (error) {\n",
              "            console.error('Error during call to suggestCharts:', error);\n",
              "          }\n",
              "          quickchartButtonEl.classList.remove('colab-df-spinner');\n",
              "          quickchartButtonEl.classList.add('colab-df-quickchart-complete');\n",
              "        }\n",
              "        (() => {\n",
              "          let quickchartButtonEl =\n",
              "            document.querySelector('#df-468b423e-c12f-4c49-9eca-347a5431e6cb button');\n",
              "          quickchartButtonEl.style.display =\n",
              "            google.colab.kernel.accessAllowed ? 'block' : 'none';\n",
              "        })();\n",
              "      </script>\n",
              "    </div>\n",
              "\n",
              "  <div id=\"id_95206a18-e36e-4d87-b640-64e7c974c199\">\n",
              "    <style>\n",
              "      .colab-df-generate {\n",
              "        background-color: #E8F0FE;\n",
              "        border: none;\n",
              "        border-radius: 50%;\n",
              "        cursor: pointer;\n",
              "        display: none;\n",
              "        fill: #1967D2;\n",
              "        height: 32px;\n",
              "        padding: 0 0 0 0;\n",
              "        width: 32px;\n",
              "      }\n",
              "\n",
              "      .colab-df-generate:hover {\n",
              "        background-color: #E2EBFA;\n",
              "        box-shadow: 0px 1px 2px rgba(60, 64, 67, 0.3), 0px 1px 3px 1px rgba(60, 64, 67, 0.15);\n",
              "        fill: #174EA6;\n",
              "      }\n",
              "\n",
              "      [theme=dark] .colab-df-generate {\n",
              "        background-color: #3B4455;\n",
              "        fill: #D2E3FC;\n",
              "      }\n",
              "\n",
              "      [theme=dark] .colab-df-generate:hover {\n",
              "        background-color: #434B5C;\n",
              "        box-shadow: 0px 1px 3px 1px rgba(0, 0, 0, 0.15);\n",
              "        filter: drop-shadow(0px 1px 2px rgba(0, 0, 0, 0.3));\n",
              "        fill: #FFFFFF;\n",
              "      }\n",
              "    </style>\n",
              "    <button class=\"colab-df-generate\" onclick=\"generateWithVariable('tfidf_results_df')\"\n",
              "            title=\"Generate code using this dataframe.\"\n",
              "            style=\"display:none;\">\n",
              "\n",
              "  <svg xmlns=\"http://www.w3.org/2000/svg\" height=\"24px\"viewBox=\"0 0 24 24\"\n",
              "       width=\"24px\">\n",
              "    <path d=\"M7,19H8.4L18.45,9,17,7.55,7,17.6ZM5,21V16.75L18.45,3.32a2,2,0,0,1,2.83,0l1.4,1.43a1.91,1.91,0,0,1,.58,1.4,1.91,1.91,0,0,1-.58,1.4L9.25,21ZM18.45,9,17,7.55Zm-12,3A5.31,5.31,0,0,0,4.9,8.1,5.31,5.31,0,0,0,1,6.5,5.31,5.31,0,0,0,4.9,4.9,5.31,5.31,0,0,0,6.5,1,5.31,5.31,0,0,0,8.1,4.9,5.31,5.31,0,0,0,12,6.5,5.46,5.46,0,0,0,6.5,12Z\"/>\n",
              "  </svg>\n",
              "    </button>\n",
              "    <script>\n",
              "      (() => {\n",
              "      const buttonEl =\n",
              "        document.querySelector('#id_95206a18-e36e-4d87-b640-64e7c974c199 button.colab-df-generate');\n",
              "      buttonEl.style.display =\n",
              "        google.colab.kernel.accessAllowed ? 'block' : 'none';\n",
              "\n",
              "      buttonEl.onclick = () => {\n",
              "        google.colab.notebook.generateWithVariable('tfidf_results_df');\n",
              "      }\n",
              "      })();\n",
              "    </script>\n",
              "  </div>\n",
              "\n",
              "    </div>\n",
              "  </div>\n"
            ],
            "application/vnd.google.colaboratory.intrinsic+json": {
              "type": "dataframe",
              "variable_name": "tfidf_results_df",
              "summary": "{\n  \"name\": \"tfidf_results_df\",\n  \"rows\": 5,\n  \"fields\": [\n    {\n      \"column\": \"Model\",\n      \"properties\": {\n        \"dtype\": \"string\",\n        \"num_unique_values\": 5,\n        \"samples\": [\n          \"Logistic Regression\",\n          \"Random Forest\",\n          \"LightGBM\"\n        ],\n        \"semantic_type\": \"\",\n        \"description\": \"\"\n      }\n    },\n    {\n      \"column\": \"cv_score\",\n      \"properties\": {\n        \"dtype\": \"number\",\n        \"std\": 0.0038488815114119937,\n        \"min\": 0.6936666666666667,\n        \"max\": 0.7031666666666667,\n        \"num_unique_values\": 5,\n        \"samples\": [\n          0.7031666666666667,\n          0.6946666666666667,\n          0.6980833333333334\n        ],\n        \"semantic_type\": \"\",\n        \"description\": \"\"\n      }\n    },\n    {\n      \"column\": \"val_score\",\n      \"properties\": {\n        \"dtype\": \"number\",\n        \"std\": 0.012053267191927716,\n        \"min\": 0.68575,\n        \"max\": 0.71225,\n        \"num_unique_values\": 5,\n        \"samples\": [\n          0.71025,\n          0.68575,\n          0.7015\n        ],\n        \"semantic_type\": \"\",\n        \"description\": \"\"\n      }\n    },\n    {\n      \"column\": \"precision\",\n      \"properties\": {\n        \"dtype\": \"number\",\n        \"std\": 0.01270422007920704,\n        \"min\": 0.6684491978609626,\n        \"max\": 0.7001414427157001,\n        \"num_unique_values\": 5,\n        \"samples\": [\n          0.6984426616328456,\n          0.687910976226606,\n          0.6853725850965962\n        ],\n        \"semantic_type\": \"\",\n        \"description\": \"\"\n      }\n    },\n    {\n      \"column\": \"recall\",\n      \"properties\": {\n        \"dtype\": \"number\",\n        \"std\": 0.029025850547399965,\n        \"min\": 0.68,\n        \"max\": 0.75,\n        \"num_unique_values\": 5,\n        \"samples\": [\n          0.74,\n          0.68,\n          0.745\n        ],\n        \"semantic_type\": \"\",\n        \"description\": \"\"\n      }\n    },\n    {\n      \"column\": \"f1\",\n      \"properties\": {\n        \"dtype\": \"number\",\n        \"std\": 0.014887592104276962,\n        \"min\": 0.6839326125220015,\n        \"max\": 0.7206988595001214,\n        \"num_unique_values\": 5,\n        \"samples\": [\n          0.7186210245205147,\n          0.6839326125220015,\n          0.7139434595112601\n        ],\n        \"semantic_type\": \"\",\n        \"description\": \"\"\n      }\n    },\n    {\n      \"column\": \"auc\",\n      \"properties\": {\n        \"dtype\": \"number\",\n        \"std\": 0.012053267191927635,\n        \"min\": 0.6857500000000001,\n        \"max\": 0.71225,\n        \"num_unique_values\": 5,\n        \"samples\": [\n          0.7102499999999999,\n          0.6857500000000001,\n          0.7015\n        ],\n        \"semantic_type\": \"\",\n        \"description\": \"\"\n      }\n    },\n    {\n      \"column\": \"mse\",\n      \"properties\": {\n        \"dtype\": \"number\",\n        \"std\": 0.012053267191927662,\n        \"min\": 0.28775,\n        \"max\": 0.31425,\n        \"num_unique_values\": 5,\n        \"samples\": [\n          0.28975,\n          0.31425,\n          0.2985\n        ],\n        \"semantic_type\": \"\",\n        \"description\": \"\"\n      }\n    },\n    {\n      \"column\": \"train_time (s)\",\n      \"properties\": {\n        \"dtype\": \"number\",\n        \"std\": 13.013006841167238,\n        \"min\": 0.3778049945831299,\n        \"max\": 30.74180579185486,\n        \"num_unique_values\": 5,\n        \"samples\": [\n          0.7764806747436523,\n          30.74180579185486,\n          1.8010077476501465\n        ],\n        \"semantic_type\": \"\",\n        \"description\": \"\"\n      }\n    }\n  ]\n}"
            }
          },
          "metadata": {},
          "execution_count": 29
        }
      ]
    },
    {
      "cell_type": "markdown",
      "source": [
        "## | Word2Vec"
      ],
      "metadata": {
        "id": "Go475o0OW3WD"
      }
    },
    {
      "cell_type": "code",
      "source": [
        "%%time\n",
        "X_train_w2v, X_valid_w2v, X_test_w2v, y_train_w2v, y_valid_w2v, y_test_w2v = split_train_val_test(tweets_embeddings_word2vec, Y, sample_size=20000)\n",
        "print(\"Répartition dans y_train    :\", pd.Series(y_train_w2v).value_counts(normalize=True))\n",
        "print(\"Répartition dans y_validation:\", pd.Series(y_valid_w2v).value_counts(normalize=True))\n",
        "print(\"Répartition dans y_test :\", pd.Series(y_test_w2v).value_counts(normalize=True))\n",
        "plot_distribution(y_train_w2v, y_valid_w2v,  y_test_w2v)"
      ],
      "metadata": {
        "id": "SFmK7CpdYvik",
        "colab": {
          "base_uri": "https://localhost:8080/",
          "height": 709
        },
        "outputId": "f9c134f4-1a54-49e9-f1aa-56d5a091b935"
      },
      "execution_count": null,
      "outputs": [
        {
          "output_type": "stream",
          "name": "stdout",
          "text": [
            "Répartition dans y_train    : 1    0.500083\n",
            "0    0.499917\n",
            "Name: proportion, dtype: float64\n",
            "Répartition dans y_validation: 0    0.5\n",
            "1    0.5\n",
            "Name: proportion, dtype: float64\n",
            "Répartition dans y_test : 1    0.5\n",
            "0    0.5\n",
            "Name: proportion, dtype: float64\n"
          ]
        },
        {
          "output_type": "display_data",
          "data": {
            "text/plain": [
              "<Figure size 800x500 with 1 Axes>"
            ],
            "image/png": "[encoded data removed]"
          },
          "metadata": {}
        },
        {
          "output_type": "stream",
          "name": "stdout",
          "text": [
            "CPU times: user 1.55 s, sys: 2.01 s, total: 3.56 s\n",
            "Wall time: 45.2 s\n"
          ]
        }
      ]
    },
    {
      "cell_type": "code",
      "source": [
        "%%time\n",
        "w2v_results__df = evaluate_models(X_train_w2v, X_valid_w2v, y_train_w2v, y_valid_w2v, cv=skf, source=\"word2vec\")"
      ],
      "metadata": {
        "id": "dRimE4KMZJJA",
        "colab": {
          "base_uri": "https://localhost:8080/"
        },
        "outputId": "b838abee-7462-4aec-b006-b637f44468b7"
      },
      "execution_count": null,
      "outputs": [
        {
          "output_type": "stream",
          "name": "stderr",
          "text": [
            "\r  0%|          | 0/5 [00:00<?, ?it/s]"
          ]
        },
        {
          "output_type": "stream",
          "name": "stdout",
          "text": [
            "Evaluating Logistic Regression...\n"
          ]
        },
        {
          "output_type": "stream",
          "name": "stderr",
          "text": [
            "2025/06/02 01:50:39 INFO mlflow.tracking.fluent: Experiment with name 'word2vec-logistic-regression' does not exist. Creating a new experiment.\n",
            "Registered model 'logistic-regression' already exists. Creating a new version of this model...\n",
            "2025/06/02 01:50:48 INFO mlflow.store.model_registry.abstract_store: Waiting up to 300 seconds for model version to finish creation. Model name: logistic-regression, version 9\n",
            "Created version '9' of model 'logistic-regression'.\n",
            " 20%|██        | 1/5 [00:08<00:35,  8.87s/it]"
          ]
        },
        {
          "output_type": "stream",
          "name": "stdout",
          "text": [
            "🏃 View run gregarious-koi-747 at: https://mlflow.amadousy.dev/#/experiments/13/runs/d835cece0b994b65b241c7f196a170f5\n",
            "🧪 View experiment at: https://mlflow.amadousy.dev/#/experiments/13\n",
            "Evaluating Ridge Classifier...\n"
          ]
        },
        {
          "output_type": "stream",
          "name": "stderr",
          "text": [
            "2025/06/02 01:50:48 INFO mlflow.tracking.fluent: Experiment with name 'word2vec-ridge-classifier' does not exist. Creating a new experiment.\n",
            "Registered model 'ridge-classifier' already exists. Creating a new version of this model...\n",
            "2025/06/02 01:50:56 INFO mlflow.store.model_registry.abstract_store: Waiting up to 300 seconds for model version to finish creation. Model name: ridge-classifier, version 9\n",
            "Created version '9' of model 'ridge-classifier'.\n",
            " 40%|████      | 2/5 [00:16<00:24,  8.23s/it]"
          ]
        },
        {
          "output_type": "stream",
          "name": "stdout",
          "text": [
            "🏃 View run enchanting-moose-499 at: https://mlflow.amadousy.dev/#/experiments/14/runs/340cefb5230f4abb9c4aadc04bfe2beb\n",
            "🧪 View experiment at: https://mlflow.amadousy.dev/#/experiments/14\n",
            "Evaluating XGBoost...\n"
          ]
        },
        {
          "output_type": "stream",
          "name": "stderr",
          "text": [
            "2025/06/02 01:50:56 INFO mlflow.tracking.fluent: Experiment with name 'word2vec-xgboost' does not exist. Creating a new experiment.\n",
            "Registered model 'xgboost' already exists. Creating a new version of this model...\n",
            "2025/06/02 01:51:26 INFO mlflow.store.model_registry.abstract_store: Waiting up to 300 seconds for model version to finish creation. Model name: xgboost, version 9\n",
            "Created version '9' of model 'xgboost'.\n",
            " 60%|██████    | 3/5 [00:46<00:36, 18.22s/it]"
          ]
        },
        {
          "output_type": "stream",
          "name": "stdout",
          "text": [
            "🏃 View run glamorous-fowl-282 at: https://mlflow.amadousy.dev/#/experiments/15/runs/7f0bfbc75e3c4f5ca7e072cbdf33cb53\n",
            "🧪 View experiment at: https://mlflow.amadousy.dev/#/experiments/15\n",
            "Evaluating LightGBM...\n"
          ]
        },
        {
          "output_type": "stream",
          "name": "stderr",
          "text": [
            "2025/06/02 01:51:26 INFO mlflow.tracking.fluent: Experiment with name 'word2vec-lightgbm' does not exist. Creating a new experiment.\n",
            "Registered model 'lightgbm' already exists. Creating a new version of this model...\n",
            "2025/06/02 01:51:42 INFO mlflow.store.model_registry.abstract_store: Waiting up to 300 seconds for model version to finish creation. Model name: lightgbm, version 9\n",
            "Created version '9' of model 'lightgbm'.\n",
            " 80%|████████  | 4/5 [01:03<00:17, 17.55s/it]"
          ]
        },
        {
          "output_type": "stream",
          "name": "stdout",
          "text": [
            "🏃 View run bright-cod-36 at: https://mlflow.amadousy.dev/#/experiments/16/runs/2a1df642712c49428b97326a6b194408\n",
            "🧪 View experiment at: https://mlflow.amadousy.dev/#/experiments/16\n",
            "Evaluating Random Forest...\n"
          ]
        },
        {
          "output_type": "stream",
          "name": "stderr",
          "text": [
            "2025/06/02 01:51:43 INFO mlflow.tracking.fluent: Experiment with name 'word2vec-random-forest' does not exist. Creating a new experiment.\n"
          ]
        },
        {
          "output_type": "stream",
          "name": "stdout",
          "text": [
            "Erreur lors de l'enregistrement du modèle : 413 Client Error: Request Entity Too Large for url: https://mlflow.amadousy.dev/api/2.0/mlflow-artifacts/artifacts/17/400c310c4b834bd88d7f1872dcbbf4e5/artifacts/model-artifact/model.pkl. Response text: <html>\r\n",
            "<head><title>413 Request Entity Too Large</title></head>\r\n",
            "<body>\r\n",
            "<center><h1>413 Request Entity Too Large</h1></center>\r\n",
            "<hr><center>nginx/1.25.2</center>\r\n",
            "</body>\r\n",
            "</html>\r\n",
            "\n",
            "🏃 View run chill-calf-840 at: https://mlflow.amadousy.dev/#/experiments/17/runs/400c310c4b834bd88d7f1872dcbbf4e5\n",
            "🧪 View experiment at: https://mlflow.amadousy.dev/#/experiments/17\n"
          ]
        },
        {
          "output_type": "stream",
          "name": "stderr",
          "text": [
            "100%|██████████| 5/5 [02:46<00:00, 33.27s/it]"
          ]
        },
        {
          "output_type": "stream",
          "name": "stdout",
          "text": [
            "\n",
            "\n",
            "CPU times: user 5min 30s, sys: 9.41 s, total: 5min 40s\n",
            "Wall time: 2min 46s\n"
          ]
        },
        {
          "output_type": "stream",
          "name": "stderr",
          "text": [
            "\n"
          ]
        }
      ]
    },
    {
      "cell_type": "code",
      "source": [
        "w2v_results__df"
      ],
      "metadata": {
        "id": "b6paz8p0ZVpd",
        "colab": {
          "base_uri": "https://localhost:8080/",
          "height": 206
        },
        "outputId": "51b32919-5d4c-41bf-cebd-2e1e7e57b436"
      },
      "execution_count": null,
      "outputs": [
        {
          "output_type": "execute_result",
          "data": {
            "text/plain": [
              "                 Model  cv_score  val_score  precision  recall        f1  \\\n",
              "0  Logistic Regression  0.720500    0.72775   0.721224  0.7425  0.731707   \n",
              "1     Ridge Classifier  0.716833    0.72250   0.717285  0.7345  0.725791   \n",
              "3             LightGBM  0.711083    0.69725   0.699142  0.6925  0.695805   \n",
              "4        Random Forest  0.696667    0.69575   0.709920  0.6620  0.685123   \n",
              "2              XGBoost  0.697333    0.69375   0.698616  0.6815  0.689952   \n",
              "\n",
              "       auc      mse  train_time (s)  \n",
              "0  0.72775  0.27225        2.057436  \n",
              "1  0.72250  0.27750        1.065533  \n",
              "3  0.69725  0.30275        7.841490  \n",
              "4  0.69575  0.30425       95.504692  \n",
              "2  0.69375  0.30625       22.895117  "
            ],
            "text/html": [
              "\n",
              "  <div id=\"df-7df47512-557c-4064-b734-1229667b90b4\" class=\"colab-df-container\">\n",
              "    <div>\n",
              "<style scoped>\n",
              "    .dataframe tbody tr th:only-of-type {\n",
              "        vertical-align: middle;\n",
              "    }\n",
              "\n",
              "    .dataframe tbody tr th {\n",
              "        vertical-align: top;\n",
              "    }\n",
              "\n",
              "    .dataframe thead th {\n",
              "        text-align: right;\n",
              "    }\n",
              "</style>\n",
              "<table border=\"1\" class=\"dataframe\">\n",
              "  <thead>\n",
              "    <tr style=\"text-align: right;\">\n",
              "      <th></th>\n",
              "      <th>Model</th>\n",
              "      <th>cv_score</th>\n",
              "      <th>val_score</th>\n",
              "      <th>precision</th>\n",
              "      <th>recall</th>\n",
              "      <th>f1</th>\n",
              "      <th>auc</th>\n",
              "      <th>mse</th>\n",
              "      <th>train_time (s)</th>\n",
              "    </tr>\n",
              "  </thead>\n",
              "  <tbody>\n",
              "    <tr>\n",
              "      <th>0</th>\n",
              "      <td>Logistic Regression</td>\n",
              "      <td>0.720500</td>\n",
              "      <td>0.72775</td>\n",
              "      <td>0.721224</td>\n",
              "      <td>0.7425</td>\n",
              "      <td>0.731707</td>\n",
              "      <td>0.72775</td>\n",
              "      <td>0.27225</td>\n",
              "      <td>2.057436</td>\n",
              "    </tr>\n",
              "    <tr>\n",
              "      <th>1</th>\n",
              "      <td>Ridge Classifier</td>\n",
              "      <td>0.716833</td>\n",
              "      <td>0.72250</td>\n",
              "      <td>0.717285</td>\n",
              "      <td>0.7345</td>\n",
              "      <td>0.725791</td>\n",
              "      <td>0.72250</td>\n",
              "      <td>0.27750</td>\n",
              "      <td>1.065533</td>\n",
              "    </tr>\n",
              "    <tr>\n",
              "      <th>3</th>\n",
              "      <td>LightGBM</td>\n",
              "      <td>0.711083</td>\n",
              "      <td>0.69725</td>\n",
              "      <td>0.699142</td>\n",
              "      <td>0.6925</td>\n",
              "      <td>0.695805</td>\n",
              "      <td>0.69725</td>\n",
              "      <td>0.30275</td>\n",
              "      <td>7.841490</td>\n",
              "    </tr>\n",
              "    <tr>\n",
              "      <th>4</th>\n",
              "      <td>Random Forest</td>\n",
              "      <td>0.696667</td>\n",
              "      <td>0.69575</td>\n",
              "      <td>0.709920</td>\n",
              "      <td>0.6620</td>\n",
              "      <td>0.685123</td>\n",
              "      <td>0.69575</td>\n",
              "      <td>0.30425</td>\n",
              "      <td>95.504692</td>\n",
              "    </tr>\n",
              "    <tr>\n",
              "      <th>2</th>\n",
              "      <td>XGBoost</td>\n",
              "      <td>0.697333</td>\n",
              "      <td>0.69375</td>\n",
              "      <td>0.698616</td>\n",
              "      <td>0.6815</td>\n",
              "      <td>0.689952</td>\n",
              "      <td>0.69375</td>\n",
              "      <td>0.30625</td>\n",
              "      <td>22.895117</td>\n",
              "    </tr>\n",
              "  </tbody>\n",
              "</table>\n",
              "</div>\n",
              "    <div class=\"colab-df-buttons\">\n",
              "\n",
              "  <div class=\"colab-df-container\">\n",
              "    <button class=\"colab-df-convert\" onclick=\"convertToInteractive('df-7df47512-557c-4064-b734-1229667b90b4')\"\n",
              "            title=\"Convert this dataframe to an interactive table.\"\n",
              "            style=\"display:none;\">\n",
              "\n",
              "  <svg xmlns=\"http://www.w3.org/2000/svg\" height=\"24px\" viewBox=\"0 -960 960 960\">\n",
              "    <path d=\"M120-120v-720h720v720H120Zm60-500h600v-160H180v160Zm220 220h160v-160H400v160Zm0 220h160v-160H400v160ZM180-400h160v-160H180v160Zm440 0h160v-160H620v160ZM180-180h160v-160H180v160Zm440 0h160v-160H620v160Z\"/>\n",
              "  </svg>\n",
              "    </button>\n",
              "\n",
              "  <style>\n",
              "    .colab-df-container {\n",
              "      display:flex;\n",
              "      gap: 12px;\n",
              "    }\n",
              "\n",
              "    .colab-df-convert {\n",
              "      background-color: #E8F0FE;\n",
              "      border: none;\n",
              "      border-radius: 50%;\n",
              "      cursor: pointer;\n",
              "      display: none;\n",
              "      fill: #1967D2;\n",
              "      height: 32px;\n",
              "      padding: 0 0 0 0;\n",
              "      width: 32px;\n",
              "    }\n",
              "\n",
              "    .colab-df-convert:hover {\n",
              "      background-color: #E2EBFA;\n",
              "      box-shadow: 0px 1px 2px rgba(60, 64, 67, 0.3), 0px 1px 3px 1px rgba(60, 64, 67, 0.15);\n",
              "      fill: #174EA6;\n",
              "    }\n",
              "\n",
              "    .colab-df-buttons div {\n",
              "      margin-bottom: 4px;\n",
              "    }\n",
              "\n",
              "    [theme=dark] .colab-df-convert {\n",
              "      background-color: #3B4455;\n",
              "      fill: #D2E3FC;\n",
              "    }\n",
              "\n",
              "    [theme=dark] .colab-df-convert:hover {\n",
              "      background-color: #434B5C;\n",
              "      box-shadow: 0px 1px 3px 1px rgba(0, 0, 0, 0.15);\n",
              "      filter: drop-shadow(0px 1px 2px rgba(0, 0, 0, 0.3));\n",
              "      fill: #FFFFFF;\n",
              "    }\n",
              "  </style>\n",
              "\n",
              "    <script>\n",
              "      const buttonEl =\n",
              "        document.querySelector('#df-7df47512-557c-4064-b734-1229667b90b4 button.colab-df-convert');\n",
              "      buttonEl.style.display =\n",
              "        google.colab.kernel.accessAllowed ? 'block' : 'none';\n",
              "\n",
              "      async function convertToInteractive(key) {\n",
              "        const element = document.querySelector('#df-7df47512-557c-4064-b734-1229667b90b4');\n",
              "        const dataTable =\n",
              "          await google.colab.kernel.invokeFunction('convertToInteractive',\n",
              "                                                    [key], {});\n",
              "        if (!dataTable) return;\n",
              "\n",
              "        const docLinkHtml = 'Like what you see? Visit the ' +\n",
              "          '<a target=\"_blank\" href=https://colab.research.google.com/notebooks/data_table.ipynb>data table notebook</a>'\n",
              "          + ' to learn more about interactive tables.';\n",
              "        element.innerHTML = '';\n",
              "        dataTable['output_type'] = 'display_data';\n",
              "        await google.colab.output.renderOutput(dataTable, element);\n",
              "        const docLink = document.createElement('div');\n",
              "        docLink.innerHTML = docLinkHtml;\n",
              "        element.appendChild(docLink);\n",
              "      }\n",
              "    </script>\n",
              "  </div>\n",
              "\n",
              "\n",
              "    <div id=\"df-dbaa647c-3645-4946-abf3-ae4f5d179f2b\">\n",
              "      <button class=\"colab-df-quickchart\" onclick=\"quickchart('df-dbaa647c-3645-4946-abf3-ae4f5d179f2b')\"\n",
              "                title=\"Suggest charts\"\n",
              "                style=\"display:none;\">\n",
              "\n",
              "<svg xmlns=\"http://www.w3.org/2000/svg\" height=\"24px\"viewBox=\"0 0 24 24\"\n",
              "     width=\"24px\">\n",
              "    <g>\n",
              "        <path d=\"M19 3H5c-1.1 0-2 .9-2 2v14c0 1.1.9 2 2 2h14c1.1 0 2-.9 2-2V5c0-1.1-.9-2-2-2zM9 17H7v-7h2v7zm4 0h-2V7h2v10zm4 0h-2v-4h2v4z\"/>\n",
              "    </g>\n",
              "</svg>\n",
              "      </button>\n",
              "\n",
              "<style>\n",
              "  .colab-df-quickchart {\n",
              "      --bg-color: #E8F0FE;\n",
              "      --fill-color: #1967D2;\n",
              "      --hover-bg-color: #E2EBFA;\n",
              "      --hover-fill-color: #174EA6;\n",
              "      --disabled-fill-color: #AAA;\n",
              "      --disabled-bg-color: #DDD;\n",
              "  }\n",
              "\n",
              "  [theme=dark] .colab-df-quickchart {\n",
              "      --bg-color: #3B4455;\n",
              "      --fill-color: #D2E3FC;\n",
              "      --hover-bg-color: #434B5C;\n",
              "      --hover-fill-color: #FFFFFF;\n",
              "      --disabled-bg-color: #3B4455;\n",
              "      --disabled-fill-color: #666;\n",
              "  }\n",
              "\n",
              "  .colab-df-quickchart {\n",
              "    background-color: var(--bg-color);\n",
              "    border: none;\n",
              "    border-radius: 50%;\n",
              "    cursor: pointer;\n",
              "    display: none;\n",
              "    fill: var(--fill-color);\n",
              "    height: 32px;\n",
              "    padding: 0;\n",
              "    width: 32px;\n",
              "  }\n",
              "\n",
              "  .colab-df-quickchart:hover {\n",
              "    background-color: var(--hover-bg-color);\n",
              "    box-shadow: 0 1px 2px rgba(60, 64, 67, 0.3), 0 1px 3px 1px rgba(60, 64, 67, 0.15);\n",
              "    fill: var(--button-hover-fill-color);\n",
              "  }\n",
              "\n",
              "  .colab-df-quickchart-complete:disabled,\n",
              "  .colab-df-quickchart-complete:disabled:hover {\n",
              "    background-color: var(--disabled-bg-color);\n",
              "    fill: var(--disabled-fill-color);\n",
              "    box-shadow: none;\n",
              "  }\n",
              "\n",
              "  .colab-df-spinner {\n",
              "    border: 2px solid var(--fill-color);\n",
              "    border-color: transparent;\n",
              "    border-bottom-color: var(--fill-color);\n",
              "    animation:\n",
              "      spin 1s steps(1) infinite;\n",
              "  }\n",
              "\n",
              "  @keyframes spin {\n",
              "    0% {\n",
              "      border-color: transparent;\n",
              "      border-bottom-color: var(--fill-color);\n",
              "      border-left-color: var(--fill-color);\n",
              "    }\n",
              "    20% {\n",
              "      border-color: transparent;\n",
              "      border-left-color: var(--fill-color);\n",
              "      border-top-color: var(--fill-color);\n",
              "    }\n",
              "    30% {\n",
              "      border-color: transparent;\n",
              "      border-left-color: var(--fill-color);\n",
              "      border-top-color: var(--fill-color);\n",
              "      border-right-color: var(--fill-color);\n",
              "    }\n",
              "    40% {\n",
              "      border-color: transparent;\n",
              "      border-right-color: var(--fill-color);\n",
              "      border-top-color: var(--fill-color);\n",
              "    }\n",
              "    60% {\n",
              "      border-color: transparent;\n",
              "      border-right-color: var(--fill-color);\n",
              "    }\n",
              "    80% {\n",
              "      border-color: transparent;\n",
              "      border-right-color: var(--fill-color);\n",
              "      border-bottom-color: var(--fill-color);\n",
              "    }\n",
              "    90% {\n",
              "      border-color: transparent;\n",
              "      border-bottom-color: var(--fill-color);\n",
              "    }\n",
              "  }\n",
              "</style>\n",
              "\n",
              "      <script>\n",
              "        async function quickchart(key) {\n",
              "          const quickchartButtonEl =\n",
              "            document.querySelector('#' + key + ' button');\n",
              "          quickchartButtonEl.disabled = true;  // To prevent multiple clicks.\n",
              "          quickchartButtonEl.classList.add('colab-df-spinner');\n",
              "          try {\n",
              "            const charts = await google.colab.kernel.invokeFunction(\n",
              "                'suggestCharts', [key], {});\n",
              "          } catch (error) {\n",
              "            console.error('Error during call to suggestCharts:', error);\n",
              "          }\n",
              "          quickchartButtonEl.classList.remove('colab-df-spinner');\n",
              "          quickchartButtonEl.classList.add('colab-df-quickchart-complete');\n",
              "        }\n",
              "        (() => {\n",
              "          let quickchartButtonEl =\n",
              "            document.querySelector('#df-dbaa647c-3645-4946-abf3-ae4f5d179f2b button');\n",
              "          quickchartButtonEl.style.display =\n",
              "            google.colab.kernel.accessAllowed ? 'block' : 'none';\n",
              "        })();\n",
              "      </script>\n",
              "    </div>\n",
              "\n",
              "  <div id=\"id_312043f3-8e16-4e4e-867b-0db223757f3a\">\n",
              "    <style>\n",
              "      .colab-df-generate {\n",
              "        background-color: #E8F0FE;\n",
              "        border: none;\n",
              "        border-radius: 50%;\n",
              "        cursor: pointer;\n",
              "        display: none;\n",
              "        fill: #1967D2;\n",
              "        height: 32px;\n",
              "        padding: 0 0 0 0;\n",
              "        width: 32px;\n",
              "      }\n",
              "\n",
              "      .colab-df-generate:hover {\n",
              "        background-color: #E2EBFA;\n",
              "        box-shadow: 0px 1px 2px rgba(60, 64, 67, 0.3), 0px 1px 3px 1px rgba(60, 64, 67, 0.15);\n",
              "        fill: #174EA6;\n",
              "      }\n",
              "\n",
              "      [theme=dark] .colab-df-generate {\n",
              "        background-color: #3B4455;\n",
              "        fill: #D2E3FC;\n",
              "      }\n",
              "\n",
              "      [theme=dark] .colab-df-generate:hover {\n",
              "        background-color: #434B5C;\n",
              "        box-shadow: 0px 1px 3px 1px rgba(0, 0, 0, 0.15);\n",
              "        filter: drop-shadow(0px 1px 2px rgba(0, 0, 0, 0.3));\n",
              "        fill: #FFFFFF;\n",
              "      }\n",
              "    </style>\n",
              "    <button class=\"colab-df-generate\" onclick=\"generateWithVariable('w2v_results__df')\"\n",
              "            title=\"Generate code using this dataframe.\"\n",
              "            style=\"display:none;\">\n",
              "\n",
              "  <svg xmlns=\"http://www.w3.org/2000/svg\" height=\"24px\"viewBox=\"0 0 24 24\"\n",
              "       width=\"24px\">\n",
              "    <path d=\"M7,19H8.4L18.45,9,17,7.55,7,17.6ZM5,21V16.75L18.45,3.32a2,2,0,0,1,2.83,0l1.4,1.43a1.91,1.91,0,0,1,.58,1.4,1.91,1.91,0,0,1-.58,1.4L9.25,21ZM18.45,9,17,7.55Zm-12,3A5.31,5.31,0,0,0,4.9,8.1,5.31,5.31,0,0,0,1,6.5,5.31,5.31,0,0,0,4.9,4.9,5.31,5.31,0,0,0,6.5,1,5.31,5.31,0,0,0,8.1,4.9,5.31,5.31,0,0,0,12,6.5,5.46,5.46,0,0,0,6.5,12Z\"/>\n",
              "  </svg>\n",
              "    </button>\n",
              "    <script>\n",
              "      (() => {\n",
              "      const buttonEl =\n",
              "        document.querySelector('#id_312043f3-8e16-4e4e-867b-0db223757f3a button.colab-df-generate');\n",
              "      buttonEl.style.display =\n",
              "        google.colab.kernel.accessAllowed ? 'block' : 'none';\n",
              "\n",
              "      buttonEl.onclick = () => {\n",
              "        google.colab.notebook.generateWithVariable('w2v_results__df');\n",
              "      }\n",
              "      })();\n",
              "    </script>\n",
              "  </div>\n",
              "\n",
              "    </div>\n",
              "  </div>\n"
            ],
            "application/vnd.google.colaboratory.intrinsic+json": {
              "type": "dataframe",
              "variable_name": "w2v_results__df",
              "summary": "{\n  \"name\": \"w2v_results__df\",\n  \"rows\": 5,\n  \"fields\": [\n    {\n      \"column\": \"Model\",\n      \"properties\": {\n        \"dtype\": \"string\",\n        \"num_unique_values\": 5,\n        \"samples\": [\n          \"Ridge Classifier\",\n          \"XGBoost\",\n          \"LightGBM\"\n        ],\n        \"semantic_type\": \"\",\n        \"description\": \"\"\n      }\n    },\n    {\n      \"column\": \"cv_score\",\n      \"properties\": {\n        \"dtype\": \"number\",\n        \"std\": 0.011009528701185276,\n        \"min\": 0.6966666666666667,\n        \"max\": 0.7205,\n        \"num_unique_values\": 5,\n        \"samples\": [\n          0.7168333333333333,\n          0.6973333333333334,\n          0.7110833333333334\n        ],\n        \"semantic_type\": \"\",\n        \"description\": \"\"\n      }\n    },\n    {\n      \"column\": \"val_score\",\n      \"properties\": {\n        \"dtype\": \"number\",\n        \"std\": 0.016334013591276345,\n        \"min\": 0.69375,\n        \"max\": 0.72775,\n        \"num_unique_values\": 5,\n        \"samples\": [\n          0.7225,\n          0.69375,\n          0.69725\n        ],\n        \"semantic_type\": \"\",\n        \"description\": \"\"\n      }\n    },\n    {\n      \"column\": \"precision\",\n      \"properties\": {\n        \"dtype\": \"number\",\n        \"std\": 0.010291259840214955,\n        \"min\": 0.6986160943106099,\n        \"max\": 0.7212238950947062,\n        \"num_unique_values\": 5,\n        \"samples\": [\n          0.71728515625,\n          0.6986160943106099,\n          0.6991418475517416\n        ],\n        \"semantic_type\": \"\",\n        \"description\": \"\"\n      }\n    },\n    {\n      \"column\": \"recall\",\n      \"properties\": {\n        \"dtype\": \"number\",\n        \"std\": 0.034659774955991866,\n        \"min\": 0.662,\n        \"max\": 0.7425,\n        \"num_unique_values\": 5,\n        \"samples\": [\n          0.7345,\n          0.6815,\n          0.6925\n        ],\n        \"semantic_type\": \"\",\n        \"description\": \"\"\n      }\n    },\n    {\n      \"column\": \"f1\",\n      \"properties\": {\n        \"dtype\": \"number\",\n        \"std\": 0.02150194933108137,\n        \"min\": 0.6851228978007762,\n        \"max\": 0.7317073170731707,\n        \"num_unique_values\": 5,\n        \"samples\": [\n          0.7257905138339921,\n          0.6899519109086307,\n          0.6958050741019844\n        ],\n        \"semantic_type\": \"\",\n        \"description\": \"\"\n      }\n    },\n    {\n      \"column\": \"auc\",\n      \"properties\": {\n        \"dtype\": \"number\",\n        \"std\": 0.016334013591276425,\n        \"min\": 0.69375,\n        \"max\": 0.7277500000000001,\n        \"num_unique_values\": 5,\n        \"samples\": [\n          0.7225000000000001,\n          0.69375,\n          0.6972499999999999\n        ],\n        \"semantic_type\": \"\",\n        \"description\": \"\"\n      }\n    },\n    {\n      \"column\": \"mse\",\n      \"properties\": {\n        \"dtype\": \"number\",\n        \"std\": 0.016334013591276342,\n        \"min\": 0.27225,\n        \"max\": 0.30625,\n        \"num_unique_values\": 5,\n        \"samples\": [\n          0.2775,\n          0.30625,\n          0.30275\n        ],\n        \"semantic_type\": \"\",\n        \"description\": \"\"\n      }\n    },\n    {\n      \"column\": \"train_time (s)\",\n      \"properties\": {\n        \"dtype\": \"number\",\n        \"std\": 39.8909986155051,\n        \"min\": 1.0655333995819092,\n        \"max\": 95.50469160079956,\n        \"num_unique_values\": 5,\n        \"samples\": [\n          1.0655333995819092,\n          22.895116567611694,\n          7.841490030288696\n        ],\n        \"semantic_type\": \"\",\n        \"description\": \"\"\n      }\n    }\n  ]\n}"
            }
          },
          "metadata": {},
          "execution_count": 32
        }
      ]
    },
    {
      "cell_type": "code",
      "source": [
        "show_calibration_curve(models, X_test_w2v, y_test_w2v, exclude=[\"Ridge Classifier\"])"
      ],
      "metadata": {
        "id": "BzvEAr8AGGte",
        "colab": {
          "base_uri": "https://localhost:8080/",
          "height": 309
        },
        "outputId": "8663350d-2326-425b-9026-951d5a837ea2"
      },
      "execution_count": null,
      "outputs": [
        {
          "output_type": "display_data",
          "data": {
            "text/plain": [
              "<Figure size 1600x1000 with 1 Axes>"
            ],
            "image/png": "[encoded data removed]"
          },
          "metadata": {}
        }
      ]
    },
    {
      "cell_type": "markdown",
      "source": [
        "## | FastText"
      ],
      "metadata": {
        "id": "TJ8qN4p7XIm1"
      }
    },
    {
      "cell_type": "code",
      "source": [
        "%%time\n",
        "X_train_ft, X_valid_ft, X_test_ft, y_train_ft, y_valid_ft, y_test_ft = split_train_val_test(tweets_embeddings_fasttext, Y, sample_size=20000)"
      ],
      "metadata": {
        "id": "kCEq-SicZhMQ",
        "colab": {
          "base_uri": "https://localhost:8080/"
        },
        "outputId": "6f13c42d-d15a-4c6d-cf56-3f12bc24dee7"
      },
      "execution_count": null,
      "outputs": [
        {
          "output_type": "stream",
          "name": "stdout",
          "text": [
            "CPU times: user 1.48 s, sys: 1.72 s, total: 3.2 s\n",
            "Wall time: 42.7 s\n"
          ]
        }
      ]
    },
    {
      "cell_type": "code",
      "source": [
        "%%time\n",
        "ft_results_df = evaluate_models(X_train_ft, X_valid_ft, y_train_ft, y_valid_ft, cv=skf, source=\"fasttext\")"
      ],
      "metadata": {
        "id": "gUAslpRmZpmN",
        "colab": {
          "base_uri": "https://localhost:8080/"
        },
        "outputId": "35baa7ab-885a-4856-83af-1ac447aba485"
      },
      "execution_count": null,
      "outputs": [
        {
          "output_type": "stream",
          "name": "stderr",
          "text": [
            "\r  0%|          | 0/5 [00:00<?, ?it/s]"
          ]
        },
        {
          "output_type": "stream",
          "name": "stdout",
          "text": [
            "Evaluating Logistic Regression...\n"
          ]
        },
        {
          "output_type": "stream",
          "name": "stderr",
          "text": [
            "2025/06/02 01:54:11 INFO mlflow.tracking.fluent: Experiment with name 'fasttext-logistic-regression' does not exist. Creating a new experiment.\n",
            "Registered model 'logistic-regression' already exists. Creating a new version of this model...\n",
            "2025/06/02 01:54:20 INFO mlflow.store.model_registry.abstract_store: Waiting up to 300 seconds for model version to finish creation. Model name: logistic-regression, version 10\n",
            "Created version '10' of model 'logistic-regression'.\n",
            " 20%|██        | 1/5 [00:10<00:40, 10.08s/it]"
          ]
        },
        {
          "output_type": "stream",
          "name": "stdout",
          "text": [
            "🏃 View run awesome-mouse-979 at: https://mlflow.amadousy.dev/#/experiments/18/runs/550b60a072544f5790ad47e8dc68e75e\n",
            "🧪 View experiment at: https://mlflow.amadousy.dev/#/experiments/18\n",
            "Evaluating Ridge Classifier...\n"
          ]
        },
        {
          "output_type": "stream",
          "name": "stderr",
          "text": [
            "2025/06/02 01:54:21 INFO mlflow.tracking.fluent: Experiment with name 'fasttext-ridge-classifier' does not exist. Creating a new experiment.\n",
            "Registered model 'ridge-classifier' already exists. Creating a new version of this model...\n",
            "2025/06/02 01:54:28 INFO mlflow.store.model_registry.abstract_store: Waiting up to 300 seconds for model version to finish creation. Model name: ridge-classifier, version 10\n",
            "Created version '10' of model 'ridge-classifier'.\n",
            " 40%|████      | 2/5 [00:17<00:26,  8.68s/it]"
          ]
        },
        {
          "output_type": "stream",
          "name": "stdout",
          "text": [
            "🏃 View run gentle-smelt-259 at: https://mlflow.amadousy.dev/#/experiments/19/runs/e6d914ed3eb34f56bad4f1262ea4fd99\n",
            "🧪 View experiment at: https://mlflow.amadousy.dev/#/experiments/19\n",
            "Evaluating XGBoost...\n"
          ]
        },
        {
          "output_type": "stream",
          "name": "stderr",
          "text": [
            "2025/06/02 01:54:29 INFO mlflow.tracking.fluent: Experiment with name 'fasttext-xgboost' does not exist. Creating a new experiment.\n",
            "Registered model 'xgboost' already exists. Creating a new version of this model...\n",
            "2025/06/02 01:54:58 INFO mlflow.store.model_registry.abstract_store: Waiting up to 300 seconds for model version to finish creation. Model name: xgboost, version 10\n",
            "Created version '10' of model 'xgboost'.\n",
            " 60%|██████    | 3/5 [00:47<00:37, 18.51s/it]"
          ]
        },
        {
          "output_type": "stream",
          "name": "stdout",
          "text": [
            "🏃 View run resilient-rook-74 at: https://mlflow.amadousy.dev/#/experiments/20/runs/16577dbbee2f4030adfa226a7028f199\n",
            "🧪 View experiment at: https://mlflow.amadousy.dev/#/experiments/20\n",
            "Evaluating LightGBM...\n"
          ]
        },
        {
          "output_type": "stream",
          "name": "stderr",
          "text": [
            "2025/06/02 01:54:59 INFO mlflow.tracking.fluent: Experiment with name 'fasttext-lightgbm' does not exist. Creating a new experiment.\n",
            "Registered model 'lightgbm' already exists. Creating a new version of this model...\n",
            "2025/06/02 01:55:18 INFO mlflow.store.model_registry.abstract_store: Waiting up to 300 seconds for model version to finish creation. Model name: lightgbm, version 10\n",
            "Created version '10' of model 'lightgbm'.\n",
            " 80%|████████  | 4/5 [01:07<00:18, 18.90s/it]"
          ]
        },
        {
          "output_type": "stream",
          "name": "stdout",
          "text": [
            "🏃 View run wistful-donkey-993 at: https://mlflow.amadousy.dev/#/experiments/21/runs/22f890585dee4c93834b347a70f5a92b\n",
            "🧪 View experiment at: https://mlflow.amadousy.dev/#/experiments/21\n",
            "Evaluating Random Forest...\n"
          ]
        },
        {
          "output_type": "stream",
          "name": "stderr",
          "text": [
            "2025/06/02 01:55:18 INFO mlflow.tracking.fluent: Experiment with name 'fasttext-random-forest' does not exist. Creating a new experiment.\n"
          ]
        },
        {
          "output_type": "stream",
          "name": "stdout",
          "text": [
            "Erreur lors de l'enregistrement du modèle : 413 Client Error: Request Entity Too Large for url: https://mlflow.amadousy.dev/api/2.0/mlflow-artifacts/artifacts/22/57085ca4d5904741bcd623524946cffd/artifacts/model-artifact/model.pkl. Response text: <html>\r\n",
            "<head><title>413 Request Entity Too Large</title></head>\r\n",
            "<body>\r\n",
            "<center><h1>413 Request Entity Too Large</h1></center>\r\n",
            "<hr><center>nginx/1.25.2</center>\r\n",
            "</body>\r\n",
            "</html>\r\n",
            "\n",
            "🏃 View run welcoming-wolf-298 at: https://mlflow.amadousy.dev/#/experiments/22/runs/57085ca4d5904741bcd623524946cffd\n",
            "🧪 View experiment at: https://mlflow.amadousy.dev/#/experiments/22\n"
          ]
        },
        {
          "output_type": "stream",
          "name": "stderr",
          "text": [
            "100%|██████████| 5/5 [02:47<00:00, 33.45s/it]"
          ]
        },
        {
          "output_type": "stream",
          "name": "stdout",
          "text": [
            "\n",
            "\n",
            "CPU times: user 5min 56s, sys: 13.3 s, total: 6min 10s\n",
            "Wall time: 2min 47s\n"
          ]
        },
        {
          "output_type": "stream",
          "name": "stderr",
          "text": [
            "\n"
          ]
        }
      ]
    },
    {
      "cell_type": "code",
      "source": [
        "display(ft_results_df)"
      ],
      "metadata": {
        "id": "b8d0UMbOZt7J",
        "colab": {
          "base_uri": "https://localhost:8080/",
          "height": 206
        },
        "outputId": "1da54057-2a4d-4f82-f05c-b32df6f1ee28"
      },
      "execution_count": null,
      "outputs": [
        {
          "output_type": "display_data",
          "data": {
            "text/plain": [
              "                 Model  cv_score  val_score  precision  recall        f1  \\\n",
              "0  Logistic Regression  0.720000    0.72100   0.719900  0.7235  0.721696   \n",
              "1     Ridge Classifier  0.714500    0.72100   0.721000  0.7210  0.721000   \n",
              "2              XGBoost  0.696167    0.69600   0.695414  0.6975  0.696455   \n",
              "3             LightGBM  0.701167    0.69525   0.697521  0.6895  0.693488   \n",
              "4        Random Forest  0.689250    0.68500   0.702407  0.6420  0.670846   \n",
              "\n",
              "       auc      mse  train_time (s)  \n",
              "0  0.72100  0.27900        3.312191  \n",
              "1  0.72100  0.27900        0.964335  \n",
              "2  0.69600  0.30400       23.027949  \n",
              "3  0.69525  0.30475       11.071948  \n",
              "4  0.68500  0.31500       92.215282  "
            ],
            "text/html": [
              "\n",
              "  <div id=\"df-433df2d8-a435-4890-88d7-0c118a400f4a\" class=\"colab-df-container\">\n",
              "    <div>\n",
              "<style scoped>\n",
              "    .dataframe tbody tr th:only-of-type {\n",
              "        vertical-align: middle;\n",
              "    }\n",
              "\n",
              "    .dataframe tbody tr th {\n",
              "        vertical-align: top;\n",
              "    }\n",
              "\n",
              "    .dataframe thead th {\n",
              "        text-align: right;\n",
              "    }\n",
              "</style>\n",
              "<table border=\"1\" class=\"dataframe\">\n",
              "  <thead>\n",
              "    <tr style=\"text-align: right;\">\n",
              "      <th></th>\n",
              "      <th>Model</th>\n",
              "      <th>cv_score</th>\n",
              "      <th>val_score</th>\n",
              "      <th>precision</th>\n",
              "      <th>recall</th>\n",
              "      <th>f1</th>\n",
              "      <th>auc</th>\n",
              "      <th>mse</th>\n",
              "      <th>train_time (s)</th>\n",
              "    </tr>\n",
              "  </thead>\n",
              "  <tbody>\n",
              "    <tr>\n",
              "      <th>0</th>\n",
              "      <td>Logistic Regression</td>\n",
              "      <td>0.720000</td>\n",
              "      <td>0.72100</td>\n",
              "      <td>0.719900</td>\n",
              "      <td>0.7235</td>\n",
              "      <td>0.721696</td>\n",
              "      <td>0.72100</td>\n",
              "      <td>0.27900</td>\n",
              "      <td>3.312191</td>\n",
              "    </tr>\n",
              "    <tr>\n",
              "      <th>1</th>\n",
              "      <td>Ridge Classifier</td>\n",
              "      <td>0.714500</td>\n",
              "      <td>0.72100</td>\n",
              "      <td>0.721000</td>\n",
              "      <td>0.7210</td>\n",
              "      <td>0.721000</td>\n",
              "      <td>0.72100</td>\n",
              "      <td>0.27900</td>\n",
              "      <td>0.964335</td>\n",
              "    </tr>\n",
              "    <tr>\n",
              "      <th>2</th>\n",
              "      <td>XGBoost</td>\n",
              "      <td>0.696167</td>\n",
              "      <td>0.69600</td>\n",
              "      <td>0.695414</td>\n",
              "      <td>0.6975</td>\n",
              "      <td>0.696455</td>\n",
              "      <td>0.69600</td>\n",
              "      <td>0.30400</td>\n",
              "      <td>23.027949</td>\n",
              "    </tr>\n",
              "    <tr>\n",
              "      <th>3</th>\n",
              "      <td>LightGBM</td>\n",
              "      <td>0.701167</td>\n",
              "      <td>0.69525</td>\n",
              "      <td>0.697521</td>\n",
              "      <td>0.6895</td>\n",
              "      <td>0.693488</td>\n",
              "      <td>0.69525</td>\n",
              "      <td>0.30475</td>\n",
              "      <td>11.071948</td>\n",
              "    </tr>\n",
              "    <tr>\n",
              "      <th>4</th>\n",
              "      <td>Random Forest</td>\n",
              "      <td>0.689250</td>\n",
              "      <td>0.68500</td>\n",
              "      <td>0.702407</td>\n",
              "      <td>0.6420</td>\n",
              "      <td>0.670846</td>\n",
              "      <td>0.68500</td>\n",
              "      <td>0.31500</td>\n",
              "      <td>92.215282</td>\n",
              "    </tr>\n",
              "  </tbody>\n",
              "</table>\n",
              "</div>\n",
              "    <div class=\"colab-df-buttons\">\n",
              "\n",
              "  <div class=\"colab-df-container\">\n",
              "    <button class=\"colab-df-convert\" onclick=\"convertToInteractive('df-433df2d8-a435-4890-88d7-0c118a400f4a')\"\n",
              "            title=\"Convert this dataframe to an interactive table.\"\n",
              "            style=\"display:none;\">\n",
              "\n",
              "  <svg xmlns=\"http://www.w3.org/2000/svg\" height=\"24px\" viewBox=\"0 -960 960 960\">\n",
              "    <path d=\"M120-120v-720h720v720H120Zm60-500h600v-160H180v160Zm220 220h160v-160H400v160Zm0 220h160v-160H400v160ZM180-400h160v-160H180v160Zm440 0h160v-160H620v160ZM180-180h160v-160H180v160Zm440 0h160v-160H620v160Z\"/>\n",
              "  </svg>\n",
              "    </button>\n",
              "\n",
              "  <style>\n",
              "    .colab-df-container {\n",
              "      display:flex;\n",
              "      gap: 12px;\n",
              "    }\n",
              "\n",
              "    .colab-df-convert {\n",
              "      background-color: #E8F0FE;\n",
              "      border: none;\n",
              "      border-radius: 50%;\n",
              "      cursor: pointer;\n",
              "      display: none;\n",
              "      fill: #1967D2;\n",
              "      height: 32px;\n",
              "      padding: 0 0 0 0;\n",
              "      width: 32px;\n",
              "    }\n",
              "\n",
              "    .colab-df-convert:hover {\n",
              "      background-color: #E2EBFA;\n",
              "      box-shadow: 0px 1px 2px rgba(60, 64, 67, 0.3), 0px 1px 3px 1px rgba(60, 64, 67, 0.15);\n",
              "      fill: #174EA6;\n",
              "    }\n",
              "\n",
              "    .colab-df-buttons div {\n",
              "      margin-bottom: 4px;\n",
              "    }\n",
              "\n",
              "    [theme=dark] .colab-df-convert {\n",
              "      background-color: #3B4455;\n",
              "      fill: #D2E3FC;\n",
              "    }\n",
              "\n",
              "    [theme=dark] .colab-df-convert:hover {\n",
              "      background-color: #434B5C;\n",
              "      box-shadow: 0px 1px 3px 1px rgba(0, 0, 0, 0.15);\n",
              "      filter: drop-shadow(0px 1px 2px rgba(0, 0, 0, 0.3));\n",
              "      fill: #FFFFFF;\n",
              "    }\n",
              "  </style>\n",
              "\n",
              "    <script>\n",
              "      const buttonEl =\n",
              "        document.querySelector('#df-433df2d8-a435-4890-88d7-0c118a400f4a button.colab-df-convert');\n",
              "      buttonEl.style.display =\n",
              "        google.colab.kernel.accessAllowed ? 'block' : 'none';\n",
              "\n",
              "      async function convertToInteractive(key) {\n",
              "        const element = document.querySelector('#df-433df2d8-a435-4890-88d7-0c118a400f4a');\n",
              "        const dataTable =\n",
              "          await google.colab.kernel.invokeFunction('convertToInteractive',\n",
              "                                                    [key], {});\n",
              "        if (!dataTable) return;\n",
              "\n",
              "        const docLinkHtml = 'Like what you see? Visit the ' +\n",
              "          '<a target=\"_blank\" href=https://colab.research.google.com/notebooks/data_table.ipynb>data table notebook</a>'\n",
              "          + ' to learn more about interactive tables.';\n",
              "        element.innerHTML = '';\n",
              "        dataTable['output_type'] = 'display_data';\n",
              "        await google.colab.output.renderOutput(dataTable, element);\n",
              "        const docLink = document.createElement('div');\n",
              "        docLink.innerHTML = docLinkHtml;\n",
              "        element.appendChild(docLink);\n",
              "      }\n",
              "    </script>\n",
              "  </div>\n",
              "\n",
              "\n",
              "    <div id=\"df-bfa97ccc-20cb-43c5-98c3-af92082a6ab0\">\n",
              "      <button class=\"colab-df-quickchart\" onclick=\"quickchart('df-bfa97ccc-20cb-43c5-98c3-af92082a6ab0')\"\n",
              "                title=\"Suggest charts\"\n",
              "                style=\"display:none;\">\n",
              "\n",
              "<svg xmlns=\"http://www.w3.org/2000/svg\" height=\"24px\"viewBox=\"0 0 24 24\"\n",
              "     width=\"24px\">\n",
              "    <g>\n",
              "        <path d=\"M19 3H5c-1.1 0-2 .9-2 2v14c0 1.1.9 2 2 2h14c1.1 0 2-.9 2-2V5c0-1.1-.9-2-2-2zM9 17H7v-7h2v7zm4 0h-2V7h2v10zm4 0h-2v-4h2v4z\"/>\n",
              "    </g>\n",
              "</svg>\n",
              "      </button>\n",
              "\n",
              "<style>\n",
              "  .colab-df-quickchart {\n",
              "      --bg-color: #E8F0FE;\n",
              "      --fill-color: #1967D2;\n",
              "      --hover-bg-color: #E2EBFA;\n",
              "      --hover-fill-color: #174EA6;\n",
              "      --disabled-fill-color: #AAA;\n",
              "      --disabled-bg-color: #DDD;\n",
              "  }\n",
              "\n",
              "  [theme=dark] .colab-df-quickchart {\n",
              "      --bg-color: #3B4455;\n",
              "      --fill-color: #D2E3FC;\n",
              "      --hover-bg-color: #434B5C;\n",
              "      --hover-fill-color: #FFFFFF;\n",
              "      --disabled-bg-color: #3B4455;\n",
              "      --disabled-fill-color: #666;\n",
              "  }\n",
              "\n",
              "  .colab-df-quickchart {\n",
              "    background-color: var(--bg-color);\n",
              "    border: none;\n",
              "    border-radius: 50%;\n",
              "    cursor: pointer;\n",
              "    display: none;\n",
              "    fill: var(--fill-color);\n",
              "    height: 32px;\n",
              "    padding: 0;\n",
              "    width: 32px;\n",
              "  }\n",
              "\n",
              "  .colab-df-quickchart:hover {\n",
              "    background-color: var(--hover-bg-color);\n",
              "    box-shadow: 0 1px 2px rgba(60, 64, 67, 0.3), 0 1px 3px 1px rgba(60, 64, 67, 0.15);\n",
              "    fill: var(--button-hover-fill-color);\n",
              "  }\n",
              "\n",
              "  .colab-df-quickchart-complete:disabled,\n",
              "  .colab-df-quickchart-complete:disabled:hover {\n",
              "    background-color: var(--disabled-bg-color);\n",
              "    fill: var(--disabled-fill-color);\n",
              "    box-shadow: none;\n",
              "  }\n",
              "\n",
              "  .colab-df-spinner {\n",
              "    border: 2px solid var(--fill-color);\n",
              "    border-color: transparent;\n",
              "    border-bottom-color: var(--fill-color);\n",
              "    animation:\n",
              "      spin 1s steps(1) infinite;\n",
              "  }\n",
              "\n",
              "  @keyframes spin {\n",
              "    0% {\n",
              "      border-color: transparent;\n",
              "      border-bottom-color: var(--fill-color);\n",
              "      border-left-color: var(--fill-color);\n",
              "    }\n",
              "    20% {\n",
              "      border-color: transparent;\n",
              "      border-left-color: var(--fill-color);\n",
              "      border-top-color: var(--fill-color);\n",
              "    }\n",
              "    30% {\n",
              "      border-color: transparent;\n",
              "      border-left-color: var(--fill-color);\n",
              "      border-top-color: var(--fill-color);\n",
              "      border-right-color: var(--fill-color);\n",
              "    }\n",
              "    40% {\n",
              "      border-color: transparent;\n",
              "      border-right-color: var(--fill-color);\n",
              "      border-top-color: var(--fill-color);\n",
              "    }\n",
              "    60% {\n",
              "      border-color: transparent;\n",
              "      border-right-color: var(--fill-color);\n",
              "    }\n",
              "    80% {\n",
              "      border-color: transparent;\n",
              "      border-right-color: var(--fill-color);\n",
              "      border-bottom-color: var(--fill-color);\n",
              "    }\n",
              "    90% {\n",
              "      border-color: transparent;\n",
              "      border-bottom-color: var(--fill-color);\n",
              "    }\n",
              "  }\n",
              "</style>\n",
              "\n",
              "      <script>\n",
              "        async function quickchart(key) {\n",
              "          const quickchartButtonEl =\n",
              "            document.querySelector('#' + key + ' button');\n",
              "          quickchartButtonEl.disabled = true;  // To prevent multiple clicks.\n",
              "          quickchartButtonEl.classList.add('colab-df-spinner');\n",
              "          try {\n",
              "            const charts = await google.colab.kernel.invokeFunction(\n",
              "                'suggestCharts', [key], {});\n",
              "          } catch (error) {\n",
              "            console.error('Error during call to suggestCharts:', error);\n",
              "          }\n",
              "          quickchartButtonEl.classList.remove('colab-df-spinner');\n",
              "          quickchartButtonEl.classList.add('colab-df-quickchart-complete');\n",
              "        }\n",
              "        (() => {\n",
              "          let quickchartButtonEl =\n",
              "            document.querySelector('#df-bfa97ccc-20cb-43c5-98c3-af92082a6ab0 button');\n",
              "          quickchartButtonEl.style.display =\n",
              "            google.colab.kernel.accessAllowed ? 'block' : 'none';\n",
              "        })();\n",
              "      </script>\n",
              "    </div>\n",
              "\n",
              "  <div id=\"id_f67bf061-33f9-4704-be40-9658d2eeae4b\">\n",
              "    <style>\n",
              "      .colab-df-generate {\n",
              "        background-color: #E8F0FE;\n",
              "        border: none;\n",
              "        border-radius: 50%;\n",
              "        cursor: pointer;\n",
              "        display: none;\n",
              "        fill: #1967D2;\n",
              "        height: 32px;\n",
              "        padding: 0 0 0 0;\n",
              "        width: 32px;\n",
              "      }\n",
              "\n",
              "      .colab-df-generate:hover {\n",
              "        background-color: #E2EBFA;\n",
              "        box-shadow: 0px 1px 2px rgba(60, 64, 67, 0.3), 0px 1px 3px 1px rgba(60, 64, 67, 0.15);\n",
              "        fill: #174EA6;\n",
              "      }\n",
              "\n",
              "      [theme=dark] .colab-df-generate {\n",
              "        background-color: #3B4455;\n",
              "        fill: #D2E3FC;\n",
              "      }\n",
              "\n",
              "      [theme=dark] .colab-df-generate:hover {\n",
              "        background-color: #434B5C;\n",
              "        box-shadow: 0px 1px 3px 1px rgba(0, 0, 0, 0.15);\n",
              "        filter: drop-shadow(0px 1px 2px rgba(0, 0, 0, 0.3));\n",
              "        fill: #FFFFFF;\n",
              "      }\n",
              "    </style>\n",
              "    <button class=\"colab-df-generate\" onclick=\"generateWithVariable('ft_results_df')\"\n",
              "            title=\"Generate code using this dataframe.\"\n",
              "            style=\"display:none;\">\n",
              "\n",
              "  <svg xmlns=\"http://www.w3.org/2000/svg\" height=\"24px\"viewBox=\"0 0 24 24\"\n",
              "       width=\"24px\">\n",
              "    <path d=\"M7,19H8.4L18.45,9,17,7.55,7,17.6ZM5,21V16.75L18.45,3.32a2,2,0,0,1,2.83,0l1.4,1.43a1.91,1.91,0,0,1,.58,1.4,1.91,1.91,0,0,1-.58,1.4L9.25,21ZM18.45,9,17,7.55Zm-12,3A5.31,5.31,0,0,0,4.9,8.1,5.31,5.31,0,0,0,1,6.5,5.31,5.31,0,0,0,4.9,4.9,5.31,5.31,0,0,0,6.5,1,5.31,5.31,0,0,0,8.1,4.9,5.31,5.31,0,0,0,12,6.5,5.46,5.46,0,0,0,6.5,12Z\"/>\n",
              "  </svg>\n",
              "    </button>\n",
              "    <script>\n",
              "      (() => {\n",
              "      const buttonEl =\n",
              "        document.querySelector('#id_f67bf061-33f9-4704-be40-9658d2eeae4b button.colab-df-generate');\n",
              "      buttonEl.style.display =\n",
              "        google.colab.kernel.accessAllowed ? 'block' : 'none';\n",
              "\n",
              "      buttonEl.onclick = () => {\n",
              "        google.colab.notebook.generateWithVariable('ft_results_df');\n",
              "      }\n",
              "      })();\n",
              "    </script>\n",
              "  </div>\n",
              "\n",
              "    </div>\n",
              "  </div>\n"
            ],
            "application/vnd.google.colaboratory.intrinsic+json": {
              "type": "dataframe",
              "variable_name": "ft_results_df",
              "summary": "{\n  \"name\": \"ft_results_df\",\n  \"rows\": 5,\n  \"fields\": [\n    {\n      \"column\": \"Model\",\n      \"properties\": {\n        \"dtype\": \"string\",\n        \"num_unique_values\": 5,\n        \"samples\": [\n          \"Ridge Classifier\",\n          \"Random Forest\",\n          \"XGBoost\"\n        ],\n        \"semantic_type\": \"\",\n        \"description\": \"\"\n      }\n    },\n    {\n      \"column\": \"cv_score\",\n      \"properties\": {\n        \"dtype\": \"number\",\n        \"std\": 0.012776606226485493,\n        \"min\": 0.6892499999999999,\n        \"max\": 0.7200000000000001,\n        \"num_unique_values\": 5,\n        \"samples\": [\n          0.7144999999999999,\n          0.6892499999999999,\n          0.6961666666666666\n        ],\n        \"semantic_type\": \"\",\n        \"description\": \"\"\n      }\n    },\n    {\n      \"column\": \"val_score\",\n      \"properties\": {\n        \"dtype\": \"number\",\n        \"std\": 0.016423687162144773,\n        \"min\": 0.685,\n        \"max\": 0.721,\n        \"num_unique_values\": 4,\n        \"samples\": [\n          0.696,\n          0.685,\n          0.721\n        ],\n        \"semantic_type\": \"\",\n        \"description\": \"\"\n      }\n    },\n    {\n      \"column\": \"precision\",\n      \"properties\": {\n        \"dtype\": \"number\",\n        \"std\": 0.01232165348632538,\n        \"min\": 0.6954137587238285,\n        \"max\": 0.721,\n        \"num_unique_values\": 5,\n        \"samples\": [\n          0.721,\n          0.7024070021881839,\n          0.6954137587238285\n        ],\n        \"semantic_type\": \"\",\n        \"description\": \"\"\n      }\n    },\n    {\n      \"column\": \"recall\",\n      \"properties\": {\n        \"dtype\": \"number\",\n        \"std\": 0.032913902837554826,\n        \"min\": 0.642,\n        \"max\": 0.7235,\n        \"num_unique_values\": 5,\n        \"samples\": [\n          0.721,\n          0.642,\n          0.6975\n        ],\n        \"semantic_type\": \"\",\n        \"description\": \"\"\n      }\n    },\n    {\n      \"column\": \"f1\",\n      \"properties\": {\n        \"dtype\": \"number\",\n        \"std\": 0.0212966333592503,\n        \"min\": 0.670846394984326,\n        \"max\": 0.7216957605985037,\n        \"num_unique_values\": 5,\n        \"samples\": [\n          0.721,\n          0.670846394984326,\n          0.6964553170244633\n        ],\n        \"semantic_type\": \"\",\n        \"description\": \"\"\n      }\n    },\n    {\n      \"column\": \"auc\",\n      \"properties\": {\n        \"dtype\": \"number\",\n        \"std\": 0.016423687162144835,\n        \"min\": 0.685,\n        \"max\": 0.7210000000000001,\n        \"num_unique_values\": 4,\n        \"samples\": [\n          0.696,\n          0.685,\n          0.7210000000000001\n        ],\n        \"semantic_type\": \"\",\n        \"description\": \"\"\n      }\n    },\n    {\n      \"column\": \"mse\",\n      \"properties\": {\n        \"dtype\": \"number\",\n        \"std\": 0.01642368716214479,\n        \"min\": 0.279,\n        \"max\": 0.315,\n        \"num_unique_values\": 4,\n        \"samples\": [\n          0.304,\n          0.315,\n          0.279\n        ],\n        \"semantic_type\": \"\",\n        \"description\": \"\"\n      }\n    },\n    {\n      \"column\": \"train_time (s)\",\n      \"properties\": {\n        \"dtype\": \"number\",\n        \"std\": 37.93940750578173,\n        \"min\": 0.9643349647521973,\n        \"max\": 92.21528196334839,\n        \"num_unique_values\": 5,\n        \"samples\": [\n          0.9643349647521973,\n          92.21528196334839,\n          23.02794861793518\n        ],\n        \"semantic_type\": \"\",\n        \"description\": \"\"\n      }\n    }\n  ]\n}"
            }
          },
          "metadata": {}
        }
      ]
    },
    {
      "cell_type": "markdown",
      "source": [
        "## Comparaison des modèles"
      ],
      "metadata": {
        "id": "K5cgB6YI2eVw"
      }
    },
    {
      "cell_type": "code",
      "source": [
        "tfidf_results_df['Corpus'] = 'tfidf'\n",
        "w2v_results__df['Corpus'] = 'word2vec'\n",
        "ft_results_df['Corpus'] = 'fasttext'"
      ],
      "metadata": {
        "id": "1q4zgkV_6j0d"
      },
      "execution_count": null,
      "outputs": []
    },
    {
      "cell_type": "code",
      "source": [
        "res_all_df = pd.concat([tfidf_results_df, w2v_results__df, ft_results_df])\n",
        "res_all_df.rename(columns={\n",
        "    \"val_score\": \"Accuracy\",\n",
        "    \"f1\": \"F1-score\",\n",
        "    \"auc\": \"AUC\",\n",
        "    \"train_time (s)\": \"Train Time (s)\"\n",
        "}, inplace=True)"
      ],
      "metadata": {
        "id": "RrgjMtLU6qdJ"
      },
      "execution_count": null,
      "outputs": []
    },
    {
      "cell_type": "code",
      "source": [
        "fig = plt.figure(figsize=(14, 6))\n",
        "\n",
        "# F1-score\n",
        "ax = fig.add_subplot(131)\n",
        "sns.barplot(data=res_all_df, x=\"Model\", y=\"Accuracy\", hue=\"Corpus\")\n",
        "plt.title(\"Comparaison des Accuracy par modèle et corpus\")\n",
        "plt.xticks(rotation=45)\n",
        "plt.grid(axis=\"y\")\n",
        "plt.tight_layout()\n",
        "\n",
        "# AUC\n",
        "ax = fig.add_subplot(132)\n",
        "sns.barplot(data=res_all_df, x=\"Model\", y=\"AUC\", hue=\"Corpus\")\n",
        "plt.title(\"Comparaison des AUC par modèle et corpus\")\n",
        "plt.xticks(rotation=45)\n",
        "plt.grid(axis=\"y\")\n",
        "plt.tight_layout()\n",
        "\n",
        "# Train Time\n",
        "ax = fig.add_subplot(133)\n",
        "sns.barplot(data=res_all_df, x=\"Model\", y=\"Train Time (s)\", hue=\"Corpus\")\n",
        "plt.title(\"Temps d'entraînement par modèle et corpus\")\n",
        "plt.xticks(rotation=45)\n",
        "plt.yscale(\"log\")\n",
        "plt.grid(axis=\"y\")\n",
        "plt.tight_layout()\n",
        "\n",
        "plt.show()"
      ],
      "metadata": {
        "colab": {
          "base_uri": "https://localhost:8080/",
          "height": 606
        },
        "id": "32avJbgM69QM",
        "outputId": "e7c943cc-e544-40a1-84d6-d9cb67db1c7d"
      },
      "execution_count": null,
      "outputs": [
        {
          "output_type": "display_data",
          "data": {
            "text/plain": [
              "<Figure size 1400x600 with 3 Axes>"
            ],
            "image/png": "[encoded data removed]"
          },
          "metadata": {}
        }
      ]
    },
    {
      "cell_type": "code",
      "source": [
        "del tfidf_results_df\n",
        "del w2v_results__df\n",
        "del ft_results_df\n",
        "del X_test_tfidf\n",
        "del X_valid_tfidf\n",
        "del X_train_tfidf\n",
        "del y_valid_tfidf\n",
        "del y_train_tfidf\n",
        "del y_test_tfidf"
      ],
      "metadata": {
        "id": "EDsjBsf5sfmh"
      },
      "execution_count": null,
      "outputs": []
    },
    {
      "cell_type": "markdown",
      "source": [
        "**Conclusion**: Parmi l’ensemble des modèles testés sur les trois représentations textuelles, **Logistic Regression avec Word2Vec** obtient les meilleurs résultats en termes de F1-score et d’AUC.\n",
        "Il offre un excellent compromis entre performance et robustesse, tout en restant simple à entraîner.\n",
        "Nous le retenons donc comme **modèle de référence pour cette prémiére approche**.\n"
      ],
      "metadata": {
        "id": "sCWRoN9L-_2u"
      }
    },
    {
      "cell_type": "markdown",
      "source": [
        "## Optimisation du modéle 1: Logistic Regression + Word2vec"
      ],
      "metadata": {
        "id": "AM4nosiM_SM1"
      }
    },
    {
      "cell_type": "code",
      "source": [
        "!pip install optuna\n",
        "import optuna"
      ],
      "metadata": {
        "colab": {
          "base_uri": "https://localhost:8080/"
        },
        "id": "vad9Uib1A93n",
        "outputId": "64e4cf0e-5c2b-41fa-b5a6-a9a98956948f"
      },
      "execution_count": null,
      "outputs": [
        {
          "output_type": "stream",
          "name": "stdout",
          "text": [
            "Collecting optuna\n",
            "  Downloading optuna-4.3.0-py3-none-any.whl.metadata (17 kB)\n",
            "Requirement already satisfied: alembic>=1.5.0 in /usr/local/lib/python3.11/dist-packages (from optuna) (1.16.1)\n",
            "Collecting colorlog (from optuna)\n",
            "  Downloading colorlog-6.9.0-py3-none-any.whl.metadata (10 kB)\n",
            "Requirement already satisfied: numpy in /usr/local/lib/python3.11/dist-packages (from optuna) (1.26.4)\n",
            "Requirement already satisfied: packaging>=20.0 in /usr/local/lib/python3.11/dist-packages (from optuna) (24.2)\n",
            "Requirement already satisfied: sqlalchemy>=1.4.2 in /usr/local/lib/python3.11/dist-packages (from optuna) (2.0.41)\n",
            "Requirement already satisfied: tqdm in /usr/local/lib/python3.11/dist-packages (from optuna) (4.67.1)\n",
            "Requirement already satisfied: PyYAML in /usr/local/lib/python3.11/dist-packages (from optuna) (6.0.2)\n",
            "Requirement already satisfied: Mako in /usr/lib/python3/dist-packages (from alembic>=1.5.0->optuna) (1.1.3)\n",
            "Requirement already satisfied: typing-extensions>=4.12 in /usr/local/lib/python3.11/dist-packages (from alembic>=1.5.0->optuna) (4.13.2)\n",
            "Requirement already satisfied: greenlet>=1 in /usr/local/lib/python3.11/dist-packages (from sqlalchemy>=1.4.2->optuna) (3.2.2)\n",
            "Downloading optuna-4.3.0-py3-none-any.whl (386 kB)\n",
            "\u001b[2K   \u001b[90m━━━━━━━━━━━━━━━━━━━━━━━━━━━━━━━━━━━━━━━━\u001b[0m \u001b[32m386.6/386.6 kB\u001b[0m \u001b[31m7.5 MB/s\u001b[0m eta \u001b[36m0:00:00\u001b[0m\n",
            "\u001b[?25hDownloading colorlog-6.9.0-py3-none-any.whl (11 kB)\n",
            "Installing collected packages: colorlog, optuna\n",
            "Successfully installed colorlog-6.9.0 optuna-4.3.0\n"
          ]
        }
      ]
    },
    {
      "cell_type": "code",
      "source": [
        "def objective(trial):\n",
        "    # Hyperparamètres à optimiser\n",
        "    C = trial.suggest_loguniform('C', 1e-2, 1e2)\n",
        "    penalty = trial.suggest_categorical('penalty', ['l1', 'l2', 'elasticnet', None])\n",
        "    class_weight = trial.suggest_categorical('class_weight', [None, 'balanced'])\n",
        "    solver = trial.suggest_categorical('solver', ['liblinear', 'lbfgs', 'saga'])\n",
        "\n",
        "    # Only needed if penalty is elasticnet\n",
        "    l1_ratio = None\n",
        "    if penalty == 'elasticnet':\n",
        "        l1_ratio = trial.suggest_float('l1_ratio', 0.0, 0.5)\n",
        "\n",
        "    # Skip invalid combinations manually\n",
        "    invalid_combo = (\n",
        "        (penalty == 'l1' and solver not in ['liblinear', 'saga']) or\n",
        "        (penalty == 'elasticnet' and solver != 'saga') or\n",
        "        (penalty == 'none' and solver == 'liblinear')\n",
        "    )\n",
        "    # Skip invalid combinations manually\n",
        "    invalid_combo = (\n",
        "        (penalty == 'l1' and solver not in ['liblinear', 'saga']) or\n",
        "        (penalty == 'elasticnet' and solver != 'saga') or\n",
        "        (penalty == None and solver == 'liblinear')\n",
        "    )\n",
        "\n",
        "    if invalid_combo:\n",
        "        return 0.0\n",
        "\n",
        "    # Modèle\n",
        "    model = LogisticRegression(\n",
        "        C=C,\n",
        "        penalty=penalty,\n",
        "        class_weight=class_weight,\n",
        "        max_iter=1000,\n",
        "        solver=solver,\n",
        "        l1_ratio=l1_ratio,\n",
        "        random_state=42\n",
        "    )\n",
        "\n",
        "    # Cross-validation\n",
        "    cv = StratifiedKFold(n_splits=4, shuffle=True, random_state=42)\n",
        "    score = cross_val_score(model, X_train_w2v, y_train_w2v, cv=cv, scoring='accuracy', n_jobs=-1).mean()\n",
        "    return score"
      ],
      "metadata": {
        "id": "f04sbCZTBIwa"
      },
      "execution_count": null,
      "outputs": []
    },
    {
      "cell_type": "code",
      "source": [
        "%%time\n",
        "study = optuna.create_study(direction=\"maximize\")\n",
        "study.optimize(objective, n_trials=20, n_jobs=-1)"
      ],
      "metadata": {
        "colab": {
          "base_uri": "https://localhost:8080/"
        },
        "id": "FvHPodh4BP4-",
        "outputId": "c7b63448-c4ef-4b4d-e9f4-799a37bee797"
      },
      "execution_count": null,
      "outputs": [
        {
          "output_type": "stream",
          "name": "stderr",
          "text": [
            "[I 2025-06-02 01:59:12,547] A new study created in memory with name: no-name-d2485892-f90b-4490-802a-86aa397bbceb\n",
            "[I 2025-06-02 01:59:12,556] Trial 2 finished with value: 0.0 and parameters: {'C': 72.56555248759804, 'penalty': 'l1', 'class_weight': 'balanced', 'solver': 'lbfgs'}. Best is trial 2 with value: 0.0.\n",
            "[I 2025-06-02 01:59:14,859] Trial 4 finished with value: 0.7191666666666666 and parameters: {'C': 0.09767890714557707, 'penalty': 'l2', 'class_weight': 'balanced', 'solver': 'lbfgs'}. Best is trial 4 with value: 0.7191666666666666.\n",
            "[I 2025-06-02 01:59:18,654] Trial 8 finished with value: 0.7168333333333333 and parameters: {'C': 8.210391077336213, 'penalty': None, 'class_weight': None, 'solver': 'lbfgs'}. Best is trial 4 with value: 0.7191666666666666.\n",
            "[I 2025-06-02 01:59:19,503] Trial 7 finished with value: 0.7190833333333333 and parameters: {'C': 0.09685163434429525, 'penalty': 'l2', 'class_weight': 'balanced', 'solver': 'lbfgs'}. Best is trial 4 with value: 0.7191666666666666.\n",
            "[I 2025-06-02 01:59:20,092] Trial 1 finished with value: 0.7163333333333333 and parameters: {'C': 0.3322294684485853, 'penalty': None, 'class_weight': 'balanced', 'solver': 'lbfgs'}. Best is trial 4 with value: 0.7191666666666666.\n",
            "[I 2025-06-02 01:59:20,095] Trial 12 finished with value: 0.0 and parameters: {'C': 2.969294209258134, 'penalty': 'elasticnet', 'class_weight': 'balanced', 'solver': 'liblinear', 'l1_ratio': 0.45115214087305977}. Best is trial 4 with value: 0.7191666666666666.\n",
            "[I 2025-06-02 01:59:20,499] Trial 0 finished with value: 0.7041666666666666 and parameters: {'C': 0.023850478157716373, 'penalty': 'l1', 'class_weight': None, 'solver': 'liblinear'}. Best is trial 4 with value: 0.7191666666666666.\n",
            "[I 2025-06-02 01:59:20,502] Trial 14 finished with value: 0.0 and parameters: {'C': 1.4060184217932379, 'penalty': 'l1', 'class_weight': 'balanced', 'solver': 'lbfgs'}. Best is trial 4 with value: 0.7191666666666666.\n",
            "[I 2025-06-02 01:59:20,504] Trial 15 finished with value: 0.0 and parameters: {'C': 0.11707398761729101, 'penalty': 'l1', 'class_weight': None, 'solver': 'lbfgs'}. Best is trial 4 with value: 0.7191666666666666.\n",
            "[I 2025-06-02 01:59:20,587] Trial 3 finished with value: 0.71775 and parameters: {'C': 1.8902710799062705, 'penalty': 'l2', 'class_weight': None, 'solver': 'lbfgs'}. Best is trial 4 with value: 0.7191666666666666.\n",
            "[I 2025-06-02 01:59:48,654] Trial 5 finished with value: 0.7185833333333334 and parameters: {'C': 0.28664602218563534, 'penalty': 'l1', 'class_weight': None, 'solver': 'saga'}. Best is trial 4 with value: 0.7191666666666666.\n",
            "[I 2025-06-02 02:01:07,685] Trial 10 finished with value: 0.7183333333333334 and parameters: {'C': 1.4407107424892855, 'penalty': 'l2', 'class_weight': 'balanced', 'solver': 'liblinear'}. Best is trial 4 with value: 0.7191666666666666.\n",
            "[I 2025-06-02 02:01:09,816] Trial 11 finished with value: 0.7163333333333333 and parameters: {'C': 15.37042243071438, 'penalty': None, 'class_weight': 'balanced', 'solver': 'lbfgs'}. Best is trial 4 with value: 0.7191666666666666.\n",
            "[I 2025-06-02 02:01:12,042] Trial 6 finished with value: 0.7180000000000001 and parameters: {'C': 1.8189316556950426, 'penalty': 'l1', 'class_weight': None, 'solver': 'saga'}. Best is trial 4 with value: 0.7191666666666666.\n",
            "[I 2025-06-02 02:01:16,779] Trial 13 finished with value: 0.7111666666666666 and parameters: {'C': 0.033050412648542846, 'penalty': 'l1', 'class_weight': 'balanced', 'solver': 'saga'}. Best is trial 4 with value: 0.7191666666666666.\n",
            "[I 2025-06-02 02:01:22,008] Trial 16 finished with value: 0.7168333333333333 and parameters: {'C': 7.506234209122514, 'penalty': 'l2', 'class_weight': 'balanced', 'solver': 'liblinear'}. Best is trial 4 with value: 0.7191666666666666.\n",
            "[I 2025-06-02 02:01:24,095] Trial 17 finished with value: 0.7186666666666666 and parameters: {'C': 0.018529019346832837, 'penalty': 'l2', 'class_weight': 'balanced', 'solver': 'saga'}. Best is trial 4 with value: 0.7191666666666666.\n",
            "[I 2025-06-02 02:01:26,135] Trial 18 finished with value: 0.71825 and parameters: {'C': 0.010201890329108683, 'penalty': 'l2', 'class_weight': 'balanced', 'solver': 'saga'}. Best is trial 4 with value: 0.7191666666666666.\n",
            "[I 2025-06-02 02:01:28,802] Trial 19 finished with value: 0.7188333333333332 and parameters: {'C': 0.01793512567856433, 'penalty': 'l2', 'class_weight': 'balanced', 'solver': 'saga'}. Best is trial 4 with value: 0.7191666666666666.\n",
            "[I 2025-06-02 02:01:35,195] Trial 9 finished with value: 0.7166666666666667 and parameters: {'C': 8.814518055437912, 'penalty': 'l1', 'class_weight': None, 'solver': 'saga'}. Best is trial 4 with value: 0.7191666666666666.\n"
          ]
        },
        {
          "output_type": "stream",
          "name": "stdout",
          "text": [
            "CPU times: user 1.65 s, sys: 677 ms, total: 2.33 s\n",
            "Wall time: 2min 22s\n"
          ]
        }
      ]
    },
    {
      "cell_type": "code",
      "source": [
        "print(\"Best score (F1):\", study.best_value)\n",
        "print(\"Best params:\", study.best_params)"
      ],
      "metadata": {
        "colab": {
          "base_uri": "https://localhost:8080/"
        },
        "id": "8PGpv4HoHFBs",
        "outputId": "1edde74e-677b-41a3-9f3b-4f003011bea6"
      },
      "execution_count": null,
      "outputs": [
        {
          "output_type": "stream",
          "name": "stdout",
          "text": [
            "Best score (F1): 0.7191666666666666\n",
            "Best params: {'C': 0.09767890714557707, 'penalty': 'l2', 'class_weight': 'balanced', 'solver': 'lbfgs'}\n"
          ]
        }
      ]
    },
    {
      "cell_type": "code",
      "source": [
        "# La relation entre chaque hyperparamètre et la valeur de la fonction objectif.\n",
        "optuna.visualization.plot_slice(study)"
      ],
      "metadata": {
        "colab": {
          "base_uri": "https://localhost:8080/",
          "height": 562
        },
        "id": "tgy2AOIaHH76",
        "outputId": "87db3d1d-beb2-4296-c9ce-8fab7a9abfb3"
      },
      "execution_count": null,
      "outputs": [
        {
          "output_type": "display_data",
          "data": {
            "text/html": [
              "<html>\n",
              "<head><meta charset=\"utf-8\" /></head>\n",
              "<body>\n",
              "    <div>            <script src=\"https://cdnjs.cloudflare.com/ajax/libs/mathjax/2.7.5/MathJax.js?config=TeX-AMS-MML_SVG\"></script><script type=\"text/javascript\">if (window.MathJax && window.MathJax.Hub && window.MathJax.Hub.Config) {window.MathJax.Hub.Config({SVG: {font: \"STIX-Web\"}});}</script>                <script type=\"text/javascript\">window.PlotlyConfig = {MathJaxConfig: 'local'};</script>\n",
              "        <script charset=\"utf-8\" src=\"https://cdn.plot.ly/plotly-2.35.2.min.js\"></script>                <div id=\"cfe0fbe4-3d85-4265-a9ed-6475f9528cd1\" class=\"plotly-graph-div\" style=\"height:525px; width:1500px;\"></div>            <script type=\"text/javascript\">                                    window.PLOTLYENV=window.PLOTLYENV || {};                                    if (document.getElementById(\"cfe0fbe4-3d85-4265-a9ed-6475f9528cd1\")) {                    Plotly.newPlot(                        \"cfe0fbe4-3d85-4265-a9ed-6475f9528cd1\",                        [{\"marker\":{\"color\":[0,1,2,3,4,5,6,7,8,9,10,11,12,13,14,15,16,17,18,19],\"colorbar\":{\"title\":{\"text\":\"Trial\"},\"x\":1.0,\"xpad\":40},\"colorscale\":[[0.0,\"rgb(247,251,255)\"],[0.125,\"rgb(222,235,247)\"],[0.25,\"rgb(198,219,239)\"],[0.375,\"rgb(158,202,225)\"],[0.5,\"rgb(107,174,214)\"],[0.625,\"rgb(66,146,198)\"],[0.75,\"rgb(33,113,181)\"],[0.875,\"rgb(8,81,156)\"],[1.0,\"rgb(8,48,107)\"]],\"line\":{\"color\":\"Grey\",\"width\":0.5},\"showscale\":true},\"mode\":\"markers\",\"name\":\"Feasible Trial\",\"showlegend\":false,\"x\":[0.023850478157716373,0.3322294684485853,72.56555248759804,1.8902710799062705,0.09767890714557707,0.28664602218563534,1.8189316556950426,0.09685163434429525,8.210391077336213,8.814518055437912,1.4407107424892855,15.37042243071438,2.969294209258134,0.033050412648542846,1.4060184217932379,0.11707398761729101,7.506234209122514,0.018529019346832837,0.010201890329108683,0.01793512567856433],\"y\":[0.7041666666666666,0.7163333333333333,0.0,0.71775,0.7191666666666666,0.7185833333333334,0.7180000000000001,0.7190833333333333,0.7168333333333333,0.7166666666666667,0.7183333333333334,0.7163333333333333,0.0,0.7111666666666666,0.0,0.0,0.7168333333333333,0.7186666666666666,0.71825,0.7188333333333332],\"type\":\"scatter\",\"xaxis\":\"x\",\"yaxis\":\"y\"},{\"marker\":{\"color\":[0,1,2,3,4,5,6,7,8,9,10,11,12,13,14,15,16,17,18,19],\"colorbar\":{\"title\":{\"text\":\"Trial\"},\"x\":1.0,\"xpad\":40},\"colorscale\":[[0.0,\"rgb(247,251,255)\"],[0.125,\"rgb(222,235,247)\"],[0.25,\"rgb(198,219,239)\"],[0.375,\"rgb(158,202,225)\"],[0.5,\"rgb(107,174,214)\"],[0.625,\"rgb(66,146,198)\"],[0.75,\"rgb(33,113,181)\"],[0.875,\"rgb(8,81,156)\"],[1.0,\"rgb(8,48,107)\"]],\"line\":{\"color\":\"Grey\",\"width\":0.5},\"showscale\":false},\"mode\":\"markers\",\"name\":\"Feasible Trial\",\"showlegend\":false,\"x\":[null,\"balanced\",\"balanced\",null,\"balanced\",null,null,\"balanced\",null,null,\"balanced\",\"balanced\",\"balanced\",\"balanced\",\"balanced\",null,\"balanced\",\"balanced\",\"balanced\",\"balanced\"],\"y\":[0.7041666666666666,0.7163333333333333,0.0,0.71775,0.7191666666666666,0.7185833333333334,0.7180000000000001,0.7190833333333333,0.7168333333333333,0.7166666666666667,0.7183333333333334,0.7163333333333333,0.0,0.7111666666666666,0.0,0.0,0.7168333333333333,0.7186666666666666,0.71825,0.7188333333333332],\"type\":\"scatter\",\"xaxis\":\"x2\",\"yaxis\":\"y2\"},{\"marker\":{\"color\":[12],\"colorbar\":{\"title\":{\"text\":\"Trial\"},\"x\":1.0,\"xpad\":40},\"colorscale\":[[0.0,\"rgb(247,251,255)\"],[0.125,\"rgb(222,235,247)\"],[0.25,\"rgb(198,219,239)\"],[0.375,\"rgb(158,202,225)\"],[0.5,\"rgb(107,174,214)\"],[0.625,\"rgb(66,146,198)\"],[0.75,\"rgb(33,113,181)\"],[0.875,\"rgb(8,81,156)\"],[1.0,\"rgb(8,48,107)\"]],\"line\":{\"color\":\"Grey\",\"width\":0.5},\"showscale\":false},\"mode\":\"markers\",\"name\":\"Feasible Trial\",\"showlegend\":false,\"x\":[0.45115214087305977],\"y\":[0.0],\"type\":\"scatter\",\"xaxis\":\"x3\",\"yaxis\":\"y3\"},{\"marker\":{\"color\":[0,1,2,3,4,5,6,7,8,9,10,11,12,13,14,15,16,17,18,19],\"colorbar\":{\"title\":{\"text\":\"Trial\"},\"x\":1.0,\"xpad\":40},\"colorscale\":[[0.0,\"rgb(247,251,255)\"],[0.125,\"rgb(222,235,247)\"],[0.25,\"rgb(198,219,239)\"],[0.375,\"rgb(158,202,225)\"],[0.5,\"rgb(107,174,214)\"],[0.625,\"rgb(66,146,198)\"],[0.75,\"rgb(33,113,181)\"],[0.875,\"rgb(8,81,156)\"],[1.0,\"rgb(8,48,107)\"]],\"line\":{\"color\":\"Grey\",\"width\":0.5},\"showscale\":false},\"mode\":\"markers\",\"name\":\"Feasible Trial\",\"showlegend\":false,\"x\":[\"l1\",null,\"l1\",\"l2\",\"l2\",\"l1\",\"l1\",\"l2\",null,\"l1\",\"l2\",null,\"elasticnet\",\"l1\",\"l1\",\"l1\",\"l2\",\"l2\",\"l2\",\"l2\"],\"y\":[0.7041666666666666,0.7163333333333333,0.0,0.71775,0.7191666666666666,0.7185833333333334,0.7180000000000001,0.7190833333333333,0.7168333333333333,0.7166666666666667,0.7183333333333334,0.7163333333333333,0.0,0.7111666666666666,0.0,0.0,0.7168333333333333,0.7186666666666666,0.71825,0.7188333333333332],\"type\":\"scatter\",\"xaxis\":\"x4\",\"yaxis\":\"y4\"},{\"marker\":{\"color\":[0,1,2,3,4,5,6,7,8,9,10,11,12,13,14,15,16,17,18,19],\"colorbar\":{\"title\":{\"text\":\"Trial\"},\"x\":1.0,\"xpad\":40},\"colorscale\":[[0.0,\"rgb(247,251,255)\"],[0.125,\"rgb(222,235,247)\"],[0.25,\"rgb(198,219,239)\"],[0.375,\"rgb(158,202,225)\"],[0.5,\"rgb(107,174,214)\"],[0.625,\"rgb(66,146,198)\"],[0.75,\"rgb(33,113,181)\"],[0.875,\"rgb(8,81,156)\"],[1.0,\"rgb(8,48,107)\"]],\"line\":{\"color\":\"Grey\",\"width\":0.5},\"showscale\":false},\"mode\":\"markers\",\"name\":\"Feasible Trial\",\"showlegend\":false,\"x\":[\"liblinear\",\"lbfgs\",\"lbfgs\",\"lbfgs\",\"lbfgs\",\"saga\",\"saga\",\"lbfgs\",\"lbfgs\",\"saga\",\"liblinear\",\"lbfgs\",\"liblinear\",\"saga\",\"lbfgs\",\"lbfgs\",\"liblinear\",\"saga\",\"saga\",\"saga\"],\"y\":[0.7041666666666666,0.7163333333333333,0.0,0.71775,0.7191666666666666,0.7185833333333334,0.7180000000000001,0.7190833333333333,0.7168333333333333,0.7166666666666667,0.7183333333333334,0.7163333333333333,0.0,0.7111666666666666,0.0,0.0,0.7168333333333333,0.7186666666666666,0.71825,0.7188333333333332],\"type\":\"scatter\",\"xaxis\":\"x5\",\"yaxis\":\"y5\"}],                        {\"template\":{\"data\":{\"histogram2dcontour\":[{\"type\":\"histogram2dcontour\",\"colorbar\":{\"outlinewidth\":0,\"ticks\":\"\"},\"colorscale\":[[0.0,\"#0d0887\"],[0.1111111111111111,\"#46039f\"],[0.2222222222222222,\"#7201a8\"],[0.3333333333333333,\"#9c179e\"],[0.4444444444444444,\"#bd3786\"],[0.5555555555555556,\"#d8576b\"],[0.6666666666666666,\"#ed7953\"],[0.7777777777777778,\"#fb9f3a\"],[0.8888888888888888,\"#fdca26\"],[1.0,\"#f0f921\"]]}],\"choropleth\":[{\"type\":\"choropleth\",\"colorbar\":{\"outlinewidth\":0,\"ticks\":\"\"}}],\"histogram2d\":[{\"type\":\"histogram2d\",\"colorbar\":{\"outlinewidth\":0,\"ticks\":\"\"},\"colorscale\":[[0.0,\"#0d0887\"],[0.1111111111111111,\"#46039f\"],[0.2222222222222222,\"#7201a8\"],[0.3333333333333333,\"#9c179e\"],[0.4444444444444444,\"#bd3786\"],[0.5555555555555556,\"#d8576b\"],[0.6666666666666666,\"#ed7953\"],[0.7777777777777778,\"#fb9f3a\"],[0.8888888888888888,\"#fdca26\"],[1.0,\"#f0f921\"]]}],\"heatmap\":[{\"type\":\"heatmap\",\"colorbar\":{\"outlinewidth\":0,\"ticks\":\"\"},\"colorscale\":[[0.0,\"#0d0887\"],[0.1111111111111111,\"#46039f\"],[0.2222222222222222,\"#7201a8\"],[0.3333333333333333,\"#9c179e\"],[0.4444444444444444,\"#bd3786\"],[0.5555555555555556,\"#d8576b\"],[0.6666666666666666,\"#ed7953\"],[0.7777777777777778,\"#fb9f3a\"],[0.8888888888888888,\"#fdca26\"],[1.0,\"#f0f921\"]]}],\"heatmapgl\":[{\"type\":\"heatmapgl\",\"colorbar\":{\"outlinewidth\":0,\"ticks\":\"\"},\"colorscale\":[[0.0,\"#0d0887\"],[0.1111111111111111,\"#46039f\"],[0.2222222222222222,\"#7201a8\"],[0.3333333333333333,\"#9c179e\"],[0.4444444444444444,\"#bd3786\"],[0.5555555555555556,\"#d8576b\"],[0.6666666666666666,\"#ed7953\"],[0.7777777777777778,\"#fb9f3a\"],[0.8888888888888888,\"#fdca26\"],[1.0,\"#f0f921\"]]}],\"contourcarpet\":[{\"type\":\"contourcarpet\",\"colorbar\":{\"outlinewidth\":0,\"ticks\":\"\"}}],\"contour\":[{\"type\":\"contour\",\"colorbar\":{\"outlinewidth\":0,\"ticks\":\"\"},\"colorscale\":[[0.0,\"#0d0887\"],[0.1111111111111111,\"#46039f\"],[0.2222222222222222,\"#7201a8\"],[0.3333333333333333,\"#9c179e\"],[0.4444444444444444,\"#bd3786\"],[0.5555555555555556,\"#d8576b\"],[0.6666666666666666,\"#ed7953\"],[0.7777777777777778,\"#fb9f3a\"],[0.8888888888888888,\"#fdca26\"],[1.0,\"#f0f921\"]]}],\"surface\":[{\"type\":\"surface\",\"colorbar\":{\"outlinewidth\":0,\"ticks\":\"\"},\"colorscale\":[[0.0,\"#0d0887\"],[0.1111111111111111,\"#46039f\"],[0.2222222222222222,\"#7201a8\"],[0.3333333333333333,\"#9c179e\"],[0.4444444444444444,\"#bd3786\"],[0.5555555555555556,\"#d8576b\"],[0.6666666666666666,\"#ed7953\"],[0.7777777777777778,\"#fb9f3a\"],[0.8888888888888888,\"#fdca26\"],[1.0,\"#f0f921\"]]}],\"mesh3d\":[{\"type\":\"mesh3d\",\"colorbar\":{\"outlinewidth\":0,\"ticks\":\"\"}}],\"scatter\":[{\"fillpattern\":{\"fillmode\":\"overlay\",\"size\":10,\"solidity\":0.2},\"type\":\"scatter\"}],\"parcoords\":[{\"type\":\"parcoords\",\"line\":{\"colorbar\":{\"outlinewidth\":0,\"ticks\":\"\"}}}],\"scatterpolargl\":[{\"type\":\"scatterpolargl\",\"marker\":{\"colorbar\":{\"outlinewidth\":0,\"ticks\":\"\"}}}],\"bar\":[{\"error_x\":{\"color\":\"#2a3f5f\"},\"error_y\":{\"color\":\"#2a3f5f\"},\"marker\":{\"line\":{\"color\":\"#E5ECF6\",\"width\":0.5},\"pattern\":{\"fillmode\":\"overlay\",\"size\":10,\"solidity\":0.2}},\"type\":\"bar\"}],\"scattergeo\":[{\"type\":\"scattergeo\",\"marker\":{\"colorbar\":{\"outlinewidth\":0,\"ticks\":\"\"}}}],\"scatterpolar\":[{\"type\":\"scatterpolar\",\"marker\":{\"colorbar\":{\"outlinewidth\":0,\"ticks\":\"\"}}}],\"histogram\":[{\"marker\":{\"pattern\":{\"fillmode\":\"overlay\",\"size\":10,\"solidity\":0.2}},\"type\":\"histogram\"}],\"scattergl\":[{\"type\":\"scattergl\",\"marker\":{\"colorbar\":{\"outlinewidth\":0,\"ticks\":\"\"}}}],\"scatter3d\":[{\"type\":\"scatter3d\",\"line\":{\"colorbar\":{\"outlinewidth\":0,\"ticks\":\"\"}},\"marker\":{\"colorbar\":{\"outlinewidth\":0,\"ticks\":\"\"}}}],\"scattermapbox\":[{\"type\":\"scattermapbox\",\"marker\":{\"colorbar\":{\"outlinewidth\":0,\"ticks\":\"\"}}}],\"scatterternary\":[{\"type\":\"scatterternary\",\"marker\":{\"colorbar\":{\"outlinewidth\":0,\"ticks\":\"\"}}}],\"scattercarpet\":[{\"type\":\"scattercarpet\",\"marker\":{\"colorbar\":{\"outlinewidth\":0,\"ticks\":\"\"}}}],\"carpet\":[{\"aaxis\":{\"endlinecolor\":\"#2a3f5f\",\"gridcolor\":\"white\",\"linecolor\":\"white\",\"minorgridcolor\":\"white\",\"startlinecolor\":\"#2a3f5f\"},\"baxis\":{\"endlinecolor\":\"#2a3f5f\",\"gridcolor\":\"white\",\"linecolor\":\"white\",\"minorgridcolor\":\"white\",\"startlinecolor\":\"#2a3f5f\"},\"type\":\"carpet\"}],\"table\":[{\"cells\":{\"fill\":{\"color\":\"#EBF0F8\"},\"line\":{\"color\":\"white\"}},\"header\":{\"fill\":{\"color\":\"#C8D4E3\"},\"line\":{\"color\":\"white\"}},\"type\":\"table\"}],\"barpolar\":[{\"marker\":{\"line\":{\"color\":\"#E5ECF6\",\"width\":0.5},\"pattern\":{\"fillmode\":\"overlay\",\"size\":10,\"solidity\":0.2}},\"type\":\"barpolar\"}],\"pie\":[{\"automargin\":true,\"type\":\"pie\"}]},\"layout\":{\"autotypenumbers\":\"strict\",\"colorway\":[\"#636efa\",\"#EF553B\",\"#00cc96\",\"#ab63fa\",\"#FFA15A\",\"#19d3f3\",\"#FF6692\",\"#B6E880\",\"#FF97FF\",\"#FECB52\"],\"font\":{\"color\":\"#2a3f5f\"},\"hovermode\":\"closest\",\"hoverlabel\":{\"align\":\"left\"},\"paper_bgcolor\":\"white\",\"plot_bgcolor\":\"#E5ECF6\",\"polar\":{\"bgcolor\":\"#E5ECF6\",\"angularaxis\":{\"gridcolor\":\"white\",\"linecolor\":\"white\",\"ticks\":\"\"},\"radialaxis\":{\"gridcolor\":\"white\",\"linecolor\":\"white\",\"ticks\":\"\"}},\"ternary\":{\"bgcolor\":\"#E5ECF6\",\"aaxis\":{\"gridcolor\":\"white\",\"linecolor\":\"white\",\"ticks\":\"\"},\"baxis\":{\"gridcolor\":\"white\",\"linecolor\":\"white\",\"ticks\":\"\"},\"caxis\":{\"gridcolor\":\"white\",\"linecolor\":\"white\",\"ticks\":\"\"}},\"coloraxis\":{\"colorbar\":{\"outlinewidth\":0,\"ticks\":\"\"}},\"colorscale\":{\"sequential\":[[0.0,\"#0d0887\"],[0.1111111111111111,\"#46039f\"],[0.2222222222222222,\"#7201a8\"],[0.3333333333333333,\"#9c179e\"],[0.4444444444444444,\"#bd3786\"],[0.5555555555555556,\"#d8576b\"],[0.6666666666666666,\"#ed7953\"],[0.7777777777777778,\"#fb9f3a\"],[0.8888888888888888,\"#fdca26\"],[1.0,\"#f0f921\"]],\"sequentialminus\":[[0.0,\"#0d0887\"],[0.1111111111111111,\"#46039f\"],[0.2222222222222222,\"#7201a8\"],[0.3333333333333333,\"#9c179e\"],[0.4444444444444444,\"#bd3786\"],[0.5555555555555556,\"#d8576b\"],[0.6666666666666666,\"#ed7953\"],[0.7777777777777778,\"#fb9f3a\"],[0.8888888888888888,\"#fdca26\"],[1.0,\"#f0f921\"]],\"diverging\":[[0,\"#8e0152\"],[0.1,\"#c51b7d\"],[0.2,\"#de77ae\"],[0.3,\"#f1b6da\"],[0.4,\"#fde0ef\"],[0.5,\"#f7f7f7\"],[0.6,\"#e6f5d0\"],[0.7,\"#b8e186\"],[0.8,\"#7fbc41\"],[0.9,\"#4d9221\"],[1,\"#276419\"]]},\"xaxis\":{\"gridcolor\":\"white\",\"linecolor\":\"white\",\"ticks\":\"\",\"title\":{\"standoff\":15},\"zerolinecolor\":\"white\",\"automargin\":true,\"zerolinewidth\":2},\"yaxis\":{\"gridcolor\":\"white\",\"linecolor\":\"white\",\"ticks\":\"\",\"title\":{\"standoff\":15},\"zerolinecolor\":\"white\",\"automargin\":true,\"zerolinewidth\":2},\"scene\":{\"xaxis\":{\"backgroundcolor\":\"#E5ECF6\",\"gridcolor\":\"white\",\"linecolor\":\"white\",\"showbackground\":true,\"ticks\":\"\",\"zerolinecolor\":\"white\",\"gridwidth\":2},\"yaxis\":{\"backgroundcolor\":\"#E5ECF6\",\"gridcolor\":\"white\",\"linecolor\":\"white\",\"showbackground\":true,\"ticks\":\"\",\"zerolinecolor\":\"white\",\"gridwidth\":2},\"zaxis\":{\"backgroundcolor\":\"#E5ECF6\",\"gridcolor\":\"white\",\"linecolor\":\"white\",\"showbackground\":true,\"ticks\":\"\",\"zerolinecolor\":\"white\",\"gridwidth\":2}},\"shapedefaults\":{\"line\":{\"color\":\"#2a3f5f\"}},\"annotationdefaults\":{\"arrowcolor\":\"#2a3f5f\",\"arrowhead\":0,\"arrowwidth\":1},\"geo\":{\"bgcolor\":\"white\",\"landcolor\":\"#E5ECF6\",\"subunitcolor\":\"white\",\"showland\":true,\"showlakes\":true,\"lakecolor\":\"white\"},\"title\":{\"x\":0.05},\"mapbox\":{\"style\":\"light\"}}},\"xaxis\":{\"anchor\":\"y\",\"domain\":[0.0,0.16799999999999998],\"title\":{\"text\":\"C\"},\"type\":\"log\"},\"yaxis\":{\"anchor\":\"x\",\"domain\":[0.0,1.0],\"title\":{\"text\":\"Objective Value\"}},\"xaxis2\":{\"anchor\":\"y2\",\"domain\":[0.208,0.376],\"title\":{\"text\":\"class_weight\"},\"type\":\"category\",\"categoryorder\":\"array\",\"categoryarray\":[null,\"balanced\"]},\"yaxis2\":{\"anchor\":\"x2\",\"domain\":[0.0,1.0],\"matches\":\"y\",\"showticklabels\":false},\"xaxis3\":{\"anchor\":\"y3\",\"domain\":[0.416,0.584],\"title\":{\"text\":\"l1_ratio\"}},\"yaxis3\":{\"anchor\":\"x3\",\"domain\":[0.0,1.0],\"matches\":\"y\",\"showticklabels\":false},\"xaxis4\":{\"anchor\":\"y4\",\"domain\":[0.624,0.792],\"title\":{\"text\":\"penalty\"},\"type\":\"category\",\"categoryorder\":\"array\",\"categoryarray\":[\"l1\",\"l2\",\"elasticnet\",null]},\"yaxis4\":{\"anchor\":\"x4\",\"domain\":[0.0,1.0],\"matches\":\"y\",\"showticklabels\":false},\"xaxis5\":{\"anchor\":\"y5\",\"domain\":[0.832,1.0],\"title\":{\"text\":\"solver\"},\"type\":\"category\",\"categoryorder\":\"array\",\"categoryarray\":[\"liblinear\",\"lbfgs\",\"saga\"]},\"yaxis5\":{\"anchor\":\"x5\",\"domain\":[0.0,1.0],\"matches\":\"y\",\"showticklabels\":false},\"title\":{\"text\":\"Slice Plot\"},\"width\":1500},                        {\"responsive\": true}                    ).then(function(){\n",
              "                            \n",
              "var gd = document.getElementById('cfe0fbe4-3d85-4265-a9ed-6475f9528cd1');\n",
              "var x = new MutationObserver(function (mutations, observer) {{\n",
              "        var display = window.getComputedStyle(gd).display;\n",
              "        if (!display || display === 'none') {{\n",
              "            console.log([gd, 'removed!']);\n",
              "            Plotly.purge(gd);\n",
              "            observer.disconnect();\n",
              "        }}\n",
              "}});\n",
              "\n",
              "// Listen for the removal of the full notebook cells\n",
              "var notebookContainer = gd.closest('#notebook-container');\n",
              "if (notebookContainer) {{\n",
              "    x.observe(notebookContainer, {childList: true});\n",
              "}}\n",
              "\n",
              "// Listen for the clearing of the current output cell\n",
              "var outputEl = gd.closest('.output');\n",
              "if (outputEl) {{\n",
              "    x.observe(outputEl, {childList: true});\n",
              "}}\n",
              "\n",
              "                        })                };                            </script>        </div>\n",
              "</body>\n",
              "</html>"
            ]
          },
          "metadata": {}
        }
      ]
    },
    {
      "cell_type": "code",
      "source": [
        "mlflow.set_experiment(\"word2vec-logistic-regression-with-optimized-hyperparameters\")\n",
        "with mlflow.start_run():\n",
        "  from sklearn.metrics import classification_report\n",
        "\n",
        "  lr_model = LogisticRegression(**study.best_params, max_iter=1000)\n",
        "  lr_model.fit(X_train_w2v, y_train_w2v)\n",
        "\n",
        "  signature = infer_signature(X_train_w2v, y_train_w2v)\n",
        "\n",
        "  # prédiction\n",
        "  y_pred = lr_model.predict(X_valid_w2v)\n",
        "\n",
        "  accuracy = accuracy_score(y_valid_w2v, y_pred)\n",
        "  loss = mean_squared_error(y_valid_w2v, y_pred)\n",
        "  precision = precision_score(y_valid_w2v, y_pred)\n",
        "  recall = recall_score(y_valid_w2v, y_pred)\n",
        "  f1 = f1_score(y_valid_w2v, y_pred)\n",
        "  auc = roc_auc_score(y_valid_w2v, y_pred)\n",
        "\n",
        "  mlflow.log_params(study.best_params)\n",
        "  mlflow.log_metric(\"accuracy\", accuracy)\n",
        "  mlflow.log_metric(\"loss\", loss)\n",
        "  mlflow.log_metric(\"precision\", precision)\n",
        "  mlflow.log_metric(\"recall\", recall)\n",
        "  mlflow.log_metric(\"f1\", f1)\n",
        "  mlflow.log_metric(\"auc\", auc)\n",
        "  mlflow.sklearn.log_model(\n",
        "      sk_model=lr_model,\n",
        "      artifact_path=\"model-artifact\",\n",
        "      signature=signature,\n",
        "      input_example=X_train_w2v[:10],\n",
        "      registered_model_name=\"w2vec_lr_opt_hyp\"\n",
        "  )\n",
        "\n",
        "\n",
        "\n",
        "  # évaluation\n",
        "  print(\"Accuracy:\", accuracy)\n",
        "  print(\"MSE:\", loss)\n",
        "  print(classification_report(y_valid_w2v, y_pred))"
      ],
      "metadata": {
        "colab": {
          "base_uri": "https://localhost:8080/"
        },
        "id": "VCBOEQYi_sXP",
        "outputId": "e87a6be6-2a82-4ba2-e39f-8daeee1c3d04"
      },
      "execution_count": null,
      "outputs": [
        {
          "output_type": "stream",
          "name": "stderr",
          "text": [
            "Successfully registered model 'w2vec_lr_opt_hyp'.\n",
            "2025/06/02 02:07:50 INFO mlflow.store.model_registry.abstract_store: Waiting up to 300 seconds for model version to finish creation. Model name: w2vec_lr_opt_hyp, version 1\n",
            "Created version '1' of model 'w2vec_lr_opt_hyp'.\n"
          ]
        },
        {
          "output_type": "stream",
          "name": "stdout",
          "text": [
            "Accuracy: 0.72525\n",
            "MSE: 0.27475\n",
            "              precision    recall  f1-score   support\n",
            "\n",
            "           0       0.73      0.72      0.72      2000\n",
            "           1       0.72      0.73      0.73      2000\n",
            "\n",
            "    accuracy                           0.73      4000\n",
            "   macro avg       0.73      0.73      0.73      4000\n",
            "weighted avg       0.73      0.73      0.73      4000\n",
            "\n",
            "🏃 View run valuable-fowl-660 at: https://mlflow.amadousy.dev/#/experiments/23/runs/3361780b803b4890b685ebf486e96195\n",
            "🧪 View experiment at: https://mlflow.amadousy.dev/#/experiments/23\n"
          ]
        }
      ]
    },
    {
      "cell_type": "markdown",
      "source": [
        "> Validation avec Test set"
      ],
      "metadata": {
        "id": "eSvNHPeHtlTP"
      }
    },
    {
      "cell_type": "code",
      "source": [
        "y_pred = lr_model.predict(X_test_w2v)\n",
        "print(\"Accuracy:\", accuracy_score(y_test_w2v, y_pred))\n",
        "print(classification_report(y_test_w2v, y_pred))"
      ],
      "metadata": {
        "id": "DYeqcw-2twPM",
        "outputId": "75482331-5626-4f78-9bfb-155787eb4326",
        "colab": {
          "base_uri": "https://localhost:8080/"
        }
      },
      "execution_count": null,
      "outputs": [
        {
          "output_type": "stream",
          "name": "stdout",
          "text": [
            "Accuracy: 0.72825\n",
            "              precision    recall  f1-score   support\n",
            "\n",
            "           0       0.73      0.72      0.73      2000\n",
            "           1       0.72      0.74      0.73      2000\n",
            "\n",
            "    accuracy                           0.73      4000\n",
            "   macro avg       0.73      0.73      0.73      4000\n",
            "weighted avg       0.73      0.73      0.73      4000\n",
            "\n"
          ]
        }
      ]
    },
    {
      "cell_type": "code",
      "source": [
        "from sklearn.metrics import ConfusionMatrixDisplay\n",
        "ConfusionMatrixDisplay.from_estimator(lr_model, X_test_w2v, y_test_w2v)\n",
        "plt.show()"
      ],
      "metadata": {
        "id": "_W9p6nIGt0NF",
        "outputId": "9d4cbfc3-1417-4fa8-e58e-3dc7e73752b9",
        "colab": {
          "base_uri": "https://localhost:8080/",
          "height": 449
        }
      },
      "execution_count": null,
      "outputs": [
        {
          "output_type": "display_data",
          "data": {
            "text/plain": [
              "<Figure size 640x480 with 2 Axes>"
            ],
            "image/png": "[encoded data removed]"
          },
          "metadata": {}
        }
      ]
    },
    {
      "cell_type": "markdown",
      "source": [
        "# Approche 2: Modèle sur mesure avancé (Reseau de Neurone)"
      ],
      "metadata": {
        "id": "xFkplq7MZ90y"
      }
    },
    {
      "cell_type": "code",
      "source": [
        "tokenized_tweets = pd.read_csv(os.path.join(path, \"tokenized_tweets.csv\"))"
      ],
      "metadata": {
        "id": "cPIC9q8TDMKh"
      },
      "execution_count": 12,
      "outputs": []
    },
    {
      "cell_type": "code",
      "source": [
        "tokenized_tweets.head()"
      ],
      "metadata": {
        "colab": {
          "base_uri": "https://localhost:8080/",
          "height": 206
        },
        "id": "1ySSoTrODUH5",
        "outputId": "9fbcd70c-3062-47d0-d427-a9b8de7a0225"
      },
      "execution_count": 13,
      "outputs": [
        {
          "output_type": "execute_result",
          "data": {
            "text/plain": [
              "                                    tokenized_tweets\n",
              "0  ['switchfoot', 'awww', 'bummer', 'shoulda', 'g...\n",
              "1  ['upset', 'update', 'facebook', 'texting', 'mi...\n",
              "2  ['kenichan', 'dived', 'many', 'time', 'ball', ...\n",
              "3  ['whole', 'body', 'feel', 'itchy', 'like', 'fi...\n",
              "4        ['nationwideclass', 'behave', 'mad', 'see']"
            ],
            "text/html": [
              "\n",
              "  <div id=\"df-2da540c6-121b-43da-a8f3-14eb4cddd53d\" class=\"colab-df-container\">\n",
              "    <div>\n",
              "<style scoped>\n",
              "    .dataframe tbody tr th:only-of-type {\n",
              "        vertical-align: middle;\n",
              "    }\n",
              "\n",
              "    .dataframe tbody tr th {\n",
              "        vertical-align: top;\n",
              "    }\n",
              "\n",
              "    .dataframe thead th {\n",
              "        text-align: right;\n",
              "    }\n",
              "</style>\n",
              "<table border=\"1\" class=\"dataframe\">\n",
              "  <thead>\n",
              "    <tr style=\"text-align: right;\">\n",
              "      <th></th>\n",
              "      <th>tokenized_tweets</th>\n",
              "    </tr>\n",
              "  </thead>\n",
              "  <tbody>\n",
              "    <tr>\n",
              "      <th>0</th>\n",
              "      <td>['switchfoot', 'awww', 'bummer', 'shoulda', 'g...</td>\n",
              "    </tr>\n",
              "    <tr>\n",
              "      <th>1</th>\n",
              "      <td>['upset', 'update', 'facebook', 'texting', 'mi...</td>\n",
              "    </tr>\n",
              "    <tr>\n",
              "      <th>2</th>\n",
              "      <td>['kenichan', 'dived', 'many', 'time', 'ball', ...</td>\n",
              "    </tr>\n",
              "    <tr>\n",
              "      <th>3</th>\n",
              "      <td>['whole', 'body', 'feel', 'itchy', 'like', 'fi...</td>\n",
              "    </tr>\n",
              "    <tr>\n",
              "      <th>4</th>\n",
              "      <td>['nationwideclass', 'behave', 'mad', 'see']</td>\n",
              "    </tr>\n",
              "  </tbody>\n",
              "</table>\n",
              "</div>\n",
              "    <div class=\"colab-df-buttons\">\n",
              "\n",
              "  <div class=\"colab-df-container\">\n",
              "    <button class=\"colab-df-convert\" onclick=\"convertToInteractive('df-2da540c6-121b-43da-a8f3-14eb4cddd53d')\"\n",
              "            title=\"Convert this dataframe to an interactive table.\"\n",
              "            style=\"display:none;\">\n",
              "\n",
              "  <svg xmlns=\"http://www.w3.org/2000/svg\" height=\"24px\" viewBox=\"0 -960 960 960\">\n",
              "    <path d=\"M120-120v-720h720v720H120Zm60-500h600v-160H180v160Zm220 220h160v-160H400v160Zm0 220h160v-160H400v160ZM180-400h160v-160H180v160Zm440 0h160v-160H620v160ZM180-180h160v-160H180v160Zm440 0h160v-160H620v160Z\"/>\n",
              "  </svg>\n",
              "    </button>\n",
              "\n",
              "  <style>\n",
              "    .colab-df-container {\n",
              "      display:flex;\n",
              "      gap: 12px;\n",
              "    }\n",
              "\n",
              "    .colab-df-convert {\n",
              "      background-color: #E8F0FE;\n",
              "      border: none;\n",
              "      border-radius: 50%;\n",
              "      cursor: pointer;\n",
              "      display: none;\n",
              "      fill: #1967D2;\n",
              "      height: 32px;\n",
              "      padding: 0 0 0 0;\n",
              "      width: 32px;\n",
              "    }\n",
              "\n",
              "    .colab-df-convert:hover {\n",
              "      background-color: #E2EBFA;\n",
              "      box-shadow: 0px 1px 2px rgba(60, 64, 67, 0.3), 0px 1px 3px 1px rgba(60, 64, 67, 0.15);\n",
              "      fill: #174EA6;\n",
              "    }\n",
              "\n",
              "    .colab-df-buttons div {\n",
              "      margin-bottom: 4px;\n",
              "    }\n",
              "\n",
              "    [theme=dark] .colab-df-convert {\n",
              "      background-color: #3B4455;\n",
              "      fill: #D2E3FC;\n",
              "    }\n",
              "\n",
              "    [theme=dark] .colab-df-convert:hover {\n",
              "      background-color: #434B5C;\n",
              "      box-shadow: 0px 1px 3px 1px rgba(0, 0, 0, 0.15);\n",
              "      filter: drop-shadow(0px 1px 2px rgba(0, 0, 0, 0.3));\n",
              "      fill: #FFFFFF;\n",
              "    }\n",
              "  </style>\n",
              "\n",
              "    <script>\n",
              "      const buttonEl =\n",
              "        document.querySelector('#df-2da540c6-121b-43da-a8f3-14eb4cddd53d button.colab-df-convert');\n",
              "      buttonEl.style.display =\n",
              "        google.colab.kernel.accessAllowed ? 'block' : 'none';\n",
              "\n",
              "      async function convertToInteractive(key) {\n",
              "        const element = document.querySelector('#df-2da540c6-121b-43da-a8f3-14eb4cddd53d');\n",
              "        const dataTable =\n",
              "          await google.colab.kernel.invokeFunction('convertToInteractive',\n",
              "                                                    [key], {});\n",
              "        if (!dataTable) return;\n",
              "\n",
              "        const docLinkHtml = 'Like what you see? Visit the ' +\n",
              "          '<a target=\"_blank\" href=https://colab.research.google.com/notebooks/data_table.ipynb>data table notebook</a>'\n",
              "          + ' to learn more about interactive tables.';\n",
              "        element.innerHTML = '';\n",
              "        dataTable['output_type'] = 'display_data';\n",
              "        await google.colab.output.renderOutput(dataTable, element);\n",
              "        const docLink = document.createElement('div');\n",
              "        docLink.innerHTML = docLinkHtml;\n",
              "        element.appendChild(docLink);\n",
              "      }\n",
              "    </script>\n",
              "  </div>\n",
              "\n",
              "\n",
              "    <div id=\"df-11bd95de-e82b-4a1b-8527-71ea42732643\">\n",
              "      <button class=\"colab-df-quickchart\" onclick=\"quickchart('df-11bd95de-e82b-4a1b-8527-71ea42732643')\"\n",
              "                title=\"Suggest charts\"\n",
              "                style=\"display:none;\">\n",
              "\n",
              "<svg xmlns=\"http://www.w3.org/2000/svg\" height=\"24px\"viewBox=\"0 0 24 24\"\n",
              "     width=\"24px\">\n",
              "    <g>\n",
              "        <path d=\"M19 3H5c-1.1 0-2 .9-2 2v14c0 1.1.9 2 2 2h14c1.1 0 2-.9 2-2V5c0-1.1-.9-2-2-2zM9 17H7v-7h2v7zm4 0h-2V7h2v10zm4 0h-2v-4h2v4z\"/>\n",
              "    </g>\n",
              "</svg>\n",
              "      </button>\n",
              "\n",
              "<style>\n",
              "  .colab-df-quickchart {\n",
              "      --bg-color: #E8F0FE;\n",
              "      --fill-color: #1967D2;\n",
              "      --hover-bg-color: #E2EBFA;\n",
              "      --hover-fill-color: #174EA6;\n",
              "      --disabled-fill-color: #AAA;\n",
              "      --disabled-bg-color: #DDD;\n",
              "  }\n",
              "\n",
              "  [theme=dark] .colab-df-quickchart {\n",
              "      --bg-color: #3B4455;\n",
              "      --fill-color: #D2E3FC;\n",
              "      --hover-bg-color: #434B5C;\n",
              "      --hover-fill-color: #FFFFFF;\n",
              "      --disabled-bg-color: #3B4455;\n",
              "      --disabled-fill-color: #666;\n",
              "  }\n",
              "\n",
              "  .colab-df-quickchart {\n",
              "    background-color: var(--bg-color);\n",
              "    border: none;\n",
              "    border-radius: 50%;\n",
              "    cursor: pointer;\n",
              "    display: none;\n",
              "    fill: var(--fill-color);\n",
              "    height: 32px;\n",
              "    padding: 0;\n",
              "    width: 32px;\n",
              "  }\n",
              "\n",
              "  .colab-df-quickchart:hover {\n",
              "    background-color: var(--hover-bg-color);\n",
              "    box-shadow: 0 1px 2px rgba(60, 64, 67, 0.3), 0 1px 3px 1px rgba(60, 64, 67, 0.15);\n",
              "    fill: var(--button-hover-fill-color);\n",
              "  }\n",
              "\n",
              "  .colab-df-quickchart-complete:disabled,\n",
              "  .colab-df-quickchart-complete:disabled:hover {\n",
              "    background-color: var(--disabled-bg-color);\n",
              "    fill: var(--disabled-fill-color);\n",
              "    box-shadow: none;\n",
              "  }\n",
              "\n",
              "  .colab-df-spinner {\n",
              "    border: 2px solid var(--fill-color);\n",
              "    border-color: transparent;\n",
              "    border-bottom-color: var(--fill-color);\n",
              "    animation:\n",
              "      spin 1s steps(1) infinite;\n",
              "  }\n",
              "\n",
              "  @keyframes spin {\n",
              "    0% {\n",
              "      border-color: transparent;\n",
              "      border-bottom-color: var(--fill-color);\n",
              "      border-left-color: var(--fill-color);\n",
              "    }\n",
              "    20% {\n",
              "      border-color: transparent;\n",
              "      border-left-color: var(--fill-color);\n",
              "      border-top-color: var(--fill-color);\n",
              "    }\n",
              "    30% {\n",
              "      border-color: transparent;\n",
              "      border-left-color: var(--fill-color);\n",
              "      border-top-color: var(--fill-color);\n",
              "      border-right-color: var(--fill-color);\n",
              "    }\n",
              "    40% {\n",
              "      border-color: transparent;\n",
              "      border-right-color: var(--fill-color);\n",
              "      border-top-color: var(--fill-color);\n",
              "    }\n",
              "    60% {\n",
              "      border-color: transparent;\n",
              "      border-right-color: var(--fill-color);\n",
              "    }\n",
              "    80% {\n",
              "      border-color: transparent;\n",
              "      border-right-color: var(--fill-color);\n",
              "      border-bottom-color: var(--fill-color);\n",
              "    }\n",
              "    90% {\n",
              "      border-color: transparent;\n",
              "      border-bottom-color: var(--fill-color);\n",
              "    }\n",
              "  }\n",
              "</style>\n",
              "\n",
              "      <script>\n",
              "        async function quickchart(key) {\n",
              "          const quickchartButtonEl =\n",
              "            document.querySelector('#' + key + ' button');\n",
              "          quickchartButtonEl.disabled = true;  // To prevent multiple clicks.\n",
              "          quickchartButtonEl.classList.add('colab-df-spinner');\n",
              "          try {\n",
              "            const charts = await google.colab.kernel.invokeFunction(\n",
              "                'suggestCharts', [key], {});\n",
              "          } catch (error) {\n",
              "            console.error('Error during call to suggestCharts:', error);\n",
              "          }\n",
              "          quickchartButtonEl.classList.remove('colab-df-spinner');\n",
              "          quickchartButtonEl.classList.add('colab-df-quickchart-complete');\n",
              "        }\n",
              "        (() => {\n",
              "          let quickchartButtonEl =\n",
              "            document.querySelector('#df-11bd95de-e82b-4a1b-8527-71ea42732643 button');\n",
              "          quickchartButtonEl.style.display =\n",
              "            google.colab.kernel.accessAllowed ? 'block' : 'none';\n",
              "        })();\n",
              "      </script>\n",
              "    </div>\n",
              "\n",
              "    </div>\n",
              "  </div>\n"
            ],
            "application/vnd.google.colaboratory.intrinsic+json": {
              "type": "dataframe",
              "variable_name": "tokenized_tweets"
            }
          },
          "metadata": {},
          "execution_count": 13
        }
      ]
    },
    {
      "cell_type": "code",
      "source": [
        "from tensorflow.keras.models import Sequential\n",
        "from tensorflow.keras.layers import Embedding, Bidirectional, LSTM, Dense, Dropout, Input\n",
        "\n",
        "def build_model(weights=None, input_shape=(16, 300), dropout_rate=0.5, dense_units=32, lstm_units=32):\n",
        "  model = Sequential()\n",
        "\n",
        "  model.add(Input(shape=input_shape))\n",
        "  model.add(Bidirectional(LSTM(lstm_units, return_sequences=False)))\n",
        "  model.add(Dropout(dropout_rate))\n",
        "  model.add(Dense(dense_units, activation='relu'))\n",
        "  model.add(Dense(1, activation='sigmoid'))  # pour classification binaire\n",
        "\n",
        "  return model\n",
        "\n",
        "def sentence_to_sequence(tokens, model_embedding, max_len=30, dim=300):\n",
        "    vectors = [model_embedding.wv[word] if word in model_embedding.wv else np.zeros(dim) for word in tokens]\n",
        "    # Padding or trimming\n",
        "    vectors = vectors[:max_len] + [np.zeros(dim)] * (max_len - len(vectors))\n",
        "    return np.array(vectors)\n",
        "\n",
        "res = []"
      ],
      "metadata": {
        "id": "ALfZgzwTQ2IW"
      },
      "execution_count": 14,
      "outputs": []
    },
    {
      "cell_type": "markdown",
      "source": [
        "## | Word2Vec"
      ],
      "metadata": {
        "id": "3uKHYumiSAv8"
      }
    },
    {
      "cell_type": "markdown",
      "source": [
        "\n",
        "\n",
        "> Chargement du modéle pretrainé de Word2vec\n",
        "\n"
      ],
      "metadata": {
        "id": "UjQgmEy13-9d"
      }
    },
    {
      "cell_type": "code",
      "source": [
        "%%time\n",
        "w2v_model = Word2Vec.load(os.path.join(path, \"word2vec_model.model\"))"
      ],
      "metadata": {
        "colab": {
          "base_uri": "https://localhost:8080/"
        },
        "id": "uj_2gNnz2Wo6",
        "outputId": "adf1d2e1-0490-44b7-8b6d-3e557d7ff580"
      },
      "execution_count": 15,
      "outputs": [
        {
          "output_type": "stream",
          "name": "stdout",
          "text": [
            "CPU times: user 4.88 s, sys: 893 ms, total: 5.78 s\n",
            "Wall time: 24.8 s\n"
          ]
        }
      ]
    },
    {
      "cell_type": "code",
      "source": [
        "%%time\n",
        "train_token, val_token, test_token, y_train_w2v, y_valid_w2v, y_test_w2v = split_train_val_test(tokenized_tweets.tokenized_tweets, Y, sample_size=20000)"
      ],
      "metadata": {
        "colab": {
          "base_uri": "https://localhost:8080/"
        },
        "id": "x6_VCygJFgDP",
        "outputId": "2b7ea4c4-3113-4661-ce39-08edf9279c31"
      },
      "execution_count": 16,
      "outputs": [
        {
          "output_type": "stream",
          "name": "stdout",
          "text": [
            "CPU times: user 732 ms, sys: 49.2 ms, total: 781 ms\n",
            "Wall time: 778 ms\n"
          ]
        }
      ]
    },
    {
      "cell_type": "code",
      "source": [
        "max_len = max(map(len, tokenized_tweets))\n",
        "print(f\"Le tweet le plus long contient {max_len} tokens\")"
      ],
      "metadata": {
        "colab": {
          "base_uri": "https://localhost:8080/"
        },
        "id": "qmGwwcE_KDA-",
        "outputId": "42ac401c-39bb-412e-91e0-1dd85138ffa6"
      },
      "execution_count": 17,
      "outputs": [
        {
          "output_type": "stream",
          "name": "stdout",
          "text": [
            "Le tweet le plus long contient 16 tokens\n"
          ]
        }
      ]
    },
    {
      "cell_type": "markdown",
      "source": [
        "\n",
        "\n",
        "> Extracion des sequences\n",
        "\n"
      ],
      "metadata": {
        "id": "PIVMI6uZ4JBL"
      }
    },
    {
      "cell_type": "code",
      "source": [
        "%%time\n",
        "train_w2v_set =  np.array([sentence_to_sequence(sentence, w2v_model, max_len=max_len) for sentence in train_token])\n",
        "val_w2v_set =  np.array([sentence_to_sequence(sentence, w2v_model, max_len=max_len) for sentence in val_token])\n",
        "test_w2v_set =  np.array([sentence_to_sequence(sentence, w2v_model, max_len=max_len) for sentence in test_token])"
      ],
      "metadata": {
        "colab": {
          "base_uri": "https://localhost:8080/"
        },
        "id": "t_hEY_Na4ZIG",
        "outputId": "4994b86f-af4d-4e86-fe45-361010455f33"
      },
      "execution_count": 18,
      "outputs": [
        {
          "output_type": "stream",
          "name": "stdout",
          "text": [
            "CPU times: user 1.73 s, sys: 436 ms, total: 2.16 s\n",
            "Wall time: 2.16 s\n"
          ]
        }
      ]
    },
    {
      "cell_type": "code",
      "source": [
        "train_w2v_set.shape"
      ],
      "metadata": {
        "colab": {
          "base_uri": "https://localhost:8080/"
        },
        "id": "OKLZsKScKVSu",
        "outputId": "ce10065f-5bc5-404d-f5f1-6315c34d6582"
      },
      "execution_count": 19,
      "outputs": [
        {
          "output_type": "execute_result",
          "data": {
            "text/plain": [
              "(12000, 16, 300)"
            ]
          },
          "metadata": {},
          "execution_count": 19
        }
      ]
    },
    {
      "cell_type": "code",
      "source": [
        "%%time\n",
        "model = build_model()\n",
        "model.compile(loss='binary_crossentropy', optimizer='adam', metrics=['accuracy', 'auc', 'precision', 'recall'])\n",
        "model.summary()"
      ],
      "metadata": {
        "id": "lWxkJS4UTja9",
        "colab": {
          "base_uri": "https://localhost:8080/",
          "height": 303
        },
        "outputId": "f188bbe4-ed2d-4c68-83a4-1f40f959f7a5"
      },
      "execution_count": 20,
      "outputs": [
        {
          "output_type": "display_data",
          "data": {
            "text/plain": [
              "\u001b[1mModel: \"sequential\"\u001b[0m\n"
            ],
            "text/html": [
              "<pre style=\"white-space:pre;overflow-x:auto;line-height:normal;font-family:Menlo,'DejaVu Sans Mono',consolas,'Courier New',monospace\"><span style=\"font-weight: bold\">Model: \"sequential\"</span>\n",
              "</pre>\n"
            ]
          },
          "metadata": {}
        },
        {
          "output_type": "display_data",
          "data": {
            "text/plain": [
              "┏━━━━━━━━━━━━━━━━━━━━━━━━━━━━━━━━━┳━━━━━━━━━━━━━━━━━━━━━━━━┳━━━━━━━━━━━━━━━┓\n",
              "┃\u001b[1m \u001b[0m\u001b[1mLayer (type)                   \u001b[0m\u001b[1m \u001b[0m┃\u001b[1m \u001b[0m\u001b[1mOutput Shape          \u001b[0m\u001b[1m \u001b[0m┃\u001b[1m \u001b[0m\u001b[1m      Param #\u001b[0m\u001b[1m \u001b[0m┃\n",
              "┡━━━━━━━━━━━━━━━━━━━━━━━━━━━━━━━━━╇━━━━━━━━━━━━━━━━━━━━━━━━╇━━━━━━━━━━━━━━━┩\n",
              "│ bidirectional (\u001b[38;5;33mBidirectional\u001b[0m)   │ (\u001b[38;5;45mNone\u001b[0m, \u001b[38;5;34m64\u001b[0m)             │        \u001b[38;5;34m85,248\u001b[0m │\n",
              "├─────────────────────────────────┼────────────────────────┼───────────────┤\n",
              "│ dropout (\u001b[38;5;33mDropout\u001b[0m)               │ (\u001b[38;5;45mNone\u001b[0m, \u001b[38;5;34m64\u001b[0m)             │             \u001b[38;5;34m0\u001b[0m │\n",
              "├─────────────────────────────────┼────────────────────────┼───────────────┤\n",
              "│ dense (\u001b[38;5;33mDense\u001b[0m)                   │ (\u001b[38;5;45mNone\u001b[0m, \u001b[38;5;34m32\u001b[0m)             │         \u001b[38;5;34m2,080\u001b[0m │\n",
              "├─────────────────────────────────┼────────────────────────┼───────────────┤\n",
              "│ dense_1 (\u001b[38;5;33mDense\u001b[0m)                 │ (\u001b[38;5;45mNone\u001b[0m, \u001b[38;5;34m1\u001b[0m)              │            \u001b[38;5;34m33\u001b[0m │\n",
              "└─────────────────────────────────┴────────────────────────┴───────────────┘\n"
            ],
            "text/html": [
              "<pre style=\"white-space:pre;overflow-x:auto;line-height:normal;font-family:Menlo,'DejaVu Sans Mono',consolas,'Courier New',monospace\">┏━━━━━━━━━━━━━━━━━━━━━━━━━━━━━━━━━┳━━━━━━━━━━━━━━━━━━━━━━━━┳━━━━━━━━━━━━━━━┓\n",
              "┃<span style=\"font-weight: bold\"> Layer (type)                    </span>┃<span style=\"font-weight: bold\"> Output Shape           </span>┃<span style=\"font-weight: bold\">       Param # </span>┃\n",
              "┡━━━━━━━━━━━━━━━━━━━━━━━━━━━━━━━━━╇━━━━━━━━━━━━━━━━━━━━━━━━╇━━━━━━━━━━━━━━━┩\n",
              "│ bidirectional (<span style=\"color: #0087ff; text-decoration-color: #0087ff\">Bidirectional</span>)   │ (<span style=\"color: #00d7ff; text-decoration-color: #00d7ff\">None</span>, <span style=\"color: #00af00; text-decoration-color: #00af00\">64</span>)             │        <span style=\"color: #00af00; text-decoration-color: #00af00\">85,248</span> │\n",
              "├─────────────────────────────────┼────────────────────────┼───────────────┤\n",
              "│ dropout (<span style=\"color: #0087ff; text-decoration-color: #0087ff\">Dropout</span>)               │ (<span style=\"color: #00d7ff; text-decoration-color: #00d7ff\">None</span>, <span style=\"color: #00af00; text-decoration-color: #00af00\">64</span>)             │             <span style=\"color: #00af00; text-decoration-color: #00af00\">0</span> │\n",
              "├─────────────────────────────────┼────────────────────────┼───────────────┤\n",
              "│ dense (<span style=\"color: #0087ff; text-decoration-color: #0087ff\">Dense</span>)                   │ (<span style=\"color: #00d7ff; text-decoration-color: #00d7ff\">None</span>, <span style=\"color: #00af00; text-decoration-color: #00af00\">32</span>)             │         <span style=\"color: #00af00; text-decoration-color: #00af00\">2,080</span> │\n",
              "├─────────────────────────────────┼────────────────────────┼───────────────┤\n",
              "│ dense_1 (<span style=\"color: #0087ff; text-decoration-color: #0087ff\">Dense</span>)                 │ (<span style=\"color: #00d7ff; text-decoration-color: #00d7ff\">None</span>, <span style=\"color: #00af00; text-decoration-color: #00af00\">1</span>)              │            <span style=\"color: #00af00; text-decoration-color: #00af00\">33</span> │\n",
              "└─────────────────────────────────┴────────────────────────┴───────────────┘\n",
              "</pre>\n"
            ]
          },
          "metadata": {}
        },
        {
          "output_type": "display_data",
          "data": {
            "text/plain": [
              "\u001b[1m Total params: \u001b[0m\u001b[38;5;34m87,361\u001b[0m (341.25 KB)\n"
            ],
            "text/html": [
              "<pre style=\"white-space:pre;overflow-x:auto;line-height:normal;font-family:Menlo,'DejaVu Sans Mono',consolas,'Courier New',monospace\"><span style=\"font-weight: bold\"> Total params: </span><span style=\"color: #00af00; text-decoration-color: #00af00\">87,361</span> (341.25 KB)\n",
              "</pre>\n"
            ]
          },
          "metadata": {}
        },
        {
          "output_type": "display_data",
          "data": {
            "text/plain": [
              "\u001b[1m Trainable params: \u001b[0m\u001b[38;5;34m87,361\u001b[0m (341.25 KB)\n"
            ],
            "text/html": [
              "<pre style=\"white-space:pre;overflow-x:auto;line-height:normal;font-family:Menlo,'DejaVu Sans Mono',consolas,'Courier New',monospace\"><span style=\"font-weight: bold\"> Trainable params: </span><span style=\"color: #00af00; text-decoration-color: #00af00\">87,361</span> (341.25 KB)\n",
              "</pre>\n"
            ]
          },
          "metadata": {}
        },
        {
          "output_type": "display_data",
          "data": {
            "text/plain": [
              "\u001b[1m Non-trainable params: \u001b[0m\u001b[38;5;34m0\u001b[0m (0.00 B)\n"
            ],
            "text/html": [
              "<pre style=\"white-space:pre;overflow-x:auto;line-height:normal;font-family:Menlo,'DejaVu Sans Mono',consolas,'Courier New',monospace\"><span style=\"font-weight: bold\"> Non-trainable params: </span><span style=\"color: #00af00; text-decoration-color: #00af00\">0</span> (0.00 B)\n",
              "</pre>\n"
            ]
          },
          "metadata": {}
        },
        {
          "output_type": "stream",
          "name": "stdout",
          "text": [
            "CPU times: user 927 ms, sys: 314 ms, total: 1.24 s\n",
            "Wall time: 2 s\n"
          ]
        }
      ]
    },
    {
      "cell_type": "code",
      "source": [
        "%%time\n",
        "\n",
        "callbacks = [\n",
        "    tf.keras.callbacks.EarlyStopping(monitor='val_loss', patience=3, restore_best_weights=True)\n",
        "]\n",
        "\n",
        "fit_time = time.time()\n",
        "history = model.fit(\n",
        "    x=train_w2v_set,\n",
        "    y=y_train_w2v,\n",
        "    epochs=30,\n",
        "    batch_size=32,\n",
        "    validation_data=(val_w2v_set, y_valid_w2v),\n",
        "    callbacks=callbacks,\n",
        "\n",
        ")\n",
        "fit_time = time.time() - fit_time\n",
        "\n",
        "res.append({\n",
        "    \"Embeddings\": \"word2vec\",\n",
        "    \"val_score\": np.mean(history.history['val_accuracy']),\n",
        "    \"val_loss\": np.mean(history.history['val_loss']),\n",
        "    \"auc\": np.mean(history.history['val_auc']),\n",
        "    \"precision\": np.mean(history.history['val_precision']),\n",
        "    \"recall\": np.mean(history.history['val_recall']),\n",
        "    \"train_time (s)\": fit_time\n",
        "})"
      ],
      "metadata": {
        "colab": {
          "base_uri": "https://localhost:8080/"
        },
        "id": "eHH7IHgiNJUZ",
        "outputId": "96cbe4dc-a64e-444c-aef0-d7d8434f61c2"
      },
      "execution_count": 21,
      "outputs": [
        {
          "output_type": "stream",
          "name": "stdout",
          "text": [
            "Epoch 1/30\n",
            "\u001b[1m375/375\u001b[0m \u001b[32m━━━━━━━━━━━━━━━━━━━━\u001b[0m\u001b[37m\u001b[0m \u001b[1m9s\u001b[0m 10ms/step - accuracy: 0.4923 - auc: 0.4902 - loss: 0.6994 - precision: 0.4922 - recall: 0.5002 - val_accuracy: 0.5232 - val_auc: 0.5503 - val_loss: 0.6911 - val_precision: 0.5629 - val_recall: 0.2080\n",
            "Epoch 2/30\n",
            "\u001b[1m375/375\u001b[0m \u001b[32m━━━━━━━━━━━━━━━━━━━━\u001b[0m\u001b[37m\u001b[0m \u001b[1m3s\u001b[0m 8ms/step - accuracy: 0.5225 - auc: 0.5356 - loss: 0.6916 - precision: 0.5294 - recall: 0.4518 - val_accuracy: 0.5408 - val_auc: 0.5625 - val_loss: 0.6881 - val_precision: 0.5337 - val_recall: 0.6445\n",
            "Epoch 3/30\n",
            "\u001b[1m375/375\u001b[0m \u001b[32m━━━━━━━━━━━━━━━━━━━━\u001b[0m\u001b[37m\u001b[0m \u001b[1m3s\u001b[0m 8ms/step - accuracy: 0.5422 - auc: 0.5612 - loss: 0.6872 - precision: 0.5417 - recall: 0.5895 - val_accuracy: 0.5380 - val_auc: 0.5745 - val_loss: 0.6891 - val_precision: 0.5748 - val_recall: 0.2920\n",
            "Epoch 4/30\n",
            "\u001b[1m375/375\u001b[0m \u001b[32m━━━━━━━━━━━━━━━━━━━━\u001b[0m\u001b[37m\u001b[0m \u001b[1m3s\u001b[0m 8ms/step - accuracy: 0.5600 - auc: 0.5783 - loss: 0.6848 - precision: 0.5620 - recall: 0.5644 - val_accuracy: 0.5587 - val_auc: 0.5835 - val_loss: 0.6828 - val_precision: 0.5564 - val_recall: 0.5795\n",
            "Epoch 5/30\n",
            "\u001b[1m375/375\u001b[0m \u001b[32m━━━━━━━━━━━━━━━━━━━━\u001b[0m\u001b[37m\u001b[0m \u001b[1m3s\u001b[0m 8ms/step - accuracy: 0.5558 - auc: 0.5877 - loss: 0.6802 - precision: 0.5531 - recall: 0.6075 - val_accuracy: 0.5690 - val_auc: 0.5961 - val_loss: 0.6794 - val_precision: 0.5674 - val_recall: 0.5810\n",
            "Epoch 6/30\n",
            "\u001b[1m375/375\u001b[0m \u001b[32m━━━━━━━━━━━━━━━━━━━━\u001b[0m\u001b[37m\u001b[0m \u001b[1m3s\u001b[0m 8ms/step - accuracy: 0.5820 - auc: 0.6052 - loss: 0.6752 - precision: 0.5759 - recall: 0.6514 - val_accuracy: 0.5710 - val_auc: 0.6004 - val_loss: 0.6786 - val_precision: 0.5727 - val_recall: 0.5590\n",
            "Epoch 7/30\n",
            "\u001b[1m375/375\u001b[0m \u001b[32m━━━━━━━━━━━━━━━━━━━━\u001b[0m\u001b[37m\u001b[0m \u001b[1m3s\u001b[0m 8ms/step - accuracy: 0.5978 - auc: 0.6273 - loss: 0.6660 - precision: 0.5849 - recall: 0.6532 - val_accuracy: 0.5807 - val_auc: 0.6048 - val_loss: 0.6753 - val_precision: 0.5662 - val_recall: 0.6905\n",
            "Epoch 8/30\n",
            "\u001b[1m375/375\u001b[0m \u001b[32m━━━━━━━━━━━━━━━━━━━━\u001b[0m\u001b[37m\u001b[0m \u001b[1m3s\u001b[0m 8ms/step - accuracy: 0.6033 - auc: 0.6309 - loss: 0.6648 - precision: 0.5944 - recall: 0.6806 - val_accuracy: 0.5863 - val_auc: 0.6124 - val_loss: 0.6728 - val_precision: 0.5652 - val_recall: 0.7475\n",
            "Epoch 9/30\n",
            "\u001b[1m375/375\u001b[0m \u001b[32m━━━━━━━━━━━━━━━━━━━━\u001b[0m\u001b[37m\u001b[0m \u001b[1m3s\u001b[0m 8ms/step - accuracy: 0.6148 - auc: 0.6427 - loss: 0.6571 - precision: 0.5993 - recall: 0.7251 - val_accuracy: 0.5803 - val_auc: 0.6096 - val_loss: 0.6744 - val_precision: 0.5596 - val_recall: 0.7530\n",
            "Epoch 10/30\n",
            "\u001b[1m375/375\u001b[0m \u001b[32m━━━━━━━━━━━━━━━━━━━━\u001b[0m\u001b[37m\u001b[0m \u001b[1m3s\u001b[0m 8ms/step - accuracy: 0.6102 - auc: 0.6405 - loss: 0.6587 - precision: 0.5945 - recall: 0.7024 - val_accuracy: 0.5822 - val_auc: 0.6156 - val_loss: 0.6726 - val_precision: 0.5587 - val_recall: 0.7825\n",
            "Epoch 11/30\n",
            "\u001b[1m375/375\u001b[0m \u001b[32m━━━━━━━━━━━━━━━━━━━━\u001b[0m\u001b[37m\u001b[0m \u001b[1m3s\u001b[0m 8ms/step - accuracy: 0.6120 - auc: 0.6521 - loss: 0.6533 - precision: 0.5920 - recall: 0.7211 - val_accuracy: 0.5875 - val_auc: 0.6174 - val_loss: 0.6735 - val_precision: 0.5676 - val_recall: 0.7350\n",
            "Epoch 12/30\n",
            "\u001b[1m375/375\u001b[0m \u001b[32m━━━━━━━━━━━━━━━━━━━━\u001b[0m\u001b[37m\u001b[0m \u001b[1m3s\u001b[0m 8ms/step - accuracy: 0.6162 - auc: 0.6591 - loss: 0.6494 - precision: 0.5969 - recall: 0.7152 - val_accuracy: 0.5872 - val_auc: 0.6179 - val_loss: 0.6710 - val_precision: 0.5653 - val_recall: 0.7550\n",
            "Epoch 13/30\n",
            "\u001b[1m375/375\u001b[0m \u001b[32m━━━━━━━━━━━━━━━━━━━━\u001b[0m\u001b[37m\u001b[0m \u001b[1m3s\u001b[0m 8ms/step - accuracy: 0.6322 - auc: 0.6770 - loss: 0.6399 - precision: 0.6141 - recall: 0.7324 - val_accuracy: 0.5897 - val_auc: 0.6199 - val_loss: 0.6695 - val_precision: 0.5692 - val_recall: 0.7380\n",
            "Epoch 14/30\n",
            "\u001b[1m375/375\u001b[0m \u001b[32m━━━━━━━━━━━━━━━━━━━━\u001b[0m\u001b[37m\u001b[0m \u001b[1m3s\u001b[0m 8ms/step - accuracy: 0.6347 - auc: 0.6724 - loss: 0.6420 - precision: 0.6097 - recall: 0.7412 - val_accuracy: 0.5882 - val_auc: 0.6191 - val_loss: 0.6722 - val_precision: 0.5725 - val_recall: 0.6965\n",
            "Epoch 15/30\n",
            "\u001b[1m375/375\u001b[0m \u001b[32m━━━━━━━━━━━━━━━━━━━━\u001b[0m\u001b[37m\u001b[0m \u001b[1m3s\u001b[0m 8ms/step - accuracy: 0.6287 - auc: 0.6740 - loss: 0.6400 - precision: 0.6037 - recall: 0.7177 - val_accuracy: 0.5903 - val_auc: 0.6197 - val_loss: 0.6760 - val_precision: 0.5774 - val_recall: 0.6730\n",
            "Epoch 16/30\n",
            "\u001b[1m375/375\u001b[0m \u001b[32m━━━━━━━━━━━━━━━━━━━━\u001b[0m\u001b[37m\u001b[0m \u001b[1m3s\u001b[0m 8ms/step - accuracy: 0.6345 - auc: 0.6731 - loss: 0.6386 - precision: 0.6136 - recall: 0.7418 - val_accuracy: 0.5860 - val_auc: 0.6194 - val_loss: 0.6755 - val_precision: 0.5729 - val_recall: 0.6755\n",
            "CPU times: user 1min 2s, sys: 4.95 s, total: 1min 7s\n",
            "Wall time: 53.9 s\n"
          ]
        }
      ]
    },
    {
      "cell_type": "code",
      "source": [
        "fig = plt.figure(figsize=(16, 4))\n",
        "\n",
        "fig.add_subplot(1, 4, 1)\n",
        "plt.plot(history.history['loss'], label='Train Loss')\n",
        "plt.plot(history.history['val_loss'], label='Val Loss')\n",
        "plt.title('Loss')\n",
        "plt.legend()\n",
        "\n",
        "fig.add_subplot(1, 4, 2)\n",
        "plt.plot(history.history['accuracy'], label='Train Acc')\n",
        "plt.plot(history.history['val_accuracy'], label='Val Acc')\n",
        "plt.title('Accuracy')\n",
        "plt.legend()\n",
        "\n",
        "fig.add_subplot(1, 4, 3)\n",
        "plt.plot(history.history['precision'], label='Train Precision')\n",
        "plt.plot(history.history['val_precision'], label='Val Precision')\n",
        "plt.title('Precision')\n",
        "plt.legend()\n",
        "\n",
        "fig.add_subplot(1, 4, 4)\n",
        "plt.plot(history.history['auc'], label='Train Auc')\n",
        "plt.plot(history.history['val_auc'], label='Val Auc')\n",
        "plt.title('AUC')\n",
        "plt.legend()\n",
        "\n",
        "plt.show()"
      ],
      "metadata": {
        "colab": {
          "base_uri": "https://localhost:8080/",
          "height": 391
        },
        "id": "TSP_qr0BSQek",
        "outputId": "399ecd9f-4f42-425a-f7f0-afb6fabc7dce"
      },
      "execution_count": 22,
      "outputs": [
        {
          "output_type": "display_data",
          "data": {
            "text/plain": [
              "<Figure size 1600x400 with 4 Axes>"
            ],
            "image/png": "[encoded data removed]"
          },
          "metadata": {}
        }
      ]
    },
    {
      "cell_type": "markdown",
      "source": [
        "## | FastText"
      ],
      "metadata": {
        "id": "4uzSFd6vSG8r"
      }
    },
    {
      "cell_type": "code",
      "source": [
        "from gensim.models import FastText"
      ],
      "metadata": {
        "id": "KLw0oaS98b_0"
      },
      "execution_count": 23,
      "outputs": []
    },
    {
      "cell_type": "code",
      "source": [
        "%%time\n",
        "ft_model = FastText.load(os.path.join(path, \"fasttext_model.model\"))"
      ],
      "metadata": {
        "colab": {
          "base_uri": "https://localhost:8080/"
        },
        "id": "ok2tiL7Y8R3D",
        "outputId": "6f7c65e6-e3d0-4029-d885-0ec31e6d4e53"
      },
      "execution_count": 24,
      "outputs": [
        {
          "output_type": "stream",
          "name": "stdout",
          "text": [
            "CPU times: user 42.4 s, sys: 2.45 s, total: 44.8 s\n",
            "Wall time: 1min 30s\n"
          ]
        }
      ]
    },
    {
      "cell_type": "code",
      "source": [
        "%%time\n",
        "train_token, val_token, test_token, y_train_ft, y_valid_ft, y_test_ft = split_train_val_test(tokenized_tweets.tokenized_tweets, Y, sample_size=20000)"
      ],
      "metadata": {
        "colab": {
          "base_uri": "https://localhost:8080/"
        },
        "id": "Ami8i34u8o-F",
        "outputId": "eff1b78e-abda-41ff-cdd8-9264a6c7cb9a"
      },
      "execution_count": 25,
      "outputs": [
        {
          "output_type": "stream",
          "name": "stdout",
          "text": [
            "CPU times: user 734 ms, sys: 45 ms, total: 779 ms\n",
            "Wall time: 773 ms\n"
          ]
        }
      ]
    },
    {
      "cell_type": "markdown",
      "source": [
        "\n",
        "\n",
        "> Extracion des sequences\n",
        "\n"
      ],
      "metadata": {
        "id": "yGZI7qxZ-HvU"
      }
    },
    {
      "cell_type": "code",
      "source": [
        "%%time\n",
        "max_len = max(map(len, tokenized_tweets))\n",
        "print(f\"Le tweet le plus long contient {max_len} tokens\")\n",
        "train_ft_set =  np.array([sentence_to_sequence(sentence, ft_model, max_len=max_len) for sentence in train_token])\n",
        "val_ft_set =  np.array([sentence_to_sequence(sentence, ft_model, max_len=max_len) for sentence in val_token])\n",
        "test_ft_set =  np.array([sentence_to_sequence(sentence, ft_model, max_len=max_len) for sentence in test_token])"
      ],
      "metadata": {
        "colab": {
          "base_uri": "https://localhost:8080/"
        },
        "outputId": "de17a32b-fd56-4089-b22f-48b1c4e48ffe",
        "id": "keG4iruO-HvU"
      },
      "execution_count": 26,
      "outputs": [
        {
          "output_type": "stream",
          "name": "stdout",
          "text": [
            "Le tweet le plus long contient 16 tokens\n",
            "CPU times: user 4.81 s, sys: 222 ms, total: 5.03 s\n",
            "Wall time: 5.02 s\n"
          ]
        }
      ]
    },
    {
      "cell_type": "code",
      "source": [
        "train_ft_set.shape"
      ],
      "metadata": {
        "colab": {
          "base_uri": "https://localhost:8080/"
        },
        "id": "xk6zBfKE-g6-",
        "outputId": "b48dd0be-f209-48c9-e5c7-5c209fc3e079"
      },
      "execution_count": 27,
      "outputs": [
        {
          "output_type": "execute_result",
          "data": {
            "text/plain": [
              "(12000, 16, 300)"
            ]
          },
          "metadata": {},
          "execution_count": 27
        }
      ]
    },
    {
      "cell_type": "code",
      "source": [
        "%%time\n",
        "model = build_model()\n",
        "model.compile(loss='binary_crossentropy', optimizer='adam', metrics=['accuracy', 'auc', 'precision', 'recall'])\n",
        "model.summary()"
      ],
      "metadata": {
        "colab": {
          "base_uri": "https://localhost:8080/",
          "height": 303
        },
        "id": "T05H4ar7_Vp1",
        "outputId": "49fe2514-f0b3-44e8-cacc-616cf6088df5"
      },
      "execution_count": 28,
      "outputs": [
        {
          "output_type": "display_data",
          "data": {
            "text/plain": [
              "\u001b[1mModel: \"sequential_1\"\u001b[0m\n"
            ],
            "text/html": [
              "<pre style=\"white-space:pre;overflow-x:auto;line-height:normal;font-family:Menlo,'DejaVu Sans Mono',consolas,'Courier New',monospace\"><span style=\"font-weight: bold\">Model: \"sequential_1\"</span>\n",
              "</pre>\n"
            ]
          },
          "metadata": {}
        },
        {
          "output_type": "display_data",
          "data": {
            "text/plain": [
              "┏━━━━━━━━━━━━━━━━━━━━━━━━━━━━━━━━━┳━━━━━━━━━━━━━━━━━━━━━━━━┳━━━━━━━━━━━━━━━┓\n",
              "┃\u001b[1m \u001b[0m\u001b[1mLayer (type)                   \u001b[0m\u001b[1m \u001b[0m┃\u001b[1m \u001b[0m\u001b[1mOutput Shape          \u001b[0m\u001b[1m \u001b[0m┃\u001b[1m \u001b[0m\u001b[1m      Param #\u001b[0m\u001b[1m \u001b[0m┃\n",
              "┡━━━━━━━━━━━━━━━━━━━━━━━━━━━━━━━━━╇━━━━━━━━━━━━━━━━━━━━━━━━╇━━━━━━━━━━━━━━━┩\n",
              "│ bidirectional_1 (\u001b[38;5;33mBidirectional\u001b[0m) │ (\u001b[38;5;45mNone\u001b[0m, \u001b[38;5;34m64\u001b[0m)             │        \u001b[38;5;34m85,248\u001b[0m │\n",
              "├─────────────────────────────────┼────────────────────────┼───────────────┤\n",
              "│ dropout_1 (\u001b[38;5;33mDropout\u001b[0m)             │ (\u001b[38;5;45mNone\u001b[0m, \u001b[38;5;34m64\u001b[0m)             │             \u001b[38;5;34m0\u001b[0m │\n",
              "├─────────────────────────────────┼────────────────────────┼───────────────┤\n",
              "│ dense_2 (\u001b[38;5;33mDense\u001b[0m)                 │ (\u001b[38;5;45mNone\u001b[0m, \u001b[38;5;34m32\u001b[0m)             │         \u001b[38;5;34m2,080\u001b[0m │\n",
              "├─────────────────────────────────┼────────────────────────┼───────────────┤\n",
              "│ dense_3 (\u001b[38;5;33mDense\u001b[0m)                 │ (\u001b[38;5;45mNone\u001b[0m, \u001b[38;5;34m1\u001b[0m)              │            \u001b[38;5;34m33\u001b[0m │\n",
              "└─────────────────────────────────┴────────────────────────┴───────────────┘\n"
            ],
            "text/html": [
              "<pre style=\"white-space:pre;overflow-x:auto;line-height:normal;font-family:Menlo,'DejaVu Sans Mono',consolas,'Courier New',monospace\">┏━━━━━━━━━━━━━━━━━━━━━━━━━━━━━━━━━┳━━━━━━━━━━━━━━━━━━━━━━━━┳━━━━━━━━━━━━━━━┓\n",
              "┃<span style=\"font-weight: bold\"> Layer (type)                    </span>┃<span style=\"font-weight: bold\"> Output Shape           </span>┃<span style=\"font-weight: bold\">       Param # </span>┃\n",
              "┡━━━━━━━━━━━━━━━━━━━━━━━━━━━━━━━━━╇━━━━━━━━━━━━━━━━━━━━━━━━╇━━━━━━━━━━━━━━━┩\n",
              "│ bidirectional_1 (<span style=\"color: #0087ff; text-decoration-color: #0087ff\">Bidirectional</span>) │ (<span style=\"color: #00d7ff; text-decoration-color: #00d7ff\">None</span>, <span style=\"color: #00af00; text-decoration-color: #00af00\">64</span>)             │        <span style=\"color: #00af00; text-decoration-color: #00af00\">85,248</span> │\n",
              "├─────────────────────────────────┼────────────────────────┼───────────────┤\n",
              "│ dropout_1 (<span style=\"color: #0087ff; text-decoration-color: #0087ff\">Dropout</span>)             │ (<span style=\"color: #00d7ff; text-decoration-color: #00d7ff\">None</span>, <span style=\"color: #00af00; text-decoration-color: #00af00\">64</span>)             │             <span style=\"color: #00af00; text-decoration-color: #00af00\">0</span> │\n",
              "├─────────────────────────────────┼────────────────────────┼───────────────┤\n",
              "│ dense_2 (<span style=\"color: #0087ff; text-decoration-color: #0087ff\">Dense</span>)                 │ (<span style=\"color: #00d7ff; text-decoration-color: #00d7ff\">None</span>, <span style=\"color: #00af00; text-decoration-color: #00af00\">32</span>)             │         <span style=\"color: #00af00; text-decoration-color: #00af00\">2,080</span> │\n",
              "├─────────────────────────────────┼────────────────────────┼───────────────┤\n",
              "│ dense_3 (<span style=\"color: #0087ff; text-decoration-color: #0087ff\">Dense</span>)                 │ (<span style=\"color: #00d7ff; text-decoration-color: #00d7ff\">None</span>, <span style=\"color: #00af00; text-decoration-color: #00af00\">1</span>)              │            <span style=\"color: #00af00; text-decoration-color: #00af00\">33</span> │\n",
              "└─────────────────────────────────┴────────────────────────┴───────────────┘\n",
              "</pre>\n"
            ]
          },
          "metadata": {}
        },
        {
          "output_type": "display_data",
          "data": {
            "text/plain": [
              "\u001b[1m Total params: \u001b[0m\u001b[38;5;34m87,361\u001b[0m (341.25 KB)\n"
            ],
            "text/html": [
              "<pre style=\"white-space:pre;overflow-x:auto;line-height:normal;font-family:Menlo,'DejaVu Sans Mono',consolas,'Courier New',monospace\"><span style=\"font-weight: bold\"> Total params: </span><span style=\"color: #00af00; text-decoration-color: #00af00\">87,361</span> (341.25 KB)\n",
              "</pre>\n"
            ]
          },
          "metadata": {}
        },
        {
          "output_type": "display_data",
          "data": {
            "text/plain": [
              "\u001b[1m Trainable params: \u001b[0m\u001b[38;5;34m87,361\u001b[0m (341.25 KB)\n"
            ],
            "text/html": [
              "<pre style=\"white-space:pre;overflow-x:auto;line-height:normal;font-family:Menlo,'DejaVu Sans Mono',consolas,'Courier New',monospace\"><span style=\"font-weight: bold\"> Trainable params: </span><span style=\"color: #00af00; text-decoration-color: #00af00\">87,361</span> (341.25 KB)\n",
              "</pre>\n"
            ]
          },
          "metadata": {}
        },
        {
          "output_type": "display_data",
          "data": {
            "text/plain": [
              "\u001b[1m Non-trainable params: \u001b[0m\u001b[38;5;34m0\u001b[0m (0.00 B)\n"
            ],
            "text/html": [
              "<pre style=\"white-space:pre;overflow-x:auto;line-height:normal;font-family:Menlo,'DejaVu Sans Mono',consolas,'Courier New',monospace\"><span style=\"font-weight: bold\"> Non-trainable params: </span><span style=\"color: #00af00; text-decoration-color: #00af00\">0</span> (0.00 B)\n",
              "</pre>\n"
            ]
          },
          "metadata": {}
        },
        {
          "output_type": "stream",
          "name": "stdout",
          "text": [
            "CPU times: user 114 ms, sys: 2.09 ms, total: 116 ms\n",
            "Wall time: 112 ms\n"
          ]
        }
      ]
    },
    {
      "cell_type": "code",
      "source": [
        "%%time\n",
        "\n",
        "callbacks = [\n",
        "    tf.keras.callbacks.EarlyStopping(monitor='val_loss', patience=3, restore_best_weights=True)\n",
        "]\n",
        "\n",
        "fit_time = time.time()\n",
        "history = model.fit(\n",
        "    x=train_ft_set,\n",
        "    y=y_train_ft,\n",
        "    epochs=30,\n",
        "    batch_size=32,\n",
        "    validation_data=(val_ft_set, y_valid_ft),\n",
        "    callbacks=callbacks,\n",
        "\n",
        ")\n",
        "fit_time = time.time() - fit_time\n",
        "\n",
        "res.append({\n",
        "    \"Embeddings\": \"fasttext\",\n",
        "    \"val_score\": np.mean(history.history['val_accuracy']),\n",
        "    \"val_loss\": np.mean(history.history['val_loss']),\n",
        "    \"auc\": np.mean(history.history['val_auc']),\n",
        "    \"precision\": np.mean(history.history['val_precision']),\n",
        "    \"recall\": np.mean(history.history['val_recall']),\n",
        "    \"train_time (s)\": fit_time\n",
        "})"
      ],
      "metadata": {
        "colab": {
          "base_uri": "https://localhost:8080/"
        },
        "id": "BkVfMa_8_kbf",
        "outputId": "bb9ae7c3-7b38-49e4-ff3a-92e9eca2a0d4"
      },
      "execution_count": 29,
      "outputs": [
        {
          "output_type": "stream",
          "name": "stdout",
          "text": [
            "Epoch 1/30\n",
            "\u001b[1m375/375\u001b[0m \u001b[32m━━━━━━━━━━━━━━━━━━━━\u001b[0m\u001b[37m\u001b[0m \u001b[1m6s\u001b[0m 10ms/step - accuracy: 0.5214 - auc: 0.5200 - loss: 0.6958 - precision: 0.5135 - recall: 0.5006 - val_accuracy: 0.5390 - val_auc: 0.5548 - val_loss: 0.6893 - val_precision: 0.5383 - val_recall: 0.5485\n",
            "Epoch 2/30\n",
            "\u001b[1m375/375\u001b[0m \u001b[32m━━━━━━━━━━━━━━━━━━━━\u001b[0m\u001b[37m\u001b[0m \u001b[1m3s\u001b[0m 8ms/step - accuracy: 0.5422 - auc: 0.5513 - loss: 0.6898 - precision: 0.5446 - recall: 0.5775 - val_accuracy: 0.5433 - val_auc: 0.5671 - val_loss: 0.6865 - val_precision: 0.5470 - val_recall: 0.5030\n",
            "Epoch 3/30\n",
            "\u001b[1m375/375\u001b[0m \u001b[32m━━━━━━━━━━━━━━━━━━━━\u001b[0m\u001b[37m\u001b[0m \u001b[1m3s\u001b[0m 8ms/step - accuracy: 0.5416 - auc: 0.5585 - loss: 0.6878 - precision: 0.5401 - recall: 0.5970 - val_accuracy: 0.5560 - val_auc: 0.5782 - val_loss: 0.6847 - val_precision: 0.5685 - val_recall: 0.4645\n",
            "Epoch 4/30\n",
            "\u001b[1m375/375\u001b[0m \u001b[32m━━━━━━━━━━━━━━━━━━━━\u001b[0m\u001b[37m\u001b[0m \u001b[1m3s\u001b[0m 8ms/step - accuracy: 0.5664 - auc: 0.5858 - loss: 0.6820 - precision: 0.5702 - recall: 0.5872 - val_accuracy: 0.5608 - val_auc: 0.5919 - val_loss: 0.6813 - val_precision: 0.5485 - val_recall: 0.6875\n",
            "Epoch 5/30\n",
            "\u001b[1m375/375\u001b[0m \u001b[32m━━━━━━━━━━━━━━━━━━━━\u001b[0m\u001b[37m\u001b[0m \u001b[1m3s\u001b[0m 8ms/step - accuracy: 0.5670 - auc: 0.5967 - loss: 0.6781 - precision: 0.5592 - recall: 0.6016 - val_accuracy: 0.5692 - val_auc: 0.5971 - val_loss: 0.6799 - val_precision: 0.5865 - val_recall: 0.4695\n",
            "Epoch 6/30\n",
            "\u001b[1m375/375\u001b[0m \u001b[32m━━━━━━━━━━━━━━━━━━━━\u001b[0m\u001b[37m\u001b[0m \u001b[1m3s\u001b[0m 8ms/step - accuracy: 0.5843 - auc: 0.6222 - loss: 0.6686 - precision: 0.5827 - recall: 0.6142 - val_accuracy: 0.5750 - val_auc: 0.6002 - val_loss: 0.6773 - val_precision: 0.5681 - val_recall: 0.6255\n",
            "Epoch 7/30\n",
            "\u001b[1m375/375\u001b[0m \u001b[32m━━━━━━━━━━━━━━━━━━━━\u001b[0m\u001b[37m\u001b[0m \u001b[1m3s\u001b[0m 8ms/step - accuracy: 0.5962 - auc: 0.6274 - loss: 0.6671 - precision: 0.5926 - recall: 0.6557 - val_accuracy: 0.5805 - val_auc: 0.6079 - val_loss: 0.6762 - val_precision: 0.5788 - val_recall: 0.5910\n",
            "Epoch 8/30\n",
            "\u001b[1m375/375\u001b[0m \u001b[32m━━━━━━━━━━━━━━━━━━━━\u001b[0m\u001b[37m\u001b[0m \u001b[1m3s\u001b[0m 8ms/step - accuracy: 0.5984 - auc: 0.6326 - loss: 0.6628 - precision: 0.5875 - recall: 0.6669 - val_accuracy: 0.5845 - val_auc: 0.6076 - val_loss: 0.6752 - val_precision: 0.5692 - val_recall: 0.6950\n",
            "Epoch 9/30\n",
            "\u001b[1m375/375\u001b[0m \u001b[32m━━━━━━━━━━━━━━━━━━━━\u001b[0m\u001b[37m\u001b[0m \u001b[1m3s\u001b[0m 8ms/step - accuracy: 0.6063 - auc: 0.6386 - loss: 0.6599 - precision: 0.5927 - recall: 0.6800 - val_accuracy: 0.5915 - val_auc: 0.6140 - val_loss: 0.6742 - val_precision: 0.5850 - val_recall: 0.6295\n",
            "Epoch 10/30\n",
            "\u001b[1m375/375\u001b[0m \u001b[32m━━━━━━━━━━━━━━━━━━━━\u001b[0m\u001b[37m\u001b[0m \u001b[1m3s\u001b[0m 8ms/step - accuracy: 0.6055 - auc: 0.6424 - loss: 0.6556 - precision: 0.5944 - recall: 0.7003 - val_accuracy: 0.5960 - val_auc: 0.6196 - val_loss: 0.6707 - val_precision: 0.5727 - val_recall: 0.7565\n",
            "Epoch 11/30\n",
            "\u001b[1m375/375\u001b[0m \u001b[32m━━━━━━━━━━━━━━━━━━━━\u001b[0m\u001b[37m\u001b[0m \u001b[1m3s\u001b[0m 8ms/step - accuracy: 0.6242 - auc: 0.6609 - loss: 0.6482 - precision: 0.6072 - recall: 0.7238 - val_accuracy: 0.5955 - val_auc: 0.6194 - val_loss: 0.6707 - val_precision: 0.5830 - val_recall: 0.6710\n",
            "Epoch 12/30\n",
            "\u001b[1m375/375\u001b[0m \u001b[32m━━━━━━━━━━━━━━━━━━━━\u001b[0m\u001b[37m\u001b[0m \u001b[1m3s\u001b[0m 8ms/step - accuracy: 0.6275 - auc: 0.6674 - loss: 0.6465 - precision: 0.6139 - recall: 0.7168 - val_accuracy: 0.5985 - val_auc: 0.6209 - val_loss: 0.6724 - val_precision: 0.5854 - val_recall: 0.6750\n",
            "Epoch 13/30\n",
            "\u001b[1m375/375\u001b[0m \u001b[32m━━━━━━━━━━━━━━━━━━━━\u001b[0m\u001b[37m\u001b[0m \u001b[1m3s\u001b[0m 8ms/step - accuracy: 0.6253 - auc: 0.6651 - loss: 0.6446 - precision: 0.6013 - recall: 0.7437 - val_accuracy: 0.5897 - val_auc: 0.6169 - val_loss: 0.6726 - val_precision: 0.5705 - val_recall: 0.7260\n",
            "CPU times: user 49.5 s, sys: 3.97 s, total: 53.5 s\n",
            "Wall time: 42.2 s\n"
          ]
        }
      ]
    },
    {
      "cell_type": "code",
      "source": [
        "fig = plt.figure(figsize=(16, 4))\n",
        "\n",
        "fig.add_subplot(1, 4, 1)\n",
        "plt.plot(history.history['loss'], label='Train Loss')\n",
        "plt.plot(history.history['val_loss'], label='Val Loss')\n",
        "plt.title('Loss')\n",
        "plt.legend()\n",
        "\n",
        "fig.add_subplot(1, 4, 2)\n",
        "plt.plot(history.history['accuracy'], label='Train Acc')\n",
        "plt.plot(history.history['val_accuracy'], label='Val Acc')\n",
        "plt.title('Accuracy')\n",
        "plt.legend()\n",
        "\n",
        "fig.add_subplot(1, 4, 3)\n",
        "plt.plot(history.history['precision'], label='Train Precision')\n",
        "plt.plot(history.history['val_precision'], label='Val Precision')\n",
        "plt.title('Precision')\n",
        "plt.legend()\n",
        "\n",
        "fig.add_subplot(1, 4, 4)\n",
        "plt.plot(history.history['auc'], label='Train Auc')\n",
        "plt.plot(history.history['val_auc'], label='Val Auc')\n",
        "plt.title('AUC')\n",
        "plt.legend()\n",
        "\n",
        "plt.show()"
      ],
      "metadata": {
        "colab": {
          "base_uri": "https://localhost:8080/",
          "height": 391
        },
        "id": "B2U1rIf2ARKK",
        "outputId": "143cf352-a5e1-4821-873b-79cf5f16a757"
      },
      "execution_count": 30,
      "outputs": [
        {
          "output_type": "display_data",
          "data": {
            "text/plain": [
              "<Figure size 1600x400 with 4 Axes>"
            ],
            "image/png": "[encoded data removed]"
          },
          "metadata": {}
        }
      ]
    },
    {
      "cell_type": "markdown",
      "source": [
        "## Comparaison des embeddings (word2vec vs fasttext)"
      ],
      "metadata": {
        "id": "MgvF4pK6Bg9J"
      }
    },
    {
      "cell_type": "code",
      "source": [
        "res_all_df_2 = pd.DataFrame(res)\n",
        "res_all_df_2"
      ],
      "metadata": {
        "colab": {
          "base_uri": "https://localhost:8080/",
          "height": 125
        },
        "id": "P9RTBbv7B48C",
        "outputId": "fb379220-3d3e-4248-bb98-c716fb46a8c6"
      },
      "execution_count": 31,
      "outputs": [
        {
          "output_type": "execute_result",
          "data": {
            "text/plain": [
              "  Embeddings  val_score  val_loss       auc  precision    recall  \\\n",
              "0   word2vec   0.572453  0.677605  0.601439   0.565179  0.631906   \n",
              "1   fasttext   0.575346  0.677777  0.599670   0.569357  0.618654   \n",
              "\n",
              "   train_time (s)  \n",
              "0       53.899108  \n",
              "1       42.227514  "
            ],
            "text/html": [
              "\n",
              "  <div id=\"df-f22fb3ed-68a6-42fd-bc62-b7ea0d546e4f\" class=\"colab-df-container\">\n",
              "    <div>\n",
              "<style scoped>\n",
              "    .dataframe tbody tr th:only-of-type {\n",
              "        vertical-align: middle;\n",
              "    }\n",
              "\n",
              "    .dataframe tbody tr th {\n",
              "        vertical-align: top;\n",
              "    }\n",
              "\n",
              "    .dataframe thead th {\n",
              "        text-align: right;\n",
              "    }\n",
              "</style>\n",
              "<table border=\"1\" class=\"dataframe\">\n",
              "  <thead>\n",
              "    <tr style=\"text-align: right;\">\n",
              "      <th></th>\n",
              "      <th>Embeddings</th>\n",
              "      <th>val_score</th>\n",
              "      <th>val_loss</th>\n",
              "      <th>auc</th>\n",
              "      <th>precision</th>\n",
              "      <th>recall</th>\n",
              "      <th>train_time (s)</th>\n",
              "    </tr>\n",
              "  </thead>\n",
              "  <tbody>\n",
              "    <tr>\n",
              "      <th>0</th>\n",
              "      <td>word2vec</td>\n",
              "      <td>0.572453</td>\n",
              "      <td>0.677605</td>\n",
              "      <td>0.601439</td>\n",
              "      <td>0.565179</td>\n",
              "      <td>0.631906</td>\n",
              "      <td>53.899108</td>\n",
              "    </tr>\n",
              "    <tr>\n",
              "      <th>1</th>\n",
              "      <td>fasttext</td>\n",
              "      <td>0.575346</td>\n",
              "      <td>0.677777</td>\n",
              "      <td>0.599670</td>\n",
              "      <td>0.569357</td>\n",
              "      <td>0.618654</td>\n",
              "      <td>42.227514</td>\n",
              "    </tr>\n",
              "  </tbody>\n",
              "</table>\n",
              "</div>\n",
              "    <div class=\"colab-df-buttons\">\n",
              "\n",
              "  <div class=\"colab-df-container\">\n",
              "    <button class=\"colab-df-convert\" onclick=\"convertToInteractive('df-f22fb3ed-68a6-42fd-bc62-b7ea0d546e4f')\"\n",
              "            title=\"Convert this dataframe to an interactive table.\"\n",
              "            style=\"display:none;\">\n",
              "\n",
              "  <svg xmlns=\"http://www.w3.org/2000/svg\" height=\"24px\" viewBox=\"0 -960 960 960\">\n",
              "    <path d=\"M120-120v-720h720v720H120Zm60-500h600v-160H180v160Zm220 220h160v-160H400v160Zm0 220h160v-160H400v160ZM180-400h160v-160H180v160Zm440 0h160v-160H620v160ZM180-180h160v-160H180v160Zm440 0h160v-160H620v160Z\"/>\n",
              "  </svg>\n",
              "    </button>\n",
              "\n",
              "  <style>\n",
              "    .colab-df-container {\n",
              "      display:flex;\n",
              "      gap: 12px;\n",
              "    }\n",
              "\n",
              "    .colab-df-convert {\n",
              "      background-color: #E8F0FE;\n",
              "      border: none;\n",
              "      border-radius: 50%;\n",
              "      cursor: pointer;\n",
              "      display: none;\n",
              "      fill: #1967D2;\n",
              "      height: 32px;\n",
              "      padding: 0 0 0 0;\n",
              "      width: 32px;\n",
              "    }\n",
              "\n",
              "    .colab-df-convert:hover {\n",
              "      background-color: #E2EBFA;\n",
              "      box-shadow: 0px 1px 2px rgba(60, 64, 67, 0.3), 0px 1px 3px 1px rgba(60, 64, 67, 0.15);\n",
              "      fill: #174EA6;\n",
              "    }\n",
              "\n",
              "    .colab-df-buttons div {\n",
              "      margin-bottom: 4px;\n",
              "    }\n",
              "\n",
              "    [theme=dark] .colab-df-convert {\n",
              "      background-color: #3B4455;\n",
              "      fill: #D2E3FC;\n",
              "    }\n",
              "\n",
              "    [theme=dark] .colab-df-convert:hover {\n",
              "      background-color: #434B5C;\n",
              "      box-shadow: 0px 1px 3px 1px rgba(0, 0, 0, 0.15);\n",
              "      filter: drop-shadow(0px 1px 2px rgba(0, 0, 0, 0.3));\n",
              "      fill: #FFFFFF;\n",
              "    }\n",
              "  </style>\n",
              "\n",
              "    <script>\n",
              "      const buttonEl =\n",
              "        document.querySelector('#df-f22fb3ed-68a6-42fd-bc62-b7ea0d546e4f button.colab-df-convert');\n",
              "      buttonEl.style.display =\n",
              "        google.colab.kernel.accessAllowed ? 'block' : 'none';\n",
              "\n",
              "      async function convertToInteractive(key) {\n",
              "        const element = document.querySelector('#df-f22fb3ed-68a6-42fd-bc62-b7ea0d546e4f');\n",
              "        const dataTable =\n",
              "          await google.colab.kernel.invokeFunction('convertToInteractive',\n",
              "                                                    [key], {});\n",
              "        if (!dataTable) return;\n",
              "\n",
              "        const docLinkHtml = 'Like what you see? Visit the ' +\n",
              "          '<a target=\"_blank\" href=https://colab.research.google.com/notebooks/data_table.ipynb>data table notebook</a>'\n",
              "          + ' to learn more about interactive tables.';\n",
              "        element.innerHTML = '';\n",
              "        dataTable['output_type'] = 'display_data';\n",
              "        await google.colab.output.renderOutput(dataTable, element);\n",
              "        const docLink = document.createElement('div');\n",
              "        docLink.innerHTML = docLinkHtml;\n",
              "        element.appendChild(docLink);\n",
              "      }\n",
              "    </script>\n",
              "  </div>\n",
              "\n",
              "\n",
              "    <div id=\"df-713d9819-e633-4ab6-abdd-99c905336906\">\n",
              "      <button class=\"colab-df-quickchart\" onclick=\"quickchart('df-713d9819-e633-4ab6-abdd-99c905336906')\"\n",
              "                title=\"Suggest charts\"\n",
              "                style=\"display:none;\">\n",
              "\n",
              "<svg xmlns=\"http://www.w3.org/2000/svg\" height=\"24px\"viewBox=\"0 0 24 24\"\n",
              "     width=\"24px\">\n",
              "    <g>\n",
              "        <path d=\"M19 3H5c-1.1 0-2 .9-2 2v14c0 1.1.9 2 2 2h14c1.1 0 2-.9 2-2V5c0-1.1-.9-2-2-2zM9 17H7v-7h2v7zm4 0h-2V7h2v10zm4 0h-2v-4h2v4z\"/>\n",
              "    </g>\n",
              "</svg>\n",
              "      </button>\n",
              "\n",
              "<style>\n",
              "  .colab-df-quickchart {\n",
              "      --bg-color: #E8F0FE;\n",
              "      --fill-color: #1967D2;\n",
              "      --hover-bg-color: #E2EBFA;\n",
              "      --hover-fill-color: #174EA6;\n",
              "      --disabled-fill-color: #AAA;\n",
              "      --disabled-bg-color: #DDD;\n",
              "  }\n",
              "\n",
              "  [theme=dark] .colab-df-quickchart {\n",
              "      --bg-color: #3B4455;\n",
              "      --fill-color: #D2E3FC;\n",
              "      --hover-bg-color: #434B5C;\n",
              "      --hover-fill-color: #FFFFFF;\n",
              "      --disabled-bg-color: #3B4455;\n",
              "      --disabled-fill-color: #666;\n",
              "  }\n",
              "\n",
              "  .colab-df-quickchart {\n",
              "    background-color: var(--bg-color);\n",
              "    border: none;\n",
              "    border-radius: 50%;\n",
              "    cursor: pointer;\n",
              "    display: none;\n",
              "    fill: var(--fill-color);\n",
              "    height: 32px;\n",
              "    padding: 0;\n",
              "    width: 32px;\n",
              "  }\n",
              "\n",
              "  .colab-df-quickchart:hover {\n",
              "    background-color: var(--hover-bg-color);\n",
              "    box-shadow: 0 1px 2px rgba(60, 64, 67, 0.3), 0 1px 3px 1px rgba(60, 64, 67, 0.15);\n",
              "    fill: var(--button-hover-fill-color);\n",
              "  }\n",
              "\n",
              "  .colab-df-quickchart-complete:disabled,\n",
              "  .colab-df-quickchart-complete:disabled:hover {\n",
              "    background-color: var(--disabled-bg-color);\n",
              "    fill: var(--disabled-fill-color);\n",
              "    box-shadow: none;\n",
              "  }\n",
              "\n",
              "  .colab-df-spinner {\n",
              "    border: 2px solid var(--fill-color);\n",
              "    border-color: transparent;\n",
              "    border-bottom-color: var(--fill-color);\n",
              "    animation:\n",
              "      spin 1s steps(1) infinite;\n",
              "  }\n",
              "\n",
              "  @keyframes spin {\n",
              "    0% {\n",
              "      border-color: transparent;\n",
              "      border-bottom-color: var(--fill-color);\n",
              "      border-left-color: var(--fill-color);\n",
              "    }\n",
              "    20% {\n",
              "      border-color: transparent;\n",
              "      border-left-color: var(--fill-color);\n",
              "      border-top-color: var(--fill-color);\n",
              "    }\n",
              "    30% {\n",
              "      border-color: transparent;\n",
              "      border-left-color: var(--fill-color);\n",
              "      border-top-color: var(--fill-color);\n",
              "      border-right-color: var(--fill-color);\n",
              "    }\n",
              "    40% {\n",
              "      border-color: transparent;\n",
              "      border-right-color: var(--fill-color);\n",
              "      border-top-color: var(--fill-color);\n",
              "    }\n",
              "    60% {\n",
              "      border-color: transparent;\n",
              "      border-right-color: var(--fill-color);\n",
              "    }\n",
              "    80% {\n",
              "      border-color: transparent;\n",
              "      border-right-color: var(--fill-color);\n",
              "      border-bottom-color: var(--fill-color);\n",
              "    }\n",
              "    90% {\n",
              "      border-color: transparent;\n",
              "      border-bottom-color: var(--fill-color);\n",
              "    }\n",
              "  }\n",
              "</style>\n",
              "\n",
              "      <script>\n",
              "        async function quickchart(key) {\n",
              "          const quickchartButtonEl =\n",
              "            document.querySelector('#' + key + ' button');\n",
              "          quickchartButtonEl.disabled = true;  // To prevent multiple clicks.\n",
              "          quickchartButtonEl.classList.add('colab-df-spinner');\n",
              "          try {\n",
              "            const charts = await google.colab.kernel.invokeFunction(\n",
              "                'suggestCharts', [key], {});\n",
              "          } catch (error) {\n",
              "            console.error('Error during call to suggestCharts:', error);\n",
              "          }\n",
              "          quickchartButtonEl.classList.remove('colab-df-spinner');\n",
              "          quickchartButtonEl.classList.add('colab-df-quickchart-complete');\n",
              "        }\n",
              "        (() => {\n",
              "          let quickchartButtonEl =\n",
              "            document.querySelector('#df-713d9819-e633-4ab6-abdd-99c905336906 button');\n",
              "          quickchartButtonEl.style.display =\n",
              "            google.colab.kernel.accessAllowed ? 'block' : 'none';\n",
              "        })();\n",
              "      </script>\n",
              "    </div>\n",
              "\n",
              "  <div id=\"id_32d14d12-4670-4ead-893e-8c7da44ff9a4\">\n",
              "    <style>\n",
              "      .colab-df-generate {\n",
              "        background-color: #E8F0FE;\n",
              "        border: none;\n",
              "        border-radius: 50%;\n",
              "        cursor: pointer;\n",
              "        display: none;\n",
              "        fill: #1967D2;\n",
              "        height: 32px;\n",
              "        padding: 0 0 0 0;\n",
              "        width: 32px;\n",
              "      }\n",
              "\n",
              "      .colab-df-generate:hover {\n",
              "        background-color: #E2EBFA;\n",
              "        box-shadow: 0px 1px 2px rgba(60, 64, 67, 0.3), 0px 1px 3px 1px rgba(60, 64, 67, 0.15);\n",
              "        fill: #174EA6;\n",
              "      }\n",
              "\n",
              "      [theme=dark] .colab-df-generate {\n",
              "        background-color: #3B4455;\n",
              "        fill: #D2E3FC;\n",
              "      }\n",
              "\n",
              "      [theme=dark] .colab-df-generate:hover {\n",
              "        background-color: #434B5C;\n",
              "        box-shadow: 0px 1px 3px 1px rgba(0, 0, 0, 0.15);\n",
              "        filter: drop-shadow(0px 1px 2px rgba(0, 0, 0, 0.3));\n",
              "        fill: #FFFFFF;\n",
              "      }\n",
              "    </style>\n",
              "    <button class=\"colab-df-generate\" onclick=\"generateWithVariable('res_all_df_2')\"\n",
              "            title=\"Generate code using this dataframe.\"\n",
              "            style=\"display:none;\">\n",
              "\n",
              "  <svg xmlns=\"http://www.w3.org/2000/svg\" height=\"24px\"viewBox=\"0 0 24 24\"\n",
              "       width=\"24px\">\n",
              "    <path d=\"M7,19H8.4L18.45,9,17,7.55,7,17.6ZM5,21V16.75L18.45,3.32a2,2,0,0,1,2.83,0l1.4,1.43a1.91,1.91,0,0,1,.58,1.4,1.91,1.91,0,0,1-.58,1.4L9.25,21ZM18.45,9,17,7.55Zm-12,3A5.31,5.31,0,0,0,4.9,8.1,5.31,5.31,0,0,0,1,6.5,5.31,5.31,0,0,0,4.9,4.9,5.31,5.31,0,0,0,6.5,1,5.31,5.31,0,0,0,8.1,4.9,5.31,5.31,0,0,0,12,6.5,5.46,5.46,0,0,0,6.5,12Z\"/>\n",
              "  </svg>\n",
              "    </button>\n",
              "    <script>\n",
              "      (() => {\n",
              "      const buttonEl =\n",
              "        document.querySelector('#id_32d14d12-4670-4ead-893e-8c7da44ff9a4 button.colab-df-generate');\n",
              "      buttonEl.style.display =\n",
              "        google.colab.kernel.accessAllowed ? 'block' : 'none';\n",
              "\n",
              "      buttonEl.onclick = () => {\n",
              "        google.colab.notebook.generateWithVariable('res_all_df_2');\n",
              "      }\n",
              "      })();\n",
              "    </script>\n",
              "  </div>\n",
              "\n",
              "    </div>\n",
              "  </div>\n"
            ],
            "application/vnd.google.colaboratory.intrinsic+json": {
              "type": "dataframe",
              "variable_name": "res_all_df_2",
              "summary": "{\n  \"name\": \"res_all_df_2\",\n  \"rows\": 2,\n  \"fields\": [\n    {\n      \"column\": \"Embeddings\",\n      \"properties\": {\n        \"dtype\": \"string\",\n        \"num_unique_values\": 2,\n        \"samples\": [\n          \"fasttext\",\n          \"word2vec\"\n        ],\n        \"semantic_type\": \"\",\n        \"description\": \"\"\n      }\n    },\n    {\n      \"column\": \"val_score\",\n      \"properties\": {\n        \"dtype\": \"number\",\n        \"std\": 0.002045681788802331,\n        \"min\": 0.5724531225860119,\n        \"max\": 0.5753461535160358,\n        \"num_unique_values\": 2,\n        \"samples\": [\n          0.5753461535160358,\n          0.5724531225860119\n        ],\n        \"semantic_type\": \"\",\n        \"description\": \"\"\n      }\n    },\n    {\n      \"column\": \"val_loss\",\n      \"properties\": {\n        \"dtype\": \"number\",\n        \"std\": 0.00012182060252280993,\n        \"min\": 0.6776045560836792,\n        \"max\": 0.6777768364319434,\n        \"num_unique_values\": 2,\n        \"samples\": [\n          0.6777768364319434,\n          0.6776045560836792\n        ],\n        \"semantic_type\": \"\",\n        \"description\": \"\"\n      }\n    },\n    {\n      \"column\": \"auc\",\n      \"properties\": {\n        \"dtype\": \"number\",\n        \"std\": 0.001250473692974073,\n        \"min\": 0.5996703276267419,\n        \"max\": 0.6014387644827366,\n        \"num_unique_values\": 2,\n        \"samples\": [\n          0.5996703276267419,\n          0.6014387644827366\n        ],\n        \"semantic_type\": \"\",\n        \"description\": \"\"\n      }\n    },\n    {\n      \"column\": \"precision\",\n      \"properties\": {\n        \"dtype\": \"number\",\n        \"std\": 0.0029540756515647293,\n        \"min\": 0.5651788897812366,\n        \"max\": 0.5693565836319556,\n        \"num_unique_values\": 2,\n        \"samples\": [\n          0.5693565836319556,\n          0.5651788897812366\n        ],\n        \"semantic_type\": \"\",\n        \"description\": \"\"\n      }\n    },\n    {\n      \"column\": \"recall\",\n      \"properties\": {\n        \"dtype\": \"number\",\n        \"std\": 0.009370862011912416,\n        \"min\": 0.6186538522060101,\n        \"max\": 0.6319062523543835,\n        \"num_unique_values\": 2,\n        \"samples\": [\n          0.6186538522060101,\n          0.6319062523543835\n        ],\n        \"semantic_type\": \"\",\n        \"description\": \"\"\n      }\n    },\n    {\n      \"column\": \"train_time (s)\",\n      \"properties\": {\n        \"dtype\": \"number\",\n        \"std\": 8.253063197124156,\n        \"min\": 42.227514028549194,\n        \"max\": 53.899107933044434,\n        \"num_unique_values\": 2,\n        \"samples\": [\n          42.227514028549194,\n          53.899107933044434\n        ],\n        \"semantic_type\": \"\",\n        \"description\": \"\"\n      }\n    }\n  ]\n}"
            }
          },
          "metadata": {},
          "execution_count": 31
        }
      ]
    },
    {
      "cell_type": "code",
      "source": [
        "fig = plt.figure(figsize=(14, 6))\n",
        "\n",
        "# Accuracy\n",
        "ax = fig.add_subplot(131)\n",
        "sns.barplot(data=res_all_df_2, x=\"Embeddings\", y=\"val_score\", hue=\"Embeddings\", ax=ax)\n",
        "ax.set_title(\"Accuracy\")\n",
        "ax.set_ylabel(\"Accuracy\")\n",
        "plt.setp(ax.get_xticklabels(), rotation=45)\n",
        "ax.grid(axis=\"y\")\n",
        "\n",
        "# AUC\n",
        "ax = fig.add_subplot(132)\n",
        "sns.barplot(data=res_all_df_2, x=\"Embeddings\", y=\"auc\", hue=\"Embeddings\", ax=ax)\n",
        "ax.set_title(\"AUC\")\n",
        "ax.set_ylabel(\"AUC\")\n",
        "plt.setp(ax.get_xticklabels(), rotation=45)\n",
        "ax.grid(axis=\"y\")\n",
        "\n",
        "# Train Time\n",
        "ax = fig.add_subplot(133)\n",
        "sns.barplot(data=res_all_df_2, x=\"Embeddings\", y=\"train_time (s)\", hue=\"Embeddings\", ax=ax)\n",
        "ax.set_title(\"Temps d'entraînement\")\n",
        "ax.set_ylabel(\"Temps d'entraînement (s)\")\n",
        "plt.setp(ax.get_xticklabels(), rotation=45)\n",
        "ax.set_yscale(\"log\")\n",
        "ax.grid(axis=\"y\")\n",
        "\n",
        "fig.tight_layout()\n",
        "plt.show()"
      ],
      "metadata": {
        "colab": {
          "base_uri": "https://localhost:8080/",
          "height": 607
        },
        "id": "x5lXApplCvtx",
        "outputId": "185b132b-a81c-4a52-f8d5-e948e323067b"
      },
      "execution_count": 32,
      "outputs": [
        {
          "output_type": "display_data",
          "data": {
            "text/plain": [
              "<Figure size 1400x600 with 3 Axes>"
            ],
            "image/png": "[encoded data removed]"
          },
          "metadata": {}
        }
      ]
    },
    {
      "cell_type": "markdown",
      "source": [
        "Les graphiques plus haut, nous montre:\n",
        "\n",
        "- **Word2Vec** :\n",
        "Surentraînement clair : la courbe de validation stagne voire descend légèrement sur certaines métriques alors que celle d'entraînement continue de progresser.\n",
        "\n",
        "Plus de variance dans la précision et AUC côté validation.\n",
        "\n",
        "- **FastText** :\n",
        "Moins de surentraînement.\n",
        "\n",
        "Plus stable sur la plupart des métriques.\n",
        "\n",
        "Les courbes train/val sont plus proches, ce qui suggère une meilleure généralisation."
      ],
      "metadata": {
        "id": "6d2aLAWAGegW"
      }
    },
    {
      "cell_type": "markdown",
      "source": [
        "**Conclusion**\n",
        "FastText semble légèrement meilleur pour la généralisation, même si Word2Vec donne de meilleures performances brutes sur le training."
      ],
      "metadata": {
        "id": "qse8A6MjGxzr"
      }
    },
    {
      "cell_type": "markdown",
      "source": [
        "## Optimisation des hyperparametes"
      ],
      "metadata": {
        "id": "kQl0qg3pHC0X"
      }
    },
    {
      "cell_type": "code",
      "source": [
        "!pip install optuna optuna-integration -q\n",
        "import optuna\n",
        "from optuna.integration import TFKerasPruningCallback\n",
        "from tensorflow import keras"
      ],
      "metadata": {
        "id": "C1CK0v7sJZqb",
        "outputId": "b4b6fcee-8d47-4ce7-e333-c20c3dff2f2f",
        "colab": {
          "base_uri": "https://localhost:8080/"
        }
      },
      "execution_count": 33,
      "outputs": [
        {
          "output_type": "stream",
          "name": "stdout",
          "text": [
            "\u001b[?25l   \u001b[90m━━━━━━━━━━━━━━━━━━━━━━━━━━━━━━━━━━━━━━━━\u001b[0m \u001b[32m0.0/386.6 kB\u001b[0m \u001b[31m?\u001b[0m eta \u001b[36m-:--:--\u001b[0m\r\u001b[2K   \u001b[91m━━━━━━━━━━━━━━━━━━━━━━━━━━━━━\u001b[0m\u001b[91m╸\u001b[0m\u001b[90m━━━━━━━━━━\u001b[0m \u001b[32m286.7/386.6 kB\u001b[0m \u001b[31m9.1 MB/s\u001b[0m eta \u001b[36m0:00:01\u001b[0m\r\u001b[2K   \u001b[90m━━━━━━━━━━━━━━━━━━━━━━━━━━━━━━━━━━━━━━━━\u001b[0m \u001b[32m386.6/386.6 kB\u001b[0m \u001b[31m8.0 MB/s\u001b[0m eta \u001b[36m0:00:00\u001b[0m\n",
            "\u001b[?25h\u001b[?25l   \u001b[90m━━━━━━━━━━━━━━━━━━━━━━━━━━━━━━━━━━━━━━━━\u001b[0m \u001b[32m0.0/98.5 kB\u001b[0m \u001b[31m?\u001b[0m eta \u001b[36m-:--:--\u001b[0m\r\u001b[2K   \u001b[90m━━━━━━━━━━━━━━━━━━━━━━━━━━━━━━━━━━━━━━━━\u001b[0m \u001b[32m98.5/98.5 kB\u001b[0m \u001b[31m13.3 MB/s\u001b[0m eta \u001b[36m0:00:00\u001b[0m\n",
            "\u001b[?25h"
          ]
        }
      ]
    },
    {
      "cell_type": "code",
      "source": [
        "def objective(trial):\n",
        "    # Hyperparams à tuner\n",
        "    lstm_units = trial.suggest_categorical(\"lstm_units\", [32, 64, 128])\n",
        "    dense_units = trial.suggest_int(\"dense_units\", 16, 128, step=16)\n",
        "    dropout_rate = trial.suggest_float(\"dropout_rate\", 0.1, 0.5)\n",
        "    learning_rate = trial.suggest_float(\"learning_rate\", 1e-4, 1e-2, log=True)\n",
        "    batch_size = trial.suggest_categorical(\"batch_size\", [32, 64, 128])\n",
        "\n",
        "    model = build_model(\n",
        "        dropout_rate=dropout_rate,\n",
        "        dense_units=dense_units,\n",
        "        lstm_units=lstm_units\n",
        "    )\n",
        "\n",
        "    model.compile(\n",
        "        optimizer=keras.optimizers.Adam(learning_rate=learning_rate),\n",
        "        loss=\"binary_crossentropy\",\n",
        "        metrics=[\"accuracy\"]\n",
        "    )\n",
        "\n",
        "    # Callback de pruning\n",
        "    pruning_callback = TFKerasPruningCallback(trial, \"val_accuracy\")\n",
        "\n",
        "    history = model.fit(\n",
        "        train_ft_set, y_train_ft,\n",
        "        validation_data=(val_ft_set, y_valid_ft),\n",
        "        epochs=30,\n",
        "        batch_size=batch_size,\n",
        "        callbacks=[\n",
        "            keras.callbacks.EarlyStopping(patience=3, restore_best_weights=True),\n",
        "            pruning_callback\n",
        "        ],\n",
        "        verbose=0\n",
        "    )\n",
        "\n",
        "    return max(history.history[\"val_accuracy\"])"
      ],
      "metadata": {
        "id": "AF5dBW7MGmcT"
      },
      "execution_count": 34,
      "outputs": []
    },
    {
      "cell_type": "code",
      "source": [
        "try:\n",
        "  optuna.delete_study(study_name=\"lstm_hyperparameter_optimization\", storage=\"sqlite:///study.db\")\n",
        "except:\n",
        "  pass"
      ],
      "metadata": {
        "id": "BrNm27hGSbZ4"
      },
      "execution_count": 35,
      "outputs": []
    },
    {
      "cell_type": "code",
      "source": [
        "%%time\n",
        "storage_url = \"sqlite:///study.db\"\n",
        "study_name = \"lstm_hyperparameter_optimization\"\n",
        "study = optuna.create_study(study_name=study_name, storage=storage_url, direction=\"maximize\", load_if_exists=True)\n",
        "study.optimize(objective, n_trials=50)"
      ],
      "metadata": {
        "colab": {
          "base_uri": "https://localhost:8080/"
        },
        "id": "wHq7UwWuJV-4",
        "outputId": "c3255418-1226-40d6-e7b7-6e077d11fc19"
      },
      "execution_count": 36,
      "outputs": [
        {
          "output_type": "stream",
          "name": "stderr",
          "text": [
            "[I 2025-06-04 22:15:15,886] A new study created in RDB with name: lstm_hyperparameter_optimization\n",
            "[I 2025-06-04 22:15:41,138] Trial 0 finished with value: 0.5932499766349792 and parameters: {'lstm_units': 64, 'dense_units': 48, 'dropout_rate': 0.2782128252902599, 'learning_rate': 0.0014344829460038676, 'batch_size': 32}. Best is trial 0 with value: 0.5932499766349792.\n",
            "[I 2025-06-04 22:16:05,634] Trial 1 finished with value: 0.5902500152587891 and parameters: {'lstm_units': 128, 'dense_units': 64, 'dropout_rate': 0.42365953103292253, 'learning_rate': 0.00033076468163317725, 'batch_size': 64}. Best is trial 0 with value: 0.5932499766349792.\n",
            "[I 2025-06-04 22:16:17,165] Trial 2 finished with value: 0.5899999737739563 and parameters: {'lstm_units': 32, 'dense_units': 128, 'dropout_rate': 0.44439079424070616, 'learning_rate': 0.0031293504665225757, 'batch_size': 128}. Best is trial 0 with value: 0.5932499766349792.\n",
            "[I 2025-06-04 22:16:26,453] Trial 3 finished with value: 0.593999981880188 and parameters: {'lstm_units': 64, 'dense_units': 32, 'dropout_rate': 0.1580821984338935, 'learning_rate': 0.003761341253366697, 'batch_size': 128}. Best is trial 3 with value: 0.593999981880188.\n",
            "[I 2025-06-04 22:16:53,755] Trial 4 finished with value: 0.5874999761581421 and parameters: {'lstm_units': 32, 'dense_units': 128, 'dropout_rate': 0.3440538811689855, 'learning_rate': 0.0010299012172325214, 'batch_size': 32}. Best is trial 3 with value: 0.593999981880188.\n",
            "[I 2025-06-04 22:16:57,772] Trial 5 pruned. Trial was pruned at epoch 0.\n",
            "[I 2025-06-04 22:17:02,295] Trial 6 pruned. Trial was pruned at epoch 0.\n",
            "[I 2025-06-04 22:17:16,688] Trial 7 pruned. Trial was pruned at epoch 7.\n",
            "[I 2025-06-04 22:17:21,365] Trial 8 pruned. Trial was pruned at epoch 0.\n",
            "[I 2025-06-04 22:17:26,793] Trial 9 pruned. Trial was pruned at epoch 0.\n",
            "[I 2025-06-04 22:17:30,747] Trial 10 pruned. Trial was pruned at epoch 0.\n",
            "[I 2025-06-04 22:17:36,175] Trial 11 pruned. Trial was pruned at epoch 0.\n",
            "[I 2025-06-04 22:17:46,434] Trial 12 pruned. Trial was pruned at epoch 2.\n",
            "[I 2025-06-04 22:17:51,875] Trial 13 pruned. Trial was pruned at epoch 0.\n",
            "[I 2025-06-04 22:17:57,373] Trial 14 pruned. Trial was pruned at epoch 2.\n",
            "[I 2025-06-04 22:18:01,349] Trial 15 pruned. Trial was pruned at epoch 0.\n",
            "[I 2025-06-04 22:18:06,793] Trial 16 pruned. Trial was pruned at epoch 0.\n",
            "[I 2025-06-04 22:18:13,025] Trial 17 pruned. Trial was pruned at epoch 0.\n",
            "[I 2025-06-04 22:18:17,052] Trial 18 pruned. Trial was pruned at epoch 0.\n",
            "[I 2025-06-04 22:18:30,170] Trial 19 pruned. Trial was pruned at epoch 6.\n",
            "[I 2025-06-04 22:18:34,165] Trial 20 pruned. Trial was pruned at epoch 0.\n",
            "[I 2025-06-04 22:18:38,851] Trial 21 pruned. Trial was pruned at epoch 0.\n",
            "[I 2025-06-04 22:18:43,520] Trial 22 pruned. Trial was pruned at epoch 0.\n",
            "[I 2025-06-04 22:18:48,157] Trial 23 pruned. Trial was pruned at epoch 0.\n",
            "[I 2025-06-04 22:18:52,724] Trial 24 pruned. Trial was pruned at epoch 0.\n",
            "[I 2025-06-04 22:18:58,700] Trial 25 pruned. Trial was pruned at epoch 1.\n",
            "[I 2025-06-04 22:19:06,556] Trial 26 pruned. Trial was pruned at epoch 1.\n",
            "[I 2025-06-04 22:19:11,264] Trial 27 pruned. Trial was pruned at epoch 1.\n",
            "[I 2025-06-04 22:19:16,867] Trial 28 pruned. Trial was pruned at epoch 0.\n",
            "[I 2025-06-04 22:19:22,445] Trial 29 pruned. Trial was pruned at epoch 0.\n",
            "[I 2025-06-04 22:19:26,361] Trial 30 pruned. Trial was pruned at epoch 0.\n",
            "[I 2025-06-04 22:19:31,017] Trial 31 pruned. Trial was pruned at epoch 1.\n",
            "[I 2025-06-04 22:19:35,672] Trial 32 pruned. Trial was pruned at epoch 1.\n",
            "[I 2025-06-04 22:19:40,261] Trial 33 pruned. Trial was pruned at epoch 1.\n",
            "[I 2025-06-04 22:19:44,171] Trial 34 pruned. Trial was pruned at epoch 0.\n",
            "[I 2025-06-04 22:19:50,136] Trial 35 pruned. Trial was pruned at epoch 1.\n",
            "[I 2025-06-04 22:19:57,965] Trial 36 pruned. Trial was pruned at epoch 1.\n",
            "[I 2025-06-04 22:20:02,757] Trial 37 pruned. Trial was pruned at epoch 1.\n",
            "[I 2025-06-04 22:20:07,506] Trial 38 pruned. Trial was pruned at epoch 1.\n",
            "[I 2025-06-04 22:20:12,899] Trial 39 pruned. Trial was pruned at epoch 0.\n",
            "[I 2025-06-04 22:20:18,755] Trial 40 pruned. Trial was pruned at epoch 0.\n",
            "[I 2025-06-04 22:20:24,324] Trial 41 pruned. Trial was pruned at epoch 0.\n",
            "[I 2025-06-04 22:20:32,239] Trial 42 pruned. Trial was pruned at epoch 1.\n",
            "[I 2025-06-04 22:20:37,652] Trial 43 pruned. Trial was pruned at epoch 0.\n",
            "[I 2025-06-04 22:20:43,184] Trial 44 pruned. Trial was pruned at epoch 0.\n",
            "[I 2025-06-04 22:21:02,868] Trial 45 pruned. Trial was pruned at epoch 6.\n",
            "[I 2025-06-04 22:21:06,806] Trial 46 pruned. Trial was pruned at epoch 0.\n",
            "[I 2025-06-04 22:21:29,405] Trial 47 finished with value: 0.5902500152587891 and parameters: {'lstm_units': 64, 'dense_units': 128, 'dropout_rate': 0.26143018831097004, 'learning_rate': 0.0014923182657917103, 'batch_size': 32}. Best is trial 3 with value: 0.593999981880188.\n",
            "[I 2025-06-04 22:21:44,349] Trial 48 pruned. Trial was pruned at epoch 4.\n",
            "[I 2025-06-04 22:21:48,269] Trial 49 pruned. Trial was pruned at epoch 0.\n"
          ]
        },
        {
          "output_type": "stream",
          "name": "stdout",
          "text": [
            "CPU times: user 7min 4s, sys: 49.6 s, total: 7min 54s\n",
            "Wall time: 6min 32s\n"
          ]
        }
      ]
    },
    {
      "cell_type": "code",
      "source": [
        "print(\"Best hyperparameters:\")\n",
        "print(study.best_params)\n",
        "\n",
        "print(\"Best validation accuracy:\", study.best_value)"
      ],
      "metadata": {
        "colab": {
          "base_uri": "https://localhost:8080/"
        },
        "id": "pVKveAnQKHfJ",
        "outputId": "a5adb9af-480e-405d-c9e7-f2dbad049d01"
      },
      "execution_count": 37,
      "outputs": [
        {
          "output_type": "stream",
          "name": "stdout",
          "text": [
            "Best hyperparameters:\n",
            "{'lstm_units': 64, 'dense_units': 32, 'dropout_rate': 0.1580821984338935, 'learning_rate': 0.003761341253366697, 'batch_size': 128}\n",
            "Best validation accuracy: 0.593999981880188\n"
          ]
        }
      ]
    },
    {
      "cell_type": "markdown",
      "source": [
        "\n",
        "\n",
        "> Entrainer le modél final\n",
        "\n"
      ],
      "metadata": {
        "id": "Ndb7xOGgnoaI"
      }
    },
    {
      "cell_type": "code",
      "source": [
        "%%time\n",
        "final_model = build_model(\n",
        "  dropout_rate=study.best_params[\"dropout_rate\"],\n",
        "  dense_units=study.best_params[\"dense_units\"],\n",
        "  lstm_units=study.best_params[\"lstm_units\"]\n",
        ")\n",
        "\n",
        "final_model.compile(\n",
        "  optimizer=keras.optimizers.Adam(learning_rate=study.best_params['learning_rate']),\n",
        "  loss=\"binary_crossentropy\",\n",
        "  metrics=['accuracy', 'auc', 'precision', 'recall']\n",
        ")\n",
        "final_model.summary()"
      ],
      "metadata": {
        "colab": {
          "base_uri": "https://localhost:8080/",
          "height": 319
        },
        "id": "qYBwy6bxnR3c",
        "outputId": "c7efb156-61f2-423d-d086-b81fb452279c"
      },
      "execution_count": 38,
      "outputs": [
        {
          "output_type": "display_data",
          "data": {
            "text/plain": [
              "\u001b[1mModel: \"sequential_52\"\u001b[0m\n"
            ],
            "text/html": [
              "<pre style=\"white-space:pre;overflow-x:auto;line-height:normal;font-family:Menlo,'DejaVu Sans Mono',consolas,'Courier New',monospace\"><span style=\"font-weight: bold\">Model: \"sequential_52\"</span>\n",
              "</pre>\n"
            ]
          },
          "metadata": {}
        },
        {
          "output_type": "display_data",
          "data": {
            "text/plain": [
              "┏━━━━━━━━━━━━━━━━━━━━━━━━━━━━━━━━━┳━━━━━━━━━━━━━━━━━━━━━━━━┳━━━━━━━━━━━━━━━┓\n",
              "┃\u001b[1m \u001b[0m\u001b[1mLayer (type)                   \u001b[0m\u001b[1m \u001b[0m┃\u001b[1m \u001b[0m\u001b[1mOutput Shape          \u001b[0m\u001b[1m \u001b[0m┃\u001b[1m \u001b[0m\u001b[1m      Param #\u001b[0m\u001b[1m \u001b[0m┃\n",
              "┡━━━━━━━━━━━━━━━━━━━━━━━━━━━━━━━━━╇━━━━━━━━━━━━━━━━━━━━━━━━╇━━━━━━━━━━━━━━━┩\n",
              "│ bidirectional_52                │ (\u001b[38;5;45mNone\u001b[0m, \u001b[38;5;34m128\u001b[0m)            │       \u001b[38;5;34m186,880\u001b[0m │\n",
              "│ (\u001b[38;5;33mBidirectional\u001b[0m)                 │                        │               │\n",
              "├─────────────────────────────────┼────────────────────────┼───────────────┤\n",
              "│ dropout_52 (\u001b[38;5;33mDropout\u001b[0m)            │ (\u001b[38;5;45mNone\u001b[0m, \u001b[38;5;34m128\u001b[0m)            │             \u001b[38;5;34m0\u001b[0m │\n",
              "├─────────────────────────────────┼────────────────────────┼───────────────┤\n",
              "│ dense_104 (\u001b[38;5;33mDense\u001b[0m)               │ (\u001b[38;5;45mNone\u001b[0m, \u001b[38;5;34m32\u001b[0m)             │         \u001b[38;5;34m4,128\u001b[0m │\n",
              "├─────────────────────────────────┼────────────────────────┼───────────────┤\n",
              "│ dense_105 (\u001b[38;5;33mDense\u001b[0m)               │ (\u001b[38;5;45mNone\u001b[0m, \u001b[38;5;34m1\u001b[0m)              │            \u001b[38;5;34m33\u001b[0m │\n",
              "└─────────────────────────────────┴────────────────────────┴───────────────┘\n"
            ],
            "text/html": [
              "<pre style=\"white-space:pre;overflow-x:auto;line-height:normal;font-family:Menlo,'DejaVu Sans Mono',consolas,'Courier New',monospace\">┏━━━━━━━━━━━━━━━━━━━━━━━━━━━━━━━━━┳━━━━━━━━━━━━━━━━━━━━━━━━┳━━━━━━━━━━━━━━━┓\n",
              "┃<span style=\"font-weight: bold\"> Layer (type)                    </span>┃<span style=\"font-weight: bold\"> Output Shape           </span>┃<span style=\"font-weight: bold\">       Param # </span>┃\n",
              "┡━━━━━━━━━━━━━━━━━━━━━━━━━━━━━━━━━╇━━━━━━━━━━━━━━━━━━━━━━━━╇━━━━━━━━━━━━━━━┩\n",
              "│ bidirectional_52                │ (<span style=\"color: #00d7ff; text-decoration-color: #00d7ff\">None</span>, <span style=\"color: #00af00; text-decoration-color: #00af00\">128</span>)            │       <span style=\"color: #00af00; text-decoration-color: #00af00\">186,880</span> │\n",
              "│ (<span style=\"color: #0087ff; text-decoration-color: #0087ff\">Bidirectional</span>)                 │                        │               │\n",
              "├─────────────────────────────────┼────────────────────────┼───────────────┤\n",
              "│ dropout_52 (<span style=\"color: #0087ff; text-decoration-color: #0087ff\">Dropout</span>)            │ (<span style=\"color: #00d7ff; text-decoration-color: #00d7ff\">None</span>, <span style=\"color: #00af00; text-decoration-color: #00af00\">128</span>)            │             <span style=\"color: #00af00; text-decoration-color: #00af00\">0</span> │\n",
              "├─────────────────────────────────┼────────────────────────┼───────────────┤\n",
              "│ dense_104 (<span style=\"color: #0087ff; text-decoration-color: #0087ff\">Dense</span>)               │ (<span style=\"color: #00d7ff; text-decoration-color: #00d7ff\">None</span>, <span style=\"color: #00af00; text-decoration-color: #00af00\">32</span>)             │         <span style=\"color: #00af00; text-decoration-color: #00af00\">4,128</span> │\n",
              "├─────────────────────────────────┼────────────────────────┼───────────────┤\n",
              "│ dense_105 (<span style=\"color: #0087ff; text-decoration-color: #0087ff\">Dense</span>)               │ (<span style=\"color: #00d7ff; text-decoration-color: #00d7ff\">None</span>, <span style=\"color: #00af00; text-decoration-color: #00af00\">1</span>)              │            <span style=\"color: #00af00; text-decoration-color: #00af00\">33</span> │\n",
              "└─────────────────────────────────┴────────────────────────┴───────────────┘\n",
              "</pre>\n"
            ]
          },
          "metadata": {}
        },
        {
          "output_type": "display_data",
          "data": {
            "text/plain": [
              "\u001b[1m Total params: \u001b[0m\u001b[38;5;34m191,041\u001b[0m (746.25 KB)\n"
            ],
            "text/html": [
              "<pre style=\"white-space:pre;overflow-x:auto;line-height:normal;font-family:Menlo,'DejaVu Sans Mono',consolas,'Courier New',monospace\"><span style=\"font-weight: bold\"> Total params: </span><span style=\"color: #00af00; text-decoration-color: #00af00\">191,041</span> (746.25 KB)\n",
              "</pre>\n"
            ]
          },
          "metadata": {}
        },
        {
          "output_type": "display_data",
          "data": {
            "text/plain": [
              "\u001b[1m Trainable params: \u001b[0m\u001b[38;5;34m191,041\u001b[0m (746.25 KB)\n"
            ],
            "text/html": [
              "<pre style=\"white-space:pre;overflow-x:auto;line-height:normal;font-family:Menlo,'DejaVu Sans Mono',consolas,'Courier New',monospace\"><span style=\"font-weight: bold\"> Trainable params: </span><span style=\"color: #00af00; text-decoration-color: #00af00\">191,041</span> (746.25 KB)\n",
              "</pre>\n"
            ]
          },
          "metadata": {}
        },
        {
          "output_type": "display_data",
          "data": {
            "text/plain": [
              "\u001b[1m Non-trainable params: \u001b[0m\u001b[38;5;34m0\u001b[0m (0.00 B)\n"
            ],
            "text/html": [
              "<pre style=\"white-space:pre;overflow-x:auto;line-height:normal;font-family:Menlo,'DejaVu Sans Mono',consolas,'Courier New',monospace\"><span style=\"font-weight: bold\"> Non-trainable params: </span><span style=\"color: #00af00; text-decoration-color: #00af00\">0</span> (0.00 B)\n",
              "</pre>\n"
            ]
          },
          "metadata": {}
        },
        {
          "output_type": "stream",
          "name": "stdout",
          "text": [
            "CPU times: user 84.4 ms, sys: 20.9 ms, total: 105 ms\n",
            "Wall time: 102 ms\n"
          ]
        }
      ]
    },
    {
      "cell_type": "code",
      "source": [
        "%%time\n",
        "y_preds_prob = None\n",
        "y_preds = None\n",
        "mlflow.set_experiment(\"fasttext-lstm-advanced-model\")\n",
        "with mlflow.start_run():\n",
        "  history = final_model.fit(\n",
        "      train_ft_set, y_train_ft,\n",
        "      validation_data=(val_ft_set, y_valid_ft),\n",
        "      epochs=30,\n",
        "      batch_size=study.best_params[\"batch_size\"],\n",
        "      callbacks=[\n",
        "          keras.callbacks.EarlyStopping(patience=3, restore_best_weights=True),\n",
        "      ]\n",
        "  )\n",
        "  y_preds_prob = final_model.predict(test_ft_set)\n",
        "  y_preds = np.where(y_preds_prob > 0.5, 1, 0)\n",
        "\n",
        "  mlflow.log_params(study.best_params)\n",
        "  mlflow.log_metric(\"accuracy\", accuracy_score(y_test_ft, y_preds))\n",
        "  mlflow.log_metric(\"loss\", mean_squared_error(y_test_ft, y_preds))\n",
        "  mlflow.log_metric(\"precision\", precision_score(y_test_ft, y_preds))\n",
        "  mlflow.log_metric(\"recall\", recall_score(y_test_ft, y_preds))\n",
        "  mlflow.log_metric(\"auc\", roc_auc_score(y_test_ft, y_preds))\n",
        "\n",
        "  example = test_ft_set.take(1)\n",
        "  signature = infer_signature(train_ft_set, y_train_ft)\n",
        "\n",
        "  model_dir = \"tmp_model.keras\"\n",
        "  final_model.save(model_dir, include_optimizer=False)\n",
        "  mlflow.log_artifact(model_dir, artifact_path=\"model-artifact\")\n",
        "  mlflow.log_param(\"model_format\", \"Keras 3 native\")\n",
        "  '''\n",
        "  mlflow.tensorflow.log_model(\n",
        "      model=final_model,\n",
        "      signature=signature,\n",
        "      artifact_path=\"model-artifact\",\n",
        "      registered_model_name=\"ft_lstm_advanced_model\"\n",
        "  )\n",
        "  '''"
      ],
      "metadata": {
        "colab": {
          "base_uri": "https://localhost:8080/",
          "height": 834
        },
        "id": "ghiwaSGNvaCg",
        "outputId": "3d7e2955-6536-4303-d3fc-50e43a0e42b0"
      },
      "execution_count": 76,
      "outputs": [
        {
          "output_type": "stream",
          "name": "stdout",
          "text": [
            "Epoch 1/30\n",
            "\u001b[1m94/94\u001b[0m \u001b[32m━━━━━━━━━━━━━━━━━━━━\u001b[0m\u001b[37m\u001b[0m \u001b[1m1s\u001b[0m 12ms/step - accuracy: 0.8208 - auc: 0.9085 - loss: 0.3786 - precision: 0.8067 - recall: 0.8491 - val_accuracy: 0.5723 - val_auc: 0.6048 - val_loss: 1.0249 - val_precision: 0.5686 - val_recall: 0.5990\n",
            "Epoch 2/30\n",
            "\u001b[1m94/94\u001b[0m \u001b[32m━━━━━━━━━━━━━━━━━━━━\u001b[0m\u001b[37m\u001b[0m \u001b[1m1s\u001b[0m 10ms/step - accuracy: 0.8320 - auc: 0.9182 - loss: 0.3600 - precision: 0.8163 - recall: 0.8615 - val_accuracy: 0.5778 - val_auc: 0.6117 - val_loss: 1.0380 - val_precision: 0.5734 - val_recall: 0.6075\n",
            "Epoch 3/30\n",
            "\u001b[1m94/94\u001b[0m \u001b[32m━━━━━━━━━━━━━━━━━━━━\u001b[0m\u001b[37m\u001b[0m \u001b[1m1s\u001b[0m 10ms/step - accuracy: 0.8372 - auc: 0.9211 - loss: 0.3540 - precision: 0.8195 - recall: 0.8605 - val_accuracy: 0.5700 - val_auc: 0.6062 - val_loss: 1.0375 - val_precision: 0.5674 - val_recall: 0.5895\n",
            "Epoch 4/30\n",
            "\u001b[1m94/94\u001b[0m \u001b[32m━━━━━━━━━━━━━━━━━━━━\u001b[0m\u001b[37m\u001b[0m \u001b[1m1s\u001b[0m 10ms/step - accuracy: 0.8410 - auc: 0.9300 - loss: 0.3351 - precision: 0.8251 - recall: 0.8625 - val_accuracy: 0.5748 - val_auc: 0.6052 - val_loss: 1.0497 - val_precision: 0.5705 - val_recall: 0.6050\n",
            "\u001b[1m125/125\u001b[0m \u001b[32m━━━━━━━━━━━━━━━━━━━━\u001b[0m\u001b[37m\u001b[0m \u001b[1m0s\u001b[0m 2ms/step\n",
            "🏃 View run blushing-shad-571 at: https://mlflow.amadousy.dev/#/experiments/24/runs/539f2a23f8f74d418c2dcb7eecaaf098\n",
            "🧪 View experiment at: https://mlflow.amadousy.dev/#/experiments/24\n"
          ]
        },
        {
          "output_type": "error",
          "ename": "HTTPError",
          "evalue": "413 Client Error: Request Entity Too Large for url: https://mlflow.amadousy.dev/api/2.0/mlflow-artifacts/artifacts/24/539f2a23f8f74d418c2dcb7eecaaf098/artifacts/model-artifact/tmp_model.keras. Response text: <html>\r\n<head><title>413 Request Entity Too Large</title></head>\r\n<body>\r\n<center><h1>413 Request Entity Too Large</h1></center>\r\n<hr><center>nginx/1.25.2</center>\r\n</body>\r\n</html>\r\n",
          "traceback": [
            "\u001b[0;31m---------------------------------------------------------------------------\u001b[0m",
            "\u001b[0;31mHTTPError\u001b[0m                                 Traceback (most recent call last)",
            "\u001b[0;32m/usr/local/lib/python3.11/dist-packages/mlflow/utils/request_utils.py\u001b[0m in \u001b[0;36maugmented_raise_for_status\u001b[0;34m(response)\u001b[0m\n\u001b[1;32m     62\u001b[0m     \u001b[0;32mtry\u001b[0m\u001b[0;34m:\u001b[0m\u001b[0;34m\u001b[0m\u001b[0;34m\u001b[0m\u001b[0m\n\u001b[0;32m---> 63\u001b[0;31m         \u001b[0mresponse\u001b[0m\u001b[0;34m.\u001b[0m\u001b[0mraise_for_status\u001b[0m\u001b[0;34m(\u001b[0m\u001b[0;34m)\u001b[0m\u001b[0;34m\u001b[0m\u001b[0;34m\u001b[0m\u001b[0m\n\u001b[0m\u001b[1;32m     64\u001b[0m     \u001b[0;32mexcept\u001b[0m \u001b[0mHTTPError\u001b[0m \u001b[0;32mas\u001b[0m \u001b[0me\u001b[0m\u001b[0;34m:\u001b[0m\u001b[0;34m\u001b[0m\u001b[0;34m\u001b[0m\u001b[0m\n",
            "\u001b[0;32m/usr/local/lib/python3.11/dist-packages/requests/models.py\u001b[0m in \u001b[0;36mraise_for_status\u001b[0;34m(self)\u001b[0m\n\u001b[1;32m   1023\u001b[0m         \u001b[0;32mif\u001b[0m \u001b[0mhttp_error_msg\u001b[0m\u001b[0;34m:\u001b[0m\u001b[0;34m\u001b[0m\u001b[0;34m\u001b[0m\u001b[0m\n\u001b[0;32m-> 1024\u001b[0;31m             \u001b[0;32mraise\u001b[0m \u001b[0mHTTPError\u001b[0m\u001b[0;34m(\u001b[0m\u001b[0mhttp_error_msg\u001b[0m\u001b[0;34m,\u001b[0m \u001b[0mresponse\u001b[0m\u001b[0;34m=\u001b[0m\u001b[0mself\u001b[0m\u001b[0;34m)\u001b[0m\u001b[0;34m\u001b[0m\u001b[0;34m\u001b[0m\u001b[0m\n\u001b[0m\u001b[1;32m   1025\u001b[0m \u001b[0;34m\u001b[0m\u001b[0m\n",
            "\u001b[0;31mHTTPError\u001b[0m: 413 Client Error: Request Entity Too Large for url: https://mlflow.amadousy.dev/api/2.0/mlflow-artifacts/artifacts/24/539f2a23f8f74d418c2dcb7eecaaf098/artifacts/model-artifact/tmp_model.keras",
            "\nDuring handling of the above exception, another exception occurred:\n",
            "\u001b[0;31mHTTPError\u001b[0m                                 Traceback (most recent call last)",
            "\u001b[0;32m<timed exec>\u001b[0m in \u001b[0;36m<module>\u001b[0;34m\u001b[0m\n",
            "\u001b[0;32m/usr/local/lib/python3.11/dist-packages/mlflow/tracking/fluent.py\u001b[0m in \u001b[0;36mlog_artifact\u001b[0;34m(local_path, artifact_path, run_id)\u001b[0m\n\u001b[1;32m   1177\u001b[0m     \"\"\"\n\u001b[1;32m   1178\u001b[0m     \u001b[0mrun_id\u001b[0m \u001b[0;34m=\u001b[0m \u001b[0mrun_id\u001b[0m \u001b[0;32mor\u001b[0m \u001b[0m_get_or_start_run\u001b[0m\u001b[0;34m(\u001b[0m\u001b[0;34m)\u001b[0m\u001b[0;34m.\u001b[0m\u001b[0minfo\u001b[0m\u001b[0;34m.\u001b[0m\u001b[0mrun_id\u001b[0m\u001b[0;34m\u001b[0m\u001b[0;34m\u001b[0m\u001b[0m\n\u001b[0;32m-> 1179\u001b[0;31m     \u001b[0mMlflowClient\u001b[0m\u001b[0;34m(\u001b[0m\u001b[0;34m)\u001b[0m\u001b[0;34m.\u001b[0m\u001b[0mlog_artifact\u001b[0m\u001b[0;34m(\u001b[0m\u001b[0mrun_id\u001b[0m\u001b[0;34m,\u001b[0m \u001b[0mlocal_path\u001b[0m\u001b[0;34m,\u001b[0m \u001b[0martifact_path\u001b[0m\u001b[0;34m)\u001b[0m\u001b[0;34m\u001b[0m\u001b[0;34m\u001b[0m\u001b[0m\n\u001b[0m\u001b[1;32m   1180\u001b[0m \u001b[0;34m\u001b[0m\u001b[0m\n\u001b[1;32m   1181\u001b[0m \u001b[0;34m\u001b[0m\u001b[0m\n",
            "\u001b[0;32m/usr/local/lib/python3.11/dist-packages/mlflow/tracking/client.py\u001b[0m in \u001b[0;36mlog_artifact\u001b[0;34m(self, run_id, local_path, artifact_path)\u001b[0m\n\u001b[1;32m   2377\u001b[0m                 \u001b[0;34mf\"Invalid run id: {run_id}. `log_artifact` run id must map to a valid run.\"\u001b[0m\u001b[0;34m\u001b[0m\u001b[0;34m\u001b[0m\u001b[0m\n\u001b[1;32m   2378\u001b[0m             )\n\u001b[0;32m-> 2379\u001b[0;31m         \u001b[0mself\u001b[0m\u001b[0;34m.\u001b[0m\u001b[0m_tracking_client\u001b[0m\u001b[0;34m.\u001b[0m\u001b[0mlog_artifact\u001b[0m\u001b[0;34m(\u001b[0m\u001b[0mrun_id\u001b[0m\u001b[0;34m,\u001b[0m \u001b[0mlocal_path\u001b[0m\u001b[0;34m,\u001b[0m \u001b[0martifact_path\u001b[0m\u001b[0;34m)\u001b[0m\u001b[0;34m\u001b[0m\u001b[0;34m\u001b[0m\u001b[0m\n\u001b[0m\u001b[1;32m   2380\u001b[0m \u001b[0;34m\u001b[0m\u001b[0m\n\u001b[1;32m   2381\u001b[0m     def log_artifacts(\n",
            "\u001b[0;32m/usr/local/lib/python3.11/dist-packages/mlflow/tracking/_tracking_service/client.py\u001b[0m in \u001b[0;36mlog_artifact\u001b[0;34m(self, run_id, local_path, artifact_path)\u001b[0m\n\u001b[1;32m    929\u001b[0m             \u001b[0martifact_repo\u001b[0m\u001b[0;34m.\u001b[0m\u001b[0mlog_artifacts\u001b[0m\u001b[0;34m(\u001b[0m\u001b[0mlocal_path\u001b[0m\u001b[0;34m,\u001b[0m \u001b[0mpath_name\u001b[0m\u001b[0;34m)\u001b[0m\u001b[0;34m\u001b[0m\u001b[0;34m\u001b[0m\u001b[0m\n\u001b[1;32m    930\u001b[0m         \u001b[0;32melse\u001b[0m\u001b[0;34m:\u001b[0m\u001b[0;34m\u001b[0m\u001b[0;34m\u001b[0m\u001b[0m\n\u001b[0;32m--> 931\u001b[0;31m             \u001b[0martifact_repo\u001b[0m\u001b[0;34m.\u001b[0m\u001b[0mlog_artifact\u001b[0m\u001b[0;34m(\u001b[0m\u001b[0mlocal_path\u001b[0m\u001b[0;34m,\u001b[0m \u001b[0martifact_path\u001b[0m\u001b[0;34m)\u001b[0m\u001b[0;34m\u001b[0m\u001b[0;34m\u001b[0m\u001b[0m\n\u001b[0m\u001b[1;32m    932\u001b[0m \u001b[0;34m\u001b[0m\u001b[0m\n\u001b[1;32m    933\u001b[0m     \u001b[0;32mdef\u001b[0m \u001b[0m_download_trace_data\u001b[0m\u001b[0;34m(\u001b[0m\u001b[0mself\u001b[0m\u001b[0;34m,\u001b[0m \u001b[0mtrace_info\u001b[0m\u001b[0;34m:\u001b[0m \u001b[0mTraceInfo\u001b[0m\u001b[0;34m)\u001b[0m \u001b[0;34m->\u001b[0m \u001b[0mTraceData\u001b[0m\u001b[0;34m:\u001b[0m\u001b[0;34m\u001b[0m\u001b[0;34m\u001b[0m\u001b[0m\n",
            "\u001b[0;32m/usr/local/lib/python3.11/dist-packages/mlflow/store/artifact/http_artifact_repo.py\u001b[0m in \u001b[0;36mlog_artifact\u001b[0;34m(self, local_file, artifact_path)\u001b[0m\n\u001b[1;32m     64\u001b[0m                 \u001b[0mself\u001b[0m\u001b[0;34m.\u001b[0m\u001b[0m_host_creds\u001b[0m\u001b[0;34m,\u001b[0m \u001b[0mendpoint\u001b[0m\u001b[0;34m,\u001b[0m \u001b[0;34m\"PUT\"\u001b[0m\u001b[0;34m,\u001b[0m \u001b[0mdata\u001b[0m\u001b[0;34m=\u001b[0m\u001b[0mf\u001b[0m\u001b[0;34m,\u001b[0m \u001b[0mextra_headers\u001b[0m\u001b[0;34m=\u001b[0m\u001b[0mextra_headers\u001b[0m\u001b[0;34m\u001b[0m\u001b[0;34m\u001b[0m\u001b[0m\n\u001b[1;32m     65\u001b[0m             )\n\u001b[0;32m---> 66\u001b[0;31m             \u001b[0maugmented_raise_for_status\u001b[0m\u001b[0;34m(\u001b[0m\u001b[0mresp\u001b[0m\u001b[0;34m)\u001b[0m\u001b[0;34m\u001b[0m\u001b[0;34m\u001b[0m\u001b[0m\n\u001b[0m\u001b[1;32m     67\u001b[0m \u001b[0;34m\u001b[0m\u001b[0m\n\u001b[1;32m     68\u001b[0m     \u001b[0;32mdef\u001b[0m \u001b[0mlog_artifacts\u001b[0m\u001b[0;34m(\u001b[0m\u001b[0mself\u001b[0m\u001b[0;34m,\u001b[0m \u001b[0mlocal_dir\u001b[0m\u001b[0;34m,\u001b[0m \u001b[0martifact_path\u001b[0m\u001b[0;34m=\u001b[0m\u001b[0;32mNone\u001b[0m\u001b[0;34m)\u001b[0m\u001b[0;34m:\u001b[0m\u001b[0;34m\u001b[0m\u001b[0;34m\u001b[0m\u001b[0m\n",
            "\u001b[0;32m/usr/local/lib/python3.11/dist-packages/mlflow/utils/request_utils.py\u001b[0m in \u001b[0;36maugmented_raise_for_status\u001b[0;34m(response)\u001b[0m\n\u001b[1;32m     64\u001b[0m     \u001b[0;32mexcept\u001b[0m \u001b[0mHTTPError\u001b[0m \u001b[0;32mas\u001b[0m \u001b[0me\u001b[0m\u001b[0;34m:\u001b[0m\u001b[0;34m\u001b[0m\u001b[0;34m\u001b[0m\u001b[0m\n\u001b[1;32m     65\u001b[0m         \u001b[0;32mif\u001b[0m \u001b[0mresponse\u001b[0m\u001b[0;34m.\u001b[0m\u001b[0mtext\u001b[0m\u001b[0;34m:\u001b[0m\u001b[0;34m\u001b[0m\u001b[0;34m\u001b[0m\u001b[0m\n\u001b[0;32m---> 66\u001b[0;31m             raise HTTPError(\n\u001b[0m\u001b[1;32m     67\u001b[0m                 \u001b[0;34mf\"{e}. Response text: {response.text}\"\u001b[0m\u001b[0;34m,\u001b[0m \u001b[0mrequest\u001b[0m\u001b[0;34m=\u001b[0m\u001b[0me\u001b[0m\u001b[0;34m.\u001b[0m\u001b[0mrequest\u001b[0m\u001b[0;34m,\u001b[0m \u001b[0mresponse\u001b[0m\u001b[0;34m=\u001b[0m\u001b[0me\u001b[0m\u001b[0;34m.\u001b[0m\u001b[0mresponse\u001b[0m\u001b[0;34m\u001b[0m\u001b[0;34m\u001b[0m\u001b[0m\n\u001b[1;32m     68\u001b[0m             )\n",
            "\u001b[0;31mHTTPError\u001b[0m: 413 Client Error: Request Entity Too Large for url: https://mlflow.amadousy.dev/api/2.0/mlflow-artifacts/artifacts/24/539f2a23f8f74d418c2dcb7eecaaf098/artifacts/model-artifact/tmp_model.keras. Response text: <html>\r\n<head><title>413 Request Entity Too Large</title></head>\r\n<body>\r\n<center><h1>413 Request Entity Too Large</h1></center>\r\n<hr><center>nginx/1.25.2</center>\r\n</body>\r\n</html>\r\n"
          ]
        }
      ]
    },
    {
      "cell_type": "code",
      "source": [
        "size = os.path.getsize(os.path.join(model_dir)) / 1e6\n",
        "print(f\"📦 Model size: {size:.2f} MB\")"
      ],
      "metadata": {
        "id": "K0aI-9zRIjSP",
        "outputId": "891d894d-ced2-4b14-b9ff-38ce44845551",
        "colab": {
          "base_uri": "https://localhost:8080/"
        }
      },
      "execution_count": 85,
      "outputs": [
        {
          "output_type": "stream",
          "name": "stdout",
          "text": [
            "📦 Model size: 2.33 MB\n"
          ]
        }
      ]
    },
    {
      "cell_type": "code",
      "source": [
        "from sklearn.metrics import ConfusionMatrixDisplay, classification_report\n",
        "print(classification_report(y_test_ft, y_preds))"
      ],
      "metadata": {
        "colab": {
          "base_uri": "https://localhost:8080/"
        },
        "id": "3XgG70bQv5I6",
        "outputId": "0df1152d-191f-4f6d-adf9-5f189a1a8625"
      },
      "execution_count": 57,
      "outputs": [
        {
          "output_type": "stream",
          "name": "stdout",
          "text": [
            "              precision    recall  f1-score   support\n",
            "\n",
            "           0       0.57      0.51      0.54      2000\n",
            "           1       0.56      0.61      0.58      2000\n",
            "\n",
            "    accuracy                           0.56      4000\n",
            "   macro avg       0.56      0.56      0.56      4000\n",
            "weighted avg       0.56      0.56      0.56      4000\n",
            "\n"
          ]
        }
      ]
    },
    {
      "cell_type": "code",
      "source": [
        "ConfusionMatrixDisplay.from_predictions(y_pred=y_preds, y_true=y_test_ft)\n",
        "plt.show()"
      ],
      "metadata": {
        "colab": {
          "base_uri": "https://localhost:8080/",
          "height": 449
        },
        "id": "tGF8zjLpw2wp",
        "outputId": "b301de50-7149-4d1c-d168-fec63080bc78"
      },
      "execution_count": 58,
      "outputs": [
        {
          "output_type": "display_data",
          "data": {
            "text/plain": [
              "<Figure size 640x480 with 2 Axes>"
            ],
            "image/png": "[encoded data removed]"
          },
          "metadata": {}
        }
      ]
    },
    {
      "cell_type": "markdown",
      "source": [
        "# BERT - COMPLEMENT"
      ],
      "metadata": {
        "id": "twNMa2bwyWSr"
      }
    },
    {
      "cell_type": "code",
      "source": [
        "%%time\n",
        "embeddings_bert = np.load(os.path.join(path, \"embeddings_bert.npy\"))\n",
        "labels = np.load(os.path.join(path, \"bert_labels.npy\"))"
      ],
      "metadata": {
        "id": "sWs-xQq9yeyB",
        "outputId": "6d5f30b0-eaee-44bc-e422-0d9c76283c5a",
        "colab": {
          "base_uri": "https://localhost:8080/"
        }
      },
      "execution_count": 59,
      "outputs": [
        {
          "output_type": "stream",
          "name": "stdout",
          "text": [
            "CPU times: user 2.52 ms, sys: 19.3 ms, total: 21.9 ms\n",
            "Wall time: 837 ms\n"
          ]
        }
      ]
    },
    {
      "cell_type": "code",
      "source": [
        "print(embeddings_bert.shape)\n",
        "print(labels.shape)"
      ],
      "metadata": {
        "id": "nvqhwafayqAa",
        "outputId": "6991b815-801f-4014-b2e3-540802abb12a",
        "colab": {
          "base_uri": "https://localhost:8080/"
        }
      },
      "execution_count": 60,
      "outputs": [
        {
          "output_type": "stream",
          "name": "stdout",
          "text": [
            "(10000, 768)\n",
            "(10000,)\n"
          ]
        }
      ]
    },
    {
      "cell_type": "markdown",
      "source": [
        "\n",
        "\n",
        "> Split sets\n",
        "\n"
      ],
      "metadata": {
        "id": "nBQLSeNdzIhE"
      }
    },
    {
      "cell_type": "code",
      "source": [
        "x_train, x_valid, x_test, y_train, y_valid, y_test = split_train_val_test(embeddings_bert, labels)"
      ],
      "metadata": {
        "id": "0QPfaWG9zQWM"
      },
      "execution_count": 61,
      "outputs": []
    },
    {
      "cell_type": "code",
      "source": [
        "print(\"Train Set :\", x_train.shape)\n",
        "print(\"Validation Set :\", x_valid.shape)\n",
        "print(\"Test Set :\", x_test.shape)"
      ],
      "metadata": {
        "id": "s00MOsV4zii3",
        "outputId": "bfcb6838-4a92-45d7-9815-81bdf8f12f80",
        "colab": {
          "base_uri": "https://localhost:8080/"
        }
      },
      "execution_count": 62,
      "outputs": [
        {
          "output_type": "stream",
          "name": "stdout",
          "text": [
            "Train Set : (6000, 768)\n",
            "Validation Set : (2000, 768)\n",
            "Test Set : (2000, 768)\n"
          ]
        }
      ]
    },
    {
      "cell_type": "code",
      "source": [
        "def build_model_bert(dropout_rate=0.5, dense_units=32):\n",
        "  model = Sequential()\n",
        "  model.add(Input(shape=(768,)))\n",
        "  model.add(Dense(128, activation='relu')),\n",
        "  model.add(Dropout(dropout_rate))\n",
        "  model.add(Dense(dense_units, activation='relu'))\n",
        "  model.add(Dense(1, activation='sigmoid'))\n",
        "\n",
        "  model.compile(loss='binary_crossentropy', optimizer='adam', metrics=['accuracy', 'auc', 'precision', 'recall'])\n",
        "  return model"
      ],
      "metadata": {
        "id": "PGfiuiTSytU9"
      },
      "execution_count": 63,
      "outputs": []
    },
    {
      "cell_type": "markdown",
      "source": [
        "> Build and train"
      ],
      "metadata": {
        "id": "mLHf99kEz9cw"
      }
    },
    {
      "cell_type": "code",
      "source": [
        "mlflow.set_experiment(\"bert-model\")\n",
        "mlflow.tensorflow.autolog()"
      ],
      "metadata": {
        "id": "pw1xceABfEJG"
      },
      "execution_count": 70,
      "outputs": []
    },
    {
      "cell_type": "code",
      "source": [
        "%%time\n",
        "bert_model = build_model_bert()\n",
        "\n",
        "history = bert_model.fit(\n",
        "    x=x_train,\n",
        "    y=y_train,\n",
        "    epochs=30,\n",
        "    batch_size=32,\n",
        "    validation_data=(x_valid, y_valid),\n",
        "    callbacks=[\n",
        "        tf.keras.callbacks.EarlyStopping(monitor='val_loss', patience=3, restore_best_weights=True)\n",
        "    ]\n",
        ")"
      ],
      "metadata": {
        "id": "muftg3BQzzAu",
        "outputId": "14205985-aa27-48bf-f27c-e259036f603f",
        "colab": {
          "base_uri": "https://localhost:8080/"
        }
      },
      "execution_count": 71,
      "outputs": [
        {
          "output_type": "stream",
          "name": "stdout",
          "text": [
            "Epoch 1/30\n",
            "\u001b[1m188/188\u001b[0m \u001b[32m━━━━━━━━━━━━━━━━━━━━\u001b[0m\u001b[37m\u001b[0m \u001b[1m5s\u001b[0m 14ms/step - accuracy: 0.5441 - auc: 0.5650 - loss: 0.7105 - precision: 0.5475 - recall: 0.5445 - val_accuracy: 0.6330 - val_auc: 0.6854 - val_loss: 0.6385 - val_precision: 0.6304 - val_recall: 0.6430\n",
            "Epoch 2/30\n",
            "\u001b[1m188/188\u001b[0m \u001b[32m━━━━━━━━━━━━━━━━━━━━\u001b[0m\u001b[37m\u001b[0m \u001b[1m1s\u001b[0m 3ms/step - accuracy: 0.6065 - auc: 0.6565 - loss: 0.6542 - precision: 0.6075 - recall: 0.5814 - val_accuracy: 0.6250 - val_auc: 0.7194 - val_loss: 0.6315 - val_precision: 0.5875 - val_recall: 0.8390\n",
            "Epoch 3/30\n",
            "\u001b[1m188/188\u001b[0m \u001b[32m━━━━━━━━━━━━━━━━━━━━\u001b[0m\u001b[37m\u001b[0m \u001b[1m1s\u001b[0m 3ms/step - accuracy: 0.6368 - auc: 0.6841 - loss: 0.6373 - precision: 0.6407 - recall: 0.6508 - val_accuracy: 0.6445 - val_auc: 0.7162 - val_loss: 0.6185 - val_precision: 0.6497 - val_recall: 0.6270\n",
            "Epoch 4/30\n",
            "\u001b[1m188/188\u001b[0m \u001b[32m━━━━━━━━━━━━━━━━━━━━\u001b[0m\u001b[37m\u001b[0m \u001b[1m1s\u001b[0m 3ms/step - accuracy: 0.6494 - auc: 0.7065 - loss: 0.6237 - precision: 0.6461 - recall: 0.6480 - val_accuracy: 0.6560 - val_auc: 0.7264 - val_loss: 0.6078 - val_precision: 0.6566 - val_recall: 0.6540\n",
            "Epoch 5/30\n",
            "\u001b[1m188/188\u001b[0m \u001b[32m━━━━━━━━━━━━━━━━━━━━\u001b[0m\u001b[37m\u001b[0m \u001b[1m1s\u001b[0m 3ms/step - accuracy: 0.6340 - auc: 0.6990 - loss: 0.6250 - precision: 0.6296 - recall: 0.6299 - val_accuracy: 0.6600 - val_auc: 0.7265 - val_loss: 0.6127 - val_precision: 0.6905 - val_recall: 0.5800\n",
            "Epoch 6/30\n",
            "\u001b[1m188/188\u001b[0m \u001b[32m━━━━━━━━━━━━━━━━━━━━\u001b[0m\u001b[37m\u001b[0m \u001b[1m1s\u001b[0m 3ms/step - accuracy: 0.6500 - auc: 0.7164 - loss: 0.6130 - precision: 0.6434 - recall: 0.6610 - val_accuracy: 0.6605 - val_auc: 0.7303 - val_loss: 0.6060 - val_precision: 0.6838 - val_recall: 0.5970\n",
            "Epoch 7/30\n",
            "\u001b[1m188/188\u001b[0m \u001b[32m━━━━━━━━━━━━━━━━━━━━\u001b[0m\u001b[37m\u001b[0m \u001b[1m1s\u001b[0m 3ms/step - accuracy: 0.6543 - auc: 0.7134 - loss: 0.6156 - precision: 0.6533 - recall: 0.6509 - val_accuracy: 0.6800 - val_auc: 0.7436 - val_loss: 0.5989 - val_precision: 0.7284 - val_recall: 0.5740\n",
            "Epoch 8/30\n",
            "\u001b[1m188/188\u001b[0m \u001b[32m━━━━━━━━━━━━━━━━━━━━\u001b[0m\u001b[37m\u001b[0m \u001b[1m1s\u001b[0m 3ms/step - accuracy: 0.6649 - auc: 0.7256 - loss: 0.6088 - precision: 0.6671 - recall: 0.6780 - val_accuracy: 0.6625 - val_auc: 0.7411 - val_loss: 0.5975 - val_precision: 0.6455 - val_recall: 0.7210\n",
            "Epoch 9/30\n",
            "\u001b[1m188/188\u001b[0m \u001b[32m━━━━━━━━━━━━━━━━━━━━\u001b[0m\u001b[37m\u001b[0m \u001b[1m1s\u001b[0m 3ms/step - accuracy: 0.6532 - auc: 0.7209 - loss: 0.6112 - precision: 0.6560 - recall: 0.6282 - val_accuracy: 0.6740 - val_auc: 0.7393 - val_loss: 0.6001 - val_precision: 0.7000 - val_recall: 0.6090\n",
            "Epoch 10/30\n",
            "\u001b[1m188/188\u001b[0m \u001b[32m━━━━━━━━━━━━━━━━━━━━\u001b[0m\u001b[37m\u001b[0m \u001b[1m1s\u001b[0m 3ms/step - accuracy: 0.6687 - auc: 0.7300 - loss: 0.6059 - precision: 0.6630 - recall: 0.6824 - val_accuracy: 0.6680 - val_auc: 0.7419 - val_loss: 0.5958 - val_precision: 0.6508 - val_recall: 0.7250\n",
            "Epoch 11/30\n",
            "\u001b[1m188/188\u001b[0m \u001b[32m━━━━━━━━━━━━━━━━━━━━\u001b[0m\u001b[37m\u001b[0m \u001b[1m1s\u001b[0m 3ms/step - accuracy: 0.6584 - auc: 0.7311 - loss: 0.6000 - precision: 0.6513 - recall: 0.6560 - val_accuracy: 0.6550 - val_auc: 0.7437 - val_loss: 0.6069 - val_precision: 0.7279 - val_recall: 0.4950\n",
            "Epoch 12/30\n",
            "\u001b[1m188/188\u001b[0m \u001b[32m━━━━━━━━━━━━━━━━━━━━\u001b[0m\u001b[37m\u001b[0m \u001b[1m1s\u001b[0m 3ms/step - accuracy: 0.6549 - auc: 0.7225 - loss: 0.6064 - precision: 0.6551 - recall: 0.6720 - val_accuracy: 0.6585 - val_auc: 0.7361 - val_loss: 0.5989 - val_precision: 0.6511 - val_recall: 0.6830\n",
            "Epoch 13/30\n",
            "\u001b[1m188/188\u001b[0m \u001b[32m━━━━━━━━━━━━━━━━━━━━\u001b[0m\u001b[37m\u001b[0m \u001b[1m1s\u001b[0m 3ms/step - accuracy: 0.6786 - auc: 0.7500 - loss: 0.5874 - precision: 0.6781 - recall: 0.7049 - val_accuracy: 0.6770 - val_auc: 0.7431 - val_loss: 0.5937 - val_precision: 0.6887 - val_recall: 0.6460\n",
            "Epoch 14/30\n",
            "\u001b[1m188/188\u001b[0m \u001b[32m━━━━━━━━━━━━━━━━━━━━\u001b[0m\u001b[37m\u001b[0m \u001b[1m1s\u001b[0m 3ms/step - accuracy: 0.6736 - auc: 0.7466 - loss: 0.5890 - precision: 0.6707 - recall: 0.6885 - val_accuracy: 0.6630 - val_auc: 0.7452 - val_loss: 0.5979 - val_precision: 0.6415 - val_recall: 0.7390\n",
            "Epoch 15/30\n",
            "\u001b[1m188/188\u001b[0m \u001b[32m━━━━━━━━━━━━━━━━━━━━\u001b[0m\u001b[37m\u001b[0m \u001b[1m1s\u001b[0m 3ms/step - accuracy: 0.6732 - auc: 0.7468 - loss: 0.5893 - precision: 0.6769 - recall: 0.6835 - val_accuracy: 0.6680 - val_auc: 0.7390 - val_loss: 0.5980 - val_precision: 0.6791 - val_recall: 0.6370\n",
            "Epoch 16/30\n",
            "\u001b[1m188/188\u001b[0m \u001b[32m━━━━━━━━━━━━━━━━━━━━\u001b[0m\u001b[37m\u001b[0m \u001b[1m1s\u001b[0m 3ms/step - accuracy: 0.6777 - auc: 0.7491 - loss: 0.5885 - precision: 0.6765 - recall: 0.7016 - val_accuracy: 0.6705 - val_auc: 0.7390 - val_loss: 0.5986 - val_precision: 0.6598 - val_recall: 0.7040\n",
            "CPU times: user 17 s, sys: 1.53 s, total: 18.5 s\n",
            "Wall time: 15 s\n"
          ]
        }
      ]
    },
    {
      "cell_type": "code",
      "source": [
        "fig = plt.figure(figsize=(16, 6))\n",
        "\n",
        "fig.add_subplot(1, 4, 1)\n",
        "plt.plot(history.history['loss'], label='Train Loss')\n",
        "plt.plot(history.history['val_loss'], label='Val Loss')\n",
        "plt.title('Loss')\n",
        "plt.legend()\n",
        "\n",
        "fig.add_subplot(1, 4, 2)\n",
        "plt.plot(history.history['accuracy'], label='Train Acc')\n",
        "plt.plot(history.history['val_accuracy'], label='Val Acc')\n",
        "plt.title('Accuracy')\n",
        "plt.legend()\n",
        "\n",
        "fig.add_subplot(1, 4, 3)\n",
        "plt.plot(history.history['precision'], label='Train Precision')\n",
        "plt.plot(history.history['val_precision'], label='Val Precision')\n",
        "plt.title('Precision')\n",
        "plt.legend()\n",
        "\n",
        "fig.add_subplot(1, 4, 4)\n",
        "plt.plot(history.history['auc'], label='Train Auc')\n",
        "plt.plot(history.history['val_auc'], label='Val Auc')\n",
        "plt.title('AUC')\n",
        "plt.legend()\n",
        "\n",
        "plt.suptitle(\"BERT\")\n",
        "plt.show()"
      ],
      "metadata": {
        "id": "fWtnkexs1XkQ",
        "outputId": "aeb2999d-3f95-45d2-85cb-1a0cea7ebe5f",
        "colab": {
          "base_uri": "https://localhost:8080/",
          "height": 582
        }
      },
      "execution_count": 66,
      "outputs": [
        {
          "output_type": "display_data",
          "data": {
            "text/plain": [
              "<Figure size 1600x600 with 4 Axes>"
            ],
            "image/png": "[encoded data removed]"
          },
          "metadata": {}
        }
      ]
    },
    {
      "cell_type": "code",
      "source": [
        "y_preds_prob = bert_model.predict(x_test)\n",
        "y_preds = np.where(y_preds_prob > 0.5, 1, 0)\n",
        "print(classification_report(y_test, y_preds))"
      ],
      "metadata": {
        "id": "g1foRHKH2Mk-",
        "outputId": "196429e8-1517-4ebe-887b-86a3cb945bdd",
        "colab": {
          "base_uri": "https://localhost:8080/"
        }
      },
      "execution_count": 67,
      "outputs": [
        {
          "output_type": "stream",
          "name": "stdout",
          "text": [
            "\u001b[1m63/63\u001b[0m \u001b[32m━━━━━━━━━━━━━━━━━━━━\u001b[0m\u001b[37m\u001b[0m \u001b[1m0s\u001b[0m 3ms/step\n",
            "              precision    recall  f1-score   support\n",
            "\n",
            "           0       0.67      0.67      0.67      1000\n",
            "           1       0.67      0.67      0.67      1000\n",
            "\n",
            "    accuracy                           0.67      2000\n",
            "   macro avg       0.67      0.67      0.67      2000\n",
            "weighted avg       0.67      0.67      0.67      2000\n",
            "\n"
          ]
        }
      ]
    },
    {
      "cell_type": "code",
      "source": [
        "ConfusionMatrixDisplay.from_predictions(y_pred=y_preds, y_true=y_test)\n",
        "plt.show()"
      ],
      "metadata": {
        "id": "CUc8jT6C2Qh7",
        "outputId": "b4d911e2-dfee-4fa1-bc0a-9f1b0fc0b87e",
        "colab": {
          "base_uri": "https://localhost:8080/",
          "height": 449
        }
      },
      "execution_count": 68,
      "outputs": [
        {
          "output_type": "display_data",
          "data": {
            "text/plain": [
              "<Figure size 640x480 with 2 Axes>"
            ],
            "image/png": "[encoded data removed]"
          },
          "metadata": {}
        }
      ]
    },
    {
      "cell_type": "markdown",
      "source": [
        "Les résultats obtenus avec le modèle BERT sont prometteurs. On observe une progression régulière de la performance en apprentissage, avec une précision, une AUC et une loss en validation qui restent globalement stables malgré quelques fluctuations. Ce comportement témoigne d'une bonne généralisation et d'une capacité du modèle à capter efficacement les nuances sémantiques des tweets.\n",
        "\n",
        "Compte tenu de la nature du problème — analyse de sentiments sur des textes courts et bruités — BERT apparaît comme une solution bien adaptée. Sa capacité à intégrer le contexte lexical rend ce modèle particulièrement pertinent pour les tweets, où le sens peut varier fortement selon l'ordre ou les associations de mots.\n",
        "\n",
        "Investir davantage de temps et de ressources dans le fine-tuning de ce modèle (avec ajustement de seuil, validation croisée, optimisation des hyperparamètres ou intégration dans un pipeline de production) serait hautement justifié pour améliorer la robustesse du système global."
      ],
      "metadata": {
        "id": "KVNpqso_2Dsl"
      }
    },
    {
      "cell_type": "code",
      "source": [
        "end_time = time.time()\n",
        "print(f\"Execution time={end_time-init_time} seconds\")"
      ],
      "metadata": {
        "id": "IHQvg2GB2vC8",
        "outputId": "ae62edfb-087c-46d4-c5ad-5ffc0a57c885",
        "colab": {
          "base_uri": "https://localhost:8080/"
        }
      },
      "execution_count": 69,
      "outputs": [
        {
          "output_type": "stream",
          "name": "stdout",
          "text": [
            "Execution time=1847.871918439865 seconds\n"
          ]
        }
      ]
    },
    {
      "cell_type": "markdown",
      "source": [
        "#FIN"
      ],
      "metadata": {
        "id": "uvm_i9V62wXW"
      }
    }
  ],
  "metadata": {
    "kernelspec": {
      "display_name": "Python 3",
      "name": "python3"
    },
    "language_info": {
      "codemirror_mode": {
        "name": "ipython",
        "version": 3
      },
      "file_extension": ".py",
      "mimetype": "text/x-python",
      "name": "python",
      "nbconvert_exporter": "python",
      "pygments_lexer": "ipython3",
      "version": "3.13.2"
    },
    "papermill": {
      "duration": 500.435762,
      "end_time": "2020-08-26T21:07:20.093709",
      "environment_variables": {},
      "exception": null,
      "input_path": "__notebook__.ipynb",
      "output_path": "__notebook__.ipynb",
      "parameters": {},
      "start_time": "2020-08-26T20:58:59.657947",
      "version": "2.1.0"
    },
    "colab": {
      "provenance": [],
      "machine_shape": "hm",
      "gpuType": "T4",
      "toc_visible": true,
      "include_colab_link": true
    },
    "accelerator": "GPU"
  },
  "nbformat": 4,
  "nbformat_minor": 0
}