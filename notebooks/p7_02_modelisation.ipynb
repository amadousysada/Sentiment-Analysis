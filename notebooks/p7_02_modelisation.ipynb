{
  "cells": [
    {
      "cell_type": "markdown",
      "source": [
        "# Import des librairies"
      ],
      "metadata": {
        "id": "hwecoVR_24PI"
      }
    },
    {
      "cell_type": "code",
      "execution_count": 11,
      "metadata": {
        "execution": {
          "iopub.execute_input": "2020-08-26T20:59:06.289122Z",
          "iopub.status.busy": "2020-08-26T20:59:06.288192Z",
          "iopub.status.idle": "2020-08-26T20:59:08.802804Z",
          "shell.execute_reply": "2020-08-26T20:59:08.802075Z"
        },
        "papermill": {
          "duration": 2.557066,
          "end_time": "2020-08-26T20:59:08.802938",
          "exception": false,
          "start_time": "2020-08-26T20:59:06.245872",
          "status": "completed"
        },
        "scrolled": true,
        "tags": [],
        "colab": {
          "base_uri": "https://localhost:8080/"
        },
        "id": "4DO_uFhC0Qsr",
        "outputId": "e9d70fc4-829f-4fe6-c172-02e5614e985e"
      },
      "outputs": [
        {
          "output_type": "stream",
          "name": "stdout",
          "text": [
            "Python version: 3.11.12 (main, Apr  9 2025, 08:55:54) [GCC 11.4.0]\n",
            "Version info.: sys.version_info(major=3, minor=11, micro=12, releaselevel='final', serial=0)\n",
            "pandas version: 2.1.4\n",
            "numpy version: 1.26.4\n",
            "skearn version: 1.4.2\n",
            "re version: 2.2.1\n",
            "tensorflow version: 2.18.0\n",
            "tensorflow_hub version: 0.16.1\n",
            "tensorflow_text version: 2.18.1\n",
            "CPU times: user 362 µs, sys: 0 ns, total: 362 µs\n",
            "Wall time: 368 µs\n"
          ]
        }
      ],
      "source": [
        "%%time\n",
        "import time\n",
        "init_time = time.time()\n",
        "\n",
        "import os\n",
        "import sys\n",
        "import warnings\n",
        "if not sys.warnoptions:\n",
        "    warnings.simplefilter(\"ignore\")\n",
        "\n",
        "import numpy as np\n",
        "import pandas as pd\n",
        "import sklearn\n",
        "import pickle\n",
        "\n",
        "\n",
        "from matplotlib import pyplot as plt\n",
        "\n",
        "import seaborn as sns\n",
        "\n",
        "import string\n",
        "import re\n",
        "\n",
        "# Tensorflow\n",
        "import tensorflow as tf\n",
        "import tensorflow_hub as hub\n",
        "import tensorflow_text as text\n",
        "\n",
        "from sklearn.linear_model import LogisticRegression, RidgeClassifier\n",
        "from sklearn.naive_bayes import MultinomialNB\n",
        "from sklearn.ensemble import GradientBoostingClassifier\n",
        "from lightgbm import LGBMClassifier\n",
        "from sklearn.discriminant_analysis import LinearDiscriminantAnalysis as LDA\n",
        "from sklearn.model_selection import cross_val_score\n",
        "from sklearn.metrics import accuracy_score, f1_score, roc_auc_score, recall_score, precision_score\n",
        "\n",
        "print(\"Python version:\", sys.version)\n",
        "print(\"Version info.:\", sys.version_info)\n",
        "print(\"pandas version:\", pd.__version__)\n",
        "print(\"numpy version:\", np.__version__)\n",
        "print(\"skearn version:\", sklearn.__version__)\n",
        "print(\"re version:\", re.__version__)\n",
        "#print(\"nltk version:\", nltk.__version__)\n",
        "print(\"tensorflow version:\", tf.__version__)\n",
        "print(\"tensorflow_hub version:\", hub.__version__)\n",
        "print(\"tensorflow_text version:\", text.__version__)"
      ]
    },
    {
      "cell_type": "markdown",
      "metadata": {
        "papermill": {
          "duration": 0.02595,
          "end_time": "2020-08-26T20:59:08.856139",
          "exception": false,
          "start_time": "2020-08-26T20:59:08.830189",
          "status": "completed"
        },
        "tags": [],
        "id": "0yR7Xntu0Qss"
      },
      "source": [
        "# Chargement des données"
      ]
    },
    {
      "cell_type": "code",
      "source": [
        "path = \"/content/drive/MyDrive/data/sentiments\"\n",
        "#path = \"./data/sentiments\""
      ],
      "metadata": {
        "id": "R-voC08WLnhy"
      },
      "execution_count": 12,
      "outputs": []
    },
    {
      "cell_type": "code",
      "source": [
        "tweets_df_count_vectorizer_1gram = np.load(os.path.join(path, \"tweets_df_em_1gram.npy\"), allow_pickle=True)\n",
        "tweets_df_count_vectorizer_1gram"
      ],
      "metadata": {
        "id": "D7lftQAQQvrL",
        "outputId": "068ac43b-0936-47bb-fa20-7836fd16b348",
        "colab": {
          "base_uri": "https://localhost:8080/"
        }
      },
      "execution_count": 13,
      "outputs": [
        {
          "output_type": "execute_result",
          "data": {
            "text/plain": [
              "array(<1593071x695610 sparse matrix of type '<class 'numpy.int64'>'\n",
              "\twith 11079999 stored elements in Compressed Sparse Row format>,\n",
              "      dtype=object)"
            ]
          },
          "metadata": {},
          "execution_count": 13
        }
      ]
    },
    {
      "cell_type": "code",
      "source": [
        "tweets_df_count_vectorizer_1gram.item()[10].toarray()"
      ],
      "metadata": {
        "id": "JIBvyPGmRGl-",
        "outputId": "5bca8cf1-9a9c-4c98-c1ad-264ccd3c2714",
        "colab": {
          "base_uri": "https://localhost:8080/"
        }
      },
      "execution_count": 14,
      "outputs": [
        {
          "output_type": "execute_result",
          "data": {
            "text/plain": [
              "array([[0, 0, 0, ..., 0, 0, 0]])"
            ]
          },
          "metadata": {},
          "execution_count": 14
        }
      ]
    },
    {
      "cell_type": "code",
      "source": [
        "targets = np.load(os.path.join(path, \"targets.npy\"), allow_pickle=True)\n",
        "targets"
      ],
      "metadata": {
        "id": "019DrnieWzFj",
        "outputId": "d118d151-b5e7-4700-b3eb-eca0a23444f8",
        "colab": {
          "base_uri": "https://localhost:8080/"
        }
      },
      "execution_count": 15,
      "outputs": [
        {
          "output_type": "execute_result",
          "data": {
            "text/plain": [
              "array([0, 0, 0, ..., 1, 1, 1])"
            ]
          },
          "metadata": {},
          "execution_count": 15
        }
      ]
    },
    {
      "cell_type": "code",
      "source": [
        "%%time\n",
        "tweets_df_count_vectorizer_1gram = np.load(os.path.join(path, \"tweets_df_em_1gram.npy\"), allow_pickle=True)\n",
        "tweets_df_count_vectorizer_2gram = np.load(os.path.join(path, \"tweets_df_em_2gram.npy\"), allow_pickle=True)\n",
        "\n",
        "tweets_df_tfidf_1gram = np.load(os.path.join(path, \"tweets_df_tfidf_1gram.npy\"), allow_pickle=True)\n",
        "\n",
        "tweets_embeddings_bert = np.load(os.path.join(path, \"embeddings_bert.npy\"), allow_pickle=True)\n",
        "tweets_embeddings_fasttext = pickle.load(open(os.path.join(path, \"embeddings_fasttext.pkl\"), \"rb\"))\n",
        "tweets_embeddings_word2vec = pickle.load(open(os.path.join(path, \"embeddings_word2vec.pkl\"), \"rb\"))"
      ],
      "metadata": {
        "id": "hQrTqDqRLtFP",
        "outputId": "0f453388-ee9c-4fac-80bc-23c2a2cf4083",
        "colab": {
          "base_uri": "https://localhost:8080/"
        }
      },
      "execution_count": 16,
      "outputs": [
        {
          "output_type": "stream",
          "name": "stdout",
          "text": [
            "CPU times: user 6.65 s, sys: 2.92 s, total: 9.57 s\n",
            "Wall time: 16.9 s\n"
          ]
        }
      ]
    },
    {
      "cell_type": "code",
      "source": [],
      "metadata": {
        "id": "jUWj-a3PQvCn"
      },
      "execution_count": 16,
      "outputs": []
    },
    {
      "cell_type": "code",
      "source": [
        "print(tweets_df_count_vectorizer_1gram.item().shape)\n",
        "print(tweets_df_count_vectorizer_2gram.item().shape)\n",
        "print(tweets_df_tfidf_1gram.item().shape)\n",
        "print(tweets_embeddings_bert.shape)"
      ],
      "metadata": {
        "id": "ilbCvRzROnEe",
        "outputId": "b6f84db8-5e62-4676-e899-9bd49f80ba8d",
        "colab": {
          "base_uri": "https://localhost:8080/"
        }
      },
      "execution_count": 17,
      "outputs": [
        {
          "output_type": "stream",
          "name": "stdout",
          "text": [
            "(1593071, 695610)\n",
            "(1593071, 695643)\n",
            "(1593071, 695610)\n",
            "(10000, 768)\n"
          ]
        }
      ]
    },
    {
      "cell_type": "code",
      "source": [
        "%%time\n",
        "from sklearn.linear_model import LinearRegression\n",
        "from sklearn.model_selection import train_test_split\n",
        "from sklearn.metrics import mean_squared_error, r2_score\n",
        "from sklearn.decomposition import TruncatedSVD\n",
        "\n",
        "# Matrice d'entrée (CSR sparse matrix)\n",
        "X = tweets_df_count_vectorizer_1gram.item()  # ou .item() si stocké dans np.array\n",
        "#svd = TruncatedSVD(n_components=, random_state=42)\n",
        "#X = svd.fit_transform(X)\n",
        "# Variable cible\n",
        "y = targets  # adapte le nom ici\n",
        "\n",
        "X_train, X_test, y_train, y_test = train_test_split(X, y, test_size=0.2, random_state=42, stratify=y)\n",
        "\n",
        "print(\"Répartition dans y      :\", pd.Series(y).value_counts(normalize=True))\n",
        "print(\"Répartition dans y_train:\", pd.Series(y_train).value_counts(normalize=True))\n",
        "print(\"Répartition dans y_test :\", pd.Series(y_test).value_counts(normalize=True))"
      ],
      "metadata": {
        "id": "EhlwvyOUWJL0",
        "outputId": "a87b7cb2-3995-40eb-d934-531ba65c81d5",
        "colab": {
          "base_uri": "https://localhost:8080/"
        }
      },
      "execution_count": 18,
      "outputs": [
        {
          "output_type": "stream",
          "name": "stdout",
          "text": [
            "Répartition dans y      : 1    0.500037\n",
            "0    0.499963\n",
            "Name: proportion, dtype: float64\n",
            "Répartition dans y_train: 1    0.500038\n",
            "0    0.499962\n",
            "Name: proportion, dtype: float64\n",
            "Répartition dans y_test : 1    0.500036\n",
            "0    0.499964\n",
            "Name: proportion, dtype: float64\n",
            "CPU times: user 447 ms, sys: 11.1 ms, total: 458 ms\n",
            "Wall time: 466 ms\n"
          ]
        }
      ]
    },
    {
      "cell_type": "code",
      "source": [
        "import pandas as pd\n",
        "import matplotlib.pyplot as plt\n",
        "\n",
        "# Création des distributions\n",
        "dist_df = pd.DataFrame({\n",
        "    \"Full dataset\": pd.Series(y).value_counts(normalize=True),\n",
        "    \"Train set\": pd.Series(y_train).value_counts(normalize=True),\n",
        "    \"Test set\": pd.Series(y_test).value_counts(normalize=True)\n",
        "}).T\n",
        "\n",
        "# Optionnel : renommer les colonnes\n",
        "dist_df.columns = [\"Classe 1\", \"Classe 0\"]\n",
        "\n",
        "# Barplot\n",
        "dist_df.plot(kind=\"bar\", figsize=(8, 5), colormap=\"Set2\")\n",
        "plt.title(\"Répartition des classes dans y, y_train et y_test\")\n",
        "plt.ylabel(\"Proportion\")\n",
        "plt.xticks(rotation=0)\n",
        "plt.ylim(0, 1)\n",
        "plt.legend(title=\"Classe\")\n",
        "plt.tight_layout()\n",
        "plt.show()"
      ],
      "metadata": {
        "id": "yXwjX5_XbdMv",
        "outputId": "d782943d-5e30-4938-cc5c-834c31fe1b44",
        "colab": {
          "base_uri": "https://localhost:8080/",
          "height": 507
        }
      },
      "execution_count": 19,
      "outputs": [
        {
          "output_type": "display_data",
          "data": {
            "text/plain": [
              "<Figure size 800x500 with 1 Axes>"
            ],
            "image/png": "[encoded data removed]"
          },
          "metadata": {}
        }
      ]
    },
    {
      "cell_type": "markdown",
      "source": [
        "# Approche 1: Modéle sur mesure"
      ],
      "metadata": {
        "id": "Z34S7rCCB9Uv"
      }
    },
    {
      "cell_type": "code",
      "source": [],
      "metadata": {
        "id": "A9uUrX9SZ6GX"
      },
      "execution_count": 19,
      "outputs": []
    },
    {
      "cell_type": "code",
      "source": [],
      "metadata": {
        "id": "fhvABAE4Z7ku"
      },
      "execution_count": 19,
      "outputs": []
    },
    {
      "cell_type": "markdown",
      "source": [
        "- Logistic Regression\n",
        "- Ridge Classifier\n",
        "- Naive Bayes\n",
        "- Light Gradient Boosting Machine\n",
        "- Gradient Boosting Classifier\n",
        "- linear discriminant analysis"
      ],
      "metadata": {
        "id": "Mqn1YSL-Lw60"
      }
    },
    {
      "cell_type": "code",
      "source": [
        "models = {\n",
        "    \"Logistic Regression\": LogisticRegression(max_iter=1000),\n",
        "    \"Ridge Classifier\": RidgeClassifier(),\n",
        "    #\"Naive Bayes\": MultinomialNB(),\n",
        "    #\"Gradient Boosting\": GradientBoostingClassifier(),\n",
        "    #\"LightGBM\": LGBMClassifier(),\n",
        "    #\"LDA\": LDA()\n",
        "}"
      ],
      "metadata": {
        "id": "UZLWX9FXMNsa"
      },
      "execution_count": 20,
      "outputs": []
    },
    {
      "cell_type": "code",
      "source": [
        "def evaluate_models(x_train, x_test, y_train, y_test, models, cv=3, scoring=\"accuracy\"):\n",
        "    results = []\n",
        "\n",
        "    for name, model in models.items():\n",
        "      scores = cross_val_score(model, x_train, y_train, cv=cv, scoring=scoring)\n",
        "      y_pred = model.fit(x_train, y_train).predict(x_test)\n",
        "      results.append({\n",
        "          \"Model\": name,\n",
        "          \"train_mean_score\": np.mean(scores),\n",
        "          \"test_score\": model.score(x_test, y_test),\n",
        "          \"test_precision\": precision_score(y_test, y_pred),\n",
        "          \"test_recall\": recall_score(y_test, y_pred),\n",
        "          \"test_f1\": f1_score(y_test, y_pred),\n",
        "          \"test_auc\": roc_auc_score(y_test, y_pred),\n",
        "          \"test_mse\": mean_squared_error(y_test, y_pred)\n",
        "      })\n",
        "\n",
        "    return pd.DataFrame(results)"
      ],
      "metadata": {
        "id": "gJgKZ158Mrpp"
      },
      "execution_count": 21,
      "outputs": []
    },
    {
      "cell_type": "markdown",
      "source": [
        "## | CountVectorizer"
      ],
      "metadata": {
        "id": "xdvN56hKCUCi"
      }
    },
    {
      "cell_type": "code",
      "source": [
        "%%time\n",
        "r_df = evaluate_models(X_train, X_test, y_train, y_test, models)"
      ],
      "metadata": {
        "id": "x2bCrWfTJKL0"
      },
      "execution_count": null,
      "outputs": []
    },
    {
      "cell_type": "markdown",
      "source": [
        "## | Tf-idf"
      ],
      "metadata": {
        "id": "Xs5P0zRjWxrK"
      }
    },
    {
      "cell_type": "code",
      "source": [
        "X_train_tfidf, X_test_tfidf, y_train_tfidf, y_test_tfidf = train_test_split(tweets_df_tfidf_1gram.item(), y, test_size=0.2, random_state=42, stratify=y)"
      ],
      "metadata": {
        "id": "CRsXanc9XtLS"
      },
      "execution_count": null,
      "outputs": []
    },
    {
      "cell_type": "code",
      "source": [
        "%%time\n",
        "tfidf = evaluate_models(X_train_tfidf, X_test_tfidf, y_train_tfidf, y_test_tfidf, models)"
      ],
      "metadata": {
        "id": "yM0hEsvqYObk"
      },
      "execution_count": null,
      "outputs": []
    },
    {
      "cell_type": "code",
      "source": [
        "tfidf"
      ],
      "metadata": {
        "id": "KUtDW0cpYbom"
      },
      "execution_count": null,
      "outputs": []
    },
    {
      "cell_type": "markdown",
      "source": [
        "## | Word2Vec"
      ],
      "metadata": {
        "id": "Go475o0OW3WD"
      }
    },
    {
      "cell_type": "code",
      "source": [
        "X_train_w2v, X_test_w2v, y_train_w2v, y_test_w2v = train_test_split(tweets_embeddings_word2vec, y, test_size=0.2, random_state=42, stratify=y)"
      ],
      "metadata": {
        "id": "SFmK7CpdYvik"
      },
      "execution_count": null,
      "outputs": []
    },
    {
      "cell_type": "code",
      "source": [
        "%%time\n",
        "w2v_df = evaluate_models(X_train_w2v, X_test_w2v, y_train_w2v, y_test_w2v, models)"
      ],
      "metadata": {
        "id": "dRimE4KMZJJA"
      },
      "execution_count": null,
      "outputs": []
    },
    {
      "cell_type": "code",
      "source": [
        "w2v_df"
      ],
      "metadata": {
        "id": "b6paz8p0ZVpd"
      },
      "execution_count": null,
      "outputs": []
    },
    {
      "cell_type": "markdown",
      "source": [
        "## | FastText"
      ],
      "metadata": {
        "id": "TJ8qN4p7XIm1"
      }
    },
    {
      "cell_type": "code",
      "source": [
        "X_train_ft, X_test_ft, y_train_ft, y_test_ft = train_test_split(tweets_embeddings_fasttext, y, test_size=0.2, random_state=42, stratify=y)"
      ],
      "metadata": {
        "id": "kCEq-SicZhMQ"
      },
      "execution_count": null,
      "outputs": []
    },
    {
      "cell_type": "code",
      "source": [
        "%%time\n",
        "ft_df = evaluate_models(X_train_ft, X_test_ft, y_train_ft, y_test_ft, models)"
      ],
      "metadata": {
        "id": "gUAslpRmZpmN"
      },
      "execution_count": null,
      "outputs": []
    },
    {
      "cell_type": "code",
      "source": [
        "display(ft_df)"
      ],
      "metadata": {
        "id": "b8d0UMbOZt7J"
      },
      "execution_count": null,
      "outputs": []
    },
    {
      "cell_type": "markdown",
      "source": [
        "# Approche 2: Modèle sur mesure avancé (Reseau de Neurone)"
      ],
      "metadata": {
        "id": "xFkplq7MZ90y"
      }
    }
  ],
  "metadata": {
    "kernelspec": {
      "display_name": "Python 3 (ipykernel)",
      "language": "python",
      "name": "python3"
    },
    "language_info": {
      "codemirror_mode": {
        "name": "ipython",
        "version": 3
      },
      "file_extension": ".py",
      "mimetype": "text/x-python",
      "name": "python",
      "nbconvert_exporter": "python",
      "pygments_lexer": "ipython3",
      "version": "3.13.2"
    },
    "papermill": {
      "duration": 500.435762,
      "end_time": "2020-08-26T21:07:20.093709",
      "environment_variables": {},
      "exception": null,
      "input_path": "__notebook__.ipynb",
      "output_path": "__notebook__.ipynb",
      "parameters": {},
      "start_time": "2020-08-26T20:58:59.657947",
      "version": "2.1.0"
    },
    "colab": {
      "provenance": [],
      "toc_visible": true
    }
  },
  "nbformat": 4,
  "nbformat_minor": 0
}