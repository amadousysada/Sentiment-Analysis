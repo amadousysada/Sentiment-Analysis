{
  "cells": [
    {
      "cell_type": "markdown",
      "source": [
        "# Import des librairies"
      ],
      "metadata": {
        "id": "hwecoVR_24PI"
      }
    },
    {
      "cell_type": "code",
      "execution_count": 10,
      "metadata": {
        "execution": {
          "iopub.execute_input": "2020-08-26T20:59:06.289122Z",
          "iopub.status.busy": "2020-08-26T20:59:06.288192Z",
          "iopub.status.idle": "2020-08-26T20:59:08.802804Z",
          "shell.execute_reply": "2020-08-26T20:59:08.802075Z"
        },
        "papermill": {
          "duration": 2.557066,
          "end_time": "2020-08-26T20:59:08.802938",
          "exception": false,
          "start_time": "2020-08-26T20:59:06.245872",
          "status": "completed"
        },
        "scrolled": true,
        "tags": [],
        "colab": {
          "base_uri": "https://localhost:8080/"
        },
        "id": "4DO_uFhC0Qsr",
        "outputId": "02d98eab-2c6f-49ab-8c02-fb5132228cc2"
      },
      "outputs": [
        {
          "output_type": "stream",
          "name": "stdout",
          "text": [
            "Python version: 3.11.12 (main, Apr  9 2025, 08:55:54) [GCC 11.4.0]\n",
            "Version info.: sys.version_info(major=3, minor=11, micro=12, releaselevel='final', serial=0)\n",
            "pandas version: 2.2.2\n",
            "numpy version: 2.0.2\n",
            "skearn version: 1.6.1\n",
            "re version: 2.2.1\n",
            "tensorflow version: 2.18.0\n",
            "tensorflow_hub version: 0.16.1\n",
            "tensorflow_text version: 2.18.1\n",
            "CPU times: user 663 µs, sys: 0 ns, total: 663 µs\n",
            "Wall time: 673 µs\n"
          ]
        }
      ],
      "source": [
        "%%time\n",
        "import time\n",
        "init_time = time.time()\n",
        "\n",
        "import os\n",
        "import sys\n",
        "import warnings\n",
        "warnings.filterwarnings(\"ignore\", category=FutureWarning)\n",
        "\n",
        "if not sys.warnoptions:\n",
        "    warnings.simplefilter(\"ignore\")\n",
        "\n",
        "import numpy as np\n",
        "import pandas as pd\n",
        "import sklearn\n",
        "\n",
        "from matplotlib import pyplot as plt\n",
        "from matplotlib.gridspec import GridSpec\n",
        "\n",
        "\n",
        "import seaborn as sns\n",
        "\n",
        "import string\n",
        "import re\n",
        "\n",
        "# Tensorflow\n",
        "import tensorflow as tf\n",
        "import tensorflow_hub as hub\n",
        "import tensorflow_text as text\n",
        "\n",
        "#Scikit-learn\n",
        "from sklearn.naive_bayes import GaussianNB\n",
        "from sklearn.linear_model import LogisticRegression, RidgeClassifier\n",
        "from sklearn.naive_bayes import GaussianNB\n",
        "from sklearn.discriminant_analysis import LinearDiscriminantAnalysis as LDA\n",
        "from sklearn.model_selection import cross_val_score, train_test_split, StratifiedKFold\n",
        "from sklearn.metrics import accuracy_score, f1_score, roc_auc_score, recall_score, precision_score, mean_squared_error, r2_score\n",
        "from sklearn.calibration import CalibrationDisplay\n",
        "from sklearn.ensemble import RandomForestClassifier\n",
        "from sklearn.svm import LinearSVC\n",
        "\n",
        "from xgboost import XGBClassifier\n",
        "\n",
        "# Modèles de Boosting\n",
        "from xgboost import XGBClassifier\n",
        "from lightgbm import LGBMClassifier\n",
        "\n",
        "\n",
        "print(\"Python version:\", sys.version)\n",
        "print(\"Version info.:\", sys.version_info)\n",
        "print(\"pandas version:\", pd.__version__)\n",
        "print(\"numpy version:\", np.__version__)\n",
        "print(\"skearn version:\", sklearn.__version__)\n",
        "print(\"re version:\", re.__version__)\n",
        "#print(\"nltk version:\", nltk.__version__)\n",
        "print(\"tensorflow version:\", tf.__version__)\n",
        "print(\"tensorflow_hub version:\", hub.__version__)\n",
        "print(\"tensorflow_text version:\", text.__version__)"
      ]
    },
    {
      "cell_type": "markdown",
      "metadata": {
        "papermill": {
          "duration": 0.02595,
          "end_time": "2020-08-26T20:59:08.856139",
          "exception": false,
          "start_time": "2020-08-26T20:59:08.830189",
          "status": "completed"
        },
        "tags": [],
        "id": "0yR7Xntu0Qss"
      },
      "source": [
        "# Chargement des données"
      ]
    },
    {
      "cell_type": "code",
      "source": [
        "path = \"/content/drive/MyDrive/data/sentiments\"\n",
        "#path = \"./data/sentiments\""
      ],
      "metadata": {
        "id": "R-voC08WLnhy"
      },
      "execution_count": 11,
      "outputs": []
    },
    {
      "cell_type": "code",
      "source": [
        "for name in [\"tweets_df_tfidf_1gram\", \"embeddings_bert\", \"embeddings_fasttext\", \"embeddings_word2vec\"]:\n",
        "    size = os.path.getsize(os.path.join(path, f\"{name}.npy\")) / 1e6\n",
        "    print(f\"{name}: {size:.2f} MB\")"
      ],
      "metadata": {
        "colab": {
          "base_uri": "https://localhost:8080/"
        },
        "id": "X8mLJj6lu2HA",
        "outputId": "e99419ff-edb9-4017-9ace-aa3a464b4efd"
      },
      "execution_count": 12,
      "outputs": [
        {
          "output_type": "stream",
          "name": "stdout",
          "text": [
            "tweets_df_tfidf_1gram: 80.46 MB\n",
            "embeddings_bert: 30.72 MB\n",
            "embeddings_fasttext: 3823.37 MB\n",
            "embeddings_word2vec: 3823.37 MB\n"
          ]
        }
      ]
    },
    {
      "cell_type": "code",
      "source": [
        "%%time\n",
        "tweets_df_tfidf_1gram = np.load(os.path.join(path, \"tweets_df_tfidf_1gram.npy\"), allow_pickle=True)\n",
        "\n",
        "tweets_embeddings_bert = np.load(os.path.join(path, \"embeddings_bert.npy\"), allow_pickle=True)\n",
        "tweets_embeddings_fasttext = np.load(os.path.join(path, \"embeddings_fasttext.npy\"), mmap_mode='r')\n",
        "tweets_embeddings_word2vec = np.load(os.path.join(path, \"embeddings_word2vec.npy\"), mmap_mode='r')"
      ],
      "metadata": {
        "id": "hQrTqDqRLtFP",
        "outputId": "1e3683dd-5324-416d-843d-945b1c4b4dd8",
        "colab": {
          "base_uri": "https://localhost:8080/"
        }
      },
      "execution_count": 13,
      "outputs": [
        {
          "output_type": "stream",
          "name": "stdout",
          "text": [
            "CPU times: user 49.5 ms, sys: 127 ms, total: 177 ms\n",
            "Wall time: 7.62 s\n"
          ]
        }
      ]
    },
    {
      "cell_type": "code",
      "source": [
        "print(tweets_df_tfidf_1gram.item().shape)\n",
        "print(tweets_embeddings_word2vec.shape)\n",
        "print(tweets_embeddings_fasttext.shape)\n",
        "print(tweets_embeddings_bert.shape)"
      ],
      "metadata": {
        "id": "ilbCvRzROnEe",
        "outputId": "2d695151-9cc4-4faf-b5f7-d95234a89817",
        "colab": {
          "base_uri": "https://localhost:8080/"
        }
      },
      "execution_count": 14,
      "outputs": [
        {
          "output_type": "stream",
          "name": "stdout",
          "text": [
            "(1593071, 500)\n",
            "(1593071, 300)\n",
            "(1593071, 300)\n",
            "(10000, 768)\n"
          ]
        }
      ]
    },
    {
      "cell_type": "markdown",
      "source": [
        "> Chargement de la variable cible"
      ],
      "metadata": {
        "id": "6Q3cKj798QPQ"
      }
    },
    {
      "cell_type": "code",
      "source": [
        "# Variable cible\n",
        "Y = np.load(os.path.join(path, \"targets.npy\"), allow_pickle=True)\n",
        "display(Y.shape)"
      ],
      "metadata": {
        "colab": {
          "base_uri": "https://localhost:8080/",
          "height": 35
        },
        "id": "ehajTkli8N88",
        "outputId": "0215c768-2713-40bd-ead9-2fefc1892d64"
      },
      "execution_count": 15,
      "outputs": [
        {
          "output_type": "display_data",
          "data": {
            "text/plain": [
              "(1593071,)"
            ]
          },
          "metadata": {}
        }
      ]
    },
    {
      "cell_type": "code",
      "source": [
        "def plot_distribution(y_train, y_val, y_test):\n",
        "  # Création des distributions\n",
        "  dist_df = pd.DataFrame({\n",
        "      \"Train set\": pd.Series(y_train).value_counts(normalize=True),\n",
        "      \"Validation set\": pd.Series(y_val).value_counts(normalize=True),\n",
        "      \"Test set\": pd.Series(y_test).value_counts(normalize=True)\n",
        "  }).T\n",
        "\n",
        "  # Optionnel : renommer les colonnes\n",
        "  #dist_df.columns = [\"Classe 1\", \"Classe 0\"]\n",
        "\n",
        "  # Barplot\n",
        "  dist_df.plot(kind=\"bar\", figsize=(8, 5), colormap=\"Set2\")\n",
        "  plt.title(\"Répartition des classes dans y_train, y_val et y_test\")\n",
        "  plt.ylabel(\"Proportion\")\n",
        "  plt.xticks(rotation=0)\n",
        "  plt.ylim(0, 1)\n",
        "  plt.legend(title=\"Classe\")\n",
        "  plt.tight_layout()\n",
        "  plt.show()\n",
        "\n",
        "\n",
        "def split_train_val_test(X, y, sample_size=None, test_size=0.2, val_size=0.2, random_state=42):\n",
        "    \"\"\"\n",
        "    Splitte un jeu de données en trois sous-ensembles : train, validation et test.\n",
        "\n",
        "    Paramètres :\n",
        "    -----------\n",
        "    X : array-like ou sparse matrix\n",
        "        Matrice des features (peut être dense ou sparse).\n",
        "\n",
        "    y : array-like\n",
        "        Vecteur cible (labels ou classes).\n",
        "\n",
        "    sample_size : int ou None (default=None)\n",
        "        Si spécifié, un sous-échantillon (stratifié) de cette taille est prélevé depuis X/y avant le split.\n",
        "\n",
        "    test_size : float (default=0.2)\n",
        "        Proportion du test set par rapport à l'ensemble X (ou X échantillonné).\n",
        "\n",
        "    val_size : float (default=0.2)\n",
        "        Proportion du validation set par rapport à (train + val).\n",
        "\n",
        "    random_state : int (default=42)\n",
        "        Graine pour la reproductibilité.\n",
        "\n",
        "    Retourne :\n",
        "    ---------\n",
        "    X_train, X_val, X_test, y_train, y_val, y_test : datasets splités avec stratification.\n",
        "    \"\"\"\n",
        "\n",
        "    if sample_size is not None:\n",
        "        X_sample, _, y_sample, _ = train_test_split(\n",
        "            X, y, train_size=sample_size, stratify=y, random_state=random_state\n",
        "        )\n",
        "    else:\n",
        "        X_sample, y_sample = X, y\n",
        "\n",
        "    # Split temporaire : train_val vs test\n",
        "    X_train_val, X_test, y_train_val, y_test = train_test_split(\n",
        "        X_sample, y_sample, test_size=test_size, stratify=y_sample, random_state=random_state\n",
        "    )\n",
        "\n",
        "    # Split train vs validation (sur le train_val)\n",
        "    val_split = val_size / (1 - test_size)\n",
        "    X_train, X_val, y_train, y_val = train_test_split(\n",
        "        X_train_val, y_train_val, test_size=val_split, stratify=y_train_val, random_state=random_state\n",
        "    )\n",
        "\n",
        "    return X_train, X_val, X_test, y_train, y_val, y_test\n"
      ],
      "metadata": {
        "id": "B5szwQ44_jsq"
      },
      "execution_count": 16,
      "outputs": []
    },
    {
      "cell_type": "markdown",
      "source": [
        "# Approche 1: Modéle sur mesure"
      ],
      "metadata": {
        "id": "Z34S7rCCB9Uv"
      }
    },
    {
      "cell_type": "markdown",
      "source": [
        "- Logistic Regression\n",
        "- Ridge Classifier\n",
        "- Naive Bayes\n",
        "- Light Gradient Boosting Machine\n",
        "- Gradient Boosting Classifier\n",
        "- linear discriminant analysis"
      ],
      "metadata": {
        "id": "Mqn1YSL-Lw60"
      }
    },
    {
      "cell_type": "code",
      "source": [
        "models = {\n",
        "    \"Logistic Regression\": LogisticRegression(max_iter=1000),\n",
        "    \"Ridge Classifier\": RidgeClassifier(),\n",
        "    \"XGBoost\": XGBClassifier(eval_metric='logloss', n_jobs=-1),\n",
        "    \"LightGBM\": LGBMClassifier(verbose=-1, n_jobs=-1),\n",
        "    \"Random Forest\": RandomForestClassifier(n_estimators=100),\n",
        "}"
      ],
      "metadata": {
        "id": "UZLWX9FXMNsa"
      },
      "execution_count": 17,
      "outputs": []
    },
    {
      "cell_type": "code",
      "source": [
        "from tqdm import tqdm\n",
        "tqdm.pandas()\n",
        "def evaluate_models(x_train, x_valid, y_train, y_valid, cv=3, scoring=\"accuracy\"):\n",
        "    results = []\n",
        "\n",
        "    for name, model in tqdm(models.items()):\n",
        "      start_time = time.time()\n",
        "      print(f\"Evaluating {name}...\")\n",
        "      scores = cross_val_score(model, x_train, y_train, cv=cv, scoring=scoring)\n",
        "      y_pred = model.fit(x_train, y_train).predict(x_valid)\n",
        "      results.append({\n",
        "          \"Model\": name,\n",
        "          \"cv_score\": scores.mean(),\n",
        "          \"val_score\": model.score(x_valid, y_valid),\n",
        "          \"precision\": precision_score(y_valid, y_pred),\n",
        "          \"recall\": recall_score(y_valid, y_pred),\n",
        "          \"f1\": f1_score(y_valid, y_pred),\n",
        "          \"auc\": roc_auc_score(y_valid, y_pred),\n",
        "          \"mse\": mean_squared_error(y_valid, y_pred),\n",
        "          \"train_time (s)\": time.time() - start_time\n",
        "      })\n",
        "    print(\"\\n\")\n",
        "\n",
        "    return pd.DataFrame(results).sort_values(by=\"val_score\", ascending=False)\n",
        "\n",
        "def show_calibration_curve(models, X_valid, y_valid, exclude=None):\n",
        "  if exclude is None:\n",
        "    exclude = []\n",
        "  fig = plt.figure(figsize=(16, 10))\n",
        "  gs = GridSpec(7, 3)\n",
        "  colors = plt.get_cmap(\"Dark2\")\n",
        "\n",
        "  ax_calibration_curve = fig.add_subplot(gs[:2, :2])\n",
        "  calibration_displays = {}\n",
        "  markers = [\"^\", \"v\", \"s\", \"o\", \"2\"]\n",
        "  for i, (name, clf) in enumerate(models.items()):\n",
        "    if name not in exclude:\n",
        "      display = CalibrationDisplay.from_estimator(\n",
        "          clf,\n",
        "          X_valid,\n",
        "          y_valid,\n",
        "          n_bins=10,\n",
        "          name=name,\n",
        "          ax=ax_calibration_curve,\n",
        "          color=colors(i),\n",
        "          marker=markers[i],\n",
        "      )\n",
        "      calibration_displays[name] = display\n",
        "\n",
        "  ax_calibration_curve.grid()\n",
        "  ax_calibration_curve.set_title(\"Calibration plots\")\n",
        "\n",
        "skf = StratifiedKFold(n_splits=4)"
      ],
      "metadata": {
        "id": "gJgKZ158Mrpp"
      },
      "execution_count": 52,
      "outputs": []
    },
    {
      "cell_type": "markdown",
      "source": [
        "## | Tf-idf"
      ],
      "metadata": {
        "id": "Xs5P0zRjWxrK"
      }
    },
    {
      "cell_type": "code",
      "source": [
        "X_train_tfidf, X_valid_tfidf, X_test_tfidf, y_train_tfidf, y_valid_tfidf, y_test_tfidf = split_train_val_test(tweets_df_tfidf_1gram.item(), Y, sample_size=20000)\n",
        "print(\"Répartition dans y_train    :\", pd.Series(y_train_tfidf).value_counts(normalize=True))\n",
        "print(\"Répartition dans y_validation:\", pd.Series(y_valid_tfidf).value_counts(normalize=True))\n",
        "print(\"Répartition dans y_test :\", pd.Series(y_test_tfidf).value_counts(normalize=True))\n",
        "plot_distribution(y_train_tfidf, y_valid_tfidf, y_test_tfidf)"
      ],
      "metadata": {
        "colab": {
          "base_uri": "https://localhost:8080/",
          "height": 672
        },
        "id": "CRsXanc9XtLS",
        "outputId": "0a38b89b-0446-4a4c-ca92-ea66b8b4f619"
      },
      "execution_count": 19,
      "outputs": [
        {
          "output_type": "stream",
          "name": "stdout",
          "text": [
            "Répartition dans y_train    : 1    0.500083\n",
            "0    0.499917\n",
            "Name: proportion, dtype: float64\n",
            "Répartition dans y_validation: 0    0.5\n",
            "1    0.5\n",
            "Name: proportion, dtype: float64\n",
            "Répartition dans y_test : 1    0.5\n",
            "0    0.5\n",
            "Name: proportion, dtype: float64\n"
          ]
        },
        {
          "output_type": "display_data",
          "data": {
            "text/plain": [
              "<Figure size 800x500 with 1 Axes>"
            ],
            "image/png": "[encoded data removed]"
          },
          "metadata": {}
        }
      ]
    },
    {
      "cell_type": "code",
      "source": [
        "skf.get_n_splits(X_train_tfidf, y_train_tfidf)\n",
        "for i, (train_index, test_index) in enumerate(skf.split(X_train_tfidf, y_train_tfidf)):\n",
        "    print(f\"Fold {i}:\")\n",
        "    print(f\"  Train: index={train_index}\")\n",
        "    print(f\"  Test:  index={test_index}\")"
      ],
      "metadata": {
        "colab": {
          "base_uri": "https://localhost:8080/"
        },
        "id": "LwmhkTjzVEj2",
        "outputId": "e0062df7-6106-46dd-a304-b2fdd8730de3"
      },
      "execution_count": 20,
      "outputs": [
        {
          "output_type": "stream",
          "name": "stdout",
          "text": [
            "Fold 0:\n",
            "  Train: index=[ 2890  2891  2892 ... 11997 11998 11999]\n",
            "  Test:  index=[   0    1    2 ... 3107 3108 3109]\n",
            "Fold 1:\n",
            "  Train: index=[    0     1     2 ... 11997 11998 11999]\n",
            "  Test:  index=[2890 2891 2892 ... 5997 5999 6000]\n",
            "Fold 2:\n",
            "  Train: index=[    0     1     2 ... 11997 11998 11999]\n",
            "  Test:  index=[5998 6001 6002 ... 8999 9001 9004]\n",
            "Fold 3:\n",
            "  Train: index=[   0    1    2 ... 8999 9001 9004]\n",
            "  Test:  index=[ 8994  8995  9000 ... 11997 11998 11999]\n"
          ]
        }
      ]
    },
    {
      "cell_type": "code",
      "source": [
        "%%time\n",
        "tfidf_results_df = evaluate_models(X_train_tfidf, X_valid_tfidf, y_train_tfidf, y_valid_tfidf, cv=skf)"
      ],
      "metadata": {
        "colab": {
          "base_uri": "https://localhost:8080/"
        },
        "id": "yM0hEsvqYObk",
        "outputId": "563848d3-7e01-45a9-844c-06dc9bc4acb9"
      },
      "execution_count": 21,
      "outputs": [
        {
          "output_type": "stream",
          "name": "stderr",
          "text": [
            " 20%|██        | 1/5 [00:00<00:00,  5.57it/s]"
          ]
        },
        {
          "output_type": "stream",
          "name": "stdout",
          "text": [
            "Evaluating Logistic Regression...\n",
            "Evaluating Ridge Classifier...\n"
          ]
        },
        {
          "output_type": "stream",
          "name": "stderr",
          "text": [
            "\r 40%|████      | 2/5 [00:00<00:00,  6.31it/s]"
          ]
        },
        {
          "output_type": "stream",
          "name": "stdout",
          "text": [
            "Evaluating XGBoost...\n"
          ]
        },
        {
          "output_type": "stream",
          "name": "stderr",
          "text": [
            "\r 60%|██████    | 3/5 [00:13<00:11,  5.99s/it]"
          ]
        },
        {
          "output_type": "stream",
          "name": "stdout",
          "text": [
            "Evaluating LightGBM...\n"
          ]
        },
        {
          "output_type": "stream",
          "name": "stderr",
          "text": [
            "\r 80%|████████  | 4/5 [00:17<00:05,  5.39s/it]"
          ]
        },
        {
          "output_type": "stream",
          "name": "stdout",
          "text": [
            "Evaluating Random Forest...\n"
          ]
        },
        {
          "output_type": "stream",
          "name": "stderr",
          "text": [
            "100%|██████████| 5/5 [00:56<00:00, 11.38s/it]"
          ]
        },
        {
          "output_type": "stream",
          "name": "stdout",
          "text": [
            "\n",
            "\n",
            "CPU times: user 1min 9s, sys: 231 ms, total: 1min 10s\n",
            "Wall time: 56.9 s\n"
          ]
        },
        {
          "output_type": "stream",
          "name": "stderr",
          "text": [
            "\n"
          ]
        }
      ]
    },
    {
      "cell_type": "code",
      "source": [
        "tfidf_results_df"
      ],
      "metadata": {
        "id": "KUtDW0cpYbom",
        "colab": {
          "base_uri": "https://localhost:8080/",
          "height": 206
        },
        "outputId": "d47695bd-aac7-427d-e2b8-7e13cb65d8db"
      },
      "execution_count": 22,
      "outputs": [
        {
          "output_type": "execute_result",
          "data": {
            "text/plain": [
              "                 Model    score  precision  recall        f1      auc  \\\n",
              "1     Ridge Classifier  0.71225   0.700141  0.7425  0.720699  0.71225   \n",
              "0  Logistic Regression  0.71025   0.698443  0.7400  0.718621  0.71025   \n",
              "3             LightGBM  0.70150   0.685373  0.7450  0.713943  0.70150   \n",
              "2              XGBoost  0.68900   0.668449  0.7500  0.706880  0.68900   \n",
              "4        Random Forest  0.68625   0.685786  0.6875  0.686642  0.68625   \n",
              "\n",
              "       mse  train_time (s)  \n",
              "1  0.28775        0.140152  \n",
              "0  0.28975        0.179539  \n",
              "3  0.29850        4.473297  \n",
              "2  0.31100       12.928436  \n",
              "4  0.31375       39.187341  "
            ],
            "text/html": [
              "\n",
              "  <div id=\"df-e5d22aca-984f-41a6-bf44-7ac1ee399f1a\" class=\"colab-df-container\">\n",
              "    <div>\n",
              "<style scoped>\n",
              "    .dataframe tbody tr th:only-of-type {\n",
              "        vertical-align: middle;\n",
              "    }\n",
              "\n",
              "    .dataframe tbody tr th {\n",
              "        vertical-align: top;\n",
              "    }\n",
              "\n",
              "    .dataframe thead th {\n",
              "        text-align: right;\n",
              "    }\n",
              "</style>\n",
              "<table border=\"1\" class=\"dataframe\">\n",
              "  <thead>\n",
              "    <tr style=\"text-align: right;\">\n",
              "      <th></th>\n",
              "      <th>Model</th>\n",
              "      <th>score</th>\n",
              "      <th>precision</th>\n",
              "      <th>recall</th>\n",
              "      <th>f1</th>\n",
              "      <th>auc</th>\n",
              "      <th>mse</th>\n",
              "      <th>train_time (s)</th>\n",
              "    </tr>\n",
              "  </thead>\n",
              "  <tbody>\n",
              "    <tr>\n",
              "      <th>1</th>\n",
              "      <td>Ridge Classifier</td>\n",
              "      <td>0.71225</td>\n",
              "      <td>0.700141</td>\n",
              "      <td>0.7425</td>\n",
              "      <td>0.720699</td>\n",
              "      <td>0.71225</td>\n",
              "      <td>0.28775</td>\n",
              "      <td>0.140152</td>\n",
              "    </tr>\n",
              "    <tr>\n",
              "      <th>0</th>\n",
              "      <td>Logistic Regression</td>\n",
              "      <td>0.71025</td>\n",
              "      <td>0.698443</td>\n",
              "      <td>0.7400</td>\n",
              "      <td>0.718621</td>\n",
              "      <td>0.71025</td>\n",
              "      <td>0.28975</td>\n",
              "      <td>0.179539</td>\n",
              "    </tr>\n",
              "    <tr>\n",
              "      <th>3</th>\n",
              "      <td>LightGBM</td>\n",
              "      <td>0.70150</td>\n",
              "      <td>0.685373</td>\n",
              "      <td>0.7450</td>\n",
              "      <td>0.713943</td>\n",
              "      <td>0.70150</td>\n",
              "      <td>0.29850</td>\n",
              "      <td>4.473297</td>\n",
              "    </tr>\n",
              "    <tr>\n",
              "      <th>2</th>\n",
              "      <td>XGBoost</td>\n",
              "      <td>0.68900</td>\n",
              "      <td>0.668449</td>\n",
              "      <td>0.7500</td>\n",
              "      <td>0.706880</td>\n",
              "      <td>0.68900</td>\n",
              "      <td>0.31100</td>\n",
              "      <td>12.928436</td>\n",
              "    </tr>\n",
              "    <tr>\n",
              "      <th>4</th>\n",
              "      <td>Random Forest</td>\n",
              "      <td>0.68625</td>\n",
              "      <td>0.685786</td>\n",
              "      <td>0.6875</td>\n",
              "      <td>0.686642</td>\n",
              "      <td>0.68625</td>\n",
              "      <td>0.31375</td>\n",
              "      <td>39.187341</td>\n",
              "    </tr>\n",
              "  </tbody>\n",
              "</table>\n",
              "</div>\n",
              "    <div class=\"colab-df-buttons\">\n",
              "\n",
              "  <div class=\"colab-df-container\">\n",
              "    <button class=\"colab-df-convert\" onclick=\"convertToInteractive('df-e5d22aca-984f-41a6-bf44-7ac1ee399f1a')\"\n",
              "            title=\"Convert this dataframe to an interactive table.\"\n",
              "            style=\"display:none;\">\n",
              "\n",
              "  <svg xmlns=\"http://www.w3.org/2000/svg\" height=\"24px\" viewBox=\"0 -960 960 960\">\n",
              "    <path d=\"M120-120v-720h720v720H120Zm60-500h600v-160H180v160Zm220 220h160v-160H400v160Zm0 220h160v-160H400v160ZM180-400h160v-160H180v160Zm440 0h160v-160H620v160ZM180-180h160v-160H180v160Zm440 0h160v-160H620v160Z\"/>\n",
              "  </svg>\n",
              "    </button>\n",
              "\n",
              "  <style>\n",
              "    .colab-df-container {\n",
              "      display:flex;\n",
              "      gap: 12px;\n",
              "    }\n",
              "\n",
              "    .colab-df-convert {\n",
              "      background-color: #E8F0FE;\n",
              "      border: none;\n",
              "      border-radius: 50%;\n",
              "      cursor: pointer;\n",
              "      display: none;\n",
              "      fill: #1967D2;\n",
              "      height: 32px;\n",
              "      padding: 0 0 0 0;\n",
              "      width: 32px;\n",
              "    }\n",
              "\n",
              "    .colab-df-convert:hover {\n",
              "      background-color: #E2EBFA;\n",
              "      box-shadow: 0px 1px 2px rgba(60, 64, 67, 0.3), 0px 1px 3px 1px rgba(60, 64, 67, 0.15);\n",
              "      fill: #174EA6;\n",
              "    }\n",
              "\n",
              "    .colab-df-buttons div {\n",
              "      margin-bottom: 4px;\n",
              "    }\n",
              "\n",
              "    [theme=dark] .colab-df-convert {\n",
              "      background-color: #3B4455;\n",
              "      fill: #D2E3FC;\n",
              "    }\n",
              "\n",
              "    [theme=dark] .colab-df-convert:hover {\n",
              "      background-color: #434B5C;\n",
              "      box-shadow: 0px 1px 3px 1px rgba(0, 0, 0, 0.15);\n",
              "      filter: drop-shadow(0px 1px 2px rgba(0, 0, 0, 0.3));\n",
              "      fill: #FFFFFF;\n",
              "    }\n",
              "  </style>\n",
              "\n",
              "    <script>\n",
              "      const buttonEl =\n",
              "        document.querySelector('#df-e5d22aca-984f-41a6-bf44-7ac1ee399f1a button.colab-df-convert');\n",
              "      buttonEl.style.display =\n",
              "        google.colab.kernel.accessAllowed ? 'block' : 'none';\n",
              "\n",
              "      async function convertToInteractive(key) {\n",
              "        const element = document.querySelector('#df-e5d22aca-984f-41a6-bf44-7ac1ee399f1a');\n",
              "        const dataTable =\n",
              "          await google.colab.kernel.invokeFunction('convertToInteractive',\n",
              "                                                    [key], {});\n",
              "        if (!dataTable) return;\n",
              "\n",
              "        const docLinkHtml = 'Like what you see? Visit the ' +\n",
              "          '<a target=\"_blank\" href=https://colab.research.google.com/notebooks/data_table.ipynb>data table notebook</a>'\n",
              "          + ' to learn more about interactive tables.';\n",
              "        element.innerHTML = '';\n",
              "        dataTable['output_type'] = 'display_data';\n",
              "        await google.colab.output.renderOutput(dataTable, element);\n",
              "        const docLink = document.createElement('div');\n",
              "        docLink.innerHTML = docLinkHtml;\n",
              "        element.appendChild(docLink);\n",
              "      }\n",
              "    </script>\n",
              "  </div>\n",
              "\n",
              "\n",
              "    <div id=\"df-7c529747-e72d-4980-bfe4-8e708e0b7025\">\n",
              "      <button class=\"colab-df-quickchart\" onclick=\"quickchart('df-7c529747-e72d-4980-bfe4-8e708e0b7025')\"\n",
              "                title=\"Suggest charts\"\n",
              "                style=\"display:none;\">\n",
              "\n",
              "<svg xmlns=\"http://www.w3.org/2000/svg\" height=\"24px\"viewBox=\"0 0 24 24\"\n",
              "     width=\"24px\">\n",
              "    <g>\n",
              "        <path d=\"M19 3H5c-1.1 0-2 .9-2 2v14c0 1.1.9 2 2 2h14c1.1 0 2-.9 2-2V5c0-1.1-.9-2-2-2zM9 17H7v-7h2v7zm4 0h-2V7h2v10zm4 0h-2v-4h2v4z\"/>\n",
              "    </g>\n",
              "</svg>\n",
              "      </button>\n",
              "\n",
              "<style>\n",
              "  .colab-df-quickchart {\n",
              "      --bg-color: #E8F0FE;\n",
              "      --fill-color: #1967D2;\n",
              "      --hover-bg-color: #E2EBFA;\n",
              "      --hover-fill-color: #174EA6;\n",
              "      --disabled-fill-color: #AAA;\n",
              "      --disabled-bg-color: #DDD;\n",
              "  }\n",
              "\n",
              "  [theme=dark] .colab-df-quickchart {\n",
              "      --bg-color: #3B4455;\n",
              "      --fill-color: #D2E3FC;\n",
              "      --hover-bg-color: #434B5C;\n",
              "      --hover-fill-color: #FFFFFF;\n",
              "      --disabled-bg-color: #3B4455;\n",
              "      --disabled-fill-color: #666;\n",
              "  }\n",
              "\n",
              "  .colab-df-quickchart {\n",
              "    background-color: var(--bg-color);\n",
              "    border: none;\n",
              "    border-radius: 50%;\n",
              "    cursor: pointer;\n",
              "    display: none;\n",
              "    fill: var(--fill-color);\n",
              "    height: 32px;\n",
              "    padding: 0;\n",
              "    width: 32px;\n",
              "  }\n",
              "\n",
              "  .colab-df-quickchart:hover {\n",
              "    background-color: var(--hover-bg-color);\n",
              "    box-shadow: 0 1px 2px rgba(60, 64, 67, 0.3), 0 1px 3px 1px rgba(60, 64, 67, 0.15);\n",
              "    fill: var(--button-hover-fill-color);\n",
              "  }\n",
              "\n",
              "  .colab-df-quickchart-complete:disabled,\n",
              "  .colab-df-quickchart-complete:disabled:hover {\n",
              "    background-color: var(--disabled-bg-color);\n",
              "    fill: var(--disabled-fill-color);\n",
              "    box-shadow: none;\n",
              "  }\n",
              "\n",
              "  .colab-df-spinner {\n",
              "    border: 2px solid var(--fill-color);\n",
              "    border-color: transparent;\n",
              "    border-bottom-color: var(--fill-color);\n",
              "    animation:\n",
              "      spin 1s steps(1) infinite;\n",
              "  }\n",
              "\n",
              "  @keyframes spin {\n",
              "    0% {\n",
              "      border-color: transparent;\n",
              "      border-bottom-color: var(--fill-color);\n",
              "      border-left-color: var(--fill-color);\n",
              "    }\n",
              "    20% {\n",
              "      border-color: transparent;\n",
              "      border-left-color: var(--fill-color);\n",
              "      border-top-color: var(--fill-color);\n",
              "    }\n",
              "    30% {\n",
              "      border-color: transparent;\n",
              "      border-left-color: var(--fill-color);\n",
              "      border-top-color: var(--fill-color);\n",
              "      border-right-color: var(--fill-color);\n",
              "    }\n",
              "    40% {\n",
              "      border-color: transparent;\n",
              "      border-right-color: var(--fill-color);\n",
              "      border-top-color: var(--fill-color);\n",
              "    }\n",
              "    60% {\n",
              "      border-color: transparent;\n",
              "      border-right-color: var(--fill-color);\n",
              "    }\n",
              "    80% {\n",
              "      border-color: transparent;\n",
              "      border-right-color: var(--fill-color);\n",
              "      border-bottom-color: var(--fill-color);\n",
              "    }\n",
              "    90% {\n",
              "      border-color: transparent;\n",
              "      border-bottom-color: var(--fill-color);\n",
              "    }\n",
              "  }\n",
              "</style>\n",
              "\n",
              "      <script>\n",
              "        async function quickchart(key) {\n",
              "          const quickchartButtonEl =\n",
              "            document.querySelector('#' + key + ' button');\n",
              "          quickchartButtonEl.disabled = true;  // To prevent multiple clicks.\n",
              "          quickchartButtonEl.classList.add('colab-df-spinner');\n",
              "          try {\n",
              "            const charts = await google.colab.kernel.invokeFunction(\n",
              "                'suggestCharts', [key], {});\n",
              "          } catch (error) {\n",
              "            console.error('Error during call to suggestCharts:', error);\n",
              "          }\n",
              "          quickchartButtonEl.classList.remove('colab-df-spinner');\n",
              "          quickchartButtonEl.classList.add('colab-df-quickchart-complete');\n",
              "        }\n",
              "        (() => {\n",
              "          let quickchartButtonEl =\n",
              "            document.querySelector('#df-7c529747-e72d-4980-bfe4-8e708e0b7025 button');\n",
              "          quickchartButtonEl.style.display =\n",
              "            google.colab.kernel.accessAllowed ? 'block' : 'none';\n",
              "        })();\n",
              "      </script>\n",
              "    </div>\n",
              "\n",
              "  <div id=\"id_a4f4d13c-8f7f-4014-a95a-c35203978d77\">\n",
              "    <style>\n",
              "      .colab-df-generate {\n",
              "        background-color: #E8F0FE;\n",
              "        border: none;\n",
              "        border-radius: 50%;\n",
              "        cursor: pointer;\n",
              "        display: none;\n",
              "        fill: #1967D2;\n",
              "        height: 32px;\n",
              "        padding: 0 0 0 0;\n",
              "        width: 32px;\n",
              "      }\n",
              "\n",
              "      .colab-df-generate:hover {\n",
              "        background-color: #E2EBFA;\n",
              "        box-shadow: 0px 1px 2px rgba(60, 64, 67, 0.3), 0px 1px 3px 1px rgba(60, 64, 67, 0.15);\n",
              "        fill: #174EA6;\n",
              "      }\n",
              "\n",
              "      [theme=dark] .colab-df-generate {\n",
              "        background-color: #3B4455;\n",
              "        fill: #D2E3FC;\n",
              "      }\n",
              "\n",
              "      [theme=dark] .colab-df-generate:hover {\n",
              "        background-color: #434B5C;\n",
              "        box-shadow: 0px 1px 3px 1px rgba(0, 0, 0, 0.15);\n",
              "        filter: drop-shadow(0px 1px 2px rgba(0, 0, 0, 0.3));\n",
              "        fill: #FFFFFF;\n",
              "      }\n",
              "    </style>\n",
              "    <button class=\"colab-df-generate\" onclick=\"generateWithVariable('tfidf_results_df')\"\n",
              "            title=\"Generate code using this dataframe.\"\n",
              "            style=\"display:none;\">\n",
              "\n",
              "  <svg xmlns=\"http://www.w3.org/2000/svg\" height=\"24px\"viewBox=\"0 0 24 24\"\n",
              "       width=\"24px\">\n",
              "    <path d=\"M7,19H8.4L18.45,9,17,7.55,7,17.6ZM5,21V16.75L18.45,3.32a2,2,0,0,1,2.83,0l1.4,1.43a1.91,1.91,0,0,1,.58,1.4,1.91,1.91,0,0,1-.58,1.4L9.25,21ZM18.45,9,17,7.55Zm-12,3A5.31,5.31,0,0,0,4.9,8.1,5.31,5.31,0,0,0,1,6.5,5.31,5.31,0,0,0,4.9,4.9,5.31,5.31,0,0,0,6.5,1,5.31,5.31,0,0,0,8.1,4.9,5.31,5.31,0,0,0,12,6.5,5.46,5.46,0,0,0,6.5,12Z\"/>\n",
              "  </svg>\n",
              "    </button>\n",
              "    <script>\n",
              "      (() => {\n",
              "      const buttonEl =\n",
              "        document.querySelector('#id_a4f4d13c-8f7f-4014-a95a-c35203978d77 button.colab-df-generate');\n",
              "      buttonEl.style.display =\n",
              "        google.colab.kernel.accessAllowed ? 'block' : 'none';\n",
              "\n",
              "      buttonEl.onclick = () => {\n",
              "        google.colab.notebook.generateWithVariable('tfidf_results_df');\n",
              "      }\n",
              "      })();\n",
              "    </script>\n",
              "  </div>\n",
              "\n",
              "    </div>\n",
              "  </div>\n"
            ],
            "application/vnd.google.colaboratory.intrinsic+json": {
              "type": "dataframe",
              "variable_name": "tfidf_results_df",
              "summary": "{\n  \"name\": \"tfidf_results_df\",\n  \"rows\": 5,\n  \"fields\": [\n    {\n      \"column\": \"Model\",\n      \"properties\": {\n        \"dtype\": \"string\",\n        \"num_unique_values\": 5,\n        \"samples\": [\n          \"Logistic Regression\",\n          \"Random Forest\",\n          \"LightGBM\"\n        ],\n        \"semantic_type\": \"\",\n        \"description\": \"\"\n      }\n    },\n    {\n      \"column\": \"score\",\n      \"properties\": {\n        \"dtype\": \"number\",\n        \"std\": 0.011909292590242322,\n        \"min\": 0.68625,\n        \"max\": 0.71225,\n        \"num_unique_values\": 5,\n        \"samples\": [\n          0.71025,\n          0.68625,\n          0.7015\n        ],\n        \"semantic_type\": \"\",\n        \"description\": \"\"\n      }\n    },\n    {\n      \"column\": \"precision\",\n      \"properties\": {\n        \"dtype\": \"number\",\n        \"std\": 0.012746084171575078,\n        \"min\": 0.6684491978609626,\n        \"max\": 0.7001414427157001,\n        \"num_unique_values\": 5,\n        \"samples\": [\n          0.6984426616328456,\n          0.685785536159601,\n          0.6853725850965962\n        ],\n        \"semantic_type\": \"\",\n        \"description\": \"\"\n      }\n    },\n    {\n      \"column\": \"recall\",\n      \"properties\": {\n        \"dtype\": \"number\",\n        \"std\": 0.025702626324949757,\n        \"min\": 0.6875,\n        \"max\": 0.75,\n        \"num_unique_values\": 5,\n        \"samples\": [\n          0.74,\n          0.6875,\n          0.745\n        ],\n        \"semantic_type\": \"\",\n        \"description\": \"\"\n      }\n    },\n    {\n      \"column\": \"f1\",\n      \"properties\": {\n        \"dtype\": \"number\",\n        \"std\": 0.013762399168794572,\n        \"min\": 0.686641697877653,\n        \"max\": 0.7206988595001214,\n        \"num_unique_values\": 5,\n        \"samples\": [\n          0.7186210245205147,\n          0.686641697877653,\n          0.7139434595112601\n        ],\n        \"semantic_type\": \"\",\n        \"description\": \"\"\n      }\n    },\n    {\n      \"column\": \"auc\",\n      \"properties\": {\n        \"dtype\": \"number\",\n        \"std\": 0.011909292590242274,\n        \"min\": 0.68625,\n        \"max\": 0.71225,\n        \"num_unique_values\": 5,\n        \"samples\": [\n          0.7102499999999999,\n          0.68625,\n          0.7015\n        ],\n        \"semantic_type\": \"\",\n        \"description\": \"\"\n      }\n    },\n    {\n      \"column\": \"mse\",\n      \"properties\": {\n        \"dtype\": \"number\",\n        \"std\": 0.011909292590242284,\n        \"min\": 0.28775,\n        \"max\": 0.31375,\n        \"num_unique_values\": 5,\n        \"samples\": [\n          0.28975,\n          0.31375,\n          0.2985\n        ],\n        \"semantic_type\": \"\",\n        \"description\": \"\"\n      }\n    },\n    {\n      \"column\": \"train_time (s)\",\n      \"properties\": {\n        \"dtype\": \"number\",\n        \"std\": 16.394609792902333,\n        \"min\": 0.1401522159576416,\n        \"max\": 39.1873414516449,\n        \"num_unique_values\": 5,\n        \"samples\": [\n          0.17953944206237793,\n          39.1873414516449,\n          4.473296880722046\n        ],\n        \"semantic_type\": \"\",\n        \"description\": \"\"\n      }\n    }\n  ]\n}"
            }
          },
          "metadata": {},
          "execution_count": 22
        }
      ]
    },
    {
      "cell_type": "markdown",
      "source": [
        "## | Word2Vec"
      ],
      "metadata": {
        "id": "Go475o0OW3WD"
      }
    },
    {
      "cell_type": "code",
      "source": [
        "%%time\n",
        "X_train_w2v, X_valid_w2v, X_test_w2v, y_train_w2v, y_valid_w2v, y_test_w2v = split_train_val_test(tweets_embeddings_word2vec, Y, sample_size=20000)\n",
        "print(\"Répartition dans y_train    :\", pd.Series(y_train_w2v).value_counts(normalize=True))\n",
        "print(\"Répartition dans y_validation:\", pd.Series(y_valid_w2v).value_counts(normalize=True))\n",
        "print(\"Répartition dans y_test :\", pd.Series(y_test_w2v).value_counts(normalize=True))\n",
        "plot_distribution(y_train_w2v, y_valid_w2v,  y_test_w2v)"
      ],
      "metadata": {
        "id": "SFmK7CpdYvik",
        "colab": {
          "base_uri": "https://localhost:8080/",
          "height": 709
        },
        "outputId": "50115b01-1c9b-4256-b9e6-962f706b958c"
      },
      "execution_count": 23,
      "outputs": [
        {
          "output_type": "stream",
          "name": "stdout",
          "text": [
            "Répartition dans y_train    : 1    0.500083\n",
            "0    0.499917\n",
            "Name: proportion, dtype: float64\n",
            "Répartition dans y_validation: 0    0.5\n",
            "1    0.5\n",
            "Name: proportion, dtype: float64\n",
            "Répartition dans y_test : 1    0.5\n",
            "0    0.5\n",
            "Name: proportion, dtype: float64\n"
          ]
        },
        {
          "output_type": "display_data",
          "data": {
            "text/plain": [
              "<Figure size 800x500 with 1 Axes>"
            ],
            "image/png": "[encoded data removed]"
          },
          "metadata": {}
        },
        {
          "output_type": "stream",
          "name": "stdout",
          "text": [
            "CPU times: user 2.82 s, sys: 6.25 s, total: 9.07 s\n",
            "Wall time: 1min 53s\n"
          ]
        }
      ]
    },
    {
      "cell_type": "code",
      "source": [
        "%%time\n",
        "w2v_results__df = evaluate_models(X_train_w2v, X_valid_w2v, y_train_w2v, y_valid_w2v, cv=skf)"
      ],
      "metadata": {
        "id": "dRimE4KMZJJA",
        "colab": {
          "base_uri": "https://localhost:8080/"
        },
        "outputId": "825615e7-7171-4fd1-e251-996b9cec9654"
      },
      "execution_count": 24,
      "outputs": [
        {
          "output_type": "stream",
          "name": "stderr",
          "text": [
            "\r  0%|          | 0/5 [00:00<?, ?it/s]"
          ]
        },
        {
          "output_type": "stream",
          "name": "stdout",
          "text": [
            "Evaluating Logistic Regression...\n"
          ]
        },
        {
          "output_type": "stream",
          "name": "stderr",
          "text": [
            "\r 20%|██        | 1/5 [00:15<01:03, 15.98s/it]"
          ]
        },
        {
          "output_type": "stream",
          "name": "stdout",
          "text": [
            "Evaluating Ridge Classifier...\n"
          ]
        },
        {
          "output_type": "stream",
          "name": "stderr",
          "text": [
            "\r 40%|████      | 2/5 [00:16<00:21,  7.06s/it]"
          ]
        },
        {
          "output_type": "stream",
          "name": "stdout",
          "text": [
            "Evaluating XGBoost...\n"
          ]
        },
        {
          "output_type": "stream",
          "name": "stderr",
          "text": [
            "\r 60%|██████    | 3/5 [01:37<01:21, 40.56s/it]"
          ]
        },
        {
          "output_type": "stream",
          "name": "stdout",
          "text": [
            "Evaluating LightGBM...\n"
          ]
        },
        {
          "output_type": "stream",
          "name": "stderr",
          "text": [
            "\r 80%|████████  | 4/5 [02:15<00:39, 39.64s/it]"
          ]
        },
        {
          "output_type": "stream",
          "name": "stdout",
          "text": [
            "Evaluating Random Forest...\n"
          ]
        },
        {
          "output_type": "stream",
          "name": "stderr",
          "text": [
            "100%|██████████| 5/5 [04:18<00:00, 51.78s/it]"
          ]
        },
        {
          "output_type": "stream",
          "name": "stdout",
          "text": [
            "\n",
            "\n",
            "CPU times: user 5min 50s, sys: 1.04 s, total: 5min 51s\n",
            "Wall time: 4min 18s\n"
          ]
        },
        {
          "output_type": "stream",
          "name": "stderr",
          "text": [
            "\n"
          ]
        }
      ]
    },
    {
      "cell_type": "code",
      "source": [
        "w2v_results__df"
      ],
      "metadata": {
        "id": "b6paz8p0ZVpd",
        "colab": {
          "base_uri": "https://localhost:8080/",
          "height": 206
        },
        "outputId": "5b11c4d6-5b85-4d4b-8e6e-d7a547a95d61"
      },
      "execution_count": 25,
      "outputs": [
        {
          "output_type": "execute_result",
          "data": {
            "text/plain": [
              "                 Model    score  precision  recall        f1      auc  \\\n",
              "0  Logistic Regression  0.72775   0.721655  0.7415  0.731443  0.72775   \n",
              "1     Ridge Classifier  0.72250   0.717285  0.7345  0.725791  0.72250   \n",
              "3             LightGBM  0.69725   0.699142  0.6925  0.695805  0.69725   \n",
              "2              XGBoost  0.69375   0.698616  0.6815  0.689952  0.69375   \n",
              "4        Random Forest  0.69125   0.704218  0.6595  0.681126  0.69125   \n",
              "\n",
              "       mse  train_time (s)  \n",
              "0  0.27225       15.978106  \n",
              "1  0.27750        0.808959  \n",
              "3  0.30275       38.216153  \n",
              "2  0.30625       80.422780  \n",
              "4  0.30875      123.469403  "
            ],
            "text/html": [
              "\n",
              "  <div id=\"df-71128182-fe12-4fd9-b444-fd4a5e2def42\" class=\"colab-df-container\">\n",
              "    <div>\n",
              "<style scoped>\n",
              "    .dataframe tbody tr th:only-of-type {\n",
              "        vertical-align: middle;\n",
              "    }\n",
              "\n",
              "    .dataframe tbody tr th {\n",
              "        vertical-align: top;\n",
              "    }\n",
              "\n",
              "    .dataframe thead th {\n",
              "        text-align: right;\n",
              "    }\n",
              "</style>\n",
              "<table border=\"1\" class=\"dataframe\">\n",
              "  <thead>\n",
              "    <tr style=\"text-align: right;\">\n",
              "      <th></th>\n",
              "      <th>Model</th>\n",
              "      <th>score</th>\n",
              "      <th>precision</th>\n",
              "      <th>recall</th>\n",
              "      <th>f1</th>\n",
              "      <th>auc</th>\n",
              "      <th>mse</th>\n",
              "      <th>train_time (s)</th>\n",
              "    </tr>\n",
              "  </thead>\n",
              "  <tbody>\n",
              "    <tr>\n",
              "      <th>0</th>\n",
              "      <td>Logistic Regression</td>\n",
              "      <td>0.72775</td>\n",
              "      <td>0.721655</td>\n",
              "      <td>0.7415</td>\n",
              "      <td>0.731443</td>\n",
              "      <td>0.72775</td>\n",
              "      <td>0.27225</td>\n",
              "      <td>15.978106</td>\n",
              "    </tr>\n",
              "    <tr>\n",
              "      <th>1</th>\n",
              "      <td>Ridge Classifier</td>\n",
              "      <td>0.72250</td>\n",
              "      <td>0.717285</td>\n",
              "      <td>0.7345</td>\n",
              "      <td>0.725791</td>\n",
              "      <td>0.72250</td>\n",
              "      <td>0.27750</td>\n",
              "      <td>0.808959</td>\n",
              "    </tr>\n",
              "    <tr>\n",
              "      <th>3</th>\n",
              "      <td>LightGBM</td>\n",
              "      <td>0.69725</td>\n",
              "      <td>0.699142</td>\n",
              "      <td>0.6925</td>\n",
              "      <td>0.695805</td>\n",
              "      <td>0.69725</td>\n",
              "      <td>0.30275</td>\n",
              "      <td>38.216153</td>\n",
              "    </tr>\n",
              "    <tr>\n",
              "      <th>2</th>\n",
              "      <td>XGBoost</td>\n",
              "      <td>0.69375</td>\n",
              "      <td>0.698616</td>\n",
              "      <td>0.6815</td>\n",
              "      <td>0.689952</td>\n",
              "      <td>0.69375</td>\n",
              "      <td>0.30625</td>\n",
              "      <td>80.422780</td>\n",
              "    </tr>\n",
              "    <tr>\n",
              "      <th>4</th>\n",
              "      <td>Random Forest</td>\n",
              "      <td>0.69125</td>\n",
              "      <td>0.704218</td>\n",
              "      <td>0.6595</td>\n",
              "      <td>0.681126</td>\n",
              "      <td>0.69125</td>\n",
              "      <td>0.30875</td>\n",
              "      <td>123.469403</td>\n",
              "    </tr>\n",
              "  </tbody>\n",
              "</table>\n",
              "</div>\n",
              "    <div class=\"colab-df-buttons\">\n",
              "\n",
              "  <div class=\"colab-df-container\">\n",
              "    <button class=\"colab-df-convert\" onclick=\"convertToInteractive('df-71128182-fe12-4fd9-b444-fd4a5e2def42')\"\n",
              "            title=\"Convert this dataframe to an interactive table.\"\n",
              "            style=\"display:none;\">\n",
              "\n",
              "  <svg xmlns=\"http://www.w3.org/2000/svg\" height=\"24px\" viewBox=\"0 -960 960 960\">\n",
              "    <path d=\"M120-120v-720h720v720H120Zm60-500h600v-160H180v160Zm220 220h160v-160H400v160Zm0 220h160v-160H400v160ZM180-400h160v-160H180v160Zm440 0h160v-160H620v160ZM180-180h160v-160H180v160Zm440 0h160v-160H620v160Z\"/>\n",
              "  </svg>\n",
              "    </button>\n",
              "\n",
              "  <style>\n",
              "    .colab-df-container {\n",
              "      display:flex;\n",
              "      gap: 12px;\n",
              "    }\n",
              "\n",
              "    .colab-df-convert {\n",
              "      background-color: #E8F0FE;\n",
              "      border: none;\n",
              "      border-radius: 50%;\n",
              "      cursor: pointer;\n",
              "      display: none;\n",
              "      fill: #1967D2;\n",
              "      height: 32px;\n",
              "      padding: 0 0 0 0;\n",
              "      width: 32px;\n",
              "    }\n",
              "\n",
              "    .colab-df-convert:hover {\n",
              "      background-color: #E2EBFA;\n",
              "      box-shadow: 0px 1px 2px rgba(60, 64, 67, 0.3), 0px 1px 3px 1px rgba(60, 64, 67, 0.15);\n",
              "      fill: #174EA6;\n",
              "    }\n",
              "\n",
              "    .colab-df-buttons div {\n",
              "      margin-bottom: 4px;\n",
              "    }\n",
              "\n",
              "    [theme=dark] .colab-df-convert {\n",
              "      background-color: #3B4455;\n",
              "      fill: #D2E3FC;\n",
              "    }\n",
              "\n",
              "    [theme=dark] .colab-df-convert:hover {\n",
              "      background-color: #434B5C;\n",
              "      box-shadow: 0px 1px 3px 1px rgba(0, 0, 0, 0.15);\n",
              "      filter: drop-shadow(0px 1px 2px rgba(0, 0, 0, 0.3));\n",
              "      fill: #FFFFFF;\n",
              "    }\n",
              "  </style>\n",
              "\n",
              "    <script>\n",
              "      const buttonEl =\n",
              "        document.querySelector('#df-71128182-fe12-4fd9-b444-fd4a5e2def42 button.colab-df-convert');\n",
              "      buttonEl.style.display =\n",
              "        google.colab.kernel.accessAllowed ? 'block' : 'none';\n",
              "\n",
              "      async function convertToInteractive(key) {\n",
              "        const element = document.querySelector('#df-71128182-fe12-4fd9-b444-fd4a5e2def42');\n",
              "        const dataTable =\n",
              "          await google.colab.kernel.invokeFunction('convertToInteractive',\n",
              "                                                    [key], {});\n",
              "        if (!dataTable) return;\n",
              "\n",
              "        const docLinkHtml = 'Like what you see? Visit the ' +\n",
              "          '<a target=\"_blank\" href=https://colab.research.google.com/notebooks/data_table.ipynb>data table notebook</a>'\n",
              "          + ' to learn more about interactive tables.';\n",
              "        element.innerHTML = '';\n",
              "        dataTable['output_type'] = 'display_data';\n",
              "        await google.colab.output.renderOutput(dataTable, element);\n",
              "        const docLink = document.createElement('div');\n",
              "        docLink.innerHTML = docLinkHtml;\n",
              "        element.appendChild(docLink);\n",
              "      }\n",
              "    </script>\n",
              "  </div>\n",
              "\n",
              "\n",
              "    <div id=\"df-62ab4a96-0929-4ccf-953c-581cac6cc2c5\">\n",
              "      <button class=\"colab-df-quickchart\" onclick=\"quickchart('df-62ab4a96-0929-4ccf-953c-581cac6cc2c5')\"\n",
              "                title=\"Suggest charts\"\n",
              "                style=\"display:none;\">\n",
              "\n",
              "<svg xmlns=\"http://www.w3.org/2000/svg\" height=\"24px\"viewBox=\"0 0 24 24\"\n",
              "     width=\"24px\">\n",
              "    <g>\n",
              "        <path d=\"M19 3H5c-1.1 0-2 .9-2 2v14c0 1.1.9 2 2 2h14c1.1 0 2-.9 2-2V5c0-1.1-.9-2-2-2zM9 17H7v-7h2v7zm4 0h-2V7h2v10zm4 0h-2v-4h2v4z\"/>\n",
              "    </g>\n",
              "</svg>\n",
              "      </button>\n",
              "\n",
              "<style>\n",
              "  .colab-df-quickchart {\n",
              "      --bg-color: #E8F0FE;\n",
              "      --fill-color: #1967D2;\n",
              "      --hover-bg-color: #E2EBFA;\n",
              "      --hover-fill-color: #174EA6;\n",
              "      --disabled-fill-color: #AAA;\n",
              "      --disabled-bg-color: #DDD;\n",
              "  }\n",
              "\n",
              "  [theme=dark] .colab-df-quickchart {\n",
              "      --bg-color: #3B4455;\n",
              "      --fill-color: #D2E3FC;\n",
              "      --hover-bg-color: #434B5C;\n",
              "      --hover-fill-color: #FFFFFF;\n",
              "      --disabled-bg-color: #3B4455;\n",
              "      --disabled-fill-color: #666;\n",
              "  }\n",
              "\n",
              "  .colab-df-quickchart {\n",
              "    background-color: var(--bg-color);\n",
              "    border: none;\n",
              "    border-radius: 50%;\n",
              "    cursor: pointer;\n",
              "    display: none;\n",
              "    fill: var(--fill-color);\n",
              "    height: 32px;\n",
              "    padding: 0;\n",
              "    width: 32px;\n",
              "  }\n",
              "\n",
              "  .colab-df-quickchart:hover {\n",
              "    background-color: var(--hover-bg-color);\n",
              "    box-shadow: 0 1px 2px rgba(60, 64, 67, 0.3), 0 1px 3px 1px rgba(60, 64, 67, 0.15);\n",
              "    fill: var(--button-hover-fill-color);\n",
              "  }\n",
              "\n",
              "  .colab-df-quickchart-complete:disabled,\n",
              "  .colab-df-quickchart-complete:disabled:hover {\n",
              "    background-color: var(--disabled-bg-color);\n",
              "    fill: var(--disabled-fill-color);\n",
              "    box-shadow: none;\n",
              "  }\n",
              "\n",
              "  .colab-df-spinner {\n",
              "    border: 2px solid var(--fill-color);\n",
              "    border-color: transparent;\n",
              "    border-bottom-color: var(--fill-color);\n",
              "    animation:\n",
              "      spin 1s steps(1) infinite;\n",
              "  }\n",
              "\n",
              "  @keyframes spin {\n",
              "    0% {\n",
              "      border-color: transparent;\n",
              "      border-bottom-color: var(--fill-color);\n",
              "      border-left-color: var(--fill-color);\n",
              "    }\n",
              "    20% {\n",
              "      border-color: transparent;\n",
              "      border-left-color: var(--fill-color);\n",
              "      border-top-color: var(--fill-color);\n",
              "    }\n",
              "    30% {\n",
              "      border-color: transparent;\n",
              "      border-left-color: var(--fill-color);\n",
              "      border-top-color: var(--fill-color);\n",
              "      border-right-color: var(--fill-color);\n",
              "    }\n",
              "    40% {\n",
              "      border-color: transparent;\n",
              "      border-right-color: var(--fill-color);\n",
              "      border-top-color: var(--fill-color);\n",
              "    }\n",
              "    60% {\n",
              "      border-color: transparent;\n",
              "      border-right-color: var(--fill-color);\n",
              "    }\n",
              "    80% {\n",
              "      border-color: transparent;\n",
              "      border-right-color: var(--fill-color);\n",
              "      border-bottom-color: var(--fill-color);\n",
              "    }\n",
              "    90% {\n",
              "      border-color: transparent;\n",
              "      border-bottom-color: var(--fill-color);\n",
              "    }\n",
              "  }\n",
              "</style>\n",
              "\n",
              "      <script>\n",
              "        async function quickchart(key) {\n",
              "          const quickchartButtonEl =\n",
              "            document.querySelector('#' + key + ' button');\n",
              "          quickchartButtonEl.disabled = true;  // To prevent multiple clicks.\n",
              "          quickchartButtonEl.classList.add('colab-df-spinner');\n",
              "          try {\n",
              "            const charts = await google.colab.kernel.invokeFunction(\n",
              "                'suggestCharts', [key], {});\n",
              "          } catch (error) {\n",
              "            console.error('Error during call to suggestCharts:', error);\n",
              "          }\n",
              "          quickchartButtonEl.classList.remove('colab-df-spinner');\n",
              "          quickchartButtonEl.classList.add('colab-df-quickchart-complete');\n",
              "        }\n",
              "        (() => {\n",
              "          let quickchartButtonEl =\n",
              "            document.querySelector('#df-62ab4a96-0929-4ccf-953c-581cac6cc2c5 button');\n",
              "          quickchartButtonEl.style.display =\n",
              "            google.colab.kernel.accessAllowed ? 'block' : 'none';\n",
              "        })();\n",
              "      </script>\n",
              "    </div>\n",
              "\n",
              "  <div id=\"id_11152bd9-ad17-4681-871c-b2717ff88d0d\">\n",
              "    <style>\n",
              "      .colab-df-generate {\n",
              "        background-color: #E8F0FE;\n",
              "        border: none;\n",
              "        border-radius: 50%;\n",
              "        cursor: pointer;\n",
              "        display: none;\n",
              "        fill: #1967D2;\n",
              "        height: 32px;\n",
              "        padding: 0 0 0 0;\n",
              "        width: 32px;\n",
              "      }\n",
              "\n",
              "      .colab-df-generate:hover {\n",
              "        background-color: #E2EBFA;\n",
              "        box-shadow: 0px 1px 2px rgba(60, 64, 67, 0.3), 0px 1px 3px 1px rgba(60, 64, 67, 0.15);\n",
              "        fill: #174EA6;\n",
              "      }\n",
              "\n",
              "      [theme=dark] .colab-df-generate {\n",
              "        background-color: #3B4455;\n",
              "        fill: #D2E3FC;\n",
              "      }\n",
              "\n",
              "      [theme=dark] .colab-df-generate:hover {\n",
              "        background-color: #434B5C;\n",
              "        box-shadow: 0px 1px 3px 1px rgba(0, 0, 0, 0.15);\n",
              "        filter: drop-shadow(0px 1px 2px rgba(0, 0, 0, 0.3));\n",
              "        fill: #FFFFFF;\n",
              "      }\n",
              "    </style>\n",
              "    <button class=\"colab-df-generate\" onclick=\"generateWithVariable('w2v_results__df')\"\n",
              "            title=\"Generate code using this dataframe.\"\n",
              "            style=\"display:none;\">\n",
              "\n",
              "  <svg xmlns=\"http://www.w3.org/2000/svg\" height=\"24px\"viewBox=\"0 0 24 24\"\n",
              "       width=\"24px\">\n",
              "    <path d=\"M7,19H8.4L18.45,9,17,7.55,7,17.6ZM5,21V16.75L18.45,3.32a2,2,0,0,1,2.83,0l1.4,1.43a1.91,1.91,0,0,1,.58,1.4,1.91,1.91,0,0,1-.58,1.4L9.25,21ZM18.45,9,17,7.55Zm-12,3A5.31,5.31,0,0,0,4.9,8.1,5.31,5.31,0,0,0,1,6.5,5.31,5.31,0,0,0,4.9,4.9,5.31,5.31,0,0,0,6.5,1,5.31,5.31,0,0,0,8.1,4.9,5.31,5.31,0,0,0,12,6.5,5.46,5.46,0,0,0,6.5,12Z\"/>\n",
              "  </svg>\n",
              "    </button>\n",
              "    <script>\n",
              "      (() => {\n",
              "      const buttonEl =\n",
              "        document.querySelector('#id_11152bd9-ad17-4681-871c-b2717ff88d0d button.colab-df-generate');\n",
              "      buttonEl.style.display =\n",
              "        google.colab.kernel.accessAllowed ? 'block' : 'none';\n",
              "\n",
              "      buttonEl.onclick = () => {\n",
              "        google.colab.notebook.generateWithVariable('w2v_results__df');\n",
              "      }\n",
              "      })();\n",
              "    </script>\n",
              "  </div>\n",
              "\n",
              "    </div>\n",
              "  </div>\n"
            ],
            "application/vnd.google.colaboratory.intrinsic+json": {
              "type": "dataframe",
              "variable_name": "w2v_results__df",
              "summary": "{\n  \"name\": \"w2v_results__df\",\n  \"rows\": 5,\n  \"fields\": [\n    {\n      \"column\": \"Model\",\n      \"properties\": {\n        \"dtype\": \"string\",\n        \"num_unique_values\": 5,\n        \"samples\": [\n          \"Ridge Classifier\",\n          \"Random Forest\",\n          \"LightGBM\"\n        ],\n        \"semantic_type\": \"\",\n        \"description\": \"\"\n      }\n    },\n    {\n      \"column\": \"score\",\n      \"properties\": {\n        \"dtype\": \"number\",\n        \"std\": 0.017235501153143186,\n        \"min\": 0.69125,\n        \"max\": 0.72775,\n        \"num_unique_values\": 5,\n        \"samples\": [\n          0.7225,\n          0.69125,\n          0.69725\n        ],\n        \"semantic_type\": \"\",\n        \"description\": \"\"\n      }\n    },\n    {\n      \"column\": \"precision\",\n      \"properties\": {\n        \"dtype\": \"number\",\n        \"std\": 0.010645671302326146,\n        \"min\": 0.6986160943106099,\n        \"max\": 0.7216545012165451,\n        \"num_unique_values\": 5,\n        \"samples\": [\n          0.71728515625,\n          0.7042178323545115,\n          0.6991418475517416\n        ],\n        \"semantic_type\": \"\",\n        \"description\": \"\"\n      }\n    },\n    {\n      \"column\": \"recall\",\n      \"properties\": {\n        \"dtype\": \"number\",\n        \"std\": 0.03511837126063796,\n        \"min\": 0.6595,\n        \"max\": 0.7415,\n        \"num_unique_values\": 5,\n        \"samples\": [\n          0.7345,\n          0.6595,\n          0.6925\n        ],\n        \"semantic_type\": \"\",\n        \"description\": \"\"\n      }\n    },\n    {\n      \"column\": \"f1\",\n      \"properties\": {\n        \"dtype\": \"number\",\n        \"std\": 0.02242919645509793,\n        \"min\": 0.6811257423186161,\n        \"max\": 0.731442663378545,\n        \"num_unique_values\": 5,\n        \"samples\": [\n          0.7257905138339921,\n          0.6811257423186161,\n          0.6958050741019844\n        ],\n        \"semantic_type\": \"\",\n        \"description\": \"\"\n      }\n    },\n    {\n      \"column\": \"auc\",\n      \"properties\": {\n        \"dtype\": \"number\",\n        \"std\": 0.01723550115314325,\n        \"min\": 0.6912499999999999,\n        \"max\": 0.72775,\n        \"num_unique_values\": 5,\n        \"samples\": [\n          0.7225000000000001,\n          0.6912499999999999,\n          0.6972499999999999\n        ],\n        \"semantic_type\": \"\",\n        \"description\": \"\"\n      }\n    },\n    {\n      \"column\": \"mse\",\n      \"properties\": {\n        \"dtype\": \"number\",\n        \"std\": 0.017235501153143193,\n        \"min\": 0.27225,\n        \"max\": 0.30875,\n        \"num_unique_values\": 5,\n        \"samples\": [\n          0.2775,\n          0.30875,\n          0.30275\n        ],\n        \"semantic_type\": \"\",\n        \"description\": \"\"\n      }\n    },\n    {\n      \"column\": \"train_time (s)\",\n      \"properties\": {\n        \"dtype\": \"number\",\n        \"std\": 50.05891538279779,\n        \"min\": 0.8089585304260254,\n        \"max\": 123.46940326690674,\n        \"num_unique_values\": 5,\n        \"samples\": [\n          0.8089585304260254,\n          123.46940326690674,\n          38.21615266799927\n        ],\n        \"semantic_type\": \"\",\n        \"description\": \"\"\n      }\n    }\n  ]\n}"
            }
          },
          "metadata": {},
          "execution_count": 25
        }
      ]
    },
    {
      "cell_type": "code",
      "source": [
        "show_calibration_curve(models, X_test_w2v, y_test_w2v, exclude=[\"Ridge Classifier\"])"
      ],
      "metadata": {
        "id": "BzvEAr8AGGte",
        "colab": {
          "base_uri": "https://localhost:8080/",
          "height": 301
        },
        "outputId": "9b6a7f72-9eeb-4c76-d159-c5718dc9b278"
      },
      "execution_count": 26,
      "outputs": [
        {
          "output_type": "display_data",
          "data": {
            "text/plain": [
              "<Figure size 1600x1000 with 1 Axes>"
            ],
            "image/png": "[encoded data removed]"
          },
          "metadata": {}
        }
      ]
    },
    {
      "cell_type": "markdown",
      "source": [
        "## | FastText"
      ],
      "metadata": {
        "id": "TJ8qN4p7XIm1"
      }
    },
    {
      "cell_type": "code",
      "source": [
        "%%time\n",
        "X_train_ft, X_valid_ft, X_test_ft, y_train_ft, y_valid_ft, y_test_ft = split_train_val_test(tweets_embeddings_fasttext, Y, sample_size=20000)"
      ],
      "metadata": {
        "id": "kCEq-SicZhMQ",
        "colab": {
          "base_uri": "https://localhost:8080/"
        },
        "outputId": "66bd6225-499a-4e6d-9066-0b77797d487d"
      },
      "execution_count": 27,
      "outputs": [
        {
          "output_type": "stream",
          "name": "stdout",
          "text": [
            "CPU times: user 4.12 s, sys: 14.2 s, total: 18.3 s\n",
            "Wall time: 3min 18s\n"
          ]
        }
      ]
    },
    {
      "cell_type": "code",
      "source": [
        "%%time\n",
        "ft_results_df = evaluate_models(X_train_ft, X_valid_ft, y_train_ft, y_valid_ft, cv=skf)"
      ],
      "metadata": {
        "id": "gUAslpRmZpmN",
        "colab": {
          "base_uri": "https://localhost:8080/"
        },
        "outputId": "7369a56a-0254-4777-f84d-a51fc9d58f9c"
      },
      "execution_count": 28,
      "outputs": [
        {
          "output_type": "stream",
          "name": "stderr",
          "text": [
            "\r  0%|          | 0/5 [00:00<?, ?it/s]"
          ]
        },
        {
          "output_type": "stream",
          "name": "stdout",
          "text": [
            "Evaluating Logistic Regression...\n"
          ]
        },
        {
          "output_type": "stream",
          "name": "stderr",
          "text": [
            "\r 20%|██        | 1/5 [00:33<02:13, 33.48s/it]"
          ]
        },
        {
          "output_type": "stream",
          "name": "stdout",
          "text": [
            "Evaluating Ridge Classifier...\n"
          ]
        },
        {
          "output_type": "stream",
          "name": "stderr",
          "text": [
            "\r 40%|████      | 2/5 [00:34<00:43, 14.41s/it]"
          ]
        },
        {
          "output_type": "stream",
          "name": "stdout",
          "text": [
            "Evaluating XGBoost...\n"
          ]
        },
        {
          "output_type": "stream",
          "name": "stderr",
          "text": [
            "\r 60%|██████    | 3/5 [01:56<01:30, 45.33s/it]"
          ]
        },
        {
          "output_type": "stream",
          "name": "stdout",
          "text": [
            "Evaluating LightGBM...\n"
          ]
        },
        {
          "output_type": "stream",
          "name": "stderr",
          "text": [
            "\r 80%|████████  | 4/5 [02:35<00:42, 42.69s/it]"
          ]
        },
        {
          "output_type": "stream",
          "name": "stdout",
          "text": [
            "Evaluating Random Forest...\n"
          ]
        },
        {
          "output_type": "stream",
          "name": "stderr",
          "text": [
            "100%|██████████| 5/5 [04:33<00:00, 54.79s/it]"
          ]
        },
        {
          "output_type": "stream",
          "name": "stdout",
          "text": [
            "\n",
            "\n",
            "CPU times: user 6min 18s, sys: 1.13 s, total: 6min 19s\n",
            "Wall time: 4min 33s\n"
          ]
        },
        {
          "output_type": "stream",
          "name": "stderr",
          "text": [
            "\n"
          ]
        }
      ]
    },
    {
      "cell_type": "code",
      "source": [
        "display(ft_results_df)"
      ],
      "metadata": {
        "id": "b8d0UMbOZt7J",
        "colab": {
          "base_uri": "https://localhost:8080/",
          "height": 206
        },
        "outputId": "55ea28d7-9960-45e5-d03a-a90486af7d63"
      },
      "execution_count": 29,
      "outputs": [
        {
          "output_type": "display_data",
          "data": {
            "text/plain": [
              "                 Model    score  precision  recall        f1      auc  \\\n",
              "0  Logistic Regression  0.72125   0.720259  0.7235  0.721876  0.72125   \n",
              "1     Ridge Classifier  0.72100   0.721000  0.7210  0.721000  0.72100   \n",
              "2              XGBoost  0.69600   0.695414  0.6975  0.696455  0.69600   \n",
              "3             LightGBM  0.69525   0.697521  0.6895  0.693488  0.69525   \n",
              "4        Random Forest  0.68425   0.693642  0.6600  0.676403  0.68425   \n",
              "\n",
              "       mse  train_time (s)  \n",
              "0  0.27875       33.475543  \n",
              "1  0.27900        1.071551  \n",
              "2  0.30400       82.109097  \n",
              "3  0.30475       38.638067  \n",
              "4  0.31575      118.638433  "
            ],
            "text/html": [
              "\n",
              "  <div id=\"df-feb0f549-6df3-4c30-8ddf-db6d71cf8a18\" class=\"colab-df-container\">\n",
              "    <div>\n",
              "<style scoped>\n",
              "    .dataframe tbody tr th:only-of-type {\n",
              "        vertical-align: middle;\n",
              "    }\n",
              "\n",
              "    .dataframe tbody tr th {\n",
              "        vertical-align: top;\n",
              "    }\n",
              "\n",
              "    .dataframe thead th {\n",
              "        text-align: right;\n",
              "    }\n",
              "</style>\n",
              "<table border=\"1\" class=\"dataframe\">\n",
              "  <thead>\n",
              "    <tr style=\"text-align: right;\">\n",
              "      <th></th>\n",
              "      <th>Model</th>\n",
              "      <th>score</th>\n",
              "      <th>precision</th>\n",
              "      <th>recall</th>\n",
              "      <th>f1</th>\n",
              "      <th>auc</th>\n",
              "      <th>mse</th>\n",
              "      <th>train_time (s)</th>\n",
              "    </tr>\n",
              "  </thead>\n",
              "  <tbody>\n",
              "    <tr>\n",
              "      <th>0</th>\n",
              "      <td>Logistic Regression</td>\n",
              "      <td>0.72125</td>\n",
              "      <td>0.720259</td>\n",
              "      <td>0.7235</td>\n",
              "      <td>0.721876</td>\n",
              "      <td>0.72125</td>\n",
              "      <td>0.27875</td>\n",
              "      <td>33.475543</td>\n",
              "    </tr>\n",
              "    <tr>\n",
              "      <th>1</th>\n",
              "      <td>Ridge Classifier</td>\n",
              "      <td>0.72100</td>\n",
              "      <td>0.721000</td>\n",
              "      <td>0.7210</td>\n",
              "      <td>0.721000</td>\n",
              "      <td>0.72100</td>\n",
              "      <td>0.27900</td>\n",
              "      <td>1.071551</td>\n",
              "    </tr>\n",
              "    <tr>\n",
              "      <th>2</th>\n",
              "      <td>XGBoost</td>\n",
              "      <td>0.69600</td>\n",
              "      <td>0.695414</td>\n",
              "      <td>0.6975</td>\n",
              "      <td>0.696455</td>\n",
              "      <td>0.69600</td>\n",
              "      <td>0.30400</td>\n",
              "      <td>82.109097</td>\n",
              "    </tr>\n",
              "    <tr>\n",
              "      <th>3</th>\n",
              "      <td>LightGBM</td>\n",
              "      <td>0.69525</td>\n",
              "      <td>0.697521</td>\n",
              "      <td>0.6895</td>\n",
              "      <td>0.693488</td>\n",
              "      <td>0.69525</td>\n",
              "      <td>0.30475</td>\n",
              "      <td>38.638067</td>\n",
              "    </tr>\n",
              "    <tr>\n",
              "      <th>4</th>\n",
              "      <td>Random Forest</td>\n",
              "      <td>0.68425</td>\n",
              "      <td>0.693642</td>\n",
              "      <td>0.6600</td>\n",
              "      <td>0.676403</td>\n",
              "      <td>0.68425</td>\n",
              "      <td>0.31575</td>\n",
              "      <td>118.638433</td>\n",
              "    </tr>\n",
              "  </tbody>\n",
              "</table>\n",
              "</div>\n",
              "    <div class=\"colab-df-buttons\">\n",
              "\n",
              "  <div class=\"colab-df-container\">\n",
              "    <button class=\"colab-df-convert\" onclick=\"convertToInteractive('df-feb0f549-6df3-4c30-8ddf-db6d71cf8a18')\"\n",
              "            title=\"Convert this dataframe to an interactive table.\"\n",
              "            style=\"display:none;\">\n",
              "\n",
              "  <svg xmlns=\"http://www.w3.org/2000/svg\" height=\"24px\" viewBox=\"0 -960 960 960\">\n",
              "    <path d=\"M120-120v-720h720v720H120Zm60-500h600v-160H180v160Zm220 220h160v-160H400v160Zm0 220h160v-160H400v160ZM180-400h160v-160H180v160Zm440 0h160v-160H620v160ZM180-180h160v-160H180v160Zm440 0h160v-160H620v160Z\"/>\n",
              "  </svg>\n",
              "    </button>\n",
              "\n",
              "  <style>\n",
              "    .colab-df-container {\n",
              "      display:flex;\n",
              "      gap: 12px;\n",
              "    }\n",
              "\n",
              "    .colab-df-convert {\n",
              "      background-color: #E8F0FE;\n",
              "      border: none;\n",
              "      border-radius: 50%;\n",
              "      cursor: pointer;\n",
              "      display: none;\n",
              "      fill: #1967D2;\n",
              "      height: 32px;\n",
              "      padding: 0 0 0 0;\n",
              "      width: 32px;\n",
              "    }\n",
              "\n",
              "    .colab-df-convert:hover {\n",
              "      background-color: #E2EBFA;\n",
              "      box-shadow: 0px 1px 2px rgba(60, 64, 67, 0.3), 0px 1px 3px 1px rgba(60, 64, 67, 0.15);\n",
              "      fill: #174EA6;\n",
              "    }\n",
              "\n",
              "    .colab-df-buttons div {\n",
              "      margin-bottom: 4px;\n",
              "    }\n",
              "\n",
              "    [theme=dark] .colab-df-convert {\n",
              "      background-color: #3B4455;\n",
              "      fill: #D2E3FC;\n",
              "    }\n",
              "\n",
              "    [theme=dark] .colab-df-convert:hover {\n",
              "      background-color: #434B5C;\n",
              "      box-shadow: 0px 1px 3px 1px rgba(0, 0, 0, 0.15);\n",
              "      filter: drop-shadow(0px 1px 2px rgba(0, 0, 0, 0.3));\n",
              "      fill: #FFFFFF;\n",
              "    }\n",
              "  </style>\n",
              "\n",
              "    <script>\n",
              "      const buttonEl =\n",
              "        document.querySelector('#df-feb0f549-6df3-4c30-8ddf-db6d71cf8a18 button.colab-df-convert');\n",
              "      buttonEl.style.display =\n",
              "        google.colab.kernel.accessAllowed ? 'block' : 'none';\n",
              "\n",
              "      async function convertToInteractive(key) {\n",
              "        const element = document.querySelector('#df-feb0f549-6df3-4c30-8ddf-db6d71cf8a18');\n",
              "        const dataTable =\n",
              "          await google.colab.kernel.invokeFunction('convertToInteractive',\n",
              "                                                    [key], {});\n",
              "        if (!dataTable) return;\n",
              "\n",
              "        const docLinkHtml = 'Like what you see? Visit the ' +\n",
              "          '<a target=\"_blank\" href=https://colab.research.google.com/notebooks/data_table.ipynb>data table notebook</a>'\n",
              "          + ' to learn more about interactive tables.';\n",
              "        element.innerHTML = '';\n",
              "        dataTable['output_type'] = 'display_data';\n",
              "        await google.colab.output.renderOutput(dataTable, element);\n",
              "        const docLink = document.createElement('div');\n",
              "        docLink.innerHTML = docLinkHtml;\n",
              "        element.appendChild(docLink);\n",
              "      }\n",
              "    </script>\n",
              "  </div>\n",
              "\n",
              "\n",
              "    <div id=\"df-6c5a24ee-8d9d-4799-9f67-08dc80f1b241\">\n",
              "      <button class=\"colab-df-quickchart\" onclick=\"quickchart('df-6c5a24ee-8d9d-4799-9f67-08dc80f1b241')\"\n",
              "                title=\"Suggest charts\"\n",
              "                style=\"display:none;\">\n",
              "\n",
              "<svg xmlns=\"http://www.w3.org/2000/svg\" height=\"24px\"viewBox=\"0 0 24 24\"\n",
              "     width=\"24px\">\n",
              "    <g>\n",
              "        <path d=\"M19 3H5c-1.1 0-2 .9-2 2v14c0 1.1.9 2 2 2h14c1.1 0 2-.9 2-2V5c0-1.1-.9-2-2-2zM9 17H7v-7h2v7zm4 0h-2V7h2v10zm4 0h-2v-4h2v4z\"/>\n",
              "    </g>\n",
              "</svg>\n",
              "      </button>\n",
              "\n",
              "<style>\n",
              "  .colab-df-quickchart {\n",
              "      --bg-color: #E8F0FE;\n",
              "      --fill-color: #1967D2;\n",
              "      --hover-bg-color: #E2EBFA;\n",
              "      --hover-fill-color: #174EA6;\n",
              "      --disabled-fill-color: #AAA;\n",
              "      --disabled-bg-color: #DDD;\n",
              "  }\n",
              "\n",
              "  [theme=dark] .colab-df-quickchart {\n",
              "      --bg-color: #3B4455;\n",
              "      --fill-color: #D2E3FC;\n",
              "      --hover-bg-color: #434B5C;\n",
              "      --hover-fill-color: #FFFFFF;\n",
              "      --disabled-bg-color: #3B4455;\n",
              "      --disabled-fill-color: #666;\n",
              "  }\n",
              "\n",
              "  .colab-df-quickchart {\n",
              "    background-color: var(--bg-color);\n",
              "    border: none;\n",
              "    border-radius: 50%;\n",
              "    cursor: pointer;\n",
              "    display: none;\n",
              "    fill: var(--fill-color);\n",
              "    height: 32px;\n",
              "    padding: 0;\n",
              "    width: 32px;\n",
              "  }\n",
              "\n",
              "  .colab-df-quickchart:hover {\n",
              "    background-color: var(--hover-bg-color);\n",
              "    box-shadow: 0 1px 2px rgba(60, 64, 67, 0.3), 0 1px 3px 1px rgba(60, 64, 67, 0.15);\n",
              "    fill: var(--button-hover-fill-color);\n",
              "  }\n",
              "\n",
              "  .colab-df-quickchart-complete:disabled,\n",
              "  .colab-df-quickchart-complete:disabled:hover {\n",
              "    background-color: var(--disabled-bg-color);\n",
              "    fill: var(--disabled-fill-color);\n",
              "    box-shadow: none;\n",
              "  }\n",
              "\n",
              "  .colab-df-spinner {\n",
              "    border: 2px solid var(--fill-color);\n",
              "    border-color: transparent;\n",
              "    border-bottom-color: var(--fill-color);\n",
              "    animation:\n",
              "      spin 1s steps(1) infinite;\n",
              "  }\n",
              "\n",
              "  @keyframes spin {\n",
              "    0% {\n",
              "      border-color: transparent;\n",
              "      border-bottom-color: var(--fill-color);\n",
              "      border-left-color: var(--fill-color);\n",
              "    }\n",
              "    20% {\n",
              "      border-color: transparent;\n",
              "      border-left-color: var(--fill-color);\n",
              "      border-top-color: var(--fill-color);\n",
              "    }\n",
              "    30% {\n",
              "      border-color: transparent;\n",
              "      border-left-color: var(--fill-color);\n",
              "      border-top-color: var(--fill-color);\n",
              "      border-right-color: var(--fill-color);\n",
              "    }\n",
              "    40% {\n",
              "      border-color: transparent;\n",
              "      border-right-color: var(--fill-color);\n",
              "      border-top-color: var(--fill-color);\n",
              "    }\n",
              "    60% {\n",
              "      border-color: transparent;\n",
              "      border-right-color: var(--fill-color);\n",
              "    }\n",
              "    80% {\n",
              "      border-color: transparent;\n",
              "      border-right-color: var(--fill-color);\n",
              "      border-bottom-color: var(--fill-color);\n",
              "    }\n",
              "    90% {\n",
              "      border-color: transparent;\n",
              "      border-bottom-color: var(--fill-color);\n",
              "    }\n",
              "  }\n",
              "</style>\n",
              "\n",
              "      <script>\n",
              "        async function quickchart(key) {\n",
              "          const quickchartButtonEl =\n",
              "            document.querySelector('#' + key + ' button');\n",
              "          quickchartButtonEl.disabled = true;  // To prevent multiple clicks.\n",
              "          quickchartButtonEl.classList.add('colab-df-spinner');\n",
              "          try {\n",
              "            const charts = await google.colab.kernel.invokeFunction(\n",
              "                'suggestCharts', [key], {});\n",
              "          } catch (error) {\n",
              "            console.error('Error during call to suggestCharts:', error);\n",
              "          }\n",
              "          quickchartButtonEl.classList.remove('colab-df-spinner');\n",
              "          quickchartButtonEl.classList.add('colab-df-quickchart-complete');\n",
              "        }\n",
              "        (() => {\n",
              "          let quickchartButtonEl =\n",
              "            document.querySelector('#df-6c5a24ee-8d9d-4799-9f67-08dc80f1b241 button');\n",
              "          quickchartButtonEl.style.display =\n",
              "            google.colab.kernel.accessAllowed ? 'block' : 'none';\n",
              "        })();\n",
              "      </script>\n",
              "    </div>\n",
              "\n",
              "  <div id=\"id_40d3f93a-b204-4771-aade-55e7535e520c\">\n",
              "    <style>\n",
              "      .colab-df-generate {\n",
              "        background-color: #E8F0FE;\n",
              "        border: none;\n",
              "        border-radius: 50%;\n",
              "        cursor: pointer;\n",
              "        display: none;\n",
              "        fill: #1967D2;\n",
              "        height: 32px;\n",
              "        padding: 0 0 0 0;\n",
              "        width: 32px;\n",
              "      }\n",
              "\n",
              "      .colab-df-generate:hover {\n",
              "        background-color: #E2EBFA;\n",
              "        box-shadow: 0px 1px 2px rgba(60, 64, 67, 0.3), 0px 1px 3px 1px rgba(60, 64, 67, 0.15);\n",
              "        fill: #174EA6;\n",
              "      }\n",
              "\n",
              "      [theme=dark] .colab-df-generate {\n",
              "        background-color: #3B4455;\n",
              "        fill: #D2E3FC;\n",
              "      }\n",
              "\n",
              "      [theme=dark] .colab-df-generate:hover {\n",
              "        background-color: #434B5C;\n",
              "        box-shadow: 0px 1px 3px 1px rgba(0, 0, 0, 0.15);\n",
              "        filter: drop-shadow(0px 1px 2px rgba(0, 0, 0, 0.3));\n",
              "        fill: #FFFFFF;\n",
              "      }\n",
              "    </style>\n",
              "    <button class=\"colab-df-generate\" onclick=\"generateWithVariable('ft_results_df')\"\n",
              "            title=\"Generate code using this dataframe.\"\n",
              "            style=\"display:none;\">\n",
              "\n",
              "  <svg xmlns=\"http://www.w3.org/2000/svg\" height=\"24px\"viewBox=\"0 0 24 24\"\n",
              "       width=\"24px\">\n",
              "    <path d=\"M7,19H8.4L18.45,9,17,7.55,7,17.6ZM5,21V16.75L18.45,3.32a2,2,0,0,1,2.83,0l1.4,1.43a1.91,1.91,0,0,1,.58,1.4,1.91,1.91,0,0,1-.58,1.4L9.25,21ZM18.45,9,17,7.55Zm-12,3A5.31,5.31,0,0,0,4.9,8.1,5.31,5.31,0,0,0,1,6.5,5.31,5.31,0,0,0,4.9,4.9,5.31,5.31,0,0,0,6.5,1,5.31,5.31,0,0,0,8.1,4.9,5.31,5.31,0,0,0,12,6.5,5.46,5.46,0,0,0,6.5,12Z\"/>\n",
              "  </svg>\n",
              "    </button>\n",
              "    <script>\n",
              "      (() => {\n",
              "      const buttonEl =\n",
              "        document.querySelector('#id_40d3f93a-b204-4771-aade-55e7535e520c button.colab-df-generate');\n",
              "      buttonEl.style.display =\n",
              "        google.colab.kernel.accessAllowed ? 'block' : 'none';\n",
              "\n",
              "      buttonEl.onclick = () => {\n",
              "        google.colab.notebook.generateWithVariable('ft_results_df');\n",
              "      }\n",
              "      })();\n",
              "    </script>\n",
              "  </div>\n",
              "\n",
              "    </div>\n",
              "  </div>\n"
            ],
            "application/vnd.google.colaboratory.intrinsic+json": {
              "type": "dataframe",
              "variable_name": "ft_results_df",
              "summary": "{\n  \"name\": \"ft_results_df\",\n  \"rows\": 5,\n  \"fields\": [\n    {\n      \"column\": \"Model\",\n      \"properties\": {\n        \"dtype\": \"string\",\n        \"num_unique_values\": 5,\n        \"samples\": [\n          \"Ridge Classifier\",\n          \"Random Forest\",\n          \"XGBoost\"\n        ],\n        \"semantic_type\": \"\",\n        \"description\": \"\"\n      }\n    },\n    {\n      \"column\": \"score\",\n      \"properties\": {\n        \"dtype\": \"number\",\n        \"std\": 0.016704602659147538,\n        \"min\": 0.68425,\n        \"max\": 0.72125,\n        \"num_unique_values\": 5,\n        \"samples\": [\n          0.721,\n          0.68425,\n          0.696\n        ],\n        \"semantic_type\": \"\",\n        \"description\": \"\"\n      }\n    },\n    {\n      \"column\": \"precision\",\n      \"properties\": {\n        \"dtype\": \"number\",\n        \"std\": 0.013820823592289994,\n        \"min\": 0.6936416184971098,\n        \"max\": 0.721,\n        \"num_unique_values\": 5,\n        \"samples\": [\n          0.721,\n          0.6936416184971098,\n          0.6954137587238285\n        ],\n        \"semantic_type\": \"\",\n        \"description\": \"\"\n      }\n    },\n    {\n      \"column\": \"recall\",\n      \"properties\": {\n        \"dtype\": \"number\",\n        \"std\": 0.025958139378622642,\n        \"min\": 0.66,\n        \"max\": 0.7235,\n        \"num_unique_values\": 5,\n        \"samples\": [\n          0.721,\n          0.66,\n          0.6975\n        ],\n        \"semantic_type\": \"\",\n        \"description\": \"\"\n      }\n    },\n    {\n      \"column\": \"f1\",\n      \"properties\": {\n        \"dtype\": \"number\",\n        \"std\": 0.01945731841871768,\n        \"min\": 0.676402767102229,\n        \"max\": 0.7218757794961337,\n        \"num_unique_values\": 5,\n        \"samples\": [\n          0.721,\n          0.676402767102229,\n          0.6964553170244633\n        ],\n        \"semantic_type\": \"\",\n        \"description\": \"\"\n      }\n    },\n    {\n      \"column\": \"auc\",\n      \"properties\": {\n        \"dtype\": \"number\",\n        \"std\": 0.01670460265914757,\n        \"min\": 0.6842500000000001,\n        \"max\": 0.7212500000000001,\n        \"num_unique_values\": 5,\n        \"samples\": [\n          0.7210000000000001,\n          0.6842500000000001,\n          0.696\n        ],\n        \"semantic_type\": \"\",\n        \"description\": \"\"\n      }\n    },\n    {\n      \"column\": \"mse\",\n      \"properties\": {\n        \"dtype\": \"number\",\n        \"std\": 0.01670460265914756,\n        \"min\": 0.27875,\n        \"max\": 0.31575,\n        \"num_unique_values\": 5,\n        \"samples\": [\n          0.279,\n          0.31575,\n          0.304\n        ],\n        \"semantic_type\": \"\",\n        \"description\": \"\"\n      }\n    },\n    {\n      \"column\": \"train_time (s)\",\n      \"properties\": {\n        \"dtype\": \"number\",\n        \"std\": 45.8906800170755,\n        \"min\": 1.0715510845184326,\n        \"max\": 118.63843250274658,\n        \"num_unique_values\": 5,\n        \"samples\": [\n          1.0715510845184326,\n          118.63843250274658,\n          82.10909652709961\n        ],\n        \"semantic_type\": \"\",\n        \"description\": \"\"\n      }\n    }\n  ]\n}"
            }
          },
          "metadata": {}
        }
      ]
    },
    {
      "cell_type": "markdown",
      "source": [
        "## Comparaison des modèles"
      ],
      "metadata": {
        "id": "K5cgB6YI2eVw"
      }
    },
    {
      "cell_type": "code",
      "source": [
        "w2v_results__df"
      ],
      "metadata": {
        "id": "T6tagUi341Fz",
        "outputId": "5a2bd08d-a08c-4c99-fe9c-aca41f13a1d0",
        "colab": {
          "base_uri": "https://localhost:8080/",
          "height": 206
        }
      },
      "execution_count": 30,
      "outputs": [
        {
          "output_type": "execute_result",
          "data": {
            "text/plain": [
              "                 Model    score  precision  recall        f1      auc  \\\n",
              "0  Logistic Regression  0.72775   0.721655  0.7415  0.731443  0.72775   \n",
              "1     Ridge Classifier  0.72250   0.717285  0.7345  0.725791  0.72250   \n",
              "3             LightGBM  0.69725   0.699142  0.6925  0.695805  0.69725   \n",
              "2              XGBoost  0.69375   0.698616  0.6815  0.689952  0.69375   \n",
              "4        Random Forest  0.69125   0.704218  0.6595  0.681126  0.69125   \n",
              "\n",
              "       mse  train_time (s)  \n",
              "0  0.27225       15.978106  \n",
              "1  0.27750        0.808959  \n",
              "3  0.30275       38.216153  \n",
              "2  0.30625       80.422780  \n",
              "4  0.30875      123.469403  "
            ],
            "text/html": [
              "\n",
              "  <div id=\"df-cbca5ded-18c7-4066-afb8-90a7a8e34750\" class=\"colab-df-container\">\n",
              "    <div>\n",
              "<style scoped>\n",
              "    .dataframe tbody tr th:only-of-type {\n",
              "        vertical-align: middle;\n",
              "    }\n",
              "\n",
              "    .dataframe tbody tr th {\n",
              "        vertical-align: top;\n",
              "    }\n",
              "\n",
              "    .dataframe thead th {\n",
              "        text-align: right;\n",
              "    }\n",
              "</style>\n",
              "<table border=\"1\" class=\"dataframe\">\n",
              "  <thead>\n",
              "    <tr style=\"text-align: right;\">\n",
              "      <th></th>\n",
              "      <th>Model</th>\n",
              "      <th>score</th>\n",
              "      <th>precision</th>\n",
              "      <th>recall</th>\n",
              "      <th>f1</th>\n",
              "      <th>auc</th>\n",
              "      <th>mse</th>\n",
              "      <th>train_time (s)</th>\n",
              "    </tr>\n",
              "  </thead>\n",
              "  <tbody>\n",
              "    <tr>\n",
              "      <th>0</th>\n",
              "      <td>Logistic Regression</td>\n",
              "      <td>0.72775</td>\n",
              "      <td>0.721655</td>\n",
              "      <td>0.7415</td>\n",
              "      <td>0.731443</td>\n",
              "      <td>0.72775</td>\n",
              "      <td>0.27225</td>\n",
              "      <td>15.978106</td>\n",
              "    </tr>\n",
              "    <tr>\n",
              "      <th>1</th>\n",
              "      <td>Ridge Classifier</td>\n",
              "      <td>0.72250</td>\n",
              "      <td>0.717285</td>\n",
              "      <td>0.7345</td>\n",
              "      <td>0.725791</td>\n",
              "      <td>0.72250</td>\n",
              "      <td>0.27750</td>\n",
              "      <td>0.808959</td>\n",
              "    </tr>\n",
              "    <tr>\n",
              "      <th>3</th>\n",
              "      <td>LightGBM</td>\n",
              "      <td>0.69725</td>\n",
              "      <td>0.699142</td>\n",
              "      <td>0.6925</td>\n",
              "      <td>0.695805</td>\n",
              "      <td>0.69725</td>\n",
              "      <td>0.30275</td>\n",
              "      <td>38.216153</td>\n",
              "    </tr>\n",
              "    <tr>\n",
              "      <th>2</th>\n",
              "      <td>XGBoost</td>\n",
              "      <td>0.69375</td>\n",
              "      <td>0.698616</td>\n",
              "      <td>0.6815</td>\n",
              "      <td>0.689952</td>\n",
              "      <td>0.69375</td>\n",
              "      <td>0.30625</td>\n",
              "      <td>80.422780</td>\n",
              "    </tr>\n",
              "    <tr>\n",
              "      <th>4</th>\n",
              "      <td>Random Forest</td>\n",
              "      <td>0.69125</td>\n",
              "      <td>0.704218</td>\n",
              "      <td>0.6595</td>\n",
              "      <td>0.681126</td>\n",
              "      <td>0.69125</td>\n",
              "      <td>0.30875</td>\n",
              "      <td>123.469403</td>\n",
              "    </tr>\n",
              "  </tbody>\n",
              "</table>\n",
              "</div>\n",
              "    <div class=\"colab-df-buttons\">\n",
              "\n",
              "  <div class=\"colab-df-container\">\n",
              "    <button class=\"colab-df-convert\" onclick=\"convertToInteractive('df-cbca5ded-18c7-4066-afb8-90a7a8e34750')\"\n",
              "            title=\"Convert this dataframe to an interactive table.\"\n",
              "            style=\"display:none;\">\n",
              "\n",
              "  <svg xmlns=\"http://www.w3.org/2000/svg\" height=\"24px\" viewBox=\"0 -960 960 960\">\n",
              "    <path d=\"M120-120v-720h720v720H120Zm60-500h600v-160H180v160Zm220 220h160v-160H400v160Zm0 220h160v-160H400v160ZM180-400h160v-160H180v160Zm440 0h160v-160H620v160ZM180-180h160v-160H180v160Zm440 0h160v-160H620v160Z\"/>\n",
              "  </svg>\n",
              "    </button>\n",
              "\n",
              "  <style>\n",
              "    .colab-df-container {\n",
              "      display:flex;\n",
              "      gap: 12px;\n",
              "    }\n",
              "\n",
              "    .colab-df-convert {\n",
              "      background-color: #E8F0FE;\n",
              "      border: none;\n",
              "      border-radius: 50%;\n",
              "      cursor: pointer;\n",
              "      display: none;\n",
              "      fill: #1967D2;\n",
              "      height: 32px;\n",
              "      padding: 0 0 0 0;\n",
              "      width: 32px;\n",
              "    }\n",
              "\n",
              "    .colab-df-convert:hover {\n",
              "      background-color: #E2EBFA;\n",
              "      box-shadow: 0px 1px 2px rgba(60, 64, 67, 0.3), 0px 1px 3px 1px rgba(60, 64, 67, 0.15);\n",
              "      fill: #174EA6;\n",
              "    }\n",
              "\n",
              "    .colab-df-buttons div {\n",
              "      margin-bottom: 4px;\n",
              "    }\n",
              "\n",
              "    [theme=dark] .colab-df-convert {\n",
              "      background-color: #3B4455;\n",
              "      fill: #D2E3FC;\n",
              "    }\n",
              "\n",
              "    [theme=dark] .colab-df-convert:hover {\n",
              "      background-color: #434B5C;\n",
              "      box-shadow: 0px 1px 3px 1px rgba(0, 0, 0, 0.15);\n",
              "      filter: drop-shadow(0px 1px 2px rgba(0, 0, 0, 0.3));\n",
              "      fill: #FFFFFF;\n",
              "    }\n",
              "  </style>\n",
              "\n",
              "    <script>\n",
              "      const buttonEl =\n",
              "        document.querySelector('#df-cbca5ded-18c7-4066-afb8-90a7a8e34750 button.colab-df-convert');\n",
              "      buttonEl.style.display =\n",
              "        google.colab.kernel.accessAllowed ? 'block' : 'none';\n",
              "\n",
              "      async function convertToInteractive(key) {\n",
              "        const element = document.querySelector('#df-cbca5ded-18c7-4066-afb8-90a7a8e34750');\n",
              "        const dataTable =\n",
              "          await google.colab.kernel.invokeFunction('convertToInteractive',\n",
              "                                                    [key], {});\n",
              "        if (!dataTable) return;\n",
              "\n",
              "        const docLinkHtml = 'Like what you see? Visit the ' +\n",
              "          '<a target=\"_blank\" href=https://colab.research.google.com/notebooks/data_table.ipynb>data table notebook</a>'\n",
              "          + ' to learn more about interactive tables.';\n",
              "        element.innerHTML = '';\n",
              "        dataTable['output_type'] = 'display_data';\n",
              "        await google.colab.output.renderOutput(dataTable, element);\n",
              "        const docLink = document.createElement('div');\n",
              "        docLink.innerHTML = docLinkHtml;\n",
              "        element.appendChild(docLink);\n",
              "      }\n",
              "    </script>\n",
              "  </div>\n",
              "\n",
              "\n",
              "    <div id=\"df-4ea3b817-c7ee-4148-aa76-b24ab417260e\">\n",
              "      <button class=\"colab-df-quickchart\" onclick=\"quickchart('df-4ea3b817-c7ee-4148-aa76-b24ab417260e')\"\n",
              "                title=\"Suggest charts\"\n",
              "                style=\"display:none;\">\n",
              "\n",
              "<svg xmlns=\"http://www.w3.org/2000/svg\" height=\"24px\"viewBox=\"0 0 24 24\"\n",
              "     width=\"24px\">\n",
              "    <g>\n",
              "        <path d=\"M19 3H5c-1.1 0-2 .9-2 2v14c0 1.1.9 2 2 2h14c1.1 0 2-.9 2-2V5c0-1.1-.9-2-2-2zM9 17H7v-7h2v7zm4 0h-2V7h2v10zm4 0h-2v-4h2v4z\"/>\n",
              "    </g>\n",
              "</svg>\n",
              "      </button>\n",
              "\n",
              "<style>\n",
              "  .colab-df-quickchart {\n",
              "      --bg-color: #E8F0FE;\n",
              "      --fill-color: #1967D2;\n",
              "      --hover-bg-color: #E2EBFA;\n",
              "      --hover-fill-color: #174EA6;\n",
              "      --disabled-fill-color: #AAA;\n",
              "      --disabled-bg-color: #DDD;\n",
              "  }\n",
              "\n",
              "  [theme=dark] .colab-df-quickchart {\n",
              "      --bg-color: #3B4455;\n",
              "      --fill-color: #D2E3FC;\n",
              "      --hover-bg-color: #434B5C;\n",
              "      --hover-fill-color: #FFFFFF;\n",
              "      --disabled-bg-color: #3B4455;\n",
              "      --disabled-fill-color: #666;\n",
              "  }\n",
              "\n",
              "  .colab-df-quickchart {\n",
              "    background-color: var(--bg-color);\n",
              "    border: none;\n",
              "    border-radius: 50%;\n",
              "    cursor: pointer;\n",
              "    display: none;\n",
              "    fill: var(--fill-color);\n",
              "    height: 32px;\n",
              "    padding: 0;\n",
              "    width: 32px;\n",
              "  }\n",
              "\n",
              "  .colab-df-quickchart:hover {\n",
              "    background-color: var(--hover-bg-color);\n",
              "    box-shadow: 0 1px 2px rgba(60, 64, 67, 0.3), 0 1px 3px 1px rgba(60, 64, 67, 0.15);\n",
              "    fill: var(--button-hover-fill-color);\n",
              "  }\n",
              "\n",
              "  .colab-df-quickchart-complete:disabled,\n",
              "  .colab-df-quickchart-complete:disabled:hover {\n",
              "    background-color: var(--disabled-bg-color);\n",
              "    fill: var(--disabled-fill-color);\n",
              "    box-shadow: none;\n",
              "  }\n",
              "\n",
              "  .colab-df-spinner {\n",
              "    border: 2px solid var(--fill-color);\n",
              "    border-color: transparent;\n",
              "    border-bottom-color: var(--fill-color);\n",
              "    animation:\n",
              "      spin 1s steps(1) infinite;\n",
              "  }\n",
              "\n",
              "  @keyframes spin {\n",
              "    0% {\n",
              "      border-color: transparent;\n",
              "      border-bottom-color: var(--fill-color);\n",
              "      border-left-color: var(--fill-color);\n",
              "    }\n",
              "    20% {\n",
              "      border-color: transparent;\n",
              "      border-left-color: var(--fill-color);\n",
              "      border-top-color: var(--fill-color);\n",
              "    }\n",
              "    30% {\n",
              "      border-color: transparent;\n",
              "      border-left-color: var(--fill-color);\n",
              "      border-top-color: var(--fill-color);\n",
              "      border-right-color: var(--fill-color);\n",
              "    }\n",
              "    40% {\n",
              "      border-color: transparent;\n",
              "      border-right-color: var(--fill-color);\n",
              "      border-top-color: var(--fill-color);\n",
              "    }\n",
              "    60% {\n",
              "      border-color: transparent;\n",
              "      border-right-color: var(--fill-color);\n",
              "    }\n",
              "    80% {\n",
              "      border-color: transparent;\n",
              "      border-right-color: var(--fill-color);\n",
              "      border-bottom-color: var(--fill-color);\n",
              "    }\n",
              "    90% {\n",
              "      border-color: transparent;\n",
              "      border-bottom-color: var(--fill-color);\n",
              "    }\n",
              "  }\n",
              "</style>\n",
              "\n",
              "      <script>\n",
              "        async function quickchart(key) {\n",
              "          const quickchartButtonEl =\n",
              "            document.querySelector('#' + key + ' button');\n",
              "          quickchartButtonEl.disabled = true;  // To prevent multiple clicks.\n",
              "          quickchartButtonEl.classList.add('colab-df-spinner');\n",
              "          try {\n",
              "            const charts = await google.colab.kernel.invokeFunction(\n",
              "                'suggestCharts', [key], {});\n",
              "          } catch (error) {\n",
              "            console.error('Error during call to suggestCharts:', error);\n",
              "          }\n",
              "          quickchartButtonEl.classList.remove('colab-df-spinner');\n",
              "          quickchartButtonEl.classList.add('colab-df-quickchart-complete');\n",
              "        }\n",
              "        (() => {\n",
              "          let quickchartButtonEl =\n",
              "            document.querySelector('#df-4ea3b817-c7ee-4148-aa76-b24ab417260e button');\n",
              "          quickchartButtonEl.style.display =\n",
              "            google.colab.kernel.accessAllowed ? 'block' : 'none';\n",
              "        })();\n",
              "      </script>\n",
              "    </div>\n",
              "\n",
              "  <div id=\"id_a7f90d20-ff47-4626-935e-b826b31bdc6e\">\n",
              "    <style>\n",
              "      .colab-df-generate {\n",
              "        background-color: #E8F0FE;\n",
              "        border: none;\n",
              "        border-radius: 50%;\n",
              "        cursor: pointer;\n",
              "        display: none;\n",
              "        fill: #1967D2;\n",
              "        height: 32px;\n",
              "        padding: 0 0 0 0;\n",
              "        width: 32px;\n",
              "      }\n",
              "\n",
              "      .colab-df-generate:hover {\n",
              "        background-color: #E2EBFA;\n",
              "        box-shadow: 0px 1px 2px rgba(60, 64, 67, 0.3), 0px 1px 3px 1px rgba(60, 64, 67, 0.15);\n",
              "        fill: #174EA6;\n",
              "      }\n",
              "\n",
              "      [theme=dark] .colab-df-generate {\n",
              "        background-color: #3B4455;\n",
              "        fill: #D2E3FC;\n",
              "      }\n",
              "\n",
              "      [theme=dark] .colab-df-generate:hover {\n",
              "        background-color: #434B5C;\n",
              "        box-shadow: 0px 1px 3px 1px rgba(0, 0, 0, 0.15);\n",
              "        filter: drop-shadow(0px 1px 2px rgba(0, 0, 0, 0.3));\n",
              "        fill: #FFFFFF;\n",
              "      }\n",
              "    </style>\n",
              "    <button class=\"colab-df-generate\" onclick=\"generateWithVariable('w2v_results__df')\"\n",
              "            title=\"Generate code using this dataframe.\"\n",
              "            style=\"display:none;\">\n",
              "\n",
              "  <svg xmlns=\"http://www.w3.org/2000/svg\" height=\"24px\"viewBox=\"0 0 24 24\"\n",
              "       width=\"24px\">\n",
              "    <path d=\"M7,19H8.4L18.45,9,17,7.55,7,17.6ZM5,21V16.75L18.45,3.32a2,2,0,0,1,2.83,0l1.4,1.43a1.91,1.91,0,0,1,.58,1.4,1.91,1.91,0,0,1-.58,1.4L9.25,21ZM18.45,9,17,7.55Zm-12,3A5.31,5.31,0,0,0,4.9,8.1,5.31,5.31,0,0,0,1,6.5,5.31,5.31,0,0,0,4.9,4.9,5.31,5.31,0,0,0,6.5,1,5.31,5.31,0,0,0,8.1,4.9,5.31,5.31,0,0,0,12,6.5,5.46,5.46,0,0,0,6.5,12Z\"/>\n",
              "  </svg>\n",
              "    </button>\n",
              "    <script>\n",
              "      (() => {\n",
              "      const buttonEl =\n",
              "        document.querySelector('#id_a7f90d20-ff47-4626-935e-b826b31bdc6e button.colab-df-generate');\n",
              "      buttonEl.style.display =\n",
              "        google.colab.kernel.accessAllowed ? 'block' : 'none';\n",
              "\n",
              "      buttonEl.onclick = () => {\n",
              "        google.colab.notebook.generateWithVariable('w2v_results__df');\n",
              "      }\n",
              "      })();\n",
              "    </script>\n",
              "  </div>\n",
              "\n",
              "    </div>\n",
              "  </div>\n"
            ],
            "application/vnd.google.colaboratory.intrinsic+json": {
              "type": "dataframe",
              "variable_name": "w2v_results__df",
              "summary": "{\n  \"name\": \"w2v_results__df\",\n  \"rows\": 5,\n  \"fields\": [\n    {\n      \"column\": \"Model\",\n      \"properties\": {\n        \"dtype\": \"string\",\n        \"num_unique_values\": 5,\n        \"samples\": [\n          \"Ridge Classifier\",\n          \"Random Forest\",\n          \"LightGBM\"\n        ],\n        \"semantic_type\": \"\",\n        \"description\": \"\"\n      }\n    },\n    {\n      \"column\": \"score\",\n      \"properties\": {\n        \"dtype\": \"number\",\n        \"std\": 0.017235501153143186,\n        \"min\": 0.69125,\n        \"max\": 0.72775,\n        \"num_unique_values\": 5,\n        \"samples\": [\n          0.7225,\n          0.69125,\n          0.69725\n        ],\n        \"semantic_type\": \"\",\n        \"description\": \"\"\n      }\n    },\n    {\n      \"column\": \"precision\",\n      \"properties\": {\n        \"dtype\": \"number\",\n        \"std\": 0.010645671302326146,\n        \"min\": 0.6986160943106099,\n        \"max\": 0.7216545012165451,\n        \"num_unique_values\": 5,\n        \"samples\": [\n          0.71728515625,\n          0.7042178323545115,\n          0.6991418475517416\n        ],\n        \"semantic_type\": \"\",\n        \"description\": \"\"\n      }\n    },\n    {\n      \"column\": \"recall\",\n      \"properties\": {\n        \"dtype\": \"number\",\n        \"std\": 0.03511837126063796,\n        \"min\": 0.6595,\n        \"max\": 0.7415,\n        \"num_unique_values\": 5,\n        \"samples\": [\n          0.7345,\n          0.6595,\n          0.6925\n        ],\n        \"semantic_type\": \"\",\n        \"description\": \"\"\n      }\n    },\n    {\n      \"column\": \"f1\",\n      \"properties\": {\n        \"dtype\": \"number\",\n        \"std\": 0.02242919645509793,\n        \"min\": 0.6811257423186161,\n        \"max\": 0.731442663378545,\n        \"num_unique_values\": 5,\n        \"samples\": [\n          0.7257905138339921,\n          0.6811257423186161,\n          0.6958050741019844\n        ],\n        \"semantic_type\": \"\",\n        \"description\": \"\"\n      }\n    },\n    {\n      \"column\": \"auc\",\n      \"properties\": {\n        \"dtype\": \"number\",\n        \"std\": 0.01723550115314325,\n        \"min\": 0.6912499999999999,\n        \"max\": 0.72775,\n        \"num_unique_values\": 5,\n        \"samples\": [\n          0.7225000000000001,\n          0.6912499999999999,\n          0.6972499999999999\n        ],\n        \"semantic_type\": \"\",\n        \"description\": \"\"\n      }\n    },\n    {\n      \"column\": \"mse\",\n      \"properties\": {\n        \"dtype\": \"number\",\n        \"std\": 0.017235501153143193,\n        \"min\": 0.27225,\n        \"max\": 0.30875,\n        \"num_unique_values\": 5,\n        \"samples\": [\n          0.2775,\n          0.30875,\n          0.30275\n        ],\n        \"semantic_type\": \"\",\n        \"description\": \"\"\n      }\n    },\n    {\n      \"column\": \"train_time (s)\",\n      \"properties\": {\n        \"dtype\": \"number\",\n        \"std\": 50.05891538279779,\n        \"min\": 0.8089585304260254,\n        \"max\": 123.46940326690674,\n        \"num_unique_values\": 5,\n        \"samples\": [\n          0.8089585304260254,\n          123.46940326690674,\n          38.21615266799927\n        ],\n        \"semantic_type\": \"\",\n        \"description\": \"\"\n      }\n    }\n  ]\n}"
            }
          },
          "metadata": {},
          "execution_count": 30
        }
      ]
    },
    {
      "cell_type": "code",
      "source": [
        "tfidf_results_df['Corpus'] = 'tfidf'\n",
        "w2v_results__df['Corpus'] = 'word2vec'\n",
        "ft_results_df['Corpus'] = 'fasttext'"
      ],
      "metadata": {
        "id": "1q4zgkV_6j0d"
      },
      "execution_count": 39,
      "outputs": []
    },
    {
      "cell_type": "code",
      "source": [
        "res_all_df = pd.concat([tfidf_results_df, w2v_results__df, ft_results_df])\n",
        "res_all_df.rename(columns={\n",
        "    \"val_score\": \"Accuracy\",\n",
        "    \"f1\": \"F1-score\",\n",
        "    \"auc\": \"AUC\",\n",
        "    \"train_time (s)\": \"Train Time (s)\"\n",
        "}, inplace=True)"
      ],
      "metadata": {
        "id": "RrgjMtLU6qdJ"
      },
      "execution_count": 53,
      "outputs": []
    },
    {
      "cell_type": "code",
      "source": [
        "fig = plt.figure(figsize=(14, 6))\n",
        "\n",
        "# F1-score\n",
        "ax = fig.add_subplot(131)\n",
        "sns.barplot(data=res_all_df, x=\"Model\", y=\"Accuracy\", hue=\"Corpus\")\n",
        "plt.title(\"Comparaison des Accuracy par modèle et corpus\")\n",
        "plt.xticks(rotation=45)\n",
        "plt.grid(axis=\"y\")\n",
        "plt.tight_layout()\n",
        "\n",
        "# AUC\n",
        "ax = fig.add_subplot(132)\n",
        "sns.barplot(data=res_all_df, x=\"Model\", y=\"AUC\", hue=\"Corpus\")\n",
        "plt.title(\"Comparaison des AUC par modèle et corpus\")\n",
        "plt.xticks(rotation=45)\n",
        "plt.grid(axis=\"y\")\n",
        "plt.tight_layout()\n",
        "\n",
        "# Train Time\n",
        "ax = fig.add_subplot(133)\n",
        "sns.barplot(data=res_all_df, x=\"Model\", y=\"Train Time (s)\", hue=\"Corpus\")\n",
        "plt.title(\"Temps d'entraînement par modèle et corpus\")\n",
        "plt.xticks(rotation=45)\n",
        "plt.yscale(\"log\")\n",
        "plt.grid(axis=\"y\")\n",
        "plt.tight_layout()\n",
        "\n",
        "plt.show()"
      ],
      "metadata": {
        "id": "32avJbgM69QM",
        "outputId": "5ade4767-c181-48a6-98ca-44fc0f3e6e75",
        "colab": {
          "base_uri": "https://localhost:8080/",
          "height": 921
        }
      },
      "execution_count": 54,
      "outputs": [
        {
          "output_type": "error",
          "ename": "ValueError",
          "evalue": "Could not interpret value `Accuracy` for `y`. An entry with this name does not appear in `data`.",
          "traceback": [
            "\u001b[0;31m---------------------------------------------------------------------------\u001b[0m",
            "\u001b[0;31mValueError\u001b[0m                                Traceback (most recent call last)",
            "\u001b[0;32m<ipython-input-54-a1e86d050750>\u001b[0m in \u001b[0;36m<cell line: 0>\u001b[0;34m()\u001b[0m\n\u001b[1;32m      3\u001b[0m \u001b[0;31m# F1-score\u001b[0m\u001b[0;34m\u001b[0m\u001b[0;34m\u001b[0m\u001b[0m\n\u001b[1;32m      4\u001b[0m \u001b[0max\u001b[0m \u001b[0;34m=\u001b[0m \u001b[0mfig\u001b[0m\u001b[0;34m.\u001b[0m\u001b[0madd_subplot\u001b[0m\u001b[0;34m(\u001b[0m\u001b[0;36m131\u001b[0m\u001b[0;34m)\u001b[0m\u001b[0;34m\u001b[0m\u001b[0;34m\u001b[0m\u001b[0m\n\u001b[0;32m----> 5\u001b[0;31m \u001b[0msns\u001b[0m\u001b[0;34m.\u001b[0m\u001b[0mbarplot\u001b[0m\u001b[0;34m(\u001b[0m\u001b[0mdata\u001b[0m\u001b[0;34m=\u001b[0m\u001b[0mres_all_df\u001b[0m\u001b[0;34m,\u001b[0m \u001b[0mx\u001b[0m\u001b[0;34m=\u001b[0m\u001b[0;34m\"Model\"\u001b[0m\u001b[0;34m,\u001b[0m \u001b[0my\u001b[0m\u001b[0;34m=\u001b[0m\u001b[0;34m\"Accuracy\"\u001b[0m\u001b[0;34m,\u001b[0m \u001b[0mhue\u001b[0m\u001b[0;34m=\u001b[0m\u001b[0;34m\"Corpus\"\u001b[0m\u001b[0;34m)\u001b[0m\u001b[0;34m\u001b[0m\u001b[0;34m\u001b[0m\u001b[0m\n\u001b[0m\u001b[1;32m      6\u001b[0m \u001b[0mplt\u001b[0m\u001b[0;34m.\u001b[0m\u001b[0mtitle\u001b[0m\u001b[0;34m(\u001b[0m\u001b[0;34m\"Comparaison des Accuracy par modèle et corpus\"\u001b[0m\u001b[0;34m)\u001b[0m\u001b[0;34m\u001b[0m\u001b[0;34m\u001b[0m\u001b[0m\n\u001b[1;32m      7\u001b[0m \u001b[0mplt\u001b[0m\u001b[0;34m.\u001b[0m\u001b[0mxticks\u001b[0m\u001b[0;34m(\u001b[0m\u001b[0mrotation\u001b[0m\u001b[0;34m=\u001b[0m\u001b[0;36m45\u001b[0m\u001b[0;34m)\u001b[0m\u001b[0;34m\u001b[0m\u001b[0;34m\u001b[0m\u001b[0m\n",
            "\u001b[0;32m/usr/local/lib/python3.11/dist-packages/seaborn/categorical.py\u001b[0m in \u001b[0;36mbarplot\u001b[0;34m(data, x, y, hue, order, hue_order, estimator, errorbar, n_boot, seed, units, weights, orient, color, palette, saturation, fill, hue_norm, width, dodge, gap, log_scale, native_scale, formatter, legend, capsize, err_kws, ci, errcolor, errwidth, ax, **kwargs)\u001b[0m\n\u001b[1;32m   2339\u001b[0m         \u001b[0mestimator\u001b[0m \u001b[0;34m=\u001b[0m \u001b[0;34m\"size\"\u001b[0m\u001b[0;34m\u001b[0m\u001b[0;34m\u001b[0m\u001b[0m\n\u001b[1;32m   2340\u001b[0m \u001b[0;34m\u001b[0m\u001b[0m\n\u001b[0;32m-> 2341\u001b[0;31m     p = _CategoricalAggPlotter(\n\u001b[0m\u001b[1;32m   2342\u001b[0m         \u001b[0mdata\u001b[0m\u001b[0;34m=\u001b[0m\u001b[0mdata\u001b[0m\u001b[0;34m,\u001b[0m\u001b[0;34m\u001b[0m\u001b[0;34m\u001b[0m\u001b[0m\n\u001b[1;32m   2343\u001b[0m         \u001b[0mvariables\u001b[0m\u001b[0;34m=\u001b[0m\u001b[0mdict\u001b[0m\u001b[0;34m(\u001b[0m\u001b[0mx\u001b[0m\u001b[0;34m=\u001b[0m\u001b[0mx\u001b[0m\u001b[0;34m,\u001b[0m \u001b[0my\u001b[0m\u001b[0;34m=\u001b[0m\u001b[0my\u001b[0m\u001b[0;34m,\u001b[0m \u001b[0mhue\u001b[0m\u001b[0;34m=\u001b[0m\u001b[0mhue\u001b[0m\u001b[0;34m,\u001b[0m \u001b[0munits\u001b[0m\u001b[0;34m=\u001b[0m\u001b[0munits\u001b[0m\u001b[0;34m,\u001b[0m \u001b[0mweight\u001b[0m\u001b[0;34m=\u001b[0m\u001b[0mweights\u001b[0m\u001b[0;34m)\u001b[0m\u001b[0;34m,\u001b[0m\u001b[0;34m\u001b[0m\u001b[0;34m\u001b[0m\u001b[0m\n",
            "\u001b[0;32m/usr/local/lib/python3.11/dist-packages/seaborn/categorical.py\u001b[0m in \u001b[0;36m__init__\u001b[0;34m(self, data, variables, order, orient, require_numeric, color, legend)\u001b[0m\n\u001b[1;32m     65\u001b[0m     ):\n\u001b[1;32m     66\u001b[0m \u001b[0;34m\u001b[0m\u001b[0m\n\u001b[0;32m---> 67\u001b[0;31m         \u001b[0msuper\u001b[0m\u001b[0;34m(\u001b[0m\u001b[0;34m)\u001b[0m\u001b[0;34m.\u001b[0m\u001b[0m__init__\u001b[0m\u001b[0;34m(\u001b[0m\u001b[0mdata\u001b[0m\u001b[0;34m=\u001b[0m\u001b[0mdata\u001b[0m\u001b[0;34m,\u001b[0m \u001b[0mvariables\u001b[0m\u001b[0;34m=\u001b[0m\u001b[0mvariables\u001b[0m\u001b[0;34m)\u001b[0m\u001b[0;34m\u001b[0m\u001b[0;34m\u001b[0m\u001b[0m\n\u001b[0m\u001b[1;32m     68\u001b[0m \u001b[0;34m\u001b[0m\u001b[0m\n\u001b[1;32m     69\u001b[0m         \u001b[0;31m# This method takes care of some bookkeeping that is necessary because the\u001b[0m\u001b[0;34m\u001b[0m\u001b[0;34m\u001b[0m\u001b[0m\n",
            "\u001b[0;32m/usr/local/lib/python3.11/dist-packages/seaborn/_base.py\u001b[0m in \u001b[0;36m__init__\u001b[0;34m(self, data, variables)\u001b[0m\n\u001b[1;32m    632\u001b[0m         \u001b[0;31m# information for numeric axes would be information about log scales.\u001b[0m\u001b[0;34m\u001b[0m\u001b[0;34m\u001b[0m\u001b[0m\n\u001b[1;32m    633\u001b[0m         \u001b[0mself\u001b[0m\u001b[0;34m.\u001b[0m\u001b[0m_var_ordered\u001b[0m \u001b[0;34m=\u001b[0m \u001b[0;34m{\u001b[0m\u001b[0;34m\"x\"\u001b[0m\u001b[0;34m:\u001b[0m \u001b[0;32mFalse\u001b[0m\u001b[0;34m,\u001b[0m \u001b[0;34m\"y\"\u001b[0m\u001b[0;34m:\u001b[0m \u001b[0;32mFalse\u001b[0m\u001b[0;34m}\u001b[0m  \u001b[0;31m# alt., used DefaultDict\u001b[0m\u001b[0;34m\u001b[0m\u001b[0;34m\u001b[0m\u001b[0m\n\u001b[0;32m--> 634\u001b[0;31m         \u001b[0mself\u001b[0m\u001b[0;34m.\u001b[0m\u001b[0massign_variables\u001b[0m\u001b[0;34m(\u001b[0m\u001b[0mdata\u001b[0m\u001b[0;34m,\u001b[0m \u001b[0mvariables\u001b[0m\u001b[0;34m)\u001b[0m\u001b[0;34m\u001b[0m\u001b[0;34m\u001b[0m\u001b[0m\n\u001b[0m\u001b[1;32m    635\u001b[0m \u001b[0;34m\u001b[0m\u001b[0m\n\u001b[1;32m    636\u001b[0m         \u001b[0;31m# TODO Lots of tests assume that these are called to initialize the\u001b[0m\u001b[0;34m\u001b[0m\u001b[0;34m\u001b[0m\u001b[0m\n",
            "\u001b[0;32m/usr/local/lib/python3.11/dist-packages/seaborn/_base.py\u001b[0m in \u001b[0;36massign_variables\u001b[0;34m(self, data, variables)\u001b[0m\n\u001b[1;32m    677\u001b[0m             \u001b[0;31m# to centralize / standardize data consumption logic.\u001b[0m\u001b[0;34m\u001b[0m\u001b[0;34m\u001b[0m\u001b[0m\n\u001b[1;32m    678\u001b[0m             \u001b[0mself\u001b[0m\u001b[0;34m.\u001b[0m\u001b[0minput_format\u001b[0m \u001b[0;34m=\u001b[0m \u001b[0;34m\"long\"\u001b[0m\u001b[0;34m\u001b[0m\u001b[0;34m\u001b[0m\u001b[0m\n\u001b[0;32m--> 679\u001b[0;31m             \u001b[0mplot_data\u001b[0m \u001b[0;34m=\u001b[0m \u001b[0mPlotData\u001b[0m\u001b[0;34m(\u001b[0m\u001b[0mdata\u001b[0m\u001b[0;34m,\u001b[0m \u001b[0mvariables\u001b[0m\u001b[0;34m)\u001b[0m\u001b[0;34m\u001b[0m\u001b[0;34m\u001b[0m\u001b[0m\n\u001b[0m\u001b[1;32m    680\u001b[0m             \u001b[0mframe\u001b[0m \u001b[0;34m=\u001b[0m \u001b[0mplot_data\u001b[0m\u001b[0;34m.\u001b[0m\u001b[0mframe\u001b[0m\u001b[0;34m\u001b[0m\u001b[0;34m\u001b[0m\u001b[0m\n\u001b[1;32m    681\u001b[0m             \u001b[0mnames\u001b[0m \u001b[0;34m=\u001b[0m \u001b[0mplot_data\u001b[0m\u001b[0;34m.\u001b[0m\u001b[0mnames\u001b[0m\u001b[0;34m\u001b[0m\u001b[0;34m\u001b[0m\u001b[0m\n",
            "\u001b[0;32m/usr/local/lib/python3.11/dist-packages/seaborn/_core/data.py\u001b[0m in \u001b[0;36m__init__\u001b[0;34m(self, data, variables)\u001b[0m\n\u001b[1;32m     56\u001b[0m \u001b[0;34m\u001b[0m\u001b[0m\n\u001b[1;32m     57\u001b[0m         \u001b[0mdata\u001b[0m \u001b[0;34m=\u001b[0m \u001b[0mhandle_data_source\u001b[0m\u001b[0;34m(\u001b[0m\u001b[0mdata\u001b[0m\u001b[0;34m)\u001b[0m\u001b[0;34m\u001b[0m\u001b[0;34m\u001b[0m\u001b[0m\n\u001b[0;32m---> 58\u001b[0;31m         \u001b[0mframe\u001b[0m\u001b[0;34m,\u001b[0m \u001b[0mnames\u001b[0m\u001b[0;34m,\u001b[0m \u001b[0mids\u001b[0m \u001b[0;34m=\u001b[0m \u001b[0mself\u001b[0m\u001b[0;34m.\u001b[0m\u001b[0m_assign_variables\u001b[0m\u001b[0;34m(\u001b[0m\u001b[0mdata\u001b[0m\u001b[0;34m,\u001b[0m \u001b[0mvariables\u001b[0m\u001b[0;34m)\u001b[0m\u001b[0;34m\u001b[0m\u001b[0;34m\u001b[0m\u001b[0m\n\u001b[0m\u001b[1;32m     59\u001b[0m \u001b[0;34m\u001b[0m\u001b[0m\n\u001b[1;32m     60\u001b[0m         \u001b[0mself\u001b[0m\u001b[0;34m.\u001b[0m\u001b[0mframe\u001b[0m \u001b[0;34m=\u001b[0m \u001b[0mframe\u001b[0m\u001b[0;34m\u001b[0m\u001b[0;34m\u001b[0m\u001b[0m\n",
            "\u001b[0;32m/usr/local/lib/python3.11/dist-packages/seaborn/_core/data.py\u001b[0m in \u001b[0;36m_assign_variables\u001b[0;34m(self, data, variables)\u001b[0m\n\u001b[1;32m    230\u001b[0m                 \u001b[0;32melse\u001b[0m\u001b[0;34m:\u001b[0m\u001b[0;34m\u001b[0m\u001b[0;34m\u001b[0m\u001b[0m\n\u001b[1;32m    231\u001b[0m                     \u001b[0merr\u001b[0m \u001b[0;34m+=\u001b[0m \u001b[0;34m\"An entry with this name does not appear in `data`.\"\u001b[0m\u001b[0;34m\u001b[0m\u001b[0;34m\u001b[0m\u001b[0m\n\u001b[0;32m--> 232\u001b[0;31m                 \u001b[0;32mraise\u001b[0m \u001b[0mValueError\u001b[0m\u001b[0;34m(\u001b[0m\u001b[0merr\u001b[0m\u001b[0;34m)\u001b[0m\u001b[0;34m\u001b[0m\u001b[0;34m\u001b[0m\u001b[0m\n\u001b[0m\u001b[1;32m    233\u001b[0m \u001b[0;34m\u001b[0m\u001b[0m\n\u001b[1;32m    234\u001b[0m             \u001b[0;32melse\u001b[0m\u001b[0;34m:\u001b[0m\u001b[0;34m\u001b[0m\u001b[0;34m\u001b[0m\u001b[0m\n",
            "\u001b[0;31mValueError\u001b[0m: Could not interpret value `Accuracy` for `y`. An entry with this name does not appear in `data`."
          ]
        },
        {
          "output_type": "display_data",
          "data": {
            "text/plain": [
              "<Figure size 1400x600 with 1 Axes>"
            ],
            "image/png": "[encoded data removed]"
          },
          "metadata": {}
        }
      ]
    },
    {
      "cell_type": "markdown",
      "source": [
        "**Conclusion**: Parmi l’ensemble des modèles testés sur les trois représentations textuelles, **Logistic Regression avec Word2Vec** obtient les meilleurs résultats en termes de F1-score et d’AUC.\n",
        "Il offre un excellent compromis entre performance et robustesse, tout en restant simple à entraîner.\n",
        "Nous le retenons donc comme **modèle de référence pour cette prémiére approche**.\n"
      ],
      "metadata": {
        "id": "sCWRoN9L-_2u"
      }
    },
    {
      "cell_type": "markdown",
      "source": [
        "## Optimisation du modéle 1: Logistic Regression + Word2vec"
      ],
      "metadata": {
        "id": "AM4nosiM_SM1"
      }
    },
    {
      "cell_type": "code",
      "source": [
        "!pip install optuna\n",
        "import optuna"
      ],
      "metadata": {
        "id": "vad9Uib1A93n",
        "outputId": "d9a18f51-a03f-4623-8477-a222b2101f2f",
        "colab": {
          "base_uri": "https://localhost:8080/"
        }
      },
      "execution_count": 45,
      "outputs": [
        {
          "output_type": "stream",
          "name": "stdout",
          "text": [
            "Collecting optuna\n",
            "  Downloading optuna-4.3.0-py3-none-any.whl.metadata (17 kB)\n",
            "Collecting alembic>=1.5.0 (from optuna)\n",
            "  Downloading alembic-1.15.2-py3-none-any.whl.metadata (7.3 kB)\n",
            "Collecting colorlog (from optuna)\n",
            "  Downloading colorlog-6.9.0-py3-none-any.whl.metadata (10 kB)\n",
            "Requirement already satisfied: numpy in /usr/local/lib/python3.11/dist-packages (from optuna) (2.0.2)\n",
            "Requirement already satisfied: packaging>=20.0 in /usr/local/lib/python3.11/dist-packages (from optuna) (24.2)\n",
            "Requirement already satisfied: sqlalchemy>=1.4.2 in /usr/local/lib/python3.11/dist-packages (from optuna) (2.0.40)\n",
            "Requirement already satisfied: tqdm in /usr/local/lib/python3.11/dist-packages (from optuna) (4.67.1)\n",
            "Requirement already satisfied: PyYAML in /usr/local/lib/python3.11/dist-packages (from optuna) (6.0.2)\n",
            "Requirement already satisfied: Mako in /usr/lib/python3/dist-packages (from alembic>=1.5.0->optuna) (1.1.3)\n",
            "Requirement already satisfied: typing-extensions>=4.12 in /usr/local/lib/python3.11/dist-packages (from alembic>=1.5.0->optuna) (4.13.2)\n",
            "Requirement already satisfied: greenlet>=1 in /usr/local/lib/python3.11/dist-packages (from sqlalchemy>=1.4.2->optuna) (3.2.2)\n",
            "Downloading optuna-4.3.0-py3-none-any.whl (386 kB)\n",
            "\u001b[2K   \u001b[90m━━━━━━━━━━━━━━━━━━━━━━━━━━━━━━━━━━━━━━━━\u001b[0m \u001b[32m386.6/386.6 kB\u001b[0m \u001b[31m10.6 MB/s\u001b[0m eta \u001b[36m0:00:00\u001b[0m\n",
            "\u001b[?25hDownloading alembic-1.15.2-py3-none-any.whl (231 kB)\n",
            "\u001b[2K   \u001b[90m━━━━━━━━━━━━━━━━━━━━━━━━━━━━━━━━━━━━━━━━\u001b[0m \u001b[32m231.9/231.9 kB\u001b[0m \u001b[31m15.3 MB/s\u001b[0m eta \u001b[36m0:00:00\u001b[0m\n",
            "\u001b[?25hDownloading colorlog-6.9.0-py3-none-any.whl (11 kB)\n",
            "Installing collected packages: colorlog, alembic, optuna\n",
            "Successfully installed alembic-1.15.2 colorlog-6.9.0 optuna-4.3.0\n"
          ]
        }
      ]
    },
    {
      "cell_type": "code",
      "source": [
        "def objective(trial):\n",
        "    # Hyperparamètres à optimiser\n",
        "    C = trial.suggest_loguniform('C', 1e-2, 1e2)\n",
        "    penalty = trial.suggest_categorical('penalty', ['l1', 'l2', 'elasticnet', None])\n",
        "    class_weight = trial.suggest_categorical('class_weight', [None, 'balanced'])\n",
        "    solver = trial.suggest_categorical('solver', ['liblinear', 'lbfgs', 'saga'])\n",
        "\n",
        "    # Only needed if penalty is elasticnet\n",
        "    l1_ratio = None\n",
        "    if penalty == 'elasticnet':\n",
        "        l1_ratio = trial.suggest_float('l1_ratio', 0.0, 0.5)\n",
        "\n",
        "    # Skip invalid combinations manually\n",
        "    invalid_combo = (\n",
        "        (penalty == 'l1' and solver not in ['liblinear', 'saga']) or\n",
        "        (penalty == 'elasticnet' and solver != 'saga') or\n",
        "        (penalty == 'none' and solver == 'liblinear')\n",
        "    )\n",
        "    # Skip invalid combinations manually\n",
        "    invalid_combo = (\n",
        "        (penalty == 'l1' and solver not in ['liblinear', 'saga']) or\n",
        "        (penalty == 'elasticnet' and solver != 'saga') or\n",
        "        (penalty == None and solver == 'liblinear')\n",
        "    )\n",
        "\n",
        "    if invalid_combo:\n",
        "        return 0.0\n",
        "\n",
        "    # Modèle\n",
        "    model = LogisticRegression(\n",
        "        C=C,\n",
        "        penalty=penalty,\n",
        "        class_weight=class_weight,\n",
        "        max_iter=1000,\n",
        "        solver=solver,\n",
        "        l1_ratio=l1_ratio,\n",
        "        random_state=42\n",
        "    )\n",
        "\n",
        "    # Cross-validation\n",
        "    cv = StratifiedKFold(n_splits=4, shuffle=True, random_state=42)\n",
        "    score = cross_val_score(model, X_train_w2v, y_train_w2v, cv=cv, scoring='accuracy', n_jobs=-1).mean()\n",
        "    return score"
      ],
      "metadata": {
        "id": "f04sbCZTBIwa"
      },
      "execution_count": 80,
      "outputs": []
    },
    {
      "cell_type": "code",
      "source": [
        "%%time\n",
        "study = optuna.create_study(direction=\"maximize\")\n",
        "study.optimize(objective, n_trials=25, n_jobs=-1)"
      ],
      "metadata": {
        "id": "FvHPodh4BP4-",
        "outputId": "fc4fd2b8-7512-4cbb-cad6-5daed99165da",
        "colab": {
          "base_uri": "https://localhost:8080/"
        }
      },
      "execution_count": 87,
      "outputs": [
        {
          "output_type": "stream",
          "name": "stderr",
          "text": [
            "[I 2025-05-17 20:29:53,302] A new study created in memory with name: no-name-7190c6ba-d5ce-4ad0-9207-c16c45fe86cf\n",
            "[I 2025-05-17 20:29:53,317] Trial 1 finished with value: 0.0 and parameters: {'C': 0.16612057145584683, 'penalty': None, 'class_weight': None, 'solver': 'liblinear'}. Best is trial 1 with value: 0.0.\n",
            "[I 2025-05-17 20:29:59,729] Trial 0 finished with value: 0.7185833333333334 and parameters: {'C': 0.6938876788518415, 'penalty': 'l2', 'class_weight': None, 'solver': 'lbfgs'}. Best is trial 0 with value: 0.7185833333333334.\n",
            "[I 2025-05-17 20:30:07,343] Trial 2 finished with value: 0.7185833333333334 and parameters: {'C': 0.6808199638313653, 'penalty': 'l2', 'class_weight': None, 'solver': 'liblinear'}. Best is trial 0 with value: 0.7185833333333334.\n",
            "[I 2025-05-17 20:31:56,170] Trial 3 finished with value: 0.7191666666666666 and parameters: {'C': 0.7668798306832132, 'penalty': 'l2', 'class_weight': 'balanced', 'solver': 'saga'}. Best is trial 3 with value: 0.7191666666666666.\n",
            "[I 2025-05-17 20:31:56,176] Trial 5 finished with value: 0.0 and parameters: {'C': 0.00040197454999754575, 'penalty': 'l1', 'class_weight': 'balanced', 'solver': 'lbfgs'}. Best is trial 3 with value: 0.7191666666666666.\n",
            "[I 2025-05-17 20:32:03,346] Trial 4 finished with value: 0.717 and parameters: {'C': 1.691997660616126, 'penalty': None, 'class_weight': None, 'solver': 'lbfgs'}. Best is trial 3 with value: 0.7191666666666666.\n",
            "[I 2025-05-17 20:32:09,767] Trial 6 finished with value: 0.7178333333333333 and parameters: {'C': 0.1989409353407205, 'penalty': 'l1', 'class_weight': 'balanced', 'solver': 'liblinear'}. Best is trial 3 with value: 0.7191666666666666.\n",
            "[I 2025-05-17 20:32:09,774] Trial 8 finished with value: 0.0 and parameters: {'C': 18.70449495284594, 'penalty': 'elasticnet', 'class_weight': 'balanced', 'solver': 'liblinear', 'l1_ratio': 0.4240052376618316}. Best is trial 3 with value: 0.7191666666666666.\n",
            "[I 2025-05-17 20:37:14,099] Trial 7 finished with value: 0.71675 and parameters: {'C': 56.159098517223, 'penalty': 'l1', 'class_weight': 'balanced', 'solver': 'saga'}. Best is trial 3 with value: 0.7191666666666666.\n",
            "[I 2025-05-17 20:37:18,772] Trial 9 finished with value: 0.6654166666666667 and parameters: {'C': 0.00016402798510863246, 'penalty': 'l2', 'class_weight': 'balanced', 'solver': 'saga'}. Best is trial 3 with value: 0.7191666666666666.\n",
            "[I 2025-05-17 20:37:22,857] Trial 10 finished with value: 0.7176666666666667 and parameters: {'C': 2.322960880383499, 'penalty': 'l2', 'class_weight': None, 'solver': 'lbfgs'}. Best is trial 3 with value: 0.7191666666666666.\n",
            "[I 2025-05-17 20:37:26,614] Trial 11 finished with value: 0.6339166666666667 and parameters: {'C': 0.0035332664427005574, 'penalty': 'elasticnet', 'class_weight': 'balanced', 'solver': 'saga', 'l1_ratio': 0.8934015117928467}. Best is trial 3 with value: 0.7191666666666666.\n",
            "[I 2025-05-17 20:37:31,332] Trial 12 finished with value: 0.7138333333333333 and parameters: {'C': 0.003850523401594922, 'penalty': 'l2', 'class_weight': None, 'solver': 'saga'}. Best is trial 3 with value: 0.7191666666666666.\n",
            "[I 2025-05-17 20:37:38,366] Trial 13 finished with value: 0.719 and parameters: {'C': 0.014999756512418949, 'penalty': 'l2', 'class_weight': None, 'solver': 'saga'}. Best is trial 3 with value: 0.7191666666666666.\n",
            "[I 2025-05-17 20:37:38,945] Trial 14 finished with value: 0.7185 and parameters: {'C': 0.020394449950816552, 'penalty': 'l2', 'class_weight': None, 'solver': 'lbfgs'}. Best is trial 3 with value: 0.7191666666666666.\n",
            "[I 2025-05-17 20:37:45,642] Trial 15 finished with value: 0.7190000000000001 and parameters: {'C': 0.016934724173562916, 'penalty': 'l2', 'class_weight': None, 'solver': 'saga'}. Best is trial 3 with value: 0.7191666666666666.\n",
            "[I 2025-05-17 20:37:53,008] Trial 16 finished with value: 0.7190833333333333 and parameters: {'C': 0.015141714296657975, 'penalty': 'l2', 'class_weight': 'balanced', 'solver': 'saga'}. Best is trial 3 with value: 0.7191666666666666.\n",
            "[I 2025-05-17 20:38:00,926] Trial 17 finished with value: 0.71925 and parameters: {'C': 0.023135370237382356, 'penalty': 'l2', 'class_weight': 'balanced', 'solver': 'saga'}. Best is trial 17 with value: 0.71925.\n",
            "[I 2025-05-17 20:41:40,726] Trial 18 finished with value: 0.7175 and parameters: {'C': 7.726403932256767, 'penalty': None, 'class_weight': 'balanced', 'solver': 'saga'}. Best is trial 17 with value: 0.71925.\n",
            "[I 2025-05-17 20:46:57,299] Trial 19 finished with value: 0.717 and parameters: {'C': 10.171998184924675, 'penalty': 'elasticnet', 'class_weight': 'balanced', 'solver': 'saga', 'l1_ratio': 0.049297025118958615}. Best is trial 17 with value: 0.71925.\n",
            "[I 2025-05-17 20:47:27,131] Trial 20 finished with value: 0.7190000000000001 and parameters: {'C': 0.08799347361489608, 'penalty': 'elasticnet', 'class_weight': 'balanced', 'solver': 'saga', 'l1_ratio': 0.014165805845087975}. Best is trial 17 with value: 0.71925.\n",
            "[I 2025-05-17 20:47:30,616] Trial 21 finished with value: 0.7034166666666666 and parameters: {'C': 0.0015585796498617762, 'penalty': 'l2', 'class_weight': 'balanced', 'solver': 'saga'}. Best is trial 17 with value: 0.71925.\n",
            "[I 2025-05-17 20:47:35,024] Trial 22 finished with value: 0.7072499999999999 and parameters: {'C': 0.0019677735204511036, 'penalty': 'l2', 'class_weight': 'balanced', 'solver': 'saga'}. Best is trial 17 with value: 0.71925.\n",
            "[I 2025-05-17 20:47:55,100] Trial 23 finished with value: 0.7193333333333334 and parameters: {'C': 0.07116573552663209, 'penalty': 'l2', 'class_weight': 'balanced', 'solver': 'saga'}. Best is trial 23 with value: 0.7193333333333334.\n",
            "[I 2025-05-17 20:48:05,898] Trial 24 finished with value: 0.719 and parameters: {'C': 0.03957565725948399, 'penalty': 'l2', 'class_weight': 'balanced', 'solver': 'saga'}. Best is trial 23 with value: 0.7193333333333334.\n",
            "[I 2025-05-17 20:48:24,774] Trial 25 finished with value: 0.7188333333333333 and parameters: {'C': 0.06844352130610715, 'penalty': 'l2', 'class_weight': 'balanced', 'solver': 'saga'}. Best is trial 23 with value: 0.7193333333333334.\n",
            "[I 2025-05-17 20:49:30,019] Trial 26 finished with value: 0.7185 and parameters: {'C': 0.39427464735738077, 'penalty': 'l2', 'class_weight': 'balanced', 'solver': 'saga'}. Best is trial 23 with value: 0.7193333333333334.\n",
            "[I 2025-05-17 20:50:41,555] Trial 27 finished with value: 0.7184166666666667 and parameters: {'C': 0.4412584502549013, 'penalty': 'l2', 'class_weight': 'balanced', 'solver': 'saga'}. Best is trial 23 with value: 0.7193333333333334.\n",
            "[I 2025-05-17 20:54:21,424] Trial 28 finished with value: 0.7175 and parameters: {'C': 2.237254697351369, 'penalty': None, 'class_weight': 'balanced', 'solver': 'saga'}. Best is trial 23 with value: 0.7193333333333334.\n",
            "[I 2025-05-17 20:54:23,388] Trial 29 finished with value: 0.7191666666666667 and parameters: {'C': 0.052184590852845276, 'penalty': 'l1', 'class_weight': 'balanced', 'solver': 'liblinear'}. Best is trial 23 with value: 0.7193333333333334.\n",
            "[I 2025-05-17 20:54:24,965] Trial 30 finished with value: 0.716 and parameters: {'C': 0.038980050551906904, 'penalty': 'l1', 'class_weight': 'balanced', 'solver': 'liblinear'}. Best is trial 23 with value: 0.7193333333333334.\n",
            "[I 2025-05-17 20:54:25,444] Trial 31 finished with value: 0.6478333333333333 and parameters: {'C': 0.006264299304864148, 'penalty': 'l1', 'class_weight': 'balanced', 'solver': 'liblinear'}. Best is trial 23 with value: 0.7193333333333334.\n",
            "[I 2025-05-17 20:54:26,426] Trial 32 finished with value: 0.6558333333333333 and parameters: {'C': 0.006805237091949869, 'penalty': 'l1', 'class_weight': 'balanced', 'solver': 'liblinear'}. Best is trial 23 with value: 0.7193333333333334.\n",
            "[I 2025-05-17 20:54:34,029] Trial 33 finished with value: 0.71775 and parameters: {'C': 0.20762049850262287, 'penalty': 'l1', 'class_weight': 'balanced', 'solver': 'liblinear'}. Best is trial 23 with value: 0.7193333333333334.\n",
            "[I 2025-05-17 20:54:34,055] Trial 35 finished with value: 0.0 and parameters: {'C': 0.1034433718899393, 'penalty': None, 'class_weight': 'balanced', 'solver': 'liblinear'}. Best is trial 23 with value: 0.7193333333333334.\n",
            "[I 2025-05-17 20:54:41,149] Trial 34 finished with value: 0.7178333333333333 and parameters: {'C': 0.20334262973018705, 'penalty': 'l1', 'class_weight': 'balanced', 'solver': 'liblinear'}. Best is trial 23 with value: 0.7193333333333334.\n",
            "[I 2025-05-17 20:54:45,042] Trial 36 finished with value: 0.7184166666666667 and parameters: {'C': 1.273479666393882, 'penalty': 'l2', 'class_weight': 'balanced', 'solver': 'lbfgs'}. Best is trial 23 with value: 0.7193333333333334.\n",
            "[I 2025-05-17 20:54:48,182] Trial 37 finished with value: 0.7185833333333332 and parameters: {'C': 1.2160173560568066, 'penalty': 'l2', 'class_weight': 'balanced', 'solver': 'lbfgs'}. Best is trial 23 with value: 0.7193333333333334.\n",
            "[I 2025-05-17 20:54:50,611] Trial 38 finished with value: 0.7188333333333333 and parameters: {'C': 0.7864311106119807, 'penalty': 'l2', 'class_weight': 'balanced', 'solver': 'lbfgs'}. Best is trial 23 with value: 0.7193333333333334.\n",
            "[I 2025-05-17 20:54:52,449] Trial 39 finished with value: 0.7184999999999999 and parameters: {'C': 0.047766316918562826, 'penalty': 'l1', 'class_weight': 'balanced', 'solver': 'liblinear'}. Best is trial 23 with value: 0.7193333333333334.\n",
            "[I 2025-05-17 20:54:54,019] Trial 40 finished with value: 0.71725 and parameters: {'C': 0.04551947777427286, 'penalty': 'l1', 'class_weight': 'balanced', 'solver': 'liblinear'}. Best is trial 23 with value: 0.7193333333333334.\n",
            "[I 2025-05-17 20:58:33,549] Trial 41 finished with value: 0.7175 and parameters: {'C': 0.0006260847424301393, 'penalty': None, 'class_weight': None, 'solver': 'saga'}. Best is trial 23 with value: 0.7193333333333334.\n",
            "[I 2025-05-17 20:58:41,184] Trial 42 finished with value: 0.7186666666666667 and parameters: {'C': 0.015559738493432597, 'penalty': 'l2', 'class_weight': 'balanced', 'solver': 'saga'}. Best is trial 23 with value: 0.7193333333333334.\n",
            "[I 2025-05-17 20:58:45,985] Trial 43 finished with value: 0.71825 and parameters: {'C': 0.009863183608592847, 'penalty': 'l2', 'class_weight': 'balanced', 'solver': 'saga'}. Best is trial 23 with value: 0.7193333333333334.\n",
            "[I 2025-05-17 20:59:11,812] Trial 44 finished with value: 0.7186666666666666 and parameters: {'C': 0.10886919427541802, 'penalty': 'l2', 'class_weight': 'balanced', 'solver': 'saga'}. Best is trial 23 with value: 0.7193333333333334.\n",
            "[I 2025-05-17 20:59:40,598] Trial 45 finished with value: 0.7180833333333333 and parameters: {'C': 0.12965632397517363, 'penalty': 'l2', 'class_weight': 'balanced', 'solver': 'saga'}. Best is trial 23 with value: 0.7193333333333334.\n",
            "[I 2025-05-17 21:00:38,930] Trial 46 finished with value: 0.7184166666666667 and parameters: {'C': 0.33046615154453285, 'penalty': 'l2', 'class_weight': 'balanced', 'solver': 'saga'}. Best is trial 23 with value: 0.7193333333333334.\n",
            "[I 2025-05-17 21:00:50,869] Trial 47 finished with value: 0.7112499999999999 and parameters: {'C': 0.027300005500523833, 'penalty': 'elasticnet', 'class_weight': 'balanced', 'solver': 'saga', 'l1_ratio': 0.8515366232939541}. Best is trial 23 with value: 0.7193333333333334.\n",
            "[I 2025-05-17 21:01:02,906] Trial 48 finished with value: 0.7076666666666667 and parameters: {'C': 0.026891509267775195, 'penalty': 'elasticnet', 'class_weight': None, 'solver': 'saga', 'l1_ratio': 0.9203377029744867}. Best is trial 23 with value: 0.7193333333333334.\n",
            "[I 2025-05-17 21:04:41,065] Trial 49 finished with value: 0.71725 and parameters: {'C': 3.3103618174013127, 'penalty': 'l2', 'class_weight': None, 'solver': 'saga'}. Best is trial 23 with value: 0.7193333333333334.\n"
          ]
        },
        {
          "output_type": "stream",
          "name": "stdout",
          "text": [
            "CPU times: user 17.7 s, sys: 4.8 s, total: 22.5 s\n",
            "Wall time: 34min 47s\n"
          ]
        }
      ]
    },
    {
      "cell_type": "code",
      "source": [
        "print(\"Best score (F1):\", study.best_value)\n",
        "print(\"Best params:\", study.best_params)"
      ],
      "metadata": {
        "id": "8PGpv4HoHFBs",
        "outputId": "227c30f0-8c25-4f0e-e8e2-7e7d04bf4aed",
        "colab": {
          "base_uri": "https://localhost:8080/"
        }
      },
      "execution_count": 89,
      "outputs": [
        {
          "output_type": "stream",
          "name": "stdout",
          "text": [
            "Best score (F1): 0.7193333333333334\n",
            "Best params: {'C': 0.07116573552663209, 'penalty': 'l2', 'class_weight': 'balanced', 'solver': 'saga'}\n"
          ]
        }
      ]
    },
    {
      "cell_type": "code",
      "source": [
        "# La relation entre chaque hyperparamètre et la valeur de la fonction objectif.\n",
        "optuna.visualization.plot_slice(study)"
      ],
      "metadata": {
        "id": "tgy2AOIaHH76",
        "outputId": "bb05ca6e-c84d-46ac-851e-c36497e914ef",
        "colab": {
          "base_uri": "https://localhost:8080/",
          "height": 562
        }
      },
      "execution_count": 90,
      "outputs": [
        {
          "output_type": "display_data",
          "data": {
            "text/html": [
              "<html>\n",
              "<head><meta charset=\"utf-8\" /></head>\n",
              "<body>\n",
              "    <div>            <script src=\"https://cdnjs.cloudflare.com/ajax/libs/mathjax/2.7.5/MathJax.js?config=TeX-AMS-MML_SVG\"></script><script type=\"text/javascript\">if (window.MathJax && window.MathJax.Hub && window.MathJax.Hub.Config) {window.MathJax.Hub.Config({SVG: {font: \"STIX-Web\"}});}</script>                <script type=\"text/javascript\">window.PlotlyConfig = {MathJaxConfig: 'local'};</script>\n",
              "        <script charset=\"utf-8\" src=\"https://cdn.plot.ly/plotly-2.35.2.min.js\"></script>                <div id=\"f6598134-cc4f-4833-9994-05f0973295b3\" class=\"plotly-graph-div\" style=\"height:525px; width:1500px;\"></div>            <script type=\"text/javascript\">                                    window.PLOTLYENV=window.PLOTLYENV || {};                                    if (document.getElementById(\"f6598134-cc4f-4833-9994-05f0973295b3\")) {                    Plotly.newPlot(                        \"f6598134-cc4f-4833-9994-05f0973295b3\",                        [{\"marker\":{\"color\":[0,1,2,3,4,5,6,7,8,9,10,11,12,13,14,15,16,17,18,19,20,21,22,23,24,25,26,27,28,29,30,31,32,33,34,35,36,37,38,39,40,41,42,43,44,45,46,47,48,49],\"colorbar\":{\"title\":{\"text\":\"Trial\"},\"x\":1.0,\"xpad\":40},\"colorscale\":[[0.0,\"rgb(247,251,255)\"],[0.125,\"rgb(222,235,247)\"],[0.25,\"rgb(198,219,239)\"],[0.375,\"rgb(158,202,225)\"],[0.5,\"rgb(107,174,214)\"],[0.625,\"rgb(66,146,198)\"],[0.75,\"rgb(33,113,181)\"],[0.875,\"rgb(8,81,156)\"],[1.0,\"rgb(8,48,107)\"]],\"line\":{\"color\":\"Grey\",\"width\":0.5},\"showscale\":true},\"mode\":\"markers\",\"name\":\"Feasible Trial\",\"showlegend\":false,\"x\":[0.6938876788518415,0.16612057145584683,0.6808199638313653,0.7668798306832132,1.691997660616126,0.00040197454999754575,0.1989409353407205,56.159098517223,18.70449495284594,0.00016402798510863246,2.322960880383499,0.0035332664427005574,0.003850523401594922,0.014999756512418949,0.020394449950816552,0.016934724173562916,0.015141714296657975,0.023135370237382356,7.726403932256767,10.171998184924675,0.08799347361489608,0.0015585796498617762,0.0019677735204511036,0.07116573552663209,0.03957565725948399,0.06844352130610715,0.39427464735738077,0.4412584502549013,2.237254697351369,0.052184590852845276,0.038980050551906904,0.006264299304864148,0.006805237091949869,0.20762049850262287,0.20334262973018705,0.1034433718899393,1.273479666393882,1.2160173560568066,0.7864311106119807,0.047766316918562826,0.04551947777427286,0.0006260847424301393,0.015559738493432597,0.009863183608592847,0.10886919427541802,0.12965632397517363,0.33046615154453285,0.027300005500523833,0.026891509267775195,3.3103618174013127],\"y\":[0.7185833333333334,0.0,0.7185833333333334,0.7191666666666666,0.717,0.0,0.7178333333333333,0.71675,0.0,0.6654166666666667,0.7176666666666667,0.6339166666666667,0.7138333333333333,0.719,0.7185,0.7190000000000001,0.7190833333333333,0.71925,0.7175,0.717,0.7190000000000001,0.7034166666666666,0.7072499999999999,0.7193333333333334,0.719,0.7188333333333333,0.7185,0.7184166666666667,0.7175,0.7191666666666667,0.716,0.6478333333333333,0.6558333333333333,0.71775,0.7178333333333333,0.0,0.7184166666666667,0.7185833333333332,0.7188333333333333,0.7184999999999999,0.71725,0.7175,0.7186666666666667,0.71825,0.7186666666666666,0.7180833333333333,0.7184166666666667,0.7112499999999999,0.7076666666666667,0.71725],\"type\":\"scatter\",\"xaxis\":\"x\",\"yaxis\":\"y\"},{\"marker\":{\"color\":[0,1,2,3,4,5,6,7,8,9,10,11,12,13,14,15,16,17,18,19,20,21,22,23,24,25,26,27,28,29,30,31,32,33,34,35,36,37,38,39,40,41,42,43,44,45,46,47,48,49],\"colorbar\":{\"title\":{\"text\":\"Trial\"},\"x\":1.0,\"xpad\":40},\"colorscale\":[[0.0,\"rgb(247,251,255)\"],[0.125,\"rgb(222,235,247)\"],[0.25,\"rgb(198,219,239)\"],[0.375,\"rgb(158,202,225)\"],[0.5,\"rgb(107,174,214)\"],[0.625,\"rgb(66,146,198)\"],[0.75,\"rgb(33,113,181)\"],[0.875,\"rgb(8,81,156)\"],[1.0,\"rgb(8,48,107)\"]],\"line\":{\"color\":\"Grey\",\"width\":0.5},\"showscale\":false},\"mode\":\"markers\",\"name\":\"Feasible Trial\",\"showlegend\":false,\"x\":[null,null,null,\"balanced\",null,\"balanced\",\"balanced\",\"balanced\",\"balanced\",\"balanced\",null,\"balanced\",null,null,null,null,\"balanced\",\"balanced\",\"balanced\",\"balanced\",\"balanced\",\"balanced\",\"balanced\",\"balanced\",\"balanced\",\"balanced\",\"balanced\",\"balanced\",\"balanced\",\"balanced\",\"balanced\",\"balanced\",\"balanced\",\"balanced\",\"balanced\",\"balanced\",\"balanced\",\"balanced\",\"balanced\",\"balanced\",\"balanced\",null,\"balanced\",\"balanced\",\"balanced\",\"balanced\",\"balanced\",\"balanced\",null,null],\"y\":[0.7185833333333334,0.0,0.7185833333333334,0.7191666666666666,0.717,0.0,0.7178333333333333,0.71675,0.0,0.6654166666666667,0.7176666666666667,0.6339166666666667,0.7138333333333333,0.719,0.7185,0.7190000000000001,0.7190833333333333,0.71925,0.7175,0.717,0.7190000000000001,0.7034166666666666,0.7072499999999999,0.7193333333333334,0.719,0.7188333333333333,0.7185,0.7184166666666667,0.7175,0.7191666666666667,0.716,0.6478333333333333,0.6558333333333333,0.71775,0.7178333333333333,0.0,0.7184166666666667,0.7185833333333332,0.7188333333333333,0.7184999999999999,0.71725,0.7175,0.7186666666666667,0.71825,0.7186666666666666,0.7180833333333333,0.7184166666666667,0.7112499999999999,0.7076666666666667,0.71725],\"type\":\"scatter\",\"xaxis\":\"x2\",\"yaxis\":\"y2\"},{\"marker\":{\"color\":[8,11,19,20,47,48],\"colorbar\":{\"title\":{\"text\":\"Trial\"},\"x\":1.0,\"xpad\":40},\"colorscale\":[[0.0,\"rgb(247,251,255)\"],[0.125,\"rgb(222,235,247)\"],[0.25,\"rgb(198,219,239)\"],[0.375,\"rgb(158,202,225)\"],[0.5,\"rgb(107,174,214)\"],[0.625,\"rgb(66,146,198)\"],[0.75,\"rgb(33,113,181)\"],[0.875,\"rgb(8,81,156)\"],[1.0,\"rgb(8,48,107)\"]],\"line\":{\"color\":\"Grey\",\"width\":0.5},\"showscale\":false},\"mode\":\"markers\",\"name\":\"Feasible Trial\",\"showlegend\":false,\"x\":[0.4240052376618316,0.8934015117928467,0.049297025118958615,0.014165805845087975,0.8515366232939541,0.9203377029744867],\"y\":[0.0,0.6339166666666667,0.717,0.7190000000000001,0.7112499999999999,0.7076666666666667],\"type\":\"scatter\",\"xaxis\":\"x3\",\"yaxis\":\"y3\"},{\"marker\":{\"color\":[0,1,2,3,4,5,6,7,8,9,10,11,12,13,14,15,16,17,18,19,20,21,22,23,24,25,26,27,28,29,30,31,32,33,34,35,36,37,38,39,40,41,42,43,44,45,46,47,48,49],\"colorbar\":{\"title\":{\"text\":\"Trial\"},\"x\":1.0,\"xpad\":40},\"colorscale\":[[0.0,\"rgb(247,251,255)\"],[0.125,\"rgb(222,235,247)\"],[0.25,\"rgb(198,219,239)\"],[0.375,\"rgb(158,202,225)\"],[0.5,\"rgb(107,174,214)\"],[0.625,\"rgb(66,146,198)\"],[0.75,\"rgb(33,113,181)\"],[0.875,\"rgb(8,81,156)\"],[1.0,\"rgb(8,48,107)\"]],\"line\":{\"color\":\"Grey\",\"width\":0.5},\"showscale\":false},\"mode\":\"markers\",\"name\":\"Feasible Trial\",\"showlegend\":false,\"x\":[\"l2\",null,\"l2\",\"l2\",null,\"l1\",\"l1\",\"l1\",\"elasticnet\",\"l2\",\"l2\",\"elasticnet\",\"l2\",\"l2\",\"l2\",\"l2\",\"l2\",\"l2\",null,\"elasticnet\",\"elasticnet\",\"l2\",\"l2\",\"l2\",\"l2\",\"l2\",\"l2\",\"l2\",null,\"l1\",\"l1\",\"l1\",\"l1\",\"l1\",\"l1\",null,\"l2\",\"l2\",\"l2\",\"l1\",\"l1\",null,\"l2\",\"l2\",\"l2\",\"l2\",\"l2\",\"elasticnet\",\"elasticnet\",\"l2\"],\"y\":[0.7185833333333334,0.0,0.7185833333333334,0.7191666666666666,0.717,0.0,0.7178333333333333,0.71675,0.0,0.6654166666666667,0.7176666666666667,0.6339166666666667,0.7138333333333333,0.719,0.7185,0.7190000000000001,0.7190833333333333,0.71925,0.7175,0.717,0.7190000000000001,0.7034166666666666,0.7072499999999999,0.7193333333333334,0.719,0.7188333333333333,0.7185,0.7184166666666667,0.7175,0.7191666666666667,0.716,0.6478333333333333,0.6558333333333333,0.71775,0.7178333333333333,0.0,0.7184166666666667,0.7185833333333332,0.7188333333333333,0.7184999999999999,0.71725,0.7175,0.7186666666666667,0.71825,0.7186666666666666,0.7180833333333333,0.7184166666666667,0.7112499999999999,0.7076666666666667,0.71725],\"type\":\"scatter\",\"xaxis\":\"x4\",\"yaxis\":\"y4\"},{\"marker\":{\"color\":[0,1,2,3,4,5,6,7,8,9,10,11,12,13,14,15,16,17,18,19,20,21,22,23,24,25,26,27,28,29,30,31,32,33,34,35,36,37,38,39,40,41,42,43,44,45,46,47,48,49],\"colorbar\":{\"title\":{\"text\":\"Trial\"},\"x\":1.0,\"xpad\":40},\"colorscale\":[[0.0,\"rgb(247,251,255)\"],[0.125,\"rgb(222,235,247)\"],[0.25,\"rgb(198,219,239)\"],[0.375,\"rgb(158,202,225)\"],[0.5,\"rgb(107,174,214)\"],[0.625,\"rgb(66,146,198)\"],[0.75,\"rgb(33,113,181)\"],[0.875,\"rgb(8,81,156)\"],[1.0,\"rgb(8,48,107)\"]],\"line\":{\"color\":\"Grey\",\"width\":0.5},\"showscale\":false},\"mode\":\"markers\",\"name\":\"Feasible Trial\",\"showlegend\":false,\"x\":[\"lbfgs\",\"liblinear\",\"liblinear\",\"saga\",\"lbfgs\",\"lbfgs\",\"liblinear\",\"saga\",\"liblinear\",\"saga\",\"lbfgs\",\"saga\",\"saga\",\"saga\",\"lbfgs\",\"saga\",\"saga\",\"saga\",\"saga\",\"saga\",\"saga\",\"saga\",\"saga\",\"saga\",\"saga\",\"saga\",\"saga\",\"saga\",\"saga\",\"liblinear\",\"liblinear\",\"liblinear\",\"liblinear\",\"liblinear\",\"liblinear\",\"liblinear\",\"lbfgs\",\"lbfgs\",\"lbfgs\",\"liblinear\",\"liblinear\",\"saga\",\"saga\",\"saga\",\"saga\",\"saga\",\"saga\",\"saga\",\"saga\",\"saga\"],\"y\":[0.7185833333333334,0.0,0.7185833333333334,0.7191666666666666,0.717,0.0,0.7178333333333333,0.71675,0.0,0.6654166666666667,0.7176666666666667,0.6339166666666667,0.7138333333333333,0.719,0.7185,0.7190000000000001,0.7190833333333333,0.71925,0.7175,0.717,0.7190000000000001,0.7034166666666666,0.7072499999999999,0.7193333333333334,0.719,0.7188333333333333,0.7185,0.7184166666666667,0.7175,0.7191666666666667,0.716,0.6478333333333333,0.6558333333333333,0.71775,0.7178333333333333,0.0,0.7184166666666667,0.7185833333333332,0.7188333333333333,0.7184999999999999,0.71725,0.7175,0.7186666666666667,0.71825,0.7186666666666666,0.7180833333333333,0.7184166666666667,0.7112499999999999,0.7076666666666667,0.71725],\"type\":\"scatter\",\"xaxis\":\"x5\",\"yaxis\":\"y5\"}],                        {\"template\":{\"data\":{\"histogram2dcontour\":[{\"type\":\"histogram2dcontour\",\"colorbar\":{\"outlinewidth\":0,\"ticks\":\"\"},\"colorscale\":[[0.0,\"#0d0887\"],[0.1111111111111111,\"#46039f\"],[0.2222222222222222,\"#7201a8\"],[0.3333333333333333,\"#9c179e\"],[0.4444444444444444,\"#bd3786\"],[0.5555555555555556,\"#d8576b\"],[0.6666666666666666,\"#ed7953\"],[0.7777777777777778,\"#fb9f3a\"],[0.8888888888888888,\"#fdca26\"],[1.0,\"#f0f921\"]]}],\"choropleth\":[{\"type\":\"choropleth\",\"colorbar\":{\"outlinewidth\":0,\"ticks\":\"\"}}],\"histogram2d\":[{\"type\":\"histogram2d\",\"colorbar\":{\"outlinewidth\":0,\"ticks\":\"\"},\"colorscale\":[[0.0,\"#0d0887\"],[0.1111111111111111,\"#46039f\"],[0.2222222222222222,\"#7201a8\"],[0.3333333333333333,\"#9c179e\"],[0.4444444444444444,\"#bd3786\"],[0.5555555555555556,\"#d8576b\"],[0.6666666666666666,\"#ed7953\"],[0.7777777777777778,\"#fb9f3a\"],[0.8888888888888888,\"#fdca26\"],[1.0,\"#f0f921\"]]}],\"heatmap\":[{\"type\":\"heatmap\",\"colorbar\":{\"outlinewidth\":0,\"ticks\":\"\"},\"colorscale\":[[0.0,\"#0d0887\"],[0.1111111111111111,\"#46039f\"],[0.2222222222222222,\"#7201a8\"],[0.3333333333333333,\"#9c179e\"],[0.4444444444444444,\"#bd3786\"],[0.5555555555555556,\"#d8576b\"],[0.6666666666666666,\"#ed7953\"],[0.7777777777777778,\"#fb9f3a\"],[0.8888888888888888,\"#fdca26\"],[1.0,\"#f0f921\"]]}],\"heatmapgl\":[{\"type\":\"heatmapgl\",\"colorbar\":{\"outlinewidth\":0,\"ticks\":\"\"},\"colorscale\":[[0.0,\"#0d0887\"],[0.1111111111111111,\"#46039f\"],[0.2222222222222222,\"#7201a8\"],[0.3333333333333333,\"#9c179e\"],[0.4444444444444444,\"#bd3786\"],[0.5555555555555556,\"#d8576b\"],[0.6666666666666666,\"#ed7953\"],[0.7777777777777778,\"#fb9f3a\"],[0.8888888888888888,\"#fdca26\"],[1.0,\"#f0f921\"]]}],\"contourcarpet\":[{\"type\":\"contourcarpet\",\"colorbar\":{\"outlinewidth\":0,\"ticks\":\"\"}}],\"contour\":[{\"type\":\"contour\",\"colorbar\":{\"outlinewidth\":0,\"ticks\":\"\"},\"colorscale\":[[0.0,\"#0d0887\"],[0.1111111111111111,\"#46039f\"],[0.2222222222222222,\"#7201a8\"],[0.3333333333333333,\"#9c179e\"],[0.4444444444444444,\"#bd3786\"],[0.5555555555555556,\"#d8576b\"],[0.6666666666666666,\"#ed7953\"],[0.7777777777777778,\"#fb9f3a\"],[0.8888888888888888,\"#fdca26\"],[1.0,\"#f0f921\"]]}],\"surface\":[{\"type\":\"surface\",\"colorbar\":{\"outlinewidth\":0,\"ticks\":\"\"},\"colorscale\":[[0.0,\"#0d0887\"],[0.1111111111111111,\"#46039f\"],[0.2222222222222222,\"#7201a8\"],[0.3333333333333333,\"#9c179e\"],[0.4444444444444444,\"#bd3786\"],[0.5555555555555556,\"#d8576b\"],[0.6666666666666666,\"#ed7953\"],[0.7777777777777778,\"#fb9f3a\"],[0.8888888888888888,\"#fdca26\"],[1.0,\"#f0f921\"]]}],\"mesh3d\":[{\"type\":\"mesh3d\",\"colorbar\":{\"outlinewidth\":0,\"ticks\":\"\"}}],\"scatter\":[{\"fillpattern\":{\"fillmode\":\"overlay\",\"size\":10,\"solidity\":0.2},\"type\":\"scatter\"}],\"parcoords\":[{\"type\":\"parcoords\",\"line\":{\"colorbar\":{\"outlinewidth\":0,\"ticks\":\"\"}}}],\"scatterpolargl\":[{\"type\":\"scatterpolargl\",\"marker\":{\"colorbar\":{\"outlinewidth\":0,\"ticks\":\"\"}}}],\"bar\":[{\"error_x\":{\"color\":\"#2a3f5f\"},\"error_y\":{\"color\":\"#2a3f5f\"},\"marker\":{\"line\":{\"color\":\"#E5ECF6\",\"width\":0.5},\"pattern\":{\"fillmode\":\"overlay\",\"size\":10,\"solidity\":0.2}},\"type\":\"bar\"}],\"scattergeo\":[{\"type\":\"scattergeo\",\"marker\":{\"colorbar\":{\"outlinewidth\":0,\"ticks\":\"\"}}}],\"scatterpolar\":[{\"type\":\"scatterpolar\",\"marker\":{\"colorbar\":{\"outlinewidth\":0,\"ticks\":\"\"}}}],\"histogram\":[{\"marker\":{\"pattern\":{\"fillmode\":\"overlay\",\"size\":10,\"solidity\":0.2}},\"type\":\"histogram\"}],\"scattergl\":[{\"type\":\"scattergl\",\"marker\":{\"colorbar\":{\"outlinewidth\":0,\"ticks\":\"\"}}}],\"scatter3d\":[{\"type\":\"scatter3d\",\"line\":{\"colorbar\":{\"outlinewidth\":0,\"ticks\":\"\"}},\"marker\":{\"colorbar\":{\"outlinewidth\":0,\"ticks\":\"\"}}}],\"scattermapbox\":[{\"type\":\"scattermapbox\",\"marker\":{\"colorbar\":{\"outlinewidth\":0,\"ticks\":\"\"}}}],\"scatterternary\":[{\"type\":\"scatterternary\",\"marker\":{\"colorbar\":{\"outlinewidth\":0,\"ticks\":\"\"}}}],\"scattercarpet\":[{\"type\":\"scattercarpet\",\"marker\":{\"colorbar\":{\"outlinewidth\":0,\"ticks\":\"\"}}}],\"carpet\":[{\"aaxis\":{\"endlinecolor\":\"#2a3f5f\",\"gridcolor\":\"white\",\"linecolor\":\"white\",\"minorgridcolor\":\"white\",\"startlinecolor\":\"#2a3f5f\"},\"baxis\":{\"endlinecolor\":\"#2a3f5f\",\"gridcolor\":\"white\",\"linecolor\":\"white\",\"minorgridcolor\":\"white\",\"startlinecolor\":\"#2a3f5f\"},\"type\":\"carpet\"}],\"table\":[{\"cells\":{\"fill\":{\"color\":\"#EBF0F8\"},\"line\":{\"color\":\"white\"}},\"header\":{\"fill\":{\"color\":\"#C8D4E3\"},\"line\":{\"color\":\"white\"}},\"type\":\"table\"}],\"barpolar\":[{\"marker\":{\"line\":{\"color\":\"#E5ECF6\",\"width\":0.5},\"pattern\":{\"fillmode\":\"overlay\",\"size\":10,\"solidity\":0.2}},\"type\":\"barpolar\"}],\"pie\":[{\"automargin\":true,\"type\":\"pie\"}]},\"layout\":{\"autotypenumbers\":\"strict\",\"colorway\":[\"#636efa\",\"#EF553B\",\"#00cc96\",\"#ab63fa\",\"#FFA15A\",\"#19d3f3\",\"#FF6692\",\"#B6E880\",\"#FF97FF\",\"#FECB52\"],\"font\":{\"color\":\"#2a3f5f\"},\"hovermode\":\"closest\",\"hoverlabel\":{\"align\":\"left\"},\"paper_bgcolor\":\"white\",\"plot_bgcolor\":\"#E5ECF6\",\"polar\":{\"bgcolor\":\"#E5ECF6\",\"angularaxis\":{\"gridcolor\":\"white\",\"linecolor\":\"white\",\"ticks\":\"\"},\"radialaxis\":{\"gridcolor\":\"white\",\"linecolor\":\"white\",\"ticks\":\"\"}},\"ternary\":{\"bgcolor\":\"#E5ECF6\",\"aaxis\":{\"gridcolor\":\"white\",\"linecolor\":\"white\",\"ticks\":\"\"},\"baxis\":{\"gridcolor\":\"white\",\"linecolor\":\"white\",\"ticks\":\"\"},\"caxis\":{\"gridcolor\":\"white\",\"linecolor\":\"white\",\"ticks\":\"\"}},\"coloraxis\":{\"colorbar\":{\"outlinewidth\":0,\"ticks\":\"\"}},\"colorscale\":{\"sequential\":[[0.0,\"#0d0887\"],[0.1111111111111111,\"#46039f\"],[0.2222222222222222,\"#7201a8\"],[0.3333333333333333,\"#9c179e\"],[0.4444444444444444,\"#bd3786\"],[0.5555555555555556,\"#d8576b\"],[0.6666666666666666,\"#ed7953\"],[0.7777777777777778,\"#fb9f3a\"],[0.8888888888888888,\"#fdca26\"],[1.0,\"#f0f921\"]],\"sequentialminus\":[[0.0,\"#0d0887\"],[0.1111111111111111,\"#46039f\"],[0.2222222222222222,\"#7201a8\"],[0.3333333333333333,\"#9c179e\"],[0.4444444444444444,\"#bd3786\"],[0.5555555555555556,\"#d8576b\"],[0.6666666666666666,\"#ed7953\"],[0.7777777777777778,\"#fb9f3a\"],[0.8888888888888888,\"#fdca26\"],[1.0,\"#f0f921\"]],\"diverging\":[[0,\"#8e0152\"],[0.1,\"#c51b7d\"],[0.2,\"#de77ae\"],[0.3,\"#f1b6da\"],[0.4,\"#fde0ef\"],[0.5,\"#f7f7f7\"],[0.6,\"#e6f5d0\"],[0.7,\"#b8e186\"],[0.8,\"#7fbc41\"],[0.9,\"#4d9221\"],[1,\"#276419\"]]},\"xaxis\":{\"gridcolor\":\"white\",\"linecolor\":\"white\",\"ticks\":\"\",\"title\":{\"standoff\":15},\"zerolinecolor\":\"white\",\"automargin\":true,\"zerolinewidth\":2},\"yaxis\":{\"gridcolor\":\"white\",\"linecolor\":\"white\",\"ticks\":\"\",\"title\":{\"standoff\":15},\"zerolinecolor\":\"white\",\"automargin\":true,\"zerolinewidth\":2},\"scene\":{\"xaxis\":{\"backgroundcolor\":\"#E5ECF6\",\"gridcolor\":\"white\",\"linecolor\":\"white\",\"showbackground\":true,\"ticks\":\"\",\"zerolinecolor\":\"white\",\"gridwidth\":2},\"yaxis\":{\"backgroundcolor\":\"#E5ECF6\",\"gridcolor\":\"white\",\"linecolor\":\"white\",\"showbackground\":true,\"ticks\":\"\",\"zerolinecolor\":\"white\",\"gridwidth\":2},\"zaxis\":{\"backgroundcolor\":\"#E5ECF6\",\"gridcolor\":\"white\",\"linecolor\":\"white\",\"showbackground\":true,\"ticks\":\"\",\"zerolinecolor\":\"white\",\"gridwidth\":2}},\"shapedefaults\":{\"line\":{\"color\":\"#2a3f5f\"}},\"annotationdefaults\":{\"arrowcolor\":\"#2a3f5f\",\"arrowhead\":0,\"arrowwidth\":1},\"geo\":{\"bgcolor\":\"white\",\"landcolor\":\"#E5ECF6\",\"subunitcolor\":\"white\",\"showland\":true,\"showlakes\":true,\"lakecolor\":\"white\"},\"title\":{\"x\":0.05},\"mapbox\":{\"style\":\"light\"}}},\"xaxis\":{\"anchor\":\"y\",\"domain\":[0.0,0.16799999999999998],\"title\":{\"text\":\"C\"},\"type\":\"log\"},\"yaxis\":{\"anchor\":\"x\",\"domain\":[0.0,1.0],\"title\":{\"text\":\"Objective Value\"}},\"xaxis2\":{\"anchor\":\"y2\",\"domain\":[0.208,0.376],\"title\":{\"text\":\"class_weight\"},\"type\":\"category\",\"categoryorder\":\"array\",\"categoryarray\":[null,\"balanced\"]},\"yaxis2\":{\"anchor\":\"x2\",\"domain\":[0.0,1.0],\"matches\":\"y\",\"showticklabels\":false},\"xaxis3\":{\"anchor\":\"y3\",\"domain\":[0.416,0.584],\"title\":{\"text\":\"l1_ratio\"}},\"yaxis3\":{\"anchor\":\"x3\",\"domain\":[0.0,1.0],\"matches\":\"y\",\"showticklabels\":false},\"xaxis4\":{\"anchor\":\"y4\",\"domain\":[0.624,0.792],\"title\":{\"text\":\"penalty\"},\"type\":\"category\",\"categoryorder\":\"array\",\"categoryarray\":[\"l1\",\"l2\",\"elasticnet\",null]},\"yaxis4\":{\"anchor\":\"x4\",\"domain\":[0.0,1.0],\"matches\":\"y\",\"showticklabels\":false},\"xaxis5\":{\"anchor\":\"y5\",\"domain\":[0.832,1.0],\"title\":{\"text\":\"solver\"},\"type\":\"category\",\"categoryorder\":\"array\",\"categoryarray\":[\"liblinear\",\"lbfgs\",\"saga\"]},\"yaxis5\":{\"anchor\":\"x5\",\"domain\":[0.0,1.0],\"matches\":\"y\",\"showticklabels\":false},\"title\":{\"text\":\"Slice Plot\"},\"width\":1500},                        {\"responsive\": true}                    ).then(function(){\n",
              "                            \n",
              "var gd = document.getElementById('f6598134-cc4f-4833-9994-05f0973295b3');\n",
              "var x = new MutationObserver(function (mutations, observer) {{\n",
              "        var display = window.getComputedStyle(gd).display;\n",
              "        if (!display || display === 'none') {{\n",
              "            console.log([gd, 'removed!']);\n",
              "            Plotly.purge(gd);\n",
              "            observer.disconnect();\n",
              "        }}\n",
              "}});\n",
              "\n",
              "// Listen for the removal of the full notebook cells\n",
              "var notebookContainer = gd.closest('#notebook-container');\n",
              "if (notebookContainer) {{\n",
              "    x.observe(notebookContainer, {childList: true});\n",
              "}}\n",
              "\n",
              "// Listen for the clearing of the current output cell\n",
              "var outputEl = gd.closest('.output');\n",
              "if (outputEl) {{\n",
              "    x.observe(outputEl, {childList: true});\n",
              "}}\n",
              "\n",
              "                        })                };                            </script>        </div>\n",
              "</body>\n",
              "</html>"
            ]
          },
          "metadata": {}
        }
      ]
    },
    {
      "cell_type": "code",
      "source": [
        "from sklearn.metrics import classification_report\n",
        "\n",
        "lr_model = LogisticRegression(**study.best_params, max_iter=1000)\n",
        "lr_model.fit(X_train_w2v, y_train_w2v)\n",
        "\n",
        "# prédiction\n",
        "y_pred = lr_model.predict(X_valid_w2v)\n",
        "\n",
        "# évaluation\n",
        "print(\"Accuracy:\", accuracy_score(y_valid_w2v, y_pred))\n",
        "print(classification_report(y_valid_w2v, y_pred))"
      ],
      "metadata": {
        "id": "VCBOEQYi_sXP",
        "outputId": "f41f6c10-7ac7-4886-b952-4488772a9efd",
        "colab": {
          "base_uri": "https://localhost:8080/"
        }
      },
      "execution_count": 96,
      "outputs": [
        {
          "output_type": "stream",
          "name": "stdout",
          "text": [
            "Accuracy: 0.72225\n",
            "              precision    recall  f1-score   support\n",
            "\n",
            "           0       0.72      0.72      0.72      2000\n",
            "           1       0.72      0.73      0.72      2000\n",
            "\n",
            "    accuracy                           0.72      4000\n",
            "   macro avg       0.72      0.72      0.72      4000\n",
            "weighted avg       0.72      0.72      0.72      4000\n",
            "\n"
          ]
        }
      ]
    },
    {
      "cell_type": "code",
      "source": [
        "import pickle\n",
        "pickle.dump(lr_model, open(os.path.join(path, \"lr_model.pkl\"), \"wb\"))"
      ],
      "metadata": {
        "id": "FQksCpiLcZx0"
      },
      "execution_count": null,
      "outputs": []
    },
    {
      "cell_type": "markdown",
      "source": [
        "# Approche 2: Modèle sur mesure avancé (Reseau de Neurone)"
      ],
      "metadata": {
        "id": "xFkplq7MZ90y"
      }
    },
    {
      "cell_type": "code",
      "source": [
        "from tensorflow.keras.models import Sequential\n",
        "from tensorflow.keras.layers import Embedding, Bidirectional, LSTM, Dense, Dropout\n",
        "\n",
        "def build_model(embeddings, input_dim=300, output_dim=300):\n",
        "  model = Sequential()\n",
        "  model.add(Embedding(input_dim=input_dim, output_dim=output_dim, weights=embeddings))\n",
        "  model.add(Bidirectional(LSTM(64, return_sequences=False)))\n",
        "  model.add(Dropout(0.5))\n",
        "  model.add(Dense(32, activation='relu'))\n",
        "  model.add(Dense(1, activation='sigmoid'))  # pour classification binaire\n",
        "\n",
        "  return model"
      ],
      "metadata": {
        "id": "ALfZgzwTQ2IW"
      },
      "execution_count": 31,
      "outputs": []
    },
    {
      "cell_type": "code",
      "source": [
        "%%time\n",
        "model = build_model(tweets_embeddings_word2vec, input_dim=tweets_embeddings_word2vec.shape[0])\n",
        "model.compile(loss='binary_crossentropy', optimizer='adam', metrics=['accuracy'])\n",
        "model.summary()"
      ],
      "metadata": {
        "id": "lWxkJS4UTja9",
        "outputId": "b076d47a-3348-42ee-826c-ea69d2612995",
        "colab": {
          "base_uri": "https://localhost:8080/",
          "height": 335
        }
      },
      "execution_count": 32,
      "outputs": [
        {
          "output_type": "display_data",
          "data": {
            "text/plain": [
              "\u001b[1mModel: \"sequential\"\u001b[0m\n"
            ],
            "text/html": [
              "<pre style=\"white-space:pre;overflow-x:auto;line-height:normal;font-family:Menlo,'DejaVu Sans Mono',consolas,'Courier New',monospace\"><span style=\"font-weight: bold\">Model: \"sequential\"</span>\n",
              "</pre>\n"
            ]
          },
          "metadata": {}
        },
        {
          "output_type": "display_data",
          "data": {
            "text/plain": [
              "┏━━━━━━━━━━━━━━━━━━━━━━━━━━━━━━━━━┳━━━━━━━━━━━━━━━━━━━━━━━━┳━━━━━━━━━━━━━━━┓\n",
              "┃\u001b[1m \u001b[0m\u001b[1mLayer (type)                   \u001b[0m\u001b[1m \u001b[0m┃\u001b[1m \u001b[0m\u001b[1mOutput Shape          \u001b[0m\u001b[1m \u001b[0m┃\u001b[1m \u001b[0m\u001b[1m      Param #\u001b[0m\u001b[1m \u001b[0m┃\n",
              "┡━━━━━━━━━━━━━━━━━━━━━━━━━━━━━━━━━╇━━━━━━━━━━━━━━━━━━━━━━━━╇━━━━━━━━━━━━━━━┩\n",
              "│ embedding (\u001b[38;5;33mEmbedding\u001b[0m)           │ ?                      │   \u001b[38;5;34m477,921,300\u001b[0m │\n",
              "├─────────────────────────────────┼────────────────────────┼───────────────┤\n",
              "│ bidirectional (\u001b[38;5;33mBidirectional\u001b[0m)   │ ?                      │   \u001b[38;5;34m0\u001b[0m (unbuilt) │\n",
              "├─────────────────────────────────┼────────────────────────┼───────────────┤\n",
              "│ dropout (\u001b[38;5;33mDropout\u001b[0m)               │ ?                      │             \u001b[38;5;34m0\u001b[0m │\n",
              "├─────────────────────────────────┼────────────────────────┼───────────────┤\n",
              "│ dense (\u001b[38;5;33mDense\u001b[0m)                   │ ?                      │   \u001b[38;5;34m0\u001b[0m (unbuilt) │\n",
              "├─────────────────────────────────┼────────────────────────┼───────────────┤\n",
              "│ dense_1 (\u001b[38;5;33mDense\u001b[0m)                 │ ?                      │   \u001b[38;5;34m0\u001b[0m (unbuilt) │\n",
              "└─────────────────────────────────┴────────────────────────┴───────────────┘\n"
            ],
            "text/html": [
              "<pre style=\"white-space:pre;overflow-x:auto;line-height:normal;font-family:Menlo,'DejaVu Sans Mono',consolas,'Courier New',monospace\">┏━━━━━━━━━━━━━━━━━━━━━━━━━━━━━━━━━┳━━━━━━━━━━━━━━━━━━━━━━━━┳━━━━━━━━━━━━━━━┓\n",
              "┃<span style=\"font-weight: bold\"> Layer (type)                    </span>┃<span style=\"font-weight: bold\"> Output Shape           </span>┃<span style=\"font-weight: bold\">       Param # </span>┃\n",
              "┡━━━━━━━━━━━━━━━━━━━━━━━━━━━━━━━━━╇━━━━━━━━━━━━━━━━━━━━━━━━╇━━━━━━━━━━━━━━━┩\n",
              "│ embedding (<span style=\"color: #0087ff; text-decoration-color: #0087ff\">Embedding</span>)           │ ?                      │   <span style=\"color: #00af00; text-decoration-color: #00af00\">477,921,300</span> │\n",
              "├─────────────────────────────────┼────────────────────────┼───────────────┤\n",
              "│ bidirectional (<span style=\"color: #0087ff; text-decoration-color: #0087ff\">Bidirectional</span>)   │ ?                      │   <span style=\"color: #00af00; text-decoration-color: #00af00\">0</span> (unbuilt) │\n",
              "├─────────────────────────────────┼────────────────────────┼───────────────┤\n",
              "│ dropout (<span style=\"color: #0087ff; text-decoration-color: #0087ff\">Dropout</span>)               │ ?                      │             <span style=\"color: #00af00; text-decoration-color: #00af00\">0</span> │\n",
              "├─────────────────────────────────┼────────────────────────┼───────────────┤\n",
              "│ dense (<span style=\"color: #0087ff; text-decoration-color: #0087ff\">Dense</span>)                   │ ?                      │   <span style=\"color: #00af00; text-decoration-color: #00af00\">0</span> (unbuilt) │\n",
              "├─────────────────────────────────┼────────────────────────┼───────────────┤\n",
              "│ dense_1 (<span style=\"color: #0087ff; text-decoration-color: #0087ff\">Dense</span>)                 │ ?                      │   <span style=\"color: #00af00; text-decoration-color: #00af00\">0</span> (unbuilt) │\n",
              "└─────────────────────────────────┴────────────────────────┴───────────────┘\n",
              "</pre>\n"
            ]
          },
          "metadata": {}
        },
        {
          "output_type": "display_data",
          "data": {
            "text/plain": [
              "\u001b[1m Total params: \u001b[0m\u001b[38;5;34m477,921,300\u001b[0m (1.78 GB)\n"
            ],
            "text/html": [
              "<pre style=\"white-space:pre;overflow-x:auto;line-height:normal;font-family:Menlo,'DejaVu Sans Mono',consolas,'Courier New',monospace\"><span style=\"font-weight: bold\"> Total params: </span><span style=\"color: #00af00; text-decoration-color: #00af00\">477,921,300</span> (1.78 GB)\n",
              "</pre>\n"
            ]
          },
          "metadata": {}
        },
        {
          "output_type": "display_data",
          "data": {
            "text/plain": [
              "\u001b[1m Trainable params: \u001b[0m\u001b[38;5;34m477,921,300\u001b[0m (1.78 GB)\n"
            ],
            "text/html": [
              "<pre style=\"white-space:pre;overflow-x:auto;line-height:normal;font-family:Menlo,'DejaVu Sans Mono',consolas,'Courier New',monospace\"><span style=\"font-weight: bold\"> Trainable params: </span><span style=\"color: #00af00; text-decoration-color: #00af00\">477,921,300</span> (1.78 GB)\n",
              "</pre>\n"
            ]
          },
          "metadata": {}
        },
        {
          "output_type": "display_data",
          "data": {
            "text/plain": [
              "\u001b[1m Non-trainable params: \u001b[0m\u001b[38;5;34m0\u001b[0m (0.00 B)\n"
            ],
            "text/html": [
              "<pre style=\"white-space:pre;overflow-x:auto;line-height:normal;font-family:Menlo,'DejaVu Sans Mono',consolas,'Courier New',monospace\"><span style=\"font-weight: bold\"> Non-trainable params: </span><span style=\"color: #00af00; text-decoration-color: #00af00\">0</span> (0.00 B)\n",
              "</pre>\n"
            ]
          },
          "metadata": {}
        },
        {
          "output_type": "stream",
          "name": "stdout",
          "text": [
            "CPU times: user 7.7 s, sys: 17.2 s, total: 24.9 s\n",
            "Wall time: 35.6 s\n"
          ]
        }
      ]
    },
    {
      "cell_type": "markdown",
      "source": [
        "## | Word2Vec"
      ],
      "metadata": {
        "id": "3uKHYumiSAv8"
      }
    },
    {
      "cell_type": "markdown",
      "source": [
        "## | FastText"
      ],
      "metadata": {
        "id": "4uzSFd6vSG8r"
      }
    }
  ],
  "metadata": {
    "kernelspec": {
      "display_name": "Python 3 (ipykernel)",
      "language": "python",
      "name": "python3"
    },
    "language_info": {
      "codemirror_mode": {
        "name": "ipython",
        "version": 3
      },
      "file_extension": ".py",
      "mimetype": "text/x-python",
      "name": "python",
      "nbconvert_exporter": "python",
      "pygments_lexer": "ipython3",
      "version": "3.13.2"
    },
    "papermill": {
      "duration": 500.435762,
      "end_time": "2020-08-26T21:07:20.093709",
      "environment_variables": {},
      "exception": null,
      "input_path": "__notebook__.ipynb",
      "output_path": "__notebook__.ipynb",
      "parameters": {},
      "start_time": "2020-08-26T20:58:59.657947",
      "version": "2.1.0"
    },
    "colab": {
      "provenance": [],
      "toc_visible": true
    }
  },
  "nbformat": 4,
  "nbformat_minor": 0
}