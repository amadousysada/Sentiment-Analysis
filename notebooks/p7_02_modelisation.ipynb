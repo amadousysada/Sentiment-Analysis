{
  "cells": [
    {
      "cell_type": "markdown",
      "source": [
        "# Import des librairies"
      ],
      "metadata": {
        "id": "hwecoVR_24PI"
      }
    },
    {
      "cell_type": "code",
      "execution_count": 1,
      "metadata": {
        "execution": {
          "iopub.execute_input": "2020-08-26T20:59:06.289122Z",
          "iopub.status.busy": "2020-08-26T20:59:06.288192Z",
          "iopub.status.idle": "2020-08-26T20:59:08.802804Z",
          "shell.execute_reply": "2020-08-26T20:59:08.802075Z"
        },
        "papermill": {
          "duration": 2.557066,
          "end_time": "2020-08-26T20:59:08.802938",
          "exception": false,
          "start_time": "2020-08-26T20:59:06.245872",
          "status": "completed"
        },
        "scrolled": true,
        "tags": [],
        "colab": {
          "base_uri": "https://localhost:8080/"
        },
        "id": "4DO_uFhC0Qsr",
        "outputId": "b4392517-f4c5-4e81-ab3a-5b808e0d734b"
      },
      "outputs": [
        {
          "output_type": "stream",
          "name": "stdout",
          "text": [
            "Python version: 3.11.12 (main, Apr  9 2025, 08:55:54) [GCC 11.4.0]\n",
            "Version info.: sys.version_info(major=3, minor=11, micro=12, releaselevel='final', serial=0)\n",
            "pandas version: 2.2.2\n",
            "numpy version: 2.0.2\n",
            "skearn version: 1.6.1\n",
            "re version: 2.2.1\n",
            "tensorflow version: 2.18.0\n",
            "tensorflow_hub version: 0.16.1\n",
            "tensorflow_text version: 2.18.1\n",
            "CPU times: user 7.46 s, sys: 1.79 s, total: 9.25 s\n",
            "Wall time: 13.2 s\n"
          ]
        }
      ],
      "source": [
        "%%time\n",
        "import time\n",
        "init_time = time.time()\n",
        "\n",
        "import os\n",
        "import sys\n",
        "import warnings\n",
        "warnings.filterwarnings(\"ignore\", category=FutureWarning)\n",
        "\n",
        "if not sys.warnoptions:\n",
        "    warnings.simplefilter(\"ignore\")\n",
        "\n",
        "import numpy as np\n",
        "import pandas as pd\n",
        "import sklearn\n",
        "\n",
        "from matplotlib import pyplot as plt\n",
        "from matplotlib.gridspec import GridSpec\n",
        "\n",
        "\n",
        "import seaborn as sns\n",
        "\n",
        "import string\n",
        "import re\n",
        "\n",
        "# Tensorflow\n",
        "import tensorflow as tf\n",
        "import tensorflow_hub as hub\n",
        "import tensorflow_text as text\n",
        "\n",
        "#Scikit-learn\n",
        "from sklearn.naive_bayes import GaussianNB\n",
        "from sklearn.linear_model import LogisticRegression, RidgeClassifier\n",
        "from sklearn.naive_bayes import GaussianNB\n",
        "from sklearn.discriminant_analysis import LinearDiscriminantAnalysis as LDA\n",
        "from sklearn.model_selection import cross_val_score, train_test_split, StratifiedKFold\n",
        "from sklearn.metrics import accuracy_score, f1_score, roc_auc_score, recall_score, precision_score, mean_squared_error, r2_score\n",
        "from sklearn.calibration import CalibrationDisplay\n",
        "from sklearn.ensemble import RandomForestClassifier\n",
        "from sklearn.svm import LinearSVC\n",
        "\n",
        "from xgboost import XGBClassifier\n",
        "\n",
        "# Modèles de Boosting\n",
        "from xgboost import XGBClassifier\n",
        "from lightgbm import LGBMClassifier\n",
        "\n",
        "\n",
        "print(\"Python version:\", sys.version)\n",
        "print(\"Version info.:\", sys.version_info)\n",
        "print(\"pandas version:\", pd.__version__)\n",
        "print(\"numpy version:\", np.__version__)\n",
        "print(\"skearn version:\", sklearn.__version__)\n",
        "print(\"re version:\", re.__version__)\n",
        "#print(\"nltk version:\", nltk.__version__)\n",
        "print(\"tensorflow version:\", tf.__version__)\n",
        "print(\"tensorflow_hub version:\", hub.__version__)\n",
        "print(\"tensorflow_text version:\", text.__version__)"
      ]
    },
    {
      "cell_type": "markdown",
      "metadata": {
        "papermill": {
          "duration": 0.02595,
          "end_time": "2020-08-26T20:59:08.856139",
          "exception": false,
          "start_time": "2020-08-26T20:59:08.830189",
          "status": "completed"
        },
        "tags": [],
        "id": "0yR7Xntu0Qss"
      },
      "source": [
        "# Chargement des données"
      ]
    },
    {
      "cell_type": "code",
      "source": [
        "path = \"/content/drive/MyDrive/data/sentiments\"\n",
        "#path = \"./data/sentiments\""
      ],
      "metadata": {
        "id": "R-voC08WLnhy"
      },
      "execution_count": 2,
      "outputs": []
    },
    {
      "cell_type": "code",
      "source": [
        "for name in [\"tweets_df_tfidf_1gram\", \"embeddings_bert\", \"embeddings_fasttext\", \"embeddings_word2vec\"]:\n",
        "    size = os.path.getsize(os.path.join(path, f\"{name}.npy\")) / 1e6\n",
        "    print(f\"{name}: {size:.2f} MB\")"
      ],
      "metadata": {
        "colab": {
          "base_uri": "https://localhost:8080/"
        },
        "id": "X8mLJj6lu2HA",
        "outputId": "c431324b-9cc2-45a2-cc93-36559a48c804"
      },
      "execution_count": 3,
      "outputs": [
        {
          "output_type": "stream",
          "name": "stdout",
          "text": [
            "tweets_df_tfidf_1gram: 80.46 MB\n",
            "embeddings_bert: 30.72 MB\n",
            "embeddings_fasttext: 3823.37 MB\n",
            "embeddings_word2vec: 3823.37 MB\n"
          ]
        }
      ]
    },
    {
      "cell_type": "code",
      "source": [
        "%%time\n",
        "tweets_df_tfidf_1gram = np.load(os.path.join(path, \"tweets_df_tfidf_1gram.npy\"), allow_pickle=True)\n",
        "\n",
        "tweets_embeddings_bert = np.load(os.path.join(path, \"embeddings_bert.npy\"), allow_pickle=True)\n",
        "tweets_embeddings_fasttext = np.load(os.path.join(path, \"embeddings_fasttext.npy\"), mmap_mode='r')\n",
        "tweets_embeddings_word2vec = np.load(os.path.join(path, \"embeddings_word2vec.npy\"), mmap_mode='r')"
      ],
      "metadata": {
        "id": "hQrTqDqRLtFP",
        "outputId": "183c8e8e-00c9-4ade-fe63-93091774dfd1",
        "colab": {
          "base_uri": "https://localhost:8080/"
        }
      },
      "execution_count": 4,
      "outputs": [
        {
          "output_type": "stream",
          "name": "stdout",
          "text": [
            "CPU times: user 5.48 ms, sys: 665 ms, total: 670 ms\n",
            "Wall time: 1.25 s\n"
          ]
        }
      ]
    },
    {
      "cell_type": "code",
      "source": [
        "print(tweets_df_tfidf_1gram.item().shape)\n",
        "print(tweets_embeddings_word2vec.shape)\n",
        "print(tweets_embeddings_fasttext.shape)\n",
        "print(tweets_embeddings_bert.shape)"
      ],
      "metadata": {
        "id": "ilbCvRzROnEe",
        "outputId": "eda5669e-942c-454b-8579-46f6c4f7eeb8",
        "colab": {
          "base_uri": "https://localhost:8080/"
        }
      },
      "execution_count": 5,
      "outputs": [
        {
          "output_type": "stream",
          "name": "stdout",
          "text": [
            "(1593071, 500)\n",
            "(1593071, 300)\n",
            "(1593071, 300)\n",
            "(10000, 768)\n"
          ]
        }
      ]
    },
    {
      "cell_type": "markdown",
      "source": [
        "> Chargement de la variable cible"
      ],
      "metadata": {
        "id": "6Q3cKj798QPQ"
      }
    },
    {
      "cell_type": "code",
      "source": [
        "# Variable cible\n",
        "Y = np.load(os.path.join(path, \"targets.npy\"), allow_pickle=True)\n",
        "display(Y.shape)"
      ],
      "metadata": {
        "colab": {
          "base_uri": "https://localhost:8080/",
          "height": 35
        },
        "id": "ehajTkli8N88",
        "outputId": "bd98e157-febf-4be8-c232-e550eeb6a9eb"
      },
      "execution_count": 6,
      "outputs": [
        {
          "output_type": "display_data",
          "data": {
            "text/plain": [
              "(1593071,)"
            ]
          },
          "metadata": {}
        }
      ]
    },
    {
      "cell_type": "code",
      "source": [
        "def plot_distribution(y_train, y_val, y_test):\n",
        "  # Création des distributions\n",
        "  dist_df = pd.DataFrame({\n",
        "      \"Train set\": pd.Series(y_train).value_counts(normalize=True),\n",
        "      \"Validation set\": pd.Series(y_val).value_counts(normalize=True),\n",
        "      \"Test set\": pd.Series(y_test).value_counts(normalize=True)\n",
        "  }).T\n",
        "\n",
        "  # Optionnel : renommer les colonnes\n",
        "  #dist_df.columns = [\"Classe 1\", \"Classe 0\"]\n",
        "\n",
        "  # Barplot\n",
        "  dist_df.plot(kind=\"bar\", figsize=(8, 5), colormap=\"Set2\")\n",
        "  plt.title(\"Répartition des classes dans y_train, y_val et y_test\")\n",
        "  plt.ylabel(\"Proportion\")\n",
        "  plt.xticks(rotation=0)\n",
        "  plt.ylim(0, 1)\n",
        "  plt.legend(title=\"Classe\")\n",
        "  plt.tight_layout()\n",
        "  plt.show()\n",
        "\n",
        "\n",
        "def split_train_val_test(X, y, sample_size=None, test_size=0.2, val_size=0.2, random_state=42):\n",
        "    \"\"\"\n",
        "    Splitte un jeu de données en trois sous-ensembles : train, validation et test.\n",
        "\n",
        "    Paramètres :\n",
        "    -----------\n",
        "    X : array-like ou sparse matrix\n",
        "        Matrice des features (peut être dense ou sparse).\n",
        "\n",
        "    y : array-like\n",
        "        Vecteur cible (labels ou classes).\n",
        "\n",
        "    sample_size : int ou None (default=None)\n",
        "        Si spécifié, un sous-échantillon (stratifié) de cette taille est prélevé depuis X/y avant le split.\n",
        "\n",
        "    test_size : float (default=0.2)\n",
        "        Proportion du test set par rapport à l'ensemble X (ou X échantillonné).\n",
        "\n",
        "    val_size : float (default=0.2)\n",
        "        Proportion du validation set par rapport à (train + val).\n",
        "\n",
        "    random_state : int (default=42)\n",
        "        Graine pour la reproductibilité.\n",
        "\n",
        "    Retourne :\n",
        "    ---------\n",
        "    X_train, X_val, X_test, y_train, y_val, y_test : datasets splités avec stratification.\n",
        "    \"\"\"\n",
        "\n",
        "    if sample_size is not None:\n",
        "        X_sample, _, y_sample, _ = train_test_split(\n",
        "            X, y, train_size=sample_size, stratify=y, random_state=random_state\n",
        "        )\n",
        "    else:\n",
        "        X_sample, y_sample = X, y\n",
        "\n",
        "    # Split temporaire : train_val vs test\n",
        "    X_train_val, X_test, y_train_val, y_test = train_test_split(\n",
        "        X_sample, y_sample, test_size=test_size, stratify=y_sample, random_state=random_state\n",
        "    )\n",
        "\n",
        "    # Split train vs validation (sur le train_val)\n",
        "    val_split = val_size / (1 - test_size)\n",
        "    X_train, X_val, y_train, y_val = train_test_split(\n",
        "        X_train_val, y_train_val, test_size=val_split, stratify=y_train_val, random_state=random_state\n",
        "    )\n",
        "\n",
        "    return X_train, X_val, X_test, y_train, y_val, y_test\n"
      ],
      "metadata": {
        "id": "B5szwQ44_jsq"
      },
      "execution_count": 7,
      "outputs": []
    },
    {
      "cell_type": "markdown",
      "source": [
        "# Approche 1: Modéle sur mesure"
      ],
      "metadata": {
        "id": "Z34S7rCCB9Uv"
      }
    },
    {
      "cell_type": "markdown",
      "source": [
        "- Logistic Regression\n",
        "- Ridge Classifier\n",
        "- Naive Bayes\n",
        "- Light Gradient Boosting Machine\n",
        "- Gradient Boosting Classifier\n",
        "- linear discriminant analysis"
      ],
      "metadata": {
        "id": "Mqn1YSL-Lw60"
      }
    },
    {
      "cell_type": "code",
      "source": [
        "models = {\n",
        "    \"Logistic Regression\": LogisticRegression(max_iter=1000),\n",
        "    \"Ridge Classifier\": RidgeClassifier(),\n",
        "    \"XGBoost\": XGBClassifier(eval_metric='logloss', n_jobs=-1),\n",
        "    \"LightGBM\": LGBMClassifier(verbose=-1, n_jobs=-1),\n",
        "    \"Random Forest\": RandomForestClassifier(n_estimators=100),\n",
        "}"
      ],
      "metadata": {
        "id": "UZLWX9FXMNsa"
      },
      "execution_count": 8,
      "outputs": []
    },
    {
      "cell_type": "code",
      "source": [
        "from tqdm import tqdm\n",
        "tqdm.pandas()\n",
        "def evaluate_models(x_train, x_valid, y_train, y_valid, cv=3, scoring=\"accuracy\"):\n",
        "    results = []\n",
        "\n",
        "    for name, model in tqdm(models.items()):\n",
        "      start_time = time.time()\n",
        "      print(f\"Evaluating {name}...\")\n",
        "      scores = cross_val_score(model, x_train, y_train, cv=cv, scoring=scoring)\n",
        "      y_pred = model.fit(x_train, y_train).predict(x_valid)\n",
        "      results.append({\n",
        "          \"Model\": name,\n",
        "          \"score\": model.score(x_valid, y_valid),\n",
        "          \"precision\": precision_score(y_valid, y_pred),\n",
        "          \"recall\": recall_score(y_valid, y_pred),\n",
        "          \"f1\": f1_score(y_valid, y_pred),\n",
        "          \"auc\": roc_auc_score(y_valid, y_pred),\n",
        "          \"mse\": mean_squared_error(y_valid, y_pred),\n",
        "          \"train_time (s)\": time.time() - start_time\n",
        "      })\n",
        "    print(\"\\n\")\n",
        "\n",
        "    return pd.DataFrame(results).sort_values(by=\"score\", ascending=False)\n",
        "\n",
        "def show_calibration_curve(models, X_valid, y_valid, exclude=None):\n",
        "  if exclude is None:\n",
        "    exclude = []\n",
        "  fig = plt.figure(figsize=(16, 10))\n",
        "  gs = GridSpec(7, 3)\n",
        "  colors = plt.get_cmap(\"Dark2\")\n",
        "\n",
        "  ax_calibration_curve = fig.add_subplot(gs[:2, :2])\n",
        "  calibration_displays = {}\n",
        "  markers = [\"^\", \"v\", \"s\", \"o\", \"2\"]\n",
        "  for i, (name, clf) in enumerate(models.items()):\n",
        "    if name not in exclude:\n",
        "      display = CalibrationDisplay.from_estimator(\n",
        "          clf,\n",
        "          X_valid,\n",
        "          y_valid,\n",
        "          n_bins=10,\n",
        "          name=name,\n",
        "          ax=ax_calibration_curve,\n",
        "          color=colors(i),\n",
        "          marker=markers[i],\n",
        "      )\n",
        "      calibration_displays[name] = display\n",
        "\n",
        "  ax_calibration_curve.grid()\n",
        "  ax_calibration_curve.set_title(\"Calibration plots\")\n",
        "\n",
        "skf = StratifiedKFold(n_splits=4)"
      ],
      "metadata": {
        "id": "gJgKZ158Mrpp"
      },
      "execution_count": 9,
      "outputs": []
    },
    {
      "cell_type": "markdown",
      "source": [
        "## | Tf-idf"
      ],
      "metadata": {
        "id": "Xs5P0zRjWxrK"
      }
    },
    {
      "cell_type": "code",
      "source": [
        "X_train_tfidf, X_valid_tfidf, X_test_tfidf, y_train_tfidf, y_valid_tfidf, y_test_tfidf = split_train_val_test(tweets_df_tfidf_1gram.item(), Y, sample_size=20000)\n",
        "print(\"Répartition dans y_train    :\", pd.Series(y_train_tfidf).value_counts(normalize=True))\n",
        "print(\"Répartition dans y_validation:\", pd.Series(y_valid_tfidf).value_counts(normalize=True))\n",
        "print(\"Répartition dans y_test :\", pd.Series(y_test_tfidf).value_counts(normalize=True))\n",
        "plot_distribution(y_train_tfidf, y_valid_tfidf, y_test_tfidf)"
      ],
      "metadata": {
        "colab": {
          "base_uri": "https://localhost:8080/",
          "height": 672
        },
        "id": "CRsXanc9XtLS",
        "outputId": "2d68a38a-7dcd-468d-c50d-f2b976da4786"
      },
      "execution_count": 10,
      "outputs": [
        {
          "output_type": "stream",
          "name": "stdout",
          "text": [
            "Répartition dans y_train    : 1    0.500083\n",
            "0    0.499917\n",
            "Name: proportion, dtype: float64\n",
            "Répartition dans y_validation: 0    0.5\n",
            "1    0.5\n",
            "Name: proportion, dtype: float64\n",
            "Répartition dans y_test : 1    0.5\n",
            "0    0.5\n",
            "Name: proportion, dtype: float64\n"
          ]
        },
        {
          "output_type": "display_data",
          "data": {
            "text/plain": [
              "<Figure size 800x500 with 1 Axes>"
            ],
            "image/png": "[encoded data removed]"
          },
          "metadata": {}
        }
      ]
    },
    {
      "cell_type": "code",
      "source": [
        "skf.get_n_splits(X_train_tfidf, y_train_tfidf)\n",
        "for i, (train_index, test_index) in enumerate(skf.split(X_train_tfidf, y_train_tfidf)):\n",
        "    print(f\"Fold {i}:\")\n",
        "    print(f\"  Train: index={train_index}\")\n",
        "    print(f\"  Test:  index={test_index}\")"
      ],
      "metadata": {
        "colab": {
          "base_uri": "https://localhost:8080/"
        },
        "id": "LwmhkTjzVEj2",
        "outputId": "7934e5c1-ccd6-4f25-bcf3-0133c66e4645"
      },
      "execution_count": 11,
      "outputs": [
        {
          "output_type": "stream",
          "name": "stdout",
          "text": [
            "Fold 0:\n",
            "  Train: index=[ 2890  2891  2892 ... 11997 11998 11999]\n",
            "  Test:  index=[   0    1    2 ... 3107 3108 3109]\n",
            "Fold 1:\n",
            "  Train: index=[    0     1     2 ... 11997 11998 11999]\n",
            "  Test:  index=[2890 2891 2892 ... 5997 5999 6000]\n",
            "Fold 2:\n",
            "  Train: index=[    0     1     2 ... 11997 11998 11999]\n",
            "  Test:  index=[5998 6001 6002 ... 8999 9001 9004]\n",
            "Fold 3:\n",
            "  Train: index=[   0    1    2 ... 8999 9001 9004]\n",
            "  Test:  index=[ 8994  8995  9000 ... 11997 11998 11999]\n"
          ]
        }
      ]
    },
    {
      "cell_type": "code",
      "source": [
        "%%time\n",
        "tfidf_results_df = evaluate_models(X_train_tfidf, X_valid_tfidf, y_train_tfidf, y_valid_tfidf, cv=skf)"
      ],
      "metadata": {
        "colab": {
          "base_uri": "https://localhost:8080/"
        },
        "id": "yM0hEsvqYObk",
        "outputId": "fa85ca3c-34e2-40f7-b172-7292133bfbc9"
      },
      "execution_count": 12,
      "outputs": [
        {
          "output_type": "stream",
          "name": "stderr",
          "text": [
            " 20%|██        | 1/5 [00:00<00:00,  6.76it/s]"
          ]
        },
        {
          "output_type": "stream",
          "name": "stdout",
          "text": [
            "Evaluating Logistic Regression...\n",
            "Evaluating Ridge Classifier...\n"
          ]
        },
        {
          "output_type": "stream",
          "name": "stderr",
          "text": [
            "\r 40%|████      | 2/5 [00:00<00:00,  6.95it/s]"
          ]
        },
        {
          "output_type": "stream",
          "name": "stdout",
          "text": [
            "Evaluating XGBoost...\n"
          ]
        },
        {
          "output_type": "stream",
          "name": "stderr",
          "text": [
            "\r 60%|██████    | 3/5 [00:12<00:11,  5.80s/it]"
          ]
        },
        {
          "output_type": "stream",
          "name": "stdout",
          "text": [
            "Evaluating LightGBM...\n"
          ]
        },
        {
          "output_type": "stream",
          "name": "stderr",
          "text": [
            "\r 80%|████████  | 4/5 [00:17<00:05,  5.24s/it]"
          ]
        },
        {
          "output_type": "stream",
          "name": "stdout",
          "text": [
            "Evaluating Random Forest...\n"
          ]
        },
        {
          "output_type": "stream",
          "name": "stderr",
          "text": [
            "100%|██████████| 5/5 [00:55<00:00, 11.20s/it]"
          ]
        },
        {
          "output_type": "stream",
          "name": "stdout",
          "text": [
            "\n",
            "\n",
            "CPU times: user 1min 8s, sys: 218 ms, total: 1min 9s\n",
            "Wall time: 56 s\n"
          ]
        },
        {
          "output_type": "stream",
          "name": "stderr",
          "text": [
            "\n"
          ]
        }
      ]
    },
    {
      "cell_type": "code",
      "source": [
        "tfidf_results_df"
      ],
      "metadata": {
        "id": "KUtDW0cpYbom",
        "colab": {
          "base_uri": "https://localhost:8080/",
          "height": 206
        },
        "outputId": "bf91c1c1-7fc6-4b53-9aac-d6d78e274a6a"
      },
      "execution_count": 13,
      "outputs": [
        {
          "output_type": "execute_result",
          "data": {
            "text/plain": [
              "                 Model    score  precision  recall        f1      auc  \\\n",
              "1     Ridge Classifier  0.71225   0.700141  0.7425  0.720699  0.71225   \n",
              "0  Logistic Regression  0.71025   0.698443  0.7400  0.718621  0.71025   \n",
              "3             LightGBM  0.70150   0.685373  0.7450  0.713943  0.70150   \n",
              "4        Random Forest  0.69050   0.691843  0.6870  0.689413  0.69050   \n",
              "2              XGBoost  0.68900   0.668449  0.7500  0.706880  0.68900   \n",
              "\n",
              "       mse  train_time (s)  \n",
              "1  0.28775        0.135409  \n",
              "0  0.28975        0.147905  \n",
              "3  0.29850        4.377611  \n",
              "4  0.30950       38.776601  \n",
              "2  0.31100       12.520846  "
            ],
            "text/html": [
              "\n",
              "  <div id=\"df-91bcee05-08ea-48e6-b583-80e68db30ec1\" class=\"colab-df-container\">\n",
              "    <div>\n",
              "<style scoped>\n",
              "    .dataframe tbody tr th:only-of-type {\n",
              "        vertical-align: middle;\n",
              "    }\n",
              "\n",
              "    .dataframe tbody tr th {\n",
              "        vertical-align: top;\n",
              "    }\n",
              "\n",
              "    .dataframe thead th {\n",
              "        text-align: right;\n",
              "    }\n",
              "</style>\n",
              "<table border=\"1\" class=\"dataframe\">\n",
              "  <thead>\n",
              "    <tr style=\"text-align: right;\">\n",
              "      <th></th>\n",
              "      <th>Model</th>\n",
              "      <th>score</th>\n",
              "      <th>precision</th>\n",
              "      <th>recall</th>\n",
              "      <th>f1</th>\n",
              "      <th>auc</th>\n",
              "      <th>mse</th>\n",
              "      <th>train_time (s)</th>\n",
              "    </tr>\n",
              "  </thead>\n",
              "  <tbody>\n",
              "    <tr>\n",
              "      <th>1</th>\n",
              "      <td>Ridge Classifier</td>\n",
              "      <td>0.71225</td>\n",
              "      <td>0.700141</td>\n",
              "      <td>0.7425</td>\n",
              "      <td>0.720699</td>\n",
              "      <td>0.71225</td>\n",
              "      <td>0.28775</td>\n",
              "      <td>0.135409</td>\n",
              "    </tr>\n",
              "    <tr>\n",
              "      <th>0</th>\n",
              "      <td>Logistic Regression</td>\n",
              "      <td>0.71025</td>\n",
              "      <td>0.698443</td>\n",
              "      <td>0.7400</td>\n",
              "      <td>0.718621</td>\n",
              "      <td>0.71025</td>\n",
              "      <td>0.28975</td>\n",
              "      <td>0.147905</td>\n",
              "    </tr>\n",
              "    <tr>\n",
              "      <th>3</th>\n",
              "      <td>LightGBM</td>\n",
              "      <td>0.70150</td>\n",
              "      <td>0.685373</td>\n",
              "      <td>0.7450</td>\n",
              "      <td>0.713943</td>\n",
              "      <td>0.70150</td>\n",
              "      <td>0.29850</td>\n",
              "      <td>4.377611</td>\n",
              "    </tr>\n",
              "    <tr>\n",
              "      <th>4</th>\n",
              "      <td>Random Forest</td>\n",
              "      <td>0.69050</td>\n",
              "      <td>0.691843</td>\n",
              "      <td>0.6870</td>\n",
              "      <td>0.689413</td>\n",
              "      <td>0.69050</td>\n",
              "      <td>0.30950</td>\n",
              "      <td>38.776601</td>\n",
              "    </tr>\n",
              "    <tr>\n",
              "      <th>2</th>\n",
              "      <td>XGBoost</td>\n",
              "      <td>0.68900</td>\n",
              "      <td>0.668449</td>\n",
              "      <td>0.7500</td>\n",
              "      <td>0.706880</td>\n",
              "      <td>0.68900</td>\n",
              "      <td>0.31100</td>\n",
              "      <td>12.520846</td>\n",
              "    </tr>\n",
              "  </tbody>\n",
              "</table>\n",
              "</div>\n",
              "    <div class=\"colab-df-buttons\">\n",
              "\n",
              "  <div class=\"colab-df-container\">\n",
              "    <button class=\"colab-df-convert\" onclick=\"convertToInteractive('df-91bcee05-08ea-48e6-b583-80e68db30ec1')\"\n",
              "            title=\"Convert this dataframe to an interactive table.\"\n",
              "            style=\"display:none;\">\n",
              "\n",
              "  <svg xmlns=\"http://www.w3.org/2000/svg\" height=\"24px\" viewBox=\"0 -960 960 960\">\n",
              "    <path d=\"M120-120v-720h720v720H120Zm60-500h600v-160H180v160Zm220 220h160v-160H400v160Zm0 220h160v-160H400v160ZM180-400h160v-160H180v160Zm440 0h160v-160H620v160ZM180-180h160v-160H180v160Zm440 0h160v-160H620v160Z\"/>\n",
              "  </svg>\n",
              "    </button>\n",
              "\n",
              "  <style>\n",
              "    .colab-df-container {\n",
              "      display:flex;\n",
              "      gap: 12px;\n",
              "    }\n",
              "\n",
              "    .colab-df-convert {\n",
              "      background-color: #E8F0FE;\n",
              "      border: none;\n",
              "      border-radius: 50%;\n",
              "      cursor: pointer;\n",
              "      display: none;\n",
              "      fill: #1967D2;\n",
              "      height: 32px;\n",
              "      padding: 0 0 0 0;\n",
              "      width: 32px;\n",
              "    }\n",
              "\n",
              "    .colab-df-convert:hover {\n",
              "      background-color: #E2EBFA;\n",
              "      box-shadow: 0px 1px 2px rgba(60, 64, 67, 0.3), 0px 1px 3px 1px rgba(60, 64, 67, 0.15);\n",
              "      fill: #174EA6;\n",
              "    }\n",
              "\n",
              "    .colab-df-buttons div {\n",
              "      margin-bottom: 4px;\n",
              "    }\n",
              "\n",
              "    [theme=dark] .colab-df-convert {\n",
              "      background-color: #3B4455;\n",
              "      fill: #D2E3FC;\n",
              "    }\n",
              "\n",
              "    [theme=dark] .colab-df-convert:hover {\n",
              "      background-color: #434B5C;\n",
              "      box-shadow: 0px 1px 3px 1px rgba(0, 0, 0, 0.15);\n",
              "      filter: drop-shadow(0px 1px 2px rgba(0, 0, 0, 0.3));\n",
              "      fill: #FFFFFF;\n",
              "    }\n",
              "  </style>\n",
              "\n",
              "    <script>\n",
              "      const buttonEl =\n",
              "        document.querySelector('#df-91bcee05-08ea-48e6-b583-80e68db30ec1 button.colab-df-convert');\n",
              "      buttonEl.style.display =\n",
              "        google.colab.kernel.accessAllowed ? 'block' : 'none';\n",
              "\n",
              "      async function convertToInteractive(key) {\n",
              "        const element = document.querySelector('#df-91bcee05-08ea-48e6-b583-80e68db30ec1');\n",
              "        const dataTable =\n",
              "          await google.colab.kernel.invokeFunction('convertToInteractive',\n",
              "                                                    [key], {});\n",
              "        if (!dataTable) return;\n",
              "\n",
              "        const docLinkHtml = 'Like what you see? Visit the ' +\n",
              "          '<a target=\"_blank\" href=https://colab.research.google.com/notebooks/data_table.ipynb>data table notebook</a>'\n",
              "          + ' to learn more about interactive tables.';\n",
              "        element.innerHTML = '';\n",
              "        dataTable['output_type'] = 'display_data';\n",
              "        await google.colab.output.renderOutput(dataTable, element);\n",
              "        const docLink = document.createElement('div');\n",
              "        docLink.innerHTML = docLinkHtml;\n",
              "        element.appendChild(docLink);\n",
              "      }\n",
              "    </script>\n",
              "  </div>\n",
              "\n",
              "\n",
              "    <div id=\"df-04a779b9-48f1-4cd3-98fc-99f6a8baf0c2\">\n",
              "      <button class=\"colab-df-quickchart\" onclick=\"quickchart('df-04a779b9-48f1-4cd3-98fc-99f6a8baf0c2')\"\n",
              "                title=\"Suggest charts\"\n",
              "                style=\"display:none;\">\n",
              "\n",
              "<svg xmlns=\"http://www.w3.org/2000/svg\" height=\"24px\"viewBox=\"0 0 24 24\"\n",
              "     width=\"24px\">\n",
              "    <g>\n",
              "        <path d=\"M19 3H5c-1.1 0-2 .9-2 2v14c0 1.1.9 2 2 2h14c1.1 0 2-.9 2-2V5c0-1.1-.9-2-2-2zM9 17H7v-7h2v7zm4 0h-2V7h2v10zm4 0h-2v-4h2v4z\"/>\n",
              "    </g>\n",
              "</svg>\n",
              "      </button>\n",
              "\n",
              "<style>\n",
              "  .colab-df-quickchart {\n",
              "      --bg-color: #E8F0FE;\n",
              "      --fill-color: #1967D2;\n",
              "      --hover-bg-color: #E2EBFA;\n",
              "      --hover-fill-color: #174EA6;\n",
              "      --disabled-fill-color: #AAA;\n",
              "      --disabled-bg-color: #DDD;\n",
              "  }\n",
              "\n",
              "  [theme=dark] .colab-df-quickchart {\n",
              "      --bg-color: #3B4455;\n",
              "      --fill-color: #D2E3FC;\n",
              "      --hover-bg-color: #434B5C;\n",
              "      --hover-fill-color: #FFFFFF;\n",
              "      --disabled-bg-color: #3B4455;\n",
              "      --disabled-fill-color: #666;\n",
              "  }\n",
              "\n",
              "  .colab-df-quickchart {\n",
              "    background-color: var(--bg-color);\n",
              "    border: none;\n",
              "    border-radius: 50%;\n",
              "    cursor: pointer;\n",
              "    display: none;\n",
              "    fill: var(--fill-color);\n",
              "    height: 32px;\n",
              "    padding: 0;\n",
              "    width: 32px;\n",
              "  }\n",
              "\n",
              "  .colab-df-quickchart:hover {\n",
              "    background-color: var(--hover-bg-color);\n",
              "    box-shadow: 0 1px 2px rgba(60, 64, 67, 0.3), 0 1px 3px 1px rgba(60, 64, 67, 0.15);\n",
              "    fill: var(--button-hover-fill-color);\n",
              "  }\n",
              "\n",
              "  .colab-df-quickchart-complete:disabled,\n",
              "  .colab-df-quickchart-complete:disabled:hover {\n",
              "    background-color: var(--disabled-bg-color);\n",
              "    fill: var(--disabled-fill-color);\n",
              "    box-shadow: none;\n",
              "  }\n",
              "\n",
              "  .colab-df-spinner {\n",
              "    border: 2px solid var(--fill-color);\n",
              "    border-color: transparent;\n",
              "    border-bottom-color: var(--fill-color);\n",
              "    animation:\n",
              "      spin 1s steps(1) infinite;\n",
              "  }\n",
              "\n",
              "  @keyframes spin {\n",
              "    0% {\n",
              "      border-color: transparent;\n",
              "      border-bottom-color: var(--fill-color);\n",
              "      border-left-color: var(--fill-color);\n",
              "    }\n",
              "    20% {\n",
              "      border-color: transparent;\n",
              "      border-left-color: var(--fill-color);\n",
              "      border-top-color: var(--fill-color);\n",
              "    }\n",
              "    30% {\n",
              "      border-color: transparent;\n",
              "      border-left-color: var(--fill-color);\n",
              "      border-top-color: var(--fill-color);\n",
              "      border-right-color: var(--fill-color);\n",
              "    }\n",
              "    40% {\n",
              "      border-color: transparent;\n",
              "      border-right-color: var(--fill-color);\n",
              "      border-top-color: var(--fill-color);\n",
              "    }\n",
              "    60% {\n",
              "      border-color: transparent;\n",
              "      border-right-color: var(--fill-color);\n",
              "    }\n",
              "    80% {\n",
              "      border-color: transparent;\n",
              "      border-right-color: var(--fill-color);\n",
              "      border-bottom-color: var(--fill-color);\n",
              "    }\n",
              "    90% {\n",
              "      border-color: transparent;\n",
              "      border-bottom-color: var(--fill-color);\n",
              "    }\n",
              "  }\n",
              "</style>\n",
              "\n",
              "      <script>\n",
              "        async function quickchart(key) {\n",
              "          const quickchartButtonEl =\n",
              "            document.querySelector('#' + key + ' button');\n",
              "          quickchartButtonEl.disabled = true;  // To prevent multiple clicks.\n",
              "          quickchartButtonEl.classList.add('colab-df-spinner');\n",
              "          try {\n",
              "            const charts = await google.colab.kernel.invokeFunction(\n",
              "                'suggestCharts', [key], {});\n",
              "          } catch (error) {\n",
              "            console.error('Error during call to suggestCharts:', error);\n",
              "          }\n",
              "          quickchartButtonEl.classList.remove('colab-df-spinner');\n",
              "          quickchartButtonEl.classList.add('colab-df-quickchart-complete');\n",
              "        }\n",
              "        (() => {\n",
              "          let quickchartButtonEl =\n",
              "            document.querySelector('#df-04a779b9-48f1-4cd3-98fc-99f6a8baf0c2 button');\n",
              "          quickchartButtonEl.style.display =\n",
              "            google.colab.kernel.accessAllowed ? 'block' : 'none';\n",
              "        })();\n",
              "      </script>\n",
              "    </div>\n",
              "\n",
              "  <div id=\"id_25ef8402-0068-4c0d-9846-5f8f74b122c9\">\n",
              "    <style>\n",
              "      .colab-df-generate {\n",
              "        background-color: #E8F0FE;\n",
              "        border: none;\n",
              "        border-radius: 50%;\n",
              "        cursor: pointer;\n",
              "        display: none;\n",
              "        fill: #1967D2;\n",
              "        height: 32px;\n",
              "        padding: 0 0 0 0;\n",
              "        width: 32px;\n",
              "      }\n",
              "\n",
              "      .colab-df-generate:hover {\n",
              "        background-color: #E2EBFA;\n",
              "        box-shadow: 0px 1px 2px rgba(60, 64, 67, 0.3), 0px 1px 3px 1px rgba(60, 64, 67, 0.15);\n",
              "        fill: #174EA6;\n",
              "      }\n",
              "\n",
              "      [theme=dark] .colab-df-generate {\n",
              "        background-color: #3B4455;\n",
              "        fill: #D2E3FC;\n",
              "      }\n",
              "\n",
              "      [theme=dark] .colab-df-generate:hover {\n",
              "        background-color: #434B5C;\n",
              "        box-shadow: 0px 1px 3px 1px rgba(0, 0, 0, 0.15);\n",
              "        filter: drop-shadow(0px 1px 2px rgba(0, 0, 0, 0.3));\n",
              "        fill: #FFFFFF;\n",
              "      }\n",
              "    </style>\n",
              "    <button class=\"colab-df-generate\" onclick=\"generateWithVariable('tfidf_results_df')\"\n",
              "            title=\"Generate code using this dataframe.\"\n",
              "            style=\"display:none;\">\n",
              "\n",
              "  <svg xmlns=\"http://www.w3.org/2000/svg\" height=\"24px\"viewBox=\"0 0 24 24\"\n",
              "       width=\"24px\">\n",
              "    <path d=\"M7,19H8.4L18.45,9,17,7.55,7,17.6ZM5,21V16.75L18.45,3.32a2,2,0,0,1,2.83,0l1.4,1.43a1.91,1.91,0,0,1,.58,1.4,1.91,1.91,0,0,1-.58,1.4L9.25,21ZM18.45,9,17,7.55Zm-12,3A5.31,5.31,0,0,0,4.9,8.1,5.31,5.31,0,0,0,1,6.5,5.31,5.31,0,0,0,4.9,4.9,5.31,5.31,0,0,0,6.5,1,5.31,5.31,0,0,0,8.1,4.9,5.31,5.31,0,0,0,12,6.5,5.46,5.46,0,0,0,6.5,12Z\"/>\n",
              "  </svg>\n",
              "    </button>\n",
              "    <script>\n",
              "      (() => {\n",
              "      const buttonEl =\n",
              "        document.querySelector('#id_25ef8402-0068-4c0d-9846-5f8f74b122c9 button.colab-df-generate');\n",
              "      buttonEl.style.display =\n",
              "        google.colab.kernel.accessAllowed ? 'block' : 'none';\n",
              "\n",
              "      buttonEl.onclick = () => {\n",
              "        google.colab.notebook.generateWithVariable('tfidf_results_df');\n",
              "      }\n",
              "      })();\n",
              "    </script>\n",
              "  </div>\n",
              "\n",
              "    </div>\n",
              "  </div>\n"
            ],
            "application/vnd.google.colaboratory.intrinsic+json": {
              "type": "dataframe",
              "variable_name": "tfidf_results_df",
              "summary": "{\n  \"name\": \"tfidf_results_df\",\n  \"rows\": 5,\n  \"fields\": [\n    {\n      \"column\": \"Model\",\n      \"properties\": {\n        \"dtype\": \"string\",\n        \"num_unique_values\": 5,\n        \"samples\": [\n          \"Logistic Regression\",\n          \"XGBoost\",\n          \"LightGBM\"\n        ],\n        \"semantic_type\": \"\",\n        \"description\": \"\"\n      }\n    },\n    {\n      \"column\": \"score\",\n      \"properties\": {\n        \"dtype\": \"number\",\n        \"std\": 0.010795543061838105,\n        \"min\": 0.689,\n        \"max\": 0.71225,\n        \"num_unique_values\": 5,\n        \"samples\": [\n          0.71025,\n          0.689,\n          0.7015\n        ],\n        \"semantic_type\": \"\",\n        \"description\": \"\"\n      }\n    },\n    {\n      \"column\": \"precision\",\n      \"properties\": {\n        \"dtype\": \"number\",\n        \"std\": 0.012813649266067758,\n        \"min\": 0.6684491978609626,\n        \"max\": 0.7001414427157001,\n        \"num_unique_values\": 5,\n        \"samples\": [\n          0.6984426616328456,\n          0.6684491978609626,\n          0.6853725850965962\n        ],\n        \"semantic_type\": \"\",\n        \"description\": \"\"\n      }\n    },\n    {\n      \"column\": \"recall\",\n      \"properties\": {\n        \"dtype\": \"number\",\n        \"std\": 0.02592392717163044,\n        \"min\": 0.687,\n        \"max\": 0.75,\n        \"num_unique_values\": 5,\n        \"samples\": [\n          0.74,\n          0.75,\n          0.745\n        ],\n        \"semantic_type\": \"\",\n        \"description\": \"\"\n      }\n    },\n    {\n      \"column\": \"f1\",\n      \"properties\": {\n        \"dtype\": \"number\",\n        \"std\": 0.012627930826711811,\n        \"min\": 0.68941294530858,\n        \"max\": 0.7206988595001214,\n        \"num_unique_values\": 5,\n        \"samples\": [\n          0.7186210245205147,\n          0.706880301602262,\n          0.7139434595112601\n        ],\n        \"semantic_type\": \"\",\n        \"description\": \"\"\n      }\n    },\n    {\n      \"column\": \"auc\",\n      \"properties\": {\n        \"dtype\": \"number\",\n        \"std\": 0.010795543061838076,\n        \"min\": 0.6890000000000001,\n        \"max\": 0.71225,\n        \"num_unique_values\": 5,\n        \"samples\": [\n          0.7102499999999999,\n          0.6890000000000001,\n          0.7015\n        ],\n        \"semantic_type\": \"\",\n        \"description\": \"\"\n      }\n    },\n    {\n      \"column\": \"mse\",\n      \"properties\": {\n        \"dtype\": \"number\",\n        \"std\": 0.010795543061838062,\n        \"min\": 0.28775,\n        \"max\": 0.311,\n        \"num_unique_values\": 5,\n        \"samples\": [\n          0.28975,\n          0.311,\n          0.2985\n        ],\n        \"semantic_type\": \"\",\n        \"description\": \"\"\n      }\n    },\n    {\n      \"column\": \"train_time (s)\",\n      \"properties\": {\n        \"dtype\": \"number\",\n        \"std\": 16.227539741852286,\n        \"min\": 0.13540911674499512,\n        \"max\": 38.7766010761261,\n        \"num_unique_values\": 5,\n        \"samples\": [\n          0.1479051113128662,\n          12.520846366882324,\n          4.377610683441162\n        ],\n        \"semantic_type\": \"\",\n        \"description\": \"\"\n      }\n    }\n  ]\n}"
            }
          },
          "metadata": {},
          "execution_count": 13
        }
      ]
    },
    {
      "cell_type": "markdown",
      "source": [
        "## | Word2Vec"
      ],
      "metadata": {
        "id": "Go475o0OW3WD"
      }
    },
    {
      "cell_type": "code",
      "source": [
        "%%time\n",
        "X_train_w2v, X_valid_w2v, X_test_w2v, y_train_w2v, y_valid_w2v, y_test_w2v = split_train_val_test(tweets_embeddings_word2vec, Y, sample_size=20000)\n",
        "print(\"Répartition dans y_train    :\", pd.Series(y_train_w2v).value_counts(normalize=True))\n",
        "print(\"Répartition dans y_validation:\", pd.Series(y_valid_w2v).value_counts(normalize=True))\n",
        "print(\"Répartition dans y_test :\", pd.Series(y_test_w2v).value_counts(normalize=True))\n",
        "plot_distribution(y_train_w2v, y_valid_w2v,  y_test_w2v)"
      ],
      "metadata": {
        "id": "SFmK7CpdYvik",
        "colab": {
          "base_uri": "https://localhost:8080/",
          "height": 709
        },
        "outputId": "769b4bed-2943-4f4d-daf0-5ec9a0d5d837"
      },
      "execution_count": 14,
      "outputs": [
        {
          "output_type": "stream",
          "name": "stdout",
          "text": [
            "Répartition dans y_train    : 1    0.500083\n",
            "0    0.499917\n",
            "Name: proportion, dtype: float64\n",
            "Répartition dans y_validation: 0    0.5\n",
            "1    0.5\n",
            "Name: proportion, dtype: float64\n",
            "Répartition dans y_test : 1    0.5\n",
            "0    0.5\n",
            "Name: proportion, dtype: float64\n"
          ]
        },
        {
          "output_type": "display_data",
          "data": {
            "text/plain": [
              "<Figure size 800x500 with 1 Axes>"
            ],
            "image/png": "[encoded data removed]"
          },
          "metadata": {}
        },
        {
          "output_type": "stream",
          "name": "stdout",
          "text": [
            "CPU times: user 2.74 s, sys: 6.11 s, total: 8.85 s\n",
            "Wall time: 55.9 s\n"
          ]
        }
      ]
    },
    {
      "cell_type": "code",
      "source": [
        "%%time\n",
        "w2v_results__df = evaluate_models(X_train_w2v, X_valid_w2v, y_train_w2v, y_valid_w2v, cv=skf)"
      ],
      "metadata": {
        "id": "dRimE4KMZJJA",
        "colab": {
          "base_uri": "https://localhost:8080/"
        },
        "outputId": "555331d8-4248-4fa6-efe2-27640a63178c"
      },
      "execution_count": 15,
      "outputs": [
        {
          "output_type": "stream",
          "name": "stderr",
          "text": [
            "\r  0%|          | 0/5 [00:00<?, ?it/s]"
          ]
        },
        {
          "output_type": "stream",
          "name": "stdout",
          "text": [
            "Evaluating Logistic Regression...\n"
          ]
        },
        {
          "output_type": "stream",
          "name": "stderr",
          "text": [
            "\r 20%|██        | 1/5 [00:16<01:04, 16.23s/it]"
          ]
        },
        {
          "output_type": "stream",
          "name": "stdout",
          "text": [
            "Evaluating Ridge Classifier...\n"
          ]
        },
        {
          "output_type": "stream",
          "name": "stderr",
          "text": [
            "\r 40%|████      | 2/5 [00:18<00:23,  7.92s/it]"
          ]
        },
        {
          "output_type": "stream",
          "name": "stdout",
          "text": [
            "Evaluating XGBoost...\n"
          ]
        },
        {
          "output_type": "stream",
          "name": "stderr",
          "text": [
            "\r 60%|██████    | 3/5 [01:36<01:19, 39.89s/it]"
          ]
        },
        {
          "output_type": "stream",
          "name": "stdout",
          "text": [
            "Evaluating LightGBM...\n"
          ]
        },
        {
          "output_type": "stream",
          "name": "stderr",
          "text": [
            "\r 80%|████████  | 4/5 [02:14<00:39, 39.17s/it]"
          ]
        },
        {
          "output_type": "stream",
          "name": "stdout",
          "text": [
            "Evaluating Random Forest...\n"
          ]
        },
        {
          "output_type": "stream",
          "name": "stderr",
          "text": [
            "100%|██████████| 5/5 [04:23<00:00, 52.76s/it]"
          ]
        },
        {
          "output_type": "stream",
          "name": "stdout",
          "text": [
            "\n",
            "\n",
            "CPU times: user 5min 54s, sys: 1.32 s, total: 5min 55s\n",
            "Wall time: 4min 23s\n"
          ]
        },
        {
          "output_type": "stream",
          "name": "stderr",
          "text": [
            "\n"
          ]
        }
      ]
    },
    {
      "cell_type": "code",
      "source": [
        "w2v_results__df"
      ],
      "metadata": {
        "id": "b6paz8p0ZVpd",
        "colab": {
          "base_uri": "https://localhost:8080/",
          "height": 206
        },
        "outputId": "72562dde-82f1-4508-8ab3-b98a9c043b57"
      },
      "execution_count": 16,
      "outputs": [
        {
          "output_type": "execute_result",
          "data": {
            "text/plain": [
              "                 Model    score  precision  recall        f1      auc  \\\n",
              "0  Logistic Regression  0.72775   0.721655  0.7415  0.731443  0.72775   \n",
              "1     Ridge Classifier  0.72250   0.717285  0.7345  0.725791  0.72250   \n",
              "3             LightGBM  0.69725   0.699142  0.6925  0.695805  0.69725   \n",
              "2              XGBoost  0.69375   0.698616  0.6815  0.689952  0.69375   \n",
              "4        Random Forest  0.69225   0.706166  0.6585  0.681501  0.69225   \n",
              "\n",
              "       mse  train_time (s)  \n",
              "0  0.27225       16.234023  \n",
              "1  0.27750        2.103240  \n",
              "3  0.30275       38.061322  \n",
              "2  0.30625       77.929830  \n",
              "4  0.30775      129.433864  "
            ],
            "text/html": [
              "\n",
              "  <div id=\"df-ff96f12f-9576-437f-a41d-42a08267573d\" class=\"colab-df-container\">\n",
              "    <div>\n",
              "<style scoped>\n",
              "    .dataframe tbody tr th:only-of-type {\n",
              "        vertical-align: middle;\n",
              "    }\n",
              "\n",
              "    .dataframe tbody tr th {\n",
              "        vertical-align: top;\n",
              "    }\n",
              "\n",
              "    .dataframe thead th {\n",
              "        text-align: right;\n",
              "    }\n",
              "</style>\n",
              "<table border=\"1\" class=\"dataframe\">\n",
              "  <thead>\n",
              "    <tr style=\"text-align: right;\">\n",
              "      <th></th>\n",
              "      <th>Model</th>\n",
              "      <th>score</th>\n",
              "      <th>precision</th>\n",
              "      <th>recall</th>\n",
              "      <th>f1</th>\n",
              "      <th>auc</th>\n",
              "      <th>mse</th>\n",
              "      <th>train_time (s)</th>\n",
              "    </tr>\n",
              "  </thead>\n",
              "  <tbody>\n",
              "    <tr>\n",
              "      <th>0</th>\n",
              "      <td>Logistic Regression</td>\n",
              "      <td>0.72775</td>\n",
              "      <td>0.721655</td>\n",
              "      <td>0.7415</td>\n",
              "      <td>0.731443</td>\n",
              "      <td>0.72775</td>\n",
              "      <td>0.27225</td>\n",
              "      <td>16.234023</td>\n",
              "    </tr>\n",
              "    <tr>\n",
              "      <th>1</th>\n",
              "      <td>Ridge Classifier</td>\n",
              "      <td>0.72250</td>\n",
              "      <td>0.717285</td>\n",
              "      <td>0.7345</td>\n",
              "      <td>0.725791</td>\n",
              "      <td>0.72250</td>\n",
              "      <td>0.27750</td>\n",
              "      <td>2.103240</td>\n",
              "    </tr>\n",
              "    <tr>\n",
              "      <th>3</th>\n",
              "      <td>LightGBM</td>\n",
              "      <td>0.69725</td>\n",
              "      <td>0.699142</td>\n",
              "      <td>0.6925</td>\n",
              "      <td>0.695805</td>\n",
              "      <td>0.69725</td>\n",
              "      <td>0.30275</td>\n",
              "      <td>38.061322</td>\n",
              "    </tr>\n",
              "    <tr>\n",
              "      <th>2</th>\n",
              "      <td>XGBoost</td>\n",
              "      <td>0.69375</td>\n",
              "      <td>0.698616</td>\n",
              "      <td>0.6815</td>\n",
              "      <td>0.689952</td>\n",
              "      <td>0.69375</td>\n",
              "      <td>0.30625</td>\n",
              "      <td>77.929830</td>\n",
              "    </tr>\n",
              "    <tr>\n",
              "      <th>4</th>\n",
              "      <td>Random Forest</td>\n",
              "      <td>0.69225</td>\n",
              "      <td>0.706166</td>\n",
              "      <td>0.6585</td>\n",
              "      <td>0.681501</td>\n",
              "      <td>0.69225</td>\n",
              "      <td>0.30775</td>\n",
              "      <td>129.433864</td>\n",
              "    </tr>\n",
              "  </tbody>\n",
              "</table>\n",
              "</div>\n",
              "    <div class=\"colab-df-buttons\">\n",
              "\n",
              "  <div class=\"colab-df-container\">\n",
              "    <button class=\"colab-df-convert\" onclick=\"convertToInteractive('df-ff96f12f-9576-437f-a41d-42a08267573d')\"\n",
              "            title=\"Convert this dataframe to an interactive table.\"\n",
              "            style=\"display:none;\">\n",
              "\n",
              "  <svg xmlns=\"http://www.w3.org/2000/svg\" height=\"24px\" viewBox=\"0 -960 960 960\">\n",
              "    <path d=\"M120-120v-720h720v720H120Zm60-500h600v-160H180v160Zm220 220h160v-160H400v160Zm0 220h160v-160H400v160ZM180-400h160v-160H180v160Zm440 0h160v-160H620v160ZM180-180h160v-160H180v160Zm440 0h160v-160H620v160Z\"/>\n",
              "  </svg>\n",
              "    </button>\n",
              "\n",
              "  <style>\n",
              "    .colab-df-container {\n",
              "      display:flex;\n",
              "      gap: 12px;\n",
              "    }\n",
              "\n",
              "    .colab-df-convert {\n",
              "      background-color: #E8F0FE;\n",
              "      border: none;\n",
              "      border-radius: 50%;\n",
              "      cursor: pointer;\n",
              "      display: none;\n",
              "      fill: #1967D2;\n",
              "      height: 32px;\n",
              "      padding: 0 0 0 0;\n",
              "      width: 32px;\n",
              "    }\n",
              "\n",
              "    .colab-df-convert:hover {\n",
              "      background-color: #E2EBFA;\n",
              "      box-shadow: 0px 1px 2px rgba(60, 64, 67, 0.3), 0px 1px 3px 1px rgba(60, 64, 67, 0.15);\n",
              "      fill: #174EA6;\n",
              "    }\n",
              "\n",
              "    .colab-df-buttons div {\n",
              "      margin-bottom: 4px;\n",
              "    }\n",
              "\n",
              "    [theme=dark] .colab-df-convert {\n",
              "      background-color: #3B4455;\n",
              "      fill: #D2E3FC;\n",
              "    }\n",
              "\n",
              "    [theme=dark] .colab-df-convert:hover {\n",
              "      background-color: #434B5C;\n",
              "      box-shadow: 0px 1px 3px 1px rgba(0, 0, 0, 0.15);\n",
              "      filter: drop-shadow(0px 1px 2px rgba(0, 0, 0, 0.3));\n",
              "      fill: #FFFFFF;\n",
              "    }\n",
              "  </style>\n",
              "\n",
              "    <script>\n",
              "      const buttonEl =\n",
              "        document.querySelector('#df-ff96f12f-9576-437f-a41d-42a08267573d button.colab-df-convert');\n",
              "      buttonEl.style.display =\n",
              "        google.colab.kernel.accessAllowed ? 'block' : 'none';\n",
              "\n",
              "      async function convertToInteractive(key) {\n",
              "        const element = document.querySelector('#df-ff96f12f-9576-437f-a41d-42a08267573d');\n",
              "        const dataTable =\n",
              "          await google.colab.kernel.invokeFunction('convertToInteractive',\n",
              "                                                    [key], {});\n",
              "        if (!dataTable) return;\n",
              "\n",
              "        const docLinkHtml = 'Like what you see? Visit the ' +\n",
              "          '<a target=\"_blank\" href=https://colab.research.google.com/notebooks/data_table.ipynb>data table notebook</a>'\n",
              "          + ' to learn more about interactive tables.';\n",
              "        element.innerHTML = '';\n",
              "        dataTable['output_type'] = 'display_data';\n",
              "        await google.colab.output.renderOutput(dataTable, element);\n",
              "        const docLink = document.createElement('div');\n",
              "        docLink.innerHTML = docLinkHtml;\n",
              "        element.appendChild(docLink);\n",
              "      }\n",
              "    </script>\n",
              "  </div>\n",
              "\n",
              "\n",
              "    <div id=\"df-d0eec004-1ae8-4c16-8a1f-29f13d89d6de\">\n",
              "      <button class=\"colab-df-quickchart\" onclick=\"quickchart('df-d0eec004-1ae8-4c16-8a1f-29f13d89d6de')\"\n",
              "                title=\"Suggest charts\"\n",
              "                style=\"display:none;\">\n",
              "\n",
              "<svg xmlns=\"http://www.w3.org/2000/svg\" height=\"24px\"viewBox=\"0 0 24 24\"\n",
              "     width=\"24px\">\n",
              "    <g>\n",
              "        <path d=\"M19 3H5c-1.1 0-2 .9-2 2v14c0 1.1.9 2 2 2h14c1.1 0 2-.9 2-2V5c0-1.1-.9-2-2-2zM9 17H7v-7h2v7zm4 0h-2V7h2v10zm4 0h-2v-4h2v4z\"/>\n",
              "    </g>\n",
              "</svg>\n",
              "      </button>\n",
              "\n",
              "<style>\n",
              "  .colab-df-quickchart {\n",
              "      --bg-color: #E8F0FE;\n",
              "      --fill-color: #1967D2;\n",
              "      --hover-bg-color: #E2EBFA;\n",
              "      --hover-fill-color: #174EA6;\n",
              "      --disabled-fill-color: #AAA;\n",
              "      --disabled-bg-color: #DDD;\n",
              "  }\n",
              "\n",
              "  [theme=dark] .colab-df-quickchart {\n",
              "      --bg-color: #3B4455;\n",
              "      --fill-color: #D2E3FC;\n",
              "      --hover-bg-color: #434B5C;\n",
              "      --hover-fill-color: #FFFFFF;\n",
              "      --disabled-bg-color: #3B4455;\n",
              "      --disabled-fill-color: #666;\n",
              "  }\n",
              "\n",
              "  .colab-df-quickchart {\n",
              "    background-color: var(--bg-color);\n",
              "    border: none;\n",
              "    border-radius: 50%;\n",
              "    cursor: pointer;\n",
              "    display: none;\n",
              "    fill: var(--fill-color);\n",
              "    height: 32px;\n",
              "    padding: 0;\n",
              "    width: 32px;\n",
              "  }\n",
              "\n",
              "  .colab-df-quickchart:hover {\n",
              "    background-color: var(--hover-bg-color);\n",
              "    box-shadow: 0 1px 2px rgba(60, 64, 67, 0.3), 0 1px 3px 1px rgba(60, 64, 67, 0.15);\n",
              "    fill: var(--button-hover-fill-color);\n",
              "  }\n",
              "\n",
              "  .colab-df-quickchart-complete:disabled,\n",
              "  .colab-df-quickchart-complete:disabled:hover {\n",
              "    background-color: var(--disabled-bg-color);\n",
              "    fill: var(--disabled-fill-color);\n",
              "    box-shadow: none;\n",
              "  }\n",
              "\n",
              "  .colab-df-spinner {\n",
              "    border: 2px solid var(--fill-color);\n",
              "    border-color: transparent;\n",
              "    border-bottom-color: var(--fill-color);\n",
              "    animation:\n",
              "      spin 1s steps(1) infinite;\n",
              "  }\n",
              "\n",
              "  @keyframes spin {\n",
              "    0% {\n",
              "      border-color: transparent;\n",
              "      border-bottom-color: var(--fill-color);\n",
              "      border-left-color: var(--fill-color);\n",
              "    }\n",
              "    20% {\n",
              "      border-color: transparent;\n",
              "      border-left-color: var(--fill-color);\n",
              "      border-top-color: var(--fill-color);\n",
              "    }\n",
              "    30% {\n",
              "      border-color: transparent;\n",
              "      border-left-color: var(--fill-color);\n",
              "      border-top-color: var(--fill-color);\n",
              "      border-right-color: var(--fill-color);\n",
              "    }\n",
              "    40% {\n",
              "      border-color: transparent;\n",
              "      border-right-color: var(--fill-color);\n",
              "      border-top-color: var(--fill-color);\n",
              "    }\n",
              "    60% {\n",
              "      border-color: transparent;\n",
              "      border-right-color: var(--fill-color);\n",
              "    }\n",
              "    80% {\n",
              "      border-color: transparent;\n",
              "      border-right-color: var(--fill-color);\n",
              "      border-bottom-color: var(--fill-color);\n",
              "    }\n",
              "    90% {\n",
              "      border-color: transparent;\n",
              "      border-bottom-color: var(--fill-color);\n",
              "    }\n",
              "  }\n",
              "</style>\n",
              "\n",
              "      <script>\n",
              "        async function quickchart(key) {\n",
              "          const quickchartButtonEl =\n",
              "            document.querySelector('#' + key + ' button');\n",
              "          quickchartButtonEl.disabled = true;  // To prevent multiple clicks.\n",
              "          quickchartButtonEl.classList.add('colab-df-spinner');\n",
              "          try {\n",
              "            const charts = await google.colab.kernel.invokeFunction(\n",
              "                'suggestCharts', [key], {});\n",
              "          } catch (error) {\n",
              "            console.error('Error during call to suggestCharts:', error);\n",
              "          }\n",
              "          quickchartButtonEl.classList.remove('colab-df-spinner');\n",
              "          quickchartButtonEl.classList.add('colab-df-quickchart-complete');\n",
              "        }\n",
              "        (() => {\n",
              "          let quickchartButtonEl =\n",
              "            document.querySelector('#df-d0eec004-1ae8-4c16-8a1f-29f13d89d6de button');\n",
              "          quickchartButtonEl.style.display =\n",
              "            google.colab.kernel.accessAllowed ? 'block' : 'none';\n",
              "        })();\n",
              "      </script>\n",
              "    </div>\n",
              "\n",
              "  <div id=\"id_b6f41549-0021-4f29-aa1d-6206cc4df6fd\">\n",
              "    <style>\n",
              "      .colab-df-generate {\n",
              "        background-color: #E8F0FE;\n",
              "        border: none;\n",
              "        border-radius: 50%;\n",
              "        cursor: pointer;\n",
              "        display: none;\n",
              "        fill: #1967D2;\n",
              "        height: 32px;\n",
              "        padding: 0 0 0 0;\n",
              "        width: 32px;\n",
              "      }\n",
              "\n",
              "      .colab-df-generate:hover {\n",
              "        background-color: #E2EBFA;\n",
              "        box-shadow: 0px 1px 2px rgba(60, 64, 67, 0.3), 0px 1px 3px 1px rgba(60, 64, 67, 0.15);\n",
              "        fill: #174EA6;\n",
              "      }\n",
              "\n",
              "      [theme=dark] .colab-df-generate {\n",
              "        background-color: #3B4455;\n",
              "        fill: #D2E3FC;\n",
              "      }\n",
              "\n",
              "      [theme=dark] .colab-df-generate:hover {\n",
              "        background-color: #434B5C;\n",
              "        box-shadow: 0px 1px 3px 1px rgba(0, 0, 0, 0.15);\n",
              "        filter: drop-shadow(0px 1px 2px rgba(0, 0, 0, 0.3));\n",
              "        fill: #FFFFFF;\n",
              "      }\n",
              "    </style>\n",
              "    <button class=\"colab-df-generate\" onclick=\"generateWithVariable('w2v_results__df')\"\n",
              "            title=\"Generate code using this dataframe.\"\n",
              "            style=\"display:none;\">\n",
              "\n",
              "  <svg xmlns=\"http://www.w3.org/2000/svg\" height=\"24px\"viewBox=\"0 0 24 24\"\n",
              "       width=\"24px\">\n",
              "    <path d=\"M7,19H8.4L18.45,9,17,7.55,7,17.6ZM5,21V16.75L18.45,3.32a2,2,0,0,1,2.83,0l1.4,1.43a1.91,1.91,0,0,1,.58,1.4,1.91,1.91,0,0,1-.58,1.4L9.25,21ZM18.45,9,17,7.55Zm-12,3A5.31,5.31,0,0,0,4.9,8.1,5.31,5.31,0,0,0,1,6.5,5.31,5.31,0,0,0,4.9,4.9,5.31,5.31,0,0,0,6.5,1,5.31,5.31,0,0,0,8.1,4.9,5.31,5.31,0,0,0,12,6.5,5.46,5.46,0,0,0,6.5,12Z\"/>\n",
              "  </svg>\n",
              "    </button>\n",
              "    <script>\n",
              "      (() => {\n",
              "      const buttonEl =\n",
              "        document.querySelector('#id_b6f41549-0021-4f29-aa1d-6206cc4df6fd button.colab-df-generate');\n",
              "      buttonEl.style.display =\n",
              "        google.colab.kernel.accessAllowed ? 'block' : 'none';\n",
              "\n",
              "      buttonEl.onclick = () => {\n",
              "        google.colab.notebook.generateWithVariable('w2v_results__df');\n",
              "      }\n",
              "      })();\n",
              "    </script>\n",
              "  </div>\n",
              "\n",
              "    </div>\n",
              "  </div>\n"
            ],
            "application/vnd.google.colaboratory.intrinsic+json": {
              "type": "dataframe",
              "variable_name": "w2v_results__df",
              "summary": "{\n  \"name\": \"w2v_results__df\",\n  \"rows\": 5,\n  \"fields\": [\n    {\n      \"column\": \"Model\",\n      \"properties\": {\n        \"dtype\": \"string\",\n        \"num_unique_values\": 5,\n        \"samples\": [\n          \"Ridge Classifier\",\n          \"Random Forest\",\n          \"LightGBM\"\n        ],\n        \"semantic_type\": \"\",\n        \"description\": \"\"\n      }\n    },\n    {\n      \"column\": \"score\",\n      \"properties\": {\n        \"dtype\": \"number\",\n        \"std\": 0.01701873967131527,\n        \"min\": 0.69225,\n        \"max\": 0.72775,\n        \"num_unique_values\": 5,\n        \"samples\": [\n          0.7225,\n          0.69225,\n          0.69725\n        ],\n        \"semantic_type\": \"\",\n        \"description\": \"\"\n      }\n    },\n    {\n      \"column\": \"precision\",\n      \"properties\": {\n        \"dtype\": \"number\",\n        \"std\": 0.010498887303857615,\n        \"min\": 0.6986160943106099,\n        \"max\": 0.7216545012165451,\n        \"num_unique_values\": 5,\n        \"samples\": [\n          0.71728515625,\n          0.7061662198391421,\n          0.6991418475517416\n        ],\n        \"semantic_type\": \"\",\n        \"description\": \"\"\n      }\n    },\n    {\n      \"column\": \"recall\",\n      \"properties\": {\n        \"dtype\": \"number\",\n        \"std\": 0.03542174473399076,\n        \"min\": 0.6585,\n        \"max\": 0.7415,\n        \"num_unique_values\": 5,\n        \"samples\": [\n          0.7345,\n          0.6585,\n          0.6925\n        ],\n        \"semantic_type\": \"\",\n        \"description\": \"\"\n      }\n    },\n    {\n      \"column\": \"f1\",\n      \"properties\": {\n        \"dtype\": \"number\",\n        \"std\": 0.02233058051139595,\n        \"min\": 0.6815006468305304,\n        \"max\": 0.731442663378545,\n        \"num_unique_values\": 5,\n        \"samples\": [\n          0.7257905138339921,\n          0.6815006468305304,\n          0.6958050741019844\n        ],\n        \"semantic_type\": \"\",\n        \"description\": \"\"\n      }\n    },\n    {\n      \"column\": \"auc\",\n      \"properties\": {\n        \"dtype\": \"number\",\n        \"std\": 0.01701873967131531,\n        \"min\": 0.69225,\n        \"max\": 0.72775,\n        \"num_unique_values\": 5,\n        \"samples\": [\n          0.7225000000000001,\n          0.69225,\n          0.6972499999999999\n        ],\n        \"semantic_type\": \"\",\n        \"description\": \"\"\n      }\n    },\n    {\n      \"column\": \"mse\",\n      \"properties\": {\n        \"dtype\": \"number\",\n        \"std\": 0.017018739671315272,\n        \"min\": 0.27225,\n        \"max\": 0.30775,\n        \"num_unique_values\": 5,\n        \"samples\": [\n          0.2775,\n          0.30775,\n          0.30275\n        ],\n        \"semantic_type\": \"\",\n        \"description\": \"\"\n      }\n    },\n    {\n      \"column\": \"train_time (s)\",\n      \"properties\": {\n        \"dtype\": \"number\",\n        \"std\": 51.54781020596592,\n        \"min\": 2.1032395362854004,\n        \"max\": 129.43386387825012,\n        \"num_unique_values\": 5,\n        \"samples\": [\n          2.1032395362854004,\n          129.43386387825012,\n          38.06132245063782\n        ],\n        \"semantic_type\": \"\",\n        \"description\": \"\"\n      }\n    }\n  ]\n}"
            }
          },
          "metadata": {},
          "execution_count": 16
        }
      ]
    },
    {
      "cell_type": "code",
      "source": [
        "show_calibration_curve(models, X_test_w2v, y_test_w2v, exclude=[\"Ridge Classifier\"])"
      ],
      "metadata": {
        "id": "BzvEAr8AGGte",
        "colab": {
          "base_uri": "https://localhost:8080/",
          "height": 309
        },
        "outputId": "100ae6cd-1294-4faf-b298-b7b1b42e67d0"
      },
      "execution_count": 17,
      "outputs": [
        {
          "output_type": "display_data",
          "data": {
            "text/plain": [
              "<Figure size 1600x1000 with 1 Axes>"
            ],
            "image/png": "[encoded data removed]"
          },
          "metadata": {}
        }
      ]
    },
    {
      "cell_type": "markdown",
      "source": [
        "## | FastText"
      ],
      "metadata": {
        "id": "TJ8qN4p7XIm1"
      }
    },
    {
      "cell_type": "code",
      "source": [
        "%%time\n",
        "X_train_ft, X_valid_ft, X_test_ft, y_train_ft, y_valid_ft, y_test_ft = split_train_val_test(tweets_embeddings_fasttext, Y, sample_size=20000)"
      ],
      "metadata": {
        "id": "kCEq-SicZhMQ",
        "colab": {
          "base_uri": "https://localhost:8080/"
        },
        "outputId": "769b97d5-3fbe-4451-fb31-fe26295c45f3"
      },
      "execution_count": 18,
      "outputs": [
        {
          "output_type": "stream",
          "name": "stdout",
          "text": [
            "CPU times: user 4.75 s, sys: 23.3 s, total: 28 s\n",
            "Wall time: 4min 58s\n"
          ]
        }
      ]
    },
    {
      "cell_type": "code",
      "source": [
        "%%time\n",
        "ft_results_df = evaluate_models(X_train_ft, X_valid_ft, y_train_ft, y_valid_ft, cv=skf)"
      ],
      "metadata": {
        "id": "gUAslpRmZpmN",
        "colab": {
          "base_uri": "https://localhost:8080/"
        },
        "outputId": "d1d38aad-2145-4878-e129-e0b7e707c6a8"
      },
      "execution_count": 19,
      "outputs": [
        {
          "output_type": "stream",
          "name": "stderr",
          "text": [
            "\r  0%|          | 0/5 [00:00<?, ?it/s]"
          ]
        },
        {
          "output_type": "stream",
          "name": "stdout",
          "text": [
            "Evaluating Logistic Regression...\n"
          ]
        },
        {
          "output_type": "stream",
          "name": "stderr",
          "text": [
            "\r 20%|██        | 1/5 [00:31<02:07, 31.77s/it]"
          ]
        },
        {
          "output_type": "stream",
          "name": "stdout",
          "text": [
            "Evaluating Ridge Classifier...\n"
          ]
        },
        {
          "output_type": "stream",
          "name": "stderr",
          "text": [
            "\r 40%|████      | 2/5 [00:32<00:40, 13.64s/it]"
          ]
        },
        {
          "output_type": "stream",
          "name": "stdout",
          "text": [
            "Evaluating XGBoost...\n"
          ]
        },
        {
          "output_type": "stream",
          "name": "stderr",
          "text": [
            "\r 60%|██████    | 3/5 [01:53<01:28, 44.18s/it]"
          ]
        },
        {
          "output_type": "stream",
          "name": "stdout",
          "text": [
            "Evaluating LightGBM...\n"
          ]
        },
        {
          "output_type": "stream",
          "name": "stderr",
          "text": [
            "\r 80%|████████  | 4/5 [02:31<00:41, 41.80s/it]"
          ]
        },
        {
          "output_type": "stream",
          "name": "stdout",
          "text": [
            "Evaluating Random Forest...\n"
          ]
        },
        {
          "output_type": "stream",
          "name": "stderr",
          "text": [
            "100%|██████████| 5/5 [04:41<00:00, 56.39s/it]"
          ]
        },
        {
          "output_type": "stream",
          "name": "stdout",
          "text": [
            "\n",
            "\n",
            "CPU times: user 6min 26s, sys: 1.2 s, total: 6min 27s\n",
            "Wall time: 4min 41s\n"
          ]
        },
        {
          "output_type": "stream",
          "name": "stderr",
          "text": [
            "\n"
          ]
        }
      ]
    },
    {
      "cell_type": "code",
      "source": [
        "display(ft_results_df)"
      ],
      "metadata": {
        "id": "b8d0UMbOZt7J",
        "colab": {
          "base_uri": "https://localhost:8080/",
          "height": 206
        },
        "outputId": "8dd559a3-7700-4651-b443-bf0f5e08e4f7"
      },
      "execution_count": 20,
      "outputs": [
        {
          "output_type": "display_data",
          "data": {
            "text/plain": [
              "                 Model    score  precision  recall        f1      auc  \\\n",
              "0  Logistic Regression  0.72125   0.720259  0.7235  0.721876  0.72125   \n",
              "1     Ridge Classifier  0.72100   0.721000  0.7210  0.721000  0.72100   \n",
              "2              XGBoost  0.69600   0.695414  0.6975  0.696455  0.69600   \n",
              "3             LightGBM  0.69525   0.697521  0.6895  0.693488  0.69525   \n",
              "4        Random Forest  0.68250   0.696448  0.6470  0.670814  0.68250   \n",
              "\n",
              "       mse  train_time (s)  \n",
              "0  0.27875       31.768719  \n",
              "1  0.27900        0.943762  \n",
              "2  0.30400       80.519969  \n",
              "3  0.30475       38.159950  \n",
              "4  0.31750      130.554987  "
            ],
            "text/html": [
              "\n",
              "  <div id=\"df-bef5beb4-82e3-462e-839b-f9919dec8f4c\" class=\"colab-df-container\">\n",
              "    <div>\n",
              "<style scoped>\n",
              "    .dataframe tbody tr th:only-of-type {\n",
              "        vertical-align: middle;\n",
              "    }\n",
              "\n",
              "    .dataframe tbody tr th {\n",
              "        vertical-align: top;\n",
              "    }\n",
              "\n",
              "    .dataframe thead th {\n",
              "        text-align: right;\n",
              "    }\n",
              "</style>\n",
              "<table border=\"1\" class=\"dataframe\">\n",
              "  <thead>\n",
              "    <tr style=\"text-align: right;\">\n",
              "      <th></th>\n",
              "      <th>Model</th>\n",
              "      <th>score</th>\n",
              "      <th>precision</th>\n",
              "      <th>recall</th>\n",
              "      <th>f1</th>\n",
              "      <th>auc</th>\n",
              "      <th>mse</th>\n",
              "      <th>train_time (s)</th>\n",
              "    </tr>\n",
              "  </thead>\n",
              "  <tbody>\n",
              "    <tr>\n",
              "      <th>0</th>\n",
              "      <td>Logistic Regression</td>\n",
              "      <td>0.72125</td>\n",
              "      <td>0.720259</td>\n",
              "      <td>0.7235</td>\n",
              "      <td>0.721876</td>\n",
              "      <td>0.72125</td>\n",
              "      <td>0.27875</td>\n",
              "      <td>31.768719</td>\n",
              "    </tr>\n",
              "    <tr>\n",
              "      <th>1</th>\n",
              "      <td>Ridge Classifier</td>\n",
              "      <td>0.72100</td>\n",
              "      <td>0.721000</td>\n",
              "      <td>0.7210</td>\n",
              "      <td>0.721000</td>\n",
              "      <td>0.72100</td>\n",
              "      <td>0.27900</td>\n",
              "      <td>0.943762</td>\n",
              "    </tr>\n",
              "    <tr>\n",
              "      <th>2</th>\n",
              "      <td>XGBoost</td>\n",
              "      <td>0.69600</td>\n",
              "      <td>0.695414</td>\n",
              "      <td>0.6975</td>\n",
              "      <td>0.696455</td>\n",
              "      <td>0.69600</td>\n",
              "      <td>0.30400</td>\n",
              "      <td>80.519969</td>\n",
              "    </tr>\n",
              "    <tr>\n",
              "      <th>3</th>\n",
              "      <td>LightGBM</td>\n",
              "      <td>0.69525</td>\n",
              "      <td>0.697521</td>\n",
              "      <td>0.6895</td>\n",
              "      <td>0.693488</td>\n",
              "      <td>0.69525</td>\n",
              "      <td>0.30475</td>\n",
              "      <td>38.159950</td>\n",
              "    </tr>\n",
              "    <tr>\n",
              "      <th>4</th>\n",
              "      <td>Random Forest</td>\n",
              "      <td>0.68250</td>\n",
              "      <td>0.696448</td>\n",
              "      <td>0.6470</td>\n",
              "      <td>0.670814</td>\n",
              "      <td>0.68250</td>\n",
              "      <td>0.31750</td>\n",
              "      <td>130.554987</td>\n",
              "    </tr>\n",
              "  </tbody>\n",
              "</table>\n",
              "</div>\n",
              "    <div class=\"colab-df-buttons\">\n",
              "\n",
              "  <div class=\"colab-df-container\">\n",
              "    <button class=\"colab-df-convert\" onclick=\"convertToInteractive('df-bef5beb4-82e3-462e-839b-f9919dec8f4c')\"\n",
              "            title=\"Convert this dataframe to an interactive table.\"\n",
              "            style=\"display:none;\">\n",
              "\n",
              "  <svg xmlns=\"http://www.w3.org/2000/svg\" height=\"24px\" viewBox=\"0 -960 960 960\">\n",
              "    <path d=\"M120-120v-720h720v720H120Zm60-500h600v-160H180v160Zm220 220h160v-160H400v160Zm0 220h160v-160H400v160ZM180-400h160v-160H180v160Zm440 0h160v-160H620v160ZM180-180h160v-160H180v160Zm440 0h160v-160H620v160Z\"/>\n",
              "  </svg>\n",
              "    </button>\n",
              "\n",
              "  <style>\n",
              "    .colab-df-container {\n",
              "      display:flex;\n",
              "      gap: 12px;\n",
              "    }\n",
              "\n",
              "    .colab-df-convert {\n",
              "      background-color: #E8F0FE;\n",
              "      border: none;\n",
              "      border-radius: 50%;\n",
              "      cursor: pointer;\n",
              "      display: none;\n",
              "      fill: #1967D2;\n",
              "      height: 32px;\n",
              "      padding: 0 0 0 0;\n",
              "      width: 32px;\n",
              "    }\n",
              "\n",
              "    .colab-df-convert:hover {\n",
              "      background-color: #E2EBFA;\n",
              "      box-shadow: 0px 1px 2px rgba(60, 64, 67, 0.3), 0px 1px 3px 1px rgba(60, 64, 67, 0.15);\n",
              "      fill: #174EA6;\n",
              "    }\n",
              "\n",
              "    .colab-df-buttons div {\n",
              "      margin-bottom: 4px;\n",
              "    }\n",
              "\n",
              "    [theme=dark] .colab-df-convert {\n",
              "      background-color: #3B4455;\n",
              "      fill: #D2E3FC;\n",
              "    }\n",
              "\n",
              "    [theme=dark] .colab-df-convert:hover {\n",
              "      background-color: #434B5C;\n",
              "      box-shadow: 0px 1px 3px 1px rgba(0, 0, 0, 0.15);\n",
              "      filter: drop-shadow(0px 1px 2px rgba(0, 0, 0, 0.3));\n",
              "      fill: #FFFFFF;\n",
              "    }\n",
              "  </style>\n",
              "\n",
              "    <script>\n",
              "      const buttonEl =\n",
              "        document.querySelector('#df-bef5beb4-82e3-462e-839b-f9919dec8f4c button.colab-df-convert');\n",
              "      buttonEl.style.display =\n",
              "        google.colab.kernel.accessAllowed ? 'block' : 'none';\n",
              "\n",
              "      async function convertToInteractive(key) {\n",
              "        const element = document.querySelector('#df-bef5beb4-82e3-462e-839b-f9919dec8f4c');\n",
              "        const dataTable =\n",
              "          await google.colab.kernel.invokeFunction('convertToInteractive',\n",
              "                                                    [key], {});\n",
              "        if (!dataTable) return;\n",
              "\n",
              "        const docLinkHtml = 'Like what you see? Visit the ' +\n",
              "          '<a target=\"_blank\" href=https://colab.research.google.com/notebooks/data_table.ipynb>data table notebook</a>'\n",
              "          + ' to learn more about interactive tables.';\n",
              "        element.innerHTML = '';\n",
              "        dataTable['output_type'] = 'display_data';\n",
              "        await google.colab.output.renderOutput(dataTable, element);\n",
              "        const docLink = document.createElement('div');\n",
              "        docLink.innerHTML = docLinkHtml;\n",
              "        element.appendChild(docLink);\n",
              "      }\n",
              "    </script>\n",
              "  </div>\n",
              "\n",
              "\n",
              "    <div id=\"df-d3b1c15e-d8b7-4a3c-bcac-f7da3eaba71e\">\n",
              "      <button class=\"colab-df-quickchart\" onclick=\"quickchart('df-d3b1c15e-d8b7-4a3c-bcac-f7da3eaba71e')\"\n",
              "                title=\"Suggest charts\"\n",
              "                style=\"display:none;\">\n",
              "\n",
              "<svg xmlns=\"http://www.w3.org/2000/svg\" height=\"24px\"viewBox=\"0 0 24 24\"\n",
              "     width=\"24px\">\n",
              "    <g>\n",
              "        <path d=\"M19 3H5c-1.1 0-2 .9-2 2v14c0 1.1.9 2 2 2h14c1.1 0 2-.9 2-2V5c0-1.1-.9-2-2-2zM9 17H7v-7h2v7zm4 0h-2V7h2v10zm4 0h-2v-4h2v4z\"/>\n",
              "    </g>\n",
              "</svg>\n",
              "      </button>\n",
              "\n",
              "<style>\n",
              "  .colab-df-quickchart {\n",
              "      --bg-color: #E8F0FE;\n",
              "      --fill-color: #1967D2;\n",
              "      --hover-bg-color: #E2EBFA;\n",
              "      --hover-fill-color: #174EA6;\n",
              "      --disabled-fill-color: #AAA;\n",
              "      --disabled-bg-color: #DDD;\n",
              "  }\n",
              "\n",
              "  [theme=dark] .colab-df-quickchart {\n",
              "      --bg-color: #3B4455;\n",
              "      --fill-color: #D2E3FC;\n",
              "      --hover-bg-color: #434B5C;\n",
              "      --hover-fill-color: #FFFFFF;\n",
              "      --disabled-bg-color: #3B4455;\n",
              "      --disabled-fill-color: #666;\n",
              "  }\n",
              "\n",
              "  .colab-df-quickchart {\n",
              "    background-color: var(--bg-color);\n",
              "    border: none;\n",
              "    border-radius: 50%;\n",
              "    cursor: pointer;\n",
              "    display: none;\n",
              "    fill: var(--fill-color);\n",
              "    height: 32px;\n",
              "    padding: 0;\n",
              "    width: 32px;\n",
              "  }\n",
              "\n",
              "  .colab-df-quickchart:hover {\n",
              "    background-color: var(--hover-bg-color);\n",
              "    box-shadow: 0 1px 2px rgba(60, 64, 67, 0.3), 0 1px 3px 1px rgba(60, 64, 67, 0.15);\n",
              "    fill: var(--button-hover-fill-color);\n",
              "  }\n",
              "\n",
              "  .colab-df-quickchart-complete:disabled,\n",
              "  .colab-df-quickchart-complete:disabled:hover {\n",
              "    background-color: var(--disabled-bg-color);\n",
              "    fill: var(--disabled-fill-color);\n",
              "    box-shadow: none;\n",
              "  }\n",
              "\n",
              "  .colab-df-spinner {\n",
              "    border: 2px solid var(--fill-color);\n",
              "    border-color: transparent;\n",
              "    border-bottom-color: var(--fill-color);\n",
              "    animation:\n",
              "      spin 1s steps(1) infinite;\n",
              "  }\n",
              "\n",
              "  @keyframes spin {\n",
              "    0% {\n",
              "      border-color: transparent;\n",
              "      border-bottom-color: var(--fill-color);\n",
              "      border-left-color: var(--fill-color);\n",
              "    }\n",
              "    20% {\n",
              "      border-color: transparent;\n",
              "      border-left-color: var(--fill-color);\n",
              "      border-top-color: var(--fill-color);\n",
              "    }\n",
              "    30% {\n",
              "      border-color: transparent;\n",
              "      border-left-color: var(--fill-color);\n",
              "      border-top-color: var(--fill-color);\n",
              "      border-right-color: var(--fill-color);\n",
              "    }\n",
              "    40% {\n",
              "      border-color: transparent;\n",
              "      border-right-color: var(--fill-color);\n",
              "      border-top-color: var(--fill-color);\n",
              "    }\n",
              "    60% {\n",
              "      border-color: transparent;\n",
              "      border-right-color: var(--fill-color);\n",
              "    }\n",
              "    80% {\n",
              "      border-color: transparent;\n",
              "      border-right-color: var(--fill-color);\n",
              "      border-bottom-color: var(--fill-color);\n",
              "    }\n",
              "    90% {\n",
              "      border-color: transparent;\n",
              "      border-bottom-color: var(--fill-color);\n",
              "    }\n",
              "  }\n",
              "</style>\n",
              "\n",
              "      <script>\n",
              "        async function quickchart(key) {\n",
              "          const quickchartButtonEl =\n",
              "            document.querySelector('#' + key + ' button');\n",
              "          quickchartButtonEl.disabled = true;  // To prevent multiple clicks.\n",
              "          quickchartButtonEl.classList.add('colab-df-spinner');\n",
              "          try {\n",
              "            const charts = await google.colab.kernel.invokeFunction(\n",
              "                'suggestCharts', [key], {});\n",
              "          } catch (error) {\n",
              "            console.error('Error during call to suggestCharts:', error);\n",
              "          }\n",
              "          quickchartButtonEl.classList.remove('colab-df-spinner');\n",
              "          quickchartButtonEl.classList.add('colab-df-quickchart-complete');\n",
              "        }\n",
              "        (() => {\n",
              "          let quickchartButtonEl =\n",
              "            document.querySelector('#df-d3b1c15e-d8b7-4a3c-bcac-f7da3eaba71e button');\n",
              "          quickchartButtonEl.style.display =\n",
              "            google.colab.kernel.accessAllowed ? 'block' : 'none';\n",
              "        })();\n",
              "      </script>\n",
              "    </div>\n",
              "\n",
              "  <div id=\"id_81b66b62-07f2-488b-96ec-741bca440734\">\n",
              "    <style>\n",
              "      .colab-df-generate {\n",
              "        background-color: #E8F0FE;\n",
              "        border: none;\n",
              "        border-radius: 50%;\n",
              "        cursor: pointer;\n",
              "        display: none;\n",
              "        fill: #1967D2;\n",
              "        height: 32px;\n",
              "        padding: 0 0 0 0;\n",
              "        width: 32px;\n",
              "      }\n",
              "\n",
              "      .colab-df-generate:hover {\n",
              "        background-color: #E2EBFA;\n",
              "        box-shadow: 0px 1px 2px rgba(60, 64, 67, 0.3), 0px 1px 3px 1px rgba(60, 64, 67, 0.15);\n",
              "        fill: #174EA6;\n",
              "      }\n",
              "\n",
              "      [theme=dark] .colab-df-generate {\n",
              "        background-color: #3B4455;\n",
              "        fill: #D2E3FC;\n",
              "      }\n",
              "\n",
              "      [theme=dark] .colab-df-generate:hover {\n",
              "        background-color: #434B5C;\n",
              "        box-shadow: 0px 1px 3px 1px rgba(0, 0, 0, 0.15);\n",
              "        filter: drop-shadow(0px 1px 2px rgba(0, 0, 0, 0.3));\n",
              "        fill: #FFFFFF;\n",
              "      }\n",
              "    </style>\n",
              "    <button class=\"colab-df-generate\" onclick=\"generateWithVariable('ft_results_df')\"\n",
              "            title=\"Generate code using this dataframe.\"\n",
              "            style=\"display:none;\">\n",
              "\n",
              "  <svg xmlns=\"http://www.w3.org/2000/svg\" height=\"24px\"viewBox=\"0 0 24 24\"\n",
              "       width=\"24px\">\n",
              "    <path d=\"M7,19H8.4L18.45,9,17,7.55,7,17.6ZM5,21V16.75L18.45,3.32a2,2,0,0,1,2.83,0l1.4,1.43a1.91,1.91,0,0,1,.58,1.4,1.91,1.91,0,0,1-.58,1.4L9.25,21ZM18.45,9,17,7.55Zm-12,3A5.31,5.31,0,0,0,4.9,8.1,5.31,5.31,0,0,0,1,6.5,5.31,5.31,0,0,0,4.9,4.9,5.31,5.31,0,0,0,6.5,1,5.31,5.31,0,0,0,8.1,4.9,5.31,5.31,0,0,0,12,6.5,5.46,5.46,0,0,0,6.5,12Z\"/>\n",
              "  </svg>\n",
              "    </button>\n",
              "    <script>\n",
              "      (() => {\n",
              "      const buttonEl =\n",
              "        document.querySelector('#id_81b66b62-07f2-488b-96ec-741bca440734 button.colab-df-generate');\n",
              "      buttonEl.style.display =\n",
              "        google.colab.kernel.accessAllowed ? 'block' : 'none';\n",
              "\n",
              "      buttonEl.onclick = () => {\n",
              "        google.colab.notebook.generateWithVariable('ft_results_df');\n",
              "      }\n",
              "      })();\n",
              "    </script>\n",
              "  </div>\n",
              "\n",
              "    </div>\n",
              "  </div>\n"
            ],
            "application/vnd.google.colaboratory.intrinsic+json": {
              "type": "dataframe",
              "variable_name": "ft_results_df",
              "summary": "{\n  \"name\": \"ft_results_df\",\n  \"rows\": 5,\n  \"fields\": [\n    {\n      \"column\": \"Model\",\n      \"properties\": {\n        \"dtype\": \"string\",\n        \"num_unique_values\": 5,\n        \"samples\": [\n          \"Ridge Classifier\",\n          \"Random Forest\",\n          \"XGBoost\"\n        ],\n        \"semantic_type\": \"\",\n        \"description\": \"\"\n      }\n    },\n    {\n      \"column\": \"score\",\n      \"properties\": {\n        \"dtype\": \"number\",\n        \"std\": 0.017220445696903414,\n        \"min\": 0.6825,\n        \"max\": 0.72125,\n        \"num_unique_values\": 5,\n        \"samples\": [\n          0.721,\n          0.6825,\n          0.696\n        ],\n        \"semantic_type\": \"\",\n        \"description\": \"\"\n      }\n    },\n    {\n      \"column\": \"precision\",\n      \"properties\": {\n        \"dtype\": \"number\",\n        \"std\": 0.01326112877377416,\n        \"min\": 0.6954137587238285,\n        \"max\": 0.721,\n        \"num_unique_values\": 5,\n        \"samples\": [\n          0.721,\n          0.6964477933261571,\n          0.6954137587238285\n        ],\n        \"semantic_type\": \"\",\n        \"description\": \"\"\n      }\n    },\n    {\n      \"column\": \"recall\",\n      \"properties\": {\n        \"dtype\": \"number\",\n        \"std\": 0.030928546684252715,\n        \"min\": 0.647,\n        \"max\": 0.7235,\n        \"num_unique_values\": 5,\n        \"samples\": [\n          0.721,\n          0.647,\n          0.6975\n        ],\n        \"semantic_type\": \"\",\n        \"description\": \"\"\n      }\n    },\n    {\n      \"column\": \"f1\",\n      \"properties\": {\n        \"dtype\": \"number\",\n        \"std\": 0.021352495298645125,\n        \"min\": 0.6708138932089165,\n        \"max\": 0.7218757794961337,\n        \"num_unique_values\": 5,\n        \"samples\": [\n          0.721,\n          0.6708138932089165,\n          0.6964553170244633\n        ],\n        \"semantic_type\": \"\",\n        \"description\": \"\"\n      }\n    },\n    {\n      \"column\": \"auc\",\n      \"properties\": {\n        \"dtype\": \"number\",\n        \"std\": 0.017220445696903508,\n        \"min\": 0.6824999999999999,\n        \"max\": 0.7212500000000001,\n        \"num_unique_values\": 5,\n        \"samples\": [\n          0.7210000000000001,\n          0.6824999999999999,\n          0.696\n        ],\n        \"semantic_type\": \"\",\n        \"description\": \"\"\n      }\n    },\n    {\n      \"column\": \"mse\",\n      \"properties\": {\n        \"dtype\": \"number\",\n        \"std\": 0.01722044569690343,\n        \"min\": 0.27875,\n        \"max\": 0.3175,\n        \"num_unique_values\": 5,\n        \"samples\": [\n          0.279,\n          0.3175,\n          0.304\n        ],\n        \"semantic_type\": \"\",\n        \"description\": \"\"\n      }\n    },\n    {\n      \"column\": \"train_time (s)\",\n      \"properties\": {\n        \"dtype\": \"number\",\n        \"std\": 50.23825297495985,\n        \"min\": 0.9437623023986816,\n        \"max\": 130.55498719215393,\n        \"num_unique_values\": 5,\n        \"samples\": [\n          0.9437623023986816,\n          130.55498719215393,\n          80.51996946334839\n        ],\n        \"semantic_type\": \"\",\n        \"description\": \"\"\n      }\n    }\n  ]\n}"
            }
          },
          "metadata": {}
        }
      ]
    },
    {
      "cell_type": "markdown",
      "source": [
        "# Approche 2: Modèle sur mesure avancé (Reseau de Neurone)"
      ],
      "metadata": {
        "id": "xFkplq7MZ90y"
      }
    },
    {
      "cell_type": "code",
      "source": [
        "from tensorflow.keras.models import Sequential\n",
        "from tensorflow.keras.layers import Embedding, Bidirectional, LSTM, Dense, Dropout\n",
        "\n",
        "def build_model(embeddings, input_dim=300, output_dim=300):\n",
        "  model = Sequential()\n",
        "  model.add(Embedding(input_dim=input_dim, output_dim=output_dim, input_length=input_dim))\n",
        "  model.add(Bidirectional(LSTM(64, return_sequences=False)))\n",
        "  model.add(Dropout(0.5))\n",
        "  model.add(Dense(32, activation='relu'))\n",
        "  model.add(Dense(1, activation='sigmoid'))  # pour classification binaire\n",
        "\n",
        "  return model"
      ],
      "metadata": {
        "id": "ALfZgzwTQ2IW"
      },
      "execution_count": 21,
      "outputs": []
    },
    {
      "cell_type": "code",
      "source": [
        "model.compile(loss='binary_crossentropy', optimizer='adam', metrics=['accuracy'])\n",
        "model.summary()"
      ],
      "metadata": {
        "id": "lWxkJS4UTja9",
        "colab": {
          "base_uri": "https://localhost:8080/",
          "height": 166
        },
        "outputId": "3df64a15-2196-4a64-c1b5-cc1556424fb0"
      },
      "execution_count": 22,
      "outputs": [
        {
          "output_type": "error",
          "ename": "NameError",
          "evalue": "name 'model' is not defined",
          "traceback": [
            "\u001b[0;31m---------------------------------------------------------------------------\u001b[0m",
            "\u001b[0;31mNameError\u001b[0m                                 Traceback (most recent call last)",
            "\u001b[0;32m<ipython-input-22-e19a774f1643>\u001b[0m in \u001b[0;36m<cell line: 0>\u001b[0;34m()\u001b[0m\n\u001b[0;32m----> 1\u001b[0;31m \u001b[0mmodel\u001b[0m\u001b[0;34m.\u001b[0m\u001b[0mcompile\u001b[0m\u001b[0;34m(\u001b[0m\u001b[0mloss\u001b[0m\u001b[0;34m=\u001b[0m\u001b[0;34m'binary_crossentropy'\u001b[0m\u001b[0;34m,\u001b[0m \u001b[0moptimizer\u001b[0m\u001b[0;34m=\u001b[0m\u001b[0;34m'adam'\u001b[0m\u001b[0;34m,\u001b[0m \u001b[0mmetrics\u001b[0m\u001b[0;34m=\u001b[0m\u001b[0;34m[\u001b[0m\u001b[0;34m'accuracy'\u001b[0m\u001b[0;34m]\u001b[0m\u001b[0;34m)\u001b[0m\u001b[0;34m\u001b[0m\u001b[0;34m\u001b[0m\u001b[0m\n\u001b[0m\u001b[1;32m      2\u001b[0m \u001b[0mmodel\u001b[0m\u001b[0;34m.\u001b[0m\u001b[0msummary\u001b[0m\u001b[0;34m(\u001b[0m\u001b[0;34m)\u001b[0m\u001b[0;34m\u001b[0m\u001b[0;34m\u001b[0m\u001b[0m\n",
            "\u001b[0;31mNameError\u001b[0m: name 'model' is not defined"
          ]
        }
      ]
    },
    {
      "cell_type": "markdown",
      "source": [
        "## | Word2Vec"
      ],
      "metadata": {
        "id": "3uKHYumiSAv8"
      }
    },
    {
      "cell_type": "markdown",
      "source": [
        "## | FastText"
      ],
      "metadata": {
        "id": "4uzSFd6vSG8r"
      }
    }
  ],
  "metadata": {
    "kernelspec": {
      "display_name": "Python 3 (ipykernel)",
      "language": "python",
      "name": "python3"
    },
    "language_info": {
      "codemirror_mode": {
        "name": "ipython",
        "version": 3
      },
      "file_extension": ".py",
      "mimetype": "text/x-python",
      "name": "python",
      "nbconvert_exporter": "python",
      "pygments_lexer": "ipython3",
      "version": "3.13.2"
    },
    "papermill": {
      "duration": 500.435762,
      "end_time": "2020-08-26T21:07:20.093709",
      "environment_variables": {},
      "exception": null,
      "input_path": "__notebook__.ipynb",
      "output_path": "__notebook__.ipynb",
      "parameters": {},
      "start_time": "2020-08-26T20:58:59.657947",
      "version": "2.1.0"
    },
    "colab": {
      "provenance": [],
      "toc_visible": true
    }
  },
  "nbformat": 4,
  "nbformat_minor": 0
}