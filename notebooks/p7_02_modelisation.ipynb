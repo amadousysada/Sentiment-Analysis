{
  "cells": [
    {
      "cell_type": "markdown",
      "metadata": {
        "id": "view-in-github",
        "colab_type": "text"
      },
      "source": [
        "<a href=\"https://colab.research.google.com/github/amadousysada/Sentiment-Analysis/blob/main/notebooks/p7_02_modelisation.ipynb\" target=\"_parent\"><img src=\"https://colab.research.google.com/assets/colab-badge.svg\" alt=\"Open In Colab\"/></a>"
      ]
    },
    {
      "cell_type": "markdown",
      "source": [
        "# Import des librairies"
      ],
      "metadata": {
        "id": "hwecoVR_24PI"
      }
    },
    {
      "cell_type": "code",
      "execution_count": null,
      "metadata": {
        "execution": {
          "iopub.execute_input": "2020-08-26T20:59:06.289122Z",
          "iopub.status.busy": "2020-08-26T20:59:06.288192Z",
          "iopub.status.idle": "2020-08-26T20:59:08.802804Z",
          "shell.execute_reply": "2020-08-26T20:59:08.802075Z"
        },
        "papermill": {
          "duration": 2.557066,
          "end_time": "2020-08-26T20:59:08.802938",
          "exception": false,
          "start_time": "2020-08-26T20:59:06.245872",
          "status": "completed"
        },
        "scrolled": true,
        "tags": [],
        "colab": {
          "base_uri": "https://localhost:8080/"
        },
        "id": "4DO_uFhC0Qsr",
        "outputId": "07ffb5b4-2b9b-41f0-bf00-21e07fc5f0d1"
      },
      "outputs": [
        {
          "output_type": "stream",
          "name": "stdout",
          "text": [
            "\u001b[2K   \u001b[90m━━━━━━━━━━━━━━━━━━━━━━━━━━━━━━━━━━━━━━━━\u001b[0m \u001b[32m29.0/29.0 MB\u001b[0m \u001b[31m88.6 MB/s\u001b[0m eta \u001b[36m0:00:00\u001b[0m\n",
            "\u001b[2K   \u001b[90m━━━━━━━━━━━━━━━━━━━━━━━━━━━━━━━━━━━━━━━━\u001b[0m \u001b[32m6.3/6.3 MB\u001b[0m \u001b[31m130.1 MB/s\u001b[0m eta \u001b[36m0:00:00\u001b[0m\n",
            "\u001b[2K   \u001b[90m━━━━━━━━━━━━━━━━━━━━━━━━━━━━━━━━━━━━━━━━\u001b[0m \u001b[32m242.5/242.5 kB\u001b[0m \u001b[31m26.8 MB/s\u001b[0m eta \u001b[36m0:00:00\u001b[0m\n",
            "\u001b[2K   \u001b[90m━━━━━━━━━━━━━━━━━━━━━━━━━━━━━━━━━━━━━━━━\u001b[0m \u001b[32m147.8/147.8 kB\u001b[0m \u001b[31m17.2 MB/s\u001b[0m eta \u001b[36m0:00:00\u001b[0m\n",
            "\u001b[2K   \u001b[90m━━━━━━━━━━━━━━━━━━━━━━━━━━━━━━━━━━━━━━━━\u001b[0m \u001b[32m114.9/114.9 kB\u001b[0m \u001b[31m12.9 MB/s\u001b[0m eta \u001b[36m0:00:00\u001b[0m\n",
            "\u001b[2K   \u001b[90m━━━━━━━━━━━━━━━━━━━━━━━━━━━━━━━━━━━━━━━━\u001b[0m \u001b[32m85.0/85.0 kB\u001b[0m \u001b[31m10.1 MB/s\u001b[0m eta \u001b[36m0:00:00\u001b[0m\n",
            "\u001b[2K   \u001b[90m━━━━━━━━━━━━━━━━━━━━━━━━━━━━━━━━━━━━━━━━\u001b[0m \u001b[32m733.7/733.7 kB\u001b[0m \u001b[31m61.5 MB/s\u001b[0m eta \u001b[36m0:00:00\u001b[0m\n",
            "\u001b[2K   \u001b[90m━━━━━━━━━━━━━━━━━━━━━━━━━━━━━━━━━━━━━━━━\u001b[0m \u001b[32m203.4/203.4 kB\u001b[0m \u001b[31m24.9 MB/s\u001b[0m eta \u001b[36m0:00:00\u001b[0m\n",
            "\u001b[2K   \u001b[90m━━━━━━━━━━━━━━━━━━━━━━━━━━━━━━━━━━━━━━━━\u001b[0m \u001b[32m65.8/65.8 kB\u001b[0m \u001b[31m7.9 MB/s\u001b[0m eta \u001b[36m0:00:00\u001b[0m\n",
            "\u001b[2K   \u001b[90m━━━━━━━━━━━━━━━━━━━━━━━━━━━━━━━━━━━━━━━━\u001b[0m \u001b[32m118.4/118.4 kB\u001b[0m \u001b[31m13.4 MB/s\u001b[0m eta \u001b[36m0:00:00\u001b[0m\n",
            "\u001b[2K   \u001b[90m━━━━━━━━━━━━━━━━━━━━━━━━━━━━━━━━━━━━━━━━\u001b[0m \u001b[32m196.2/196.2 kB\u001b[0m \u001b[31m20.5 MB/s\u001b[0m eta \u001b[36m0:00:00\u001b[0m\n",
            "\u001b[?25hPython version: 3.11.13 (main, Jun  4 2025, 08:57:29) [GCC 11.4.0]\n",
            "Version info.: sys.version_info(major=3, minor=11, micro=13, releaselevel='final', serial=0)\n",
            "pandas version: 2.2.2\n",
            "numpy version: 1.26.4\n",
            "skearn version: 1.6.1\n",
            "tensorflow version: 2.18.0\n",
            "tensorflow_text version: 2.18.1\n",
            "CPU times: user 8.38 s, sys: 914 ms, total: 9.29 s\n",
            "Wall time: 20.3 s\n"
          ]
        }
      ],
      "source": [
        "%%time\n",
        "import time\n",
        "init_time = time.time()\n",
        "\n",
        "import os\n",
        "import sys\n",
        "import warnings\n",
        "warnings.filterwarnings(\"ignore\", category=FutureWarning)\n",
        "\n",
        "if not sys.warnoptions:\n",
        "    warnings.simplefilter(\"ignore\")\n",
        "\n",
        "# Installation du package gensim\n",
        "!pip install --no-cache-dir -q gensim\n",
        "import gensim\n",
        "from gensim.models import Word2Vec\n",
        "\n",
        "import numpy as np\n",
        "import pandas as pd\n",
        "import sklearn\n",
        "\n",
        "from matplotlib import pyplot as plt\n",
        "from matplotlib.gridspec import GridSpec\n",
        "\n",
        "\n",
        "import seaborn as sns\n",
        "\n",
        "# Tensorflow\n",
        "import tensorflow as tf\n",
        "import tensorflow_text as text\n",
        "\n",
        "#Scikit-learn\n",
        "from sklearn.linear_model import LogisticRegression, RidgeClassifier\n",
        "from sklearn.model_selection import cross_val_score, train_test_split, StratifiedKFold\n",
        "from sklearn.metrics import accuracy_score, f1_score, roc_auc_score, recall_score, precision_score, mean_squared_error\n",
        "from sklearn.calibration import CalibrationDisplay\n",
        "from sklearn.ensemble import RandomForestClassifier\n",
        "\n",
        "# Modèles de Boosting\n",
        "from xgboost import XGBClassifier\n",
        "from lightgbm import LGBMClassifier\n",
        "\n",
        "# MLFLOW\n",
        "!pip install mlflow -q\n",
        "import mlflow\n",
        "import mlflow.sklearn\n",
        "from mlflow.models import infer_signature\n",
        "\n",
        "print(\"Python version:\", sys.version)\n",
        "print(\"Version info.:\", sys.version_info)\n",
        "print(\"pandas version:\", pd.__version__)\n",
        "print(\"numpy version:\", np.__version__)\n",
        "print(\"skearn version:\", sklearn.__version__)\n",
        "#print(\"nltk version:\", nltk.__version__)\n",
        "print(\"tensorflow version:\", tf.__version__)\n",
        "print(\"tensorflow_text version:\", text.__version__)"
      ]
    },
    {
      "cell_type": "code",
      "source": [],
      "metadata": {
        "id": "NiheTsdAfadx"
      },
      "execution_count": null,
      "outputs": []
    },
    {
      "cell_type": "code",
      "source": [
        "MLFLOW_TRACKING_URI = \"https://mlflow.amadousy.dev\"\n",
        "mlflow.set_tracking_uri(MLFLOW_TRACKING_URI)"
      ],
      "metadata": {
        "id": "5EJBMWGMfH48"
      },
      "execution_count": null,
      "outputs": []
    },
    {
      "cell_type": "markdown",
      "metadata": {
        "papermill": {
          "duration": 0.02595,
          "end_time": "2020-08-26T20:59:08.856139",
          "exception": false,
          "start_time": "2020-08-26T20:59:08.830189",
          "status": "completed"
        },
        "tags": [],
        "id": "0yR7Xntu0Qss"
      },
      "source": [
        "# Chargement des données"
      ]
    },
    {
      "cell_type": "code",
      "source": [
        "path = \"/content/drive/MyDrive/data/sentiments\"\n",
        "#path = \"./data/sentiments\""
      ],
      "metadata": {
        "id": "R-voC08WLnhy"
      },
      "execution_count": null,
      "outputs": []
    },
    {
      "cell_type": "code",
      "source": [
        "for name in [\"tweets_df_tfidf_1gram\", \"embeddings_bert\", \"embeddings_fasttext\", \"embeddings_word2vec\"]:\n",
        "    size = os.path.getsize(os.path.join(path, f\"{name}.npy\")) / 1e6\n",
        "    print(f\"{name}: {size:.2f} MB\")"
      ],
      "metadata": {
        "colab": {
          "base_uri": "https://localhost:8080/"
        },
        "id": "X8mLJj6lu2HA",
        "outputId": "c511ffa4-8994-43d1-fc0d-2f6126915177"
      },
      "execution_count": null,
      "outputs": [
        {
          "output_type": "stream",
          "name": "stdout",
          "text": [
            "tweets_df_tfidf_1gram: 80.46 MB\n",
            "embeddings_bert: 30.72 MB\n",
            "embeddings_fasttext: 3823.37 MB\n",
            "embeddings_word2vec: 3823.37 MB\n"
          ]
        }
      ]
    },
    {
      "cell_type": "code",
      "source": [
        "%%time\n",
        "tweets_df_tfidf_1gram = np.load(os.path.join(path, \"tweets_df_tfidf_1gram.npy\"), allow_pickle=True)\n",
        "\n",
        "tweets_embeddings_bert = np.load(os.path.join(path, \"embeddings_bert.npy\"), allow_pickle=True)\n",
        "tweets_embeddings_fasttext = np.load(os.path.join(path, \"embeddings_fasttext.npy\"), mmap_mode='r')\n",
        "tweets_embeddings_word2vec = np.load(os.path.join(path, \"embeddings_word2vec.npy\"), mmap_mode='r')"
      ],
      "metadata": {
        "id": "hQrTqDqRLtFP",
        "outputId": "fee80a9f-1954-4577-dd25-7b796c6da5b9",
        "colab": {
          "base_uri": "https://localhost:8080/"
        }
      },
      "execution_count": null,
      "outputs": [
        {
          "output_type": "stream",
          "name": "stdout",
          "text": [
            "CPU times: user 47.9 ms, sys: 66.9 ms, total: 115 ms\n",
            "Wall time: 10.2 s\n"
          ]
        }
      ]
    },
    {
      "cell_type": "code",
      "source": [
        "print(tweets_df_tfidf_1gram.item().shape)\n",
        "print(tweets_embeddings_word2vec.shape)\n",
        "print(tweets_embeddings_fasttext.shape)\n",
        "print(tweets_embeddings_bert.shape)"
      ],
      "metadata": {
        "id": "ilbCvRzROnEe",
        "outputId": "4ca9c829-e707-4410-c93a-5d30ad8cdce1",
        "colab": {
          "base_uri": "https://localhost:8080/"
        }
      },
      "execution_count": null,
      "outputs": [
        {
          "output_type": "stream",
          "name": "stdout",
          "text": [
            "(1593071, 500)\n",
            "(1593071, 300)\n",
            "(1593071, 300)\n",
            "(10000, 768)\n"
          ]
        }
      ]
    },
    {
      "cell_type": "markdown",
      "source": [
        "> Chargement de la variable cible"
      ],
      "metadata": {
        "id": "6Q3cKj798QPQ"
      }
    },
    {
      "cell_type": "code",
      "source": [
        "# Variable cible\n",
        "Y = np.load(os.path.join(path, \"targets.npy\"), allow_pickle=True)\n",
        "display(Y.shape)"
      ],
      "metadata": {
        "colab": {
          "base_uri": "https://localhost:8080/",
          "height": 35
        },
        "id": "ehajTkli8N88",
        "outputId": "ea93add0-57d1-4758-8253-5ecb3006a829"
      },
      "execution_count": null,
      "outputs": [
        {
          "output_type": "display_data",
          "data": {
            "text/plain": [
              "(1593071,)"
            ]
          },
          "metadata": {}
        }
      ]
    },
    {
      "cell_type": "code",
      "source": [
        "def plot_distribution(y_train, y_val, y_test):\n",
        "  # Création des distributions\n",
        "  dist_df = pd.DataFrame({\n",
        "      \"Train set\": pd.Series(y_train).value_counts(normalize=True),\n",
        "      \"Validation set\": pd.Series(y_val).value_counts(normalize=True),\n",
        "      \"Test set\": pd.Series(y_test).value_counts(normalize=True)\n",
        "  }).T\n",
        "\n",
        "  # Optionnel : renommer les colonnes\n",
        "  #dist_df.columns = [\"Classe 1\", \"Classe 0\"]\n",
        "\n",
        "  # Barplot\n",
        "  dist_df.plot(kind=\"bar\", figsize=(8, 5), colormap=\"Set2\")\n",
        "  plt.title(\"Répartition des classes dans y_train, y_val et y_test\")\n",
        "  plt.ylabel(\"Proportion\")\n",
        "  plt.xticks(rotation=0)\n",
        "  plt.ylim(0, 1)\n",
        "  plt.legend(title=\"Classe\")\n",
        "  plt.tight_layout()\n",
        "  plt.show()\n",
        "\n",
        "\n",
        "def split_train_val_test(X, y, sample_size=None, test_size=0.2, val_size=0.2, random_state=42):\n",
        "    \"\"\"\n",
        "    Splitte un jeu de données en trois sous-ensembles : train, validation et test.\n",
        "\n",
        "    Paramètres :\n",
        "    -----------\n",
        "    X : array-like ou sparse matrix\n",
        "        Matrice des features (peut être dense ou sparse).\n",
        "\n",
        "    y : array-like\n",
        "        Vecteur cible (labels ou classes).\n",
        "\n",
        "    sample_size : int ou None (default=None)\n",
        "        Si spécifié, un sous-échantillon (stratifié) de cette taille est prélevé depuis X/y avant le split.\n",
        "\n",
        "    test_size : float (default=0.2)\n",
        "        Proportion du test set par rapport à l'ensemble X (ou X échantillonné).\n",
        "\n",
        "    val_size : float (default=0.2)\n",
        "        Proportion du validation set par rapport à (train + val).\n",
        "\n",
        "    random_state : int (default=42)\n",
        "        Graine pour la reproductibilité.\n",
        "\n",
        "    Retourne :\n",
        "    ---------\n",
        "    X_train, X_val, X_test, y_train, y_val, y_test : datasets splités avec stratification.\n",
        "    \"\"\"\n",
        "\n",
        "    if sample_size is not None:\n",
        "        X_sample, _, y_sample, _ = train_test_split(\n",
        "            X, y, train_size=sample_size, stratify=y, random_state=random_state\n",
        "        )\n",
        "    else:\n",
        "        X_sample, y_sample = X, y\n",
        "\n",
        "    # Split temporaire : train_val vs test\n",
        "    X_train_val, X_test, y_train_val, y_test = train_test_split(\n",
        "        X_sample, y_sample, test_size=test_size, stratify=y_sample, random_state=random_state\n",
        "    )\n",
        "\n",
        "    # Split train vs validation (sur le train_val)\n",
        "    val_split = val_size / (1 - test_size)\n",
        "    X_train, X_val, y_train, y_val = train_test_split(\n",
        "        X_train_val, y_train_val, test_size=val_split, stratify=y_train_val, random_state=random_state\n",
        "    )\n",
        "\n",
        "    return X_train, X_val, X_test, y_train, y_val, y_test\n"
      ],
      "metadata": {
        "id": "B5szwQ44_jsq"
      },
      "execution_count": null,
      "outputs": []
    },
    {
      "cell_type": "markdown",
      "source": [
        "# Approche 1: Modéle sur mesure"
      ],
      "metadata": {
        "id": "Z34S7rCCB9Uv"
      }
    },
    {
      "cell_type": "markdown",
      "source": [
        "- Logistic Regression\n",
        "- Ridge Classifier\n",
        "- Naive Bayes\n",
        "- Light Gradient Boosting Machine\n",
        "- Gradient Boosting Classifier\n",
        "- linear discriminant analysis"
      ],
      "metadata": {
        "id": "Mqn1YSL-Lw60"
      }
    },
    {
      "cell_type": "code",
      "source": [
        "import re\n",
        "import unicodedata\n",
        "\n",
        "def slugify(text):\n",
        "    text = text.lower()\n",
        "    text = unicodedata.normalize('NFKD', text).encode('ascii', 'ignore').decode('utf-8')\n",
        "    text = re.sub(r'[^a-z0-9]+', '-', text)\n",
        "    text = text.strip('-')\n",
        "    return text"
      ],
      "metadata": {
        "id": "JzukHM-lj7zH"
      },
      "execution_count": null,
      "outputs": []
    },
    {
      "cell_type": "code",
      "source": [
        "models = {\n",
        "    \"Logistic Regression\": LogisticRegression(max_iter=1000),\n",
        "    \"Ridge Classifier\": RidgeClassifier(),\n",
        "    \"XGBoost\": XGBClassifier(eval_metric='logloss', n_jobs=-1),\n",
        "    \"LightGBM\": LGBMClassifier(verbose=-1, n_jobs=-1),\n",
        "    \"Random Forest\": RandomForestClassifier(n_estimators=100),\n",
        "}"
      ],
      "metadata": {
        "id": "UZLWX9FXMNsa"
      },
      "execution_count": null,
      "outputs": []
    },
    {
      "cell_type": "code",
      "source": [
        "from tqdm import tqdm\n",
        "tqdm.pandas()\n",
        "\n",
        "def evaluate_models(x_train, x_valid, y_train, y_valid, cv=3, scoring=\"accuracy\", source=\"\"):\n",
        "    results = []\n",
        "    signature = infer_signature(x_train, y_train)\n",
        "    for name, model in tqdm(models.items()):\n",
        "      start_time = time.time()\n",
        "      print(f\"Evaluating {name}...\")\n",
        "      mlflow.set_experiment(f\"{source}-{slugify(name)}\")\n",
        "      with mlflow.start_run():\n",
        "        scores = cross_val_score(model, x_train, y_train, cv=cv, scoring=scoring)\n",
        "        y_pred = model.fit(x_train, y_train).predict(x_valid)\n",
        "        cv_score = scores.mean()\n",
        "        val_score = model.score(x_valid, y_valid)\n",
        "        precision = precision_score(y_valid, y_pred)\n",
        "        recall = recall_score(y_valid, y_pred)\n",
        "        f1 = f1_score(y_valid, y_pred)\n",
        "        auc = roc_auc_score(y_valid, y_pred)\n",
        "        mse = mean_squared_error(y_valid, y_pred)\n",
        "        train_time = time.time() - start_time\n",
        "\n",
        "        results.append({\n",
        "            \"Model\": name,\n",
        "            \"cv_score\": cv_score,\n",
        "            \"val_score\": val_score,\n",
        "            \"precision\": precision,\n",
        "            \"recall\": recall,\n",
        "            \"f1\": f1,\n",
        "            \"auc\": auc,\n",
        "            \"mse\": mse,\n",
        "            \"train_time (s)\": train_time\n",
        "        })\n",
        "        mlflow.log_params(model.get_params())\n",
        "        mlflow.log_metric(\"cv_score\", cv_score)\n",
        "        mlflow.log_metric(\"val_score\", val_score)\n",
        "        mlflow.log_metric(\"precision\", precision)\n",
        "        mlflow.log_metric(\"recall\", recall)\n",
        "        mlflow.log_metric(\"f1\", f1)\n",
        "        mlflow.log_metric(\"auc\", auc)\n",
        "        mlflow.log_metric(\"loss\", mse)\n",
        "        mlflow.log_metric(\"train_time\", train_time)\n",
        "        try:\n",
        "          mlflow.sklearn.log_model(\n",
        "              sk_model=model,\n",
        "              artifact_path=\"model-artifact\",\n",
        "              signature=signature,\n",
        "              input_example=x_train[:10],\n",
        "              registered_model_name=slugify(name)\n",
        "          )\n",
        "        except Exception as e:\n",
        "          print(f\"Erreur lors de l'enregistrement du modèle : {e}\")\n",
        "\n",
        "    print(\"\\n\")\n",
        "\n",
        "    return pd.DataFrame(results).sort_values(by=\"val_score\", ascending=False)\n",
        "\n",
        "def show_calibration_curve(models, X_valid, y_valid, exclude=None):\n",
        "  if exclude is None:\n",
        "    exclude = []\n",
        "  fig = plt.figure(figsize=(16, 10))\n",
        "  gs = GridSpec(7, 3)\n",
        "  colors = plt.get_cmap(\"Dark2\")\n",
        "\n",
        "  ax_calibration_curve = fig.add_subplot(gs[:2, :2])\n",
        "  calibration_displays = {}\n",
        "  markers = [\"^\", \"v\", \"s\", \"o\", \"2\"]\n",
        "  for i, (name, clf) in enumerate(models.items()):\n",
        "    if name not in exclude:\n",
        "      display = CalibrationDisplay.from_estimator(\n",
        "          clf,\n",
        "          X_valid,\n",
        "          y_valid,\n",
        "          n_bins=10,\n",
        "          name=name,\n",
        "          ax=ax_calibration_curve,\n",
        "          color=colors(i),\n",
        "          marker=markers[i],\n",
        "      )\n",
        "      calibration_displays[name] = display\n",
        "\n",
        "  ax_calibration_curve.grid()\n",
        "  ax_calibration_curve.set_title(\"Calibration plots\")\n",
        "\n",
        "skf = StratifiedKFold(n_splits=4)"
      ],
      "metadata": {
        "id": "gJgKZ158Mrpp"
      },
      "execution_count": null,
      "outputs": []
    },
    {
      "cell_type": "markdown",
      "source": [
        "## | Tf-idf"
      ],
      "metadata": {
        "id": "Xs5P0zRjWxrK"
      }
    },
    {
      "cell_type": "code",
      "source": [
        "X_train_tfidf, X_valid_tfidf, X_test_tfidf, y_train_tfidf, y_valid_tfidf, y_test_tfidf = split_train_val_test(tweets_df_tfidf_1gram.item(), Y, sample_size=20000)\n",
        "print(\"Répartition dans y_train    :\", pd.Series(y_train_tfidf).value_counts(normalize=True))\n",
        "print(\"Répartition dans y_validation:\", pd.Series(y_valid_tfidf).value_counts(normalize=True))\n",
        "print(\"Répartition dans y_test :\", pd.Series(y_test_tfidf).value_counts(normalize=True))\n",
        "plot_distribution(y_train_tfidf, y_valid_tfidf, y_test_tfidf)"
      ],
      "metadata": {
        "id": "CRsXanc9XtLS",
        "outputId": "7335958f-ce99-47a0-96d4-789b7ed8d305",
        "colab": {
          "base_uri": "https://localhost:8080/",
          "height": 672
        }
      },
      "execution_count": null,
      "outputs": [
        {
          "output_type": "stream",
          "name": "stdout",
          "text": [
            "Répartition dans y_train    : 1    0.500083\n",
            "0    0.499917\n",
            "Name: proportion, dtype: float64\n",
            "Répartition dans y_validation: 0    0.5\n",
            "1    0.5\n",
            "Name: proportion, dtype: float64\n",
            "Répartition dans y_test : 1    0.5\n",
            "0    0.5\n",
            "Name: proportion, dtype: float64\n"
          ]
        },
        {
          "output_type": "display_data",
          "data": {
            "text/plain": [
              "<Figure size 800x500 with 1 Axes>"
            ],
            "image/png": "[encoded data removed]"
          },
          "metadata": {}
        }
      ]
    },
    {
      "cell_type": "code",
      "source": [
        "skf.get_n_splits(X_train_tfidf, y_train_tfidf)\n",
        "for i, (train_index, test_index) in enumerate(skf.split(X_train_tfidf, y_train_tfidf)):\n",
        "    print(f\"Fold {i}:\")\n",
        "    print(f\"  Train: index={train_index}\")\n",
        "    print(f\"  Test:  index={test_index}\")"
      ],
      "metadata": {
        "id": "LwmhkTjzVEj2",
        "outputId": "21dd076b-1f51-4907-a1b4-606fddd686df",
        "colab": {
          "base_uri": "https://localhost:8080/"
        }
      },
      "execution_count": null,
      "outputs": [
        {
          "output_type": "stream",
          "name": "stdout",
          "text": [
            "Fold 0:\n",
            "  Train: index=[ 2890  2891  2892 ... 11997 11998 11999]\n",
            "  Test:  index=[   0    1    2 ... 3107 3108 3109]\n",
            "Fold 1:\n",
            "  Train: index=[    0     1     2 ... 11997 11998 11999]\n",
            "  Test:  index=[2890 2891 2892 ... 5997 5999 6000]\n",
            "Fold 2:\n",
            "  Train: index=[    0     1     2 ... 11997 11998 11999]\n",
            "  Test:  index=[5998 6001 6002 ... 8999 9001 9004]\n",
            "Fold 3:\n",
            "  Train: index=[   0    1    2 ... 8999 9001 9004]\n",
            "  Test:  index=[ 8994  8995  9000 ... 11997 11998 11999]\n"
          ]
        }
      ]
    },
    {
      "cell_type": "code",
      "source": [
        "%%time\n",
        "tfidf_results_df = evaluate_models(X_train_tfidf, X_valid_tfidf, y_train_tfidf, y_valid_tfidf, cv=skf, source=\"tfidf\")"
      ],
      "metadata": {
        "id": "yM0hEsvqYObk",
        "colab": {
          "base_uri": "https://localhost:8080/"
        },
        "outputId": "faa6b981-bfca-4b4a-e6fc-8ad3562b01a6"
      },
      "execution_count": null,
      "outputs": [
        {
          "output_type": "stream",
          "name": "stderr",
          "text": [
            "\r  0%|          | 0/5 [00:00<?, ?it/s]"
          ]
        },
        {
          "output_type": "stream",
          "name": "stdout",
          "text": [
            "Evaluating Logistic Regression...\n"
          ]
        },
        {
          "output_type": "stream",
          "name": "stderr",
          "text": [
            "Registered model 'logistic-regression' already exists. Creating a new version of this model...\n",
            "2025/06/05 19:28:51 INFO mlflow.store.model_registry.abstract_store: Waiting up to 300 seconds for model version to finish creation. Model name: logistic-regression, version 11\n",
            "Created version '11' of model 'logistic-regression'.\n"
          ]
        },
        {
          "output_type": "stream",
          "name": "stdout",
          "text": [
            "🏃 View run youthful-mouse-464 at: https://mlflow.amadousy.dev/#/experiments/8/runs/e6426ee9b73d4314bf6ff7098d7e3fa4\n",
            "🧪 View experiment at: https://mlflow.amadousy.dev/#/experiments/8\n"
          ]
        },
        {
          "output_type": "stream",
          "name": "stderr",
          "text": [
            "\r 20%|██        | 1/5 [00:13<00:55, 13.76s/it]"
          ]
        },
        {
          "output_type": "stream",
          "name": "stdout",
          "text": [
            "Evaluating Ridge Classifier...\n"
          ]
        },
        {
          "output_type": "stream",
          "name": "stderr",
          "text": [
            "Registered model 'ridge-classifier' already exists. Creating a new version of this model...\n",
            "2025/06/05 19:29:01 INFO mlflow.store.model_registry.abstract_store: Waiting up to 300 seconds for model version to finish creation. Model name: ridge-classifier, version 11\n",
            "Created version '11' of model 'ridge-classifier'.\n"
          ]
        },
        {
          "output_type": "stream",
          "name": "stdout",
          "text": [
            "🏃 View run useful-cow-155 at: https://mlflow.amadousy.dev/#/experiments/9/runs/66e0482b380948b5869b314f569528e7\n",
            "🧪 View experiment at: https://mlflow.amadousy.dev/#/experiments/9\n"
          ]
        },
        {
          "output_type": "stream",
          "name": "stderr",
          "text": [
            "\r 40%|████      | 2/5 [00:23<00:33, 11.25s/it]"
          ]
        },
        {
          "output_type": "stream",
          "name": "stdout",
          "text": [
            "Evaluating XGBoost...\n"
          ]
        },
        {
          "output_type": "stream",
          "name": "stderr",
          "text": [
            "Registered model 'xgboost' already exists. Creating a new version of this model...\n",
            "2025/06/05 19:29:17 INFO mlflow.store.model_registry.abstract_store: Waiting up to 300 seconds for model version to finish creation. Model name: xgboost, version 11\n",
            "Created version '11' of model 'xgboost'.\n"
          ]
        },
        {
          "output_type": "stream",
          "name": "stdout",
          "text": [
            "🏃 View run beautiful-shrew-342 at: https://mlflow.amadousy.dev/#/experiments/10/runs/09e6900e7f9c477196204d4eb46e7fc4\n",
            "🧪 View experiment at: https://mlflow.amadousy.dev/#/experiments/10\n"
          ]
        },
        {
          "output_type": "stream",
          "name": "stderr",
          "text": [
            "\r 60%|██████    | 3/5 [00:38<00:26, 13.27s/it]"
          ]
        },
        {
          "output_type": "stream",
          "name": "stdout",
          "text": [
            "Evaluating LightGBM...\n"
          ]
        },
        {
          "output_type": "stream",
          "name": "stderr",
          "text": [
            "Registered model 'lightgbm' already exists. Creating a new version of this model...\n",
            "2025/06/05 19:29:29 INFO mlflow.store.model_registry.abstract_store: Waiting up to 300 seconds for model version to finish creation. Model name: lightgbm, version 11\n",
            "Created version '11' of model 'lightgbm'.\n"
          ]
        },
        {
          "output_type": "stream",
          "name": "stdout",
          "text": [
            "🏃 View run selective-ox-170 at: https://mlflow.amadousy.dev/#/experiments/11/runs/fa139d36af5d4456ae40d0d4c242f64a\n",
            "🧪 View experiment at: https://mlflow.amadousy.dev/#/experiments/11\n"
          ]
        },
        {
          "output_type": "stream",
          "name": "stderr",
          "text": [
            "\r 80%|████████  | 4/5 [00:51<00:12, 12.95s/it]"
          ]
        },
        {
          "output_type": "stream",
          "name": "stdout",
          "text": [
            "Evaluating Random Forest...\n",
            "Erreur lors de l'enregistrement du modèle : 413 Client Error: Request Entity Too Large for url: https://mlflow.amadousy.dev/api/2.0/mlflow-artifacts/artifacts/12/551126cbfb194aa4ab37d638316480a8/artifacts/model-artifact/model.pkl. Response text: <html>\n",
            "<head><title>413 Request Entity Too Large</title></head>\n",
            "<body>\n",
            "<center><h1>413 Request Entity Too Large</h1></center>\n",
            "<hr><center>nginx/1.25.2</center>\n",
            "</body>\n",
            "</html>\n",
            "\n",
            "🏃 View run debonair-hare-387 at: https://mlflow.amadousy.dev/#/experiments/12/runs/551126cbfb194aa4ab37d638316480a8\n",
            "🧪 View experiment at: https://mlflow.amadousy.dev/#/experiments/12\n"
          ]
        },
        {
          "output_type": "stream",
          "name": "stderr",
          "text": [
            "100%|██████████| 5/5 [01:35<00:00, 19.07s/it]"
          ]
        },
        {
          "output_type": "stream",
          "name": "stdout",
          "text": [
            "\n",
            "\n",
            "CPU times: user 1min 31s, sys: 2.34 s, total: 1min 33s\n",
            "Wall time: 1min 35s\n"
          ]
        },
        {
          "output_type": "stream",
          "name": "stderr",
          "text": [
            "\n"
          ]
        }
      ]
    },
    {
      "cell_type": "code",
      "source": [
        "tfidf_results_df"
      ],
      "metadata": {
        "id": "KUtDW0cpYbom",
        "colab": {
          "base_uri": "https://localhost:8080/",
          "height": 206
        },
        "outputId": "3a8959ce-61b1-4579-c48b-009b204ab7aa"
      },
      "execution_count": null,
      "outputs": [
        {
          "output_type": "execute_result",
          "data": {
            "text/plain": [
              "                 Model  cv_score  val_score  precision  recall        f1  \\\n",
              "1     Ridge Classifier  0.699667    0.71225   0.700141  0.7425  0.720699   \n",
              "0  Logistic Regression  0.703167    0.71025   0.698443  0.7400  0.718621   \n",
              "3             LightGBM  0.698083    0.70150   0.685373  0.7450  0.713943   \n",
              "2              XGBoost  0.693667    0.68900   0.668449  0.7500  0.706880   \n",
              "4        Random Forest  0.694583    0.68800   0.688755  0.6860  0.687375   \n",
              "\n",
              "       auc      mse  train_time (s)  \n",
              "1  0.71225  0.28775        0.534898  \n",
              "0  0.71025  0.28975        1.488527  \n",
              "3  0.70150  0.29850        1.969360  \n",
              "2  0.68900  0.31100        6.565357  \n",
              "4  0.68800  0.31200       30.816454  "
            ],
            "text/html": [
              "\n",
              "  <div id=\"df-8bab14d8-f3ef-4a6e-b969-e1ea031b85db\" class=\"colab-df-container\">\n",
              "    <div>\n",
              "<style scoped>\n",
              "    .dataframe tbody tr th:only-of-type {\n",
              "        vertical-align: middle;\n",
              "    }\n",
              "\n",
              "    .dataframe tbody tr th {\n",
              "        vertical-align: top;\n",
              "    }\n",
              "\n",
              "    .dataframe thead th {\n",
              "        text-align: right;\n",
              "    }\n",
              "</style>\n",
              "<table border=\"1\" class=\"dataframe\">\n",
              "  <thead>\n",
              "    <tr style=\"text-align: right;\">\n",
              "      <th></th>\n",
              "      <th>Model</th>\n",
              "      <th>cv_score</th>\n",
              "      <th>val_score</th>\n",
              "      <th>precision</th>\n",
              "      <th>recall</th>\n",
              "      <th>f1</th>\n",
              "      <th>auc</th>\n",
              "      <th>mse</th>\n",
              "      <th>train_time (s)</th>\n",
              "    </tr>\n",
              "  </thead>\n",
              "  <tbody>\n",
              "    <tr>\n",
              "      <th>1</th>\n",
              "      <td>Ridge Classifier</td>\n",
              "      <td>0.699667</td>\n",
              "      <td>0.71225</td>\n",
              "      <td>0.700141</td>\n",
              "      <td>0.7425</td>\n",
              "      <td>0.720699</td>\n",
              "      <td>0.71225</td>\n",
              "      <td>0.28775</td>\n",
              "      <td>0.534898</td>\n",
              "    </tr>\n",
              "    <tr>\n",
              "      <th>0</th>\n",
              "      <td>Logistic Regression</td>\n",
              "      <td>0.703167</td>\n",
              "      <td>0.71025</td>\n",
              "      <td>0.698443</td>\n",
              "      <td>0.7400</td>\n",
              "      <td>0.718621</td>\n",
              "      <td>0.71025</td>\n",
              "      <td>0.28975</td>\n",
              "      <td>1.488527</td>\n",
              "    </tr>\n",
              "    <tr>\n",
              "      <th>3</th>\n",
              "      <td>LightGBM</td>\n",
              "      <td>0.698083</td>\n",
              "      <td>0.70150</td>\n",
              "      <td>0.685373</td>\n",
              "      <td>0.7450</td>\n",
              "      <td>0.713943</td>\n",
              "      <td>0.70150</td>\n",
              "      <td>0.29850</td>\n",
              "      <td>1.969360</td>\n",
              "    </tr>\n",
              "    <tr>\n",
              "      <th>2</th>\n",
              "      <td>XGBoost</td>\n",
              "      <td>0.693667</td>\n",
              "      <td>0.68900</td>\n",
              "      <td>0.668449</td>\n",
              "      <td>0.7500</td>\n",
              "      <td>0.706880</td>\n",
              "      <td>0.68900</td>\n",
              "      <td>0.31100</td>\n",
              "      <td>6.565357</td>\n",
              "    </tr>\n",
              "    <tr>\n",
              "      <th>4</th>\n",
              "      <td>Random Forest</td>\n",
              "      <td>0.694583</td>\n",
              "      <td>0.68800</td>\n",
              "      <td>0.688755</td>\n",
              "      <td>0.6860</td>\n",
              "      <td>0.687375</td>\n",
              "      <td>0.68800</td>\n",
              "      <td>0.31200</td>\n",
              "      <td>30.816454</td>\n",
              "    </tr>\n",
              "  </tbody>\n",
              "</table>\n",
              "</div>\n",
              "    <div class=\"colab-df-buttons\">\n",
              "\n",
              "  <div class=\"colab-df-container\">\n",
              "    <button class=\"colab-df-convert\" onclick=\"convertToInteractive('df-8bab14d8-f3ef-4a6e-b969-e1ea031b85db')\"\n",
              "            title=\"Convert this dataframe to an interactive table.\"\n",
              "            style=\"display:none;\">\n",
              "\n",
              "  <svg xmlns=\"http://www.w3.org/2000/svg\" height=\"24px\" viewBox=\"0 -960 960 960\">\n",
              "    <path d=\"M120-120v-720h720v720H120Zm60-500h600v-160H180v160Zm220 220h160v-160H400v160Zm0 220h160v-160H400v160ZM180-400h160v-160H180v160Zm440 0h160v-160H620v160ZM180-180h160v-160H180v160Zm440 0h160v-160H620v160Z\"/>\n",
              "  </svg>\n",
              "    </button>\n",
              "\n",
              "  <style>\n",
              "    .colab-df-container {\n",
              "      display:flex;\n",
              "      gap: 12px;\n",
              "    }\n",
              "\n",
              "    .colab-df-convert {\n",
              "      background-color: #E8F0FE;\n",
              "      border: none;\n",
              "      border-radius: 50%;\n",
              "      cursor: pointer;\n",
              "      display: none;\n",
              "      fill: #1967D2;\n",
              "      height: 32px;\n",
              "      padding: 0 0 0 0;\n",
              "      width: 32px;\n",
              "    }\n",
              "\n",
              "    .colab-df-convert:hover {\n",
              "      background-color: #E2EBFA;\n",
              "      box-shadow: 0px 1px 2px rgba(60, 64, 67, 0.3), 0px 1px 3px 1px rgba(60, 64, 67, 0.15);\n",
              "      fill: #174EA6;\n",
              "    }\n",
              "\n",
              "    .colab-df-buttons div {\n",
              "      margin-bottom: 4px;\n",
              "    }\n",
              "\n",
              "    [theme=dark] .colab-df-convert {\n",
              "      background-color: #3B4455;\n",
              "      fill: #D2E3FC;\n",
              "    }\n",
              "\n",
              "    [theme=dark] .colab-df-convert:hover {\n",
              "      background-color: #434B5C;\n",
              "      box-shadow: 0px 1px 3px 1px rgba(0, 0, 0, 0.15);\n",
              "      filter: drop-shadow(0px 1px 2px rgba(0, 0, 0, 0.3));\n",
              "      fill: #FFFFFF;\n",
              "    }\n",
              "  </style>\n",
              "\n",
              "    <script>\n",
              "      const buttonEl =\n",
              "        document.querySelector('#df-8bab14d8-f3ef-4a6e-b969-e1ea031b85db button.colab-df-convert');\n",
              "      buttonEl.style.display =\n",
              "        google.colab.kernel.accessAllowed ? 'block' : 'none';\n",
              "\n",
              "      async function convertToInteractive(key) {\n",
              "        const element = document.querySelector('#df-8bab14d8-f3ef-4a6e-b969-e1ea031b85db');\n",
              "        const dataTable =\n",
              "          await google.colab.kernel.invokeFunction('convertToInteractive',\n",
              "                                                    [key], {});\n",
              "        if (!dataTable) return;\n",
              "\n",
              "        const docLinkHtml = 'Like what you see? Visit the ' +\n",
              "          '<a target=\"_blank\" href=https://colab.research.google.com/notebooks/data_table.ipynb>data table notebook</a>'\n",
              "          + ' to learn more about interactive tables.';\n",
              "        element.innerHTML = '';\n",
              "        dataTable['output_type'] = 'display_data';\n",
              "        await google.colab.output.renderOutput(dataTable, element);\n",
              "        const docLink = document.createElement('div');\n",
              "        docLink.innerHTML = docLinkHtml;\n",
              "        element.appendChild(docLink);\n",
              "      }\n",
              "    </script>\n",
              "  </div>\n",
              "\n",
              "\n",
              "    <div id=\"df-1330201e-1118-4d65-810f-59becccf178f\">\n",
              "      <button class=\"colab-df-quickchart\" onclick=\"quickchart('df-1330201e-1118-4d65-810f-59becccf178f')\"\n",
              "                title=\"Suggest charts\"\n",
              "                style=\"display:none;\">\n",
              "\n",
              "<svg xmlns=\"http://www.w3.org/2000/svg\" height=\"24px\"viewBox=\"0 0 24 24\"\n",
              "     width=\"24px\">\n",
              "    <g>\n",
              "        <path d=\"M19 3H5c-1.1 0-2 .9-2 2v14c0 1.1.9 2 2 2h14c1.1 0 2-.9 2-2V5c0-1.1-.9-2-2-2zM9 17H7v-7h2v7zm4 0h-2V7h2v10zm4 0h-2v-4h2v4z\"/>\n",
              "    </g>\n",
              "</svg>\n",
              "      </button>\n",
              "\n",
              "<style>\n",
              "  .colab-df-quickchart {\n",
              "      --bg-color: #E8F0FE;\n",
              "      --fill-color: #1967D2;\n",
              "      --hover-bg-color: #E2EBFA;\n",
              "      --hover-fill-color: #174EA6;\n",
              "      --disabled-fill-color: #AAA;\n",
              "      --disabled-bg-color: #DDD;\n",
              "  }\n",
              "\n",
              "  [theme=dark] .colab-df-quickchart {\n",
              "      --bg-color: #3B4455;\n",
              "      --fill-color: #D2E3FC;\n",
              "      --hover-bg-color: #434B5C;\n",
              "      --hover-fill-color: #FFFFFF;\n",
              "      --disabled-bg-color: #3B4455;\n",
              "      --disabled-fill-color: #666;\n",
              "  }\n",
              "\n",
              "  .colab-df-quickchart {\n",
              "    background-color: var(--bg-color);\n",
              "    border: none;\n",
              "    border-radius: 50%;\n",
              "    cursor: pointer;\n",
              "    display: none;\n",
              "    fill: var(--fill-color);\n",
              "    height: 32px;\n",
              "    padding: 0;\n",
              "    width: 32px;\n",
              "  }\n",
              "\n",
              "  .colab-df-quickchart:hover {\n",
              "    background-color: var(--hover-bg-color);\n",
              "    box-shadow: 0 1px 2px rgba(60, 64, 67, 0.3), 0 1px 3px 1px rgba(60, 64, 67, 0.15);\n",
              "    fill: var(--button-hover-fill-color);\n",
              "  }\n",
              "\n",
              "  .colab-df-quickchart-complete:disabled,\n",
              "  .colab-df-quickchart-complete:disabled:hover {\n",
              "    background-color: var(--disabled-bg-color);\n",
              "    fill: var(--disabled-fill-color);\n",
              "    box-shadow: none;\n",
              "  }\n",
              "\n",
              "  .colab-df-spinner {\n",
              "    border: 2px solid var(--fill-color);\n",
              "    border-color: transparent;\n",
              "    border-bottom-color: var(--fill-color);\n",
              "    animation:\n",
              "      spin 1s steps(1) infinite;\n",
              "  }\n",
              "\n",
              "  @keyframes spin {\n",
              "    0% {\n",
              "      border-color: transparent;\n",
              "      border-bottom-color: var(--fill-color);\n",
              "      border-left-color: var(--fill-color);\n",
              "    }\n",
              "    20% {\n",
              "      border-color: transparent;\n",
              "      border-left-color: var(--fill-color);\n",
              "      border-top-color: var(--fill-color);\n",
              "    }\n",
              "    30% {\n",
              "      border-color: transparent;\n",
              "      border-left-color: var(--fill-color);\n",
              "      border-top-color: var(--fill-color);\n",
              "      border-right-color: var(--fill-color);\n",
              "    }\n",
              "    40% {\n",
              "      border-color: transparent;\n",
              "      border-right-color: var(--fill-color);\n",
              "      border-top-color: var(--fill-color);\n",
              "    }\n",
              "    60% {\n",
              "      border-color: transparent;\n",
              "      border-right-color: var(--fill-color);\n",
              "    }\n",
              "    80% {\n",
              "      border-color: transparent;\n",
              "      border-right-color: var(--fill-color);\n",
              "      border-bottom-color: var(--fill-color);\n",
              "    }\n",
              "    90% {\n",
              "      border-color: transparent;\n",
              "      border-bottom-color: var(--fill-color);\n",
              "    }\n",
              "  }\n",
              "</style>\n",
              "\n",
              "      <script>\n",
              "        async function quickchart(key) {\n",
              "          const quickchartButtonEl =\n",
              "            document.querySelector('#' + key + ' button');\n",
              "          quickchartButtonEl.disabled = true;  // To prevent multiple clicks.\n",
              "          quickchartButtonEl.classList.add('colab-df-spinner');\n",
              "          try {\n",
              "            const charts = await google.colab.kernel.invokeFunction(\n",
              "                'suggestCharts', [key], {});\n",
              "          } catch (error) {\n",
              "            console.error('Error during call to suggestCharts:', error);\n",
              "          }\n",
              "          quickchartButtonEl.classList.remove('colab-df-spinner');\n",
              "          quickchartButtonEl.classList.add('colab-df-quickchart-complete');\n",
              "        }\n",
              "        (() => {\n",
              "          let quickchartButtonEl =\n",
              "            document.querySelector('#df-1330201e-1118-4d65-810f-59becccf178f button');\n",
              "          quickchartButtonEl.style.display =\n",
              "            google.colab.kernel.accessAllowed ? 'block' : 'none';\n",
              "        })();\n",
              "      </script>\n",
              "    </div>\n",
              "\n",
              "  <div id=\"id_40b21599-8d7e-4f9d-b8c4-803c47850108\">\n",
              "    <style>\n",
              "      .colab-df-generate {\n",
              "        background-color: #E8F0FE;\n",
              "        border: none;\n",
              "        border-radius: 50%;\n",
              "        cursor: pointer;\n",
              "        display: none;\n",
              "        fill: #1967D2;\n",
              "        height: 32px;\n",
              "        padding: 0 0 0 0;\n",
              "        width: 32px;\n",
              "      }\n",
              "\n",
              "      .colab-df-generate:hover {\n",
              "        background-color: #E2EBFA;\n",
              "        box-shadow: 0px 1px 2px rgba(60, 64, 67, 0.3), 0px 1px 3px 1px rgba(60, 64, 67, 0.15);\n",
              "        fill: #174EA6;\n",
              "      }\n",
              "\n",
              "      [theme=dark] .colab-df-generate {\n",
              "        background-color: #3B4455;\n",
              "        fill: #D2E3FC;\n",
              "      }\n",
              "\n",
              "      [theme=dark] .colab-df-generate:hover {\n",
              "        background-color: #434B5C;\n",
              "        box-shadow: 0px 1px 3px 1px rgba(0, 0, 0, 0.15);\n",
              "        filter: drop-shadow(0px 1px 2px rgba(0, 0, 0, 0.3));\n",
              "        fill: #FFFFFF;\n",
              "      }\n",
              "    </style>\n",
              "    <button class=\"colab-df-generate\" onclick=\"generateWithVariable('tfidf_results_df')\"\n",
              "            title=\"Generate code using this dataframe.\"\n",
              "            style=\"display:none;\">\n",
              "\n",
              "  <svg xmlns=\"http://www.w3.org/2000/svg\" height=\"24px\"viewBox=\"0 0 24 24\"\n",
              "       width=\"24px\">\n",
              "    <path d=\"M7,19H8.4L18.45,9,17,7.55,7,17.6ZM5,21V16.75L18.45,3.32a2,2,0,0,1,2.83,0l1.4,1.43a1.91,1.91,0,0,1,.58,1.4,1.91,1.91,0,0,1-.58,1.4L9.25,21ZM18.45,9,17,7.55Zm-12,3A5.31,5.31,0,0,0,4.9,8.1,5.31,5.31,0,0,0,1,6.5,5.31,5.31,0,0,0,4.9,4.9,5.31,5.31,0,0,0,6.5,1,5.31,5.31,0,0,0,8.1,4.9,5.31,5.31,0,0,0,12,6.5,5.46,5.46,0,0,0,6.5,12Z\"/>\n",
              "  </svg>\n",
              "    </button>\n",
              "    <script>\n",
              "      (() => {\n",
              "      const buttonEl =\n",
              "        document.querySelector('#id_40b21599-8d7e-4f9d-b8c4-803c47850108 button.colab-df-generate');\n",
              "      buttonEl.style.display =\n",
              "        google.colab.kernel.accessAllowed ? 'block' : 'none';\n",
              "\n",
              "      buttonEl.onclick = () => {\n",
              "        google.colab.notebook.generateWithVariable('tfidf_results_df');\n",
              "      }\n",
              "      })();\n",
              "    </script>\n",
              "  </div>\n",
              "\n",
              "    </div>\n",
              "  </div>\n"
            ],
            "application/vnd.google.colaboratory.intrinsic+json": {
              "type": "dataframe",
              "variable_name": "tfidf_results_df",
              "summary": "{\n  \"name\": \"tfidf_results_df\",\n  \"rows\": 5,\n  \"fields\": [\n    {\n      \"column\": \"Model\",\n      \"properties\": {\n        \"dtype\": \"string\",\n        \"num_unique_values\": 5,\n        \"samples\": [\n          \"Logistic Regression\",\n          \"Random Forest\",\n          \"LightGBM\"\n        ],\n        \"semantic_type\": \"\",\n        \"description\": \"\"\n      }\n    },\n    {\n      \"column\": \"cv_score\",\n      \"properties\": {\n        \"dtype\": \"number\",\n        \"std\": 0.00386625356988737,\n        \"min\": 0.6936666666666667,\n        \"max\": 0.7031666666666667,\n        \"num_unique_values\": 5,\n        \"samples\": [\n          0.7031666666666667,\n          0.6945833333333333,\n          0.6980833333333334\n        ],\n        \"semantic_type\": \"\",\n        \"description\": \"\"\n      }\n    },\n    {\n      \"column\": \"val_score\",\n      \"properties\": {\n        \"dtype\": \"number\",\n        \"std\": 0.011425574383811135,\n        \"min\": 0.688,\n        \"max\": 0.71225,\n        \"num_unique_values\": 5,\n        \"samples\": [\n          0.71025,\n          0.688,\n          0.7015\n        ],\n        \"semantic_type\": \"\",\n        \"description\": \"\"\n      }\n    },\n    {\n      \"column\": \"precision\",\n      \"properties\": {\n        \"dtype\": \"number\",\n        \"std\": 0.012707296139235023,\n        \"min\": 0.6684491978609626,\n        \"max\": 0.7001414427157001,\n        \"num_unique_values\": 5,\n        \"samples\": [\n          0.6984426616328456,\n          0.6887550200803213,\n          0.6853725850965962\n        ],\n        \"semantic_type\": \"\",\n        \"description\": \"\"\n      }\n    },\n    {\n      \"column\": \"recall\",\n      \"properties\": {\n        \"dtype\": \"number\",\n        \"std\": 0.026366645596283173,\n        \"min\": 0.686,\n        \"max\": 0.75,\n        \"num_unique_values\": 5,\n        \"samples\": [\n          0.74,\n          0.686,\n          0.745\n        ],\n        \"semantic_type\": \"\",\n        \"description\": \"\"\n      }\n    },\n    {\n      \"column\": \"f1\",\n      \"properties\": {\n        \"dtype\": \"number\",\n        \"std\": 0.0134605101741185,\n        \"min\": 0.687374749498998,\n        \"max\": 0.7206988595001214,\n        \"num_unique_values\": 5,\n        \"samples\": [\n          0.7186210245205147,\n          0.687374749498998,\n          0.7139434595112601\n        ],\n        \"semantic_type\": \"\",\n        \"description\": \"\"\n      }\n    },\n    {\n      \"column\": \"auc\",\n      \"properties\": {\n        \"dtype\": \"number\",\n        \"std\": 0.011425574383811083,\n        \"min\": 0.688,\n        \"max\": 0.71225,\n        \"num_unique_values\": 5,\n        \"samples\": [\n          0.7102499999999999,\n          0.688,\n          0.7015\n        ],\n        \"semantic_type\": \"\",\n        \"description\": \"\"\n      }\n    },\n    {\n      \"column\": \"mse\",\n      \"properties\": {\n        \"dtype\": \"number\",\n        \"std\": 0.01142557438381108,\n        \"min\": 0.28775,\n        \"max\": 0.312,\n        \"num_unique_values\": 5,\n        \"samples\": [\n          0.28975,\n          0.312,\n          0.2985\n        ],\n        \"semantic_type\": \"\",\n        \"description\": \"\"\n      }\n    },\n    {\n      \"column\": \"train_time (s)\",\n      \"properties\": {\n        \"dtype\": \"number\",\n        \"std\": 12.813728344826181,\n        \"min\": 0.5348975658416748,\n        \"max\": 30.81645441055298,\n        \"num_unique_values\": 5,\n        \"samples\": [\n          1.4885272979736328,\n          30.81645441055298,\n          1.969360113143921\n        ],\n        \"semantic_type\": \"\",\n        \"description\": \"\"\n      }\n    }\n  ]\n}"
            }
          },
          "metadata": {},
          "execution_count": 15
        }
      ]
    },
    {
      "cell_type": "markdown",
      "source": [
        "## | Word2Vec"
      ],
      "metadata": {
        "id": "Go475o0OW3WD"
      }
    },
    {
      "cell_type": "code",
      "source": [
        "%%time\n",
        "X_train_w2v, X_valid_w2v, X_test_w2v, y_train_w2v, y_valid_w2v, y_test_w2v = split_train_val_test(tweets_embeddings_word2vec, Y, sample_size=20000)\n",
        "print(\"Répartition dans y_train    :\", pd.Series(y_train_w2v).value_counts(normalize=True))\n",
        "print(\"Répartition dans y_validation:\", pd.Series(y_valid_w2v).value_counts(normalize=True))\n",
        "print(\"Répartition dans y_test :\", pd.Series(y_test_w2v).value_counts(normalize=True))\n",
        "plot_distribution(y_train_w2v, y_valid_w2v,  y_test_w2v)"
      ],
      "metadata": {
        "id": "SFmK7CpdYvik",
        "colab": {
          "base_uri": "https://localhost:8080/",
          "height": 709
        },
        "outputId": "610b6de8-05b5-4a94-ceda-4b953b05680b"
      },
      "execution_count": null,
      "outputs": [
        {
          "output_type": "stream",
          "name": "stdout",
          "text": [
            "Répartition dans y_train    : 1    0.500083\n",
            "0    0.499917\n",
            "Name: proportion, dtype: float64\n",
            "Répartition dans y_validation: 0    0.5\n",
            "1    0.5\n",
            "Name: proportion, dtype: float64\n",
            "Répartition dans y_test : 1    0.5\n",
            "0    0.5\n",
            "Name: proportion, dtype: float64\n"
          ]
        },
        {
          "output_type": "display_data",
          "data": {
            "text/plain": [
              "<Figure size 800x500 with 1 Axes>"
            ],
            "image/png": "[encoded data removed]"
          },
          "metadata": {}
        },
        {
          "output_type": "stream",
          "name": "stdout",
          "text": [
            "CPU times: user 1.69 s, sys: 1.95 s, total: 3.64 s\n",
            "Wall time: 1min 16s\n"
          ]
        }
      ]
    },
    {
      "cell_type": "code",
      "source": [
        "%%time\n",
        "w2v_results__df = evaluate_models(X_train_w2v, X_valid_w2v, y_train_w2v, y_valid_w2v, cv=skf, source=\"word2vec\")"
      ],
      "metadata": {
        "id": "dRimE4KMZJJA",
        "colab": {
          "base_uri": "https://localhost:8080/"
        },
        "outputId": "b4f70f55-ea34-4608-8d16-90040b916f84"
      },
      "execution_count": null,
      "outputs": [
        {
          "output_type": "stream",
          "name": "stderr",
          "text": [
            "\r  0%|          | 0/5 [00:00<?, ?it/s]"
          ]
        },
        {
          "output_type": "stream",
          "name": "stdout",
          "text": [
            "Evaluating Logistic Regression...\n"
          ]
        },
        {
          "output_type": "stream",
          "name": "stderr",
          "text": [
            "Registered model 'logistic-regression' already exists. Creating a new version of this model...\n",
            "2025/06/05 19:31:41 INFO mlflow.store.model_registry.abstract_store: Waiting up to 300 seconds for model version to finish creation. Model name: logistic-regression, version 12\n",
            "Created version '12' of model 'logistic-regression'.\n"
          ]
        },
        {
          "output_type": "stream",
          "name": "stdout",
          "text": [
            "🏃 View run adaptable-foal-716 at: https://mlflow.amadousy.dev/#/experiments/13/runs/b02bb82d5b224c7281a9b232a50b8ab4\n",
            "🧪 View experiment at: https://mlflow.amadousy.dev/#/experiments/13\n"
          ]
        },
        {
          "output_type": "stream",
          "name": "stderr",
          "text": [
            "\r 20%|██        | 1/5 [00:11<00:45, 11.30s/it]"
          ]
        },
        {
          "output_type": "stream",
          "name": "stdout",
          "text": [
            "Evaluating Ridge Classifier...\n"
          ]
        },
        {
          "output_type": "stream",
          "name": "stderr",
          "text": [
            "Registered model 'ridge-classifier' already exists. Creating a new version of this model...\n",
            "2025/06/05 19:31:51 INFO mlflow.store.model_registry.abstract_store: Waiting up to 300 seconds for model version to finish creation. Model name: ridge-classifier, version 12\n",
            "Created version '12' of model 'ridge-classifier'.\n"
          ]
        },
        {
          "output_type": "stream",
          "name": "stdout",
          "text": [
            "🏃 View run defiant-hound-199 at: https://mlflow.amadousy.dev/#/experiments/14/runs/0ca23c690c724da78d71933dcd8f5ebc\n",
            "🧪 View experiment at: https://mlflow.amadousy.dev/#/experiments/14\n"
          ]
        },
        {
          "output_type": "stream",
          "name": "stderr",
          "text": [
            "\r 40%|████      | 2/5 [00:20<00:30, 10.30s/it]"
          ]
        },
        {
          "output_type": "stream",
          "name": "stdout",
          "text": [
            "Evaluating XGBoost...\n"
          ]
        },
        {
          "output_type": "stream",
          "name": "stderr",
          "text": [
            "Registered model 'xgboost' already exists. Creating a new version of this model...\n",
            "2025/06/05 19:32:21 INFO mlflow.store.model_registry.abstract_store: Waiting up to 300 seconds for model version to finish creation. Model name: xgboost, version 12\n",
            "Created version '12' of model 'xgboost'.\n"
          ]
        },
        {
          "output_type": "stream",
          "name": "stdout",
          "text": [
            "🏃 View run fearless-penguin-920 at: https://mlflow.amadousy.dev/#/experiments/15/runs/7a8eeb617efa47c785f156d7fe1b4ed2\n",
            "🧪 View experiment at: https://mlflow.amadousy.dev/#/experiments/15\n"
          ]
        },
        {
          "output_type": "stream",
          "name": "stderr",
          "text": [
            "\r 60%|██████    | 3/5 [00:50<00:38, 19.11s/it]"
          ]
        },
        {
          "output_type": "stream",
          "name": "stdout",
          "text": [
            "Evaluating LightGBM...\n"
          ]
        },
        {
          "output_type": "stream",
          "name": "stderr",
          "text": [
            "Registered model 'lightgbm' already exists. Creating a new version of this model...\n",
            "2025/06/05 19:32:42 INFO mlflow.store.model_registry.abstract_store: Waiting up to 300 seconds for model version to finish creation. Model name: lightgbm, version 12\n",
            "Created version '12' of model 'lightgbm'.\n"
          ]
        },
        {
          "output_type": "stream",
          "name": "stdout",
          "text": [
            "🏃 View run flawless-ram-380 at: https://mlflow.amadousy.dev/#/experiments/16/runs/04a12b70212649b5b07ca7ddfabf67a9\n",
            "🧪 View experiment at: https://mlflow.amadousy.dev/#/experiments/16\n"
          ]
        },
        {
          "output_type": "stream",
          "name": "stderr",
          "text": [
            "\r 80%|████████  | 4/5 [01:11<00:19, 19.88s/it]"
          ]
        },
        {
          "output_type": "stream",
          "name": "stdout",
          "text": [
            "Evaluating Random Forest...\n",
            "Erreur lors de l'enregistrement du modèle : 413 Client Error: Request Entity Too Large for url: https://mlflow.amadousy.dev/api/2.0/mlflow-artifacts/artifacts/17/37232676d29944e09d0b301269bee987/artifacts/model-artifact/model.pkl. Response text: <html>\n",
            "<head><title>413 Request Entity Too Large</title></head>\n",
            "<body>\n",
            "<center><h1>413 Request Entity Too Large</h1></center>\n",
            "<hr><center>nginx/1.25.2</center>\n",
            "</body>\n",
            "</html>\n",
            "\n",
            "🏃 View run omniscient-smelt-810 at: https://mlflow.amadousy.dev/#/experiments/17/runs/37232676d29944e09d0b301269bee987\n",
            "🧪 View experiment at: https://mlflow.amadousy.dev/#/experiments/17\n"
          ]
        },
        {
          "output_type": "stream",
          "name": "stderr",
          "text": [
            "100%|██████████| 5/5 [02:55<00:00, 35.13s/it]"
          ]
        },
        {
          "output_type": "stream",
          "name": "stdout",
          "text": [
            "\n",
            "\n",
            "CPU times: user 5min 31s, sys: 9.21 s, total: 5min 40s\n",
            "Wall time: 2min 55s\n"
          ]
        },
        {
          "output_type": "stream",
          "name": "stderr",
          "text": [
            "\n"
          ]
        }
      ]
    },
    {
      "cell_type": "code",
      "source": [
        "w2v_results__df"
      ],
      "metadata": {
        "id": "b6paz8p0ZVpd",
        "colab": {
          "base_uri": "https://localhost:8080/",
          "height": 206
        },
        "outputId": "4bfa3726-2fef-42ca-8cdf-0bcf0df69ec6"
      },
      "execution_count": null,
      "outputs": [
        {
          "output_type": "execute_result",
          "data": {
            "text/plain": [
              "                 Model  cv_score  val_score  precision  recall        f1  \\\n",
              "0  Logistic Regression  0.720500    0.72775   0.721224  0.7425  0.731707   \n",
              "1     Ridge Classifier  0.716833    0.72250   0.717285  0.7345  0.725791   \n",
              "3             LightGBM  0.711083    0.69725   0.699142  0.6925  0.695805   \n",
              "4        Random Forest  0.697833    0.69475   0.707512  0.6640  0.685066   \n",
              "2              XGBoost  0.697333    0.69375   0.698616  0.6815  0.689952   \n",
              "\n",
              "       auc      mse  train_time (s)  \n",
              "0  0.72775  0.27225        2.502097  \n",
              "1  0.72250  0.27750        0.964085  \n",
              "3  0.69725  0.30275       10.375400  \n",
              "4  0.69475  0.30525       93.071455  \n",
              "2  0.69375  0.30625       20.270970  "
            ],
            "text/html": [
              "\n",
              "  <div id=\"df-9c24a27d-47dc-4807-ac35-e102bef4f8e5\" class=\"colab-df-container\">\n",
              "    <div>\n",
              "<style scoped>\n",
              "    .dataframe tbody tr th:only-of-type {\n",
              "        vertical-align: middle;\n",
              "    }\n",
              "\n",
              "    .dataframe tbody tr th {\n",
              "        vertical-align: top;\n",
              "    }\n",
              "\n",
              "    .dataframe thead th {\n",
              "        text-align: right;\n",
              "    }\n",
              "</style>\n",
              "<table border=\"1\" class=\"dataframe\">\n",
              "  <thead>\n",
              "    <tr style=\"text-align: right;\">\n",
              "      <th></th>\n",
              "      <th>Model</th>\n",
              "      <th>cv_score</th>\n",
              "      <th>val_score</th>\n",
              "      <th>precision</th>\n",
              "      <th>recall</th>\n",
              "      <th>f1</th>\n",
              "      <th>auc</th>\n",
              "      <th>mse</th>\n",
              "      <th>train_time (s)</th>\n",
              "    </tr>\n",
              "  </thead>\n",
              "  <tbody>\n",
              "    <tr>\n",
              "      <th>0</th>\n",
              "      <td>Logistic Regression</td>\n",
              "      <td>0.720500</td>\n",
              "      <td>0.72775</td>\n",
              "      <td>0.721224</td>\n",
              "      <td>0.7425</td>\n",
              "      <td>0.731707</td>\n",
              "      <td>0.72775</td>\n",
              "      <td>0.27225</td>\n",
              "      <td>2.502097</td>\n",
              "    </tr>\n",
              "    <tr>\n",
              "      <th>1</th>\n",
              "      <td>Ridge Classifier</td>\n",
              "      <td>0.716833</td>\n",
              "      <td>0.72250</td>\n",
              "      <td>0.717285</td>\n",
              "      <td>0.7345</td>\n",
              "      <td>0.725791</td>\n",
              "      <td>0.72250</td>\n",
              "      <td>0.27750</td>\n",
              "      <td>0.964085</td>\n",
              "    </tr>\n",
              "    <tr>\n",
              "      <th>3</th>\n",
              "      <td>LightGBM</td>\n",
              "      <td>0.711083</td>\n",
              "      <td>0.69725</td>\n",
              "      <td>0.699142</td>\n",
              "      <td>0.6925</td>\n",
              "      <td>0.695805</td>\n",
              "      <td>0.69725</td>\n",
              "      <td>0.30275</td>\n",
              "      <td>10.375400</td>\n",
              "    </tr>\n",
              "    <tr>\n",
              "      <th>4</th>\n",
              "      <td>Random Forest</td>\n",
              "      <td>0.697833</td>\n",
              "      <td>0.69475</td>\n",
              "      <td>0.707512</td>\n",
              "      <td>0.6640</td>\n",
              "      <td>0.685066</td>\n",
              "      <td>0.69475</td>\n",
              "      <td>0.30525</td>\n",
              "      <td>93.071455</td>\n",
              "    </tr>\n",
              "    <tr>\n",
              "      <th>2</th>\n",
              "      <td>XGBoost</td>\n",
              "      <td>0.697333</td>\n",
              "      <td>0.69375</td>\n",
              "      <td>0.698616</td>\n",
              "      <td>0.6815</td>\n",
              "      <td>0.689952</td>\n",
              "      <td>0.69375</td>\n",
              "      <td>0.30625</td>\n",
              "      <td>20.270970</td>\n",
              "    </tr>\n",
              "  </tbody>\n",
              "</table>\n",
              "</div>\n",
              "    <div class=\"colab-df-buttons\">\n",
              "\n",
              "  <div class=\"colab-df-container\">\n",
              "    <button class=\"colab-df-convert\" onclick=\"convertToInteractive('df-9c24a27d-47dc-4807-ac35-e102bef4f8e5')\"\n",
              "            title=\"Convert this dataframe to an interactive table.\"\n",
              "            style=\"display:none;\">\n",
              "\n",
              "  <svg xmlns=\"http://www.w3.org/2000/svg\" height=\"24px\" viewBox=\"0 -960 960 960\">\n",
              "    <path d=\"M120-120v-720h720v720H120Zm60-500h600v-160H180v160Zm220 220h160v-160H400v160Zm0 220h160v-160H400v160ZM180-400h160v-160H180v160Zm440 0h160v-160H620v160ZM180-180h160v-160H180v160Zm440 0h160v-160H620v160Z\"/>\n",
              "  </svg>\n",
              "    </button>\n",
              "\n",
              "  <style>\n",
              "    .colab-df-container {\n",
              "      display:flex;\n",
              "      gap: 12px;\n",
              "    }\n",
              "\n",
              "    .colab-df-convert {\n",
              "      background-color: #E8F0FE;\n",
              "      border: none;\n",
              "      border-radius: 50%;\n",
              "      cursor: pointer;\n",
              "      display: none;\n",
              "      fill: #1967D2;\n",
              "      height: 32px;\n",
              "      padding: 0 0 0 0;\n",
              "      width: 32px;\n",
              "    }\n",
              "\n",
              "    .colab-df-convert:hover {\n",
              "      background-color: #E2EBFA;\n",
              "      box-shadow: 0px 1px 2px rgba(60, 64, 67, 0.3), 0px 1px 3px 1px rgba(60, 64, 67, 0.15);\n",
              "      fill: #174EA6;\n",
              "    }\n",
              "\n",
              "    .colab-df-buttons div {\n",
              "      margin-bottom: 4px;\n",
              "    }\n",
              "\n",
              "    [theme=dark] .colab-df-convert {\n",
              "      background-color: #3B4455;\n",
              "      fill: #D2E3FC;\n",
              "    }\n",
              "\n",
              "    [theme=dark] .colab-df-convert:hover {\n",
              "      background-color: #434B5C;\n",
              "      box-shadow: 0px 1px 3px 1px rgba(0, 0, 0, 0.15);\n",
              "      filter: drop-shadow(0px 1px 2px rgba(0, 0, 0, 0.3));\n",
              "      fill: #FFFFFF;\n",
              "    }\n",
              "  </style>\n",
              "\n",
              "    <script>\n",
              "      const buttonEl =\n",
              "        document.querySelector('#df-9c24a27d-47dc-4807-ac35-e102bef4f8e5 button.colab-df-convert');\n",
              "      buttonEl.style.display =\n",
              "        google.colab.kernel.accessAllowed ? 'block' : 'none';\n",
              "\n",
              "      async function convertToInteractive(key) {\n",
              "        const element = document.querySelector('#df-9c24a27d-47dc-4807-ac35-e102bef4f8e5');\n",
              "        const dataTable =\n",
              "          await google.colab.kernel.invokeFunction('convertToInteractive',\n",
              "                                                    [key], {});\n",
              "        if (!dataTable) return;\n",
              "\n",
              "        const docLinkHtml = 'Like what you see? Visit the ' +\n",
              "          '<a target=\"_blank\" href=https://colab.research.google.com/notebooks/data_table.ipynb>data table notebook</a>'\n",
              "          + ' to learn more about interactive tables.';\n",
              "        element.innerHTML = '';\n",
              "        dataTable['output_type'] = 'display_data';\n",
              "        await google.colab.output.renderOutput(dataTable, element);\n",
              "        const docLink = document.createElement('div');\n",
              "        docLink.innerHTML = docLinkHtml;\n",
              "        element.appendChild(docLink);\n",
              "      }\n",
              "    </script>\n",
              "  </div>\n",
              "\n",
              "\n",
              "    <div id=\"df-69abc659-77f3-4d67-9baf-a76082b3a1d4\">\n",
              "      <button class=\"colab-df-quickchart\" onclick=\"quickchart('df-69abc659-77f3-4d67-9baf-a76082b3a1d4')\"\n",
              "                title=\"Suggest charts\"\n",
              "                style=\"display:none;\">\n",
              "\n",
              "<svg xmlns=\"http://www.w3.org/2000/svg\" height=\"24px\"viewBox=\"0 0 24 24\"\n",
              "     width=\"24px\">\n",
              "    <g>\n",
              "        <path d=\"M19 3H5c-1.1 0-2 .9-2 2v14c0 1.1.9 2 2 2h14c1.1 0 2-.9 2-2V5c0-1.1-.9-2-2-2zM9 17H7v-7h2v7zm4 0h-2V7h2v10zm4 0h-2v-4h2v4z\"/>\n",
              "    </g>\n",
              "</svg>\n",
              "      </button>\n",
              "\n",
              "<style>\n",
              "  .colab-df-quickchart {\n",
              "      --bg-color: #E8F0FE;\n",
              "      --fill-color: #1967D2;\n",
              "      --hover-bg-color: #E2EBFA;\n",
              "      --hover-fill-color: #174EA6;\n",
              "      --disabled-fill-color: #AAA;\n",
              "      --disabled-bg-color: #DDD;\n",
              "  }\n",
              "\n",
              "  [theme=dark] .colab-df-quickchart {\n",
              "      --bg-color: #3B4455;\n",
              "      --fill-color: #D2E3FC;\n",
              "      --hover-bg-color: #434B5C;\n",
              "      --hover-fill-color: #FFFFFF;\n",
              "      --disabled-bg-color: #3B4455;\n",
              "      --disabled-fill-color: #666;\n",
              "  }\n",
              "\n",
              "  .colab-df-quickchart {\n",
              "    background-color: var(--bg-color);\n",
              "    border: none;\n",
              "    border-radius: 50%;\n",
              "    cursor: pointer;\n",
              "    display: none;\n",
              "    fill: var(--fill-color);\n",
              "    height: 32px;\n",
              "    padding: 0;\n",
              "    width: 32px;\n",
              "  }\n",
              "\n",
              "  .colab-df-quickchart:hover {\n",
              "    background-color: var(--hover-bg-color);\n",
              "    box-shadow: 0 1px 2px rgba(60, 64, 67, 0.3), 0 1px 3px 1px rgba(60, 64, 67, 0.15);\n",
              "    fill: var(--button-hover-fill-color);\n",
              "  }\n",
              "\n",
              "  .colab-df-quickchart-complete:disabled,\n",
              "  .colab-df-quickchart-complete:disabled:hover {\n",
              "    background-color: var(--disabled-bg-color);\n",
              "    fill: var(--disabled-fill-color);\n",
              "    box-shadow: none;\n",
              "  }\n",
              "\n",
              "  .colab-df-spinner {\n",
              "    border: 2px solid var(--fill-color);\n",
              "    border-color: transparent;\n",
              "    border-bottom-color: var(--fill-color);\n",
              "    animation:\n",
              "      spin 1s steps(1) infinite;\n",
              "  }\n",
              "\n",
              "  @keyframes spin {\n",
              "    0% {\n",
              "      border-color: transparent;\n",
              "      border-bottom-color: var(--fill-color);\n",
              "      border-left-color: var(--fill-color);\n",
              "    }\n",
              "    20% {\n",
              "      border-color: transparent;\n",
              "      border-left-color: var(--fill-color);\n",
              "      border-top-color: var(--fill-color);\n",
              "    }\n",
              "    30% {\n",
              "      border-color: transparent;\n",
              "      border-left-color: var(--fill-color);\n",
              "      border-top-color: var(--fill-color);\n",
              "      border-right-color: var(--fill-color);\n",
              "    }\n",
              "    40% {\n",
              "      border-color: transparent;\n",
              "      border-right-color: var(--fill-color);\n",
              "      border-top-color: var(--fill-color);\n",
              "    }\n",
              "    60% {\n",
              "      border-color: transparent;\n",
              "      border-right-color: var(--fill-color);\n",
              "    }\n",
              "    80% {\n",
              "      border-color: transparent;\n",
              "      border-right-color: var(--fill-color);\n",
              "      border-bottom-color: var(--fill-color);\n",
              "    }\n",
              "    90% {\n",
              "      border-color: transparent;\n",
              "      border-bottom-color: var(--fill-color);\n",
              "    }\n",
              "  }\n",
              "</style>\n",
              "\n",
              "      <script>\n",
              "        async function quickchart(key) {\n",
              "          const quickchartButtonEl =\n",
              "            document.querySelector('#' + key + ' button');\n",
              "          quickchartButtonEl.disabled = true;  // To prevent multiple clicks.\n",
              "          quickchartButtonEl.classList.add('colab-df-spinner');\n",
              "          try {\n",
              "            const charts = await google.colab.kernel.invokeFunction(\n",
              "                'suggestCharts', [key], {});\n",
              "          } catch (error) {\n",
              "            console.error('Error during call to suggestCharts:', error);\n",
              "          }\n",
              "          quickchartButtonEl.classList.remove('colab-df-spinner');\n",
              "          quickchartButtonEl.classList.add('colab-df-quickchart-complete');\n",
              "        }\n",
              "        (() => {\n",
              "          let quickchartButtonEl =\n",
              "            document.querySelector('#df-69abc659-77f3-4d67-9baf-a76082b3a1d4 button');\n",
              "          quickchartButtonEl.style.display =\n",
              "            google.colab.kernel.accessAllowed ? 'block' : 'none';\n",
              "        })();\n",
              "      </script>\n",
              "    </div>\n",
              "\n",
              "  <div id=\"id_36e501ee-9b56-4a16-b8c1-d1cafa96651a\">\n",
              "    <style>\n",
              "      .colab-df-generate {\n",
              "        background-color: #E8F0FE;\n",
              "        border: none;\n",
              "        border-radius: 50%;\n",
              "        cursor: pointer;\n",
              "        display: none;\n",
              "        fill: #1967D2;\n",
              "        height: 32px;\n",
              "        padding: 0 0 0 0;\n",
              "        width: 32px;\n",
              "      }\n",
              "\n",
              "      .colab-df-generate:hover {\n",
              "        background-color: #E2EBFA;\n",
              "        box-shadow: 0px 1px 2px rgba(60, 64, 67, 0.3), 0px 1px 3px 1px rgba(60, 64, 67, 0.15);\n",
              "        fill: #174EA6;\n",
              "      }\n",
              "\n",
              "      [theme=dark] .colab-df-generate {\n",
              "        background-color: #3B4455;\n",
              "        fill: #D2E3FC;\n",
              "      }\n",
              "\n",
              "      [theme=dark] .colab-df-generate:hover {\n",
              "        background-color: #434B5C;\n",
              "        box-shadow: 0px 1px 3px 1px rgba(0, 0, 0, 0.15);\n",
              "        filter: drop-shadow(0px 1px 2px rgba(0, 0, 0, 0.3));\n",
              "        fill: #FFFFFF;\n",
              "      }\n",
              "    </style>\n",
              "    <button class=\"colab-df-generate\" onclick=\"generateWithVariable('w2v_results__df')\"\n",
              "            title=\"Generate code using this dataframe.\"\n",
              "            style=\"display:none;\">\n",
              "\n",
              "  <svg xmlns=\"http://www.w3.org/2000/svg\" height=\"24px\"viewBox=\"0 0 24 24\"\n",
              "       width=\"24px\">\n",
              "    <path d=\"M7,19H8.4L18.45,9,17,7.55,7,17.6ZM5,21V16.75L18.45,3.32a2,2,0,0,1,2.83,0l1.4,1.43a1.91,1.91,0,0,1,.58,1.4,1.91,1.91,0,0,1-.58,1.4L9.25,21ZM18.45,9,17,7.55Zm-12,3A5.31,5.31,0,0,0,4.9,8.1,5.31,5.31,0,0,0,1,6.5,5.31,5.31,0,0,0,4.9,4.9,5.31,5.31,0,0,0,6.5,1,5.31,5.31,0,0,0,8.1,4.9,5.31,5.31,0,0,0,12,6.5,5.46,5.46,0,0,0,6.5,12Z\"/>\n",
              "  </svg>\n",
              "    </button>\n",
              "    <script>\n",
              "      (() => {\n",
              "      const buttonEl =\n",
              "        document.querySelector('#id_36e501ee-9b56-4a16-b8c1-d1cafa96651a button.colab-df-generate');\n",
              "      buttonEl.style.display =\n",
              "        google.colab.kernel.accessAllowed ? 'block' : 'none';\n",
              "\n",
              "      buttonEl.onclick = () => {\n",
              "        google.colab.notebook.generateWithVariable('w2v_results__df');\n",
              "      }\n",
              "      })();\n",
              "    </script>\n",
              "  </div>\n",
              "\n",
              "    </div>\n",
              "  </div>\n"
            ],
            "application/vnd.google.colaboratory.intrinsic+json": {
              "type": "dataframe",
              "variable_name": "w2v_results__df",
              "summary": "{\n  \"name\": \"w2v_results__df\",\n  \"rows\": 5,\n  \"fields\": [\n    {\n      \"column\": \"Model\",\n      \"properties\": {\n        \"dtype\": \"string\",\n        \"num_unique_values\": 5,\n        \"samples\": [\n          \"Ridge Classifier\",\n          \"XGBoost\",\n          \"LightGBM\"\n        ],\n        \"semantic_type\": \"\",\n        \"description\": \"\"\n      }\n    },\n    {\n      \"column\": \"cv_score\",\n      \"properties\": {\n        \"dtype\": \"number\",\n        \"std\": 0.01070461997872363,\n        \"min\": 0.6973333333333334,\n        \"max\": 0.7205,\n        \"num_unique_values\": 5,\n        \"samples\": [\n          0.7168333333333333,\n          0.6973333333333334,\n          0.7110833333333334\n        ],\n        \"semantic_type\": \"\",\n        \"description\": \"\"\n      }\n    },\n    {\n      \"column\": \"val_score\",\n      \"properties\": {\n        \"dtype\": \"number\",\n        \"std\": 0.016517415051998916,\n        \"min\": 0.69375,\n        \"max\": 0.72775,\n        \"num_unique_values\": 5,\n        \"samples\": [\n          0.7225,\n          0.69375,\n          0.69725\n        ],\n        \"semantic_type\": \"\",\n        \"description\": \"\"\n      }\n    },\n    {\n      \"column\": \"precision\",\n      \"properties\": {\n        \"dtype\": \"number\",\n        \"std\": 0.010307668222278908,\n        \"min\": 0.6986160943106099,\n        \"max\": 0.7212238950947062,\n        \"num_unique_values\": 5,\n        \"samples\": [\n          0.71728515625,\n          0.6986160943106099,\n          0.6991418475517416\n        ],\n        \"semantic_type\": \"\",\n        \"description\": \"\"\n      }\n    },\n    {\n      \"column\": \"recall\",\n      \"properties\": {\n        \"dtype\": \"number\",\n        \"std\": 0.03408078637590396,\n        \"min\": 0.664,\n        \"max\": 0.7425,\n        \"num_unique_values\": 5,\n        \"samples\": [\n          0.7345,\n          0.6815,\n          0.6925\n        ],\n        \"semantic_type\": \"\",\n        \"description\": \"\"\n      }\n    },\n    {\n      \"column\": \"f1\",\n      \"properties\": {\n        \"dtype\": \"number\",\n        \"std\": 0.02151561097579976,\n        \"min\": 0.6850657725045138,\n        \"max\": 0.7317073170731707,\n        \"num_unique_values\": 5,\n        \"samples\": [\n          0.7257905138339921,\n          0.6899519109086307,\n          0.6958050741019844\n        ],\n        \"semantic_type\": \"\",\n        \"description\": \"\"\n      }\n    },\n    {\n      \"column\": \"auc\",\n      \"properties\": {\n        \"dtype\": \"number\",\n        \"std\": 0.016517415051998975,\n        \"min\": 0.69375,\n        \"max\": 0.7277500000000001,\n        \"num_unique_values\": 5,\n        \"samples\": [\n          0.7225000000000001,\n          0.69375,\n          0.6972499999999999\n        ],\n        \"semantic_type\": \"\",\n        \"description\": \"\"\n      }\n    },\n    {\n      \"column\": \"mse\",\n      \"properties\": {\n        \"dtype\": \"number\",\n        \"std\": 0.016517415051998916,\n        \"min\": 0.27225,\n        \"max\": 0.30625,\n        \"num_unique_values\": 5,\n        \"samples\": [\n          0.2775,\n          0.30625,\n          0.30275\n        ],\n        \"semantic_type\": \"\",\n        \"description\": \"\"\n      }\n    },\n    {\n      \"column\": \"train_time (s)\",\n      \"properties\": {\n        \"dtype\": \"number\",\n        \"std\": 38.57749521971499,\n        \"min\": 0.9640848636627197,\n        \"max\": 93.07145524024963,\n        \"num_unique_values\": 5,\n        \"samples\": [\n          0.9640848636627197,\n          20.270970344543457,\n          10.375399589538574\n        ],\n        \"semantic_type\": \"\",\n        \"description\": \"\"\n      }\n    }\n  ]\n}"
            }
          },
          "metadata": {},
          "execution_count": 18
        }
      ]
    },
    {
      "cell_type": "code",
      "source": [
        "show_calibration_curve(models, X_test_w2v, y_test_w2v, exclude=[\"Ridge Classifier\"])"
      ],
      "metadata": {
        "id": "BzvEAr8AGGte",
        "colab": {
          "base_uri": "https://localhost:8080/",
          "height": 309
        },
        "outputId": "e24cede1-c084-47d3-d56c-de28043d5497"
      },
      "execution_count": null,
      "outputs": [
        {
          "output_type": "display_data",
          "data": {
            "text/plain": [
              "<Figure size 1600x1000 with 1 Axes>"
            ],
            "image/png": "[encoded data removed]"
          },
          "metadata": {}
        }
      ]
    },
    {
      "cell_type": "markdown",
      "source": [
        "## | FastText"
      ],
      "metadata": {
        "id": "TJ8qN4p7XIm1"
      }
    },
    {
      "cell_type": "code",
      "source": [
        "%%time\n",
        "X_train_ft, X_valid_ft, X_test_ft, y_train_ft, y_valid_ft, y_test_ft = split_train_val_test(tweets_embeddings_fasttext, Y, sample_size=20000)"
      ],
      "metadata": {
        "id": "kCEq-SicZhMQ",
        "colab": {
          "base_uri": "https://localhost:8080/"
        },
        "outputId": "e7f60ad2-11cc-4f96-c87f-4bb926019649"
      },
      "execution_count": null,
      "outputs": [
        {
          "output_type": "stream",
          "name": "stdout",
          "text": [
            "CPU times: user 1.77 s, sys: 1.82 s, total: 3.59 s\n",
            "Wall time: 2min 13s\n"
          ]
        }
      ]
    },
    {
      "cell_type": "code",
      "source": [
        "%%time\n",
        "ft_results_df = evaluate_models(X_train_ft, X_valid_ft, y_train_ft, y_valid_ft, cv=skf, source=\"fasttext\")"
      ],
      "metadata": {
        "id": "gUAslpRmZpmN",
        "colab": {
          "base_uri": "https://localhost:8080/"
        },
        "outputId": "0a0529ec-1754-4bd5-b854-0f066c452755"
      },
      "execution_count": null,
      "outputs": [
        {
          "output_type": "stream",
          "name": "stderr",
          "text": [
            "\r  0%|          | 0/5 [00:00<?, ?it/s]"
          ]
        },
        {
          "output_type": "stream",
          "name": "stdout",
          "text": [
            "Evaluating Logistic Regression...\n"
          ]
        },
        {
          "output_type": "stream",
          "name": "stderr",
          "text": [
            "Registered model 'logistic-regression' already exists. Creating a new version of this model...\n",
            "2025/06/05 19:36:52 INFO mlflow.store.model_registry.abstract_store: Waiting up to 300 seconds for model version to finish creation. Model name: logistic-regression, version 13\n",
            "Created version '13' of model 'logistic-regression'.\n"
          ]
        },
        {
          "output_type": "stream",
          "name": "stdout",
          "text": [
            "🏃 View run sincere-crab-496 at: https://mlflow.amadousy.dev/#/experiments/18/runs/9dc352a354564ab1a1d93cc859be6318\n",
            "🧪 View experiment at: https://mlflow.amadousy.dev/#/experiments/18\n"
          ]
        },
        {
          "output_type": "stream",
          "name": "stderr",
          "text": [
            "\r 20%|██        | 1/5 [00:12<00:49, 12.31s/it]"
          ]
        },
        {
          "output_type": "stream",
          "name": "stdout",
          "text": [
            "Evaluating Ridge Classifier...\n"
          ]
        },
        {
          "output_type": "stream",
          "name": "stderr",
          "text": [
            "Registered model 'ridge-classifier' already exists. Creating a new version of this model...\n",
            "2025/06/05 19:37:02 INFO mlflow.store.model_registry.abstract_store: Waiting up to 300 seconds for model version to finish creation. Model name: ridge-classifier, version 13\n",
            "Created version '13' of model 'ridge-classifier'.\n"
          ]
        },
        {
          "output_type": "stream",
          "name": "stdout",
          "text": [
            "🏃 View run persistent-sloth-894 at: https://mlflow.amadousy.dev/#/experiments/19/runs/1e599f0fcf9843d184d3ea82cceb688b\n",
            "🧪 View experiment at: https://mlflow.amadousy.dev/#/experiments/19\n"
          ]
        },
        {
          "output_type": "stream",
          "name": "stderr",
          "text": [
            "\r 40%|████      | 2/5 [00:22<00:32, 10.84s/it]"
          ]
        },
        {
          "output_type": "stream",
          "name": "stdout",
          "text": [
            "Evaluating XGBoost...\n"
          ]
        },
        {
          "output_type": "stream",
          "name": "stderr",
          "text": [
            "Registered model 'xgboost' already exists. Creating a new version of this model...\n",
            "2025/06/05 19:37:33 INFO mlflow.store.model_registry.abstract_store: Waiting up to 300 seconds for model version to finish creation. Model name: xgboost, version 13\n",
            "Created version '13' of model 'xgboost'.\n"
          ]
        },
        {
          "output_type": "stream",
          "name": "stdout",
          "text": [
            "🏃 View run incongruous-ape-706 at: https://mlflow.amadousy.dev/#/experiments/20/runs/10bded35c47a4692b4d201ecc55dfa34\n",
            "🧪 View experiment at: https://mlflow.amadousy.dev/#/experiments/20\n"
          ]
        },
        {
          "output_type": "stream",
          "name": "stderr",
          "text": [
            "\r 60%|██████    | 3/5 [00:53<00:40, 20.14s/it]"
          ]
        },
        {
          "output_type": "stream",
          "name": "stdout",
          "text": [
            "Evaluating LightGBM...\n"
          ]
        },
        {
          "output_type": "stream",
          "name": "stderr",
          "text": [
            "Registered model 'lightgbm' already exists. Creating a new version of this model...\n",
            "2025/06/05 19:37:52 INFO mlflow.store.model_registry.abstract_store: Waiting up to 300 seconds for model version to finish creation. Model name: lightgbm, version 13\n",
            "Created version '13' of model 'lightgbm'.\n"
          ]
        },
        {
          "output_type": "stream",
          "name": "stdout",
          "text": [
            "🏃 View run invincible-snipe-941 at: https://mlflow.amadousy.dev/#/experiments/21/runs/bb95401200b74ef1aeae566c70e453df\n",
            "🧪 View experiment at: https://mlflow.amadousy.dev/#/experiments/21\n"
          ]
        },
        {
          "output_type": "stream",
          "name": "stderr",
          "text": [
            "\r 80%|████████  | 4/5 [01:11<00:19, 19.52s/it]"
          ]
        },
        {
          "output_type": "stream",
          "name": "stdout",
          "text": [
            "Evaluating Random Forest...\n",
            "Erreur lors de l'enregistrement du modèle : 413 Client Error: Request Entity Too Large for url: https://mlflow.amadousy.dev/api/2.0/mlflow-artifacts/artifacts/22/2fa2482dba9a4085920ce0f35169bc6f/artifacts/model-artifact/model.pkl. Response text: <html>\n",
            "<head><title>413 Request Entity Too Large</title></head>\n",
            "<body>\n",
            "<center><h1>413 Request Entity Too Large</h1></center>\n",
            "<hr><center>nginx/1.25.2</center>\n",
            "</body>\n",
            "</html>\n",
            "\n",
            "🏃 View run nervous-sheep-105 at: https://mlflow.amadousy.dev/#/experiments/22/runs/2fa2482dba9a4085920ce0f35169bc6f\n",
            "🧪 View experiment at: https://mlflow.amadousy.dev/#/experiments/22\n"
          ]
        },
        {
          "output_type": "stream",
          "name": "stderr",
          "text": [
            "100%|██████████| 5/5 [02:57<00:00, 35.53s/it]"
          ]
        },
        {
          "output_type": "stream",
          "name": "stdout",
          "text": [
            "\n",
            "\n",
            "CPU times: user 5min 30s, sys: 13.3 s, total: 5min 43s\n",
            "Wall time: 2min 57s\n"
          ]
        },
        {
          "output_type": "stream",
          "name": "stderr",
          "text": [
            "\n"
          ]
        }
      ]
    },
    {
      "cell_type": "code",
      "source": [
        "display(ft_results_df)"
      ],
      "metadata": {
        "id": "b8d0UMbOZt7J",
        "colab": {
          "base_uri": "https://localhost:8080/",
          "height": 206
        },
        "outputId": "2377c601-44bd-46bf-e818-2117a4535e81"
      },
      "execution_count": null,
      "outputs": [
        {
          "output_type": "display_data",
          "data": {
            "text/plain": [
              "                 Model  cv_score  val_score  precision  recall        f1  \\\n",
              "0  Logistic Regression  0.720000    0.72100   0.719900  0.7235  0.721696   \n",
              "1     Ridge Classifier  0.714500    0.72100   0.721000  0.7210  0.721000   \n",
              "2              XGBoost  0.696167    0.69600   0.695414  0.6975  0.696455   \n",
              "3             LightGBM  0.701167    0.69525   0.697521  0.6895  0.693488   \n",
              "4        Random Forest  0.689083    0.68125   0.691698  0.6540  0.672321   \n",
              "\n",
              "       auc      mse  train_time (s)  \n",
              "0  0.72100  0.27900        3.612962  \n",
              "1  0.72100  0.27900        1.059176  \n",
              "2  0.69600  0.30400       21.545762  \n",
              "3  0.69525  0.30475        8.003737  \n",
              "4  0.68125  0.31875       94.886172  "
            ],
            "text/html": [
              "\n",
              "  <div id=\"df-2c246ce0-a63b-48c6-9130-f53aa8751bf1\" class=\"colab-df-container\">\n",
              "    <div>\n",
              "<style scoped>\n",
              "    .dataframe tbody tr th:only-of-type {\n",
              "        vertical-align: middle;\n",
              "    }\n",
              "\n",
              "    .dataframe tbody tr th {\n",
              "        vertical-align: top;\n",
              "    }\n",
              "\n",
              "    .dataframe thead th {\n",
              "        text-align: right;\n",
              "    }\n",
              "</style>\n",
              "<table border=\"1\" class=\"dataframe\">\n",
              "  <thead>\n",
              "    <tr style=\"text-align: right;\">\n",
              "      <th></th>\n",
              "      <th>Model</th>\n",
              "      <th>cv_score</th>\n",
              "      <th>val_score</th>\n",
              "      <th>precision</th>\n",
              "      <th>recall</th>\n",
              "      <th>f1</th>\n",
              "      <th>auc</th>\n",
              "      <th>mse</th>\n",
              "      <th>train_time (s)</th>\n",
              "    </tr>\n",
              "  </thead>\n",
              "  <tbody>\n",
              "    <tr>\n",
              "      <th>0</th>\n",
              "      <td>Logistic Regression</td>\n",
              "      <td>0.720000</td>\n",
              "      <td>0.72100</td>\n",
              "      <td>0.719900</td>\n",
              "      <td>0.7235</td>\n",
              "      <td>0.721696</td>\n",
              "      <td>0.72100</td>\n",
              "      <td>0.27900</td>\n",
              "      <td>3.612962</td>\n",
              "    </tr>\n",
              "    <tr>\n",
              "      <th>1</th>\n",
              "      <td>Ridge Classifier</td>\n",
              "      <td>0.714500</td>\n",
              "      <td>0.72100</td>\n",
              "      <td>0.721000</td>\n",
              "      <td>0.7210</td>\n",
              "      <td>0.721000</td>\n",
              "      <td>0.72100</td>\n",
              "      <td>0.27900</td>\n",
              "      <td>1.059176</td>\n",
              "    </tr>\n",
              "    <tr>\n",
              "      <th>2</th>\n",
              "      <td>XGBoost</td>\n",
              "      <td>0.696167</td>\n",
              "      <td>0.69600</td>\n",
              "      <td>0.695414</td>\n",
              "      <td>0.6975</td>\n",
              "      <td>0.696455</td>\n",
              "      <td>0.69600</td>\n",
              "      <td>0.30400</td>\n",
              "      <td>21.545762</td>\n",
              "    </tr>\n",
              "    <tr>\n",
              "      <th>3</th>\n",
              "      <td>LightGBM</td>\n",
              "      <td>0.701167</td>\n",
              "      <td>0.69525</td>\n",
              "      <td>0.697521</td>\n",
              "      <td>0.6895</td>\n",
              "      <td>0.693488</td>\n",
              "      <td>0.69525</td>\n",
              "      <td>0.30475</td>\n",
              "      <td>8.003737</td>\n",
              "    </tr>\n",
              "    <tr>\n",
              "      <th>4</th>\n",
              "      <td>Random Forest</td>\n",
              "      <td>0.689083</td>\n",
              "      <td>0.68125</td>\n",
              "      <td>0.691698</td>\n",
              "      <td>0.6540</td>\n",
              "      <td>0.672321</td>\n",
              "      <td>0.68125</td>\n",
              "      <td>0.31875</td>\n",
              "      <td>94.886172</td>\n",
              "    </tr>\n",
              "  </tbody>\n",
              "</table>\n",
              "</div>\n",
              "    <div class=\"colab-df-buttons\">\n",
              "\n",
              "  <div class=\"colab-df-container\">\n",
              "    <button class=\"colab-df-convert\" onclick=\"convertToInteractive('df-2c246ce0-a63b-48c6-9130-f53aa8751bf1')\"\n",
              "            title=\"Convert this dataframe to an interactive table.\"\n",
              "            style=\"display:none;\">\n",
              "\n",
              "  <svg xmlns=\"http://www.w3.org/2000/svg\" height=\"24px\" viewBox=\"0 -960 960 960\">\n",
              "    <path d=\"M120-120v-720h720v720H120Zm60-500h600v-160H180v160Zm220 220h160v-160H400v160Zm0 220h160v-160H400v160ZM180-400h160v-160H180v160Zm440 0h160v-160H620v160ZM180-180h160v-160H180v160Zm440 0h160v-160H620v160Z\"/>\n",
              "  </svg>\n",
              "    </button>\n",
              "\n",
              "  <style>\n",
              "    .colab-df-container {\n",
              "      display:flex;\n",
              "      gap: 12px;\n",
              "    }\n",
              "\n",
              "    .colab-df-convert {\n",
              "      background-color: #E8F0FE;\n",
              "      border: none;\n",
              "      border-radius: 50%;\n",
              "      cursor: pointer;\n",
              "      display: none;\n",
              "      fill: #1967D2;\n",
              "      height: 32px;\n",
              "      padding: 0 0 0 0;\n",
              "      width: 32px;\n",
              "    }\n",
              "\n",
              "    .colab-df-convert:hover {\n",
              "      background-color: #E2EBFA;\n",
              "      box-shadow: 0px 1px 2px rgba(60, 64, 67, 0.3), 0px 1px 3px 1px rgba(60, 64, 67, 0.15);\n",
              "      fill: #174EA6;\n",
              "    }\n",
              "\n",
              "    .colab-df-buttons div {\n",
              "      margin-bottom: 4px;\n",
              "    }\n",
              "\n",
              "    [theme=dark] .colab-df-convert {\n",
              "      background-color: #3B4455;\n",
              "      fill: #D2E3FC;\n",
              "    }\n",
              "\n",
              "    [theme=dark] .colab-df-convert:hover {\n",
              "      background-color: #434B5C;\n",
              "      box-shadow: 0px 1px 3px 1px rgba(0, 0, 0, 0.15);\n",
              "      filter: drop-shadow(0px 1px 2px rgba(0, 0, 0, 0.3));\n",
              "      fill: #FFFFFF;\n",
              "    }\n",
              "  </style>\n",
              "\n",
              "    <script>\n",
              "      const buttonEl =\n",
              "        document.querySelector('#df-2c246ce0-a63b-48c6-9130-f53aa8751bf1 button.colab-df-convert');\n",
              "      buttonEl.style.display =\n",
              "        google.colab.kernel.accessAllowed ? 'block' : 'none';\n",
              "\n",
              "      async function convertToInteractive(key) {\n",
              "        const element = document.querySelector('#df-2c246ce0-a63b-48c6-9130-f53aa8751bf1');\n",
              "        const dataTable =\n",
              "          await google.colab.kernel.invokeFunction('convertToInteractive',\n",
              "                                                    [key], {});\n",
              "        if (!dataTable) return;\n",
              "\n",
              "        const docLinkHtml = 'Like what you see? Visit the ' +\n",
              "          '<a target=\"_blank\" href=https://colab.research.google.com/notebooks/data_table.ipynb>data table notebook</a>'\n",
              "          + ' to learn more about interactive tables.';\n",
              "        element.innerHTML = '';\n",
              "        dataTable['output_type'] = 'display_data';\n",
              "        await google.colab.output.renderOutput(dataTable, element);\n",
              "        const docLink = document.createElement('div');\n",
              "        docLink.innerHTML = docLinkHtml;\n",
              "        element.appendChild(docLink);\n",
              "      }\n",
              "    </script>\n",
              "  </div>\n",
              "\n",
              "\n",
              "    <div id=\"df-7c540e9b-f3f4-4d3c-9d05-7f33283324bf\">\n",
              "      <button class=\"colab-df-quickchart\" onclick=\"quickchart('df-7c540e9b-f3f4-4d3c-9d05-7f33283324bf')\"\n",
              "                title=\"Suggest charts\"\n",
              "                style=\"display:none;\">\n",
              "\n",
              "<svg xmlns=\"http://www.w3.org/2000/svg\" height=\"24px\"viewBox=\"0 0 24 24\"\n",
              "     width=\"24px\">\n",
              "    <g>\n",
              "        <path d=\"M19 3H5c-1.1 0-2 .9-2 2v14c0 1.1.9 2 2 2h14c1.1 0 2-.9 2-2V5c0-1.1-.9-2-2-2zM9 17H7v-7h2v7zm4 0h-2V7h2v10zm4 0h-2v-4h2v4z\"/>\n",
              "    </g>\n",
              "</svg>\n",
              "      </button>\n",
              "\n",
              "<style>\n",
              "  .colab-df-quickchart {\n",
              "      --bg-color: #E8F0FE;\n",
              "      --fill-color: #1967D2;\n",
              "      --hover-bg-color: #E2EBFA;\n",
              "      --hover-fill-color: #174EA6;\n",
              "      --disabled-fill-color: #AAA;\n",
              "      --disabled-bg-color: #DDD;\n",
              "  }\n",
              "\n",
              "  [theme=dark] .colab-df-quickchart {\n",
              "      --bg-color: #3B4455;\n",
              "      --fill-color: #D2E3FC;\n",
              "      --hover-bg-color: #434B5C;\n",
              "      --hover-fill-color: #FFFFFF;\n",
              "      --disabled-bg-color: #3B4455;\n",
              "      --disabled-fill-color: #666;\n",
              "  }\n",
              "\n",
              "  .colab-df-quickchart {\n",
              "    background-color: var(--bg-color);\n",
              "    border: none;\n",
              "    border-radius: 50%;\n",
              "    cursor: pointer;\n",
              "    display: none;\n",
              "    fill: var(--fill-color);\n",
              "    height: 32px;\n",
              "    padding: 0;\n",
              "    width: 32px;\n",
              "  }\n",
              "\n",
              "  .colab-df-quickchart:hover {\n",
              "    background-color: var(--hover-bg-color);\n",
              "    box-shadow: 0 1px 2px rgba(60, 64, 67, 0.3), 0 1px 3px 1px rgba(60, 64, 67, 0.15);\n",
              "    fill: var(--button-hover-fill-color);\n",
              "  }\n",
              "\n",
              "  .colab-df-quickchart-complete:disabled,\n",
              "  .colab-df-quickchart-complete:disabled:hover {\n",
              "    background-color: var(--disabled-bg-color);\n",
              "    fill: var(--disabled-fill-color);\n",
              "    box-shadow: none;\n",
              "  }\n",
              "\n",
              "  .colab-df-spinner {\n",
              "    border: 2px solid var(--fill-color);\n",
              "    border-color: transparent;\n",
              "    border-bottom-color: var(--fill-color);\n",
              "    animation:\n",
              "      spin 1s steps(1) infinite;\n",
              "  }\n",
              "\n",
              "  @keyframes spin {\n",
              "    0% {\n",
              "      border-color: transparent;\n",
              "      border-bottom-color: var(--fill-color);\n",
              "      border-left-color: var(--fill-color);\n",
              "    }\n",
              "    20% {\n",
              "      border-color: transparent;\n",
              "      border-left-color: var(--fill-color);\n",
              "      border-top-color: var(--fill-color);\n",
              "    }\n",
              "    30% {\n",
              "      border-color: transparent;\n",
              "      border-left-color: var(--fill-color);\n",
              "      border-top-color: var(--fill-color);\n",
              "      border-right-color: var(--fill-color);\n",
              "    }\n",
              "    40% {\n",
              "      border-color: transparent;\n",
              "      border-right-color: var(--fill-color);\n",
              "      border-top-color: var(--fill-color);\n",
              "    }\n",
              "    60% {\n",
              "      border-color: transparent;\n",
              "      border-right-color: var(--fill-color);\n",
              "    }\n",
              "    80% {\n",
              "      border-color: transparent;\n",
              "      border-right-color: var(--fill-color);\n",
              "      border-bottom-color: var(--fill-color);\n",
              "    }\n",
              "    90% {\n",
              "      border-color: transparent;\n",
              "      border-bottom-color: var(--fill-color);\n",
              "    }\n",
              "  }\n",
              "</style>\n",
              "\n",
              "      <script>\n",
              "        async function quickchart(key) {\n",
              "          const quickchartButtonEl =\n",
              "            document.querySelector('#' + key + ' button');\n",
              "          quickchartButtonEl.disabled = true;  // To prevent multiple clicks.\n",
              "          quickchartButtonEl.classList.add('colab-df-spinner');\n",
              "          try {\n",
              "            const charts = await google.colab.kernel.invokeFunction(\n",
              "                'suggestCharts', [key], {});\n",
              "          } catch (error) {\n",
              "            console.error('Error during call to suggestCharts:', error);\n",
              "          }\n",
              "          quickchartButtonEl.classList.remove('colab-df-spinner');\n",
              "          quickchartButtonEl.classList.add('colab-df-quickchart-complete');\n",
              "        }\n",
              "        (() => {\n",
              "          let quickchartButtonEl =\n",
              "            document.querySelector('#df-7c540e9b-f3f4-4d3c-9d05-7f33283324bf button');\n",
              "          quickchartButtonEl.style.display =\n",
              "            google.colab.kernel.accessAllowed ? 'block' : 'none';\n",
              "        })();\n",
              "      </script>\n",
              "    </div>\n",
              "\n",
              "  <div id=\"id_cd22c384-b939-4868-be5b-272875cd4327\">\n",
              "    <style>\n",
              "      .colab-df-generate {\n",
              "        background-color: #E8F0FE;\n",
              "        border: none;\n",
              "        border-radius: 50%;\n",
              "        cursor: pointer;\n",
              "        display: none;\n",
              "        fill: #1967D2;\n",
              "        height: 32px;\n",
              "        padding: 0 0 0 0;\n",
              "        width: 32px;\n",
              "      }\n",
              "\n",
              "      .colab-df-generate:hover {\n",
              "        background-color: #E2EBFA;\n",
              "        box-shadow: 0px 1px 2px rgba(60, 64, 67, 0.3), 0px 1px 3px 1px rgba(60, 64, 67, 0.15);\n",
              "        fill: #174EA6;\n",
              "      }\n",
              "\n",
              "      [theme=dark] .colab-df-generate {\n",
              "        background-color: #3B4455;\n",
              "        fill: #D2E3FC;\n",
              "      }\n",
              "\n",
              "      [theme=dark] .colab-df-generate:hover {\n",
              "        background-color: #434B5C;\n",
              "        box-shadow: 0px 1px 3px 1px rgba(0, 0, 0, 0.15);\n",
              "        filter: drop-shadow(0px 1px 2px rgba(0, 0, 0, 0.3));\n",
              "        fill: #FFFFFF;\n",
              "      }\n",
              "    </style>\n",
              "    <button class=\"colab-df-generate\" onclick=\"generateWithVariable('ft_results_df')\"\n",
              "            title=\"Generate code using this dataframe.\"\n",
              "            style=\"display:none;\">\n",
              "\n",
              "  <svg xmlns=\"http://www.w3.org/2000/svg\" height=\"24px\"viewBox=\"0 0 24 24\"\n",
              "       width=\"24px\">\n",
              "    <path d=\"M7,19H8.4L18.45,9,17,7.55,7,17.6ZM5,21V16.75L18.45,3.32a2,2,0,0,1,2.83,0l1.4,1.43a1.91,1.91,0,0,1,.58,1.4,1.91,1.91,0,0,1-.58,1.4L9.25,21ZM18.45,9,17,7.55Zm-12,3A5.31,5.31,0,0,0,4.9,8.1,5.31,5.31,0,0,0,1,6.5,5.31,5.31,0,0,0,4.9,4.9,5.31,5.31,0,0,0,6.5,1,5.31,5.31,0,0,0,8.1,4.9,5.31,5.31,0,0,0,12,6.5,5.46,5.46,0,0,0,6.5,12Z\"/>\n",
              "  </svg>\n",
              "    </button>\n",
              "    <script>\n",
              "      (() => {\n",
              "      const buttonEl =\n",
              "        document.querySelector('#id_cd22c384-b939-4868-be5b-272875cd4327 button.colab-df-generate');\n",
              "      buttonEl.style.display =\n",
              "        google.colab.kernel.accessAllowed ? 'block' : 'none';\n",
              "\n",
              "      buttonEl.onclick = () => {\n",
              "        google.colab.notebook.generateWithVariable('ft_results_df');\n",
              "      }\n",
              "      })();\n",
              "    </script>\n",
              "  </div>\n",
              "\n",
              "    </div>\n",
              "  </div>\n"
            ],
            "application/vnd.google.colaboratory.intrinsic+json": {
              "type": "dataframe",
              "variable_name": "ft_results_df",
              "summary": "{\n  \"name\": \"ft_results_df\",\n  \"rows\": 5,\n  \"fields\": [\n    {\n      \"column\": \"Model\",\n      \"properties\": {\n        \"dtype\": \"string\",\n        \"num_unique_values\": 5,\n        \"samples\": [\n          \"Ridge Classifier\",\n          \"Random Forest\",\n          \"XGBoost\"\n        ],\n        \"semantic_type\": \"\",\n        \"description\": \"\"\n      }\n    },\n    {\n      \"column\": \"cv_score\",\n      \"properties\": {\n        \"dtype\": \"number\",\n        \"std\": 0.012825538758447752,\n        \"min\": 0.6890833333333333,\n        \"max\": 0.7200000000000001,\n        \"num_unique_values\": 5,\n        \"samples\": [\n          0.7144999999999999,\n          0.6890833333333333,\n          0.6961666666666666\n        ],\n        \"semantic_type\": \"\",\n        \"description\": \"\"\n      }\n    },\n    {\n      \"column\": \"val_score\",\n      \"properties\": {\n        \"dtype\": \"number\",\n        \"std\": 0.01753621253292738,\n        \"min\": 0.68125,\n        \"max\": 0.721,\n        \"num_unique_values\": 4,\n        \"samples\": [\n          0.696,\n          0.68125,\n          0.721\n        ],\n        \"semantic_type\": \"\",\n        \"description\": \"\"\n      }\n    },\n    {\n      \"column\": \"precision\",\n      \"properties\": {\n        \"dtype\": \"number\",\n        \"std\": 0.01416640476777062,\n        \"min\": 0.6916975145425701,\n        \"max\": 0.721,\n        \"num_unique_values\": 5,\n        \"samples\": [\n          0.721,\n          0.6916975145425701,\n          0.6954137587238285\n        ],\n        \"semantic_type\": \"\",\n        \"description\": \"\"\n      }\n    },\n    {\n      \"column\": \"recall\",\n      \"properties\": {\n        \"dtype\": \"number\",\n        \"std\": 0.02821214277576235,\n        \"min\": 0.654,\n        \"max\": 0.7235,\n        \"num_unique_values\": 5,\n        \"samples\": [\n          0.721,\n          0.654,\n          0.6975\n        ],\n        \"semantic_type\": \"\",\n        \"description\": \"\"\n      }\n    },\n    {\n      \"column\": \"f1\",\n      \"properties\": {\n        \"dtype\": \"number\",\n        \"std\": 0.020784039055312845,\n        \"min\": 0.6723207401696222,\n        \"max\": 0.7216957605985037,\n        \"num_unique_values\": 5,\n        \"samples\": [\n          0.721,\n          0.6723207401696222,\n          0.6964553170244633\n        ],\n        \"semantic_type\": \"\",\n        \"description\": \"\"\n      }\n    },\n    {\n      \"column\": \"auc\",\n      \"properties\": {\n        \"dtype\": \"number\",\n        \"std\": 0.017536212532927437,\n        \"min\": 0.68125,\n        \"max\": 0.7210000000000001,\n        \"num_unique_values\": 4,\n        \"samples\": [\n          0.696,\n          0.68125,\n          0.7210000000000001\n        ],\n        \"semantic_type\": \"\",\n        \"description\": \"\"\n      }\n    },\n    {\n      \"column\": \"mse\",\n      \"properties\": {\n        \"dtype\": \"number\",\n        \"std\": 0.01753621253292738,\n        \"min\": 0.279,\n        \"max\": 0.31875,\n        \"num_unique_values\": 4,\n        \"samples\": [\n          0.304,\n          0.31875,\n          0.279\n        ],\n        \"semantic_type\": \"\",\n        \"description\": \"\"\n      }\n    },\n    {\n      \"column\": \"train_time (s)\",\n      \"properties\": {\n        \"dtype\": \"number\",\n        \"std\": 39.408360025276544,\n        \"min\": 1.0591764450073242,\n        \"max\": 94.88617205619812,\n        \"num_unique_values\": 5,\n        \"samples\": [\n          1.0591764450073242,\n          94.88617205619812,\n          21.545762062072754\n        ],\n        \"semantic_type\": \"\",\n        \"description\": \"\"\n      }\n    }\n  ]\n}"
            }
          },
          "metadata": {}
        }
      ]
    },
    {
      "cell_type": "markdown",
      "source": [
        "## Comparaison des modèles"
      ],
      "metadata": {
        "id": "K5cgB6YI2eVw"
      }
    },
    {
      "cell_type": "code",
      "source": [
        "tfidf_results_df['Corpus'] = 'tfidf'\n",
        "w2v_results__df['Corpus'] = 'word2vec'\n",
        "ft_results_df['Corpus'] = 'fasttext'"
      ],
      "metadata": {
        "id": "1q4zgkV_6j0d"
      },
      "execution_count": null,
      "outputs": []
    },
    {
      "cell_type": "code",
      "source": [
        "res_all_df = pd.concat([tfidf_results_df, w2v_results__df, ft_results_df])\n",
        "res_all_df.rename(columns={\n",
        "    \"val_score\": \"Accuracy\",\n",
        "    \"f1\": \"F1-score\",\n",
        "    \"auc\": \"AUC\",\n",
        "    \"train_time (s)\": \"Train Time (s)\"\n",
        "}, inplace=True)"
      ],
      "metadata": {
        "id": "RrgjMtLU6qdJ"
      },
      "execution_count": null,
      "outputs": []
    },
    {
      "cell_type": "code",
      "source": [
        "fig = plt.figure(figsize=(14, 6))\n",
        "\n",
        "# F1-score\n",
        "ax = fig.add_subplot(131)\n",
        "sns.barplot(data=res_all_df, x=\"Model\", y=\"Accuracy\", hue=\"Corpus\")\n",
        "plt.title(\"Comparaison des Accuracy par modèle et corpus\")\n",
        "plt.xticks(rotation=45)\n",
        "plt.grid(axis=\"y\")\n",
        "plt.tight_layout()\n",
        "\n",
        "# AUC\n",
        "ax = fig.add_subplot(132)\n",
        "sns.barplot(data=res_all_df, x=\"Model\", y=\"AUC\", hue=\"Corpus\")\n",
        "plt.title(\"Comparaison des AUC par modèle et corpus\")\n",
        "plt.xticks(rotation=45)\n",
        "plt.grid(axis=\"y\")\n",
        "plt.tight_layout()\n",
        "\n",
        "# Train Time\n",
        "ax = fig.add_subplot(133)\n",
        "sns.barplot(data=res_all_df, x=\"Model\", y=\"Train Time (s)\", hue=\"Corpus\")\n",
        "plt.title(\"Temps d'entraînement par modèle et corpus\")\n",
        "plt.xticks(rotation=45)\n",
        "plt.yscale(\"log\")\n",
        "plt.grid(axis=\"y\")\n",
        "plt.tight_layout()\n",
        "\n",
        "plt.show()"
      ],
      "metadata": {
        "colab": {
          "base_uri": "https://localhost:8080/",
          "height": 606
        },
        "id": "32avJbgM69QM",
        "outputId": "c6b830ab-b8b9-4bd8-9405-f9b61c50b376"
      },
      "execution_count": null,
      "outputs": [
        {
          "output_type": "display_data",
          "data": {
            "text/plain": [
              "<Figure size 1400x600 with 3 Axes>"
            ],
            "image/png": "[encoded data removed]"
          },
          "metadata": {}
        }
      ]
    },
    {
      "cell_type": "code",
      "source": [
        "del tfidf_results_df\n",
        "del w2v_results__df\n",
        "del ft_results_df\n",
        "del X_test_tfidf\n",
        "del X_valid_tfidf\n",
        "del X_train_tfidf\n",
        "del y_valid_tfidf\n",
        "del y_train_tfidf\n",
        "del y_test_tfidf"
      ],
      "metadata": {
        "id": "EDsjBsf5sfmh"
      },
      "execution_count": null,
      "outputs": []
    },
    {
      "cell_type": "markdown",
      "source": [
        "**Conclusion**: Parmi l’ensemble des modèles testés sur les trois représentations textuelles, **Logistic Regression avec Word2Vec** obtient les meilleurs résultats en termes de F1-score et d’AUC.\n",
        "Il offre un excellent compromis entre performance et robustesse, tout en restant simple à entraîner.\n",
        "Nous le retenons donc comme **modèle de référence pour cette prémiére approche**.\n"
      ],
      "metadata": {
        "id": "sCWRoN9L-_2u"
      }
    },
    {
      "cell_type": "markdown",
      "source": [
        "## Optimisation du modéle 1: Logistic Regression + Word2vec"
      ],
      "metadata": {
        "id": "AM4nosiM_SM1"
      }
    },
    {
      "cell_type": "code",
      "source": [
        "!pip install optuna\n",
        "import optuna"
      ],
      "metadata": {
        "colab": {
          "base_uri": "https://localhost:8080/"
        },
        "id": "vad9Uib1A93n",
        "outputId": "76bb7ac9-08bc-4733-e934-71227bf03fc6"
      },
      "execution_count": null,
      "outputs": [
        {
          "output_type": "stream",
          "name": "stdout",
          "text": [
            "Collecting optuna\n",
            "  Downloading optuna-4.3.0-py3-none-any.whl.metadata (17 kB)\n",
            "Requirement already satisfied: alembic>=1.5.0 in /usr/local/lib/python3.11/dist-packages (from optuna) (1.16.1)\n",
            "Collecting colorlog (from optuna)\n",
            "  Downloading colorlog-6.9.0-py3-none-any.whl.metadata (10 kB)\n",
            "Requirement already satisfied: numpy in /usr/local/lib/python3.11/dist-packages (from optuna) (1.26.4)\n",
            "Requirement already satisfied: packaging>=20.0 in /usr/local/lib/python3.11/dist-packages (from optuna) (24.2)\n",
            "Requirement already satisfied: sqlalchemy>=1.4.2 in /usr/local/lib/python3.11/dist-packages (from optuna) (2.0.41)\n",
            "Requirement already satisfied: tqdm in /usr/local/lib/python3.11/dist-packages (from optuna) (4.67.1)\n",
            "Requirement already satisfied: PyYAML in /usr/local/lib/python3.11/dist-packages (from optuna) (6.0.2)\n",
            "Requirement already satisfied: Mako in /usr/lib/python3/dist-packages (from alembic>=1.5.0->optuna) (1.1.3)\n",
            "Requirement already satisfied: typing-extensions>=4.12 in /usr/local/lib/python3.11/dist-packages (from alembic>=1.5.0->optuna) (4.13.2)\n",
            "Requirement already satisfied: greenlet>=1 in /usr/local/lib/python3.11/dist-packages (from sqlalchemy>=1.4.2->optuna) (3.2.2)\n",
            "Downloading optuna-4.3.0-py3-none-any.whl (386 kB)\n",
            "\u001b[?25l   \u001b[90m━━━━━━━━━━━━━━━━━━━━━━━━━━━━━━━━━━━━━━━━\u001b[0m \u001b[32m0.0/386.6 kB\u001b[0m \u001b[31m?\u001b[0m eta \u001b[36m-:--:--\u001b[0m\r\u001b[2K   \u001b[90m━━━━━━━━━━━━━━━━━━━━━━━━━━━━━━━━━━━━━━━━\u001b[0m \u001b[32m386.6/386.6 kB\u001b[0m \u001b[31m28.6 MB/s\u001b[0m eta \u001b[36m0:00:00\u001b[0m\n",
            "\u001b[?25hDownloading colorlog-6.9.0-py3-none-any.whl (11 kB)\n",
            "Installing collected packages: colorlog, optuna\n",
            "Successfully installed colorlog-6.9.0 optuna-4.3.0\n"
          ]
        }
      ]
    },
    {
      "cell_type": "code",
      "source": [
        "def objective(trial):\n",
        "    # Hyperparamètres à optimiser\n",
        "    C = trial.suggest_loguniform('C', 1e-2, 1e2)\n",
        "    penalty = trial.suggest_categorical('penalty', ['l1', 'l2', 'elasticnet', None])\n",
        "    class_weight = trial.suggest_categorical('class_weight', [None, 'balanced'])\n",
        "    solver = trial.suggest_categorical('solver', ['liblinear', 'lbfgs', 'saga'])\n",
        "\n",
        "    # Only needed if penalty is elasticnet\n",
        "    l1_ratio = None\n",
        "    if penalty == 'elasticnet':\n",
        "        l1_ratio = trial.suggest_float('l1_ratio', 0.0, 0.5)\n",
        "\n",
        "    # Skip invalid combinations manually\n",
        "    invalid_combo = (\n",
        "        (penalty == 'l1' and solver not in ['liblinear', 'saga']) or\n",
        "        (penalty == 'elasticnet' and solver != 'saga') or\n",
        "        (penalty == 'none' and solver == 'liblinear')\n",
        "    )\n",
        "    # Skip invalid combinations manually\n",
        "    invalid_combo = (\n",
        "        (penalty == 'l1' and solver not in ['liblinear', 'saga']) or\n",
        "        (penalty == 'elasticnet' and solver != 'saga') or\n",
        "        (penalty == None and solver == 'liblinear')\n",
        "    )\n",
        "\n",
        "    if invalid_combo:\n",
        "        return 0.0\n",
        "\n",
        "    # Modèle\n",
        "    model = LogisticRegression(\n",
        "        C=C,\n",
        "        penalty=penalty,\n",
        "        class_weight=class_weight,\n",
        "        max_iter=1000,\n",
        "        solver=solver,\n",
        "        l1_ratio=l1_ratio,\n",
        "        random_state=42\n",
        "    )\n",
        "\n",
        "    # Cross-validation\n",
        "    cv = StratifiedKFold(n_splits=4, shuffle=True, random_state=42)\n",
        "    score = cross_val_score(model, X_train_w2v, y_train_w2v, cv=cv, scoring='accuracy', n_jobs=-1).mean()\n",
        "    return score"
      ],
      "metadata": {
        "id": "f04sbCZTBIwa"
      },
      "execution_count": null,
      "outputs": []
    },
    {
      "cell_type": "code",
      "source": [
        "%%time\n",
        "study = optuna.create_study(direction=\"maximize\")\n",
        "study.optimize(objective, n_trials=20, n_jobs=-1)"
      ],
      "metadata": {
        "colab": {
          "base_uri": "https://localhost:8080/"
        },
        "id": "FvHPodh4BP4-",
        "outputId": "45eb17a0-a178-424e-d288-970487b14b9a"
      },
      "execution_count": null,
      "outputs": [
        {
          "output_type": "stream",
          "name": "stderr",
          "text": [
            "[I 2025-06-05 19:39:42,677] A new study created in memory with name: no-name-ba745e20-e19a-460d-8d30-1fe5c0fff52b\n",
            "[I 2025-06-05 19:39:42,689] Trial 3 finished with value: 0.0 and parameters: {'C': 1.001313671400767, 'penalty': 'elasticnet', 'class_weight': 'balanced', 'solver': 'liblinear', 'l1_ratio': 0.22460335049526065}. Best is trial 3 with value: 0.0.\n",
            "[I 2025-06-05 19:39:42,693] Trial 5 finished with value: 0.0 and parameters: {'C': 0.01080496478037204, 'penalty': None, 'class_weight': 'balanced', 'solver': 'liblinear'}. Best is trial 3 with value: 0.0.\n",
            "[I 2025-06-05 19:39:42,696] Trial 6 finished with value: 0.0 and parameters: {'C': 0.03576419369151944, 'penalty': 'l1', 'class_weight': None, 'solver': 'lbfgs'}. Best is trial 3 with value: 0.0.\n",
            "[I 2025-06-05 19:39:42,708] Trial 7 finished with value: 0.0 and parameters: {'C': 0.13880045500406335, 'penalty': 'l1', 'class_weight': 'balanced', 'solver': 'lbfgs'}. Best is trial 3 with value: 0.0.\n",
            "[I 2025-06-05 19:39:42,718] Trial 9 finished with value: 0.0 and parameters: {'C': 0.15184733035706985, 'penalty': 'elasticnet', 'class_weight': None, 'solver': 'lbfgs', 'l1_ratio': 0.4273499248032593}. Best is trial 3 with value: 0.0.\n",
            "[I 2025-06-05 19:39:42,720] Trial 11 finished with value: 0.0 and parameters: {'C': 0.024107096096384176, 'penalty': 'l1', 'class_weight': 'balanced', 'solver': 'lbfgs'}. Best is trial 3 with value: 0.0.\n",
            "[I 2025-06-05 19:39:42,730] Trial 13 finished with value: 0.0 and parameters: {'C': 0.1772143417614475, 'penalty': 'elasticnet', 'class_weight': None, 'solver': 'liblinear', 'l1_ratio': 0.1634529325079213}. Best is trial 3 with value: 0.0.\n",
            "[I 2025-06-05 19:39:42,733] Trial 14 finished with value: 0.0 and parameters: {'C': 39.574718648090325, 'penalty': 'l1', 'class_weight': None, 'solver': 'lbfgs'}. Best is trial 3 with value: 0.0.\n",
            "[I 2025-06-05 19:39:42,737] Trial 15 finished with value: 0.0 and parameters: {'C': 0.4393281017071002, 'penalty': None, 'class_weight': None, 'solver': 'liblinear'}. Best is trial 3 with value: 0.0.\n",
            "[I 2025-06-05 19:39:48,336] Trial 1 finished with value: 0.7170833333333334 and parameters: {'C': 3.9211261764111263, 'penalty': 'l2', 'class_weight': None, 'solver': 'lbfgs'}. Best is trial 1 with value: 0.7170833333333334.\n",
            "[I 2025-06-05 19:39:48,512] Trial 0 finished with value: 0.7195833333333334 and parameters: {'C': 0.04455099991540363, 'penalty': 'l2', 'class_weight': None, 'solver': 'lbfgs'}. Best is trial 0 with value: 0.7195833333333334.\n",
            "[I 2025-06-05 19:39:50,424] Trial 10 finished with value: 0.71675 and parameters: {'C': 3.4359179971322957, 'penalty': 'l2', 'class_weight': None, 'solver': 'lbfgs'}. Best is trial 0 with value: 0.7195833333333334.\n",
            "[I 2025-06-05 19:41:39,571] Trial 2 finished with value: 0.7171666666666666 and parameters: {'C': 2.5230431533787887, 'penalty': 'elasticnet', 'class_weight': 'balanced', 'solver': 'saga', 'l1_ratio': 0.46645308267655056}. Best is trial 0 with value: 0.7195833333333334.\n",
            "[I 2025-06-05 19:41:39,607] Trial 8 finished with value: 0.71975 and parameters: {'C': 0.032010439286930974, 'penalty': 'l2', 'class_weight': 'balanced', 'solver': 'liblinear'}. Best is trial 8 with value: 0.71975.\n",
            "[I 2025-06-05 19:41:40,631] Trial 4 finished with value: 0.7168333333333333 and parameters: {'C': 0.014498488020982633, 'penalty': None, 'class_weight': None, 'solver': 'lbfgs'}. Best is trial 8 with value: 0.71975.\n",
            "[I 2025-06-05 19:41:47,034] Trial 12 finished with value: 0.7166666666666667 and parameters: {'C': 40.215012378048506, 'penalty': 'l1', 'class_weight': None, 'solver': 'saga'}. Best is trial 8 with value: 0.71975.\n",
            "[I 2025-06-05 19:43:09,966] Trial 17 finished with value: 0.7165833333333333 and parameters: {'C': 5.4924599669564005, 'penalty': 'l2', 'class_weight': None, 'solver': 'saga'}. Best is trial 8 with value: 0.71975.\n",
            "[I 2025-06-05 19:43:36,059] Trial 16 finished with value: 0.717 and parameters: {'C': 78.45022858917841, 'penalty': 'l1', 'class_weight': None, 'solver': 'saga'}. Best is trial 8 with value: 0.71975.\n",
            "[I 2025-06-05 19:44:31,869] Trial 18 finished with value: 0.7165833333333333 and parameters: {'C': 5.443209292361373, 'penalty': 'l2', 'class_weight': None, 'solver': 'saga'}. Best is trial 8 with value: 0.71975.\n",
            "[I 2025-06-05 19:44:45,072] Trial 19 finished with value: 0.7168333333333333 and parameters: {'C': 9.176064496127236, 'penalty': 'l2', 'class_weight': None, 'solver': 'saga'}. Best is trial 8 with value: 0.71975.\n"
          ]
        },
        {
          "output_type": "stream",
          "name": "stdout",
          "text": [
            "CPU times: user 2.54 s, sys: 797 ms, total: 3.34 s\n",
            "Wall time: 5min 2s\n"
          ]
        }
      ]
    },
    {
      "cell_type": "code",
      "source": [
        "print(\"Best score (F1):\", study.best_value)\n",
        "print(\"Best params:\", study.best_params)"
      ],
      "metadata": {
        "colab": {
          "base_uri": "https://localhost:8080/"
        },
        "id": "8PGpv4HoHFBs",
        "outputId": "0c64df40-c800-4241-dbdc-2eecbdd71cdb"
      },
      "execution_count": null,
      "outputs": [
        {
          "output_type": "stream",
          "name": "stdout",
          "text": [
            "Best score (F1): 0.71975\n",
            "Best params: {'C': 0.032010439286930974, 'penalty': 'l2', 'class_weight': 'balanced', 'solver': 'liblinear'}\n"
          ]
        }
      ]
    },
    {
      "cell_type": "code",
      "source": [
        "# La relation entre chaque hyperparamètre et la valeur de la fonction objectif.\n",
        "optuna.visualization.plot_slice(study)"
      ],
      "metadata": {
        "colab": {
          "base_uri": "https://localhost:8080/",
          "height": 562
        },
        "id": "tgy2AOIaHH76",
        "outputId": "f12e1e14-d941-4f43-b8e6-b842eada964d"
      },
      "execution_count": null,
      "outputs": [
        {
          "output_type": "display_data",
          "data": {
            "text/html": [
              "<html>\n",
              "<head><meta charset=\"utf-8\" /></head>\n",
              "<body>\n",
              "    <div>            <script src=\"https://cdnjs.cloudflare.com/ajax/libs/mathjax/2.7.5/MathJax.js?config=TeX-AMS-MML_SVG\"></script><script type=\"text/javascript\">if (window.MathJax && window.MathJax.Hub && window.MathJax.Hub.Config) {window.MathJax.Hub.Config({SVG: {font: \"STIX-Web\"}});}</script>                <script type=\"text/javascript\">window.PlotlyConfig = {MathJaxConfig: 'local'};</script>\n",
              "        <script charset=\"utf-8\" src=\"https://cdn.plot.ly/plotly-2.35.2.min.js\"></script>                <div id=\"4c641f97-ba8a-4b7c-9441-e8cf43c750e5\" class=\"plotly-graph-div\" style=\"height:525px; width:1500px;\"></div>            <script type=\"text/javascript\">                                    window.PLOTLYENV=window.PLOTLYENV || {};                                    if (document.getElementById(\"4c641f97-ba8a-4b7c-9441-e8cf43c750e5\")) {                    Plotly.newPlot(                        \"4c641f97-ba8a-4b7c-9441-e8cf43c750e5\",                        [{\"marker\":{\"color\":[0,1,2,3,4,5,6,7,8,9,10,11,12,13,14,15,16,17,18,19],\"colorbar\":{\"title\":{\"text\":\"Trial\"},\"x\":1.0,\"xpad\":40},\"colorscale\":[[0.0,\"rgb(247,251,255)\"],[0.125,\"rgb(222,235,247)\"],[0.25,\"rgb(198,219,239)\"],[0.375,\"rgb(158,202,225)\"],[0.5,\"rgb(107,174,214)\"],[0.625,\"rgb(66,146,198)\"],[0.75,\"rgb(33,113,181)\"],[0.875,\"rgb(8,81,156)\"],[1.0,\"rgb(8,48,107)\"]],\"line\":{\"color\":\"Grey\",\"width\":0.5},\"showscale\":true},\"mode\":\"markers\",\"name\":\"Feasible Trial\",\"showlegend\":false,\"x\":[0.04455099991540363,3.9211261764111263,2.5230431533787887,1.001313671400767,0.014498488020982633,0.01080496478037204,0.03576419369151944,0.13880045500406335,0.032010439286930974,0.15184733035706985,3.4359179971322957,0.024107096096384176,40.215012378048506,0.1772143417614475,39.574718648090325,0.4393281017071002,78.45022858917841,5.4924599669564005,5.443209292361373,9.176064496127236],\"y\":[0.7195833333333334,0.7170833333333334,0.7171666666666666,0.0,0.7168333333333333,0.0,0.0,0.0,0.71975,0.0,0.71675,0.0,0.7166666666666667,0.0,0.0,0.0,0.717,0.7165833333333333,0.7165833333333333,0.7168333333333333],\"type\":\"scatter\",\"xaxis\":\"x\",\"yaxis\":\"y\"},{\"marker\":{\"color\":[0,1,2,3,4,5,6,7,8,9,10,11,12,13,14,15,16,17,18,19],\"colorbar\":{\"title\":{\"text\":\"Trial\"},\"x\":1.0,\"xpad\":40},\"colorscale\":[[0.0,\"rgb(247,251,255)\"],[0.125,\"rgb(222,235,247)\"],[0.25,\"rgb(198,219,239)\"],[0.375,\"rgb(158,202,225)\"],[0.5,\"rgb(107,174,214)\"],[0.625,\"rgb(66,146,198)\"],[0.75,\"rgb(33,113,181)\"],[0.875,\"rgb(8,81,156)\"],[1.0,\"rgb(8,48,107)\"]],\"line\":{\"color\":\"Grey\",\"width\":0.5},\"showscale\":false},\"mode\":\"markers\",\"name\":\"Feasible Trial\",\"showlegend\":false,\"x\":[null,null,\"balanced\",\"balanced\",null,\"balanced\",null,\"balanced\",\"balanced\",null,null,\"balanced\",null,null,null,null,null,null,null,null],\"y\":[0.7195833333333334,0.7170833333333334,0.7171666666666666,0.0,0.7168333333333333,0.0,0.0,0.0,0.71975,0.0,0.71675,0.0,0.7166666666666667,0.0,0.0,0.0,0.717,0.7165833333333333,0.7165833333333333,0.7168333333333333],\"type\":\"scatter\",\"xaxis\":\"x2\",\"yaxis\":\"y2\"},{\"marker\":{\"color\":[2,3,9,13],\"colorbar\":{\"title\":{\"text\":\"Trial\"},\"x\":1.0,\"xpad\":40},\"colorscale\":[[0.0,\"rgb(247,251,255)\"],[0.125,\"rgb(222,235,247)\"],[0.25,\"rgb(198,219,239)\"],[0.375,\"rgb(158,202,225)\"],[0.5,\"rgb(107,174,214)\"],[0.625,\"rgb(66,146,198)\"],[0.75,\"rgb(33,113,181)\"],[0.875,\"rgb(8,81,156)\"],[1.0,\"rgb(8,48,107)\"]],\"line\":{\"color\":\"Grey\",\"width\":0.5},\"showscale\":false},\"mode\":\"markers\",\"name\":\"Feasible Trial\",\"showlegend\":false,\"x\":[0.46645308267655056,0.22460335049526065,0.4273499248032593,0.1634529325079213],\"y\":[0.7171666666666666,0.0,0.0,0.0],\"type\":\"scatter\",\"xaxis\":\"x3\",\"yaxis\":\"y3\"},{\"marker\":{\"color\":[0,1,2,3,4,5,6,7,8,9,10,11,12,13,14,15,16,17,18,19],\"colorbar\":{\"title\":{\"text\":\"Trial\"},\"x\":1.0,\"xpad\":40},\"colorscale\":[[0.0,\"rgb(247,251,255)\"],[0.125,\"rgb(222,235,247)\"],[0.25,\"rgb(198,219,239)\"],[0.375,\"rgb(158,202,225)\"],[0.5,\"rgb(107,174,214)\"],[0.625,\"rgb(66,146,198)\"],[0.75,\"rgb(33,113,181)\"],[0.875,\"rgb(8,81,156)\"],[1.0,\"rgb(8,48,107)\"]],\"line\":{\"color\":\"Grey\",\"width\":0.5},\"showscale\":false},\"mode\":\"markers\",\"name\":\"Feasible Trial\",\"showlegend\":false,\"x\":[\"l2\",\"l2\",\"elasticnet\",\"elasticnet\",null,null,\"l1\",\"l1\",\"l2\",\"elasticnet\",\"l2\",\"l1\",\"l1\",\"elasticnet\",\"l1\",null,\"l1\",\"l2\",\"l2\",\"l2\"],\"y\":[0.7195833333333334,0.7170833333333334,0.7171666666666666,0.0,0.7168333333333333,0.0,0.0,0.0,0.71975,0.0,0.71675,0.0,0.7166666666666667,0.0,0.0,0.0,0.717,0.7165833333333333,0.7165833333333333,0.7168333333333333],\"type\":\"scatter\",\"xaxis\":\"x4\",\"yaxis\":\"y4\"},{\"marker\":{\"color\":[0,1,2,3,4,5,6,7,8,9,10,11,12,13,14,15,16,17,18,19],\"colorbar\":{\"title\":{\"text\":\"Trial\"},\"x\":1.0,\"xpad\":40},\"colorscale\":[[0.0,\"rgb(247,251,255)\"],[0.125,\"rgb(222,235,247)\"],[0.25,\"rgb(198,219,239)\"],[0.375,\"rgb(158,202,225)\"],[0.5,\"rgb(107,174,214)\"],[0.625,\"rgb(66,146,198)\"],[0.75,\"rgb(33,113,181)\"],[0.875,\"rgb(8,81,156)\"],[1.0,\"rgb(8,48,107)\"]],\"line\":{\"color\":\"Grey\",\"width\":0.5},\"showscale\":false},\"mode\":\"markers\",\"name\":\"Feasible Trial\",\"showlegend\":false,\"x\":[\"lbfgs\",\"lbfgs\",\"saga\",\"liblinear\",\"lbfgs\",\"liblinear\",\"lbfgs\",\"lbfgs\",\"liblinear\",\"lbfgs\",\"lbfgs\",\"lbfgs\",\"saga\",\"liblinear\",\"lbfgs\",\"liblinear\",\"saga\",\"saga\",\"saga\",\"saga\"],\"y\":[0.7195833333333334,0.7170833333333334,0.7171666666666666,0.0,0.7168333333333333,0.0,0.0,0.0,0.71975,0.0,0.71675,0.0,0.7166666666666667,0.0,0.0,0.0,0.717,0.7165833333333333,0.7165833333333333,0.7168333333333333],\"type\":\"scatter\",\"xaxis\":\"x5\",\"yaxis\":\"y5\"}],                        {\"template\":{\"data\":{\"histogram2dcontour\":[{\"type\":\"histogram2dcontour\",\"colorbar\":{\"outlinewidth\":0,\"ticks\":\"\"},\"colorscale\":[[0.0,\"#0d0887\"],[0.1111111111111111,\"#46039f\"],[0.2222222222222222,\"#7201a8\"],[0.3333333333333333,\"#9c179e\"],[0.4444444444444444,\"#bd3786\"],[0.5555555555555556,\"#d8576b\"],[0.6666666666666666,\"#ed7953\"],[0.7777777777777778,\"#fb9f3a\"],[0.8888888888888888,\"#fdca26\"],[1.0,\"#f0f921\"]]}],\"choropleth\":[{\"type\":\"choropleth\",\"colorbar\":{\"outlinewidth\":0,\"ticks\":\"\"}}],\"histogram2d\":[{\"type\":\"histogram2d\",\"colorbar\":{\"outlinewidth\":0,\"ticks\":\"\"},\"colorscale\":[[0.0,\"#0d0887\"],[0.1111111111111111,\"#46039f\"],[0.2222222222222222,\"#7201a8\"],[0.3333333333333333,\"#9c179e\"],[0.4444444444444444,\"#bd3786\"],[0.5555555555555556,\"#d8576b\"],[0.6666666666666666,\"#ed7953\"],[0.7777777777777778,\"#fb9f3a\"],[0.8888888888888888,\"#fdca26\"],[1.0,\"#f0f921\"]]}],\"heatmap\":[{\"type\":\"heatmap\",\"colorbar\":{\"outlinewidth\":0,\"ticks\":\"\"},\"colorscale\":[[0.0,\"#0d0887\"],[0.1111111111111111,\"#46039f\"],[0.2222222222222222,\"#7201a8\"],[0.3333333333333333,\"#9c179e\"],[0.4444444444444444,\"#bd3786\"],[0.5555555555555556,\"#d8576b\"],[0.6666666666666666,\"#ed7953\"],[0.7777777777777778,\"#fb9f3a\"],[0.8888888888888888,\"#fdca26\"],[1.0,\"#f0f921\"]]}],\"heatmapgl\":[{\"type\":\"heatmapgl\",\"colorbar\":{\"outlinewidth\":0,\"ticks\":\"\"},\"colorscale\":[[0.0,\"#0d0887\"],[0.1111111111111111,\"#46039f\"],[0.2222222222222222,\"#7201a8\"],[0.3333333333333333,\"#9c179e\"],[0.4444444444444444,\"#bd3786\"],[0.5555555555555556,\"#d8576b\"],[0.6666666666666666,\"#ed7953\"],[0.7777777777777778,\"#fb9f3a\"],[0.8888888888888888,\"#fdca26\"],[1.0,\"#f0f921\"]]}],\"contourcarpet\":[{\"type\":\"contourcarpet\",\"colorbar\":{\"outlinewidth\":0,\"ticks\":\"\"}}],\"contour\":[{\"type\":\"contour\",\"colorbar\":{\"outlinewidth\":0,\"ticks\":\"\"},\"colorscale\":[[0.0,\"#0d0887\"],[0.1111111111111111,\"#46039f\"],[0.2222222222222222,\"#7201a8\"],[0.3333333333333333,\"#9c179e\"],[0.4444444444444444,\"#bd3786\"],[0.5555555555555556,\"#d8576b\"],[0.6666666666666666,\"#ed7953\"],[0.7777777777777778,\"#fb9f3a\"],[0.8888888888888888,\"#fdca26\"],[1.0,\"#f0f921\"]]}],\"surface\":[{\"type\":\"surface\",\"colorbar\":{\"outlinewidth\":0,\"ticks\":\"\"},\"colorscale\":[[0.0,\"#0d0887\"],[0.1111111111111111,\"#46039f\"],[0.2222222222222222,\"#7201a8\"],[0.3333333333333333,\"#9c179e\"],[0.4444444444444444,\"#bd3786\"],[0.5555555555555556,\"#d8576b\"],[0.6666666666666666,\"#ed7953\"],[0.7777777777777778,\"#fb9f3a\"],[0.8888888888888888,\"#fdca26\"],[1.0,\"#f0f921\"]]}],\"mesh3d\":[{\"type\":\"mesh3d\",\"colorbar\":{\"outlinewidth\":0,\"ticks\":\"\"}}],\"scatter\":[{\"fillpattern\":{\"fillmode\":\"overlay\",\"size\":10,\"solidity\":0.2},\"type\":\"scatter\"}],\"parcoords\":[{\"type\":\"parcoords\",\"line\":{\"colorbar\":{\"outlinewidth\":0,\"ticks\":\"\"}}}],\"scatterpolargl\":[{\"type\":\"scatterpolargl\",\"marker\":{\"colorbar\":{\"outlinewidth\":0,\"ticks\":\"\"}}}],\"bar\":[{\"error_x\":{\"color\":\"#2a3f5f\"},\"error_y\":{\"color\":\"#2a3f5f\"},\"marker\":{\"line\":{\"color\":\"#E5ECF6\",\"width\":0.5},\"pattern\":{\"fillmode\":\"overlay\",\"size\":10,\"solidity\":0.2}},\"type\":\"bar\"}],\"scattergeo\":[{\"type\":\"scattergeo\",\"marker\":{\"colorbar\":{\"outlinewidth\":0,\"ticks\":\"\"}}}],\"scatterpolar\":[{\"type\":\"scatterpolar\",\"marker\":{\"colorbar\":{\"outlinewidth\":0,\"ticks\":\"\"}}}],\"histogram\":[{\"marker\":{\"pattern\":{\"fillmode\":\"overlay\",\"size\":10,\"solidity\":0.2}},\"type\":\"histogram\"}],\"scattergl\":[{\"type\":\"scattergl\",\"marker\":{\"colorbar\":{\"outlinewidth\":0,\"ticks\":\"\"}}}],\"scatter3d\":[{\"type\":\"scatter3d\",\"line\":{\"colorbar\":{\"outlinewidth\":0,\"ticks\":\"\"}},\"marker\":{\"colorbar\":{\"outlinewidth\":0,\"ticks\":\"\"}}}],\"scattermapbox\":[{\"type\":\"scattermapbox\",\"marker\":{\"colorbar\":{\"outlinewidth\":0,\"ticks\":\"\"}}}],\"scatterternary\":[{\"type\":\"scatterternary\",\"marker\":{\"colorbar\":{\"outlinewidth\":0,\"ticks\":\"\"}}}],\"scattercarpet\":[{\"type\":\"scattercarpet\",\"marker\":{\"colorbar\":{\"outlinewidth\":0,\"ticks\":\"\"}}}],\"carpet\":[{\"aaxis\":{\"endlinecolor\":\"#2a3f5f\",\"gridcolor\":\"white\",\"linecolor\":\"white\",\"minorgridcolor\":\"white\",\"startlinecolor\":\"#2a3f5f\"},\"baxis\":{\"endlinecolor\":\"#2a3f5f\",\"gridcolor\":\"white\",\"linecolor\":\"white\",\"minorgridcolor\":\"white\",\"startlinecolor\":\"#2a3f5f\"},\"type\":\"carpet\"}],\"table\":[{\"cells\":{\"fill\":{\"color\":\"#EBF0F8\"},\"line\":{\"color\":\"white\"}},\"header\":{\"fill\":{\"color\":\"#C8D4E3\"},\"line\":{\"color\":\"white\"}},\"type\":\"table\"}],\"barpolar\":[{\"marker\":{\"line\":{\"color\":\"#E5ECF6\",\"width\":0.5},\"pattern\":{\"fillmode\":\"overlay\",\"size\":10,\"solidity\":0.2}},\"type\":\"barpolar\"}],\"pie\":[{\"automargin\":true,\"type\":\"pie\"}]},\"layout\":{\"autotypenumbers\":\"strict\",\"colorway\":[\"#636efa\",\"#EF553B\",\"#00cc96\",\"#ab63fa\",\"#FFA15A\",\"#19d3f3\",\"#FF6692\",\"#B6E880\",\"#FF97FF\",\"#FECB52\"],\"font\":{\"color\":\"#2a3f5f\"},\"hovermode\":\"closest\",\"hoverlabel\":{\"align\":\"left\"},\"paper_bgcolor\":\"white\",\"plot_bgcolor\":\"#E5ECF6\",\"polar\":{\"bgcolor\":\"#E5ECF6\",\"angularaxis\":{\"gridcolor\":\"white\",\"linecolor\":\"white\",\"ticks\":\"\"},\"radialaxis\":{\"gridcolor\":\"white\",\"linecolor\":\"white\",\"ticks\":\"\"}},\"ternary\":{\"bgcolor\":\"#E5ECF6\",\"aaxis\":{\"gridcolor\":\"white\",\"linecolor\":\"white\",\"ticks\":\"\"},\"baxis\":{\"gridcolor\":\"white\",\"linecolor\":\"white\",\"ticks\":\"\"},\"caxis\":{\"gridcolor\":\"white\",\"linecolor\":\"white\",\"ticks\":\"\"}},\"coloraxis\":{\"colorbar\":{\"outlinewidth\":0,\"ticks\":\"\"}},\"colorscale\":{\"sequential\":[[0.0,\"#0d0887\"],[0.1111111111111111,\"#46039f\"],[0.2222222222222222,\"#7201a8\"],[0.3333333333333333,\"#9c179e\"],[0.4444444444444444,\"#bd3786\"],[0.5555555555555556,\"#d8576b\"],[0.6666666666666666,\"#ed7953\"],[0.7777777777777778,\"#fb9f3a\"],[0.8888888888888888,\"#fdca26\"],[1.0,\"#f0f921\"]],\"sequentialminus\":[[0.0,\"#0d0887\"],[0.1111111111111111,\"#46039f\"],[0.2222222222222222,\"#7201a8\"],[0.3333333333333333,\"#9c179e\"],[0.4444444444444444,\"#bd3786\"],[0.5555555555555556,\"#d8576b\"],[0.6666666666666666,\"#ed7953\"],[0.7777777777777778,\"#fb9f3a\"],[0.8888888888888888,\"#fdca26\"],[1.0,\"#f0f921\"]],\"diverging\":[[0,\"#8e0152\"],[0.1,\"#c51b7d\"],[0.2,\"#de77ae\"],[0.3,\"#f1b6da\"],[0.4,\"#fde0ef\"],[0.5,\"#f7f7f7\"],[0.6,\"#e6f5d0\"],[0.7,\"#b8e186\"],[0.8,\"#7fbc41\"],[0.9,\"#4d9221\"],[1,\"#276419\"]]},\"xaxis\":{\"gridcolor\":\"white\",\"linecolor\":\"white\",\"ticks\":\"\",\"title\":{\"standoff\":15},\"zerolinecolor\":\"white\",\"automargin\":true,\"zerolinewidth\":2},\"yaxis\":{\"gridcolor\":\"white\",\"linecolor\":\"white\",\"ticks\":\"\",\"title\":{\"standoff\":15},\"zerolinecolor\":\"white\",\"automargin\":true,\"zerolinewidth\":2},\"scene\":{\"xaxis\":{\"backgroundcolor\":\"#E5ECF6\",\"gridcolor\":\"white\",\"linecolor\":\"white\",\"showbackground\":true,\"ticks\":\"\",\"zerolinecolor\":\"white\",\"gridwidth\":2},\"yaxis\":{\"backgroundcolor\":\"#E5ECF6\",\"gridcolor\":\"white\",\"linecolor\":\"white\",\"showbackground\":true,\"ticks\":\"\",\"zerolinecolor\":\"white\",\"gridwidth\":2},\"zaxis\":{\"backgroundcolor\":\"#E5ECF6\",\"gridcolor\":\"white\",\"linecolor\":\"white\",\"showbackground\":true,\"ticks\":\"\",\"zerolinecolor\":\"white\",\"gridwidth\":2}},\"shapedefaults\":{\"line\":{\"color\":\"#2a3f5f\"}},\"annotationdefaults\":{\"arrowcolor\":\"#2a3f5f\",\"arrowhead\":0,\"arrowwidth\":1},\"geo\":{\"bgcolor\":\"white\",\"landcolor\":\"#E5ECF6\",\"subunitcolor\":\"white\",\"showland\":true,\"showlakes\":true,\"lakecolor\":\"white\"},\"title\":{\"x\":0.05},\"mapbox\":{\"style\":\"light\"}}},\"xaxis\":{\"anchor\":\"y\",\"domain\":[0.0,0.16799999999999998],\"title\":{\"text\":\"C\"},\"type\":\"log\"},\"yaxis\":{\"anchor\":\"x\",\"domain\":[0.0,1.0],\"title\":{\"text\":\"Objective Value\"}},\"xaxis2\":{\"anchor\":\"y2\",\"domain\":[0.208,0.376],\"title\":{\"text\":\"class_weight\"},\"type\":\"category\",\"categoryorder\":\"array\",\"categoryarray\":[null,\"balanced\"]},\"yaxis2\":{\"anchor\":\"x2\",\"domain\":[0.0,1.0],\"matches\":\"y\",\"showticklabels\":false},\"xaxis3\":{\"anchor\":\"y3\",\"domain\":[0.416,0.584],\"title\":{\"text\":\"l1_ratio\"}},\"yaxis3\":{\"anchor\":\"x3\",\"domain\":[0.0,1.0],\"matches\":\"y\",\"showticklabels\":false},\"xaxis4\":{\"anchor\":\"y4\",\"domain\":[0.624,0.792],\"title\":{\"text\":\"penalty\"},\"type\":\"category\",\"categoryorder\":\"array\",\"categoryarray\":[\"l1\",\"l2\",\"elasticnet\",null]},\"yaxis4\":{\"anchor\":\"x4\",\"domain\":[0.0,1.0],\"matches\":\"y\",\"showticklabels\":false},\"xaxis5\":{\"anchor\":\"y5\",\"domain\":[0.832,1.0],\"title\":{\"text\":\"solver\"},\"type\":\"category\",\"categoryorder\":\"array\",\"categoryarray\":[\"liblinear\",\"lbfgs\",\"saga\"]},\"yaxis5\":{\"anchor\":\"x5\",\"domain\":[0.0,1.0],\"matches\":\"y\",\"showticklabels\":false},\"title\":{\"text\":\"Slice Plot\"},\"width\":1500},                        {\"responsive\": true}                    ).then(function(){\n",
              "                            \n",
              "var gd = document.getElementById('4c641f97-ba8a-4b7c-9441-e8cf43c750e5');\n",
              "var x = new MutationObserver(function (mutations, observer) {{\n",
              "        var display = window.getComputedStyle(gd).display;\n",
              "        if (!display || display === 'none') {{\n",
              "            console.log([gd, 'removed!']);\n",
              "            Plotly.purge(gd);\n",
              "            observer.disconnect();\n",
              "        }}\n",
              "}});\n",
              "\n",
              "// Listen for the removal of the full notebook cells\n",
              "var notebookContainer = gd.closest('#notebook-container');\n",
              "if (notebookContainer) {{\n",
              "    x.observe(notebookContainer, {childList: true});\n",
              "}}\n",
              "\n",
              "// Listen for the clearing of the current output cell\n",
              "var outputEl = gd.closest('.output');\n",
              "if (outputEl) {{\n",
              "    x.observe(outputEl, {childList: true});\n",
              "}}\n",
              "\n",
              "                        })                };                            </script>        </div>\n",
              "</body>\n",
              "</html>"
            ]
          },
          "metadata": {}
        }
      ]
    },
    {
      "cell_type": "code",
      "source": [
        "mlflow.set_experiment(\"word2vec-logistic-regression-with-optimized-hyperparameters\")\n",
        "with mlflow.start_run():\n",
        "  from sklearn.metrics import classification_report\n",
        "\n",
        "  lr_model = LogisticRegression(**study.best_params, max_iter=1000)\n",
        "  lr_model.fit(X_train_w2v, y_train_w2v)\n",
        "\n",
        "  signature = infer_signature(X_train_w2v, y_train_w2v)\n",
        "\n",
        "  # prédiction\n",
        "  y_pred = lr_model.predict(X_valid_w2v)\n",
        "\n",
        "  accuracy = accuracy_score(y_valid_w2v, y_pred)\n",
        "  loss = mean_squared_error(y_valid_w2v, y_pred)\n",
        "  precision = precision_score(y_valid_w2v, y_pred)\n",
        "  recall = recall_score(y_valid_w2v, y_pred)\n",
        "  f1 = f1_score(y_valid_w2v, y_pred)\n",
        "  auc = roc_auc_score(y_valid_w2v, y_pred)\n",
        "\n",
        "  mlflow.log_params(study.best_params)\n",
        "  mlflow.log_metric(\"accuracy\", accuracy)\n",
        "  mlflow.log_metric(\"loss\", loss)\n",
        "  mlflow.log_metric(\"precision\", precision)\n",
        "  mlflow.log_metric(\"recall\", recall)\n",
        "  mlflow.log_metric(\"f1\", f1)\n",
        "  mlflow.log_metric(\"auc\", auc)\n",
        "  mlflow.sklearn.log_model(\n",
        "      sk_model=lr_model,\n",
        "      artifact_path=\"model-artifact\",\n",
        "      signature=signature,\n",
        "      input_example=X_train_w2v[:10],\n",
        "      registered_model_name=\"w2vec_lr_opt_hyp\"\n",
        "  )\n",
        "\n",
        "\n",
        "\n",
        "  # évaluation\n",
        "  print(\"Accuracy:\", accuracy)\n",
        "  print(\"MSE:\", loss)\n",
        "  print(classification_report(y_valid_w2v, y_pred))"
      ],
      "metadata": {
        "colab": {
          "base_uri": "https://localhost:8080/"
        },
        "id": "VCBOEQYi_sXP",
        "outputId": "9a96c061-53a9-43ed-a4ee-17738f222521"
      },
      "execution_count": null,
      "outputs": [
        {
          "output_type": "stream",
          "name": "stderr",
          "text": [
            "Registered model 'w2vec_lr_opt_hyp' already exists. Creating a new version of this model...\n",
            "2025/06/05 19:44:55 INFO mlflow.store.model_registry.abstract_store: Waiting up to 300 seconds for model version to finish creation. Model name: w2vec_lr_opt_hyp, version 2\n",
            "Created version '2' of model 'w2vec_lr_opt_hyp'.\n"
          ]
        },
        {
          "output_type": "stream",
          "name": "stdout",
          "text": [
            "Accuracy: 0.72075\n",
            "MSE: 0.27925\n",
            "              precision    recall  f1-score   support\n",
            "\n",
            "           0       0.72      0.72      0.72      2000\n",
            "           1       0.72      0.72      0.72      2000\n",
            "\n",
            "    accuracy                           0.72      4000\n",
            "   macro avg       0.72      0.72      0.72      4000\n",
            "weighted avg       0.72      0.72      0.72      4000\n",
            "\n",
            "🏃 View run gaudy-sheep-668 at: https://mlflow.amadousy.dev/#/experiments/23/runs/1e3e0974994b40e5919faffb112fa450\n",
            "🧪 View experiment at: https://mlflow.amadousy.dev/#/experiments/23\n"
          ]
        }
      ]
    },
    {
      "cell_type": "markdown",
      "source": [
        "> Validation avec Test set"
      ],
      "metadata": {
        "id": "eSvNHPeHtlTP"
      }
    },
    {
      "cell_type": "code",
      "source": [
        "y_pred = lr_model.predict(X_test_w2v)\n",
        "print(\"Accuracy:\", accuracy_score(y_test_w2v, y_pred))\n",
        "print(classification_report(y_test_w2v, y_pred))"
      ],
      "metadata": {
        "id": "DYeqcw-2twPM",
        "outputId": "57c3ed1b-e07d-4f68-abb1-4eb9d59575d1",
        "colab": {
          "base_uri": "https://localhost:8080/"
        }
      },
      "execution_count": null,
      "outputs": [
        {
          "output_type": "stream",
          "name": "stdout",
          "text": [
            "Accuracy: 0.7295\n",
            "              precision    recall  f1-score   support\n",
            "\n",
            "           0       0.73      0.72      0.73      2000\n",
            "           1       0.73      0.74      0.73      2000\n",
            "\n",
            "    accuracy                           0.73      4000\n",
            "   macro avg       0.73      0.73      0.73      4000\n",
            "weighted avg       0.73      0.73      0.73      4000\n",
            "\n"
          ]
        }
      ]
    },
    {
      "cell_type": "code",
      "source": [
        "from sklearn.metrics import ConfusionMatrixDisplay\n",
        "ConfusionMatrixDisplay.from_estimator(lr_model, X_test_w2v, y_test_w2v)\n",
        "plt.show()"
      ],
      "metadata": {
        "id": "_W9p6nIGt0NF",
        "outputId": "7c481885-23b4-4d64-c17a-53a797c43d70",
        "colab": {
          "base_uri": "https://localhost:8080/",
          "height": 449
        }
      },
      "execution_count": null,
      "outputs": [
        {
          "output_type": "display_data",
          "data": {
            "text/plain": [
              "<Figure size 640x480 with 2 Axes>"
            ],
            "image/png": "[encoded data removed]"
          },
          "metadata": {}
        }
      ]
    },
    {
      "cell_type": "markdown",
      "source": [
        "# Approche 2: Modèle sur mesure avancé (Reseau de Neurone)"
      ],
      "metadata": {
        "id": "xFkplq7MZ90y"
      }
    },
    {
      "cell_type": "code",
      "source": [
        "tokenized_tweets = pd.read_csv(os.path.join(path, \"tokenized_tweets.csv\"))"
      ],
      "metadata": {
        "id": "cPIC9q8TDMKh"
      },
      "execution_count": null,
      "outputs": []
    },
    {
      "cell_type": "code",
      "source": [
        "tokenized_tweets.head()"
      ],
      "metadata": {
        "colab": {
          "base_uri": "https://localhost:8080/",
          "height": 206
        },
        "id": "1ySSoTrODUH5",
        "outputId": "88b333e5-d8d8-4966-e209-39ccac272011"
      },
      "execution_count": null,
      "outputs": [
        {
          "output_type": "execute_result",
          "data": {
            "text/plain": [
              "                                    tokenized_tweets\n",
              "0  ['switchfoot', 'awww', 'bummer', 'shoulda', 'g...\n",
              "1  ['upset', 'update', 'facebook', 'texting', 'mi...\n",
              "2  ['kenichan', 'dived', 'many', 'time', 'ball', ...\n",
              "3  ['whole', 'body', 'feel', 'itchy', 'like', 'fi...\n",
              "4        ['nationwideclass', 'behave', 'mad', 'see']"
            ],
            "text/html": [
              "\n",
              "  <div id=\"df-2614a5cb-e136-4084-83b7-e290c710a283\" class=\"colab-df-container\">\n",
              "    <div>\n",
              "<style scoped>\n",
              "    .dataframe tbody tr th:only-of-type {\n",
              "        vertical-align: middle;\n",
              "    }\n",
              "\n",
              "    .dataframe tbody tr th {\n",
              "        vertical-align: top;\n",
              "    }\n",
              "\n",
              "    .dataframe thead th {\n",
              "        text-align: right;\n",
              "    }\n",
              "</style>\n",
              "<table border=\"1\" class=\"dataframe\">\n",
              "  <thead>\n",
              "    <tr style=\"text-align: right;\">\n",
              "      <th></th>\n",
              "      <th>tokenized_tweets</th>\n",
              "    </tr>\n",
              "  </thead>\n",
              "  <tbody>\n",
              "    <tr>\n",
              "      <th>0</th>\n",
              "      <td>['switchfoot', 'awww', 'bummer', 'shoulda', 'g...</td>\n",
              "    </tr>\n",
              "    <tr>\n",
              "      <th>1</th>\n",
              "      <td>['upset', 'update', 'facebook', 'texting', 'mi...</td>\n",
              "    </tr>\n",
              "    <tr>\n",
              "      <th>2</th>\n",
              "      <td>['kenichan', 'dived', 'many', 'time', 'ball', ...</td>\n",
              "    </tr>\n",
              "    <tr>\n",
              "      <th>3</th>\n",
              "      <td>['whole', 'body', 'feel', 'itchy', 'like', 'fi...</td>\n",
              "    </tr>\n",
              "    <tr>\n",
              "      <th>4</th>\n",
              "      <td>['nationwideclass', 'behave', 'mad', 'see']</td>\n",
              "    </tr>\n",
              "  </tbody>\n",
              "</table>\n",
              "</div>\n",
              "    <div class=\"colab-df-buttons\">\n",
              "\n",
              "  <div class=\"colab-df-container\">\n",
              "    <button class=\"colab-df-convert\" onclick=\"convertToInteractive('df-2614a5cb-e136-4084-83b7-e290c710a283')\"\n",
              "            title=\"Convert this dataframe to an interactive table.\"\n",
              "            style=\"display:none;\">\n",
              "\n",
              "  <svg xmlns=\"http://www.w3.org/2000/svg\" height=\"24px\" viewBox=\"0 -960 960 960\">\n",
              "    <path d=\"M120-120v-720h720v720H120Zm60-500h600v-160H180v160Zm220 220h160v-160H400v160Zm0 220h160v-160H400v160ZM180-400h160v-160H180v160Zm440 0h160v-160H620v160ZM180-180h160v-160H180v160Zm440 0h160v-160H620v160Z\"/>\n",
              "  </svg>\n",
              "    </button>\n",
              "\n",
              "  <style>\n",
              "    .colab-df-container {\n",
              "      display:flex;\n",
              "      gap: 12px;\n",
              "    }\n",
              "\n",
              "    .colab-df-convert {\n",
              "      background-color: #E8F0FE;\n",
              "      border: none;\n",
              "      border-radius: 50%;\n",
              "      cursor: pointer;\n",
              "      display: none;\n",
              "      fill: #1967D2;\n",
              "      height: 32px;\n",
              "      padding: 0 0 0 0;\n",
              "      width: 32px;\n",
              "    }\n",
              "\n",
              "    .colab-df-convert:hover {\n",
              "      background-color: #E2EBFA;\n",
              "      box-shadow: 0px 1px 2px rgba(60, 64, 67, 0.3), 0px 1px 3px 1px rgba(60, 64, 67, 0.15);\n",
              "      fill: #174EA6;\n",
              "    }\n",
              "\n",
              "    .colab-df-buttons div {\n",
              "      margin-bottom: 4px;\n",
              "    }\n",
              "\n",
              "    [theme=dark] .colab-df-convert {\n",
              "      background-color: #3B4455;\n",
              "      fill: #D2E3FC;\n",
              "    }\n",
              "\n",
              "    [theme=dark] .colab-df-convert:hover {\n",
              "      background-color: #434B5C;\n",
              "      box-shadow: 0px 1px 3px 1px rgba(0, 0, 0, 0.15);\n",
              "      filter: drop-shadow(0px 1px 2px rgba(0, 0, 0, 0.3));\n",
              "      fill: #FFFFFF;\n",
              "    }\n",
              "  </style>\n",
              "\n",
              "    <script>\n",
              "      const buttonEl =\n",
              "        document.querySelector('#df-2614a5cb-e136-4084-83b7-e290c710a283 button.colab-df-convert');\n",
              "      buttonEl.style.display =\n",
              "        google.colab.kernel.accessAllowed ? 'block' : 'none';\n",
              "\n",
              "      async function convertToInteractive(key) {\n",
              "        const element = document.querySelector('#df-2614a5cb-e136-4084-83b7-e290c710a283');\n",
              "        const dataTable =\n",
              "          await google.colab.kernel.invokeFunction('convertToInteractive',\n",
              "                                                    [key], {});\n",
              "        if (!dataTable) return;\n",
              "\n",
              "        const docLinkHtml = 'Like what you see? Visit the ' +\n",
              "          '<a target=\"_blank\" href=https://colab.research.google.com/notebooks/data_table.ipynb>data table notebook</a>'\n",
              "          + ' to learn more about interactive tables.';\n",
              "        element.innerHTML = '';\n",
              "        dataTable['output_type'] = 'display_data';\n",
              "        await google.colab.output.renderOutput(dataTable, element);\n",
              "        const docLink = document.createElement('div');\n",
              "        docLink.innerHTML = docLinkHtml;\n",
              "        element.appendChild(docLink);\n",
              "      }\n",
              "    </script>\n",
              "  </div>\n",
              "\n",
              "\n",
              "    <div id=\"df-29f7479a-a0b6-4158-8aae-69acb16382e4\">\n",
              "      <button class=\"colab-df-quickchart\" onclick=\"quickchart('df-29f7479a-a0b6-4158-8aae-69acb16382e4')\"\n",
              "                title=\"Suggest charts\"\n",
              "                style=\"display:none;\">\n",
              "\n",
              "<svg xmlns=\"http://www.w3.org/2000/svg\" height=\"24px\"viewBox=\"0 0 24 24\"\n",
              "     width=\"24px\">\n",
              "    <g>\n",
              "        <path d=\"M19 3H5c-1.1 0-2 .9-2 2v14c0 1.1.9 2 2 2h14c1.1 0 2-.9 2-2V5c0-1.1-.9-2-2-2zM9 17H7v-7h2v7zm4 0h-2V7h2v10zm4 0h-2v-4h2v4z\"/>\n",
              "    </g>\n",
              "</svg>\n",
              "      </button>\n",
              "\n",
              "<style>\n",
              "  .colab-df-quickchart {\n",
              "      --bg-color: #E8F0FE;\n",
              "      --fill-color: #1967D2;\n",
              "      --hover-bg-color: #E2EBFA;\n",
              "      --hover-fill-color: #174EA6;\n",
              "      --disabled-fill-color: #AAA;\n",
              "      --disabled-bg-color: #DDD;\n",
              "  }\n",
              "\n",
              "  [theme=dark] .colab-df-quickchart {\n",
              "      --bg-color: #3B4455;\n",
              "      --fill-color: #D2E3FC;\n",
              "      --hover-bg-color: #434B5C;\n",
              "      --hover-fill-color: #FFFFFF;\n",
              "      --disabled-bg-color: #3B4455;\n",
              "      --disabled-fill-color: #666;\n",
              "  }\n",
              "\n",
              "  .colab-df-quickchart {\n",
              "    background-color: var(--bg-color);\n",
              "    border: none;\n",
              "    border-radius: 50%;\n",
              "    cursor: pointer;\n",
              "    display: none;\n",
              "    fill: var(--fill-color);\n",
              "    height: 32px;\n",
              "    padding: 0;\n",
              "    width: 32px;\n",
              "  }\n",
              "\n",
              "  .colab-df-quickchart:hover {\n",
              "    background-color: var(--hover-bg-color);\n",
              "    box-shadow: 0 1px 2px rgba(60, 64, 67, 0.3), 0 1px 3px 1px rgba(60, 64, 67, 0.15);\n",
              "    fill: var(--button-hover-fill-color);\n",
              "  }\n",
              "\n",
              "  .colab-df-quickchart-complete:disabled,\n",
              "  .colab-df-quickchart-complete:disabled:hover {\n",
              "    background-color: var(--disabled-bg-color);\n",
              "    fill: var(--disabled-fill-color);\n",
              "    box-shadow: none;\n",
              "  }\n",
              "\n",
              "  .colab-df-spinner {\n",
              "    border: 2px solid var(--fill-color);\n",
              "    border-color: transparent;\n",
              "    border-bottom-color: var(--fill-color);\n",
              "    animation:\n",
              "      spin 1s steps(1) infinite;\n",
              "  }\n",
              "\n",
              "  @keyframes spin {\n",
              "    0% {\n",
              "      border-color: transparent;\n",
              "      border-bottom-color: var(--fill-color);\n",
              "      border-left-color: var(--fill-color);\n",
              "    }\n",
              "    20% {\n",
              "      border-color: transparent;\n",
              "      border-left-color: var(--fill-color);\n",
              "      border-top-color: var(--fill-color);\n",
              "    }\n",
              "    30% {\n",
              "      border-color: transparent;\n",
              "      border-left-color: var(--fill-color);\n",
              "      border-top-color: var(--fill-color);\n",
              "      border-right-color: var(--fill-color);\n",
              "    }\n",
              "    40% {\n",
              "      border-color: transparent;\n",
              "      border-right-color: var(--fill-color);\n",
              "      border-top-color: var(--fill-color);\n",
              "    }\n",
              "    60% {\n",
              "      border-color: transparent;\n",
              "      border-right-color: var(--fill-color);\n",
              "    }\n",
              "    80% {\n",
              "      border-color: transparent;\n",
              "      border-right-color: var(--fill-color);\n",
              "      border-bottom-color: var(--fill-color);\n",
              "    }\n",
              "    90% {\n",
              "      border-color: transparent;\n",
              "      border-bottom-color: var(--fill-color);\n",
              "    }\n",
              "  }\n",
              "</style>\n",
              "\n",
              "      <script>\n",
              "        async function quickchart(key) {\n",
              "          const quickchartButtonEl =\n",
              "            document.querySelector('#' + key + ' button');\n",
              "          quickchartButtonEl.disabled = true;  // To prevent multiple clicks.\n",
              "          quickchartButtonEl.classList.add('colab-df-spinner');\n",
              "          try {\n",
              "            const charts = await google.colab.kernel.invokeFunction(\n",
              "                'suggestCharts', [key], {});\n",
              "          } catch (error) {\n",
              "            console.error('Error during call to suggestCharts:', error);\n",
              "          }\n",
              "          quickchartButtonEl.classList.remove('colab-df-spinner');\n",
              "          quickchartButtonEl.classList.add('colab-df-quickchart-complete');\n",
              "        }\n",
              "        (() => {\n",
              "          let quickchartButtonEl =\n",
              "            document.querySelector('#df-29f7479a-a0b6-4158-8aae-69acb16382e4 button');\n",
              "          quickchartButtonEl.style.display =\n",
              "            google.colab.kernel.accessAllowed ? 'block' : 'none';\n",
              "        })();\n",
              "      </script>\n",
              "    </div>\n",
              "\n",
              "    </div>\n",
              "  </div>\n"
            ],
            "application/vnd.google.colaboratory.intrinsic+json": {
              "type": "dataframe",
              "variable_name": "tokenized_tweets"
            }
          },
          "metadata": {},
          "execution_count": 36
        }
      ]
    },
    {
      "cell_type": "code",
      "source": [
        "from tensorflow.keras.models import Sequential\n",
        "from tensorflow.keras.layers import Embedding, Bidirectional, LSTM, Dense, Dropout, Input\n",
        "\n",
        "def build_model(weights=None, input_shape=(16, 300), dropout_rate=0.5, dense_units=32, lstm_units=32):\n",
        "  model = Sequential()\n",
        "\n",
        "  model.add(Input(shape=input_shape))\n",
        "  model.add(Bidirectional(LSTM(lstm_units, return_sequences=False)))\n",
        "  model.add(Dropout(dropout_rate))\n",
        "  model.add(Dense(dense_units, activation='relu'))\n",
        "  model.add(Dense(1, activation='sigmoid'))  # pour classification binaire\n",
        "\n",
        "  return model\n",
        "\n",
        "def sentence_to_sequence(tokens, model_embedding, max_len=30, dim=300):\n",
        "    vectors = [model_embedding.wv[word] if word in model_embedding.wv else np.zeros(dim) for word in tokens]\n",
        "    # Padding or trimming\n",
        "    vectors = vectors[:max_len] + [np.zeros(dim)] * (max_len - len(vectors))\n",
        "    return np.array(vectors)\n",
        "\n",
        "res = []"
      ],
      "metadata": {
        "id": "ALfZgzwTQ2IW"
      },
      "execution_count": null,
      "outputs": []
    },
    {
      "cell_type": "markdown",
      "source": [
        "## | Word2Vec"
      ],
      "metadata": {
        "id": "3uKHYumiSAv8"
      }
    },
    {
      "cell_type": "markdown",
      "source": [
        "\n",
        "\n",
        "> Chargement du modéle pretrainé de Word2vec\n",
        "\n"
      ],
      "metadata": {
        "id": "UjQgmEy13-9d"
      }
    },
    {
      "cell_type": "code",
      "source": [
        "%%time\n",
        "w2v_model = Word2Vec.load(os.path.join(path, \"word2vec_model.model\"))"
      ],
      "metadata": {
        "colab": {
          "base_uri": "https://localhost:8080/"
        },
        "id": "uj_2gNnz2Wo6",
        "outputId": "3fb010c7-c3cd-45c3-d081-5ccf544dd33e"
      },
      "execution_count": null,
      "outputs": [
        {
          "output_type": "stream",
          "name": "stdout",
          "text": [
            "CPU times: user 4.9 s, sys: 817 ms, total: 5.72 s\n",
            "Wall time: 24.5 s\n"
          ]
        }
      ]
    },
    {
      "cell_type": "code",
      "source": [
        "%%time\n",
        "train_token, val_token, test_token, y_train_w2v, y_valid_w2v, y_test_w2v = split_train_val_test(tokenized_tweets.tokenized_tweets, Y, sample_size=20000)"
      ],
      "metadata": {
        "colab": {
          "base_uri": "https://localhost:8080/"
        },
        "id": "x6_VCygJFgDP",
        "outputId": "0ea53d03-d725-4bf3-e6ec-926c7feb042b"
      },
      "execution_count": null,
      "outputs": [
        {
          "output_type": "stream",
          "name": "stdout",
          "text": [
            "CPU times: user 509 ms, sys: 37.9 ms, total: 547 ms\n",
            "Wall time: 545 ms\n"
          ]
        }
      ]
    },
    {
      "cell_type": "code",
      "source": [
        "max_len = max(map(len, tokenized_tweets))\n",
        "print(f\"Le tweet le plus long contient {max_len} tokens\")"
      ],
      "metadata": {
        "colab": {
          "base_uri": "https://localhost:8080/"
        },
        "id": "qmGwwcE_KDA-",
        "outputId": "104b86f2-6967-4511-b68c-72274bab9c96"
      },
      "execution_count": null,
      "outputs": [
        {
          "output_type": "stream",
          "name": "stdout",
          "text": [
            "Le tweet le plus long contient 16 tokens\n"
          ]
        }
      ]
    },
    {
      "cell_type": "markdown",
      "source": [
        "\n",
        "\n",
        "> Extracion des sequences\n",
        "\n"
      ],
      "metadata": {
        "id": "PIVMI6uZ4JBL"
      }
    },
    {
      "cell_type": "code",
      "source": [
        "%%time\n",
        "train_w2v_set =  np.array([sentence_to_sequence(sentence, w2v_model, max_len=max_len) for sentence in train_token])\n",
        "val_w2v_set =  np.array([sentence_to_sequence(sentence, w2v_model, max_len=max_len) for sentence in val_token])\n",
        "test_w2v_set =  np.array([sentence_to_sequence(sentence, w2v_model, max_len=max_len) for sentence in test_token])"
      ],
      "metadata": {
        "colab": {
          "base_uri": "https://localhost:8080/"
        },
        "id": "t_hEY_Na4ZIG",
        "outputId": "bf1afdff-0437-471c-c256-09ca7607ccee"
      },
      "execution_count": null,
      "outputs": [
        {
          "output_type": "stream",
          "name": "stdout",
          "text": [
            "CPU times: user 1.7 s, sys: 284 ms, total: 1.98 s\n",
            "Wall time: 1.98 s\n"
          ]
        }
      ]
    },
    {
      "cell_type": "code",
      "source": [
        "train_w2v_set.shape"
      ],
      "metadata": {
        "colab": {
          "base_uri": "https://localhost:8080/"
        },
        "id": "OKLZsKScKVSu",
        "outputId": "00ae7794-03ae-4901-bd97-3094faf54015"
      },
      "execution_count": null,
      "outputs": [
        {
          "output_type": "execute_result",
          "data": {
            "text/plain": [
              "(12000, 16, 300)"
            ]
          },
          "metadata": {},
          "execution_count": 42
        }
      ]
    },
    {
      "cell_type": "code",
      "source": [
        "%%time\n",
        "model = build_model()\n",
        "model.compile(loss='binary_crossentropy', optimizer='adam', metrics=['accuracy', 'auc', 'precision', 'recall'])\n",
        "model.summary()"
      ],
      "metadata": {
        "id": "lWxkJS4UTja9",
        "colab": {
          "base_uri": "https://localhost:8080/",
          "height": 303
        },
        "outputId": "214ace80-1c6b-4a8d-8471-b9a457b0257f"
      },
      "execution_count": null,
      "outputs": [
        {
          "output_type": "display_data",
          "data": {
            "text/plain": [
              "\u001b[1mModel: \"sequential\"\u001b[0m\n"
            ],
            "text/html": [
              "<pre style=\"white-space:pre;overflow-x:auto;line-height:normal;font-family:Menlo,'DejaVu Sans Mono',consolas,'Courier New',monospace\"><span style=\"font-weight: bold\">Model: \"sequential\"</span>\n",
              "</pre>\n"
            ]
          },
          "metadata": {}
        },
        {
          "output_type": "display_data",
          "data": {
            "text/plain": [
              "┏━━━━━━━━━━━━━━━━━━━━━━━━━━━━━━━━━┳━━━━━━━━━━━━━━━━━━━━━━━━┳━━━━━━━━━━━━━━━┓\n",
              "┃\u001b[1m \u001b[0m\u001b[1mLayer (type)                   \u001b[0m\u001b[1m \u001b[0m┃\u001b[1m \u001b[0m\u001b[1mOutput Shape          \u001b[0m\u001b[1m \u001b[0m┃\u001b[1m \u001b[0m\u001b[1m      Param #\u001b[0m\u001b[1m \u001b[0m┃\n",
              "┡━━━━━━━━━━━━━━━━━━━━━━━━━━━━━━━━━╇━━━━━━━━━━━━━━━━━━━━━━━━╇━━━━━━━━━━━━━━━┩\n",
              "│ bidirectional (\u001b[38;5;33mBidirectional\u001b[0m)   │ (\u001b[38;5;45mNone\u001b[0m, \u001b[38;5;34m64\u001b[0m)             │        \u001b[38;5;34m85,248\u001b[0m │\n",
              "├─────────────────────────────────┼────────────────────────┼───────────────┤\n",
              "│ dropout (\u001b[38;5;33mDropout\u001b[0m)               │ (\u001b[38;5;45mNone\u001b[0m, \u001b[38;5;34m64\u001b[0m)             │             \u001b[38;5;34m0\u001b[0m │\n",
              "├─────────────────────────────────┼────────────────────────┼───────────────┤\n",
              "│ dense (\u001b[38;5;33mDense\u001b[0m)                   │ (\u001b[38;5;45mNone\u001b[0m, \u001b[38;5;34m32\u001b[0m)             │         \u001b[38;5;34m2,080\u001b[0m │\n",
              "├─────────────────────────────────┼────────────────────────┼───────────────┤\n",
              "│ dense_1 (\u001b[38;5;33mDense\u001b[0m)                 │ (\u001b[38;5;45mNone\u001b[0m, \u001b[38;5;34m1\u001b[0m)              │            \u001b[38;5;34m33\u001b[0m │\n",
              "└─────────────────────────────────┴────────────────────────┴───────────────┘\n"
            ],
            "text/html": [
              "<pre style=\"white-space:pre;overflow-x:auto;line-height:normal;font-family:Menlo,'DejaVu Sans Mono',consolas,'Courier New',monospace\">┏━━━━━━━━━━━━━━━━━━━━━━━━━━━━━━━━━┳━━━━━━━━━━━━━━━━━━━━━━━━┳━━━━━━━━━━━━━━━┓\n",
              "┃<span style=\"font-weight: bold\"> Layer (type)                    </span>┃<span style=\"font-weight: bold\"> Output Shape           </span>┃<span style=\"font-weight: bold\">       Param # </span>┃\n",
              "┡━━━━━━━━━━━━━━━━━━━━━━━━━━━━━━━━━╇━━━━━━━━━━━━━━━━━━━━━━━━╇━━━━━━━━━━━━━━━┩\n",
              "│ bidirectional (<span style=\"color: #0087ff; text-decoration-color: #0087ff\">Bidirectional</span>)   │ (<span style=\"color: #00d7ff; text-decoration-color: #00d7ff\">None</span>, <span style=\"color: #00af00; text-decoration-color: #00af00\">64</span>)             │        <span style=\"color: #00af00; text-decoration-color: #00af00\">85,248</span> │\n",
              "├─────────────────────────────────┼────────────────────────┼───────────────┤\n",
              "│ dropout (<span style=\"color: #0087ff; text-decoration-color: #0087ff\">Dropout</span>)               │ (<span style=\"color: #00d7ff; text-decoration-color: #00d7ff\">None</span>, <span style=\"color: #00af00; text-decoration-color: #00af00\">64</span>)             │             <span style=\"color: #00af00; text-decoration-color: #00af00\">0</span> │\n",
              "├─────────────────────────────────┼────────────────────────┼───────────────┤\n",
              "│ dense (<span style=\"color: #0087ff; text-decoration-color: #0087ff\">Dense</span>)                   │ (<span style=\"color: #00d7ff; text-decoration-color: #00d7ff\">None</span>, <span style=\"color: #00af00; text-decoration-color: #00af00\">32</span>)             │         <span style=\"color: #00af00; text-decoration-color: #00af00\">2,080</span> │\n",
              "├─────────────────────────────────┼────────────────────────┼───────────────┤\n",
              "│ dense_1 (<span style=\"color: #0087ff; text-decoration-color: #0087ff\">Dense</span>)                 │ (<span style=\"color: #00d7ff; text-decoration-color: #00d7ff\">None</span>, <span style=\"color: #00af00; text-decoration-color: #00af00\">1</span>)              │            <span style=\"color: #00af00; text-decoration-color: #00af00\">33</span> │\n",
              "└─────────────────────────────────┴────────────────────────┴───────────────┘\n",
              "</pre>\n"
            ]
          },
          "metadata": {}
        },
        {
          "output_type": "display_data",
          "data": {
            "text/plain": [
              "\u001b[1m Total params: \u001b[0m\u001b[38;5;34m87,361\u001b[0m (341.25 KB)\n"
            ],
            "text/html": [
              "<pre style=\"white-space:pre;overflow-x:auto;line-height:normal;font-family:Menlo,'DejaVu Sans Mono',consolas,'Courier New',monospace\"><span style=\"font-weight: bold\"> Total params: </span><span style=\"color: #00af00; text-decoration-color: #00af00\">87,361</span> (341.25 KB)\n",
              "</pre>\n"
            ]
          },
          "metadata": {}
        },
        {
          "output_type": "display_data",
          "data": {
            "text/plain": [
              "\u001b[1m Trainable params: \u001b[0m\u001b[38;5;34m87,361\u001b[0m (341.25 KB)\n"
            ],
            "text/html": [
              "<pre style=\"white-space:pre;overflow-x:auto;line-height:normal;font-family:Menlo,'DejaVu Sans Mono',consolas,'Courier New',monospace\"><span style=\"font-weight: bold\"> Trainable params: </span><span style=\"color: #00af00; text-decoration-color: #00af00\">87,361</span> (341.25 KB)\n",
              "</pre>\n"
            ]
          },
          "metadata": {}
        },
        {
          "output_type": "display_data",
          "data": {
            "text/plain": [
              "\u001b[1m Non-trainable params: \u001b[0m\u001b[38;5;34m0\u001b[0m (0.00 B)\n"
            ],
            "text/html": [
              "<pre style=\"white-space:pre;overflow-x:auto;line-height:normal;font-family:Menlo,'DejaVu Sans Mono',consolas,'Courier New',monospace\"><span style=\"font-weight: bold\"> Non-trainable params: </span><span style=\"color: #00af00; text-decoration-color: #00af00\">0</span> (0.00 B)\n",
              "</pre>\n"
            ]
          },
          "metadata": {}
        },
        {
          "output_type": "stream",
          "name": "stdout",
          "text": [
            "CPU times: user 941 ms, sys: 108 ms, total: 1.05 s\n",
            "Wall time: 2.27 s\n"
          ]
        }
      ]
    },
    {
      "cell_type": "code",
      "source": [
        "%%time\n",
        "\n",
        "callbacks = [\n",
        "    tf.keras.callbacks.EarlyStopping(monitor='val_loss', patience=3, restore_best_weights=True)\n",
        "]\n",
        "\n",
        "fit_time = time.time()\n",
        "history = model.fit(\n",
        "    x=train_w2v_set,\n",
        "    y=y_train_w2v,\n",
        "    epochs=30,\n",
        "    batch_size=32,\n",
        "    validation_data=(val_w2v_set, y_valid_w2v),\n",
        "    callbacks=callbacks,\n",
        "\n",
        ")\n",
        "fit_time = time.time() - fit_time\n",
        "\n",
        "res.append({\n",
        "    \"Embeddings\": \"word2vec\",\n",
        "    \"val_score\": np.mean(history.history['val_accuracy']),\n",
        "    \"val_loss\": np.mean(history.history['val_loss']),\n",
        "    \"auc\": np.mean(history.history['val_auc']),\n",
        "    \"precision\": np.mean(history.history['val_precision']),\n",
        "    \"recall\": np.mean(history.history['val_recall']),\n",
        "    \"train_time (s)\": fit_time\n",
        "})"
      ],
      "metadata": {
        "colab": {
          "base_uri": "https://localhost:8080/"
        },
        "id": "eHH7IHgiNJUZ",
        "outputId": "67fb73fa-d0e9-4aab-e6f7-11f373e33ac5"
      },
      "execution_count": null,
      "outputs": [
        {
          "output_type": "stream",
          "name": "stdout",
          "text": [
            "Epoch 1/30\n",
            "\u001b[1m375/375\u001b[0m \u001b[32m━━━━━━━━━━━━━━━━━━━━\u001b[0m\u001b[37m\u001b[0m \u001b[1m9s\u001b[0m 9ms/step - accuracy: 0.5207 - auc: 0.5255 - loss: 0.6934 - precision: 0.5185 - recall: 0.5508 - val_accuracy: 0.5502 - val_auc: 0.5627 - val_loss: 0.6891 - val_precision: 0.5604 - val_recall: 0.4665\n",
            "Epoch 2/30\n",
            "\u001b[1m375/375\u001b[0m \u001b[32m━━━━━━━━━━━━━━━━━━━━\u001b[0m\u001b[37m\u001b[0m \u001b[1m3s\u001b[0m 8ms/step - accuracy: 0.5264 - auc: 0.5376 - loss: 0.6915 - precision: 0.5266 - recall: 0.5193 - val_accuracy: 0.5650 - val_auc: 0.5874 - val_loss: 0.6816 - val_precision: 0.5676 - val_recall: 0.5460\n",
            "Epoch 3/30\n",
            "\u001b[1m375/375\u001b[0m \u001b[32m━━━━━━━━━━━━━━━━━━━━\u001b[0m\u001b[37m\u001b[0m \u001b[1m3s\u001b[0m 7ms/step - accuracy: 0.5601 - auc: 0.5783 - loss: 0.6843 - precision: 0.5552 - recall: 0.5713 - val_accuracy: 0.5577 - val_auc: 0.5948 - val_loss: 0.6805 - val_precision: 0.5713 - val_recall: 0.4625\n",
            "Epoch 4/30\n",
            "\u001b[1m375/375\u001b[0m \u001b[32m━━━━━━━━━━━━━━━━━━━━\u001b[0m\u001b[37m\u001b[0m \u001b[1m3s\u001b[0m 7ms/step - accuracy: 0.5756 - auc: 0.6025 - loss: 0.6769 - precision: 0.5731 - recall: 0.6066 - val_accuracy: 0.5698 - val_auc: 0.5999 - val_loss: 0.6773 - val_precision: 0.5562 - val_recall: 0.6905\n",
            "Epoch 5/30\n",
            "\u001b[1m375/375\u001b[0m \u001b[32m━━━━━━━━━━━━━━━━━━━━\u001b[0m\u001b[37m\u001b[0m \u001b[1m3s\u001b[0m 7ms/step - accuracy: 0.5882 - auc: 0.6136 - loss: 0.6711 - precision: 0.5759 - recall: 0.6735 - val_accuracy: 0.5667 - val_auc: 0.6045 - val_loss: 0.6808 - val_precision: 0.5819 - val_recall: 0.4745\n",
            "Epoch 6/30\n",
            "\u001b[1m375/375\u001b[0m \u001b[32m━━━━━━━━━━━━━━━━━━━━\u001b[0m\u001b[37m\u001b[0m \u001b[1m3s\u001b[0m 8ms/step - accuracy: 0.6047 - auc: 0.6306 - loss: 0.6645 - precision: 0.5925 - recall: 0.6487 - val_accuracy: 0.5807 - val_auc: 0.6083 - val_loss: 0.6738 - val_precision: 0.5667 - val_recall: 0.6860\n",
            "Epoch 7/30\n",
            "\u001b[1m375/375\u001b[0m \u001b[32m━━━━━━━━━━━━━━━━━━━━\u001b[0m\u001b[37m\u001b[0m \u001b[1m3s\u001b[0m 8ms/step - accuracy: 0.5970 - auc: 0.6296 - loss: 0.6633 - precision: 0.5755 - recall: 0.6911 - val_accuracy: 0.5745 - val_auc: 0.6097 - val_loss: 0.6775 - val_precision: 0.5662 - val_recall: 0.6375\n",
            "Epoch 8/30\n",
            "\u001b[1m375/375\u001b[0m \u001b[32m━━━━━━━━━━━━━━━━━━━━\u001b[0m\u001b[37m\u001b[0m \u001b[1m3s\u001b[0m 7ms/step - accuracy: 0.6074 - auc: 0.6363 - loss: 0.6588 - precision: 0.5860 - recall: 0.7379 - val_accuracy: 0.5705 - val_auc: 0.6129 - val_loss: 0.6944 - val_precision: 0.5913 - val_recall: 0.4565\n",
            "Epoch 9/30\n",
            "\u001b[1m375/375\u001b[0m \u001b[32m━━━━━━━━━━━━━━━━━━━━\u001b[0m\u001b[37m\u001b[0m \u001b[1m3s\u001b[0m 7ms/step - accuracy: 0.6160 - auc: 0.6538 - loss: 0.6489 - precision: 0.5943 - recall: 0.7159 - val_accuracy: 0.5820 - val_auc: 0.6175 - val_loss: 0.6736 - val_precision: 0.5761 - val_recall: 0.6205\n",
            "Epoch 10/30\n",
            "\u001b[1m375/375\u001b[0m \u001b[32m━━━━━━━━━━━━━━━━━━━━\u001b[0m\u001b[37m\u001b[0m \u001b[1m3s\u001b[0m 8ms/step - accuracy: 0.6232 - auc: 0.6579 - loss: 0.6496 - precision: 0.6025 - recall: 0.7381 - val_accuracy: 0.5882 - val_auc: 0.6142 - val_loss: 0.6696 - val_precision: 0.5732 - val_recall: 0.6910\n",
            "Epoch 11/30\n",
            "\u001b[1m375/375\u001b[0m \u001b[32m━━━━━━━━━━━━━━━━━━━━\u001b[0m\u001b[37m\u001b[0m \u001b[1m3s\u001b[0m 8ms/step - accuracy: 0.6203 - auc: 0.6612 - loss: 0.6465 - precision: 0.5964 - recall: 0.7333 - val_accuracy: 0.5930 - val_auc: 0.6202 - val_loss: 0.6682 - val_precision: 0.5712 - val_recall: 0.7460\n",
            "Epoch 12/30\n",
            "\u001b[1m375/375\u001b[0m \u001b[32m━━━━━━━━━━━━━━━━━━━━\u001b[0m\u001b[37m\u001b[0m \u001b[1m3s\u001b[0m 8ms/step - accuracy: 0.6279 - auc: 0.6629 - loss: 0.6458 - precision: 0.6025 - recall: 0.7699 - val_accuracy: 0.5960 - val_auc: 0.6226 - val_loss: 0.6670 - val_precision: 0.5767 - val_recall: 0.7215\n",
            "Epoch 13/30\n",
            "\u001b[1m375/375\u001b[0m \u001b[32m━━━━━━━━━━━━━━━━━━━━\u001b[0m\u001b[37m\u001b[0m \u001b[1m3s\u001b[0m 7ms/step - accuracy: 0.6322 - auc: 0.6766 - loss: 0.6405 - precision: 0.6079 - recall: 0.7522 - val_accuracy: 0.5978 - val_auc: 0.6194 - val_loss: 0.6722 - val_precision: 0.5792 - val_recall: 0.7145\n",
            "Epoch 14/30\n",
            "\u001b[1m375/375\u001b[0m \u001b[32m━━━━━━━━━━━━━━━━━━━━\u001b[0m\u001b[37m\u001b[0m \u001b[1m3s\u001b[0m 7ms/step - accuracy: 0.6406 - auc: 0.6853 - loss: 0.6329 - precision: 0.6145 - recall: 0.7639 - val_accuracy: 0.6000 - val_auc: 0.6214 - val_loss: 0.6668 - val_precision: 0.5787 - val_recall: 0.7355\n",
            "Epoch 15/30\n",
            "\u001b[1m375/375\u001b[0m \u001b[32m━━━━━━━━━━━━━━━━━━━━\u001b[0m\u001b[37m\u001b[0m \u001b[1m3s\u001b[0m 8ms/step - accuracy: 0.6330 - auc: 0.6766 - loss: 0.6376 - precision: 0.6081 - recall: 0.7582 - val_accuracy: 0.5947 - val_auc: 0.6188 - val_loss: 0.6734 - val_precision: 0.5758 - val_recall: 0.7195\n",
            "Epoch 16/30\n",
            "\u001b[1m375/375\u001b[0m \u001b[32m━━━━━━━━━━━━━━━━━━━━\u001b[0m\u001b[37m\u001b[0m \u001b[1m3s\u001b[0m 7ms/step - accuracy: 0.6395 - auc: 0.6836 - loss: 0.6352 - precision: 0.6065 - recall: 0.7392 - val_accuracy: 0.5970 - val_auc: 0.6207 - val_loss: 0.6727 - val_precision: 0.5726 - val_recall: 0.7655\n",
            "Epoch 17/30\n",
            "\u001b[1m375/375\u001b[0m \u001b[32m━━━━━━━━━━━━━━━━━━━━\u001b[0m\u001b[37m\u001b[0m \u001b[1m3s\u001b[0m 7ms/step - accuracy: 0.6411 - auc: 0.6929 - loss: 0.6255 - precision: 0.6080 - recall: 0.7737 - val_accuracy: 0.5915 - val_auc: 0.6156 - val_loss: 0.6702 - val_precision: 0.5690 - val_recall: 0.7550\n",
            "CPU times: user 1min 4s, sys: 4.64 s, total: 1min 9s\n",
            "Wall time: 54.9 s\n"
          ]
        }
      ]
    },
    {
      "cell_type": "code",
      "source": [
        "fig = plt.figure(figsize=(16, 4))\n",
        "\n",
        "fig.add_subplot(1, 4, 1)\n",
        "plt.plot(history.history['loss'], label='Train Loss')\n",
        "plt.plot(history.history['val_loss'], label='Val Loss')\n",
        "plt.title('Loss')\n",
        "plt.legend()\n",
        "\n",
        "fig.add_subplot(1, 4, 2)\n",
        "plt.plot(history.history['accuracy'], label='Train Acc')\n",
        "plt.plot(history.history['val_accuracy'], label='Val Acc')\n",
        "plt.title('Accuracy')\n",
        "plt.legend()\n",
        "\n",
        "fig.add_subplot(1, 4, 3)\n",
        "plt.plot(history.history['precision'], label='Train Precision')\n",
        "plt.plot(history.history['val_precision'], label='Val Precision')\n",
        "plt.title('Precision')\n",
        "plt.legend()\n",
        "\n",
        "fig.add_subplot(1, 4, 4)\n",
        "plt.plot(history.history['auc'], label='Train Auc')\n",
        "plt.plot(history.history['val_auc'], label='Val Auc')\n",
        "plt.title('AUC')\n",
        "plt.legend()\n",
        "\n",
        "plt.show()"
      ],
      "metadata": {
        "colab": {
          "base_uri": "https://localhost:8080/",
          "height": 391
        },
        "id": "TSP_qr0BSQek",
        "outputId": "08138ed9-7046-4629-b68f-b6b441e15f59"
      },
      "execution_count": null,
      "outputs": [
        {
          "output_type": "display_data",
          "data": {
            "text/plain": [
              "<Figure size 1600x400 with 4 Axes>"
            ],
            "image/png": "[encoded data removed]"
          },
          "metadata": {}
        }
      ]
    },
    {
      "cell_type": "markdown",
      "source": [
        "## | FastText"
      ],
      "metadata": {
        "id": "4uzSFd6vSG8r"
      }
    },
    {
      "cell_type": "code",
      "source": [
        "from gensim.models import FastText"
      ],
      "metadata": {
        "id": "KLw0oaS98b_0"
      },
      "execution_count": null,
      "outputs": []
    },
    {
      "cell_type": "code",
      "source": [
        "%%time\n",
        "ft_model = FastText.load(os.path.join(path, \"fasttext_model.model\"))"
      ],
      "metadata": {
        "colab": {
          "base_uri": "https://localhost:8080/"
        },
        "id": "ok2tiL7Y8R3D",
        "outputId": "c637fd64-4f76-42f7-9bb0-d8659ede6636"
      },
      "execution_count": null,
      "outputs": [
        {
          "output_type": "stream",
          "name": "stdout",
          "text": [
            "CPU times: user 43 s, sys: 2.89 s, total: 45.9 s\n",
            "Wall time: 1min 36s\n"
          ]
        }
      ]
    },
    {
      "cell_type": "code",
      "source": [
        "%%time\n",
        "train_token, val_token, test_token, y_train_ft, y_valid_ft, y_test_ft = split_train_val_test(tokenized_tweets.tokenized_tweets, Y, sample_size=20000)"
      ],
      "metadata": {
        "colab": {
          "base_uri": "https://localhost:8080/"
        },
        "id": "Ami8i34u8o-F",
        "outputId": "d853a24d-d429-48a9-86c0-1cd2febd9144"
      },
      "execution_count": null,
      "outputs": [
        {
          "output_type": "stream",
          "name": "stdout",
          "text": [
            "CPU times: user 499 ms, sys: 52.2 ms, total: 551 ms\n",
            "Wall time: 549 ms\n"
          ]
        }
      ]
    },
    {
      "cell_type": "markdown",
      "source": [
        "\n",
        "\n",
        "> Extracion des sequences\n",
        "\n"
      ],
      "metadata": {
        "id": "yGZI7qxZ-HvU"
      }
    },
    {
      "cell_type": "code",
      "source": [
        "%%time\n",
        "max_len = max(map(len, tokenized_tweets))\n",
        "print(f\"Le tweet le plus long contient {max_len} tokens\")\n",
        "train_ft_set =  np.array([sentence_to_sequence(sentence, ft_model, max_len=max_len) for sentence in train_token])\n",
        "val_ft_set =  np.array([sentence_to_sequence(sentence, ft_model, max_len=max_len) for sentence in val_token])\n",
        "test_ft_set =  np.array([sentence_to_sequence(sentence, ft_model, max_len=max_len) for sentence in test_token])"
      ],
      "metadata": {
        "colab": {
          "base_uri": "https://localhost:8080/"
        },
        "outputId": "8024d75b-0901-4a7f-b95d-77e668e261ab",
        "id": "keG4iruO-HvU"
      },
      "execution_count": null,
      "outputs": [
        {
          "output_type": "stream",
          "name": "stdout",
          "text": [
            "Le tweet le plus long contient 16 tokens\n",
            "CPU times: user 4.85 s, sys: 267 ms, total: 5.12 s\n",
            "Wall time: 5.1 s\n"
          ]
        }
      ]
    },
    {
      "cell_type": "code",
      "source": [
        "train_ft_set.shape"
      ],
      "metadata": {
        "colab": {
          "base_uri": "https://localhost:8080/"
        },
        "id": "xk6zBfKE-g6-",
        "outputId": "992497f4-78b4-4e9b-8a0c-ebfc75a60a4f"
      },
      "execution_count": null,
      "outputs": [
        {
          "output_type": "execute_result",
          "data": {
            "text/plain": [
              "(12000, 16, 300)"
            ]
          },
          "metadata": {},
          "execution_count": 50
        }
      ]
    },
    {
      "cell_type": "code",
      "source": [
        "%%time\n",
        "model = build_model()\n",
        "model.compile(loss='binary_crossentropy', optimizer='adam', metrics=['accuracy', 'auc', 'precision', 'recall'])\n",
        "model.summary()"
      ],
      "metadata": {
        "colab": {
          "base_uri": "https://localhost:8080/",
          "height": 303
        },
        "id": "T05H4ar7_Vp1",
        "outputId": "faaf8a0c-e35f-4561-b39d-377c3e2be93e"
      },
      "execution_count": null,
      "outputs": [
        {
          "output_type": "display_data",
          "data": {
            "text/plain": [
              "\u001b[1mModel: \"sequential_1\"\u001b[0m\n"
            ],
            "text/html": [
              "<pre style=\"white-space:pre;overflow-x:auto;line-height:normal;font-family:Menlo,'DejaVu Sans Mono',consolas,'Courier New',monospace\"><span style=\"font-weight: bold\">Model: \"sequential_1\"</span>\n",
              "</pre>\n"
            ]
          },
          "metadata": {}
        },
        {
          "output_type": "display_data",
          "data": {
            "text/plain": [
              "┏━━━━━━━━━━━━━━━━━━━━━━━━━━━━━━━━━┳━━━━━━━━━━━━━━━━━━━━━━━━┳━━━━━━━━━━━━━━━┓\n",
              "┃\u001b[1m \u001b[0m\u001b[1mLayer (type)                   \u001b[0m\u001b[1m \u001b[0m┃\u001b[1m \u001b[0m\u001b[1mOutput Shape          \u001b[0m\u001b[1m \u001b[0m┃\u001b[1m \u001b[0m\u001b[1m      Param #\u001b[0m\u001b[1m \u001b[0m┃\n",
              "┡━━━━━━━━━━━━━━━━━━━━━━━━━━━━━━━━━╇━━━━━━━━━━━━━━━━━━━━━━━━╇━━━━━━━━━━━━━━━┩\n",
              "│ bidirectional_1 (\u001b[38;5;33mBidirectional\u001b[0m) │ (\u001b[38;5;45mNone\u001b[0m, \u001b[38;5;34m64\u001b[0m)             │        \u001b[38;5;34m85,248\u001b[0m │\n",
              "├─────────────────────────────────┼────────────────────────┼───────────────┤\n",
              "│ dropout_1 (\u001b[38;5;33mDropout\u001b[0m)             │ (\u001b[38;5;45mNone\u001b[0m, \u001b[38;5;34m64\u001b[0m)             │             \u001b[38;5;34m0\u001b[0m │\n",
              "├─────────────────────────────────┼────────────────────────┼───────────────┤\n",
              "│ dense_2 (\u001b[38;5;33mDense\u001b[0m)                 │ (\u001b[38;5;45mNone\u001b[0m, \u001b[38;5;34m32\u001b[0m)             │         \u001b[38;5;34m2,080\u001b[0m │\n",
              "├─────────────────────────────────┼────────────────────────┼───────────────┤\n",
              "│ dense_3 (\u001b[38;5;33mDense\u001b[0m)                 │ (\u001b[38;5;45mNone\u001b[0m, \u001b[38;5;34m1\u001b[0m)              │            \u001b[38;5;34m33\u001b[0m │\n",
              "└─────────────────────────────────┴────────────────────────┴───────────────┘\n"
            ],
            "text/html": [
              "<pre style=\"white-space:pre;overflow-x:auto;line-height:normal;font-family:Menlo,'DejaVu Sans Mono',consolas,'Courier New',monospace\">┏━━━━━━━━━━━━━━━━━━━━━━━━━━━━━━━━━┳━━━━━━━━━━━━━━━━━━━━━━━━┳━━━━━━━━━━━━━━━┓\n",
              "┃<span style=\"font-weight: bold\"> Layer (type)                    </span>┃<span style=\"font-weight: bold\"> Output Shape           </span>┃<span style=\"font-weight: bold\">       Param # </span>┃\n",
              "┡━━━━━━━━━━━━━━━━━━━━━━━━━━━━━━━━━╇━━━━━━━━━━━━━━━━━━━━━━━━╇━━━━━━━━━━━━━━━┩\n",
              "│ bidirectional_1 (<span style=\"color: #0087ff; text-decoration-color: #0087ff\">Bidirectional</span>) │ (<span style=\"color: #00d7ff; text-decoration-color: #00d7ff\">None</span>, <span style=\"color: #00af00; text-decoration-color: #00af00\">64</span>)             │        <span style=\"color: #00af00; text-decoration-color: #00af00\">85,248</span> │\n",
              "├─────────────────────────────────┼────────────────────────┼───────────────┤\n",
              "│ dropout_1 (<span style=\"color: #0087ff; text-decoration-color: #0087ff\">Dropout</span>)             │ (<span style=\"color: #00d7ff; text-decoration-color: #00d7ff\">None</span>, <span style=\"color: #00af00; text-decoration-color: #00af00\">64</span>)             │             <span style=\"color: #00af00; text-decoration-color: #00af00\">0</span> │\n",
              "├─────────────────────────────────┼────────────────────────┼───────────────┤\n",
              "│ dense_2 (<span style=\"color: #0087ff; text-decoration-color: #0087ff\">Dense</span>)                 │ (<span style=\"color: #00d7ff; text-decoration-color: #00d7ff\">None</span>, <span style=\"color: #00af00; text-decoration-color: #00af00\">32</span>)             │         <span style=\"color: #00af00; text-decoration-color: #00af00\">2,080</span> │\n",
              "├─────────────────────────────────┼────────────────────────┼───────────────┤\n",
              "│ dense_3 (<span style=\"color: #0087ff; text-decoration-color: #0087ff\">Dense</span>)                 │ (<span style=\"color: #00d7ff; text-decoration-color: #00d7ff\">None</span>, <span style=\"color: #00af00; text-decoration-color: #00af00\">1</span>)              │            <span style=\"color: #00af00; text-decoration-color: #00af00\">33</span> │\n",
              "└─────────────────────────────────┴────────────────────────┴───────────────┘\n",
              "</pre>\n"
            ]
          },
          "metadata": {}
        },
        {
          "output_type": "display_data",
          "data": {
            "text/plain": [
              "\u001b[1m Total params: \u001b[0m\u001b[38;5;34m87,361\u001b[0m (341.25 KB)\n"
            ],
            "text/html": [
              "<pre style=\"white-space:pre;overflow-x:auto;line-height:normal;font-family:Menlo,'DejaVu Sans Mono',consolas,'Courier New',monospace\"><span style=\"font-weight: bold\"> Total params: </span><span style=\"color: #00af00; text-decoration-color: #00af00\">87,361</span> (341.25 KB)\n",
              "</pre>\n"
            ]
          },
          "metadata": {}
        },
        {
          "output_type": "display_data",
          "data": {
            "text/plain": [
              "\u001b[1m Trainable params: \u001b[0m\u001b[38;5;34m87,361\u001b[0m (341.25 KB)\n"
            ],
            "text/html": [
              "<pre style=\"white-space:pre;overflow-x:auto;line-height:normal;font-family:Menlo,'DejaVu Sans Mono',consolas,'Courier New',monospace\"><span style=\"font-weight: bold\"> Trainable params: </span><span style=\"color: #00af00; text-decoration-color: #00af00\">87,361</span> (341.25 KB)\n",
              "</pre>\n"
            ]
          },
          "metadata": {}
        },
        {
          "output_type": "display_data",
          "data": {
            "text/plain": [
              "\u001b[1m Non-trainable params: \u001b[0m\u001b[38;5;34m0\u001b[0m (0.00 B)\n"
            ],
            "text/html": [
              "<pre style=\"white-space:pre;overflow-x:auto;line-height:normal;font-family:Menlo,'DejaVu Sans Mono',consolas,'Courier New',monospace\"><span style=\"font-weight: bold\"> Non-trainable params: </span><span style=\"color: #00af00; text-decoration-color: #00af00\">0</span> (0.00 B)\n",
              "</pre>\n"
            ]
          },
          "metadata": {}
        },
        {
          "output_type": "stream",
          "name": "stdout",
          "text": [
            "CPU times: user 89.1 ms, sys: 2.96 ms, total: 92.1 ms\n",
            "Wall time: 88.7 ms\n"
          ]
        }
      ]
    },
    {
      "cell_type": "code",
      "source": [
        "%%time\n",
        "\n",
        "callbacks = [\n",
        "    tf.keras.callbacks.EarlyStopping(monitor='val_loss', patience=3, restore_best_weights=True)\n",
        "]\n",
        "\n",
        "fit_time = time.time()\n",
        "history = model.fit(\n",
        "    x=train_ft_set,\n",
        "    y=y_train_ft,\n",
        "    epochs=30,\n",
        "    batch_size=32,\n",
        "    validation_data=(val_ft_set, y_valid_ft),\n",
        "    callbacks=callbacks,\n",
        "\n",
        ")\n",
        "fit_time = time.time() - fit_time\n",
        "\n",
        "res.append({\n",
        "    \"Embeddings\": \"fasttext\",\n",
        "    \"val_score\": np.mean(history.history['val_accuracy']),\n",
        "    \"val_loss\": np.mean(history.history['val_loss']),\n",
        "    \"auc\": np.mean(history.history['val_auc']),\n",
        "    \"precision\": np.mean(history.history['val_precision']),\n",
        "    \"recall\": np.mean(history.history['val_recall']),\n",
        "    \"train_time (s)\": fit_time\n",
        "})"
      ],
      "metadata": {
        "colab": {
          "base_uri": "https://localhost:8080/"
        },
        "id": "BkVfMa_8_kbf",
        "outputId": "f08828fe-7c45-4c19-e4a6-3a6a004de2e7"
      },
      "execution_count": null,
      "outputs": [
        {
          "output_type": "stream",
          "name": "stdout",
          "text": [
            "Epoch 1/30\n",
            "\u001b[1m375/375\u001b[0m \u001b[32m━━━━━━━━━━━━━━━━━━━━\u001b[0m\u001b[37m\u001b[0m \u001b[1m6s\u001b[0m 9ms/step - accuracy: 0.5132 - auc: 0.5150 - loss: 0.6980 - precision: 0.5116 - recall: 0.5514 - val_accuracy: 0.5073 - val_auc: 0.5399 - val_loss: 0.6966 - val_precision: 0.6028 - val_recall: 0.0425\n",
            "Epoch 2/30\n",
            "\u001b[1m375/375\u001b[0m \u001b[32m━━━━━━━━━━━━━━━━━━━━\u001b[0m\u001b[37m\u001b[0m \u001b[1m3s\u001b[0m 7ms/step - accuracy: 0.5232 - auc: 0.5385 - loss: 0.6917 - precision: 0.5233 - recall: 0.4586 - val_accuracy: 0.5395 - val_auc: 0.5587 - val_loss: 0.6879 - val_precision: 0.5453 - val_recall: 0.4755\n",
            "Epoch 3/30\n",
            "\u001b[1m375/375\u001b[0m \u001b[32m━━━━━━━━━━━━━━━━━━━━\u001b[0m\u001b[37m\u001b[0m \u001b[1m3s\u001b[0m 8ms/step - accuracy: 0.5428 - auc: 0.5594 - loss: 0.6879 - precision: 0.5437 - recall: 0.5664 - val_accuracy: 0.5468 - val_auc: 0.5631 - val_loss: 0.6870 - val_precision: 0.5459 - val_recall: 0.5555\n",
            "Epoch 4/30\n",
            "\u001b[1m375/375\u001b[0m \u001b[32m━━━━━━━━━━━━━━━━━━━━\u001b[0m\u001b[37m\u001b[0m \u001b[1m3s\u001b[0m 7ms/step - accuracy: 0.5640 - auc: 0.5839 - loss: 0.6828 - precision: 0.5552 - recall: 0.5745 - val_accuracy: 0.5418 - val_auc: 0.5736 - val_loss: 0.6891 - val_precision: 0.5728 - val_recall: 0.3285\n",
            "Epoch 5/30\n",
            "\u001b[1m375/375\u001b[0m \u001b[32m━━━━━━━━━━━━━━━━━━━━\u001b[0m\u001b[37m\u001b[0m \u001b[1m3s\u001b[0m 7ms/step - accuracy: 0.5610 - auc: 0.5891 - loss: 0.6802 - precision: 0.5647 - recall: 0.6030 - val_accuracy: 0.5530 - val_auc: 0.5802 - val_loss: 0.6845 - val_precision: 0.5574 - val_recall: 0.5145\n",
            "Epoch 6/30\n",
            "\u001b[1m375/375\u001b[0m \u001b[32m━━━━━━━━━━━━━━━━━━━━\u001b[0m\u001b[37m\u001b[0m \u001b[1m3s\u001b[0m 7ms/step - accuracy: 0.5758 - auc: 0.6043 - loss: 0.6750 - precision: 0.5706 - recall: 0.6306 - val_accuracy: 0.5683 - val_auc: 0.5929 - val_loss: 0.6882 - val_precision: 0.5873 - val_recall: 0.4590\n",
            "Epoch 7/30\n",
            "\u001b[1m375/375\u001b[0m \u001b[32m━━━━━━━━━━━━━━━━━━━━\u001b[0m\u001b[37m\u001b[0m \u001b[1m3s\u001b[0m 8ms/step - accuracy: 0.5844 - auc: 0.6177 - loss: 0.6700 - precision: 0.5797 - recall: 0.6661 - val_accuracy: 0.5748 - val_auc: 0.5956 - val_loss: 0.6792 - val_precision: 0.5558 - val_recall: 0.7440\n",
            "Epoch 8/30\n",
            "\u001b[1m375/375\u001b[0m \u001b[32m━━━━━━━━━━━━━━━━━━━━\u001b[0m\u001b[37m\u001b[0m \u001b[1m3s\u001b[0m 7ms/step - accuracy: 0.5886 - auc: 0.6232 - loss: 0.6672 - precision: 0.5734 - recall: 0.6879 - val_accuracy: 0.5665 - val_auc: 0.5984 - val_loss: 0.6790 - val_precision: 0.5620 - val_recall: 0.6025\n",
            "Epoch 9/30\n",
            "\u001b[1m375/375\u001b[0m \u001b[32m━━━━━━━━━━━━━━━━━━━━\u001b[0m\u001b[37m\u001b[0m \u001b[1m3s\u001b[0m 7ms/step - accuracy: 0.6102 - auc: 0.6434 - loss: 0.6565 - precision: 0.5895 - recall: 0.6911 - val_accuracy: 0.5705 - val_auc: 0.6029 - val_loss: 0.6755 - val_precision: 0.5582 - val_recall: 0.6760\n",
            "Epoch 10/30\n",
            "\u001b[1m375/375\u001b[0m \u001b[32m━━━━━━━━━━━━━━━━━━━━\u001b[0m\u001b[37m\u001b[0m \u001b[1m3s\u001b[0m 7ms/step - accuracy: 0.6053 - auc: 0.6461 - loss: 0.6560 - precision: 0.5881 - recall: 0.6931 - val_accuracy: 0.5850 - val_auc: 0.6144 - val_loss: 0.6701 - val_precision: 0.5640 - val_recall: 0.7495\n",
            "Epoch 11/30\n",
            "\u001b[1m375/375\u001b[0m \u001b[32m━━━━━━━━━━━━━━━━━━━━\u001b[0m\u001b[37m\u001b[0m \u001b[1m3s\u001b[0m 8ms/step - accuracy: 0.6122 - auc: 0.6460 - loss: 0.6545 - precision: 0.5926 - recall: 0.7253 - val_accuracy: 0.5753 - val_auc: 0.6115 - val_loss: 0.6792 - val_precision: 0.5732 - val_recall: 0.5890\n",
            "Epoch 12/30\n",
            "\u001b[1m375/375\u001b[0m \u001b[32m━━━━━━━━━━━━━━━━━━━━\u001b[0m\u001b[37m\u001b[0m \u001b[1m3s\u001b[0m 8ms/step - accuracy: 0.6162 - auc: 0.6573 - loss: 0.6513 - precision: 0.5980 - recall: 0.7010 - val_accuracy: 0.5842 - val_auc: 0.6162 - val_loss: 0.6736 - val_precision: 0.5730 - val_recall: 0.6610\n",
            "Epoch 13/30\n",
            "\u001b[1m375/375\u001b[0m \u001b[32m━━━━━━━━━━━━━━━━━━━━\u001b[0m\u001b[37m\u001b[0m \u001b[1m3s\u001b[0m 8ms/step - accuracy: 0.6171 - auc: 0.6560 - loss: 0.6492 - precision: 0.5973 - recall: 0.7307 - val_accuracy: 0.5888 - val_auc: 0.6173 - val_loss: 0.6748 - val_precision: 0.5799 - val_recall: 0.6440\n",
            "CPU times: user 48.1 s, sys: 3.63 s, total: 51.7 s\n",
            "Wall time: 40.8 s\n"
          ]
        }
      ]
    },
    {
      "cell_type": "code",
      "source": [
        "fig = plt.figure(figsize=(16, 4))\n",
        "\n",
        "fig.add_subplot(1, 4, 1)\n",
        "plt.plot(history.history['loss'], label='Train Loss')\n",
        "plt.plot(history.history['val_loss'], label='Val Loss')\n",
        "plt.title('Loss')\n",
        "plt.legend()\n",
        "\n",
        "fig.add_subplot(1, 4, 2)\n",
        "plt.plot(history.history['accuracy'], label='Train Acc')\n",
        "plt.plot(history.history['val_accuracy'], label='Val Acc')\n",
        "plt.title('Accuracy')\n",
        "plt.legend()\n",
        "\n",
        "fig.add_subplot(1, 4, 3)\n",
        "plt.plot(history.history['precision'], label='Train Precision')\n",
        "plt.plot(history.history['val_precision'], label='Val Precision')\n",
        "plt.title('Precision')\n",
        "plt.legend()\n",
        "\n",
        "fig.add_subplot(1, 4, 4)\n",
        "plt.plot(history.history['auc'], label='Train Auc')\n",
        "plt.plot(history.history['val_auc'], label='Val Auc')\n",
        "plt.title('AUC')\n",
        "plt.legend()\n",
        "\n",
        "plt.show()"
      ],
      "metadata": {
        "colab": {
          "base_uri": "https://localhost:8080/",
          "height": 391
        },
        "id": "B2U1rIf2ARKK",
        "outputId": "8bd62cda-3ea1-4cb7-cc49-6621131c836d"
      },
      "execution_count": null,
      "outputs": [
        {
          "output_type": "display_data",
          "data": {
            "text/plain": [
              "<Figure size 1600x400 with 4 Axes>"
            ],
            "image/png": "[encoded data removed]"
          },
          "metadata": {}
        }
      ]
    },
    {
      "cell_type": "markdown",
      "source": [
        "## Comparaison des embeddings (word2vec vs fasttext)"
      ],
      "metadata": {
        "id": "MgvF4pK6Bg9J"
      }
    },
    {
      "cell_type": "code",
      "source": [
        "res_all_df_2 = pd.DataFrame(res)\n",
        "res_all_df_2"
      ],
      "metadata": {
        "colab": {
          "base_uri": "https://localhost:8080/",
          "height": 125
        },
        "id": "P9RTBbv7B48C",
        "outputId": "bb1cb428-9df0-47ff-f89e-5a2e42a6a2f9"
      },
      "execution_count": null,
      "outputs": [
        {
          "output_type": "execute_result",
          "data": {
            "text/plain": [
              "  Embeddings  val_score  val_loss       auc  precision    recall  \\\n",
              "0   word2vec   0.580912  0.675810  0.608875   0.572591  0.640529   \n",
              "1   fasttext   0.561654  0.681888  0.589619   0.567529  0.541654   \n",
              "\n",
              "   train_time (s)  \n",
              "0       54.943327  \n",
              "1       40.784845  "
            ],
            "text/html": [
              "\n",
              "  <div id=\"df-66c2565f-2706-4105-a7a9-07576afdb098\" class=\"colab-df-container\">\n",
              "    <div>\n",
              "<style scoped>\n",
              "    .dataframe tbody tr th:only-of-type {\n",
              "        vertical-align: middle;\n",
              "    }\n",
              "\n",
              "    .dataframe tbody tr th {\n",
              "        vertical-align: top;\n",
              "    }\n",
              "\n",
              "    .dataframe thead th {\n",
              "        text-align: right;\n",
              "    }\n",
              "</style>\n",
              "<table border=\"1\" class=\"dataframe\">\n",
              "  <thead>\n",
              "    <tr style=\"text-align: right;\">\n",
              "      <th></th>\n",
              "      <th>Embeddings</th>\n",
              "      <th>val_score</th>\n",
              "      <th>val_loss</th>\n",
              "      <th>auc</th>\n",
              "      <th>precision</th>\n",
              "      <th>recall</th>\n",
              "      <th>train_time (s)</th>\n",
              "    </tr>\n",
              "  </thead>\n",
              "  <tbody>\n",
              "    <tr>\n",
              "      <th>0</th>\n",
              "      <td>word2vec</td>\n",
              "      <td>0.580912</td>\n",
              "      <td>0.675810</td>\n",
              "      <td>0.608875</td>\n",
              "      <td>0.572591</td>\n",
              "      <td>0.640529</td>\n",
              "      <td>54.943327</td>\n",
              "    </tr>\n",
              "    <tr>\n",
              "      <th>1</th>\n",
              "      <td>fasttext</td>\n",
              "      <td>0.561654</td>\n",
              "      <td>0.681888</td>\n",
              "      <td>0.589619</td>\n",
              "      <td>0.567529</td>\n",
              "      <td>0.541654</td>\n",
              "      <td>40.784845</td>\n",
              "    </tr>\n",
              "  </tbody>\n",
              "</table>\n",
              "</div>\n",
              "    <div class=\"colab-df-buttons\">\n",
              "\n",
              "  <div class=\"colab-df-container\">\n",
              "    <button class=\"colab-df-convert\" onclick=\"convertToInteractive('df-66c2565f-2706-4105-a7a9-07576afdb098')\"\n",
              "            title=\"Convert this dataframe to an interactive table.\"\n",
              "            style=\"display:none;\">\n",
              "\n",
              "  <svg xmlns=\"http://www.w3.org/2000/svg\" height=\"24px\" viewBox=\"0 -960 960 960\">\n",
              "    <path d=\"M120-120v-720h720v720H120Zm60-500h600v-160H180v160Zm220 220h160v-160H400v160Zm0 220h160v-160H400v160ZM180-400h160v-160H180v160Zm440 0h160v-160H620v160ZM180-180h160v-160H180v160Zm440 0h160v-160H620v160Z\"/>\n",
              "  </svg>\n",
              "    </button>\n",
              "\n",
              "  <style>\n",
              "    .colab-df-container {\n",
              "      display:flex;\n",
              "      gap: 12px;\n",
              "    }\n",
              "\n",
              "    .colab-df-convert {\n",
              "      background-color: #E8F0FE;\n",
              "      border: none;\n",
              "      border-radius: 50%;\n",
              "      cursor: pointer;\n",
              "      display: none;\n",
              "      fill: #1967D2;\n",
              "      height: 32px;\n",
              "      padding: 0 0 0 0;\n",
              "      width: 32px;\n",
              "    }\n",
              "\n",
              "    .colab-df-convert:hover {\n",
              "      background-color: #E2EBFA;\n",
              "      box-shadow: 0px 1px 2px rgba(60, 64, 67, 0.3), 0px 1px 3px 1px rgba(60, 64, 67, 0.15);\n",
              "      fill: #174EA6;\n",
              "    }\n",
              "\n",
              "    .colab-df-buttons div {\n",
              "      margin-bottom: 4px;\n",
              "    }\n",
              "\n",
              "    [theme=dark] .colab-df-convert {\n",
              "      background-color: #3B4455;\n",
              "      fill: #D2E3FC;\n",
              "    }\n",
              "\n",
              "    [theme=dark] .colab-df-convert:hover {\n",
              "      background-color: #434B5C;\n",
              "      box-shadow: 0px 1px 3px 1px rgba(0, 0, 0, 0.15);\n",
              "      filter: drop-shadow(0px 1px 2px rgba(0, 0, 0, 0.3));\n",
              "      fill: #FFFFFF;\n",
              "    }\n",
              "  </style>\n",
              "\n",
              "    <script>\n",
              "      const buttonEl =\n",
              "        document.querySelector('#df-66c2565f-2706-4105-a7a9-07576afdb098 button.colab-df-convert');\n",
              "      buttonEl.style.display =\n",
              "        google.colab.kernel.accessAllowed ? 'block' : 'none';\n",
              "\n",
              "      async function convertToInteractive(key) {\n",
              "        const element = document.querySelector('#df-66c2565f-2706-4105-a7a9-07576afdb098');\n",
              "        const dataTable =\n",
              "          await google.colab.kernel.invokeFunction('convertToInteractive',\n",
              "                                                    [key], {});\n",
              "        if (!dataTable) return;\n",
              "\n",
              "        const docLinkHtml = 'Like what you see? Visit the ' +\n",
              "          '<a target=\"_blank\" href=https://colab.research.google.com/notebooks/data_table.ipynb>data table notebook</a>'\n",
              "          + ' to learn more about interactive tables.';\n",
              "        element.innerHTML = '';\n",
              "        dataTable['output_type'] = 'display_data';\n",
              "        await google.colab.output.renderOutput(dataTable, element);\n",
              "        const docLink = document.createElement('div');\n",
              "        docLink.innerHTML = docLinkHtml;\n",
              "        element.appendChild(docLink);\n",
              "      }\n",
              "    </script>\n",
              "  </div>\n",
              "\n",
              "\n",
              "    <div id=\"df-5cef866e-4307-4825-8d83-54a62911ae6e\">\n",
              "      <button class=\"colab-df-quickchart\" onclick=\"quickchart('df-5cef866e-4307-4825-8d83-54a62911ae6e')\"\n",
              "                title=\"Suggest charts\"\n",
              "                style=\"display:none;\">\n",
              "\n",
              "<svg xmlns=\"http://www.w3.org/2000/svg\" height=\"24px\"viewBox=\"0 0 24 24\"\n",
              "     width=\"24px\">\n",
              "    <g>\n",
              "        <path d=\"M19 3H5c-1.1 0-2 .9-2 2v14c0 1.1.9 2 2 2h14c1.1 0 2-.9 2-2V5c0-1.1-.9-2-2-2zM9 17H7v-7h2v7zm4 0h-2V7h2v10zm4 0h-2v-4h2v4z\"/>\n",
              "    </g>\n",
              "</svg>\n",
              "      </button>\n",
              "\n",
              "<style>\n",
              "  .colab-df-quickchart {\n",
              "      --bg-color: #E8F0FE;\n",
              "      --fill-color: #1967D2;\n",
              "      --hover-bg-color: #E2EBFA;\n",
              "      --hover-fill-color: #174EA6;\n",
              "      --disabled-fill-color: #AAA;\n",
              "      --disabled-bg-color: #DDD;\n",
              "  }\n",
              "\n",
              "  [theme=dark] .colab-df-quickchart {\n",
              "      --bg-color: #3B4455;\n",
              "      --fill-color: #D2E3FC;\n",
              "      --hover-bg-color: #434B5C;\n",
              "      --hover-fill-color: #FFFFFF;\n",
              "      --disabled-bg-color: #3B4455;\n",
              "      --disabled-fill-color: #666;\n",
              "  }\n",
              "\n",
              "  .colab-df-quickchart {\n",
              "    background-color: var(--bg-color);\n",
              "    border: none;\n",
              "    border-radius: 50%;\n",
              "    cursor: pointer;\n",
              "    display: none;\n",
              "    fill: var(--fill-color);\n",
              "    height: 32px;\n",
              "    padding: 0;\n",
              "    width: 32px;\n",
              "  }\n",
              "\n",
              "  .colab-df-quickchart:hover {\n",
              "    background-color: var(--hover-bg-color);\n",
              "    box-shadow: 0 1px 2px rgba(60, 64, 67, 0.3), 0 1px 3px 1px rgba(60, 64, 67, 0.15);\n",
              "    fill: var(--button-hover-fill-color);\n",
              "  }\n",
              "\n",
              "  .colab-df-quickchart-complete:disabled,\n",
              "  .colab-df-quickchart-complete:disabled:hover {\n",
              "    background-color: var(--disabled-bg-color);\n",
              "    fill: var(--disabled-fill-color);\n",
              "    box-shadow: none;\n",
              "  }\n",
              "\n",
              "  .colab-df-spinner {\n",
              "    border: 2px solid var(--fill-color);\n",
              "    border-color: transparent;\n",
              "    border-bottom-color: var(--fill-color);\n",
              "    animation:\n",
              "      spin 1s steps(1) infinite;\n",
              "  }\n",
              "\n",
              "  @keyframes spin {\n",
              "    0% {\n",
              "      border-color: transparent;\n",
              "      border-bottom-color: var(--fill-color);\n",
              "      border-left-color: var(--fill-color);\n",
              "    }\n",
              "    20% {\n",
              "      border-color: transparent;\n",
              "      border-left-color: var(--fill-color);\n",
              "      border-top-color: var(--fill-color);\n",
              "    }\n",
              "    30% {\n",
              "      border-color: transparent;\n",
              "      border-left-color: var(--fill-color);\n",
              "      border-top-color: var(--fill-color);\n",
              "      border-right-color: var(--fill-color);\n",
              "    }\n",
              "    40% {\n",
              "      border-color: transparent;\n",
              "      border-right-color: var(--fill-color);\n",
              "      border-top-color: var(--fill-color);\n",
              "    }\n",
              "    60% {\n",
              "      border-color: transparent;\n",
              "      border-right-color: var(--fill-color);\n",
              "    }\n",
              "    80% {\n",
              "      border-color: transparent;\n",
              "      border-right-color: var(--fill-color);\n",
              "      border-bottom-color: var(--fill-color);\n",
              "    }\n",
              "    90% {\n",
              "      border-color: transparent;\n",
              "      border-bottom-color: var(--fill-color);\n",
              "    }\n",
              "  }\n",
              "</style>\n",
              "\n",
              "      <script>\n",
              "        async function quickchart(key) {\n",
              "          const quickchartButtonEl =\n",
              "            document.querySelector('#' + key + ' button');\n",
              "          quickchartButtonEl.disabled = true;  // To prevent multiple clicks.\n",
              "          quickchartButtonEl.classList.add('colab-df-spinner');\n",
              "          try {\n",
              "            const charts = await google.colab.kernel.invokeFunction(\n",
              "                'suggestCharts', [key], {});\n",
              "          } catch (error) {\n",
              "            console.error('Error during call to suggestCharts:', error);\n",
              "          }\n",
              "          quickchartButtonEl.classList.remove('colab-df-spinner');\n",
              "          quickchartButtonEl.classList.add('colab-df-quickchart-complete');\n",
              "        }\n",
              "        (() => {\n",
              "          let quickchartButtonEl =\n",
              "            document.querySelector('#df-5cef866e-4307-4825-8d83-54a62911ae6e button');\n",
              "          quickchartButtonEl.style.display =\n",
              "            google.colab.kernel.accessAllowed ? 'block' : 'none';\n",
              "        })();\n",
              "      </script>\n",
              "    </div>\n",
              "\n",
              "  <div id=\"id_821d8dc3-9eff-4db6-a43b-5bd10076fd5f\">\n",
              "    <style>\n",
              "      .colab-df-generate {\n",
              "        background-color: #E8F0FE;\n",
              "        border: none;\n",
              "        border-radius: 50%;\n",
              "        cursor: pointer;\n",
              "        display: none;\n",
              "        fill: #1967D2;\n",
              "        height: 32px;\n",
              "        padding: 0 0 0 0;\n",
              "        width: 32px;\n",
              "      }\n",
              "\n",
              "      .colab-df-generate:hover {\n",
              "        background-color: #E2EBFA;\n",
              "        box-shadow: 0px 1px 2px rgba(60, 64, 67, 0.3), 0px 1px 3px 1px rgba(60, 64, 67, 0.15);\n",
              "        fill: #174EA6;\n",
              "      }\n",
              "\n",
              "      [theme=dark] .colab-df-generate {\n",
              "        background-color: #3B4455;\n",
              "        fill: #D2E3FC;\n",
              "      }\n",
              "\n",
              "      [theme=dark] .colab-df-generate:hover {\n",
              "        background-color: #434B5C;\n",
              "        box-shadow: 0px 1px 3px 1px rgba(0, 0, 0, 0.15);\n",
              "        filter: drop-shadow(0px 1px 2px rgba(0, 0, 0, 0.3));\n",
              "        fill: #FFFFFF;\n",
              "      }\n",
              "    </style>\n",
              "    <button class=\"colab-df-generate\" onclick=\"generateWithVariable('res_all_df_2')\"\n",
              "            title=\"Generate code using this dataframe.\"\n",
              "            style=\"display:none;\">\n",
              "\n",
              "  <svg xmlns=\"http://www.w3.org/2000/svg\" height=\"24px\"viewBox=\"0 0 24 24\"\n",
              "       width=\"24px\">\n",
              "    <path d=\"M7,19H8.4L18.45,9,17,7.55,7,17.6ZM5,21V16.75L18.45,3.32a2,2,0,0,1,2.83,0l1.4,1.43a1.91,1.91,0,0,1,.58,1.4,1.91,1.91,0,0,1-.58,1.4L9.25,21ZM18.45,9,17,7.55Zm-12,3A5.31,5.31,0,0,0,4.9,8.1,5.31,5.31,0,0,0,1,6.5,5.31,5.31,0,0,0,4.9,4.9,5.31,5.31,0,0,0,6.5,1,5.31,5.31,0,0,0,8.1,4.9,5.31,5.31,0,0,0,12,6.5,5.46,5.46,0,0,0,6.5,12Z\"/>\n",
              "  </svg>\n",
              "    </button>\n",
              "    <script>\n",
              "      (() => {\n",
              "      const buttonEl =\n",
              "        document.querySelector('#id_821d8dc3-9eff-4db6-a43b-5bd10076fd5f button.colab-df-generate');\n",
              "      buttonEl.style.display =\n",
              "        google.colab.kernel.accessAllowed ? 'block' : 'none';\n",
              "\n",
              "      buttonEl.onclick = () => {\n",
              "        google.colab.notebook.generateWithVariable('res_all_df_2');\n",
              "      }\n",
              "      })();\n",
              "    </script>\n",
              "  </div>\n",
              "\n",
              "    </div>\n",
              "  </div>\n"
            ],
            "application/vnd.google.colaboratory.intrinsic+json": {
              "type": "dataframe",
              "variable_name": "res_all_df_2",
              "summary": "{\n  \"name\": \"res_all_df_2\",\n  \"rows\": 2,\n  \"fields\": [\n    {\n      \"column\": \"Embeddings\",\n      \"properties\": {\n        \"dtype\": \"string\",\n        \"num_unique_values\": 2,\n        \"samples\": [\n          \"fasttext\",\n          \"word2vec\"\n        ],\n        \"semantic_type\": \"\",\n        \"description\": \"\"\n      }\n    },\n    {\n      \"column\": \"val_score\",\n      \"properties\": {\n        \"dtype\": \"number\",\n        \"std\": 0.013617404552523207,\n        \"min\": 0.5616538478777959,\n        \"max\": 0.5809117660802954,\n        \"num_unique_values\": 2,\n        \"samples\": [\n          0.5616538478777959,\n          0.5809117660802954\n        ],\n        \"semantic_type\": \"\",\n        \"description\": \"\"\n      }\n    },\n    {\n      \"column\": \"val_loss\",\n      \"properties\": {\n        \"dtype\": \"number\",\n        \"std\": 0.004297724631690565,\n        \"min\": 0.6758097445263582,\n        \"max\": 0.6818876449878399,\n        \"num_unique_values\": 2,\n        \"samples\": [\n          0.6818876449878399,\n          0.6758097445263582\n        ],\n        \"semantic_type\": \"\",\n        \"description\": \"\"\n      }\n    },\n    {\n      \"column\": \"auc\",\n      \"properties\": {\n        \"dtype\": \"number\",\n        \"std\": 0.013616028200461202,\n        \"min\": 0.5896194852315463,\n        \"max\": 0.608875456978293,\n        \"num_unique_values\": 2,\n        \"samples\": [\n          0.5896194852315463,\n          0.608875456978293\n        ],\n        \"semantic_type\": \"\",\n        \"description\": \"\"\n      }\n    },\n    {\n      \"column\": \"precision\",\n      \"properties\": {\n        \"dtype\": \"number\",\n        \"std\": 0.003579056023274438,\n        \"min\": 0.5675292748671311,\n        \"max\": 0.5725908244357389,\n        \"num_unique_values\": 2,\n        \"samples\": [\n          0.5675292748671311,\n          0.5725908244357389\n        ],\n        \"semantic_type\": \"\",\n        \"description\": \"\"\n      }\n    },\n    {\n      \"column\": \"recall\",\n      \"properties\": {\n        \"dtype\": \"number\",\n        \"std\": 0.06991558377402386,\n        \"min\": 0.5416538448861012,\n        \"max\": 0.6405294116805581,\n        \"num_unique_values\": 2,\n        \"samples\": [\n          0.5416538448861012,\n          0.6405294116805581\n        ],\n        \"semantic_type\": \"\",\n        \"description\": \"\"\n      }\n    },\n    {\n      \"column\": \"train_time (s)\",\n      \"properties\": {\n        \"dtype\": \"number\",\n        \"std\": 10.011558517767705,\n        \"min\": 40.78484535217285,\n        \"max\": 54.94332718849182,\n        \"num_unique_values\": 2,\n        \"samples\": [\n          40.78484535217285,\n          54.94332718849182\n        ],\n        \"semantic_type\": \"\",\n        \"description\": \"\"\n      }\n    }\n  ]\n}"
            }
          },
          "metadata": {},
          "execution_count": 54
        }
      ]
    },
    {
      "cell_type": "code",
      "source": [
        "fig = plt.figure(figsize=(14, 6))\n",
        "\n",
        "# Accuracy\n",
        "ax = fig.add_subplot(131)\n",
        "sns.barplot(data=res_all_df_2, x=\"Embeddings\", y=\"val_score\", hue=\"Embeddings\", ax=ax)\n",
        "ax.set_title(\"Accuracy\")\n",
        "ax.set_ylabel(\"Accuracy\")\n",
        "plt.setp(ax.get_xticklabels(), rotation=45)\n",
        "ax.grid(axis=\"y\")\n",
        "\n",
        "# AUC\n",
        "ax = fig.add_subplot(132)\n",
        "sns.barplot(data=res_all_df_2, x=\"Embeddings\", y=\"auc\", hue=\"Embeddings\", ax=ax)\n",
        "ax.set_title(\"AUC\")\n",
        "ax.set_ylabel(\"AUC\")\n",
        "plt.setp(ax.get_xticklabels(), rotation=45)\n",
        "ax.grid(axis=\"y\")\n",
        "\n",
        "# Train Time\n",
        "ax = fig.add_subplot(133)\n",
        "sns.barplot(data=res_all_df_2, x=\"Embeddings\", y=\"train_time (s)\", hue=\"Embeddings\", ax=ax)\n",
        "ax.set_title(\"Temps d'entraînement\")\n",
        "ax.set_ylabel(\"Temps d'entraînement (s)\")\n",
        "plt.setp(ax.get_xticklabels(), rotation=45)\n",
        "ax.set_yscale(\"log\")\n",
        "ax.grid(axis=\"y\")\n",
        "\n",
        "fig.tight_layout()\n",
        "plt.show()"
      ],
      "metadata": {
        "colab": {
          "base_uri": "https://localhost:8080/",
          "height": 607
        },
        "id": "x5lXApplCvtx",
        "outputId": "77351fd9-24de-4705-dbf1-f0c51fa81b6d"
      },
      "execution_count": null,
      "outputs": [
        {
          "output_type": "display_data",
          "data": {
            "text/plain": [
              "<Figure size 1400x600 with 3 Axes>"
            ],
            "image/png": "[encoded data removed]"
          },
          "metadata": {}
        }
      ]
    },
    {
      "cell_type": "markdown",
      "source": [
        "Les graphiques plus haut, nous montre:\n",
        "\n",
        "- **Word2Vec** :\n",
        "Surentraînement clair : la courbe de validation stagne voire descend légèrement sur certaines métriques alors que celle d'entraînement continue de progresser.\n",
        "\n",
        "Plus de variance dans la précision et AUC côté validation.\n",
        "\n",
        "- **FastText** :\n",
        "Moins de surentraînement.\n",
        "\n",
        "Plus stable sur la plupart des métriques.\n",
        "\n",
        "Les courbes train/val sont plus proches, ce qui suggère une meilleure généralisation."
      ],
      "metadata": {
        "id": "6d2aLAWAGegW"
      }
    },
    {
      "cell_type": "markdown",
      "source": [
        "**Conclusion**\n",
        "FastText semble légèrement meilleur pour la généralisation, même si Word2Vec donne de meilleures performances brutes sur le training."
      ],
      "metadata": {
        "id": "qse8A6MjGxzr"
      }
    },
    {
      "cell_type": "markdown",
      "source": [
        "## Optimisation des hyperparametes"
      ],
      "metadata": {
        "id": "kQl0qg3pHC0X"
      }
    },
    {
      "cell_type": "code",
      "source": [
        "!pip install optuna optuna-integration -q\n",
        "import optuna\n",
        "from optuna.integration import TFKerasPruningCallback\n",
        "from tensorflow import keras"
      ],
      "metadata": {
        "id": "C1CK0v7sJZqb",
        "outputId": "add704d9-a101-4017-e392-6cf4f7a6ae37",
        "colab": {
          "base_uri": "https://localhost:8080/"
        }
      },
      "execution_count": null,
      "outputs": [
        {
          "output_type": "stream",
          "name": "stdout",
          "text": [
            "\u001b[?25l   \u001b[90m━━━━━━━━━━━━━━━━━━━━━━━━━━━━━━━━━━━━━━━━\u001b[0m \u001b[32m0.0/98.5 kB\u001b[0m \u001b[31m?\u001b[0m eta \u001b[36m-:--:--\u001b[0m\r\u001b[2K   \u001b[90m━━━━━━━━━━━━━━━━━━━━━━━━━━━━━━━━━━━━━━━━\u001b[0m \u001b[32m98.5/98.5 kB\u001b[0m \u001b[31m9.5 MB/s\u001b[0m eta \u001b[36m0:00:00\u001b[0m\n",
            "\u001b[?25h"
          ]
        }
      ]
    },
    {
      "cell_type": "code",
      "source": [
        "def objective(trial):\n",
        "    # Hyperparams à tuner\n",
        "    lstm_units = trial.suggest_categorical(\"lstm_units\", [32, 64, 128])\n",
        "    dense_units = trial.suggest_int(\"dense_units\", 16, 128, step=16)\n",
        "    dropout_rate = trial.suggest_float(\"dropout_rate\", 0.1, 0.5)\n",
        "    learning_rate = trial.suggest_float(\"learning_rate\", 1e-4, 1e-2, log=True)\n",
        "    batch_size = trial.suggest_categorical(\"batch_size\", [32, 64, 128])\n",
        "\n",
        "    model = build_model(\n",
        "        dropout_rate=dropout_rate,\n",
        "        dense_units=dense_units,\n",
        "        lstm_units=lstm_units\n",
        "    )\n",
        "\n",
        "    model.compile(\n",
        "        optimizer=keras.optimizers.Adam(learning_rate=learning_rate),\n",
        "        loss=\"binary_crossentropy\",\n",
        "        metrics=[\"accuracy\"]\n",
        "    )\n",
        "\n",
        "    # Callback de pruning\n",
        "    pruning_callback = TFKerasPruningCallback(trial, \"val_accuracy\")\n",
        "\n",
        "    history = model.fit(\n",
        "        train_ft_set, y_train_ft,\n",
        "        validation_data=(val_ft_set, y_valid_ft),\n",
        "        epochs=30,\n",
        "        batch_size=batch_size,\n",
        "        callbacks=[\n",
        "            keras.callbacks.EarlyStopping(patience=3, restore_best_weights=True),\n",
        "            pruning_callback\n",
        "        ],\n",
        "        verbose=0\n",
        "    )\n",
        "\n",
        "    return max(history.history[\"val_accuracy\"])"
      ],
      "metadata": {
        "id": "AF5dBW7MGmcT"
      },
      "execution_count": null,
      "outputs": []
    },
    {
      "cell_type": "code",
      "source": [
        "try:\n",
        "  optuna.delete_study(study_name=\"lstm_hyperparameter_optimization\", storage=\"sqlite:///study.db\")\n",
        "except:\n",
        "  pass"
      ],
      "metadata": {
        "id": "BrNm27hGSbZ4"
      },
      "execution_count": null,
      "outputs": []
    },
    {
      "cell_type": "code",
      "source": [
        "%%time\n",
        "storage_url = \"sqlite:///study.db\"\n",
        "study_name = \"lstm_hyperparameter_optimization\"\n",
        "study = optuna.create_study(study_name=study_name, storage=storage_url, direction=\"maximize\", load_if_exists=True)\n",
        "study.optimize(objective, n_trials=50)"
      ],
      "metadata": {
        "colab": {
          "base_uri": "https://localhost:8080/"
        },
        "id": "wHq7UwWuJV-4",
        "outputId": "17b7887f-21ae-47a0-98b8-0d7b206d3ed3"
      },
      "execution_count": null,
      "outputs": [
        {
          "output_type": "stream",
          "name": "stderr",
          "text": [
            "[I 2025-06-05 19:48:54,108] A new study created in RDB with name: lstm_hyperparameter_optimization\n",
            "[I 2025-06-05 19:49:07,698] Trial 0 finished with value: 0.5932499766349792 and parameters: {'lstm_units': 128, 'dense_units': 64, 'dropout_rate': 0.25254986196425766, 'learning_rate': 0.0004050608998175364, 'batch_size': 128}. Best is trial 0 with value: 0.5932499766349792.\n",
            "[I 2025-06-05 19:49:17,628] Trial 1 finished with value: 0.5839999914169312 and parameters: {'lstm_units': 32, 'dense_units': 16, 'dropout_rate': 0.1610276101299716, 'learning_rate': 0.00857419138081815, 'batch_size': 128}. Best is trial 0 with value: 0.5932499766349792.\n",
            "[I 2025-06-05 19:49:35,503] Trial 2 finished with value: 0.5855000019073486 and parameters: {'lstm_units': 32, 'dense_units': 80, 'dropout_rate': 0.3193368304984, 'learning_rate': 0.0010897735093292698, 'batch_size': 64}. Best is trial 0 with value: 0.5932499766349792.\n",
            "[I 2025-06-05 19:49:59,772] Trial 3 finished with value: 0.5932499766349792 and parameters: {'lstm_units': 128, 'dense_units': 128, 'dropout_rate': 0.24179710665579163, 'learning_rate': 0.0016235150296008297, 'batch_size': 32}. Best is trial 0 with value: 0.5932499766349792.\n",
            "[I 2025-06-05 19:50:21,738] Trial 4 finished with value: 0.5942500233650208 and parameters: {'lstm_units': 128, 'dense_units': 48, 'dropout_rate': 0.20366919540849138, 'learning_rate': 0.00288434937471376, 'batch_size': 32}. Best is trial 4 with value: 0.5942500233650208.\n",
            "[I 2025-06-05 19:50:26,210] Trial 5 pruned. Trial was pruned at epoch 0.\n",
            "[I 2025-06-05 19:50:31,606] Trial 6 pruned. Trial was pruned at epoch 0.\n",
            "[I 2025-06-05 19:50:36,092] Trial 7 pruned. Trial was pruned at epoch 0.\n",
            "[I 2025-06-05 19:50:40,027] Trial 8 pruned. Trial was pruned at epoch 0.\n",
            "[I 2025-06-05 19:50:45,433] Trial 9 pruned. Trial was pruned at epoch 0.\n",
            "[I 2025-06-05 19:50:57,901] Trial 10 pruned. Trial was pruned at epoch 3.\n",
            "[I 2025-06-05 19:51:02,622] Trial 11 pruned. Trial was pruned at epoch 1.\n",
            "[I 2025-06-05 19:51:10,408] Trial 12 pruned. Trial was pruned at epoch 1.\n",
            "[I 2025-06-05 19:51:14,366] Trial 13 pruned. Trial was pruned at epoch 0.\n",
            "[I 2025-06-05 19:51:19,850] Trial 14 pruned. Trial was pruned at epoch 0.\n",
            "[I 2025-06-05 19:51:25,280] Trial 15 pruned. Trial was pruned at epoch 0.\n",
            "[I 2025-06-05 19:51:29,326] Trial 16 pruned. Trial was pruned at epoch 0.\n",
            "[I 2025-06-05 19:51:33,425] Trial 17 pruned. Trial was pruned at epoch 0.\n",
            "[I 2025-06-05 19:51:41,402] Trial 18 pruned. Trial was pruned at epoch 1.\n",
            "[I 2025-06-05 19:51:45,946] Trial 19 pruned. Trial was pruned at epoch 0.\n",
            "[I 2025-06-05 19:51:49,938] Trial 20 pruned. Trial was pruned at epoch 0.\n",
            "[I 2025-06-05 19:52:02,474] Trial 21 pruned. Trial was pruned at epoch 3.\n",
            "[I 2025-06-05 19:52:10,351] Trial 22 pruned. Trial was pruned at epoch 1.\n",
            "[I 2025-06-05 19:52:15,763] Trial 23 pruned. Trial was pruned at epoch 0.\n",
            "[I 2025-06-05 19:52:24,654] Trial 24 pruned. Trial was pruned at epoch 1.\n",
            "[I 2025-06-05 19:52:30,299] Trial 25 pruned. Trial was pruned at epoch 0.\n",
            "[I 2025-06-05 19:52:35,834] Trial 26 pruned. Trial was pruned at epoch 0.\n",
            "[I 2025-06-05 19:52:41,335] Trial 27 pruned. Trial was pruned at epoch 0.\n",
            "[I 2025-06-05 19:52:45,876] Trial 28 pruned. Trial was pruned at epoch 0.\n",
            "[I 2025-06-05 19:52:49,761] Trial 29 pruned. Trial was pruned at epoch 0.\n",
            "[I 2025-06-05 19:52:53,711] Trial 30 pruned. Trial was pruned at epoch 0.\n",
            "[I 2025-06-05 19:52:58,242] Trial 31 pruned. Trial was pruned at epoch 0.\n",
            "[I 2025-06-05 19:53:02,691] Trial 32 pruned. Trial was pruned at epoch 0.\n",
            "[I 2025-06-05 19:53:07,229] Trial 33 pruned. Trial was pruned at epoch 0.\n",
            "[I 2025-06-05 19:53:11,653] Trial 34 pruned. Trial was pruned at epoch 0.\n",
            "[I 2025-06-05 19:53:16,063] Trial 35 pruned. Trial was pruned at epoch 0.\n",
            "[I 2025-06-05 19:53:20,036] Trial 36 pruned. Trial was pruned at epoch 0.\n",
            "[I 2025-06-05 19:53:26,685] Trial 37 pruned. Trial was pruned at epoch 0.\n",
            "[I 2025-06-05 19:53:32,791] Trial 38 pruned. Trial was pruned at epoch 1.\n",
            "[I 2025-06-05 19:53:38,195] Trial 39 pruned. Trial was pruned at epoch 0.\n",
            "[I 2025-06-05 19:53:42,168] Trial 40 pruned. Trial was pruned at epoch 0.\n",
            "[I 2025-06-05 19:53:46,032] Trial 41 pruned. Trial was pruned at epoch 0.\n",
            "[I 2025-06-05 19:53:49,893] Trial 42 pruned. Trial was pruned at epoch 0.\n",
            "[I 2025-06-05 19:53:53,866] Trial 43 pruned. Trial was pruned at epoch 0.\n",
            "[I 2025-06-05 19:53:57,762] Trial 44 pruned. Trial was pruned at epoch 0.\n",
            "[I 2025-06-05 19:54:03,213] Trial 45 pruned. Trial was pruned at epoch 0.\n",
            "[I 2025-06-05 19:54:07,298] Trial 46 pruned. Trial was pruned at epoch 0.\n",
            "[I 2025-06-05 19:54:11,152] Trial 47 pruned. Trial was pruned at epoch 0.\n",
            "[I 2025-06-05 19:54:19,001] Trial 48 pruned. Trial was pruned at epoch 1.\n",
            "[I 2025-06-05 19:54:23,533] Trial 49 pruned. Trial was pruned at epoch 0.\n"
          ]
        },
        {
          "output_type": "stream",
          "name": "stdout",
          "text": [
            "CPU times: user 5min 45s, sys: 43.7 s, total: 6min 28s\n",
            "Wall time: 5min 29s\n"
          ]
        }
      ]
    },
    {
      "cell_type": "code",
      "source": [
        "print(\"Best hyperparameters:\")\n",
        "print(study.best_params)\n",
        "\n",
        "print(\"Best validation accuracy:\", study.best_value)"
      ],
      "metadata": {
        "colab": {
          "base_uri": "https://localhost:8080/"
        },
        "id": "pVKveAnQKHfJ",
        "outputId": "87c9ebb0-dcc5-4c8a-8741-60ba690953f7"
      },
      "execution_count": null,
      "outputs": [
        {
          "output_type": "stream",
          "name": "stdout",
          "text": [
            "Best hyperparameters:\n",
            "{'lstm_units': 128, 'dense_units': 48, 'dropout_rate': 0.20366919540849138, 'learning_rate': 0.00288434937471376, 'batch_size': 32}\n",
            "Best validation accuracy: 0.5942500233650208\n"
          ]
        }
      ]
    },
    {
      "cell_type": "markdown",
      "source": [
        "\n",
        "\n",
        "> Entrainer le modél final\n",
        "\n"
      ],
      "metadata": {
        "id": "Ndb7xOGgnoaI"
      }
    },
    {
      "cell_type": "code",
      "source": [
        "%%time\n",
        "final_model = build_model(\n",
        "  dropout_rate=study.best_params[\"dropout_rate\"],\n",
        "  dense_units=study.best_params[\"dense_units\"],\n",
        "  lstm_units=study.best_params[\"lstm_units\"]\n",
        ")\n",
        "\n",
        "final_model.compile(\n",
        "  optimizer=keras.optimizers.Adam(learning_rate=study.best_params['learning_rate']),\n",
        "  loss=\"binary_crossentropy\",\n",
        "  metrics=['accuracy', 'auc', 'precision', 'recall']\n",
        ")\n",
        "final_model.summary()"
      ],
      "metadata": {
        "colab": {
          "base_uri": "https://localhost:8080/",
          "height": 319
        },
        "id": "qYBwy6bxnR3c",
        "outputId": "b5554f28-a861-48fb-df89-fa5d8d63925a"
      },
      "execution_count": null,
      "outputs": [
        {
          "output_type": "display_data",
          "data": {
            "text/plain": [
              "\u001b[1mModel: \"sequential_52\"\u001b[0m\n"
            ],
            "text/html": [
              "<pre style=\"white-space:pre;overflow-x:auto;line-height:normal;font-family:Menlo,'DejaVu Sans Mono',consolas,'Courier New',monospace\"><span style=\"font-weight: bold\">Model: \"sequential_52\"</span>\n",
              "</pre>\n"
            ]
          },
          "metadata": {}
        },
        {
          "output_type": "display_data",
          "data": {
            "text/plain": [
              "┏━━━━━━━━━━━━━━━━━━━━━━━━━━━━━━━━━┳━━━━━━━━━━━━━━━━━━━━━━━━┳━━━━━━━━━━━━━━━┓\n",
              "┃\u001b[1m \u001b[0m\u001b[1mLayer (type)                   \u001b[0m\u001b[1m \u001b[0m┃\u001b[1m \u001b[0m\u001b[1mOutput Shape          \u001b[0m\u001b[1m \u001b[0m┃\u001b[1m \u001b[0m\u001b[1m      Param #\u001b[0m\u001b[1m \u001b[0m┃\n",
              "┡━━━━━━━━━━━━━━━━━━━━━━━━━━━━━━━━━╇━━━━━━━━━━━━━━━━━━━━━━━━╇━━━━━━━━━━━━━━━┩\n",
              "│ bidirectional_52                │ (\u001b[38;5;45mNone\u001b[0m, \u001b[38;5;34m256\u001b[0m)            │       \u001b[38;5;34m439,296\u001b[0m │\n",
              "│ (\u001b[38;5;33mBidirectional\u001b[0m)                 │                        │               │\n",
              "├─────────────────────────────────┼────────────────────────┼───────────────┤\n",
              "│ dropout_52 (\u001b[38;5;33mDropout\u001b[0m)            │ (\u001b[38;5;45mNone\u001b[0m, \u001b[38;5;34m256\u001b[0m)            │             \u001b[38;5;34m0\u001b[0m │\n",
              "├─────────────────────────────────┼────────────────────────┼───────────────┤\n",
              "│ dense_104 (\u001b[38;5;33mDense\u001b[0m)               │ (\u001b[38;5;45mNone\u001b[0m, \u001b[38;5;34m48\u001b[0m)             │        \u001b[38;5;34m12,336\u001b[0m │\n",
              "├─────────────────────────────────┼────────────────────────┼───────────────┤\n",
              "│ dense_105 (\u001b[38;5;33mDense\u001b[0m)               │ (\u001b[38;5;45mNone\u001b[0m, \u001b[38;5;34m1\u001b[0m)              │            \u001b[38;5;34m49\u001b[0m │\n",
              "└─────────────────────────────────┴────────────────────────┴───────────────┘\n"
            ],
            "text/html": [
              "<pre style=\"white-space:pre;overflow-x:auto;line-height:normal;font-family:Menlo,'DejaVu Sans Mono',consolas,'Courier New',monospace\">┏━━━━━━━━━━━━━━━━━━━━━━━━━━━━━━━━━┳━━━━━━━━━━━━━━━━━━━━━━━━┳━━━━━━━━━━━━━━━┓\n",
              "┃<span style=\"font-weight: bold\"> Layer (type)                    </span>┃<span style=\"font-weight: bold\"> Output Shape           </span>┃<span style=\"font-weight: bold\">       Param # </span>┃\n",
              "┡━━━━━━━━━━━━━━━━━━━━━━━━━━━━━━━━━╇━━━━━━━━━━━━━━━━━━━━━━━━╇━━━━━━━━━━━━━━━┩\n",
              "│ bidirectional_52                │ (<span style=\"color: #00d7ff; text-decoration-color: #00d7ff\">None</span>, <span style=\"color: #00af00; text-decoration-color: #00af00\">256</span>)            │       <span style=\"color: #00af00; text-decoration-color: #00af00\">439,296</span> │\n",
              "│ (<span style=\"color: #0087ff; text-decoration-color: #0087ff\">Bidirectional</span>)                 │                        │               │\n",
              "├─────────────────────────────────┼────────────────────────┼───────────────┤\n",
              "│ dropout_52 (<span style=\"color: #0087ff; text-decoration-color: #0087ff\">Dropout</span>)            │ (<span style=\"color: #00d7ff; text-decoration-color: #00d7ff\">None</span>, <span style=\"color: #00af00; text-decoration-color: #00af00\">256</span>)            │             <span style=\"color: #00af00; text-decoration-color: #00af00\">0</span> │\n",
              "├─────────────────────────────────┼────────────────────────┼───────────────┤\n",
              "│ dense_104 (<span style=\"color: #0087ff; text-decoration-color: #0087ff\">Dense</span>)               │ (<span style=\"color: #00d7ff; text-decoration-color: #00d7ff\">None</span>, <span style=\"color: #00af00; text-decoration-color: #00af00\">48</span>)             │        <span style=\"color: #00af00; text-decoration-color: #00af00\">12,336</span> │\n",
              "├─────────────────────────────────┼────────────────────────┼───────────────┤\n",
              "│ dense_105 (<span style=\"color: #0087ff; text-decoration-color: #0087ff\">Dense</span>)               │ (<span style=\"color: #00d7ff; text-decoration-color: #00d7ff\">None</span>, <span style=\"color: #00af00; text-decoration-color: #00af00\">1</span>)              │            <span style=\"color: #00af00; text-decoration-color: #00af00\">49</span> │\n",
              "└─────────────────────────────────┴────────────────────────┴───────────────┘\n",
              "</pre>\n"
            ]
          },
          "metadata": {}
        },
        {
          "output_type": "display_data",
          "data": {
            "text/plain": [
              "\u001b[1m Total params: \u001b[0m\u001b[38;5;34m451,681\u001b[0m (1.72 MB)\n"
            ],
            "text/html": [
              "<pre style=\"white-space:pre;overflow-x:auto;line-height:normal;font-family:Menlo,'DejaVu Sans Mono',consolas,'Courier New',monospace\"><span style=\"font-weight: bold\"> Total params: </span><span style=\"color: #00af00; text-decoration-color: #00af00\">451,681</span> (1.72 MB)\n",
              "</pre>\n"
            ]
          },
          "metadata": {}
        },
        {
          "output_type": "display_data",
          "data": {
            "text/plain": [
              "\u001b[1m Trainable params: \u001b[0m\u001b[38;5;34m451,681\u001b[0m (1.72 MB)\n"
            ],
            "text/html": [
              "<pre style=\"white-space:pre;overflow-x:auto;line-height:normal;font-family:Menlo,'DejaVu Sans Mono',consolas,'Courier New',monospace\"><span style=\"font-weight: bold\"> Trainable params: </span><span style=\"color: #00af00; text-decoration-color: #00af00\">451,681</span> (1.72 MB)\n",
              "</pre>\n"
            ]
          },
          "metadata": {}
        },
        {
          "output_type": "display_data",
          "data": {
            "text/plain": [
              "\u001b[1m Non-trainable params: \u001b[0m\u001b[38;5;34m0\u001b[0m (0.00 B)\n"
            ],
            "text/html": [
              "<pre style=\"white-space:pre;overflow-x:auto;line-height:normal;font-family:Menlo,'DejaVu Sans Mono',consolas,'Courier New',monospace\"><span style=\"font-weight: bold\"> Non-trainable params: </span><span style=\"color: #00af00; text-decoration-color: #00af00\">0</span> (0.00 B)\n",
              "</pre>\n"
            ]
          },
          "metadata": {}
        },
        {
          "output_type": "stream",
          "name": "stdout",
          "text": [
            "CPU times: user 86.6 ms, sys: 22.9 ms, total: 110 ms\n",
            "Wall time: 107 ms\n"
          ]
        }
      ]
    },
    {
      "cell_type": "code",
      "source": [
        "%%time\n",
        "y_preds_prob = None\n",
        "y_preds = None\n",
        "mlflow.set_experiment(\"fasttext-lstm-advanced-model\")\n",
        "with mlflow.start_run():\n",
        "  history = final_model.fit(\n",
        "      train_ft_set, y_train_ft,\n",
        "      validation_data=(val_ft_set, y_valid_ft),\n",
        "      epochs=30,\n",
        "      batch_size=study.best_params[\"batch_size\"],\n",
        "      callbacks=[\n",
        "          keras.callbacks.EarlyStopping(patience=3, restore_best_weights=True),\n",
        "      ]\n",
        "  )\n",
        "  y_preds_prob = final_model.predict(test_ft_set)\n",
        "  y_preds = np.where(y_preds_prob > 0.5, 1, 0)\n",
        "\n",
        "  mlflow.log_params(study.best_params)\n",
        "  mlflow.log_metric(\"accuracy\", accuracy_score(y_test_ft, y_preds))\n",
        "  mlflow.log_metric(\"loss\", mean_squared_error(y_test_ft, y_preds))\n",
        "  mlflow.log_metric(\"precision\", precision_score(y_test_ft, y_preds))\n",
        "  mlflow.log_metric(\"recall\", recall_score(y_test_ft, y_preds))\n",
        "  mlflow.log_metric(\"auc\", roc_auc_score(y_test_ft, y_preds))\n",
        "\n",
        "  example = test_ft_set.take(1)\n",
        "  signature = infer_signature(train_ft_set, y_train_ft)\n",
        "\n",
        "  mlflow.tensorflow.log_model(\n",
        "      model=final_model,\n",
        "      signature=signature,\n",
        "      artifact_path=\"model-artifact\",\n",
        "      registered_model_name=\"ft_lstm_advanced_model\"\n",
        "  )"
      ],
      "metadata": {
        "colab": {
          "base_uri": "https://localhost:8080/"
        },
        "id": "ghiwaSGNvaCg",
        "outputId": "e900bf87-8814-4afc-ffe0-59c5a73fa2f8"
      },
      "execution_count": 83,
      "outputs": [
        {
          "output_type": "stream",
          "name": "stdout",
          "text": [
            "Epoch 1/30\n",
            "\u001b[1m375/375\u001b[0m \u001b[32m━━━━━━━━━━━━━━━━━━━━\u001b[0m\u001b[37m\u001b[0m \u001b[1m3s\u001b[0m 8ms/step - accuracy: 0.6224 - auc: 0.6655 - loss: 0.6463 - precision: 0.6020 - recall: 0.6953 - val_accuracy: 0.5832 - val_auc: 0.6117 - val_loss: 0.6718 - val_precision: 0.5699 - val_recall: 0.6790\n",
            "Epoch 2/30\n",
            "\u001b[1m375/375\u001b[0m \u001b[32m━━━━━━━━━━━━━━━━━━━━\u001b[0m\u001b[37m\u001b[0m \u001b[1m3s\u001b[0m 8ms/step - accuracy: 0.6176 - auc: 0.6697 - loss: 0.6410 - precision: 0.5927 - recall: 0.7244 - val_accuracy: 0.5913 - val_auc: 0.6146 - val_loss: 0.6685 - val_precision: 0.5764 - val_recall: 0.6885\n",
            "Epoch 3/30\n",
            "\u001b[1m375/375\u001b[0m \u001b[32m━━━━━━━━━━━━━━━━━━━━\u001b[0m\u001b[37m\u001b[0m \u001b[1m3s\u001b[0m 8ms/step - accuracy: 0.6387 - auc: 0.6867 - loss: 0.6308 - precision: 0.6164 - recall: 0.7321 - val_accuracy: 0.5822 - val_auc: 0.6138 - val_loss: 0.6752 - val_precision: 0.5618 - val_recall: 0.7475\n",
            "Epoch 4/30\n",
            "\u001b[1m375/375\u001b[0m \u001b[32m━━━━━━━━━━━━━━━━━━━━\u001b[0m\u001b[37m\u001b[0m \u001b[1m3s\u001b[0m 8ms/step - accuracy: 0.6364 - auc: 0.6937 - loss: 0.6238 - precision: 0.6122 - recall: 0.7323 - val_accuracy: 0.5893 - val_auc: 0.6174 - val_loss: 0.6817 - val_precision: 0.5752 - val_recall: 0.6830\n",
            "Epoch 5/30\n",
            "\u001b[1m375/375\u001b[0m \u001b[32m━━━━━━━━━━━━━━━━━━━━\u001b[0m\u001b[37m\u001b[0m \u001b[1m3s\u001b[0m 8ms/step - accuracy: 0.6441 - auc: 0.7002 - loss: 0.6177 - precision: 0.6193 - recall: 0.7483 - val_accuracy: 0.5897 - val_auc: 0.6215 - val_loss: 0.6826 - val_precision: 0.5823 - val_recall: 0.6350\n",
            "\u001b[1m125/125\u001b[0m \u001b[32m━━━━━━━━━━━━━━━━━━━━\u001b[0m\u001b[37m\u001b[0m \u001b[1m0s\u001b[0m 2ms/step\n"
          ]
        },
        {
          "output_type": "stream",
          "name": "stderr",
          "text": [
            "Registered model 'ft_lstm_advanced_model' already exists. Creating a new version of this model...\n",
            "2025/06/05 21:43:54 INFO mlflow.store.model_registry.abstract_store: Waiting up to 300 seconds for model version to finish creation. Model name: ft_lstm_advanced_model, version 2\n",
            "Created version '2' of model 'ft_lstm_advanced_model'.\n"
          ]
        },
        {
          "output_type": "stream",
          "name": "stdout",
          "text": [
            "🏃 View run puzzled-mole-10 at: https://mlflow.amadousy.dev/#/experiments/24/runs/fc9d04c5deb04f98a68b9008a04c17a1\n",
            "🧪 View experiment at: https://mlflow.amadousy.dev/#/experiments/24\n",
            "CPU times: user 19.2 s, sys: 1.7 s, total: 20.9 s\n",
            "Wall time: 31.5 s\n"
          ]
        }
      ]
    },
    {
      "cell_type": "code",
      "source": [
        "size = os.path.getsize(os.path.join(model_dir)) / 1e6\n",
        "print(f\"📦 Model size: {size:.2f} MB\")"
      ],
      "metadata": {
        "id": "K0aI-9zRIjSP",
        "outputId": "0234156b-7c13-40be-d41a-315e36678a87",
        "colab": {
          "base_uri": "https://localhost:8080/"
        }
      },
      "execution_count": null,
      "outputs": [
        {
          "output_type": "stream",
          "name": "stdout",
          "text": [
            "📦 Model size: 5.46 MB\n"
          ]
        }
      ]
    },
    {
      "cell_type": "code",
      "source": [
        "from sklearn.metrics import ConfusionMatrixDisplay, classification_report\n",
        "print(classification_report(y_test_ft, y_preds))"
      ],
      "metadata": {
        "colab": {
          "base_uri": "https://localhost:8080/"
        },
        "id": "3XgG70bQv5I6",
        "outputId": "566dd2db-8174-4d15-f3c9-d07f98c7352a"
      },
      "execution_count": null,
      "outputs": [
        {
          "output_type": "stream",
          "name": "stdout",
          "text": [
            "              precision    recall  f1-score   support\n",
            "\n",
            "           0       0.62      0.37      0.46      2000\n",
            "           1       0.55      0.78      0.65      2000\n",
            "\n",
            "    accuracy                           0.57      4000\n",
            "   macro avg       0.59      0.57      0.55      4000\n",
            "weighted avg       0.59      0.57      0.55      4000\n",
            "\n"
          ]
        }
      ]
    },
    {
      "cell_type": "code",
      "source": [
        "ConfusionMatrixDisplay.from_predictions(y_pred=y_preds, y_true=y_test_ft)\n",
        "plt.show()"
      ],
      "metadata": {
        "colab": {
          "base_uri": "https://localhost:8080/",
          "height": 449
        },
        "id": "tGF8zjLpw2wp",
        "outputId": "24b440d9-e9f8-4f2b-b2c3-a38824dac6bc"
      },
      "execution_count": null,
      "outputs": [
        {
          "output_type": "display_data",
          "data": {
            "text/plain": [
              "<Figure size 640x480 with 2 Axes>"
            ],
            "image/png": "[encoded data removed]"
          },
          "metadata": {}
        }
      ]
    },
    {
      "cell_type": "markdown",
      "source": [
        "# BERT - COMPLEMENT"
      ],
      "metadata": {
        "id": "twNMa2bwyWSr"
      }
    },
    {
      "cell_type": "code",
      "source": [
        "%%time\n",
        "embeddings_bert = np.load(os.path.join(path, \"embeddings_bert.npy\"))\n",
        "labels = np.load(os.path.join(path, \"bert_labels.npy\"))"
      ],
      "metadata": {
        "id": "sWs-xQq9yeyB",
        "outputId": "303591cb-627a-484c-b5e6-0d41479b0dc5",
        "colab": {
          "base_uri": "https://localhost:8080/"
        }
      },
      "execution_count": null,
      "outputs": [
        {
          "output_type": "stream",
          "name": "stdout",
          "text": [
            "CPU times: user 25 ms, sys: 92.8 ms, total: 118 ms\n",
            "Wall time: 1.17 s\n"
          ]
        }
      ]
    },
    {
      "cell_type": "code",
      "source": [
        "print(embeddings_bert.shape)\n",
        "print(labels.shape)"
      ],
      "metadata": {
        "id": "nvqhwafayqAa",
        "outputId": "78d3aa71-e7c9-4aee-97f2-bb0918290af6",
        "colab": {
          "base_uri": "https://localhost:8080/"
        }
      },
      "execution_count": null,
      "outputs": [
        {
          "output_type": "stream",
          "name": "stdout",
          "text": [
            "(10000, 768)\n",
            "(10000,)\n"
          ]
        }
      ]
    },
    {
      "cell_type": "markdown",
      "source": [
        "\n",
        "\n",
        "> Split sets\n",
        "\n"
      ],
      "metadata": {
        "id": "nBQLSeNdzIhE"
      }
    },
    {
      "cell_type": "code",
      "source": [
        "x_train, x_valid, x_test, y_train, y_valid, y_test = split_train_val_test(embeddings_bert, labels)"
      ],
      "metadata": {
        "id": "0QPfaWG9zQWM"
      },
      "execution_count": null,
      "outputs": []
    },
    {
      "cell_type": "code",
      "source": [
        "print(\"Train Set :\", x_train.shape)\n",
        "print(\"Validation Set :\", x_valid.shape)\n",
        "print(\"Test Set :\", x_test.shape)"
      ],
      "metadata": {
        "id": "s00MOsV4zii3",
        "outputId": "b9002b0f-dfdb-4e60-c983-76f9bc95df55",
        "colab": {
          "base_uri": "https://localhost:8080/"
        }
      },
      "execution_count": null,
      "outputs": [
        {
          "output_type": "stream",
          "name": "stdout",
          "text": [
            "Train Set : (6000, 768)\n",
            "Validation Set : (2000, 768)\n",
            "Test Set : (2000, 768)\n"
          ]
        }
      ]
    },
    {
      "cell_type": "code",
      "source": [
        "def build_model_bert(dropout_rate=0.5, dense_units=32):\n",
        "  model = Sequential()\n",
        "  model.add(Input(shape=(768,)))\n",
        "  model.add(Dense(128, activation='relu')),\n",
        "  model.add(Dropout(dropout_rate))\n",
        "  model.add(Dense(dense_units, activation='relu'))\n",
        "  model.add(Dense(1, activation='sigmoid'))\n",
        "\n",
        "  model.compile(loss='binary_crossentropy', optimizer='adam', metrics=['accuracy', 'auc', 'precision', 'recall'])\n",
        "  return model"
      ],
      "metadata": {
        "id": "PGfiuiTSytU9"
      },
      "execution_count": null,
      "outputs": []
    },
    {
      "cell_type": "markdown",
      "source": [
        "> Build and train"
      ],
      "metadata": {
        "id": "mLHf99kEz9cw"
      }
    },
    {
      "cell_type": "code",
      "source": [
        "%%time\n",
        "mlflow.set_experiment(\"bert-model\")\n",
        "bert_model = build_model_bert()\n",
        "\n",
        "with mlflow.start_run():\n",
        "  history = bert_model.fit(\n",
        "      x=x_train,\n",
        "      y=y_train,\n",
        "      epochs=30,\n",
        "      batch_size=32,\n",
        "      validation_data=(x_valid, y_valid),\n",
        "      callbacks=[\n",
        "          tf.keras.callbacks.EarlyStopping(monitor='val_loss', patience=3, restore_best_weights=True)\n",
        "      ]\n",
        "  )\n",
        "  y_preds_prob = bert_model.predict(x_test)\n",
        "  y_preds = np.where(y_preds_prob > 0.5, 1, 0)\n",
        "\n",
        "  mlflow.log_params(study.best_params)\n",
        "  mlflow.log_metric(\"accuracy\", accuracy_score(y_test, y_preds))\n",
        "  mlflow.log_metric(\"loss\", mean_squared_error(y_test, y_preds))\n",
        "  mlflow.log_metric(\"precision\", precision_score(y_test, y_preds))\n",
        "  mlflow.log_metric(\"recall\", recall_score(y_test, y_preds))\n",
        "  mlflow.log_metric(\"auc\", roc_auc_score(y_test, y_preds))\n",
        "\n",
        "  example = x_test.take(1)\n",
        "  signature = infer_signature(x_train, y_train)\n",
        "\n",
        "  model_dir = \"bert_model.keras\"\n",
        "  #bert_model.save(model_dir, include_optimizer=False)\n",
        "  #mlflow.log_artifact(model_dir, artifact_path=\"model-artifact\")\n",
        "  #mlflow.log_param(\"model_format\", \"Keras 3 native\")\n",
        "\n",
        "\n",
        "  mlflow.tensorflow.log_model(\n",
        "      model=bert_model,\n",
        "      signature=signature,\n",
        "      artifact_path=\"model-artifact\",\n",
        "      registered_model_name=\"ft_lstm_advanced_model\"\n",
        "  )\n",
        ""
      ],
      "metadata": {
        "id": "muftg3BQzzAu",
        "outputId": "0bc2c895-7981-43bb-973e-ba4b2978c851",
        "colab": {
          "base_uri": "https://localhost:8080/"
        }
      },
      "execution_count": 82,
      "outputs": [
        {
          "output_type": "stream",
          "name": "stdout",
          "text": [
            "Epoch 1/30\n",
            "\u001b[1m188/188\u001b[0m \u001b[32m━━━━━━━━━━━━━━━━━━━━\u001b[0m\u001b[37m\u001b[0m \u001b[1m6s\u001b[0m 15ms/step - accuracy: 0.5293 - auc: 0.5430 - loss: 0.7070 - precision: 0.5274 - recall: 0.4947 - val_accuracy: 0.6440 - val_auc: 0.6969 - val_loss: 0.6358 - val_precision: 0.6509 - val_recall: 0.6210\n",
            "Epoch 2/30\n",
            "\u001b[1m188/188\u001b[0m \u001b[32m━━━━━━━━━━━━━━━━━━━━\u001b[0m\u001b[37m\u001b[0m \u001b[1m1s\u001b[0m 4ms/step - accuracy: 0.6094 - auc: 0.6567 - loss: 0.6531 - precision: 0.6098 - recall: 0.6181 - val_accuracy: 0.6505 - val_auc: 0.7143 - val_loss: 0.6199 - val_precision: 0.6685 - val_recall: 0.5970\n",
            "Epoch 3/30\n",
            "\u001b[1m188/188\u001b[0m \u001b[32m━━━━━━━━━━━━━━━━━━━━\u001b[0m\u001b[37m\u001b[0m \u001b[1m1s\u001b[0m 4ms/step - accuracy: 0.6278 - auc: 0.6818 - loss: 0.6403 - precision: 0.6257 - recall: 0.6560 - val_accuracy: 0.6480 - val_auc: 0.7244 - val_loss: 0.6117 - val_precision: 0.6471 - val_recall: 0.6510\n",
            "Epoch 4/30\n",
            "\u001b[1m188/188\u001b[0m \u001b[32m━━━━━━━━━━━━━━━━━━━━\u001b[0m\u001b[37m\u001b[0m \u001b[1m1s\u001b[0m 4ms/step - accuracy: 0.6372 - auc: 0.6846 - loss: 0.6371 - precision: 0.6379 - recall: 0.6621 - val_accuracy: 0.6495 - val_auc: 0.7328 - val_loss: 0.6096 - val_precision: 0.6247 - val_recall: 0.7490\n",
            "Epoch 5/30\n",
            "\u001b[1m188/188\u001b[0m \u001b[32m━━━━━━━━━━━━━━━━━━━━\u001b[0m\u001b[37m\u001b[0m \u001b[1m1s\u001b[0m 4ms/step - accuracy: 0.6516 - auc: 0.7159 - loss: 0.6142 - precision: 0.6396 - recall: 0.6896 - val_accuracy: 0.6560 - val_auc: 0.7306 - val_loss: 0.6062 - val_precision: 0.6503 - val_recall: 0.6750\n",
            "Epoch 6/30\n",
            "\u001b[1m188/188\u001b[0m \u001b[32m━━━━━━━━━━━━━━━━━━━━\u001b[0m\u001b[37m\u001b[0m \u001b[1m1s\u001b[0m 4ms/step - accuracy: 0.6436 - auc: 0.7092 - loss: 0.6210 - precision: 0.6478 - recall: 0.6575 - val_accuracy: 0.6690 - val_auc: 0.7377 - val_loss: 0.5991 - val_precision: 0.6732 - val_recall: 0.6570\n",
            "Epoch 7/30\n",
            "\u001b[1m188/188\u001b[0m \u001b[32m━━━━━━━━━━━━━━━━━━━━\u001b[0m\u001b[37m\u001b[0m \u001b[1m1s\u001b[0m 4ms/step - accuracy: 0.6526 - auc: 0.7198 - loss: 0.6110 - precision: 0.6407 - recall: 0.6622 - val_accuracy: 0.6535 - val_auc: 0.7327 - val_loss: 0.6029 - val_precision: 0.6362 - val_recall: 0.7170\n",
            "Epoch 8/30\n",
            "\u001b[1m188/188\u001b[0m \u001b[32m━━━━━━━━━━━━━━━━━━━━\u001b[0m\u001b[37m\u001b[0m \u001b[1m1s\u001b[0m 4ms/step - accuracy: 0.6516 - auc: 0.7190 - loss: 0.6108 - precision: 0.6415 - recall: 0.7012 - val_accuracy: 0.6545 - val_auc: 0.7389 - val_loss: 0.6020 - val_precision: 0.6286 - val_recall: 0.7550\n",
            "Epoch 9/30\n",
            "\u001b[1m188/188\u001b[0m \u001b[32m━━━━━━━━━━━━━━━━━━━━\u001b[0m\u001b[37m\u001b[0m \u001b[1m1s\u001b[0m 4ms/step - accuracy: 0.6703 - auc: 0.7318 - loss: 0.6030 - precision: 0.6705 - recall: 0.7038 - val_accuracy: 0.6680 - val_auc: 0.7398 - val_loss: 0.6006 - val_precision: 0.6683 - val_recall: 0.6670\n",
            "\u001b[1m63/63\u001b[0m \u001b[32m━━━━━━━━━━━━━━━━━━━━\u001b[0m\u001b[37m\u001b[0m \u001b[1m0s\u001b[0m 3ms/step\n"
          ]
        },
        {
          "output_type": "stream",
          "name": "stderr",
          "text": [
            "Successfully registered model 'ft_lstm_advanced_model'.\n",
            "2025/06/05 21:41:30 INFO mlflow.store.model_registry.abstract_store: Waiting up to 300 seconds for model version to finish creation. Model name: ft_lstm_advanced_model, version 1\n",
            "Created version '1' of model 'ft_lstm_advanced_model'.\n"
          ]
        },
        {
          "output_type": "stream",
          "name": "stdout",
          "text": [
            "🏃 View run sassy-gnu-112 at: https://mlflow.amadousy.dev/#/experiments/25/runs/1420e0f85e33433f87fccfc35f5e448b\n",
            "🧪 View experiment at: https://mlflow.amadousy.dev/#/experiments/25\n",
            "CPU times: user 13.7 s, sys: 1.18 s, total: 14.9 s\n",
            "Wall time: 28.9 s\n"
          ]
        }
      ]
    },
    {
      "cell_type": "code",
      "source": [
        "fig = plt.figure(figsize=(16, 6))\n",
        "\n",
        "fig.add_subplot(1, 4, 1)\n",
        "plt.plot(history.history['loss'], label='Train Loss')\n",
        "plt.plot(history.history['val_loss'], label='Val Loss')\n",
        "plt.title('Loss')\n",
        "plt.legend()\n",
        "\n",
        "fig.add_subplot(1, 4, 2)\n",
        "plt.plot(history.history['accuracy'], label='Train Acc')\n",
        "plt.plot(history.history['val_accuracy'], label='Val Acc')\n",
        "plt.title('Accuracy')\n",
        "plt.legend()\n",
        "\n",
        "fig.add_subplot(1, 4, 3)\n",
        "plt.plot(history.history['precision'], label='Train Precision')\n",
        "plt.plot(history.history['val_precision'], label='Val Precision')\n",
        "plt.title('Precision')\n",
        "plt.legend()\n",
        "\n",
        "fig.add_subplot(1, 4, 4)\n",
        "plt.plot(history.history['auc'], label='Train Auc')\n",
        "plt.plot(history.history['val_auc'], label='Val Auc')\n",
        "plt.title('AUC')\n",
        "plt.legend()\n",
        "\n",
        "plt.suptitle(\"BERT\")\n",
        "plt.show()"
      ],
      "metadata": {
        "id": "fWtnkexs1XkQ",
        "outputId": "d60a1bd2-4bf9-4882-e196-36a928f628db",
        "colab": {
          "base_uri": "https://localhost:8080/",
          "height": 582
        }
      },
      "execution_count": null,
      "outputs": [
        {
          "output_type": "display_data",
          "data": {
            "text/plain": [
              "<Figure size 1600x600 with 4 Axes>"
            ],
            "image/png": "[encoded data removed]"
          },
          "metadata": {}
        }
      ]
    },
    {
      "cell_type": "code",
      "source": [
        "print(classification_report(y_test, y_preds))"
      ],
      "metadata": {
        "id": "g1foRHKH2Mk-",
        "outputId": "918f393f-e709-45b7-dee3-f1f3526612d7",
        "colab": {
          "base_uri": "https://localhost:8080/"
        }
      },
      "execution_count": 81,
      "outputs": [
        {
          "output_type": "stream",
          "name": "stdout",
          "text": [
            "              precision    recall  f1-score   support\n",
            "\n",
            "           0       0.69      0.61      0.65      1000\n",
            "           1       0.65      0.72      0.69      1000\n",
            "\n",
            "    accuracy                           0.67      2000\n",
            "   macro avg       0.67      0.67      0.67      2000\n",
            "weighted avg       0.67      0.67      0.67      2000\n",
            "\n"
          ]
        }
      ]
    },
    {
      "cell_type": "code",
      "source": [
        "ConfusionMatrixDisplay.from_predictions(y_pred=y_preds, y_true=y_test)\n",
        "plt.show()"
      ],
      "metadata": {
        "id": "CUc8jT6C2Qh7",
        "outputId": "431330b8-c5a6-412a-ef44-818374982bc8",
        "colab": {
          "base_uri": "https://localhost:8080/",
          "height": 449
        }
      },
      "execution_count": null,
      "outputs": [
        {
          "output_type": "display_data",
          "data": {
            "text/plain": [
              "<Figure size 640x480 with 2 Axes>"
            ],
            "image/png": "[encoded data removed]"
          },
          "metadata": {}
        }
      ]
    },
    {
      "cell_type": "markdown",
      "source": [
        "Les résultats obtenus avec le modèle BERT sont prometteurs. On observe une progression régulière de la performance en apprentissage, avec une précision, une AUC et une loss en validation qui restent globalement stables malgré quelques fluctuations. Ce comportement témoigne d'une bonne généralisation et d'une capacité du modèle à capter efficacement les nuances sémantiques des tweets.\n",
        "\n",
        "Compte tenu de la nature du problème — analyse de sentiments sur des textes courts et bruités — BERT apparaît comme une solution bien adaptée. Sa capacité à intégrer le contexte lexical rend ce modèle particulièrement pertinent pour les tweets, où le sens peut varier fortement selon l'ordre ou les associations de mots.\n",
        "\n",
        "Investir davantage de temps et de ressources dans le fine-tuning de ce modèle (avec ajustement de seuil, validation croisée, optimisation des hyperparamètres ou intégration dans un pipeline de production) serait hautement justifié pour améliorer la robustesse du système global."
      ],
      "metadata": {
        "id": "KVNpqso_2Dsl"
      }
    },
    {
      "cell_type": "code",
      "source": [
        "end_time = time.time()\n",
        "print(f\"Execution time={end_time-init_time} seconds\")"
      ],
      "metadata": {
        "id": "IHQvg2GB2vC8",
        "outputId": "0fd886c6-bb65-4c79-a0e6-db384c863f18",
        "colab": {
          "base_uri": "https://localhost:8080/"
        }
      },
      "execution_count": null,
      "outputs": [
        {
          "output_type": "stream",
          "name": "stdout",
          "text": [
            "Execution time=1633.1945235729218 seconds\n"
          ]
        }
      ]
    },
    {
      "cell_type": "markdown",
      "source": [
        "#FIN"
      ],
      "metadata": {
        "id": "uvm_i9V62wXW"
      }
    }
  ],
  "metadata": {
    "kernelspec": {
      "display_name": "Python 3",
      "name": "python3"
    },
    "language_info": {
      "codemirror_mode": {
        "name": "ipython",
        "version": 3
      },
      "file_extension": ".py",
      "mimetype": "text/x-python",
      "name": "python",
      "nbconvert_exporter": "python",
      "pygments_lexer": "ipython3",
      "version": "3.13.2"
    },
    "papermill": {
      "duration": 500.435762,
      "end_time": "2020-08-26T21:07:20.093709",
      "environment_variables": {},
      "exception": null,
      "input_path": "__notebook__.ipynb",
      "output_path": "__notebook__.ipynb",
      "parameters": {},
      "start_time": "2020-08-26T20:58:59.657947",
      "version": "2.1.0"
    },
    "colab": {
      "provenance": [],
      "machine_shape": "hm",
      "gpuType": "T4",
      "toc_visible": true,
      "include_colab_link": true
    },
    "accelerator": "GPU"
  },
  "nbformat": 4,
  "nbformat_minor": 0
}