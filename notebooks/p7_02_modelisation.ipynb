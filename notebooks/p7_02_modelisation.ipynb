{
  "cells": [
    {
      "cell_type": "markdown",
      "metadata": {
        "id": "view-in-github",
        "colab_type": "text"
      },
      "source": [
        "<a href=\"https://colab.research.google.com/github/amadousysada/Sentiment-Analysis/blob/main/notebooks/p7_02_modelisation.ipynb\" target=\"_parent\"><img src=\"https://colab.research.google.com/assets/colab-badge.svg\" alt=\"Open In Colab\"/></a>"
      ]
    },
    {
      "cell_type": "markdown",
      "source": [
        "# Import des librairies"
      ],
      "metadata": {
        "id": "hwecoVR_24PI"
      }
    },
    {
      "cell_type": "code",
      "execution_count": 9,
      "metadata": {
        "execution": {
          "iopub.execute_input": "2020-08-26T20:59:06.289122Z",
          "iopub.status.busy": "2020-08-26T20:59:06.288192Z",
          "iopub.status.idle": "2020-08-26T20:59:08.802804Z",
          "shell.execute_reply": "2020-08-26T20:59:08.802075Z"
        },
        "papermill": {
          "duration": 2.557066,
          "end_time": "2020-08-26T20:59:08.802938",
          "exception": false,
          "start_time": "2020-08-26T20:59:06.245872",
          "status": "completed"
        },
        "scrolled": true,
        "tags": [],
        "colab": {
          "base_uri": "https://localhost:8080/"
        },
        "id": "4DO_uFhC0Qsr",
        "outputId": "24f06737-824a-41e3-f20a-cb74880497e4"
      },
      "outputs": [
        {
          "output_type": "stream",
          "name": "stdout",
          "text": [
            "Python version: 3.11.12 (main, Apr  9 2025, 08:55:54) [GCC 11.4.0]\n",
            "Version info.: sys.version_info(major=3, minor=11, micro=12, releaselevel='final', serial=0)\n",
            "pandas version: 2.2.2\n",
            "numpy version: 1.26.4\n",
            "skearn version: 1.6.1\n",
            "tensorflow version: 2.18.0\n",
            "tensorflow_text version: 2.18.1\n",
            "CPU times: user 26.1 ms, sys: 2.45 ms, total: 28.6 ms\n",
            "Wall time: 4.52 s\n"
          ]
        }
      ],
      "source": [
        "%%time\n",
        "import time\n",
        "init_time = time.time()\n",
        "\n",
        "import os\n",
        "import sys\n",
        "import warnings\n",
        "warnings.filterwarnings(\"ignore\", category=FutureWarning)\n",
        "\n",
        "if not sys.warnoptions:\n",
        "    warnings.simplefilter(\"ignore\")\n",
        "\n",
        "# Installation du package gensim\n",
        "!pip install --no-cache-dir -q gensim\n",
        "import gensim\n",
        "from gensim.models import Word2Vec\n",
        "\n",
        "import numpy as np\n",
        "import pandas as pd\n",
        "import sklearn\n",
        "\n",
        "from matplotlib import pyplot as plt\n",
        "from matplotlib.gridspec import GridSpec\n",
        "\n",
        "\n",
        "import seaborn as sns\n",
        "\n",
        "# Tensorflow\n",
        "import tensorflow as tf\n",
        "import tensorflow_text as text\n",
        "\n",
        "#Scikit-learn\n",
        "from sklearn.linear_model import LogisticRegression, RidgeClassifier\n",
        "from sklearn.model_selection import cross_val_score, train_test_split, StratifiedKFold\n",
        "from sklearn.metrics import accuracy_score, f1_score, roc_auc_score, recall_score, precision_score, mean_squared_error\n",
        "from sklearn.calibration import CalibrationDisplay\n",
        "from sklearn.ensemble import RandomForestClassifier\n",
        "\n",
        "# Modèles de Boosting\n",
        "from xgboost import XGBClassifier\n",
        "from lightgbm import LGBMClassifier\n",
        "\n",
        "# MLFLOW\n",
        "!pip install mlflow -q\n",
        "import mlflow\n",
        "import mlflow.sklearn\n",
        "from mlflow.models import infer_signature\n",
        "\n",
        "print(\"Python version:\", sys.version)\n",
        "print(\"Version info.:\", sys.version_info)\n",
        "print(\"pandas version:\", pd.__version__)\n",
        "print(\"numpy version:\", np.__version__)\n",
        "print(\"skearn version:\", sklearn.__version__)\n",
        "#print(\"nltk version:\", nltk.__version__)\n",
        "print(\"tensorflow version:\", tf.__version__)\n",
        "print(\"tensorflow_text version:\", text.__version__)"
      ]
    },
    {
      "cell_type": "code",
      "source": [],
      "metadata": {
        "id": "NiheTsdAfadx"
      },
      "execution_count": 2,
      "outputs": []
    },
    {
      "cell_type": "code",
      "source": [
        "MLFLOW_TRACKING_URI = \"https://mlflow.amadousy.dev\"\n",
        "mlflow.set_tracking_uri(MLFLOW_TRACKING_URI)"
      ],
      "metadata": {
        "id": "5EJBMWGMfH48"
      },
      "execution_count": 2,
      "outputs": []
    },
    {
      "cell_type": "markdown",
      "metadata": {
        "papermill": {
          "duration": 0.02595,
          "end_time": "2020-08-26T20:59:08.856139",
          "exception": false,
          "start_time": "2020-08-26T20:59:08.830189",
          "status": "completed"
        },
        "tags": [],
        "id": "0yR7Xntu0Qss"
      },
      "source": [
        "# Chargement des données"
      ]
    },
    {
      "cell_type": "code",
      "source": [
        "path = \"/content/drive/MyDrive/data/sentiments\"\n",
        "#path = \"./data/sentiments\""
      ],
      "metadata": {
        "id": "R-voC08WLnhy"
      },
      "execution_count": 3,
      "outputs": []
    },
    {
      "cell_type": "code",
      "source": [
        "for name in [\"tweets_df_tfidf_1gram\", \"embeddings_bert\", \"embeddings_fasttext\", \"embeddings_word2vec\"]:\n",
        "    size = os.path.getsize(os.path.join(path, f\"{name}.npy\")) / 1e6\n",
        "    print(f\"{name}: {size:.2f} MB\")"
      ],
      "metadata": {
        "colab": {
          "base_uri": "https://localhost:8080/",
          "height": 221
        },
        "id": "X8mLJj6lu2HA",
        "outputId": "a75abcb2-add3-4eb0-c136-a43a5dc0b6cb"
      },
      "execution_count": 4,
      "outputs": [
        {
          "output_type": "error",
          "ename": "FileNotFoundError",
          "evalue": "[Errno 2] No such file or directory: '/content/drive/MyDrive/data/sentiments/tweets_df_tfidf_1gram.npy'",
          "traceback": [
            "\u001b[0;31m---------------------------------------------------------------------------\u001b[0m",
            "\u001b[0;31mFileNotFoundError\u001b[0m                         Traceback (most recent call last)",
            "\u001b[0;32m<ipython-input-4-c7baa26a6f53>\u001b[0m in \u001b[0;36m<cell line: 0>\u001b[0;34m()\u001b[0m\n\u001b[1;32m      1\u001b[0m \u001b[0;32mfor\u001b[0m \u001b[0mname\u001b[0m \u001b[0;32min\u001b[0m \u001b[0;34m[\u001b[0m\u001b[0;34m\"tweets_df_tfidf_1gram\"\u001b[0m\u001b[0;34m,\u001b[0m \u001b[0;34m\"embeddings_bert\"\u001b[0m\u001b[0;34m,\u001b[0m \u001b[0;34m\"embeddings_fasttext\"\u001b[0m\u001b[0;34m,\u001b[0m \u001b[0;34m\"embeddings_word2vec\"\u001b[0m\u001b[0;34m]\u001b[0m\u001b[0;34m:\u001b[0m\u001b[0;34m\u001b[0m\u001b[0;34m\u001b[0m\u001b[0m\n\u001b[0;32m----> 2\u001b[0;31m     \u001b[0msize\u001b[0m \u001b[0;34m=\u001b[0m \u001b[0mos\u001b[0m\u001b[0;34m.\u001b[0m\u001b[0mpath\u001b[0m\u001b[0;34m.\u001b[0m\u001b[0mgetsize\u001b[0m\u001b[0;34m(\u001b[0m\u001b[0mos\u001b[0m\u001b[0;34m.\u001b[0m\u001b[0mpath\u001b[0m\u001b[0;34m.\u001b[0m\u001b[0mjoin\u001b[0m\u001b[0;34m(\u001b[0m\u001b[0mpath\u001b[0m\u001b[0;34m,\u001b[0m \u001b[0;34mf\"{name}.npy\"\u001b[0m\u001b[0;34m)\u001b[0m\u001b[0;34m)\u001b[0m \u001b[0;34m/\u001b[0m \u001b[0;36m1e6\u001b[0m\u001b[0;34m\u001b[0m\u001b[0;34m\u001b[0m\u001b[0m\n\u001b[0m\u001b[1;32m      3\u001b[0m     \u001b[0mprint\u001b[0m\u001b[0;34m(\u001b[0m\u001b[0;34mf\"{name}: {size:.2f} MB\"\u001b[0m\u001b[0;34m)\u001b[0m\u001b[0;34m\u001b[0m\u001b[0;34m\u001b[0m\u001b[0m\n",
            "\u001b[0;32m/usr/lib/python3.11/genericpath.py\u001b[0m in \u001b[0;36mgetsize\u001b[0;34m(filename)\u001b[0m\n",
            "\u001b[0;31mFileNotFoundError\u001b[0m: [Errno 2] No such file or directory: '/content/drive/MyDrive/data/sentiments/tweets_df_tfidf_1gram.npy'"
          ]
        }
      ]
    },
    {
      "cell_type": "code",
      "source": [
        "%%time\n",
        "tweets_df_tfidf_1gram = np.load(os.path.join(path, \"tweets_df_tfidf_1gram.npy\"), allow_pickle=True)\n",
        "\n",
        "tweets_embeddings_bert = np.load(os.path.join(path, \"embeddings_bert.npy\"), allow_pickle=True)\n",
        "tweets_embeddings_fasttext = np.load(os.path.join(path, \"embeddings_fasttext.npy\"), mmap_mode='r')\n",
        "tweets_embeddings_word2vec = np.load(os.path.join(path, \"embeddings_word2vec.npy\"), mmap_mode='r')"
      ],
      "metadata": {
        "id": "hQrTqDqRLtFP",
        "outputId": "6609bdf1-af19-4652-d43a-b891ac1c73c8",
        "colab": {
          "base_uri": "https://localhost:8080/",
          "height": 257
        }
      },
      "execution_count": 5,
      "outputs": [
        {
          "output_type": "error",
          "ename": "FileNotFoundError",
          "evalue": "[Errno 2] No such file or directory: '/content/drive/MyDrive/data/sentiments/tweets_df_tfidf_1gram.npy'",
          "traceback": [
            "\u001b[0;31m---------------------------------------------------------------------------\u001b[0m",
            "\u001b[0;31mFileNotFoundError\u001b[0m                         Traceback (most recent call last)",
            "\u001b[0;32m<timed exec>\u001b[0m in \u001b[0;36m<module>\u001b[0;34m\u001b[0m\n",
            "\u001b[0;32m/usr/local/lib/python3.11/dist-packages/numpy/lib/npyio.py\u001b[0m in \u001b[0;36mload\u001b[0;34m(file, mmap_mode, allow_pickle, fix_imports, encoding, max_header_size)\u001b[0m\n\u001b[1;32m    425\u001b[0m             \u001b[0mown_fid\u001b[0m \u001b[0;34m=\u001b[0m \u001b[0;32mFalse\u001b[0m\u001b[0;34m\u001b[0m\u001b[0;34m\u001b[0m\u001b[0m\n\u001b[1;32m    426\u001b[0m         \u001b[0;32melse\u001b[0m\u001b[0;34m:\u001b[0m\u001b[0;34m\u001b[0m\u001b[0;34m\u001b[0m\u001b[0m\n\u001b[0;32m--> 427\u001b[0;31m             \u001b[0mfid\u001b[0m \u001b[0;34m=\u001b[0m \u001b[0mstack\u001b[0m\u001b[0;34m.\u001b[0m\u001b[0menter_context\u001b[0m\u001b[0;34m(\u001b[0m\u001b[0mopen\u001b[0m\u001b[0;34m(\u001b[0m\u001b[0mos_fspath\u001b[0m\u001b[0;34m(\u001b[0m\u001b[0mfile\u001b[0m\u001b[0;34m)\u001b[0m\u001b[0;34m,\u001b[0m \u001b[0;34m\"rb\"\u001b[0m\u001b[0;34m)\u001b[0m\u001b[0;34m)\u001b[0m\u001b[0;34m\u001b[0m\u001b[0;34m\u001b[0m\u001b[0m\n\u001b[0m\u001b[1;32m    428\u001b[0m             \u001b[0mown_fid\u001b[0m \u001b[0;34m=\u001b[0m \u001b[0;32mTrue\u001b[0m\u001b[0;34m\u001b[0m\u001b[0;34m\u001b[0m\u001b[0m\n\u001b[1;32m    429\u001b[0m \u001b[0;34m\u001b[0m\u001b[0m\n",
            "\u001b[0;31mFileNotFoundError\u001b[0m: [Errno 2] No such file or directory: '/content/drive/MyDrive/data/sentiments/tweets_df_tfidf_1gram.npy'"
          ]
        }
      ]
    },
    {
      "cell_type": "code",
      "source": [
        "print(tweets_df_tfidf_1gram.item().shape)\n",
        "print(tweets_embeddings_word2vec.shape)\n",
        "print(tweets_embeddings_fasttext.shape)\n",
        "print(tweets_embeddings_bert.shape)"
      ],
      "metadata": {
        "id": "ilbCvRzROnEe",
        "outputId": "45ea05a2-6c55-42f6-992a-0d90d340aea3",
        "colab": {
          "base_uri": "https://localhost:8080/",
          "height": 202
        }
      },
      "execution_count": 6,
      "outputs": [
        {
          "output_type": "error",
          "ename": "NameError",
          "evalue": "name 'tweets_df_tfidf_1gram' is not defined",
          "traceback": [
            "\u001b[0;31m---------------------------------------------------------------------------\u001b[0m",
            "\u001b[0;31mNameError\u001b[0m                                 Traceback (most recent call last)",
            "\u001b[0;32m<ipython-input-6-d1fcfbf929ff>\u001b[0m in \u001b[0;36m<cell line: 0>\u001b[0;34m()\u001b[0m\n\u001b[0;32m----> 1\u001b[0;31m \u001b[0mprint\u001b[0m\u001b[0;34m(\u001b[0m\u001b[0mtweets_df_tfidf_1gram\u001b[0m\u001b[0;34m.\u001b[0m\u001b[0mitem\u001b[0m\u001b[0;34m(\u001b[0m\u001b[0;34m)\u001b[0m\u001b[0;34m.\u001b[0m\u001b[0mshape\u001b[0m\u001b[0;34m)\u001b[0m\u001b[0;34m\u001b[0m\u001b[0;34m\u001b[0m\u001b[0m\n\u001b[0m\u001b[1;32m      2\u001b[0m \u001b[0mprint\u001b[0m\u001b[0;34m(\u001b[0m\u001b[0mtweets_embeddings_word2vec\u001b[0m\u001b[0;34m.\u001b[0m\u001b[0mshape\u001b[0m\u001b[0;34m)\u001b[0m\u001b[0;34m\u001b[0m\u001b[0;34m\u001b[0m\u001b[0m\n\u001b[1;32m      3\u001b[0m \u001b[0mprint\u001b[0m\u001b[0;34m(\u001b[0m\u001b[0mtweets_embeddings_fasttext\u001b[0m\u001b[0;34m.\u001b[0m\u001b[0mshape\u001b[0m\u001b[0;34m)\u001b[0m\u001b[0;34m\u001b[0m\u001b[0;34m\u001b[0m\u001b[0m\n\u001b[1;32m      4\u001b[0m \u001b[0mprint\u001b[0m\u001b[0;34m(\u001b[0m\u001b[0mtweets_embeddings_bert\u001b[0m\u001b[0;34m.\u001b[0m\u001b[0mshape\u001b[0m\u001b[0;34m)\u001b[0m\u001b[0;34m\u001b[0m\u001b[0;34m\u001b[0m\u001b[0m\n",
            "\u001b[0;31mNameError\u001b[0m: name 'tweets_df_tfidf_1gram' is not defined"
          ]
        }
      ]
    },
    {
      "cell_type": "markdown",
      "source": [
        "> Chargement de la variable cible"
      ],
      "metadata": {
        "id": "6Q3cKj798QPQ"
      }
    },
    {
      "cell_type": "code",
      "source": [
        "# Variable cible\n",
        "Y = np.load(os.path.join(path, \"targets.npy\"), allow_pickle=True)\n",
        "display(Y.shape)"
      ],
      "metadata": {
        "colab": {
          "base_uri": "https://localhost:8080/",
          "height": 312
        },
        "id": "ehajTkli8N88",
        "outputId": "7592541c-4f33-402d-d64a-2d4193f94e83"
      },
      "execution_count": 7,
      "outputs": [
        {
          "output_type": "error",
          "ename": "FileNotFoundError",
          "evalue": "[Errno 2] No such file or directory: '/content/drive/MyDrive/data/sentiments/targets.npy'",
          "traceback": [
            "\u001b[0;31m---------------------------------------------------------------------------\u001b[0m",
            "\u001b[0;31mFileNotFoundError\u001b[0m                         Traceback (most recent call last)",
            "\u001b[0;32m<ipython-input-7-9ee3233bfd90>\u001b[0m in \u001b[0;36m<cell line: 0>\u001b[0;34m()\u001b[0m\n\u001b[1;32m      1\u001b[0m \u001b[0;31m# Variable cible\u001b[0m\u001b[0;34m\u001b[0m\u001b[0;34m\u001b[0m\u001b[0m\n\u001b[0;32m----> 2\u001b[0;31m \u001b[0mY\u001b[0m \u001b[0;34m=\u001b[0m \u001b[0mnp\u001b[0m\u001b[0;34m.\u001b[0m\u001b[0mload\u001b[0m\u001b[0;34m(\u001b[0m\u001b[0mos\u001b[0m\u001b[0;34m.\u001b[0m\u001b[0mpath\u001b[0m\u001b[0;34m.\u001b[0m\u001b[0mjoin\u001b[0m\u001b[0;34m(\u001b[0m\u001b[0mpath\u001b[0m\u001b[0;34m,\u001b[0m \u001b[0;34m\"targets.npy\"\u001b[0m\u001b[0;34m)\u001b[0m\u001b[0;34m,\u001b[0m \u001b[0mallow_pickle\u001b[0m\u001b[0;34m=\u001b[0m\u001b[0;32mTrue\u001b[0m\u001b[0;34m)\u001b[0m\u001b[0;34m\u001b[0m\u001b[0;34m\u001b[0m\u001b[0m\n\u001b[0m\u001b[1;32m      3\u001b[0m \u001b[0mdisplay\u001b[0m\u001b[0;34m(\u001b[0m\u001b[0mY\u001b[0m\u001b[0;34m.\u001b[0m\u001b[0mshape\u001b[0m\u001b[0;34m)\u001b[0m\u001b[0;34m\u001b[0m\u001b[0;34m\u001b[0m\u001b[0m\n",
            "\u001b[0;32m/usr/local/lib/python3.11/dist-packages/numpy/lib/npyio.py\u001b[0m in \u001b[0;36mload\u001b[0;34m(file, mmap_mode, allow_pickle, fix_imports, encoding, max_header_size)\u001b[0m\n\u001b[1;32m    425\u001b[0m             \u001b[0mown_fid\u001b[0m \u001b[0;34m=\u001b[0m \u001b[0;32mFalse\u001b[0m\u001b[0;34m\u001b[0m\u001b[0;34m\u001b[0m\u001b[0m\n\u001b[1;32m    426\u001b[0m         \u001b[0;32melse\u001b[0m\u001b[0;34m:\u001b[0m\u001b[0;34m\u001b[0m\u001b[0;34m\u001b[0m\u001b[0m\n\u001b[0;32m--> 427\u001b[0;31m             \u001b[0mfid\u001b[0m \u001b[0;34m=\u001b[0m \u001b[0mstack\u001b[0m\u001b[0;34m.\u001b[0m\u001b[0menter_context\u001b[0m\u001b[0;34m(\u001b[0m\u001b[0mopen\u001b[0m\u001b[0;34m(\u001b[0m\u001b[0mos_fspath\u001b[0m\u001b[0;34m(\u001b[0m\u001b[0mfile\u001b[0m\u001b[0;34m)\u001b[0m\u001b[0;34m,\u001b[0m \u001b[0;34m\"rb\"\u001b[0m\u001b[0;34m)\u001b[0m\u001b[0;34m)\u001b[0m\u001b[0;34m\u001b[0m\u001b[0;34m\u001b[0m\u001b[0m\n\u001b[0m\u001b[1;32m    428\u001b[0m             \u001b[0mown_fid\u001b[0m \u001b[0;34m=\u001b[0m \u001b[0;32mTrue\u001b[0m\u001b[0;34m\u001b[0m\u001b[0;34m\u001b[0m\u001b[0m\n\u001b[1;32m    429\u001b[0m \u001b[0;34m\u001b[0m\u001b[0m\n",
            "\u001b[0;31mFileNotFoundError\u001b[0m: [Errno 2] No such file or directory: '/content/drive/MyDrive/data/sentiments/targets.npy'"
          ]
        }
      ]
    },
    {
      "cell_type": "code",
      "source": [
        "def plot_distribution(y_train, y_val, y_test):\n",
        "  # Création des distributions\n",
        "  dist_df = pd.DataFrame({\n",
        "      \"Train set\": pd.Series(y_train).value_counts(normalize=True),\n",
        "      \"Validation set\": pd.Series(y_val).value_counts(normalize=True),\n",
        "      \"Test set\": pd.Series(y_test).value_counts(normalize=True)\n",
        "  }).T\n",
        "\n",
        "  # Optionnel : renommer les colonnes\n",
        "  #dist_df.columns = [\"Classe 1\", \"Classe 0\"]\n",
        "\n",
        "  # Barplot\n",
        "  dist_df.plot(kind=\"bar\", figsize=(8, 5), colormap=\"Set2\")\n",
        "  plt.title(\"Répartition des classes dans y_train, y_val et y_test\")\n",
        "  plt.ylabel(\"Proportion\")\n",
        "  plt.xticks(rotation=0)\n",
        "  plt.ylim(0, 1)\n",
        "  plt.legend(title=\"Classe\")\n",
        "  plt.tight_layout()\n",
        "  plt.show()\n",
        "\n",
        "\n",
        "def split_train_val_test(X, y, sample_size=None, test_size=0.2, val_size=0.2, random_state=42):\n",
        "    \"\"\"\n",
        "    Splitte un jeu de données en trois sous-ensembles : train, validation et test.\n",
        "\n",
        "    Paramètres :\n",
        "    -----------\n",
        "    X : array-like ou sparse matrix\n",
        "        Matrice des features (peut être dense ou sparse).\n",
        "\n",
        "    y : array-like\n",
        "        Vecteur cible (labels ou classes).\n",
        "\n",
        "    sample_size : int ou None (default=None)\n",
        "        Si spécifié, un sous-échantillon (stratifié) de cette taille est prélevé depuis X/y avant le split.\n",
        "\n",
        "    test_size : float (default=0.2)\n",
        "        Proportion du test set par rapport à l'ensemble X (ou X échantillonné).\n",
        "\n",
        "    val_size : float (default=0.2)\n",
        "        Proportion du validation set par rapport à (train + val).\n",
        "\n",
        "    random_state : int (default=42)\n",
        "        Graine pour la reproductibilité.\n",
        "\n",
        "    Retourne :\n",
        "    ---------\n",
        "    X_train, X_val, X_test, y_train, y_val, y_test : datasets splités avec stratification.\n",
        "    \"\"\"\n",
        "\n",
        "    if sample_size is not None:\n",
        "        X_sample, _, y_sample, _ = train_test_split(\n",
        "            X, y, train_size=sample_size, stratify=y, random_state=random_state\n",
        "        )\n",
        "    else:\n",
        "        X_sample, y_sample = X, y\n",
        "\n",
        "    # Split temporaire : train_val vs test\n",
        "    X_train_val, X_test, y_train_val, y_test = train_test_split(\n",
        "        X_sample, y_sample, test_size=test_size, stratify=y_sample, random_state=random_state\n",
        "    )\n",
        "\n",
        "    # Split train vs validation (sur le train_val)\n",
        "    val_split = val_size / (1 - test_size)\n",
        "    X_train, X_val, y_train, y_val = train_test_split(\n",
        "        X_train_val, y_train_val, test_size=val_split, stratify=y_train_val, random_state=random_state\n",
        "    )\n",
        "\n",
        "    return X_train, X_val, X_test, y_train, y_val, y_test\n"
      ],
      "metadata": {
        "id": "B5szwQ44_jsq"
      },
      "execution_count": null,
      "outputs": []
    },
    {
      "cell_type": "markdown",
      "source": [
        "# Approche 1: Modéle sur mesure"
      ],
      "metadata": {
        "id": "Z34S7rCCB9Uv"
      }
    },
    {
      "cell_type": "markdown",
      "source": [
        "- Logistic Regression\n",
        "- Ridge Classifier\n",
        "- Naive Bayes\n",
        "- Light Gradient Boosting Machine\n",
        "- Gradient Boosting Classifier\n",
        "- linear discriminant analysis"
      ],
      "metadata": {
        "id": "Mqn1YSL-Lw60"
      }
    },
    {
      "cell_type": "code",
      "source": [
        "import re\n",
        "import unicodedata\n",
        "\n",
        "def slugify(text):\n",
        "    text = text.lower()\n",
        "    text = unicodedata.normalize('NFKD', text).encode('ascii', 'ignore').decode('utf-8')\n",
        "    text = re.sub(r'[^a-z0-9]+', '-', text)\n",
        "    text = text.strip('-')\n",
        "    return text"
      ],
      "metadata": {
        "id": "JzukHM-lj7zH"
      },
      "execution_count": null,
      "outputs": []
    },
    {
      "cell_type": "code",
      "source": [
        "models = {\n",
        "    \"Logistic Regression\": LogisticRegression(max_iter=1000),\n",
        "    \"Ridge Classifier\": RidgeClassifier(),\n",
        "    \"XGBoost\": XGBClassifier(eval_metric='logloss', n_jobs=-1),\n",
        "    \"LightGBM\": LGBMClassifier(verbose=-1, n_jobs=-1),\n",
        "    \"Random Forest\": RandomForestClassifier(n_estimators=100),\n",
        "}"
      ],
      "metadata": {
        "id": "UZLWX9FXMNsa"
      },
      "execution_count": null,
      "outputs": []
    },
    {
      "cell_type": "code",
      "source": [
        "from tqdm import tqdm\n",
        "tqdm.pandas()\n",
        "\n",
        "def evaluate_models(x_train, x_valid, y_train, y_valid, cv=3, scoring=\"accuracy\", source=\"\"):\n",
        "    results = []\n",
        "    signature = infer_signature(x_train, y_train)\n",
        "    for name, model in tqdm(models.items()):\n",
        "      start_time = time.time()\n",
        "      print(f\"Evaluating {name}...\")\n",
        "      mlflow.set_experiment(f\"{source}-{slugify(name)}\")\n",
        "      with mlflow.start_run():\n",
        "        scores = cross_val_score(model, x_train, y_train, cv=cv, scoring=scoring)\n",
        "        y_pred = model.fit(x_train, y_train).predict(x_valid)\n",
        "        cv_score = scores.mean()\n",
        "        val_score = model.score(x_valid, y_valid)\n",
        "        precision = precision_score(y_valid, y_pred)\n",
        "        recall = recall_score(y_valid, y_pred)\n",
        "        f1 = f1_score(y_valid, y_pred)\n",
        "        auc = roc_auc_score(y_valid, y_pred)\n",
        "        mse = mean_squared_error(y_valid, y_pred)\n",
        "        train_time = time.time() - start_time\n",
        "\n",
        "        results.append({\n",
        "            \"Model\": name,\n",
        "            \"cv_score\": cv_score,\n",
        "            \"val_score\": val_score,\n",
        "            \"precision\": precision,\n",
        "            \"recall\": recall,\n",
        "            \"f1\": f1,\n",
        "            \"auc\": auc,\n",
        "            \"mse\": mse,\n",
        "            \"train_time (s)\": train_time\n",
        "        })\n",
        "        mlflow.log_params(model.get_params())\n",
        "        mlflow.log_metric(\"cv_score\", cv_score)\n",
        "        mlflow.log_metric(\"val_score\", val_score)\n",
        "        mlflow.log_metric(\"precision\", precision)\n",
        "        mlflow.log_metric(\"recall\", recall)\n",
        "        mlflow.log_metric(\"f1\", f1)\n",
        "        mlflow.log_metric(\"auc\", auc)\n",
        "        mlflow.log_metric(\"loss\", mse)\n",
        "        mlflow.log_metric(\"train_time\", train_time)\n",
        "        mlflow.sklearn.log_model(\n",
        "            sk_model=model,\n",
        "            artifact_path=\"model-artifact\",\n",
        "            signature=signature,\n",
        "            input_example=x_train[:10],\n",
        "            registered_model_name=slugify(name)\n",
        "        )\n",
        "\n",
        "    print(\"\\n\")\n",
        "\n",
        "    return pd.DataFrame(results).sort_values(by=\"val_score\", ascending=False)\n",
        "\n",
        "def show_calibration_curve(models, X_valid, y_valid, exclude=None):\n",
        "  if exclude is None:\n",
        "    exclude = []\n",
        "  fig = plt.figure(figsize=(16, 10))\n",
        "  gs = GridSpec(7, 3)\n",
        "  colors = plt.get_cmap(\"Dark2\")\n",
        "\n",
        "  ax_calibration_curve = fig.add_subplot(gs[:2, :2])\n",
        "  calibration_displays = {}\n",
        "  markers = [\"^\", \"v\", \"s\", \"o\", \"2\"]\n",
        "  for i, (name, clf) in enumerate(models.items()):\n",
        "    if name not in exclude:\n",
        "      display = CalibrationDisplay.from_estimator(\n",
        "          clf,\n",
        "          X_valid,\n",
        "          y_valid,\n",
        "          n_bins=10,\n",
        "          name=name,\n",
        "          ax=ax_calibration_curve,\n",
        "          color=colors(i),\n",
        "          marker=markers[i],\n",
        "      )\n",
        "      calibration_displays[name] = display\n",
        "\n",
        "  ax_calibration_curve.grid()\n",
        "  ax_calibration_curve.set_title(\"Calibration plots\")\n",
        "\n",
        "skf = StratifiedKFold(n_splits=4)"
      ],
      "metadata": {
        "id": "gJgKZ158Mrpp"
      },
      "execution_count": null,
      "outputs": []
    },
    {
      "cell_type": "markdown",
      "source": [
        "## | Tf-idf"
      ],
      "metadata": {
        "id": "Xs5P0zRjWxrK"
      }
    },
    {
      "cell_type": "code",
      "source": [
        "X_train_tfidf, X_valid_tfidf, X_test_tfidf, y_train_tfidf, y_valid_tfidf, y_test_tfidf = split_train_val_test(tweets_df_tfidf_1gram.item(), Y, sample_size=20000)\n",
        "print(\"Répartition dans y_train    :\", pd.Series(y_train_tfidf).value_counts(normalize=True))\n",
        "print(\"Répartition dans y_validation:\", pd.Series(y_valid_tfidf).value_counts(normalize=True))\n",
        "print(\"Répartition dans y_test :\", pd.Series(y_test_tfidf).value_counts(normalize=True))\n",
        "plot_distribution(y_train_tfidf, y_valid_tfidf, y_test_tfidf)"
      ],
      "metadata": {
        "id": "CRsXanc9XtLS"
      },
      "execution_count": null,
      "outputs": []
    },
    {
      "cell_type": "code",
      "source": [
        "skf.get_n_splits(X_train_tfidf, y_train_tfidf)\n",
        "for i, (train_index, test_index) in enumerate(skf.split(X_train_tfidf, y_train_tfidf)):\n",
        "    print(f\"Fold {i}:\")\n",
        "    print(f\"  Train: index={train_index}\")\n",
        "    print(f\"  Test:  index={test_index}\")"
      ],
      "metadata": {
        "id": "LwmhkTjzVEj2"
      },
      "execution_count": null,
      "outputs": []
    },
    {
      "cell_type": "code",
      "source": [
        "%%time\n",
        "tfidf_results_df = evaluate_models(X_train_tfidf, X_valid_tfidf, y_train_tfidf, y_valid_tfidf, cv=skf, source=\"tfidf\")"
      ],
      "metadata": {
        "id": "yM0hEsvqYObk"
      },
      "execution_count": null,
      "outputs": []
    },
    {
      "cell_type": "code",
      "source": [
        "tfidf_results_df"
      ],
      "metadata": {
        "id": "KUtDW0cpYbom",
        "colab": {
          "base_uri": "https://localhost:8080/",
          "height": 147
        },
        "outputId": "63c6de9c-826e-4c4a-df1b-921485565b4b"
      },
      "execution_count": 16,
      "outputs": [
        {
          "output_type": "error",
          "ename": "NameError",
          "evalue": "name 'tfidf_results_df' is not defined",
          "traceback": [
            "\u001b[0;31m---------------------------------------------------------------------------\u001b[0m",
            "\u001b[0;31mNameError\u001b[0m                                 Traceback (most recent call last)",
            "\u001b[0;32m<ipython-input-16-2ecec8e25703>\u001b[0m in \u001b[0;36m<cell line: 0>\u001b[0;34m()\u001b[0m\n\u001b[0;32m----> 1\u001b[0;31m \u001b[0mtfidf_results_df\u001b[0m\u001b[0;34m\u001b[0m\u001b[0;34m\u001b[0m\u001b[0m\n\u001b[0m",
            "\u001b[0;31mNameError\u001b[0m: name 'tfidf_results_df' is not defined"
          ]
        }
      ]
    },
    {
      "cell_type": "markdown",
      "source": [
        "## | Word2Vec"
      ],
      "metadata": {
        "id": "Go475o0OW3WD"
      }
    },
    {
      "cell_type": "code",
      "source": [
        "%%time\n",
        "X_train_w2v, X_valid_w2v, X_test_w2v, y_train_w2v, y_valid_w2v, y_test_w2v = split_train_val_test(tweets_embeddings_word2vec, Y, sample_size=20000)\n",
        "print(\"Répartition dans y_train    :\", pd.Series(y_train_w2v).value_counts(normalize=True))\n",
        "print(\"Répartition dans y_validation:\", pd.Series(y_valid_w2v).value_counts(normalize=True))\n",
        "print(\"Répartition dans y_test :\", pd.Series(y_test_w2v).value_counts(normalize=True))\n",
        "plot_distribution(y_train_w2v, y_valid_w2v,  y_test_w2v)"
      ],
      "metadata": {
        "id": "SFmK7CpdYvik",
        "colab": {
          "base_uri": "https://localhost:8080/",
          "height": 709
        },
        "outputId": "6b775c7a-c6b3-4069-e124-b20f3954c1ac"
      },
      "execution_count": 30,
      "outputs": [
        {
          "output_type": "stream",
          "name": "stdout",
          "text": [
            "Répartition dans y_train    : 1    0.500083\n",
            "0    0.499917\n",
            "Name: proportion, dtype: float64\n",
            "Répartition dans y_validation: 0    0.5\n",
            "1    0.5\n",
            "Name: proportion, dtype: float64\n",
            "Répartition dans y_test : 1    0.5\n",
            "0    0.5\n",
            "Name: proportion, dtype: float64\n"
          ]
        },
        {
          "output_type": "display_data",
          "data": {
            "text/plain": [
              "<Figure size 800x500 with 1 Axes>"
            ],
            "image/png": "[encoded data removed]"
          },
          "metadata": {}
        },
        {
          "output_type": "stream",
          "name": "stdout",
          "text": [
            "CPU times: user 1.61 s, sys: 2.13 s, total: 3.73 s\n",
            "Wall time: 32.5 s\n"
          ]
        }
      ]
    },
    {
      "cell_type": "code",
      "source": [
        "%%time\n",
        "w2v_results__df = evaluate_models(X_train_w2v, X_valid_w2v, y_train_w2v, y_valid_w2v, cv=skf)"
      ],
      "metadata": {
        "id": "dRimE4KMZJJA",
        "colab": {
          "base_uri": "https://localhost:8080/"
        },
        "outputId": "19561f13-fdcc-4f2c-de07-173d9cc4b283"
      },
      "execution_count": null,
      "outputs": [
        {
          "output_type": "stream",
          "name": "stderr",
          "text": [
            "\r  0%|          | 0/5 [00:00<?, ?it/s]"
          ]
        },
        {
          "output_type": "stream",
          "name": "stdout",
          "text": [
            "Evaluating Logistic Regression...\n"
          ]
        },
        {
          "output_type": "stream",
          "name": "stderr",
          "text": [
            "\r 20%|██        | 1/5 [00:18<01:14, 18.60s/it]"
          ]
        },
        {
          "output_type": "stream",
          "name": "stdout",
          "text": [
            "Evaluating Ridge Classifier...\n"
          ]
        },
        {
          "output_type": "stream",
          "name": "stderr",
          "text": [
            "\r 40%|████      | 2/5 [00:19<00:24,  8.21s/it]"
          ]
        },
        {
          "output_type": "stream",
          "name": "stdout",
          "text": [
            "Evaluating XGBoost...\n"
          ]
        },
        {
          "output_type": "stream",
          "name": "stderr",
          "text": [
            "\r 60%|██████    | 3/5 [01:43<01:25, 42.62s/it]"
          ]
        },
        {
          "output_type": "stream",
          "name": "stdout",
          "text": [
            "Evaluating LightGBM...\n"
          ]
        },
        {
          "output_type": "stream",
          "name": "stderr",
          "text": [
            "\r 80%|████████  | 4/5 [02:23<00:41, 41.77s/it]"
          ]
        },
        {
          "output_type": "stream",
          "name": "stdout",
          "text": [
            "Evaluating Random Forest...\n"
          ]
        },
        {
          "output_type": "stream",
          "name": "stderr",
          "text": [
            "100%|██████████| 5/5 [04:29<00:00, 53.87s/it]"
          ]
        },
        {
          "output_type": "stream",
          "name": "stdout",
          "text": [
            "\n",
            "\n",
            "CPU times: user 6min 12s, sys: 1.6 s, total: 6min 14s\n",
            "Wall time: 4min 29s\n"
          ]
        },
        {
          "output_type": "stream",
          "name": "stderr",
          "text": [
            "\n"
          ]
        }
      ]
    },
    {
      "cell_type": "code",
      "source": [
        "w2v_results__df"
      ],
      "metadata": {
        "id": "b6paz8p0ZVpd",
        "colab": {
          "base_uri": "https://localhost:8080/",
          "height": 241
        },
        "outputId": "02210471-9a18-45f6-df10-4d69aca7bbb3"
      },
      "execution_count": null,
      "outputs": [
        {
          "output_type": "execute_result",
          "data": {
            "text/plain": [
              "                 Model  cv_score  val_score  precision  recall        f1  \\\n",
              "0  Logistic Regression  0.720917    0.72775   0.721655  0.7415  0.731443   \n",
              "1     Ridge Classifier  0.716833    0.72250   0.717285  0.7345  0.725791   \n",
              "3             LightGBM  0.711083    0.69725   0.699142  0.6925  0.695805   \n",
              "2              XGBoost  0.697333    0.69375   0.698616  0.6815  0.689952   \n",
              "4        Random Forest  0.697250    0.68850   0.703344  0.6520  0.676700   \n",
              "\n",
              "       auc      mse  train_time (s)  \n",
              "0  0.72775  0.27225       18.597020  \n",
              "1  0.72250  0.27750        0.935626  \n",
              "3  0.69725  0.30275       40.463776  \n",
              "2  0.69375  0.30625       83.560140  \n",
              "4  0.68850  0.31150      125.763565  "
            ],
            "text/html": [
              "\n",
              "  <div id=\"df-ed65bd5b-2259-4c7c-a269-77902e98a7a5\" class=\"colab-df-container\">\n",
              "    <div>\n",
              "<style scoped>\n",
              "    .dataframe tbody tr th:only-of-type {\n",
              "        vertical-align: middle;\n",
              "    }\n",
              "\n",
              "    .dataframe tbody tr th {\n",
              "        vertical-align: top;\n",
              "    }\n",
              "\n",
              "    .dataframe thead th {\n",
              "        text-align: right;\n",
              "    }\n",
              "</style>\n",
              "<table border=\"1\" class=\"dataframe\">\n",
              "  <thead>\n",
              "    <tr style=\"text-align: right;\">\n",
              "      <th></th>\n",
              "      <th>Model</th>\n",
              "      <th>cv_score</th>\n",
              "      <th>val_score</th>\n",
              "      <th>precision</th>\n",
              "      <th>recall</th>\n",
              "      <th>f1</th>\n",
              "      <th>auc</th>\n",
              "      <th>mse</th>\n",
              "      <th>train_time (s)</th>\n",
              "    </tr>\n",
              "  </thead>\n",
              "  <tbody>\n",
              "    <tr>\n",
              "      <th>0</th>\n",
              "      <td>Logistic Regression</td>\n",
              "      <td>0.720917</td>\n",
              "      <td>0.72775</td>\n",
              "      <td>0.721655</td>\n",
              "      <td>0.7415</td>\n",
              "      <td>0.731443</td>\n",
              "      <td>0.72775</td>\n",
              "      <td>0.27225</td>\n",
              "      <td>18.597020</td>\n",
              "    </tr>\n",
              "    <tr>\n",
              "      <th>1</th>\n",
              "      <td>Ridge Classifier</td>\n",
              "      <td>0.716833</td>\n",
              "      <td>0.72250</td>\n",
              "      <td>0.717285</td>\n",
              "      <td>0.7345</td>\n",
              "      <td>0.725791</td>\n",
              "      <td>0.72250</td>\n",
              "      <td>0.27750</td>\n",
              "      <td>0.935626</td>\n",
              "    </tr>\n",
              "    <tr>\n",
              "      <th>3</th>\n",
              "      <td>LightGBM</td>\n",
              "      <td>0.711083</td>\n",
              "      <td>0.69725</td>\n",
              "      <td>0.699142</td>\n",
              "      <td>0.6925</td>\n",
              "      <td>0.695805</td>\n",
              "      <td>0.69725</td>\n",
              "      <td>0.30275</td>\n",
              "      <td>40.463776</td>\n",
              "    </tr>\n",
              "    <tr>\n",
              "      <th>2</th>\n",
              "      <td>XGBoost</td>\n",
              "      <td>0.697333</td>\n",
              "      <td>0.69375</td>\n",
              "      <td>0.698616</td>\n",
              "      <td>0.6815</td>\n",
              "      <td>0.689952</td>\n",
              "      <td>0.69375</td>\n",
              "      <td>0.30625</td>\n",
              "      <td>83.560140</td>\n",
              "    </tr>\n",
              "    <tr>\n",
              "      <th>4</th>\n",
              "      <td>Random Forest</td>\n",
              "      <td>0.697250</td>\n",
              "      <td>0.68850</td>\n",
              "      <td>0.703344</td>\n",
              "      <td>0.6520</td>\n",
              "      <td>0.676700</td>\n",
              "      <td>0.68850</td>\n",
              "      <td>0.31150</td>\n",
              "      <td>125.763565</td>\n",
              "    </tr>\n",
              "  </tbody>\n",
              "</table>\n",
              "</div>\n",
              "    <div class=\"colab-df-buttons\">\n",
              "\n",
              "  <div class=\"colab-df-container\">\n",
              "    <button class=\"colab-df-convert\" onclick=\"convertToInteractive('df-ed65bd5b-2259-4c7c-a269-77902e98a7a5')\"\n",
              "            title=\"Convert this dataframe to an interactive table.\"\n",
              "            style=\"display:none;\">\n",
              "\n",
              "  <svg xmlns=\"http://www.w3.org/2000/svg\" height=\"24px\" viewBox=\"0 -960 960 960\">\n",
              "    <path d=\"M120-120v-720h720v720H120Zm60-500h600v-160H180v160Zm220 220h160v-160H400v160Zm0 220h160v-160H400v160ZM180-400h160v-160H180v160Zm440 0h160v-160H620v160ZM180-180h160v-160H180v160Zm440 0h160v-160H620v160Z\"/>\n",
              "  </svg>\n",
              "    </button>\n",
              "\n",
              "  <style>\n",
              "    .colab-df-container {\n",
              "      display:flex;\n",
              "      gap: 12px;\n",
              "    }\n",
              "\n",
              "    .colab-df-convert {\n",
              "      background-color: #E8F0FE;\n",
              "      border: none;\n",
              "      border-radius: 50%;\n",
              "      cursor: pointer;\n",
              "      display: none;\n",
              "      fill: #1967D2;\n",
              "      height: 32px;\n",
              "      padding: 0 0 0 0;\n",
              "      width: 32px;\n",
              "    }\n",
              "\n",
              "    .colab-df-convert:hover {\n",
              "      background-color: #E2EBFA;\n",
              "      box-shadow: 0px 1px 2px rgba(60, 64, 67, 0.3), 0px 1px 3px 1px rgba(60, 64, 67, 0.15);\n",
              "      fill: #174EA6;\n",
              "    }\n",
              "\n",
              "    .colab-df-buttons div {\n",
              "      margin-bottom: 4px;\n",
              "    }\n",
              "\n",
              "    [theme=dark] .colab-df-convert {\n",
              "      background-color: #3B4455;\n",
              "      fill: #D2E3FC;\n",
              "    }\n",
              "\n",
              "    [theme=dark] .colab-df-convert:hover {\n",
              "      background-color: #434B5C;\n",
              "      box-shadow: 0px 1px 3px 1px rgba(0, 0, 0, 0.15);\n",
              "      filter: drop-shadow(0px 1px 2px rgba(0, 0, 0, 0.3));\n",
              "      fill: #FFFFFF;\n",
              "    }\n",
              "  </style>\n",
              "\n",
              "    <script>\n",
              "      const buttonEl =\n",
              "        document.querySelector('#df-ed65bd5b-2259-4c7c-a269-77902e98a7a5 button.colab-df-convert');\n",
              "      buttonEl.style.display =\n",
              "        google.colab.kernel.accessAllowed ? 'block' : 'none';\n",
              "\n",
              "      async function convertToInteractive(key) {\n",
              "        const element = document.querySelector('#df-ed65bd5b-2259-4c7c-a269-77902e98a7a5');\n",
              "        const dataTable =\n",
              "          await google.colab.kernel.invokeFunction('convertToInteractive',\n",
              "                                                    [key], {});\n",
              "        if (!dataTable) return;\n",
              "\n",
              "        const docLinkHtml = 'Like what you see? Visit the ' +\n",
              "          '<a target=\"_blank\" href=https://colab.research.google.com/notebooks/data_table.ipynb>data table notebook</a>'\n",
              "          + ' to learn more about interactive tables.';\n",
              "        element.innerHTML = '';\n",
              "        dataTable['output_type'] = 'display_data';\n",
              "        await google.colab.output.renderOutput(dataTable, element);\n",
              "        const docLink = document.createElement('div');\n",
              "        docLink.innerHTML = docLinkHtml;\n",
              "        element.appendChild(docLink);\n",
              "      }\n",
              "    </script>\n",
              "  </div>\n",
              "\n",
              "\n",
              "    <div id=\"df-99353c0a-0e13-4e89-ac9d-7a1442d75bb8\">\n",
              "      <button class=\"colab-df-quickchart\" onclick=\"quickchart('df-99353c0a-0e13-4e89-ac9d-7a1442d75bb8')\"\n",
              "                title=\"Suggest charts\"\n",
              "                style=\"display:none;\">\n",
              "\n",
              "<svg xmlns=\"http://www.w3.org/2000/svg\" height=\"24px\"viewBox=\"0 0 24 24\"\n",
              "     width=\"24px\">\n",
              "    <g>\n",
              "        <path d=\"M19 3H5c-1.1 0-2 .9-2 2v14c0 1.1.9 2 2 2h14c1.1 0 2-.9 2-2V5c0-1.1-.9-2-2-2zM9 17H7v-7h2v7zm4 0h-2V7h2v10zm4 0h-2v-4h2v4z\"/>\n",
              "    </g>\n",
              "</svg>\n",
              "      </button>\n",
              "\n",
              "<style>\n",
              "  .colab-df-quickchart {\n",
              "      --bg-color: #E8F0FE;\n",
              "      --fill-color: #1967D2;\n",
              "      --hover-bg-color: #E2EBFA;\n",
              "      --hover-fill-color: #174EA6;\n",
              "      --disabled-fill-color: #AAA;\n",
              "      --disabled-bg-color: #DDD;\n",
              "  }\n",
              "\n",
              "  [theme=dark] .colab-df-quickchart {\n",
              "      --bg-color: #3B4455;\n",
              "      --fill-color: #D2E3FC;\n",
              "      --hover-bg-color: #434B5C;\n",
              "      --hover-fill-color: #FFFFFF;\n",
              "      --disabled-bg-color: #3B4455;\n",
              "      --disabled-fill-color: #666;\n",
              "  }\n",
              "\n",
              "  .colab-df-quickchart {\n",
              "    background-color: var(--bg-color);\n",
              "    border: none;\n",
              "    border-radius: 50%;\n",
              "    cursor: pointer;\n",
              "    display: none;\n",
              "    fill: var(--fill-color);\n",
              "    height: 32px;\n",
              "    padding: 0;\n",
              "    width: 32px;\n",
              "  }\n",
              "\n",
              "  .colab-df-quickchart:hover {\n",
              "    background-color: var(--hover-bg-color);\n",
              "    box-shadow: 0 1px 2px rgba(60, 64, 67, 0.3), 0 1px 3px 1px rgba(60, 64, 67, 0.15);\n",
              "    fill: var(--button-hover-fill-color);\n",
              "  }\n",
              "\n",
              "  .colab-df-quickchart-complete:disabled,\n",
              "  .colab-df-quickchart-complete:disabled:hover {\n",
              "    background-color: var(--disabled-bg-color);\n",
              "    fill: var(--disabled-fill-color);\n",
              "    box-shadow: none;\n",
              "  }\n",
              "\n",
              "  .colab-df-spinner {\n",
              "    border: 2px solid var(--fill-color);\n",
              "    border-color: transparent;\n",
              "    border-bottom-color: var(--fill-color);\n",
              "    animation:\n",
              "      spin 1s steps(1) infinite;\n",
              "  }\n",
              "\n",
              "  @keyframes spin {\n",
              "    0% {\n",
              "      border-color: transparent;\n",
              "      border-bottom-color: var(--fill-color);\n",
              "      border-left-color: var(--fill-color);\n",
              "    }\n",
              "    20% {\n",
              "      border-color: transparent;\n",
              "      border-left-color: var(--fill-color);\n",
              "      border-top-color: var(--fill-color);\n",
              "    }\n",
              "    30% {\n",
              "      border-color: transparent;\n",
              "      border-left-color: var(--fill-color);\n",
              "      border-top-color: var(--fill-color);\n",
              "      border-right-color: var(--fill-color);\n",
              "    }\n",
              "    40% {\n",
              "      border-color: transparent;\n",
              "      border-right-color: var(--fill-color);\n",
              "      border-top-color: var(--fill-color);\n",
              "    }\n",
              "    60% {\n",
              "      border-color: transparent;\n",
              "      border-right-color: var(--fill-color);\n",
              "    }\n",
              "    80% {\n",
              "      border-color: transparent;\n",
              "      border-right-color: var(--fill-color);\n",
              "      border-bottom-color: var(--fill-color);\n",
              "    }\n",
              "    90% {\n",
              "      border-color: transparent;\n",
              "      border-bottom-color: var(--fill-color);\n",
              "    }\n",
              "  }\n",
              "</style>\n",
              "\n",
              "      <script>\n",
              "        async function quickchart(key) {\n",
              "          const quickchartButtonEl =\n",
              "            document.querySelector('#' + key + ' button');\n",
              "          quickchartButtonEl.disabled = true;  // To prevent multiple clicks.\n",
              "          quickchartButtonEl.classList.add('colab-df-spinner');\n",
              "          try {\n",
              "            const charts = await google.colab.kernel.invokeFunction(\n",
              "                'suggestCharts', [key], {});\n",
              "          } catch (error) {\n",
              "            console.error('Error during call to suggestCharts:', error);\n",
              "          }\n",
              "          quickchartButtonEl.classList.remove('colab-df-spinner');\n",
              "          quickchartButtonEl.classList.add('colab-df-quickchart-complete');\n",
              "        }\n",
              "        (() => {\n",
              "          let quickchartButtonEl =\n",
              "            document.querySelector('#df-99353c0a-0e13-4e89-ac9d-7a1442d75bb8 button');\n",
              "          quickchartButtonEl.style.display =\n",
              "            google.colab.kernel.accessAllowed ? 'block' : 'none';\n",
              "        })();\n",
              "      </script>\n",
              "    </div>\n",
              "\n",
              "  <div id=\"id_0d240096-027b-4fb1-ac33-5d48e3d96bcd\">\n",
              "    <style>\n",
              "      .colab-df-generate {\n",
              "        background-color: #E8F0FE;\n",
              "        border: none;\n",
              "        border-radius: 50%;\n",
              "        cursor: pointer;\n",
              "        display: none;\n",
              "        fill: #1967D2;\n",
              "        height: 32px;\n",
              "        padding: 0 0 0 0;\n",
              "        width: 32px;\n",
              "      }\n",
              "\n",
              "      .colab-df-generate:hover {\n",
              "        background-color: #E2EBFA;\n",
              "        box-shadow: 0px 1px 2px rgba(60, 64, 67, 0.3), 0px 1px 3px 1px rgba(60, 64, 67, 0.15);\n",
              "        fill: #174EA6;\n",
              "      }\n",
              "\n",
              "      [theme=dark] .colab-df-generate {\n",
              "        background-color: #3B4455;\n",
              "        fill: #D2E3FC;\n",
              "      }\n",
              "\n",
              "      [theme=dark] .colab-df-generate:hover {\n",
              "        background-color: #434B5C;\n",
              "        box-shadow: 0px 1px 3px 1px rgba(0, 0, 0, 0.15);\n",
              "        filter: drop-shadow(0px 1px 2px rgba(0, 0, 0, 0.3));\n",
              "        fill: #FFFFFF;\n",
              "      }\n",
              "    </style>\n",
              "    <button class=\"colab-df-generate\" onclick=\"generateWithVariable('w2v_results__df')\"\n",
              "            title=\"Generate code using this dataframe.\"\n",
              "            style=\"display:none;\">\n",
              "\n",
              "  <svg xmlns=\"http://www.w3.org/2000/svg\" height=\"24px\"viewBox=\"0 0 24 24\"\n",
              "       width=\"24px\">\n",
              "    <path d=\"M7,19H8.4L18.45,9,17,7.55,7,17.6ZM5,21V16.75L18.45,3.32a2,2,0,0,1,2.83,0l1.4,1.43a1.91,1.91,0,0,1,.58,1.4,1.91,1.91,0,0,1-.58,1.4L9.25,21ZM18.45,9,17,7.55Zm-12,3A5.31,5.31,0,0,0,4.9,8.1,5.31,5.31,0,0,0,1,6.5,5.31,5.31,0,0,0,4.9,4.9,5.31,5.31,0,0,0,6.5,1,5.31,5.31,0,0,0,8.1,4.9,5.31,5.31,0,0,0,12,6.5,5.46,5.46,0,0,0,6.5,12Z\"/>\n",
              "  </svg>\n",
              "    </button>\n",
              "    <script>\n",
              "      (() => {\n",
              "      const buttonEl =\n",
              "        document.querySelector('#id_0d240096-027b-4fb1-ac33-5d48e3d96bcd button.colab-df-generate');\n",
              "      buttonEl.style.display =\n",
              "        google.colab.kernel.accessAllowed ? 'block' : 'none';\n",
              "\n",
              "      buttonEl.onclick = () => {\n",
              "        google.colab.notebook.generateWithVariable('w2v_results__df');\n",
              "      }\n",
              "      })();\n",
              "    </script>\n",
              "  </div>\n",
              "\n",
              "    </div>\n",
              "  </div>\n"
            ],
            "application/vnd.google.colaboratory.intrinsic+json": {
              "type": "dataframe",
              "variable_name": "w2v_results__df",
              "summary": "{\n  \"name\": \"w2v_results__df\",\n  \"rows\": 5,\n  \"fields\": [\n    {\n      \"column\": \"Model\",\n      \"properties\": {\n        \"dtype\": \"string\",\n        \"num_unique_values\": 5,\n        \"samples\": [\n          \"Ridge Classifier\",\n          \"Random Forest\",\n          \"LightGBM\"\n        ],\n        \"semantic_type\": \"\",\n        \"description\": \"\"\n      }\n    },\n    {\n      \"column\": \"cv_score\",\n      \"properties\": {\n        \"dtype\": \"number\",\n        \"std\": 0.01097019320198548,\n        \"min\": 0.69725,\n        \"max\": 0.7209166666666667,\n        \"num_unique_values\": 5,\n        \"samples\": [\n          0.7168333333333333,\n          0.69725,\n          0.7110833333333334\n        ],\n        \"semantic_type\": \"\",\n        \"description\": \"\"\n      }\n    },\n    {\n      \"column\": \"val_score\",\n      \"properties\": {\n        \"dtype\": \"number\",\n        \"std\": 0.017875786695975098,\n        \"min\": 0.6885,\n        \"max\": 0.72775,\n        \"num_unique_values\": 5,\n        \"samples\": [\n          0.7225,\n          0.6885,\n          0.69725\n        ],\n        \"semantic_type\": \"\",\n        \"description\": \"\"\n      }\n    },\n    {\n      \"column\": \"precision\",\n      \"properties\": {\n        \"dtype\": \"number\",\n        \"std\": 0.010733836029927755,\n        \"min\": 0.6986160943106099,\n        \"max\": 0.7216545012165451,\n        \"num_unique_values\": 5,\n        \"samples\": [\n          0.71728515625,\n          0.703344120819849,\n          0.6991418475517416\n        ],\n        \"semantic_type\": \"\",\n        \"description\": \"\"\n      }\n    },\n    {\n      \"column\": \"recall\",\n      \"properties\": {\n        \"dtype\": \"number\",\n        \"std\": 0.03746398270339128,\n        \"min\": 0.652,\n        \"max\": 0.7415,\n        \"num_unique_values\": 5,\n        \"samples\": [\n          0.7345,\n          0.652,\n          0.6925\n        ],\n        \"semantic_type\": \"\",\n        \"description\": \"\"\n      }\n    },\n    {\n      \"column\": \"f1\",\n      \"properties\": {\n        \"dtype\": \"number\",\n        \"std\": 0.02365231556967694,\n        \"min\": 0.6766995329527763,\n        \"max\": 0.731442663378545,\n        \"num_unique_values\": 5,\n        \"samples\": [\n          0.7257905138339921,\n          0.6766995329527763,\n          0.6958050741019844\n        ],\n        \"semantic_type\": \"\",\n        \"description\": \"\"\n      }\n    },\n    {\n      \"column\": \"auc\",\n      \"properties\": {\n        \"dtype\": \"number\",\n        \"std\": 0.01787578669597514,\n        \"min\": 0.6885,\n        \"max\": 0.72775,\n        \"num_unique_values\": 5,\n        \"samples\": [\n          0.7225000000000001,\n          0.6885,\n          0.6972499999999999\n        ],\n        \"semantic_type\": \"\",\n        \"description\": \"\"\n      }\n    },\n    {\n      \"column\": \"mse\",\n      \"properties\": {\n        \"dtype\": \"number\",\n        \"std\": 0.01787578669597509,\n        \"min\": 0.27225,\n        \"max\": 0.3115,\n        \"num_unique_values\": 5,\n        \"samples\": [\n          0.2775,\n          0.3115,\n          0.30275\n        ],\n        \"semantic_type\": \"\",\n        \"description\": \"\"\n      }\n    },\n    {\n      \"column\": \"train_time (s)\",\n      \"properties\": {\n        \"dtype\": \"number\",\n        \"std\": 50.685665706811825,\n        \"min\": 0.9356255531311035,\n        \"max\": 125.76356482505798,\n        \"num_unique_values\": 5,\n        \"samples\": [\n          0.9356255531311035,\n          125.76356482505798,\n          40.46377635002136\n        ],\n        \"semantic_type\": \"\",\n        \"description\": \"\"\n      }\n    }\n  ]\n}"
            }
          },
          "metadata": {},
          "execution_count": 16
        }
      ]
    },
    {
      "cell_type": "code",
      "source": [
        "show_calibration_curve(models, X_test_w2v, y_test_w2v, exclude=[\"Ridge Classifier\"])"
      ],
      "metadata": {
        "id": "BzvEAr8AGGte",
        "colab": {
          "base_uri": "https://localhost:8080/",
          "height": 301
        },
        "outputId": "0ce7ff1a-a43f-4fa3-cdbe-0b1fe38c0abb"
      },
      "execution_count": null,
      "outputs": [
        {
          "output_type": "display_data",
          "data": {
            "text/plain": [
              "<Figure size 1600x1000 with 1 Axes>"
            ],
            "image/png": "[encoded data removed]"
          },
          "metadata": {}
        }
      ]
    },
    {
      "cell_type": "markdown",
      "source": [
        "## | FastText"
      ],
      "metadata": {
        "id": "TJ8qN4p7XIm1"
      }
    },
    {
      "cell_type": "code",
      "source": [
        "%%time\n",
        "X_train_ft, X_valid_ft, X_test_ft, y_train_ft, y_valid_ft, y_test_ft = split_train_val_test(tweets_embeddings_fasttext, Y, sample_size=20000)"
      ],
      "metadata": {
        "id": "kCEq-SicZhMQ",
        "colab": {
          "base_uri": "https://localhost:8080/"
        },
        "outputId": "80793e6c-1f78-434d-fa95-462f798398cf"
      },
      "execution_count": null,
      "outputs": [
        {
          "output_type": "stream",
          "name": "stdout",
          "text": [
            "CPU times: user 20.6 s, sys: 17.5 s, total: 38.1 s\n",
            "Wall time: 2min 52s\n"
          ]
        }
      ]
    },
    {
      "cell_type": "code",
      "source": [
        "%%time\n",
        "ft_results_df = evaluate_models(X_train_ft, X_valid_ft, y_train_ft, y_valid_ft, cv=skf)"
      ],
      "metadata": {
        "id": "gUAslpRmZpmN",
        "colab": {
          "base_uri": "https://localhost:8080/"
        },
        "outputId": "961e9fef-757e-48ef-ecc9-f757db70b83b"
      },
      "execution_count": null,
      "outputs": [
        {
          "output_type": "stream",
          "name": "stderr",
          "text": [
            "\r  0%|          | 0/5 [00:00<?, ?it/s]"
          ]
        },
        {
          "output_type": "stream",
          "name": "stdout",
          "text": [
            "Evaluating Logistic Regression...\n"
          ]
        },
        {
          "output_type": "stream",
          "name": "stderr",
          "text": [
            "\r 20%|██        | 1/5 [00:36<02:25, 36.27s/it]"
          ]
        },
        {
          "output_type": "stream",
          "name": "stdout",
          "text": [
            "Evaluating Ridge Classifier...\n"
          ]
        },
        {
          "output_type": "stream",
          "name": "stderr",
          "text": [
            "\r 40%|████      | 2/5 [00:37<00:46, 15.51s/it]"
          ]
        },
        {
          "output_type": "stream",
          "name": "stdout",
          "text": [
            "Evaluating XGBoost...\n"
          ]
        },
        {
          "output_type": "stream",
          "name": "stderr",
          "text": [
            "\r 60%|██████    | 3/5 [02:03<01:35, 47.86s/it]"
          ]
        },
        {
          "output_type": "stream",
          "name": "stdout",
          "text": [
            "Evaluating LightGBM...\n"
          ]
        },
        {
          "output_type": "stream",
          "name": "stderr",
          "text": [
            "\r 80%|████████  | 4/5 [02:45<00:45, 45.40s/it]"
          ]
        },
        {
          "output_type": "stream",
          "name": "stdout",
          "text": [
            "Evaluating Random Forest...\n"
          ]
        },
        {
          "output_type": "stream",
          "name": "stderr",
          "text": [
            "100%|██████████| 5/5 [04:50<00:00, 58.19s/it]"
          ]
        },
        {
          "output_type": "stream",
          "name": "stdout",
          "text": [
            "\n",
            "\n",
            "CPU times: user 6min 51s, sys: 1.74 s, total: 6min 53s\n",
            "Wall time: 4min 50s\n"
          ]
        },
        {
          "output_type": "stream",
          "name": "stderr",
          "text": [
            "\n"
          ]
        }
      ]
    },
    {
      "cell_type": "code",
      "source": [
        "display(ft_results_df)"
      ],
      "metadata": {
        "id": "b8d0UMbOZt7J",
        "colab": {
          "base_uri": "https://localhost:8080/",
          "height": 241
        },
        "outputId": "f879df11-79ba-4164-e9a8-d700b0401700"
      },
      "execution_count": null,
      "outputs": [
        {
          "output_type": "display_data",
          "data": {
            "text/plain": [
              "                 Model  cv_score  val_score  precision  recall        f1  \\\n",
              "0  Logistic Regression  0.719167    0.72125   0.720259  0.7235  0.721876   \n",
              "1     Ridge Classifier  0.714500    0.72100   0.721000  0.7210  0.721000   \n",
              "2              XGBoost  0.696167    0.69600   0.695414  0.6975  0.696455   \n",
              "3             LightGBM  0.701167    0.69525   0.697521  0.6895  0.693488   \n",
              "4        Random Forest  0.689417    0.68475   0.700054  0.6465  0.672212   \n",
              "\n",
              "       auc      mse  train_time (s)  \n",
              "0  0.72125  0.27875       36.267372  \n",
              "1  0.72100  0.27900        0.972697  \n",
              "2  0.69600  0.30400       86.341797  \n",
              "3  0.69525  0.30475       41.629077  \n",
              "4  0.68475  0.31525      125.697958  "
            ],
            "text/html": [
              "\n",
              "  <div id=\"df-61af4a15-4e30-4f8f-9083-c62d90328a4c\" class=\"colab-df-container\">\n",
              "    <div>\n",
              "<style scoped>\n",
              "    .dataframe tbody tr th:only-of-type {\n",
              "        vertical-align: middle;\n",
              "    }\n",
              "\n",
              "    .dataframe tbody tr th {\n",
              "        vertical-align: top;\n",
              "    }\n",
              "\n",
              "    .dataframe thead th {\n",
              "        text-align: right;\n",
              "    }\n",
              "</style>\n",
              "<table border=\"1\" class=\"dataframe\">\n",
              "  <thead>\n",
              "    <tr style=\"text-align: right;\">\n",
              "      <th></th>\n",
              "      <th>Model</th>\n",
              "      <th>cv_score</th>\n",
              "      <th>val_score</th>\n",
              "      <th>precision</th>\n",
              "      <th>recall</th>\n",
              "      <th>f1</th>\n",
              "      <th>auc</th>\n",
              "      <th>mse</th>\n",
              "      <th>train_time (s)</th>\n",
              "    </tr>\n",
              "  </thead>\n",
              "  <tbody>\n",
              "    <tr>\n",
              "      <th>0</th>\n",
              "      <td>Logistic Regression</td>\n",
              "      <td>0.719167</td>\n",
              "      <td>0.72125</td>\n",
              "      <td>0.720259</td>\n",
              "      <td>0.7235</td>\n",
              "      <td>0.721876</td>\n",
              "      <td>0.72125</td>\n",
              "      <td>0.27875</td>\n",
              "      <td>36.267372</td>\n",
              "    </tr>\n",
              "    <tr>\n",
              "      <th>1</th>\n",
              "      <td>Ridge Classifier</td>\n",
              "      <td>0.714500</td>\n",
              "      <td>0.72100</td>\n",
              "      <td>0.721000</td>\n",
              "      <td>0.7210</td>\n",
              "      <td>0.721000</td>\n",
              "      <td>0.72100</td>\n",
              "      <td>0.27900</td>\n",
              "      <td>0.972697</td>\n",
              "    </tr>\n",
              "    <tr>\n",
              "      <th>2</th>\n",
              "      <td>XGBoost</td>\n",
              "      <td>0.696167</td>\n",
              "      <td>0.69600</td>\n",
              "      <td>0.695414</td>\n",
              "      <td>0.6975</td>\n",
              "      <td>0.696455</td>\n",
              "      <td>0.69600</td>\n",
              "      <td>0.30400</td>\n",
              "      <td>86.341797</td>\n",
              "    </tr>\n",
              "    <tr>\n",
              "      <th>3</th>\n",
              "      <td>LightGBM</td>\n",
              "      <td>0.701167</td>\n",
              "      <td>0.69525</td>\n",
              "      <td>0.697521</td>\n",
              "      <td>0.6895</td>\n",
              "      <td>0.693488</td>\n",
              "      <td>0.69525</td>\n",
              "      <td>0.30475</td>\n",
              "      <td>41.629077</td>\n",
              "    </tr>\n",
              "    <tr>\n",
              "      <th>4</th>\n",
              "      <td>Random Forest</td>\n",
              "      <td>0.689417</td>\n",
              "      <td>0.68475</td>\n",
              "      <td>0.700054</td>\n",
              "      <td>0.6465</td>\n",
              "      <td>0.672212</td>\n",
              "      <td>0.68475</td>\n",
              "      <td>0.31525</td>\n",
              "      <td>125.697958</td>\n",
              "    </tr>\n",
              "  </tbody>\n",
              "</table>\n",
              "</div>\n",
              "    <div class=\"colab-df-buttons\">\n",
              "\n",
              "  <div class=\"colab-df-container\">\n",
              "    <button class=\"colab-df-convert\" onclick=\"convertToInteractive('df-61af4a15-4e30-4f8f-9083-c62d90328a4c')\"\n",
              "            title=\"Convert this dataframe to an interactive table.\"\n",
              "            style=\"display:none;\">\n",
              "\n",
              "  <svg xmlns=\"http://www.w3.org/2000/svg\" height=\"24px\" viewBox=\"0 -960 960 960\">\n",
              "    <path d=\"M120-120v-720h720v720H120Zm60-500h600v-160H180v160Zm220 220h160v-160H400v160Zm0 220h160v-160H400v160ZM180-400h160v-160H180v160Zm440 0h160v-160H620v160ZM180-180h160v-160H180v160Zm440 0h160v-160H620v160Z\"/>\n",
              "  </svg>\n",
              "    </button>\n",
              "\n",
              "  <style>\n",
              "    .colab-df-container {\n",
              "      display:flex;\n",
              "      gap: 12px;\n",
              "    }\n",
              "\n",
              "    .colab-df-convert {\n",
              "      background-color: #E8F0FE;\n",
              "      border: none;\n",
              "      border-radius: 50%;\n",
              "      cursor: pointer;\n",
              "      display: none;\n",
              "      fill: #1967D2;\n",
              "      height: 32px;\n",
              "      padding: 0 0 0 0;\n",
              "      width: 32px;\n",
              "    }\n",
              "\n",
              "    .colab-df-convert:hover {\n",
              "      background-color: #E2EBFA;\n",
              "      box-shadow: 0px 1px 2px rgba(60, 64, 67, 0.3), 0px 1px 3px 1px rgba(60, 64, 67, 0.15);\n",
              "      fill: #174EA6;\n",
              "    }\n",
              "\n",
              "    .colab-df-buttons div {\n",
              "      margin-bottom: 4px;\n",
              "    }\n",
              "\n",
              "    [theme=dark] .colab-df-convert {\n",
              "      background-color: #3B4455;\n",
              "      fill: #D2E3FC;\n",
              "    }\n",
              "\n",
              "    [theme=dark] .colab-df-convert:hover {\n",
              "      background-color: #434B5C;\n",
              "      box-shadow: 0px 1px 3px 1px rgba(0, 0, 0, 0.15);\n",
              "      filter: drop-shadow(0px 1px 2px rgba(0, 0, 0, 0.3));\n",
              "      fill: #FFFFFF;\n",
              "    }\n",
              "  </style>\n",
              "\n",
              "    <script>\n",
              "      const buttonEl =\n",
              "        document.querySelector('#df-61af4a15-4e30-4f8f-9083-c62d90328a4c button.colab-df-convert');\n",
              "      buttonEl.style.display =\n",
              "        google.colab.kernel.accessAllowed ? 'block' : 'none';\n",
              "\n",
              "      async function convertToInteractive(key) {\n",
              "        const element = document.querySelector('#df-61af4a15-4e30-4f8f-9083-c62d90328a4c');\n",
              "        const dataTable =\n",
              "          await google.colab.kernel.invokeFunction('convertToInteractive',\n",
              "                                                    [key], {});\n",
              "        if (!dataTable) return;\n",
              "\n",
              "        const docLinkHtml = 'Like what you see? Visit the ' +\n",
              "          '<a target=\"_blank\" href=https://colab.research.google.com/notebooks/data_table.ipynb>data table notebook</a>'\n",
              "          + ' to learn more about interactive tables.';\n",
              "        element.innerHTML = '';\n",
              "        dataTable['output_type'] = 'display_data';\n",
              "        await google.colab.output.renderOutput(dataTable, element);\n",
              "        const docLink = document.createElement('div');\n",
              "        docLink.innerHTML = docLinkHtml;\n",
              "        element.appendChild(docLink);\n",
              "      }\n",
              "    </script>\n",
              "  </div>\n",
              "\n",
              "\n",
              "    <div id=\"df-5b04c340-5384-4e21-a933-cd6ee315358c\">\n",
              "      <button class=\"colab-df-quickchart\" onclick=\"quickchart('df-5b04c340-5384-4e21-a933-cd6ee315358c')\"\n",
              "                title=\"Suggest charts\"\n",
              "                style=\"display:none;\">\n",
              "\n",
              "<svg xmlns=\"http://www.w3.org/2000/svg\" height=\"24px\"viewBox=\"0 0 24 24\"\n",
              "     width=\"24px\">\n",
              "    <g>\n",
              "        <path d=\"M19 3H5c-1.1 0-2 .9-2 2v14c0 1.1.9 2 2 2h14c1.1 0 2-.9 2-2V5c0-1.1-.9-2-2-2zM9 17H7v-7h2v7zm4 0h-2V7h2v10zm4 0h-2v-4h2v4z\"/>\n",
              "    </g>\n",
              "</svg>\n",
              "      </button>\n",
              "\n",
              "<style>\n",
              "  .colab-df-quickchart {\n",
              "      --bg-color: #E8F0FE;\n",
              "      --fill-color: #1967D2;\n",
              "      --hover-bg-color: #E2EBFA;\n",
              "      --hover-fill-color: #174EA6;\n",
              "      --disabled-fill-color: #AAA;\n",
              "      --disabled-bg-color: #DDD;\n",
              "  }\n",
              "\n",
              "  [theme=dark] .colab-df-quickchart {\n",
              "      --bg-color: #3B4455;\n",
              "      --fill-color: #D2E3FC;\n",
              "      --hover-bg-color: #434B5C;\n",
              "      --hover-fill-color: #FFFFFF;\n",
              "      --disabled-bg-color: #3B4455;\n",
              "      --disabled-fill-color: #666;\n",
              "  }\n",
              "\n",
              "  .colab-df-quickchart {\n",
              "    background-color: var(--bg-color);\n",
              "    border: none;\n",
              "    border-radius: 50%;\n",
              "    cursor: pointer;\n",
              "    display: none;\n",
              "    fill: var(--fill-color);\n",
              "    height: 32px;\n",
              "    padding: 0;\n",
              "    width: 32px;\n",
              "  }\n",
              "\n",
              "  .colab-df-quickchart:hover {\n",
              "    background-color: var(--hover-bg-color);\n",
              "    box-shadow: 0 1px 2px rgba(60, 64, 67, 0.3), 0 1px 3px 1px rgba(60, 64, 67, 0.15);\n",
              "    fill: var(--button-hover-fill-color);\n",
              "  }\n",
              "\n",
              "  .colab-df-quickchart-complete:disabled,\n",
              "  .colab-df-quickchart-complete:disabled:hover {\n",
              "    background-color: var(--disabled-bg-color);\n",
              "    fill: var(--disabled-fill-color);\n",
              "    box-shadow: none;\n",
              "  }\n",
              "\n",
              "  .colab-df-spinner {\n",
              "    border: 2px solid var(--fill-color);\n",
              "    border-color: transparent;\n",
              "    border-bottom-color: var(--fill-color);\n",
              "    animation:\n",
              "      spin 1s steps(1) infinite;\n",
              "  }\n",
              "\n",
              "  @keyframes spin {\n",
              "    0% {\n",
              "      border-color: transparent;\n",
              "      border-bottom-color: var(--fill-color);\n",
              "      border-left-color: var(--fill-color);\n",
              "    }\n",
              "    20% {\n",
              "      border-color: transparent;\n",
              "      border-left-color: var(--fill-color);\n",
              "      border-top-color: var(--fill-color);\n",
              "    }\n",
              "    30% {\n",
              "      border-color: transparent;\n",
              "      border-left-color: var(--fill-color);\n",
              "      border-top-color: var(--fill-color);\n",
              "      border-right-color: var(--fill-color);\n",
              "    }\n",
              "    40% {\n",
              "      border-color: transparent;\n",
              "      border-right-color: var(--fill-color);\n",
              "      border-top-color: var(--fill-color);\n",
              "    }\n",
              "    60% {\n",
              "      border-color: transparent;\n",
              "      border-right-color: var(--fill-color);\n",
              "    }\n",
              "    80% {\n",
              "      border-color: transparent;\n",
              "      border-right-color: var(--fill-color);\n",
              "      border-bottom-color: var(--fill-color);\n",
              "    }\n",
              "    90% {\n",
              "      border-color: transparent;\n",
              "      border-bottom-color: var(--fill-color);\n",
              "    }\n",
              "  }\n",
              "</style>\n",
              "\n",
              "      <script>\n",
              "        async function quickchart(key) {\n",
              "          const quickchartButtonEl =\n",
              "            document.querySelector('#' + key + ' button');\n",
              "          quickchartButtonEl.disabled = true;  // To prevent multiple clicks.\n",
              "          quickchartButtonEl.classList.add('colab-df-spinner');\n",
              "          try {\n",
              "            const charts = await google.colab.kernel.invokeFunction(\n",
              "                'suggestCharts', [key], {});\n",
              "          } catch (error) {\n",
              "            console.error('Error during call to suggestCharts:', error);\n",
              "          }\n",
              "          quickchartButtonEl.classList.remove('colab-df-spinner');\n",
              "          quickchartButtonEl.classList.add('colab-df-quickchart-complete');\n",
              "        }\n",
              "        (() => {\n",
              "          let quickchartButtonEl =\n",
              "            document.querySelector('#df-5b04c340-5384-4e21-a933-cd6ee315358c button');\n",
              "          quickchartButtonEl.style.display =\n",
              "            google.colab.kernel.accessAllowed ? 'block' : 'none';\n",
              "        })();\n",
              "      </script>\n",
              "    </div>\n",
              "\n",
              "  <div id=\"id_0bbe93cb-b7a8-42db-aa89-a887b5768b86\">\n",
              "    <style>\n",
              "      .colab-df-generate {\n",
              "        background-color: #E8F0FE;\n",
              "        border: none;\n",
              "        border-radius: 50%;\n",
              "        cursor: pointer;\n",
              "        display: none;\n",
              "        fill: #1967D2;\n",
              "        height: 32px;\n",
              "        padding: 0 0 0 0;\n",
              "        width: 32px;\n",
              "      }\n",
              "\n",
              "      .colab-df-generate:hover {\n",
              "        background-color: #E2EBFA;\n",
              "        box-shadow: 0px 1px 2px rgba(60, 64, 67, 0.3), 0px 1px 3px 1px rgba(60, 64, 67, 0.15);\n",
              "        fill: #174EA6;\n",
              "      }\n",
              "\n",
              "      [theme=dark] .colab-df-generate {\n",
              "        background-color: #3B4455;\n",
              "        fill: #D2E3FC;\n",
              "      }\n",
              "\n",
              "      [theme=dark] .colab-df-generate:hover {\n",
              "        background-color: #434B5C;\n",
              "        box-shadow: 0px 1px 3px 1px rgba(0, 0, 0, 0.15);\n",
              "        filter: drop-shadow(0px 1px 2px rgba(0, 0, 0, 0.3));\n",
              "        fill: #FFFFFF;\n",
              "      }\n",
              "    </style>\n",
              "    <button class=\"colab-df-generate\" onclick=\"generateWithVariable('ft_results_df')\"\n",
              "            title=\"Generate code using this dataframe.\"\n",
              "            style=\"display:none;\">\n",
              "\n",
              "  <svg xmlns=\"http://www.w3.org/2000/svg\" height=\"24px\"viewBox=\"0 0 24 24\"\n",
              "       width=\"24px\">\n",
              "    <path d=\"M7,19H8.4L18.45,9,17,7.55,7,17.6ZM5,21V16.75L18.45,3.32a2,2,0,0,1,2.83,0l1.4,1.43a1.91,1.91,0,0,1,.58,1.4,1.91,1.91,0,0,1-.58,1.4L9.25,21ZM18.45,9,17,7.55Zm-12,3A5.31,5.31,0,0,0,4.9,8.1,5.31,5.31,0,0,0,1,6.5,5.31,5.31,0,0,0,4.9,4.9,5.31,5.31,0,0,0,6.5,1,5.31,5.31,0,0,0,8.1,4.9,5.31,5.31,0,0,0,12,6.5,5.46,5.46,0,0,0,6.5,12Z\"/>\n",
              "  </svg>\n",
              "    </button>\n",
              "    <script>\n",
              "      (() => {\n",
              "      const buttonEl =\n",
              "        document.querySelector('#id_0bbe93cb-b7a8-42db-aa89-a887b5768b86 button.colab-df-generate');\n",
              "      buttonEl.style.display =\n",
              "        google.colab.kernel.accessAllowed ? 'block' : 'none';\n",
              "\n",
              "      buttonEl.onclick = () => {\n",
              "        google.colab.notebook.generateWithVariable('ft_results_df');\n",
              "      }\n",
              "      })();\n",
              "    </script>\n",
              "  </div>\n",
              "\n",
              "    </div>\n",
              "  </div>\n"
            ],
            "application/vnd.google.colaboratory.intrinsic+json": {
              "type": "dataframe",
              "variable_name": "ft_results_df",
              "summary": "{\n  \"name\": \"ft_results_df\",\n  \"rows\": 5,\n  \"fields\": [\n    {\n      \"column\": \"Model\",\n      \"properties\": {\n        \"dtype\": \"string\",\n        \"num_unique_values\": 5,\n        \"samples\": [\n          \"Ridge Classifier\",\n          \"Random Forest\",\n          \"XGBoost\"\n        ],\n        \"semantic_type\": \"\",\n        \"description\": \"\"\n      }\n    },\n    {\n      \"column\": \"cv_score\",\n      \"properties\": {\n        \"dtype\": \"number\",\n        \"std\": 0.012473026452665336,\n        \"min\": 0.6894166666666667,\n        \"max\": 0.7191666666666667,\n        \"num_unique_values\": 5,\n        \"samples\": [\n          0.7144999999999999,\n          0.6894166666666667,\n          0.6961666666666666\n        ],\n        \"semantic_type\": \"\",\n        \"description\": \"\"\n      }\n    },\n    {\n      \"column\": \"val_score\",\n      \"properties\": {\n        \"dtype\": \"number\",\n        \"std\": 0.01656106125826481,\n        \"min\": 0.68475,\n        \"max\": 0.72125,\n        \"num_unique_values\": 5,\n        \"samples\": [\n          0.721,\n          0.68475,\n          0.696\n        ],\n        \"semantic_type\": \"\",\n        \"description\": \"\"\n      }\n    },\n    {\n      \"column\": \"precision\",\n      \"properties\": {\n        \"dtype\": \"number\",\n        \"std\": 0.012688692097295513,\n        \"min\": 0.6954137587238285,\n        \"max\": 0.721,\n        \"num_unique_values\": 5,\n        \"samples\": [\n          0.721,\n          0.7000541418516514,\n          0.6954137587238285\n        ],\n        \"semantic_type\": \"\",\n        \"description\": \"\"\n      }\n    },\n    {\n      \"column\": \"recall\",\n      \"properties\": {\n        \"dtype\": \"number\",\n        \"std\": 0.031125552203936896,\n        \"min\": 0.6465,\n        \"max\": 0.7235,\n        \"num_unique_values\": 5,\n        \"samples\": [\n          0.721,\n          0.6465,\n          0.6975\n        ],\n        \"semantic_type\": \"\",\n        \"description\": \"\"\n      }\n    },\n    {\n      \"column\": \"f1\",\n      \"properties\": {\n        \"dtype\": \"number\",\n        \"std\": 0.020866428753562146,\n        \"min\": 0.6722121133350663,\n        \"max\": 0.7218757794961337,\n        \"num_unique_values\": 5,\n        \"samples\": [\n          0.721,\n          0.6722121133350663,\n          0.6964553170244633\n        ],\n        \"semantic_type\": \"\",\n        \"description\": \"\"\n      }\n    },\n    {\n      \"column\": \"auc\",\n      \"properties\": {\n        \"dtype\": \"number\",\n        \"std\": 0.01656106125826487,\n        \"min\": 0.68475,\n        \"max\": 0.7212500000000001,\n        \"num_unique_values\": 5,\n        \"samples\": [\n          0.7210000000000001,\n          0.68475,\n          0.696\n        ],\n        \"semantic_type\": \"\",\n        \"description\": \"\"\n      }\n    },\n    {\n      \"column\": \"mse\",\n      \"properties\": {\n        \"dtype\": \"number\",\n        \"std\": 0.01656106125826481,\n        \"min\": 0.27875,\n        \"max\": 0.31525,\n        \"num_unique_values\": 5,\n        \"samples\": [\n          0.279,\n          0.31525,\n          0.304\n        ],\n        \"semantic_type\": \"\",\n        \"description\": \"\"\n      }\n    },\n    {\n      \"column\": \"train_time (s)\",\n      \"properties\": {\n        \"dtype\": \"number\",\n        \"std\": 48.42141373701285,\n        \"min\": 0.9726974964141846,\n        \"max\": 125.69795799255371,\n        \"num_unique_values\": 5,\n        \"samples\": [\n          0.9726974964141846,\n          125.69795799255371,\n          86.341796875\n        ],\n        \"semantic_type\": \"\",\n        \"description\": \"\"\n      }\n    }\n  ]\n}"
            }
          },
          "metadata": {}
        }
      ]
    },
    {
      "cell_type": "markdown",
      "source": [
        "## Comparaison des modèles"
      ],
      "metadata": {
        "id": "K5cgB6YI2eVw"
      }
    },
    {
      "cell_type": "code",
      "source": [
        "tfidf_results_df['Corpus'] = 'tfidf'\n",
        "w2v_results__df['Corpus'] = 'word2vec'\n",
        "ft_results_df['Corpus'] = 'fasttext'"
      ],
      "metadata": {
        "id": "1q4zgkV_6j0d"
      },
      "execution_count": null,
      "outputs": []
    },
    {
      "cell_type": "code",
      "source": [
        "res_all_df = pd.concat([tfidf_results_df, w2v_results__df, ft_results_df])\n",
        "res_all_df.rename(columns={\n",
        "    \"val_score\": \"Accuracy\",\n",
        "    \"f1\": \"F1-score\",\n",
        "    \"auc\": \"AUC\",\n",
        "    \"train_time (s)\": \"Train Time (s)\"\n",
        "}, inplace=True)"
      ],
      "metadata": {
        "id": "RrgjMtLU6qdJ"
      },
      "execution_count": null,
      "outputs": []
    },
    {
      "cell_type": "code",
      "source": [
        "fig = plt.figure(figsize=(14, 6))\n",
        "\n",
        "# F1-score\n",
        "ax = fig.add_subplot(131)\n",
        "sns.barplot(data=res_all_df, x=\"Model\", y=\"Accuracy\", hue=\"Corpus\")\n",
        "plt.title(\"Comparaison des Accuracy par modèle et corpus\")\n",
        "plt.xticks(rotation=45)\n",
        "plt.grid(axis=\"y\")\n",
        "plt.tight_layout()\n",
        "\n",
        "# AUC\n",
        "ax = fig.add_subplot(132)\n",
        "sns.barplot(data=res_all_df, x=\"Model\", y=\"AUC\", hue=\"Corpus\")\n",
        "plt.title(\"Comparaison des AUC par modèle et corpus\")\n",
        "plt.xticks(rotation=45)\n",
        "plt.grid(axis=\"y\")\n",
        "plt.tight_layout()\n",
        "\n",
        "# Train Time\n",
        "ax = fig.add_subplot(133)\n",
        "sns.barplot(data=res_all_df, x=\"Model\", y=\"Train Time (s)\", hue=\"Corpus\")\n",
        "plt.title(\"Temps d'entraînement par modèle et corpus\")\n",
        "plt.xticks(rotation=45)\n",
        "plt.yscale(\"log\")\n",
        "plt.grid(axis=\"y\")\n",
        "plt.tight_layout()\n",
        "\n",
        "plt.show()"
      ],
      "metadata": {
        "colab": {
          "base_uri": "https://localhost:8080/",
          "height": 626
        },
        "id": "32avJbgM69QM",
        "outputId": "8345fd2e-c717-4ad8-d772-7c7acf9c4901"
      },
      "execution_count": null,
      "outputs": [
        {
          "output_type": "display_data",
          "data": {
            "text/plain": [
              "<Figure size 1400x600 with 3 Axes>"
            ],
            "image/png": "[encoded data removed]"
          },
          "metadata": {}
        }
      ]
    },
    {
      "cell_type": "code",
      "source": [
        "del tfidf_results_df\n",
        "del w2v_results__df\n",
        "del ft_results_df\n",
        "del X_test_tfidf\n",
        "del X_valid_tfidf\n",
        "del X_train_tfidf\n",
        "del y_valid_tfidf\n",
        "del y_train_tfidf\n",
        "del y_test_tfidf"
      ],
      "metadata": {
        "id": "EDsjBsf5sfmh"
      },
      "execution_count": null,
      "outputs": []
    },
    {
      "cell_type": "markdown",
      "source": [
        "**Conclusion**: Parmi l’ensemble des modèles testés sur les trois représentations textuelles, **Logistic Regression avec Word2Vec** obtient les meilleurs résultats en termes de F1-score et d’AUC.\n",
        "Il offre un excellent compromis entre performance et robustesse, tout en restant simple à entraîner.\n",
        "Nous le retenons donc comme **modèle de référence pour cette prémiére approche**.\n"
      ],
      "metadata": {
        "id": "sCWRoN9L-_2u"
      }
    },
    {
      "cell_type": "markdown",
      "source": [
        "## Optimisation du modéle 1: Logistic Regression + Word2vec"
      ],
      "metadata": {
        "id": "AM4nosiM_SM1"
      }
    },
    {
      "cell_type": "code",
      "source": [
        "!pip install optuna\n",
        "import optuna"
      ],
      "metadata": {
        "colab": {
          "base_uri": "https://localhost:8080/"
        },
        "id": "vad9Uib1A93n",
        "outputId": "0b06b3d2-d5ec-4260-f91e-e58471f1794f"
      },
      "execution_count": null,
      "outputs": [
        {
          "output_type": "stream",
          "name": "stdout",
          "text": [
            "Requirement already satisfied: optuna in /usr/local/lib/python3.11/dist-packages (4.3.0)\n",
            "Requirement already satisfied: alembic>=1.5.0 in /usr/local/lib/python3.11/dist-packages (from optuna) (1.15.2)\n",
            "Requirement already satisfied: colorlog in /usr/local/lib/python3.11/dist-packages (from optuna) (6.9.0)\n",
            "Requirement already satisfied: numpy in /usr/local/lib/python3.11/dist-packages (from optuna) (2.0.2)\n",
            "Requirement already satisfied: packaging>=20.0 in /usr/local/lib/python3.11/dist-packages (from optuna) (24.2)\n",
            "Requirement already satisfied: sqlalchemy>=1.4.2 in /usr/local/lib/python3.11/dist-packages (from optuna) (2.0.40)\n",
            "Requirement already satisfied: tqdm in /usr/local/lib/python3.11/dist-packages (from optuna) (4.67.1)\n",
            "Requirement already satisfied: PyYAML in /usr/local/lib/python3.11/dist-packages (from optuna) (6.0.2)\n",
            "Requirement already satisfied: Mako in /usr/lib/python3/dist-packages (from alembic>=1.5.0->optuna) (1.1.3)\n",
            "Requirement already satisfied: typing-extensions>=4.12 in /usr/local/lib/python3.11/dist-packages (from alembic>=1.5.0->optuna) (4.13.2)\n",
            "Requirement already satisfied: greenlet>=1 in /usr/local/lib/python3.11/dist-packages (from sqlalchemy>=1.4.2->optuna) (3.2.2)\n"
          ]
        }
      ]
    },
    {
      "cell_type": "code",
      "source": [
        "def objective(trial):\n",
        "    # Hyperparamètres à optimiser\n",
        "    C = trial.suggest_loguniform('C', 1e-2, 1e2)\n",
        "    penalty = trial.suggest_categorical('penalty', ['l1', 'l2', 'elasticnet', None])\n",
        "    class_weight = trial.suggest_categorical('class_weight', [None, 'balanced'])\n",
        "    solver = trial.suggest_categorical('solver', ['liblinear', 'lbfgs', 'saga'])\n",
        "\n",
        "    # Only needed if penalty is elasticnet\n",
        "    l1_ratio = None\n",
        "    if penalty == 'elasticnet':\n",
        "        l1_ratio = trial.suggest_float('l1_ratio', 0.0, 0.5)\n",
        "\n",
        "    # Skip invalid combinations manually\n",
        "    invalid_combo = (\n",
        "        (penalty == 'l1' and solver not in ['liblinear', 'saga']) or\n",
        "        (penalty == 'elasticnet' and solver != 'saga') or\n",
        "        (penalty == 'none' and solver == 'liblinear')\n",
        "    )\n",
        "    # Skip invalid combinations manually\n",
        "    invalid_combo = (\n",
        "        (penalty == 'l1' and solver not in ['liblinear', 'saga']) or\n",
        "        (penalty == 'elasticnet' and solver != 'saga') or\n",
        "        (penalty == None and solver == 'liblinear')\n",
        "    )\n",
        "\n",
        "    if invalid_combo:\n",
        "        return 0.0\n",
        "\n",
        "    # Modèle\n",
        "    model = LogisticRegression(\n",
        "        C=C,\n",
        "        penalty=penalty,\n",
        "        class_weight=class_weight,\n",
        "        max_iter=1000,\n",
        "        solver=solver,\n",
        "        l1_ratio=l1_ratio,\n",
        "        random_state=42\n",
        "    )\n",
        "\n",
        "    # Cross-validation\n",
        "    cv = StratifiedKFold(n_splits=4, shuffle=True, random_state=42)\n",
        "    score = cross_val_score(model, X_train_w2v, y_train_w2v, cv=cv, scoring='accuracy', n_jobs=-1).mean()\n",
        "    return score"
      ],
      "metadata": {
        "id": "f04sbCZTBIwa"
      },
      "execution_count": null,
      "outputs": []
    },
    {
      "cell_type": "code",
      "source": [
        "%%time\n",
        "study = optuna.create_study(direction=\"maximize\")\n",
        "study.optimize(objective, n_trials=25, n_jobs=-1)"
      ],
      "metadata": {
        "colab": {
          "base_uri": "https://localhost:8080/"
        },
        "id": "FvHPodh4BP4-",
        "outputId": "99de2bc4-9016-421e-aad6-c3a16635ff69"
      },
      "execution_count": null,
      "outputs": [
        {
          "output_type": "stream",
          "name": "stderr",
          "text": [
            "[I 2025-05-17 21:25:23,391] A new study created in memory with name: no-name-3838aabc-a169-43f0-a134-b03971fa3891\n",
            "[I 2025-05-17 21:25:41,876] Trial 1 finished with value: 0.7183333333333334 and parameters: {'C': 0.4001041960316794, 'penalty': 'l2', 'class_weight': None, 'solver': 'liblinear'}. Best is trial 1 with value: 0.7183333333333334.\n",
            "[I 2025-05-17 21:25:44,983] Trial 0 finished with value: 0.71925 and parameters: {'C': 0.025699829117043216, 'penalty': 'l2', 'class_weight': 'balanced', 'solver': 'saga'}. Best is trial 0 with value: 0.71925.\n",
            "[I 2025-05-17 21:25:46,359] Trial 2 finished with value: 0.7193333333333334 and parameters: {'C': 0.09347389563665467, 'penalty': 'l1', 'class_weight': None, 'solver': 'liblinear'}. Best is trial 2 with value: 0.7193333333333334.\n",
            "[I 2025-05-17 21:28:07,281] Trial 3 finished with value: 0.7181666666666666 and parameters: {'C': 0.6280046603347998, 'penalty': 'elasticnet', 'class_weight': 'balanced', 'solver': 'saga', 'l1_ratio': 0.3285952748831896}. Best is trial 2 with value: 0.7193333333333334.\n",
            "[I 2025-05-17 21:28:07,288] Trial 5 finished with value: 0.0 and parameters: {'C': 0.15037803061203764, 'penalty': 'elasticnet', 'class_weight': None, 'solver': 'lbfgs', 'l1_ratio': 0.3919118073784345}. Best is trial 2 with value: 0.7193333333333334.\n",
            "[I 2025-05-17 21:28:07,292] Trial 6 finished with value: 0.0 and parameters: {'C': 0.6349301265715795, 'penalty': 'l1', 'class_weight': 'balanced', 'solver': 'lbfgs'}. Best is trial 2 with value: 0.7193333333333334.\n",
            "[I 2025-05-17 21:28:07,303] Trial 7 finished with value: 0.0 and parameters: {'C': 50.788415368765996, 'penalty': 'l1', 'class_weight': None, 'solver': 'lbfgs'}. Best is trial 2 with value: 0.7193333333333334.\n",
            "[I 2025-05-17 21:32:15,175] Trial 4 finished with value: 0.7175 and parameters: {'C': 12.258280207942462, 'penalty': None, 'class_weight': None, 'solver': 'saga'}. Best is trial 2 with value: 0.7193333333333334.\n",
            "[I 2025-05-17 21:33:58,798] Trial 8 finished with value: 0.7180833333333333 and parameters: {'C': 0.6435331681493238, 'penalty': 'l2', 'class_weight': None, 'solver': 'saga'}. Best is trial 2 with value: 0.7193333333333334.\n",
            "[I 2025-05-17 21:33:58,802] Trial 10 finished with value: 0.0 and parameters: {'C': 0.6808377036952096, 'penalty': 'l1', 'class_weight': 'balanced', 'solver': 'lbfgs'}. Best is trial 2 with value: 0.7193333333333334.\n",
            "[I 2025-05-17 21:33:58,828] Trial 11 finished with value: 0.0 and parameters: {'C': 0.01022744432229874, 'penalty': None, 'class_weight': None, 'solver': 'liblinear'}. Best is trial 2 with value: 0.7193333333333334.\n",
            "[I 2025-05-17 21:34:01,936] Trial 9 finished with value: 0.71825 and parameters: {'C': 0.11473414000811022, 'penalty': 'l2', 'class_weight': 'balanced', 'solver': 'liblinear'}. Best is trial 2 with value: 0.7193333333333334.\n",
            "[I 2025-05-17 21:34:04,693] Trial 12 finished with value: 0.7200833333333333 and parameters: {'C': 0.017986470213517514, 'penalty': 'l2', 'class_weight': 'balanced', 'solver': 'liblinear'}. Best is trial 12 with value: 0.7200833333333333.\n",
            "[I 2025-05-17 21:34:12,218] Trial 13 finished with value: 0.6869166666666666 and parameters: {'C': 0.014881153393148685, 'penalty': 'l1', 'class_weight': 'balanced', 'solver': 'saga'}. Best is trial 12 with value: 0.7200833333333333.\n",
            "[I 2025-05-17 21:34:13,510] Trial 14 finished with value: 0.7086666666666667 and parameters: {'C': 0.027869874138256097, 'penalty': 'l1', 'class_weight': 'balanced', 'solver': 'liblinear'}. Best is trial 12 with value: 0.7200833333333333.\n",
            "[I 2025-05-17 21:34:19,430] Trial 15 finished with value: 0.7191666666666667 and parameters: {'C': 0.08437315190104781, 'penalty': 'l2', 'class_weight': None, 'solver': 'liblinear'}. Best is trial 12 with value: 0.7200833333333333.\n",
            "[I 2025-05-17 21:34:19,455] Trial 17 finished with value: 0.0 and parameters: {'C': 3.529424130083425, 'penalty': None, 'class_weight': None, 'solver': 'liblinear'}. Best is trial 12 with value: 0.7200833333333333.\n",
            "[I 2025-05-17 21:34:19,483] Trial 18 finished with value: 0.0 and parameters: {'C': 0.03976768162588534, 'penalty': 'elasticnet', 'class_weight': 'balanced', 'solver': 'liblinear', 'l1_ratio': 0.026643053406750272}. Best is trial 12 with value: 0.7200833333333333.\n",
            "[I 2025-05-17 21:34:24,130] Trial 16 finished with value: 0.71925 and parameters: {'C': 0.07985313741453608, 'penalty': 'l2', 'class_weight': None, 'solver': 'liblinear'}. Best is trial 12 with value: 0.7200833333333333.\n",
            "[I 2025-05-17 21:34:31,671] Trial 19 finished with value: 0.7176666666666667 and parameters: {'C': 0.202347752927308, 'penalty': 'l1', 'class_weight': 'balanced', 'solver': 'liblinear'}. Best is trial 12 with value: 0.7200833333333333.\n",
            "[I 2025-05-17 21:36:13,348] Trial 20 finished with value: 0.7175 and parameters: {'C': 2.94289186050359, 'penalty': 'l1', 'class_weight': 'balanced', 'solver': 'liblinear'}. Best is trial 12 with value: 0.7200833333333333.\n",
            "[I 2025-05-17 21:36:33,972] Trial 21 finished with value: 0.717 and parameters: {'C': 5.296031806013409, 'penalty': 'l2', 'class_weight': None, 'solver': 'liblinear'}. Best is trial 12 with value: 0.7200833333333333.\n",
            "[I 2025-05-17 21:36:43,364] Trial 22 finished with value: 0.7195 and parameters: {'C': 0.032125332227275476, 'penalty': 'l2', 'class_weight': 'balanced', 'solver': 'saga'}. Best is trial 12 with value: 0.7200833333333333.\n",
            "[I 2025-05-17 21:36:55,301] Trial 23 finished with value: 0.7194166666666667 and parameters: {'C': 0.03488085284059417, 'penalty': 'l2', 'class_weight': 'balanced', 'solver': 'saga'}. Best is trial 12 with value: 0.7200833333333333.\n",
            "[I 2025-05-17 21:37:10,944] Trial 24 finished with value: 0.7190833333333333 and parameters: {'C': 0.054054146611246634, 'penalty': 'l2', 'class_weight': 'balanced', 'solver': 'saga'}. Best is trial 12 with value: 0.7200833333333333.\n"
          ]
        },
        {
          "output_type": "stream",
          "name": "stdout",
          "text": [
            "CPU times: user 1min 30s, sys: 3.11 s, total: 1min 33s\n",
            "Wall time: 11min 47s\n"
          ]
        }
      ]
    },
    {
      "cell_type": "code",
      "source": [
        "print(\"Best score (F1):\", study.best_value)\n",
        "print(\"Best params:\", study.best_params)"
      ],
      "metadata": {
        "colab": {
          "base_uri": "https://localhost:8080/"
        },
        "id": "8PGpv4HoHFBs",
        "outputId": "1523aaaa-05a4-456e-c561-e35282b2dfe6"
      },
      "execution_count": null,
      "outputs": [
        {
          "output_type": "stream",
          "name": "stdout",
          "text": [
            "Best score (F1): 0.7200833333333333\n",
            "Best params: {'C': 0.017986470213517514, 'penalty': 'l2', 'class_weight': 'balanced', 'solver': 'liblinear'}\n"
          ]
        }
      ]
    },
    {
      "cell_type": "code",
      "source": [
        "# La relation entre chaque hyperparamètre et la valeur de la fonction objectif.\n",
        "optuna.visualization.plot_slice(study)"
      ],
      "metadata": {
        "colab": {
          "base_uri": "https://localhost:8080/",
          "height": 562
        },
        "id": "tgy2AOIaHH76",
        "outputId": "58707f94-57e6-400e-9348-e4bcd41e27cd"
      },
      "execution_count": null,
      "outputs": [
        {
          "output_type": "display_data",
          "data": {
            "text/html": [
              "<html>\n",
              "<head><meta charset=\"utf-8\" /></head>\n",
              "<body>\n",
              "    <div>            <script src=\"https://cdnjs.cloudflare.com/ajax/libs/mathjax/2.7.5/MathJax.js?config=TeX-AMS-MML_SVG\"></script><script type=\"text/javascript\">if (window.MathJax && window.MathJax.Hub && window.MathJax.Hub.Config) {window.MathJax.Hub.Config({SVG: {font: \"STIX-Web\"}});}</script>                <script type=\"text/javascript\">window.PlotlyConfig = {MathJaxConfig: 'local'};</script>\n",
              "        <script charset=\"utf-8\" src=\"https://cdn.plot.ly/plotly-2.35.2.min.js\"></script>                <div id=\"bef3ac60-ec75-4f82-a215-7d9ed83da1c5\" class=\"plotly-graph-div\" style=\"height:525px; width:1500px;\"></div>            <script type=\"text/javascript\">                                    window.PLOTLYENV=window.PLOTLYENV || {};                                    if (document.getElementById(\"bef3ac60-ec75-4f82-a215-7d9ed83da1c5\")) {                    Plotly.newPlot(                        \"bef3ac60-ec75-4f82-a215-7d9ed83da1c5\",                        [{\"marker\":{\"color\":[0,1,2,3,4,5,6,7,8,9,10,11,12,13,14,15,16,17,18,19,20,21,22,23,24],\"colorbar\":{\"title\":{\"text\":\"Trial\"},\"x\":1.0,\"xpad\":40},\"colorscale\":[[0.0,\"rgb(247,251,255)\"],[0.125,\"rgb(222,235,247)\"],[0.25,\"rgb(198,219,239)\"],[0.375,\"rgb(158,202,225)\"],[0.5,\"rgb(107,174,214)\"],[0.625,\"rgb(66,146,198)\"],[0.75,\"rgb(33,113,181)\"],[0.875,\"rgb(8,81,156)\"],[1.0,\"rgb(8,48,107)\"]],\"line\":{\"color\":\"Grey\",\"width\":0.5},\"showscale\":true},\"mode\":\"markers\",\"name\":\"Feasible Trial\",\"showlegend\":false,\"x\":[0.025699829117043216,0.4001041960316794,0.09347389563665467,0.6280046603347998,12.258280207942462,0.15037803061203764,0.6349301265715795,50.788415368765996,0.6435331681493238,0.11473414000811022,0.6808377036952096,0.01022744432229874,0.017986470213517514,0.014881153393148685,0.027869874138256097,0.08437315190104781,0.07985313741453608,3.529424130083425,0.03976768162588534,0.202347752927308,2.94289186050359,5.296031806013409,0.032125332227275476,0.03488085284059417,0.054054146611246634],\"y\":[0.71925,0.7183333333333334,0.7193333333333334,0.7181666666666666,0.7175,0.0,0.0,0.0,0.7180833333333333,0.71825,0.0,0.0,0.7200833333333333,0.6869166666666666,0.7086666666666667,0.7191666666666667,0.71925,0.0,0.0,0.7176666666666667,0.7175,0.717,0.7195,0.7194166666666667,0.7190833333333333],\"type\":\"scatter\",\"xaxis\":\"x\",\"yaxis\":\"y\"},{\"marker\":{\"color\":[0,1,2,3,4,5,6,7,8,9,10,11,12,13,14,15,16,17,18,19,20,21,22,23,24],\"colorbar\":{\"title\":{\"text\":\"Trial\"},\"x\":1.0,\"xpad\":40},\"colorscale\":[[0.0,\"rgb(247,251,255)\"],[0.125,\"rgb(222,235,247)\"],[0.25,\"rgb(198,219,239)\"],[0.375,\"rgb(158,202,225)\"],[0.5,\"rgb(107,174,214)\"],[0.625,\"rgb(66,146,198)\"],[0.75,\"rgb(33,113,181)\"],[0.875,\"rgb(8,81,156)\"],[1.0,\"rgb(8,48,107)\"]],\"line\":{\"color\":\"Grey\",\"width\":0.5},\"showscale\":false},\"mode\":\"markers\",\"name\":\"Feasible Trial\",\"showlegend\":false,\"x\":[\"balanced\",null,null,\"balanced\",null,null,\"balanced\",null,null,\"balanced\",\"balanced\",null,\"balanced\",\"balanced\",\"balanced\",null,null,null,\"balanced\",\"balanced\",\"balanced\",null,\"balanced\",\"balanced\",\"balanced\"],\"y\":[0.71925,0.7183333333333334,0.7193333333333334,0.7181666666666666,0.7175,0.0,0.0,0.0,0.7180833333333333,0.71825,0.0,0.0,0.7200833333333333,0.6869166666666666,0.7086666666666667,0.7191666666666667,0.71925,0.0,0.0,0.7176666666666667,0.7175,0.717,0.7195,0.7194166666666667,0.7190833333333333],\"type\":\"scatter\",\"xaxis\":\"x2\",\"yaxis\":\"y2\"},{\"marker\":{\"color\":[3,5,18],\"colorbar\":{\"title\":{\"text\":\"Trial\"},\"x\":1.0,\"xpad\":40},\"colorscale\":[[0.0,\"rgb(247,251,255)\"],[0.125,\"rgb(222,235,247)\"],[0.25,\"rgb(198,219,239)\"],[0.375,\"rgb(158,202,225)\"],[0.5,\"rgb(107,174,214)\"],[0.625,\"rgb(66,146,198)\"],[0.75,\"rgb(33,113,181)\"],[0.875,\"rgb(8,81,156)\"],[1.0,\"rgb(8,48,107)\"]],\"line\":{\"color\":\"Grey\",\"width\":0.5},\"showscale\":false},\"mode\":\"markers\",\"name\":\"Feasible Trial\",\"showlegend\":false,\"x\":[0.3285952748831896,0.3919118073784345,0.026643053406750272],\"y\":[0.7181666666666666,0.0,0.0],\"type\":\"scatter\",\"xaxis\":\"x3\",\"yaxis\":\"y3\"},{\"marker\":{\"color\":[0,1,2,3,4,5,6,7,8,9,10,11,12,13,14,15,16,17,18,19,20,21,22,23,24],\"colorbar\":{\"title\":{\"text\":\"Trial\"},\"x\":1.0,\"xpad\":40},\"colorscale\":[[0.0,\"rgb(247,251,255)\"],[0.125,\"rgb(222,235,247)\"],[0.25,\"rgb(198,219,239)\"],[0.375,\"rgb(158,202,225)\"],[0.5,\"rgb(107,174,214)\"],[0.625,\"rgb(66,146,198)\"],[0.75,\"rgb(33,113,181)\"],[0.875,\"rgb(8,81,156)\"],[1.0,\"rgb(8,48,107)\"]],\"line\":{\"color\":\"Grey\",\"width\":0.5},\"showscale\":false},\"mode\":\"markers\",\"name\":\"Feasible Trial\",\"showlegend\":false,\"x\":[\"l2\",\"l2\",\"l1\",\"elasticnet\",null,\"elasticnet\",\"l1\",\"l1\",\"l2\",\"l2\",\"l1\",null,\"l2\",\"l1\",\"l1\",\"l2\",\"l2\",null,\"elasticnet\",\"l1\",\"l1\",\"l2\",\"l2\",\"l2\",\"l2\"],\"y\":[0.71925,0.7183333333333334,0.7193333333333334,0.7181666666666666,0.7175,0.0,0.0,0.0,0.7180833333333333,0.71825,0.0,0.0,0.7200833333333333,0.6869166666666666,0.7086666666666667,0.7191666666666667,0.71925,0.0,0.0,0.7176666666666667,0.7175,0.717,0.7195,0.7194166666666667,0.7190833333333333],\"type\":\"scatter\",\"xaxis\":\"x4\",\"yaxis\":\"y4\"},{\"marker\":{\"color\":[0,1,2,3,4,5,6,7,8,9,10,11,12,13,14,15,16,17,18,19,20,21,22,23,24],\"colorbar\":{\"title\":{\"text\":\"Trial\"},\"x\":1.0,\"xpad\":40},\"colorscale\":[[0.0,\"rgb(247,251,255)\"],[0.125,\"rgb(222,235,247)\"],[0.25,\"rgb(198,219,239)\"],[0.375,\"rgb(158,202,225)\"],[0.5,\"rgb(107,174,214)\"],[0.625,\"rgb(66,146,198)\"],[0.75,\"rgb(33,113,181)\"],[0.875,\"rgb(8,81,156)\"],[1.0,\"rgb(8,48,107)\"]],\"line\":{\"color\":\"Grey\",\"width\":0.5},\"showscale\":false},\"mode\":\"markers\",\"name\":\"Feasible Trial\",\"showlegend\":false,\"x\":[\"saga\",\"liblinear\",\"liblinear\",\"saga\",\"saga\",\"lbfgs\",\"lbfgs\",\"lbfgs\",\"saga\",\"liblinear\",\"lbfgs\",\"liblinear\",\"liblinear\",\"saga\",\"liblinear\",\"liblinear\",\"liblinear\",\"liblinear\",\"liblinear\",\"liblinear\",\"liblinear\",\"liblinear\",\"saga\",\"saga\",\"saga\"],\"y\":[0.71925,0.7183333333333334,0.7193333333333334,0.7181666666666666,0.7175,0.0,0.0,0.0,0.7180833333333333,0.71825,0.0,0.0,0.7200833333333333,0.6869166666666666,0.7086666666666667,0.7191666666666667,0.71925,0.0,0.0,0.7176666666666667,0.7175,0.717,0.7195,0.7194166666666667,0.7190833333333333],\"type\":\"scatter\",\"xaxis\":\"x5\",\"yaxis\":\"y5\"}],                        {\"template\":{\"data\":{\"histogram2dcontour\":[{\"type\":\"histogram2dcontour\",\"colorbar\":{\"outlinewidth\":0,\"ticks\":\"\"},\"colorscale\":[[0.0,\"#0d0887\"],[0.1111111111111111,\"#46039f\"],[0.2222222222222222,\"#7201a8\"],[0.3333333333333333,\"#9c179e\"],[0.4444444444444444,\"#bd3786\"],[0.5555555555555556,\"#d8576b\"],[0.6666666666666666,\"#ed7953\"],[0.7777777777777778,\"#fb9f3a\"],[0.8888888888888888,\"#fdca26\"],[1.0,\"#f0f921\"]]}],\"choropleth\":[{\"type\":\"choropleth\",\"colorbar\":{\"outlinewidth\":0,\"ticks\":\"\"}}],\"histogram2d\":[{\"type\":\"histogram2d\",\"colorbar\":{\"outlinewidth\":0,\"ticks\":\"\"},\"colorscale\":[[0.0,\"#0d0887\"],[0.1111111111111111,\"#46039f\"],[0.2222222222222222,\"#7201a8\"],[0.3333333333333333,\"#9c179e\"],[0.4444444444444444,\"#bd3786\"],[0.5555555555555556,\"#d8576b\"],[0.6666666666666666,\"#ed7953\"],[0.7777777777777778,\"#fb9f3a\"],[0.8888888888888888,\"#fdca26\"],[1.0,\"#f0f921\"]]}],\"heatmap\":[{\"type\":\"heatmap\",\"colorbar\":{\"outlinewidth\":0,\"ticks\":\"\"},\"colorscale\":[[0.0,\"#0d0887\"],[0.1111111111111111,\"#46039f\"],[0.2222222222222222,\"#7201a8\"],[0.3333333333333333,\"#9c179e\"],[0.4444444444444444,\"#bd3786\"],[0.5555555555555556,\"#d8576b\"],[0.6666666666666666,\"#ed7953\"],[0.7777777777777778,\"#fb9f3a\"],[0.8888888888888888,\"#fdca26\"],[1.0,\"#f0f921\"]]}],\"heatmapgl\":[{\"type\":\"heatmapgl\",\"colorbar\":{\"outlinewidth\":0,\"ticks\":\"\"},\"colorscale\":[[0.0,\"#0d0887\"],[0.1111111111111111,\"#46039f\"],[0.2222222222222222,\"#7201a8\"],[0.3333333333333333,\"#9c179e\"],[0.4444444444444444,\"#bd3786\"],[0.5555555555555556,\"#d8576b\"],[0.6666666666666666,\"#ed7953\"],[0.7777777777777778,\"#fb9f3a\"],[0.8888888888888888,\"#fdca26\"],[1.0,\"#f0f921\"]]}],\"contourcarpet\":[{\"type\":\"contourcarpet\",\"colorbar\":{\"outlinewidth\":0,\"ticks\":\"\"}}],\"contour\":[{\"type\":\"contour\",\"colorbar\":{\"outlinewidth\":0,\"ticks\":\"\"},\"colorscale\":[[0.0,\"#0d0887\"],[0.1111111111111111,\"#46039f\"],[0.2222222222222222,\"#7201a8\"],[0.3333333333333333,\"#9c179e\"],[0.4444444444444444,\"#bd3786\"],[0.5555555555555556,\"#d8576b\"],[0.6666666666666666,\"#ed7953\"],[0.7777777777777778,\"#fb9f3a\"],[0.8888888888888888,\"#fdca26\"],[1.0,\"#f0f921\"]]}],\"surface\":[{\"type\":\"surface\",\"colorbar\":{\"outlinewidth\":0,\"ticks\":\"\"},\"colorscale\":[[0.0,\"#0d0887\"],[0.1111111111111111,\"#46039f\"],[0.2222222222222222,\"#7201a8\"],[0.3333333333333333,\"#9c179e\"],[0.4444444444444444,\"#bd3786\"],[0.5555555555555556,\"#d8576b\"],[0.6666666666666666,\"#ed7953\"],[0.7777777777777778,\"#fb9f3a\"],[0.8888888888888888,\"#fdca26\"],[1.0,\"#f0f921\"]]}],\"mesh3d\":[{\"type\":\"mesh3d\",\"colorbar\":{\"outlinewidth\":0,\"ticks\":\"\"}}],\"scatter\":[{\"fillpattern\":{\"fillmode\":\"overlay\",\"size\":10,\"solidity\":0.2},\"type\":\"scatter\"}],\"parcoords\":[{\"type\":\"parcoords\",\"line\":{\"colorbar\":{\"outlinewidth\":0,\"ticks\":\"\"}}}],\"scatterpolargl\":[{\"type\":\"scatterpolargl\",\"marker\":{\"colorbar\":{\"outlinewidth\":0,\"ticks\":\"\"}}}],\"bar\":[{\"error_x\":{\"color\":\"#2a3f5f\"},\"error_y\":{\"color\":\"#2a3f5f\"},\"marker\":{\"line\":{\"color\":\"#E5ECF6\",\"width\":0.5},\"pattern\":{\"fillmode\":\"overlay\",\"size\":10,\"solidity\":0.2}},\"type\":\"bar\"}],\"scattergeo\":[{\"type\":\"scattergeo\",\"marker\":{\"colorbar\":{\"outlinewidth\":0,\"ticks\":\"\"}}}],\"scatterpolar\":[{\"type\":\"scatterpolar\",\"marker\":{\"colorbar\":{\"outlinewidth\":0,\"ticks\":\"\"}}}],\"histogram\":[{\"marker\":{\"pattern\":{\"fillmode\":\"overlay\",\"size\":10,\"solidity\":0.2}},\"type\":\"histogram\"}],\"scattergl\":[{\"type\":\"scattergl\",\"marker\":{\"colorbar\":{\"outlinewidth\":0,\"ticks\":\"\"}}}],\"scatter3d\":[{\"type\":\"scatter3d\",\"line\":{\"colorbar\":{\"outlinewidth\":0,\"ticks\":\"\"}},\"marker\":{\"colorbar\":{\"outlinewidth\":0,\"ticks\":\"\"}}}],\"scattermapbox\":[{\"type\":\"scattermapbox\",\"marker\":{\"colorbar\":{\"outlinewidth\":0,\"ticks\":\"\"}}}],\"scatterternary\":[{\"type\":\"scatterternary\",\"marker\":{\"colorbar\":{\"outlinewidth\":0,\"ticks\":\"\"}}}],\"scattercarpet\":[{\"type\":\"scattercarpet\",\"marker\":{\"colorbar\":{\"outlinewidth\":0,\"ticks\":\"\"}}}],\"carpet\":[{\"aaxis\":{\"endlinecolor\":\"#2a3f5f\",\"gridcolor\":\"white\",\"linecolor\":\"white\",\"minorgridcolor\":\"white\",\"startlinecolor\":\"#2a3f5f\"},\"baxis\":{\"endlinecolor\":\"#2a3f5f\",\"gridcolor\":\"white\",\"linecolor\":\"white\",\"minorgridcolor\":\"white\",\"startlinecolor\":\"#2a3f5f\"},\"type\":\"carpet\"}],\"table\":[{\"cells\":{\"fill\":{\"color\":\"#EBF0F8\"},\"line\":{\"color\":\"white\"}},\"header\":{\"fill\":{\"color\":\"#C8D4E3\"},\"line\":{\"color\":\"white\"}},\"type\":\"table\"}],\"barpolar\":[{\"marker\":{\"line\":{\"color\":\"#E5ECF6\",\"width\":0.5},\"pattern\":{\"fillmode\":\"overlay\",\"size\":10,\"solidity\":0.2}},\"type\":\"barpolar\"}],\"pie\":[{\"automargin\":true,\"type\":\"pie\"}]},\"layout\":{\"autotypenumbers\":\"strict\",\"colorway\":[\"#636efa\",\"#EF553B\",\"#00cc96\",\"#ab63fa\",\"#FFA15A\",\"#19d3f3\",\"#FF6692\",\"#B6E880\",\"#FF97FF\",\"#FECB52\"],\"font\":{\"color\":\"#2a3f5f\"},\"hovermode\":\"closest\",\"hoverlabel\":{\"align\":\"left\"},\"paper_bgcolor\":\"white\",\"plot_bgcolor\":\"#E5ECF6\",\"polar\":{\"bgcolor\":\"#E5ECF6\",\"angularaxis\":{\"gridcolor\":\"white\",\"linecolor\":\"white\",\"ticks\":\"\"},\"radialaxis\":{\"gridcolor\":\"white\",\"linecolor\":\"white\",\"ticks\":\"\"}},\"ternary\":{\"bgcolor\":\"#E5ECF6\",\"aaxis\":{\"gridcolor\":\"white\",\"linecolor\":\"white\",\"ticks\":\"\"},\"baxis\":{\"gridcolor\":\"white\",\"linecolor\":\"white\",\"ticks\":\"\"},\"caxis\":{\"gridcolor\":\"white\",\"linecolor\":\"white\",\"ticks\":\"\"}},\"coloraxis\":{\"colorbar\":{\"outlinewidth\":0,\"ticks\":\"\"}},\"colorscale\":{\"sequential\":[[0.0,\"#0d0887\"],[0.1111111111111111,\"#46039f\"],[0.2222222222222222,\"#7201a8\"],[0.3333333333333333,\"#9c179e\"],[0.4444444444444444,\"#bd3786\"],[0.5555555555555556,\"#d8576b\"],[0.6666666666666666,\"#ed7953\"],[0.7777777777777778,\"#fb9f3a\"],[0.8888888888888888,\"#fdca26\"],[1.0,\"#f0f921\"]],\"sequentialminus\":[[0.0,\"#0d0887\"],[0.1111111111111111,\"#46039f\"],[0.2222222222222222,\"#7201a8\"],[0.3333333333333333,\"#9c179e\"],[0.4444444444444444,\"#bd3786\"],[0.5555555555555556,\"#d8576b\"],[0.6666666666666666,\"#ed7953\"],[0.7777777777777778,\"#fb9f3a\"],[0.8888888888888888,\"#fdca26\"],[1.0,\"#f0f921\"]],\"diverging\":[[0,\"#8e0152\"],[0.1,\"#c51b7d\"],[0.2,\"#de77ae\"],[0.3,\"#f1b6da\"],[0.4,\"#fde0ef\"],[0.5,\"#f7f7f7\"],[0.6,\"#e6f5d0\"],[0.7,\"#b8e186\"],[0.8,\"#7fbc41\"],[0.9,\"#4d9221\"],[1,\"#276419\"]]},\"xaxis\":{\"gridcolor\":\"white\",\"linecolor\":\"white\",\"ticks\":\"\",\"title\":{\"standoff\":15},\"zerolinecolor\":\"white\",\"automargin\":true,\"zerolinewidth\":2},\"yaxis\":{\"gridcolor\":\"white\",\"linecolor\":\"white\",\"ticks\":\"\",\"title\":{\"standoff\":15},\"zerolinecolor\":\"white\",\"automargin\":true,\"zerolinewidth\":2},\"scene\":{\"xaxis\":{\"backgroundcolor\":\"#E5ECF6\",\"gridcolor\":\"white\",\"linecolor\":\"white\",\"showbackground\":true,\"ticks\":\"\",\"zerolinecolor\":\"white\",\"gridwidth\":2},\"yaxis\":{\"backgroundcolor\":\"#E5ECF6\",\"gridcolor\":\"white\",\"linecolor\":\"white\",\"showbackground\":true,\"ticks\":\"\",\"zerolinecolor\":\"white\",\"gridwidth\":2},\"zaxis\":{\"backgroundcolor\":\"#E5ECF6\",\"gridcolor\":\"white\",\"linecolor\":\"white\",\"showbackground\":true,\"ticks\":\"\",\"zerolinecolor\":\"white\",\"gridwidth\":2}},\"shapedefaults\":{\"line\":{\"color\":\"#2a3f5f\"}},\"annotationdefaults\":{\"arrowcolor\":\"#2a3f5f\",\"arrowhead\":0,\"arrowwidth\":1},\"geo\":{\"bgcolor\":\"white\",\"landcolor\":\"#E5ECF6\",\"subunitcolor\":\"white\",\"showland\":true,\"showlakes\":true,\"lakecolor\":\"white\"},\"title\":{\"x\":0.05},\"mapbox\":{\"style\":\"light\"}}},\"xaxis\":{\"anchor\":\"y\",\"domain\":[0.0,0.16799999999999998],\"title\":{\"text\":\"C\"},\"type\":\"log\"},\"yaxis\":{\"anchor\":\"x\",\"domain\":[0.0,1.0],\"title\":{\"text\":\"Objective Value\"}},\"xaxis2\":{\"anchor\":\"y2\",\"domain\":[0.208,0.376],\"title\":{\"text\":\"class_weight\"},\"type\":\"category\",\"categoryorder\":\"array\",\"categoryarray\":[null,\"balanced\"]},\"yaxis2\":{\"anchor\":\"x2\",\"domain\":[0.0,1.0],\"matches\":\"y\",\"showticklabels\":false},\"xaxis3\":{\"anchor\":\"y3\",\"domain\":[0.416,0.584],\"title\":{\"text\":\"l1_ratio\"}},\"yaxis3\":{\"anchor\":\"x3\",\"domain\":[0.0,1.0],\"matches\":\"y\",\"showticklabels\":false},\"xaxis4\":{\"anchor\":\"y4\",\"domain\":[0.624,0.792],\"title\":{\"text\":\"penalty\"},\"type\":\"category\",\"categoryorder\":\"array\",\"categoryarray\":[\"l1\",\"l2\",\"elasticnet\",null]},\"yaxis4\":{\"anchor\":\"x4\",\"domain\":[0.0,1.0],\"matches\":\"y\",\"showticklabels\":false},\"xaxis5\":{\"anchor\":\"y5\",\"domain\":[0.832,1.0],\"title\":{\"text\":\"solver\"},\"type\":\"category\",\"categoryorder\":\"array\",\"categoryarray\":[\"liblinear\",\"lbfgs\",\"saga\"]},\"yaxis5\":{\"anchor\":\"x5\",\"domain\":[0.0,1.0],\"matches\":\"y\",\"showticklabels\":false},\"title\":{\"text\":\"Slice Plot\"},\"width\":1500},                        {\"responsive\": true}                    ).then(function(){\n",
              "                            \n",
              "var gd = document.getElementById('bef3ac60-ec75-4f82-a215-7d9ed83da1c5');\n",
              "var x = new MutationObserver(function (mutations, observer) {{\n",
              "        var display = window.getComputedStyle(gd).display;\n",
              "        if (!display || display === 'none') {{\n",
              "            console.log([gd, 'removed!']);\n",
              "            Plotly.purge(gd);\n",
              "            observer.disconnect();\n",
              "        }}\n",
              "}});\n",
              "\n",
              "// Listen for the removal of the full notebook cells\n",
              "var notebookContainer = gd.closest('#notebook-container');\n",
              "if (notebookContainer) {{\n",
              "    x.observe(notebookContainer, {childList: true});\n",
              "}}\n",
              "\n",
              "// Listen for the clearing of the current output cell\n",
              "var outputEl = gd.closest('.output');\n",
              "if (outputEl) {{\n",
              "    x.observe(outputEl, {childList: true});\n",
              "}}\n",
              "\n",
              "                        })                };                            </script>        </div>\n",
              "</body>\n",
              "</html>"
            ]
          },
          "metadata": {}
        }
      ]
    },
    {
      "cell_type": "code",
      "source": [
        "mlflow.set_experiment(\"logistic-regression-with-bert-optimised-hyperparameters\")\n",
        "with mlflow.start_run():\n",
        "  from sklearn.metrics import classification_report\n",
        "\n",
        "  lr_model = LogisticRegression(**study.best_params, max_iter=1000)\n",
        "  lr_model.fit(X_train_w2v, y_train_w2v)\n",
        "\n",
        "  # prédiction\n",
        "  y_pred = lr_model.predict(X_valid_w2v)\n",
        "  accuracy = accuracy_score(y_valid_w2v, y_pred)\n",
        "  loss = mean_squared_error(y_valid_w2v, y_pred)\n",
        "\n",
        "  mlflow.log_params(study.best_params)\n",
        "  mlflow.log_metric(\"accuracy\", accuracy)\n",
        "  mlflow.log_metric(\"loss (mse)\", loss)\n",
        "\n",
        "  # évaluation\n",
        "  print(\"Accuracy:\", accuracy)\n",
        "  print(\"MSE:\", loss)\n",
        "  print(classification_report(y_valid_w2v, y_pred))"
      ],
      "metadata": {
        "colab": {
          "base_uri": "https://localhost:8080/"
        },
        "id": "VCBOEQYi_sXP",
        "outputId": "20ffddaa-2c58-4ce6-efc9-c60bc11d5ecb"
      },
      "execution_count": null,
      "outputs": [
        {
          "output_type": "stream",
          "name": "stdout",
          "text": [
            "Accuracy: 0.72075\n",
            "              precision    recall  f1-score   support\n",
            "\n",
            "           0       0.72      0.72      0.72      2000\n",
            "           1       0.72      0.72      0.72      2000\n",
            "\n",
            "    accuracy                           0.72      4000\n",
            "   macro avg       0.72      0.72      0.72      4000\n",
            "weighted avg       0.72      0.72      0.72      4000\n",
            "\n"
          ]
        }
      ]
    },
    {
      "cell_type": "markdown",
      "source": [
        "> Validation avec Test set"
      ],
      "metadata": {
        "id": "eSvNHPeHtlTP"
      }
    },
    {
      "cell_type": "code",
      "source": [
        "y_pred = lr_model.predict(X_test_w2v)\n",
        "print(\"Accuracy:\", accuracy_score(y_test_w2v, y_pred))\n",
        "print(classification_report(y_test_w2v, y_pred))"
      ],
      "metadata": {
        "id": "DYeqcw-2twPM",
        "outputId": "57e83204-57a8-40f7-b4e7-0052f2a9c1aa",
        "colab": {
          "base_uri": "https://localhost:8080/"
        }
      },
      "execution_count": null,
      "outputs": [
        {
          "output_type": "stream",
          "name": "stdout",
          "text": [
            "Accuracy: 0.7285\n",
            "              precision    recall  f1-score   support\n",
            "\n",
            "           0       0.73      0.72      0.73      2000\n",
            "           1       0.73      0.73      0.73      2000\n",
            "\n",
            "    accuracy                           0.73      4000\n",
            "   macro avg       0.73      0.73      0.73      4000\n",
            "weighted avg       0.73      0.73      0.73      4000\n",
            "\n"
          ]
        }
      ]
    },
    {
      "cell_type": "code",
      "source": [
        "from sklearn.metrics import ConfusionMatrixDisplay\n",
        "ConfusionMatrixDisplay.from_estimator(lr_model, X_test_w2v, y_test_w2v)\n",
        "plt.show()"
      ],
      "metadata": {
        "id": "_W9p6nIGt0NF",
        "outputId": "9d4cbfc3-1417-4fa8-e58e-3dc7e73752b9",
        "colab": {
          "base_uri": "https://localhost:8080/",
          "height": 449
        }
      },
      "execution_count": null,
      "outputs": [
        {
          "output_type": "display_data",
          "data": {
            "text/plain": [
              "<Figure size 640x480 with 2 Axes>"
            ],
            "image/png": "[encoded data removed]"
          },
          "metadata": {}
        }
      ]
    },
    {
      "cell_type": "markdown",
      "source": [
        "> Sauvegarde du modéle 1"
      ],
      "metadata": {
        "id": "vP3qgwCEubl2"
      }
    },
    {
      "cell_type": "code",
      "source": [
        "%%time\n",
        "import pickle\n",
        "pickle.dump(lr_model, open(os.path.join(path, \"lr_model.pkl\"), \"wb\"))\n",
        "del lr_model"
      ],
      "metadata": {
        "id": "FQksCpiLcZx0"
      },
      "execution_count": null,
      "outputs": []
    },
    {
      "cell_type": "markdown",
      "source": [
        "# Approche 2: Modèle sur mesure avancé (Reseau de Neurone)"
      ],
      "metadata": {
        "id": "xFkplq7MZ90y"
      }
    },
    {
      "cell_type": "code",
      "source": [
        "tokenized_tweets = pd.read_csv(os.path.join(path, \"tokenized_tweets.csv\"))"
      ],
      "metadata": {
        "id": "cPIC9q8TDMKh"
      },
      "execution_count": null,
      "outputs": []
    },
    {
      "cell_type": "code",
      "source": [
        "tokenized_tweets.head()"
      ],
      "metadata": {
        "colab": {
          "base_uri": "https://localhost:8080/",
          "height": 206
        },
        "id": "1ySSoTrODUH5",
        "outputId": "19343cbc-29bb-47ca-8e5d-79a5892e8fe8"
      },
      "execution_count": null,
      "outputs": [
        {
          "output_type": "execute_result",
          "data": {
            "text/plain": [
              "                                    tokenized_tweets\n",
              "0  ['switchfoot', 'awww', 'bummer', 'shoulda', 'g...\n",
              "1  ['upset', 'update', 'facebook', 'texting', 'mi...\n",
              "2  ['kenichan', 'dived', 'many', 'time', 'ball', ...\n",
              "3  ['whole', 'body', 'feel', 'itchy', 'like', 'fi...\n",
              "4        ['nationwideclass', 'behave', 'mad', 'see']"
            ],
            "text/html": [
              "\n",
              "  <div id=\"df-1cf3a07e-e941-45f0-a785-29bf44a77bcd\" class=\"colab-df-container\">\n",
              "    <div>\n",
              "<style scoped>\n",
              "    .dataframe tbody tr th:only-of-type {\n",
              "        vertical-align: middle;\n",
              "    }\n",
              "\n",
              "    .dataframe tbody tr th {\n",
              "        vertical-align: top;\n",
              "    }\n",
              "\n",
              "    .dataframe thead th {\n",
              "        text-align: right;\n",
              "    }\n",
              "</style>\n",
              "<table border=\"1\" class=\"dataframe\">\n",
              "  <thead>\n",
              "    <tr style=\"text-align: right;\">\n",
              "      <th></th>\n",
              "      <th>tokenized_tweets</th>\n",
              "    </tr>\n",
              "  </thead>\n",
              "  <tbody>\n",
              "    <tr>\n",
              "      <th>0</th>\n",
              "      <td>['switchfoot', 'awww', 'bummer', 'shoulda', 'g...</td>\n",
              "    </tr>\n",
              "    <tr>\n",
              "      <th>1</th>\n",
              "      <td>['upset', 'update', 'facebook', 'texting', 'mi...</td>\n",
              "    </tr>\n",
              "    <tr>\n",
              "      <th>2</th>\n",
              "      <td>['kenichan', 'dived', 'many', 'time', 'ball', ...</td>\n",
              "    </tr>\n",
              "    <tr>\n",
              "      <th>3</th>\n",
              "      <td>['whole', 'body', 'feel', 'itchy', 'like', 'fi...</td>\n",
              "    </tr>\n",
              "    <tr>\n",
              "      <th>4</th>\n",
              "      <td>['nationwideclass', 'behave', 'mad', 'see']</td>\n",
              "    </tr>\n",
              "  </tbody>\n",
              "</table>\n",
              "</div>\n",
              "    <div class=\"colab-df-buttons\">\n",
              "\n",
              "  <div class=\"colab-df-container\">\n",
              "    <button class=\"colab-df-convert\" onclick=\"convertToInteractive('df-1cf3a07e-e941-45f0-a785-29bf44a77bcd')\"\n",
              "            title=\"Convert this dataframe to an interactive table.\"\n",
              "            style=\"display:none;\">\n",
              "\n",
              "  <svg xmlns=\"http://www.w3.org/2000/svg\" height=\"24px\" viewBox=\"0 -960 960 960\">\n",
              "    <path d=\"M120-120v-720h720v720H120Zm60-500h600v-160H180v160Zm220 220h160v-160H400v160Zm0 220h160v-160H400v160ZM180-400h160v-160H180v160Zm440 0h160v-160H620v160ZM180-180h160v-160H180v160Zm440 0h160v-160H620v160Z\"/>\n",
              "  </svg>\n",
              "    </button>\n",
              "\n",
              "  <style>\n",
              "    .colab-df-container {\n",
              "      display:flex;\n",
              "      gap: 12px;\n",
              "    }\n",
              "\n",
              "    .colab-df-convert {\n",
              "      background-color: #E8F0FE;\n",
              "      border: none;\n",
              "      border-radius: 50%;\n",
              "      cursor: pointer;\n",
              "      display: none;\n",
              "      fill: #1967D2;\n",
              "      height: 32px;\n",
              "      padding: 0 0 0 0;\n",
              "      width: 32px;\n",
              "    }\n",
              "\n",
              "    .colab-df-convert:hover {\n",
              "      background-color: #E2EBFA;\n",
              "      box-shadow: 0px 1px 2px rgba(60, 64, 67, 0.3), 0px 1px 3px 1px rgba(60, 64, 67, 0.15);\n",
              "      fill: #174EA6;\n",
              "    }\n",
              "\n",
              "    .colab-df-buttons div {\n",
              "      margin-bottom: 4px;\n",
              "    }\n",
              "\n",
              "    [theme=dark] .colab-df-convert {\n",
              "      background-color: #3B4455;\n",
              "      fill: #D2E3FC;\n",
              "    }\n",
              "\n",
              "    [theme=dark] .colab-df-convert:hover {\n",
              "      background-color: #434B5C;\n",
              "      box-shadow: 0px 1px 3px 1px rgba(0, 0, 0, 0.15);\n",
              "      filter: drop-shadow(0px 1px 2px rgba(0, 0, 0, 0.3));\n",
              "      fill: #FFFFFF;\n",
              "    }\n",
              "  </style>\n",
              "\n",
              "    <script>\n",
              "      const buttonEl =\n",
              "        document.querySelector('#df-1cf3a07e-e941-45f0-a785-29bf44a77bcd button.colab-df-convert');\n",
              "      buttonEl.style.display =\n",
              "        google.colab.kernel.accessAllowed ? 'block' : 'none';\n",
              "\n",
              "      async function convertToInteractive(key) {\n",
              "        const element = document.querySelector('#df-1cf3a07e-e941-45f0-a785-29bf44a77bcd');\n",
              "        const dataTable =\n",
              "          await google.colab.kernel.invokeFunction('convertToInteractive',\n",
              "                                                    [key], {});\n",
              "        if (!dataTable) return;\n",
              "\n",
              "        const docLinkHtml = 'Like what you see? Visit the ' +\n",
              "          '<a target=\"_blank\" href=https://colab.research.google.com/notebooks/data_table.ipynb>data table notebook</a>'\n",
              "          + ' to learn more about interactive tables.';\n",
              "        element.innerHTML = '';\n",
              "        dataTable['output_type'] = 'display_data';\n",
              "        await google.colab.output.renderOutput(dataTable, element);\n",
              "        const docLink = document.createElement('div');\n",
              "        docLink.innerHTML = docLinkHtml;\n",
              "        element.appendChild(docLink);\n",
              "      }\n",
              "    </script>\n",
              "  </div>\n",
              "\n",
              "\n",
              "    <div id=\"df-dbf975cb-ee02-4b42-be42-ec9e8d8d0fc3\">\n",
              "      <button class=\"colab-df-quickchart\" onclick=\"quickchart('df-dbf975cb-ee02-4b42-be42-ec9e8d8d0fc3')\"\n",
              "                title=\"Suggest charts\"\n",
              "                style=\"display:none;\">\n",
              "\n",
              "<svg xmlns=\"http://www.w3.org/2000/svg\" height=\"24px\"viewBox=\"0 0 24 24\"\n",
              "     width=\"24px\">\n",
              "    <g>\n",
              "        <path d=\"M19 3H5c-1.1 0-2 .9-2 2v14c0 1.1.9 2 2 2h14c1.1 0 2-.9 2-2V5c0-1.1-.9-2-2-2zM9 17H7v-7h2v7zm4 0h-2V7h2v10zm4 0h-2v-4h2v4z\"/>\n",
              "    </g>\n",
              "</svg>\n",
              "      </button>\n",
              "\n",
              "<style>\n",
              "  .colab-df-quickchart {\n",
              "      --bg-color: #E8F0FE;\n",
              "      --fill-color: #1967D2;\n",
              "      --hover-bg-color: #E2EBFA;\n",
              "      --hover-fill-color: #174EA6;\n",
              "      --disabled-fill-color: #AAA;\n",
              "      --disabled-bg-color: #DDD;\n",
              "  }\n",
              "\n",
              "  [theme=dark] .colab-df-quickchart {\n",
              "      --bg-color: #3B4455;\n",
              "      --fill-color: #D2E3FC;\n",
              "      --hover-bg-color: #434B5C;\n",
              "      --hover-fill-color: #FFFFFF;\n",
              "      --disabled-bg-color: #3B4455;\n",
              "      --disabled-fill-color: #666;\n",
              "  }\n",
              "\n",
              "  .colab-df-quickchart {\n",
              "    background-color: var(--bg-color);\n",
              "    border: none;\n",
              "    border-radius: 50%;\n",
              "    cursor: pointer;\n",
              "    display: none;\n",
              "    fill: var(--fill-color);\n",
              "    height: 32px;\n",
              "    padding: 0;\n",
              "    width: 32px;\n",
              "  }\n",
              "\n",
              "  .colab-df-quickchart:hover {\n",
              "    background-color: var(--hover-bg-color);\n",
              "    box-shadow: 0 1px 2px rgba(60, 64, 67, 0.3), 0 1px 3px 1px rgba(60, 64, 67, 0.15);\n",
              "    fill: var(--button-hover-fill-color);\n",
              "  }\n",
              "\n",
              "  .colab-df-quickchart-complete:disabled,\n",
              "  .colab-df-quickchart-complete:disabled:hover {\n",
              "    background-color: var(--disabled-bg-color);\n",
              "    fill: var(--disabled-fill-color);\n",
              "    box-shadow: none;\n",
              "  }\n",
              "\n",
              "  .colab-df-spinner {\n",
              "    border: 2px solid var(--fill-color);\n",
              "    border-color: transparent;\n",
              "    border-bottom-color: var(--fill-color);\n",
              "    animation:\n",
              "      spin 1s steps(1) infinite;\n",
              "  }\n",
              "\n",
              "  @keyframes spin {\n",
              "    0% {\n",
              "      border-color: transparent;\n",
              "      border-bottom-color: var(--fill-color);\n",
              "      border-left-color: var(--fill-color);\n",
              "    }\n",
              "    20% {\n",
              "      border-color: transparent;\n",
              "      border-left-color: var(--fill-color);\n",
              "      border-top-color: var(--fill-color);\n",
              "    }\n",
              "    30% {\n",
              "      border-color: transparent;\n",
              "      border-left-color: var(--fill-color);\n",
              "      border-top-color: var(--fill-color);\n",
              "      border-right-color: var(--fill-color);\n",
              "    }\n",
              "    40% {\n",
              "      border-color: transparent;\n",
              "      border-right-color: var(--fill-color);\n",
              "      border-top-color: var(--fill-color);\n",
              "    }\n",
              "    60% {\n",
              "      border-color: transparent;\n",
              "      border-right-color: var(--fill-color);\n",
              "    }\n",
              "    80% {\n",
              "      border-color: transparent;\n",
              "      border-right-color: var(--fill-color);\n",
              "      border-bottom-color: var(--fill-color);\n",
              "    }\n",
              "    90% {\n",
              "      border-color: transparent;\n",
              "      border-bottom-color: var(--fill-color);\n",
              "    }\n",
              "  }\n",
              "</style>\n",
              "\n",
              "      <script>\n",
              "        async function quickchart(key) {\n",
              "          const quickchartButtonEl =\n",
              "            document.querySelector('#' + key + ' button');\n",
              "          quickchartButtonEl.disabled = true;  // To prevent multiple clicks.\n",
              "          quickchartButtonEl.classList.add('colab-df-spinner');\n",
              "          try {\n",
              "            const charts = await google.colab.kernel.invokeFunction(\n",
              "                'suggestCharts', [key], {});\n",
              "          } catch (error) {\n",
              "            console.error('Error during call to suggestCharts:', error);\n",
              "          }\n",
              "          quickchartButtonEl.classList.remove('colab-df-spinner');\n",
              "          quickchartButtonEl.classList.add('colab-df-quickchart-complete');\n",
              "        }\n",
              "        (() => {\n",
              "          let quickchartButtonEl =\n",
              "            document.querySelector('#df-dbf975cb-ee02-4b42-be42-ec9e8d8d0fc3 button');\n",
              "          quickchartButtonEl.style.display =\n",
              "            google.colab.kernel.accessAllowed ? 'block' : 'none';\n",
              "        })();\n",
              "      </script>\n",
              "    </div>\n",
              "\n",
              "    </div>\n",
              "  </div>\n"
            ],
            "application/vnd.google.colaboratory.intrinsic+json": {
              "type": "dataframe",
              "variable_name": "tokenized_tweets"
            }
          },
          "metadata": {},
          "execution_count": 9
        }
      ]
    },
    {
      "cell_type": "code",
      "source": [
        "from tensorflow.keras.models import Sequential\n",
        "from tensorflow.keras.layers import Embedding, Bidirectional, LSTM, Dense, Dropout, Input\n",
        "\n",
        "def build_model(weights=None, input_shape=(16, 300), dropout_rate=0.5, dense_units=32, lstm_units=32):\n",
        "  model = Sequential()\n",
        "\n",
        "  model.add(Input(shape=input_shape))\n",
        "  model.add(Bidirectional(LSTM(lstm_units, return_sequences=False)))\n",
        "  model.add(Dropout(dropout_rate))\n",
        "  model.add(Dense(dense_units, activation='relu'))\n",
        "  model.add(Dense(1, activation='sigmoid'))  # pour classification binaire\n",
        "\n",
        "  return model\n",
        "\n",
        "def sentence_to_sequence(tokens, model_embedding, max_len=30, dim=300):\n",
        "    vectors = [model_embedding.wv[word] if word in model_embedding.wv else np.zeros(dim) for word in tokens]\n",
        "    # Padding or trimming\n",
        "    vectors = vectors[:max_len] + [np.zeros(dim)] * (max_len - len(vectors))\n",
        "    return np.array(vectors)\n",
        "\n",
        "res = []"
      ],
      "metadata": {
        "id": "ALfZgzwTQ2IW"
      },
      "execution_count": null,
      "outputs": []
    },
    {
      "cell_type": "markdown",
      "source": [
        "## | Word2Vec"
      ],
      "metadata": {
        "id": "3uKHYumiSAv8"
      }
    },
    {
      "cell_type": "markdown",
      "source": [
        "\n",
        "\n",
        "> Chargement du modéle pretrainé de Word2vec\n",
        "\n"
      ],
      "metadata": {
        "id": "UjQgmEy13-9d"
      }
    },
    {
      "cell_type": "code",
      "source": [
        "%%time\n",
        "w2v_model = Word2Vec.load(os.path.join(path, \"word2vec_model.model\"))"
      ],
      "metadata": {
        "colab": {
          "base_uri": "https://localhost:8080/"
        },
        "id": "uj_2gNnz2Wo6",
        "outputId": "c0bced7c-3daf-4a41-d696-917f2c26af3a"
      },
      "execution_count": null,
      "outputs": [
        {
          "output_type": "stream",
          "name": "stdout",
          "text": [
            "CPU times: user 6.49 s, sys: 2.09 s, total: 8.59 s\n",
            "Wall time: 36.2 s\n"
          ]
        }
      ]
    },
    {
      "cell_type": "code",
      "source": [
        "%%time\n",
        "train_token, val_token, test_token, y_train_w2v, y_valid_w2v, y_test_w2v = split_train_val_test(tokenized_tweets.tokenized_tweets, Y, sample_size=20000)"
      ],
      "metadata": {
        "colab": {
          "base_uri": "https://localhost:8080/"
        },
        "id": "x6_VCygJFgDP",
        "outputId": "6211ca33-1f77-4e04-c640-81c237a92fed"
      },
      "execution_count": null,
      "outputs": [
        {
          "output_type": "stream",
          "name": "stdout",
          "text": [
            "CPU times: user 906 ms, sys: 89.9 ms, total: 996 ms\n",
            "Wall time: 1.02 s\n"
          ]
        }
      ]
    },
    {
      "cell_type": "code",
      "source": [
        "max_len = max(map(len, tokenized_tweets))\n",
        "print(f\"Le tweet le plus long contient {max_len} tokens\")"
      ],
      "metadata": {
        "colab": {
          "base_uri": "https://localhost:8080/"
        },
        "id": "qmGwwcE_KDA-",
        "outputId": "778ee6b2-297c-42fe-ada1-431ef92d0a69"
      },
      "execution_count": null,
      "outputs": [
        {
          "output_type": "stream",
          "name": "stdout",
          "text": [
            "Le tweet le plus long contient 16 tokens\n"
          ]
        }
      ]
    },
    {
      "cell_type": "markdown",
      "source": [
        "\n",
        "\n",
        "> Extracion des sequences\n",
        "\n"
      ],
      "metadata": {
        "id": "PIVMI6uZ4JBL"
      }
    },
    {
      "cell_type": "code",
      "source": [
        "%%time\n",
        "train_w2v_set =  np.array([sentence_to_sequence(sentence, w2v_model, max_len=max_len) for sentence in train_token])\n",
        "val_w2v_set =  np.array([sentence_to_sequence(sentence, w2v_model, max_len=max_len) for sentence in val_token])\n",
        "test_w2v_set =  np.array([sentence_to_sequence(sentence, w2v_model, max_len=max_len) for sentence in test_token])"
      ],
      "metadata": {
        "colab": {
          "base_uri": "https://localhost:8080/"
        },
        "id": "t_hEY_Na4ZIG",
        "outputId": "bdb942e3-4c25-4d77-c289-73ffc8b1e482"
      },
      "execution_count": null,
      "outputs": [
        {
          "output_type": "stream",
          "name": "stdout",
          "text": [
            "CPU times: user 2.45 s, sys: 1.11 s, total: 3.57 s\n",
            "Wall time: 3.6 s\n"
          ]
        }
      ]
    },
    {
      "cell_type": "code",
      "source": [
        "train_w2v_set.shape"
      ],
      "metadata": {
        "colab": {
          "base_uri": "https://localhost:8080/"
        },
        "id": "OKLZsKScKVSu",
        "outputId": "4fa56a5a-e1e4-45a2-de51-777c174df68b"
      },
      "execution_count": null,
      "outputs": [
        {
          "output_type": "execute_result",
          "data": {
            "text/plain": [
              "(12000, 16, 300)"
            ]
          },
          "metadata": {},
          "execution_count": 30
        }
      ]
    },
    {
      "cell_type": "code",
      "source": [
        "%%time\n",
        "model = build_model()\n",
        "model.compile(loss='binary_crossentropy', optimizer='adam', metrics=['accuracy', 'auc', 'precision', 'recall'])\n",
        "model.summary()"
      ],
      "metadata": {
        "id": "lWxkJS4UTja9",
        "colab": {
          "base_uri": "https://localhost:8080/",
          "height": 303
        },
        "outputId": "533ba14c-ed65-4dc2-bc1a-16f6008d6cd0"
      },
      "execution_count": null,
      "outputs": [
        {
          "output_type": "display_data",
          "data": {
            "text/plain": [
              "\u001b[1mModel: \"sequential_4\"\u001b[0m\n"
            ],
            "text/html": [
              "<pre style=\"white-space:pre;overflow-x:auto;line-height:normal;font-family:Menlo,'DejaVu Sans Mono',consolas,'Courier New',monospace\"><span style=\"font-weight: bold\">Model: \"sequential_4\"</span>\n",
              "</pre>\n"
            ]
          },
          "metadata": {}
        },
        {
          "output_type": "display_data",
          "data": {
            "text/plain": [
              "┏━━━━━━━━━━━━━━━━━━━━━━━━━━━━━━━━━┳━━━━━━━━━━━━━━━━━━━━━━━━┳━━━━━━━━━━━━━━━┓\n",
              "┃\u001b[1m \u001b[0m\u001b[1mLayer (type)                   \u001b[0m\u001b[1m \u001b[0m┃\u001b[1m \u001b[0m\u001b[1mOutput Shape          \u001b[0m\u001b[1m \u001b[0m┃\u001b[1m \u001b[0m\u001b[1m      Param #\u001b[0m\u001b[1m \u001b[0m┃\n",
              "┡━━━━━━━━━━━━━━━━━━━━━━━━━━━━━━━━━╇━━━━━━━━━━━━━━━━━━━━━━━━╇━━━━━━━━━━━━━━━┩\n",
              "│ bidirectional_4 (\u001b[38;5;33mBidirectional\u001b[0m) │ (\u001b[38;5;45mNone\u001b[0m, \u001b[38;5;34m64\u001b[0m)             │        \u001b[38;5;34m85,248\u001b[0m │\n",
              "├─────────────────────────────────┼────────────────────────┼───────────────┤\n",
              "│ dropout_4 (\u001b[38;5;33mDropout\u001b[0m)             │ (\u001b[38;5;45mNone\u001b[0m, \u001b[38;5;34m64\u001b[0m)             │             \u001b[38;5;34m0\u001b[0m │\n",
              "├─────────────────────────────────┼────────────────────────┼───────────────┤\n",
              "│ dense_8 (\u001b[38;5;33mDense\u001b[0m)                 │ (\u001b[38;5;45mNone\u001b[0m, \u001b[38;5;34m32\u001b[0m)             │         \u001b[38;5;34m2,080\u001b[0m │\n",
              "├─────────────────────────────────┼────────────────────────┼───────────────┤\n",
              "│ dense_9 (\u001b[38;5;33mDense\u001b[0m)                 │ (\u001b[38;5;45mNone\u001b[0m, \u001b[38;5;34m1\u001b[0m)              │            \u001b[38;5;34m33\u001b[0m │\n",
              "└─────────────────────────────────┴────────────────────────┴───────────────┘\n"
            ],
            "text/html": [
              "<pre style=\"white-space:pre;overflow-x:auto;line-height:normal;font-family:Menlo,'DejaVu Sans Mono',consolas,'Courier New',monospace\">┏━━━━━━━━━━━━━━━━━━━━━━━━━━━━━━━━━┳━━━━━━━━━━━━━━━━━━━━━━━━┳━━━━━━━━━━━━━━━┓\n",
              "┃<span style=\"font-weight: bold\"> Layer (type)                    </span>┃<span style=\"font-weight: bold\"> Output Shape           </span>┃<span style=\"font-weight: bold\">       Param # </span>┃\n",
              "┡━━━━━━━━━━━━━━━━━━━━━━━━━━━━━━━━━╇━━━━━━━━━━━━━━━━━━━━━━━━╇━━━━━━━━━━━━━━━┩\n",
              "│ bidirectional_4 (<span style=\"color: #0087ff; text-decoration-color: #0087ff\">Bidirectional</span>) │ (<span style=\"color: #00d7ff; text-decoration-color: #00d7ff\">None</span>, <span style=\"color: #00af00; text-decoration-color: #00af00\">64</span>)             │        <span style=\"color: #00af00; text-decoration-color: #00af00\">85,248</span> │\n",
              "├─────────────────────────────────┼────────────────────────┼───────────────┤\n",
              "│ dropout_4 (<span style=\"color: #0087ff; text-decoration-color: #0087ff\">Dropout</span>)             │ (<span style=\"color: #00d7ff; text-decoration-color: #00d7ff\">None</span>, <span style=\"color: #00af00; text-decoration-color: #00af00\">64</span>)             │             <span style=\"color: #00af00; text-decoration-color: #00af00\">0</span> │\n",
              "├─────────────────────────────────┼────────────────────────┼───────────────┤\n",
              "│ dense_8 (<span style=\"color: #0087ff; text-decoration-color: #0087ff\">Dense</span>)                 │ (<span style=\"color: #00d7ff; text-decoration-color: #00d7ff\">None</span>, <span style=\"color: #00af00; text-decoration-color: #00af00\">32</span>)             │         <span style=\"color: #00af00; text-decoration-color: #00af00\">2,080</span> │\n",
              "├─────────────────────────────────┼────────────────────────┼───────────────┤\n",
              "│ dense_9 (<span style=\"color: #0087ff; text-decoration-color: #0087ff\">Dense</span>)                 │ (<span style=\"color: #00d7ff; text-decoration-color: #00d7ff\">None</span>, <span style=\"color: #00af00; text-decoration-color: #00af00\">1</span>)              │            <span style=\"color: #00af00; text-decoration-color: #00af00\">33</span> │\n",
              "└─────────────────────────────────┴────────────────────────┴───────────────┘\n",
              "</pre>\n"
            ]
          },
          "metadata": {}
        },
        {
          "output_type": "display_data",
          "data": {
            "text/plain": [
              "\u001b[1m Total params: \u001b[0m\u001b[38;5;34m87,361\u001b[0m (341.25 KB)\n"
            ],
            "text/html": [
              "<pre style=\"white-space:pre;overflow-x:auto;line-height:normal;font-family:Menlo,'DejaVu Sans Mono',consolas,'Courier New',monospace\"><span style=\"font-weight: bold\"> Total params: </span><span style=\"color: #00af00; text-decoration-color: #00af00\">87,361</span> (341.25 KB)\n",
              "</pre>\n"
            ]
          },
          "metadata": {}
        },
        {
          "output_type": "display_data",
          "data": {
            "text/plain": [
              "\u001b[1m Trainable params: \u001b[0m\u001b[38;5;34m87,361\u001b[0m (341.25 KB)\n"
            ],
            "text/html": [
              "<pre style=\"white-space:pre;overflow-x:auto;line-height:normal;font-family:Menlo,'DejaVu Sans Mono',consolas,'Courier New',monospace\"><span style=\"font-weight: bold\"> Trainable params: </span><span style=\"color: #00af00; text-decoration-color: #00af00\">87,361</span> (341.25 KB)\n",
              "</pre>\n"
            ]
          },
          "metadata": {}
        },
        {
          "output_type": "display_data",
          "data": {
            "text/plain": [
              "\u001b[1m Non-trainable params: \u001b[0m\u001b[38;5;34m0\u001b[0m (0.00 B)\n"
            ],
            "text/html": [
              "<pre style=\"white-space:pre;overflow-x:auto;line-height:normal;font-family:Menlo,'DejaVu Sans Mono',consolas,'Courier New',monospace\"><span style=\"font-weight: bold\"> Non-trainable params: </span><span style=\"color: #00af00; text-decoration-color: #00af00\">0</span> (0.00 B)\n",
              "</pre>\n"
            ]
          },
          "metadata": {}
        },
        {
          "output_type": "stream",
          "name": "stdout",
          "text": [
            "CPU times: user 91 ms, sys: 918 µs, total: 91.9 ms\n",
            "Wall time: 90.3 ms\n"
          ]
        }
      ]
    },
    {
      "cell_type": "code",
      "source": [
        "%%time\n",
        "\n",
        "callbacks = [\n",
        "    tf.keras.callbacks.EarlyStopping(monitor='val_loss', patience=3, restore_best_weights=True)\n",
        "]\n",
        "\n",
        "fit_time = time.time()\n",
        "history = model.fit(\n",
        "    x=train_w2v_set,\n",
        "    y=y_train_w2v,\n",
        "    epochs=30,\n",
        "    batch_size=32,\n",
        "    validation_data=(val_w2v_set, y_valid_w2v),\n",
        "    callbacks=callbacks,\n",
        "\n",
        ")\n",
        "fit_time = time.time() - fit_time\n",
        "\n",
        "res.append({\n",
        "    \"Embeddings\": \"word2vec\",\n",
        "    \"val_score\": np.mean(history.history['val_accuracy']),\n",
        "    \"val_loss\": np.mean(history.history['val_loss']),\n",
        "    \"auc\": np.mean(history.history['val_auc']),\n",
        "    \"precision\": np.mean(history.history['val_precision']),\n",
        "    \"recall\": np.mean(history.history['val_recall']),\n",
        "    \"train_time (s)\": fit_time\n",
        "})"
      ],
      "metadata": {
        "colab": {
          "base_uri": "https://localhost:8080/"
        },
        "id": "eHH7IHgiNJUZ",
        "outputId": "712511ba-4576-4490-a05e-7bc2443ead41"
      },
      "execution_count": null,
      "outputs": [
        {
          "output_type": "stream",
          "name": "stdout",
          "text": [
            "Epoch 1/30\n",
            "\u001b[1m375/375\u001b[0m \u001b[32m━━━━━━━━━━━━━━━━━━━━\u001b[0m\u001b[37m\u001b[0m \u001b[1m10s\u001b[0m 26ms/step - accuracy: 0.5100 - auc: 0.5141 - loss: 0.6952 - mse: 0.2510 - precision: 0.5083 - recall: 0.5503 - val_accuracy: 0.5165 - val_auc: 0.5582 - val_loss: 0.6910 - val_mse: 0.2489 - val_precision: 0.5091 - val_recall: 0.9190\n",
            "Epoch 2/30\n",
            "\u001b[1m375/375\u001b[0m \u001b[32m━━━━━━━━━━━━━━━━━━━━\u001b[0m\u001b[37m\u001b[0m \u001b[1m7s\u001b[0m 19ms/step - accuracy: 0.5204 - auc: 0.5331 - loss: 0.6917 - mse: 0.2493 - precision: 0.5135 - recall: 0.5544 - val_accuracy: 0.5518 - val_auc: 0.5753 - val_loss: 0.6870 - val_mse: 0.2469 - val_precision: 0.5482 - val_recall: 0.5885\n",
            "Epoch 3/30\n",
            "\u001b[1m375/375\u001b[0m \u001b[32m━━━━━━━━━━━━━━━━━━━━\u001b[0m\u001b[37m\u001b[0m \u001b[1m9s\u001b[0m 23ms/step - accuracy: 0.5458 - auc: 0.5670 - loss: 0.6866 - mse: 0.2467 - precision: 0.5426 - recall: 0.5465 - val_accuracy: 0.5515 - val_auc: 0.5772 - val_loss: 0.6851 - val_mse: 0.2460 - val_precision: 0.5648 - val_recall: 0.4490\n",
            "Epoch 4/30\n",
            "\u001b[1m375/375\u001b[0m \u001b[32m━━━━━━━━━━━━━━━━━━━━\u001b[0m\u001b[37m\u001b[0m \u001b[1m9s\u001b[0m 19ms/step - accuracy: 0.5539 - auc: 0.5792 - loss: 0.6825 - mse: 0.2448 - precision: 0.5466 - recall: 0.6079 - val_accuracy: 0.5663 - val_auc: 0.5919 - val_loss: 0.6815 - val_mse: 0.2442 - val_precision: 0.5501 - val_recall: 0.7270\n",
            "Epoch 5/30\n",
            "\u001b[1m375/375\u001b[0m \u001b[32m━━━━━━━━━━━━━━━━━━━━\u001b[0m\u001b[37m\u001b[0m \u001b[1m10s\u001b[0m 19ms/step - accuracy: 0.5803 - auc: 0.6049 - loss: 0.6760 - mse: 0.2416 - precision: 0.5711 - recall: 0.6400 - val_accuracy: 0.5748 - val_auc: 0.6019 - val_loss: 0.6777 - val_mse: 0.2424 - val_precision: 0.5551 - val_recall: 0.7530\n",
            "Epoch 6/30\n",
            "\u001b[1m375/375\u001b[0m \u001b[32m━━━━━━━━━━━━━━━━━━━━\u001b[0m\u001b[37m\u001b[0m \u001b[1m9s\u001b[0m 24ms/step - accuracy: 0.5867 - auc: 0.6138 - loss: 0.6703 - mse: 0.2390 - precision: 0.5753 - recall: 0.6745 - val_accuracy: 0.5690 - val_auc: 0.6010 - val_loss: 0.6826 - val_mse: 0.2441 - val_precision: 0.5729 - val_recall: 0.5425\n",
            "Epoch 7/30\n",
            "\u001b[1m375/375\u001b[0m \u001b[32m━━━━━━━━━━━━━━━━━━━━\u001b[0m\u001b[37m\u001b[0m \u001b[1m10s\u001b[0m 24ms/step - accuracy: 0.5881 - auc: 0.6239 - loss: 0.6646 - mse: 0.2365 - precision: 0.5763 - recall: 0.6876 - val_accuracy: 0.5755 - val_auc: 0.6078 - val_loss: 0.6753 - val_mse: 0.2410 - val_precision: 0.5661 - val_recall: 0.6465\n",
            "Epoch 8/30\n",
            "\u001b[1m375/375\u001b[0m \u001b[32m━━━━━━━━━━━━━━━━━━━━\u001b[0m\u001b[37m\u001b[0m \u001b[1m7s\u001b[0m 19ms/step - accuracy: 0.5888 - auc: 0.6282 - loss: 0.6633 - mse: 0.2358 - precision: 0.5717 - recall: 0.6825 - val_accuracy: 0.5853 - val_auc: 0.6114 - val_loss: 0.6766 - val_mse: 0.2412 - val_precision: 0.5766 - val_recall: 0.6420\n",
            "Epoch 9/30\n",
            "\u001b[1m375/375\u001b[0m \u001b[32m━━━━━━━━━━━━━━━━━━━━\u001b[0m\u001b[37m\u001b[0m \u001b[1m9s\u001b[0m 25ms/step - accuracy: 0.6086 - auc: 0.6494 - loss: 0.6511 - mse: 0.2303 - precision: 0.5902 - recall: 0.7125 - val_accuracy: 0.5842 - val_auc: 0.6138 - val_loss: 0.6721 - val_mse: 0.2397 - val_precision: 0.5772 - val_recall: 0.6300\n",
            "Epoch 10/30\n",
            "\u001b[1m375/375\u001b[0m \u001b[32m━━━━━━━━━━━━━━━━━━━━\u001b[0m\u001b[37m\u001b[0m \u001b[1m7s\u001b[0m 18ms/step - accuracy: 0.6127 - auc: 0.6469 - loss: 0.6521 - mse: 0.2308 - precision: 0.5941 - recall: 0.7203 - val_accuracy: 0.5825 - val_auc: 0.6136 - val_loss: 0.6757 - val_mse: 0.2409 - val_precision: 0.5734 - val_recall: 0.6445\n",
            "Epoch 11/30\n",
            "\u001b[1m375/375\u001b[0m \u001b[32m━━━━━━━━━━━━━━━━━━━━\u001b[0m\u001b[37m\u001b[0m \u001b[1m9s\u001b[0m 23ms/step - accuracy: 0.6030 - auc: 0.6449 - loss: 0.6513 - mse: 0.2309 - precision: 0.5812 - recall: 0.7098 - val_accuracy: 0.5830 - val_auc: 0.6173 - val_loss: 0.6702 - val_mse: 0.2388 - val_precision: 0.5632 - val_recall: 0.7400\n",
            "Epoch 12/30\n",
            "\u001b[1m375/375\u001b[0m \u001b[32m━━━━━━━━━━━━━━━━━━━━\u001b[0m\u001b[37m\u001b[0m \u001b[1m10s\u001b[0m 23ms/step - accuracy: 0.6151 - auc: 0.6506 - loss: 0.6472 - mse: 0.2287 - precision: 0.5938 - recall: 0.7553 - val_accuracy: 0.5872 - val_auc: 0.6198 - val_loss: 0.6774 - val_mse: 0.2411 - val_precision: 0.5846 - val_recall: 0.6030\n",
            "Epoch 13/30\n",
            "\u001b[1m375/375\u001b[0m \u001b[32m━━━━━━━━━━━━━━━━━━━━\u001b[0m\u001b[37m\u001b[0m \u001b[1m8s\u001b[0m 20ms/step - accuracy: 0.6325 - auc: 0.6729 - loss: 0.6393 - mse: 0.2247 - precision: 0.6080 - recall: 0.7434 - val_accuracy: 0.5795 - val_auc: 0.6220 - val_loss: 0.6683 - val_mse: 0.2380 - val_precision: 0.5575 - val_recall: 0.7705\n",
            "Epoch 14/30\n",
            "\u001b[1m375/375\u001b[0m \u001b[32m━━━━━━━━━━━━━━━━━━━━\u001b[0m\u001b[37m\u001b[0m \u001b[1m10s\u001b[0m 27ms/step - accuracy: 0.6303 - auc: 0.6781 - loss: 0.6381 - mse: 0.2243 - precision: 0.6043 - recall: 0.7280 - val_accuracy: 0.5928 - val_auc: 0.6258 - val_loss: 0.6713 - val_mse: 0.2386 - val_precision: 0.5762 - val_recall: 0.7010\n",
            "Epoch 15/30\n",
            "\u001b[1m375/375\u001b[0m \u001b[32m━━━━━━━━━━━━━━━━━━━━\u001b[0m\u001b[37m\u001b[0m \u001b[1m18s\u001b[0m 20ms/step - accuracy: 0.6341 - auc: 0.6813 - loss: 0.6334 - mse: 0.2222 - precision: 0.6102 - recall: 0.7515 - val_accuracy: 0.5878 - val_auc: 0.6205 - val_loss: 0.6727 - val_mse: 0.2393 - val_precision: 0.5706 - val_recall: 0.7095\n",
            "Epoch 16/30\n",
            "\u001b[1m375/375\u001b[0m \u001b[32m━━━━━━━━━━━━━━━━━━━━\u001b[0m\u001b[37m\u001b[0m \u001b[1m9s\u001b[0m 24ms/step - accuracy: 0.6333 - auc: 0.6817 - loss: 0.6320 - mse: 0.2215 - precision: 0.6118 - recall: 0.7494 - val_accuracy: 0.5880 - val_auc: 0.6266 - val_loss: 0.6687 - val_mse: 0.2380 - val_precision: 0.5639 - val_recall: 0.7770\n",
            "CPU times: user 2min 59s, sys: 4.69 s, total: 3min 4s\n",
            "Wall time: 2min 31s\n"
          ]
        }
      ]
    },
    {
      "cell_type": "code",
      "source": [
        "fig = plt.figure(figsize=(16, 4))\n",
        "\n",
        "fig.add_subplot(1, 4, 1)\n",
        "plt.plot(history.history['loss'], label='Train Loss')\n",
        "plt.plot(history.history['val_loss'], label='Val Loss')\n",
        "plt.title('Loss')\n",
        "plt.legend()\n",
        "\n",
        "fig.add_subplot(1, 4, 2)\n",
        "plt.plot(history.history['accuracy'], label='Train Acc')\n",
        "plt.plot(history.history['val_accuracy'], label='Val Acc')\n",
        "plt.title('Accuracy')\n",
        "plt.legend()\n",
        "\n",
        "fig.add_subplot(1, 4, 3)\n",
        "plt.plot(history.history['precision'], label='Train Precision')\n",
        "plt.plot(history.history['val_precision'], label='Val Precision')\n",
        "plt.title('Precision')\n",
        "plt.legend()\n",
        "\n",
        "fig.add_subplot(1, 4, 4)\n",
        "plt.plot(history.history['auc'], label='Train Auc')\n",
        "plt.plot(history.history['val_auc'], label='Val Auc')\n",
        "plt.title('AUC')\n",
        "plt.legend()\n",
        "\n",
        "plt.show()"
      ],
      "metadata": {
        "colab": {
          "base_uri": "https://localhost:8080/",
          "height": 411
        },
        "id": "TSP_qr0BSQek",
        "outputId": "39c2fb1f-72ed-40ff-a5ed-36bde6ed11b0"
      },
      "execution_count": null,
      "outputs": [
        {
          "output_type": "display_data",
          "data": {
            "text/plain": [
              "<Figure size 1600x400 with 4 Axes>"
            ],
            "image/png": "[encoded data removed]"
          },
          "metadata": {}
        }
      ]
    },
    {
      "cell_type": "markdown",
      "source": [
        "## | FastText"
      ],
      "metadata": {
        "id": "4uzSFd6vSG8r"
      }
    },
    {
      "cell_type": "code",
      "source": [
        "from gensim.models import FastText"
      ],
      "metadata": {
        "id": "KLw0oaS98b_0"
      },
      "execution_count": null,
      "outputs": []
    },
    {
      "cell_type": "code",
      "source": [
        "%%time\n",
        "ft_model = FastText.load(os.path.join(path, \"fasttext_model.model\"))"
      ],
      "metadata": {
        "colab": {
          "base_uri": "https://localhost:8080/"
        },
        "id": "ok2tiL7Y8R3D",
        "outputId": "e217be47-87b2-4fdc-b69e-27234552029c"
      },
      "execution_count": null,
      "outputs": [
        {
          "output_type": "stream",
          "name": "stdout",
          "text": [
            "CPU times: user 41.7 s, sys: 2.35 s, total: 44.1 s\n",
            "Wall time: 45.7 s\n"
          ]
        }
      ]
    },
    {
      "cell_type": "code",
      "source": [
        "%%time\n",
        "train_token, val_token, test_token, y_train_ft, y_valid_ft, y_test_ft = split_train_val_test(tokenized_tweets.tokenized_tweets, Y, sample_size=20000)"
      ],
      "metadata": {
        "colab": {
          "base_uri": "https://localhost:8080/"
        },
        "id": "Ami8i34u8o-F",
        "outputId": "00f7ceac-34e3-4e9c-cc70-c7769fadd838"
      },
      "execution_count": null,
      "outputs": [
        {
          "output_type": "stream",
          "name": "stdout",
          "text": [
            "CPU times: user 773 ms, sys: 38.1 ms, total: 811 ms\n",
            "Wall time: 806 ms\n"
          ]
        }
      ]
    },
    {
      "cell_type": "markdown",
      "source": [
        "\n",
        "\n",
        "> Extracion des sequences\n",
        "\n"
      ],
      "metadata": {
        "id": "yGZI7qxZ-HvU"
      }
    },
    {
      "cell_type": "code",
      "source": [
        "%%time\n",
        "max_len = max(map(len, tokenized_tweets))\n",
        "print(f\"Le tweet le plus long contient {max_len} tokens\")\n",
        "train_ft_set =  np.array([sentence_to_sequence(sentence, ft_model, max_len=max_len) for sentence in train_token])\n",
        "val_ft_set =  np.array([sentence_to_sequence(sentence, ft_model, max_len=max_len) for sentence in val_token])\n",
        "test_ft_set =  np.array([sentence_to_sequence(sentence, ft_model, max_len=max_len) for sentence in test_token])"
      ],
      "metadata": {
        "colab": {
          "base_uri": "https://localhost:8080/"
        },
        "outputId": "cf2556db-c302-431c-bd4f-9c10ee46dbbb",
        "id": "keG4iruO-HvU"
      },
      "execution_count": null,
      "outputs": [
        {
          "output_type": "stream",
          "name": "stdout",
          "text": [
            "Le tweet le plus long contient 16 tokens\n",
            "CPU times: user 4.81 s, sys: 236 ms, total: 5.05 s\n",
            "Wall time: 5.03 s\n"
          ]
        }
      ]
    },
    {
      "cell_type": "code",
      "source": [
        "train_ft_set.shape"
      ],
      "metadata": {
        "colab": {
          "base_uri": "https://localhost:8080/"
        },
        "id": "xk6zBfKE-g6-",
        "outputId": "0582076d-460b-48c3-d1bb-768a761f86cf"
      },
      "execution_count": null,
      "outputs": [
        {
          "output_type": "execute_result",
          "data": {
            "text/plain": [
              "(12000, 16, 300)"
            ]
          },
          "metadata": {},
          "execution_count": 15
        }
      ]
    },
    {
      "cell_type": "code",
      "source": [
        "%%time\n",
        "model = build_model()\n",
        "model.compile(loss='binary_crossentropy', optimizer='adam', metrics=['accuracy', 'auc', 'precision', 'recall'])\n",
        "model.summary()"
      ],
      "metadata": {
        "colab": {
          "base_uri": "https://localhost:8080/",
          "height": 303
        },
        "id": "T05H4ar7_Vp1",
        "outputId": "8fcc8f14-26df-478b-ef59-4a6eea42358a"
      },
      "execution_count": null,
      "outputs": [
        {
          "output_type": "display_data",
          "data": {
            "text/plain": [
              "\u001b[1mModel: \"sequential_5\"\u001b[0m\n"
            ],
            "text/html": [
              "<pre style=\"white-space:pre;overflow-x:auto;line-height:normal;font-family:Menlo,'DejaVu Sans Mono',consolas,'Courier New',monospace\"><span style=\"font-weight: bold\">Model: \"sequential_5\"</span>\n",
              "</pre>\n"
            ]
          },
          "metadata": {}
        },
        {
          "output_type": "display_data",
          "data": {
            "text/plain": [
              "┏━━━━━━━━━━━━━━━━━━━━━━━━━━━━━━━━━┳━━━━━━━━━━━━━━━━━━━━━━━━┳━━━━━━━━━━━━━━━┓\n",
              "┃\u001b[1m \u001b[0m\u001b[1mLayer (type)                   \u001b[0m\u001b[1m \u001b[0m┃\u001b[1m \u001b[0m\u001b[1mOutput Shape          \u001b[0m\u001b[1m \u001b[0m┃\u001b[1m \u001b[0m\u001b[1m      Param #\u001b[0m\u001b[1m \u001b[0m┃\n",
              "┡━━━━━━━━━━━━━━━━━━━━━━━━━━━━━━━━━╇━━━━━━━━━━━━━━━━━━━━━━━━╇━━━━━━━━━━━━━━━┩\n",
              "│ bidirectional_5 (\u001b[38;5;33mBidirectional\u001b[0m) │ (\u001b[38;5;45mNone\u001b[0m, \u001b[38;5;34m64\u001b[0m)             │        \u001b[38;5;34m85,248\u001b[0m │\n",
              "├─────────────────────────────────┼────────────────────────┼───────────────┤\n",
              "│ dropout_5 (\u001b[38;5;33mDropout\u001b[0m)             │ (\u001b[38;5;45mNone\u001b[0m, \u001b[38;5;34m64\u001b[0m)             │             \u001b[38;5;34m0\u001b[0m │\n",
              "├─────────────────────────────────┼────────────────────────┼───────────────┤\n",
              "│ dense_10 (\u001b[38;5;33mDense\u001b[0m)                │ (\u001b[38;5;45mNone\u001b[0m, \u001b[38;5;34m32\u001b[0m)             │         \u001b[38;5;34m2,080\u001b[0m │\n",
              "├─────────────────────────────────┼────────────────────────┼───────────────┤\n",
              "│ dense_11 (\u001b[38;5;33mDense\u001b[0m)                │ (\u001b[38;5;45mNone\u001b[0m, \u001b[38;5;34m1\u001b[0m)              │            \u001b[38;5;34m33\u001b[0m │\n",
              "└─────────────────────────────────┴────────────────────────┴───────────────┘\n"
            ],
            "text/html": [
              "<pre style=\"white-space:pre;overflow-x:auto;line-height:normal;font-family:Menlo,'DejaVu Sans Mono',consolas,'Courier New',monospace\">┏━━━━━━━━━━━━━━━━━━━━━━━━━━━━━━━━━┳━━━━━━━━━━━━━━━━━━━━━━━━┳━━━━━━━━━━━━━━━┓\n",
              "┃<span style=\"font-weight: bold\"> Layer (type)                    </span>┃<span style=\"font-weight: bold\"> Output Shape           </span>┃<span style=\"font-weight: bold\">       Param # </span>┃\n",
              "┡━━━━━━━━━━━━━━━━━━━━━━━━━━━━━━━━━╇━━━━━━━━━━━━━━━━━━━━━━━━╇━━━━━━━━━━━━━━━┩\n",
              "│ bidirectional_5 (<span style=\"color: #0087ff; text-decoration-color: #0087ff\">Bidirectional</span>) │ (<span style=\"color: #00d7ff; text-decoration-color: #00d7ff\">None</span>, <span style=\"color: #00af00; text-decoration-color: #00af00\">64</span>)             │        <span style=\"color: #00af00; text-decoration-color: #00af00\">85,248</span> │\n",
              "├─────────────────────────────────┼────────────────────────┼───────────────┤\n",
              "│ dropout_5 (<span style=\"color: #0087ff; text-decoration-color: #0087ff\">Dropout</span>)             │ (<span style=\"color: #00d7ff; text-decoration-color: #00d7ff\">None</span>, <span style=\"color: #00af00; text-decoration-color: #00af00\">64</span>)             │             <span style=\"color: #00af00; text-decoration-color: #00af00\">0</span> │\n",
              "├─────────────────────────────────┼────────────────────────┼───────────────┤\n",
              "│ dense_10 (<span style=\"color: #0087ff; text-decoration-color: #0087ff\">Dense</span>)                │ (<span style=\"color: #00d7ff; text-decoration-color: #00d7ff\">None</span>, <span style=\"color: #00af00; text-decoration-color: #00af00\">32</span>)             │         <span style=\"color: #00af00; text-decoration-color: #00af00\">2,080</span> │\n",
              "├─────────────────────────────────┼────────────────────────┼───────────────┤\n",
              "│ dense_11 (<span style=\"color: #0087ff; text-decoration-color: #0087ff\">Dense</span>)                │ (<span style=\"color: #00d7ff; text-decoration-color: #00d7ff\">None</span>, <span style=\"color: #00af00; text-decoration-color: #00af00\">1</span>)              │            <span style=\"color: #00af00; text-decoration-color: #00af00\">33</span> │\n",
              "└─────────────────────────────────┴────────────────────────┴───────────────┘\n",
              "</pre>\n"
            ]
          },
          "metadata": {}
        },
        {
          "output_type": "display_data",
          "data": {
            "text/plain": [
              "\u001b[1m Total params: \u001b[0m\u001b[38;5;34m87,361\u001b[0m (341.25 KB)\n"
            ],
            "text/html": [
              "<pre style=\"white-space:pre;overflow-x:auto;line-height:normal;font-family:Menlo,'DejaVu Sans Mono',consolas,'Courier New',monospace\"><span style=\"font-weight: bold\"> Total params: </span><span style=\"color: #00af00; text-decoration-color: #00af00\">87,361</span> (341.25 KB)\n",
              "</pre>\n"
            ]
          },
          "metadata": {}
        },
        {
          "output_type": "display_data",
          "data": {
            "text/plain": [
              "\u001b[1m Trainable params: \u001b[0m\u001b[38;5;34m87,361\u001b[0m (341.25 KB)\n"
            ],
            "text/html": [
              "<pre style=\"white-space:pre;overflow-x:auto;line-height:normal;font-family:Menlo,'DejaVu Sans Mono',consolas,'Courier New',monospace\"><span style=\"font-weight: bold\"> Trainable params: </span><span style=\"color: #00af00; text-decoration-color: #00af00\">87,361</span> (341.25 KB)\n",
              "</pre>\n"
            ]
          },
          "metadata": {}
        },
        {
          "output_type": "display_data",
          "data": {
            "text/plain": [
              "\u001b[1m Non-trainable params: \u001b[0m\u001b[38;5;34m0\u001b[0m (0.00 B)\n"
            ],
            "text/html": [
              "<pre style=\"white-space:pre;overflow-x:auto;line-height:normal;font-family:Menlo,'DejaVu Sans Mono',consolas,'Courier New',monospace\"><span style=\"font-weight: bold\"> Non-trainable params: </span><span style=\"color: #00af00; text-decoration-color: #00af00\">0</span> (0.00 B)\n",
              "</pre>\n"
            ]
          },
          "metadata": {}
        },
        {
          "output_type": "stream",
          "name": "stdout",
          "text": [
            "CPU times: user 119 ms, sys: 4.83 ms, total: 124 ms\n",
            "Wall time: 144 ms\n"
          ]
        }
      ]
    },
    {
      "cell_type": "code",
      "source": [
        "%%time\n",
        "\n",
        "callbacks = [\n",
        "    tf.keras.callbacks.EarlyStopping(monitor='val_loss', patience=3, restore_best_weights=True)\n",
        "]\n",
        "\n",
        "fit_time = time.time()\n",
        "history = model.fit(\n",
        "    x=train_ft_set,\n",
        "    y=y_train_ft,\n",
        "    epochs=30,\n",
        "    batch_size=32,\n",
        "    validation_data=(val_ft_set, y_valid_ft),\n",
        "    callbacks=callbacks,\n",
        "\n",
        ")\n",
        "fit_time = time.time() - fit_time\n",
        "\n",
        "res.append({\n",
        "    \"Embeddings\": \"fasttext\",\n",
        "    \"val_score\": np.mean(history.history['val_accuracy']),\n",
        "    \"val_loss\": np.mean(history.history['val_loss']),\n",
        "    \"auc\": np.mean(history.history['val_auc']),\n",
        "    \"precision\": np.mean(history.history['val_precision']),\n",
        "    \"recall\": np.mean(history.history['val_recall']),\n",
        "    \"train_time (s)\": fit_time\n",
        "})"
      ],
      "metadata": {
        "colab": {
          "base_uri": "https://localhost:8080/"
        },
        "id": "BkVfMa_8_kbf",
        "outputId": "bdeecb11-4219-43d1-ebb7-ebd276f1cc1e"
      },
      "execution_count": null,
      "outputs": [
        {
          "output_type": "stream",
          "name": "stdout",
          "text": [
            "Epoch 1/30\n",
            "\u001b[1m375/375\u001b[0m \u001b[32m━━━━━━━━━━━━━━━━━━━━\u001b[0m\u001b[37m\u001b[0m \u001b[1m15s\u001b[0m 27ms/step - accuracy: 0.5017 - auc: 0.4979 - loss: 0.6985 - precision: 0.5087 - recall: 0.5821 - val_accuracy: 0.5460 - val_auc: 0.5548 - val_loss: 0.6903 - val_precision: 0.5501 - val_recall: 0.5055\n",
            "Epoch 2/30\n",
            "\u001b[1m375/375\u001b[0m \u001b[32m━━━━━━━━━━━━━━━━━━━━\u001b[0m\u001b[37m\u001b[0m \u001b[1m9s\u001b[0m 24ms/step - accuracy: 0.5280 - auc: 0.5447 - loss: 0.6900 - precision: 0.5311 - recall: 0.5595 - val_accuracy: 0.5508 - val_auc: 0.5735 - val_loss: 0.6873 - val_precision: 0.5608 - val_recall: 0.4680\n",
            "Epoch 3/30\n",
            "\u001b[1m375/375\u001b[0m \u001b[32m━━━━━━━━━━━━━━━━━━━━\u001b[0m\u001b[37m\u001b[0m \u001b[1m8s\u001b[0m 17ms/step - accuracy: 0.5448 - auc: 0.5627 - loss: 0.6873 - precision: 0.5483 - recall: 0.5756 - val_accuracy: 0.5533 - val_auc: 0.5768 - val_loss: 0.6851 - val_precision: 0.5471 - val_recall: 0.6180\n",
            "Epoch 4/30\n",
            "\u001b[1m375/375\u001b[0m \u001b[32m━━━━━━━━━━━━━━━━━━━━\u001b[0m\u001b[37m\u001b[0m \u001b[1m9s\u001b[0m 24ms/step - accuracy: 0.5583 - auc: 0.5821 - loss: 0.6830 - precision: 0.5552 - recall: 0.5905 - val_accuracy: 0.5602 - val_auc: 0.5881 - val_loss: 0.6831 - val_precision: 0.5461 - val_recall: 0.7140\n",
            "Epoch 5/30\n",
            "\u001b[1m375/375\u001b[0m \u001b[32m━━━━━━━━━━━━━━━━━━━━\u001b[0m\u001b[37m\u001b[0m \u001b[1m9s\u001b[0m 25ms/step - accuracy: 0.5676 - auc: 0.5962 - loss: 0.6782 - precision: 0.5566 - recall: 0.6101 - val_accuracy: 0.5760 - val_auc: 0.6022 - val_loss: 0.6792 - val_precision: 0.5626 - val_recall: 0.6830\n",
            "Epoch 6/30\n",
            "\u001b[1m375/375\u001b[0m \u001b[32m━━━━━━━━━━━━━━━━━━━━\u001b[0m\u001b[37m\u001b[0m \u001b[1m8s\u001b[0m 19ms/step - accuracy: 0.5858 - auc: 0.6179 - loss: 0.6709 - precision: 0.5784 - recall: 0.6494 - val_accuracy: 0.5820 - val_auc: 0.6040 - val_loss: 0.6778 - val_precision: 0.5783 - val_recall: 0.6055\n",
            "Epoch 7/30\n",
            "\u001b[1m375/375\u001b[0m \u001b[32m━━━━━━━━━━━━━━━━━━━━\u001b[0m\u001b[37m\u001b[0m \u001b[1m11s\u001b[0m 21ms/step - accuracy: 0.5913 - auc: 0.6203 - loss: 0.6686 - precision: 0.5799 - recall: 0.6322 - val_accuracy: 0.5730 - val_auc: 0.6097 - val_loss: 0.6758 - val_precision: 0.5533 - val_recall: 0.7580\n",
            "Epoch 8/30\n",
            "\u001b[1m375/375\u001b[0m \u001b[32m━━━━━━━━━━━━━━━━━━━━\u001b[0m\u001b[37m\u001b[0m \u001b[1m9s\u001b[0m 25ms/step - accuracy: 0.5945 - auc: 0.6330 - loss: 0.6625 - precision: 0.5763 - recall: 0.6711 - val_accuracy: 0.5595 - val_auc: 0.6109 - val_loss: 0.6788 - val_precision: 0.5382 - val_recall: 0.8390\n",
            "Epoch 9/30\n",
            "\u001b[1m375/375\u001b[0m \u001b[32m━━━━━━━━━━━━━━━━━━━━\u001b[0m\u001b[37m\u001b[0m \u001b[1m7s\u001b[0m 19ms/step - accuracy: 0.5895 - auc: 0.6276 - loss: 0.6644 - precision: 0.5724 - recall: 0.6884 - val_accuracy: 0.5807 - val_auc: 0.6153 - val_loss: 0.6737 - val_precision: 0.5634 - val_recall: 0.7180\n",
            "Epoch 10/30\n",
            "\u001b[1m375/375\u001b[0m \u001b[32m━━━━━━━━━━━━━━━━━━━━\u001b[0m\u001b[37m\u001b[0m \u001b[1m9s\u001b[0m 23ms/step - accuracy: 0.6116 - auc: 0.6516 - loss: 0.6528 - precision: 0.5930 - recall: 0.7466 - val_accuracy: 0.5870 - val_auc: 0.6135 - val_loss: 0.6730 - val_precision: 0.5723 - val_recall: 0.6890\n",
            "Epoch 11/30\n",
            "\u001b[1m375/375\u001b[0m \u001b[32m━━━━━━━━━━━━━━━━━━━━\u001b[0m\u001b[37m\u001b[0m \u001b[1m11s\u001b[0m 26ms/step - accuracy: 0.6070 - auc: 0.6476 - loss: 0.6520 - precision: 0.5878 - recall: 0.7164 - val_accuracy: 0.5778 - val_auc: 0.6113 - val_loss: 0.6742 - val_precision: 0.5613 - val_recall: 0.7120\n",
            "Epoch 12/30\n",
            "\u001b[1m375/375\u001b[0m \u001b[32m━━━━━━━━━━━━━━━━━━━━\u001b[0m\u001b[37m\u001b[0m \u001b[1m7s\u001b[0m 19ms/step - accuracy: 0.6236 - auc: 0.6624 - loss: 0.6463 - precision: 0.6064 - recall: 0.7313 - val_accuracy: 0.5890 - val_auc: 0.6172 - val_loss: 0.6743 - val_precision: 0.5742 - val_recall: 0.6890\n",
            "Epoch 13/30\n",
            "\u001b[1m375/375\u001b[0m \u001b[32m━━━━━━━━━━━━━━━━━━━━\u001b[0m\u001b[37m\u001b[0m \u001b[1m9s\u001b[0m 24ms/step - accuracy: 0.6231 - auc: 0.6681 - loss: 0.6413 - precision: 0.6042 - recall: 0.7404 - val_accuracy: 0.5830 - val_auc: 0.6195 - val_loss: 0.6751 - val_precision: 0.5617 - val_recall: 0.7560\n",
            "CPU times: user 2min 31s, sys: 4.39 s, total: 2min 36s\n",
            "Wall time: 2min 3s\n"
          ]
        }
      ]
    },
    {
      "cell_type": "code",
      "source": [
        "fig = plt.figure(figsize=(16, 4))\n",
        "\n",
        "fig.add_subplot(1, 4, 1)\n",
        "plt.plot(history.history['loss'], label='Train Loss')\n",
        "plt.plot(history.history['val_loss'], label='Val Loss')\n",
        "plt.title('Loss')\n",
        "plt.legend()\n",
        "\n",
        "fig.add_subplot(1, 4, 2)\n",
        "plt.plot(history.history['accuracy'], label='Train Acc')\n",
        "plt.plot(history.history['val_accuracy'], label='Val Acc')\n",
        "plt.title('Accuracy')\n",
        "plt.legend()\n",
        "\n",
        "fig.add_subplot(1, 4, 3)\n",
        "plt.plot(history.history['precision'], label='Train Precision')\n",
        "plt.plot(history.history['val_precision'], label='Val Precision')\n",
        "plt.title('Precision')\n",
        "plt.legend()\n",
        "\n",
        "fig.add_subplot(1, 4, 4)\n",
        "plt.plot(history.history['auc'], label='Train Auc')\n",
        "plt.plot(history.history['val_auc'], label='Val Auc')\n",
        "plt.title('AUC')\n",
        "plt.legend()\n",
        "\n",
        "plt.show()"
      ],
      "metadata": {
        "colab": {
          "base_uri": "https://localhost:8080/",
          "height": 289
        },
        "id": "B2U1rIf2ARKK",
        "outputId": "c671caa4-7037-4af5-eabd-c6f86b7884fa"
      },
      "execution_count": null,
      "outputs": [
        {
          "output_type": "display_data",
          "data": {
            "text/plain": [
              "<Figure size 1600x400 with 4 Axes>"
            ],
            "image/png": "[encoded data removed]"
          },
          "metadata": {}
        }
      ]
    },
    {
      "cell_type": "markdown",
      "source": [
        "## Comparaison des embeddings (word2vec vs fasttext)"
      ],
      "metadata": {
        "id": "MgvF4pK6Bg9J"
      }
    },
    {
      "cell_type": "code",
      "source": [
        "res_all_df_2 = pd.DataFrame(res)\n",
        "res_all_df_2"
      ],
      "metadata": {
        "colab": {
          "base_uri": "https://localhost:8080/",
          "height": 125
        },
        "id": "P9RTBbv7B48C",
        "outputId": "fdd44ae4-2cf1-439c-dbca-cb3b3c2dbe51"
      },
      "execution_count": null,
      "outputs": [
        {
          "output_type": "execute_result",
          "data": {
            "text/plain": [
              "  Embeddings  val_score       auc  precision    recall  train_time (s)  \\\n",
              "0   word2vec   0.573469  0.605253    0.56309  0.677688      151.528498   \n",
              "1   fasttext   0.570635  0.599764    0.55917  0.673462      123.689417   \n",
              "\n",
              "   val_loss  \n",
              "0       NaN  \n",
              "1   0.67904  "
            ],
            "text/html": [
              "\n",
              "  <div id=\"df-403f987b-0e84-4a6c-96c0-693f191bfd28\" class=\"colab-df-container\">\n",
              "    <div>\n",
              "<style scoped>\n",
              "    .dataframe tbody tr th:only-of-type {\n",
              "        vertical-align: middle;\n",
              "    }\n",
              "\n",
              "    .dataframe tbody tr th {\n",
              "        vertical-align: top;\n",
              "    }\n",
              "\n",
              "    .dataframe thead th {\n",
              "        text-align: right;\n",
              "    }\n",
              "</style>\n",
              "<table border=\"1\" class=\"dataframe\">\n",
              "  <thead>\n",
              "    <tr style=\"text-align: right;\">\n",
              "      <th></th>\n",
              "      <th>Embeddings</th>\n",
              "      <th>val_score</th>\n",
              "      <th>auc</th>\n",
              "      <th>precision</th>\n",
              "      <th>recall</th>\n",
              "      <th>train_time (s)</th>\n",
              "      <th>val_loss</th>\n",
              "    </tr>\n",
              "  </thead>\n",
              "  <tbody>\n",
              "    <tr>\n",
              "      <th>0</th>\n",
              "      <td>word2vec</td>\n",
              "      <td>0.573469</td>\n",
              "      <td>0.605253</td>\n",
              "      <td>0.56309</td>\n",
              "      <td>0.677688</td>\n",
              "      <td>151.528498</td>\n",
              "      <td>NaN</td>\n",
              "    </tr>\n",
              "    <tr>\n",
              "      <th>1</th>\n",
              "      <td>fasttext</td>\n",
              "      <td>0.570635</td>\n",
              "      <td>0.599764</td>\n",
              "      <td>0.55917</td>\n",
              "      <td>0.673462</td>\n",
              "      <td>123.689417</td>\n",
              "      <td>0.67904</td>\n",
              "    </tr>\n",
              "  </tbody>\n",
              "</table>\n",
              "</div>\n",
              "    <div class=\"colab-df-buttons\">\n",
              "\n",
              "  <div class=\"colab-df-container\">\n",
              "    <button class=\"colab-df-convert\" onclick=\"convertToInteractive('df-403f987b-0e84-4a6c-96c0-693f191bfd28')\"\n",
              "            title=\"Convert this dataframe to an interactive table.\"\n",
              "            style=\"display:none;\">\n",
              "\n",
              "  <svg xmlns=\"http://www.w3.org/2000/svg\" height=\"24px\" viewBox=\"0 -960 960 960\">\n",
              "    <path d=\"M120-120v-720h720v720H120Zm60-500h600v-160H180v160Zm220 220h160v-160H400v160Zm0 220h160v-160H400v160ZM180-400h160v-160H180v160Zm440 0h160v-160H620v160ZM180-180h160v-160H180v160Zm440 0h160v-160H620v160Z\"/>\n",
              "  </svg>\n",
              "    </button>\n",
              "\n",
              "  <style>\n",
              "    .colab-df-container {\n",
              "      display:flex;\n",
              "      gap: 12px;\n",
              "    }\n",
              "\n",
              "    .colab-df-convert {\n",
              "      background-color: #E8F0FE;\n",
              "      border: none;\n",
              "      border-radius: 50%;\n",
              "      cursor: pointer;\n",
              "      display: none;\n",
              "      fill: #1967D2;\n",
              "      height: 32px;\n",
              "      padding: 0 0 0 0;\n",
              "      width: 32px;\n",
              "    }\n",
              "\n",
              "    .colab-df-convert:hover {\n",
              "      background-color: #E2EBFA;\n",
              "      box-shadow: 0px 1px 2px rgba(60, 64, 67, 0.3), 0px 1px 3px 1px rgba(60, 64, 67, 0.15);\n",
              "      fill: #174EA6;\n",
              "    }\n",
              "\n",
              "    .colab-df-buttons div {\n",
              "      margin-bottom: 4px;\n",
              "    }\n",
              "\n",
              "    [theme=dark] .colab-df-convert {\n",
              "      background-color: #3B4455;\n",
              "      fill: #D2E3FC;\n",
              "    }\n",
              "\n",
              "    [theme=dark] .colab-df-convert:hover {\n",
              "      background-color: #434B5C;\n",
              "      box-shadow: 0px 1px 3px 1px rgba(0, 0, 0, 0.15);\n",
              "      filter: drop-shadow(0px 1px 2px rgba(0, 0, 0, 0.3));\n",
              "      fill: #FFFFFF;\n",
              "    }\n",
              "  </style>\n",
              "\n",
              "    <script>\n",
              "      const buttonEl =\n",
              "        document.querySelector('#df-403f987b-0e84-4a6c-96c0-693f191bfd28 button.colab-df-convert');\n",
              "      buttonEl.style.display =\n",
              "        google.colab.kernel.accessAllowed ? 'block' : 'none';\n",
              "\n",
              "      async function convertToInteractive(key) {\n",
              "        const element = document.querySelector('#df-403f987b-0e84-4a6c-96c0-693f191bfd28');\n",
              "        const dataTable =\n",
              "          await google.colab.kernel.invokeFunction('convertToInteractive',\n",
              "                                                    [key], {});\n",
              "        if (!dataTable) return;\n",
              "\n",
              "        const docLinkHtml = 'Like what you see? Visit the ' +\n",
              "          '<a target=\"_blank\" href=https://colab.research.google.com/notebooks/data_table.ipynb>data table notebook</a>'\n",
              "          + ' to learn more about interactive tables.';\n",
              "        element.innerHTML = '';\n",
              "        dataTable['output_type'] = 'display_data';\n",
              "        await google.colab.output.renderOutput(dataTable, element);\n",
              "        const docLink = document.createElement('div');\n",
              "        docLink.innerHTML = docLinkHtml;\n",
              "        element.appendChild(docLink);\n",
              "      }\n",
              "    </script>\n",
              "  </div>\n",
              "\n",
              "\n",
              "    <div id=\"df-f7a378cb-2c22-45d6-81f5-735328ad2c72\">\n",
              "      <button class=\"colab-df-quickchart\" onclick=\"quickchart('df-f7a378cb-2c22-45d6-81f5-735328ad2c72')\"\n",
              "                title=\"Suggest charts\"\n",
              "                style=\"display:none;\">\n",
              "\n",
              "<svg xmlns=\"http://www.w3.org/2000/svg\" height=\"24px\"viewBox=\"0 0 24 24\"\n",
              "     width=\"24px\">\n",
              "    <g>\n",
              "        <path d=\"M19 3H5c-1.1 0-2 .9-2 2v14c0 1.1.9 2 2 2h14c1.1 0 2-.9 2-2V5c0-1.1-.9-2-2-2zM9 17H7v-7h2v7zm4 0h-2V7h2v10zm4 0h-2v-4h2v4z\"/>\n",
              "    </g>\n",
              "</svg>\n",
              "      </button>\n",
              "\n",
              "<style>\n",
              "  .colab-df-quickchart {\n",
              "      --bg-color: #E8F0FE;\n",
              "      --fill-color: #1967D2;\n",
              "      --hover-bg-color: #E2EBFA;\n",
              "      --hover-fill-color: #174EA6;\n",
              "      --disabled-fill-color: #AAA;\n",
              "      --disabled-bg-color: #DDD;\n",
              "  }\n",
              "\n",
              "  [theme=dark] .colab-df-quickchart {\n",
              "      --bg-color: #3B4455;\n",
              "      --fill-color: #D2E3FC;\n",
              "      --hover-bg-color: #434B5C;\n",
              "      --hover-fill-color: #FFFFFF;\n",
              "      --disabled-bg-color: #3B4455;\n",
              "      --disabled-fill-color: #666;\n",
              "  }\n",
              "\n",
              "  .colab-df-quickchart {\n",
              "    background-color: var(--bg-color);\n",
              "    border: none;\n",
              "    border-radius: 50%;\n",
              "    cursor: pointer;\n",
              "    display: none;\n",
              "    fill: var(--fill-color);\n",
              "    height: 32px;\n",
              "    padding: 0;\n",
              "    width: 32px;\n",
              "  }\n",
              "\n",
              "  .colab-df-quickchart:hover {\n",
              "    background-color: var(--hover-bg-color);\n",
              "    box-shadow: 0 1px 2px rgba(60, 64, 67, 0.3), 0 1px 3px 1px rgba(60, 64, 67, 0.15);\n",
              "    fill: var(--button-hover-fill-color);\n",
              "  }\n",
              "\n",
              "  .colab-df-quickchart-complete:disabled,\n",
              "  .colab-df-quickchart-complete:disabled:hover {\n",
              "    background-color: var(--disabled-bg-color);\n",
              "    fill: var(--disabled-fill-color);\n",
              "    box-shadow: none;\n",
              "  }\n",
              "\n",
              "  .colab-df-spinner {\n",
              "    border: 2px solid var(--fill-color);\n",
              "    border-color: transparent;\n",
              "    border-bottom-color: var(--fill-color);\n",
              "    animation:\n",
              "      spin 1s steps(1) infinite;\n",
              "  }\n",
              "\n",
              "  @keyframes spin {\n",
              "    0% {\n",
              "      border-color: transparent;\n",
              "      border-bottom-color: var(--fill-color);\n",
              "      border-left-color: var(--fill-color);\n",
              "    }\n",
              "    20% {\n",
              "      border-color: transparent;\n",
              "      border-left-color: var(--fill-color);\n",
              "      border-top-color: var(--fill-color);\n",
              "    }\n",
              "    30% {\n",
              "      border-color: transparent;\n",
              "      border-left-color: var(--fill-color);\n",
              "      border-top-color: var(--fill-color);\n",
              "      border-right-color: var(--fill-color);\n",
              "    }\n",
              "    40% {\n",
              "      border-color: transparent;\n",
              "      border-right-color: var(--fill-color);\n",
              "      border-top-color: var(--fill-color);\n",
              "    }\n",
              "    60% {\n",
              "      border-color: transparent;\n",
              "      border-right-color: var(--fill-color);\n",
              "    }\n",
              "    80% {\n",
              "      border-color: transparent;\n",
              "      border-right-color: var(--fill-color);\n",
              "      border-bottom-color: var(--fill-color);\n",
              "    }\n",
              "    90% {\n",
              "      border-color: transparent;\n",
              "      border-bottom-color: var(--fill-color);\n",
              "    }\n",
              "  }\n",
              "</style>\n",
              "\n",
              "      <script>\n",
              "        async function quickchart(key) {\n",
              "          const quickchartButtonEl =\n",
              "            document.querySelector('#' + key + ' button');\n",
              "          quickchartButtonEl.disabled = true;  // To prevent multiple clicks.\n",
              "          quickchartButtonEl.classList.add('colab-df-spinner');\n",
              "          try {\n",
              "            const charts = await google.colab.kernel.invokeFunction(\n",
              "                'suggestCharts', [key], {});\n",
              "          } catch (error) {\n",
              "            console.error('Error during call to suggestCharts:', error);\n",
              "          }\n",
              "          quickchartButtonEl.classList.remove('colab-df-spinner');\n",
              "          quickchartButtonEl.classList.add('colab-df-quickchart-complete');\n",
              "        }\n",
              "        (() => {\n",
              "          let quickchartButtonEl =\n",
              "            document.querySelector('#df-f7a378cb-2c22-45d6-81f5-735328ad2c72 button');\n",
              "          quickchartButtonEl.style.display =\n",
              "            google.colab.kernel.accessAllowed ? 'block' : 'none';\n",
              "        })();\n",
              "      </script>\n",
              "    </div>\n",
              "\n",
              "  <div id=\"id_90cce25a-f18b-4216-a71a-b37039d86f60\">\n",
              "    <style>\n",
              "      .colab-df-generate {\n",
              "        background-color: #E8F0FE;\n",
              "        border: none;\n",
              "        border-radius: 50%;\n",
              "        cursor: pointer;\n",
              "        display: none;\n",
              "        fill: #1967D2;\n",
              "        height: 32px;\n",
              "        padding: 0 0 0 0;\n",
              "        width: 32px;\n",
              "      }\n",
              "\n",
              "      .colab-df-generate:hover {\n",
              "        background-color: #E2EBFA;\n",
              "        box-shadow: 0px 1px 2px rgba(60, 64, 67, 0.3), 0px 1px 3px 1px rgba(60, 64, 67, 0.15);\n",
              "        fill: #174EA6;\n",
              "      }\n",
              "\n",
              "      [theme=dark] .colab-df-generate {\n",
              "        background-color: #3B4455;\n",
              "        fill: #D2E3FC;\n",
              "      }\n",
              "\n",
              "      [theme=dark] .colab-df-generate:hover {\n",
              "        background-color: #434B5C;\n",
              "        box-shadow: 0px 1px 3px 1px rgba(0, 0, 0, 0.15);\n",
              "        filter: drop-shadow(0px 1px 2px rgba(0, 0, 0, 0.3));\n",
              "        fill: #FFFFFF;\n",
              "      }\n",
              "    </style>\n",
              "    <button class=\"colab-df-generate\" onclick=\"generateWithVariable('res_all_df_2')\"\n",
              "            title=\"Generate code using this dataframe.\"\n",
              "            style=\"display:none;\">\n",
              "\n",
              "  <svg xmlns=\"http://www.w3.org/2000/svg\" height=\"24px\"viewBox=\"0 0 24 24\"\n",
              "       width=\"24px\">\n",
              "    <path d=\"M7,19H8.4L18.45,9,17,7.55,7,17.6ZM5,21V16.75L18.45,3.32a2,2,0,0,1,2.83,0l1.4,1.43a1.91,1.91,0,0,1,.58,1.4,1.91,1.91,0,0,1-.58,1.4L9.25,21ZM18.45,9,17,7.55Zm-12,3A5.31,5.31,0,0,0,4.9,8.1,5.31,5.31,0,0,0,1,6.5,5.31,5.31,0,0,0,4.9,4.9,5.31,5.31,0,0,0,6.5,1,5.31,5.31,0,0,0,8.1,4.9,5.31,5.31,0,0,0,12,6.5,5.46,5.46,0,0,0,6.5,12Z\"/>\n",
              "  </svg>\n",
              "    </button>\n",
              "    <script>\n",
              "      (() => {\n",
              "      const buttonEl =\n",
              "        document.querySelector('#id_90cce25a-f18b-4216-a71a-b37039d86f60 button.colab-df-generate');\n",
              "      buttonEl.style.display =\n",
              "        google.colab.kernel.accessAllowed ? 'block' : 'none';\n",
              "\n",
              "      buttonEl.onclick = () => {\n",
              "        google.colab.notebook.generateWithVariable('res_all_df_2');\n",
              "      }\n",
              "      })();\n",
              "    </script>\n",
              "  </div>\n",
              "\n",
              "    </div>\n",
              "  </div>\n"
            ],
            "application/vnd.google.colaboratory.intrinsic+json": {
              "type": "dataframe",
              "variable_name": "res_all_df_2",
              "summary": "{\n  \"name\": \"res_all_df_2\",\n  \"rows\": 2,\n  \"fields\": [\n    {\n      \"column\": \"Embeddings\",\n      \"properties\": {\n        \"dtype\": \"string\",\n        \"num_unique_values\": 2,\n        \"samples\": [\n          \"fasttext\",\n          \"word2vec\"\n        ],\n        \"semantic_type\": \"\",\n        \"description\": \"\"\n      }\n    },\n    {\n      \"column\": \"val_score\",\n      \"properties\": {\n        \"dtype\": \"number\",\n        \"std\": 0.002004038676182816,\n        \"min\": 0.5706346172552842,\n        \"max\": 0.5734687559306622,\n        \"num_unique_values\": 2,\n        \"samples\": [\n          0.5706346172552842,\n          0.5734687559306622\n        ],\n        \"semantic_type\": \"\",\n        \"description\": \"\"\n      }\n    },\n    {\n      \"column\": \"auc\",\n      \"properties\": {\n        \"dtype\": \"number\",\n        \"std\": 0.003881257282567206,\n        \"min\": 0.5997639986184927,\n        \"max\": 0.6052529253065586,\n        \"num_unique_values\": 2,\n        \"samples\": [\n          0.5997639986184927,\n          0.6052529253065586\n        ],\n        \"semantic_type\": \"\",\n        \"description\": \"\"\n      }\n    },\n    {\n      \"column\": \"precision\",\n      \"properties\": {\n        \"dtype\": \"number\",\n        \"std\": 0.0027716983355239953,\n        \"min\": 0.5591698059668908,\n        \"max\": 0.5630895793437958,\n        \"num_unique_values\": 2,\n        \"samples\": [\n          0.5591698059668908,\n          0.5630895793437958\n        ],\n        \"semantic_type\": \"\",\n        \"description\": \"\"\n      }\n    },\n    {\n      \"column\": \"recall\",\n      \"properties\": {\n        \"dtype\": \"number\",\n        \"std\": 0.0029882113567933194,\n        \"min\": 0.6734615380947406,\n        \"max\": 0.677687507122755,\n        \"num_unique_values\": 2,\n        \"samples\": [\n          0.6734615380947406,\n          0.677687507122755\n        ],\n        \"semantic_type\": \"\",\n        \"description\": \"\"\n      }\n    },\n    {\n      \"column\": \"train_time (s)\",\n      \"properties\": {\n        \"dtype\": \"number\",\n        \"std\": 19.68520265455059,\n        \"min\": 123.68941736221313,\n        \"max\": 151.52849793434143,\n        \"num_unique_values\": 2,\n        \"samples\": [\n          123.68941736221313,\n          151.52849793434143\n        ],\n        \"semantic_type\": \"\",\n        \"description\": \"\"\n      }\n    },\n    {\n      \"column\": \"val_loss\",\n      \"properties\": {\n        \"dtype\": \"number\",\n        \"std\": null,\n        \"min\": 0.6790396387760456,\n        \"max\": 0.6790396387760456,\n        \"num_unique_values\": 1,\n        \"samples\": [\n          0.6790396387760456\n        ],\n        \"semantic_type\": \"\",\n        \"description\": \"\"\n      }\n    }\n  ]\n}"
            }
          },
          "metadata": {},
          "execution_count": 67
        }
      ]
    },
    {
      "cell_type": "code",
      "source": [
        "fig = plt.figure(figsize=(14, 6))\n",
        "\n",
        "# Accuracy\n",
        "ax = fig.add_subplot(131)\n",
        "sns.barplot(data=res_all_df_2, x=\"Embeddings\", y=\"val_score\", hue=\"Embeddings\", ax=ax)\n",
        "ax.set_title(\"Accuracy\")\n",
        "ax.set_ylabel(\"Accuracy\")\n",
        "plt.setp(ax.get_xticklabels(), rotation=45)\n",
        "ax.grid(axis=\"y\")\n",
        "\n",
        "# AUC\n",
        "ax = fig.add_subplot(132)\n",
        "sns.barplot(data=res_all_df_2, x=\"Embeddings\", y=\"auc\", hue=\"Embeddings\", ax=ax)\n",
        "ax.set_title(\"AUC\")\n",
        "ax.set_ylabel(\"AUC\")\n",
        "plt.setp(ax.get_xticklabels(), rotation=45)\n",
        "ax.grid(axis=\"y\")\n",
        "\n",
        "# Train Time\n",
        "ax = fig.add_subplot(133)\n",
        "sns.barplot(data=res_all_df_2, x=\"Embeddings\", y=\"train_time (s)\", hue=\"Embeddings\", ax=ax)\n",
        "ax.set_title(\"Temps d'entraînement\")\n",
        "ax.set_ylabel(\"Temps d'entraînement (s)\")\n",
        "plt.setp(ax.get_xticklabels(), rotation=45)\n",
        "ax.set_yscale(\"log\")\n",
        "ax.grid(axis=\"y\")\n",
        "\n",
        "fig.tight_layout()\n",
        "plt.show()"
      ],
      "metadata": {
        "colab": {
          "base_uri": "https://localhost:8080/",
          "height": 422
        },
        "id": "x5lXApplCvtx",
        "outputId": "c284dfc5-ea2b-45e1-857c-1dc8d3b6831a"
      },
      "execution_count": null,
      "outputs": [
        {
          "output_type": "display_data",
          "data": {
            "text/plain": [
              "<Figure size 1400x600 with 3 Axes>"
            ],
            "image/png": "[encoded data removed]"
          },
          "metadata": {}
        }
      ]
    },
    {
      "cell_type": "markdown",
      "source": [
        "Les graphiques plus haut, nous montre:\n",
        "\n",
        "- **Word2Vec** :\n",
        "Surentraînement clair : la courbe de validation stagne voire descend légèrement sur certaines métriques alors que celle d'entraînement continue de progresser.\n",
        "\n",
        "Plus de variance dans la précision et AUC côté validation.\n",
        "\n",
        "- **FastText** :\n",
        "Moins de surentraînement.\n",
        "\n",
        "Plus stable sur la plupart des métriques.\n",
        "\n",
        "Les courbes train/val sont plus proches, ce qui suggère une meilleure généralisation."
      ],
      "metadata": {
        "id": "6d2aLAWAGegW"
      }
    },
    {
      "cell_type": "markdown",
      "source": [
        "**Conclusion**\n",
        "FastText semble légèrement meilleur pour la généralisation, même si Word2Vec donne de meilleures performances brutes sur le training."
      ],
      "metadata": {
        "id": "qse8A6MjGxzr"
      }
    },
    {
      "cell_type": "markdown",
      "source": [
        "## Optimisation des hyperparametes"
      ],
      "metadata": {
        "id": "kQl0qg3pHC0X"
      }
    },
    {
      "cell_type": "code",
      "source": [
        "!pip install optuna optuna-integration -q\n",
        "import optuna\n",
        "from optuna.integration import TFKerasPruningCallback\n",
        "from tensorflow import keras"
      ],
      "metadata": {
        "id": "C1CK0v7sJZqb"
      },
      "execution_count": null,
      "outputs": []
    },
    {
      "cell_type": "code",
      "source": [
        "def objective(trial):\n",
        "    # Hyperparams à tuner\n",
        "    lstm_units = trial.suggest_categorical(\"lstm_units\", [32, 64, 128])\n",
        "    dense_units = trial.suggest_int(\"dense_units\", 16, 128, step=16)\n",
        "    dropout_rate = trial.suggest_float(\"dropout_rate\", 0.1, 0.5)\n",
        "    learning_rate = trial.suggest_float(\"learning_rate\", 1e-4, 1e-2, log=True)\n",
        "    batch_size = trial.suggest_categorical(\"batch_size\", [32, 64, 128])\n",
        "\n",
        "    model = build_model(\n",
        "        dropout_rate=dropout_rate,\n",
        "        dense_units=dense_units,\n",
        "        lstm_units=lstm_units\n",
        "    )\n",
        "\n",
        "    model.compile(\n",
        "        optimizer=keras.optimizers.Adam(learning_rate=learning_rate),\n",
        "        loss=\"binary_crossentropy\",\n",
        "        metrics=[\"accuracy\"]\n",
        "    )\n",
        "\n",
        "    # Callback de pruning\n",
        "    pruning_callback = TFKerasPruningCallback(trial, \"val_accuracy\")\n",
        "\n",
        "    history = model.fit(\n",
        "        train_ft_set, y_train_ft,\n",
        "        validation_data=(val_ft_set, y_valid_ft),\n",
        "        epochs=30,\n",
        "        batch_size=batch_size,\n",
        "        callbacks=[\n",
        "            keras.callbacks.EarlyStopping(patience=3, restore_best_weights=True),\n",
        "            pruning_callback\n",
        "        ],\n",
        "        verbose=0\n",
        "    )\n",
        "\n",
        "    return max(history.history[\"val_accuracy\"])"
      ],
      "metadata": {
        "id": "AF5dBW7MGmcT"
      },
      "execution_count": null,
      "outputs": []
    },
    {
      "cell_type": "code",
      "source": [
        "try:\n",
        "  optuna.delete_study(study_name=\"lstm_hyperparameter_optimization\", storage=\"sqlite:///study.db\")\n",
        "except:\n",
        "  pass"
      ],
      "metadata": {
        "id": "BrNm27hGSbZ4"
      },
      "execution_count": null,
      "outputs": []
    },
    {
      "cell_type": "code",
      "source": [
        "%%time\n",
        "storage_url = \"sqlite:///study.db\"\n",
        "study_name = \"lstm_hyperparameter_optimization\"\n",
        "study = optuna.create_study(study_name=study_name, storage=storage_url, direction=\"maximize\", load_if_exists=True)\n",
        "study.optimize(objective, n_trials=50)"
      ],
      "metadata": {
        "colab": {
          "base_uri": "https://localhost:8080/"
        },
        "id": "wHq7UwWuJV-4",
        "outputId": "d933d1b4-c71b-4cb0-a126-38eb56feb71a"
      },
      "execution_count": null,
      "outputs": [
        {
          "output_type": "stream",
          "name": "stderr",
          "text": [
            "[I 2025-05-23 05:56:54,978] A new study created in RDB with name: lstm_hyperparameter_optimization\n",
            "[I 2025-05-23 05:57:24,269] Trial 0 finished with value: 0.5842499732971191 and parameters: {'lstm_units': 128, 'dense_units': 64, 'dropout_rate': 0.1261131693198527, 'learning_rate': 0.00017673822306257556, 'batch_size': 32}. Best is trial 0 with value: 0.5842499732971191.\n",
            "[I 2025-05-23 05:57:32,707] Trial 1 finished with value: 0.5827500224113464 and parameters: {'lstm_units': 64, 'dense_units': 64, 'dropout_rate': 0.25586660424609986, 'learning_rate': 0.003138920289914786, 'batch_size': 128}. Best is trial 0 with value: 0.5842499732971191.\n",
            "[I 2025-05-23 05:57:49,980] Trial 2 finished with value: 0.6012499928474426 and parameters: {'lstm_units': 128, 'dense_units': 128, 'dropout_rate': 0.13986872037342196, 'learning_rate': 0.0011870248978417416, 'batch_size': 64}. Best is trial 2 with value: 0.6012499928474426.\n",
            "[I 2025-05-23 05:58:18,934] Trial 3 finished with value: 0.5759999752044678 and parameters: {'lstm_units': 32, 'dense_units': 96, 'dropout_rate': 0.2518694534217839, 'learning_rate': 0.005629127938152289, 'batch_size': 32}. Best is trial 2 with value: 0.6012499928474426.\n",
            "[I 2025-05-23 05:58:33,521] Trial 4 finished with value: 0.5734999775886536 and parameters: {'lstm_units': 64, 'dense_units': 32, 'dropout_rate': 0.29638286957028137, 'learning_rate': 0.0002789559313807784, 'batch_size': 128}. Best is trial 2 with value: 0.6012499928474426.\n",
            "[I 2025-05-23 05:58:47,759] Trial 5 finished with value: 0.5867499709129333 and parameters: {'lstm_units': 64, 'dense_units': 64, 'dropout_rate': 0.14207576205494138, 'learning_rate': 0.0036611472459374757, 'batch_size': 64}. Best is trial 2 with value: 0.6012499928474426.\n",
            "[I 2025-05-23 05:58:53,195] Trial 6 pruned. Trial was pruned at epoch 0.\n",
            "[I 2025-05-23 05:58:57,153] Trial 7 pruned. Trial was pruned at epoch 0.\n",
            "[I 2025-05-23 05:59:06,864] Trial 8 finished with value: 0.5849999785423279 and parameters: {'lstm_units': 64, 'dense_units': 80, 'dropout_rate': 0.24264337683515477, 'learning_rate': 0.00647872541755271, 'batch_size': 128}. Best is trial 2 with value: 0.6012499928474426.\n",
            "[I 2025-05-23 05:59:10,707] Trial 9 pruned. Trial was pruned at epoch 0.\n",
            "[I 2025-05-23 05:59:15,286] Trial 10 pruned. Trial was pruned at epoch 0.\n",
            "[I 2025-05-23 05:59:19,769] Trial 11 pruned. Trial was pruned at epoch 0.\n",
            "[I 2025-05-23 05:59:24,369] Trial 12 pruned. Trial was pruned at epoch 0.\n",
            "[I 2025-05-23 05:59:28,898] Trial 13 pruned. Trial was pruned at epoch 0.\n",
            "[I 2025-05-23 05:59:33,399] Trial 14 pruned. Trial was pruned at epoch 0.\n",
            "[I 2025-05-23 05:59:37,970] Trial 15 pruned. Trial was pruned at epoch 0.\n",
            "[I 2025-05-23 05:59:43,255] Trial 16 pruned. Trial was pruned at epoch 0.\n",
            "[I 2025-05-23 05:59:59,106] Trial 17 finished with value: 0.5899999737739563 and parameters: {'lstm_units': 128, 'dense_units': 112, 'dropout_rate': 0.16309884717325168, 'learning_rate': 0.0036502235907727213, 'batch_size': 64}. Best is trial 2 with value: 0.6012499928474426.\n",
            "[I 2025-05-23 06:00:07,773] Trial 18 pruned. Trial was pruned at epoch 3.\n",
            "[I 2025-05-23 06:00:12,378] Trial 19 pruned. Trial was pruned at epoch 0.\n",
            "[I 2025-05-23 06:00:17,767] Trial 20 pruned. Trial was pruned at epoch 0.\n",
            "[I 2025-05-23 06:00:30,459] Trial 21 finished with value: 0.590499997138977 and parameters: {'lstm_units': 128, 'dense_units': 112, 'dropout_rate': 0.16635681974874544, 'learning_rate': 0.0034360243345718986, 'batch_size': 64}. Best is trial 2 with value: 0.6012499928474426.\n",
            "[I 2025-05-23 06:00:45,948] Trial 22 finished with value: 0.5924999713897705 and parameters: {'lstm_units': 128, 'dense_units': 112, 'dropout_rate': 0.15815653321490933, 'learning_rate': 0.004908794048023323, 'batch_size': 64}. Best is trial 2 with value: 0.6012499928474426.\n",
            "[I 2025-05-23 06:00:50,508] Trial 23 pruned. Trial was pruned at epoch 0.\n",
            "[I 2025-05-23 06:01:06,817] Trial 24 finished with value: 0.5899999737739563 and parameters: {'lstm_units': 128, 'dense_units': 96, 'dropout_rate': 0.163123053350145, 'learning_rate': 0.004902122327252919, 'batch_size': 64}. Best is trial 2 with value: 0.6012499928474426.\n",
            "[I 2025-05-23 06:01:14,330] Trial 25 pruned. Trial was pruned at epoch 2.\n",
            "[I 2025-05-23 06:01:18,804] Trial 26 pruned. Trial was pruned at epoch 0.\n",
            "[I 2025-05-23 06:01:23,420] Trial 27 pruned. Trial was pruned at epoch 0.\n",
            "[I 2025-05-23 06:01:28,004] Trial 28 pruned. Trial was pruned at epoch 0.\n",
            "[I 2025-05-23 06:01:33,410] Trial 29 pruned. Trial was pruned at epoch 0.\n",
            "[I 2025-05-23 06:01:38,939] Trial 30 pruned. Trial was pruned at epoch 0.\n",
            "[I 2025-05-23 06:01:43,570] Trial 31 pruned. Trial was pruned at epoch 0.\n",
            "[I 2025-05-23 06:01:48,250] Trial 32 pruned. Trial was pruned at epoch 0.\n",
            "[I 2025-05-23 06:01:52,773] Trial 33 pruned. Trial was pruned at epoch 0.\n",
            "[I 2025-05-23 06:01:57,229] Trial 34 pruned. Trial was pruned at epoch 0.\n",
            "[I 2025-05-23 06:02:02,358] Trial 35 pruned. Trial was pruned at epoch 0.\n",
            "[I 2025-05-23 06:02:06,999] Trial 36 pruned. Trial was pruned at epoch 0.\n",
            "[I 2025-05-23 06:02:19,806] Trial 37 pruned. Trial was pruned at epoch 3.\n",
            "[I 2025-05-23 06:02:23,868] Trial 38 pruned. Trial was pruned at epoch 0.\n",
            "[I 2025-05-23 06:02:28,366] Trial 39 pruned. Trial was pruned at epoch 0.\n",
            "[I 2025-05-23 06:02:32,935] Trial 40 pruned. Trial was pruned at epoch 0.\n",
            "[I 2025-05-23 06:02:37,463] Trial 41 pruned. Trial was pruned at epoch 0.\n",
            "[I 2025-05-23 06:02:54,359] Trial 42 finished with value: 0.5892500281333923 and parameters: {'lstm_units': 128, 'dense_units': 96, 'dropout_rate': 0.16095795565731807, 'learning_rate': 0.004043059878332642, 'batch_size': 64}. Best is trial 2 with value: 0.6012499928474426.\n",
            "[I 2025-05-23 06:02:58,958] Trial 43 pruned. Trial was pruned at epoch 0.\n",
            "[I 2025-05-23 06:03:02,858] Trial 44 pruned. Trial was pruned at epoch 0.\n",
            "[I 2025-05-23 06:03:07,410] Trial 45 pruned. Trial was pruned at epoch 0.\n",
            "[I 2025-05-23 06:03:14,743] Trial 46 pruned. Trial was pruned at epoch 2.\n",
            "[I 2025-05-23 06:03:20,502] Trial 47 pruned. Trial was pruned at epoch 0.\n",
            "[I 2025-05-23 06:03:25,152] Trial 48 pruned. Trial was pruned at epoch 0.\n",
            "[I 2025-05-23 06:03:30,613] Trial 49 pruned. Trial was pruned at epoch 0.\n"
          ]
        },
        {
          "output_type": "stream",
          "name": "stdout",
          "text": [
            "CPU times: user 7min 12s, sys: 49.9 s, total: 8min 2s\n",
            "Wall time: 6min 35s\n"
          ]
        }
      ]
    },
    {
      "cell_type": "code",
      "source": [
        "print(\"Best hyperparameters:\")\n",
        "print(study.best_params)\n",
        "\n",
        "print(\"Best validation accuracy:\", study.best_value)"
      ],
      "metadata": {
        "colab": {
          "base_uri": "https://localhost:8080/"
        },
        "id": "pVKveAnQKHfJ",
        "outputId": "ee28f492-ae14-48a6-c086-503bee9a27b4"
      },
      "execution_count": null,
      "outputs": [
        {
          "output_type": "stream",
          "name": "stdout",
          "text": [
            "Best hyperparameters:\n",
            "{'lstm_units': 128, 'dense_units': 128, 'dropout_rate': 0.13986872037342196, 'learning_rate': 0.0011870248978417416, 'batch_size': 64}\n",
            "Best validation accuracy: 0.6012499928474426\n"
          ]
        }
      ]
    },
    {
      "cell_type": "markdown",
      "source": [
        "\n",
        "\n",
        "> Entrainer le modél final\n",
        "\n"
      ],
      "metadata": {
        "id": "Ndb7xOGgnoaI"
      }
    },
    {
      "cell_type": "code",
      "source": [
        "%%time\n",
        "final_model = build_model(\n",
        "  dropout_rate=study.best_params[\"dropout_rate\"],\n",
        "  dense_units=study.best_params[\"dense_units\"],\n",
        "  lstm_units=study.best_params[\"lstm_units\"]\n",
        ")\n",
        "\n",
        "final_model.compile(\n",
        "  optimizer=keras.optimizers.Adam(learning_rate=study.best_params['learning_rate']),\n",
        "  loss=\"binary_crossentropy\",\n",
        "  metrics=[\"accuracy\"]\n",
        ")"
      ],
      "metadata": {
        "colab": {
          "base_uri": "https://localhost:8080/"
        },
        "id": "qYBwy6bxnR3c",
        "outputId": "5225d180-67db-40c2-b4b0-35e943189d03"
      },
      "execution_count": null,
      "outputs": [
        {
          "output_type": "stream",
          "name": "stdout",
          "text": [
            "CPU times: user 85.6 ms, sys: 15.3 ms, total: 101 ms\n",
            "Wall time: 98.9 ms\n"
          ]
        }
      ]
    },
    {
      "cell_type": "code",
      "source": [
        "%%time\n",
        "history = final_model.fit(\n",
        "    train_ft_set, y_train_ft,\n",
        "    validation_data=(val_ft_set, y_valid_ft),\n",
        "    epochs=30,\n",
        "    batch_size=study.best_params[\"batch_size\"],\n",
        "    callbacks=[\n",
        "        keras.callbacks.EarlyStopping(patience=3, restore_best_weights=True),\n",
        "    ]\n",
        ")"
      ],
      "metadata": {
        "colab": {
          "base_uri": "https://localhost:8080/"
        },
        "id": "ghiwaSGNvaCg",
        "outputId": "816cdd28-4e28-4628-af1f-ec32531e3053"
      },
      "execution_count": null,
      "outputs": [
        {
          "output_type": "stream",
          "name": "stdout",
          "text": [
            "Epoch 1/30\n",
            "\u001b[1m188/188\u001b[0m \u001b[32m━━━━━━━━━━━━━━━━━━━━\u001b[0m\u001b[37m\u001b[0m \u001b[1m4s\u001b[0m 10ms/step - accuracy: 0.5026 - loss: 0.7003 - val_accuracy: 0.5410 - val_loss: 0.6875\n",
            "Epoch 2/30\n",
            "\u001b[1m188/188\u001b[0m \u001b[32m━━━━━━━━━━━━━━━━━━━━\u001b[0m\u001b[37m\u001b[0m \u001b[1m1s\u001b[0m 7ms/step - accuracy: 0.5514 - loss: 0.6846 - val_accuracy: 0.5573 - val_loss: 0.6844\n",
            "Epoch 3/30\n",
            "\u001b[1m188/188\u001b[0m \u001b[32m━━━━━━━━━━━━━━━━━━━━\u001b[0m\u001b[37m\u001b[0m \u001b[1m1s\u001b[0m 7ms/step - accuracy: 0.5826 - loss: 0.6726 - val_accuracy: 0.5652 - val_loss: 0.6800\n",
            "Epoch 4/30\n",
            "\u001b[1m188/188\u001b[0m \u001b[32m━━━━━━━━━━━━━━━━━━━━\u001b[0m\u001b[37m\u001b[0m \u001b[1m1s\u001b[0m 7ms/step - accuracy: 0.5918 - loss: 0.6625 - val_accuracy: 0.5775 - val_loss: 0.6773\n",
            "Epoch 5/30\n",
            "\u001b[1m188/188\u001b[0m \u001b[32m━━━━━━━━━━━━━━━━━━━━\u001b[0m\u001b[37m\u001b[0m \u001b[1m1s\u001b[0m 8ms/step - accuracy: 0.6243 - loss: 0.6499 - val_accuracy: 0.5765 - val_loss: 0.6786\n",
            "Epoch 6/30\n",
            "\u001b[1m188/188\u001b[0m \u001b[32m━━━━━━━━━━━━━━━━━━━━\u001b[0m\u001b[37m\u001b[0m \u001b[1m1s\u001b[0m 8ms/step - accuracy: 0.6398 - loss: 0.6332 - val_accuracy: 0.5845 - val_loss: 0.6781\n",
            "Epoch 7/30\n",
            "\u001b[1m188/188\u001b[0m \u001b[32m━━━━━━━━━━━━━━━━━━━━\u001b[0m\u001b[37m\u001b[0m \u001b[1m1s\u001b[0m 7ms/step - accuracy: 0.6477 - loss: 0.6187 - val_accuracy: 0.5810 - val_loss: 0.6845\n",
            "CPU times: user 16 s, sys: 1.66 s, total: 17.6 s\n",
            "Wall time: 13.3 s\n"
          ]
        }
      ]
    },
    {
      "cell_type": "code",
      "source": [
        "from sklearn.metrics import ConfusionMatrixDisplay, classification_report\n",
        "y_preds_prob = final_model.predict(test_ft_set)\n",
        "y_preds = np.where(y_preds_prob > 0.5, 1, 0)\n",
        "print(classification_report(y_test_ft, y_preds))"
      ],
      "metadata": {
        "colab": {
          "base_uri": "https://localhost:8080/"
        },
        "id": "3XgG70bQv5I6",
        "outputId": "81c3abcf-9aae-43fa-8f6d-319d3028f28b"
      },
      "execution_count": null,
      "outputs": [
        {
          "output_type": "stream",
          "name": "stdout",
          "text": [
            "\u001b[1m125/125\u001b[0m \u001b[32m━━━━━━━━━━━━━━━━━━━━\u001b[0m\u001b[37m\u001b[0m \u001b[1m0s\u001b[0m 2ms/step\n",
            "              precision    recall  f1-score   support\n",
            "\n",
            "           0       0.59      0.49      0.54      2000\n",
            "           1       0.56      0.66      0.61      2000\n",
            "\n",
            "    accuracy                           0.57      4000\n",
            "   macro avg       0.58      0.57      0.57      4000\n",
            "weighted avg       0.58      0.57      0.57      4000\n",
            "\n"
          ]
        }
      ]
    },
    {
      "cell_type": "code",
      "source": [
        "ConfusionMatrixDisplay.from_predictions(y_pred=y_preds, y_true=y_test_ft)\n",
        "plt.show()"
      ],
      "metadata": {
        "colab": {
          "base_uri": "https://localhost:8080/",
          "height": 449
        },
        "id": "tGF8zjLpw2wp",
        "outputId": "122031ba-1a86-4cc4-af5a-02024a280cc2"
      },
      "execution_count": null,
      "outputs": [
        {
          "output_type": "display_data",
          "data": {
            "text/plain": [
              "<Figure size 640x480 with 2 Axes>"
            ],
            "image/png": "[encoded data removed]"
          },
          "metadata": {}
        }
      ]
    },
    {
      "cell_type": "code",
      "source": [
        "final_model.save(os.path.join(path, \"final_model.keras\"))"
      ],
      "metadata": {
        "id": "MSioDSntxSqp"
      },
      "execution_count": null,
      "outputs": []
    },
    {
      "cell_type": "markdown",
      "source": [
        "# BERT - COMPLEMENT"
      ],
      "metadata": {
        "id": "twNMa2bwyWSr"
      }
    },
    {
      "cell_type": "code",
      "source": [
        "%%time\n",
        "embeddings_bert = np.load(os.path.join(path, \"embeddings_bert.npy\"))\n",
        "labels = np.load(os.path.join(path, \"bert_labels.npy\"))"
      ],
      "metadata": {
        "id": "sWs-xQq9yeyB",
        "outputId": "68c8c8e7-e6a1-4aa9-d91a-15371727f398",
        "colab": {
          "base_uri": "https://localhost:8080/"
        }
      },
      "execution_count": null,
      "outputs": [
        {
          "output_type": "stream",
          "name": "stdout",
          "text": [
            "CPU times: user 6.31 ms, sys: 10.7 ms, total: 17 ms\n",
            "Wall time: 565 ms\n"
          ]
        }
      ]
    },
    {
      "cell_type": "code",
      "source": [
        "print(embeddings_bert.shape)\n",
        "print(labels.shape)"
      ],
      "metadata": {
        "id": "nvqhwafayqAa",
        "outputId": "be8a3fce-2b82-460e-b5e5-63a292587b80",
        "colab": {
          "base_uri": "https://localhost:8080/"
        }
      },
      "execution_count": null,
      "outputs": [
        {
          "output_type": "stream",
          "name": "stdout",
          "text": [
            "(10000, 768)\n",
            "(10000,)\n"
          ]
        }
      ]
    },
    {
      "cell_type": "markdown",
      "source": [
        "\n",
        "\n",
        "> Split sets\n",
        "\n"
      ],
      "metadata": {
        "id": "nBQLSeNdzIhE"
      }
    },
    {
      "cell_type": "code",
      "source": [
        "x_train, x_valid, x_test, y_train, y_valid, y_test = split_train_val_test(embeddings_bert, labels)"
      ],
      "metadata": {
        "id": "0QPfaWG9zQWM"
      },
      "execution_count": null,
      "outputs": []
    },
    {
      "cell_type": "code",
      "source": [
        "print(\"Train Set :\", x_train.shape)\n",
        "print(\"Validation Set :\", x_valid.shape)\n",
        "print(\"Test Set :\", x_test.shape)"
      ],
      "metadata": {
        "id": "s00MOsV4zii3",
        "outputId": "17c4a0f7-2aad-4125-860a-de7a0a80884a",
        "colab": {
          "base_uri": "https://localhost:8080/"
        }
      },
      "execution_count": null,
      "outputs": [
        {
          "output_type": "stream",
          "name": "stdout",
          "text": [
            "Train Set : (6000, 768)\n",
            "Validation Set : (2000, 768)\n",
            "Test Set : (2000, 768)\n"
          ]
        }
      ]
    },
    {
      "cell_type": "code",
      "source": [
        "def build_model_bert(dropout_rate=0.5, dense_units=32):\n",
        "  model = Sequential()\n",
        "  model.add(Input(shape=(768,)))\n",
        "  model.add(Dense(128, activation='relu')),\n",
        "  model.add(Dropout(dropout_rate))\n",
        "  model.add(Dense(dense_units, activation='relu'))\n",
        "  model.add(Dense(1, activation='sigmoid'))\n",
        "\n",
        "  model.compile(loss='binary_crossentropy', optimizer='adam', metrics=['accuracy', 'auc', 'precision', 'recall'])\n",
        "  return model"
      ],
      "metadata": {
        "id": "PGfiuiTSytU9"
      },
      "execution_count": null,
      "outputs": []
    },
    {
      "cell_type": "markdown",
      "source": [
        "> Build and train"
      ],
      "metadata": {
        "id": "mLHf99kEz9cw"
      }
    },
    {
      "cell_type": "code",
      "source": [
        "%%time\n",
        "bert_model = build_model_bert()\n",
        "\n",
        "history = bert_model.fit(\n",
        "    x=x_train,\n",
        "    y=y_train,\n",
        "    epochs=30,\n",
        "    batch_size=32,\n",
        "    validation_data=(x_valid, y_valid),\n",
        "    callbacks=[\n",
        "        tf.keras.callbacks.EarlyStopping(monitor='val_loss', patience=3, restore_best_weights=True)\n",
        "    ]\n",
        ")"
      ],
      "metadata": {
        "id": "muftg3BQzzAu",
        "outputId": "4a13c336-0c3e-466d-cafe-855700142704",
        "colab": {
          "base_uri": "https://localhost:8080/"
        }
      },
      "execution_count": null,
      "outputs": [
        {
          "output_type": "stream",
          "name": "stdout",
          "text": [
            "Epoch 1/30\n",
            "\u001b[1m188/188\u001b[0m \u001b[32m━━━━━━━━━━━━━━━━━━━━\u001b[0m\u001b[37m\u001b[0m \u001b[1m5s\u001b[0m 14ms/step - accuracy: 0.5518 - auc: 0.5685 - loss: 0.6957 - precision: 0.5645 - recall: 0.5699 - val_accuracy: 0.6485 - val_auc: 0.7076 - val_loss: 0.6381 - val_precision: 0.6674 - val_recall: 0.5920\n",
            "Epoch 2/30\n",
            "\u001b[1m188/188\u001b[0m \u001b[32m━━━━━━━━━━━━━━━━━━━━\u001b[0m\u001b[37m\u001b[0m \u001b[1m1s\u001b[0m 3ms/step - accuracy: 0.6153 - auc: 0.6562 - loss: 0.6538 - precision: 0.6174 - recall: 0.6276 - val_accuracy: 0.6595 - val_auc: 0.7212 - val_loss: 0.6149 - val_precision: 0.6484 - val_recall: 0.6970\n",
            "Epoch 3/30\n",
            "\u001b[1m188/188\u001b[0m \u001b[32m━━━━━━━━━━━━━━━━━━━━\u001b[0m\u001b[37m\u001b[0m \u001b[1m1s\u001b[0m 3ms/step - accuracy: 0.6279 - auc: 0.6772 - loss: 0.6410 - precision: 0.6289 - recall: 0.6525 - val_accuracy: 0.6435 - val_auc: 0.7171 - val_loss: 0.6162 - val_precision: 0.6251 - val_recall: 0.7170\n",
            "Epoch 4/30\n",
            "\u001b[1m188/188\u001b[0m \u001b[32m━━━━━━━━━━━━━━━━━━━━\u001b[0m\u001b[37m\u001b[0m \u001b[1m1s\u001b[0m 3ms/step - accuracy: 0.6495 - auc: 0.7130 - loss: 0.6187 - precision: 0.6448 - recall: 0.6867 - val_accuracy: 0.6655 - val_auc: 0.7333 - val_loss: 0.6057 - val_precision: 0.6433 - val_recall: 0.7430\n",
            "Epoch 5/30\n",
            "\u001b[1m188/188\u001b[0m \u001b[32m━━━━━━━━━━━━━━━━━━━━\u001b[0m\u001b[37m\u001b[0m \u001b[1m1s\u001b[0m 3ms/step - accuracy: 0.6568 - auc: 0.7153 - loss: 0.6155 - precision: 0.6489 - recall: 0.6789 - val_accuracy: 0.6520 - val_auc: 0.7338 - val_loss: 0.6084 - val_precision: 0.6189 - val_recall: 0.7910\n",
            "Epoch 6/30\n",
            "\u001b[1m188/188\u001b[0m \u001b[32m━━━━━━━━━━━━━━━━━━━━\u001b[0m\u001b[37m\u001b[0m \u001b[1m1s\u001b[0m 3ms/step - accuracy: 0.6407 - auc: 0.7025 - loss: 0.6229 - precision: 0.6320 - recall: 0.6778 - val_accuracy: 0.6550 - val_auc: 0.7385 - val_loss: 0.5993 - val_precision: 0.6314 - val_recall: 0.7450\n",
            "Epoch 7/30\n",
            "\u001b[1m188/188\u001b[0m \u001b[32m━━━━━━━━━━━━━━━━━━━━\u001b[0m\u001b[37m\u001b[0m \u001b[1m1s\u001b[0m 3ms/step - accuracy: 0.6577 - auc: 0.7229 - loss: 0.6077 - precision: 0.6384 - recall: 0.6983 - val_accuracy: 0.6680 - val_auc: 0.7383 - val_loss: 0.5989 - val_precision: 0.6456 - val_recall: 0.7450\n",
            "Epoch 8/30\n",
            "\u001b[1m188/188\u001b[0m \u001b[32m━━━━━━━━━━━━━━━━━━━━\u001b[0m\u001b[37m\u001b[0m \u001b[1m1s\u001b[0m 3ms/step - accuracy: 0.6694 - auc: 0.7237 - loss: 0.6127 - precision: 0.6619 - recall: 0.6982 - val_accuracy: 0.6335 - val_auc: 0.7357 - val_loss: 0.6246 - val_precision: 0.5888 - val_recall: 0.8850\n",
            "Epoch 9/30\n",
            "\u001b[1m188/188\u001b[0m \u001b[32m━━━━━━━━━━━━━━━━━━━━\u001b[0m\u001b[37m\u001b[0m \u001b[1m1s\u001b[0m 3ms/step - accuracy: 0.6535 - auc: 0.7125 - loss: 0.6174 - precision: 0.6394 - recall: 0.7028 - val_accuracy: 0.6770 - val_auc: 0.7422 - val_loss: 0.5974 - val_precision: 0.6840 - val_recall: 0.6580\n",
            "Epoch 10/30\n",
            "\u001b[1m188/188\u001b[0m \u001b[32m━━━━━━━━━━━━━━━━━━━━\u001b[0m\u001b[37m\u001b[0m \u001b[1m1s\u001b[0m 3ms/step - accuracy: 0.6697 - auc: 0.7356 - loss: 0.6029 - precision: 0.6632 - recall: 0.6859 - val_accuracy: 0.6570 - val_auc: 0.7384 - val_loss: 0.6086 - val_precision: 0.6179 - val_recall: 0.8230\n",
            "Epoch 11/30\n",
            "\u001b[1m188/188\u001b[0m \u001b[32m━━━━━━━━━━━━━━━━━━━━\u001b[0m\u001b[37m\u001b[0m \u001b[1m1s\u001b[0m 3ms/step - accuracy: 0.6717 - auc: 0.7380 - loss: 0.5963 - precision: 0.6568 - recall: 0.7140 - val_accuracy: 0.6675 - val_auc: 0.7413 - val_loss: 0.6019 - val_precision: 0.6843 - val_recall: 0.6220\n",
            "Epoch 12/30\n",
            "\u001b[1m188/188\u001b[0m \u001b[32m━━━━━━━━━━━━━━━━━━━━\u001b[0m\u001b[37m\u001b[0m \u001b[1m1s\u001b[0m 3ms/step - accuracy: 0.6712 - auc: 0.7476 - loss: 0.5885 - precision: 0.6618 - recall: 0.6697 - val_accuracy: 0.6750 - val_auc: 0.7403 - val_loss: 0.5969 - val_precision: 0.6606 - val_recall: 0.7200\n",
            "Epoch 13/30\n",
            "\u001b[1m188/188\u001b[0m \u001b[32m━━━━━━━━━━━━━━━━━━━━\u001b[0m\u001b[37m\u001b[0m \u001b[1m1s\u001b[0m 3ms/step - accuracy: 0.6768 - auc: 0.7456 - loss: 0.5929 - precision: 0.6748 - recall: 0.6953 - val_accuracy: 0.6730 - val_auc: 0.7464 - val_loss: 0.5948 - val_precision: 0.6670 - val_recall: 0.6910\n",
            "Epoch 14/30\n",
            "\u001b[1m188/188\u001b[0m \u001b[32m━━━━━━━━━━━━━━━━━━━━\u001b[0m\u001b[37m\u001b[0m \u001b[1m1s\u001b[0m 3ms/step - accuracy: 0.6838 - auc: 0.7565 - loss: 0.5843 - precision: 0.6653 - recall: 0.7507 - val_accuracy: 0.6500 - val_auc: 0.7154 - val_loss: 0.6313 - val_precision: 0.6189 - val_recall: 0.7810\n",
            "Epoch 15/30\n",
            "\u001b[1m188/188\u001b[0m \u001b[32m━━━━━━━━━━━━━━━━━━━━\u001b[0m\u001b[37m\u001b[0m \u001b[1m1s\u001b[0m 3ms/step - accuracy: 0.6764 - auc: 0.7457 - loss: 0.5874 - precision: 0.6663 - recall: 0.7201 - val_accuracy: 0.6585 - val_auc: 0.7441 - val_loss: 0.6103 - val_precision: 0.6191 - val_recall: 0.8240\n",
            "Epoch 16/30\n",
            "\u001b[1m188/188\u001b[0m \u001b[32m━━━━━━━━━━━━━━━━━━━━\u001b[0m\u001b[37m\u001b[0m \u001b[1m1s\u001b[0m 3ms/step - accuracy: 0.6850 - auc: 0.7613 - loss: 0.5756 - precision: 0.6666 - recall: 0.7553 - val_accuracy: 0.6690 - val_auc: 0.7383 - val_loss: 0.6045 - val_precision: 0.7046 - val_recall: 0.5820\n",
            "CPU times: user 17.1 s, sys: 1.57 s, total: 18.7 s\n",
            "Wall time: 15.2 s\n"
          ]
        }
      ]
    },
    {
      "cell_type": "code",
      "source": [
        "fig = plt.figure(figsize=(16, 6))\n",
        "\n",
        "fig.add_subplot(1, 4, 1)\n",
        "plt.plot(history.history['loss'], label='Train Loss')\n",
        "plt.plot(history.history['val_loss'], label='Val Loss')\n",
        "plt.title('Loss')\n",
        "plt.legend()\n",
        "\n",
        "fig.add_subplot(1, 4, 2)\n",
        "plt.plot(history.history['accuracy'], label='Train Acc')\n",
        "plt.plot(history.history['val_accuracy'], label='Val Acc')\n",
        "plt.title('Accuracy')\n",
        "plt.legend()\n",
        "\n",
        "fig.add_subplot(1, 4, 3)\n",
        "plt.plot(history.history['precision'], label='Train Precision')\n",
        "plt.plot(history.history['val_precision'], label='Val Precision')\n",
        "plt.title('Precision')\n",
        "plt.legend()\n",
        "\n",
        "fig.add_subplot(1, 4, 4)\n",
        "plt.plot(history.history['auc'], label='Train Auc')\n",
        "plt.plot(history.history['val_auc'], label='Val Auc')\n",
        "plt.title('AUC')\n",
        "plt.legend()\n",
        "\n",
        "plt.suptitle(\"BERT\")\n",
        "plt.show()"
      ],
      "metadata": {
        "id": "fWtnkexs1XkQ",
        "outputId": "dfd6b218-f832-4677-e9eb-c8cc59f8e51a",
        "colab": {
          "base_uri": "https://localhost:8080/",
          "height": 413
        }
      },
      "execution_count": null,
      "outputs": [
        {
          "output_type": "display_data",
          "data": {
            "text/plain": [
              "<Figure size 1600x600 with 4 Axes>"
            ],
            "image/png": "[encoded data removed]"
          },
          "metadata": {}
        }
      ]
    },
    {
      "cell_type": "code",
      "source": [
        "y_preds_prob = bert_model.predict(x_test)\n",
        "y_preds = np.where(y_preds_prob > 0.5, 1, 0)\n",
        "print(classification_report(y_test, y_preds))"
      ],
      "metadata": {
        "id": "g1foRHKH2Mk-",
        "outputId": "d0041944-4e43-43e6-dc50-7a5d43014297",
        "colab": {
          "base_uri": "https://localhost:8080/"
        }
      },
      "execution_count": null,
      "outputs": [
        {
          "output_type": "stream",
          "name": "stdout",
          "text": [
            "\u001b[1m63/63\u001b[0m \u001b[32m━━━━━━━━━━━━━━━━━━━━\u001b[0m\u001b[37m\u001b[0m \u001b[1m0s\u001b[0m 3ms/step\n",
            "              precision    recall  f1-score   support\n",
            "\n",
            "           0       0.67      0.66      0.66      1000\n",
            "           1       0.66      0.68      0.67      1000\n",
            "\n",
            "    accuracy                           0.67      2000\n",
            "   macro avg       0.67      0.67      0.67      2000\n",
            "weighted avg       0.67      0.67      0.67      2000\n",
            "\n"
          ]
        }
      ]
    },
    {
      "cell_type": "code",
      "source": [
        "ConfusionMatrixDisplay.from_predictions(y_pred=y_preds, y_true=y_test)\n",
        "plt.show()"
      ],
      "metadata": {
        "id": "CUc8jT6C2Qh7",
        "outputId": "7c00ae54-b01e-4d50-fc2d-d341234397ca",
        "colab": {
          "base_uri": "https://localhost:8080/",
          "height": 449
        }
      },
      "execution_count": null,
      "outputs": [
        {
          "output_type": "display_data",
          "data": {
            "text/plain": [
              "<Figure size 640x480 with 2 Axes>"
            ],
            "image/png": "[encoded data removed]"
          },
          "metadata": {}
        }
      ]
    },
    {
      "cell_type": "markdown",
      "source": [
        "Les résultats obtenus avec le modèle BERT sont prometteurs. On observe une progression régulière de la performance en apprentissage, avec une précision, une AUC et une loss en validation qui restent globalement stables malgré quelques fluctuations. Ce comportement témoigne d'une bonne généralisation et d'une capacité du modèle à capter efficacement les nuances sémantiques des tweets.\n",
        "\n",
        "Compte tenu de la nature du problème — analyse de sentiments sur des textes courts et bruités — BERT apparaît comme une solution bien adaptée. Sa capacité à intégrer le contexte lexical rend ce modèle particulièrement pertinent pour les tweets, où le sens peut varier fortement selon l'ordre ou les associations de mots.\n",
        "\n",
        "Investir davantage de temps et de ressources dans le fine-tuning de ce modèle (avec ajustement de seuil, validation croisée, optimisation des hyperparamètres ou intégration dans un pipeline de production) serait hautement justifié pour améliorer la robustesse du système global."
      ],
      "metadata": {
        "id": "KVNpqso_2Dsl"
      }
    },
    {
      "cell_type": "code",
      "source": [
        "bert_model.save(os.path.join(path, \"bert_model.keras\"))"
      ],
      "metadata": {
        "id": "w7QOoSp82oEL"
      },
      "execution_count": null,
      "outputs": []
    },
    {
      "cell_type": "code",
      "source": [
        "end_time = time.time()\n",
        "print(f\"Execution time={end_time-init_time} seconds\")"
      ],
      "metadata": {
        "id": "IHQvg2GB2vC8",
        "outputId": "01087561-baa4-4c82-d9ee-26460822faec",
        "colab": {
          "base_uri": "https://localhost:8080/"
        }
      },
      "execution_count": null,
      "outputs": [
        {
          "output_type": "stream",
          "name": "stdout",
          "text": [
            "Execution time=2512.2961897850037 seconds\n"
          ]
        }
      ]
    },
    {
      "cell_type": "markdown",
      "source": [
        "#FIN"
      ],
      "metadata": {
        "id": "uvm_i9V62wXW"
      }
    }
  ],
  "metadata": {
    "kernelspec": {
      "display_name": "Python 3",
      "name": "python3"
    },
    "language_info": {
      "codemirror_mode": {
        "name": "ipython",
        "version": 3
      },
      "file_extension": ".py",
      "mimetype": "text/x-python",
      "name": "python",
      "nbconvert_exporter": "python",
      "pygments_lexer": "ipython3",
      "version": "3.13.2"
    },
    "papermill": {
      "duration": 500.435762,
      "end_time": "2020-08-26T21:07:20.093709",
      "environment_variables": {},
      "exception": null,
      "input_path": "__notebook__.ipynb",
      "output_path": "__notebook__.ipynb",
      "parameters": {},
      "start_time": "2020-08-26T20:58:59.657947",
      "version": "2.1.0"
    },
    "colab": {
      "provenance": [],
      "machine_shape": "hm",
      "gpuType": "T4",
      "include_colab_link": true
    },
    "accelerator": "GPU"
  },
  "nbformat": 4,
  "nbformat_minor": 0
}