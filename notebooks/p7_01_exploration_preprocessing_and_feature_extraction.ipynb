{
  "cells": [
    {
      "cell_type": "markdown",
      "metadata": {
        "papermill": {
          "duration": 0.0245,
          "end_time": "2020-08-26T20:59:06.122101",
          "exception": false,
          "start_time": "2020-08-26T20:59:06.097601",
          "status": "completed"
        },
        "tags": [],
        "id": "xTi_qQJC0Qsp"
      },
      "source": [
        "# Introduction\n",
        "\n",
        "Dans ce notebook nous allons effectuer trois taches:\n",
        "* l'analyse exploratoire (exploration et netooyage) de nos données\n",
        "* traitement du texte\n",
        "* extraction des features textes"
      ]
    },
    {
      "cell_type": "markdown",
      "metadata": {
        "papermill": {
          "duration": 0.024347,
          "end_time": "2020-08-26T20:59:06.221201",
          "exception": false,
          "start_time": "2020-08-26T20:59:06.196854",
          "status": "completed"
        },
        "tags": [],
        "id": "eJDjmTZo0Qsr"
      },
      "source": [
        "# Analyse exploratoire ds données"
      ]
    },
    {
      "cell_type": "markdown",
      "source": [
        "## Import des librairies"
      ],
      "metadata": {
        "id": "hwecoVR_24PI"
      }
    },
    {
      "cell_type": "code",
      "execution_count": 2,
      "metadata": {
        "execution": {
          "iopub.execute_input": "2020-08-26T20:59:06.289122Z",
          "iopub.status.busy": "2020-08-26T20:59:06.288192Z",
          "iopub.status.idle": "2020-08-26T20:59:08.802804Z",
          "shell.execute_reply": "2020-08-26T20:59:08.802075Z"
        },
        "papermill": {
          "duration": 2.557066,
          "end_time": "2020-08-26T20:59:08.802938",
          "exception": false,
          "start_time": "2020-08-26T20:59:06.245872",
          "status": "completed"
        },
        "scrolled": true,
        "tags": [],
        "id": "4DO_uFhC0Qsr",
        "outputId": "967ca5fc-c6bb-41c8-8bca-027171019bfa",
        "colab": {
          "base_uri": "https://localhost:8080/"
        }
      },
      "outputs": [
        {
          "output_type": "stream",
          "name": "stdout",
          "text": [
            "CPU times: user 3 µs, sys: 1e+03 ns, total: 4 µs\n",
            "Wall time: 6.91 µs\n",
            "Requirement already satisfied: contractions in /usr/local/lib/python3.11/dist-packages (0.1.73)\n",
            "Requirement already satisfied: textsearch>=0.0.21 in /usr/local/lib/python3.11/dist-packages (from contractions) (0.0.24)\n",
            "Requirement already satisfied: anyascii in /usr/local/lib/python3.11/dist-packages (from textsearch>=0.0.21->contractions) (0.3.2)\n",
            "Requirement already satisfied: pyahocorasick in /usr/local/lib/python3.11/dist-packages (from textsearch>=0.0.21->contractions) (2.1.0)\n",
            "Python version: 3.11.12 (main, Apr  9 2025, 08:55:54) [GCC 11.4.0]\n",
            "Version info.: sys.version_info(major=3, minor=11, micro=12, releaselevel='final', serial=0)\n",
            "pandas version: 2.2.2\n",
            "numpy version: 2.0.2\n",
            "skearn version: 1.6.1\n",
            "re version: 2.2.1\n",
            "nltk version: 3.9.1\n"
          ]
        }
      ],
      "source": [
        "%time\n",
        "import os\n",
        "import sys\n",
        "import warnings\n",
        "if not sys.warnoptions:\n",
        "    warnings.simplefilter(\"ignore\")\n",
        "\n",
        "import numpy as np\n",
        "import pandas as pd\n",
        "import sklearn\n",
        "\n",
        "from matplotlib import pyplot as plt\n",
        "\n",
        "import seaborn as sns\n",
        "\n",
        "import string\n",
        "import re\n",
        "import nltk\n",
        "from nltk.corpus import stopwords, wordnet, brown\n",
        "from nltk.stem import WordNetLemmatizer\n",
        "from nltk.tokenize import word_tokenize\n",
        "\n",
        "# Intallation du package contractions- https://github.com/kootenpv/contractions\n",
        "!pip install contractions\n",
        "import contractions\n",
        "\n",
        "\n",
        "print(\"Python version:\", sys.version)\n",
        "print(\"Version info.:\", sys.version_info)\n",
        "print(\"pandas version:\", pd.__version__)\n",
        "print(\"numpy version:\", np.__version__)\n",
        "print(\"skearn version:\", sklearn.__version__)\n",
        "print(\"re version:\", re.__version__)\n",
        "print(\"nltk version:\", nltk.__version__)"
      ]
    },
    {
      "cell_type": "markdown",
      "metadata": {
        "papermill": {
          "duration": 0.02595,
          "end_time": "2020-08-26T20:59:08.856139",
          "exception": false,
          "start_time": "2020-08-26T20:59:08.830189",
          "status": "completed"
        },
        "tags": [],
        "id": "0yR7Xntu0Qss"
      },
      "source": [
        "## Chargement des données"
      ]
    },
    {
      "cell_type": "code",
      "source": [
        "path = \"/content/drive/MyDrive/data/sentiments\"\n",
        "#path = \"./data/sentiments\""
      ],
      "metadata": {
        "id": "t4MZq-KS4Mo-"
      },
      "execution_count": 3,
      "outputs": []
    },
    {
      "cell_type": "code",
      "execution_count": 4,
      "metadata": {
        "execution": {
          "iopub.execute_input": "2020-08-26T20:59:08.927014Z",
          "iopub.status.busy": "2020-08-26T20:59:08.926218Z",
          "iopub.status.idle": "2020-08-26T20:59:09.022472Z",
          "shell.execute_reply": "2020-08-26T20:59:09.021511Z"
        },
        "papermill": {
          "duration": 0.140845,
          "end_time": "2020-08-26T20:59:09.022636",
          "exception": false,
          "start_time": "2020-08-26T20:59:08.881791",
          "status": "completed"
        },
        "tags": [],
        "id": "gnO6-UCV0Qss",
        "outputId": "398ce65c-2a69-442d-ea4d-066b2e32fe38",
        "colab": {
          "base_uri": "https://localhost:8080/",
          "height": 72
        }
      },
      "outputs": [
        {
          "output_type": "stream",
          "name": "stdout",
          "text": [
            "CPU times: user 2 µs, sys: 1 µs, total: 3 µs\n",
            "Wall time: 5.72 µs\n"
          ]
        },
        {
          "output_type": "display_data",
          "data": {
            "text/plain": [
              "(1600000, 6)"
            ]
          },
          "metadata": {}
        }
      ],
      "source": [
        "%time\n",
        "column_names = ['target', 'id', 'posted_at', 'QUERY', 'posted_by', 'content']\n",
        "tweets_df = pd.read_csv(path+\"/training.1600000.processed.noemoticon.csv\", encoding_errors='ignore', names=column_names)\n",
        "display(tweets_df.shape)"
      ]
    },
    {
      "cell_type": "markdown",
      "source": [
        "## Exploration"
      ],
      "metadata": {
        "id": "hp0UrJWC966z"
      }
    },
    {
      "cell_type": "code",
      "source": [
        "tweets_df.head()"
      ],
      "metadata": {
        "id": "xAj0mwh863V3",
        "outputId": "9017f9d1-b7a4-469e-bec3-a301623c793b",
        "colab": {
          "base_uri": "https://localhost:8080/",
          "height": 293
        }
      },
      "execution_count": 5,
      "outputs": [
        {
          "output_type": "execute_result",
          "data": {
            "text/plain": [
              "   target          id                     posted_at     QUERY  \\\n",
              "0       0  1467810369  Mon Apr 06 22:19:45 PDT 2009  NO_QUERY   \n",
              "1       0  1467810672  Mon Apr 06 22:19:49 PDT 2009  NO_QUERY   \n",
              "2       0  1467810917  Mon Apr 06 22:19:53 PDT 2009  NO_QUERY   \n",
              "3       0  1467811184  Mon Apr 06 22:19:57 PDT 2009  NO_QUERY   \n",
              "4       0  1467811193  Mon Apr 06 22:19:57 PDT 2009  NO_QUERY   \n",
              "\n",
              "         posted_by                                            content  \n",
              "0  _TheSpecialOne_  @switchfoot http://twitpic.com/2y1zl - Awww, t...  \n",
              "1    scotthamilton  is upset that he can't update his Facebook by ...  \n",
              "2         mattycus  @Kenichan I dived many times for the ball. Man...  \n",
              "3          ElleCTF    my whole body feels itchy and like its on fire   \n",
              "4           Karoli  @nationwideclass no, it's not behaving at all....  "
            ],
            "text/html": [
              "\n",
              "  <div id=\"df-41dde05b-6a25-4b5c-b3cc-735a199e80ba\" class=\"colab-df-container\">\n",
              "    <div>\n",
              "<style scoped>\n",
              "    .dataframe tbody tr th:only-of-type {\n",
              "        vertical-align: middle;\n",
              "    }\n",
              "\n",
              "    .dataframe tbody tr th {\n",
              "        vertical-align: top;\n",
              "    }\n",
              "\n",
              "    .dataframe thead th {\n",
              "        text-align: right;\n",
              "    }\n",
              "</style>\n",
              "<table border=\"1\" class=\"dataframe\">\n",
              "  <thead>\n",
              "    <tr style=\"text-align: right;\">\n",
              "      <th></th>\n",
              "      <th>target</th>\n",
              "      <th>id</th>\n",
              "      <th>posted_at</th>\n",
              "      <th>QUERY</th>\n",
              "      <th>posted_by</th>\n",
              "      <th>content</th>\n",
              "    </tr>\n",
              "  </thead>\n",
              "  <tbody>\n",
              "    <tr>\n",
              "      <th>0</th>\n",
              "      <td>0</td>\n",
              "      <td>1467810369</td>\n",
              "      <td>Mon Apr 06 22:19:45 PDT 2009</td>\n",
              "      <td>NO_QUERY</td>\n",
              "      <td>_TheSpecialOne_</td>\n",
              "      <td>@switchfoot http://twitpic.com/2y1zl - Awww, t...</td>\n",
              "    </tr>\n",
              "    <tr>\n",
              "      <th>1</th>\n",
              "      <td>0</td>\n",
              "      <td>1467810672</td>\n",
              "      <td>Mon Apr 06 22:19:49 PDT 2009</td>\n",
              "      <td>NO_QUERY</td>\n",
              "      <td>scotthamilton</td>\n",
              "      <td>is upset that he can't update his Facebook by ...</td>\n",
              "    </tr>\n",
              "    <tr>\n",
              "      <th>2</th>\n",
              "      <td>0</td>\n",
              "      <td>1467810917</td>\n",
              "      <td>Mon Apr 06 22:19:53 PDT 2009</td>\n",
              "      <td>NO_QUERY</td>\n",
              "      <td>mattycus</td>\n",
              "      <td>@Kenichan I dived many times for the ball. Man...</td>\n",
              "    </tr>\n",
              "    <tr>\n",
              "      <th>3</th>\n",
              "      <td>0</td>\n",
              "      <td>1467811184</td>\n",
              "      <td>Mon Apr 06 22:19:57 PDT 2009</td>\n",
              "      <td>NO_QUERY</td>\n",
              "      <td>ElleCTF</td>\n",
              "      <td>my whole body feels itchy and like its on fire</td>\n",
              "    </tr>\n",
              "    <tr>\n",
              "      <th>4</th>\n",
              "      <td>0</td>\n",
              "      <td>1467811193</td>\n",
              "      <td>Mon Apr 06 22:19:57 PDT 2009</td>\n",
              "      <td>NO_QUERY</td>\n",
              "      <td>Karoli</td>\n",
              "      <td>@nationwideclass no, it's not behaving at all....</td>\n",
              "    </tr>\n",
              "  </tbody>\n",
              "</table>\n",
              "</div>\n",
              "    <div class=\"colab-df-buttons\">\n",
              "\n",
              "  <div class=\"colab-df-container\">\n",
              "    <button class=\"colab-df-convert\" onclick=\"convertToInteractive('df-41dde05b-6a25-4b5c-b3cc-735a199e80ba')\"\n",
              "            title=\"Convert this dataframe to an interactive table.\"\n",
              "            style=\"display:none;\">\n",
              "\n",
              "  <svg xmlns=\"http://www.w3.org/2000/svg\" height=\"24px\" viewBox=\"0 -960 960 960\">\n",
              "    <path d=\"M120-120v-720h720v720H120Zm60-500h600v-160H180v160Zm220 220h160v-160H400v160Zm0 220h160v-160H400v160ZM180-400h160v-160H180v160Zm440 0h160v-160H620v160ZM180-180h160v-160H180v160Zm440 0h160v-160H620v160Z\"/>\n",
              "  </svg>\n",
              "    </button>\n",
              "\n",
              "  <style>\n",
              "    .colab-df-container {\n",
              "      display:flex;\n",
              "      gap: 12px;\n",
              "    }\n",
              "\n",
              "    .colab-df-convert {\n",
              "      background-color: #E8F0FE;\n",
              "      border: none;\n",
              "      border-radius: 50%;\n",
              "      cursor: pointer;\n",
              "      display: none;\n",
              "      fill: #1967D2;\n",
              "      height: 32px;\n",
              "      padding: 0 0 0 0;\n",
              "      width: 32px;\n",
              "    }\n",
              "\n",
              "    .colab-df-convert:hover {\n",
              "      background-color: #E2EBFA;\n",
              "      box-shadow: 0px 1px 2px rgba(60, 64, 67, 0.3), 0px 1px 3px 1px rgba(60, 64, 67, 0.15);\n",
              "      fill: #174EA6;\n",
              "    }\n",
              "\n",
              "    .colab-df-buttons div {\n",
              "      margin-bottom: 4px;\n",
              "    }\n",
              "\n",
              "    [theme=dark] .colab-df-convert {\n",
              "      background-color: #3B4455;\n",
              "      fill: #D2E3FC;\n",
              "    }\n",
              "\n",
              "    [theme=dark] .colab-df-convert:hover {\n",
              "      background-color: #434B5C;\n",
              "      box-shadow: 0px 1px 3px 1px rgba(0, 0, 0, 0.15);\n",
              "      filter: drop-shadow(0px 1px 2px rgba(0, 0, 0, 0.3));\n",
              "      fill: #FFFFFF;\n",
              "    }\n",
              "  </style>\n",
              "\n",
              "    <script>\n",
              "      const buttonEl =\n",
              "        document.querySelector('#df-41dde05b-6a25-4b5c-b3cc-735a199e80ba button.colab-df-convert');\n",
              "      buttonEl.style.display =\n",
              "        google.colab.kernel.accessAllowed ? 'block' : 'none';\n",
              "\n",
              "      async function convertToInteractive(key) {\n",
              "        const element = document.querySelector('#df-41dde05b-6a25-4b5c-b3cc-735a199e80ba');\n",
              "        const dataTable =\n",
              "          await google.colab.kernel.invokeFunction('convertToInteractive',\n",
              "                                                    [key], {});\n",
              "        if (!dataTable) return;\n",
              "\n",
              "        const docLinkHtml = 'Like what you see? Visit the ' +\n",
              "          '<a target=\"_blank\" href=https://colab.research.google.com/notebooks/data_table.ipynb>data table notebook</a>'\n",
              "          + ' to learn more about interactive tables.';\n",
              "        element.innerHTML = '';\n",
              "        dataTable['output_type'] = 'display_data';\n",
              "        await google.colab.output.renderOutput(dataTable, element);\n",
              "        const docLink = document.createElement('div');\n",
              "        docLink.innerHTML = docLinkHtml;\n",
              "        element.appendChild(docLink);\n",
              "      }\n",
              "    </script>\n",
              "  </div>\n",
              "\n",
              "\n",
              "    <div id=\"df-349b754f-1f70-4381-853c-aeee471c96b2\">\n",
              "      <button class=\"colab-df-quickchart\" onclick=\"quickchart('df-349b754f-1f70-4381-853c-aeee471c96b2')\"\n",
              "                title=\"Suggest charts\"\n",
              "                style=\"display:none;\">\n",
              "\n",
              "<svg xmlns=\"http://www.w3.org/2000/svg\" height=\"24px\"viewBox=\"0 0 24 24\"\n",
              "     width=\"24px\">\n",
              "    <g>\n",
              "        <path d=\"M19 3H5c-1.1 0-2 .9-2 2v14c0 1.1.9 2 2 2h14c1.1 0 2-.9 2-2V5c0-1.1-.9-2-2-2zM9 17H7v-7h2v7zm4 0h-2V7h2v10zm4 0h-2v-4h2v4z\"/>\n",
              "    </g>\n",
              "</svg>\n",
              "      </button>\n",
              "\n",
              "<style>\n",
              "  .colab-df-quickchart {\n",
              "      --bg-color: #E8F0FE;\n",
              "      --fill-color: #1967D2;\n",
              "      --hover-bg-color: #E2EBFA;\n",
              "      --hover-fill-color: #174EA6;\n",
              "      --disabled-fill-color: #AAA;\n",
              "      --disabled-bg-color: #DDD;\n",
              "  }\n",
              "\n",
              "  [theme=dark] .colab-df-quickchart {\n",
              "      --bg-color: #3B4455;\n",
              "      --fill-color: #D2E3FC;\n",
              "      --hover-bg-color: #434B5C;\n",
              "      --hover-fill-color: #FFFFFF;\n",
              "      --disabled-bg-color: #3B4455;\n",
              "      --disabled-fill-color: #666;\n",
              "  }\n",
              "\n",
              "  .colab-df-quickchart {\n",
              "    background-color: var(--bg-color);\n",
              "    border: none;\n",
              "    border-radius: 50%;\n",
              "    cursor: pointer;\n",
              "    display: none;\n",
              "    fill: var(--fill-color);\n",
              "    height: 32px;\n",
              "    padding: 0;\n",
              "    width: 32px;\n",
              "  }\n",
              "\n",
              "  .colab-df-quickchart:hover {\n",
              "    background-color: var(--hover-bg-color);\n",
              "    box-shadow: 0 1px 2px rgba(60, 64, 67, 0.3), 0 1px 3px 1px rgba(60, 64, 67, 0.15);\n",
              "    fill: var(--button-hover-fill-color);\n",
              "  }\n",
              "\n",
              "  .colab-df-quickchart-complete:disabled,\n",
              "  .colab-df-quickchart-complete:disabled:hover {\n",
              "    background-color: var(--disabled-bg-color);\n",
              "    fill: var(--disabled-fill-color);\n",
              "    box-shadow: none;\n",
              "  }\n",
              "\n",
              "  .colab-df-spinner {\n",
              "    border: 2px solid var(--fill-color);\n",
              "    border-color: transparent;\n",
              "    border-bottom-color: var(--fill-color);\n",
              "    animation:\n",
              "      spin 1s steps(1) infinite;\n",
              "  }\n",
              "\n",
              "  @keyframes spin {\n",
              "    0% {\n",
              "      border-color: transparent;\n",
              "      border-bottom-color: var(--fill-color);\n",
              "      border-left-color: var(--fill-color);\n",
              "    }\n",
              "    20% {\n",
              "      border-color: transparent;\n",
              "      border-left-color: var(--fill-color);\n",
              "      border-top-color: var(--fill-color);\n",
              "    }\n",
              "    30% {\n",
              "      border-color: transparent;\n",
              "      border-left-color: var(--fill-color);\n",
              "      border-top-color: var(--fill-color);\n",
              "      border-right-color: var(--fill-color);\n",
              "    }\n",
              "    40% {\n",
              "      border-color: transparent;\n",
              "      border-right-color: var(--fill-color);\n",
              "      border-top-color: var(--fill-color);\n",
              "    }\n",
              "    60% {\n",
              "      border-color: transparent;\n",
              "      border-right-color: var(--fill-color);\n",
              "    }\n",
              "    80% {\n",
              "      border-color: transparent;\n",
              "      border-right-color: var(--fill-color);\n",
              "      border-bottom-color: var(--fill-color);\n",
              "    }\n",
              "    90% {\n",
              "      border-color: transparent;\n",
              "      border-bottom-color: var(--fill-color);\n",
              "    }\n",
              "  }\n",
              "</style>\n",
              "\n",
              "      <script>\n",
              "        async function quickchart(key) {\n",
              "          const quickchartButtonEl =\n",
              "            document.querySelector('#' + key + ' button');\n",
              "          quickchartButtonEl.disabled = true;  // To prevent multiple clicks.\n",
              "          quickchartButtonEl.classList.add('colab-df-spinner');\n",
              "          try {\n",
              "            const charts = await google.colab.kernel.invokeFunction(\n",
              "                'suggestCharts', [key], {});\n",
              "          } catch (error) {\n",
              "            console.error('Error during call to suggestCharts:', error);\n",
              "          }\n",
              "          quickchartButtonEl.classList.remove('colab-df-spinner');\n",
              "          quickchartButtonEl.classList.add('colab-df-quickchart-complete');\n",
              "        }\n",
              "        (() => {\n",
              "          let quickchartButtonEl =\n",
              "            document.querySelector('#df-349b754f-1f70-4381-853c-aeee471c96b2 button');\n",
              "          quickchartButtonEl.style.display =\n",
              "            google.colab.kernel.accessAllowed ? 'block' : 'none';\n",
              "        })();\n",
              "      </script>\n",
              "    </div>\n",
              "\n",
              "    </div>\n",
              "  </div>\n"
            ],
            "application/vnd.google.colaboratory.intrinsic+json": {
              "type": "dataframe",
              "variable_name": "tweets_df"
            }
          },
          "metadata": {},
          "execution_count": 5
        }
      ]
    },
    {
      "cell_type": "code",
      "execution_count": 6,
      "metadata": {
        "execution": {
          "iopub.execute_input": "2020-08-26T20:59:09.090933Z",
          "iopub.status.busy": "2020-08-26T20:59:09.090124Z",
          "iopub.status.idle": "2020-08-26T20:59:09.141147Z",
          "shell.execute_reply": "2020-08-26T20:59:09.140354Z"
        },
        "papermill": {
          "duration": 0.088601,
          "end_time": "2020-08-26T20:59:09.141296",
          "exception": false,
          "start_time": "2020-08-26T20:59:09.052695",
          "status": "completed"
        },
        "scrolled": true,
        "tags": [],
        "id": "oiM4o7UH0Qst",
        "outputId": "e34d5549-27df-427b-a20b-4707af1a3255",
        "colab": {
          "base_uri": "https://localhost:8080/"
        }
      },
      "outputs": [
        {
          "output_type": "stream",
          "name": "stdout",
          "text": [
            "<class 'pandas.core.frame.DataFrame'>\n",
            "RangeIndex: 1600000 entries, 0 to 1599999\n",
            "Data columns (total 6 columns):\n",
            " #   Column     Non-Null Count    Dtype \n",
            "---  ------     --------------    ----- \n",
            " 0   target     1600000 non-null  int64 \n",
            " 1   id         1600000 non-null  int64 \n",
            " 2   posted_at  1600000 non-null  object\n",
            " 3   QUERY      1600000 non-null  object\n",
            " 4   posted_by  1600000 non-null  object\n",
            " 5   content    1600000 non-null  object\n",
            "dtypes: int64(2), object(4)\n",
            "memory usage: 73.2+ MB\n"
          ]
        }
      ],
      "source": [
        "tweets_df.info()"
      ]
    },
    {
      "cell_type": "code",
      "source": [
        "tweets_df.isna().sum()"
      ],
      "metadata": {
        "id": "v3MWrMbt-ATT",
        "outputId": "e89ed771-da7f-4d5b-97d5-e2ab42a51681",
        "colab": {
          "base_uri": "https://localhost:8080/",
          "height": 272
        }
      },
      "execution_count": 7,
      "outputs": [
        {
          "output_type": "execute_result",
          "data": {
            "text/plain": [
              "target       0\n",
              "id           0\n",
              "posted_at    0\n",
              "QUERY        0\n",
              "posted_by    0\n",
              "content      0\n",
              "dtype: int64"
            ],
            "text/html": [
              "<div>\n",
              "<style scoped>\n",
              "    .dataframe tbody tr th:only-of-type {\n",
              "        vertical-align: middle;\n",
              "    }\n",
              "\n",
              "    .dataframe tbody tr th {\n",
              "        vertical-align: top;\n",
              "    }\n",
              "\n",
              "    .dataframe thead th {\n",
              "        text-align: right;\n",
              "    }\n",
              "</style>\n",
              "<table border=\"1\" class=\"dataframe\">\n",
              "  <thead>\n",
              "    <tr style=\"text-align: right;\">\n",
              "      <th></th>\n",
              "      <th>0</th>\n",
              "    </tr>\n",
              "  </thead>\n",
              "  <tbody>\n",
              "    <tr>\n",
              "      <th>target</th>\n",
              "      <td>0</td>\n",
              "    </tr>\n",
              "    <tr>\n",
              "      <th>id</th>\n",
              "      <td>0</td>\n",
              "    </tr>\n",
              "    <tr>\n",
              "      <th>posted_at</th>\n",
              "      <td>0</td>\n",
              "    </tr>\n",
              "    <tr>\n",
              "      <th>QUERY</th>\n",
              "      <td>0</td>\n",
              "    </tr>\n",
              "    <tr>\n",
              "      <th>posted_by</th>\n",
              "      <td>0</td>\n",
              "    </tr>\n",
              "    <tr>\n",
              "      <th>content</th>\n",
              "      <td>0</td>\n",
              "    </tr>\n",
              "  </tbody>\n",
              "</table>\n",
              "</div><br><label><b>dtype:</b> int64</label>"
            ]
          },
          "metadata": {},
          "execution_count": 7
        }
      ]
    },
    {
      "cell_type": "markdown",
      "source": [
        "Aucune valeur manquante n'a été detectée"
      ],
      "metadata": {
        "id": "_UhvHRfX-Rax"
      }
    },
    {
      "cell_type": "code",
      "source": [
        "tweets_df.QUERY.value_counts()"
      ],
      "metadata": {
        "id": "vUTCaCZ2-hWW",
        "outputId": "567668bb-35ae-4e7d-bed1-79cec13b523b",
        "colab": {
          "base_uri": "https://localhost:8080/",
          "height": 147
        }
      },
      "execution_count": 8,
      "outputs": [
        {
          "output_type": "execute_result",
          "data": {
            "text/plain": [
              "QUERY\n",
              "NO_QUERY    1600000\n",
              "Name: count, dtype: int64"
            ],
            "text/html": [
              "<div>\n",
              "<style scoped>\n",
              "    .dataframe tbody tr th:only-of-type {\n",
              "        vertical-align: middle;\n",
              "    }\n",
              "\n",
              "    .dataframe tbody tr th {\n",
              "        vertical-align: top;\n",
              "    }\n",
              "\n",
              "    .dataframe thead th {\n",
              "        text-align: right;\n",
              "    }\n",
              "</style>\n",
              "<table border=\"1\" class=\"dataframe\">\n",
              "  <thead>\n",
              "    <tr style=\"text-align: right;\">\n",
              "      <th></th>\n",
              "      <th>count</th>\n",
              "    </tr>\n",
              "    <tr>\n",
              "      <th>QUERY</th>\n",
              "      <th></th>\n",
              "    </tr>\n",
              "  </thead>\n",
              "  <tbody>\n",
              "    <tr>\n",
              "      <th>NO_QUERY</th>\n",
              "      <td>1600000</td>\n",
              "    </tr>\n",
              "  </tbody>\n",
              "</table>\n",
              "</div><br><label><b>dtype:</b> int64</label>"
            ]
          },
          "metadata": {},
          "execution_count": 8
        }
      ]
    },
    {
      "cell_type": "markdown",
      "source": [
        "Nous allons supprimer la colonne 'QUERY' car elle a une unique valeur qui n'apporte aucune variance à notre jeu de donnée."
      ],
      "metadata": {
        "id": "Akkqwu_3-s1h"
      }
    },
    {
      "cell_type": "code",
      "source": [
        "tweets_df.drop(columns=['QUERY'], inplace=True)"
      ],
      "metadata": {
        "id": "XGEXIb4nBncv"
      },
      "execution_count": 9,
      "outputs": []
    },
    {
      "cell_type": "code",
      "source": [
        "tweets_df.head()"
      ],
      "metadata": {
        "id": "NVAsr5_cBsKL",
        "outputId": "7ca383e6-a0ce-4b8f-85a5-a93d0488843f",
        "colab": {
          "base_uri": "https://localhost:8080/",
          "height": 206
        }
      },
      "execution_count": 10,
      "outputs": [
        {
          "output_type": "execute_result",
          "data": {
            "text/plain": [
              "   target          id                     posted_at        posted_by  \\\n",
              "0       0  1467810369  Mon Apr 06 22:19:45 PDT 2009  _TheSpecialOne_   \n",
              "1       0  1467810672  Mon Apr 06 22:19:49 PDT 2009    scotthamilton   \n",
              "2       0  1467810917  Mon Apr 06 22:19:53 PDT 2009         mattycus   \n",
              "3       0  1467811184  Mon Apr 06 22:19:57 PDT 2009          ElleCTF   \n",
              "4       0  1467811193  Mon Apr 06 22:19:57 PDT 2009           Karoli   \n",
              "\n",
              "                                             content  \n",
              "0  @switchfoot http://twitpic.com/2y1zl - Awww, t...  \n",
              "1  is upset that he can't update his Facebook by ...  \n",
              "2  @Kenichan I dived many times for the ball. Man...  \n",
              "3    my whole body feels itchy and like its on fire   \n",
              "4  @nationwideclass no, it's not behaving at all....  "
            ],
            "text/html": [
              "\n",
              "  <div id=\"df-c07dc69a-fd95-414c-a784-be1431bf2d1e\" class=\"colab-df-container\">\n",
              "    <div>\n",
              "<style scoped>\n",
              "    .dataframe tbody tr th:only-of-type {\n",
              "        vertical-align: middle;\n",
              "    }\n",
              "\n",
              "    .dataframe tbody tr th {\n",
              "        vertical-align: top;\n",
              "    }\n",
              "\n",
              "    .dataframe thead th {\n",
              "        text-align: right;\n",
              "    }\n",
              "</style>\n",
              "<table border=\"1\" class=\"dataframe\">\n",
              "  <thead>\n",
              "    <tr style=\"text-align: right;\">\n",
              "      <th></th>\n",
              "      <th>target</th>\n",
              "      <th>id</th>\n",
              "      <th>posted_at</th>\n",
              "      <th>posted_by</th>\n",
              "      <th>content</th>\n",
              "    </tr>\n",
              "  </thead>\n",
              "  <tbody>\n",
              "    <tr>\n",
              "      <th>0</th>\n",
              "      <td>0</td>\n",
              "      <td>1467810369</td>\n",
              "      <td>Mon Apr 06 22:19:45 PDT 2009</td>\n",
              "      <td>_TheSpecialOne_</td>\n",
              "      <td>@switchfoot http://twitpic.com/2y1zl - Awww, t...</td>\n",
              "    </tr>\n",
              "    <tr>\n",
              "      <th>1</th>\n",
              "      <td>0</td>\n",
              "      <td>1467810672</td>\n",
              "      <td>Mon Apr 06 22:19:49 PDT 2009</td>\n",
              "      <td>scotthamilton</td>\n",
              "      <td>is upset that he can't update his Facebook by ...</td>\n",
              "    </tr>\n",
              "    <tr>\n",
              "      <th>2</th>\n",
              "      <td>0</td>\n",
              "      <td>1467810917</td>\n",
              "      <td>Mon Apr 06 22:19:53 PDT 2009</td>\n",
              "      <td>mattycus</td>\n",
              "      <td>@Kenichan I dived many times for the ball. Man...</td>\n",
              "    </tr>\n",
              "    <tr>\n",
              "      <th>3</th>\n",
              "      <td>0</td>\n",
              "      <td>1467811184</td>\n",
              "      <td>Mon Apr 06 22:19:57 PDT 2009</td>\n",
              "      <td>ElleCTF</td>\n",
              "      <td>my whole body feels itchy and like its on fire</td>\n",
              "    </tr>\n",
              "    <tr>\n",
              "      <th>4</th>\n",
              "      <td>0</td>\n",
              "      <td>1467811193</td>\n",
              "      <td>Mon Apr 06 22:19:57 PDT 2009</td>\n",
              "      <td>Karoli</td>\n",
              "      <td>@nationwideclass no, it's not behaving at all....</td>\n",
              "    </tr>\n",
              "  </tbody>\n",
              "</table>\n",
              "</div>\n",
              "    <div class=\"colab-df-buttons\">\n",
              "\n",
              "  <div class=\"colab-df-container\">\n",
              "    <button class=\"colab-df-convert\" onclick=\"convertToInteractive('df-c07dc69a-fd95-414c-a784-be1431bf2d1e')\"\n",
              "            title=\"Convert this dataframe to an interactive table.\"\n",
              "            style=\"display:none;\">\n",
              "\n",
              "  <svg xmlns=\"http://www.w3.org/2000/svg\" height=\"24px\" viewBox=\"0 -960 960 960\">\n",
              "    <path d=\"M120-120v-720h720v720H120Zm60-500h600v-160H180v160Zm220 220h160v-160H400v160Zm0 220h160v-160H400v160ZM180-400h160v-160H180v160Zm440 0h160v-160H620v160ZM180-180h160v-160H180v160Zm440 0h160v-160H620v160Z\"/>\n",
              "  </svg>\n",
              "    </button>\n",
              "\n",
              "  <style>\n",
              "    .colab-df-container {\n",
              "      display:flex;\n",
              "      gap: 12px;\n",
              "    }\n",
              "\n",
              "    .colab-df-convert {\n",
              "      background-color: #E8F0FE;\n",
              "      border: none;\n",
              "      border-radius: 50%;\n",
              "      cursor: pointer;\n",
              "      display: none;\n",
              "      fill: #1967D2;\n",
              "      height: 32px;\n",
              "      padding: 0 0 0 0;\n",
              "      width: 32px;\n",
              "    }\n",
              "\n",
              "    .colab-df-convert:hover {\n",
              "      background-color: #E2EBFA;\n",
              "      box-shadow: 0px 1px 2px rgba(60, 64, 67, 0.3), 0px 1px 3px 1px rgba(60, 64, 67, 0.15);\n",
              "      fill: #174EA6;\n",
              "    }\n",
              "\n",
              "    .colab-df-buttons div {\n",
              "      margin-bottom: 4px;\n",
              "    }\n",
              "\n",
              "    [theme=dark] .colab-df-convert {\n",
              "      background-color: #3B4455;\n",
              "      fill: #D2E3FC;\n",
              "    }\n",
              "\n",
              "    [theme=dark] .colab-df-convert:hover {\n",
              "      background-color: #434B5C;\n",
              "      box-shadow: 0px 1px 3px 1px rgba(0, 0, 0, 0.15);\n",
              "      filter: drop-shadow(0px 1px 2px rgba(0, 0, 0, 0.3));\n",
              "      fill: #FFFFFF;\n",
              "    }\n",
              "  </style>\n",
              "\n",
              "    <script>\n",
              "      const buttonEl =\n",
              "        document.querySelector('#df-c07dc69a-fd95-414c-a784-be1431bf2d1e button.colab-df-convert');\n",
              "      buttonEl.style.display =\n",
              "        google.colab.kernel.accessAllowed ? 'block' : 'none';\n",
              "\n",
              "      async function convertToInteractive(key) {\n",
              "        const element = document.querySelector('#df-c07dc69a-fd95-414c-a784-be1431bf2d1e');\n",
              "        const dataTable =\n",
              "          await google.colab.kernel.invokeFunction('convertToInteractive',\n",
              "                                                    [key], {});\n",
              "        if (!dataTable) return;\n",
              "\n",
              "        const docLinkHtml = 'Like what you see? Visit the ' +\n",
              "          '<a target=\"_blank\" href=https://colab.research.google.com/notebooks/data_table.ipynb>data table notebook</a>'\n",
              "          + ' to learn more about interactive tables.';\n",
              "        element.innerHTML = '';\n",
              "        dataTable['output_type'] = 'display_data';\n",
              "        await google.colab.output.renderOutput(dataTable, element);\n",
              "        const docLink = document.createElement('div');\n",
              "        docLink.innerHTML = docLinkHtml;\n",
              "        element.appendChild(docLink);\n",
              "      }\n",
              "    </script>\n",
              "  </div>\n",
              "\n",
              "\n",
              "    <div id=\"df-af501cab-8224-4eaa-bff3-1309daead5df\">\n",
              "      <button class=\"colab-df-quickchart\" onclick=\"quickchart('df-af501cab-8224-4eaa-bff3-1309daead5df')\"\n",
              "                title=\"Suggest charts\"\n",
              "                style=\"display:none;\">\n",
              "\n",
              "<svg xmlns=\"http://www.w3.org/2000/svg\" height=\"24px\"viewBox=\"0 0 24 24\"\n",
              "     width=\"24px\">\n",
              "    <g>\n",
              "        <path d=\"M19 3H5c-1.1 0-2 .9-2 2v14c0 1.1.9 2 2 2h14c1.1 0 2-.9 2-2V5c0-1.1-.9-2-2-2zM9 17H7v-7h2v7zm4 0h-2V7h2v10zm4 0h-2v-4h2v4z\"/>\n",
              "    </g>\n",
              "</svg>\n",
              "      </button>\n",
              "\n",
              "<style>\n",
              "  .colab-df-quickchart {\n",
              "      --bg-color: #E8F0FE;\n",
              "      --fill-color: #1967D2;\n",
              "      --hover-bg-color: #E2EBFA;\n",
              "      --hover-fill-color: #174EA6;\n",
              "      --disabled-fill-color: #AAA;\n",
              "      --disabled-bg-color: #DDD;\n",
              "  }\n",
              "\n",
              "  [theme=dark] .colab-df-quickchart {\n",
              "      --bg-color: #3B4455;\n",
              "      --fill-color: #D2E3FC;\n",
              "      --hover-bg-color: #434B5C;\n",
              "      --hover-fill-color: #FFFFFF;\n",
              "      --disabled-bg-color: #3B4455;\n",
              "      --disabled-fill-color: #666;\n",
              "  }\n",
              "\n",
              "  .colab-df-quickchart {\n",
              "    background-color: var(--bg-color);\n",
              "    border: none;\n",
              "    border-radius: 50%;\n",
              "    cursor: pointer;\n",
              "    display: none;\n",
              "    fill: var(--fill-color);\n",
              "    height: 32px;\n",
              "    padding: 0;\n",
              "    width: 32px;\n",
              "  }\n",
              "\n",
              "  .colab-df-quickchart:hover {\n",
              "    background-color: var(--hover-bg-color);\n",
              "    box-shadow: 0 1px 2px rgba(60, 64, 67, 0.3), 0 1px 3px 1px rgba(60, 64, 67, 0.15);\n",
              "    fill: var(--button-hover-fill-color);\n",
              "  }\n",
              "\n",
              "  .colab-df-quickchart-complete:disabled,\n",
              "  .colab-df-quickchart-complete:disabled:hover {\n",
              "    background-color: var(--disabled-bg-color);\n",
              "    fill: var(--disabled-fill-color);\n",
              "    box-shadow: none;\n",
              "  }\n",
              "\n",
              "  .colab-df-spinner {\n",
              "    border: 2px solid var(--fill-color);\n",
              "    border-color: transparent;\n",
              "    border-bottom-color: var(--fill-color);\n",
              "    animation:\n",
              "      spin 1s steps(1) infinite;\n",
              "  }\n",
              "\n",
              "  @keyframes spin {\n",
              "    0% {\n",
              "      border-color: transparent;\n",
              "      border-bottom-color: var(--fill-color);\n",
              "      border-left-color: var(--fill-color);\n",
              "    }\n",
              "    20% {\n",
              "      border-color: transparent;\n",
              "      border-left-color: var(--fill-color);\n",
              "      border-top-color: var(--fill-color);\n",
              "    }\n",
              "    30% {\n",
              "      border-color: transparent;\n",
              "      border-left-color: var(--fill-color);\n",
              "      border-top-color: var(--fill-color);\n",
              "      border-right-color: var(--fill-color);\n",
              "    }\n",
              "    40% {\n",
              "      border-color: transparent;\n",
              "      border-right-color: var(--fill-color);\n",
              "      border-top-color: var(--fill-color);\n",
              "    }\n",
              "    60% {\n",
              "      border-color: transparent;\n",
              "      border-right-color: var(--fill-color);\n",
              "    }\n",
              "    80% {\n",
              "      border-color: transparent;\n",
              "      border-right-color: var(--fill-color);\n",
              "      border-bottom-color: var(--fill-color);\n",
              "    }\n",
              "    90% {\n",
              "      border-color: transparent;\n",
              "      border-bottom-color: var(--fill-color);\n",
              "    }\n",
              "  }\n",
              "</style>\n",
              "\n",
              "      <script>\n",
              "        async function quickchart(key) {\n",
              "          const quickchartButtonEl =\n",
              "            document.querySelector('#' + key + ' button');\n",
              "          quickchartButtonEl.disabled = true;  // To prevent multiple clicks.\n",
              "          quickchartButtonEl.classList.add('colab-df-spinner');\n",
              "          try {\n",
              "            const charts = await google.colab.kernel.invokeFunction(\n",
              "                'suggestCharts', [key], {});\n",
              "          } catch (error) {\n",
              "            console.error('Error during call to suggestCharts:', error);\n",
              "          }\n",
              "          quickchartButtonEl.classList.remove('colab-df-spinner');\n",
              "          quickchartButtonEl.classList.add('colab-df-quickchart-complete');\n",
              "        }\n",
              "        (() => {\n",
              "          let quickchartButtonEl =\n",
              "            document.querySelector('#df-af501cab-8224-4eaa-bff3-1309daead5df button');\n",
              "          quickchartButtonEl.style.display =\n",
              "            google.colab.kernel.accessAllowed ? 'block' : 'none';\n",
              "        })();\n",
              "      </script>\n",
              "    </div>\n",
              "\n",
              "    </div>\n",
              "  </div>\n"
            ],
            "application/vnd.google.colaboratory.intrinsic+json": {
              "type": "dataframe",
              "variable_name": "tweets_df"
            }
          },
          "metadata": {},
          "execution_count": 10
        }
      ]
    },
    {
      "cell_type": "code",
      "source": [
        "tweets_df.target.value_counts()"
      ],
      "metadata": {
        "id": "ZlR8ldwTCXE1",
        "outputId": "8b558b2a-4a41-4407-fc49-43c369622306",
        "colab": {
          "base_uri": "https://localhost:8080/",
          "height": 178
        }
      },
      "execution_count": 11,
      "outputs": [
        {
          "output_type": "execute_result",
          "data": {
            "text/plain": [
              "target\n",
              "0    800000\n",
              "4    800000\n",
              "Name: count, dtype: int64"
            ],
            "text/html": [
              "<div>\n",
              "<style scoped>\n",
              "    .dataframe tbody tr th:only-of-type {\n",
              "        vertical-align: middle;\n",
              "    }\n",
              "\n",
              "    .dataframe tbody tr th {\n",
              "        vertical-align: top;\n",
              "    }\n",
              "\n",
              "    .dataframe thead th {\n",
              "        text-align: right;\n",
              "    }\n",
              "</style>\n",
              "<table border=\"1\" class=\"dataframe\">\n",
              "  <thead>\n",
              "    <tr style=\"text-align: right;\">\n",
              "      <th></th>\n",
              "      <th>count</th>\n",
              "    </tr>\n",
              "    <tr>\n",
              "      <th>target</th>\n",
              "      <th></th>\n",
              "    </tr>\n",
              "  </thead>\n",
              "  <tbody>\n",
              "    <tr>\n",
              "      <th>0</th>\n",
              "      <td>800000</td>\n",
              "    </tr>\n",
              "    <tr>\n",
              "      <th>4</th>\n",
              "      <td>800000</td>\n",
              "    </tr>\n",
              "  </tbody>\n",
              "</table>\n",
              "</div><br><label><b>dtype:</b> int64</label>"
            ]
          },
          "metadata": {},
          "execution_count": 11
        }
      ]
    },
    {
      "cell_type": "markdown",
      "source": [
        "TARGET a deux valeurs 0 et 4, pour plus de lisibilité nous allons remplacer par 1 ainsi npus aurons deux valeurs qui decrivent mieux la problématique etudiée (sentiment: 0-> positif et 1-> negatif)"
      ],
      "metadata": {
        "id": "pJfYpzCmCYau"
      }
    },
    {
      "cell_type": "code",
      "source": [
        "tweets_df.target = tweets_df.target.replace(to_replace=4, value=1)"
      ],
      "metadata": {
        "id": "BTGPeoQPC2X_"
      },
      "execution_count": 12,
      "outputs": []
    },
    {
      "cell_type": "markdown",
      "source": [
        "Les classes sont equilibrées"
      ],
      "metadata": {
        "id": "Kf_YWzXUGXpp"
      }
    },
    {
      "cell_type": "code",
      "source": [
        "fig, ax = plt.subplots()\n",
        "sns.countplot(data=tweets_df, x='target', ax=ax, hue='target')\n",
        "xticks = ax.xaxis.get_ticks_position()\n",
        "ax.xaxis.set_ticks([0, 1])\n",
        "plt.show()"
      ],
      "metadata": {
        "id": "n85c3x7NEFsv",
        "outputId": "6b980ac1-71cc-48ac-f886-763dc3b38f84",
        "colab": {
          "base_uri": "https://localhost:8080/",
          "height": 449
        }
      },
      "execution_count": 13,
      "outputs": [
        {
          "output_type": "display_data",
          "data": {
            "text/plain": [
              "<Figure size 640x480 with 1 Axes>"
            ],
            "image/png": "[encoded data removed]"
          },
          "metadata": {}
        }
      ]
    },
    {
      "cell_type": "markdown",
      "source": [
        "> Conversion explicite de la colonne **posted_at** en datetime\n"
      ],
      "metadata": {
        "id": "BWH_FAQ5IFig"
      }
    },
    {
      "cell_type": "code",
      "source": [
        "# avant\n",
        "tweets_df.posted_at.dtypes"
      ],
      "metadata": {
        "id": "_sL_SHKAJNuX",
        "outputId": "eb283292-899a-4297-eaef-2eb2f3ac8663",
        "colab": {
          "base_uri": "https://localhost:8080/"
        }
      },
      "execution_count": 14,
      "outputs": [
        {
          "output_type": "execute_result",
          "data": {
            "text/plain": [
              "dtype('O')"
            ]
          },
          "metadata": {},
          "execution_count": 14
        }
      ]
    },
    {
      "cell_type": "code",
      "source": [
        "# Suppression de 'PDT' de la chaîne\n",
        "tweets_df['posted_at'] = tweets_df['posted_at'].str.replace(\"PDT\", \"\", regex=False).str.strip()\n",
        "\n",
        "# Conversion en datetime sans timezone\n",
        "tweets_df['posted_at'] = pd.to_datetime(tweets_df['posted_at'], errors='coerce')\n",
        "\n",
        "# Localisation de la timezone (US Pacific Time)\n",
        "tweets_df['posted_at'] = tweets_df['posted_at'].dt.tz_localize('US/Pacific', ambiguous='NaT', nonexistent='NaT')\n"
      ],
      "metadata": {
        "id": "mCRCMrH-H2sH"
      },
      "execution_count": 15,
      "outputs": []
    },
    {
      "cell_type": "code",
      "source": [
        "# aprés\n",
        "tweets_df.posted_at.dtypes"
      ],
      "metadata": {
        "id": "x-FWmACdJr9h",
        "outputId": "96b9c11c-fa09-4284-a55f-bbe594cbf29c",
        "colab": {
          "base_uri": "https://localhost:8080/"
        }
      },
      "execution_count": 16,
      "outputs": [
        {
          "output_type": "execute_result",
          "data": {
            "text/plain": [
              "datetime64[ns, US/Pacific]"
            ]
          },
          "metadata": {},
          "execution_count": 16
        }
      ]
    },
    {
      "cell_type": "code",
      "source": [
        "text_length = tweets_df['content'].str.len()\n",
        "plt.hist(text_length)\n",
        "plt.show()"
      ],
      "metadata": {
        "id": "FkztsgWtF3ZV",
        "outputId": "0a4a04f3-c39d-4cc2-e428-7f5e3e0cad1e",
        "colab": {
          "base_uri": "https://localhost:8080/",
          "height": 430
        }
      },
      "execution_count": 17,
      "outputs": [
        {
          "output_type": "display_data",
          "data": {
            "text/plain": [
              "<Figure size 640x480 with 1 Axes>"
            ],
            "image/png": "[encoded data removed]"
          },
          "metadata": {}
        }
      ]
    },
    {
      "cell_type": "code",
      "source": [
        "dtype_counts = tweets_df.dtypes.value_counts().reset_index()\n",
        "dtype_counts.columns = ['dtype', 'count']\n",
        "\n",
        "total = dtype_counts['count'].sum()\n",
        "dtype_counts['percent'] = (dtype_counts['count'] / total * 100).round(1)\n",
        "dtype_counts['dtype'] = dtype_counts['dtype'].astype(str)\n",
        "\n",
        "\n",
        "plt.figure(figsize=(8, 5))\n",
        "sns.barplot(data=dtype_counts, x='dtype', y='count', hue='dtype')\n",
        "\n",
        "for index, row in dtype_counts.iterrows():\n",
        "    plt.text(x=index, y=row['count'] + total * 0.01, s=f\"{row['percent']}%\", ha='center')\n",
        "\n",
        "plt.title(\"Distribution des types des données\")\n",
        "plt.xlabel(\"Type de données\")\n",
        "plt.ylabel(\"Nombre de colonnes\")\n",
        "plt.xticks(rotation=45)\n",
        "plt.tight_layout()\n",
        "plt.show()"
      ],
      "metadata": {
        "id": "90CLA_gLHbsl",
        "outputId": "3e6d160f-82cd-4a18-9cf9-331ac1f77036",
        "colab": {
          "base_uri": "https://localhost:8080/",
          "height": 506
        }
      },
      "execution_count": 18,
      "outputs": [
        {
          "output_type": "display_data",
          "data": {
            "text/plain": [
              "<Figure size 800x500 with 1 Axes>"
            ],
            "image/png": "[encoded data removed]"
          },
          "metadata": {}
        }
      ]
    },
    {
      "cell_type": "markdown",
      "source": [
        "\n",
        "\n",
        "> Tweets dupliqués\n",
        "\n"
      ],
      "metadata": {
        "id": "n5D9ChUtMyNG"
      }
    },
    {
      "cell_type": "code",
      "source": [
        "tweets_df[tweets_df.duplicated(subset=['id', 'content'])]"
      ],
      "metadata": {
        "id": "pbqHyWY3Mqrf",
        "outputId": "13157492-1926-4489-fad4-e05f32037161",
        "colab": {
          "base_uri": "https://localhost:8080/",
          "height": 424
        }
      },
      "execution_count": 19,
      "outputs": [
        {
          "output_type": "execute_result",
          "data": {
            "text/plain": [
              "         target          id                 posted_at     posted_by  \\\n",
              "800261        1  1467863684 2009-04-06 22:33:35-07:00      DjGundam   \n",
              "800300        1  1467880442 2009-04-06 22:38:04-07:00       iCalvin   \n",
              "801280        1  1468053611 2009-04-06 23:28:09-07:00   mariejamora   \n",
              "801573        1  1468100580 2009-04-06 23:42:57-07:00   cristygarza   \n",
              "801650        1  1468115720 2009-04-06 23:48:00-07:00    WarholGirl   \n",
              "...         ...         ...                       ...           ...   \n",
              "1598780       1  2193278017 2009-06-16 08:14:22-07:00   janiecwales   \n",
              "1599298       1  2193403830 2009-06-16 08:24:44-07:00   lauren__x33   \n",
              "1599385       1  2193428118 2009-06-16 08:26:44-07:00     bubbles00   \n",
              "1599440       1  2193451289 2009-06-16 08:28:37-07:00  faiznurdavid   \n",
              "1599931       1  2193576442 2009-06-16 08:38:45-07:00    emma_b_xox   \n",
              "\n",
              "                                                   content  \n",
              "800261   Awwh babs... you look so sad underneith that s...  \n",
              "800300   Haven't tweeted nearly all day  Posted my webs...  \n",
              "801280   @hellobebe I also send some updates in plurk b...  \n",
              "801573   good night swetdreamss to everyonee   and jare...  \n",
              "801650   @ientje89 aw i'm fine too thanks! yeah i miss ...  \n",
              "...                                                    ...  \n",
              "1598780  oh dear HH is back   please twitter do somethi...  \n",
              "1599298  english exam went okay        revising for fre...  \n",
              "1599385  finally finished typing!!!! Woohoooo  , still ...  \n",
              "1599440  @fanafatin see, @misschimichanga tweet u to jo...  \n",
              "1599931  Had an injection today. Not fun  the rrst of t...  \n",
              "\n",
              "[1685 rows x 5 columns]"
            ],
            "text/html": [
              "\n",
              "  <div id=\"df-2b6d43a9-ee3c-4e0b-9457-4e9e4256e895\" class=\"colab-df-container\">\n",
              "    <div>\n",
              "<style scoped>\n",
              "    .dataframe tbody tr th:only-of-type {\n",
              "        vertical-align: middle;\n",
              "    }\n",
              "\n",
              "    .dataframe tbody tr th {\n",
              "        vertical-align: top;\n",
              "    }\n",
              "\n",
              "    .dataframe thead th {\n",
              "        text-align: right;\n",
              "    }\n",
              "</style>\n",
              "<table border=\"1\" class=\"dataframe\">\n",
              "  <thead>\n",
              "    <tr style=\"text-align: right;\">\n",
              "      <th></th>\n",
              "      <th>target</th>\n",
              "      <th>id</th>\n",
              "      <th>posted_at</th>\n",
              "      <th>posted_by</th>\n",
              "      <th>content</th>\n",
              "    </tr>\n",
              "  </thead>\n",
              "  <tbody>\n",
              "    <tr>\n",
              "      <th>800261</th>\n",
              "      <td>1</td>\n",
              "      <td>1467863684</td>\n",
              "      <td>2009-04-06 22:33:35-07:00</td>\n",
              "      <td>DjGundam</td>\n",
              "      <td>Awwh babs... you look so sad underneith that s...</td>\n",
              "    </tr>\n",
              "    <tr>\n",
              "      <th>800300</th>\n",
              "      <td>1</td>\n",
              "      <td>1467880442</td>\n",
              "      <td>2009-04-06 22:38:04-07:00</td>\n",
              "      <td>iCalvin</td>\n",
              "      <td>Haven't tweeted nearly all day  Posted my webs...</td>\n",
              "    </tr>\n",
              "    <tr>\n",
              "      <th>801280</th>\n",
              "      <td>1</td>\n",
              "      <td>1468053611</td>\n",
              "      <td>2009-04-06 23:28:09-07:00</td>\n",
              "      <td>mariejamora</td>\n",
              "      <td>@hellobebe I also send some updates in plurk b...</td>\n",
              "    </tr>\n",
              "    <tr>\n",
              "      <th>801573</th>\n",
              "      <td>1</td>\n",
              "      <td>1468100580</td>\n",
              "      <td>2009-04-06 23:42:57-07:00</td>\n",
              "      <td>cristygarza</td>\n",
              "      <td>good night swetdreamss to everyonee   and jare...</td>\n",
              "    </tr>\n",
              "    <tr>\n",
              "      <th>801650</th>\n",
              "      <td>1</td>\n",
              "      <td>1468115720</td>\n",
              "      <td>2009-04-06 23:48:00-07:00</td>\n",
              "      <td>WarholGirl</td>\n",
              "      <td>@ientje89 aw i'm fine too thanks! yeah i miss ...</td>\n",
              "    </tr>\n",
              "    <tr>\n",
              "      <th>...</th>\n",
              "      <td>...</td>\n",
              "      <td>...</td>\n",
              "      <td>...</td>\n",
              "      <td>...</td>\n",
              "      <td>...</td>\n",
              "    </tr>\n",
              "    <tr>\n",
              "      <th>1598780</th>\n",
              "      <td>1</td>\n",
              "      <td>2193278017</td>\n",
              "      <td>2009-06-16 08:14:22-07:00</td>\n",
              "      <td>janiecwales</td>\n",
              "      <td>oh dear HH is back   please twitter do somethi...</td>\n",
              "    </tr>\n",
              "    <tr>\n",
              "      <th>1599298</th>\n",
              "      <td>1</td>\n",
              "      <td>2193403830</td>\n",
              "      <td>2009-06-16 08:24:44-07:00</td>\n",
              "      <td>lauren__x33</td>\n",
              "      <td>english exam went okay        revising for fre...</td>\n",
              "    </tr>\n",
              "    <tr>\n",
              "      <th>1599385</th>\n",
              "      <td>1</td>\n",
              "      <td>2193428118</td>\n",
              "      <td>2009-06-16 08:26:44-07:00</td>\n",
              "      <td>bubbles00</td>\n",
              "      <td>finally finished typing!!!! Woohoooo  , still ...</td>\n",
              "    </tr>\n",
              "    <tr>\n",
              "      <th>1599440</th>\n",
              "      <td>1</td>\n",
              "      <td>2193451289</td>\n",
              "      <td>2009-06-16 08:28:37-07:00</td>\n",
              "      <td>faiznurdavid</td>\n",
              "      <td>@fanafatin see, @misschimichanga tweet u to jo...</td>\n",
              "    </tr>\n",
              "    <tr>\n",
              "      <th>1599931</th>\n",
              "      <td>1</td>\n",
              "      <td>2193576442</td>\n",
              "      <td>2009-06-16 08:38:45-07:00</td>\n",
              "      <td>emma_b_xox</td>\n",
              "      <td>Had an injection today. Not fun  the rrst of t...</td>\n",
              "    </tr>\n",
              "  </tbody>\n",
              "</table>\n",
              "<p>1685 rows × 5 columns</p>\n",
              "</div>\n",
              "    <div class=\"colab-df-buttons\">\n",
              "\n",
              "  <div class=\"colab-df-container\">\n",
              "    <button class=\"colab-df-convert\" onclick=\"convertToInteractive('df-2b6d43a9-ee3c-4e0b-9457-4e9e4256e895')\"\n",
              "            title=\"Convert this dataframe to an interactive table.\"\n",
              "            style=\"display:none;\">\n",
              "\n",
              "  <svg xmlns=\"http://www.w3.org/2000/svg\" height=\"24px\" viewBox=\"0 -960 960 960\">\n",
              "    <path d=\"M120-120v-720h720v720H120Zm60-500h600v-160H180v160Zm220 220h160v-160H400v160Zm0 220h160v-160H400v160ZM180-400h160v-160H180v160Zm440 0h160v-160H620v160ZM180-180h160v-160H180v160Zm440 0h160v-160H620v160Z\"/>\n",
              "  </svg>\n",
              "    </button>\n",
              "\n",
              "  <style>\n",
              "    .colab-df-container {\n",
              "      display:flex;\n",
              "      gap: 12px;\n",
              "    }\n",
              "\n",
              "    .colab-df-convert {\n",
              "      background-color: #E8F0FE;\n",
              "      border: none;\n",
              "      border-radius: 50%;\n",
              "      cursor: pointer;\n",
              "      display: none;\n",
              "      fill: #1967D2;\n",
              "      height: 32px;\n",
              "      padding: 0 0 0 0;\n",
              "      width: 32px;\n",
              "    }\n",
              "\n",
              "    .colab-df-convert:hover {\n",
              "      background-color: #E2EBFA;\n",
              "      box-shadow: 0px 1px 2px rgba(60, 64, 67, 0.3), 0px 1px 3px 1px rgba(60, 64, 67, 0.15);\n",
              "      fill: #174EA6;\n",
              "    }\n",
              "\n",
              "    .colab-df-buttons div {\n",
              "      margin-bottom: 4px;\n",
              "    }\n",
              "\n",
              "    [theme=dark] .colab-df-convert {\n",
              "      background-color: #3B4455;\n",
              "      fill: #D2E3FC;\n",
              "    }\n",
              "\n",
              "    [theme=dark] .colab-df-convert:hover {\n",
              "      background-color: #434B5C;\n",
              "      box-shadow: 0px 1px 3px 1px rgba(0, 0, 0, 0.15);\n",
              "      filter: drop-shadow(0px 1px 2px rgba(0, 0, 0, 0.3));\n",
              "      fill: #FFFFFF;\n",
              "    }\n",
              "  </style>\n",
              "\n",
              "    <script>\n",
              "      const buttonEl =\n",
              "        document.querySelector('#df-2b6d43a9-ee3c-4e0b-9457-4e9e4256e895 button.colab-df-convert');\n",
              "      buttonEl.style.display =\n",
              "        google.colab.kernel.accessAllowed ? 'block' : 'none';\n",
              "\n",
              "      async function convertToInteractive(key) {\n",
              "        const element = document.querySelector('#df-2b6d43a9-ee3c-4e0b-9457-4e9e4256e895');\n",
              "        const dataTable =\n",
              "          await google.colab.kernel.invokeFunction('convertToInteractive',\n",
              "                                                    [key], {});\n",
              "        if (!dataTable) return;\n",
              "\n",
              "        const docLinkHtml = 'Like what you see? Visit the ' +\n",
              "          '<a target=\"_blank\" href=https://colab.research.google.com/notebooks/data_table.ipynb>data table notebook</a>'\n",
              "          + ' to learn more about interactive tables.';\n",
              "        element.innerHTML = '';\n",
              "        dataTable['output_type'] = 'display_data';\n",
              "        await google.colab.output.renderOutput(dataTable, element);\n",
              "        const docLink = document.createElement('div');\n",
              "        docLink.innerHTML = docLinkHtml;\n",
              "        element.appendChild(docLink);\n",
              "      }\n",
              "    </script>\n",
              "  </div>\n",
              "\n",
              "\n",
              "    <div id=\"df-e04c29d6-88a4-4397-9532-8343591e5e1f\">\n",
              "      <button class=\"colab-df-quickchart\" onclick=\"quickchart('df-e04c29d6-88a4-4397-9532-8343591e5e1f')\"\n",
              "                title=\"Suggest charts\"\n",
              "                style=\"display:none;\">\n",
              "\n",
              "<svg xmlns=\"http://www.w3.org/2000/svg\" height=\"24px\"viewBox=\"0 0 24 24\"\n",
              "     width=\"24px\">\n",
              "    <g>\n",
              "        <path d=\"M19 3H5c-1.1 0-2 .9-2 2v14c0 1.1.9 2 2 2h14c1.1 0 2-.9 2-2V5c0-1.1-.9-2-2-2zM9 17H7v-7h2v7zm4 0h-2V7h2v10zm4 0h-2v-4h2v4z\"/>\n",
              "    </g>\n",
              "</svg>\n",
              "      </button>\n",
              "\n",
              "<style>\n",
              "  .colab-df-quickchart {\n",
              "      --bg-color: #E8F0FE;\n",
              "      --fill-color: #1967D2;\n",
              "      --hover-bg-color: #E2EBFA;\n",
              "      --hover-fill-color: #174EA6;\n",
              "      --disabled-fill-color: #AAA;\n",
              "      --disabled-bg-color: #DDD;\n",
              "  }\n",
              "\n",
              "  [theme=dark] .colab-df-quickchart {\n",
              "      --bg-color: #3B4455;\n",
              "      --fill-color: #D2E3FC;\n",
              "      --hover-bg-color: #434B5C;\n",
              "      --hover-fill-color: #FFFFFF;\n",
              "      --disabled-bg-color: #3B4455;\n",
              "      --disabled-fill-color: #666;\n",
              "  }\n",
              "\n",
              "  .colab-df-quickchart {\n",
              "    background-color: var(--bg-color);\n",
              "    border: none;\n",
              "    border-radius: 50%;\n",
              "    cursor: pointer;\n",
              "    display: none;\n",
              "    fill: var(--fill-color);\n",
              "    height: 32px;\n",
              "    padding: 0;\n",
              "    width: 32px;\n",
              "  }\n",
              "\n",
              "  .colab-df-quickchart:hover {\n",
              "    background-color: var(--hover-bg-color);\n",
              "    box-shadow: 0 1px 2px rgba(60, 64, 67, 0.3), 0 1px 3px 1px rgba(60, 64, 67, 0.15);\n",
              "    fill: var(--button-hover-fill-color);\n",
              "  }\n",
              "\n",
              "  .colab-df-quickchart-complete:disabled,\n",
              "  .colab-df-quickchart-complete:disabled:hover {\n",
              "    background-color: var(--disabled-bg-color);\n",
              "    fill: var(--disabled-fill-color);\n",
              "    box-shadow: none;\n",
              "  }\n",
              "\n",
              "  .colab-df-spinner {\n",
              "    border: 2px solid var(--fill-color);\n",
              "    border-color: transparent;\n",
              "    border-bottom-color: var(--fill-color);\n",
              "    animation:\n",
              "      spin 1s steps(1) infinite;\n",
              "  }\n",
              "\n",
              "  @keyframes spin {\n",
              "    0% {\n",
              "      border-color: transparent;\n",
              "      border-bottom-color: var(--fill-color);\n",
              "      border-left-color: var(--fill-color);\n",
              "    }\n",
              "    20% {\n",
              "      border-color: transparent;\n",
              "      border-left-color: var(--fill-color);\n",
              "      border-top-color: var(--fill-color);\n",
              "    }\n",
              "    30% {\n",
              "      border-color: transparent;\n",
              "      border-left-color: var(--fill-color);\n",
              "      border-top-color: var(--fill-color);\n",
              "      border-right-color: var(--fill-color);\n",
              "    }\n",
              "    40% {\n",
              "      border-color: transparent;\n",
              "      border-right-color: var(--fill-color);\n",
              "      border-top-color: var(--fill-color);\n",
              "    }\n",
              "    60% {\n",
              "      border-color: transparent;\n",
              "      border-right-color: var(--fill-color);\n",
              "    }\n",
              "    80% {\n",
              "      border-color: transparent;\n",
              "      border-right-color: var(--fill-color);\n",
              "      border-bottom-color: var(--fill-color);\n",
              "    }\n",
              "    90% {\n",
              "      border-color: transparent;\n",
              "      border-bottom-color: var(--fill-color);\n",
              "    }\n",
              "  }\n",
              "</style>\n",
              "\n",
              "      <script>\n",
              "        async function quickchart(key) {\n",
              "          const quickchartButtonEl =\n",
              "            document.querySelector('#' + key + ' button');\n",
              "          quickchartButtonEl.disabled = true;  // To prevent multiple clicks.\n",
              "          quickchartButtonEl.classList.add('colab-df-spinner');\n",
              "          try {\n",
              "            const charts = await google.colab.kernel.invokeFunction(\n",
              "                'suggestCharts', [key], {});\n",
              "          } catch (error) {\n",
              "            console.error('Error during call to suggestCharts:', error);\n",
              "          }\n",
              "          quickchartButtonEl.classList.remove('colab-df-spinner');\n",
              "          quickchartButtonEl.classList.add('colab-df-quickchart-complete');\n",
              "        }\n",
              "        (() => {\n",
              "          let quickchartButtonEl =\n",
              "            document.querySelector('#df-e04c29d6-88a4-4397-9532-8343591e5e1f button');\n",
              "          quickchartButtonEl.style.display =\n",
              "            google.colab.kernel.accessAllowed ? 'block' : 'none';\n",
              "        })();\n",
              "      </script>\n",
              "    </div>\n",
              "\n",
              "    </div>\n",
              "  </div>\n"
            ],
            "application/vnd.google.colaboratory.intrinsic+json": {
              "type": "dataframe",
              "summary": "{\n  \"name\": \"tweets_df[tweets_df\",\n  \"rows\": 1685,\n  \"fields\": [\n    {\n      \"column\": \"target\",\n      \"properties\": {\n        \"dtype\": \"number\",\n        \"std\": 0,\n        \"min\": 1,\n        \"max\": 1,\n        \"num_unique_values\": 1,\n        \"samples\": [\n          1\n        ],\n        \"semantic_type\": \"\",\n        \"description\": \"\"\n      }\n    },\n    {\n      \"column\": \"id\",\n      \"properties\": {\n        \"dtype\": \"number\",\n        \"std\": 171110598,\n        \"min\": 1467863684,\n        \"max\": 2193576442,\n        \"num_unique_values\": 1685,\n        \"samples\": [\n          2052039454\n        ],\n        \"semantic_type\": \"\",\n        \"description\": \"\"\n      }\n    },\n    {\n      \"column\": \"posted_at\",\n      \"properties\": {\n        \"dtype\": \"date\",\n        \"min\": \"2009-04-06 22:33:35-07:00\",\n        \"max\": \"2009-06-16 08:38:45-07:00\",\n        \"num_unique_values\": 1676,\n        \"samples\": [\n          \"2009-06-01 00:30:02-07:00\"\n        ],\n        \"semantic_type\": \"\",\n        \"description\": \"\"\n      }\n    },\n    {\n      \"column\": \"posted_by\",\n      \"properties\": {\n        \"dtype\": \"string\",\n        \"num_unique_values\": 1601,\n        \"samples\": [\n          \"lilwldchld\"\n        ],\n        \"semantic_type\": \"\",\n        \"description\": \"\"\n      }\n    },\n    {\n      \"column\": \"content\",\n      \"properties\": {\n        \"dtype\": \"string\",\n        \"num_unique_values\": 1678,\n        \"samples\": [\n          \"@MarkGilesHRP @Spirit1053Sarah I'm signing the Sara Groves petition with you my friend!   I don't think it'll happen \"\n        ],\n        \"semantic_type\": \"\",\n        \"description\": \"\"\n      }\n    }\n  ]\n}"
            }
          },
          "metadata": {},
          "execution_count": 19
        }
      ]
    },
    {
      "cell_type": "code",
      "source": [
        "tweets_df.loc[tweets_df.id==2193576442]"
      ],
      "metadata": {
        "id": "awtJ47VyN0od",
        "outputId": "c88e5ac0-17f0-4366-ed25-941aa33231ae",
        "colab": {
          "base_uri": "https://localhost:8080/",
          "height": 112
        }
      },
      "execution_count": 20,
      "outputs": [
        {
          "output_type": "execute_result",
          "data": {
            "text/plain": [
              "         target          id                 posted_at   posted_by  \\\n",
              "524688        0  2193576442 2009-06-16 08:38:45-07:00  emma_b_xox   \n",
              "1599931       1  2193576442 2009-06-16 08:38:45-07:00  emma_b_xox   \n",
              "\n",
              "                                                   content  \n",
              "524688   Had an injection today. Not fun  the rrst of t...  \n",
              "1599931  Had an injection today. Not fun  the rrst of t...  "
            ],
            "text/html": [
              "\n",
              "  <div id=\"df-247e9a5d-3f77-4807-9d34-4b3b69cdfce9\" class=\"colab-df-container\">\n",
              "    <div>\n",
              "<style scoped>\n",
              "    .dataframe tbody tr th:only-of-type {\n",
              "        vertical-align: middle;\n",
              "    }\n",
              "\n",
              "    .dataframe tbody tr th {\n",
              "        vertical-align: top;\n",
              "    }\n",
              "\n",
              "    .dataframe thead th {\n",
              "        text-align: right;\n",
              "    }\n",
              "</style>\n",
              "<table border=\"1\" class=\"dataframe\">\n",
              "  <thead>\n",
              "    <tr style=\"text-align: right;\">\n",
              "      <th></th>\n",
              "      <th>target</th>\n",
              "      <th>id</th>\n",
              "      <th>posted_at</th>\n",
              "      <th>posted_by</th>\n",
              "      <th>content</th>\n",
              "    </tr>\n",
              "  </thead>\n",
              "  <tbody>\n",
              "    <tr>\n",
              "      <th>524688</th>\n",
              "      <td>0</td>\n",
              "      <td>2193576442</td>\n",
              "      <td>2009-06-16 08:38:45-07:00</td>\n",
              "      <td>emma_b_xox</td>\n",
              "      <td>Had an injection today. Not fun  the rrst of t...</td>\n",
              "    </tr>\n",
              "    <tr>\n",
              "      <th>1599931</th>\n",
              "      <td>1</td>\n",
              "      <td>2193576442</td>\n",
              "      <td>2009-06-16 08:38:45-07:00</td>\n",
              "      <td>emma_b_xox</td>\n",
              "      <td>Had an injection today. Not fun  the rrst of t...</td>\n",
              "    </tr>\n",
              "  </tbody>\n",
              "</table>\n",
              "</div>\n",
              "    <div class=\"colab-df-buttons\">\n",
              "\n",
              "  <div class=\"colab-df-container\">\n",
              "    <button class=\"colab-df-convert\" onclick=\"convertToInteractive('df-247e9a5d-3f77-4807-9d34-4b3b69cdfce9')\"\n",
              "            title=\"Convert this dataframe to an interactive table.\"\n",
              "            style=\"display:none;\">\n",
              "\n",
              "  <svg xmlns=\"http://www.w3.org/2000/svg\" height=\"24px\" viewBox=\"0 -960 960 960\">\n",
              "    <path d=\"M120-120v-720h720v720H120Zm60-500h600v-160H180v160Zm220 220h160v-160H400v160Zm0 220h160v-160H400v160ZM180-400h160v-160H180v160Zm440 0h160v-160H620v160ZM180-180h160v-160H180v160Zm440 0h160v-160H620v160Z\"/>\n",
              "  </svg>\n",
              "    </button>\n",
              "\n",
              "  <style>\n",
              "    .colab-df-container {\n",
              "      display:flex;\n",
              "      gap: 12px;\n",
              "    }\n",
              "\n",
              "    .colab-df-convert {\n",
              "      background-color: #E8F0FE;\n",
              "      border: none;\n",
              "      border-radius: 50%;\n",
              "      cursor: pointer;\n",
              "      display: none;\n",
              "      fill: #1967D2;\n",
              "      height: 32px;\n",
              "      padding: 0 0 0 0;\n",
              "      width: 32px;\n",
              "    }\n",
              "\n",
              "    .colab-df-convert:hover {\n",
              "      background-color: #E2EBFA;\n",
              "      box-shadow: 0px 1px 2px rgba(60, 64, 67, 0.3), 0px 1px 3px 1px rgba(60, 64, 67, 0.15);\n",
              "      fill: #174EA6;\n",
              "    }\n",
              "\n",
              "    .colab-df-buttons div {\n",
              "      margin-bottom: 4px;\n",
              "    }\n",
              "\n",
              "    [theme=dark] .colab-df-convert {\n",
              "      background-color: #3B4455;\n",
              "      fill: #D2E3FC;\n",
              "    }\n",
              "\n",
              "    [theme=dark] .colab-df-convert:hover {\n",
              "      background-color: #434B5C;\n",
              "      box-shadow: 0px 1px 3px 1px rgba(0, 0, 0, 0.15);\n",
              "      filter: drop-shadow(0px 1px 2px rgba(0, 0, 0, 0.3));\n",
              "      fill: #FFFFFF;\n",
              "    }\n",
              "  </style>\n",
              "\n",
              "    <script>\n",
              "      const buttonEl =\n",
              "        document.querySelector('#df-247e9a5d-3f77-4807-9d34-4b3b69cdfce9 button.colab-df-convert');\n",
              "      buttonEl.style.display =\n",
              "        google.colab.kernel.accessAllowed ? 'block' : 'none';\n",
              "\n",
              "      async function convertToInteractive(key) {\n",
              "        const element = document.querySelector('#df-247e9a5d-3f77-4807-9d34-4b3b69cdfce9');\n",
              "        const dataTable =\n",
              "          await google.colab.kernel.invokeFunction('convertToInteractive',\n",
              "                                                    [key], {});\n",
              "        if (!dataTable) return;\n",
              "\n",
              "        const docLinkHtml = 'Like what you see? Visit the ' +\n",
              "          '<a target=\"_blank\" href=https://colab.research.google.com/notebooks/data_table.ipynb>data table notebook</a>'\n",
              "          + ' to learn more about interactive tables.';\n",
              "        element.innerHTML = '';\n",
              "        dataTable['output_type'] = 'display_data';\n",
              "        await google.colab.output.renderOutput(dataTable, element);\n",
              "        const docLink = document.createElement('div');\n",
              "        docLink.innerHTML = docLinkHtml;\n",
              "        element.appendChild(docLink);\n",
              "      }\n",
              "    </script>\n",
              "  </div>\n",
              "\n",
              "\n",
              "    <div id=\"df-68c4d1aa-0722-496c-bb21-7314c853c983\">\n",
              "      <button class=\"colab-df-quickchart\" onclick=\"quickchart('df-68c4d1aa-0722-496c-bb21-7314c853c983')\"\n",
              "                title=\"Suggest charts\"\n",
              "                style=\"display:none;\">\n",
              "\n",
              "<svg xmlns=\"http://www.w3.org/2000/svg\" height=\"24px\"viewBox=\"0 0 24 24\"\n",
              "     width=\"24px\">\n",
              "    <g>\n",
              "        <path d=\"M19 3H5c-1.1 0-2 .9-2 2v14c0 1.1.9 2 2 2h14c1.1 0 2-.9 2-2V5c0-1.1-.9-2-2-2zM9 17H7v-7h2v7zm4 0h-2V7h2v10zm4 0h-2v-4h2v4z\"/>\n",
              "    </g>\n",
              "</svg>\n",
              "      </button>\n",
              "\n",
              "<style>\n",
              "  .colab-df-quickchart {\n",
              "      --bg-color: #E8F0FE;\n",
              "      --fill-color: #1967D2;\n",
              "      --hover-bg-color: #E2EBFA;\n",
              "      --hover-fill-color: #174EA6;\n",
              "      --disabled-fill-color: #AAA;\n",
              "      --disabled-bg-color: #DDD;\n",
              "  }\n",
              "\n",
              "  [theme=dark] .colab-df-quickchart {\n",
              "      --bg-color: #3B4455;\n",
              "      --fill-color: #D2E3FC;\n",
              "      --hover-bg-color: #434B5C;\n",
              "      --hover-fill-color: #FFFFFF;\n",
              "      --disabled-bg-color: #3B4455;\n",
              "      --disabled-fill-color: #666;\n",
              "  }\n",
              "\n",
              "  .colab-df-quickchart {\n",
              "    background-color: var(--bg-color);\n",
              "    border: none;\n",
              "    border-radius: 50%;\n",
              "    cursor: pointer;\n",
              "    display: none;\n",
              "    fill: var(--fill-color);\n",
              "    height: 32px;\n",
              "    padding: 0;\n",
              "    width: 32px;\n",
              "  }\n",
              "\n",
              "  .colab-df-quickchart:hover {\n",
              "    background-color: var(--hover-bg-color);\n",
              "    box-shadow: 0 1px 2px rgba(60, 64, 67, 0.3), 0 1px 3px 1px rgba(60, 64, 67, 0.15);\n",
              "    fill: var(--button-hover-fill-color);\n",
              "  }\n",
              "\n",
              "  .colab-df-quickchart-complete:disabled,\n",
              "  .colab-df-quickchart-complete:disabled:hover {\n",
              "    background-color: var(--disabled-bg-color);\n",
              "    fill: var(--disabled-fill-color);\n",
              "    box-shadow: none;\n",
              "  }\n",
              "\n",
              "  .colab-df-spinner {\n",
              "    border: 2px solid var(--fill-color);\n",
              "    border-color: transparent;\n",
              "    border-bottom-color: var(--fill-color);\n",
              "    animation:\n",
              "      spin 1s steps(1) infinite;\n",
              "  }\n",
              "\n",
              "  @keyframes spin {\n",
              "    0% {\n",
              "      border-color: transparent;\n",
              "      border-bottom-color: var(--fill-color);\n",
              "      border-left-color: var(--fill-color);\n",
              "    }\n",
              "    20% {\n",
              "      border-color: transparent;\n",
              "      border-left-color: var(--fill-color);\n",
              "      border-top-color: var(--fill-color);\n",
              "    }\n",
              "    30% {\n",
              "      border-color: transparent;\n",
              "      border-left-color: var(--fill-color);\n",
              "      border-top-color: var(--fill-color);\n",
              "      border-right-color: var(--fill-color);\n",
              "    }\n",
              "    40% {\n",
              "      border-color: transparent;\n",
              "      border-right-color: var(--fill-color);\n",
              "      border-top-color: var(--fill-color);\n",
              "    }\n",
              "    60% {\n",
              "      border-color: transparent;\n",
              "      border-right-color: var(--fill-color);\n",
              "    }\n",
              "    80% {\n",
              "      border-color: transparent;\n",
              "      border-right-color: var(--fill-color);\n",
              "      border-bottom-color: var(--fill-color);\n",
              "    }\n",
              "    90% {\n",
              "      border-color: transparent;\n",
              "      border-bottom-color: var(--fill-color);\n",
              "    }\n",
              "  }\n",
              "</style>\n",
              "\n",
              "      <script>\n",
              "        async function quickchart(key) {\n",
              "          const quickchartButtonEl =\n",
              "            document.querySelector('#' + key + ' button');\n",
              "          quickchartButtonEl.disabled = true;  // To prevent multiple clicks.\n",
              "          quickchartButtonEl.classList.add('colab-df-spinner');\n",
              "          try {\n",
              "            const charts = await google.colab.kernel.invokeFunction(\n",
              "                'suggestCharts', [key], {});\n",
              "          } catch (error) {\n",
              "            console.error('Error during call to suggestCharts:', error);\n",
              "          }\n",
              "          quickchartButtonEl.classList.remove('colab-df-spinner');\n",
              "          quickchartButtonEl.classList.add('colab-df-quickchart-complete');\n",
              "        }\n",
              "        (() => {\n",
              "          let quickchartButtonEl =\n",
              "            document.querySelector('#df-68c4d1aa-0722-496c-bb21-7314c853c983 button');\n",
              "          quickchartButtonEl.style.display =\n",
              "            google.colab.kernel.accessAllowed ? 'block' : 'none';\n",
              "        })();\n",
              "      </script>\n",
              "    </div>\n",
              "\n",
              "    </div>\n",
              "  </div>\n"
            ],
            "application/vnd.google.colaboratory.intrinsic+json": {
              "type": "dataframe",
              "summary": "{\n  \"name\": \"tweets_df\",\n  \"rows\": 2,\n  \"fields\": [\n    {\n      \"column\": \"target\",\n      \"properties\": {\n        \"dtype\": \"number\",\n        \"std\": 0,\n        \"min\": 0,\n        \"max\": 1,\n        \"num_unique_values\": 2,\n        \"samples\": [\n          1,\n          0\n        ],\n        \"semantic_type\": \"\",\n        \"description\": \"\"\n      }\n    },\n    {\n      \"column\": \"id\",\n      \"properties\": {\n        \"dtype\": \"number\",\n        \"std\": 0,\n        \"min\": 2193576442,\n        \"max\": 2193576442,\n        \"num_unique_values\": 1,\n        \"samples\": [\n          2193576442\n        ],\n        \"semantic_type\": \"\",\n        \"description\": \"\"\n      }\n    },\n    {\n      \"column\": \"posted_at\",\n      \"properties\": {\n        \"dtype\": \"date\",\n        \"min\": \"2009-06-16 08:38:45-07:00\",\n        \"max\": \"2009-06-16 08:38:45-07:00\",\n        \"num_unique_values\": 1,\n        \"samples\": [\n          \"2009-06-16 08:38:45-07:00\"\n        ],\n        \"semantic_type\": \"\",\n        \"description\": \"\"\n      }\n    },\n    {\n      \"column\": \"posted_by\",\n      \"properties\": {\n        \"dtype\": \"string\",\n        \"num_unique_values\": 1,\n        \"samples\": [\n          \"emma_b_xox\"\n        ],\n        \"semantic_type\": \"\",\n        \"description\": \"\"\n      }\n    },\n    {\n      \"column\": \"content\",\n      \"properties\": {\n        \"dtype\": \"string\",\n        \"num_unique_values\": 1,\n        \"samples\": [\n          \"Had an injection today. Not fun  the rrst of the school day has been good. Tonight i am going dancing yey \"\n        ],\n        \"semantic_type\": \"\",\n        \"description\": \"\"\n      }\n    }\n  ]\n}"
            }
          },
          "metadata": {},
          "execution_count": 20
        }
      ]
    },
    {
      "cell_type": "markdown",
      "source": [
        "L’exemple ci-dessous illustre un cas de duplication : deux observations partagent le même identifiant (`id`) et le même contenu (`content`). Cependant, elles sont associées à des **labels différents** (`0` pour l’une et `1` pour l’autre), ce qui crée une incohérence.\n",
        "\n",
        "Pour gérer ce type de cas, nous adoptons la stratégie suivante :\n",
        "\n",
        "- **Si les observations dupliquées ont des labels différents** :  \n",
        "  *Nous supprimons les deux*, car cette contradiction rend le label peu fiable et pourrait introduire du bruit dans l’apprentissage du modèle.\n",
        "\n",
        "- **Si les observations dupliquées ont le même label** :  \n",
        "  *Nous ne conservons qu’une seule occurrence*, afin de réduire les redondances et éviter de biaiser le modèle avec des doublons.\n",
        "\n",
        "> Cette stratégie permet de nettoyer les données de manière prudente, en écartant les cas ambigus et en limitant la surreprésentation de certains exemples.\n",
        "\n"
      ],
      "metadata": {
        "id": "fdfiXv4tOddc"
      }
    },
    {
      "cell_type": "code",
      "source": [
        "# les doublons ayant les memes labels\n",
        "print(tweets_df[tweets_df.duplicated(subset=['id', 'content', 'target'])])"
      ],
      "metadata": {
        "id": "iR8CmeAmSsLM",
        "outputId": "028907f6-3d9e-4a1a-c5f2-81089fe0ac85",
        "colab": {
          "base_uri": "https://localhost:8080/"
        }
      },
      "execution_count": 21,
      "outputs": [
        {
          "output_type": "stream",
          "name": "stdout",
          "text": [
            "Empty DataFrame\n",
            "Columns: [target, id, posted_at, posted_by, content]\n",
            "Index: []\n"
          ]
        }
      ]
    },
    {
      "cell_type": "code",
      "source": [
        "# les doublons ayant differents labels\n",
        "duplicate_rows = tweets_df.duplicated(subset=['id', 'content'], keep=False)\n",
        "display(tweets_df[duplicate_rows].info())"
      ],
      "metadata": {
        "id": "9JAFb0IEQrYq",
        "outputId": "b22e6910-0390-4294-b60e-393952b075b1",
        "colab": {
          "base_uri": "https://localhost:8080/",
          "height": 256
        }
      },
      "execution_count": 22,
      "outputs": [
        {
          "output_type": "stream",
          "name": "stdout",
          "text": [
            "<class 'pandas.core.frame.DataFrame'>\n",
            "Index: 3370 entries, 213 to 1599931\n",
            "Data columns (total 5 columns):\n",
            " #   Column     Non-Null Count  Dtype                     \n",
            "---  ------     --------------  -----                     \n",
            " 0   target     3370 non-null   int64                     \n",
            " 1   id         3370 non-null   int64                     \n",
            " 2   posted_at  3370 non-null   datetime64[ns, US/Pacific]\n",
            " 3   posted_by  3370 non-null   object                    \n",
            " 4   content    3370 non-null   object                    \n",
            "dtypes: datetime64[ns, US/Pacific](1), int64(2), object(2)\n",
            "memory usage: 158.0+ KB\n"
          ]
        },
        {
          "output_type": "display_data",
          "data": {
            "text/plain": [
              "None"
            ]
          },
          "metadata": {}
        }
      ]
    },
    {
      "cell_type": "code",
      "source": [
        "# Suppression des doublons\n",
        "tweets_df = tweets_df[~(duplicate_rows)]"
      ],
      "metadata": {
        "id": "WuyA7S7iOgBU"
      },
      "execution_count": 23,
      "outputs": []
    },
    {
      "cell_type": "code",
      "source": [
        "tweets_df.shape"
      ],
      "metadata": {
        "id": "szzqc4fvVPTL",
        "outputId": "550d9c89-9e78-4cbb-beef-162694f72522",
        "colab": {
          "base_uri": "https://localhost:8080/"
        }
      },
      "execution_count": 24,
      "outputs": [
        {
          "output_type": "execute_result",
          "data": {
            "text/plain": [
              "(1596630, 5)"
            ]
          },
          "metadata": {},
          "execution_count": 24
        }
      ]
    },
    {
      "cell_type": "markdown",
      "source": [
        "\n",
        "\n",
        "> suppression des doublons (user, message)\n",
        "\n"
      ],
      "metadata": {
        "id": "wlddS191au-t"
      }
    },
    {
      "cell_type": "code",
      "source": [
        "rows = tweets_df.duplicated(subset=['content', 'posted_by'], keep=False)\n",
        "rows.sum()"
      ],
      "metadata": {
        "id": "xXgLSkYVWxtw",
        "outputId": "e528249d-c76f-47ba-f65a-a9602a4831ee",
        "colab": {
          "base_uri": "https://localhost:8080/"
        }
      },
      "execution_count": 25,
      "outputs": [
        {
          "output_type": "execute_result",
          "data": {
            "text/plain": [
              "np.int64(5431)"
            ]
          },
          "metadata": {},
          "execution_count": 25
        }
      ]
    },
    {
      "cell_type": "code",
      "source": [
        "duplicated_contents = tweets_df[rows]"
      ],
      "metadata": {
        "id": "WrMGg7bBVpN4"
      },
      "execution_count": 26,
      "outputs": []
    },
    {
      "cell_type": "code",
      "source": [
        "duplicated_contents"
      ],
      "metadata": {
        "id": "YWstSB8cZQsJ",
        "outputId": "6bb5a9ba-ae15-49dc-a897-ebaa1936f3fd",
        "colab": {
          "base_uri": "https://localhost:8080/",
          "height": 424
        }
      },
      "execution_count": 27,
      "outputs": [
        {
          "output_type": "execute_result",
          "data": {
            "text/plain": [
              "         target          id                 posted_at       posted_by  \\\n",
              "238           0  1467872759 2009-04-06 22:35:59-07:00   Augustina22CA   \n",
              "599           0  1467963477 2009-04-06 23:01:15-07:00     Augustina22   \n",
              "2149          0  1468316454 2009-04-07 00:56:00-07:00   Augustina22CA   \n",
              "3469          0  1468602199 2009-04-07 02:40:02-07:00      ammaryasir   \n",
              "3732          0  1468662767 2009-04-07 03:01:40-07:00  FranciscoAndre   \n",
              "...         ...         ...                       ...             ...   \n",
              "1598959       1  2193318357 2009-06-16 08:17:40-07:00    ummsistweets   \n",
              "1599353       1  2193427113 2009-06-16 08:26:38-07:00    parawhore182   \n",
              "1599354       1  2193427134 2009-06-16 08:26:38-07:00    parawhore182   \n",
              "1599377       1  2193427910 2009-06-16 08:26:43-07:00    ummsistweets   \n",
              "1599531       1  2193474515 2009-06-16 08:30:28-07:00     majaricious   \n",
              "\n",
              "                                                   content  \n",
              "238      im lonely  keep me company! 22 female, california  \n",
              "599        im lonely  keep me company! 22 female, new york  \n",
              "2149     im lonely  keep me company! 22 female, california  \n",
              "3469     cant eat, drink or breath properly thanks to t...  \n",
              "3732     I'm not liking that new iTunes Pricing at all....  \n",
              "...                                                    ...  \n",
              "1598959                         cedar point with my biffs   \n",
              "1599353  Im busy. Drooling. Over this video. ;)  but ye...  \n",
              "1599354  Im busy. Drooling. Over this video. ;)  but ye...  \n",
              "1599377                         cedar point with my biffs   \n",
              "1599531  @KhloeKardashian Definitely my Mom. And Angeli...  \n",
              "\n",
              "[5431 rows x 5 columns]"
            ],
            "text/html": [
              "\n",
              "  <div id=\"df-b16c12f0-c7fd-45b7-a42a-6df238e64330\" class=\"colab-df-container\">\n",
              "    <div>\n",
              "<style scoped>\n",
              "    .dataframe tbody tr th:only-of-type {\n",
              "        vertical-align: middle;\n",
              "    }\n",
              "\n",
              "    .dataframe tbody tr th {\n",
              "        vertical-align: top;\n",
              "    }\n",
              "\n",
              "    .dataframe thead th {\n",
              "        text-align: right;\n",
              "    }\n",
              "</style>\n",
              "<table border=\"1\" class=\"dataframe\">\n",
              "  <thead>\n",
              "    <tr style=\"text-align: right;\">\n",
              "      <th></th>\n",
              "      <th>target</th>\n",
              "      <th>id</th>\n",
              "      <th>posted_at</th>\n",
              "      <th>posted_by</th>\n",
              "      <th>content</th>\n",
              "    </tr>\n",
              "  </thead>\n",
              "  <tbody>\n",
              "    <tr>\n",
              "      <th>238</th>\n",
              "      <td>0</td>\n",
              "      <td>1467872759</td>\n",
              "      <td>2009-04-06 22:35:59-07:00</td>\n",
              "      <td>Augustina22CA</td>\n",
              "      <td>im lonely  keep me company! 22 female, california</td>\n",
              "    </tr>\n",
              "    <tr>\n",
              "      <th>599</th>\n",
              "      <td>0</td>\n",
              "      <td>1467963477</td>\n",
              "      <td>2009-04-06 23:01:15-07:00</td>\n",
              "      <td>Augustina22</td>\n",
              "      <td>im lonely  keep me company! 22 female, new york</td>\n",
              "    </tr>\n",
              "    <tr>\n",
              "      <th>2149</th>\n",
              "      <td>0</td>\n",
              "      <td>1468316454</td>\n",
              "      <td>2009-04-07 00:56:00-07:00</td>\n",
              "      <td>Augustina22CA</td>\n",
              "      <td>im lonely  keep me company! 22 female, california</td>\n",
              "    </tr>\n",
              "    <tr>\n",
              "      <th>3469</th>\n",
              "      <td>0</td>\n",
              "      <td>1468602199</td>\n",
              "      <td>2009-04-07 02:40:02-07:00</td>\n",
              "      <td>ammaryasir</td>\n",
              "      <td>cant eat, drink or breath properly thanks to t...</td>\n",
              "    </tr>\n",
              "    <tr>\n",
              "      <th>3732</th>\n",
              "      <td>0</td>\n",
              "      <td>1468662767</td>\n",
              "      <td>2009-04-07 03:01:40-07:00</td>\n",
              "      <td>FranciscoAndre</td>\n",
              "      <td>I'm not liking that new iTunes Pricing at all....</td>\n",
              "    </tr>\n",
              "    <tr>\n",
              "      <th>...</th>\n",
              "      <td>...</td>\n",
              "      <td>...</td>\n",
              "      <td>...</td>\n",
              "      <td>...</td>\n",
              "      <td>...</td>\n",
              "    </tr>\n",
              "    <tr>\n",
              "      <th>1598959</th>\n",
              "      <td>1</td>\n",
              "      <td>2193318357</td>\n",
              "      <td>2009-06-16 08:17:40-07:00</td>\n",
              "      <td>ummsistweets</td>\n",
              "      <td>cedar point with my biffs</td>\n",
              "    </tr>\n",
              "    <tr>\n",
              "      <th>1599353</th>\n",
              "      <td>1</td>\n",
              "      <td>2193427113</td>\n",
              "      <td>2009-06-16 08:26:38-07:00</td>\n",
              "      <td>parawhore182</td>\n",
              "      <td>Im busy. Drooling. Over this video. ;)  but ye...</td>\n",
              "    </tr>\n",
              "    <tr>\n",
              "      <th>1599354</th>\n",
              "      <td>1</td>\n",
              "      <td>2193427134</td>\n",
              "      <td>2009-06-16 08:26:38-07:00</td>\n",
              "      <td>parawhore182</td>\n",
              "      <td>Im busy. Drooling. Over this video. ;)  but ye...</td>\n",
              "    </tr>\n",
              "    <tr>\n",
              "      <th>1599377</th>\n",
              "      <td>1</td>\n",
              "      <td>2193427910</td>\n",
              "      <td>2009-06-16 08:26:43-07:00</td>\n",
              "      <td>ummsistweets</td>\n",
              "      <td>cedar point with my biffs</td>\n",
              "    </tr>\n",
              "    <tr>\n",
              "      <th>1599531</th>\n",
              "      <td>1</td>\n",
              "      <td>2193474515</td>\n",
              "      <td>2009-06-16 08:30:28-07:00</td>\n",
              "      <td>majaricious</td>\n",
              "      <td>@KhloeKardashian Definitely my Mom. And Angeli...</td>\n",
              "    </tr>\n",
              "  </tbody>\n",
              "</table>\n",
              "<p>5431 rows × 5 columns</p>\n",
              "</div>\n",
              "    <div class=\"colab-df-buttons\">\n",
              "\n",
              "  <div class=\"colab-df-container\">\n",
              "    <button class=\"colab-df-convert\" onclick=\"convertToInteractive('df-b16c12f0-c7fd-45b7-a42a-6df238e64330')\"\n",
              "            title=\"Convert this dataframe to an interactive table.\"\n",
              "            style=\"display:none;\">\n",
              "\n",
              "  <svg xmlns=\"http://www.w3.org/2000/svg\" height=\"24px\" viewBox=\"0 -960 960 960\">\n",
              "    <path d=\"M120-120v-720h720v720H120Zm60-500h600v-160H180v160Zm220 220h160v-160H400v160Zm0 220h160v-160H400v160ZM180-400h160v-160H180v160Zm440 0h160v-160H620v160ZM180-180h160v-160H180v160Zm440 0h160v-160H620v160Z\"/>\n",
              "  </svg>\n",
              "    </button>\n",
              "\n",
              "  <style>\n",
              "    .colab-df-container {\n",
              "      display:flex;\n",
              "      gap: 12px;\n",
              "    }\n",
              "\n",
              "    .colab-df-convert {\n",
              "      background-color: #E8F0FE;\n",
              "      border: none;\n",
              "      border-radius: 50%;\n",
              "      cursor: pointer;\n",
              "      display: none;\n",
              "      fill: #1967D2;\n",
              "      height: 32px;\n",
              "      padding: 0 0 0 0;\n",
              "      width: 32px;\n",
              "    }\n",
              "\n",
              "    .colab-df-convert:hover {\n",
              "      background-color: #E2EBFA;\n",
              "      box-shadow: 0px 1px 2px rgba(60, 64, 67, 0.3), 0px 1px 3px 1px rgba(60, 64, 67, 0.15);\n",
              "      fill: #174EA6;\n",
              "    }\n",
              "\n",
              "    .colab-df-buttons div {\n",
              "      margin-bottom: 4px;\n",
              "    }\n",
              "\n",
              "    [theme=dark] .colab-df-convert {\n",
              "      background-color: #3B4455;\n",
              "      fill: #D2E3FC;\n",
              "    }\n",
              "\n",
              "    [theme=dark] .colab-df-convert:hover {\n",
              "      background-color: #434B5C;\n",
              "      box-shadow: 0px 1px 3px 1px rgba(0, 0, 0, 0.15);\n",
              "      filter: drop-shadow(0px 1px 2px rgba(0, 0, 0, 0.3));\n",
              "      fill: #FFFFFF;\n",
              "    }\n",
              "  </style>\n",
              "\n",
              "    <script>\n",
              "      const buttonEl =\n",
              "        document.querySelector('#df-b16c12f0-c7fd-45b7-a42a-6df238e64330 button.colab-df-convert');\n",
              "      buttonEl.style.display =\n",
              "        google.colab.kernel.accessAllowed ? 'block' : 'none';\n",
              "\n",
              "      async function convertToInteractive(key) {\n",
              "        const element = document.querySelector('#df-b16c12f0-c7fd-45b7-a42a-6df238e64330');\n",
              "        const dataTable =\n",
              "          await google.colab.kernel.invokeFunction('convertToInteractive',\n",
              "                                                    [key], {});\n",
              "        if (!dataTable) return;\n",
              "\n",
              "        const docLinkHtml = 'Like what you see? Visit the ' +\n",
              "          '<a target=\"_blank\" href=https://colab.research.google.com/notebooks/data_table.ipynb>data table notebook</a>'\n",
              "          + ' to learn more about interactive tables.';\n",
              "        element.innerHTML = '';\n",
              "        dataTable['output_type'] = 'display_data';\n",
              "        await google.colab.output.renderOutput(dataTable, element);\n",
              "        const docLink = document.createElement('div');\n",
              "        docLink.innerHTML = docLinkHtml;\n",
              "        element.appendChild(docLink);\n",
              "      }\n",
              "    </script>\n",
              "  </div>\n",
              "\n",
              "\n",
              "    <div id=\"df-a083583e-d061-44a8-9ec2-8da62e815d6d\">\n",
              "      <button class=\"colab-df-quickchart\" onclick=\"quickchart('df-a083583e-d061-44a8-9ec2-8da62e815d6d')\"\n",
              "                title=\"Suggest charts\"\n",
              "                style=\"display:none;\">\n",
              "\n",
              "<svg xmlns=\"http://www.w3.org/2000/svg\" height=\"24px\"viewBox=\"0 0 24 24\"\n",
              "     width=\"24px\">\n",
              "    <g>\n",
              "        <path d=\"M19 3H5c-1.1 0-2 .9-2 2v14c0 1.1.9 2 2 2h14c1.1 0 2-.9 2-2V5c0-1.1-.9-2-2-2zM9 17H7v-7h2v7zm4 0h-2V7h2v10zm4 0h-2v-4h2v4z\"/>\n",
              "    </g>\n",
              "</svg>\n",
              "      </button>\n",
              "\n",
              "<style>\n",
              "  .colab-df-quickchart {\n",
              "      --bg-color: #E8F0FE;\n",
              "      --fill-color: #1967D2;\n",
              "      --hover-bg-color: #E2EBFA;\n",
              "      --hover-fill-color: #174EA6;\n",
              "      --disabled-fill-color: #AAA;\n",
              "      --disabled-bg-color: #DDD;\n",
              "  }\n",
              "\n",
              "  [theme=dark] .colab-df-quickchart {\n",
              "      --bg-color: #3B4455;\n",
              "      --fill-color: #D2E3FC;\n",
              "      --hover-bg-color: #434B5C;\n",
              "      --hover-fill-color: #FFFFFF;\n",
              "      --disabled-bg-color: #3B4455;\n",
              "      --disabled-fill-color: #666;\n",
              "  }\n",
              "\n",
              "  .colab-df-quickchart {\n",
              "    background-color: var(--bg-color);\n",
              "    border: none;\n",
              "    border-radius: 50%;\n",
              "    cursor: pointer;\n",
              "    display: none;\n",
              "    fill: var(--fill-color);\n",
              "    height: 32px;\n",
              "    padding: 0;\n",
              "    width: 32px;\n",
              "  }\n",
              "\n",
              "  .colab-df-quickchart:hover {\n",
              "    background-color: var(--hover-bg-color);\n",
              "    box-shadow: 0 1px 2px rgba(60, 64, 67, 0.3), 0 1px 3px 1px rgba(60, 64, 67, 0.15);\n",
              "    fill: var(--button-hover-fill-color);\n",
              "  }\n",
              "\n",
              "  .colab-df-quickchart-complete:disabled,\n",
              "  .colab-df-quickchart-complete:disabled:hover {\n",
              "    background-color: var(--disabled-bg-color);\n",
              "    fill: var(--disabled-fill-color);\n",
              "    box-shadow: none;\n",
              "  }\n",
              "\n",
              "  .colab-df-spinner {\n",
              "    border: 2px solid var(--fill-color);\n",
              "    border-color: transparent;\n",
              "    border-bottom-color: var(--fill-color);\n",
              "    animation:\n",
              "      spin 1s steps(1) infinite;\n",
              "  }\n",
              "\n",
              "  @keyframes spin {\n",
              "    0% {\n",
              "      border-color: transparent;\n",
              "      border-bottom-color: var(--fill-color);\n",
              "      border-left-color: var(--fill-color);\n",
              "    }\n",
              "    20% {\n",
              "      border-color: transparent;\n",
              "      border-left-color: var(--fill-color);\n",
              "      border-top-color: var(--fill-color);\n",
              "    }\n",
              "    30% {\n",
              "      border-color: transparent;\n",
              "      border-left-color: var(--fill-color);\n",
              "      border-top-color: var(--fill-color);\n",
              "      border-right-color: var(--fill-color);\n",
              "    }\n",
              "    40% {\n",
              "      border-color: transparent;\n",
              "      border-right-color: var(--fill-color);\n",
              "      border-top-color: var(--fill-color);\n",
              "    }\n",
              "    60% {\n",
              "      border-color: transparent;\n",
              "      border-right-color: var(--fill-color);\n",
              "    }\n",
              "    80% {\n",
              "      border-color: transparent;\n",
              "      border-right-color: var(--fill-color);\n",
              "      border-bottom-color: var(--fill-color);\n",
              "    }\n",
              "    90% {\n",
              "      border-color: transparent;\n",
              "      border-bottom-color: var(--fill-color);\n",
              "    }\n",
              "  }\n",
              "</style>\n",
              "\n",
              "      <script>\n",
              "        async function quickchart(key) {\n",
              "          const quickchartButtonEl =\n",
              "            document.querySelector('#' + key + ' button');\n",
              "          quickchartButtonEl.disabled = true;  // To prevent multiple clicks.\n",
              "          quickchartButtonEl.classList.add('colab-df-spinner');\n",
              "          try {\n",
              "            const charts = await google.colab.kernel.invokeFunction(\n",
              "                'suggestCharts', [key], {});\n",
              "          } catch (error) {\n",
              "            console.error('Error during call to suggestCharts:', error);\n",
              "          }\n",
              "          quickchartButtonEl.classList.remove('colab-df-spinner');\n",
              "          quickchartButtonEl.classList.add('colab-df-quickchart-complete');\n",
              "        }\n",
              "        (() => {\n",
              "          let quickchartButtonEl =\n",
              "            document.querySelector('#df-a083583e-d061-44a8-9ec2-8da62e815d6d button');\n",
              "          quickchartButtonEl.style.display =\n",
              "            google.colab.kernel.accessAllowed ? 'block' : 'none';\n",
              "        })();\n",
              "      </script>\n",
              "    </div>\n",
              "\n",
              "  <div id=\"id_4433e6d1-1d47-4558-ac18-d4f4578ca9a9\">\n",
              "    <style>\n",
              "      .colab-df-generate {\n",
              "        background-color: #E8F0FE;\n",
              "        border: none;\n",
              "        border-radius: 50%;\n",
              "        cursor: pointer;\n",
              "        display: none;\n",
              "        fill: #1967D2;\n",
              "        height: 32px;\n",
              "        padding: 0 0 0 0;\n",
              "        width: 32px;\n",
              "      }\n",
              "\n",
              "      .colab-df-generate:hover {\n",
              "        background-color: #E2EBFA;\n",
              "        box-shadow: 0px 1px 2px rgba(60, 64, 67, 0.3), 0px 1px 3px 1px rgba(60, 64, 67, 0.15);\n",
              "        fill: #174EA6;\n",
              "      }\n",
              "\n",
              "      [theme=dark] .colab-df-generate {\n",
              "        background-color: #3B4455;\n",
              "        fill: #D2E3FC;\n",
              "      }\n",
              "\n",
              "      [theme=dark] .colab-df-generate:hover {\n",
              "        background-color: #434B5C;\n",
              "        box-shadow: 0px 1px 3px 1px rgba(0, 0, 0, 0.15);\n",
              "        filter: drop-shadow(0px 1px 2px rgba(0, 0, 0, 0.3));\n",
              "        fill: #FFFFFF;\n",
              "      }\n",
              "    </style>\n",
              "    <button class=\"colab-df-generate\" onclick=\"generateWithVariable('duplicated_contents')\"\n",
              "            title=\"Generate code using this dataframe.\"\n",
              "            style=\"display:none;\">\n",
              "\n",
              "  <svg xmlns=\"http://www.w3.org/2000/svg\" height=\"24px\"viewBox=\"0 0 24 24\"\n",
              "       width=\"24px\">\n",
              "    <path d=\"M7,19H8.4L18.45,9,17,7.55,7,17.6ZM5,21V16.75L18.45,3.32a2,2,0,0,1,2.83,0l1.4,1.43a1.91,1.91,0,0,1,.58,1.4,1.91,1.91,0,0,1-.58,1.4L9.25,21ZM18.45,9,17,7.55Zm-12,3A5.31,5.31,0,0,0,4.9,8.1,5.31,5.31,0,0,0,1,6.5,5.31,5.31,0,0,0,4.9,4.9,5.31,5.31,0,0,0,6.5,1,5.31,5.31,0,0,0,8.1,4.9,5.31,5.31,0,0,0,12,6.5,5.46,5.46,0,0,0,6.5,12Z\"/>\n",
              "  </svg>\n",
              "    </button>\n",
              "    <script>\n",
              "      (() => {\n",
              "      const buttonEl =\n",
              "        document.querySelector('#id_4433e6d1-1d47-4558-ac18-d4f4578ca9a9 button.colab-df-generate');\n",
              "      buttonEl.style.display =\n",
              "        google.colab.kernel.accessAllowed ? 'block' : 'none';\n",
              "\n",
              "      buttonEl.onclick = () => {\n",
              "        google.colab.notebook.generateWithVariable('duplicated_contents');\n",
              "      }\n",
              "      })();\n",
              "    </script>\n",
              "  </div>\n",
              "\n",
              "    </div>\n",
              "  </div>\n"
            ],
            "application/vnd.google.colaboratory.intrinsic+json": {
              "type": "dataframe",
              "variable_name": "duplicated_contents",
              "summary": "{\n  \"name\": \"duplicated_contents\",\n  \"rows\": 5431,\n  \"fields\": [\n    {\n      \"column\": \"target\",\n      \"properties\": {\n        \"dtype\": \"number\",\n        \"std\": 0,\n        \"min\": 0,\n        \"max\": 1,\n        \"num_unique_values\": 2,\n        \"samples\": [\n          1,\n          0\n        ],\n        \"semantic_type\": \"\",\n        \"description\": \"\"\n      }\n    },\n    {\n      \"column\": \"id\",\n      \"properties\": {\n        \"dtype\": \"number\",\n        \"std\": 190553397,\n        \"min\": 1467872759,\n        \"max\": 2329170276,\n        \"num_unique_values\": 5431,\n        \"samples\": [\n          2175781978,\n          2056645215\n        ],\n        \"semantic_type\": \"\",\n        \"description\": \"\"\n      }\n    },\n    {\n      \"column\": \"posted_at\",\n      \"properties\": {\n        \"dtype\": \"date\",\n        \"min\": \"2009-04-06 22:35:59-07:00\",\n        \"max\": \"2009-06-25 10:26:00-07:00\",\n        \"num_unique_values\": 5050,\n        \"samples\": [\n          \"2009-06-07 00:51:25-07:00\",\n          \"2009-05-30 03:28:00-07:00\"\n        ],\n        \"semantic_type\": \"\",\n        \"description\": \"\"\n      }\n    },\n    {\n      \"column\": \"posted_by\",\n      \"properties\": {\n        \"dtype\": \"category\",\n        \"num_unique_values\": 1455,\n        \"samples\": [\n          \"BUtifulstrngr\",\n          \"x3Krissyx3\"\n        ],\n        \"semantic_type\": \"\",\n        \"description\": \"\"\n      }\n    },\n    {\n      \"column\": \"content\",\n      \"properties\": {\n        \"dtype\": \"category\",\n        \"num_unique_values\": 1688,\n        \"samples\": [\n          \"GoAnimate.com - check out this funny movie  http://bit.ly/LclRB\",\n          \"feel so sad  david did not reply to me \"\n        ],\n        \"semantic_type\": \"\",\n        \"description\": \"\"\n      }\n    }\n  ]\n}"
            }
          },
          "metadata": {},
          "execution_count": 27
        }
      ]
    },
    {
      "cell_type": "code",
      "source": [
        "tweets_df[tweets_df['posted_by'].str.strip() == 'ummsistweets']"
      ],
      "metadata": {
        "id": "PcFZvM8QanAj",
        "outputId": "d9951be7-7336-4519-8d8e-936c60140023",
        "colab": {
          "base_uri": "https://localhost:8080/",
          "height": 143
        }
      },
      "execution_count": 28,
      "outputs": [
        {
          "output_type": "execute_result",
          "data": {
            "text/plain": [
              "         target          id                 posted_at     posted_by  \\\n",
              "1298633       1  2005308803 2009-06-02 09:30:41-07:00  ummsistweets   \n",
              "1598959       1  2193318357 2009-06-16 08:17:40-07:00  ummsistweets   \n",
              "1599377       1  2193427910 2009-06-16 08:26:43-07:00  ummsistweets   \n",
              "\n",
              "                            content  \n",
              "1298633                sew excited   \n",
              "1598959  cedar point with my biffs   \n",
              "1599377  cedar point with my biffs   "
            ],
            "text/html": [
              "\n",
              "  <div id=\"df-c9e834d5-eb0f-472e-ad7c-a2759a666189\" class=\"colab-df-container\">\n",
              "    <div>\n",
              "<style scoped>\n",
              "    .dataframe tbody tr th:only-of-type {\n",
              "        vertical-align: middle;\n",
              "    }\n",
              "\n",
              "    .dataframe tbody tr th {\n",
              "        vertical-align: top;\n",
              "    }\n",
              "\n",
              "    .dataframe thead th {\n",
              "        text-align: right;\n",
              "    }\n",
              "</style>\n",
              "<table border=\"1\" class=\"dataframe\">\n",
              "  <thead>\n",
              "    <tr style=\"text-align: right;\">\n",
              "      <th></th>\n",
              "      <th>target</th>\n",
              "      <th>id</th>\n",
              "      <th>posted_at</th>\n",
              "      <th>posted_by</th>\n",
              "      <th>content</th>\n",
              "    </tr>\n",
              "  </thead>\n",
              "  <tbody>\n",
              "    <tr>\n",
              "      <th>1298633</th>\n",
              "      <td>1</td>\n",
              "      <td>2005308803</td>\n",
              "      <td>2009-06-02 09:30:41-07:00</td>\n",
              "      <td>ummsistweets</td>\n",
              "      <td>sew excited</td>\n",
              "    </tr>\n",
              "    <tr>\n",
              "      <th>1598959</th>\n",
              "      <td>1</td>\n",
              "      <td>2193318357</td>\n",
              "      <td>2009-06-16 08:17:40-07:00</td>\n",
              "      <td>ummsistweets</td>\n",
              "      <td>cedar point with my biffs</td>\n",
              "    </tr>\n",
              "    <tr>\n",
              "      <th>1599377</th>\n",
              "      <td>1</td>\n",
              "      <td>2193427910</td>\n",
              "      <td>2009-06-16 08:26:43-07:00</td>\n",
              "      <td>ummsistweets</td>\n",
              "      <td>cedar point with my biffs</td>\n",
              "    </tr>\n",
              "  </tbody>\n",
              "</table>\n",
              "</div>\n",
              "    <div class=\"colab-df-buttons\">\n",
              "\n",
              "  <div class=\"colab-df-container\">\n",
              "    <button class=\"colab-df-convert\" onclick=\"convertToInteractive('df-c9e834d5-eb0f-472e-ad7c-a2759a666189')\"\n",
              "            title=\"Convert this dataframe to an interactive table.\"\n",
              "            style=\"display:none;\">\n",
              "\n",
              "  <svg xmlns=\"http://www.w3.org/2000/svg\" height=\"24px\" viewBox=\"0 -960 960 960\">\n",
              "    <path d=\"M120-120v-720h720v720H120Zm60-500h600v-160H180v160Zm220 220h160v-160H400v160Zm0 220h160v-160H400v160ZM180-400h160v-160H180v160Zm440 0h160v-160H620v160ZM180-180h160v-160H180v160Zm440 0h160v-160H620v160Z\"/>\n",
              "  </svg>\n",
              "    </button>\n",
              "\n",
              "  <style>\n",
              "    .colab-df-container {\n",
              "      display:flex;\n",
              "      gap: 12px;\n",
              "    }\n",
              "\n",
              "    .colab-df-convert {\n",
              "      background-color: #E8F0FE;\n",
              "      border: none;\n",
              "      border-radius: 50%;\n",
              "      cursor: pointer;\n",
              "      display: none;\n",
              "      fill: #1967D2;\n",
              "      height: 32px;\n",
              "      padding: 0 0 0 0;\n",
              "      width: 32px;\n",
              "    }\n",
              "\n",
              "    .colab-df-convert:hover {\n",
              "      background-color: #E2EBFA;\n",
              "      box-shadow: 0px 1px 2px rgba(60, 64, 67, 0.3), 0px 1px 3px 1px rgba(60, 64, 67, 0.15);\n",
              "      fill: #174EA6;\n",
              "    }\n",
              "\n",
              "    .colab-df-buttons div {\n",
              "      margin-bottom: 4px;\n",
              "    }\n",
              "\n",
              "    [theme=dark] .colab-df-convert {\n",
              "      background-color: #3B4455;\n",
              "      fill: #D2E3FC;\n",
              "    }\n",
              "\n",
              "    [theme=dark] .colab-df-convert:hover {\n",
              "      background-color: #434B5C;\n",
              "      box-shadow: 0px 1px 3px 1px rgba(0, 0, 0, 0.15);\n",
              "      filter: drop-shadow(0px 1px 2px rgba(0, 0, 0, 0.3));\n",
              "      fill: #FFFFFF;\n",
              "    }\n",
              "  </style>\n",
              "\n",
              "    <script>\n",
              "      const buttonEl =\n",
              "        document.querySelector('#df-c9e834d5-eb0f-472e-ad7c-a2759a666189 button.colab-df-convert');\n",
              "      buttonEl.style.display =\n",
              "        google.colab.kernel.accessAllowed ? 'block' : 'none';\n",
              "\n",
              "      async function convertToInteractive(key) {\n",
              "        const element = document.querySelector('#df-c9e834d5-eb0f-472e-ad7c-a2759a666189');\n",
              "        const dataTable =\n",
              "          await google.colab.kernel.invokeFunction('convertToInteractive',\n",
              "                                                    [key], {});\n",
              "        if (!dataTable) return;\n",
              "\n",
              "        const docLinkHtml = 'Like what you see? Visit the ' +\n",
              "          '<a target=\"_blank\" href=https://colab.research.google.com/notebooks/data_table.ipynb>data table notebook</a>'\n",
              "          + ' to learn more about interactive tables.';\n",
              "        element.innerHTML = '';\n",
              "        dataTable['output_type'] = 'display_data';\n",
              "        await google.colab.output.renderOutput(dataTable, element);\n",
              "        const docLink = document.createElement('div');\n",
              "        docLink.innerHTML = docLinkHtml;\n",
              "        element.appendChild(docLink);\n",
              "      }\n",
              "    </script>\n",
              "  </div>\n",
              "\n",
              "\n",
              "    <div id=\"df-b107e66f-085e-4498-8b73-00a2e19b961f\">\n",
              "      <button class=\"colab-df-quickchart\" onclick=\"quickchart('df-b107e66f-085e-4498-8b73-00a2e19b961f')\"\n",
              "                title=\"Suggest charts\"\n",
              "                style=\"display:none;\">\n",
              "\n",
              "<svg xmlns=\"http://www.w3.org/2000/svg\" height=\"24px\"viewBox=\"0 0 24 24\"\n",
              "     width=\"24px\">\n",
              "    <g>\n",
              "        <path d=\"M19 3H5c-1.1 0-2 .9-2 2v14c0 1.1.9 2 2 2h14c1.1 0 2-.9 2-2V5c0-1.1-.9-2-2-2zM9 17H7v-7h2v7zm4 0h-2V7h2v10zm4 0h-2v-4h2v4z\"/>\n",
              "    </g>\n",
              "</svg>\n",
              "      </button>\n",
              "\n",
              "<style>\n",
              "  .colab-df-quickchart {\n",
              "      --bg-color: #E8F0FE;\n",
              "      --fill-color: #1967D2;\n",
              "      --hover-bg-color: #E2EBFA;\n",
              "      --hover-fill-color: #174EA6;\n",
              "      --disabled-fill-color: #AAA;\n",
              "      --disabled-bg-color: #DDD;\n",
              "  }\n",
              "\n",
              "  [theme=dark] .colab-df-quickchart {\n",
              "      --bg-color: #3B4455;\n",
              "      --fill-color: #D2E3FC;\n",
              "      --hover-bg-color: #434B5C;\n",
              "      --hover-fill-color: #FFFFFF;\n",
              "      --disabled-bg-color: #3B4455;\n",
              "      --disabled-fill-color: #666;\n",
              "  }\n",
              "\n",
              "  .colab-df-quickchart {\n",
              "    background-color: var(--bg-color);\n",
              "    border: none;\n",
              "    border-radius: 50%;\n",
              "    cursor: pointer;\n",
              "    display: none;\n",
              "    fill: var(--fill-color);\n",
              "    height: 32px;\n",
              "    padding: 0;\n",
              "    width: 32px;\n",
              "  }\n",
              "\n",
              "  .colab-df-quickchart:hover {\n",
              "    background-color: var(--hover-bg-color);\n",
              "    box-shadow: 0 1px 2px rgba(60, 64, 67, 0.3), 0 1px 3px 1px rgba(60, 64, 67, 0.15);\n",
              "    fill: var(--button-hover-fill-color);\n",
              "  }\n",
              "\n",
              "  .colab-df-quickchart-complete:disabled,\n",
              "  .colab-df-quickchart-complete:disabled:hover {\n",
              "    background-color: var(--disabled-bg-color);\n",
              "    fill: var(--disabled-fill-color);\n",
              "    box-shadow: none;\n",
              "  }\n",
              "\n",
              "  .colab-df-spinner {\n",
              "    border: 2px solid var(--fill-color);\n",
              "    border-color: transparent;\n",
              "    border-bottom-color: var(--fill-color);\n",
              "    animation:\n",
              "      spin 1s steps(1) infinite;\n",
              "  }\n",
              "\n",
              "  @keyframes spin {\n",
              "    0% {\n",
              "      border-color: transparent;\n",
              "      border-bottom-color: var(--fill-color);\n",
              "      border-left-color: var(--fill-color);\n",
              "    }\n",
              "    20% {\n",
              "      border-color: transparent;\n",
              "      border-left-color: var(--fill-color);\n",
              "      border-top-color: var(--fill-color);\n",
              "    }\n",
              "    30% {\n",
              "      border-color: transparent;\n",
              "      border-left-color: var(--fill-color);\n",
              "      border-top-color: var(--fill-color);\n",
              "      border-right-color: var(--fill-color);\n",
              "    }\n",
              "    40% {\n",
              "      border-color: transparent;\n",
              "      border-right-color: var(--fill-color);\n",
              "      border-top-color: var(--fill-color);\n",
              "    }\n",
              "    60% {\n",
              "      border-color: transparent;\n",
              "      border-right-color: var(--fill-color);\n",
              "    }\n",
              "    80% {\n",
              "      border-color: transparent;\n",
              "      border-right-color: var(--fill-color);\n",
              "      border-bottom-color: var(--fill-color);\n",
              "    }\n",
              "    90% {\n",
              "      border-color: transparent;\n",
              "      border-bottom-color: var(--fill-color);\n",
              "    }\n",
              "  }\n",
              "</style>\n",
              "\n",
              "      <script>\n",
              "        async function quickchart(key) {\n",
              "          const quickchartButtonEl =\n",
              "            document.querySelector('#' + key + ' button');\n",
              "          quickchartButtonEl.disabled = true;  // To prevent multiple clicks.\n",
              "          quickchartButtonEl.classList.add('colab-df-spinner');\n",
              "          try {\n",
              "            const charts = await google.colab.kernel.invokeFunction(\n",
              "                'suggestCharts', [key], {});\n",
              "          } catch (error) {\n",
              "            console.error('Error during call to suggestCharts:', error);\n",
              "          }\n",
              "          quickchartButtonEl.classList.remove('colab-df-spinner');\n",
              "          quickchartButtonEl.classList.add('colab-df-quickchart-complete');\n",
              "        }\n",
              "        (() => {\n",
              "          let quickchartButtonEl =\n",
              "            document.querySelector('#df-b107e66f-085e-4498-8b73-00a2e19b961f button');\n",
              "          quickchartButtonEl.style.display =\n",
              "            google.colab.kernel.accessAllowed ? 'block' : 'none';\n",
              "        })();\n",
              "      </script>\n",
              "    </div>\n",
              "\n",
              "    </div>\n",
              "  </div>\n"
            ],
            "application/vnd.google.colaboratory.intrinsic+json": {
              "type": "dataframe",
              "summary": "{\n  \"name\": \"tweets_df[tweets_df['posted_by']\",\n  \"rows\": 3,\n  \"fields\": [\n    {\n      \"column\": \"target\",\n      \"properties\": {\n        \"dtype\": \"number\",\n        \"std\": 0,\n        \"min\": 1,\n        \"max\": 1,\n        \"num_unique_values\": 1,\n        \"samples\": [\n          1\n        ],\n        \"semantic_type\": \"\",\n        \"description\": \"\"\n      }\n    },\n    {\n      \"column\": \"id\",\n      \"properties\": {\n        \"dtype\": \"number\",\n        \"std\": 108579005,\n        \"min\": 2005308803,\n        \"max\": 2193427910,\n        \"num_unique_values\": 3,\n        \"samples\": [\n          2005308803\n        ],\n        \"semantic_type\": \"\",\n        \"description\": \"\"\n      }\n    },\n    {\n      \"column\": \"posted_at\",\n      \"properties\": {\n        \"dtype\": \"date\",\n        \"min\": \"2009-06-02 09:30:41-07:00\",\n        \"max\": \"2009-06-16 08:26:43-07:00\",\n        \"num_unique_values\": 3,\n        \"samples\": [\n          \"2009-06-02 09:30:41-07:00\"\n        ],\n        \"semantic_type\": \"\",\n        \"description\": \"\"\n      }\n    },\n    {\n      \"column\": \"posted_by\",\n      \"properties\": {\n        \"dtype\": \"category\",\n        \"num_unique_values\": 1,\n        \"samples\": [\n          \"ummsistweets\"\n        ],\n        \"semantic_type\": \"\",\n        \"description\": \"\"\n      }\n    },\n    {\n      \"column\": \"content\",\n      \"properties\": {\n        \"dtype\": \"string\",\n        \"num_unique_values\": 2,\n        \"samples\": [\n          \"cedar point with my biffs \"\n        ],\n        \"semantic_type\": \"\",\n        \"description\": \"\"\n      }\n    }\n  ]\n}"
            }
          },
          "metadata": {},
          "execution_count": 28
        }
      ]
    },
    {
      "cell_type": "code",
      "source": [
        "# les doublons ayant les memes labels\n",
        "duplicate_rows = tweets_df.duplicated(subset=['content', 'posted_by', 'target'])\n",
        "display(tweets_df[duplicate_rows].info())"
      ],
      "metadata": {
        "id": "LWEDR5eabCwU",
        "outputId": "409525c1-f761-4ca4-fb19-5f767d6a5300",
        "colab": {
          "base_uri": "https://localhost:8080/",
          "height": 256
        }
      },
      "execution_count": 29,
      "outputs": [
        {
          "output_type": "stream",
          "name": "stdout",
          "text": [
            "<class 'pandas.core.frame.DataFrame'>\n",
            "Index: 3541 entries, 2149 to 1599531\n",
            "Data columns (total 5 columns):\n",
            " #   Column     Non-Null Count  Dtype                     \n",
            "---  ------     --------------  -----                     \n",
            " 0   target     3541 non-null   int64                     \n",
            " 1   id         3541 non-null   int64                     \n",
            " 2   posted_at  3541 non-null   datetime64[ns, US/Pacific]\n",
            " 3   posted_by  3541 non-null   object                    \n",
            " 4   content    3541 non-null   object                    \n",
            "dtypes: datetime64[ns, US/Pacific](1), int64(2), object(2)\n",
            "memory usage: 166.0+ KB\n"
          ]
        },
        {
          "output_type": "display_data",
          "data": {
            "text/plain": [
              "None"
            ]
          },
          "metadata": {}
        }
      ]
    },
    {
      "cell_type": "code",
      "source": [
        "# Suppression des doublons\n",
        "tweets_df = tweets_df.drop_duplicates(subset=['content', 'posted_by'], keep='first')\n",
        "tweets_df.shape"
      ],
      "metadata": {
        "id": "sGSZfom9bbgO",
        "outputId": "3bd39bb6-8fb3-4100-e39f-19e0bc7df538",
        "colab": {
          "base_uri": "https://localhost:8080/"
        }
      },
      "execution_count": 30,
      "outputs": [
        {
          "output_type": "execute_result",
          "data": {
            "text/plain": [
              "(1593071, 5)"
            ]
          },
          "metadata": {},
          "execution_count": 30
        }
      ]
    },
    {
      "cell_type": "code",
      "source": [
        "tweets_df[tweets_df['posted_by'].str.strip() == 'ummsistweets']"
      ],
      "metadata": {
        "id": "9D-8epE3cSJP",
        "outputId": "182d99d6-8d10-489e-e263-157b516b5daf",
        "colab": {
          "base_uri": "https://localhost:8080/",
          "height": 112
        }
      },
      "execution_count": 31,
      "outputs": [
        {
          "output_type": "execute_result",
          "data": {
            "text/plain": [
              "         target          id                 posted_at     posted_by  \\\n",
              "1298633       1  2005308803 2009-06-02 09:30:41-07:00  ummsistweets   \n",
              "1598959       1  2193318357 2009-06-16 08:17:40-07:00  ummsistweets   \n",
              "\n",
              "                            content  \n",
              "1298633                sew excited   \n",
              "1598959  cedar point with my biffs   "
            ],
            "text/html": [
              "\n",
              "  <div id=\"df-74fd6e7f-3e9a-4690-87db-f01bd4b276ab\" class=\"colab-df-container\">\n",
              "    <div>\n",
              "<style scoped>\n",
              "    .dataframe tbody tr th:only-of-type {\n",
              "        vertical-align: middle;\n",
              "    }\n",
              "\n",
              "    .dataframe tbody tr th {\n",
              "        vertical-align: top;\n",
              "    }\n",
              "\n",
              "    .dataframe thead th {\n",
              "        text-align: right;\n",
              "    }\n",
              "</style>\n",
              "<table border=\"1\" class=\"dataframe\">\n",
              "  <thead>\n",
              "    <tr style=\"text-align: right;\">\n",
              "      <th></th>\n",
              "      <th>target</th>\n",
              "      <th>id</th>\n",
              "      <th>posted_at</th>\n",
              "      <th>posted_by</th>\n",
              "      <th>content</th>\n",
              "    </tr>\n",
              "  </thead>\n",
              "  <tbody>\n",
              "    <tr>\n",
              "      <th>1298633</th>\n",
              "      <td>1</td>\n",
              "      <td>2005308803</td>\n",
              "      <td>2009-06-02 09:30:41-07:00</td>\n",
              "      <td>ummsistweets</td>\n",
              "      <td>sew excited</td>\n",
              "    </tr>\n",
              "    <tr>\n",
              "      <th>1598959</th>\n",
              "      <td>1</td>\n",
              "      <td>2193318357</td>\n",
              "      <td>2009-06-16 08:17:40-07:00</td>\n",
              "      <td>ummsistweets</td>\n",
              "      <td>cedar point with my biffs</td>\n",
              "    </tr>\n",
              "  </tbody>\n",
              "</table>\n",
              "</div>\n",
              "    <div class=\"colab-df-buttons\">\n",
              "\n",
              "  <div class=\"colab-df-container\">\n",
              "    <button class=\"colab-df-convert\" onclick=\"convertToInteractive('df-74fd6e7f-3e9a-4690-87db-f01bd4b276ab')\"\n",
              "            title=\"Convert this dataframe to an interactive table.\"\n",
              "            style=\"display:none;\">\n",
              "\n",
              "  <svg xmlns=\"http://www.w3.org/2000/svg\" height=\"24px\" viewBox=\"0 -960 960 960\">\n",
              "    <path d=\"M120-120v-720h720v720H120Zm60-500h600v-160H180v160Zm220 220h160v-160H400v160Zm0 220h160v-160H400v160ZM180-400h160v-160H180v160Zm440 0h160v-160H620v160ZM180-180h160v-160H180v160Zm440 0h160v-160H620v160Z\"/>\n",
              "  </svg>\n",
              "    </button>\n",
              "\n",
              "  <style>\n",
              "    .colab-df-container {\n",
              "      display:flex;\n",
              "      gap: 12px;\n",
              "    }\n",
              "\n",
              "    .colab-df-convert {\n",
              "      background-color: #E8F0FE;\n",
              "      border: none;\n",
              "      border-radius: 50%;\n",
              "      cursor: pointer;\n",
              "      display: none;\n",
              "      fill: #1967D2;\n",
              "      height: 32px;\n",
              "      padding: 0 0 0 0;\n",
              "      width: 32px;\n",
              "    }\n",
              "\n",
              "    .colab-df-convert:hover {\n",
              "      background-color: #E2EBFA;\n",
              "      box-shadow: 0px 1px 2px rgba(60, 64, 67, 0.3), 0px 1px 3px 1px rgba(60, 64, 67, 0.15);\n",
              "      fill: #174EA6;\n",
              "    }\n",
              "\n",
              "    .colab-df-buttons div {\n",
              "      margin-bottom: 4px;\n",
              "    }\n",
              "\n",
              "    [theme=dark] .colab-df-convert {\n",
              "      background-color: #3B4455;\n",
              "      fill: #D2E3FC;\n",
              "    }\n",
              "\n",
              "    [theme=dark] .colab-df-convert:hover {\n",
              "      background-color: #434B5C;\n",
              "      box-shadow: 0px 1px 3px 1px rgba(0, 0, 0, 0.15);\n",
              "      filter: drop-shadow(0px 1px 2px rgba(0, 0, 0, 0.3));\n",
              "      fill: #FFFFFF;\n",
              "    }\n",
              "  </style>\n",
              "\n",
              "    <script>\n",
              "      const buttonEl =\n",
              "        document.querySelector('#df-74fd6e7f-3e9a-4690-87db-f01bd4b276ab button.colab-df-convert');\n",
              "      buttonEl.style.display =\n",
              "        google.colab.kernel.accessAllowed ? 'block' : 'none';\n",
              "\n",
              "      async function convertToInteractive(key) {\n",
              "        const element = document.querySelector('#df-74fd6e7f-3e9a-4690-87db-f01bd4b276ab');\n",
              "        const dataTable =\n",
              "          await google.colab.kernel.invokeFunction('convertToInteractive',\n",
              "                                                    [key], {});\n",
              "        if (!dataTable) return;\n",
              "\n",
              "        const docLinkHtml = 'Like what you see? Visit the ' +\n",
              "          '<a target=\"_blank\" href=https://colab.research.google.com/notebooks/data_table.ipynb>data table notebook</a>'\n",
              "          + ' to learn more about interactive tables.';\n",
              "        element.innerHTML = '';\n",
              "        dataTable['output_type'] = 'display_data';\n",
              "        await google.colab.output.renderOutput(dataTable, element);\n",
              "        const docLink = document.createElement('div');\n",
              "        docLink.innerHTML = docLinkHtml;\n",
              "        element.appendChild(docLink);\n",
              "      }\n",
              "    </script>\n",
              "  </div>\n",
              "\n",
              "\n",
              "    <div id=\"df-f402d615-1a62-448f-9e38-506799e3065c\">\n",
              "      <button class=\"colab-df-quickchart\" onclick=\"quickchart('df-f402d615-1a62-448f-9e38-506799e3065c')\"\n",
              "                title=\"Suggest charts\"\n",
              "                style=\"display:none;\">\n",
              "\n",
              "<svg xmlns=\"http://www.w3.org/2000/svg\" height=\"24px\"viewBox=\"0 0 24 24\"\n",
              "     width=\"24px\">\n",
              "    <g>\n",
              "        <path d=\"M19 3H5c-1.1 0-2 .9-2 2v14c0 1.1.9 2 2 2h14c1.1 0 2-.9 2-2V5c0-1.1-.9-2-2-2zM9 17H7v-7h2v7zm4 0h-2V7h2v10zm4 0h-2v-4h2v4z\"/>\n",
              "    </g>\n",
              "</svg>\n",
              "      </button>\n",
              "\n",
              "<style>\n",
              "  .colab-df-quickchart {\n",
              "      --bg-color: #E8F0FE;\n",
              "      --fill-color: #1967D2;\n",
              "      --hover-bg-color: #E2EBFA;\n",
              "      --hover-fill-color: #174EA6;\n",
              "      --disabled-fill-color: #AAA;\n",
              "      --disabled-bg-color: #DDD;\n",
              "  }\n",
              "\n",
              "  [theme=dark] .colab-df-quickchart {\n",
              "      --bg-color: #3B4455;\n",
              "      --fill-color: #D2E3FC;\n",
              "      --hover-bg-color: #434B5C;\n",
              "      --hover-fill-color: #FFFFFF;\n",
              "      --disabled-bg-color: #3B4455;\n",
              "      --disabled-fill-color: #666;\n",
              "  }\n",
              "\n",
              "  .colab-df-quickchart {\n",
              "    background-color: var(--bg-color);\n",
              "    border: none;\n",
              "    border-radius: 50%;\n",
              "    cursor: pointer;\n",
              "    display: none;\n",
              "    fill: var(--fill-color);\n",
              "    height: 32px;\n",
              "    padding: 0;\n",
              "    width: 32px;\n",
              "  }\n",
              "\n",
              "  .colab-df-quickchart:hover {\n",
              "    background-color: var(--hover-bg-color);\n",
              "    box-shadow: 0 1px 2px rgba(60, 64, 67, 0.3), 0 1px 3px 1px rgba(60, 64, 67, 0.15);\n",
              "    fill: var(--button-hover-fill-color);\n",
              "  }\n",
              "\n",
              "  .colab-df-quickchart-complete:disabled,\n",
              "  .colab-df-quickchart-complete:disabled:hover {\n",
              "    background-color: var(--disabled-bg-color);\n",
              "    fill: var(--disabled-fill-color);\n",
              "    box-shadow: none;\n",
              "  }\n",
              "\n",
              "  .colab-df-spinner {\n",
              "    border: 2px solid var(--fill-color);\n",
              "    border-color: transparent;\n",
              "    border-bottom-color: var(--fill-color);\n",
              "    animation:\n",
              "      spin 1s steps(1) infinite;\n",
              "  }\n",
              "\n",
              "  @keyframes spin {\n",
              "    0% {\n",
              "      border-color: transparent;\n",
              "      border-bottom-color: var(--fill-color);\n",
              "      border-left-color: var(--fill-color);\n",
              "    }\n",
              "    20% {\n",
              "      border-color: transparent;\n",
              "      border-left-color: var(--fill-color);\n",
              "      border-top-color: var(--fill-color);\n",
              "    }\n",
              "    30% {\n",
              "      border-color: transparent;\n",
              "      border-left-color: var(--fill-color);\n",
              "      border-top-color: var(--fill-color);\n",
              "      border-right-color: var(--fill-color);\n",
              "    }\n",
              "    40% {\n",
              "      border-color: transparent;\n",
              "      border-right-color: var(--fill-color);\n",
              "      border-top-color: var(--fill-color);\n",
              "    }\n",
              "    60% {\n",
              "      border-color: transparent;\n",
              "      border-right-color: var(--fill-color);\n",
              "    }\n",
              "    80% {\n",
              "      border-color: transparent;\n",
              "      border-right-color: var(--fill-color);\n",
              "      border-bottom-color: var(--fill-color);\n",
              "    }\n",
              "    90% {\n",
              "      border-color: transparent;\n",
              "      border-bottom-color: var(--fill-color);\n",
              "    }\n",
              "  }\n",
              "</style>\n",
              "\n",
              "      <script>\n",
              "        async function quickchart(key) {\n",
              "          const quickchartButtonEl =\n",
              "            document.querySelector('#' + key + ' button');\n",
              "          quickchartButtonEl.disabled = true;  // To prevent multiple clicks.\n",
              "          quickchartButtonEl.classList.add('colab-df-spinner');\n",
              "          try {\n",
              "            const charts = await google.colab.kernel.invokeFunction(\n",
              "                'suggestCharts', [key], {});\n",
              "          } catch (error) {\n",
              "            console.error('Error during call to suggestCharts:', error);\n",
              "          }\n",
              "          quickchartButtonEl.classList.remove('colab-df-spinner');\n",
              "          quickchartButtonEl.classList.add('colab-df-quickchart-complete');\n",
              "        }\n",
              "        (() => {\n",
              "          let quickchartButtonEl =\n",
              "            document.querySelector('#df-f402d615-1a62-448f-9e38-506799e3065c button');\n",
              "          quickchartButtonEl.style.display =\n",
              "            google.colab.kernel.accessAllowed ? 'block' : 'none';\n",
              "        })();\n",
              "      </script>\n",
              "    </div>\n",
              "\n",
              "    </div>\n",
              "  </div>\n"
            ],
            "application/vnd.google.colaboratory.intrinsic+json": {
              "type": "dataframe",
              "summary": "{\n  \"name\": \"tweets_df[tweets_df['posted_by']\",\n  \"rows\": 2,\n  \"fields\": [\n    {\n      \"column\": \"target\",\n      \"properties\": {\n        \"dtype\": \"number\",\n        \"std\": 0,\n        \"min\": 1,\n        \"max\": 1,\n        \"num_unique_values\": 1,\n        \"samples\": [\n          1\n        ],\n        \"semantic_type\": \"\",\n        \"description\": \"\"\n      }\n    },\n    {\n      \"column\": \"id\",\n      \"properties\": {\n        \"dtype\": \"number\",\n        \"std\": 132942830,\n        \"min\": 2005308803,\n        \"max\": 2193318357,\n        \"num_unique_values\": 2,\n        \"samples\": [\n          2193318357\n        ],\n        \"semantic_type\": \"\",\n        \"description\": \"\"\n      }\n    },\n    {\n      \"column\": \"posted_at\",\n      \"properties\": {\n        \"dtype\": \"date\",\n        \"min\": \"2009-06-02 09:30:41-07:00\",\n        \"max\": \"2009-06-16 08:17:40-07:00\",\n        \"num_unique_values\": 2,\n        \"samples\": [\n          \"2009-06-16 08:17:40-07:00\"\n        ],\n        \"semantic_type\": \"\",\n        \"description\": \"\"\n      }\n    },\n    {\n      \"column\": \"posted_by\",\n      \"properties\": {\n        \"dtype\": \"string\",\n        \"num_unique_values\": 1,\n        \"samples\": [\n          \"ummsistweets\"\n        ],\n        \"semantic_type\": \"\",\n        \"description\": \"\"\n      }\n    },\n    {\n      \"column\": \"content\",\n      \"properties\": {\n        \"dtype\": \"string\",\n        \"num_unique_values\": 2,\n        \"samples\": [\n          \"cedar point with my biffs \"\n        ],\n        \"semantic_type\": \"\",\n        \"description\": \"\"\n      }\n    }\n  ]\n}"
            }
          },
          "metadata": {},
          "execution_count": 31
        }
      ]
    },
    {
      "cell_type": "code",
      "source": [
        "# les doublons ayant differents labels\n",
        "print(tweets_df[tweets_df.duplicated(subset=['id', 'content'])])"
      ],
      "metadata": {
        "id": "DwrBfN12bpTf",
        "outputId": "d6a2e57f-0660-465b-9d5f-417488127d0b",
        "colab": {
          "base_uri": "https://localhost:8080/"
        }
      },
      "execution_count": 32,
      "outputs": [
        {
          "output_type": "stream",
          "name": "stdout",
          "text": [
            "Empty DataFrame\n",
            "Columns: [target, id, posted_at, posted_by, content]\n",
            "Index: []\n"
          ]
        }
      ]
    },
    {
      "cell_type": "markdown",
      "metadata": {
        "papermill": {
          "duration": 0.026565,
          "end_time": "2020-08-26T20:59:09.195828",
          "exception": false,
          "start_time": "2020-08-26T20:59:09.169263",
          "status": "completed"
        },
        "tags": [],
        "id": "SuaIumEL0Qst"
      },
      "source": [
        "# Nettoyage du contenu\n",
        "\n",
        "L’approche la plus courante dans le nettoyage de texte consiste à uniformiser la casse (mettre en majuscules ou en minuscules), en raison de la diversité des capitalisations dans la formation des phrases. Cette technique permet de projeter tous les mots du texte et du document dans le même espace de caractéristiques. Toutefois, elle peut poser problème dans des cas exceptionnels comme \"USA\" ou \"UK\", ce qui peut être résolu en utilisant des techniques de correction des fautes de frappe, de traitement du langage familier, des acronymes ou des abréviations informelles.[link text](https://)"
      ]
    },
    {
      "cell_type": "markdown",
      "source": [
        "## Mise en minuscule"
      ],
      "metadata": {
        "id": "I1aTswoidTsU"
      }
    },
    {
      "cell_type": "code",
      "execution_count": 33,
      "metadata": {
        "execution": {
          "iopub.execute_input": "2020-08-26T20:59:09.275497Z",
          "iopub.status.busy": "2020-08-26T20:59:09.274491Z",
          "iopub.status.idle": "2020-08-26T20:59:09.278913Z",
          "shell.execute_reply": "2020-08-26T20:59:09.279556Z"
        },
        "papermill": {
          "duration": 0.057135,
          "end_time": "2020-08-26T20:59:09.279754",
          "exception": false,
          "start_time": "2020-08-26T20:59:09.222619",
          "status": "completed"
        },
        "scrolled": true,
        "tags": [],
        "id": "aVrGtkYD0Qst",
        "outputId": "6d2dec16-a4d3-48b4-dc75-b872755ebf7c",
        "colab": {
          "base_uri": "https://localhost:8080/",
          "height": 293
        }
      },
      "outputs": [
        {
          "output_type": "display_data",
          "data": {
            "text/plain": [
              "   target          id                 posted_at        posted_by  \\\n",
              "0       0  1467810369 2009-04-06 22:19:45-07:00  _TheSpecialOne_   \n",
              "1       0  1467810672 2009-04-06 22:19:49-07:00    scotthamilton   \n",
              "2       0  1467810917 2009-04-06 22:19:53-07:00         mattycus   \n",
              "3       0  1467811184 2009-04-06 22:19:57-07:00          ElleCTF   \n",
              "4       0  1467811193 2009-04-06 22:19:57-07:00           Karoli   \n",
              "\n",
              "                                             content  \\\n",
              "0  @switchfoot http://twitpic.com/2y1zl - Awww, t...   \n",
              "1  is upset that he can't update his Facebook by ...   \n",
              "2  @Kenichan I dived many times for the ball. Man...   \n",
              "3    my whole body feels itchy and like its on fire    \n",
              "4  @nationwideclass no, it's not behaving at all....   \n",
              "\n",
              "                                       content_clean  \n",
              "0  @switchfoot http://twitpic.com/2y1zl - awww, t...  \n",
              "1  is upset that he can't update his facebook by ...  \n",
              "2  @kenichan i dived many times for the ball. man...  \n",
              "3    my whole body feels itchy and like its on fire   \n",
              "4  @nationwideclass no, it's not behaving at all....  "
            ],
            "text/html": [
              "\n",
              "  <div id=\"df-af8bafb8-08d0-4667-b4c5-1b72680c9a05\" class=\"colab-df-container\">\n",
              "    <div>\n",
              "<style scoped>\n",
              "    .dataframe tbody tr th:only-of-type {\n",
              "        vertical-align: middle;\n",
              "    }\n",
              "\n",
              "    .dataframe tbody tr th {\n",
              "        vertical-align: top;\n",
              "    }\n",
              "\n",
              "    .dataframe thead th {\n",
              "        text-align: right;\n",
              "    }\n",
              "</style>\n",
              "<table border=\"1\" class=\"dataframe\">\n",
              "  <thead>\n",
              "    <tr style=\"text-align: right;\">\n",
              "      <th></th>\n",
              "      <th>target</th>\n",
              "      <th>id</th>\n",
              "      <th>posted_at</th>\n",
              "      <th>posted_by</th>\n",
              "      <th>content</th>\n",
              "      <th>content_clean</th>\n",
              "    </tr>\n",
              "  </thead>\n",
              "  <tbody>\n",
              "    <tr>\n",
              "      <th>0</th>\n",
              "      <td>0</td>\n",
              "      <td>1467810369</td>\n",
              "      <td>2009-04-06 22:19:45-07:00</td>\n",
              "      <td>_TheSpecialOne_</td>\n",
              "      <td>@switchfoot http://twitpic.com/2y1zl - Awww, t...</td>\n",
              "      <td>@switchfoot http://twitpic.com/2y1zl - awww, t...</td>\n",
              "    </tr>\n",
              "    <tr>\n",
              "      <th>1</th>\n",
              "      <td>0</td>\n",
              "      <td>1467810672</td>\n",
              "      <td>2009-04-06 22:19:49-07:00</td>\n",
              "      <td>scotthamilton</td>\n",
              "      <td>is upset that he can't update his Facebook by ...</td>\n",
              "      <td>is upset that he can't update his facebook by ...</td>\n",
              "    </tr>\n",
              "    <tr>\n",
              "      <th>2</th>\n",
              "      <td>0</td>\n",
              "      <td>1467810917</td>\n",
              "      <td>2009-04-06 22:19:53-07:00</td>\n",
              "      <td>mattycus</td>\n",
              "      <td>@Kenichan I dived many times for the ball. Man...</td>\n",
              "      <td>@kenichan i dived many times for the ball. man...</td>\n",
              "    </tr>\n",
              "    <tr>\n",
              "      <th>3</th>\n",
              "      <td>0</td>\n",
              "      <td>1467811184</td>\n",
              "      <td>2009-04-06 22:19:57-07:00</td>\n",
              "      <td>ElleCTF</td>\n",
              "      <td>my whole body feels itchy and like its on fire</td>\n",
              "      <td>my whole body feels itchy and like its on fire</td>\n",
              "    </tr>\n",
              "    <tr>\n",
              "      <th>4</th>\n",
              "      <td>0</td>\n",
              "      <td>1467811193</td>\n",
              "      <td>2009-04-06 22:19:57-07:00</td>\n",
              "      <td>Karoli</td>\n",
              "      <td>@nationwideclass no, it's not behaving at all....</td>\n",
              "      <td>@nationwideclass no, it's not behaving at all....</td>\n",
              "    </tr>\n",
              "  </tbody>\n",
              "</table>\n",
              "</div>\n",
              "    <div class=\"colab-df-buttons\">\n",
              "\n",
              "  <div class=\"colab-df-container\">\n",
              "    <button class=\"colab-df-convert\" onclick=\"convertToInteractive('df-af8bafb8-08d0-4667-b4c5-1b72680c9a05')\"\n",
              "            title=\"Convert this dataframe to an interactive table.\"\n",
              "            style=\"display:none;\">\n",
              "\n",
              "  <svg xmlns=\"http://www.w3.org/2000/svg\" height=\"24px\" viewBox=\"0 -960 960 960\">\n",
              "    <path d=\"M120-120v-720h720v720H120Zm60-500h600v-160H180v160Zm220 220h160v-160H400v160Zm0 220h160v-160H400v160ZM180-400h160v-160H180v160Zm440 0h160v-160H620v160ZM180-180h160v-160H180v160Zm440 0h160v-160H620v160Z\"/>\n",
              "  </svg>\n",
              "    </button>\n",
              "\n",
              "  <style>\n",
              "    .colab-df-container {\n",
              "      display:flex;\n",
              "      gap: 12px;\n",
              "    }\n",
              "\n",
              "    .colab-df-convert {\n",
              "      background-color: #E8F0FE;\n",
              "      border: none;\n",
              "      border-radius: 50%;\n",
              "      cursor: pointer;\n",
              "      display: none;\n",
              "      fill: #1967D2;\n",
              "      height: 32px;\n",
              "      padding: 0 0 0 0;\n",
              "      width: 32px;\n",
              "    }\n",
              "\n",
              "    .colab-df-convert:hover {\n",
              "      background-color: #E2EBFA;\n",
              "      box-shadow: 0px 1px 2px rgba(60, 64, 67, 0.3), 0px 1px 3px 1px rgba(60, 64, 67, 0.15);\n",
              "      fill: #174EA6;\n",
              "    }\n",
              "\n",
              "    .colab-df-buttons div {\n",
              "      margin-bottom: 4px;\n",
              "    }\n",
              "\n",
              "    [theme=dark] .colab-df-convert {\n",
              "      background-color: #3B4455;\n",
              "      fill: #D2E3FC;\n",
              "    }\n",
              "\n",
              "    [theme=dark] .colab-df-convert:hover {\n",
              "      background-color: #434B5C;\n",
              "      box-shadow: 0px 1px 3px 1px rgba(0, 0, 0, 0.15);\n",
              "      filter: drop-shadow(0px 1px 2px rgba(0, 0, 0, 0.3));\n",
              "      fill: #FFFFFF;\n",
              "    }\n",
              "  </style>\n",
              "\n",
              "    <script>\n",
              "      const buttonEl =\n",
              "        document.querySelector('#df-af8bafb8-08d0-4667-b4c5-1b72680c9a05 button.colab-df-convert');\n",
              "      buttonEl.style.display =\n",
              "        google.colab.kernel.accessAllowed ? 'block' : 'none';\n",
              "\n",
              "      async function convertToInteractive(key) {\n",
              "        const element = document.querySelector('#df-af8bafb8-08d0-4667-b4c5-1b72680c9a05');\n",
              "        const dataTable =\n",
              "          await google.colab.kernel.invokeFunction('convertToInteractive',\n",
              "                                                    [key], {});\n",
              "        if (!dataTable) return;\n",
              "\n",
              "        const docLinkHtml = 'Like what you see? Visit the ' +\n",
              "          '<a target=\"_blank\" href=https://colab.research.google.com/notebooks/data_table.ipynb>data table notebook</a>'\n",
              "          + ' to learn more about interactive tables.';\n",
              "        element.innerHTML = '';\n",
              "        dataTable['output_type'] = 'display_data';\n",
              "        await google.colab.output.renderOutput(dataTable, element);\n",
              "        const docLink = document.createElement('div');\n",
              "        docLink.innerHTML = docLinkHtml;\n",
              "        element.appendChild(docLink);\n",
              "      }\n",
              "    </script>\n",
              "  </div>\n",
              "\n",
              "\n",
              "    <div id=\"df-daad492c-eedf-4e5a-906b-c968e7c90227\">\n",
              "      <button class=\"colab-df-quickchart\" onclick=\"quickchart('df-daad492c-eedf-4e5a-906b-c968e7c90227')\"\n",
              "                title=\"Suggest charts\"\n",
              "                style=\"display:none;\">\n",
              "\n",
              "<svg xmlns=\"http://www.w3.org/2000/svg\" height=\"24px\"viewBox=\"0 0 24 24\"\n",
              "     width=\"24px\">\n",
              "    <g>\n",
              "        <path d=\"M19 3H5c-1.1 0-2 .9-2 2v14c0 1.1.9 2 2 2h14c1.1 0 2-.9 2-2V5c0-1.1-.9-2-2-2zM9 17H7v-7h2v7zm4 0h-2V7h2v10zm4 0h-2v-4h2v4z\"/>\n",
              "    </g>\n",
              "</svg>\n",
              "      </button>\n",
              "\n",
              "<style>\n",
              "  .colab-df-quickchart {\n",
              "      --bg-color: #E8F0FE;\n",
              "      --fill-color: #1967D2;\n",
              "      --hover-bg-color: #E2EBFA;\n",
              "      --hover-fill-color: #174EA6;\n",
              "      --disabled-fill-color: #AAA;\n",
              "      --disabled-bg-color: #DDD;\n",
              "  }\n",
              "\n",
              "  [theme=dark] .colab-df-quickchart {\n",
              "      --bg-color: #3B4455;\n",
              "      --fill-color: #D2E3FC;\n",
              "      --hover-bg-color: #434B5C;\n",
              "      --hover-fill-color: #FFFFFF;\n",
              "      --disabled-bg-color: #3B4455;\n",
              "      --disabled-fill-color: #666;\n",
              "  }\n",
              "\n",
              "  .colab-df-quickchart {\n",
              "    background-color: var(--bg-color);\n",
              "    border: none;\n",
              "    border-radius: 50%;\n",
              "    cursor: pointer;\n",
              "    display: none;\n",
              "    fill: var(--fill-color);\n",
              "    height: 32px;\n",
              "    padding: 0;\n",
              "    width: 32px;\n",
              "  }\n",
              "\n",
              "  .colab-df-quickchart:hover {\n",
              "    background-color: var(--hover-bg-color);\n",
              "    box-shadow: 0 1px 2px rgba(60, 64, 67, 0.3), 0 1px 3px 1px rgba(60, 64, 67, 0.15);\n",
              "    fill: var(--button-hover-fill-color);\n",
              "  }\n",
              "\n",
              "  .colab-df-quickchart-complete:disabled,\n",
              "  .colab-df-quickchart-complete:disabled:hover {\n",
              "    background-color: var(--disabled-bg-color);\n",
              "    fill: var(--disabled-fill-color);\n",
              "    box-shadow: none;\n",
              "  }\n",
              "\n",
              "  .colab-df-spinner {\n",
              "    border: 2px solid var(--fill-color);\n",
              "    border-color: transparent;\n",
              "    border-bottom-color: var(--fill-color);\n",
              "    animation:\n",
              "      spin 1s steps(1) infinite;\n",
              "  }\n",
              "\n",
              "  @keyframes spin {\n",
              "    0% {\n",
              "      border-color: transparent;\n",
              "      border-bottom-color: var(--fill-color);\n",
              "      border-left-color: var(--fill-color);\n",
              "    }\n",
              "    20% {\n",
              "      border-color: transparent;\n",
              "      border-left-color: var(--fill-color);\n",
              "      border-top-color: var(--fill-color);\n",
              "    }\n",
              "    30% {\n",
              "      border-color: transparent;\n",
              "      border-left-color: var(--fill-color);\n",
              "      border-top-color: var(--fill-color);\n",
              "      border-right-color: var(--fill-color);\n",
              "    }\n",
              "    40% {\n",
              "      border-color: transparent;\n",
              "      border-right-color: var(--fill-color);\n",
              "      border-top-color: var(--fill-color);\n",
              "    }\n",
              "    60% {\n",
              "      border-color: transparent;\n",
              "      border-right-color: var(--fill-color);\n",
              "    }\n",
              "    80% {\n",
              "      border-color: transparent;\n",
              "      border-right-color: var(--fill-color);\n",
              "      border-bottom-color: var(--fill-color);\n",
              "    }\n",
              "    90% {\n",
              "      border-color: transparent;\n",
              "      border-bottom-color: var(--fill-color);\n",
              "    }\n",
              "  }\n",
              "</style>\n",
              "\n",
              "      <script>\n",
              "        async function quickchart(key) {\n",
              "          const quickchartButtonEl =\n",
              "            document.querySelector('#' + key + ' button');\n",
              "          quickchartButtonEl.disabled = true;  // To prevent multiple clicks.\n",
              "          quickchartButtonEl.classList.add('colab-df-spinner');\n",
              "          try {\n",
              "            const charts = await google.colab.kernel.invokeFunction(\n",
              "                'suggestCharts', [key], {});\n",
              "          } catch (error) {\n",
              "            console.error('Error during call to suggestCharts:', error);\n",
              "          }\n",
              "          quickchartButtonEl.classList.remove('colab-df-spinner');\n",
              "          quickchartButtonEl.classList.add('colab-df-quickchart-complete');\n",
              "        }\n",
              "        (() => {\n",
              "          let quickchartButtonEl =\n",
              "            document.querySelector('#df-daad492c-eedf-4e5a-906b-c968e7c90227 button');\n",
              "          quickchartButtonEl.style.display =\n",
              "            google.colab.kernel.accessAllowed ? 'block' : 'none';\n",
              "        })();\n",
              "      </script>\n",
              "    </div>\n",
              "\n",
              "    </div>\n",
              "  </div>\n"
            ],
            "application/vnd.google.colaboratory.intrinsic+json": {
              "type": "dataframe",
              "summary": "{\n  \"name\": \"display(tweets_df\",\n  \"rows\": 5,\n  \"fields\": [\n    {\n      \"column\": \"target\",\n      \"properties\": {\n        \"dtype\": \"number\",\n        \"std\": 0,\n        \"min\": 0,\n        \"max\": 0,\n        \"num_unique_values\": 1,\n        \"samples\": [\n          0\n        ],\n        \"semantic_type\": \"\",\n        \"description\": \"\"\n      }\n    },\n    {\n      \"column\": \"id\",\n      \"properties\": {\n        \"dtype\": \"number\",\n        \"std\": 351,\n        \"min\": 1467810369,\n        \"max\": 1467811193,\n        \"num_unique_values\": 5,\n        \"samples\": [\n          1467810672\n        ],\n        \"semantic_type\": \"\",\n        \"description\": \"\"\n      }\n    },\n    {\n      \"column\": \"posted_at\",\n      \"properties\": {\n        \"dtype\": \"date\",\n        \"min\": \"2009-04-06 22:19:45-07:00\",\n        \"max\": \"2009-04-06 22:19:57-07:00\",\n        \"num_unique_values\": 4,\n        \"samples\": [\n          \"2009-04-06 22:19:49-07:00\"\n        ],\n        \"semantic_type\": \"\",\n        \"description\": \"\"\n      }\n    },\n    {\n      \"column\": \"posted_by\",\n      \"properties\": {\n        \"dtype\": \"string\",\n        \"num_unique_values\": 5,\n        \"samples\": [\n          \"scotthamilton\"\n        ],\n        \"semantic_type\": \"\",\n        \"description\": \"\"\n      }\n    },\n    {\n      \"column\": \"content\",\n      \"properties\": {\n        \"dtype\": \"string\",\n        \"num_unique_values\": 5,\n        \"samples\": [\n          \"is upset that he can't update his Facebook by texting it... and might cry as a result  School today also. Blah!\"\n        ],\n        \"semantic_type\": \"\",\n        \"description\": \"\"\n      }\n    },\n    {\n      \"column\": \"content_clean\",\n      \"properties\": {\n        \"dtype\": \"string\",\n        \"num_unique_values\": 5,\n        \"samples\": [\n          \"is upset that he can't update his facebook by texting it... and might cry as a result  school today also. blah!\"\n        ],\n        \"semantic_type\": \"\",\n        \"description\": \"\"\n      }\n    }\n  ]\n}"
            }
          },
          "metadata": {}
        }
      ],
      "source": [
        "tweets_df[\"content_clean\"] = tweets_df[\"content\"].apply(lambda x: x.lower())\n",
        "display(tweets_df.head())"
      ]
    },
    {
      "cell_type": "markdown",
      "metadata": {
        "papermill": {
          "duration": 0.02658,
          "end_time": "2020-08-26T20:59:09.333380",
          "exception": false,
          "start_time": "2020-08-26T20:59:09.306800",
          "status": "completed"
        },
        "tags": [],
        "id": "mxY0XbYq0Qst"
      },
      "source": [
        "## Étendre les contractions\n",
        "\n",
        "Nous utilisons le package [contractions](https://github.com/kootenpv/contractions) pour développer les contractions en anglais, par exemple `we'll` devient `we will`, ou `we shouldn't've` devient `we should not have`."
      ]
    },
    {
      "cell_type": "code",
      "execution_count": 34,
      "metadata": {
        "execution": {
          "iopub.execute_input": "2020-08-26T20:59:20.881166Z",
          "iopub.status.busy": "2020-08-26T20:59:20.880391Z",
          "iopub.status.idle": "2020-08-26T20:59:21.016950Z",
          "shell.execute_reply": "2020-08-26T20:59:21.016289Z"
        },
        "papermill": {
          "duration": 0.176973,
          "end_time": "2020-08-26T20:59:21.017078",
          "exception": false,
          "start_time": "2020-08-26T20:59:20.840105",
          "status": "completed"
        },
        "scrolled": true,
        "tags": [],
        "id": "SYd5HU560Qsu",
        "outputId": "14bd5a08-b2f9-4304-8e86-153a6d989561",
        "colab": {
          "base_uri": "https://localhost:8080/"
        }
      },
      "outputs": [
        {
          "output_type": "stream",
          "name": "stdout",
          "text": [
            "CPU times: user 4 µs, sys: 0 ns, total: 4 µs\n",
            "Wall time: 9.06 µs\n",
            "Test:  \n",
            "            You all cannot expand contractions I would think. I would like to know how I would done that! \n",
            "            We are going to the zoo and I do not think I will be home for dinner.\n",
            "            They Are going to the zoo and she will be home for dinner.\n",
            "            We should have do it in here but we should not have eat it\n",
            "            \n"
          ]
        }
      ],
      "source": [
        "%time\n",
        "# Test\n",
        "test_text = \"\"\"\n",
        "            Y'all can't expand contractions I'd think. I'd like to know how I'd done that!\n",
        "            We're going to the zoo and I don't think I'll be home for dinner.\n",
        "            Theyre going to the zoo and she'll be home for dinner.\n",
        "            We should've do it in here but we shouldn't've eat it\n",
        "            \"\"\"\n",
        "print(\"Test: \", contractions.fix(test_text))"
      ]
    },
    {
      "cell_type": "code",
      "source": [
        "%time\n",
        "tweets_df[\"content_clean\"] = tweets_df[\"content_clean\"].apply(lambda x: contractions.fix(x))\n",
        "\n",
        "# double check\n",
        "print(tweets_df[\"content\"][12])\n",
        "print(tweets_df[\"content_clean\"][12])"
      ],
      "metadata": {
        "id": "i74cuSc-fBmS",
        "outputId": "640f9bf1-bd31-433a-8094-0c3b1432d88a",
        "colab": {
          "base_uri": "https://localhost:8080/"
        }
      },
      "execution_count": 35,
      "outputs": [
        {
          "output_type": "stream",
          "name": "stdout",
          "text": [
            "CPU times: user 3 µs, sys: 0 ns, total: 3 µs\n",
            "Wall time: 7.39 µs\n",
            "@caregiving I couldn't bear to watch it.  And I thought the UA loss was embarrassing . . . . .\n",
            "@caregiving i could not bear to watch it.  and i thought the ua loss was embarrassing . . . . .\n"
          ]
        }
      ]
    },
    {
      "cell_type": "markdown",
      "metadata": {
        "papermill": {
          "duration": 0.026638,
          "end_time": "2020-08-26T20:59:21.070764",
          "exception": false,
          "start_time": "2020-08-26T20:59:21.044126",
          "status": "completed"
        },
        "tags": [],
        "id": "GdaRlw770Qsu"
      },
      "source": [
        "## Suppression du bruit (Noise Removal)\n",
        "\n",
        "Les données textuelles peuvent contenir divers caractères inutiles ou de la ponctuation, tels que des URLs, des balises HTML, des caractères non-ASCII, ou d'autres caractères spéciaux (symboles, emojis, et autres caractères graphiques)."
      ]
    },
    {
      "cell_type": "markdown",
      "source": [
        "### Suppression des URLs"
      ],
      "metadata": {
        "id": "SqWFbbu_f2Cy"
      }
    },
    {
      "cell_type": "code",
      "execution_count": 36,
      "metadata": {
        "execution": {
          "iopub.execute_input": "2020-08-26T20:59:21.132334Z",
          "iopub.status.busy": "2020-08-26T20:59:21.131270Z",
          "iopub.status.idle": "2020-08-26T20:59:21.134995Z",
          "shell.execute_reply": "2020-08-26T20:59:21.134330Z"
        },
        "papermill": {
          "duration": 0.037228,
          "end_time": "2020-08-26T20:59:21.135116",
          "exception": false,
          "start_time": "2020-08-26T20:59:21.097888",
          "status": "completed"
        },
        "scrolled": true,
        "tags": [],
        "id": "r18vpAWN0Qsv"
      },
      "outputs": [],
      "source": [
        "def remove_URL(text):\n",
        "    \"\"\"\n",
        "        Supprime des URLs du texte\n",
        "    \"\"\"\n",
        "    return re.sub(r\"https?://\\S+|www\\.\\S+\", \"\", text)"
      ]
    },
    {
      "cell_type": "code",
      "execution_count": 37,
      "metadata": {
        "execution": {
          "iopub.execute_input": "2020-08-26T20:59:21.218656Z",
          "iopub.status.busy": "2020-08-26T20:59:21.203116Z",
          "iopub.status.idle": "2020-08-26T20:59:21.245760Z",
          "shell.execute_reply": "2020-08-26T20:59:21.246348Z"
        },
        "papermill": {
          "duration": 0.083724,
          "end_time": "2020-08-26T20:59:21.246550",
          "exception": false,
          "start_time": "2020-08-26T20:59:21.162826",
          "status": "completed"
        },
        "scrolled": true,
        "tags": [],
        "id": "vItrQoCO0Qsv",
        "outputId": "dd41ed24-2dfe-4505-9246-706b4aa049ec",
        "colab": {
          "base_uri": "https://localhost:8080/"
        }
      },
      "outputs": [
        {
          "output_type": "stream",
          "name": "stdout",
          "text": [
            "@MissXu sorry! bed time came here (GMT+1)   http://is.gd/fNge\n",
            "@missxu sorry! bed time came here (gmt+1)   \n"
          ]
        }
      ],
      "source": [
        "tweets_df[\"content_clean\"] = tweets_df[\"content_clean\"].apply(lambda x: remove_URL(x))\n",
        "\n",
        "print(tweets_df[\"content\"][37])\n",
        "print(tweets_df[\"content_clean\"][37])"
      ]
    },
    {
      "cell_type": "markdown",
      "metadata": {
        "papermill": {
          "duration": 0.026797,
          "end_time": "2020-08-26T20:59:21.300542",
          "exception": false,
          "start_time": "2020-08-26T20:59:21.273745",
          "status": "completed"
        },
        "tags": [],
        "id": "LP2obao30Qsv"
      },
      "source": [
        "### Suppression des tags HTML"
      ]
    },
    {
      "cell_type": "code",
      "execution_count": 38,
      "metadata": {
        "execution": {
          "iopub.execute_input": "2020-08-26T20:59:21.361323Z",
          "iopub.status.busy": "2020-08-26T20:59:21.360273Z",
          "iopub.status.idle": "2020-08-26T20:59:21.363627Z",
          "shell.execute_reply": "2020-08-26T20:59:21.362882Z"
        },
        "papermill": {
          "duration": 0.036117,
          "end_time": "2020-08-26T20:59:21.363750",
          "exception": false,
          "start_time": "2020-08-26T20:59:21.327633",
          "status": "completed"
        },
        "scrolled": true,
        "tags": [],
        "id": "YnpZDFwW0Qsw"
      },
      "outputs": [],
      "source": [
        "def remove_html(text):\n",
        "    \"\"\"\n",
        "        Supprime les tags HTML du texte\n",
        "    \"\"\"\n",
        "    html = re.compile(r\"<.*?>|&([a-z0-9]+|#[0-9]{1,6}|#x[0-9a-f]{1,6});\")\n",
        "    return re.sub(html, \"\", text)"
      ]
    },
    {
      "cell_type": "code",
      "execution_count": 39,
      "metadata": {
        "execution": {
          "iopub.execute_input": "2020-08-26T20:59:21.451321Z",
          "iopub.status.busy": "2020-08-26T20:59:21.446250Z",
          "iopub.status.idle": "2020-08-26T20:59:21.482235Z",
          "shell.execute_reply": "2020-08-26T20:59:21.482996Z"
        },
        "papermill": {
          "duration": 0.091888,
          "end_time": "2020-08-26T20:59:21.483233",
          "exception": false,
          "start_time": "2020-08-26T20:59:21.391345",
          "status": "completed"
        },
        "scrolled": true,
        "tags": [],
        "id": "EpKR8YI70Qsw"
      },
      "outputs": [],
      "source": [
        "tweets_df[\"content_clean\"] = tweets_df[\"content_clean\"].apply(lambda x: remove_html(x))"
      ]
    },
    {
      "cell_type": "markdown",
      "metadata": {
        "papermill": {
          "duration": 0.026932,
          "end_time": "2020-08-26T20:59:21.538212",
          "exception": false,
          "start_time": "2020-08-26T20:59:21.511280",
          "status": "completed"
        },
        "tags": [],
        "id": "NddYWfAf0Qsw"
      },
      "source": [
        "### Remove Non-ASCI"
      ]
    },
    {
      "cell_type": "code",
      "execution_count": 40,
      "metadata": {
        "execution": {
          "iopub.execute_input": "2020-08-26T20:59:21.599433Z",
          "iopub.status.busy": "2020-08-26T20:59:21.598384Z",
          "iopub.status.idle": "2020-08-26T20:59:21.601701Z",
          "shell.execute_reply": "2020-08-26T20:59:21.601019Z"
        },
        "papermill": {
          "duration": 0.036156,
          "end_time": "2020-08-26T20:59:21.601832",
          "exception": false,
          "start_time": "2020-08-26T20:59:21.565676",
          "status": "completed"
        },
        "scrolled": true,
        "tags": [],
        "id": "D2kTbRre0Qsw"
      },
      "outputs": [],
      "source": [
        "def remove_non_ascii(text):\n",
        "    \"\"\"\n",
        "        supprime les caractères non ASCII du texte\n",
        "    \"\"\"\n",
        "    return re.sub(r'[^\\x00-\\x7f]',r'', text) # or ''.join([x for x in text if x in string.printable])"
      ]
    },
    {
      "cell_type": "code",
      "execution_count": 41,
      "metadata": {
        "execution": {
          "iopub.execute_input": "2020-08-26T20:59:21.685029Z",
          "iopub.status.busy": "2020-08-26T20:59:21.679885Z",
          "iopub.status.idle": "2020-08-26T20:59:21.698384Z",
          "shell.execute_reply": "2020-08-26T20:59:21.699011Z"
        },
        "papermill": {
          "duration": 0.069283,
          "end_time": "2020-08-26T20:59:21.699171",
          "exception": false,
          "start_time": "2020-08-26T20:59:21.629888",
          "status": "completed"
        },
        "scrolled": true,
        "tags": [],
        "id": "h-ljRSUb0Qsw"
      },
      "outputs": [],
      "source": [
        "tweets_df[\"content_clean\"] = tweets_df[\"content_clean\"].apply(lambda x: remove_non_ascii(x))"
      ]
    },
    {
      "cell_type": "markdown",
      "metadata": {
        "papermill": {
          "duration": 0.028683,
          "end_time": "2020-08-26T20:59:28.425735",
          "exception": false,
          "start_time": "2020-08-26T20:59:28.397052",
          "status": "completed"
        },
        "tags": [],
        "id": "4ncNY8ae0Qsx"
      },
      "source": [
        "## Suppression des ponctuations"
      ]
    },
    {
      "cell_type": "code",
      "execution_count": 42,
      "metadata": {
        "execution": {
          "iopub.execute_input": "2020-08-26T20:59:28.490134Z",
          "iopub.status.busy": "2020-08-26T20:59:28.489283Z",
          "iopub.status.idle": "2020-08-26T20:59:28.492915Z",
          "shell.execute_reply": "2020-08-26T20:59:28.492164Z"
        },
        "papermill": {
          "duration": 0.038435,
          "end_time": "2020-08-26T20:59:28.493040",
          "exception": false,
          "start_time": "2020-08-26T20:59:28.454605",
          "status": "completed"
        },
        "scrolled": true,
        "tags": [],
        "id": "Sn3gGqp10Qsx"
      },
      "outputs": [],
      "source": [
        "def remove_punct(text):\n",
        "    \"\"\"\n",
        "        supprime les ponctuations du texte\n",
        "    \"\"\"\n",
        "    return text.translate(str.maketrans('', '', string.punctuation))"
      ]
    },
    {
      "cell_type": "code",
      "execution_count": 43,
      "metadata": {
        "execution": {
          "iopub.execute_input": "2020-08-26T20:59:28.584146Z",
          "iopub.status.busy": "2020-08-26T20:59:28.563395Z",
          "iopub.status.idle": "2020-08-26T20:59:28.608911Z",
          "shell.execute_reply": "2020-08-26T20:59:28.608274Z"
        },
        "papermill": {
          "duration": 0.086809,
          "end_time": "2020-08-26T20:59:28.609046",
          "exception": false,
          "start_time": "2020-08-26T20:59:28.522237",
          "status": "completed"
        },
        "scrolled": true,
        "tags": [],
        "id": "uicW8k0t0Qsy",
        "outputId": "b96203f4-d99a-4b6f-ba42-18405cfe3067",
        "colab": {
          "base_uri": "https://localhost:8080/"
        }
      },
      "outputs": [
        {
          "output_type": "stream",
          "name": "stdout",
          "text": [
            "@Kwesidei not the whole crew \n",
            "kwesidei not the whole crew \n",
            "------------------------------\n",
            "I just got my first fail whale...  @Twitter.\n",
            "i just got my first fail whale  twitter\n"
          ]
        }
      ],
      "source": [
        "tweets_df[\"content_clean\"] = tweets_df[\"content_clean\"].apply(lambda x: remove_punct(x))\n",
        "\n",
        "print(tweets_df[\"content\"][5])\n",
        "print(tweets_df[\"content_clean\"][5])\n",
        "print(\"---\"*10)\n",
        "print(tweets_df[\"content\"][7597])\n",
        "print(tweets_df[\"content_clean\"][7597])"
      ]
    },
    {
      "cell_type": "markdown",
      "metadata": {
        "papermill": {
          "duration": 0.029169,
          "end_time": "2020-08-26T20:59:31.843035",
          "exception": false,
          "start_time": "2020-08-26T20:59:31.813866",
          "status": "completed"
        },
        "tags": [],
        "id": "o8GMIGc20Qsz"
      },
      "source": [
        "# Prétraitement du texte"
      ]
    },
    {
      "cell_type": "markdown",
      "source": [
        "## Tokenization\n"
      ],
      "metadata": {
        "id": "3qYnn3uvjsUy"
      }
    },
    {
      "cell_type": "code",
      "execution_count": 44,
      "metadata": {
        "execution": {
          "iopub.execute_input": "2020-08-26T20:59:31.908884Z",
          "iopub.status.busy": "2020-08-26T20:59:31.908113Z",
          "iopub.status.idle": "2020-08-26T20:59:33.781583Z",
          "shell.execute_reply": "2020-08-26T20:59:33.780761Z"
        },
        "papermill": {
          "duration": 1.909077,
          "end_time": "2020-08-26T20:59:33.781711",
          "exception": false,
          "start_time": "2020-08-26T20:59:31.872634",
          "status": "completed"
        },
        "scrolled": true,
        "tags": [],
        "id": "EpR57oTK0Qsz",
        "outputId": "5dfb2e43-b148-4ee3-e988-9fb32bb2975d",
        "colab": {
          "base_uri": "https://localhost:8080/",
          "height": 453
        }
      },
      "outputs": [
        {
          "output_type": "stream",
          "name": "stderr",
          "text": [
            "[nltk_data] Downloading package punkt_tab to /root/nltk_data...\n",
            "[nltk_data]   Package punkt_tab is already up-to-date!\n"
          ]
        },
        {
          "output_type": "stream",
          "name": "stdout",
          "text": [
            "CPU times: user 2min 31s, sys: 1.81 s, total: 2min 32s\n",
            "Wall time: 2min 34s\n"
          ]
        },
        {
          "output_type": "execute_result",
          "data": {
            "text/plain": [
              "   target          id                 posted_at        posted_by  \\\n",
              "0       0  1467810369 2009-04-06 22:19:45-07:00  _TheSpecialOne_   \n",
              "1       0  1467810672 2009-04-06 22:19:49-07:00    scotthamilton   \n",
              "2       0  1467810917 2009-04-06 22:19:53-07:00         mattycus   \n",
              "3       0  1467811184 2009-04-06 22:19:57-07:00          ElleCTF   \n",
              "4       0  1467811193 2009-04-06 22:19:57-07:00           Karoli   \n",
              "\n",
              "                                             content  \\\n",
              "0  @switchfoot http://twitpic.com/2y1zl - Awww, t...   \n",
              "1  is upset that he can't update his Facebook by ...   \n",
              "2  @Kenichan I dived many times for the ball. Man...   \n",
              "3    my whole body feels itchy and like its on fire    \n",
              "4  @nationwideclass no, it's not behaving at all....   \n",
              "\n",
              "                                       content_clean  \\\n",
              "0  switchfoot   awww that is a bummer  you should...   \n",
              "1  is upset that he cannot update his facebook by...   \n",
              "2  kenichan i dived many times for the ball manag...   \n",
              "3    my whole body feels itchy and like its on fire    \n",
              "4  nationwideclass no it is not behaving at all i...   \n",
              "\n",
              "                                           tokenized  \n",
              "0  [switchfoot, awww, that, is, a, bummer, you, s...  \n",
              "1  [is, upset, that, he, can, not, update, his, f...  \n",
              "2  [kenichan, i, dived, many, times, for, the, ba...  \n",
              "3  [my, whole, body, feels, itchy, and, like, its...  \n",
              "4  [nationwideclass, no, it, is, not, behaving, a...  "
            ],
            "text/html": [
              "\n",
              "  <div id=\"df-843e82ac-faf2-4599-902a-531f2370d33a\" class=\"colab-df-container\">\n",
              "    <div>\n",
              "<style scoped>\n",
              "    .dataframe tbody tr th:only-of-type {\n",
              "        vertical-align: middle;\n",
              "    }\n",
              "\n",
              "    .dataframe tbody tr th {\n",
              "        vertical-align: top;\n",
              "    }\n",
              "\n",
              "    .dataframe thead th {\n",
              "        text-align: right;\n",
              "    }\n",
              "</style>\n",
              "<table border=\"1\" class=\"dataframe\">\n",
              "  <thead>\n",
              "    <tr style=\"text-align: right;\">\n",
              "      <th></th>\n",
              "      <th>target</th>\n",
              "      <th>id</th>\n",
              "      <th>posted_at</th>\n",
              "      <th>posted_by</th>\n",
              "      <th>content</th>\n",
              "      <th>content_clean</th>\n",
              "      <th>tokenized</th>\n",
              "    </tr>\n",
              "  </thead>\n",
              "  <tbody>\n",
              "    <tr>\n",
              "      <th>0</th>\n",
              "      <td>0</td>\n",
              "      <td>1467810369</td>\n",
              "      <td>2009-04-06 22:19:45-07:00</td>\n",
              "      <td>_TheSpecialOne_</td>\n",
              "      <td>@switchfoot http://twitpic.com/2y1zl - Awww, t...</td>\n",
              "      <td>switchfoot   awww that is a bummer  you should...</td>\n",
              "      <td>[switchfoot, awww, that, is, a, bummer, you, s...</td>\n",
              "    </tr>\n",
              "    <tr>\n",
              "      <th>1</th>\n",
              "      <td>0</td>\n",
              "      <td>1467810672</td>\n",
              "      <td>2009-04-06 22:19:49-07:00</td>\n",
              "      <td>scotthamilton</td>\n",
              "      <td>is upset that he can't update his Facebook by ...</td>\n",
              "      <td>is upset that he cannot update his facebook by...</td>\n",
              "      <td>[is, upset, that, he, can, not, update, his, f...</td>\n",
              "    </tr>\n",
              "    <tr>\n",
              "      <th>2</th>\n",
              "      <td>0</td>\n",
              "      <td>1467810917</td>\n",
              "      <td>2009-04-06 22:19:53-07:00</td>\n",
              "      <td>mattycus</td>\n",
              "      <td>@Kenichan I dived many times for the ball. Man...</td>\n",
              "      <td>kenichan i dived many times for the ball manag...</td>\n",
              "      <td>[kenichan, i, dived, many, times, for, the, ba...</td>\n",
              "    </tr>\n",
              "    <tr>\n",
              "      <th>3</th>\n",
              "      <td>0</td>\n",
              "      <td>1467811184</td>\n",
              "      <td>2009-04-06 22:19:57-07:00</td>\n",
              "      <td>ElleCTF</td>\n",
              "      <td>my whole body feels itchy and like its on fire</td>\n",
              "      <td>my whole body feels itchy and like its on fire</td>\n",
              "      <td>[my, whole, body, feels, itchy, and, like, its...</td>\n",
              "    </tr>\n",
              "    <tr>\n",
              "      <th>4</th>\n",
              "      <td>0</td>\n",
              "      <td>1467811193</td>\n",
              "      <td>2009-04-06 22:19:57-07:00</td>\n",
              "      <td>Karoli</td>\n",
              "      <td>@nationwideclass no, it's not behaving at all....</td>\n",
              "      <td>nationwideclass no it is not behaving at all i...</td>\n",
              "      <td>[nationwideclass, no, it, is, not, behaving, a...</td>\n",
              "    </tr>\n",
              "  </tbody>\n",
              "</table>\n",
              "</div>\n",
              "    <div class=\"colab-df-buttons\">\n",
              "\n",
              "  <div class=\"colab-df-container\">\n",
              "    <button class=\"colab-df-convert\" onclick=\"convertToInteractive('df-843e82ac-faf2-4599-902a-531f2370d33a')\"\n",
              "            title=\"Convert this dataframe to an interactive table.\"\n",
              "            style=\"display:none;\">\n",
              "\n",
              "  <svg xmlns=\"http://www.w3.org/2000/svg\" height=\"24px\" viewBox=\"0 -960 960 960\">\n",
              "    <path d=\"M120-120v-720h720v720H120Zm60-500h600v-160H180v160Zm220 220h160v-160H400v160Zm0 220h160v-160H400v160ZM180-400h160v-160H180v160Zm440 0h160v-160H620v160ZM180-180h160v-160H180v160Zm440 0h160v-160H620v160Z\"/>\n",
              "  </svg>\n",
              "    </button>\n",
              "\n",
              "  <style>\n",
              "    .colab-df-container {\n",
              "      display:flex;\n",
              "      gap: 12px;\n",
              "    }\n",
              "\n",
              "    .colab-df-convert {\n",
              "      background-color: #E8F0FE;\n",
              "      border: none;\n",
              "      border-radius: 50%;\n",
              "      cursor: pointer;\n",
              "      display: none;\n",
              "      fill: #1967D2;\n",
              "      height: 32px;\n",
              "      padding: 0 0 0 0;\n",
              "      width: 32px;\n",
              "    }\n",
              "\n",
              "    .colab-df-convert:hover {\n",
              "      background-color: #E2EBFA;\n",
              "      box-shadow: 0px 1px 2px rgba(60, 64, 67, 0.3), 0px 1px 3px 1px rgba(60, 64, 67, 0.15);\n",
              "      fill: #174EA6;\n",
              "    }\n",
              "\n",
              "    .colab-df-buttons div {\n",
              "      margin-bottom: 4px;\n",
              "    }\n",
              "\n",
              "    [theme=dark] .colab-df-convert {\n",
              "      background-color: #3B4455;\n",
              "      fill: #D2E3FC;\n",
              "    }\n",
              "\n",
              "    [theme=dark] .colab-df-convert:hover {\n",
              "      background-color: #434B5C;\n",
              "      box-shadow: 0px 1px 3px 1px rgba(0, 0, 0, 0.15);\n",
              "      filter: drop-shadow(0px 1px 2px rgba(0, 0, 0, 0.3));\n",
              "      fill: #FFFFFF;\n",
              "    }\n",
              "  </style>\n",
              "\n",
              "    <script>\n",
              "      const buttonEl =\n",
              "        document.querySelector('#df-843e82ac-faf2-4599-902a-531f2370d33a button.colab-df-convert');\n",
              "      buttonEl.style.display =\n",
              "        google.colab.kernel.accessAllowed ? 'block' : 'none';\n",
              "\n",
              "      async function convertToInteractive(key) {\n",
              "        const element = document.querySelector('#df-843e82ac-faf2-4599-902a-531f2370d33a');\n",
              "        const dataTable =\n",
              "          await google.colab.kernel.invokeFunction('convertToInteractive',\n",
              "                                                    [key], {});\n",
              "        if (!dataTable) return;\n",
              "\n",
              "        const docLinkHtml = 'Like what you see? Visit the ' +\n",
              "          '<a target=\"_blank\" href=https://colab.research.google.com/notebooks/data_table.ipynb>data table notebook</a>'\n",
              "          + ' to learn more about interactive tables.';\n",
              "        element.innerHTML = '';\n",
              "        dataTable['output_type'] = 'display_data';\n",
              "        await google.colab.output.renderOutput(dataTable, element);\n",
              "        const docLink = document.createElement('div');\n",
              "        docLink.innerHTML = docLinkHtml;\n",
              "        element.appendChild(docLink);\n",
              "      }\n",
              "    </script>\n",
              "  </div>\n",
              "\n",
              "\n",
              "    <div id=\"df-f46e9b08-8ab3-4724-a4b7-a3f2f66909b8\">\n",
              "      <button class=\"colab-df-quickchart\" onclick=\"quickchart('df-f46e9b08-8ab3-4724-a4b7-a3f2f66909b8')\"\n",
              "                title=\"Suggest charts\"\n",
              "                style=\"display:none;\">\n",
              "\n",
              "<svg xmlns=\"http://www.w3.org/2000/svg\" height=\"24px\"viewBox=\"0 0 24 24\"\n",
              "     width=\"24px\">\n",
              "    <g>\n",
              "        <path d=\"M19 3H5c-1.1 0-2 .9-2 2v14c0 1.1.9 2 2 2h14c1.1 0 2-.9 2-2V5c0-1.1-.9-2-2-2zM9 17H7v-7h2v7zm4 0h-2V7h2v10zm4 0h-2v-4h2v4z\"/>\n",
              "    </g>\n",
              "</svg>\n",
              "      </button>\n",
              "\n",
              "<style>\n",
              "  .colab-df-quickchart {\n",
              "      --bg-color: #E8F0FE;\n",
              "      --fill-color: #1967D2;\n",
              "      --hover-bg-color: #E2EBFA;\n",
              "      --hover-fill-color: #174EA6;\n",
              "      --disabled-fill-color: #AAA;\n",
              "      --disabled-bg-color: #DDD;\n",
              "  }\n",
              "\n",
              "  [theme=dark] .colab-df-quickchart {\n",
              "      --bg-color: #3B4455;\n",
              "      --fill-color: #D2E3FC;\n",
              "      --hover-bg-color: #434B5C;\n",
              "      --hover-fill-color: #FFFFFF;\n",
              "      --disabled-bg-color: #3B4455;\n",
              "      --disabled-fill-color: #666;\n",
              "  }\n",
              "\n",
              "  .colab-df-quickchart {\n",
              "    background-color: var(--bg-color);\n",
              "    border: none;\n",
              "    border-radius: 50%;\n",
              "    cursor: pointer;\n",
              "    display: none;\n",
              "    fill: var(--fill-color);\n",
              "    height: 32px;\n",
              "    padding: 0;\n",
              "    width: 32px;\n",
              "  }\n",
              "\n",
              "  .colab-df-quickchart:hover {\n",
              "    background-color: var(--hover-bg-color);\n",
              "    box-shadow: 0 1px 2px rgba(60, 64, 67, 0.3), 0 1px 3px 1px rgba(60, 64, 67, 0.15);\n",
              "    fill: var(--button-hover-fill-color);\n",
              "  }\n",
              "\n",
              "  .colab-df-quickchart-complete:disabled,\n",
              "  .colab-df-quickchart-complete:disabled:hover {\n",
              "    background-color: var(--disabled-bg-color);\n",
              "    fill: var(--disabled-fill-color);\n",
              "    box-shadow: none;\n",
              "  }\n",
              "\n",
              "  .colab-df-spinner {\n",
              "    border: 2px solid var(--fill-color);\n",
              "    border-color: transparent;\n",
              "    border-bottom-color: var(--fill-color);\n",
              "    animation:\n",
              "      spin 1s steps(1) infinite;\n",
              "  }\n",
              "\n",
              "  @keyframes spin {\n",
              "    0% {\n",
              "      border-color: transparent;\n",
              "      border-bottom-color: var(--fill-color);\n",
              "      border-left-color: var(--fill-color);\n",
              "    }\n",
              "    20% {\n",
              "      border-color: transparent;\n",
              "      border-left-color: var(--fill-color);\n",
              "      border-top-color: var(--fill-color);\n",
              "    }\n",
              "    30% {\n",
              "      border-color: transparent;\n",
              "      border-left-color: var(--fill-color);\n",
              "      border-top-color: var(--fill-color);\n",
              "      border-right-color: var(--fill-color);\n",
              "    }\n",
              "    40% {\n",
              "      border-color: transparent;\n",
              "      border-right-color: var(--fill-color);\n",
              "      border-top-color: var(--fill-color);\n",
              "    }\n",
              "    60% {\n",
              "      border-color: transparent;\n",
              "      border-right-color: var(--fill-color);\n",
              "    }\n",
              "    80% {\n",
              "      border-color: transparent;\n",
              "      border-right-color: var(--fill-color);\n",
              "      border-bottom-color: var(--fill-color);\n",
              "    }\n",
              "    90% {\n",
              "      border-color: transparent;\n",
              "      border-bottom-color: var(--fill-color);\n",
              "    }\n",
              "  }\n",
              "</style>\n",
              "\n",
              "      <script>\n",
              "        async function quickchart(key) {\n",
              "          const quickchartButtonEl =\n",
              "            document.querySelector('#' + key + ' button');\n",
              "          quickchartButtonEl.disabled = true;  // To prevent multiple clicks.\n",
              "          quickchartButtonEl.classList.add('colab-df-spinner');\n",
              "          try {\n",
              "            const charts = await google.colab.kernel.invokeFunction(\n",
              "                'suggestCharts', [key], {});\n",
              "          } catch (error) {\n",
              "            console.error('Error during call to suggestCharts:', error);\n",
              "          }\n",
              "          quickchartButtonEl.classList.remove('colab-df-spinner');\n",
              "          quickchartButtonEl.classList.add('colab-df-quickchart-complete');\n",
              "        }\n",
              "        (() => {\n",
              "          let quickchartButtonEl =\n",
              "            document.querySelector('#df-f46e9b08-8ab3-4724-a4b7-a3f2f66909b8 button');\n",
              "          quickchartButtonEl.style.display =\n",
              "            google.colab.kernel.accessAllowed ? 'block' : 'none';\n",
              "        })();\n",
              "      </script>\n",
              "    </div>\n",
              "\n",
              "    </div>\n",
              "  </div>\n"
            ],
            "application/vnd.google.colaboratory.intrinsic+json": {
              "type": "dataframe",
              "summary": "{\n  \"name\": \"get_ipython()\",\n  \"rows\": 5,\n  \"fields\": [\n    {\n      \"column\": \"target\",\n      \"properties\": {\n        \"dtype\": \"number\",\n        \"std\": 0,\n        \"min\": 0,\n        \"max\": 0,\n        \"num_unique_values\": 1,\n        \"samples\": [\n          0\n        ],\n        \"semantic_type\": \"\",\n        \"description\": \"\"\n      }\n    },\n    {\n      \"column\": \"id\",\n      \"properties\": {\n        \"dtype\": \"number\",\n        \"std\": 351,\n        \"min\": 1467810369,\n        \"max\": 1467811193,\n        \"num_unique_values\": 5,\n        \"samples\": [\n          1467810672\n        ],\n        \"semantic_type\": \"\",\n        \"description\": \"\"\n      }\n    },\n    {\n      \"column\": \"posted_at\",\n      \"properties\": {\n        \"dtype\": \"date\",\n        \"min\": \"2009-04-06 22:19:45-07:00\",\n        \"max\": \"2009-04-06 22:19:57-07:00\",\n        \"num_unique_values\": 4,\n        \"samples\": [\n          \"2009-04-06 22:19:49-07:00\"\n        ],\n        \"semantic_type\": \"\",\n        \"description\": \"\"\n      }\n    },\n    {\n      \"column\": \"posted_by\",\n      \"properties\": {\n        \"dtype\": \"string\",\n        \"num_unique_values\": 5,\n        \"samples\": [\n          \"scotthamilton\"\n        ],\n        \"semantic_type\": \"\",\n        \"description\": \"\"\n      }\n    },\n    {\n      \"column\": \"content\",\n      \"properties\": {\n        \"dtype\": \"string\",\n        \"num_unique_values\": 5,\n        \"samples\": [\n          \"is upset that he can't update his Facebook by texting it... and might cry as a result  School today also. Blah!\"\n        ],\n        \"semantic_type\": \"\",\n        \"description\": \"\"\n      }\n    },\n    {\n      \"column\": \"content_clean\",\n      \"properties\": {\n        \"dtype\": \"string\",\n        \"num_unique_values\": 5,\n        \"samples\": [\n          \"is upset that he cannot update his facebook by texting it and might cry as a result  school today also blah\"\n        ],\n        \"semantic_type\": \"\",\n        \"description\": \"\"\n      }\n    },\n    {\n      \"column\": \"tokenized\",\n      \"properties\": {\n        \"dtype\": \"object\",\n        \"semantic_type\": \"\",\n        \"description\": \"\"\n      }\n    }\n  ]\n}"
            }
          },
          "metadata": {},
          "execution_count": 44
        }
      ],
      "source": [
        "%%time\n",
        "nltk.download(\"punkt_tab\")\n",
        "tweets_df['tokenized'] = tweets_df['content_clean'].apply(word_tokenize)\n",
        "tweets_df.head()"
      ]
    },
    {
      "cell_type": "markdown",
      "metadata": {
        "papermill": {
          "duration": 0.029715,
          "end_time": "2020-08-26T20:59:33.841282",
          "exception": false,
          "start_time": "2020-08-26T20:59:33.811567",
          "status": "completed"
        },
        "tags": [],
        "id": "AWrhRmLV0Qs0"
      },
      "source": [
        "## Suppression des mots vides (et/ou des mots fréquents / rares)\n",
        "\n",
        "Les mots vides (*stop words*) sont des mots courants dans une langue qui apparaissent très fréquemment, mais n’apportent que peu ou pas d’information utile à la phrase. Par exemple, des mots comme {“a”, “about”, “above”, “across”, “after”, “afterward”, “again”, ...} peuvent être considérés comme des mots vides. Traditionnellement, on choisit de les supprimer lors de la phase de prétraitement du texte."
      ]
    },
    {
      "cell_type": "code",
      "execution_count": 45,
      "metadata": {
        "execution": {
          "iopub.execute_input": "2020-08-26T20:59:33.923706Z",
          "iopub.status.busy": "2020-08-26T20:59:33.908704Z",
          "iopub.status.idle": "2020-08-26T20:59:34.469036Z",
          "shell.execute_reply": "2020-08-26T20:59:34.468283Z"
        },
        "papermill": {
          "duration": 0.598333,
          "end_time": "2020-08-26T20:59:34.469158",
          "exception": false,
          "start_time": "2020-08-26T20:59:33.870825",
          "status": "completed"
        },
        "tags": [],
        "id": "wmVLOvB_0Qs0",
        "outputId": "e81a9bb7-43e5-4575-bc6c-0142d73912ca",
        "colab": {
          "base_uri": "https://localhost:8080/",
          "height": 508
        }
      },
      "outputs": [
        {
          "output_type": "stream",
          "name": "stderr",
          "text": [
            "[nltk_data] Downloading package stopwords to /root/nltk_data...\n",
            "[nltk_data]   Package stopwords is already up-to-date!\n"
          ]
        },
        {
          "output_type": "stream",
          "name": "stdout",
          "text": [
            "CPU times: user 7.87 s, sys: 139 ms, total: 8.01 s\n",
            "Wall time: 8.01 s\n"
          ]
        },
        {
          "output_type": "execute_result",
          "data": {
            "text/plain": [
              "   target          id                 posted_at        posted_by  \\\n",
              "0       0  1467810369 2009-04-06 22:19:45-07:00  _TheSpecialOne_   \n",
              "1       0  1467810672 2009-04-06 22:19:49-07:00    scotthamilton   \n",
              "2       0  1467810917 2009-04-06 22:19:53-07:00         mattycus   \n",
              "3       0  1467811184 2009-04-06 22:19:57-07:00          ElleCTF   \n",
              "4       0  1467811193 2009-04-06 22:19:57-07:00           Karoli   \n",
              "\n",
              "                                             content  \\\n",
              "0  @switchfoot http://twitpic.com/2y1zl - Awww, t...   \n",
              "1  is upset that he can't update his Facebook by ...   \n",
              "2  @Kenichan I dived many times for the ball. Man...   \n",
              "3    my whole body feels itchy and like its on fire    \n",
              "4  @nationwideclass no, it's not behaving at all....   \n",
              "\n",
              "                                       content_clean  \\\n",
              "0  switchfoot   awww that is a bummer  you should...   \n",
              "1  is upset that he cannot update his facebook by...   \n",
              "2  kenichan i dived many times for the ball manag...   \n",
              "3    my whole body feels itchy and like its on fire    \n",
              "4  nationwideclass no it is not behaving at all i...   \n",
              "\n",
              "                                           tokenized  \\\n",
              "0  [switchfoot, awww, that, is, a, bummer, you, s...   \n",
              "1  [is, upset, that, he, can, not, update, his, f...   \n",
              "2  [kenichan, i, dived, many, times, for, the, ba...   \n",
              "3  [my, whole, body, feels, itchy, and, like, its...   \n",
              "4  [nationwideclass, no, it, is, not, behaving, a...   \n",
              "\n",
              "                                   stopwords_removed  \n",
              "0  [switchfoot, awww, bummer, shoulda, got, david...  \n",
              "1  [upset, update, facebook, texting, might, cry,...  \n",
              "2  [kenichan, dived, many, times, ball, managed, ...  \n",
              "3            [whole, body, feels, itchy, like, fire]  \n",
              "4              [nationwideclass, behaving, mad, see]  "
            ],
            "text/html": [
              "\n",
              "  <div id=\"df-14ea6725-388d-409a-8c5f-e26073a7c5cc\" class=\"colab-df-container\">\n",
              "    <div>\n",
              "<style scoped>\n",
              "    .dataframe tbody tr th:only-of-type {\n",
              "        vertical-align: middle;\n",
              "    }\n",
              "\n",
              "    .dataframe tbody tr th {\n",
              "        vertical-align: top;\n",
              "    }\n",
              "\n",
              "    .dataframe thead th {\n",
              "        text-align: right;\n",
              "    }\n",
              "</style>\n",
              "<table border=\"1\" class=\"dataframe\">\n",
              "  <thead>\n",
              "    <tr style=\"text-align: right;\">\n",
              "      <th></th>\n",
              "      <th>target</th>\n",
              "      <th>id</th>\n",
              "      <th>posted_at</th>\n",
              "      <th>posted_by</th>\n",
              "      <th>content</th>\n",
              "      <th>content_clean</th>\n",
              "      <th>tokenized</th>\n",
              "      <th>stopwords_removed</th>\n",
              "    </tr>\n",
              "  </thead>\n",
              "  <tbody>\n",
              "    <tr>\n",
              "      <th>0</th>\n",
              "      <td>0</td>\n",
              "      <td>1467810369</td>\n",
              "      <td>2009-04-06 22:19:45-07:00</td>\n",
              "      <td>_TheSpecialOne_</td>\n",
              "      <td>@switchfoot http://twitpic.com/2y1zl - Awww, t...</td>\n",
              "      <td>switchfoot   awww that is a bummer  you should...</td>\n",
              "      <td>[switchfoot, awww, that, is, a, bummer, you, s...</td>\n",
              "      <td>[switchfoot, awww, bummer, shoulda, got, david...</td>\n",
              "    </tr>\n",
              "    <tr>\n",
              "      <th>1</th>\n",
              "      <td>0</td>\n",
              "      <td>1467810672</td>\n",
              "      <td>2009-04-06 22:19:49-07:00</td>\n",
              "      <td>scotthamilton</td>\n",
              "      <td>is upset that he can't update his Facebook by ...</td>\n",
              "      <td>is upset that he cannot update his facebook by...</td>\n",
              "      <td>[is, upset, that, he, can, not, update, his, f...</td>\n",
              "      <td>[upset, update, facebook, texting, might, cry,...</td>\n",
              "    </tr>\n",
              "    <tr>\n",
              "      <th>2</th>\n",
              "      <td>0</td>\n",
              "      <td>1467810917</td>\n",
              "      <td>2009-04-06 22:19:53-07:00</td>\n",
              "      <td>mattycus</td>\n",
              "      <td>@Kenichan I dived many times for the ball. Man...</td>\n",
              "      <td>kenichan i dived many times for the ball manag...</td>\n",
              "      <td>[kenichan, i, dived, many, times, for, the, ba...</td>\n",
              "      <td>[kenichan, dived, many, times, ball, managed, ...</td>\n",
              "    </tr>\n",
              "    <tr>\n",
              "      <th>3</th>\n",
              "      <td>0</td>\n",
              "      <td>1467811184</td>\n",
              "      <td>2009-04-06 22:19:57-07:00</td>\n",
              "      <td>ElleCTF</td>\n",
              "      <td>my whole body feels itchy and like its on fire</td>\n",
              "      <td>my whole body feels itchy and like its on fire</td>\n",
              "      <td>[my, whole, body, feels, itchy, and, like, its...</td>\n",
              "      <td>[whole, body, feels, itchy, like, fire]</td>\n",
              "    </tr>\n",
              "    <tr>\n",
              "      <th>4</th>\n",
              "      <td>0</td>\n",
              "      <td>1467811193</td>\n",
              "      <td>2009-04-06 22:19:57-07:00</td>\n",
              "      <td>Karoli</td>\n",
              "      <td>@nationwideclass no, it's not behaving at all....</td>\n",
              "      <td>nationwideclass no it is not behaving at all i...</td>\n",
              "      <td>[nationwideclass, no, it, is, not, behaving, a...</td>\n",
              "      <td>[nationwideclass, behaving, mad, see]</td>\n",
              "    </tr>\n",
              "  </tbody>\n",
              "</table>\n",
              "</div>\n",
              "    <div class=\"colab-df-buttons\">\n",
              "\n",
              "  <div class=\"colab-df-container\">\n",
              "    <button class=\"colab-df-convert\" onclick=\"convertToInteractive('df-14ea6725-388d-409a-8c5f-e26073a7c5cc')\"\n",
              "            title=\"Convert this dataframe to an interactive table.\"\n",
              "            style=\"display:none;\">\n",
              "\n",
              "  <svg xmlns=\"http://www.w3.org/2000/svg\" height=\"24px\" viewBox=\"0 -960 960 960\">\n",
              "    <path d=\"M120-120v-720h720v720H120Zm60-500h600v-160H180v160Zm220 220h160v-160H400v160Zm0 220h160v-160H400v160ZM180-400h160v-160H180v160Zm440 0h160v-160H620v160ZM180-180h160v-160H180v160Zm440 0h160v-160H620v160Z\"/>\n",
              "  </svg>\n",
              "    </button>\n",
              "\n",
              "  <style>\n",
              "    .colab-df-container {\n",
              "      display:flex;\n",
              "      gap: 12px;\n",
              "    }\n",
              "\n",
              "    .colab-df-convert {\n",
              "      background-color: #E8F0FE;\n",
              "      border: none;\n",
              "      border-radius: 50%;\n",
              "      cursor: pointer;\n",
              "      display: none;\n",
              "      fill: #1967D2;\n",
              "      height: 32px;\n",
              "      padding: 0 0 0 0;\n",
              "      width: 32px;\n",
              "    }\n",
              "\n",
              "    .colab-df-convert:hover {\n",
              "      background-color: #E2EBFA;\n",
              "      box-shadow: 0px 1px 2px rgba(60, 64, 67, 0.3), 0px 1px 3px 1px rgba(60, 64, 67, 0.15);\n",
              "      fill: #174EA6;\n",
              "    }\n",
              "\n",
              "    .colab-df-buttons div {\n",
              "      margin-bottom: 4px;\n",
              "    }\n",
              "\n",
              "    [theme=dark] .colab-df-convert {\n",
              "      background-color: #3B4455;\n",
              "      fill: #D2E3FC;\n",
              "    }\n",
              "\n",
              "    [theme=dark] .colab-df-convert:hover {\n",
              "      background-color: #434B5C;\n",
              "      box-shadow: 0px 1px 3px 1px rgba(0, 0, 0, 0.15);\n",
              "      filter: drop-shadow(0px 1px 2px rgba(0, 0, 0, 0.3));\n",
              "      fill: #FFFFFF;\n",
              "    }\n",
              "  </style>\n",
              "\n",
              "    <script>\n",
              "      const buttonEl =\n",
              "        document.querySelector('#df-14ea6725-388d-409a-8c5f-e26073a7c5cc button.colab-df-convert');\n",
              "      buttonEl.style.display =\n",
              "        google.colab.kernel.accessAllowed ? 'block' : 'none';\n",
              "\n",
              "      async function convertToInteractive(key) {\n",
              "        const element = document.querySelector('#df-14ea6725-388d-409a-8c5f-e26073a7c5cc');\n",
              "        const dataTable =\n",
              "          await google.colab.kernel.invokeFunction('convertToInteractive',\n",
              "                                                    [key], {});\n",
              "        if (!dataTable) return;\n",
              "\n",
              "        const docLinkHtml = 'Like what you see? Visit the ' +\n",
              "          '<a target=\"_blank\" href=https://colab.research.google.com/notebooks/data_table.ipynb>data table notebook</a>'\n",
              "          + ' to learn more about interactive tables.';\n",
              "        element.innerHTML = '';\n",
              "        dataTable['output_type'] = 'display_data';\n",
              "        await google.colab.output.renderOutput(dataTable, element);\n",
              "        const docLink = document.createElement('div');\n",
              "        docLink.innerHTML = docLinkHtml;\n",
              "        element.appendChild(docLink);\n",
              "      }\n",
              "    </script>\n",
              "  </div>\n",
              "\n",
              "\n",
              "    <div id=\"df-cff406c8-1903-4e2c-ac26-02f0d2c5edf4\">\n",
              "      <button class=\"colab-df-quickchart\" onclick=\"quickchart('df-cff406c8-1903-4e2c-ac26-02f0d2c5edf4')\"\n",
              "                title=\"Suggest charts\"\n",
              "                style=\"display:none;\">\n",
              "\n",
              "<svg xmlns=\"http://www.w3.org/2000/svg\" height=\"24px\"viewBox=\"0 0 24 24\"\n",
              "     width=\"24px\">\n",
              "    <g>\n",
              "        <path d=\"M19 3H5c-1.1 0-2 .9-2 2v14c0 1.1.9 2 2 2h14c1.1 0 2-.9 2-2V5c0-1.1-.9-2-2-2zM9 17H7v-7h2v7zm4 0h-2V7h2v10zm4 0h-2v-4h2v4z\"/>\n",
              "    </g>\n",
              "</svg>\n",
              "      </button>\n",
              "\n",
              "<style>\n",
              "  .colab-df-quickchart {\n",
              "      --bg-color: #E8F0FE;\n",
              "      --fill-color: #1967D2;\n",
              "      --hover-bg-color: #E2EBFA;\n",
              "      --hover-fill-color: #174EA6;\n",
              "      --disabled-fill-color: #AAA;\n",
              "      --disabled-bg-color: #DDD;\n",
              "  }\n",
              "\n",
              "  [theme=dark] .colab-df-quickchart {\n",
              "      --bg-color: #3B4455;\n",
              "      --fill-color: #D2E3FC;\n",
              "      --hover-bg-color: #434B5C;\n",
              "      --hover-fill-color: #FFFFFF;\n",
              "      --disabled-bg-color: #3B4455;\n",
              "      --disabled-fill-color: #666;\n",
              "  }\n",
              "\n",
              "  .colab-df-quickchart {\n",
              "    background-color: var(--bg-color);\n",
              "    border: none;\n",
              "    border-radius: 50%;\n",
              "    cursor: pointer;\n",
              "    display: none;\n",
              "    fill: var(--fill-color);\n",
              "    height: 32px;\n",
              "    padding: 0;\n",
              "    width: 32px;\n",
              "  }\n",
              "\n",
              "  .colab-df-quickchart:hover {\n",
              "    background-color: var(--hover-bg-color);\n",
              "    box-shadow: 0 1px 2px rgba(60, 64, 67, 0.3), 0 1px 3px 1px rgba(60, 64, 67, 0.15);\n",
              "    fill: var(--button-hover-fill-color);\n",
              "  }\n",
              "\n",
              "  .colab-df-quickchart-complete:disabled,\n",
              "  .colab-df-quickchart-complete:disabled:hover {\n",
              "    background-color: var(--disabled-bg-color);\n",
              "    fill: var(--disabled-fill-color);\n",
              "    box-shadow: none;\n",
              "  }\n",
              "\n",
              "  .colab-df-spinner {\n",
              "    border: 2px solid var(--fill-color);\n",
              "    border-color: transparent;\n",
              "    border-bottom-color: var(--fill-color);\n",
              "    animation:\n",
              "      spin 1s steps(1) infinite;\n",
              "  }\n",
              "\n",
              "  @keyframes spin {\n",
              "    0% {\n",
              "      border-color: transparent;\n",
              "      border-bottom-color: var(--fill-color);\n",
              "      border-left-color: var(--fill-color);\n",
              "    }\n",
              "    20% {\n",
              "      border-color: transparent;\n",
              "      border-left-color: var(--fill-color);\n",
              "      border-top-color: var(--fill-color);\n",
              "    }\n",
              "    30% {\n",
              "      border-color: transparent;\n",
              "      border-left-color: var(--fill-color);\n",
              "      border-top-color: var(--fill-color);\n",
              "      border-right-color: var(--fill-color);\n",
              "    }\n",
              "    40% {\n",
              "      border-color: transparent;\n",
              "      border-right-color: var(--fill-color);\n",
              "      border-top-color: var(--fill-color);\n",
              "    }\n",
              "    60% {\n",
              "      border-color: transparent;\n",
              "      border-right-color: var(--fill-color);\n",
              "    }\n",
              "    80% {\n",
              "      border-color: transparent;\n",
              "      border-right-color: var(--fill-color);\n",
              "      border-bottom-color: var(--fill-color);\n",
              "    }\n",
              "    90% {\n",
              "      border-color: transparent;\n",
              "      border-bottom-color: var(--fill-color);\n",
              "    }\n",
              "  }\n",
              "</style>\n",
              "\n",
              "      <script>\n",
              "        async function quickchart(key) {\n",
              "          const quickchartButtonEl =\n",
              "            document.querySelector('#' + key + ' button');\n",
              "          quickchartButtonEl.disabled = true;  // To prevent multiple clicks.\n",
              "          quickchartButtonEl.classList.add('colab-df-spinner');\n",
              "          try {\n",
              "            const charts = await google.colab.kernel.invokeFunction(\n",
              "                'suggestCharts', [key], {});\n",
              "          } catch (error) {\n",
              "            console.error('Error during call to suggestCharts:', error);\n",
              "          }\n",
              "          quickchartButtonEl.classList.remove('colab-df-spinner');\n",
              "          quickchartButtonEl.classList.add('colab-df-quickchart-complete');\n",
              "        }\n",
              "        (() => {\n",
              "          let quickchartButtonEl =\n",
              "            document.querySelector('#df-cff406c8-1903-4e2c-ac26-02f0d2c5edf4 button');\n",
              "          quickchartButtonEl.style.display =\n",
              "            google.colab.kernel.accessAllowed ? 'block' : 'none';\n",
              "        })();\n",
              "      </script>\n",
              "    </div>\n",
              "\n",
              "    </div>\n",
              "  </div>\n"
            ],
            "application/vnd.google.colaboratory.intrinsic+json": {
              "type": "dataframe",
              "summary": "{\n  \"name\": \"get_ipython()\",\n  \"rows\": 5,\n  \"fields\": [\n    {\n      \"column\": \"target\",\n      \"properties\": {\n        \"dtype\": \"number\",\n        \"std\": 0,\n        \"min\": 0,\n        \"max\": 0,\n        \"num_unique_values\": 1,\n        \"samples\": [\n          0\n        ],\n        \"semantic_type\": \"\",\n        \"description\": \"\"\n      }\n    },\n    {\n      \"column\": \"id\",\n      \"properties\": {\n        \"dtype\": \"number\",\n        \"std\": 351,\n        \"min\": 1467810369,\n        \"max\": 1467811193,\n        \"num_unique_values\": 5,\n        \"samples\": [\n          1467810672\n        ],\n        \"semantic_type\": \"\",\n        \"description\": \"\"\n      }\n    },\n    {\n      \"column\": \"posted_at\",\n      \"properties\": {\n        \"dtype\": \"date\",\n        \"min\": \"2009-04-06 22:19:45-07:00\",\n        \"max\": \"2009-04-06 22:19:57-07:00\",\n        \"num_unique_values\": 4,\n        \"samples\": [\n          \"2009-04-06 22:19:49-07:00\"\n        ],\n        \"semantic_type\": \"\",\n        \"description\": \"\"\n      }\n    },\n    {\n      \"column\": \"posted_by\",\n      \"properties\": {\n        \"dtype\": \"string\",\n        \"num_unique_values\": 5,\n        \"samples\": [\n          \"scotthamilton\"\n        ],\n        \"semantic_type\": \"\",\n        \"description\": \"\"\n      }\n    },\n    {\n      \"column\": \"content\",\n      \"properties\": {\n        \"dtype\": \"string\",\n        \"num_unique_values\": 5,\n        \"samples\": [\n          \"is upset that he can't update his Facebook by texting it... and might cry as a result  School today also. Blah!\"\n        ],\n        \"semantic_type\": \"\",\n        \"description\": \"\"\n      }\n    },\n    {\n      \"column\": \"content_clean\",\n      \"properties\": {\n        \"dtype\": \"string\",\n        \"num_unique_values\": 5,\n        \"samples\": [\n          \"is upset that he cannot update his facebook by texting it and might cry as a result  school today also blah\"\n        ],\n        \"semantic_type\": \"\",\n        \"description\": \"\"\n      }\n    },\n    {\n      \"column\": \"tokenized\",\n      \"properties\": {\n        \"dtype\": \"object\",\n        \"semantic_type\": \"\",\n        \"description\": \"\"\n      }\n    },\n    {\n      \"column\": \"stopwords_removed\",\n      \"properties\": {\n        \"dtype\": \"object\",\n        \"semantic_type\": \"\",\n        \"description\": \"\"\n      }\n    }\n  ]\n}"
            }
          },
          "metadata": {},
          "execution_count": 45
        }
      ],
      "source": [
        "%%time\n",
        "nltk.download(\"stopwords\")\n",
        "\n",
        "stop = set(stopwords.words('english'))\n",
        "tweets_df['stopwords_removed'] = tweets_df['tokenized'].apply(lambda x: [word for word in x if word not in stop])\n",
        "tweets_df.head()"
      ]
    },
    {
      "cell_type": "markdown",
      "metadata": {
        "papermill": {
          "duration": 0.030888,
          "end_time": "2020-08-26T20:59:43.194354",
          "exception": false,
          "start_time": "2020-08-26T20:59:43.163466",
          "status": "completed"
        },
        "tags": [],
        "id": "YnPZrUSL0Qs_"
      },
      "source": [
        "## Étiquetage (POS Tagging)\n",
        "\n",
        "L’étiquetage (*Part of Speech Tagging*, ou POS tagging) consiste à identifier la nature grammaticale de chaque mot dans un texte (nom, verbe, adjectif, etc.)."
      ]
    },
    {
      "cell_type": "code",
      "execution_count": 46,
      "metadata": {
        "execution": {
          "iopub.execute_input": "2020-08-26T20:59:43.267965Z",
          "iopub.status.busy": "2020-08-26T20:59:43.265350Z",
          "iopub.status.idle": "2020-08-26T20:59:49.121684Z",
          "shell.execute_reply": "2020-08-26T20:59:49.120958Z"
        },
        "papermill": {
          "duration": 5.896151,
          "end_time": "2020-08-26T20:59:49.121810",
          "exception": false,
          "start_time": "2020-08-26T20:59:43.225659",
          "status": "completed"
        },
        "scrolled": true,
        "tags": [],
        "id": "_NU5B3om0Qs_",
        "outputId": "77f34d83-112f-470a-e729-cc46e7985622",
        "colab": {
          "base_uri": "https://localhost:8080/"
        }
      },
      "outputs": [
        {
          "output_type": "stream",
          "name": "stderr",
          "text": [
            "[nltk_data] Downloading package wordnet to /root/nltk_data...\n",
            "[nltk_data]   Package wordnet is already up-to-date!\n",
            "[nltk_data] Downloading package brown to /root/nltk_data...\n",
            "[nltk_data]   Package brown is already up-to-date!\n"
          ]
        },
        {
          "output_type": "stream",
          "name": "stdout",
          "text": [
            "CPU times: user 4.55 s, sys: 151 ms, total: 4.71 s\n",
            "Wall time: 4.82 s\n"
          ]
        }
      ],
      "source": [
        "%%time\n",
        "nltk.download('wordnet')\n",
        "nltk.download('brown')\n",
        "wordnet_map = {\"N\":wordnet.NOUN,\n",
        "               \"V\":wordnet.VERB,\n",
        "               \"J\":wordnet.ADJ,\n",
        "               \"R\":wordnet.ADV\n",
        "              }\n",
        "\n",
        "train_sents = brown.tagged_sents(categories='news')\n",
        "t0 = nltk.DefaultTagger('NN')\n",
        "t1 = nltk.UnigramTagger(train_sents, backoff=t0)\n",
        "t2 = nltk.BigramTagger(train_sents, backoff=t1)\n",
        "\n",
        "def pos_tag_wordnet(text, pos_tag_type=\"pos_tag\"):\n",
        "    \"\"\"\n",
        "        Create pos_tag with wordnet format\n",
        "    \"\"\"\n",
        "    pos_tagged_text = t2.tag(text)\n",
        "\n",
        "    # map the pos tagging output with wordnet output\n",
        "    pos_tagged_text = [(word, wordnet_map.get(pos_tag[0])) if pos_tag[0] in wordnet_map.keys() else (word, wordnet.NOUN) for (word, pos_tag) in pos_tagged_text ]\n",
        "    return pos_tagged_text"
      ]
    },
    {
      "cell_type": "code",
      "execution_count": 47,
      "metadata": {
        "execution": {
          "iopub.execute_input": "2020-08-26T20:59:49.193726Z",
          "iopub.status.busy": "2020-08-26T20:59:49.192658Z",
          "iopub.status.idle": "2020-08-26T20:59:49.196338Z",
          "shell.execute_reply": "2020-08-26T20:59:49.196941Z"
        },
        "papermill": {
          "duration": 0.042697,
          "end_time": "2020-08-26T20:59:49.197094",
          "exception": false,
          "start_time": "2020-08-26T20:59:49.154397",
          "status": "completed"
        },
        "scrolled": true,
        "tags": [],
        "id": "SJzBfnYy0Qs_",
        "outputId": "f3737b54-f131-4e4d-947d-c6f745ab6e85",
        "colab": {
          "base_uri": "https://localhost:8080/"
        }
      },
      "outputs": [
        {
          "output_type": "execute_result",
          "data": {
            "text/plain": [
              "[('kenichan', 'n'),\n",
              " ('dived', 'n'),\n",
              " ('many', 'n'),\n",
              " ('times', 'n'),\n",
              " ('ball', 'n'),\n",
              " ('managed', 'v'),\n",
              " ('save', 'v'),\n",
              " ('50', 'n'),\n",
              " ('rest', 'n'),\n",
              " ('go', 'v'),\n",
              " ('bounds', 'n')]"
            ]
          },
          "metadata": {},
          "execution_count": 47
        }
      ],
      "source": [
        "pos_tag_wordnet(tweets_df['stopwords_removed'][2])"
      ]
    },
    {
      "cell_type": "code",
      "execution_count": null,
      "metadata": {
        "execution": {
          "iopub.execute_input": "2020-08-26T20:59:49.286315Z",
          "iopub.status.busy": "2020-08-26T20:59:49.281103Z",
          "iopub.status.idle": "2020-08-26T20:59:49.723385Z",
          "shell.execute_reply": "2020-08-26T20:59:49.722809Z"
        },
        "papermill": {
          "duration": 0.49184,
          "end_time": "2020-08-26T20:59:49.723531",
          "exception": false,
          "start_time": "2020-08-26T20:59:49.231691",
          "status": "completed"
        },
        "tags": [],
        "id": "W42CVqyg0Qs_",
        "outputId": "df8170c3-4d2f-44d7-9a83-a0346a80eac4",
        "colab": {
          "base_uri": "https://localhost:8080/"
        }
      },
      "outputs": [
        {
          "output_type": "stream",
          "name": "stdout",
          "text": [
            "CPU times: user 4 µs, sys: 1 µs, total: 5 µs\n",
            "Wall time: 6.91 µs\n"
          ]
        }
      ],
      "source": [
        "%time\n",
        "\n",
        "tweets_df['combined_postag_wnet'] = tweets_df['stopwords_removed'].apply(lambda x: pos_tag_wordnet(x))\n",
        "\n",
        "tweets_df.head()"
      ]
    },
    {
      "cell_type": "markdown",
      "metadata": {
        "papermill": {
          "duration": 0.031939,
          "end_time": "2020-08-26T20:59:49.787975",
          "exception": false,
          "start_time": "2020-08-26T20:59:49.756036",
          "status": "completed"
        },
        "tags": [],
        "id": "jyz5nU1z0Qs_"
      },
      "source": [
        "## Lemmatization"
      ]
    },
    {
      "cell_type": "code",
      "execution_count": null,
      "metadata": {
        "execution": {
          "iopub.execute_input": "2020-08-26T20:59:49.860347Z",
          "iopub.status.busy": "2020-08-26T20:59:49.859397Z",
          "iopub.status.idle": "2020-08-26T20:59:49.862339Z",
          "shell.execute_reply": "2020-08-26T20:59:49.861774Z"
        },
        "papermill": {
          "duration": 0.041889,
          "end_time": "2020-08-26T20:59:49.862484",
          "exception": false,
          "start_time": "2020-08-26T20:59:49.820595",
          "status": "completed"
        },
        "scrolled": true,
        "tags": [],
        "id": "8DTgMYqd0Qs_"
      },
      "outputs": [],
      "source": [
        "from nltk.stem import WordNetLemmatizer\n",
        "\n",
        "def lemmatize_word(text):\n",
        "    \"\"\"\n",
        "        Lemmatize the tokenized words\n",
        "    \"\"\"\n",
        "\n",
        "    lemmatizer = WordNetLemmatizer()\n",
        "    lemma = [lemmatizer.lemmatize(word, tag) for word, tag in text]\n",
        "    return lemma"
      ]
    },
    {
      "cell_type": "markdown",
      "metadata": {
        "papermill": {
          "duration": 0.032579,
          "end_time": "2020-08-26T20:59:49.927664",
          "exception": false,
          "start_time": "2020-08-26T20:59:49.895085",
          "status": "completed"
        },
        "tags": [],
        "id": "2VGnRzDq0QtA"
      },
      "source": [
        "### Lemmatization sans POS Tagging:"
      ]
    },
    {
      "cell_type": "code",
      "execution_count": null,
      "metadata": {
        "execution": {
          "iopub.execute_input": "2020-08-26T20:59:50.024510Z",
          "iopub.status.busy": "2020-08-26T20:59:50.001134Z",
          "iopub.status.idle": "2020-08-26T20:59:50.609857Z",
          "shell.execute_reply": "2020-08-26T20:59:50.609119Z"
        },
        "papermill": {
          "duration": 0.649858,
          "end_time": "2020-08-26T20:59:50.609981",
          "exception": false,
          "start_time": "2020-08-26T20:59:49.960123",
          "status": "completed"
        },
        "tags": [],
        "id": "oZkhUmqh0QtA"
      },
      "outputs": [],
      "source": [
        "%time\n",
        "\n",
        "lemmatizer = WordNetLemmatizer()\n",
        "\n",
        "tweets_df['lemmatize_word_wo_pos'] = tweets_df['stopwords_removed'].apply(lambda x: [lemmatizer.lemmatize(word) for word in x])\n",
        "tweets_df.head()"
      ]
    },
    {
      "cell_type": "code",
      "execution_count": null,
      "metadata": {
        "execution": {
          "iopub.execute_input": "2020-08-26T20:59:50.684271Z",
          "iopub.status.busy": "2020-08-26T20:59:50.683165Z",
          "iopub.status.idle": "2020-08-26T20:59:50.688194Z",
          "shell.execute_reply": "2020-08-26T20:59:50.687101Z"
        },
        "papermill": {
          "duration": 0.044418,
          "end_time": "2020-08-26T20:59:50.688323",
          "exception": false,
          "start_time": "2020-08-26T20:59:50.643905",
          "status": "completed"
        },
        "scrolled": true,
        "tags": [],
        "id": "GJ1kvp6h0QtA"
      },
      "outputs": [],
      "source": [
        "print(tweets_df[\"combined_postag_wnet\"][29])\n",
        "print(tweets_df[\"lemmatize_word_wo_pos\"][29])"
      ]
    },
    {
      "cell_type": "markdown",
      "metadata": {
        "papermill": {
          "duration": 0.033049,
          "end_time": "2020-08-26T20:59:50.755268",
          "exception": false,
          "start_time": "2020-08-26T20:59:50.722219",
          "status": "completed"
        },
        "tags": [],
        "id": "9yHkM90q0QtA"
      },
      "source": [
        "### Lemmatization avec POS Tagging:"
      ]
    },
    {
      "cell_type": "code",
      "execution_count": null,
      "metadata": {
        "execution": {
          "iopub.execute_input": "2020-08-26T20:59:50.844382Z",
          "iopub.status.busy": "2020-08-26T20:59:50.830191Z",
          "iopub.status.idle": "2020-08-26T20:59:51.477838Z",
          "shell.execute_reply": "2020-08-26T20:59:51.477130Z"
        },
        "papermill": {
          "duration": 0.689579,
          "end_time": "2020-08-26T20:59:51.477965",
          "exception": false,
          "start_time": "2020-08-26T20:59:50.788386",
          "status": "completed"
        },
        "tags": [],
        "id": "NaKQ_B_r0QtA"
      },
      "outputs": [],
      "source": [
        "%time\n",
        "\n",
        "lemmatizer = WordNetLemmatizer()\n",
        "\n",
        "tweets_df['lemmatize_word_w_pos'] = tweets_df['combined_postag_wnet'].apply(lambda x: lemmatize_word(x))\n",
        "tweets_df['lemmatize_text'] = [' '.join(map(str, l)) for l in tweets_df['lemmatize_word_w_pos']]\n",
        "tweets_df.head()"
      ]
    },
    {
      "cell_type": "code",
      "execution_count": null,
      "metadata": {
        "execution": {
          "iopub.execute_input": "2020-08-26T20:59:51.621662Z",
          "iopub.status.busy": "2020-08-26T20:59:51.620730Z",
          "iopub.status.idle": "2020-08-26T20:59:51.625895Z",
          "shell.execute_reply": "2020-08-26T20:59:51.625054Z"
        },
        "papermill": {
          "duration": 0.046845,
          "end_time": "2020-08-26T20:59:51.626059",
          "exception": false,
          "start_time": "2020-08-26T20:59:51.579214",
          "status": "completed"
        },
        "tags": [],
        "id": "eR1R1pMT0QtB"
      },
      "outputs": [],
      "source": [
        "print(tweets_df[\"content\"][8])\n",
        "print(tweets_df[\"combined_postag_wnet\"][8])\n",
        "print(tweets_df[\"lemmatize_word_wo_pos\"][8])\n",
        "print(tweets_df[\"lemmatize_word_w_pos\"][8])"
      ]
    },
    {
      "cell_type": "markdown",
      "metadata": {
        "papermill": {
          "duration": 0.03355,
          "end_time": "2020-08-26T20:59:51.694091",
          "exception": false,
          "start_time": "2020-08-26T20:59:51.660541",
          "status": "completed"
        },
        "tags": [],
        "id": "phJW6SOR0QtB"
      },
      "source": [
        "Comparison between original text and the lammatized text:"
      ]
    },
    {
      "cell_type": "code",
      "execution_count": null,
      "metadata": {
        "execution": {
          "iopub.execute_input": "2020-08-26T20:59:51.772881Z",
          "iopub.status.busy": "2020-08-26T20:59:51.771976Z",
          "iopub.status.idle": "2020-08-26T20:59:51.791431Z",
          "shell.execute_reply": "2020-08-26T20:59:51.790716Z"
        },
        "papermill": {
          "duration": 0.061663,
          "end_time": "2020-08-26T20:59:51.791558",
          "exception": false,
          "start_time": "2020-08-26T20:59:51.729895",
          "status": "completed"
        },
        "tags": [],
        "id": "i-nO0lFE0QtB"
      },
      "outputs": [],
      "source": [
        "display(tweets_df[\"content\"][0], tweets_df[\"lemmatize_text\"][0])"
      ]
    },
    {
      "cell_type": "markdown",
      "metadata": {
        "papermill": {
          "duration": 0.052555,
          "end_time": "2020-08-26T21:02:08.495911",
          "exception": false,
          "start_time": "2020-08-26T21:02:08.443356",
          "status": "completed"
        },
        "tags": [],
        "id": "ab_k8sVZ0QtC"
      },
      "source": [
        "# Extraction des Features texte\n",
        "\n"
      ]
    },
    {
      "cell_type": "markdown",
      "source": [
        "## BOW - CountVectorizer"
      ],
      "metadata": {
        "id": "43s8xPU7wG-F"
      }
    },
    {
      "cell_type": "code",
      "execution_count": null,
      "metadata": {
        "execution": {
          "iopub.execute_input": "2020-08-26T21:02:08.611153Z",
          "iopub.status.busy": "2020-08-26T21:02:08.610433Z",
          "iopub.status.idle": "2020-08-26T21:02:08.614145Z",
          "shell.execute_reply": "2020-08-26T21:02:08.613462Z"
        },
        "papermill": {
          "duration": 0.065048,
          "end_time": "2020-08-26T21:02:08.614268",
          "exception": false,
          "start_time": "2020-08-26T21:02:08.549220",
          "status": "completed"
        },
        "scrolled": true,
        "tags": [],
        "id": "cPOultBv0QtC"
      },
      "outputs": [],
      "source": [
        "from sklearn.feature_extraction.text import CountVectorizer\n",
        "\n",
        "def cv(data, ngram = 1, MAX_NB_WORDS = 75000):\n",
        "    count_vectorizer = CountVectorizer(ngram_range = (ngram, ngram), max_features = MAX_NB_WORDS)\n",
        "    emb = count_vectorizer.fit_transform(data).toarray()\n",
        "    print(\"count vectorize with\", str(np.array(emb).shape[1]), \"features\")\n",
        "    return emb, count_vectorizer"
      ]
    },
    {
      "cell_type": "code",
      "execution_count": null,
      "metadata": {
        "execution": {
          "iopub.execute_input": "2020-08-26T21:02:08.731407Z",
          "iopub.status.busy": "2020-08-26T21:02:08.730612Z",
          "iopub.status.idle": "2020-08-26T21:02:08.734107Z",
          "shell.execute_reply": "2020-08-26T21:02:08.733351Z"
        },
        "papermill": {
          "duration": 0.066357,
          "end_time": "2020-08-26T21:02:08.734232",
          "exception": false,
          "start_time": "2020-08-26T21:02:08.667875",
          "status": "completed"
        },
        "tags": [],
        "id": "J26dGdBr0QtC"
      },
      "outputs": [],
      "source": [
        "def print_out(emb, feat, ngram, compared_sentence=0):\n",
        "    print(ngram,\"bag-of-words: \")\n",
        "    print(feat.get_feature_names_out(), \"\\n\")\n",
        "    print(ngram,\"bag-of-feature: \")\n",
        "    print(test_cv_1gram.vocabulary_, \"\\n\")\n",
        "    print(\"BoW matrix:\")\n",
        "    print(pd.DataFrame(emb.transpose(), index = feat.get_feature_names_out()).head(), \"\\n\")\n",
        "    print(ngram,\"vector example:\")\n",
        "    print(tweets_df[\"lemmatize_text\"][compared_sentence])\n",
        "    print(emb[compared_sentence], \"\\n\")"
      ]
    },
    {
      "cell_type": "code",
      "execution_count": null,
      "metadata": {
        "execution": {
          "iopub.execute_input": "2020-08-26T21:02:08.860262Z",
          "iopub.status.busy": "2020-08-26T21:02:08.859481Z",
          "iopub.status.idle": "2020-08-26T21:02:08.864360Z",
          "shell.execute_reply": "2020-08-26T21:02:08.862958Z"
        },
        "papermill": {
          "duration": 0.077238,
          "end_time": "2020-08-26T21:02:08.864571",
          "exception": false,
          "start_time": "2020-08-26T21:02:08.787333",
          "status": "completed"
        },
        "tags": [],
        "id": "e8emoBF80QtD"
      },
      "outputs": [],
      "source": [
        "test_corpus = tweets_df[\"lemmatize_text\"][:5].tolist()\n",
        "print(\"The test corpus: \", test_corpus, \"\\n\")\n",
        "\n",
        "test_cv_em_1gram, test_cv_1gram = cv(test_corpus, ngram=1)\n",
        "print_out(test_cv_em_1gram, test_cv_1gram, ngram=\"Uni-gram\")"
      ]
    },
    {
      "cell_type": "code",
      "execution_count": null,
      "metadata": {
        "execution": {
          "iopub.execute_input": "2020-08-26T21:02:08.982614Z",
          "iopub.status.busy": "2020-08-26T21:02:08.977919Z",
          "iopub.status.idle": "2020-08-26T21:02:08.989102Z",
          "shell.execute_reply": "2020-08-26T21:02:08.988184Z"
        },
        "papermill": {
          "duration": 0.070954,
          "end_time": "2020-08-26T21:02:08.989286",
          "exception": false,
          "start_time": "2020-08-26T21:02:08.918332",
          "status": "completed"
        },
        "tags": [],
        "id": "Qr406kTd0QtD"
      },
      "outputs": [],
      "source": [
        "test_cv_em_2gram, test_cv_2gram = cv(test_corpus, ngram=2)\n",
        "print_out(test_cv_em_2gram, test_cv_2gram, ngram=\"Bi-gram\")"
      ]
    },
    {
      "cell_type": "code",
      "execution_count": null,
      "metadata": {
        "execution": {
          "iopub.execute_input": "2020-08-26T21:02:09.108709Z",
          "iopub.status.busy": "2020-08-26T21:02:09.107799Z",
          "iopub.status.idle": "2020-08-26T21:02:09.113114Z",
          "shell.execute_reply": "2020-08-26T21:02:09.111755Z"
        },
        "papermill": {
          "duration": 0.070342,
          "end_time": "2020-08-26T21:02:09.113297",
          "exception": false,
          "start_time": "2020-08-26T21:02:09.042955",
          "status": "completed"
        },
        "tags": [],
        "id": "3QxXTd6F0QtD"
      },
      "outputs": [],
      "source": [
        "test_cv_em_3gram, test_cv_3gram = cv(test_corpus, ngram=3)\n",
        "print_out(test_cv_em_2gram, test_cv_2gram, ngram=\"Tri-gram\")"
      ]
    },
    {
      "cell_type": "code",
      "execution_count": null,
      "metadata": {
        "execution": {
          "iopub.execute_input": "2020-08-26T21:02:09.239045Z",
          "iopub.status.busy": "2020-08-26T21:02:09.233848Z",
          "iopub.status.idle": "2020-08-26T21:02:14.965474Z",
          "shell.execute_reply": "2020-08-26T21:02:14.966268Z"
        },
        "papermill": {
          "duration": 5.798687,
          "end_time": "2020-08-26T21:02:14.966512",
          "exception": false,
          "start_time": "2020-08-26T21:02:09.167825",
          "status": "completed"
        },
        "scrolled": true,
        "tags": [],
        "id": "LwnmwpUA0QtD"
      },
      "outputs": [],
      "source": [
        "%time\n",
        "\n",
        "# implementation dans tous le dataset\n",
        "tweets_df_corpus = tweets_df[\"lemmatize_text\"].tolist()\n",
        "tweets_df_em_1gram, vc_1gram = cv(tweets_df_corpus, 1)\n",
        "tweets_df_em_2gram, vc_2gram = cv(tweets_df_corpus, 2)\n",
        "tweets_df_em_3gram, vc_3gram = cv(tweets_df_corpus, 3)\n",
        "\n",
        "print(len(tweets_df_corpus))\n",
        "print(tweets_df_em_1gram.shape)\n",
        "print(tweets_df_em_2gram.shape)\n",
        "print(tweets_df_em_3gram.shape)"
      ]
    },
    {
      "cell_type": "code",
      "execution_count": null,
      "metadata": {
        "execution": {
          "iopub.execute_input": "2020-08-26T21:02:15.126103Z",
          "iopub.status.busy": "2020-08-26T21:02:15.125320Z",
          "iopub.status.idle": "2020-08-26T21:02:15.128920Z",
          "shell.execute_reply": "2020-08-26T21:02:15.128157Z"
        },
        "papermill": {
          "duration": 0.106775,
          "end_time": "2020-08-26T21:02:15.129050",
          "exception": false,
          "start_time": "2020-08-26T21:02:15.022275",
          "status": "completed"
        },
        "tags": [],
        "id": "QXIxZmNC0QtD"
      },
      "outputs": [],
      "source": [
        "del train_df_em_1gram, train_df_em_2gram, train_df_em_3gram"
      ]
    },
    {
      "cell_type": "markdown",
      "metadata": {
        "papermill": {
          "duration": 0.053796,
          "end_time": "2020-08-26T21:02:15.238106",
          "exception": false,
          "start_time": "2020-08-26T21:02:15.184310",
          "status": "completed"
        },
        "tags": [],
        "id": "pBko8zb70QtD"
      },
      "source": [
        "### Term Frequency-Inverse Document Frequency (TF-IDF)"
      ]
    },
    {
      "cell_type": "code",
      "execution_count": null,
      "metadata": {
        "execution": {
          "iopub.execute_input": "2020-08-26T21:02:15.380341Z",
          "iopub.status.busy": "2020-08-26T21:02:15.379160Z",
          "iopub.status.idle": "2020-08-26T21:02:15.388886Z",
          "shell.execute_reply": "2020-08-26T21:02:15.387964Z"
        },
        "papermill": {
          "duration": 0.086785,
          "end_time": "2020-08-26T21:02:15.389068",
          "exception": false,
          "start_time": "2020-08-26T21:02:15.302283",
          "status": "completed"
        },
        "scrolled": true,
        "tags": [],
        "id": "st157Cql0QtE"
      },
      "outputs": [],
      "source": [
        "from sklearn.feature_extraction.text import TfidfVectorizer\n",
        "\n",
        "def TFIDF(data, ngram = 1, MAX_NB_WORDS = 75000):\n",
        "    tfidf_x = TfidfVectorizer(ngram_range = (ngram, ngram), max_features = MAX_NB_WORDS)\n",
        "    emb = tfidf_x.fit_transform(data).toarray()\n",
        "    print(\"tf-idf with\", str(np.array(emb).shape[1]), \"features\")\n",
        "    return emb, tfidf_x"
      ]
    },
    {
      "cell_type": "code",
      "execution_count": null,
      "metadata": {
        "execution": {
          "iopub.execute_input": "2020-08-26T21:02:15.519784Z",
          "iopub.status.busy": "2020-08-26T21:02:15.513571Z",
          "iopub.status.idle": "2020-08-26T21:02:15.532409Z",
          "shell.execute_reply": "2020-08-26T21:02:15.533348Z"
        },
        "papermill": {
          "duration": 0.081297,
          "end_time": "2020-08-26T21:02:15.533559",
          "exception": false,
          "start_time": "2020-08-26T21:02:15.452262",
          "status": "completed"
        },
        "tags": [],
        "id": "pKEPKEQO0QtE",
        "outputId": "441621bb-e0d1-47fa-9b6e-aa95c027afaf"
      },
      "outputs": [
        {
          "name": "stdout",
          "output_type": "stream",
          "text": [
            "The test corpus:  ['deed reason earthquake may allah forgive u', 'forest fire near la ronge sask canada', 'resident ask shelter place notified officer evacuation shelter place order expect', '13000 people receive wildfire evacuation order california', 'get send photo ruby alaska smoke wildfire pours school'] \n",
            "\n",
            "tf-idf with 35 features\n",
            "Uni-gram bag-of-words: \n",
            "['13000', 'alaska', 'allah', 'ask', 'california', 'canada', 'deed', 'earthquake', 'evacuation', 'expect', 'fire', 'forest', 'forgive', 'get', 'la', 'may', 'near', 'notified', 'officer', 'order', 'people', 'photo', 'place', 'pours', 'reason', 'receive', 'resident', 'ronge', 'ruby', 'sask', 'school', 'send', 'shelter', 'smoke', 'wildfire'] \n",
            "\n",
            "Uni-gram bag-of-feature: \n",
            "{'deed': 6, 'reason': 24, 'earthquake': 7, 'may': 15, 'allah': 2, 'forgive': 12, 'forest': 11, 'fire': 10, 'near': 16, 'la': 14, 'ronge': 27, 'sask': 29, 'canada': 5, 'resident': 26, 'ask': 3, 'shelter': 32, 'place': 22, 'notified': 17, 'officer': 18, 'evacuation': 8, 'order': 19, 'expect': 9, '13000': 0, 'people': 20, 'receive': 25, 'wildfire': 34, 'california': 4, 'get': 13, 'send': 31, 'photo': 21, 'ruby': 28, 'alaska': 1, 'smoke': 33, 'pours': 23, 'school': 30} \n",
            "\n",
            "BoW matrix:\n",
            "                   0    1         2         3         4\n",
            "13000       0.000000  0.0  0.000000  0.409865  0.000000\n",
            "alaska      0.000000  0.0  0.000000  0.000000  0.339992\n",
            "allah       0.408248  0.0  0.000000  0.000000  0.000000\n",
            "ask         0.000000  0.0  0.264426  0.000000  0.000000\n",
            "california  0.000000  0.0  0.000000  0.409865  0.000000 \n",
            "\n",
            "Uni-gram vector example:\n",
            "deed reason earthquake may allah forgive u\n",
            "[0.         0.         0.40824829 0.         0.         0.\n",
            " 0.40824829 0.40824829 0.         0.         0.         0.\n",
            " 0.40824829 0.         0.         0.40824829 0.         0.\n",
            " 0.         0.         0.         0.         0.         0.\n",
            " 0.40824829 0.         0.         0.         0.         0.\n",
            " 0.         0.         0.         0.         0.        ] \n",
            "\n"
          ]
        }
      ],
      "source": [
        "test_corpus = tweets_df[\"lemmatize_text\"][:5].tolist()\n",
        "print(\"The test corpus: \", test_corpus, \"\\n\")\n",
        "\n",
        "test_tfidf_em_1gram, test_tfidf_1gram = TFIDF(test_corpus, ngram=1)\n",
        "print_out(test_tfidf_em_1gram, test_tfidf_1gram, ngram=\"Uni-gram\")"
      ]
    },
    {
      "cell_type": "code",
      "execution_count": null,
      "metadata": {
        "execution": {
          "iopub.execute_input": "2020-08-26T21:02:15.657063Z",
          "iopub.status.busy": "2020-08-26T21:02:15.656288Z",
          "iopub.status.idle": "2020-08-26T21:02:15.665188Z",
          "shell.execute_reply": "2020-08-26T21:02:15.664552Z"
        },
        "papermill": {
          "duration": 0.07682,
          "end_time": "2020-08-26T21:02:15.665328",
          "exception": false,
          "start_time": "2020-08-26T21:02:15.588508",
          "status": "completed"
        },
        "tags": [],
        "id": "_wRSn7SG0QtE",
        "outputId": "7ecb9b0d-55f7-4d81-98da-62f44876969f"
      },
      "outputs": [
        {
          "name": "stdout",
          "output_type": "stream",
          "text": [
            "tf-idf with 34 features\n",
            "Bi-gram bag-of-words: \n",
            "['13000 people', 'alaska smoke', 'allah forgive', 'ask shelter', 'deed reason', 'earthquake may', 'evacuation order', 'evacuation shelter', 'fire near', 'forest fire', 'get send', 'la ronge', 'may allah', 'near la', 'notified officer', 'officer evacuation', 'order california', 'order expect', 'people receive', 'photo ruby', 'place notified', 'place order', 'pours school', 'reason earthquake', 'receive wildfire', 'resident ask', 'ronge sask', 'ruby alaska', 'sask canada', 'send photo', 'shelter place', 'smoke wildfire', 'wildfire evacuation', 'wildfire pours'] \n",
            "\n",
            "Bi-gram bag-of-feature: \n",
            "{'deed': 6, 'reason': 24, 'earthquake': 7, 'may': 15, 'allah': 2, 'forgive': 12, 'forest': 11, 'fire': 10, 'near': 16, 'la': 14, 'ronge': 27, 'sask': 29, 'canada': 5, 'resident': 26, 'ask': 3, 'shelter': 32, 'place': 22, 'notified': 17, 'officer': 18, 'evacuation': 8, 'order': 19, 'expect': 9, '13000': 0, 'people': 20, 'receive': 25, 'wildfire': 34, 'california': 4, 'get': 13, 'send': 31, 'photo': 21, 'ruby': 28, 'alaska': 1, 'smoke': 33, 'pours': 23, 'school': 30} \n",
            "\n",
            "BoW matrix:\n",
            "                      0    1         2         3         4\n",
            "13000 people   0.000000  0.0  0.000000  0.408248  0.000000\n",
            "alaska smoke   0.000000  0.0  0.000000  0.000000  0.353553\n",
            "allah forgive  0.447214  0.0  0.000000  0.000000  0.000000\n",
            "ask shelter    0.000000  0.0  0.288675  0.000000  0.000000\n",
            "deed reason    0.447214  0.0  0.000000  0.000000  0.000000 \n",
            "\n",
            "Bi-gram vector example:\n",
            "deed reason earthquake may allah forgive u\n",
            "[0.        0.        0.4472136 0.        0.4472136 0.4472136 0.\n",
            " 0.        0.        0.        0.        0.        0.4472136 0.\n",
            " 0.        0.        0.        0.        0.        0.        0.\n",
            " 0.        0.        0.4472136 0.        0.        0.        0.\n",
            " 0.        0.        0.        0.        0.        0.       ] \n",
            "\n"
          ]
        }
      ],
      "source": [
        "test_tfidf_em_2gram, test_tfidf_2gram = TFIDF(test_corpus, ngram=2)\n",
        "print_out(test_tfidf_em_2gram, test_tfidf_2gram, ngram=\"Bi-gram\")"
      ]
    },
    {
      "cell_type": "code",
      "execution_count": null,
      "metadata": {
        "execution": {
          "iopub.execute_input": "2020-08-26T21:02:15.788716Z",
          "iopub.status.busy": "2020-08-26T21:02:15.787668Z",
          "iopub.status.idle": "2020-08-26T21:02:15.792085Z",
          "shell.execute_reply": "2020-08-26T21:02:15.792960Z"
        },
        "papermill": {
          "duration": 0.073328,
          "end_time": "2020-08-26T21:02:15.793184",
          "exception": false,
          "start_time": "2020-08-26T21:02:15.719856",
          "status": "completed"
        },
        "tags": [],
        "id": "fLsASzHj0QtE",
        "outputId": "9f884844-5b1b-4e53-9820-786994f7b903"
      },
      "outputs": [
        {
          "name": "stdout",
          "output_type": "stream",
          "text": [
            "tf-idf with 30 features\n",
            "Tri-gram bag-of-words: \n",
            "['13000 people receive', 'alaska smoke wildfire', 'ask shelter place', 'deed reason earthquake', 'earthquake may allah', 'evacuation order california', 'evacuation shelter place', 'fire near la', 'forest fire near', 'get send photo', 'la ronge sask', 'may allah forgive', 'near la ronge', 'notified officer evacuation', 'officer evacuation shelter', 'people receive wildfire', 'photo ruby alaska', 'place notified officer', 'place order expect', 'reason earthquake may', 'receive wildfire evacuation', 'resident ask shelter', 'ronge sask canada', 'ruby alaska smoke', 'send photo ruby', 'shelter place notified', 'shelter place order', 'smoke wildfire pours', 'wildfire evacuation order', 'wildfire pours school'] \n",
            "\n",
            "Tri-gram bag-of-feature: \n",
            "{'deed': 6, 'reason': 24, 'earthquake': 7, 'may': 15, 'allah': 2, 'forgive': 12, 'forest': 11, 'fire': 10, 'near': 16, 'la': 14, 'ronge': 27, 'sask': 29, 'canada': 5, 'resident': 26, 'ask': 3, 'shelter': 32, 'place': 22, 'notified': 17, 'officer': 18, 'evacuation': 8, 'order': 19, 'expect': 9, '13000': 0, 'people': 20, 'receive': 25, 'wildfire': 34, 'california': 4, 'get': 13, 'send': 31, 'photo': 21, 'ruby': 28, 'alaska': 1, 'smoke': 33, 'pours': 23, 'school': 30} \n",
            "\n",
            "BoW matrix:\n",
            "                          0    1         2         3         4\n",
            "13000 people receive    0.0  0.0  0.000000  0.447214  0.000000\n",
            "alaska smoke wildfire   0.0  0.0  0.000000  0.000000  0.377964\n",
            "ask shelter place       0.0  0.0  0.333333  0.000000  0.000000\n",
            "deed reason earthquake  0.5  0.0  0.000000  0.000000  0.000000\n",
            "earthquake may allah    0.5  0.0  0.000000  0.000000  0.000000 \n",
            "\n",
            "Tri-gram vector example:\n",
            "deed reason earthquake may allah forgive u\n",
            "[0.  0.  0.  0.5 0.5 0.  0.  0.  0.  0.  0.  0.5 0.  0.  0.  0.  0.  0.\n",
            " 0.  0.5 0.  0.  0.  0.  0.  0.  0.  0.  0.  0. ] \n",
            "\n"
          ]
        }
      ],
      "source": [
        "test_tfidf_em_3gram, test_tfidf_3gram = TFIDF(test_corpus, ngram=3)\n",
        "print_out(test_tfidf_em_3gram, test_tfidf_3gram, ngram=\"Tri-gram\")"
      ]
    },
    {
      "cell_type": "code",
      "execution_count": null,
      "metadata": {
        "execution": {
          "iopub.execute_input": "2020-08-26T21:02:15.924180Z",
          "iopub.status.busy": "2020-08-26T21:02:15.917210Z",
          "iopub.status.idle": "2020-08-26T21:02:21.443169Z",
          "shell.execute_reply": "2020-08-26T21:02:21.444246Z"
        },
        "papermill": {
          "duration": 5.593389,
          "end_time": "2020-08-26T21:02:21.444443",
          "exception": false,
          "start_time": "2020-08-26T21:02:15.851054",
          "status": "completed"
        },
        "scrolled": true,
        "tags": [],
        "id": "WKLKkF9H0QtE",
        "outputId": "5de11627-6d17-4f4d-edce-6207a87b99ce"
      },
      "outputs": [
        {
          "name": "stdout",
          "output_type": "stream",
          "text": [
            "CPU times: user 4 µs, sys: 0 ns, total: 4 µs\n",
            "Wall time: 8.34 µs\n",
            "tf-idf with 15527 features\n",
            "tf-idf with 45570 features\n",
            "tf-idf with 43751 features\n",
            "7613\n",
            "(7613, 15527)\n",
            "(7613, 15527)\n",
            "(7613, 15527)\n"
          ]
        }
      ],
      "source": [
        "%time\n",
        "\n",
        "# implement into the whole dataset\n",
        "train_df_corpus = train_df[\"lemmatize_text\"].tolist()\n",
        "train_df_tfidf_1gram, tfidf_1gram = TFIDF(train_df_corpus, 1)\n",
        "train_df_tfidf_2gram, tfidf_2gram = TFIDF(train_df_corpus, 2)\n",
        "train_df_tfidf_3gram, tfidf_3gram = TFIDF(train_df_corpus, 3)\n",
        "\n",
        "print(len(train_df_corpus))\n",
        "print(train_df_tfidf_1gram.shape)\n",
        "print(train_df_tfidf_1gram.shape)\n",
        "print(train_df_tfidf_1gram.shape)"
      ]
    },
    {
      "cell_type": "code",
      "execution_count": null,
      "metadata": {
        "execution": {
          "iopub.execute_input": "2020-08-26T21:02:21.605633Z",
          "iopub.status.busy": "2020-08-26T21:02:21.572487Z",
          "iopub.status.idle": "2020-08-26T21:02:21.609940Z",
          "shell.execute_reply": "2020-08-26T21:02:21.609158Z"
        },
        "papermill": {
          "duration": 0.108425,
          "end_time": "2020-08-26T21:02:21.610076",
          "exception": false,
          "start_time": "2020-08-26T21:02:21.501651",
          "status": "completed"
        },
        "tags": [],
        "id": "UiSCoLXp0QtE"
      },
      "outputs": [],
      "source": [
        "del train_df_tfidf_1gram, train_df_tfidf_2gram, train_df_tfidf_3gram"
      ]
    },
    {
      "cell_type": "markdown",
      "metadata": {
        "papermill": {
          "duration": 0.054799,
          "end_time": "2020-08-26T21:02:21.720069",
          "exception": false,
          "start_time": "2020-08-26T21:02:21.665270",
          "status": "completed"
        },
        "tags": [],
        "id": "8fTGq3zK0QtF"
      },
      "source": [
        "<a id=\"Word_Embedding\"></a>\n",
        "\n",
        "## Word Embedding:\n",
        "\n",
        "> **Word vectors** are numerical vector representations of word semantics, or meaning, including literal and implied meaning. So word vectors can capture the connotation of words, like “peopleness,” “animalness,” “placeness,” “thingness,” and even “conceptness.” And they combine all that into a dense vector (no zeros) of floating point values. This dense vector enables queries and logical reasoning.\n",
        "\n",
        "(source: [Natural Language Processing in Action](https://www.manning.com/books/natural-language-processing-in-action))\n",
        "\n",
        "> Even though we have syntactic word representations, it does not mean that the model captures the semantics meaning of the words. On the other hand, bag-of-word models do not respect the semantics of the word. For example, words “airplane”, “aeroplane”, “plane”, and “aircraft” are often used in the same context. However, the vectors corresponding to these words are orthogonal in the bag-of-words model. This issue presents a serious problem to understanding sentences within the model. The other problem in the bag-of-word is that the order of words in the phrase is not respected. The n-gram does not solve this problem so a similarity needs to be found for each word in the sentence. Many researchers worked on word embedding to solve this problem. The Word2Vec propose a simple single-layer architecture based on the inner product between two word vectors.\n",
        "\n",
        "> Word embedding is a feature learning technique in which each word or phrase from the vocabulary is mapped to a N dimension vector of real numbers. Various word embedding methods have been proposed to translate unigrams into understandable input for machine learning algorithms. This work focuses on Word2Vec, GloVe, and FastText, three of the most common methods that have been successfully used for deep learning techniques.\n",
        "\n",
        "(source: [Text Classification Algorithms: A Survey](https://arxiv.org/abs/1904.08067))\n",
        "\n",
        "<a id=\"Basic_Word_Embedding\"></a>\n",
        "### Basic Word Embedding Methods:\n",
        "\n",
        "<a id=\"Word2Vec\"></a>\n",
        "#### Word2Vec:\n",
        "\n",
        "[T. Mikolov et al.](https://papers.nips.cc/paper/5021-distributed-representations-of-words-and-phrases-and-their-compositionality.pdf) presented the Word2vec in 2013, which learns the meaning of words merely by processing a large corpus of unlabeled text. The Word2Vec approach uses shallow neural networks with two hidden layers, continuous bag-of-words (CBOW), and the Skip-gram model to create a high dimension vector for each word. This unsupervised nature of Word2vec is what makes it so powerful. The world is full of unlabeled, uncategorized, unstructured natural language text.\n",
        "\n",
        "We will implement the Word2vec via gensim libary with the pre-trained word vectors on the dataset Google News corpus (source: https://code.google.com/archive/p/word2vec/) and see the embedding output on the sample sentence from the our dataset.\n",
        "\n",
        "[Back To Table of Contents](#top_section)"
      ]
    },
    {
      "cell_type": "code",
      "execution_count": null,
      "metadata": {
        "execution": {
          "iopub.execute_input": "2020-08-26T21:02:21.839807Z",
          "iopub.status.busy": "2020-08-26T21:02:21.838848Z",
          "iopub.status.idle": "2020-08-26T21:02:24.605009Z",
          "shell.execute_reply": "2020-08-26T21:02:24.604167Z"
        },
        "papermill": {
          "duration": 2.829854,
          "end_time": "2020-08-26T21:02:24.605143",
          "exception": false,
          "start_time": "2020-08-26T21:02:21.775289",
          "status": "completed"
        },
        "scrolled": true,
        "tags": [],
        "id": "qegrQ9NE0QtF",
        "outputId": "ee8aa9f2-d500-4743-9068-c36ca8e2e670"
      },
      "outputs": [
        {
          "name": "stdout",
          "output_type": "stream",
          "text": [
            "CPU times: user 3 µs, sys: 1 µs, total: 4 µs\n",
            "Wall time: 7.87 µs\n",
            "gensim version: 3.8.3\n"
          ]
        }
      ],
      "source": [
        "%time\n",
        "\n",
        "import gensim\n",
        "print(\"gensim version:\", gensim.__version__)\n",
        "\n",
        "word2vec_path = \"../input/googlenewsvectorsnegative300/GoogleNews-vectors-negative300.bin\"\n",
        "\n",
        "# we only load 200k most common words from Google News corpus\n",
        "word2vec_model = gensim.models.KeyedVectors.load_word2vec_format(word2vec_path, binary=True, limit=200000)"
      ]
    },
    {
      "cell_type": "markdown",
      "metadata": {
        "papermill": {
          "duration": 0.054763,
          "end_time": "2020-08-26T21:02:24.714993",
          "exception": false,
          "start_time": "2020-08-26T21:02:24.660230",
          "status": "completed"
        },
        "tags": [],
        "id": "uBQaejpM0QtF"
      },
      "source": [
        "Compare the similarity between \"cat\" vs. \"kitten\" and \"cat\" vs. \"cats\""
      ]
    },
    {
      "cell_type": "code",
      "execution_count": null,
      "metadata": {
        "execution": {
          "iopub.execute_input": "2020-08-26T21:02:24.834171Z",
          "iopub.status.busy": "2020-08-26T21:02:24.832986Z",
          "iopub.status.idle": "2020-08-26T21:02:24.839127Z",
          "shell.execute_reply": "2020-08-26T21:02:24.838146Z"
        },
        "papermill": {
          "duration": 0.069253,
          "end_time": "2020-08-26T21:02:24.839312",
          "exception": false,
          "start_time": "2020-08-26T21:02:24.770059",
          "status": "completed"
        },
        "tags": [],
        "id": "BInl8P9-0QtF",
        "outputId": "7c13d3a4-972d-4606-eff6-665defd38979"
      },
      "outputs": [
        {
          "name": "stdout",
          "output_type": "stream",
          "text": [
            "0.74649847\n",
            "0.80993783\n"
          ]
        }
      ],
      "source": [
        "print(word2vec_model.similarity('cat', 'kitten'))\n",
        "print(word2vec_model.similarity('cat', 'cats'))"
      ]
    },
    {
      "cell_type": "code",
      "execution_count": null,
      "metadata": {
        "execution": {
          "iopub.execute_input": "2020-08-26T21:02:24.963633Z",
          "iopub.status.busy": "2020-08-26T21:02:24.959849Z",
          "iopub.status.idle": "2020-08-26T21:02:24.967105Z",
          "shell.execute_reply": "2020-08-26T21:02:24.966410Z"
        },
        "papermill": {
          "duration": 0.072005,
          "end_time": "2020-08-26T21:02:24.967228",
          "exception": false,
          "start_time": "2020-08-26T21:02:24.895223",
          "status": "completed"
        },
        "scrolled": true,
        "tags": [],
        "id": "Nj8WwLSa0QtF"
      },
      "outputs": [],
      "source": [
        "def get_average_vec(tokens_list, vector, generate_missing=False, k=300):\n",
        "    \"\"\"\n",
        "        Calculate average embedding value of sentence from each word vector\n",
        "    \"\"\"\n",
        "\n",
        "    if len(tokens_list)<1:\n",
        "        return np.zeros(k)\n",
        "\n",
        "    if generate_missing:\n",
        "        vectorized = [vector[word] if word in vector else np.random.rand(k) for word in tokens_list]\n",
        "    else:\n",
        "        vectorized = [vector[word] if word in vector else np.zeros(k) for word in tokens_list]\n",
        "\n",
        "    length = len(vectorized)\n",
        "    summed = np.sum(vectorized, axis=0)\n",
        "    averaged = np.divide(summed, length)\n",
        "    return averaged\n",
        "\n",
        "def get_embeddings(vectors, text, generate_missing=False, k=300):\n",
        "    \"\"\"\n",
        "        create the sentence embedding\n",
        "    \"\"\"\n",
        "    embeddings = text.apply(lambda x: get_average_vec(x, vectors, generate_missing=generate_missing, k=k))\n",
        "    return list(embeddings)"
      ]
    },
    {
      "cell_type": "code",
      "execution_count": null,
      "metadata": {
        "execution": {
          "iopub.execute_input": "2020-08-26T21:02:25.092224Z",
          "iopub.status.busy": "2020-08-26T21:02:25.090867Z",
          "iopub.status.idle": "2020-08-26T21:02:27.040119Z",
          "shell.execute_reply": "2020-08-26T21:02:27.039222Z"
        },
        "papermill": {
          "duration": 2.016192,
          "end_time": "2020-08-26T21:02:27.040294",
          "exception": false,
          "start_time": "2020-08-26T21:02:25.024102",
          "status": "completed"
        },
        "tags": [],
        "id": "5UNpfpg80QtF",
        "outputId": "056684f2-d0ab-4d28-a758-9fc0c6f5e0dc"
      },
      "outputs": [
        {
          "name": "stdout",
          "output_type": "stream",
          "text": [
            "CPU times: user 3 µs, sys: 1e+03 ns, total: 4 µs\n",
            "Wall time: 7.87 µs\n",
            "Embedding matrix size 7613 300\n",
            "The sentence: \"deed reason earthquake may allah forgive u\" got embedding values: \n",
            "[-0.10973104  0.09386771  0.02338518  0.08328102 -0.0219574   0.02885873\n",
            " -0.08006577 -0.04429408 -0.04224214  0.02420189 -0.03073424 -0.06804257\n",
            " -0.16214498  0.04603213 -0.10248093  0.07793608  0.0992388   0.11692011\n",
            " -0.01385716  0.01890346 -0.19027274 -0.03666796  0.06822132  0.0259938\n",
            " -0.06404114  0.01582078 -0.16466123  0.02864947 -0.00298782 -0.0321074\n",
            " -0.03302729  0.0175467  -0.05769275 -0.08599418 -0.09155273  0.0423119\n",
            " -0.14993068  0.07241385 -0.04759707  0.06599499 -0.02213396 -0.01985386\n",
            "  0.03608922  0.0730242   0.04145477 -0.0592204  -0.03368414 -0.14240374\n",
            " -0.11207799  0.04079474 -0.13815162  0.18583752 -0.0264631   0.13613746\n",
            "  0.04344395  0.10146368 -0.1568371  -0.09093766  0.01943534 -0.12862142\n",
            " -0.09729658 -0.08818272 -0.1499038  -0.02244436 -0.04221671 -0.14467076\n",
            " -0.08727664  0.08703323 -0.03724452  0.03713844  0.00841413 -0.03819638\n",
            "  0.04871187  0.00458563 -0.00879088 -0.01597087  0.09444028  0.0128588\n",
            "  0.00474766 -0.07494536 -0.1058989   0.0075887  -0.01565479 -0.01770601\n",
            "  0.09909348  0.05438378 -0.00987607  0.16372826  0.04281544  0.07157389\n",
            "  0.02041335 -0.01892671 -0.03254191 -0.07805089  0.03469703  0.0835237\n",
            " -0.05856469  0.07807995  0.18223935 -0.03905814 -0.06559826  0.00441778\n",
            " -0.04765683  0.00174967 -0.0499442   0.08921596 -0.05202811  0.02542405\n",
            "  0.02564639  0.03856695 -0.08229138 -0.13677761 -0.03282129 -0.00445811\n",
            "  0.02180172  0.11124965  0.06431825 -0.01736886 -0.0168537  -0.02965527\n",
            "  0.09707932  0.06195359 -0.00590007  0.01967657  0.10620698 -0.11439151\n",
            " -0.08102853 -0.02657209  0.03414045  0.09706279 -0.04822213 -0.02752686\n",
            " -0.05930801 -0.04303269 -0.11006728  0.07374627 -0.02335757  0.02132161\n",
            "  0.16190592  0.10704259  0.1453654  -0.04960033  0.01669021 -0.0568092\n",
            " -0.0281808  -0.08471525 -0.04839943  0.12519764 -0.04938035  0.01867639\n",
            "  0.05154128 -0.21320452 -0.04382438 -0.02979388 -0.07316953 -0.07876006\n",
            "  0.0666137   0.11970738 -0.02038502 -0.02043225 -0.00854492  0.06244187\n",
            "  0.00406247 -0.01388695 -0.00756109 -0.00510007  0.11270578 -0.00383032\n",
            " -0.07336771  0.05388387 -0.06600226 -0.08736456 -0.03554935 -0.02983529\n",
            " -0.02234432  0.16597493  0.20271229 -0.15409924  0.02767508 -0.06028275\n",
            "  0.01874506  0.00330793  0.01029487 -0.05950346 -0.03407215  0.05586279\n",
            " -0.05255999  0.06726728 -0.03091867  0.03321257  0.09562029 -0.0280878\n",
            " -0.18580264 -0.00352623  0.09402902  0.04684158 -0.06187584 -0.01583354\n",
            "  0.04801396 -0.06676665 -0.07035755  0.01950655 -0.13340541 -0.09078544\n",
            "  0.05690802 -0.08546084 -0.01820592  0.07843744 -0.03812554  0.11159842\n",
            "  0.11969721  0.0449335  -0.10582152  0.00232224 -0.05729457  0.03292856\n",
            "  0.10434396 -0.05161422 -0.12914458 -0.00114223 -0.09456671  0.08707973\n",
            "  0.03819348 -0.02696519 -0.02721441 -0.08526757  0.04842413  0.01009987\n",
            "  0.01225503 -0.11512538  0.02444313 -0.03519767 -0.05714451  0.00021944\n",
            " -0.00073242  0.00945232  0.02562932  0.08069402  0.05912563  0.06553432\n",
            "  0.04624358  0.05097017  0.21736072 -0.03040495 -0.01796759  0.03606669\n",
            " -0.11412993  0.12206305  0.030553   -0.05254146  0.03547015  0.01890128\n",
            "  0.06088838  0.08702923 -0.02756319 -0.09857505 -0.04788281  0.05559721\n",
            "  0.02226257 -0.06011454  0.04666101  0.00855019  0.0753697  -0.00653367\n",
            " -0.0653454   0.00939142  0.00217983 -0.00272115 -0.01113456 -0.02284095\n",
            " -0.05891854 -0.00576637 -0.01346842  0.02164714  0.04594494 -0.06361171\n",
            " -0.12094988 -0.09827241 -0.05226789  0.04806519 -0.06530035  0.07831682\n",
            " -0.00723557 -0.01486896 -0.00217438  0.04452805 -0.00202724  0.02008347\n",
            " -0.03751337 -0.02039809  0.05640811 -0.01563081 -0.08022272  0.06058466\n",
            " -0.02697173 -0.09694708 -0.0692749  -0.01718285 -0.10185896  0.12101673]\n"
          ]
        }
      ],
      "source": [
        "%time\n",
        "\n",
        "embeddings_word2vec = get_embeddings(word2vec_model, train_df[\"lemmatize_text\"], k=300)\n",
        "\n",
        "print(\"Embedding matrix size\", len(embeddings_word2vec), len(embeddings_word2vec[0]))\n",
        "print(\"The sentence: \\\"%s\\\" got embedding values: \" % train_df[\"lemmatize_text\"][0])\n",
        "print(embeddings_word2vec[0])"
      ]
    },
    {
      "cell_type": "code",
      "execution_count": null,
      "metadata": {
        "execution": {
          "iopub.execute_input": "2020-08-26T21:02:27.167950Z",
          "iopub.status.busy": "2020-08-26T21:02:27.167153Z",
          "iopub.status.idle": "2020-08-26T21:02:27.171239Z",
          "shell.execute_reply": "2020-08-26T21:02:27.170374Z"
        },
        "papermill": {
          "duration": 0.07035,
          "end_time": "2020-08-26T21:02:27.171389",
          "exception": false,
          "start_time": "2020-08-26T21:02:27.101039",
          "status": "completed"
        },
        "tags": [],
        "id": "a5_hSwaC0QtG"
      },
      "outputs": [],
      "source": [
        "del embeddings_word2vec"
      ]
    },
    {
      "cell_type": "markdown",
      "metadata": {
        "papermill": {
          "duration": 0.05537,
          "end_time": "2020-08-26T21:02:27.282356",
          "exception": false,
          "start_time": "2020-08-26T21:02:27.226986",
          "status": "completed"
        },
        "tags": [],
        "id": "5ykkFsxQ0QtG"
      },
      "source": [
        "<a id=\"GloVe\"></a>\n",
        "\n",
        "#### Global Vectors for Word Representation (GloVe):\n",
        "> Another powerful word embedding technique that has been used for text classiﬁcation is [Global Vectors (GloVe)](https://nlp.stanford.edu/pubs/glove.pdf). The approach is very similar to the Word2Vec method, where each word is presented by a high dimension vector and trained based on the surrounding words over a huge corpus. The pre-trained word embedding used in many works is based on 400,000 vocabularies trained over Wikipedia 2014 and Gigaword 5 as the corpus and 50 dimensions for word presentation. GloVe also provides other pre-trained word vectorizations with 100, 200, 300 dimensions which are trained over even bigger corpora, including Twitter content.\n",
        "\n",
        "(source: [Text Classification Algorithms: A Survey](https://arxiv.org/abs/1904.08067))\n",
        "\n",
        "We will create our GloVe's sentence embeddings  via gensim libary with the pre-trained word vectors on the dataset from Wikipedia 2014 + Gigaword 5 (source: https://github.com/stanfordnlp/GloVe) and see the embedding output on the sample sentence from the our dataset.\n",
        "\n",
        "\n",
        "[Back To Table of Contents](#top_section)"
      ]
    },
    {
      "cell_type": "code",
      "execution_count": null,
      "metadata": {
        "execution": {
          "iopub.execute_input": "2020-08-26T21:02:27.403192Z",
          "iopub.status.busy": "2020-08-26T21:02:27.402410Z",
          "iopub.status.idle": "2020-08-26T21:04:25.586507Z",
          "shell.execute_reply": "2020-08-26T21:04:25.585637Z"
        },
        "papermill": {
          "duration": 118.248598,
          "end_time": "2020-08-26T21:04:25.586649",
          "exception": false,
          "start_time": "2020-08-26T21:02:27.338051",
          "status": "completed"
        },
        "scrolled": true,
        "tags": [],
        "id": "WcT_4xhg0QtG",
        "outputId": "2d8ed12a-eded-4b93-f1cb-46b35eb130a0"
      },
      "outputs": [
        {
          "name": "stdout",
          "output_type": "stream",
          "text": [
            "CPU times: user 3 µs, sys: 0 ns, total: 3 µs\n",
            "Wall time: 7.39 µs\n"
          ]
        }
      ],
      "source": [
        "%time\n",
        "\n",
        "from gensim.scripts.glove2word2vec import glove2word2vec\n",
        "\n",
        "glove_input_file = \"../input/glove6b/glove.6B.300d.txt\"\n",
        "word2vec_output_file = \"glove.6B.100d.txt.word2vec\"\n",
        "glove2word2vec(glove_input_file, word2vec_output_file)\n",
        "\n",
        "# we only load 200k most common words from Google New corpus\n",
        "glove_model = gensim.models.KeyedVectors.load_word2vec_format(word2vec_output_file, binary=False, limit=200000)"
      ]
    },
    {
      "cell_type": "markdown",
      "metadata": {
        "papermill": {
          "duration": 0.055426,
          "end_time": "2020-08-26T21:04:25.698628",
          "exception": false,
          "start_time": "2020-08-26T21:04:25.643202",
          "status": "completed"
        },
        "tags": [],
        "id": "eSRswfRt0QtG"
      },
      "source": [
        "Compare the similarity between \"cat\" vs. \"kitten\" and \"cat\" vs. \"cats\" from GloVe"
      ]
    },
    {
      "cell_type": "code",
      "execution_count": null,
      "metadata": {
        "execution": {
          "iopub.execute_input": "2020-08-26T21:04:25.818156Z",
          "iopub.status.busy": "2020-08-26T21:04:25.817343Z",
          "iopub.status.idle": "2020-08-26T21:04:25.822056Z",
          "shell.execute_reply": "2020-08-26T21:04:25.821028Z"
        },
        "papermill": {
          "duration": 0.067616,
          "end_time": "2020-08-26T21:04:25.822175",
          "exception": false,
          "start_time": "2020-08-26T21:04:25.754559",
          "status": "completed"
        },
        "tags": [],
        "id": "rGenq9is0QtG",
        "outputId": "d2310568-3f31-4914-d170-e31dc26c3e54"
      },
      "outputs": [
        {
          "name": "stdout",
          "output_type": "stream",
          "text": [
            "0.43046176\n",
            "0.68158364\n"
          ]
        }
      ],
      "source": [
        "print(glove_model.similarity('cat', 'kitten'))\n",
        "print(glove_model.similarity('cat', 'cats'))"
      ]
    },
    {
      "cell_type": "code",
      "execution_count": null,
      "metadata": {
        "execution": {
          "iopub.execute_input": "2020-08-26T21:04:25.947945Z",
          "iopub.status.busy": "2020-08-26T21:04:25.946549Z",
          "iopub.status.idle": "2020-08-26T21:04:27.919277Z",
          "shell.execute_reply": "2020-08-26T21:04:27.917686Z"
        },
        "papermill": {
          "duration": 2.041385,
          "end_time": "2020-08-26T21:04:27.919481",
          "exception": false,
          "start_time": "2020-08-26T21:04:25.878096",
          "status": "completed"
        },
        "tags": [],
        "id": "x1GcqKad0QtG",
        "outputId": "a360fba9-6e38-44aa-8227-7fb39e5d8f30"
      },
      "outputs": [
        {
          "name": "stdout",
          "output_type": "stream",
          "text": [
            "CPU times: user 3 µs, sys: 0 ns, total: 3 µs\n",
            "Wall time: 8.11 µs\n",
            "Embedding matrix size 7613 300\n",
            "The sentence: \"deed reason earthquake may allah forgive u\" got embedding values: \n",
            "[-0.24644262  0.05410434 -0.27450693 -0.06188807 -0.46284731 -0.00939752\n",
            " -0.05414152  0.13743693 -0.22479226 -0.98268882  0.09007366  0.053033\n",
            " -0.28044198  0.02101397 -0.03703022 -0.12029742 -0.21756712  0.35917495\n",
            "  0.18462457 -0.04608281 -0.10460077 -0.08015574 -0.02202645  0.11273405\n",
            " -0.12068953  0.12194095  0.14686729  0.15968064  0.29633239 -0.30258431\n",
            " -0.11143976  0.35128362 -0.19570481 -0.0432561  -0.57752143  0.05718431\n",
            "  0.197115   -0.36596643 -0.14253749  0.14517167 -0.01787278  0.07752722\n",
            " -0.35558786  0.49918029 -0.25823491 -0.20787183  0.17671538 -0.06122703\n",
            "  0.01860436  0.00956815  0.01008621  0.18646614 -0.05261453  0.09435026\n",
            "  0.0347649   0.18527218  0.03771786 -0.00734357  0.0737335  -0.39638246\n",
            "  0.32128479  0.18159559  0.14429088  0.09128076 -0.08779434 -0.09699717\n",
            " -0.1332329   0.12811359  0.27261617 -0.19983245 -0.22432424  0.30098066\n",
            "  0.21411909  0.19618864 -0.35851928 -0.01115563  0.08871338  0.03321581\n",
            " -0.11715221 -0.06390755  0.00750943  0.13400405  0.08955424 -0.29467391\n",
            "  0.19223043 -0.00956457 -0.08053248  0.30163783  0.16781715 -0.09792755\n",
            "  0.06121541  0.14780828 -0.26734736 -0.4799519   0.44974211  0.00547195\n",
            " -0.11386152 -0.19388585  0.15504426 -0.3430764  -0.18080548  0.02703006\n",
            "  0.02656172  0.00977372 -0.13361909 -0.2695421   0.03165559  0.19874452\n",
            "  0.02720112 -0.04047843 -0.05929754  0.004465    0.13214997  0.14946143\n",
            " -0.03419677 -0.03892947 -0.12146793  0.14878701  0.026138   -0.20635574\n",
            "  0.32135731 -0.09797952  0.06083302 -0.22842523  0.05208716  0.03916695\n",
            " -0.0091469  -0.04971609 -0.1306325  -0.07322298 -0.00625898 -0.06776672\n",
            " -0.37868106  0.13359631  0.02006941 -0.1823457   0.03398151 -0.11830674\n",
            "  0.25474224  0.00383509 -0.13836982  0.25385852  0.12717466 -0.12527455\n",
            " -0.26967638 -0.14525832 -0.14603553 -0.21627412  0.17391181 -0.00804538\n",
            "  0.30386562 -0.226707   -0.00765572 -0.14370598  0.14693362 -0.05099271\n",
            "  0.33213786  0.02589677 -0.02876512 -0.10015471 -0.04301088 -0.09792962\n",
            " -0.15504143 -0.02825298 -0.184125    0.10993841 -0.10068296  0.05863607\n",
            " -0.03233979  0.17498674  0.11034614  0.19454436 -0.20126238  0.41948241\n",
            " -0.06973424 -0.10141514 -0.1716199  -0.18086144  0.16927838  0.27039857\n",
            " -0.20696674  0.23673779 -0.23383974 -0.11874885 -0.24187862 -0.33531259\n",
            " -0.2729604   0.25319156  0.27512729  0.20223805  0.38602323  0.17234014\n",
            "  0.09181362  0.33784298 -0.20905902  0.12970068  0.23867529 -0.06172933\n",
            " -0.1371971  -0.23060961  0.64804857 -0.03137886  0.16687753  0.21376819\n",
            "  0.20223686 -0.30625039 -0.41005391  0.18221493  0.1989264  -0.21287819\n",
            " -0.44964124 -0.08526969 -0.09927881  0.28774888 -0.39598062  0.06931664\n",
            "  0.15262799 -0.06269991 -0.18952476 -0.25693967 -0.03312668  0.07652547\n",
            "  0.12247071  0.21092231  0.07411659 -0.00878913  0.05192205  0.11616807\n",
            "  0.01890945  0.16390775 -0.05940847  0.32672243  0.01322132 -0.31820233\n",
            "  0.3624456   0.03607643 -0.10797226 -0.01568449  0.11246433  0.22883244\n",
            " -0.03727892 -0.27945359  0.03126107  0.01948552 -0.11679155  0.00608724\n",
            "  0.12348241 -0.08846772  0.00449286  0.13035464 -0.08091357  0.20209481\n",
            " -0.19915275 -0.14215569 -0.10643229 -0.10194643  0.04980072 -0.34128969\n",
            "  0.1241266   0.13883121  0.31312359 -0.21269181  0.00545436 -0.01445191\n",
            " -0.11558493 -0.08211789  0.31031359  0.11739394  0.27564005  0.46395119\n",
            " -0.18802405 -0.37081216  0.17815643 -0.30986419 -0.14509519  0.28417212\n",
            " -0.77160123  0.0543655  -0.00673003  0.02862609 -0.2549555  -0.14697521\n",
            " -0.37401531 -0.19827481  0.05608169 -0.05057823 -0.06009693  0.09846479\n",
            "  0.20159338  0.25996468 -0.09709268  0.03946936 -0.12543315 -0.05813071\n",
            "  0.13049043  0.09774433  0.39701905 -0.42363026 -0.13919324  0.08395088]\n"
          ]
        }
      ],
      "source": [
        "%time\n",
        "\n",
        "embeddings_glove = get_embeddings(glove_model, train_df[\"lemmatize_text\"], k=300)\n",
        "\n",
        "print(\"Embedding matrix size\", len(embeddings_glove), len(embeddings_glove[0]))\n",
        "print(\"The sentence: \\\"%s\\\" got embedding values: \" % train_df[\"lemmatize_text\"][0])\n",
        "print(embeddings_glove[0])"
      ]
    },
    {
      "cell_type": "code",
      "execution_count": null,
      "metadata": {
        "execution": {
          "iopub.execute_input": "2020-08-26T21:04:28.047252Z",
          "iopub.status.busy": "2020-08-26T21:04:28.046086Z",
          "iopub.status.idle": "2020-08-26T21:04:28.049832Z",
          "shell.execute_reply": "2020-08-26T21:04:28.049125Z"
        },
        "papermill": {
          "duration": 0.070771,
          "end_time": "2020-08-26T21:04:28.049982",
          "exception": false,
          "start_time": "2020-08-26T21:04:27.979211",
          "status": "completed"
        },
        "tags": [],
        "id": "eQE8_T9Q0QtG"
      },
      "outputs": [],
      "source": [
        "del embeddings_glove"
      ]
    },
    {
      "cell_type": "markdown",
      "metadata": {
        "papermill": {
          "duration": 0.05656,
          "end_time": "2020-08-26T21:04:28.163189",
          "exception": false,
          "start_time": "2020-08-26T21:04:28.106629",
          "status": "completed"
        },
        "tags": [],
        "id": "a-yYi7sZ0QtH"
      },
      "source": [
        "<a id=\"FastText\"></a>\n",
        "\n",
        "#### FastText:\n",
        "> Many other word embedding representations ignore the morphology of words by assigning a distinct vector to each word ([Enriching Word Vectors with Subword Information](https://arxiv.org/abs/1607.04606)). Facebook AI Research lab released a novel technique to solve this issue by introducing a new word embedding method called FastText. Each word, w, is represented as a bag of character n-gram. For example, given the word “introduce” and n = 3, FastText will produce the following representation composed of character tri-grams: < in, int, ntr, tro, rod, odu, duc, uce, ce >\n",
        "> Note that the sequence <int>, corresponding to the word here is different from the tri-gram “int” from the word introduce.\n",
        "\n",
        "(source: [Text Classification Algorithms: A Survey](https://arxiv.org/abs/1904.08067))\n",
        "\n",
        "We will create our FastText's sentence embeddings via gensim libary with the pre-trained word vectors from the Wikipedia 2017, UMBC webbase corpus and statmt.org news dataset (source: https://fasttext.cc/docs/en/english-vectors.html) and see the embedding output on the sample sentence from the our dataset.\n",
        "\n",
        "\n",
        "[Back To Table of Contents](#top_section)"
      ]
    },
    {
      "cell_type": "code",
      "execution_count": null,
      "metadata": {
        "execution": {
          "iopub.execute_input": "2020-08-26T21:04:28.284690Z",
          "iopub.status.busy": "2020-08-26T21:04:28.283934Z",
          "iopub.status.idle": "2020-08-26T21:06:21.324245Z",
          "shell.execute_reply": "2020-08-26T21:06:21.323270Z"
        },
        "papermill": {
          "duration": 113.105056,
          "end_time": "2020-08-26T21:06:21.324446",
          "exception": false,
          "start_time": "2020-08-26T21:04:28.219390",
          "status": "completed"
        },
        "scrolled": true,
        "tags": [],
        "id": "otsjF0HZ0QtH",
        "outputId": "0e46e0c6-ee53-4259-8792-7c36e6f304dd"
      },
      "outputs": [
        {
          "name": "stdout",
          "output_type": "stream",
          "text": [
            "CPU times: user 4 µs, sys: 1e+03 ns, total: 5 µs\n",
            "Wall time: 7.87 µs\n"
          ]
        }
      ],
      "source": [
        "%time\n",
        "\n",
        "from gensim.models.fasttext import FastText\n",
        "\n",
        "fasttext_path = \"../input/fasttext-wikinews/wiki-news-300d-1M.vec\"\n",
        "fasttext_model = gensim.models.KeyedVectors.load_word2vec_format(fasttext_path, binary=False, limit=200000)"
      ]
    },
    {
      "cell_type": "markdown",
      "metadata": {
        "papermill": {
          "duration": 0.056443,
          "end_time": "2020-08-26T21:06:21.439518",
          "exception": false,
          "start_time": "2020-08-26T21:06:21.383075",
          "status": "completed"
        },
        "tags": [],
        "id": "vrzwhpm50QtH"
      },
      "source": [
        "Compare the similarity between \"cat\" vs. \"kitten\" and \"cat\" vs. \"cats\" from FastText"
      ]
    },
    {
      "cell_type": "code",
      "execution_count": null,
      "metadata": {
        "execution": {
          "iopub.execute_input": "2020-08-26T21:06:21.562264Z",
          "iopub.status.busy": "2020-08-26T21:06:21.561390Z",
          "iopub.status.idle": "2020-08-26T21:06:21.567144Z",
          "shell.execute_reply": "2020-08-26T21:06:21.566194Z"
        },
        "papermill": {
          "duration": 0.069688,
          "end_time": "2020-08-26T21:06:21.567355",
          "exception": false,
          "start_time": "2020-08-26T21:06:21.497667",
          "status": "completed"
        },
        "tags": [],
        "id": "_wHTsuL_0QtH",
        "outputId": "2112a279-1bab-4b4b-de29-a06619a4c5a2"
      },
      "outputs": [
        {
          "name": "stdout",
          "output_type": "stream",
          "text": [
            "0.7353649\n",
            "0.8552809\n"
          ]
        }
      ],
      "source": [
        "print(fasttext_model.similarity('cat', 'kitten'))\n",
        "print(fasttext_model.similarity('cat', 'cats'))"
      ]
    },
    {
      "cell_type": "code",
      "execution_count": null,
      "metadata": {
        "execution": {
          "iopub.execute_input": "2020-08-26T21:06:21.697079Z",
          "iopub.status.busy": "2020-08-26T21:06:21.695895Z",
          "iopub.status.idle": "2020-08-26T21:06:23.608772Z",
          "shell.execute_reply": "2020-08-26T21:06:23.608104Z"
        },
        "papermill": {
          "duration": 1.978434,
          "end_time": "2020-08-26T21:06:23.608912",
          "exception": false,
          "start_time": "2020-08-26T21:06:21.630478",
          "status": "completed"
        },
        "tags": [],
        "id": "z3pOsM3g0QtH",
        "outputId": "61361a4c-c3d5-43da-aa02-efeb3e787f21"
      },
      "outputs": [
        {
          "name": "stdout",
          "output_type": "stream",
          "text": [
            "Embedding matrix size 7613 300\n",
            "The sentence: \"deed reason earthquake may allah forgive u\" got embedding values: \n",
            "[-8.09166668e-02  2.61404759e-02 -8.73142836e-02 -3.69428569e-02\n",
            "  1.73714293e-02  4.03738089e-02  1.19119056e-02 -2.96238094e-02\n",
            "  1.21804762e-01  4.34142850e-02 -2.36714286e-02 -2.98738095e-02\n",
            "  5.00333325e-02 -2.49952377e-02 -2.62000006e-02  2.73166672e-02\n",
            " -1.57404756e-02 -1.61595243e-02 -2.85976184e-02  7.77619022e-02\n",
            " -1.63690476e-02 -1.13026191e-01 -3.10547621e-02 -2.75714294e-02\n",
            " -6.89023813e-02 -5.33142867e-02  2.94666670e-02  1.26283331e-01\n",
            "  3.59476194e-02 -9.56166665e-02  4.42857155e-02  2.53380938e-02\n",
            " -1.39238087e-02 -2.98023802e-02  5.93452381e-02  6.58619040e-02\n",
            " -1.11547623e-02  1.53952374e-02  5.92904766e-02 -1.74500004e-02\n",
            " -2.33333374e-03 -9.57619045e-03 -9.73023806e-02 -3.89999918e-03\n",
            "  2.21000003e-02  1.47904770e-02  4.90023823e-02  2.88071422e-02\n",
            "  8.64047606e-02  3.05714297e-03 -1.81666667e-02 -4.32404758e-02\n",
            " -5.74880958e-01 -4.76190484e-03  1.78571507e-03  5.96190463e-03\n",
            " -7.99999836e-04 -9.34619041e-02  5.42380883e-03 -2.31666604e-03\n",
            "  1.85404762e-02  1.76595233e-02 -1.57778573e-01  4.48833325e-02\n",
            " -3.58809517e-02 -2.47214290e-02  4.40095242e-02  2.98309520e-02\n",
            "  3.23642852e-02  5.24619048e-02  1.51547627e-02 -1.32761908e-02\n",
            "  2.10095238e-02  1.50040474e-01  1.93047614e-02 -4.03571388e-03\n",
            " -5.91261903e-02 -1.90238092e-02  3.94095237e-02 -8.10119056e-02\n",
            "  1.22333335e-02 -1.63928571e-02 -6.08333396e-03 -1.18854762e-01\n",
            "  1.85023812e-02  2.22166662e-02 -6.20333342e-02  1.24119048e-02\n",
            "  2.72238107e-02 -4.28428577e-02  4.58404764e-02  2.52214282e-02\n",
            "  4.67428578e-02 -6.18333340e-02 -2.93333303e-03  3.91785722e-02\n",
            "  3.22309522e-02 -2.98333329e-02 -1.15523810e-02 -2.83334146e-04\n",
            " -1.57207144e-01 -9.74761843e-03 -2.93095258e-03 -9.84285681e-03\n",
            " -7.68523802e-02  1.80357150e-02  4.69071407e-02  1.51190480e-02\n",
            " -8.97309527e-02 -2.44333342e-02 -2.22928570e-02  2.20238109e-03\n",
            "  8.87952396e-02  4.39285726e-02 -4.41071433e-02  5.92119054e-02\n",
            "  1.95119035e-02 -7.48785725e-02 -6.03238098e-02 -2.65961904e-01\n",
            "  2.31119053e-02 -1.87547626e-02 -1.92880952e-02 -6.99690467e-02\n",
            " -3.20761907e-02  1.63716669e-01  3.84000000e-02  5.32142836e-03\n",
            " -3.99547629e-02  2.29809527e-02  1.75880954e-02  3.33761912e-02\n",
            "  3.59761898e-02  4.93857131e-02 -5.94404758e-02 -1.39450000e-01\n",
            " -5.92142876e-03 -1.01619044e-02 -4.32904763e-02  2.35785715e-02\n",
            "  3.56904700e-03 -7.57142836e-03  5.80000009e-02  2.36421428e-01\n",
            "  3.52666676e-02 -4.38666667e-02  5.65428577e-02  7.51428558e-02\n",
            "  3.42142869e-02  1.10952378e-03  1.58357141e-02  5.00761900e-02\n",
            " -3.63261901e-02  3.60952380e-03 -2.46190482e-02  4.78738091e-02\n",
            "  2.04285703e-03  8.73333297e-03 -4.32666671e-02 -7.10714309e-03\n",
            "  1.35309529e-02 -2.25761906e-02  4.16714291e-02  1.71207142e-01\n",
            " -3.28928582e-02  3.25761900e-02  1.38064284e-01 -2.80333335e-02\n",
            " -1.68095237e-02 -7.23571420e-03  4.00880949e-02 -5.26904726e-03\n",
            " -2.37833326e-02  1.47666670e-02  2.31119058e-02  2.10738094e-02\n",
            "  1.86942857e-01 -7.15714183e-03 -9.38095314e-03 -8.60476179e-03\n",
            "  2.15619037e-02  5.68261901e-02 -2.52523807e-02 -3.76190444e-03\n",
            " -2.91238090e-02 -5.85642854e-02 -3.53404757e-02 -2.57857142e-02\n",
            "  1.39666669e-02  6.91190469e-02  6.11357138e-02  8.65404758e-02\n",
            " -2.64666667e-02  5.13333308e-03 -3.12690476e-02 -4.03880952e-02\n",
            " -3.74380951e-02 -4.73595234e-02  6.42309520e-02 -1.14999986e-03\n",
            "  2.95738095e-02 -9.12857142e-02 -1.66500011e-02 -7.64523819e-03\n",
            "  2.99999973e-04  2.78285714e-02  1.77476186e-02  2.48404759e-02\n",
            "  2.88595242e-02 -3.41119046e-02 -1.61738098e-02 -1.27380963e-02\n",
            " -5.64999943e-03  3.40476186e-02  3.37619047e-02 -6.19428575e-02\n",
            "  1.17735713e-01 -2.08571436e-02 -8.08547635e-02  1.11997618e-01\n",
            " -7.10595230e-02 -3.78833323e-02 -5.70000003e-02 -5.37380936e-02\n",
            " -4.76547623e-02 -1.11830953e-01 -5.19428577e-02  1.74285725e-03\n",
            "  7.24047613e-03 -9.04833336e-02  2.97857144e-02 -1.62190479e-02\n",
            "  2.83530953e-01 -1.18140477e-01  6.94047685e-03 -3.50571431e-02\n",
            " -1.33190472e-02 -9.52452367e-02 -1.73821428e-01 -5.55880951e-02\n",
            "  5.33690458e-02 -2.13309512e-02  2.95000032e-03 -9.39047636e-03\n",
            " -5.94238100e-02  1.11971428e-01  5.07119043e-02 -3.16166669e-02\n",
            "  6.64404747e-02  2.75476190e-01  3.32285713e-02 -3.63523814e-02\n",
            "  1.28280952e-01  3.08809490e-03  3.50428562e-02 -7.12857095e-03\n",
            " -2.11357134e-02 -2.14785713e-02 -2.46714284e-02  4.19523779e-03\n",
            " -5.78095226e-03 -1.01476185e-02  4.82142829e-03  3.13476199e-02\n",
            " -2.66540474e-01  5.98571437e-02  2.34404770e-02 -1.99095237e-02\n",
            "  1.23619061e-02 -2.66809530e-02 -3.52690477e-02  2.13214292e-02\n",
            "  2.06976189e-02  4.77285711e-02 -2.65857133e-02  4.95714291e-03\n",
            " -7.58190487e-02 -8.61452384e-02  3.80499995e-02  3.11595234e-02\n",
            "  2.68809508e-03  5.83547609e-02  2.36285714e-02 -2.55952385e-02\n",
            "  1.26690477e-02 -3.88809529e-02  1.18414287e-01 -1.03952383e-02\n",
            "  9.16666659e-03  4.35738095e-02  2.62380946e-02  1.23714284e-02\n",
            " -4.50238077e-03  4.60690471e-02  2.82595239e-02  2.25785720e-02\n",
            "  1.77857139e-02 -2.51190479e-02  2.50714419e-03  6.78095219e-03]\n"
          ]
        }
      ],
      "source": [
        "embeddings_fasttext = get_embeddings(fasttext_model, train_df[\"lemmatize_text\"], k=300)\n",
        "\n",
        "print(\"Embedding matrix size\", len(embeddings_fasttext), len(embeddings_fasttext[0]))\n",
        "print(\"The sentence: \\\"%s\\\" got embedding values: \" % train_df[\"lemmatize_text\"][0])\n",
        "print(embeddings_fasttext[0])"
      ]
    },
    {
      "cell_type": "code",
      "execution_count": null,
      "metadata": {
        "execution": {
          "iopub.execute_input": "2020-08-26T21:06:23.735633Z",
          "iopub.status.busy": "2020-08-26T21:06:23.734852Z",
          "iopub.status.idle": "2020-08-26T21:06:23.738591Z",
          "shell.execute_reply": "2020-08-26T21:06:23.737824Z"
        },
        "papermill": {
          "duration": 0.071531,
          "end_time": "2020-08-26T21:06:23.738722",
          "exception": false,
          "start_time": "2020-08-26T21:06:23.667191",
          "status": "completed"
        },
        "tags": [],
        "id": "CGHPb_pp0QtH"
      },
      "outputs": [],
      "source": [
        "del embeddings_fasttext"
      ]
    },
    {
      "cell_type": "markdown",
      "metadata": {
        "papermill": {
          "duration": 0.057593,
          "end_time": "2020-08-26T21:06:23.853803",
          "exception": false,
          "start_time": "2020-08-26T21:06:23.796210",
          "status": "completed"
        },
        "tags": [],
        "id": "WhVqALuP0QtI"
      },
      "source": [
        "<a id=\"Advanced_methods\"></a>\n",
        "\n",
        "### Advanced Word Embedding Methods - Deep Contextualized Word Representations:\n",
        "\n",
        "<a id=\"BERT\"></a>\n",
        "#### Bidirectional Encoder Representations from Transformers (BERT):\n",
        "> BERT is a deep learning model that has given state-of-the-art results on a wide variety of natural language processing tasks. It stands for Bidirectional Encoder Representations for Transformers. It has been pre-trained on Wikipedia and BooksCorpus and requires task-specific fine-tuning.\n",
        "\n",
        "> Lets understand BERT by breaking BERT abbreviation:\n",
        "> * **Bidirectional**: BERT takes whole text passage as input and reads passage in both direction to understand the meaning of each word.\n",
        "> * **Transformers**: BERT is based on a Deep Transformer network. Transformer network is a type of network that can process efficiently long texts by using attention. An attention is a mechanism to learn contextual relations between words (or sub-words) in a text.\n",
        "> * **Encoder Representation**: Originally Transformer includes two separate mechanisms — an encoder that reads the text input and a decoder that produces a prediction for the task, since BERT’s goal is to generate a language model only the encoder mechanism is necessary hence 'encoder representation'\n",
        "\n",
        "> BERT is a multi-layer bidirectional Transformer encoder. There are two models introduced in the paper.\n",
        "> * BERT base – 12 layers (transformer blocks), 12 attention heads, and 110 million parameters.\n",
        "> * BERT Large – 24 layers, 16 attention heads and, 340 million parameters.\n",
        "\n",
        "\n",
        "> How BERT performs Bidirectional training?\n",
        ">\n",
        "> BERT uses following two prediction models simultaneously with the goal of minimizing the combined loss function of the two strategies:\n",
        ">\n",
        "> * **Masked Language Model**: Before feeding word sequences into BERT, 15% of the words in each sequence are replaced with a [MASK] token. The model then attempts to predict the original value of the masked words, based on the context provided by the other, non-masked, words in the sequence.\n",
        "> * **Next Sentence Prediction**: The model receives pairs of sentences as input and learns to predict if the second sentence in the pair is the subsequent sentence in the original document. During training, 50% of the inputs are a pair in which the second sentence is the subsequent sentence in the original document, while in the other 50% a random sentence from the corpus is chosen as the second sentence. The assumption is that the random sentence will be disconnected from the first sentence.\n",
        "\n",
        "Resources and further reading on BERT's explanation could be found in the great Kaggle notebooks and Blogs here:\n",
        "* https://www.kaggle.com/abhinand05/bert-for-humans-tutorial-baseline-version-2\n",
        "* https://www.kaggle.com/ratan123/in-depth-guide-to-google-s-bert\n",
        "* https://www.kaggle.com/kksienc/comprehensive-nlp-tutorial-3-bert\n",
        "* https://yashuseth.blog/2019/06/12/bert-explained-faqs-understand-bert-working/\n",
        "\n",
        "We will create our sentence embeddings by BERT's pre-trained word vectors (Uncased) via Tensorflow (source: https://github.com/google-research/bert) and see the embedding output on the sample sentence from the our dataset. Noted that we will use the BERT isself tonkenizer.\n",
        "\n",
        "[Back To Table of Contents](#top_section)"
      ]
    },
    {
      "cell_type": "code",
      "execution_count": null,
      "metadata": {
        "execution": {
          "iopub.execute_input": "2020-08-26T21:06:23.978892Z",
          "iopub.status.busy": "2020-08-26T21:06:23.978095Z",
          "iopub.status.idle": "2020-08-26T21:06:31.667775Z",
          "shell.execute_reply": "2020-08-26T21:06:31.666992Z"
        },
        "papermill": {
          "duration": 7.756564,
          "end_time": "2020-08-26T21:06:31.667901",
          "exception": false,
          "start_time": "2020-08-26T21:06:23.911337",
          "status": "completed"
        },
        "scrolled": true,
        "tags": [],
        "id": "g07-0liL0QtI",
        "outputId": "5bf3a2c0-63e8-4125-cbfb-8510dbced24f"
      },
      "outputs": [
        {
          "name": "stdout",
          "output_type": "stream",
          "text": [
            "CPU times: user 4 µs, sys: 0 ns, total: 4 µs\n",
            "Wall time: 9.06 µs\n"
          ]
        }
      ],
      "source": [
        "%time\n",
        "\n",
        "import tensorflow_hub as hub\n",
        "\n",
        "# download the tonkenizer\n",
        "!wget --quiet https://raw.githubusercontent.com/tensorflow/models/master/official/nlp/bert/tokenization.py\n",
        "import tokenization"
      ]
    },
    {
      "cell_type": "code",
      "execution_count": null,
      "metadata": {
        "execution": {
          "iopub.execute_input": "2020-08-26T21:06:31.790408Z",
          "iopub.status.busy": "2020-08-26T21:06:31.789349Z",
          "iopub.status.idle": "2020-08-26T21:07:10.903364Z",
          "shell.execute_reply": "2020-08-26T21:07:10.902635Z"
        },
        "papermill": {
          "duration": 39.177872,
          "end_time": "2020-08-26T21:07:10.903516",
          "exception": false,
          "start_time": "2020-08-26T21:06:31.725644",
          "status": "completed"
        },
        "tags": [],
        "id": "zm6xzOIw0QtI"
      },
      "outputs": [],
      "source": [
        "module_url = \"https://tfhub.dev/tensorflow/bert_en_uncased_L-24_H-1024_A-16/1\"\n",
        "bert_layer = hub.KerasLayer(module_url, trainable=True)"
      ]
    },
    {
      "cell_type": "code",
      "execution_count": null,
      "metadata": {
        "execution": {
          "iopub.execute_input": "2020-08-26T21:07:11.031841Z",
          "iopub.status.busy": "2020-08-26T21:07:11.030748Z",
          "iopub.status.idle": "2020-08-26T21:07:11.033786Z",
          "shell.execute_reply": "2020-08-26T21:07:11.034313Z"
        },
        "papermill": {
          "duration": 0.073128,
          "end_time": "2020-08-26T21:07:11.034499",
          "exception": false,
          "start_time": "2020-08-26T21:07:10.961371",
          "status": "completed"
        },
        "tags": [],
        "id": "eGK9onaC0QtI"
      },
      "outputs": [],
      "source": [
        "def bert_encode(texts, tokenizer, max_len=512):\n",
        "    all_tokens = []\n",
        "    all_masks = []\n",
        "    all_segments = []\n",
        "\n",
        "    for text in texts:\n",
        "        text = tokenizer.tokenize(text)\n",
        "\n",
        "        text = text[:max_len-2]\n",
        "        input_sequence = [\"[CLS]\"] + text + [\"[SEP]\"]\n",
        "        pad_len = max_len - len(input_sequence)\n",
        "\n",
        "        tokens = tokenizer.convert_tokens_to_ids(input_sequence)\n",
        "        tokens += [0] * pad_len\n",
        "        pad_masks = [1] * len(input_sequence) + [0] * pad_len\n",
        "        segment_ids = [0] * max_len\n",
        "\n",
        "        all_tokens.append(tokens)\n",
        "        all_masks.append(pad_masks)\n",
        "        all_segments.append(segment_ids)\n",
        "\n",
        "    return np.array(all_tokens), np.array(all_masks), np.array(all_segments)"
      ]
    },
    {
      "cell_type": "code",
      "execution_count": null,
      "metadata": {
        "execution": {
          "iopub.execute_input": "2020-08-26T21:07:11.162448Z",
          "iopub.status.busy": "2020-08-26T21:07:11.161561Z",
          "iopub.status.idle": "2020-08-26T21:07:18.525305Z",
          "shell.execute_reply": "2020-08-26T21:07:18.525920Z"
        },
        "papermill": {
          "duration": 7.433166,
          "end_time": "2020-08-26T21:07:18.526094",
          "exception": false,
          "start_time": "2020-08-26T21:07:11.092928",
          "status": "completed"
        },
        "tags": [],
        "id": "LKzSVrIU0QtI",
        "outputId": "5b23c3c7-5327-408e-f37b-9ba2ad1511e0"
      },
      "outputs": [
        {
          "name": "stdout",
          "output_type": "stream",
          "text": [
            "CPU times: user 4 µs, sys: 0 ns, total: 4 µs\n",
            "Wall time: 8.82 µs\n"
          ]
        }
      ],
      "source": [
        "%time\n",
        "\n",
        "vocab_file = bert_layer.resolved_object.vocab_file.asset_path.numpy()\n",
        "do_lower_case = bert_layer.resolved_object.do_lower_case.numpy()\n",
        "tokenizer = tokenization.FullTokenizer(vocab_file, do_lower_case)\n",
        "\n",
        "bert_input = bert_encode(train_df[\"text\"].values, tokenizer, max_len=300)"
      ]
    },
    {
      "cell_type": "code",
      "execution_count": null,
      "metadata": {
        "execution": {
          "iopub.execute_input": "2020-08-26T21:07:18.653348Z",
          "iopub.status.busy": "2020-08-26T21:07:18.652263Z",
          "iopub.status.idle": "2020-08-26T21:07:18.657178Z",
          "shell.execute_reply": "2020-08-26T21:07:18.656279Z"
        },
        "papermill": {
          "duration": 0.071296,
          "end_time": "2020-08-26T21:07:18.657317",
          "exception": false,
          "start_time": "2020-08-26T21:07:18.586021",
          "status": "completed"
        },
        "tags": [],
        "id": "elR3HOpj0QtI",
        "outputId": "82803743-e16b-4f63-b5e0-8d7e69bced82"
      },
      "outputs": [
        {
          "name": "stdout",
          "output_type": "stream",
          "text": [
            "Embedding tensor size 3 7613 300\n",
            "The sentence: \"deed reason earthquake may allah forgive u\" got embedding values: \n",
            "[[  101  2256 15616 ...     0     0     0]\n",
            " [  101  3224  2543 ...     0     0     0]\n",
            " [  101  2035  3901 ...     0     0     0]\n",
            " ...\n",
            " [  101 23290  1012 ...     0     0     0]\n",
            " [  101  2610 11538 ...     0     0     0]\n",
            " [  101  1996  6745 ...     0     0     0]]\n"
          ]
        }
      ],
      "source": [
        "print(\"Embedding tensor size\", len(bert_input), len(bert_input[0]), len(bert_input[0][0]))\n",
        "print(\"The sentence: \\\"%s\\\" got embedding values: \" % train_df[\"lemmatize_text\"][0])\n",
        "print(bert_input[0])"
      ]
    },
    {
      "cell_type": "markdown",
      "metadata": {
        "papermill": {
          "duration": 0.05812,
          "end_time": "2020-08-26T21:07:18.773891",
          "exception": false,
          "start_time": "2020-08-26T21:07:18.715771",
          "status": "completed"
        },
        "tags": [],
        "id": "OAWIt4zT0QtI"
      },
      "source": [
        "<a id=\"Comparison\"></a>\n",
        "## Comparison of Feature Extraction Techniques\n",
        "Please refer to the below table as the Comparison between Feature Extraction Techniques, thanks to the paper [Text Classification Algorithms: A Survey](https://arxiv.org/abs/1904.08067) for all of their awesome works.\n",
        "\n",
        "[Back To Table of Contents](#top_section)"
      ]
    },
    {
      "cell_type": "markdown",
      "metadata": {
        "papermill": {
          "duration": 0.060534,
          "end_time": "2020-08-26T21:07:18.892719",
          "exception": false,
          "start_time": "2020-08-26T21:07:18.832185",
          "status": "completed"
        },
        "tags": [],
        "id": "2ExnF7se0QtJ"
      },
      "source": [
        "| Model                               \t| Advantages                                                                                                                                                                                                                                                                             \t| Limitation                                                                                                                                                                                                                                                                                                                                                                  \t|\n",
        "|-------------------------------------\t|----------------------------------------------------------------------------------------------------------------------------------------------------------------------------------------------------------------------------------------------------------------------------------------\t|-----------------------------------------------------------------------------------------------------------------------------------------------------------------------------------------------------------------------------------------------------------------------------------------------------------------------------------------------------------------------------\t|\n",
        "| Weighted Words                      \t| * Easy to compute<br>* Easy to compute the similarity between 2 documents using it<br>* Basic metric to extract the most descriptive terms in a document<br>* Works with an unknown word (e.g., New words in languages)                                                                \t| * It does not capture the position in the text (syntactic)<br>* It does not capture meaning in the text (semantics)<br>* Common words effect on the results (e.g., “am”, “is”, etc.)                                                                                                                                                                                        \t|\n",
        "| TF-IDF                              \t| * Easy to compute<br>* Easy to compute the similarity between 2 documents using it<br>* Basic metric to extract the most descriptive terms in a document<br>* Common words do not affect the results due to IDF (e.g., “am”, “is”, etc.)                                               \t| * It does not capture the position in the text (syntactic)<br>* It does not capture meaning in the text (semantics)                                                                                                                                                                                                                                                         \t|\n",
        "| Word2Vec                            \t| * It captures the position of the words in the text (syntactic)<br>* It captures meaning in the words (semantics)                                                                                                                                                                      \t| * It cannot capture the meaning of the word from the text (fails to capture polysemy)<br>* It cannot capture out-of-vocabulary words from corpus                                                                                                                                                                                                                            \t|\n",
        "| GloVe (Pre-Trained)                 \t| * It captures the position of the words in the text (syntactic)<br>* It captures meaning in the words (semantics)<br>* Trained on huge corpus                                                                                                                                          \t| * It cannot capture the meaning of the word from the text (fails to capture polysemy)<br>* Memory consumption for storage<br>* It cannot capture out-of-vocabulary words from corpus                                                                                                                                                                                        \t|\n",
        "| GloVe (Trained)                     \t| * It is very straightforward, e.g., to enforce the word vectors to capture sub-linear relationships in the vector space (performs better than Word2vec)<br>* Lower weight for highly frequent word pairs, such as stop words like “am”, “is”, etc. Will not dominate training progress \t| * Memory consumption for storage<br>* Needs huge corpus to learn<br>* It cannot capture out-of-vocabulary words from the corpus<br>* It cannot capture the meaning of the word from the text (fails to capture polysemy)                                                                                                                                                    \t|\n",
        "| FastText                            \t| * Works for rare words (rare in their character n-grams which are still shared with other words<br>* Solves out of vocabulary words with n-gram in character level                                                                                                                     \t| * It cannot capture the meaning of the word from the text (fails to capture polysemy)<br>* Memory consumption for storage<br>* Computationally is more expensive in comparing with GloVe and Word2Vec                                                                                                                                                                       \t|\n",
        "| Contextualized Word Representations \t| * It captures the meaning of the word from the text (incorporates context, handling polysemy)                                                                                                                                                                                          \t| * Memory consumption for storage<br>* Improves performance notably on downstream tasks. Computationally is more expensive in comparison to others<br>* Needs another word embedding for all LSTM and feedforward layers<br>* It cannot capture out-of-vocabulary words from a corpus<br>* Works only sentence and document level (it cannot work for individual word level) \t|"
      ]
    },
    {
      "cell_type": "markdown",
      "metadata": {
        "papermill": {
          "duration": 0.058322,
          "end_time": "2020-08-26T21:07:19.009957",
          "exception": false,
          "start_time": "2020-08-26T21:07:18.951635",
          "status": "completed"
        },
        "tags": [],
        "id": "csf_2Vy90QtJ"
      },
      "source": [
        "<a id=\"References\"></a>\n",
        "\n",
        "# References:\n",
        "<a id=\"Paper\"></a>\n",
        "## Paper:\n",
        "* [Text Classification Algorithms: A Survey](https://arxiv.org/abs/1904.08067)\n",
        "\n",
        "<a id=\"Books\"></a>\n",
        "## Books:\n",
        "* [Natural Language Processing in Action](https://www.manning.com/books/natural-language-processing-in-action)\n",
        "* [Speech and Language Processing](https://web.stanford.edu/~jurafsky/slp3/ed3book.pdf)\n",
        "\n",
        "<a id=\"Blogs_Notebooks\"></a>\n",
        "## Blogs/ Notebooks:\n",
        "* https://www.kaggle.com/abhinand05/bert-for-humans-tutorial-baseline-version-2\n",
        "* https://www.kaggle.com/amar09/text-pre-processing-and-feature-extraction\n",
        "* https://www.kaggle.com/ashishpatel26/beginner-to-intermediate-nlp-tutorial\n",
        "* https://www.kaggle.com/ashutosh3060/nlp-basic-feature-creation-and-preprocessing\n",
        "* https://www.kaggle.com/datafan07/disaster-tweets-nlp-eda-bert-with-transformers\n",
        "* https://www.kaggle.com/gunesevitan/nlp-with-disaster-tweets-eda-cleaning-and-bert\n",
        "* https://www.kaggle.com/kksienc/comprehensive-nlp-tutorial-3-bert\n",
        "* https://www.kaggle.com/liananapalkova/simply-about-word2vec\n",
        "* https://www.kaggle.com/ratan123/in-depth-guide-to-google-s-bert\n",
        "* https://www.kaggle.com/sudalairajkumar/getting-started-with-text-preprocessing\n",
        "* https://www.kaggle.com/vbmokin/nlp-eda-bag-of-words-tf-idf-glove-bert\n",
        "* https://www.kdnuggets.com/2018/08/practitioners-guide-processing-understanding-text-2.html\n",
        "* https://yashuseth.blog/2019/06/12/bert-explained-faqs-understand-bert-working/\n",
        "* https://gist.github.com/MrEliptik/b3f16179aa2f530781ef8ca9a16499af\n",
        "* https://github.com/hundredblocks/concrete_NLP_tutorial/blob/master/NLP_notebook.ipynb\n",
        "* https://machinelearningmastery.com/gentle-introduction-bag-words-model/\n",
        "* https://towardsdatascience.com/natural-language-processing-pipeline-93df02ecd03f\n",
        "\n",
        "\n",
        "### I really appreciate your feedbacks, there would be some areas can be fixed and improved.\n",
        "## If you liked my work please Upvote!\n",
        "[Back To Table of Contents](#top_section)"
      ]
    }
  ],
  "metadata": {
    "kernelspec": {
      "display_name": "Python 3 (ipykernel)",
      "language": "python",
      "name": "python3"
    },
    "language_info": {
      "codemirror_mode": {
        "name": "ipython",
        "version": 3
      },
      "file_extension": ".py",
      "mimetype": "text/x-python",
      "name": "python",
      "nbconvert_exporter": "python",
      "pygments_lexer": "ipython3",
      "version": "3.13.2"
    },
    "papermill": {
      "duration": 500.435762,
      "end_time": "2020-08-26T21:07:20.093709",
      "environment_variables": {},
      "exception": null,
      "input_path": "__notebook__.ipynb",
      "output_path": "__notebook__.ipynb",
      "parameters": {},
      "start_time": "2020-08-26T20:58:59.657947",
      "version": "2.1.0"
    },
    "colab": {
      "provenance": [],
      "toc_visible": true
    }
  },
  "nbformat": 4,
  "nbformat_minor": 0
}