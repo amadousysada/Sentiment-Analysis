{
  "cells": [
    {
      "cell_type": "markdown",
      "metadata": {
        "papermill": {
          "duration": 0.0245,
          "end_time": "2020-08-26T20:59:06.122101",
          "exception": false,
          "start_time": "2020-08-26T20:59:06.097601",
          "status": "completed"
        },
        "tags": [],
        "id": "xTi_qQJC0Qsp"
      },
      "source": [
        "# Introduction\n",
        "\n",
        "Dans ce notebook nous allons effectuer trois taches:\n",
        "* l'analyse exploratoire (exploration et netooyage) de nos données\n",
        "* traitement du texte\n",
        "* extraction des features textes"
      ]
    },
    {
      "cell_type": "markdown",
      "metadata": {
        "papermill": {
          "duration": 0.024347,
          "end_time": "2020-08-26T20:59:06.221201",
          "exception": false,
          "start_time": "2020-08-26T20:59:06.196854",
          "status": "completed"
        },
        "tags": [],
        "id": "eJDjmTZo0Qsr"
      },
      "source": [
        "# Analyse exploratoire ds données"
      ]
    },
    {
      "cell_type": "markdown",
      "source": [
        "## Import des librairies"
      ],
      "metadata": {
        "id": "hwecoVR_24PI"
      }
    },
    {
      "cell_type": "code",
      "execution_count": 1,
      "metadata": {
        "execution": {
          "iopub.execute_input": "2020-08-26T20:59:06.289122Z",
          "iopub.status.busy": "2020-08-26T20:59:06.288192Z",
          "iopub.status.idle": "2020-08-26T20:59:08.802804Z",
          "shell.execute_reply": "2020-08-26T20:59:08.802075Z"
        },
        "papermill": {
          "duration": 2.557066,
          "end_time": "2020-08-26T20:59:08.802938",
          "exception": false,
          "start_time": "2020-08-26T20:59:06.245872",
          "status": "completed"
        },
        "scrolled": true,
        "tags": [],
        "colab": {
          "base_uri": "https://localhost:8080/"
        },
        "id": "4DO_uFhC0Qsr",
        "outputId": "6f4b0781-6994-4bb1-ca6d-e4a41182dd50"
      },
      "outputs": [
        {
          "output_type": "stream",
          "name": "stdout",
          "text": [
            "Requirement already satisfied: gensim in /usr/local/lib/python3.11/dist-packages (4.3.3)\n",
            "Requirement already satisfied: numpy<2.0,>=1.18.5 in /usr/local/lib/python3.11/dist-packages (from gensim) (1.26.4)\n",
            "Requirement already satisfied: scipy<1.14.0,>=1.7.0 in /usr/local/lib/python3.11/dist-packages (from gensim) (1.13.1)\n",
            "Requirement already satisfied: smart-open>=1.8.1 in /usr/local/lib/python3.11/dist-packages (from gensim) (7.1.0)\n",
            "Requirement already satisfied: wrapt in /usr/local/lib/python3.11/dist-packages (from smart-open>=1.8.1->gensim) (1.17.2)\n",
            "Requirement already satisfied: contractions in /usr/local/lib/python3.11/dist-packages (0.1.73)\n",
            "Requirement already satisfied: textsearch>=0.0.21 in /usr/local/lib/python3.11/dist-packages (from contractions) (0.0.24)\n",
            "Requirement already satisfied: anyascii in /usr/local/lib/python3.11/dist-packages (from textsearch>=0.0.21->contractions) (0.3.2)\n",
            "Requirement already satisfied: pyahocorasick in /usr/local/lib/python3.11/dist-packages (from textsearch>=0.0.21->contractions) (2.1.0)\n",
            "Python version: 3.11.12 (main, Apr  9 2025, 08:55:54) [GCC 11.4.0]\n",
            "Version info.: sys.version_info(major=3, minor=11, micro=12, releaselevel='final', serial=0)\n",
            "pandas version: 2.2.2\n",
            "numpy version: 1.26.4\n",
            "skearn version: 1.6.1\n",
            "re version: 2.2.1\n",
            "nltk version: 3.9.1\n",
            "gensim version: 4.3.3\n",
            "tensorflow version: 2.18.0\n",
            "tensorflow_hub version: 0.16.1\n",
            "tensorflow_text version: 2.18.1\n",
            "CPU times: user 4.29 s, sys: 430 ms, total: 4.72 s\n",
            "Wall time: 7.57 s\n"
          ]
        }
      ],
      "source": [
        "%%time\n",
        "import time\n",
        "init_time = time.time()\n",
        "\n",
        "import os\n",
        "import sys\n",
        "import warnings\n",
        "if not sys.warnoptions:\n",
        "    warnings.simplefilter(\"ignore\")\n",
        "\n",
        "# Installation du package gensim\n",
        "!pip install --no-cache-dir gensim\n",
        "import gensim\n",
        "from gensim.models import FastText, Word2Vec\n",
        "\n",
        "import numpy as np\n",
        "import pandas as pd\n",
        "import sklearn\n",
        "import pickle\n",
        "\n",
        "from tqdm import tqdm\n",
        "from collections import Counter\n",
        "\n",
        "from matplotlib import pyplot as plt\n",
        "\n",
        "import seaborn as sns\n",
        "\n",
        "import string\n",
        "import re\n",
        "import nltk\n",
        "from nltk.corpus import stopwords, wordnet, brown\n",
        "from nltk.stem import WordNetLemmatizer\n",
        "from nltk.tokenize import word_tokenize\n",
        "\n",
        "# Tensorflow\n",
        "import tensorflow as tf\n",
        "import tensorflow_hub as hub\n",
        "import tensorflow_text as text\n",
        "\n",
        "from sklearn.feature_extraction.text import CountVectorizer\n",
        "\n",
        "\n",
        "# Intallation du package contractions- https://github.com/kootenpv/contractions\n",
        "!pip install contractions\n",
        "import contractions\n",
        "\n",
        "\n",
        "print(\"Python version:\", sys.version)\n",
        "print(\"Version info.:\", sys.version_info)\n",
        "print(\"pandas version:\", pd.__version__)\n",
        "print(\"numpy version:\", np.__version__)\n",
        "print(\"skearn version:\", sklearn.__version__)\n",
        "print(\"re version:\", re.__version__)\n",
        "print(\"nltk version:\", nltk.__version__)\n",
        "print(\"gensim version:\", gensim.__version__)\n",
        "print(\"tensorflow version:\", tf.__version__)\n",
        "print(\"tensorflow_hub version:\", hub.__version__)\n",
        "print(\"tensorflow_text version:\", text.__version__)"
      ]
    },
    {
      "cell_type": "markdown",
      "metadata": {
        "papermill": {
          "duration": 0.02595,
          "end_time": "2020-08-26T20:59:08.856139",
          "exception": false,
          "start_time": "2020-08-26T20:59:08.830189",
          "status": "completed"
        },
        "tags": [],
        "id": "0yR7Xntu0Qss"
      },
      "source": [
        "## Chargement des données"
      ]
    },
    {
      "cell_type": "code",
      "source": [
        "path = \"/content/drive/MyDrive/data/sentiments\"\n",
        "#path = \"./data/sentiments\""
      ],
      "metadata": {
        "id": "t4MZq-KS4Mo-"
      },
      "execution_count": 2,
      "outputs": []
    },
    {
      "cell_type": "code",
      "execution_count": 3,
      "metadata": {
        "execution": {
          "iopub.execute_input": "2020-08-26T20:59:08.927014Z",
          "iopub.status.busy": "2020-08-26T20:59:08.926218Z",
          "iopub.status.idle": "2020-08-26T20:59:09.022472Z",
          "shell.execute_reply": "2020-08-26T20:59:09.021511Z"
        },
        "papermill": {
          "duration": 0.140845,
          "end_time": "2020-08-26T20:59:09.022636",
          "exception": false,
          "start_time": "2020-08-26T20:59:08.881791",
          "status": "completed"
        },
        "tags": [],
        "colab": {
          "base_uri": "https://localhost:8080/",
          "height": 72
        },
        "id": "gnO6-UCV0Qss",
        "outputId": "a403762c-1b12-473d-d781-455c19db1c44"
      },
      "outputs": [
        {
          "output_type": "stream",
          "name": "stdout",
          "text": [
            "CPU times: user 2 µs, sys: 0 ns, total: 2 µs\n",
            "Wall time: 4.29 µs\n"
          ]
        },
        {
          "output_type": "display_data",
          "data": {
            "text/plain": [
              "(1600000, 6)"
            ]
          },
          "metadata": {}
        }
      ],
      "source": [
        "%time\n",
        "column_names = ['target', 'id', 'posted_at', 'QUERY', 'posted_by', 'content']\n",
        "tweets_df = pd.read_csv(path+\"/training.1600000.processed.noemoticon.csv\", encoding_errors='ignore', names=column_names)\n",
        "display(tweets_df.shape)"
      ]
    },
    {
      "cell_type": "markdown",
      "source": [
        "## Exploration"
      ],
      "metadata": {
        "id": "hp0UrJWC966z"
      }
    },
    {
      "cell_type": "code",
      "source": [
        "tweets_df.head()"
      ],
      "metadata": {
        "colab": {
          "base_uri": "https://localhost:8080/",
          "height": 206
        },
        "id": "xAj0mwh863V3",
        "outputId": "5f0105b4-40ad-4122-d440-6c3b23958553"
      },
      "execution_count": 4,
      "outputs": [
        {
          "output_type": "execute_result",
          "data": {
            "text/plain": [
              "   target          id                     posted_at     QUERY  \\\n",
              "0       0  1467810369  Mon Apr 06 22:19:45 PDT 2009  NO_QUERY   \n",
              "1       0  1467810672  Mon Apr 06 22:19:49 PDT 2009  NO_QUERY   \n",
              "2       0  1467810917  Mon Apr 06 22:19:53 PDT 2009  NO_QUERY   \n",
              "3       0  1467811184  Mon Apr 06 22:19:57 PDT 2009  NO_QUERY   \n",
              "4       0  1467811193  Mon Apr 06 22:19:57 PDT 2009  NO_QUERY   \n",
              "\n",
              "         posted_by                                            content  \n",
              "0  _TheSpecialOne_  @switchfoot http://twitpic.com/2y1zl - Awww, t...  \n",
              "1    scotthamilton  is upset that he can't update his Facebook by ...  \n",
              "2         mattycus  @Kenichan I dived many times for the ball. Man...  \n",
              "3          ElleCTF    my whole body feels itchy and like its on fire   \n",
              "4           Karoli  @nationwideclass no, it's not behaving at all....  "
            ],
            "text/html": [
              "\n",
              "  <div id=\"df-300d186f-9e47-40cc-8045-074cff28a6a4\" class=\"colab-df-container\">\n",
              "    <div>\n",
              "<style scoped>\n",
              "    .dataframe tbody tr th:only-of-type {\n",
              "        vertical-align: middle;\n",
              "    }\n",
              "\n",
              "    .dataframe tbody tr th {\n",
              "        vertical-align: top;\n",
              "    }\n",
              "\n",
              "    .dataframe thead th {\n",
              "        text-align: right;\n",
              "    }\n",
              "</style>\n",
              "<table border=\"1\" class=\"dataframe\">\n",
              "  <thead>\n",
              "    <tr style=\"text-align: right;\">\n",
              "      <th></th>\n",
              "      <th>target</th>\n",
              "      <th>id</th>\n",
              "      <th>posted_at</th>\n",
              "      <th>QUERY</th>\n",
              "      <th>posted_by</th>\n",
              "      <th>content</th>\n",
              "    </tr>\n",
              "  </thead>\n",
              "  <tbody>\n",
              "    <tr>\n",
              "      <th>0</th>\n",
              "      <td>0</td>\n",
              "      <td>1467810369</td>\n",
              "      <td>Mon Apr 06 22:19:45 PDT 2009</td>\n",
              "      <td>NO_QUERY</td>\n",
              "      <td>_TheSpecialOne_</td>\n",
              "      <td>@switchfoot http://twitpic.com/2y1zl - Awww, t...</td>\n",
              "    </tr>\n",
              "    <tr>\n",
              "      <th>1</th>\n",
              "      <td>0</td>\n",
              "      <td>1467810672</td>\n",
              "      <td>Mon Apr 06 22:19:49 PDT 2009</td>\n",
              "      <td>NO_QUERY</td>\n",
              "      <td>scotthamilton</td>\n",
              "      <td>is upset that he can't update his Facebook by ...</td>\n",
              "    </tr>\n",
              "    <tr>\n",
              "      <th>2</th>\n",
              "      <td>0</td>\n",
              "      <td>1467810917</td>\n",
              "      <td>Mon Apr 06 22:19:53 PDT 2009</td>\n",
              "      <td>NO_QUERY</td>\n",
              "      <td>mattycus</td>\n",
              "      <td>@Kenichan I dived many times for the ball. Man...</td>\n",
              "    </tr>\n",
              "    <tr>\n",
              "      <th>3</th>\n",
              "      <td>0</td>\n",
              "      <td>1467811184</td>\n",
              "      <td>Mon Apr 06 22:19:57 PDT 2009</td>\n",
              "      <td>NO_QUERY</td>\n",
              "      <td>ElleCTF</td>\n",
              "      <td>my whole body feels itchy and like its on fire</td>\n",
              "    </tr>\n",
              "    <tr>\n",
              "      <th>4</th>\n",
              "      <td>0</td>\n",
              "      <td>1467811193</td>\n",
              "      <td>Mon Apr 06 22:19:57 PDT 2009</td>\n",
              "      <td>NO_QUERY</td>\n",
              "      <td>Karoli</td>\n",
              "      <td>@nationwideclass no, it's not behaving at all....</td>\n",
              "    </tr>\n",
              "  </tbody>\n",
              "</table>\n",
              "</div>\n",
              "    <div class=\"colab-df-buttons\">\n",
              "\n",
              "  <div class=\"colab-df-container\">\n",
              "    <button class=\"colab-df-convert\" onclick=\"convertToInteractive('df-300d186f-9e47-40cc-8045-074cff28a6a4')\"\n",
              "            title=\"Convert this dataframe to an interactive table.\"\n",
              "            style=\"display:none;\">\n",
              "\n",
              "  <svg xmlns=\"http://www.w3.org/2000/svg\" height=\"24px\" viewBox=\"0 -960 960 960\">\n",
              "    <path d=\"M120-120v-720h720v720H120Zm60-500h600v-160H180v160Zm220 220h160v-160H400v160Zm0 220h160v-160H400v160ZM180-400h160v-160H180v160Zm440 0h160v-160H620v160ZM180-180h160v-160H180v160Zm440 0h160v-160H620v160Z\"/>\n",
              "  </svg>\n",
              "    </button>\n",
              "\n",
              "  <style>\n",
              "    .colab-df-container {\n",
              "      display:flex;\n",
              "      gap: 12px;\n",
              "    }\n",
              "\n",
              "    .colab-df-convert {\n",
              "      background-color: #E8F0FE;\n",
              "      border: none;\n",
              "      border-radius: 50%;\n",
              "      cursor: pointer;\n",
              "      display: none;\n",
              "      fill: #1967D2;\n",
              "      height: 32px;\n",
              "      padding: 0 0 0 0;\n",
              "      width: 32px;\n",
              "    }\n",
              "\n",
              "    .colab-df-convert:hover {\n",
              "      background-color: #E2EBFA;\n",
              "      box-shadow: 0px 1px 2px rgba(60, 64, 67, 0.3), 0px 1px 3px 1px rgba(60, 64, 67, 0.15);\n",
              "      fill: #174EA6;\n",
              "    }\n",
              "\n",
              "    .colab-df-buttons div {\n",
              "      margin-bottom: 4px;\n",
              "    }\n",
              "\n",
              "    [theme=dark] .colab-df-convert {\n",
              "      background-color: #3B4455;\n",
              "      fill: #D2E3FC;\n",
              "    }\n",
              "\n",
              "    [theme=dark] .colab-df-convert:hover {\n",
              "      background-color: #434B5C;\n",
              "      box-shadow: 0px 1px 3px 1px rgba(0, 0, 0, 0.15);\n",
              "      filter: drop-shadow(0px 1px 2px rgba(0, 0, 0, 0.3));\n",
              "      fill: #FFFFFF;\n",
              "    }\n",
              "  </style>\n",
              "\n",
              "    <script>\n",
              "      const buttonEl =\n",
              "        document.querySelector('#df-300d186f-9e47-40cc-8045-074cff28a6a4 button.colab-df-convert');\n",
              "      buttonEl.style.display =\n",
              "        google.colab.kernel.accessAllowed ? 'block' : 'none';\n",
              "\n",
              "      async function convertToInteractive(key) {\n",
              "        const element = document.querySelector('#df-300d186f-9e47-40cc-8045-074cff28a6a4');\n",
              "        const dataTable =\n",
              "          await google.colab.kernel.invokeFunction('convertToInteractive',\n",
              "                                                    [key], {});\n",
              "        if (!dataTable) return;\n",
              "\n",
              "        const docLinkHtml = 'Like what you see? Visit the ' +\n",
              "          '<a target=\"_blank\" href=https://colab.research.google.com/notebooks/data_table.ipynb>data table notebook</a>'\n",
              "          + ' to learn more about interactive tables.';\n",
              "        element.innerHTML = '';\n",
              "        dataTable['output_type'] = 'display_data';\n",
              "        await google.colab.output.renderOutput(dataTable, element);\n",
              "        const docLink = document.createElement('div');\n",
              "        docLink.innerHTML = docLinkHtml;\n",
              "        element.appendChild(docLink);\n",
              "      }\n",
              "    </script>\n",
              "  </div>\n",
              "\n",
              "\n",
              "    <div id=\"df-437e7a7a-4897-4084-b360-cf021d85695a\">\n",
              "      <button class=\"colab-df-quickchart\" onclick=\"quickchart('df-437e7a7a-4897-4084-b360-cf021d85695a')\"\n",
              "                title=\"Suggest charts\"\n",
              "                style=\"display:none;\">\n",
              "\n",
              "<svg xmlns=\"http://www.w3.org/2000/svg\" height=\"24px\"viewBox=\"0 0 24 24\"\n",
              "     width=\"24px\">\n",
              "    <g>\n",
              "        <path d=\"M19 3H5c-1.1 0-2 .9-2 2v14c0 1.1.9 2 2 2h14c1.1 0 2-.9 2-2V5c0-1.1-.9-2-2-2zM9 17H7v-7h2v7zm4 0h-2V7h2v10zm4 0h-2v-4h2v4z\"/>\n",
              "    </g>\n",
              "</svg>\n",
              "      </button>\n",
              "\n",
              "<style>\n",
              "  .colab-df-quickchart {\n",
              "      --bg-color: #E8F0FE;\n",
              "      --fill-color: #1967D2;\n",
              "      --hover-bg-color: #E2EBFA;\n",
              "      --hover-fill-color: #174EA6;\n",
              "      --disabled-fill-color: #AAA;\n",
              "      --disabled-bg-color: #DDD;\n",
              "  }\n",
              "\n",
              "  [theme=dark] .colab-df-quickchart {\n",
              "      --bg-color: #3B4455;\n",
              "      --fill-color: #D2E3FC;\n",
              "      --hover-bg-color: #434B5C;\n",
              "      --hover-fill-color: #FFFFFF;\n",
              "      --disabled-bg-color: #3B4455;\n",
              "      --disabled-fill-color: #666;\n",
              "  }\n",
              "\n",
              "  .colab-df-quickchart {\n",
              "    background-color: var(--bg-color);\n",
              "    border: none;\n",
              "    border-radius: 50%;\n",
              "    cursor: pointer;\n",
              "    display: none;\n",
              "    fill: var(--fill-color);\n",
              "    height: 32px;\n",
              "    padding: 0;\n",
              "    width: 32px;\n",
              "  }\n",
              "\n",
              "  .colab-df-quickchart:hover {\n",
              "    background-color: var(--hover-bg-color);\n",
              "    box-shadow: 0 1px 2px rgba(60, 64, 67, 0.3), 0 1px 3px 1px rgba(60, 64, 67, 0.15);\n",
              "    fill: var(--button-hover-fill-color);\n",
              "  }\n",
              "\n",
              "  .colab-df-quickchart-complete:disabled,\n",
              "  .colab-df-quickchart-complete:disabled:hover {\n",
              "    background-color: var(--disabled-bg-color);\n",
              "    fill: var(--disabled-fill-color);\n",
              "    box-shadow: none;\n",
              "  }\n",
              "\n",
              "  .colab-df-spinner {\n",
              "    border: 2px solid var(--fill-color);\n",
              "    border-color: transparent;\n",
              "    border-bottom-color: var(--fill-color);\n",
              "    animation:\n",
              "      spin 1s steps(1) infinite;\n",
              "  }\n",
              "\n",
              "  @keyframes spin {\n",
              "    0% {\n",
              "      border-color: transparent;\n",
              "      border-bottom-color: var(--fill-color);\n",
              "      border-left-color: var(--fill-color);\n",
              "    }\n",
              "    20% {\n",
              "      border-color: transparent;\n",
              "      border-left-color: var(--fill-color);\n",
              "      border-top-color: var(--fill-color);\n",
              "    }\n",
              "    30% {\n",
              "      border-color: transparent;\n",
              "      border-left-color: var(--fill-color);\n",
              "      border-top-color: var(--fill-color);\n",
              "      border-right-color: var(--fill-color);\n",
              "    }\n",
              "    40% {\n",
              "      border-color: transparent;\n",
              "      border-right-color: var(--fill-color);\n",
              "      border-top-color: var(--fill-color);\n",
              "    }\n",
              "    60% {\n",
              "      border-color: transparent;\n",
              "      border-right-color: var(--fill-color);\n",
              "    }\n",
              "    80% {\n",
              "      border-color: transparent;\n",
              "      border-right-color: var(--fill-color);\n",
              "      border-bottom-color: var(--fill-color);\n",
              "    }\n",
              "    90% {\n",
              "      border-color: transparent;\n",
              "      border-bottom-color: var(--fill-color);\n",
              "    }\n",
              "  }\n",
              "</style>\n",
              "\n",
              "      <script>\n",
              "        async function quickchart(key) {\n",
              "          const quickchartButtonEl =\n",
              "            document.querySelector('#' + key + ' button');\n",
              "          quickchartButtonEl.disabled = true;  // To prevent multiple clicks.\n",
              "          quickchartButtonEl.classList.add('colab-df-spinner');\n",
              "          try {\n",
              "            const charts = await google.colab.kernel.invokeFunction(\n",
              "                'suggestCharts', [key], {});\n",
              "          } catch (error) {\n",
              "            console.error('Error during call to suggestCharts:', error);\n",
              "          }\n",
              "          quickchartButtonEl.classList.remove('colab-df-spinner');\n",
              "          quickchartButtonEl.classList.add('colab-df-quickchart-complete');\n",
              "        }\n",
              "        (() => {\n",
              "          let quickchartButtonEl =\n",
              "            document.querySelector('#df-437e7a7a-4897-4084-b360-cf021d85695a button');\n",
              "          quickchartButtonEl.style.display =\n",
              "            google.colab.kernel.accessAllowed ? 'block' : 'none';\n",
              "        })();\n",
              "      </script>\n",
              "    </div>\n",
              "\n",
              "    </div>\n",
              "  </div>\n"
            ],
            "application/vnd.google.colaboratory.intrinsic+json": {
              "type": "dataframe",
              "variable_name": "tweets_df"
            }
          },
          "metadata": {},
          "execution_count": 4
        }
      ]
    },
    {
      "cell_type": "code",
      "execution_count": 5,
      "metadata": {
        "execution": {
          "iopub.execute_input": "2020-08-26T20:59:09.090933Z",
          "iopub.status.busy": "2020-08-26T20:59:09.090124Z",
          "iopub.status.idle": "2020-08-26T20:59:09.141147Z",
          "shell.execute_reply": "2020-08-26T20:59:09.140354Z"
        },
        "papermill": {
          "duration": 0.088601,
          "end_time": "2020-08-26T20:59:09.141296",
          "exception": false,
          "start_time": "2020-08-26T20:59:09.052695",
          "status": "completed"
        },
        "scrolled": true,
        "tags": [],
        "colab": {
          "base_uri": "https://localhost:8080/"
        },
        "id": "oiM4o7UH0Qst",
        "outputId": "c2a4921b-b201-4c05-d767-0f786a7462cb"
      },
      "outputs": [
        {
          "output_type": "stream",
          "name": "stdout",
          "text": [
            "<class 'pandas.core.frame.DataFrame'>\n",
            "RangeIndex: 1600000 entries, 0 to 1599999\n",
            "Data columns (total 6 columns):\n",
            " #   Column     Non-Null Count    Dtype \n",
            "---  ------     --------------    ----- \n",
            " 0   target     1600000 non-null  int64 \n",
            " 1   id         1600000 non-null  int64 \n",
            " 2   posted_at  1600000 non-null  object\n",
            " 3   QUERY      1600000 non-null  object\n",
            " 4   posted_by  1600000 non-null  object\n",
            " 5   content    1600000 non-null  object\n",
            "dtypes: int64(2), object(4)\n",
            "memory usage: 73.2+ MB\n"
          ]
        }
      ],
      "source": [
        "tweets_df.info()"
      ]
    },
    {
      "cell_type": "code",
      "source": [
        "tweets_df.isna().sum()"
      ],
      "metadata": {
        "colab": {
          "base_uri": "https://localhost:8080/",
          "height": 272
        },
        "id": "v3MWrMbt-ATT",
        "outputId": "094aebc5-ea6d-4352-c0c8-b4154352721a"
      },
      "execution_count": 6,
      "outputs": [
        {
          "output_type": "execute_result",
          "data": {
            "text/plain": [
              "target       0\n",
              "id           0\n",
              "posted_at    0\n",
              "QUERY        0\n",
              "posted_by    0\n",
              "content      0\n",
              "dtype: int64"
            ],
            "text/html": [
              "<div>\n",
              "<style scoped>\n",
              "    .dataframe tbody tr th:only-of-type {\n",
              "        vertical-align: middle;\n",
              "    }\n",
              "\n",
              "    .dataframe tbody tr th {\n",
              "        vertical-align: top;\n",
              "    }\n",
              "\n",
              "    .dataframe thead th {\n",
              "        text-align: right;\n",
              "    }\n",
              "</style>\n",
              "<table border=\"1\" class=\"dataframe\">\n",
              "  <thead>\n",
              "    <tr style=\"text-align: right;\">\n",
              "      <th></th>\n",
              "      <th>0</th>\n",
              "    </tr>\n",
              "  </thead>\n",
              "  <tbody>\n",
              "    <tr>\n",
              "      <th>target</th>\n",
              "      <td>0</td>\n",
              "    </tr>\n",
              "    <tr>\n",
              "      <th>id</th>\n",
              "      <td>0</td>\n",
              "    </tr>\n",
              "    <tr>\n",
              "      <th>posted_at</th>\n",
              "      <td>0</td>\n",
              "    </tr>\n",
              "    <tr>\n",
              "      <th>QUERY</th>\n",
              "      <td>0</td>\n",
              "    </tr>\n",
              "    <tr>\n",
              "      <th>posted_by</th>\n",
              "      <td>0</td>\n",
              "    </tr>\n",
              "    <tr>\n",
              "      <th>content</th>\n",
              "      <td>0</td>\n",
              "    </tr>\n",
              "  </tbody>\n",
              "</table>\n",
              "</div><br><label><b>dtype:</b> int64</label>"
            ]
          },
          "metadata": {},
          "execution_count": 6
        }
      ]
    },
    {
      "cell_type": "markdown",
      "source": [
        "Aucune valeur manquante n'a été detectée"
      ],
      "metadata": {
        "id": "_UhvHRfX-Rax"
      }
    },
    {
      "cell_type": "code",
      "source": [
        "tweets_df.QUERY.value_counts()"
      ],
      "metadata": {
        "colab": {
          "base_uri": "https://localhost:8080/",
          "height": 147
        },
        "id": "vUTCaCZ2-hWW",
        "outputId": "66a9a1bd-61e9-4860-f38b-22fdba80cfc0"
      },
      "execution_count": 7,
      "outputs": [
        {
          "output_type": "execute_result",
          "data": {
            "text/plain": [
              "QUERY\n",
              "NO_QUERY    1600000\n",
              "Name: count, dtype: int64"
            ],
            "text/html": [
              "<div>\n",
              "<style scoped>\n",
              "    .dataframe tbody tr th:only-of-type {\n",
              "        vertical-align: middle;\n",
              "    }\n",
              "\n",
              "    .dataframe tbody tr th {\n",
              "        vertical-align: top;\n",
              "    }\n",
              "\n",
              "    .dataframe thead th {\n",
              "        text-align: right;\n",
              "    }\n",
              "</style>\n",
              "<table border=\"1\" class=\"dataframe\">\n",
              "  <thead>\n",
              "    <tr style=\"text-align: right;\">\n",
              "      <th></th>\n",
              "      <th>count</th>\n",
              "    </tr>\n",
              "    <tr>\n",
              "      <th>QUERY</th>\n",
              "      <th></th>\n",
              "    </tr>\n",
              "  </thead>\n",
              "  <tbody>\n",
              "    <tr>\n",
              "      <th>NO_QUERY</th>\n",
              "      <td>1600000</td>\n",
              "    </tr>\n",
              "  </tbody>\n",
              "</table>\n",
              "</div><br><label><b>dtype:</b> int64</label>"
            ]
          },
          "metadata": {},
          "execution_count": 7
        }
      ]
    },
    {
      "cell_type": "markdown",
      "source": [
        "Nous allons supprimer la colonne 'QUERY' car elle a une unique valeur qui n'apporte aucune variance à notre jeu de donnée."
      ],
      "metadata": {
        "id": "Akkqwu_3-s1h"
      }
    },
    {
      "cell_type": "code",
      "source": [
        "tweets_df.drop(columns=['QUERY'], inplace=True)"
      ],
      "metadata": {
        "id": "XGEXIb4nBncv"
      },
      "execution_count": 8,
      "outputs": []
    },
    {
      "cell_type": "code",
      "source": [
        "tweets_df.head()"
      ],
      "metadata": {
        "colab": {
          "base_uri": "https://localhost:8080/",
          "height": 206
        },
        "id": "NVAsr5_cBsKL",
        "outputId": "d2771782-cf5f-4c86-9625-b74fbc817a38"
      },
      "execution_count": 9,
      "outputs": [
        {
          "output_type": "execute_result",
          "data": {
            "text/plain": [
              "   target          id                     posted_at        posted_by  \\\n",
              "0       0  1467810369  Mon Apr 06 22:19:45 PDT 2009  _TheSpecialOne_   \n",
              "1       0  1467810672  Mon Apr 06 22:19:49 PDT 2009    scotthamilton   \n",
              "2       0  1467810917  Mon Apr 06 22:19:53 PDT 2009         mattycus   \n",
              "3       0  1467811184  Mon Apr 06 22:19:57 PDT 2009          ElleCTF   \n",
              "4       0  1467811193  Mon Apr 06 22:19:57 PDT 2009           Karoli   \n",
              "\n",
              "                                             content  \n",
              "0  @switchfoot http://twitpic.com/2y1zl - Awww, t...  \n",
              "1  is upset that he can't update his Facebook by ...  \n",
              "2  @Kenichan I dived many times for the ball. Man...  \n",
              "3    my whole body feels itchy and like its on fire   \n",
              "4  @nationwideclass no, it's not behaving at all....  "
            ],
            "text/html": [
              "\n",
              "  <div id=\"df-25c32fbd-3def-4de6-8e44-b55211749c81\" class=\"colab-df-container\">\n",
              "    <div>\n",
              "<style scoped>\n",
              "    .dataframe tbody tr th:only-of-type {\n",
              "        vertical-align: middle;\n",
              "    }\n",
              "\n",
              "    .dataframe tbody tr th {\n",
              "        vertical-align: top;\n",
              "    }\n",
              "\n",
              "    .dataframe thead th {\n",
              "        text-align: right;\n",
              "    }\n",
              "</style>\n",
              "<table border=\"1\" class=\"dataframe\">\n",
              "  <thead>\n",
              "    <tr style=\"text-align: right;\">\n",
              "      <th></th>\n",
              "      <th>target</th>\n",
              "      <th>id</th>\n",
              "      <th>posted_at</th>\n",
              "      <th>posted_by</th>\n",
              "      <th>content</th>\n",
              "    </tr>\n",
              "  </thead>\n",
              "  <tbody>\n",
              "    <tr>\n",
              "      <th>0</th>\n",
              "      <td>0</td>\n",
              "      <td>1467810369</td>\n",
              "      <td>Mon Apr 06 22:19:45 PDT 2009</td>\n",
              "      <td>_TheSpecialOne_</td>\n",
              "      <td>@switchfoot http://twitpic.com/2y1zl - Awww, t...</td>\n",
              "    </tr>\n",
              "    <tr>\n",
              "      <th>1</th>\n",
              "      <td>0</td>\n",
              "      <td>1467810672</td>\n",
              "      <td>Mon Apr 06 22:19:49 PDT 2009</td>\n",
              "      <td>scotthamilton</td>\n",
              "      <td>is upset that he can't update his Facebook by ...</td>\n",
              "    </tr>\n",
              "    <tr>\n",
              "      <th>2</th>\n",
              "      <td>0</td>\n",
              "      <td>1467810917</td>\n",
              "      <td>Mon Apr 06 22:19:53 PDT 2009</td>\n",
              "      <td>mattycus</td>\n",
              "      <td>@Kenichan I dived many times for the ball. Man...</td>\n",
              "    </tr>\n",
              "    <tr>\n",
              "      <th>3</th>\n",
              "      <td>0</td>\n",
              "      <td>1467811184</td>\n",
              "      <td>Mon Apr 06 22:19:57 PDT 2009</td>\n",
              "      <td>ElleCTF</td>\n",
              "      <td>my whole body feels itchy and like its on fire</td>\n",
              "    </tr>\n",
              "    <tr>\n",
              "      <th>4</th>\n",
              "      <td>0</td>\n",
              "      <td>1467811193</td>\n",
              "      <td>Mon Apr 06 22:19:57 PDT 2009</td>\n",
              "      <td>Karoli</td>\n",
              "      <td>@nationwideclass no, it's not behaving at all....</td>\n",
              "    </tr>\n",
              "  </tbody>\n",
              "</table>\n",
              "</div>\n",
              "    <div class=\"colab-df-buttons\">\n",
              "\n",
              "  <div class=\"colab-df-container\">\n",
              "    <button class=\"colab-df-convert\" onclick=\"convertToInteractive('df-25c32fbd-3def-4de6-8e44-b55211749c81')\"\n",
              "            title=\"Convert this dataframe to an interactive table.\"\n",
              "            style=\"display:none;\">\n",
              "\n",
              "  <svg xmlns=\"http://www.w3.org/2000/svg\" height=\"24px\" viewBox=\"0 -960 960 960\">\n",
              "    <path d=\"M120-120v-720h720v720H120Zm60-500h600v-160H180v160Zm220 220h160v-160H400v160Zm0 220h160v-160H400v160ZM180-400h160v-160H180v160Zm440 0h160v-160H620v160ZM180-180h160v-160H180v160Zm440 0h160v-160H620v160Z\"/>\n",
              "  </svg>\n",
              "    </button>\n",
              "\n",
              "  <style>\n",
              "    .colab-df-container {\n",
              "      display:flex;\n",
              "      gap: 12px;\n",
              "    }\n",
              "\n",
              "    .colab-df-convert {\n",
              "      background-color: #E8F0FE;\n",
              "      border: none;\n",
              "      border-radius: 50%;\n",
              "      cursor: pointer;\n",
              "      display: none;\n",
              "      fill: #1967D2;\n",
              "      height: 32px;\n",
              "      padding: 0 0 0 0;\n",
              "      width: 32px;\n",
              "    }\n",
              "\n",
              "    .colab-df-convert:hover {\n",
              "      background-color: #E2EBFA;\n",
              "      box-shadow: 0px 1px 2px rgba(60, 64, 67, 0.3), 0px 1px 3px 1px rgba(60, 64, 67, 0.15);\n",
              "      fill: #174EA6;\n",
              "    }\n",
              "\n",
              "    .colab-df-buttons div {\n",
              "      margin-bottom: 4px;\n",
              "    }\n",
              "\n",
              "    [theme=dark] .colab-df-convert {\n",
              "      background-color: #3B4455;\n",
              "      fill: #D2E3FC;\n",
              "    }\n",
              "\n",
              "    [theme=dark] .colab-df-convert:hover {\n",
              "      background-color: #434B5C;\n",
              "      box-shadow: 0px 1px 3px 1px rgba(0, 0, 0, 0.15);\n",
              "      filter: drop-shadow(0px 1px 2px rgba(0, 0, 0, 0.3));\n",
              "      fill: #FFFFFF;\n",
              "    }\n",
              "  </style>\n",
              "\n",
              "    <script>\n",
              "      const buttonEl =\n",
              "        document.querySelector('#df-25c32fbd-3def-4de6-8e44-b55211749c81 button.colab-df-convert');\n",
              "      buttonEl.style.display =\n",
              "        google.colab.kernel.accessAllowed ? 'block' : 'none';\n",
              "\n",
              "      async function convertToInteractive(key) {\n",
              "        const element = document.querySelector('#df-25c32fbd-3def-4de6-8e44-b55211749c81');\n",
              "        const dataTable =\n",
              "          await google.colab.kernel.invokeFunction('convertToInteractive',\n",
              "                                                    [key], {});\n",
              "        if (!dataTable) return;\n",
              "\n",
              "        const docLinkHtml = 'Like what you see? Visit the ' +\n",
              "          '<a target=\"_blank\" href=https://colab.research.google.com/notebooks/data_table.ipynb>data table notebook</a>'\n",
              "          + ' to learn more about interactive tables.';\n",
              "        element.innerHTML = '';\n",
              "        dataTable['output_type'] = 'display_data';\n",
              "        await google.colab.output.renderOutput(dataTable, element);\n",
              "        const docLink = document.createElement('div');\n",
              "        docLink.innerHTML = docLinkHtml;\n",
              "        element.appendChild(docLink);\n",
              "      }\n",
              "    </script>\n",
              "  </div>\n",
              "\n",
              "\n",
              "    <div id=\"df-6bd9e2fe-160d-4c29-b7ef-279bea9c448b\">\n",
              "      <button class=\"colab-df-quickchart\" onclick=\"quickchart('df-6bd9e2fe-160d-4c29-b7ef-279bea9c448b')\"\n",
              "                title=\"Suggest charts\"\n",
              "                style=\"display:none;\">\n",
              "\n",
              "<svg xmlns=\"http://www.w3.org/2000/svg\" height=\"24px\"viewBox=\"0 0 24 24\"\n",
              "     width=\"24px\">\n",
              "    <g>\n",
              "        <path d=\"M19 3H5c-1.1 0-2 .9-2 2v14c0 1.1.9 2 2 2h14c1.1 0 2-.9 2-2V5c0-1.1-.9-2-2-2zM9 17H7v-7h2v7zm4 0h-2V7h2v10zm4 0h-2v-4h2v4z\"/>\n",
              "    </g>\n",
              "</svg>\n",
              "      </button>\n",
              "\n",
              "<style>\n",
              "  .colab-df-quickchart {\n",
              "      --bg-color: #E8F0FE;\n",
              "      --fill-color: #1967D2;\n",
              "      --hover-bg-color: #E2EBFA;\n",
              "      --hover-fill-color: #174EA6;\n",
              "      --disabled-fill-color: #AAA;\n",
              "      --disabled-bg-color: #DDD;\n",
              "  }\n",
              "\n",
              "  [theme=dark] .colab-df-quickchart {\n",
              "      --bg-color: #3B4455;\n",
              "      --fill-color: #D2E3FC;\n",
              "      --hover-bg-color: #434B5C;\n",
              "      --hover-fill-color: #FFFFFF;\n",
              "      --disabled-bg-color: #3B4455;\n",
              "      --disabled-fill-color: #666;\n",
              "  }\n",
              "\n",
              "  .colab-df-quickchart {\n",
              "    background-color: var(--bg-color);\n",
              "    border: none;\n",
              "    border-radius: 50%;\n",
              "    cursor: pointer;\n",
              "    display: none;\n",
              "    fill: var(--fill-color);\n",
              "    height: 32px;\n",
              "    padding: 0;\n",
              "    width: 32px;\n",
              "  }\n",
              "\n",
              "  .colab-df-quickchart:hover {\n",
              "    background-color: var(--hover-bg-color);\n",
              "    box-shadow: 0 1px 2px rgba(60, 64, 67, 0.3), 0 1px 3px 1px rgba(60, 64, 67, 0.15);\n",
              "    fill: var(--button-hover-fill-color);\n",
              "  }\n",
              "\n",
              "  .colab-df-quickchart-complete:disabled,\n",
              "  .colab-df-quickchart-complete:disabled:hover {\n",
              "    background-color: var(--disabled-bg-color);\n",
              "    fill: var(--disabled-fill-color);\n",
              "    box-shadow: none;\n",
              "  }\n",
              "\n",
              "  .colab-df-spinner {\n",
              "    border: 2px solid var(--fill-color);\n",
              "    border-color: transparent;\n",
              "    border-bottom-color: var(--fill-color);\n",
              "    animation:\n",
              "      spin 1s steps(1) infinite;\n",
              "  }\n",
              "\n",
              "  @keyframes spin {\n",
              "    0% {\n",
              "      border-color: transparent;\n",
              "      border-bottom-color: var(--fill-color);\n",
              "      border-left-color: var(--fill-color);\n",
              "    }\n",
              "    20% {\n",
              "      border-color: transparent;\n",
              "      border-left-color: var(--fill-color);\n",
              "      border-top-color: var(--fill-color);\n",
              "    }\n",
              "    30% {\n",
              "      border-color: transparent;\n",
              "      border-left-color: var(--fill-color);\n",
              "      border-top-color: var(--fill-color);\n",
              "      border-right-color: var(--fill-color);\n",
              "    }\n",
              "    40% {\n",
              "      border-color: transparent;\n",
              "      border-right-color: var(--fill-color);\n",
              "      border-top-color: var(--fill-color);\n",
              "    }\n",
              "    60% {\n",
              "      border-color: transparent;\n",
              "      border-right-color: var(--fill-color);\n",
              "    }\n",
              "    80% {\n",
              "      border-color: transparent;\n",
              "      border-right-color: var(--fill-color);\n",
              "      border-bottom-color: var(--fill-color);\n",
              "    }\n",
              "    90% {\n",
              "      border-color: transparent;\n",
              "      border-bottom-color: var(--fill-color);\n",
              "    }\n",
              "  }\n",
              "</style>\n",
              "\n",
              "      <script>\n",
              "        async function quickchart(key) {\n",
              "          const quickchartButtonEl =\n",
              "            document.querySelector('#' + key + ' button');\n",
              "          quickchartButtonEl.disabled = true;  // To prevent multiple clicks.\n",
              "          quickchartButtonEl.classList.add('colab-df-spinner');\n",
              "          try {\n",
              "            const charts = await google.colab.kernel.invokeFunction(\n",
              "                'suggestCharts', [key], {});\n",
              "          } catch (error) {\n",
              "            console.error('Error during call to suggestCharts:', error);\n",
              "          }\n",
              "          quickchartButtonEl.classList.remove('colab-df-spinner');\n",
              "          quickchartButtonEl.classList.add('colab-df-quickchart-complete');\n",
              "        }\n",
              "        (() => {\n",
              "          let quickchartButtonEl =\n",
              "            document.querySelector('#df-6bd9e2fe-160d-4c29-b7ef-279bea9c448b button');\n",
              "          quickchartButtonEl.style.display =\n",
              "            google.colab.kernel.accessAllowed ? 'block' : 'none';\n",
              "        })();\n",
              "      </script>\n",
              "    </div>\n",
              "\n",
              "    </div>\n",
              "  </div>\n"
            ],
            "application/vnd.google.colaboratory.intrinsic+json": {
              "type": "dataframe",
              "variable_name": "tweets_df"
            }
          },
          "metadata": {},
          "execution_count": 9
        }
      ]
    },
    {
      "cell_type": "code",
      "source": [
        "tweets_df.target.value_counts()"
      ],
      "metadata": {
        "colab": {
          "base_uri": "https://localhost:8080/",
          "height": 178
        },
        "id": "ZlR8ldwTCXE1",
        "outputId": "8aaa2c8f-6f8c-4bd7-8165-e444ac7d16a2"
      },
      "execution_count": 10,
      "outputs": [
        {
          "output_type": "execute_result",
          "data": {
            "text/plain": [
              "target\n",
              "0    800000\n",
              "4    800000\n",
              "Name: count, dtype: int64"
            ],
            "text/html": [
              "<div>\n",
              "<style scoped>\n",
              "    .dataframe tbody tr th:only-of-type {\n",
              "        vertical-align: middle;\n",
              "    }\n",
              "\n",
              "    .dataframe tbody tr th {\n",
              "        vertical-align: top;\n",
              "    }\n",
              "\n",
              "    .dataframe thead th {\n",
              "        text-align: right;\n",
              "    }\n",
              "</style>\n",
              "<table border=\"1\" class=\"dataframe\">\n",
              "  <thead>\n",
              "    <tr style=\"text-align: right;\">\n",
              "      <th></th>\n",
              "      <th>count</th>\n",
              "    </tr>\n",
              "    <tr>\n",
              "      <th>target</th>\n",
              "      <th></th>\n",
              "    </tr>\n",
              "  </thead>\n",
              "  <tbody>\n",
              "    <tr>\n",
              "      <th>0</th>\n",
              "      <td>800000</td>\n",
              "    </tr>\n",
              "    <tr>\n",
              "      <th>4</th>\n",
              "      <td>800000</td>\n",
              "    </tr>\n",
              "  </tbody>\n",
              "</table>\n",
              "</div><br><label><b>dtype:</b> int64</label>"
            ]
          },
          "metadata": {},
          "execution_count": 10
        }
      ]
    },
    {
      "cell_type": "markdown",
      "source": [
        "TARGET a deux valeurs 0 et 4, pour plus de lisibilité nous allons remplacer par 1 ainsi npus aurons deux valeurs qui decrivent mieux la problématique etudiée (sentiment: 0-> positif et 1-> negatif)"
      ],
      "metadata": {
        "id": "pJfYpzCmCYau"
      }
    },
    {
      "cell_type": "code",
      "source": [
        "tweets_df.target = tweets_df.target.replace(to_replace=4, value=1)"
      ],
      "metadata": {
        "id": "BTGPeoQPC2X_"
      },
      "execution_count": 11,
      "outputs": []
    },
    {
      "cell_type": "markdown",
      "source": [
        "Les classes sont equilibrées"
      ],
      "metadata": {
        "id": "Kf_YWzXUGXpp"
      }
    },
    {
      "cell_type": "code",
      "source": [
        "fig, ax = plt.subplots()\n",
        "sns.countplot(data=tweets_df, x='target', ax=ax, hue='target')\n",
        "xticks = ax.xaxis.get_ticks_position()\n",
        "ax.xaxis.set_ticks([0, 1])\n",
        "plt.show()"
      ],
      "metadata": {
        "colab": {
          "base_uri": "https://localhost:8080/",
          "height": 449
        },
        "id": "n85c3x7NEFsv",
        "outputId": "ebd2f171-f9ee-4cdb-a30c-df3270e0bed0"
      },
      "execution_count": 12,
      "outputs": [
        {
          "output_type": "display_data",
          "data": {
            "text/plain": [
              "<Figure size 640x480 with 1 Axes>"
            ],
            "image/png": "[encoded data removed]"
          },
          "metadata": {}
        }
      ]
    },
    {
      "cell_type": "markdown",
      "source": [
        "> Conversion explicite de la colonne **posted_at** en datetime\n"
      ],
      "metadata": {
        "id": "BWH_FAQ5IFig"
      }
    },
    {
      "cell_type": "code",
      "source": [
        "# avant\n",
        "tweets_df.posted_at.dtypes"
      ],
      "metadata": {
        "colab": {
          "base_uri": "https://localhost:8080/"
        },
        "id": "_sL_SHKAJNuX",
        "outputId": "e89ffbba-f661-4a00-e214-dc6ef3f5dc70"
      },
      "execution_count": 13,
      "outputs": [
        {
          "output_type": "execute_result",
          "data": {
            "text/plain": [
              "dtype('O')"
            ]
          },
          "metadata": {},
          "execution_count": 13
        }
      ]
    },
    {
      "cell_type": "code",
      "source": [
        "# Suppression de 'PDT' de la chaîne\n",
        "tweets_df['posted_at'] = tweets_df['posted_at'].str.replace(\"PDT\", \"\", regex=False).str.strip()\n",
        "\n",
        "# Conversion en datetime sans timezone\n",
        "tweets_df['posted_at'] = pd.to_datetime(tweets_df['posted_at'], errors='coerce')\n",
        "\n",
        "# Localisation de la timezone (US Pacific Time)\n",
        "tweets_df['posted_at'] = tweets_df['posted_at'].dt.tz_localize('US/Pacific', ambiguous='NaT', nonexistent='NaT')\n"
      ],
      "metadata": {
        "id": "mCRCMrH-H2sH"
      },
      "execution_count": 14,
      "outputs": []
    },
    {
      "cell_type": "code",
      "source": [
        "# aprés\n",
        "tweets_df.posted_at.dtypes"
      ],
      "metadata": {
        "colab": {
          "base_uri": "https://localhost:8080/"
        },
        "id": "x-FWmACdJr9h",
        "outputId": "d26583e4-ac95-4f8a-d1cd-111e6c17cb49"
      },
      "execution_count": 15,
      "outputs": [
        {
          "output_type": "execute_result",
          "data": {
            "text/plain": [
              "datetime64[ns, US/Pacific]"
            ]
          },
          "metadata": {},
          "execution_count": 15
        }
      ]
    },
    {
      "cell_type": "code",
      "source": [
        "text_length = tweets_df['content'].str.len()\n",
        "plt.hist(text_length)\n",
        "plt.show()"
      ],
      "metadata": {
        "colab": {
          "base_uri": "https://localhost:8080/",
          "height": 430
        },
        "id": "FkztsgWtF3ZV",
        "outputId": "c60af2f4-e266-416f-f32a-907f9cd0804c"
      },
      "execution_count": 16,
      "outputs": [
        {
          "output_type": "display_data",
          "data": {
            "text/plain": [
              "<Figure size 640x480 with 1 Axes>"
            ],
            "image/png": "[encoded data removed]"
          },
          "metadata": {}
        }
      ]
    },
    {
      "cell_type": "code",
      "source": [
        "dtype_counts = tweets_df.dtypes.value_counts().reset_index()\n",
        "dtype_counts.columns = ['dtype', 'count']\n",
        "\n",
        "total = dtype_counts['count'].sum()\n",
        "dtype_counts['percent'] = (dtype_counts['count'] / total * 100).round(1)\n",
        "dtype_counts['dtype'] = dtype_counts['dtype'].astype(str)\n",
        "\n",
        "\n",
        "plt.figure(figsize=(8, 5))\n",
        "sns.barplot(data=dtype_counts, x='dtype', y='count', hue='dtype')\n",
        "\n",
        "for index, row in dtype_counts.iterrows():\n",
        "    plt.text(x=index, y=row['count'] + total * 0.01, s=f\"{row['percent']}%\", ha='center')\n",
        "\n",
        "plt.title(\"Distribution des types des données\")\n",
        "plt.xlabel(\"Type de données\")\n",
        "plt.ylabel(\"Nombre de colonnes\")\n",
        "plt.xticks(rotation=45)\n",
        "plt.tight_layout()\n",
        "plt.show()"
      ],
      "metadata": {
        "colab": {
          "base_uri": "https://localhost:8080/",
          "height": 506
        },
        "id": "90CLA_gLHbsl",
        "outputId": "74fcc6d8-ab7f-4b5b-f645-0846a82cb5a8"
      },
      "execution_count": 17,
      "outputs": [
        {
          "output_type": "display_data",
          "data": {
            "text/plain": [
              "<Figure size 800x500 with 1 Axes>"
            ],
            "image/png": "[encoded data removed]"
          },
          "metadata": {}
        }
      ]
    },
    {
      "cell_type": "markdown",
      "source": [
        "\n",
        "\n",
        "> Tweets dupliqués\n",
        "\n"
      ],
      "metadata": {
        "id": "n5D9ChUtMyNG"
      }
    },
    {
      "cell_type": "code",
      "source": [
        "tweets_df[tweets_df.duplicated(subset=['id', 'content'])]"
      ],
      "metadata": {
        "colab": {
          "base_uri": "https://localhost:8080/",
          "height": 424
        },
        "id": "pbqHyWY3Mqrf",
        "outputId": "76e3ca06-57c2-4ded-ab7f-7575be125bd7"
      },
      "execution_count": 18,
      "outputs": [
        {
          "output_type": "execute_result",
          "data": {
            "text/plain": [
              "         target          id                 posted_at     posted_by  \\\n",
              "800261        1  1467863684 2009-04-06 22:33:35-07:00      DjGundam   \n",
              "800300        1  1467880442 2009-04-06 22:38:04-07:00       iCalvin   \n",
              "801280        1  1468053611 2009-04-06 23:28:09-07:00   mariejamora   \n",
              "801573        1  1468100580 2009-04-06 23:42:57-07:00   cristygarza   \n",
              "801650        1  1468115720 2009-04-06 23:48:00-07:00    WarholGirl   \n",
              "...         ...         ...                       ...           ...   \n",
              "1598780       1  2193278017 2009-06-16 08:14:22-07:00   janiecwales   \n",
              "1599298       1  2193403830 2009-06-16 08:24:44-07:00   lauren__x33   \n",
              "1599385       1  2193428118 2009-06-16 08:26:44-07:00     bubbles00   \n",
              "1599440       1  2193451289 2009-06-16 08:28:37-07:00  faiznurdavid   \n",
              "1599931       1  2193576442 2009-06-16 08:38:45-07:00    emma_b_xox   \n",
              "\n",
              "                                                   content  \n",
              "800261   Awwh babs... you look so sad underneith that s...  \n",
              "800300   Haven't tweeted nearly all day  Posted my webs...  \n",
              "801280   @hellobebe I also send some updates in plurk b...  \n",
              "801573   good night swetdreamss to everyonee   and jare...  \n",
              "801650   @ientje89 aw i'm fine too thanks! yeah i miss ...  \n",
              "...                                                    ...  \n",
              "1598780  oh dear HH is back   please twitter do somethi...  \n",
              "1599298  english exam went okay        revising for fre...  \n",
              "1599385  finally finished typing!!!! Woohoooo  , still ...  \n",
              "1599440  @fanafatin see, @misschimichanga tweet u to jo...  \n",
              "1599931  Had an injection today. Not fun  the rrst of t...  \n",
              "\n",
              "[1685 rows x 5 columns]"
            ],
            "text/html": [
              "\n",
              "  <div id=\"df-1049ae67-e7dd-4c40-b2de-6a328f25bf6c\" class=\"colab-df-container\">\n",
              "    <div>\n",
              "<style scoped>\n",
              "    .dataframe tbody tr th:only-of-type {\n",
              "        vertical-align: middle;\n",
              "    }\n",
              "\n",
              "    .dataframe tbody tr th {\n",
              "        vertical-align: top;\n",
              "    }\n",
              "\n",
              "    .dataframe thead th {\n",
              "        text-align: right;\n",
              "    }\n",
              "</style>\n",
              "<table border=\"1\" class=\"dataframe\">\n",
              "  <thead>\n",
              "    <tr style=\"text-align: right;\">\n",
              "      <th></th>\n",
              "      <th>target</th>\n",
              "      <th>id</th>\n",
              "      <th>posted_at</th>\n",
              "      <th>posted_by</th>\n",
              "      <th>content</th>\n",
              "    </tr>\n",
              "  </thead>\n",
              "  <tbody>\n",
              "    <tr>\n",
              "      <th>800261</th>\n",
              "      <td>1</td>\n",
              "      <td>1467863684</td>\n",
              "      <td>2009-04-06 22:33:35-07:00</td>\n",
              "      <td>DjGundam</td>\n",
              "      <td>Awwh babs... you look so sad underneith that s...</td>\n",
              "    </tr>\n",
              "    <tr>\n",
              "      <th>800300</th>\n",
              "      <td>1</td>\n",
              "      <td>1467880442</td>\n",
              "      <td>2009-04-06 22:38:04-07:00</td>\n",
              "      <td>iCalvin</td>\n",
              "      <td>Haven't tweeted nearly all day  Posted my webs...</td>\n",
              "    </tr>\n",
              "    <tr>\n",
              "      <th>801280</th>\n",
              "      <td>1</td>\n",
              "      <td>1468053611</td>\n",
              "      <td>2009-04-06 23:28:09-07:00</td>\n",
              "      <td>mariejamora</td>\n",
              "      <td>@hellobebe I also send some updates in plurk b...</td>\n",
              "    </tr>\n",
              "    <tr>\n",
              "      <th>801573</th>\n",
              "      <td>1</td>\n",
              "      <td>1468100580</td>\n",
              "      <td>2009-04-06 23:42:57-07:00</td>\n",
              "      <td>cristygarza</td>\n",
              "      <td>good night swetdreamss to everyonee   and jare...</td>\n",
              "    </tr>\n",
              "    <tr>\n",
              "      <th>801650</th>\n",
              "      <td>1</td>\n",
              "      <td>1468115720</td>\n",
              "      <td>2009-04-06 23:48:00-07:00</td>\n",
              "      <td>WarholGirl</td>\n",
              "      <td>@ientje89 aw i'm fine too thanks! yeah i miss ...</td>\n",
              "    </tr>\n",
              "    <tr>\n",
              "      <th>...</th>\n",
              "      <td>...</td>\n",
              "      <td>...</td>\n",
              "      <td>...</td>\n",
              "      <td>...</td>\n",
              "      <td>...</td>\n",
              "    </tr>\n",
              "    <tr>\n",
              "      <th>1598780</th>\n",
              "      <td>1</td>\n",
              "      <td>2193278017</td>\n",
              "      <td>2009-06-16 08:14:22-07:00</td>\n",
              "      <td>janiecwales</td>\n",
              "      <td>oh dear HH is back   please twitter do somethi...</td>\n",
              "    </tr>\n",
              "    <tr>\n",
              "      <th>1599298</th>\n",
              "      <td>1</td>\n",
              "      <td>2193403830</td>\n",
              "      <td>2009-06-16 08:24:44-07:00</td>\n",
              "      <td>lauren__x33</td>\n",
              "      <td>english exam went okay        revising for fre...</td>\n",
              "    </tr>\n",
              "    <tr>\n",
              "      <th>1599385</th>\n",
              "      <td>1</td>\n",
              "      <td>2193428118</td>\n",
              "      <td>2009-06-16 08:26:44-07:00</td>\n",
              "      <td>bubbles00</td>\n",
              "      <td>finally finished typing!!!! Woohoooo  , still ...</td>\n",
              "    </tr>\n",
              "    <tr>\n",
              "      <th>1599440</th>\n",
              "      <td>1</td>\n",
              "      <td>2193451289</td>\n",
              "      <td>2009-06-16 08:28:37-07:00</td>\n",
              "      <td>faiznurdavid</td>\n",
              "      <td>@fanafatin see, @misschimichanga tweet u to jo...</td>\n",
              "    </tr>\n",
              "    <tr>\n",
              "      <th>1599931</th>\n",
              "      <td>1</td>\n",
              "      <td>2193576442</td>\n",
              "      <td>2009-06-16 08:38:45-07:00</td>\n",
              "      <td>emma_b_xox</td>\n",
              "      <td>Had an injection today. Not fun  the rrst of t...</td>\n",
              "    </tr>\n",
              "  </tbody>\n",
              "</table>\n",
              "<p>1685 rows × 5 columns</p>\n",
              "</div>\n",
              "    <div class=\"colab-df-buttons\">\n",
              "\n",
              "  <div class=\"colab-df-container\">\n",
              "    <button class=\"colab-df-convert\" onclick=\"convertToInteractive('df-1049ae67-e7dd-4c40-b2de-6a328f25bf6c')\"\n",
              "            title=\"Convert this dataframe to an interactive table.\"\n",
              "            style=\"display:none;\">\n",
              "\n",
              "  <svg xmlns=\"http://www.w3.org/2000/svg\" height=\"24px\" viewBox=\"0 -960 960 960\">\n",
              "    <path d=\"M120-120v-720h720v720H120Zm60-500h600v-160H180v160Zm220 220h160v-160H400v160Zm0 220h160v-160H400v160ZM180-400h160v-160H180v160Zm440 0h160v-160H620v160ZM180-180h160v-160H180v160Zm440 0h160v-160H620v160Z\"/>\n",
              "  </svg>\n",
              "    </button>\n",
              "\n",
              "  <style>\n",
              "    .colab-df-container {\n",
              "      display:flex;\n",
              "      gap: 12px;\n",
              "    }\n",
              "\n",
              "    .colab-df-convert {\n",
              "      background-color: #E8F0FE;\n",
              "      border: none;\n",
              "      border-radius: 50%;\n",
              "      cursor: pointer;\n",
              "      display: none;\n",
              "      fill: #1967D2;\n",
              "      height: 32px;\n",
              "      padding: 0 0 0 0;\n",
              "      width: 32px;\n",
              "    }\n",
              "\n",
              "    .colab-df-convert:hover {\n",
              "      background-color: #E2EBFA;\n",
              "      box-shadow: 0px 1px 2px rgba(60, 64, 67, 0.3), 0px 1px 3px 1px rgba(60, 64, 67, 0.15);\n",
              "      fill: #174EA6;\n",
              "    }\n",
              "\n",
              "    .colab-df-buttons div {\n",
              "      margin-bottom: 4px;\n",
              "    }\n",
              "\n",
              "    [theme=dark] .colab-df-convert {\n",
              "      background-color: #3B4455;\n",
              "      fill: #D2E3FC;\n",
              "    }\n",
              "\n",
              "    [theme=dark] .colab-df-convert:hover {\n",
              "      background-color: #434B5C;\n",
              "      box-shadow: 0px 1px 3px 1px rgba(0, 0, 0, 0.15);\n",
              "      filter: drop-shadow(0px 1px 2px rgba(0, 0, 0, 0.3));\n",
              "      fill: #FFFFFF;\n",
              "    }\n",
              "  </style>\n",
              "\n",
              "    <script>\n",
              "      const buttonEl =\n",
              "        document.querySelector('#df-1049ae67-e7dd-4c40-b2de-6a328f25bf6c button.colab-df-convert');\n",
              "      buttonEl.style.display =\n",
              "        google.colab.kernel.accessAllowed ? 'block' : 'none';\n",
              "\n",
              "      async function convertToInteractive(key) {\n",
              "        const element = document.querySelector('#df-1049ae67-e7dd-4c40-b2de-6a328f25bf6c');\n",
              "        const dataTable =\n",
              "          await google.colab.kernel.invokeFunction('convertToInteractive',\n",
              "                                                    [key], {});\n",
              "        if (!dataTable) return;\n",
              "\n",
              "        const docLinkHtml = 'Like what you see? Visit the ' +\n",
              "          '<a target=\"_blank\" href=https://colab.research.google.com/notebooks/data_table.ipynb>data table notebook</a>'\n",
              "          + ' to learn more about interactive tables.';\n",
              "        element.innerHTML = '';\n",
              "        dataTable['output_type'] = 'display_data';\n",
              "        await google.colab.output.renderOutput(dataTable, element);\n",
              "        const docLink = document.createElement('div');\n",
              "        docLink.innerHTML = docLinkHtml;\n",
              "        element.appendChild(docLink);\n",
              "      }\n",
              "    </script>\n",
              "  </div>\n",
              "\n",
              "\n",
              "    <div id=\"df-1379c483-4be8-4afd-93cf-76f3539c2a05\">\n",
              "      <button class=\"colab-df-quickchart\" onclick=\"quickchart('df-1379c483-4be8-4afd-93cf-76f3539c2a05')\"\n",
              "                title=\"Suggest charts\"\n",
              "                style=\"display:none;\">\n",
              "\n",
              "<svg xmlns=\"http://www.w3.org/2000/svg\" height=\"24px\"viewBox=\"0 0 24 24\"\n",
              "     width=\"24px\">\n",
              "    <g>\n",
              "        <path d=\"M19 3H5c-1.1 0-2 .9-2 2v14c0 1.1.9 2 2 2h14c1.1 0 2-.9 2-2V5c0-1.1-.9-2-2-2zM9 17H7v-7h2v7zm4 0h-2V7h2v10zm4 0h-2v-4h2v4z\"/>\n",
              "    </g>\n",
              "</svg>\n",
              "      </button>\n",
              "\n",
              "<style>\n",
              "  .colab-df-quickchart {\n",
              "      --bg-color: #E8F0FE;\n",
              "      --fill-color: #1967D2;\n",
              "      --hover-bg-color: #E2EBFA;\n",
              "      --hover-fill-color: #174EA6;\n",
              "      --disabled-fill-color: #AAA;\n",
              "      --disabled-bg-color: #DDD;\n",
              "  }\n",
              "\n",
              "  [theme=dark] .colab-df-quickchart {\n",
              "      --bg-color: #3B4455;\n",
              "      --fill-color: #D2E3FC;\n",
              "      --hover-bg-color: #434B5C;\n",
              "      --hover-fill-color: #FFFFFF;\n",
              "      --disabled-bg-color: #3B4455;\n",
              "      --disabled-fill-color: #666;\n",
              "  }\n",
              "\n",
              "  .colab-df-quickchart {\n",
              "    background-color: var(--bg-color);\n",
              "    border: none;\n",
              "    border-radius: 50%;\n",
              "    cursor: pointer;\n",
              "    display: none;\n",
              "    fill: var(--fill-color);\n",
              "    height: 32px;\n",
              "    padding: 0;\n",
              "    width: 32px;\n",
              "  }\n",
              "\n",
              "  .colab-df-quickchart:hover {\n",
              "    background-color: var(--hover-bg-color);\n",
              "    box-shadow: 0 1px 2px rgba(60, 64, 67, 0.3), 0 1px 3px 1px rgba(60, 64, 67, 0.15);\n",
              "    fill: var(--button-hover-fill-color);\n",
              "  }\n",
              "\n",
              "  .colab-df-quickchart-complete:disabled,\n",
              "  .colab-df-quickchart-complete:disabled:hover {\n",
              "    background-color: var(--disabled-bg-color);\n",
              "    fill: var(--disabled-fill-color);\n",
              "    box-shadow: none;\n",
              "  }\n",
              "\n",
              "  .colab-df-spinner {\n",
              "    border: 2px solid var(--fill-color);\n",
              "    border-color: transparent;\n",
              "    border-bottom-color: var(--fill-color);\n",
              "    animation:\n",
              "      spin 1s steps(1) infinite;\n",
              "  }\n",
              "\n",
              "  @keyframes spin {\n",
              "    0% {\n",
              "      border-color: transparent;\n",
              "      border-bottom-color: var(--fill-color);\n",
              "      border-left-color: var(--fill-color);\n",
              "    }\n",
              "    20% {\n",
              "      border-color: transparent;\n",
              "      border-left-color: var(--fill-color);\n",
              "      border-top-color: var(--fill-color);\n",
              "    }\n",
              "    30% {\n",
              "      border-color: transparent;\n",
              "      border-left-color: var(--fill-color);\n",
              "      border-top-color: var(--fill-color);\n",
              "      border-right-color: var(--fill-color);\n",
              "    }\n",
              "    40% {\n",
              "      border-color: transparent;\n",
              "      border-right-color: var(--fill-color);\n",
              "      border-top-color: var(--fill-color);\n",
              "    }\n",
              "    60% {\n",
              "      border-color: transparent;\n",
              "      border-right-color: var(--fill-color);\n",
              "    }\n",
              "    80% {\n",
              "      border-color: transparent;\n",
              "      border-right-color: var(--fill-color);\n",
              "      border-bottom-color: var(--fill-color);\n",
              "    }\n",
              "    90% {\n",
              "      border-color: transparent;\n",
              "      border-bottom-color: var(--fill-color);\n",
              "    }\n",
              "  }\n",
              "</style>\n",
              "\n",
              "      <script>\n",
              "        async function quickchart(key) {\n",
              "          const quickchartButtonEl =\n",
              "            document.querySelector('#' + key + ' button');\n",
              "          quickchartButtonEl.disabled = true;  // To prevent multiple clicks.\n",
              "          quickchartButtonEl.classList.add('colab-df-spinner');\n",
              "          try {\n",
              "            const charts = await google.colab.kernel.invokeFunction(\n",
              "                'suggestCharts', [key], {});\n",
              "          } catch (error) {\n",
              "            console.error('Error during call to suggestCharts:', error);\n",
              "          }\n",
              "          quickchartButtonEl.classList.remove('colab-df-spinner');\n",
              "          quickchartButtonEl.classList.add('colab-df-quickchart-complete');\n",
              "        }\n",
              "        (() => {\n",
              "          let quickchartButtonEl =\n",
              "            document.querySelector('#df-1379c483-4be8-4afd-93cf-76f3539c2a05 button');\n",
              "          quickchartButtonEl.style.display =\n",
              "            google.colab.kernel.accessAllowed ? 'block' : 'none';\n",
              "        })();\n",
              "      </script>\n",
              "    </div>\n",
              "\n",
              "    </div>\n",
              "  </div>\n"
            ],
            "application/vnd.google.colaboratory.intrinsic+json": {
              "type": "dataframe",
              "summary": "{\n  \"name\": \"tweets_df[tweets_df\",\n  \"rows\": 1685,\n  \"fields\": [\n    {\n      \"column\": \"target\",\n      \"properties\": {\n        \"dtype\": \"number\",\n        \"std\": 0,\n        \"min\": 1,\n        \"max\": 1,\n        \"num_unique_values\": 1,\n        \"samples\": [\n          1\n        ],\n        \"semantic_type\": \"\",\n        \"description\": \"\"\n      }\n    },\n    {\n      \"column\": \"id\",\n      \"properties\": {\n        \"dtype\": \"number\",\n        \"std\": 171110598,\n        \"min\": 1467863684,\n        \"max\": 2193576442,\n        \"num_unique_values\": 1685,\n        \"samples\": [\n          2052039454\n        ],\n        \"semantic_type\": \"\",\n        \"description\": \"\"\n      }\n    },\n    {\n      \"column\": \"posted_at\",\n      \"properties\": {\n        \"dtype\": \"date\",\n        \"min\": \"2009-04-06 22:33:35-07:00\",\n        \"max\": \"2009-06-16 08:38:45-07:00\",\n        \"num_unique_values\": 1676,\n        \"samples\": [\n          \"2009-06-01 00:30:02-07:00\"\n        ],\n        \"semantic_type\": \"\",\n        \"description\": \"\"\n      }\n    },\n    {\n      \"column\": \"posted_by\",\n      \"properties\": {\n        \"dtype\": \"string\",\n        \"num_unique_values\": 1601,\n        \"samples\": [\n          \"lilwldchld\"\n        ],\n        \"semantic_type\": \"\",\n        \"description\": \"\"\n      }\n    },\n    {\n      \"column\": \"content\",\n      \"properties\": {\n        \"dtype\": \"string\",\n        \"num_unique_values\": 1678,\n        \"samples\": [\n          \"@MarkGilesHRP @Spirit1053Sarah I'm signing the Sara Groves petition with you my friend!   I don't think it'll happen \"\n        ],\n        \"semantic_type\": \"\",\n        \"description\": \"\"\n      }\n    }\n  ]\n}"
            }
          },
          "metadata": {},
          "execution_count": 18
        }
      ]
    },
    {
      "cell_type": "code",
      "source": [
        "tweets_df.loc[tweets_df.id==2193576442]"
      ],
      "metadata": {
        "colab": {
          "base_uri": "https://localhost:8080/",
          "height": 112
        },
        "id": "awtJ47VyN0od",
        "outputId": "df55a292-8bd5-4578-9e6a-bb65c7daf77e"
      },
      "execution_count": 19,
      "outputs": [
        {
          "output_type": "execute_result",
          "data": {
            "text/plain": [
              "         target          id                 posted_at   posted_by  \\\n",
              "524688        0  2193576442 2009-06-16 08:38:45-07:00  emma_b_xox   \n",
              "1599931       1  2193576442 2009-06-16 08:38:45-07:00  emma_b_xox   \n",
              "\n",
              "                                                   content  \n",
              "524688   Had an injection today. Not fun  the rrst of t...  \n",
              "1599931  Had an injection today. Not fun  the rrst of t...  "
            ],
            "text/html": [
              "\n",
              "  <div id=\"df-7a8d6414-ed92-4c0f-afc5-ccf85812c59d\" class=\"colab-df-container\">\n",
              "    <div>\n",
              "<style scoped>\n",
              "    .dataframe tbody tr th:only-of-type {\n",
              "        vertical-align: middle;\n",
              "    }\n",
              "\n",
              "    .dataframe tbody tr th {\n",
              "        vertical-align: top;\n",
              "    }\n",
              "\n",
              "    .dataframe thead th {\n",
              "        text-align: right;\n",
              "    }\n",
              "</style>\n",
              "<table border=\"1\" class=\"dataframe\">\n",
              "  <thead>\n",
              "    <tr style=\"text-align: right;\">\n",
              "      <th></th>\n",
              "      <th>target</th>\n",
              "      <th>id</th>\n",
              "      <th>posted_at</th>\n",
              "      <th>posted_by</th>\n",
              "      <th>content</th>\n",
              "    </tr>\n",
              "  </thead>\n",
              "  <tbody>\n",
              "    <tr>\n",
              "      <th>524688</th>\n",
              "      <td>0</td>\n",
              "      <td>2193576442</td>\n",
              "      <td>2009-06-16 08:38:45-07:00</td>\n",
              "      <td>emma_b_xox</td>\n",
              "      <td>Had an injection today. Not fun  the rrst of t...</td>\n",
              "    </tr>\n",
              "    <tr>\n",
              "      <th>1599931</th>\n",
              "      <td>1</td>\n",
              "      <td>2193576442</td>\n",
              "      <td>2009-06-16 08:38:45-07:00</td>\n",
              "      <td>emma_b_xox</td>\n",
              "      <td>Had an injection today. Not fun  the rrst of t...</td>\n",
              "    </tr>\n",
              "  </tbody>\n",
              "</table>\n",
              "</div>\n",
              "    <div class=\"colab-df-buttons\">\n",
              "\n",
              "  <div class=\"colab-df-container\">\n",
              "    <button class=\"colab-df-convert\" onclick=\"convertToInteractive('df-7a8d6414-ed92-4c0f-afc5-ccf85812c59d')\"\n",
              "            title=\"Convert this dataframe to an interactive table.\"\n",
              "            style=\"display:none;\">\n",
              "\n",
              "  <svg xmlns=\"http://www.w3.org/2000/svg\" height=\"24px\" viewBox=\"0 -960 960 960\">\n",
              "    <path d=\"M120-120v-720h720v720H120Zm60-500h600v-160H180v160Zm220 220h160v-160H400v160Zm0 220h160v-160H400v160ZM180-400h160v-160H180v160Zm440 0h160v-160H620v160ZM180-180h160v-160H180v160Zm440 0h160v-160H620v160Z\"/>\n",
              "  </svg>\n",
              "    </button>\n",
              "\n",
              "  <style>\n",
              "    .colab-df-container {\n",
              "      display:flex;\n",
              "      gap: 12px;\n",
              "    }\n",
              "\n",
              "    .colab-df-convert {\n",
              "      background-color: #E8F0FE;\n",
              "      border: none;\n",
              "      border-radius: 50%;\n",
              "      cursor: pointer;\n",
              "      display: none;\n",
              "      fill: #1967D2;\n",
              "      height: 32px;\n",
              "      padding: 0 0 0 0;\n",
              "      width: 32px;\n",
              "    }\n",
              "\n",
              "    .colab-df-convert:hover {\n",
              "      background-color: #E2EBFA;\n",
              "      box-shadow: 0px 1px 2px rgba(60, 64, 67, 0.3), 0px 1px 3px 1px rgba(60, 64, 67, 0.15);\n",
              "      fill: #174EA6;\n",
              "    }\n",
              "\n",
              "    .colab-df-buttons div {\n",
              "      margin-bottom: 4px;\n",
              "    }\n",
              "\n",
              "    [theme=dark] .colab-df-convert {\n",
              "      background-color: #3B4455;\n",
              "      fill: #D2E3FC;\n",
              "    }\n",
              "\n",
              "    [theme=dark] .colab-df-convert:hover {\n",
              "      background-color: #434B5C;\n",
              "      box-shadow: 0px 1px 3px 1px rgba(0, 0, 0, 0.15);\n",
              "      filter: drop-shadow(0px 1px 2px rgba(0, 0, 0, 0.3));\n",
              "      fill: #FFFFFF;\n",
              "    }\n",
              "  </style>\n",
              "\n",
              "    <script>\n",
              "      const buttonEl =\n",
              "        document.querySelector('#df-7a8d6414-ed92-4c0f-afc5-ccf85812c59d button.colab-df-convert');\n",
              "      buttonEl.style.display =\n",
              "        google.colab.kernel.accessAllowed ? 'block' : 'none';\n",
              "\n",
              "      async function convertToInteractive(key) {\n",
              "        const element = document.querySelector('#df-7a8d6414-ed92-4c0f-afc5-ccf85812c59d');\n",
              "        const dataTable =\n",
              "          await google.colab.kernel.invokeFunction('convertToInteractive',\n",
              "                                                    [key], {});\n",
              "        if (!dataTable) return;\n",
              "\n",
              "        const docLinkHtml = 'Like what you see? Visit the ' +\n",
              "          '<a target=\"_blank\" href=https://colab.research.google.com/notebooks/data_table.ipynb>data table notebook</a>'\n",
              "          + ' to learn more about interactive tables.';\n",
              "        element.innerHTML = '';\n",
              "        dataTable['output_type'] = 'display_data';\n",
              "        await google.colab.output.renderOutput(dataTable, element);\n",
              "        const docLink = document.createElement('div');\n",
              "        docLink.innerHTML = docLinkHtml;\n",
              "        element.appendChild(docLink);\n",
              "      }\n",
              "    </script>\n",
              "  </div>\n",
              "\n",
              "\n",
              "    <div id=\"df-12fe2782-75db-4636-8278-ca16ae6c8210\">\n",
              "      <button class=\"colab-df-quickchart\" onclick=\"quickchart('df-12fe2782-75db-4636-8278-ca16ae6c8210')\"\n",
              "                title=\"Suggest charts\"\n",
              "                style=\"display:none;\">\n",
              "\n",
              "<svg xmlns=\"http://www.w3.org/2000/svg\" height=\"24px\"viewBox=\"0 0 24 24\"\n",
              "     width=\"24px\">\n",
              "    <g>\n",
              "        <path d=\"M19 3H5c-1.1 0-2 .9-2 2v14c0 1.1.9 2 2 2h14c1.1 0 2-.9 2-2V5c0-1.1-.9-2-2-2zM9 17H7v-7h2v7zm4 0h-2V7h2v10zm4 0h-2v-4h2v4z\"/>\n",
              "    </g>\n",
              "</svg>\n",
              "      </button>\n",
              "\n",
              "<style>\n",
              "  .colab-df-quickchart {\n",
              "      --bg-color: #E8F0FE;\n",
              "      --fill-color: #1967D2;\n",
              "      --hover-bg-color: #E2EBFA;\n",
              "      --hover-fill-color: #174EA6;\n",
              "      --disabled-fill-color: #AAA;\n",
              "      --disabled-bg-color: #DDD;\n",
              "  }\n",
              "\n",
              "  [theme=dark] .colab-df-quickchart {\n",
              "      --bg-color: #3B4455;\n",
              "      --fill-color: #D2E3FC;\n",
              "      --hover-bg-color: #434B5C;\n",
              "      --hover-fill-color: #FFFFFF;\n",
              "      --disabled-bg-color: #3B4455;\n",
              "      --disabled-fill-color: #666;\n",
              "  }\n",
              "\n",
              "  .colab-df-quickchart {\n",
              "    background-color: var(--bg-color);\n",
              "    border: none;\n",
              "    border-radius: 50%;\n",
              "    cursor: pointer;\n",
              "    display: none;\n",
              "    fill: var(--fill-color);\n",
              "    height: 32px;\n",
              "    padding: 0;\n",
              "    width: 32px;\n",
              "  }\n",
              "\n",
              "  .colab-df-quickchart:hover {\n",
              "    background-color: var(--hover-bg-color);\n",
              "    box-shadow: 0 1px 2px rgba(60, 64, 67, 0.3), 0 1px 3px 1px rgba(60, 64, 67, 0.15);\n",
              "    fill: var(--button-hover-fill-color);\n",
              "  }\n",
              "\n",
              "  .colab-df-quickchart-complete:disabled,\n",
              "  .colab-df-quickchart-complete:disabled:hover {\n",
              "    background-color: var(--disabled-bg-color);\n",
              "    fill: var(--disabled-fill-color);\n",
              "    box-shadow: none;\n",
              "  }\n",
              "\n",
              "  .colab-df-spinner {\n",
              "    border: 2px solid var(--fill-color);\n",
              "    border-color: transparent;\n",
              "    border-bottom-color: var(--fill-color);\n",
              "    animation:\n",
              "      spin 1s steps(1) infinite;\n",
              "  }\n",
              "\n",
              "  @keyframes spin {\n",
              "    0% {\n",
              "      border-color: transparent;\n",
              "      border-bottom-color: var(--fill-color);\n",
              "      border-left-color: var(--fill-color);\n",
              "    }\n",
              "    20% {\n",
              "      border-color: transparent;\n",
              "      border-left-color: var(--fill-color);\n",
              "      border-top-color: var(--fill-color);\n",
              "    }\n",
              "    30% {\n",
              "      border-color: transparent;\n",
              "      border-left-color: var(--fill-color);\n",
              "      border-top-color: var(--fill-color);\n",
              "      border-right-color: var(--fill-color);\n",
              "    }\n",
              "    40% {\n",
              "      border-color: transparent;\n",
              "      border-right-color: var(--fill-color);\n",
              "      border-top-color: var(--fill-color);\n",
              "    }\n",
              "    60% {\n",
              "      border-color: transparent;\n",
              "      border-right-color: var(--fill-color);\n",
              "    }\n",
              "    80% {\n",
              "      border-color: transparent;\n",
              "      border-right-color: var(--fill-color);\n",
              "      border-bottom-color: var(--fill-color);\n",
              "    }\n",
              "    90% {\n",
              "      border-color: transparent;\n",
              "      border-bottom-color: var(--fill-color);\n",
              "    }\n",
              "  }\n",
              "</style>\n",
              "\n",
              "      <script>\n",
              "        async function quickchart(key) {\n",
              "          const quickchartButtonEl =\n",
              "            document.querySelector('#' + key + ' button');\n",
              "          quickchartButtonEl.disabled = true;  // To prevent multiple clicks.\n",
              "          quickchartButtonEl.classList.add('colab-df-spinner');\n",
              "          try {\n",
              "            const charts = await google.colab.kernel.invokeFunction(\n",
              "                'suggestCharts', [key], {});\n",
              "          } catch (error) {\n",
              "            console.error('Error during call to suggestCharts:', error);\n",
              "          }\n",
              "          quickchartButtonEl.classList.remove('colab-df-spinner');\n",
              "          quickchartButtonEl.classList.add('colab-df-quickchart-complete');\n",
              "        }\n",
              "        (() => {\n",
              "          let quickchartButtonEl =\n",
              "            document.querySelector('#df-12fe2782-75db-4636-8278-ca16ae6c8210 button');\n",
              "          quickchartButtonEl.style.display =\n",
              "            google.colab.kernel.accessAllowed ? 'block' : 'none';\n",
              "        })();\n",
              "      </script>\n",
              "    </div>\n",
              "\n",
              "    </div>\n",
              "  </div>\n"
            ],
            "application/vnd.google.colaboratory.intrinsic+json": {
              "type": "dataframe",
              "summary": "{\n  \"name\": \"tweets_df\",\n  \"rows\": 2,\n  \"fields\": [\n    {\n      \"column\": \"target\",\n      \"properties\": {\n        \"dtype\": \"number\",\n        \"std\": 0,\n        \"min\": 0,\n        \"max\": 1,\n        \"num_unique_values\": 2,\n        \"samples\": [\n          1,\n          0\n        ],\n        \"semantic_type\": \"\",\n        \"description\": \"\"\n      }\n    },\n    {\n      \"column\": \"id\",\n      \"properties\": {\n        \"dtype\": \"number\",\n        \"std\": 0,\n        \"min\": 2193576442,\n        \"max\": 2193576442,\n        \"num_unique_values\": 1,\n        \"samples\": [\n          2193576442\n        ],\n        \"semantic_type\": \"\",\n        \"description\": \"\"\n      }\n    },\n    {\n      \"column\": \"posted_at\",\n      \"properties\": {\n        \"dtype\": \"date\",\n        \"min\": \"2009-06-16 08:38:45-07:00\",\n        \"max\": \"2009-06-16 08:38:45-07:00\",\n        \"num_unique_values\": 1,\n        \"samples\": [\n          \"2009-06-16 08:38:45-07:00\"\n        ],\n        \"semantic_type\": \"\",\n        \"description\": \"\"\n      }\n    },\n    {\n      \"column\": \"posted_by\",\n      \"properties\": {\n        \"dtype\": \"string\",\n        \"num_unique_values\": 1,\n        \"samples\": [\n          \"emma_b_xox\"\n        ],\n        \"semantic_type\": \"\",\n        \"description\": \"\"\n      }\n    },\n    {\n      \"column\": \"content\",\n      \"properties\": {\n        \"dtype\": \"string\",\n        \"num_unique_values\": 1,\n        \"samples\": [\n          \"Had an injection today. Not fun  the rrst of the school day has been good. Tonight i am going dancing yey \"\n        ],\n        \"semantic_type\": \"\",\n        \"description\": \"\"\n      }\n    }\n  ]\n}"
            }
          },
          "metadata": {},
          "execution_count": 19
        }
      ]
    },
    {
      "cell_type": "markdown",
      "source": [
        "L’exemple ci-dessous illustre un cas de duplication : deux observations partagent le même identifiant (`id`) et le même contenu (`content`). Cependant, elles sont associées à des **labels différents** (`0` pour l’une et `1` pour l’autre), ce qui crée une incohérence.\n",
        "\n",
        "Pour gérer ce type de cas, nous adoptons la stratégie suivante :\n",
        "\n",
        "- **Si les observations dupliquées ont des labels différents** :  \n",
        "  *Nous supprimons les deux*, car cette contradiction rend le label peu fiable et pourrait introduire du bruit dans l’apprentissage du modèle.\n",
        "\n",
        "- **Si les observations dupliquées ont le même label** :  \n",
        "  *Nous ne conservons qu’une seule occurrence*, afin de réduire les redondances et éviter de biaiser le modèle avec des doublons.\n",
        "\n",
        "> Cette stratégie permet de nettoyer les données de manière prudente, en écartant les cas ambigus et en limitant la surreprésentation de certains exemples.\n",
        "\n"
      ],
      "metadata": {
        "id": "fdfiXv4tOddc"
      }
    },
    {
      "cell_type": "code",
      "source": [
        "# les doublons ayant les memes labels\n",
        "print(tweets_df[tweets_df.duplicated(subset=['id', 'content', 'target'])])"
      ],
      "metadata": {
        "colab": {
          "base_uri": "https://localhost:8080/"
        },
        "id": "iR8CmeAmSsLM",
        "outputId": "bc97c088-ffa3-4cfe-ef50-a12f58bf1fa4"
      },
      "execution_count": 20,
      "outputs": [
        {
          "output_type": "stream",
          "name": "stdout",
          "text": [
            "Empty DataFrame\n",
            "Columns: [target, id, posted_at, posted_by, content]\n",
            "Index: []\n"
          ]
        }
      ]
    },
    {
      "cell_type": "code",
      "source": [
        "# les doublons ayant differents labels\n",
        "duplicate_rows = tweets_df.duplicated(subset=['id', 'content'], keep=False)\n",
        "display(tweets_df[duplicate_rows].info())"
      ],
      "metadata": {
        "colab": {
          "base_uri": "https://localhost:8080/",
          "height": 256
        },
        "id": "9JAFb0IEQrYq",
        "outputId": "e6ee99d0-a763-436d-d203-652ad9aaf465"
      },
      "execution_count": 21,
      "outputs": [
        {
          "output_type": "stream",
          "name": "stdout",
          "text": [
            "<class 'pandas.core.frame.DataFrame'>\n",
            "Index: 3370 entries, 213 to 1599931\n",
            "Data columns (total 5 columns):\n",
            " #   Column     Non-Null Count  Dtype                     \n",
            "---  ------     --------------  -----                     \n",
            " 0   target     3370 non-null   int64                     \n",
            " 1   id         3370 non-null   int64                     \n",
            " 2   posted_at  3370 non-null   datetime64[ns, US/Pacific]\n",
            " 3   posted_by  3370 non-null   object                    \n",
            " 4   content    3370 non-null   object                    \n",
            "dtypes: datetime64[ns, US/Pacific](1), int64(2), object(2)\n",
            "memory usage: 158.0+ KB\n"
          ]
        },
        {
          "output_type": "display_data",
          "data": {
            "text/plain": [
              "None"
            ]
          },
          "metadata": {}
        }
      ]
    },
    {
      "cell_type": "code",
      "source": [
        "# Suppression des doublons\n",
        "tweets_df = tweets_df[~(duplicate_rows)]"
      ],
      "metadata": {
        "id": "WuyA7S7iOgBU"
      },
      "execution_count": 22,
      "outputs": []
    },
    {
      "cell_type": "code",
      "source": [
        "tweets_df.shape"
      ],
      "metadata": {
        "colab": {
          "base_uri": "https://localhost:8080/"
        },
        "id": "szzqc4fvVPTL",
        "outputId": "2474e350-285f-4bf7-a633-38fc7f21fc71"
      },
      "execution_count": 23,
      "outputs": [
        {
          "output_type": "execute_result",
          "data": {
            "text/plain": [
              "(1596630, 5)"
            ]
          },
          "metadata": {},
          "execution_count": 23
        }
      ]
    },
    {
      "cell_type": "markdown",
      "source": [
        "\n",
        "\n",
        "> suppression des doublons (user, message)\n",
        "\n"
      ],
      "metadata": {
        "id": "wlddS191au-t"
      }
    },
    {
      "cell_type": "code",
      "source": [
        "rows = tweets_df.duplicated(subset=['content', 'posted_by'], keep=False)\n",
        "rows.sum()"
      ],
      "metadata": {
        "colab": {
          "base_uri": "https://localhost:8080/"
        },
        "id": "xXgLSkYVWxtw",
        "outputId": "a13cb5ae-bd4a-4752-bfed-1052d9e255f5"
      },
      "execution_count": 24,
      "outputs": [
        {
          "output_type": "execute_result",
          "data": {
            "text/plain": [
              "5431"
            ]
          },
          "metadata": {},
          "execution_count": 24
        }
      ]
    },
    {
      "cell_type": "code",
      "source": [
        "duplicated_contents = tweets_df[rows]"
      ],
      "metadata": {
        "id": "WrMGg7bBVpN4"
      },
      "execution_count": 25,
      "outputs": []
    },
    {
      "cell_type": "code",
      "source": [
        "duplicated_contents"
      ],
      "metadata": {
        "colab": {
          "base_uri": "https://localhost:8080/",
          "height": 424
        },
        "id": "YWstSB8cZQsJ",
        "outputId": "389680d3-1946-4eb3-8092-48db888ce08c"
      },
      "execution_count": 26,
      "outputs": [
        {
          "output_type": "execute_result",
          "data": {
            "text/plain": [
              "         target          id                 posted_at       posted_by  \\\n",
              "238           0  1467872759 2009-04-06 22:35:59-07:00   Augustina22CA   \n",
              "599           0  1467963477 2009-04-06 23:01:15-07:00     Augustina22   \n",
              "2149          0  1468316454 2009-04-07 00:56:00-07:00   Augustina22CA   \n",
              "3469          0  1468602199 2009-04-07 02:40:02-07:00      ammaryasir   \n",
              "3732          0  1468662767 2009-04-07 03:01:40-07:00  FranciscoAndre   \n",
              "...         ...         ...                       ...             ...   \n",
              "1598959       1  2193318357 2009-06-16 08:17:40-07:00    ummsistweets   \n",
              "1599353       1  2193427113 2009-06-16 08:26:38-07:00    parawhore182   \n",
              "1599354       1  2193427134 2009-06-16 08:26:38-07:00    parawhore182   \n",
              "1599377       1  2193427910 2009-06-16 08:26:43-07:00    ummsistweets   \n",
              "1599531       1  2193474515 2009-06-16 08:30:28-07:00     majaricious   \n",
              "\n",
              "                                                   content  \n",
              "238      im lonely  keep me company! 22 female, california  \n",
              "599        im lonely  keep me company! 22 female, new york  \n",
              "2149     im lonely  keep me company! 22 female, california  \n",
              "3469     cant eat, drink or breath properly thanks to t...  \n",
              "3732     I'm not liking that new iTunes Pricing at all....  \n",
              "...                                                    ...  \n",
              "1598959                         cedar point with my biffs   \n",
              "1599353  Im busy. Drooling. Over this video. ;)  but ye...  \n",
              "1599354  Im busy. Drooling. Over this video. ;)  but ye...  \n",
              "1599377                         cedar point with my biffs   \n",
              "1599531  @KhloeKardashian Definitely my Mom. And Angeli...  \n",
              "\n",
              "[5431 rows x 5 columns]"
            ],
            "text/html": [
              "\n",
              "  <div id=\"df-3c54add5-b3ed-4a3f-8bb1-bc7346982a11\" class=\"colab-df-container\">\n",
              "    <div>\n",
              "<style scoped>\n",
              "    .dataframe tbody tr th:only-of-type {\n",
              "        vertical-align: middle;\n",
              "    }\n",
              "\n",
              "    .dataframe tbody tr th {\n",
              "        vertical-align: top;\n",
              "    }\n",
              "\n",
              "    .dataframe thead th {\n",
              "        text-align: right;\n",
              "    }\n",
              "</style>\n",
              "<table border=\"1\" class=\"dataframe\">\n",
              "  <thead>\n",
              "    <tr style=\"text-align: right;\">\n",
              "      <th></th>\n",
              "      <th>target</th>\n",
              "      <th>id</th>\n",
              "      <th>posted_at</th>\n",
              "      <th>posted_by</th>\n",
              "      <th>content</th>\n",
              "    </tr>\n",
              "  </thead>\n",
              "  <tbody>\n",
              "    <tr>\n",
              "      <th>238</th>\n",
              "      <td>0</td>\n",
              "      <td>1467872759</td>\n",
              "      <td>2009-04-06 22:35:59-07:00</td>\n",
              "      <td>Augustina22CA</td>\n",
              "      <td>im lonely  keep me company! 22 female, california</td>\n",
              "    </tr>\n",
              "    <tr>\n",
              "      <th>599</th>\n",
              "      <td>0</td>\n",
              "      <td>1467963477</td>\n",
              "      <td>2009-04-06 23:01:15-07:00</td>\n",
              "      <td>Augustina22</td>\n",
              "      <td>im lonely  keep me company! 22 female, new york</td>\n",
              "    </tr>\n",
              "    <tr>\n",
              "      <th>2149</th>\n",
              "      <td>0</td>\n",
              "      <td>1468316454</td>\n",
              "      <td>2009-04-07 00:56:00-07:00</td>\n",
              "      <td>Augustina22CA</td>\n",
              "      <td>im lonely  keep me company! 22 female, california</td>\n",
              "    </tr>\n",
              "    <tr>\n",
              "      <th>3469</th>\n",
              "      <td>0</td>\n",
              "      <td>1468602199</td>\n",
              "      <td>2009-04-07 02:40:02-07:00</td>\n",
              "      <td>ammaryasir</td>\n",
              "      <td>cant eat, drink or breath properly thanks to t...</td>\n",
              "    </tr>\n",
              "    <tr>\n",
              "      <th>3732</th>\n",
              "      <td>0</td>\n",
              "      <td>1468662767</td>\n",
              "      <td>2009-04-07 03:01:40-07:00</td>\n",
              "      <td>FranciscoAndre</td>\n",
              "      <td>I'm not liking that new iTunes Pricing at all....</td>\n",
              "    </tr>\n",
              "    <tr>\n",
              "      <th>...</th>\n",
              "      <td>...</td>\n",
              "      <td>...</td>\n",
              "      <td>...</td>\n",
              "      <td>...</td>\n",
              "      <td>...</td>\n",
              "    </tr>\n",
              "    <tr>\n",
              "      <th>1598959</th>\n",
              "      <td>1</td>\n",
              "      <td>2193318357</td>\n",
              "      <td>2009-06-16 08:17:40-07:00</td>\n",
              "      <td>ummsistweets</td>\n",
              "      <td>cedar point with my biffs</td>\n",
              "    </tr>\n",
              "    <tr>\n",
              "      <th>1599353</th>\n",
              "      <td>1</td>\n",
              "      <td>2193427113</td>\n",
              "      <td>2009-06-16 08:26:38-07:00</td>\n",
              "      <td>parawhore182</td>\n",
              "      <td>Im busy. Drooling. Over this video. ;)  but ye...</td>\n",
              "    </tr>\n",
              "    <tr>\n",
              "      <th>1599354</th>\n",
              "      <td>1</td>\n",
              "      <td>2193427134</td>\n",
              "      <td>2009-06-16 08:26:38-07:00</td>\n",
              "      <td>parawhore182</td>\n",
              "      <td>Im busy. Drooling. Over this video. ;)  but ye...</td>\n",
              "    </tr>\n",
              "    <tr>\n",
              "      <th>1599377</th>\n",
              "      <td>1</td>\n",
              "      <td>2193427910</td>\n",
              "      <td>2009-06-16 08:26:43-07:00</td>\n",
              "      <td>ummsistweets</td>\n",
              "      <td>cedar point with my biffs</td>\n",
              "    </tr>\n",
              "    <tr>\n",
              "      <th>1599531</th>\n",
              "      <td>1</td>\n",
              "      <td>2193474515</td>\n",
              "      <td>2009-06-16 08:30:28-07:00</td>\n",
              "      <td>majaricious</td>\n",
              "      <td>@KhloeKardashian Definitely my Mom. And Angeli...</td>\n",
              "    </tr>\n",
              "  </tbody>\n",
              "</table>\n",
              "<p>5431 rows × 5 columns</p>\n",
              "</div>\n",
              "    <div class=\"colab-df-buttons\">\n",
              "\n",
              "  <div class=\"colab-df-container\">\n",
              "    <button class=\"colab-df-convert\" onclick=\"convertToInteractive('df-3c54add5-b3ed-4a3f-8bb1-bc7346982a11')\"\n",
              "            title=\"Convert this dataframe to an interactive table.\"\n",
              "            style=\"display:none;\">\n",
              "\n",
              "  <svg xmlns=\"http://www.w3.org/2000/svg\" height=\"24px\" viewBox=\"0 -960 960 960\">\n",
              "    <path d=\"M120-120v-720h720v720H120Zm60-500h600v-160H180v160Zm220 220h160v-160H400v160Zm0 220h160v-160H400v160ZM180-400h160v-160H180v160Zm440 0h160v-160H620v160ZM180-180h160v-160H180v160Zm440 0h160v-160H620v160Z\"/>\n",
              "  </svg>\n",
              "    </button>\n",
              "\n",
              "  <style>\n",
              "    .colab-df-container {\n",
              "      display:flex;\n",
              "      gap: 12px;\n",
              "    }\n",
              "\n",
              "    .colab-df-convert {\n",
              "      background-color: #E8F0FE;\n",
              "      border: none;\n",
              "      border-radius: 50%;\n",
              "      cursor: pointer;\n",
              "      display: none;\n",
              "      fill: #1967D2;\n",
              "      height: 32px;\n",
              "      padding: 0 0 0 0;\n",
              "      width: 32px;\n",
              "    }\n",
              "\n",
              "    .colab-df-convert:hover {\n",
              "      background-color: #E2EBFA;\n",
              "      box-shadow: 0px 1px 2px rgba(60, 64, 67, 0.3), 0px 1px 3px 1px rgba(60, 64, 67, 0.15);\n",
              "      fill: #174EA6;\n",
              "    }\n",
              "\n",
              "    .colab-df-buttons div {\n",
              "      margin-bottom: 4px;\n",
              "    }\n",
              "\n",
              "    [theme=dark] .colab-df-convert {\n",
              "      background-color: #3B4455;\n",
              "      fill: #D2E3FC;\n",
              "    }\n",
              "\n",
              "    [theme=dark] .colab-df-convert:hover {\n",
              "      background-color: #434B5C;\n",
              "      box-shadow: 0px 1px 3px 1px rgba(0, 0, 0, 0.15);\n",
              "      filter: drop-shadow(0px 1px 2px rgba(0, 0, 0, 0.3));\n",
              "      fill: #FFFFFF;\n",
              "    }\n",
              "  </style>\n",
              "\n",
              "    <script>\n",
              "      const buttonEl =\n",
              "        document.querySelector('#df-3c54add5-b3ed-4a3f-8bb1-bc7346982a11 button.colab-df-convert');\n",
              "      buttonEl.style.display =\n",
              "        google.colab.kernel.accessAllowed ? 'block' : 'none';\n",
              "\n",
              "      async function convertToInteractive(key) {\n",
              "        const element = document.querySelector('#df-3c54add5-b3ed-4a3f-8bb1-bc7346982a11');\n",
              "        const dataTable =\n",
              "          await google.colab.kernel.invokeFunction('convertToInteractive',\n",
              "                                                    [key], {});\n",
              "        if (!dataTable) return;\n",
              "\n",
              "        const docLinkHtml = 'Like what you see? Visit the ' +\n",
              "          '<a target=\"_blank\" href=https://colab.research.google.com/notebooks/data_table.ipynb>data table notebook</a>'\n",
              "          + ' to learn more about interactive tables.';\n",
              "        element.innerHTML = '';\n",
              "        dataTable['output_type'] = 'display_data';\n",
              "        await google.colab.output.renderOutput(dataTable, element);\n",
              "        const docLink = document.createElement('div');\n",
              "        docLink.innerHTML = docLinkHtml;\n",
              "        element.appendChild(docLink);\n",
              "      }\n",
              "    </script>\n",
              "  </div>\n",
              "\n",
              "\n",
              "    <div id=\"df-88a10431-e4dd-4ad6-b117-c1556034e83c\">\n",
              "      <button class=\"colab-df-quickchart\" onclick=\"quickchart('df-88a10431-e4dd-4ad6-b117-c1556034e83c')\"\n",
              "                title=\"Suggest charts\"\n",
              "                style=\"display:none;\">\n",
              "\n",
              "<svg xmlns=\"http://www.w3.org/2000/svg\" height=\"24px\"viewBox=\"0 0 24 24\"\n",
              "     width=\"24px\">\n",
              "    <g>\n",
              "        <path d=\"M19 3H5c-1.1 0-2 .9-2 2v14c0 1.1.9 2 2 2h14c1.1 0 2-.9 2-2V5c0-1.1-.9-2-2-2zM9 17H7v-7h2v7zm4 0h-2V7h2v10zm4 0h-2v-4h2v4z\"/>\n",
              "    </g>\n",
              "</svg>\n",
              "      </button>\n",
              "\n",
              "<style>\n",
              "  .colab-df-quickchart {\n",
              "      --bg-color: #E8F0FE;\n",
              "      --fill-color: #1967D2;\n",
              "      --hover-bg-color: #E2EBFA;\n",
              "      --hover-fill-color: #174EA6;\n",
              "      --disabled-fill-color: #AAA;\n",
              "      --disabled-bg-color: #DDD;\n",
              "  }\n",
              "\n",
              "  [theme=dark] .colab-df-quickchart {\n",
              "      --bg-color: #3B4455;\n",
              "      --fill-color: #D2E3FC;\n",
              "      --hover-bg-color: #434B5C;\n",
              "      --hover-fill-color: #FFFFFF;\n",
              "      --disabled-bg-color: #3B4455;\n",
              "      --disabled-fill-color: #666;\n",
              "  }\n",
              "\n",
              "  .colab-df-quickchart {\n",
              "    background-color: var(--bg-color);\n",
              "    border: none;\n",
              "    border-radius: 50%;\n",
              "    cursor: pointer;\n",
              "    display: none;\n",
              "    fill: var(--fill-color);\n",
              "    height: 32px;\n",
              "    padding: 0;\n",
              "    width: 32px;\n",
              "  }\n",
              "\n",
              "  .colab-df-quickchart:hover {\n",
              "    background-color: var(--hover-bg-color);\n",
              "    box-shadow: 0 1px 2px rgba(60, 64, 67, 0.3), 0 1px 3px 1px rgba(60, 64, 67, 0.15);\n",
              "    fill: var(--button-hover-fill-color);\n",
              "  }\n",
              "\n",
              "  .colab-df-quickchart-complete:disabled,\n",
              "  .colab-df-quickchart-complete:disabled:hover {\n",
              "    background-color: var(--disabled-bg-color);\n",
              "    fill: var(--disabled-fill-color);\n",
              "    box-shadow: none;\n",
              "  }\n",
              "\n",
              "  .colab-df-spinner {\n",
              "    border: 2px solid var(--fill-color);\n",
              "    border-color: transparent;\n",
              "    border-bottom-color: var(--fill-color);\n",
              "    animation:\n",
              "      spin 1s steps(1) infinite;\n",
              "  }\n",
              "\n",
              "  @keyframes spin {\n",
              "    0% {\n",
              "      border-color: transparent;\n",
              "      border-bottom-color: var(--fill-color);\n",
              "      border-left-color: var(--fill-color);\n",
              "    }\n",
              "    20% {\n",
              "      border-color: transparent;\n",
              "      border-left-color: var(--fill-color);\n",
              "      border-top-color: var(--fill-color);\n",
              "    }\n",
              "    30% {\n",
              "      border-color: transparent;\n",
              "      border-left-color: var(--fill-color);\n",
              "      border-top-color: var(--fill-color);\n",
              "      border-right-color: var(--fill-color);\n",
              "    }\n",
              "    40% {\n",
              "      border-color: transparent;\n",
              "      border-right-color: var(--fill-color);\n",
              "      border-top-color: var(--fill-color);\n",
              "    }\n",
              "    60% {\n",
              "      border-color: transparent;\n",
              "      border-right-color: var(--fill-color);\n",
              "    }\n",
              "    80% {\n",
              "      border-color: transparent;\n",
              "      border-right-color: var(--fill-color);\n",
              "      border-bottom-color: var(--fill-color);\n",
              "    }\n",
              "    90% {\n",
              "      border-color: transparent;\n",
              "      border-bottom-color: var(--fill-color);\n",
              "    }\n",
              "  }\n",
              "</style>\n",
              "\n",
              "      <script>\n",
              "        async function quickchart(key) {\n",
              "          const quickchartButtonEl =\n",
              "            document.querySelector('#' + key + ' button');\n",
              "          quickchartButtonEl.disabled = true;  // To prevent multiple clicks.\n",
              "          quickchartButtonEl.classList.add('colab-df-spinner');\n",
              "          try {\n",
              "            const charts = await google.colab.kernel.invokeFunction(\n",
              "                'suggestCharts', [key], {});\n",
              "          } catch (error) {\n",
              "            console.error('Error during call to suggestCharts:', error);\n",
              "          }\n",
              "          quickchartButtonEl.classList.remove('colab-df-spinner');\n",
              "          quickchartButtonEl.classList.add('colab-df-quickchart-complete');\n",
              "        }\n",
              "        (() => {\n",
              "          let quickchartButtonEl =\n",
              "            document.querySelector('#df-88a10431-e4dd-4ad6-b117-c1556034e83c button');\n",
              "          quickchartButtonEl.style.display =\n",
              "            google.colab.kernel.accessAllowed ? 'block' : 'none';\n",
              "        })();\n",
              "      </script>\n",
              "    </div>\n",
              "\n",
              "  <div id=\"id_a4f137e6-66a1-4993-b85d-9a596551bad0\">\n",
              "    <style>\n",
              "      .colab-df-generate {\n",
              "        background-color: #E8F0FE;\n",
              "        border: none;\n",
              "        border-radius: 50%;\n",
              "        cursor: pointer;\n",
              "        display: none;\n",
              "        fill: #1967D2;\n",
              "        height: 32px;\n",
              "        padding: 0 0 0 0;\n",
              "        width: 32px;\n",
              "      }\n",
              "\n",
              "      .colab-df-generate:hover {\n",
              "        background-color: #E2EBFA;\n",
              "        box-shadow: 0px 1px 2px rgba(60, 64, 67, 0.3), 0px 1px 3px 1px rgba(60, 64, 67, 0.15);\n",
              "        fill: #174EA6;\n",
              "      }\n",
              "\n",
              "      [theme=dark] .colab-df-generate {\n",
              "        background-color: #3B4455;\n",
              "        fill: #D2E3FC;\n",
              "      }\n",
              "\n",
              "      [theme=dark] .colab-df-generate:hover {\n",
              "        background-color: #434B5C;\n",
              "        box-shadow: 0px 1px 3px 1px rgba(0, 0, 0, 0.15);\n",
              "        filter: drop-shadow(0px 1px 2px rgba(0, 0, 0, 0.3));\n",
              "        fill: #FFFFFF;\n",
              "      }\n",
              "    </style>\n",
              "    <button class=\"colab-df-generate\" onclick=\"generateWithVariable('duplicated_contents')\"\n",
              "            title=\"Generate code using this dataframe.\"\n",
              "            style=\"display:none;\">\n",
              "\n",
              "  <svg xmlns=\"http://www.w3.org/2000/svg\" height=\"24px\"viewBox=\"0 0 24 24\"\n",
              "       width=\"24px\">\n",
              "    <path d=\"M7,19H8.4L18.45,9,17,7.55,7,17.6ZM5,21V16.75L18.45,3.32a2,2,0,0,1,2.83,0l1.4,1.43a1.91,1.91,0,0,1,.58,1.4,1.91,1.91,0,0,1-.58,1.4L9.25,21ZM18.45,9,17,7.55Zm-12,3A5.31,5.31,0,0,0,4.9,8.1,5.31,5.31,0,0,0,1,6.5,5.31,5.31,0,0,0,4.9,4.9,5.31,5.31,0,0,0,6.5,1,5.31,5.31,0,0,0,8.1,4.9,5.31,5.31,0,0,0,12,6.5,5.46,5.46,0,0,0,6.5,12Z\"/>\n",
              "  </svg>\n",
              "    </button>\n",
              "    <script>\n",
              "      (() => {\n",
              "      const buttonEl =\n",
              "        document.querySelector('#id_a4f137e6-66a1-4993-b85d-9a596551bad0 button.colab-df-generate');\n",
              "      buttonEl.style.display =\n",
              "        google.colab.kernel.accessAllowed ? 'block' : 'none';\n",
              "\n",
              "      buttonEl.onclick = () => {\n",
              "        google.colab.notebook.generateWithVariable('duplicated_contents');\n",
              "      }\n",
              "      })();\n",
              "    </script>\n",
              "  </div>\n",
              "\n",
              "    </div>\n",
              "  </div>\n"
            ],
            "application/vnd.google.colaboratory.intrinsic+json": {
              "type": "dataframe",
              "variable_name": "duplicated_contents",
              "summary": "{\n  \"name\": \"duplicated_contents\",\n  \"rows\": 5431,\n  \"fields\": [\n    {\n      \"column\": \"target\",\n      \"properties\": {\n        \"dtype\": \"number\",\n        \"std\": 0,\n        \"min\": 0,\n        \"max\": 1,\n        \"num_unique_values\": 2,\n        \"samples\": [\n          1,\n          0\n        ],\n        \"semantic_type\": \"\",\n        \"description\": \"\"\n      }\n    },\n    {\n      \"column\": \"id\",\n      \"properties\": {\n        \"dtype\": \"number\",\n        \"std\": 190553397,\n        \"min\": 1467872759,\n        \"max\": 2329170276,\n        \"num_unique_values\": 5431,\n        \"samples\": [\n          2175781978,\n          2056645215\n        ],\n        \"semantic_type\": \"\",\n        \"description\": \"\"\n      }\n    },\n    {\n      \"column\": \"posted_at\",\n      \"properties\": {\n        \"dtype\": \"date\",\n        \"min\": \"2009-04-06 22:35:59-07:00\",\n        \"max\": \"2009-06-25 10:26:00-07:00\",\n        \"num_unique_values\": 5050,\n        \"samples\": [\n          \"2009-06-07 00:51:25-07:00\",\n          \"2009-05-30 03:28:00-07:00\"\n        ],\n        \"semantic_type\": \"\",\n        \"description\": \"\"\n      }\n    },\n    {\n      \"column\": \"posted_by\",\n      \"properties\": {\n        \"dtype\": \"category\",\n        \"num_unique_values\": 1455,\n        \"samples\": [\n          \"BUtifulstrngr\",\n          \"x3Krissyx3\"\n        ],\n        \"semantic_type\": \"\",\n        \"description\": \"\"\n      }\n    },\n    {\n      \"column\": \"content\",\n      \"properties\": {\n        \"dtype\": \"category\",\n        \"num_unique_values\": 1688,\n        \"samples\": [\n          \"GoAnimate.com - check out this funny movie  http://bit.ly/LclRB\",\n          \"feel so sad  david did not reply to me \"\n        ],\n        \"semantic_type\": \"\",\n        \"description\": \"\"\n      }\n    }\n  ]\n}"
            }
          },
          "metadata": {},
          "execution_count": 26
        }
      ]
    },
    {
      "cell_type": "code",
      "source": [
        "tweets_df[tweets_df['posted_by'].str.strip() == 'ummsistweets']"
      ],
      "metadata": {
        "colab": {
          "base_uri": "https://localhost:8080/",
          "height": 143
        },
        "id": "PcFZvM8QanAj",
        "outputId": "9ef6f341-34ac-46da-dfc8-54da1c884435"
      },
      "execution_count": 27,
      "outputs": [
        {
          "output_type": "execute_result",
          "data": {
            "text/plain": [
              "         target          id                 posted_at     posted_by  \\\n",
              "1298633       1  2005308803 2009-06-02 09:30:41-07:00  ummsistweets   \n",
              "1598959       1  2193318357 2009-06-16 08:17:40-07:00  ummsistweets   \n",
              "1599377       1  2193427910 2009-06-16 08:26:43-07:00  ummsistweets   \n",
              "\n",
              "                            content  \n",
              "1298633                sew excited   \n",
              "1598959  cedar point with my biffs   \n",
              "1599377  cedar point with my biffs   "
            ],
            "text/html": [
              "\n",
              "  <div id=\"df-7cbe5bcd-b6d3-48f7-9dd1-161121debec4\" class=\"colab-df-container\">\n",
              "    <div>\n",
              "<style scoped>\n",
              "    .dataframe tbody tr th:only-of-type {\n",
              "        vertical-align: middle;\n",
              "    }\n",
              "\n",
              "    .dataframe tbody tr th {\n",
              "        vertical-align: top;\n",
              "    }\n",
              "\n",
              "    .dataframe thead th {\n",
              "        text-align: right;\n",
              "    }\n",
              "</style>\n",
              "<table border=\"1\" class=\"dataframe\">\n",
              "  <thead>\n",
              "    <tr style=\"text-align: right;\">\n",
              "      <th></th>\n",
              "      <th>target</th>\n",
              "      <th>id</th>\n",
              "      <th>posted_at</th>\n",
              "      <th>posted_by</th>\n",
              "      <th>content</th>\n",
              "    </tr>\n",
              "  </thead>\n",
              "  <tbody>\n",
              "    <tr>\n",
              "      <th>1298633</th>\n",
              "      <td>1</td>\n",
              "      <td>2005308803</td>\n",
              "      <td>2009-06-02 09:30:41-07:00</td>\n",
              "      <td>ummsistweets</td>\n",
              "      <td>sew excited</td>\n",
              "    </tr>\n",
              "    <tr>\n",
              "      <th>1598959</th>\n",
              "      <td>1</td>\n",
              "      <td>2193318357</td>\n",
              "      <td>2009-06-16 08:17:40-07:00</td>\n",
              "      <td>ummsistweets</td>\n",
              "      <td>cedar point with my biffs</td>\n",
              "    </tr>\n",
              "    <tr>\n",
              "      <th>1599377</th>\n",
              "      <td>1</td>\n",
              "      <td>2193427910</td>\n",
              "      <td>2009-06-16 08:26:43-07:00</td>\n",
              "      <td>ummsistweets</td>\n",
              "      <td>cedar point with my biffs</td>\n",
              "    </tr>\n",
              "  </tbody>\n",
              "</table>\n",
              "</div>\n",
              "    <div class=\"colab-df-buttons\">\n",
              "\n",
              "  <div class=\"colab-df-container\">\n",
              "    <button class=\"colab-df-convert\" onclick=\"convertToInteractive('df-7cbe5bcd-b6d3-48f7-9dd1-161121debec4')\"\n",
              "            title=\"Convert this dataframe to an interactive table.\"\n",
              "            style=\"display:none;\">\n",
              "\n",
              "  <svg xmlns=\"http://www.w3.org/2000/svg\" height=\"24px\" viewBox=\"0 -960 960 960\">\n",
              "    <path d=\"M120-120v-720h720v720H120Zm60-500h600v-160H180v160Zm220 220h160v-160H400v160Zm0 220h160v-160H400v160ZM180-400h160v-160H180v160Zm440 0h160v-160H620v160ZM180-180h160v-160H180v160Zm440 0h160v-160H620v160Z\"/>\n",
              "  </svg>\n",
              "    </button>\n",
              "\n",
              "  <style>\n",
              "    .colab-df-container {\n",
              "      display:flex;\n",
              "      gap: 12px;\n",
              "    }\n",
              "\n",
              "    .colab-df-convert {\n",
              "      background-color: #E8F0FE;\n",
              "      border: none;\n",
              "      border-radius: 50%;\n",
              "      cursor: pointer;\n",
              "      display: none;\n",
              "      fill: #1967D2;\n",
              "      height: 32px;\n",
              "      padding: 0 0 0 0;\n",
              "      width: 32px;\n",
              "    }\n",
              "\n",
              "    .colab-df-convert:hover {\n",
              "      background-color: #E2EBFA;\n",
              "      box-shadow: 0px 1px 2px rgba(60, 64, 67, 0.3), 0px 1px 3px 1px rgba(60, 64, 67, 0.15);\n",
              "      fill: #174EA6;\n",
              "    }\n",
              "\n",
              "    .colab-df-buttons div {\n",
              "      margin-bottom: 4px;\n",
              "    }\n",
              "\n",
              "    [theme=dark] .colab-df-convert {\n",
              "      background-color: #3B4455;\n",
              "      fill: #D2E3FC;\n",
              "    }\n",
              "\n",
              "    [theme=dark] .colab-df-convert:hover {\n",
              "      background-color: #434B5C;\n",
              "      box-shadow: 0px 1px 3px 1px rgba(0, 0, 0, 0.15);\n",
              "      filter: drop-shadow(0px 1px 2px rgba(0, 0, 0, 0.3));\n",
              "      fill: #FFFFFF;\n",
              "    }\n",
              "  </style>\n",
              "\n",
              "    <script>\n",
              "      const buttonEl =\n",
              "        document.querySelector('#df-7cbe5bcd-b6d3-48f7-9dd1-161121debec4 button.colab-df-convert');\n",
              "      buttonEl.style.display =\n",
              "        google.colab.kernel.accessAllowed ? 'block' : 'none';\n",
              "\n",
              "      async function convertToInteractive(key) {\n",
              "        const element = document.querySelector('#df-7cbe5bcd-b6d3-48f7-9dd1-161121debec4');\n",
              "        const dataTable =\n",
              "          await google.colab.kernel.invokeFunction('convertToInteractive',\n",
              "                                                    [key], {});\n",
              "        if (!dataTable) return;\n",
              "\n",
              "        const docLinkHtml = 'Like what you see? Visit the ' +\n",
              "          '<a target=\"_blank\" href=https://colab.research.google.com/notebooks/data_table.ipynb>data table notebook</a>'\n",
              "          + ' to learn more about interactive tables.';\n",
              "        element.innerHTML = '';\n",
              "        dataTable['output_type'] = 'display_data';\n",
              "        await google.colab.output.renderOutput(dataTable, element);\n",
              "        const docLink = document.createElement('div');\n",
              "        docLink.innerHTML = docLinkHtml;\n",
              "        element.appendChild(docLink);\n",
              "      }\n",
              "    </script>\n",
              "  </div>\n",
              "\n",
              "\n",
              "    <div id=\"df-d83db45f-7a0e-46bc-883b-3b8ffbe37999\">\n",
              "      <button class=\"colab-df-quickchart\" onclick=\"quickchart('df-d83db45f-7a0e-46bc-883b-3b8ffbe37999')\"\n",
              "                title=\"Suggest charts\"\n",
              "                style=\"display:none;\">\n",
              "\n",
              "<svg xmlns=\"http://www.w3.org/2000/svg\" height=\"24px\"viewBox=\"0 0 24 24\"\n",
              "     width=\"24px\">\n",
              "    <g>\n",
              "        <path d=\"M19 3H5c-1.1 0-2 .9-2 2v14c0 1.1.9 2 2 2h14c1.1 0 2-.9 2-2V5c0-1.1-.9-2-2-2zM9 17H7v-7h2v7zm4 0h-2V7h2v10zm4 0h-2v-4h2v4z\"/>\n",
              "    </g>\n",
              "</svg>\n",
              "      </button>\n",
              "\n",
              "<style>\n",
              "  .colab-df-quickchart {\n",
              "      --bg-color: #E8F0FE;\n",
              "      --fill-color: #1967D2;\n",
              "      --hover-bg-color: #E2EBFA;\n",
              "      --hover-fill-color: #174EA6;\n",
              "      --disabled-fill-color: #AAA;\n",
              "      --disabled-bg-color: #DDD;\n",
              "  }\n",
              "\n",
              "  [theme=dark] .colab-df-quickchart {\n",
              "      --bg-color: #3B4455;\n",
              "      --fill-color: #D2E3FC;\n",
              "      --hover-bg-color: #434B5C;\n",
              "      --hover-fill-color: #FFFFFF;\n",
              "      --disabled-bg-color: #3B4455;\n",
              "      --disabled-fill-color: #666;\n",
              "  }\n",
              "\n",
              "  .colab-df-quickchart {\n",
              "    background-color: var(--bg-color);\n",
              "    border: none;\n",
              "    border-radius: 50%;\n",
              "    cursor: pointer;\n",
              "    display: none;\n",
              "    fill: var(--fill-color);\n",
              "    height: 32px;\n",
              "    padding: 0;\n",
              "    width: 32px;\n",
              "  }\n",
              "\n",
              "  .colab-df-quickchart:hover {\n",
              "    background-color: var(--hover-bg-color);\n",
              "    box-shadow: 0 1px 2px rgba(60, 64, 67, 0.3), 0 1px 3px 1px rgba(60, 64, 67, 0.15);\n",
              "    fill: var(--button-hover-fill-color);\n",
              "  }\n",
              "\n",
              "  .colab-df-quickchart-complete:disabled,\n",
              "  .colab-df-quickchart-complete:disabled:hover {\n",
              "    background-color: var(--disabled-bg-color);\n",
              "    fill: var(--disabled-fill-color);\n",
              "    box-shadow: none;\n",
              "  }\n",
              "\n",
              "  .colab-df-spinner {\n",
              "    border: 2px solid var(--fill-color);\n",
              "    border-color: transparent;\n",
              "    border-bottom-color: var(--fill-color);\n",
              "    animation:\n",
              "      spin 1s steps(1) infinite;\n",
              "  }\n",
              "\n",
              "  @keyframes spin {\n",
              "    0% {\n",
              "      border-color: transparent;\n",
              "      border-bottom-color: var(--fill-color);\n",
              "      border-left-color: var(--fill-color);\n",
              "    }\n",
              "    20% {\n",
              "      border-color: transparent;\n",
              "      border-left-color: var(--fill-color);\n",
              "      border-top-color: var(--fill-color);\n",
              "    }\n",
              "    30% {\n",
              "      border-color: transparent;\n",
              "      border-left-color: var(--fill-color);\n",
              "      border-top-color: var(--fill-color);\n",
              "      border-right-color: var(--fill-color);\n",
              "    }\n",
              "    40% {\n",
              "      border-color: transparent;\n",
              "      border-right-color: var(--fill-color);\n",
              "      border-top-color: var(--fill-color);\n",
              "    }\n",
              "    60% {\n",
              "      border-color: transparent;\n",
              "      border-right-color: var(--fill-color);\n",
              "    }\n",
              "    80% {\n",
              "      border-color: transparent;\n",
              "      border-right-color: var(--fill-color);\n",
              "      border-bottom-color: var(--fill-color);\n",
              "    }\n",
              "    90% {\n",
              "      border-color: transparent;\n",
              "      border-bottom-color: var(--fill-color);\n",
              "    }\n",
              "  }\n",
              "</style>\n",
              "\n",
              "      <script>\n",
              "        async function quickchart(key) {\n",
              "          const quickchartButtonEl =\n",
              "            document.querySelector('#' + key + ' button');\n",
              "          quickchartButtonEl.disabled = true;  // To prevent multiple clicks.\n",
              "          quickchartButtonEl.classList.add('colab-df-spinner');\n",
              "          try {\n",
              "            const charts = await google.colab.kernel.invokeFunction(\n",
              "                'suggestCharts', [key], {});\n",
              "          } catch (error) {\n",
              "            console.error('Error during call to suggestCharts:', error);\n",
              "          }\n",
              "          quickchartButtonEl.classList.remove('colab-df-spinner');\n",
              "          quickchartButtonEl.classList.add('colab-df-quickchart-complete');\n",
              "        }\n",
              "        (() => {\n",
              "          let quickchartButtonEl =\n",
              "            document.querySelector('#df-d83db45f-7a0e-46bc-883b-3b8ffbe37999 button');\n",
              "          quickchartButtonEl.style.display =\n",
              "            google.colab.kernel.accessAllowed ? 'block' : 'none';\n",
              "        })();\n",
              "      </script>\n",
              "    </div>\n",
              "\n",
              "    </div>\n",
              "  </div>\n"
            ],
            "application/vnd.google.colaboratory.intrinsic+json": {
              "type": "dataframe",
              "summary": "{\n  \"name\": \"tweets_df[tweets_df['posted_by']\",\n  \"rows\": 3,\n  \"fields\": [\n    {\n      \"column\": \"target\",\n      \"properties\": {\n        \"dtype\": \"number\",\n        \"std\": 0,\n        \"min\": 1,\n        \"max\": 1,\n        \"num_unique_values\": 1,\n        \"samples\": [\n          1\n        ],\n        \"semantic_type\": \"\",\n        \"description\": \"\"\n      }\n    },\n    {\n      \"column\": \"id\",\n      \"properties\": {\n        \"dtype\": \"number\",\n        \"std\": 108579005,\n        \"min\": 2005308803,\n        \"max\": 2193427910,\n        \"num_unique_values\": 3,\n        \"samples\": [\n          2005308803\n        ],\n        \"semantic_type\": \"\",\n        \"description\": \"\"\n      }\n    },\n    {\n      \"column\": \"posted_at\",\n      \"properties\": {\n        \"dtype\": \"date\",\n        \"min\": \"2009-06-02 09:30:41-07:00\",\n        \"max\": \"2009-06-16 08:26:43-07:00\",\n        \"num_unique_values\": 3,\n        \"samples\": [\n          \"2009-06-02 09:30:41-07:00\"\n        ],\n        \"semantic_type\": \"\",\n        \"description\": \"\"\n      }\n    },\n    {\n      \"column\": \"posted_by\",\n      \"properties\": {\n        \"dtype\": \"category\",\n        \"num_unique_values\": 1,\n        \"samples\": [\n          \"ummsistweets\"\n        ],\n        \"semantic_type\": \"\",\n        \"description\": \"\"\n      }\n    },\n    {\n      \"column\": \"content\",\n      \"properties\": {\n        \"dtype\": \"string\",\n        \"num_unique_values\": 2,\n        \"samples\": [\n          \"cedar point with my biffs \"\n        ],\n        \"semantic_type\": \"\",\n        \"description\": \"\"\n      }\n    }\n  ]\n}"
            }
          },
          "metadata": {},
          "execution_count": 27
        }
      ]
    },
    {
      "cell_type": "code",
      "source": [
        "# les doublons ayant les memes labels\n",
        "duplicate_rows = tweets_df.duplicated(subset=['content', 'posted_by', 'target'])\n",
        "display(tweets_df[duplicate_rows].info())"
      ],
      "metadata": {
        "colab": {
          "base_uri": "https://localhost:8080/",
          "height": 256
        },
        "id": "LWEDR5eabCwU",
        "outputId": "b59378da-b77d-4775-8371-5bf51745ef3d"
      },
      "execution_count": 28,
      "outputs": [
        {
          "output_type": "stream",
          "name": "stdout",
          "text": [
            "<class 'pandas.core.frame.DataFrame'>\n",
            "Index: 3541 entries, 2149 to 1599531\n",
            "Data columns (total 5 columns):\n",
            " #   Column     Non-Null Count  Dtype                     \n",
            "---  ------     --------------  -----                     \n",
            " 0   target     3541 non-null   int64                     \n",
            " 1   id         3541 non-null   int64                     \n",
            " 2   posted_at  3541 non-null   datetime64[ns, US/Pacific]\n",
            " 3   posted_by  3541 non-null   object                    \n",
            " 4   content    3541 non-null   object                    \n",
            "dtypes: datetime64[ns, US/Pacific](1), int64(2), object(2)\n",
            "memory usage: 166.0+ KB\n"
          ]
        },
        {
          "output_type": "display_data",
          "data": {
            "text/plain": [
              "None"
            ]
          },
          "metadata": {}
        }
      ]
    },
    {
      "cell_type": "code",
      "source": [
        "# Suppression des doublons\n",
        "tweets_df = tweets_df.drop_duplicates(subset=['content', 'posted_by'], keep='first')\n",
        "tweets_df.shape"
      ],
      "metadata": {
        "colab": {
          "base_uri": "https://localhost:8080/"
        },
        "id": "sGSZfom9bbgO",
        "outputId": "0ede7d18-8349-4dd6-8248-5e912079b349"
      },
      "execution_count": 29,
      "outputs": [
        {
          "output_type": "execute_result",
          "data": {
            "text/plain": [
              "(1593071, 5)"
            ]
          },
          "metadata": {},
          "execution_count": 29
        }
      ]
    },
    {
      "cell_type": "code",
      "source": [
        "tweets_df[tweets_df['posted_by'].str.strip() == 'ummsistweets']"
      ],
      "metadata": {
        "colab": {
          "base_uri": "https://localhost:8080/",
          "height": 112
        },
        "id": "9D-8epE3cSJP",
        "outputId": "bc394abb-a5a8-4f61-f916-94c3c5466f0a"
      },
      "execution_count": 30,
      "outputs": [
        {
          "output_type": "execute_result",
          "data": {
            "text/plain": [
              "         target          id                 posted_at     posted_by  \\\n",
              "1298633       1  2005308803 2009-06-02 09:30:41-07:00  ummsistweets   \n",
              "1598959       1  2193318357 2009-06-16 08:17:40-07:00  ummsistweets   \n",
              "\n",
              "                            content  \n",
              "1298633                sew excited   \n",
              "1598959  cedar point with my biffs   "
            ],
            "text/html": [
              "\n",
              "  <div id=\"df-c4d00a84-20d3-437a-b4dc-6491bc8ad133\" class=\"colab-df-container\">\n",
              "    <div>\n",
              "<style scoped>\n",
              "    .dataframe tbody tr th:only-of-type {\n",
              "        vertical-align: middle;\n",
              "    }\n",
              "\n",
              "    .dataframe tbody tr th {\n",
              "        vertical-align: top;\n",
              "    }\n",
              "\n",
              "    .dataframe thead th {\n",
              "        text-align: right;\n",
              "    }\n",
              "</style>\n",
              "<table border=\"1\" class=\"dataframe\">\n",
              "  <thead>\n",
              "    <tr style=\"text-align: right;\">\n",
              "      <th></th>\n",
              "      <th>target</th>\n",
              "      <th>id</th>\n",
              "      <th>posted_at</th>\n",
              "      <th>posted_by</th>\n",
              "      <th>content</th>\n",
              "    </tr>\n",
              "  </thead>\n",
              "  <tbody>\n",
              "    <tr>\n",
              "      <th>1298633</th>\n",
              "      <td>1</td>\n",
              "      <td>2005308803</td>\n",
              "      <td>2009-06-02 09:30:41-07:00</td>\n",
              "      <td>ummsistweets</td>\n",
              "      <td>sew excited</td>\n",
              "    </tr>\n",
              "    <tr>\n",
              "      <th>1598959</th>\n",
              "      <td>1</td>\n",
              "      <td>2193318357</td>\n",
              "      <td>2009-06-16 08:17:40-07:00</td>\n",
              "      <td>ummsistweets</td>\n",
              "      <td>cedar point with my biffs</td>\n",
              "    </tr>\n",
              "  </tbody>\n",
              "</table>\n",
              "</div>\n",
              "    <div class=\"colab-df-buttons\">\n",
              "\n",
              "  <div class=\"colab-df-container\">\n",
              "    <button class=\"colab-df-convert\" onclick=\"convertToInteractive('df-c4d00a84-20d3-437a-b4dc-6491bc8ad133')\"\n",
              "            title=\"Convert this dataframe to an interactive table.\"\n",
              "            style=\"display:none;\">\n",
              "\n",
              "  <svg xmlns=\"http://www.w3.org/2000/svg\" height=\"24px\" viewBox=\"0 -960 960 960\">\n",
              "    <path d=\"M120-120v-720h720v720H120Zm60-500h600v-160H180v160Zm220 220h160v-160H400v160Zm0 220h160v-160H400v160ZM180-400h160v-160H180v160Zm440 0h160v-160H620v160ZM180-180h160v-160H180v160Zm440 0h160v-160H620v160Z\"/>\n",
              "  </svg>\n",
              "    </button>\n",
              "\n",
              "  <style>\n",
              "    .colab-df-container {\n",
              "      display:flex;\n",
              "      gap: 12px;\n",
              "    }\n",
              "\n",
              "    .colab-df-convert {\n",
              "      background-color: #E8F0FE;\n",
              "      border: none;\n",
              "      border-radius: 50%;\n",
              "      cursor: pointer;\n",
              "      display: none;\n",
              "      fill: #1967D2;\n",
              "      height: 32px;\n",
              "      padding: 0 0 0 0;\n",
              "      width: 32px;\n",
              "    }\n",
              "\n",
              "    .colab-df-convert:hover {\n",
              "      background-color: #E2EBFA;\n",
              "      box-shadow: 0px 1px 2px rgba(60, 64, 67, 0.3), 0px 1px 3px 1px rgba(60, 64, 67, 0.15);\n",
              "      fill: #174EA6;\n",
              "    }\n",
              "\n",
              "    .colab-df-buttons div {\n",
              "      margin-bottom: 4px;\n",
              "    }\n",
              "\n",
              "    [theme=dark] .colab-df-convert {\n",
              "      background-color: #3B4455;\n",
              "      fill: #D2E3FC;\n",
              "    }\n",
              "\n",
              "    [theme=dark] .colab-df-convert:hover {\n",
              "      background-color: #434B5C;\n",
              "      box-shadow: 0px 1px 3px 1px rgba(0, 0, 0, 0.15);\n",
              "      filter: drop-shadow(0px 1px 2px rgba(0, 0, 0, 0.3));\n",
              "      fill: #FFFFFF;\n",
              "    }\n",
              "  </style>\n",
              "\n",
              "    <script>\n",
              "      const buttonEl =\n",
              "        document.querySelector('#df-c4d00a84-20d3-437a-b4dc-6491bc8ad133 button.colab-df-convert');\n",
              "      buttonEl.style.display =\n",
              "        google.colab.kernel.accessAllowed ? 'block' : 'none';\n",
              "\n",
              "      async function convertToInteractive(key) {\n",
              "        const element = document.querySelector('#df-c4d00a84-20d3-437a-b4dc-6491bc8ad133');\n",
              "        const dataTable =\n",
              "          await google.colab.kernel.invokeFunction('convertToInteractive',\n",
              "                                                    [key], {});\n",
              "        if (!dataTable) return;\n",
              "\n",
              "        const docLinkHtml = 'Like what you see? Visit the ' +\n",
              "          '<a target=\"_blank\" href=https://colab.research.google.com/notebooks/data_table.ipynb>data table notebook</a>'\n",
              "          + ' to learn more about interactive tables.';\n",
              "        element.innerHTML = '';\n",
              "        dataTable['output_type'] = 'display_data';\n",
              "        await google.colab.output.renderOutput(dataTable, element);\n",
              "        const docLink = document.createElement('div');\n",
              "        docLink.innerHTML = docLinkHtml;\n",
              "        element.appendChild(docLink);\n",
              "      }\n",
              "    </script>\n",
              "  </div>\n",
              "\n",
              "\n",
              "    <div id=\"df-a5277c75-0bbf-482e-98a4-74944fd81828\">\n",
              "      <button class=\"colab-df-quickchart\" onclick=\"quickchart('df-a5277c75-0bbf-482e-98a4-74944fd81828')\"\n",
              "                title=\"Suggest charts\"\n",
              "                style=\"display:none;\">\n",
              "\n",
              "<svg xmlns=\"http://www.w3.org/2000/svg\" height=\"24px\"viewBox=\"0 0 24 24\"\n",
              "     width=\"24px\">\n",
              "    <g>\n",
              "        <path d=\"M19 3H5c-1.1 0-2 .9-2 2v14c0 1.1.9 2 2 2h14c1.1 0 2-.9 2-2V5c0-1.1-.9-2-2-2zM9 17H7v-7h2v7zm4 0h-2V7h2v10zm4 0h-2v-4h2v4z\"/>\n",
              "    </g>\n",
              "</svg>\n",
              "      </button>\n",
              "\n",
              "<style>\n",
              "  .colab-df-quickchart {\n",
              "      --bg-color: #E8F0FE;\n",
              "      --fill-color: #1967D2;\n",
              "      --hover-bg-color: #E2EBFA;\n",
              "      --hover-fill-color: #174EA6;\n",
              "      --disabled-fill-color: #AAA;\n",
              "      --disabled-bg-color: #DDD;\n",
              "  }\n",
              "\n",
              "  [theme=dark] .colab-df-quickchart {\n",
              "      --bg-color: #3B4455;\n",
              "      --fill-color: #D2E3FC;\n",
              "      --hover-bg-color: #434B5C;\n",
              "      --hover-fill-color: #FFFFFF;\n",
              "      --disabled-bg-color: #3B4455;\n",
              "      --disabled-fill-color: #666;\n",
              "  }\n",
              "\n",
              "  .colab-df-quickchart {\n",
              "    background-color: var(--bg-color);\n",
              "    border: none;\n",
              "    border-radius: 50%;\n",
              "    cursor: pointer;\n",
              "    display: none;\n",
              "    fill: var(--fill-color);\n",
              "    height: 32px;\n",
              "    padding: 0;\n",
              "    width: 32px;\n",
              "  }\n",
              "\n",
              "  .colab-df-quickchart:hover {\n",
              "    background-color: var(--hover-bg-color);\n",
              "    box-shadow: 0 1px 2px rgba(60, 64, 67, 0.3), 0 1px 3px 1px rgba(60, 64, 67, 0.15);\n",
              "    fill: var(--button-hover-fill-color);\n",
              "  }\n",
              "\n",
              "  .colab-df-quickchart-complete:disabled,\n",
              "  .colab-df-quickchart-complete:disabled:hover {\n",
              "    background-color: var(--disabled-bg-color);\n",
              "    fill: var(--disabled-fill-color);\n",
              "    box-shadow: none;\n",
              "  }\n",
              "\n",
              "  .colab-df-spinner {\n",
              "    border: 2px solid var(--fill-color);\n",
              "    border-color: transparent;\n",
              "    border-bottom-color: var(--fill-color);\n",
              "    animation:\n",
              "      spin 1s steps(1) infinite;\n",
              "  }\n",
              "\n",
              "  @keyframes spin {\n",
              "    0% {\n",
              "      border-color: transparent;\n",
              "      border-bottom-color: var(--fill-color);\n",
              "      border-left-color: var(--fill-color);\n",
              "    }\n",
              "    20% {\n",
              "      border-color: transparent;\n",
              "      border-left-color: var(--fill-color);\n",
              "      border-top-color: var(--fill-color);\n",
              "    }\n",
              "    30% {\n",
              "      border-color: transparent;\n",
              "      border-left-color: var(--fill-color);\n",
              "      border-top-color: var(--fill-color);\n",
              "      border-right-color: var(--fill-color);\n",
              "    }\n",
              "    40% {\n",
              "      border-color: transparent;\n",
              "      border-right-color: var(--fill-color);\n",
              "      border-top-color: var(--fill-color);\n",
              "    }\n",
              "    60% {\n",
              "      border-color: transparent;\n",
              "      border-right-color: var(--fill-color);\n",
              "    }\n",
              "    80% {\n",
              "      border-color: transparent;\n",
              "      border-right-color: var(--fill-color);\n",
              "      border-bottom-color: var(--fill-color);\n",
              "    }\n",
              "    90% {\n",
              "      border-color: transparent;\n",
              "      border-bottom-color: var(--fill-color);\n",
              "    }\n",
              "  }\n",
              "</style>\n",
              "\n",
              "      <script>\n",
              "        async function quickchart(key) {\n",
              "          const quickchartButtonEl =\n",
              "            document.querySelector('#' + key + ' button');\n",
              "          quickchartButtonEl.disabled = true;  // To prevent multiple clicks.\n",
              "          quickchartButtonEl.classList.add('colab-df-spinner');\n",
              "          try {\n",
              "            const charts = await google.colab.kernel.invokeFunction(\n",
              "                'suggestCharts', [key], {});\n",
              "          } catch (error) {\n",
              "            console.error('Error during call to suggestCharts:', error);\n",
              "          }\n",
              "          quickchartButtonEl.classList.remove('colab-df-spinner');\n",
              "          quickchartButtonEl.classList.add('colab-df-quickchart-complete');\n",
              "        }\n",
              "        (() => {\n",
              "          let quickchartButtonEl =\n",
              "            document.querySelector('#df-a5277c75-0bbf-482e-98a4-74944fd81828 button');\n",
              "          quickchartButtonEl.style.display =\n",
              "            google.colab.kernel.accessAllowed ? 'block' : 'none';\n",
              "        })();\n",
              "      </script>\n",
              "    </div>\n",
              "\n",
              "    </div>\n",
              "  </div>\n"
            ],
            "application/vnd.google.colaboratory.intrinsic+json": {
              "type": "dataframe",
              "summary": "{\n  \"name\": \"tweets_df[tweets_df['posted_by']\",\n  \"rows\": 2,\n  \"fields\": [\n    {\n      \"column\": \"target\",\n      \"properties\": {\n        \"dtype\": \"number\",\n        \"std\": 0,\n        \"min\": 1,\n        \"max\": 1,\n        \"num_unique_values\": 1,\n        \"samples\": [\n          1\n        ],\n        \"semantic_type\": \"\",\n        \"description\": \"\"\n      }\n    },\n    {\n      \"column\": \"id\",\n      \"properties\": {\n        \"dtype\": \"number\",\n        \"std\": 132942830,\n        \"min\": 2005308803,\n        \"max\": 2193318357,\n        \"num_unique_values\": 2,\n        \"samples\": [\n          2193318357\n        ],\n        \"semantic_type\": \"\",\n        \"description\": \"\"\n      }\n    },\n    {\n      \"column\": \"posted_at\",\n      \"properties\": {\n        \"dtype\": \"date\",\n        \"min\": \"2009-06-02 09:30:41-07:00\",\n        \"max\": \"2009-06-16 08:17:40-07:00\",\n        \"num_unique_values\": 2,\n        \"samples\": [\n          \"2009-06-16 08:17:40-07:00\"\n        ],\n        \"semantic_type\": \"\",\n        \"description\": \"\"\n      }\n    },\n    {\n      \"column\": \"posted_by\",\n      \"properties\": {\n        \"dtype\": \"string\",\n        \"num_unique_values\": 1,\n        \"samples\": [\n          \"ummsistweets\"\n        ],\n        \"semantic_type\": \"\",\n        \"description\": \"\"\n      }\n    },\n    {\n      \"column\": \"content\",\n      \"properties\": {\n        \"dtype\": \"string\",\n        \"num_unique_values\": 2,\n        \"samples\": [\n          \"cedar point with my biffs \"\n        ],\n        \"semantic_type\": \"\",\n        \"description\": \"\"\n      }\n    }\n  ]\n}"
            }
          },
          "metadata": {},
          "execution_count": 30
        }
      ]
    },
    {
      "cell_type": "code",
      "source": [
        "# les doublons ayant differents labels\n",
        "print(tweets_df[tweets_df.duplicated(subset=['id', 'content'])])"
      ],
      "metadata": {
        "colab": {
          "base_uri": "https://localhost:8080/"
        },
        "id": "DwrBfN12bpTf",
        "outputId": "dcfcb148-433b-4944-fa41-af1cd7e85356"
      },
      "execution_count": 31,
      "outputs": [
        {
          "output_type": "stream",
          "name": "stdout",
          "text": [
            "Empty DataFrame\n",
            "Columns: [target, id, posted_at, posted_by, content]\n",
            "Index: []\n"
          ]
        }
      ]
    },
    {
      "cell_type": "markdown",
      "metadata": {
        "papermill": {
          "duration": 0.026565,
          "end_time": "2020-08-26T20:59:09.195828",
          "exception": false,
          "start_time": "2020-08-26T20:59:09.169263",
          "status": "completed"
        },
        "tags": [],
        "id": "SuaIumEL0Qst"
      },
      "source": [
        "# Nettoyage du contenu\n",
        "\n",
        "L’approche la plus courante dans le nettoyage de texte consiste à uniformiser la casse (mettre en majuscules ou en minuscules), en raison de la diversité des capitalisations dans la formation des phrases. Cette technique permet de projeter tous les mots du texte et du document dans le même espace de caractéristiques. Toutefois, elle peut poser problème dans des cas exceptionnels comme \"USA\" ou \"UK\", ce qui peut être résolu en utilisant des techniques de correction des fautes de frappe, de traitement du langage familier, des acronymes ou des abréviations informelles.[link text](https://)"
      ]
    },
    {
      "cell_type": "markdown",
      "source": [
        "## Mise en minuscule"
      ],
      "metadata": {
        "id": "I1aTswoidTsU"
      }
    },
    {
      "cell_type": "code",
      "execution_count": 32,
      "metadata": {
        "execution": {
          "iopub.execute_input": "2020-08-26T20:59:09.275497Z",
          "iopub.status.busy": "2020-08-26T20:59:09.274491Z",
          "iopub.status.idle": "2020-08-26T20:59:09.278913Z",
          "shell.execute_reply": "2020-08-26T20:59:09.279556Z"
        },
        "papermill": {
          "duration": 0.057135,
          "end_time": "2020-08-26T20:59:09.279754",
          "exception": false,
          "start_time": "2020-08-26T20:59:09.222619",
          "status": "completed"
        },
        "scrolled": true,
        "tags": [],
        "colab": {
          "base_uri": "https://localhost:8080/",
          "height": 206
        },
        "id": "aVrGtkYD0Qst",
        "outputId": "d8a94b3b-0e83-4dcb-c7bb-0fd30fecbd53"
      },
      "outputs": [
        {
          "output_type": "display_data",
          "data": {
            "text/plain": [
              "   target          id                 posted_at        posted_by  \\\n",
              "0       0  1467810369 2009-04-06 22:19:45-07:00  _TheSpecialOne_   \n",
              "1       0  1467810672 2009-04-06 22:19:49-07:00    scotthamilton   \n",
              "2       0  1467810917 2009-04-06 22:19:53-07:00         mattycus   \n",
              "3       0  1467811184 2009-04-06 22:19:57-07:00          ElleCTF   \n",
              "4       0  1467811193 2009-04-06 22:19:57-07:00           Karoli   \n",
              "\n",
              "                                             content  \\\n",
              "0  @switchfoot http://twitpic.com/2y1zl - Awww, t...   \n",
              "1  is upset that he can't update his Facebook by ...   \n",
              "2  @Kenichan I dived many times for the ball. Man...   \n",
              "3    my whole body feels itchy and like its on fire    \n",
              "4  @nationwideclass no, it's not behaving at all....   \n",
              "\n",
              "                                       content_clean  \n",
              "0  @switchfoot http://twitpic.com/2y1zl - awww, t...  \n",
              "1  is upset that he can't update his facebook by ...  \n",
              "2  @kenichan i dived many times for the ball. man...  \n",
              "3    my whole body feels itchy and like its on fire   \n",
              "4  @nationwideclass no, it's not behaving at all....  "
            ],
            "text/html": [
              "\n",
              "  <div id=\"df-2d7de18b-0fe2-4e66-a378-7db3966982a5\" class=\"colab-df-container\">\n",
              "    <div>\n",
              "<style scoped>\n",
              "    .dataframe tbody tr th:only-of-type {\n",
              "        vertical-align: middle;\n",
              "    }\n",
              "\n",
              "    .dataframe tbody tr th {\n",
              "        vertical-align: top;\n",
              "    }\n",
              "\n",
              "    .dataframe thead th {\n",
              "        text-align: right;\n",
              "    }\n",
              "</style>\n",
              "<table border=\"1\" class=\"dataframe\">\n",
              "  <thead>\n",
              "    <tr style=\"text-align: right;\">\n",
              "      <th></th>\n",
              "      <th>target</th>\n",
              "      <th>id</th>\n",
              "      <th>posted_at</th>\n",
              "      <th>posted_by</th>\n",
              "      <th>content</th>\n",
              "      <th>content_clean</th>\n",
              "    </tr>\n",
              "  </thead>\n",
              "  <tbody>\n",
              "    <tr>\n",
              "      <th>0</th>\n",
              "      <td>0</td>\n",
              "      <td>1467810369</td>\n",
              "      <td>2009-04-06 22:19:45-07:00</td>\n",
              "      <td>_TheSpecialOne_</td>\n",
              "      <td>@switchfoot http://twitpic.com/2y1zl - Awww, t...</td>\n",
              "      <td>@switchfoot http://twitpic.com/2y1zl - awww, t...</td>\n",
              "    </tr>\n",
              "    <tr>\n",
              "      <th>1</th>\n",
              "      <td>0</td>\n",
              "      <td>1467810672</td>\n",
              "      <td>2009-04-06 22:19:49-07:00</td>\n",
              "      <td>scotthamilton</td>\n",
              "      <td>is upset that he can't update his Facebook by ...</td>\n",
              "      <td>is upset that he can't update his facebook by ...</td>\n",
              "    </tr>\n",
              "    <tr>\n",
              "      <th>2</th>\n",
              "      <td>0</td>\n",
              "      <td>1467810917</td>\n",
              "      <td>2009-04-06 22:19:53-07:00</td>\n",
              "      <td>mattycus</td>\n",
              "      <td>@Kenichan I dived many times for the ball. Man...</td>\n",
              "      <td>@kenichan i dived many times for the ball. man...</td>\n",
              "    </tr>\n",
              "    <tr>\n",
              "      <th>3</th>\n",
              "      <td>0</td>\n",
              "      <td>1467811184</td>\n",
              "      <td>2009-04-06 22:19:57-07:00</td>\n",
              "      <td>ElleCTF</td>\n",
              "      <td>my whole body feels itchy and like its on fire</td>\n",
              "      <td>my whole body feels itchy and like its on fire</td>\n",
              "    </tr>\n",
              "    <tr>\n",
              "      <th>4</th>\n",
              "      <td>0</td>\n",
              "      <td>1467811193</td>\n",
              "      <td>2009-04-06 22:19:57-07:00</td>\n",
              "      <td>Karoli</td>\n",
              "      <td>@nationwideclass no, it's not behaving at all....</td>\n",
              "      <td>@nationwideclass no, it's not behaving at all....</td>\n",
              "    </tr>\n",
              "  </tbody>\n",
              "</table>\n",
              "</div>\n",
              "    <div class=\"colab-df-buttons\">\n",
              "\n",
              "  <div class=\"colab-df-container\">\n",
              "    <button class=\"colab-df-convert\" onclick=\"convertToInteractive('df-2d7de18b-0fe2-4e66-a378-7db3966982a5')\"\n",
              "            title=\"Convert this dataframe to an interactive table.\"\n",
              "            style=\"display:none;\">\n",
              "\n",
              "  <svg xmlns=\"http://www.w3.org/2000/svg\" height=\"24px\" viewBox=\"0 -960 960 960\">\n",
              "    <path d=\"M120-120v-720h720v720H120Zm60-500h600v-160H180v160Zm220 220h160v-160H400v160Zm0 220h160v-160H400v160ZM180-400h160v-160H180v160Zm440 0h160v-160H620v160ZM180-180h160v-160H180v160Zm440 0h160v-160H620v160Z\"/>\n",
              "  </svg>\n",
              "    </button>\n",
              "\n",
              "  <style>\n",
              "    .colab-df-container {\n",
              "      display:flex;\n",
              "      gap: 12px;\n",
              "    }\n",
              "\n",
              "    .colab-df-convert {\n",
              "      background-color: #E8F0FE;\n",
              "      border: none;\n",
              "      border-radius: 50%;\n",
              "      cursor: pointer;\n",
              "      display: none;\n",
              "      fill: #1967D2;\n",
              "      height: 32px;\n",
              "      padding: 0 0 0 0;\n",
              "      width: 32px;\n",
              "    }\n",
              "\n",
              "    .colab-df-convert:hover {\n",
              "      background-color: #E2EBFA;\n",
              "      box-shadow: 0px 1px 2px rgba(60, 64, 67, 0.3), 0px 1px 3px 1px rgba(60, 64, 67, 0.15);\n",
              "      fill: #174EA6;\n",
              "    }\n",
              "\n",
              "    .colab-df-buttons div {\n",
              "      margin-bottom: 4px;\n",
              "    }\n",
              "\n",
              "    [theme=dark] .colab-df-convert {\n",
              "      background-color: #3B4455;\n",
              "      fill: #D2E3FC;\n",
              "    }\n",
              "\n",
              "    [theme=dark] .colab-df-convert:hover {\n",
              "      background-color: #434B5C;\n",
              "      box-shadow: 0px 1px 3px 1px rgba(0, 0, 0, 0.15);\n",
              "      filter: drop-shadow(0px 1px 2px rgba(0, 0, 0, 0.3));\n",
              "      fill: #FFFFFF;\n",
              "    }\n",
              "  </style>\n",
              "\n",
              "    <script>\n",
              "      const buttonEl =\n",
              "        document.querySelector('#df-2d7de18b-0fe2-4e66-a378-7db3966982a5 button.colab-df-convert');\n",
              "      buttonEl.style.display =\n",
              "        google.colab.kernel.accessAllowed ? 'block' : 'none';\n",
              "\n",
              "      async function convertToInteractive(key) {\n",
              "        const element = document.querySelector('#df-2d7de18b-0fe2-4e66-a378-7db3966982a5');\n",
              "        const dataTable =\n",
              "          await google.colab.kernel.invokeFunction('convertToInteractive',\n",
              "                                                    [key], {});\n",
              "        if (!dataTable) return;\n",
              "\n",
              "        const docLinkHtml = 'Like what you see? Visit the ' +\n",
              "          '<a target=\"_blank\" href=https://colab.research.google.com/notebooks/data_table.ipynb>data table notebook</a>'\n",
              "          + ' to learn more about interactive tables.';\n",
              "        element.innerHTML = '';\n",
              "        dataTable['output_type'] = 'display_data';\n",
              "        await google.colab.output.renderOutput(dataTable, element);\n",
              "        const docLink = document.createElement('div');\n",
              "        docLink.innerHTML = docLinkHtml;\n",
              "        element.appendChild(docLink);\n",
              "      }\n",
              "    </script>\n",
              "  </div>\n",
              "\n",
              "\n",
              "    <div id=\"df-39ffcfa7-be41-421a-a075-a12572e8e5a8\">\n",
              "      <button class=\"colab-df-quickchart\" onclick=\"quickchart('df-39ffcfa7-be41-421a-a075-a12572e8e5a8')\"\n",
              "                title=\"Suggest charts\"\n",
              "                style=\"display:none;\">\n",
              "\n",
              "<svg xmlns=\"http://www.w3.org/2000/svg\" height=\"24px\"viewBox=\"0 0 24 24\"\n",
              "     width=\"24px\">\n",
              "    <g>\n",
              "        <path d=\"M19 3H5c-1.1 0-2 .9-2 2v14c0 1.1.9 2 2 2h14c1.1 0 2-.9 2-2V5c0-1.1-.9-2-2-2zM9 17H7v-7h2v7zm4 0h-2V7h2v10zm4 0h-2v-4h2v4z\"/>\n",
              "    </g>\n",
              "</svg>\n",
              "      </button>\n",
              "\n",
              "<style>\n",
              "  .colab-df-quickchart {\n",
              "      --bg-color: #E8F0FE;\n",
              "      --fill-color: #1967D2;\n",
              "      --hover-bg-color: #E2EBFA;\n",
              "      --hover-fill-color: #174EA6;\n",
              "      --disabled-fill-color: #AAA;\n",
              "      --disabled-bg-color: #DDD;\n",
              "  }\n",
              "\n",
              "  [theme=dark] .colab-df-quickchart {\n",
              "      --bg-color: #3B4455;\n",
              "      --fill-color: #D2E3FC;\n",
              "      --hover-bg-color: #434B5C;\n",
              "      --hover-fill-color: #FFFFFF;\n",
              "      --disabled-bg-color: #3B4455;\n",
              "      --disabled-fill-color: #666;\n",
              "  }\n",
              "\n",
              "  .colab-df-quickchart {\n",
              "    background-color: var(--bg-color);\n",
              "    border: none;\n",
              "    border-radius: 50%;\n",
              "    cursor: pointer;\n",
              "    display: none;\n",
              "    fill: var(--fill-color);\n",
              "    height: 32px;\n",
              "    padding: 0;\n",
              "    width: 32px;\n",
              "  }\n",
              "\n",
              "  .colab-df-quickchart:hover {\n",
              "    background-color: var(--hover-bg-color);\n",
              "    box-shadow: 0 1px 2px rgba(60, 64, 67, 0.3), 0 1px 3px 1px rgba(60, 64, 67, 0.15);\n",
              "    fill: var(--button-hover-fill-color);\n",
              "  }\n",
              "\n",
              "  .colab-df-quickchart-complete:disabled,\n",
              "  .colab-df-quickchart-complete:disabled:hover {\n",
              "    background-color: var(--disabled-bg-color);\n",
              "    fill: var(--disabled-fill-color);\n",
              "    box-shadow: none;\n",
              "  }\n",
              "\n",
              "  .colab-df-spinner {\n",
              "    border: 2px solid var(--fill-color);\n",
              "    border-color: transparent;\n",
              "    border-bottom-color: var(--fill-color);\n",
              "    animation:\n",
              "      spin 1s steps(1) infinite;\n",
              "  }\n",
              "\n",
              "  @keyframes spin {\n",
              "    0% {\n",
              "      border-color: transparent;\n",
              "      border-bottom-color: var(--fill-color);\n",
              "      border-left-color: var(--fill-color);\n",
              "    }\n",
              "    20% {\n",
              "      border-color: transparent;\n",
              "      border-left-color: var(--fill-color);\n",
              "      border-top-color: var(--fill-color);\n",
              "    }\n",
              "    30% {\n",
              "      border-color: transparent;\n",
              "      border-left-color: var(--fill-color);\n",
              "      border-top-color: var(--fill-color);\n",
              "      border-right-color: var(--fill-color);\n",
              "    }\n",
              "    40% {\n",
              "      border-color: transparent;\n",
              "      border-right-color: var(--fill-color);\n",
              "      border-top-color: var(--fill-color);\n",
              "    }\n",
              "    60% {\n",
              "      border-color: transparent;\n",
              "      border-right-color: var(--fill-color);\n",
              "    }\n",
              "    80% {\n",
              "      border-color: transparent;\n",
              "      border-right-color: var(--fill-color);\n",
              "      border-bottom-color: var(--fill-color);\n",
              "    }\n",
              "    90% {\n",
              "      border-color: transparent;\n",
              "      border-bottom-color: var(--fill-color);\n",
              "    }\n",
              "  }\n",
              "</style>\n",
              "\n",
              "      <script>\n",
              "        async function quickchart(key) {\n",
              "          const quickchartButtonEl =\n",
              "            document.querySelector('#' + key + ' button');\n",
              "          quickchartButtonEl.disabled = true;  // To prevent multiple clicks.\n",
              "          quickchartButtonEl.classList.add('colab-df-spinner');\n",
              "          try {\n",
              "            const charts = await google.colab.kernel.invokeFunction(\n",
              "                'suggestCharts', [key], {});\n",
              "          } catch (error) {\n",
              "            console.error('Error during call to suggestCharts:', error);\n",
              "          }\n",
              "          quickchartButtonEl.classList.remove('colab-df-spinner');\n",
              "          quickchartButtonEl.classList.add('colab-df-quickchart-complete');\n",
              "        }\n",
              "        (() => {\n",
              "          let quickchartButtonEl =\n",
              "            document.querySelector('#df-39ffcfa7-be41-421a-a075-a12572e8e5a8 button');\n",
              "          quickchartButtonEl.style.display =\n",
              "            google.colab.kernel.accessAllowed ? 'block' : 'none';\n",
              "        })();\n",
              "      </script>\n",
              "    </div>\n",
              "\n",
              "    </div>\n",
              "  </div>\n"
            ],
            "application/vnd.google.colaboratory.intrinsic+json": {
              "type": "dataframe",
              "summary": "{\n  \"name\": \"display(tweets_df\",\n  \"rows\": 5,\n  \"fields\": [\n    {\n      \"column\": \"target\",\n      \"properties\": {\n        \"dtype\": \"number\",\n        \"std\": 0,\n        \"min\": 0,\n        \"max\": 0,\n        \"num_unique_values\": 1,\n        \"samples\": [\n          0\n        ],\n        \"semantic_type\": \"\",\n        \"description\": \"\"\n      }\n    },\n    {\n      \"column\": \"id\",\n      \"properties\": {\n        \"dtype\": \"number\",\n        \"std\": 351,\n        \"min\": 1467810369,\n        \"max\": 1467811193,\n        \"num_unique_values\": 5,\n        \"samples\": [\n          1467810672\n        ],\n        \"semantic_type\": \"\",\n        \"description\": \"\"\n      }\n    },\n    {\n      \"column\": \"posted_at\",\n      \"properties\": {\n        \"dtype\": \"date\",\n        \"min\": \"2009-04-06 22:19:45-07:00\",\n        \"max\": \"2009-04-06 22:19:57-07:00\",\n        \"num_unique_values\": 4,\n        \"samples\": [\n          \"2009-04-06 22:19:49-07:00\"\n        ],\n        \"semantic_type\": \"\",\n        \"description\": \"\"\n      }\n    },\n    {\n      \"column\": \"posted_by\",\n      \"properties\": {\n        \"dtype\": \"string\",\n        \"num_unique_values\": 5,\n        \"samples\": [\n          \"scotthamilton\"\n        ],\n        \"semantic_type\": \"\",\n        \"description\": \"\"\n      }\n    },\n    {\n      \"column\": \"content\",\n      \"properties\": {\n        \"dtype\": \"string\",\n        \"num_unique_values\": 5,\n        \"samples\": [\n          \"is upset that he can't update his Facebook by texting it... and might cry as a result  School today also. Blah!\"\n        ],\n        \"semantic_type\": \"\",\n        \"description\": \"\"\n      }\n    },\n    {\n      \"column\": \"content_clean\",\n      \"properties\": {\n        \"dtype\": \"string\",\n        \"num_unique_values\": 5,\n        \"samples\": [\n          \"is upset that he can't update his facebook by texting it... and might cry as a result  school today also. blah!\"\n        ],\n        \"semantic_type\": \"\",\n        \"description\": \"\"\n      }\n    }\n  ]\n}"
            }
          },
          "metadata": {}
        }
      ],
      "source": [
        "tweets_df[\"content_clean\"] = tweets_df[\"content\"].apply(lambda x: x.lower())\n",
        "display(tweets_df.head())"
      ]
    },
    {
      "cell_type": "markdown",
      "metadata": {
        "papermill": {
          "duration": 0.02658,
          "end_time": "2020-08-26T20:59:09.333380",
          "exception": false,
          "start_time": "2020-08-26T20:59:09.306800",
          "status": "completed"
        },
        "tags": [],
        "id": "mxY0XbYq0Qst"
      },
      "source": [
        "## Étendre les contractions\n",
        "\n",
        "Nous utilisons le package [contractions](https://github.com/kootenpv/contractions) pour développer les contractions en anglais, par exemple `we'll` devient `we will`, ou `we shouldn't've` devient `we should not have`."
      ]
    },
    {
      "cell_type": "code",
      "execution_count": 33,
      "metadata": {
        "execution": {
          "iopub.execute_input": "2020-08-26T20:59:20.881166Z",
          "iopub.status.busy": "2020-08-26T20:59:20.880391Z",
          "iopub.status.idle": "2020-08-26T20:59:21.016950Z",
          "shell.execute_reply": "2020-08-26T20:59:21.016289Z"
        },
        "papermill": {
          "duration": 0.176973,
          "end_time": "2020-08-26T20:59:21.017078",
          "exception": false,
          "start_time": "2020-08-26T20:59:20.840105",
          "status": "completed"
        },
        "scrolled": true,
        "tags": [],
        "colab": {
          "base_uri": "https://localhost:8080/"
        },
        "id": "SYd5HU560Qsu",
        "outputId": "f7647292-9762-4824-9eae-632c5b13fcd8"
      },
      "outputs": [
        {
          "output_type": "stream",
          "name": "stdout",
          "text": [
            "Test:  \n",
            "            You all cannot expand contractions I would think. I would like to know how I would done that!\n",
            "            We are going to the zoo and I do not think I will be home for dinner.\n",
            "            They Are going to the zoo and she will be home for dinner.\n",
            "            We should have do it in here but we should not have eat it\n",
            "            \n",
            "CPU times: user 246 µs, sys: 24 µs, total: 270 µs\n",
            "Wall time: 275 µs\n"
          ]
        }
      ],
      "source": [
        "%%time\n",
        "# Test\n",
        "test_text = \"\"\"\n",
        "            Y'all can't expand contractions I'd think. I'd like to know how I'd done that!\n",
        "            We're going to the zoo and I don't think I'll be home for dinner.\n",
        "            Theyre going to the zoo and she'll be home for dinner.\n",
        "            We should've do it in here but we shouldn't've eat it\n",
        "            \"\"\"\n",
        "print(\"Test: \", contractions.fix(test_text))"
      ]
    },
    {
      "cell_type": "code",
      "source": [
        "%%time\n",
        "tweets_df[\"content_clean\"] = tweets_df[\"content_clean\"].apply(lambda x: contractions.fix(x))\n",
        "\n",
        "# double check\n",
        "print(tweets_df[\"content\"][12])\n",
        "print(tweets_df[\"content_clean\"][12])"
      ],
      "metadata": {
        "colab": {
          "base_uri": "https://localhost:8080/"
        },
        "id": "i74cuSc-fBmS",
        "outputId": "457a3c06-e42a-482e-b1c2-15ce6ea9932a"
      },
      "execution_count": 34,
      "outputs": [
        {
          "output_type": "stream",
          "name": "stdout",
          "text": [
            "@caregiving I couldn't bear to watch it.  And I thought the UA loss was embarrassing . . . . .\n",
            "@caregiving i could not bear to watch it.  and i thought the ua loss was embarrassing . . . . .\n",
            "CPU times: user 7.29 s, sys: 53 ms, total: 7.34 s\n",
            "Wall time: 7.33 s\n"
          ]
        }
      ]
    },
    {
      "cell_type": "markdown",
      "metadata": {
        "papermill": {
          "duration": 0.026638,
          "end_time": "2020-08-26T20:59:21.070764",
          "exception": false,
          "start_time": "2020-08-26T20:59:21.044126",
          "status": "completed"
        },
        "tags": [],
        "id": "GdaRlw770Qsu"
      },
      "source": [
        "## Suppression du bruit (Noise Removal)\n",
        "\n",
        "Les données textuelles peuvent contenir divers caractères inutiles ou de la ponctuation, tels que des URLs, des balises HTML, des caractères non-ASCII, ou d'autres caractères spéciaux (symboles, emojis, et autres caractères graphiques)."
      ]
    },
    {
      "cell_type": "markdown",
      "source": [
        "### Suppression des caractéres numerique"
      ],
      "metadata": {
        "id": "UvZX8m5q5Tnl"
      }
    },
    {
      "cell_type": "code",
      "source": [
        "def remove_numerical_chars(text):\n",
        "    \"\"\"\n",
        "        supprime les caractéres numerique du texte\n",
        "    \"\"\"\n",
        "    return re.sub(r'\\d+', '', text).strip()"
      ],
      "metadata": {
        "id": "Wo7lsMEj5eEE"
      },
      "execution_count": 35,
      "outputs": []
    },
    {
      "cell_type": "code",
      "source": [
        "tweets_df[\"content_clean\"] = tweets_df[\"content_clean\"].apply(lambda x: remove_numerical_chars(x))"
      ],
      "metadata": {
        "id": "tq7Fanp15SsN"
      },
      "execution_count": 36,
      "outputs": []
    },
    {
      "cell_type": "markdown",
      "source": [
        "### Suppression des URLs"
      ],
      "metadata": {
        "id": "SqWFbbu_f2Cy"
      }
    },
    {
      "cell_type": "code",
      "execution_count": 37,
      "metadata": {
        "execution": {
          "iopub.execute_input": "2020-08-26T20:59:21.132334Z",
          "iopub.status.busy": "2020-08-26T20:59:21.131270Z",
          "iopub.status.idle": "2020-08-26T20:59:21.134995Z",
          "shell.execute_reply": "2020-08-26T20:59:21.134330Z"
        },
        "papermill": {
          "duration": 0.037228,
          "end_time": "2020-08-26T20:59:21.135116",
          "exception": false,
          "start_time": "2020-08-26T20:59:21.097888",
          "status": "completed"
        },
        "scrolled": true,
        "tags": [],
        "id": "r18vpAWN0Qsv"
      },
      "outputs": [],
      "source": [
        "def remove_URL(text):\n",
        "    \"\"\"\n",
        "        Supprime des URLs du texte\n",
        "    \"\"\"\n",
        "    return re.sub(r\"https?://\\S+|www\\.\\S+\", \"\", text)"
      ]
    },
    {
      "cell_type": "code",
      "execution_count": 38,
      "metadata": {
        "execution": {
          "iopub.execute_input": "2020-08-26T20:59:21.218656Z",
          "iopub.status.busy": "2020-08-26T20:59:21.203116Z",
          "iopub.status.idle": "2020-08-26T20:59:21.245760Z",
          "shell.execute_reply": "2020-08-26T20:59:21.246348Z"
        },
        "papermill": {
          "duration": 0.083724,
          "end_time": "2020-08-26T20:59:21.246550",
          "exception": false,
          "start_time": "2020-08-26T20:59:21.162826",
          "status": "completed"
        },
        "scrolled": true,
        "tags": [],
        "colab": {
          "base_uri": "https://localhost:8080/"
        },
        "id": "vItrQoCO0Qsv",
        "outputId": "074d84ac-c65b-4e38-ed8c-18c15888d821"
      },
      "outputs": [
        {
          "output_type": "stream",
          "name": "stdout",
          "text": [
            "@MissXu sorry! bed time came here (GMT+1)   http://is.gd/fNge\n",
            "@missxu sorry! bed time came here (gmt+)   \n"
          ]
        }
      ],
      "source": [
        "tweets_df[\"content_clean\"] = tweets_df[\"content_clean\"].apply(lambda x: remove_URL(x))\n",
        "\n",
        "print(tweets_df[\"content\"][37])\n",
        "print(tweets_df[\"content_clean\"][37])"
      ]
    },
    {
      "cell_type": "markdown",
      "metadata": {
        "papermill": {
          "duration": 0.026797,
          "end_time": "2020-08-26T20:59:21.300542",
          "exception": false,
          "start_time": "2020-08-26T20:59:21.273745",
          "status": "completed"
        },
        "tags": [],
        "id": "LP2obao30Qsv"
      },
      "source": [
        "### Suppression des tags HTML"
      ]
    },
    {
      "cell_type": "code",
      "execution_count": 39,
      "metadata": {
        "execution": {
          "iopub.execute_input": "2020-08-26T20:59:21.361323Z",
          "iopub.status.busy": "2020-08-26T20:59:21.360273Z",
          "iopub.status.idle": "2020-08-26T20:59:21.363627Z",
          "shell.execute_reply": "2020-08-26T20:59:21.362882Z"
        },
        "papermill": {
          "duration": 0.036117,
          "end_time": "2020-08-26T20:59:21.363750",
          "exception": false,
          "start_time": "2020-08-26T20:59:21.327633",
          "status": "completed"
        },
        "scrolled": true,
        "tags": [],
        "id": "YnpZDFwW0Qsw"
      },
      "outputs": [],
      "source": [
        "def remove_html(text):\n",
        "    \"\"\"\n",
        "        Supprime les tags HTML du texte\n",
        "    \"\"\"\n",
        "    html = re.compile(r\"<.*?>|&([a-z0-9]+|#[0-9]{1,6}|#x[0-9a-f]{1,6});\")\n",
        "    return re.sub(html, \"\", text)"
      ]
    },
    {
      "cell_type": "code",
      "execution_count": 40,
      "metadata": {
        "execution": {
          "iopub.execute_input": "2020-08-26T20:59:21.451321Z",
          "iopub.status.busy": "2020-08-26T20:59:21.446250Z",
          "iopub.status.idle": "2020-08-26T20:59:21.482235Z",
          "shell.execute_reply": "2020-08-26T20:59:21.482996Z"
        },
        "papermill": {
          "duration": 0.091888,
          "end_time": "2020-08-26T20:59:21.483233",
          "exception": false,
          "start_time": "2020-08-26T20:59:21.391345",
          "status": "completed"
        },
        "scrolled": true,
        "tags": [],
        "id": "EpKR8YI70Qsw"
      },
      "outputs": [],
      "source": [
        "tweets_df[\"content_clean\"] = tweets_df[\"content_clean\"].apply(lambda x: remove_html(x))"
      ]
    },
    {
      "cell_type": "markdown",
      "metadata": {
        "papermill": {
          "duration": 0.026932,
          "end_time": "2020-08-26T20:59:21.538212",
          "exception": false,
          "start_time": "2020-08-26T20:59:21.511280",
          "status": "completed"
        },
        "tags": [],
        "id": "NddYWfAf0Qsw"
      },
      "source": [
        "### Remove Non-ASCI"
      ]
    },
    {
      "cell_type": "code",
      "execution_count": 41,
      "metadata": {
        "execution": {
          "iopub.execute_input": "2020-08-26T20:59:21.599433Z",
          "iopub.status.busy": "2020-08-26T20:59:21.598384Z",
          "iopub.status.idle": "2020-08-26T20:59:21.601701Z",
          "shell.execute_reply": "2020-08-26T20:59:21.601019Z"
        },
        "papermill": {
          "duration": 0.036156,
          "end_time": "2020-08-26T20:59:21.601832",
          "exception": false,
          "start_time": "2020-08-26T20:59:21.565676",
          "status": "completed"
        },
        "scrolled": true,
        "tags": [],
        "id": "D2kTbRre0Qsw"
      },
      "outputs": [],
      "source": [
        "def remove_non_ascii(text):\n",
        "    \"\"\"\n",
        "        supprime les caractères non ASCII du texte\n",
        "    \"\"\"\n",
        "    return re.sub(r'[^\\x00-\\x7f]',r'', text) # or ''.join([x for x in text if x in string.printable])"
      ]
    },
    {
      "cell_type": "code",
      "execution_count": 42,
      "metadata": {
        "execution": {
          "iopub.execute_input": "2020-08-26T20:59:21.685029Z",
          "iopub.status.busy": "2020-08-26T20:59:21.679885Z",
          "iopub.status.idle": "2020-08-26T20:59:21.698384Z",
          "shell.execute_reply": "2020-08-26T20:59:21.699011Z"
        },
        "papermill": {
          "duration": 0.069283,
          "end_time": "2020-08-26T20:59:21.699171",
          "exception": false,
          "start_time": "2020-08-26T20:59:21.629888",
          "status": "completed"
        },
        "scrolled": true,
        "tags": [],
        "id": "h-ljRSUb0Qsw"
      },
      "outputs": [],
      "source": [
        "tweets_df[\"content_clean\"] = tweets_df[\"content_clean\"].apply(lambda x: remove_non_ascii(x))"
      ]
    },
    {
      "cell_type": "markdown",
      "metadata": {
        "papermill": {
          "duration": 0.028683,
          "end_time": "2020-08-26T20:59:28.425735",
          "exception": false,
          "start_time": "2020-08-26T20:59:28.397052",
          "status": "completed"
        },
        "tags": [],
        "id": "4ncNY8ae0Qsx"
      },
      "source": [
        "## Suppression des ponctuations"
      ]
    },
    {
      "cell_type": "code",
      "execution_count": 43,
      "metadata": {
        "execution": {
          "iopub.execute_input": "2020-08-26T20:59:28.490134Z",
          "iopub.status.busy": "2020-08-26T20:59:28.489283Z",
          "iopub.status.idle": "2020-08-26T20:59:28.492915Z",
          "shell.execute_reply": "2020-08-26T20:59:28.492164Z"
        },
        "papermill": {
          "duration": 0.038435,
          "end_time": "2020-08-26T20:59:28.493040",
          "exception": false,
          "start_time": "2020-08-26T20:59:28.454605",
          "status": "completed"
        },
        "scrolled": true,
        "tags": [],
        "id": "Sn3gGqp10Qsx"
      },
      "outputs": [],
      "source": [
        "def remove_punct(text):\n",
        "    \"\"\"\n",
        "        supprime les ponctuations du texte\n",
        "    \"\"\"\n",
        "    return text.translate(str.maketrans('', '', string.punctuation))"
      ]
    },
    {
      "cell_type": "code",
      "execution_count": 44,
      "metadata": {
        "execution": {
          "iopub.execute_input": "2020-08-26T20:59:28.584146Z",
          "iopub.status.busy": "2020-08-26T20:59:28.563395Z",
          "iopub.status.idle": "2020-08-26T20:59:28.608911Z",
          "shell.execute_reply": "2020-08-26T20:59:28.608274Z"
        },
        "papermill": {
          "duration": 0.086809,
          "end_time": "2020-08-26T20:59:28.609046",
          "exception": false,
          "start_time": "2020-08-26T20:59:28.522237",
          "status": "completed"
        },
        "scrolled": true,
        "tags": [],
        "colab": {
          "base_uri": "https://localhost:8080/"
        },
        "id": "uicW8k0t0Qsy",
        "outputId": "e62cd314-5439-4988-a3f2-57b353c0cc8c"
      },
      "outputs": [
        {
          "output_type": "stream",
          "name": "stdout",
          "text": [
            "@Kwesidei not the whole crew \n",
            "kwesidei not the whole crew\n",
            "------------------------------\n",
            "I just got my first fail whale...  @Twitter.\n",
            "i just got my first fail whale  twitter\n"
          ]
        }
      ],
      "source": [
        "tweets_df[\"content_clean\"] = tweets_df[\"content_clean\"].apply(lambda x: remove_punct(x))\n",
        "\n",
        "print(tweets_df[\"content\"][5])\n",
        "print(tweets_df[\"content_clean\"][5])\n",
        "print(\"---\"*10)\n",
        "print(tweets_df[\"content\"][7597])\n",
        "print(tweets_df[\"content_clean\"][7597])"
      ]
    },
    {
      "cell_type": "markdown",
      "metadata": {
        "papermill": {
          "duration": 0.029169,
          "end_time": "2020-08-26T20:59:31.843035",
          "exception": false,
          "start_time": "2020-08-26T20:59:31.813866",
          "status": "completed"
        },
        "tags": [],
        "id": "o8GMIGc20Qsz"
      },
      "source": [
        "# Prétraitement du texte"
      ]
    },
    {
      "cell_type": "markdown",
      "source": [
        "## Tokenization\n"
      ],
      "metadata": {
        "id": "3qYnn3uvjsUy"
      }
    },
    {
      "cell_type": "code",
      "execution_count": 45,
      "metadata": {
        "execution": {
          "iopub.execute_input": "2020-08-26T20:59:31.908884Z",
          "iopub.status.busy": "2020-08-26T20:59:31.908113Z",
          "iopub.status.idle": "2020-08-26T20:59:33.781583Z",
          "shell.execute_reply": "2020-08-26T20:59:33.780761Z"
        },
        "papermill": {
          "duration": 1.909077,
          "end_time": "2020-08-26T20:59:33.781711",
          "exception": false,
          "start_time": "2020-08-26T20:59:31.872634",
          "status": "completed"
        },
        "scrolled": true,
        "tags": [],
        "colab": {
          "base_uri": "https://localhost:8080/",
          "height": 366
        },
        "id": "EpR57oTK0Qsz",
        "outputId": "3d6cd219-cee8-4499-b4fd-9a5877c08bca"
      },
      "outputs": [
        {
          "output_type": "stream",
          "name": "stderr",
          "text": [
            "[nltk_data] Downloading package punkt_tab to /root/nltk_data...\n",
            "[nltk_data]   Package punkt_tab is already up-to-date!\n"
          ]
        },
        {
          "output_type": "stream",
          "name": "stdout",
          "text": [
            "CPU times: user 1min 38s, sys: 2.33 s, total: 1min 41s\n",
            "Wall time: 1min 41s\n"
          ]
        },
        {
          "output_type": "execute_result",
          "data": {
            "text/plain": [
              "   target          id                 posted_at        posted_by  \\\n",
              "0       0  1467810369 2009-04-06 22:19:45-07:00  _TheSpecialOne_   \n",
              "1       0  1467810672 2009-04-06 22:19:49-07:00    scotthamilton   \n",
              "2       0  1467810917 2009-04-06 22:19:53-07:00         mattycus   \n",
              "3       0  1467811184 2009-04-06 22:19:57-07:00          ElleCTF   \n",
              "4       0  1467811193 2009-04-06 22:19:57-07:00           Karoli   \n",
              "\n",
              "                                             content  \\\n",
              "0  @switchfoot http://twitpic.com/2y1zl - Awww, t...   \n",
              "1  is upset that he can't update his Facebook by ...   \n",
              "2  @Kenichan I dived many times for the ball. Man...   \n",
              "3    my whole body feels itchy and like its on fire    \n",
              "4  @nationwideclass no, it's not behaving at all....   \n",
              "\n",
              "                                       content_clean  \\\n",
              "0  switchfoot   awww that is a bummer  you should...   \n",
              "1  is upset that he cannot update his facebook by...   \n",
              "2  kenichan i dived many times for the ball manag...   \n",
              "3     my whole body feels itchy and like its on fire   \n",
              "4  nationwideclass no it is not behaving at all i...   \n",
              "\n",
              "                                           tokenized  \n",
              "0  [switchfoot, awww, that, is, a, bummer, you, s...  \n",
              "1  [is, upset, that, he, can, not, update, his, f...  \n",
              "2  [kenichan, i, dived, many, times, for, the, ba...  \n",
              "3  [my, whole, body, feels, itchy, and, like, its...  \n",
              "4  [nationwideclass, no, it, is, not, behaving, a...  "
            ],
            "text/html": [
              "\n",
              "  <div id=\"df-d8894519-0019-4234-b5fa-28cc52bf5025\" class=\"colab-df-container\">\n",
              "    <div>\n",
              "<style scoped>\n",
              "    .dataframe tbody tr th:only-of-type {\n",
              "        vertical-align: middle;\n",
              "    }\n",
              "\n",
              "    .dataframe tbody tr th {\n",
              "        vertical-align: top;\n",
              "    }\n",
              "\n",
              "    .dataframe thead th {\n",
              "        text-align: right;\n",
              "    }\n",
              "</style>\n",
              "<table border=\"1\" class=\"dataframe\">\n",
              "  <thead>\n",
              "    <tr style=\"text-align: right;\">\n",
              "      <th></th>\n",
              "      <th>target</th>\n",
              "      <th>id</th>\n",
              "      <th>posted_at</th>\n",
              "      <th>posted_by</th>\n",
              "      <th>content</th>\n",
              "      <th>content_clean</th>\n",
              "      <th>tokenized</th>\n",
              "    </tr>\n",
              "  </thead>\n",
              "  <tbody>\n",
              "    <tr>\n",
              "      <th>0</th>\n",
              "      <td>0</td>\n",
              "      <td>1467810369</td>\n",
              "      <td>2009-04-06 22:19:45-07:00</td>\n",
              "      <td>_TheSpecialOne_</td>\n",
              "      <td>@switchfoot http://twitpic.com/2y1zl - Awww, t...</td>\n",
              "      <td>switchfoot   awww that is a bummer  you should...</td>\n",
              "      <td>[switchfoot, awww, that, is, a, bummer, you, s...</td>\n",
              "    </tr>\n",
              "    <tr>\n",
              "      <th>1</th>\n",
              "      <td>0</td>\n",
              "      <td>1467810672</td>\n",
              "      <td>2009-04-06 22:19:49-07:00</td>\n",
              "      <td>scotthamilton</td>\n",
              "      <td>is upset that he can't update his Facebook by ...</td>\n",
              "      <td>is upset that he cannot update his facebook by...</td>\n",
              "      <td>[is, upset, that, he, can, not, update, his, f...</td>\n",
              "    </tr>\n",
              "    <tr>\n",
              "      <th>2</th>\n",
              "      <td>0</td>\n",
              "      <td>1467810917</td>\n",
              "      <td>2009-04-06 22:19:53-07:00</td>\n",
              "      <td>mattycus</td>\n",
              "      <td>@Kenichan I dived many times for the ball. Man...</td>\n",
              "      <td>kenichan i dived many times for the ball manag...</td>\n",
              "      <td>[kenichan, i, dived, many, times, for, the, ba...</td>\n",
              "    </tr>\n",
              "    <tr>\n",
              "      <th>3</th>\n",
              "      <td>0</td>\n",
              "      <td>1467811184</td>\n",
              "      <td>2009-04-06 22:19:57-07:00</td>\n",
              "      <td>ElleCTF</td>\n",
              "      <td>my whole body feels itchy and like its on fire</td>\n",
              "      <td>my whole body feels itchy and like its on fire</td>\n",
              "      <td>[my, whole, body, feels, itchy, and, like, its...</td>\n",
              "    </tr>\n",
              "    <tr>\n",
              "      <th>4</th>\n",
              "      <td>0</td>\n",
              "      <td>1467811193</td>\n",
              "      <td>2009-04-06 22:19:57-07:00</td>\n",
              "      <td>Karoli</td>\n",
              "      <td>@nationwideclass no, it's not behaving at all....</td>\n",
              "      <td>nationwideclass no it is not behaving at all i...</td>\n",
              "      <td>[nationwideclass, no, it, is, not, behaving, a...</td>\n",
              "    </tr>\n",
              "  </tbody>\n",
              "</table>\n",
              "</div>\n",
              "    <div class=\"colab-df-buttons\">\n",
              "\n",
              "  <div class=\"colab-df-container\">\n",
              "    <button class=\"colab-df-convert\" onclick=\"convertToInteractive('df-d8894519-0019-4234-b5fa-28cc52bf5025')\"\n",
              "            title=\"Convert this dataframe to an interactive table.\"\n",
              "            style=\"display:none;\">\n",
              "\n",
              "  <svg xmlns=\"http://www.w3.org/2000/svg\" height=\"24px\" viewBox=\"0 -960 960 960\">\n",
              "    <path d=\"M120-120v-720h720v720H120Zm60-500h600v-160H180v160Zm220 220h160v-160H400v160Zm0 220h160v-160H400v160ZM180-400h160v-160H180v160Zm440 0h160v-160H620v160ZM180-180h160v-160H180v160Zm440 0h160v-160H620v160Z\"/>\n",
              "  </svg>\n",
              "    </button>\n",
              "\n",
              "  <style>\n",
              "    .colab-df-container {\n",
              "      display:flex;\n",
              "      gap: 12px;\n",
              "    }\n",
              "\n",
              "    .colab-df-convert {\n",
              "      background-color: #E8F0FE;\n",
              "      border: none;\n",
              "      border-radius: 50%;\n",
              "      cursor: pointer;\n",
              "      display: none;\n",
              "      fill: #1967D2;\n",
              "      height: 32px;\n",
              "      padding: 0 0 0 0;\n",
              "      width: 32px;\n",
              "    }\n",
              "\n",
              "    .colab-df-convert:hover {\n",
              "      background-color: #E2EBFA;\n",
              "      box-shadow: 0px 1px 2px rgba(60, 64, 67, 0.3), 0px 1px 3px 1px rgba(60, 64, 67, 0.15);\n",
              "      fill: #174EA6;\n",
              "    }\n",
              "\n",
              "    .colab-df-buttons div {\n",
              "      margin-bottom: 4px;\n",
              "    }\n",
              "\n",
              "    [theme=dark] .colab-df-convert {\n",
              "      background-color: #3B4455;\n",
              "      fill: #D2E3FC;\n",
              "    }\n",
              "\n",
              "    [theme=dark] .colab-df-convert:hover {\n",
              "      background-color: #434B5C;\n",
              "      box-shadow: 0px 1px 3px 1px rgba(0, 0, 0, 0.15);\n",
              "      filter: drop-shadow(0px 1px 2px rgba(0, 0, 0, 0.3));\n",
              "      fill: #FFFFFF;\n",
              "    }\n",
              "  </style>\n",
              "\n",
              "    <script>\n",
              "      const buttonEl =\n",
              "        document.querySelector('#df-d8894519-0019-4234-b5fa-28cc52bf5025 button.colab-df-convert');\n",
              "      buttonEl.style.display =\n",
              "        google.colab.kernel.accessAllowed ? 'block' : 'none';\n",
              "\n",
              "      async function convertToInteractive(key) {\n",
              "        const element = document.querySelector('#df-d8894519-0019-4234-b5fa-28cc52bf5025');\n",
              "        const dataTable =\n",
              "          await google.colab.kernel.invokeFunction('convertToInteractive',\n",
              "                                                    [key], {});\n",
              "        if (!dataTable) return;\n",
              "\n",
              "        const docLinkHtml = 'Like what you see? Visit the ' +\n",
              "          '<a target=\"_blank\" href=https://colab.research.google.com/notebooks/data_table.ipynb>data table notebook</a>'\n",
              "          + ' to learn more about interactive tables.';\n",
              "        element.innerHTML = '';\n",
              "        dataTable['output_type'] = 'display_data';\n",
              "        await google.colab.output.renderOutput(dataTable, element);\n",
              "        const docLink = document.createElement('div');\n",
              "        docLink.innerHTML = docLinkHtml;\n",
              "        element.appendChild(docLink);\n",
              "      }\n",
              "    </script>\n",
              "  </div>\n",
              "\n",
              "\n",
              "    <div id=\"df-11f755fd-9c09-4c14-8471-15b5ecf41ce8\">\n",
              "      <button class=\"colab-df-quickchart\" onclick=\"quickchart('df-11f755fd-9c09-4c14-8471-15b5ecf41ce8')\"\n",
              "                title=\"Suggest charts\"\n",
              "                style=\"display:none;\">\n",
              "\n",
              "<svg xmlns=\"http://www.w3.org/2000/svg\" height=\"24px\"viewBox=\"0 0 24 24\"\n",
              "     width=\"24px\">\n",
              "    <g>\n",
              "        <path d=\"M19 3H5c-1.1 0-2 .9-2 2v14c0 1.1.9 2 2 2h14c1.1 0 2-.9 2-2V5c0-1.1-.9-2-2-2zM9 17H7v-7h2v7zm4 0h-2V7h2v10zm4 0h-2v-4h2v4z\"/>\n",
              "    </g>\n",
              "</svg>\n",
              "      </button>\n",
              "\n",
              "<style>\n",
              "  .colab-df-quickchart {\n",
              "      --bg-color: #E8F0FE;\n",
              "      --fill-color: #1967D2;\n",
              "      --hover-bg-color: #E2EBFA;\n",
              "      --hover-fill-color: #174EA6;\n",
              "      --disabled-fill-color: #AAA;\n",
              "      --disabled-bg-color: #DDD;\n",
              "  }\n",
              "\n",
              "  [theme=dark] .colab-df-quickchart {\n",
              "      --bg-color: #3B4455;\n",
              "      --fill-color: #D2E3FC;\n",
              "      --hover-bg-color: #434B5C;\n",
              "      --hover-fill-color: #FFFFFF;\n",
              "      --disabled-bg-color: #3B4455;\n",
              "      --disabled-fill-color: #666;\n",
              "  }\n",
              "\n",
              "  .colab-df-quickchart {\n",
              "    background-color: var(--bg-color);\n",
              "    border: none;\n",
              "    border-radius: 50%;\n",
              "    cursor: pointer;\n",
              "    display: none;\n",
              "    fill: var(--fill-color);\n",
              "    height: 32px;\n",
              "    padding: 0;\n",
              "    width: 32px;\n",
              "  }\n",
              "\n",
              "  .colab-df-quickchart:hover {\n",
              "    background-color: var(--hover-bg-color);\n",
              "    box-shadow: 0 1px 2px rgba(60, 64, 67, 0.3), 0 1px 3px 1px rgba(60, 64, 67, 0.15);\n",
              "    fill: var(--button-hover-fill-color);\n",
              "  }\n",
              "\n",
              "  .colab-df-quickchart-complete:disabled,\n",
              "  .colab-df-quickchart-complete:disabled:hover {\n",
              "    background-color: var(--disabled-bg-color);\n",
              "    fill: var(--disabled-fill-color);\n",
              "    box-shadow: none;\n",
              "  }\n",
              "\n",
              "  .colab-df-spinner {\n",
              "    border: 2px solid var(--fill-color);\n",
              "    border-color: transparent;\n",
              "    border-bottom-color: var(--fill-color);\n",
              "    animation:\n",
              "      spin 1s steps(1) infinite;\n",
              "  }\n",
              "\n",
              "  @keyframes spin {\n",
              "    0% {\n",
              "      border-color: transparent;\n",
              "      border-bottom-color: var(--fill-color);\n",
              "      border-left-color: var(--fill-color);\n",
              "    }\n",
              "    20% {\n",
              "      border-color: transparent;\n",
              "      border-left-color: var(--fill-color);\n",
              "      border-top-color: var(--fill-color);\n",
              "    }\n",
              "    30% {\n",
              "      border-color: transparent;\n",
              "      border-left-color: var(--fill-color);\n",
              "      border-top-color: var(--fill-color);\n",
              "      border-right-color: var(--fill-color);\n",
              "    }\n",
              "    40% {\n",
              "      border-color: transparent;\n",
              "      border-right-color: var(--fill-color);\n",
              "      border-top-color: var(--fill-color);\n",
              "    }\n",
              "    60% {\n",
              "      border-color: transparent;\n",
              "      border-right-color: var(--fill-color);\n",
              "    }\n",
              "    80% {\n",
              "      border-color: transparent;\n",
              "      border-right-color: var(--fill-color);\n",
              "      border-bottom-color: var(--fill-color);\n",
              "    }\n",
              "    90% {\n",
              "      border-color: transparent;\n",
              "      border-bottom-color: var(--fill-color);\n",
              "    }\n",
              "  }\n",
              "</style>\n",
              "\n",
              "      <script>\n",
              "        async function quickchart(key) {\n",
              "          const quickchartButtonEl =\n",
              "            document.querySelector('#' + key + ' button');\n",
              "          quickchartButtonEl.disabled = true;  // To prevent multiple clicks.\n",
              "          quickchartButtonEl.classList.add('colab-df-spinner');\n",
              "          try {\n",
              "            const charts = await google.colab.kernel.invokeFunction(\n",
              "                'suggestCharts', [key], {});\n",
              "          } catch (error) {\n",
              "            console.error('Error during call to suggestCharts:', error);\n",
              "          }\n",
              "          quickchartButtonEl.classList.remove('colab-df-spinner');\n",
              "          quickchartButtonEl.classList.add('colab-df-quickchart-complete');\n",
              "        }\n",
              "        (() => {\n",
              "          let quickchartButtonEl =\n",
              "            document.querySelector('#df-11f755fd-9c09-4c14-8471-15b5ecf41ce8 button');\n",
              "          quickchartButtonEl.style.display =\n",
              "            google.colab.kernel.accessAllowed ? 'block' : 'none';\n",
              "        })();\n",
              "      </script>\n",
              "    </div>\n",
              "\n",
              "    </div>\n",
              "  </div>\n"
            ],
            "application/vnd.google.colaboratory.intrinsic+json": {
              "type": "dataframe",
              "summary": "{\n  \"name\": \"get_ipython()\",\n  \"rows\": 5,\n  \"fields\": [\n    {\n      \"column\": \"target\",\n      \"properties\": {\n        \"dtype\": \"number\",\n        \"std\": 0,\n        \"min\": 0,\n        \"max\": 0,\n        \"num_unique_values\": 1,\n        \"samples\": [\n          0\n        ],\n        \"semantic_type\": \"\",\n        \"description\": \"\"\n      }\n    },\n    {\n      \"column\": \"id\",\n      \"properties\": {\n        \"dtype\": \"number\",\n        \"std\": 351,\n        \"min\": 1467810369,\n        \"max\": 1467811193,\n        \"num_unique_values\": 5,\n        \"samples\": [\n          1467810672\n        ],\n        \"semantic_type\": \"\",\n        \"description\": \"\"\n      }\n    },\n    {\n      \"column\": \"posted_at\",\n      \"properties\": {\n        \"dtype\": \"date\",\n        \"min\": \"2009-04-06 22:19:45-07:00\",\n        \"max\": \"2009-04-06 22:19:57-07:00\",\n        \"num_unique_values\": 4,\n        \"samples\": [\n          \"2009-04-06 22:19:49-07:00\"\n        ],\n        \"semantic_type\": \"\",\n        \"description\": \"\"\n      }\n    },\n    {\n      \"column\": \"posted_by\",\n      \"properties\": {\n        \"dtype\": \"string\",\n        \"num_unique_values\": 5,\n        \"samples\": [\n          \"scotthamilton\"\n        ],\n        \"semantic_type\": \"\",\n        \"description\": \"\"\n      }\n    },\n    {\n      \"column\": \"content\",\n      \"properties\": {\n        \"dtype\": \"string\",\n        \"num_unique_values\": 5,\n        \"samples\": [\n          \"is upset that he can't update his Facebook by texting it... and might cry as a result  School today also. Blah!\"\n        ],\n        \"semantic_type\": \"\",\n        \"description\": \"\"\n      }\n    },\n    {\n      \"column\": \"content_clean\",\n      \"properties\": {\n        \"dtype\": \"string\",\n        \"num_unique_values\": 5,\n        \"samples\": [\n          \"is upset that he cannot update his facebook by texting it and might cry as a result  school today also blah\"\n        ],\n        \"semantic_type\": \"\",\n        \"description\": \"\"\n      }\n    },\n    {\n      \"column\": \"tokenized\",\n      \"properties\": {\n        \"dtype\": \"object\",\n        \"semantic_type\": \"\",\n        \"description\": \"\"\n      }\n    }\n  ]\n}"
            }
          },
          "metadata": {},
          "execution_count": 45
        }
      ],
      "source": [
        "%%time\n",
        "nltk.download(\"punkt_tab\")\n",
        "tweets_df['tokenized'] = tweets_df['content_clean'].apply(word_tokenize)\n",
        "tweets_df.head()"
      ]
    },
    {
      "cell_type": "markdown",
      "metadata": {
        "papermill": {
          "duration": 0.029715,
          "end_time": "2020-08-26T20:59:33.841282",
          "exception": false,
          "start_time": "2020-08-26T20:59:33.811567",
          "status": "completed"
        },
        "tags": [],
        "id": "AWrhRmLV0Qs0"
      },
      "source": [
        "## Suppression des mots vides (et/ou des mots fréquents / rares)\n",
        "\n",
        "Les mots vides (*stop words*) sont des mots courants dans une langue qui apparaissent très fréquemment, mais n’apportent que peu ou pas d’information utile à la phrase. Par exemple, des mots comme {“a”, “about”, “above”, “across”, “after”, “afterward”, “again”, ...} peuvent être considérés comme des mots vides. Traditionnellement, on choisit de les supprimer lors de la phase de prétraitement du texte."
      ]
    },
    {
      "cell_type": "code",
      "execution_count": 46,
      "metadata": {
        "execution": {
          "iopub.execute_input": "2020-08-26T20:59:33.923706Z",
          "iopub.status.busy": "2020-08-26T20:59:33.908704Z",
          "iopub.status.idle": "2020-08-26T20:59:34.469036Z",
          "shell.execute_reply": "2020-08-26T20:59:34.468283Z"
        },
        "papermill": {
          "duration": 0.598333,
          "end_time": "2020-08-26T20:59:34.469158",
          "exception": false,
          "start_time": "2020-08-26T20:59:33.870825",
          "status": "completed"
        },
        "tags": [],
        "colab": {
          "base_uri": "https://localhost:8080/",
          "height": 366
        },
        "id": "wmVLOvB_0Qs0",
        "outputId": "3d259d5f-934c-4deb-ba0c-f209d6ab4381"
      },
      "outputs": [
        {
          "output_type": "stream",
          "name": "stderr",
          "text": [
            "[nltk_data] Downloading package stopwords to /root/nltk_data...\n",
            "[nltk_data]   Package stopwords is already up-to-date!\n"
          ]
        },
        {
          "output_type": "stream",
          "name": "stdout",
          "text": [
            "CPU times: user 7.56 s, sys: 248 ms, total: 7.81 s\n",
            "Wall time: 7.68 s\n"
          ]
        },
        {
          "output_type": "execute_result",
          "data": {
            "text/plain": [
              "   target          id                 posted_at        posted_by  \\\n",
              "0       0  1467810369 2009-04-06 22:19:45-07:00  _TheSpecialOne_   \n",
              "1       0  1467810672 2009-04-06 22:19:49-07:00    scotthamilton   \n",
              "2       0  1467810917 2009-04-06 22:19:53-07:00         mattycus   \n",
              "3       0  1467811184 2009-04-06 22:19:57-07:00          ElleCTF   \n",
              "4       0  1467811193 2009-04-06 22:19:57-07:00           Karoli   \n",
              "\n",
              "                                             content  \\\n",
              "0  @switchfoot http://twitpic.com/2y1zl - Awww, t...   \n",
              "1  is upset that he can't update his Facebook by ...   \n",
              "2  @Kenichan I dived many times for the ball. Man...   \n",
              "3    my whole body feels itchy and like its on fire    \n",
              "4  @nationwideclass no, it's not behaving at all....   \n",
              "\n",
              "                                       content_clean  \\\n",
              "0  switchfoot   awww that is a bummer  you should...   \n",
              "1  is upset that he cannot update his facebook by...   \n",
              "2  kenichan i dived many times for the ball manag...   \n",
              "3     my whole body feels itchy and like its on fire   \n",
              "4  nationwideclass no it is not behaving at all i...   \n",
              "\n",
              "                                           tokenized  \\\n",
              "0  [switchfoot, awww, that, is, a, bummer, you, s...   \n",
              "1  [is, upset, that, he, can, not, update, his, f...   \n",
              "2  [kenichan, i, dived, many, times, for, the, ba...   \n",
              "3  [my, whole, body, feels, itchy, and, like, its...   \n",
              "4  [nationwideclass, no, it, is, not, behaving, a...   \n",
              "\n",
              "                                   stopwords_removed  \n",
              "0  [switchfoot, awww, bummer, shoulda, got, david...  \n",
              "1  [upset, update, facebook, texting, might, cry,...  \n",
              "2  [kenichan, dived, many, times, ball, managed, ...  \n",
              "3            [whole, body, feels, itchy, like, fire]  \n",
              "4              [nationwideclass, behaving, mad, see]  "
            ],
            "text/html": [
              "\n",
              "  <div id=\"df-a9497edc-8d21-4cd6-8c6e-4dff16711956\" class=\"colab-df-container\">\n",
              "    <div>\n",
              "<style scoped>\n",
              "    .dataframe tbody tr th:only-of-type {\n",
              "        vertical-align: middle;\n",
              "    }\n",
              "\n",
              "    .dataframe tbody tr th {\n",
              "        vertical-align: top;\n",
              "    }\n",
              "\n",
              "    .dataframe thead th {\n",
              "        text-align: right;\n",
              "    }\n",
              "</style>\n",
              "<table border=\"1\" class=\"dataframe\">\n",
              "  <thead>\n",
              "    <tr style=\"text-align: right;\">\n",
              "      <th></th>\n",
              "      <th>target</th>\n",
              "      <th>id</th>\n",
              "      <th>posted_at</th>\n",
              "      <th>posted_by</th>\n",
              "      <th>content</th>\n",
              "      <th>content_clean</th>\n",
              "      <th>tokenized</th>\n",
              "      <th>stopwords_removed</th>\n",
              "    </tr>\n",
              "  </thead>\n",
              "  <tbody>\n",
              "    <tr>\n",
              "      <th>0</th>\n",
              "      <td>0</td>\n",
              "      <td>1467810369</td>\n",
              "      <td>2009-04-06 22:19:45-07:00</td>\n",
              "      <td>_TheSpecialOne_</td>\n",
              "      <td>@switchfoot http://twitpic.com/2y1zl - Awww, t...</td>\n",
              "      <td>switchfoot   awww that is a bummer  you should...</td>\n",
              "      <td>[switchfoot, awww, that, is, a, bummer, you, s...</td>\n",
              "      <td>[switchfoot, awww, bummer, shoulda, got, david...</td>\n",
              "    </tr>\n",
              "    <tr>\n",
              "      <th>1</th>\n",
              "      <td>0</td>\n",
              "      <td>1467810672</td>\n",
              "      <td>2009-04-06 22:19:49-07:00</td>\n",
              "      <td>scotthamilton</td>\n",
              "      <td>is upset that he can't update his Facebook by ...</td>\n",
              "      <td>is upset that he cannot update his facebook by...</td>\n",
              "      <td>[is, upset, that, he, can, not, update, his, f...</td>\n",
              "      <td>[upset, update, facebook, texting, might, cry,...</td>\n",
              "    </tr>\n",
              "    <tr>\n",
              "      <th>2</th>\n",
              "      <td>0</td>\n",
              "      <td>1467810917</td>\n",
              "      <td>2009-04-06 22:19:53-07:00</td>\n",
              "      <td>mattycus</td>\n",
              "      <td>@Kenichan I dived many times for the ball. Man...</td>\n",
              "      <td>kenichan i dived many times for the ball manag...</td>\n",
              "      <td>[kenichan, i, dived, many, times, for, the, ba...</td>\n",
              "      <td>[kenichan, dived, many, times, ball, managed, ...</td>\n",
              "    </tr>\n",
              "    <tr>\n",
              "      <th>3</th>\n",
              "      <td>0</td>\n",
              "      <td>1467811184</td>\n",
              "      <td>2009-04-06 22:19:57-07:00</td>\n",
              "      <td>ElleCTF</td>\n",
              "      <td>my whole body feels itchy and like its on fire</td>\n",
              "      <td>my whole body feels itchy and like its on fire</td>\n",
              "      <td>[my, whole, body, feels, itchy, and, like, its...</td>\n",
              "      <td>[whole, body, feels, itchy, like, fire]</td>\n",
              "    </tr>\n",
              "    <tr>\n",
              "      <th>4</th>\n",
              "      <td>0</td>\n",
              "      <td>1467811193</td>\n",
              "      <td>2009-04-06 22:19:57-07:00</td>\n",
              "      <td>Karoli</td>\n",
              "      <td>@nationwideclass no, it's not behaving at all....</td>\n",
              "      <td>nationwideclass no it is not behaving at all i...</td>\n",
              "      <td>[nationwideclass, no, it, is, not, behaving, a...</td>\n",
              "      <td>[nationwideclass, behaving, mad, see]</td>\n",
              "    </tr>\n",
              "  </tbody>\n",
              "</table>\n",
              "</div>\n",
              "    <div class=\"colab-df-buttons\">\n",
              "\n",
              "  <div class=\"colab-df-container\">\n",
              "    <button class=\"colab-df-convert\" onclick=\"convertToInteractive('df-a9497edc-8d21-4cd6-8c6e-4dff16711956')\"\n",
              "            title=\"Convert this dataframe to an interactive table.\"\n",
              "            style=\"display:none;\">\n",
              "\n",
              "  <svg xmlns=\"http://www.w3.org/2000/svg\" height=\"24px\" viewBox=\"0 -960 960 960\">\n",
              "    <path d=\"M120-120v-720h720v720H120Zm60-500h600v-160H180v160Zm220 220h160v-160H400v160Zm0 220h160v-160H400v160ZM180-400h160v-160H180v160Zm440 0h160v-160H620v160ZM180-180h160v-160H180v160Zm440 0h160v-160H620v160Z\"/>\n",
              "  </svg>\n",
              "    </button>\n",
              "\n",
              "  <style>\n",
              "    .colab-df-container {\n",
              "      display:flex;\n",
              "      gap: 12px;\n",
              "    }\n",
              "\n",
              "    .colab-df-convert {\n",
              "      background-color: #E8F0FE;\n",
              "      border: none;\n",
              "      border-radius: 50%;\n",
              "      cursor: pointer;\n",
              "      display: none;\n",
              "      fill: #1967D2;\n",
              "      height: 32px;\n",
              "      padding: 0 0 0 0;\n",
              "      width: 32px;\n",
              "    }\n",
              "\n",
              "    .colab-df-convert:hover {\n",
              "      background-color: #E2EBFA;\n",
              "      box-shadow: 0px 1px 2px rgba(60, 64, 67, 0.3), 0px 1px 3px 1px rgba(60, 64, 67, 0.15);\n",
              "      fill: #174EA6;\n",
              "    }\n",
              "\n",
              "    .colab-df-buttons div {\n",
              "      margin-bottom: 4px;\n",
              "    }\n",
              "\n",
              "    [theme=dark] .colab-df-convert {\n",
              "      background-color: #3B4455;\n",
              "      fill: #D2E3FC;\n",
              "    }\n",
              "\n",
              "    [theme=dark] .colab-df-convert:hover {\n",
              "      background-color: #434B5C;\n",
              "      box-shadow: 0px 1px 3px 1px rgba(0, 0, 0, 0.15);\n",
              "      filter: drop-shadow(0px 1px 2px rgba(0, 0, 0, 0.3));\n",
              "      fill: #FFFFFF;\n",
              "    }\n",
              "  </style>\n",
              "\n",
              "    <script>\n",
              "      const buttonEl =\n",
              "        document.querySelector('#df-a9497edc-8d21-4cd6-8c6e-4dff16711956 button.colab-df-convert');\n",
              "      buttonEl.style.display =\n",
              "        google.colab.kernel.accessAllowed ? 'block' : 'none';\n",
              "\n",
              "      async function convertToInteractive(key) {\n",
              "        const element = document.querySelector('#df-a9497edc-8d21-4cd6-8c6e-4dff16711956');\n",
              "        const dataTable =\n",
              "          await google.colab.kernel.invokeFunction('convertToInteractive',\n",
              "                                                    [key], {});\n",
              "        if (!dataTable) return;\n",
              "\n",
              "        const docLinkHtml = 'Like what you see? Visit the ' +\n",
              "          '<a target=\"_blank\" href=https://colab.research.google.com/notebooks/data_table.ipynb>data table notebook</a>'\n",
              "          + ' to learn more about interactive tables.';\n",
              "        element.innerHTML = '';\n",
              "        dataTable['output_type'] = 'display_data';\n",
              "        await google.colab.output.renderOutput(dataTable, element);\n",
              "        const docLink = document.createElement('div');\n",
              "        docLink.innerHTML = docLinkHtml;\n",
              "        element.appendChild(docLink);\n",
              "      }\n",
              "    </script>\n",
              "  </div>\n",
              "\n",
              "\n",
              "    <div id=\"df-bb435181-6e2e-41a8-96ac-80a68789fadb\">\n",
              "      <button class=\"colab-df-quickchart\" onclick=\"quickchart('df-bb435181-6e2e-41a8-96ac-80a68789fadb')\"\n",
              "                title=\"Suggest charts\"\n",
              "                style=\"display:none;\">\n",
              "\n",
              "<svg xmlns=\"http://www.w3.org/2000/svg\" height=\"24px\"viewBox=\"0 0 24 24\"\n",
              "     width=\"24px\">\n",
              "    <g>\n",
              "        <path d=\"M19 3H5c-1.1 0-2 .9-2 2v14c0 1.1.9 2 2 2h14c1.1 0 2-.9 2-2V5c0-1.1-.9-2-2-2zM9 17H7v-7h2v7zm4 0h-2V7h2v10zm4 0h-2v-4h2v4z\"/>\n",
              "    </g>\n",
              "</svg>\n",
              "      </button>\n",
              "\n",
              "<style>\n",
              "  .colab-df-quickchart {\n",
              "      --bg-color: #E8F0FE;\n",
              "      --fill-color: #1967D2;\n",
              "      --hover-bg-color: #E2EBFA;\n",
              "      --hover-fill-color: #174EA6;\n",
              "      --disabled-fill-color: #AAA;\n",
              "      --disabled-bg-color: #DDD;\n",
              "  }\n",
              "\n",
              "  [theme=dark] .colab-df-quickchart {\n",
              "      --bg-color: #3B4455;\n",
              "      --fill-color: #D2E3FC;\n",
              "      --hover-bg-color: #434B5C;\n",
              "      --hover-fill-color: #FFFFFF;\n",
              "      --disabled-bg-color: #3B4455;\n",
              "      --disabled-fill-color: #666;\n",
              "  }\n",
              "\n",
              "  .colab-df-quickchart {\n",
              "    background-color: var(--bg-color);\n",
              "    border: none;\n",
              "    border-radius: 50%;\n",
              "    cursor: pointer;\n",
              "    display: none;\n",
              "    fill: var(--fill-color);\n",
              "    height: 32px;\n",
              "    padding: 0;\n",
              "    width: 32px;\n",
              "  }\n",
              "\n",
              "  .colab-df-quickchart:hover {\n",
              "    background-color: var(--hover-bg-color);\n",
              "    box-shadow: 0 1px 2px rgba(60, 64, 67, 0.3), 0 1px 3px 1px rgba(60, 64, 67, 0.15);\n",
              "    fill: var(--button-hover-fill-color);\n",
              "  }\n",
              "\n",
              "  .colab-df-quickchart-complete:disabled,\n",
              "  .colab-df-quickchart-complete:disabled:hover {\n",
              "    background-color: var(--disabled-bg-color);\n",
              "    fill: var(--disabled-fill-color);\n",
              "    box-shadow: none;\n",
              "  }\n",
              "\n",
              "  .colab-df-spinner {\n",
              "    border: 2px solid var(--fill-color);\n",
              "    border-color: transparent;\n",
              "    border-bottom-color: var(--fill-color);\n",
              "    animation:\n",
              "      spin 1s steps(1) infinite;\n",
              "  }\n",
              "\n",
              "  @keyframes spin {\n",
              "    0% {\n",
              "      border-color: transparent;\n",
              "      border-bottom-color: var(--fill-color);\n",
              "      border-left-color: var(--fill-color);\n",
              "    }\n",
              "    20% {\n",
              "      border-color: transparent;\n",
              "      border-left-color: var(--fill-color);\n",
              "      border-top-color: var(--fill-color);\n",
              "    }\n",
              "    30% {\n",
              "      border-color: transparent;\n",
              "      border-left-color: var(--fill-color);\n",
              "      border-top-color: var(--fill-color);\n",
              "      border-right-color: var(--fill-color);\n",
              "    }\n",
              "    40% {\n",
              "      border-color: transparent;\n",
              "      border-right-color: var(--fill-color);\n",
              "      border-top-color: var(--fill-color);\n",
              "    }\n",
              "    60% {\n",
              "      border-color: transparent;\n",
              "      border-right-color: var(--fill-color);\n",
              "    }\n",
              "    80% {\n",
              "      border-color: transparent;\n",
              "      border-right-color: var(--fill-color);\n",
              "      border-bottom-color: var(--fill-color);\n",
              "    }\n",
              "    90% {\n",
              "      border-color: transparent;\n",
              "      border-bottom-color: var(--fill-color);\n",
              "    }\n",
              "  }\n",
              "</style>\n",
              "\n",
              "      <script>\n",
              "        async function quickchart(key) {\n",
              "          const quickchartButtonEl =\n",
              "            document.querySelector('#' + key + ' button');\n",
              "          quickchartButtonEl.disabled = true;  // To prevent multiple clicks.\n",
              "          quickchartButtonEl.classList.add('colab-df-spinner');\n",
              "          try {\n",
              "            const charts = await google.colab.kernel.invokeFunction(\n",
              "                'suggestCharts', [key], {});\n",
              "          } catch (error) {\n",
              "            console.error('Error during call to suggestCharts:', error);\n",
              "          }\n",
              "          quickchartButtonEl.classList.remove('colab-df-spinner');\n",
              "          quickchartButtonEl.classList.add('colab-df-quickchart-complete');\n",
              "        }\n",
              "        (() => {\n",
              "          let quickchartButtonEl =\n",
              "            document.querySelector('#df-bb435181-6e2e-41a8-96ac-80a68789fadb button');\n",
              "          quickchartButtonEl.style.display =\n",
              "            google.colab.kernel.accessAllowed ? 'block' : 'none';\n",
              "        })();\n",
              "      </script>\n",
              "    </div>\n",
              "\n",
              "    </div>\n",
              "  </div>\n"
            ],
            "application/vnd.google.colaboratory.intrinsic+json": {
              "type": "dataframe",
              "summary": "{\n  \"name\": \"get_ipython()\",\n  \"rows\": 5,\n  \"fields\": [\n    {\n      \"column\": \"target\",\n      \"properties\": {\n        \"dtype\": \"number\",\n        \"std\": 0,\n        \"min\": 0,\n        \"max\": 0,\n        \"num_unique_values\": 1,\n        \"samples\": [\n          0\n        ],\n        \"semantic_type\": \"\",\n        \"description\": \"\"\n      }\n    },\n    {\n      \"column\": \"id\",\n      \"properties\": {\n        \"dtype\": \"number\",\n        \"std\": 351,\n        \"min\": 1467810369,\n        \"max\": 1467811193,\n        \"num_unique_values\": 5,\n        \"samples\": [\n          1467810672\n        ],\n        \"semantic_type\": \"\",\n        \"description\": \"\"\n      }\n    },\n    {\n      \"column\": \"posted_at\",\n      \"properties\": {\n        \"dtype\": \"date\",\n        \"min\": \"2009-04-06 22:19:45-07:00\",\n        \"max\": \"2009-04-06 22:19:57-07:00\",\n        \"num_unique_values\": 4,\n        \"samples\": [\n          \"2009-04-06 22:19:49-07:00\"\n        ],\n        \"semantic_type\": \"\",\n        \"description\": \"\"\n      }\n    },\n    {\n      \"column\": \"posted_by\",\n      \"properties\": {\n        \"dtype\": \"string\",\n        \"num_unique_values\": 5,\n        \"samples\": [\n          \"scotthamilton\"\n        ],\n        \"semantic_type\": \"\",\n        \"description\": \"\"\n      }\n    },\n    {\n      \"column\": \"content\",\n      \"properties\": {\n        \"dtype\": \"string\",\n        \"num_unique_values\": 5,\n        \"samples\": [\n          \"is upset that he can't update his Facebook by texting it... and might cry as a result  School today also. Blah!\"\n        ],\n        \"semantic_type\": \"\",\n        \"description\": \"\"\n      }\n    },\n    {\n      \"column\": \"content_clean\",\n      \"properties\": {\n        \"dtype\": \"string\",\n        \"num_unique_values\": 5,\n        \"samples\": [\n          \"is upset that he cannot update his facebook by texting it and might cry as a result  school today also blah\"\n        ],\n        \"semantic_type\": \"\",\n        \"description\": \"\"\n      }\n    },\n    {\n      \"column\": \"tokenized\",\n      \"properties\": {\n        \"dtype\": \"object\",\n        \"semantic_type\": \"\",\n        \"description\": \"\"\n      }\n    },\n    {\n      \"column\": \"stopwords_removed\",\n      \"properties\": {\n        \"dtype\": \"object\",\n        \"semantic_type\": \"\",\n        \"description\": \"\"\n      }\n    }\n  ]\n}"
            }
          },
          "metadata": {},
          "execution_count": 46
        }
      ],
      "source": [
        "%%time\n",
        "nltk.download(\"stopwords\")\n",
        "\n",
        "stop = set(stopwords.words('english'))\n",
        "tweets_df['stopwords_removed'] = tweets_df['tokenized'].apply(lambda x: [word for word in x if word not in stop])\n",
        "tweets_df.head()"
      ]
    },
    {
      "cell_type": "markdown",
      "metadata": {
        "papermill": {
          "duration": 0.030888,
          "end_time": "2020-08-26T20:59:43.194354",
          "exception": false,
          "start_time": "2020-08-26T20:59:43.163466",
          "status": "completed"
        },
        "tags": [],
        "id": "YnPZrUSL0Qs_"
      },
      "source": [
        "## Étiquetage (POS Tagging)\n",
        "\n",
        "L’étiquetage (*Part of Speech Tagging*, ou POS tagging) consiste à identifier la nature grammaticale de chaque mot dans un texte (nom, verbe, adjectif, etc.)."
      ]
    },
    {
      "cell_type": "code",
      "execution_count": 47,
      "metadata": {
        "execution": {
          "iopub.execute_input": "2020-08-26T20:59:43.267965Z",
          "iopub.status.busy": "2020-08-26T20:59:43.265350Z",
          "iopub.status.idle": "2020-08-26T20:59:49.121684Z",
          "shell.execute_reply": "2020-08-26T20:59:49.120958Z"
        },
        "papermill": {
          "duration": 5.896151,
          "end_time": "2020-08-26T20:59:49.121810",
          "exception": false,
          "start_time": "2020-08-26T20:59:43.225659",
          "status": "completed"
        },
        "scrolled": true,
        "tags": [],
        "colab": {
          "base_uri": "https://localhost:8080/"
        },
        "id": "_NU5B3om0Qs_",
        "outputId": "f4a472eb-9f3c-4d47-e948-fea9c48a0415"
      },
      "outputs": [
        {
          "output_type": "stream",
          "name": "stderr",
          "text": [
            "[nltk_data] Downloading package wordnet to /root/nltk_data...\n",
            "[nltk_data]   Package wordnet is already up-to-date!\n",
            "[nltk_data] Downloading package brown to /root/nltk_data...\n",
            "[nltk_data]   Package brown is already up-to-date!\n"
          ]
        },
        {
          "output_type": "stream",
          "name": "stdout",
          "text": [
            "CPU times: user 3.3 s, sys: 442 ms, total: 3.74 s\n",
            "Wall time: 3.74 s\n"
          ]
        }
      ],
      "source": [
        "%%time\n",
        "nltk.download('wordnet')\n",
        "nltk.download('brown')\n",
        "wordnet_map = {\"N\":wordnet.NOUN,\n",
        "               \"V\":wordnet.VERB,\n",
        "               \"J\":wordnet.ADJ,\n",
        "               \"R\":wordnet.ADV\n",
        "              }\n",
        "\n",
        "train_sents = brown.tagged_sents(categories='news')\n",
        "t0 = nltk.DefaultTagger('NN')\n",
        "t1 = nltk.UnigramTagger(train_sents, backoff=t0)\n",
        "t2 = nltk.BigramTagger(train_sents, backoff=t1)\n",
        "\n",
        "def pos_tag_wordnet(text, pos_tag_type=\"pos_tag\"):\n",
        "    \"\"\"\n",
        "        Create pos_tag with wordnet format\n",
        "    \"\"\"\n",
        "    pos_tagged_text = t2.tag(text)\n",
        "\n",
        "    # map the pos tagging output with wordnet output\n",
        "    pos_tagged_text = [(word, wordnet_map.get(pos_tag[0])) if pos_tag[0] in wordnet_map.keys() else (word, wordnet.NOUN) for (word, pos_tag) in pos_tagged_text ]\n",
        "    return pos_tagged_text"
      ]
    },
    {
      "cell_type": "code",
      "execution_count": 48,
      "metadata": {
        "execution": {
          "iopub.execute_input": "2020-08-26T20:59:49.193726Z",
          "iopub.status.busy": "2020-08-26T20:59:49.192658Z",
          "iopub.status.idle": "2020-08-26T20:59:49.196338Z",
          "shell.execute_reply": "2020-08-26T20:59:49.196941Z"
        },
        "papermill": {
          "duration": 0.042697,
          "end_time": "2020-08-26T20:59:49.197094",
          "exception": false,
          "start_time": "2020-08-26T20:59:49.154397",
          "status": "completed"
        },
        "scrolled": true,
        "tags": [],
        "colab": {
          "base_uri": "https://localhost:8080/"
        },
        "id": "SJzBfnYy0Qs_",
        "outputId": "6c8cc505-65b6-4e3e-8706-90e6111e1eea"
      },
      "outputs": [
        {
          "output_type": "execute_result",
          "data": {
            "text/plain": [
              "[('kenichan', 'n'),\n",
              " ('dived', 'n'),\n",
              " ('many', 'n'),\n",
              " ('times', 'n'),\n",
              " ('ball', 'n'),\n",
              " ('managed', 'v'),\n",
              " ('save', 'v'),\n",
              " ('rest', 'n'),\n",
              " ('go', 'v'),\n",
              " ('bounds', 'n')]"
            ]
          },
          "metadata": {},
          "execution_count": 48
        }
      ],
      "source": [
        "pos_tag_wordnet(tweets_df['stopwords_removed'][2])"
      ]
    },
    {
      "cell_type": "code",
      "execution_count": 49,
      "metadata": {
        "execution": {
          "iopub.execute_input": "2020-08-26T20:59:49.286315Z",
          "iopub.status.busy": "2020-08-26T20:59:49.281103Z",
          "iopub.status.idle": "2020-08-26T20:59:49.723385Z",
          "shell.execute_reply": "2020-08-26T20:59:49.722809Z"
        },
        "papermill": {
          "duration": 0.49184,
          "end_time": "2020-08-26T20:59:49.723531",
          "exception": false,
          "start_time": "2020-08-26T20:59:49.231691",
          "status": "completed"
        },
        "tags": [],
        "colab": {
          "base_uri": "https://localhost:8080/",
          "height": 347
        },
        "id": "W42CVqyg0Qs_",
        "outputId": "bd04ca6b-565f-4152-a779-424388d7fd8d"
      },
      "outputs": [
        {
          "output_type": "stream",
          "name": "stdout",
          "text": [
            "CPU times: user 23.2 s, sys: 3.06 s, total: 26.2 s\n",
            "Wall time: 26.1 s\n"
          ]
        },
        {
          "output_type": "execute_result",
          "data": {
            "text/plain": [
              "   target          id                 posted_at        posted_by  \\\n",
              "0       0  1467810369 2009-04-06 22:19:45-07:00  _TheSpecialOne_   \n",
              "1       0  1467810672 2009-04-06 22:19:49-07:00    scotthamilton   \n",
              "2       0  1467810917 2009-04-06 22:19:53-07:00         mattycus   \n",
              "3       0  1467811184 2009-04-06 22:19:57-07:00          ElleCTF   \n",
              "4       0  1467811193 2009-04-06 22:19:57-07:00           Karoli   \n",
              "\n",
              "                                             content  \\\n",
              "0  @switchfoot http://twitpic.com/2y1zl - Awww, t...   \n",
              "1  is upset that he can't update his Facebook by ...   \n",
              "2  @Kenichan I dived many times for the ball. Man...   \n",
              "3    my whole body feels itchy and like its on fire    \n",
              "4  @nationwideclass no, it's not behaving at all....   \n",
              "\n",
              "                                       content_clean  \\\n",
              "0  switchfoot   awww that is a bummer  you should...   \n",
              "1  is upset that he cannot update his facebook by...   \n",
              "2  kenichan i dived many times for the ball manag...   \n",
              "3     my whole body feels itchy and like its on fire   \n",
              "4  nationwideclass no it is not behaving at all i...   \n",
              "\n",
              "                                           tokenized  \\\n",
              "0  [switchfoot, awww, that, is, a, bummer, you, s...   \n",
              "1  [is, upset, that, he, can, not, update, his, f...   \n",
              "2  [kenichan, i, dived, many, times, for, the, ba...   \n",
              "3  [my, whole, body, feels, itchy, and, like, its...   \n",
              "4  [nationwideclass, no, it, is, not, behaving, a...   \n",
              "\n",
              "                                   stopwords_removed  \\\n",
              "0  [switchfoot, awww, bummer, shoulda, got, david...   \n",
              "1  [upset, update, facebook, texting, might, cry,...   \n",
              "2  [kenichan, dived, many, times, ball, managed, ...   \n",
              "3            [whole, body, feels, itchy, like, fire]   \n",
              "4              [nationwideclass, behaving, mad, see]   \n",
              "\n",
              "                                combined_postag_wnet  \n",
              "0  [(switchfoot, n), (awww, n), (bummer, n), (sho...  \n",
              "1  [(upset, n), (update, n), (facebook, n), (text...  \n",
              "2  [(kenichan, n), (dived, n), (many, n), (times,...  \n",
              "3  [(whole, a), (body, n), (feels, v), (itchy, n)...  \n",
              "4  [(nationwideclass, n), (behaving, v), (mad, a)...  "
            ],
            "text/html": [
              "\n",
              "  <div id=\"df-2ce90aca-e448-4351-a0f6-3abcd9591942\" class=\"colab-df-container\">\n",
              "    <div>\n",
              "<style scoped>\n",
              "    .dataframe tbody tr th:only-of-type {\n",
              "        vertical-align: middle;\n",
              "    }\n",
              "\n",
              "    .dataframe tbody tr th {\n",
              "        vertical-align: top;\n",
              "    }\n",
              "\n",
              "    .dataframe thead th {\n",
              "        text-align: right;\n",
              "    }\n",
              "</style>\n",
              "<table border=\"1\" class=\"dataframe\">\n",
              "  <thead>\n",
              "    <tr style=\"text-align: right;\">\n",
              "      <th></th>\n",
              "      <th>target</th>\n",
              "      <th>id</th>\n",
              "      <th>posted_at</th>\n",
              "      <th>posted_by</th>\n",
              "      <th>content</th>\n",
              "      <th>content_clean</th>\n",
              "      <th>tokenized</th>\n",
              "      <th>stopwords_removed</th>\n",
              "      <th>combined_postag_wnet</th>\n",
              "    </tr>\n",
              "  </thead>\n",
              "  <tbody>\n",
              "    <tr>\n",
              "      <th>0</th>\n",
              "      <td>0</td>\n",
              "      <td>1467810369</td>\n",
              "      <td>2009-04-06 22:19:45-07:00</td>\n",
              "      <td>_TheSpecialOne_</td>\n",
              "      <td>@switchfoot http://twitpic.com/2y1zl - Awww, t...</td>\n",
              "      <td>switchfoot   awww that is a bummer  you should...</td>\n",
              "      <td>[switchfoot, awww, that, is, a, bummer, you, s...</td>\n",
              "      <td>[switchfoot, awww, bummer, shoulda, got, david...</td>\n",
              "      <td>[(switchfoot, n), (awww, n), (bummer, n), (sho...</td>\n",
              "    </tr>\n",
              "    <tr>\n",
              "      <th>1</th>\n",
              "      <td>0</td>\n",
              "      <td>1467810672</td>\n",
              "      <td>2009-04-06 22:19:49-07:00</td>\n",
              "      <td>scotthamilton</td>\n",
              "      <td>is upset that he can't update his Facebook by ...</td>\n",
              "      <td>is upset that he cannot update his facebook by...</td>\n",
              "      <td>[is, upset, that, he, can, not, update, his, f...</td>\n",
              "      <td>[upset, update, facebook, texting, might, cry,...</td>\n",
              "      <td>[(upset, n), (update, n), (facebook, n), (text...</td>\n",
              "    </tr>\n",
              "    <tr>\n",
              "      <th>2</th>\n",
              "      <td>0</td>\n",
              "      <td>1467810917</td>\n",
              "      <td>2009-04-06 22:19:53-07:00</td>\n",
              "      <td>mattycus</td>\n",
              "      <td>@Kenichan I dived many times for the ball. Man...</td>\n",
              "      <td>kenichan i dived many times for the ball manag...</td>\n",
              "      <td>[kenichan, i, dived, many, times, for, the, ba...</td>\n",
              "      <td>[kenichan, dived, many, times, ball, managed, ...</td>\n",
              "      <td>[(kenichan, n), (dived, n), (many, n), (times,...</td>\n",
              "    </tr>\n",
              "    <tr>\n",
              "      <th>3</th>\n",
              "      <td>0</td>\n",
              "      <td>1467811184</td>\n",
              "      <td>2009-04-06 22:19:57-07:00</td>\n",
              "      <td>ElleCTF</td>\n",
              "      <td>my whole body feels itchy and like its on fire</td>\n",
              "      <td>my whole body feels itchy and like its on fire</td>\n",
              "      <td>[my, whole, body, feels, itchy, and, like, its...</td>\n",
              "      <td>[whole, body, feels, itchy, like, fire]</td>\n",
              "      <td>[(whole, a), (body, n), (feels, v), (itchy, n)...</td>\n",
              "    </tr>\n",
              "    <tr>\n",
              "      <th>4</th>\n",
              "      <td>0</td>\n",
              "      <td>1467811193</td>\n",
              "      <td>2009-04-06 22:19:57-07:00</td>\n",
              "      <td>Karoli</td>\n",
              "      <td>@nationwideclass no, it's not behaving at all....</td>\n",
              "      <td>nationwideclass no it is not behaving at all i...</td>\n",
              "      <td>[nationwideclass, no, it, is, not, behaving, a...</td>\n",
              "      <td>[nationwideclass, behaving, mad, see]</td>\n",
              "      <td>[(nationwideclass, n), (behaving, v), (mad, a)...</td>\n",
              "    </tr>\n",
              "  </tbody>\n",
              "</table>\n",
              "</div>\n",
              "    <div class=\"colab-df-buttons\">\n",
              "\n",
              "  <div class=\"colab-df-container\">\n",
              "    <button class=\"colab-df-convert\" onclick=\"convertToInteractive('df-2ce90aca-e448-4351-a0f6-3abcd9591942')\"\n",
              "            title=\"Convert this dataframe to an interactive table.\"\n",
              "            style=\"display:none;\">\n",
              "\n",
              "  <svg xmlns=\"http://www.w3.org/2000/svg\" height=\"24px\" viewBox=\"0 -960 960 960\">\n",
              "    <path d=\"M120-120v-720h720v720H120Zm60-500h600v-160H180v160Zm220 220h160v-160H400v160Zm0 220h160v-160H400v160ZM180-400h160v-160H180v160Zm440 0h160v-160H620v160ZM180-180h160v-160H180v160Zm440 0h160v-160H620v160Z\"/>\n",
              "  </svg>\n",
              "    </button>\n",
              "\n",
              "  <style>\n",
              "    .colab-df-container {\n",
              "      display:flex;\n",
              "      gap: 12px;\n",
              "    }\n",
              "\n",
              "    .colab-df-convert {\n",
              "      background-color: #E8F0FE;\n",
              "      border: none;\n",
              "      border-radius: 50%;\n",
              "      cursor: pointer;\n",
              "      display: none;\n",
              "      fill: #1967D2;\n",
              "      height: 32px;\n",
              "      padding: 0 0 0 0;\n",
              "      width: 32px;\n",
              "    }\n",
              "\n",
              "    .colab-df-convert:hover {\n",
              "      background-color: #E2EBFA;\n",
              "      box-shadow: 0px 1px 2px rgba(60, 64, 67, 0.3), 0px 1px 3px 1px rgba(60, 64, 67, 0.15);\n",
              "      fill: #174EA6;\n",
              "    }\n",
              "\n",
              "    .colab-df-buttons div {\n",
              "      margin-bottom: 4px;\n",
              "    }\n",
              "\n",
              "    [theme=dark] .colab-df-convert {\n",
              "      background-color: #3B4455;\n",
              "      fill: #D2E3FC;\n",
              "    }\n",
              "\n",
              "    [theme=dark] .colab-df-convert:hover {\n",
              "      background-color: #434B5C;\n",
              "      box-shadow: 0px 1px 3px 1px rgba(0, 0, 0, 0.15);\n",
              "      filter: drop-shadow(0px 1px 2px rgba(0, 0, 0, 0.3));\n",
              "      fill: #FFFFFF;\n",
              "    }\n",
              "  </style>\n",
              "\n",
              "    <script>\n",
              "      const buttonEl =\n",
              "        document.querySelector('#df-2ce90aca-e448-4351-a0f6-3abcd9591942 button.colab-df-convert');\n",
              "      buttonEl.style.display =\n",
              "        google.colab.kernel.accessAllowed ? 'block' : 'none';\n",
              "\n",
              "      async function convertToInteractive(key) {\n",
              "        const element = document.querySelector('#df-2ce90aca-e448-4351-a0f6-3abcd9591942');\n",
              "        const dataTable =\n",
              "          await google.colab.kernel.invokeFunction('convertToInteractive',\n",
              "                                                    [key], {});\n",
              "        if (!dataTable) return;\n",
              "\n",
              "        const docLinkHtml = 'Like what you see? Visit the ' +\n",
              "          '<a target=\"_blank\" href=https://colab.research.google.com/notebooks/data_table.ipynb>data table notebook</a>'\n",
              "          + ' to learn more about interactive tables.';\n",
              "        element.innerHTML = '';\n",
              "        dataTable['output_type'] = 'display_data';\n",
              "        await google.colab.output.renderOutput(dataTable, element);\n",
              "        const docLink = document.createElement('div');\n",
              "        docLink.innerHTML = docLinkHtml;\n",
              "        element.appendChild(docLink);\n",
              "      }\n",
              "    </script>\n",
              "  </div>\n",
              "\n",
              "\n",
              "    <div id=\"df-9321e683-4252-49c0-b4db-c7896b4d9058\">\n",
              "      <button class=\"colab-df-quickchart\" onclick=\"quickchart('df-9321e683-4252-49c0-b4db-c7896b4d9058')\"\n",
              "                title=\"Suggest charts\"\n",
              "                style=\"display:none;\">\n",
              "\n",
              "<svg xmlns=\"http://www.w3.org/2000/svg\" height=\"24px\"viewBox=\"0 0 24 24\"\n",
              "     width=\"24px\">\n",
              "    <g>\n",
              "        <path d=\"M19 3H5c-1.1 0-2 .9-2 2v14c0 1.1.9 2 2 2h14c1.1 0 2-.9 2-2V5c0-1.1-.9-2-2-2zM9 17H7v-7h2v7zm4 0h-2V7h2v10zm4 0h-2v-4h2v4z\"/>\n",
              "    </g>\n",
              "</svg>\n",
              "      </button>\n",
              "\n",
              "<style>\n",
              "  .colab-df-quickchart {\n",
              "      --bg-color: #E8F0FE;\n",
              "      --fill-color: #1967D2;\n",
              "      --hover-bg-color: #E2EBFA;\n",
              "      --hover-fill-color: #174EA6;\n",
              "      --disabled-fill-color: #AAA;\n",
              "      --disabled-bg-color: #DDD;\n",
              "  }\n",
              "\n",
              "  [theme=dark] .colab-df-quickchart {\n",
              "      --bg-color: #3B4455;\n",
              "      --fill-color: #D2E3FC;\n",
              "      --hover-bg-color: #434B5C;\n",
              "      --hover-fill-color: #FFFFFF;\n",
              "      --disabled-bg-color: #3B4455;\n",
              "      --disabled-fill-color: #666;\n",
              "  }\n",
              "\n",
              "  .colab-df-quickchart {\n",
              "    background-color: var(--bg-color);\n",
              "    border: none;\n",
              "    border-radius: 50%;\n",
              "    cursor: pointer;\n",
              "    display: none;\n",
              "    fill: var(--fill-color);\n",
              "    height: 32px;\n",
              "    padding: 0;\n",
              "    width: 32px;\n",
              "  }\n",
              "\n",
              "  .colab-df-quickchart:hover {\n",
              "    background-color: var(--hover-bg-color);\n",
              "    box-shadow: 0 1px 2px rgba(60, 64, 67, 0.3), 0 1px 3px 1px rgba(60, 64, 67, 0.15);\n",
              "    fill: var(--button-hover-fill-color);\n",
              "  }\n",
              "\n",
              "  .colab-df-quickchart-complete:disabled,\n",
              "  .colab-df-quickchart-complete:disabled:hover {\n",
              "    background-color: var(--disabled-bg-color);\n",
              "    fill: var(--disabled-fill-color);\n",
              "    box-shadow: none;\n",
              "  }\n",
              "\n",
              "  .colab-df-spinner {\n",
              "    border: 2px solid var(--fill-color);\n",
              "    border-color: transparent;\n",
              "    border-bottom-color: var(--fill-color);\n",
              "    animation:\n",
              "      spin 1s steps(1) infinite;\n",
              "  }\n",
              "\n",
              "  @keyframes spin {\n",
              "    0% {\n",
              "      border-color: transparent;\n",
              "      border-bottom-color: var(--fill-color);\n",
              "      border-left-color: var(--fill-color);\n",
              "    }\n",
              "    20% {\n",
              "      border-color: transparent;\n",
              "      border-left-color: var(--fill-color);\n",
              "      border-top-color: var(--fill-color);\n",
              "    }\n",
              "    30% {\n",
              "      border-color: transparent;\n",
              "      border-left-color: var(--fill-color);\n",
              "      border-top-color: var(--fill-color);\n",
              "      border-right-color: var(--fill-color);\n",
              "    }\n",
              "    40% {\n",
              "      border-color: transparent;\n",
              "      border-right-color: var(--fill-color);\n",
              "      border-top-color: var(--fill-color);\n",
              "    }\n",
              "    60% {\n",
              "      border-color: transparent;\n",
              "      border-right-color: var(--fill-color);\n",
              "    }\n",
              "    80% {\n",
              "      border-color: transparent;\n",
              "      border-right-color: var(--fill-color);\n",
              "      border-bottom-color: var(--fill-color);\n",
              "    }\n",
              "    90% {\n",
              "      border-color: transparent;\n",
              "      border-bottom-color: var(--fill-color);\n",
              "    }\n",
              "  }\n",
              "</style>\n",
              "\n",
              "      <script>\n",
              "        async function quickchart(key) {\n",
              "          const quickchartButtonEl =\n",
              "            document.querySelector('#' + key + ' button');\n",
              "          quickchartButtonEl.disabled = true;  // To prevent multiple clicks.\n",
              "          quickchartButtonEl.classList.add('colab-df-spinner');\n",
              "          try {\n",
              "            const charts = await google.colab.kernel.invokeFunction(\n",
              "                'suggestCharts', [key], {});\n",
              "          } catch (error) {\n",
              "            console.error('Error during call to suggestCharts:', error);\n",
              "          }\n",
              "          quickchartButtonEl.classList.remove('colab-df-spinner');\n",
              "          quickchartButtonEl.classList.add('colab-df-quickchart-complete');\n",
              "        }\n",
              "        (() => {\n",
              "          let quickchartButtonEl =\n",
              "            document.querySelector('#df-9321e683-4252-49c0-b4db-c7896b4d9058 button');\n",
              "          quickchartButtonEl.style.display =\n",
              "            google.colab.kernel.accessAllowed ? 'block' : 'none';\n",
              "        })();\n",
              "      </script>\n",
              "    </div>\n",
              "\n",
              "    </div>\n",
              "  </div>\n"
            ],
            "application/vnd.google.colaboratory.intrinsic+json": {
              "type": "dataframe",
              "summary": "{\n  \"name\": \"get_ipython()\",\n  \"rows\": 5,\n  \"fields\": [\n    {\n      \"column\": \"target\",\n      \"properties\": {\n        \"dtype\": \"number\",\n        \"std\": 0,\n        \"min\": 0,\n        \"max\": 0,\n        \"num_unique_values\": 1,\n        \"samples\": [\n          0\n        ],\n        \"semantic_type\": \"\",\n        \"description\": \"\"\n      }\n    },\n    {\n      \"column\": \"id\",\n      \"properties\": {\n        \"dtype\": \"number\",\n        \"std\": 351,\n        \"min\": 1467810369,\n        \"max\": 1467811193,\n        \"num_unique_values\": 5,\n        \"samples\": [\n          1467810672\n        ],\n        \"semantic_type\": \"\",\n        \"description\": \"\"\n      }\n    },\n    {\n      \"column\": \"posted_at\",\n      \"properties\": {\n        \"dtype\": \"date\",\n        \"min\": \"2009-04-06 22:19:45-07:00\",\n        \"max\": \"2009-04-06 22:19:57-07:00\",\n        \"num_unique_values\": 4,\n        \"samples\": [\n          \"2009-04-06 22:19:49-07:00\"\n        ],\n        \"semantic_type\": \"\",\n        \"description\": \"\"\n      }\n    },\n    {\n      \"column\": \"posted_by\",\n      \"properties\": {\n        \"dtype\": \"string\",\n        \"num_unique_values\": 5,\n        \"samples\": [\n          \"scotthamilton\"\n        ],\n        \"semantic_type\": \"\",\n        \"description\": \"\"\n      }\n    },\n    {\n      \"column\": \"content\",\n      \"properties\": {\n        \"dtype\": \"string\",\n        \"num_unique_values\": 5,\n        \"samples\": [\n          \"is upset that he can't update his Facebook by texting it... and might cry as a result  School today also. Blah!\"\n        ],\n        \"semantic_type\": \"\",\n        \"description\": \"\"\n      }\n    },\n    {\n      \"column\": \"content_clean\",\n      \"properties\": {\n        \"dtype\": \"string\",\n        \"num_unique_values\": 5,\n        \"samples\": [\n          \"is upset that he cannot update his facebook by texting it and might cry as a result  school today also blah\"\n        ],\n        \"semantic_type\": \"\",\n        \"description\": \"\"\n      }\n    },\n    {\n      \"column\": \"tokenized\",\n      \"properties\": {\n        \"dtype\": \"object\",\n        \"semantic_type\": \"\",\n        \"description\": \"\"\n      }\n    },\n    {\n      \"column\": \"stopwords_removed\",\n      \"properties\": {\n        \"dtype\": \"object\",\n        \"semantic_type\": \"\",\n        \"description\": \"\"\n      }\n    },\n    {\n      \"column\": \"combined_postag_wnet\",\n      \"properties\": {\n        \"dtype\": \"object\",\n        \"semantic_type\": \"\",\n        \"description\": \"\"\n      }\n    }\n  ]\n}"
            }
          },
          "metadata": {},
          "execution_count": 49
        }
      ],
      "source": [
        "%%time\n",
        "tweets_df['combined_postag_wnet'] = tweets_df['stopwords_removed'].apply(lambda x: pos_tag_wordnet(x))\n",
        "tweets_df.head()"
      ]
    },
    {
      "cell_type": "markdown",
      "metadata": {
        "papermill": {
          "duration": 0.031939,
          "end_time": "2020-08-26T20:59:49.787975",
          "exception": false,
          "start_time": "2020-08-26T20:59:49.756036",
          "status": "completed"
        },
        "tags": [],
        "id": "jyz5nU1z0Qs_"
      },
      "source": [
        "## Lemmatization"
      ]
    },
    {
      "cell_type": "code",
      "execution_count": 50,
      "metadata": {
        "execution": {
          "iopub.execute_input": "2020-08-26T20:59:49.860347Z",
          "iopub.status.busy": "2020-08-26T20:59:49.859397Z",
          "iopub.status.idle": "2020-08-26T20:59:49.862339Z",
          "shell.execute_reply": "2020-08-26T20:59:49.861774Z"
        },
        "papermill": {
          "duration": 0.041889,
          "end_time": "2020-08-26T20:59:49.862484",
          "exception": false,
          "start_time": "2020-08-26T20:59:49.820595",
          "status": "completed"
        },
        "scrolled": true,
        "tags": [],
        "id": "8DTgMYqd0Qs_"
      },
      "outputs": [],
      "source": [
        "def lemmatize_word(text):\n",
        "    \"\"\"\n",
        "        Lemmatize the tokenized words\n",
        "    \"\"\"\n",
        "\n",
        "    lemmatizer = WordNetLemmatizer()\n",
        "    lemma = [lemmatizer.lemmatize(word, tag) for word, tag in text]\n",
        "    return lemma"
      ]
    },
    {
      "cell_type": "markdown",
      "metadata": {
        "papermill": {
          "duration": 0.032579,
          "end_time": "2020-08-26T20:59:49.927664",
          "exception": false,
          "start_time": "2020-08-26T20:59:49.895085",
          "status": "completed"
        },
        "tags": [],
        "id": "2VGnRzDq0QtA"
      },
      "source": [
        "### Lemmatization sans POS Tagging:"
      ]
    },
    {
      "cell_type": "code",
      "execution_count": 51,
      "metadata": {
        "execution": {
          "iopub.execute_input": "2020-08-26T20:59:50.024510Z",
          "iopub.status.busy": "2020-08-26T20:59:50.001134Z",
          "iopub.status.idle": "2020-08-26T20:59:50.609857Z",
          "shell.execute_reply": "2020-08-26T20:59:50.609119Z"
        },
        "papermill": {
          "duration": 0.649858,
          "end_time": "2020-08-26T20:59:50.609981",
          "exception": false,
          "start_time": "2020-08-26T20:59:49.960123",
          "status": "completed"
        },
        "tags": [],
        "colab": {
          "base_uri": "https://localhost:8080/",
          "height": 416
        },
        "id": "oZkhUmqh0QtA",
        "outputId": "a0a0f56f-aaa2-44bd-ab1f-29ea65cc9576"
      },
      "outputs": [
        {
          "output_type": "stream",
          "name": "stdout",
          "text": [
            "CPU times: user 40.3 s, sys: 900 ms, total: 41.2 s\n",
            "Wall time: 41.1 s\n"
          ]
        },
        {
          "output_type": "execute_result",
          "data": {
            "text/plain": [
              "   target          id                 posted_at        posted_by  \\\n",
              "0       0  1467810369 2009-04-06 22:19:45-07:00  _TheSpecialOne_   \n",
              "1       0  1467810672 2009-04-06 22:19:49-07:00    scotthamilton   \n",
              "2       0  1467810917 2009-04-06 22:19:53-07:00         mattycus   \n",
              "3       0  1467811184 2009-04-06 22:19:57-07:00          ElleCTF   \n",
              "4       0  1467811193 2009-04-06 22:19:57-07:00           Karoli   \n",
              "\n",
              "                                             content  \\\n",
              "0  @switchfoot http://twitpic.com/2y1zl - Awww, t...   \n",
              "1  is upset that he can't update his Facebook by ...   \n",
              "2  @Kenichan I dived many times for the ball. Man...   \n",
              "3    my whole body feels itchy and like its on fire    \n",
              "4  @nationwideclass no, it's not behaving at all....   \n",
              "\n",
              "                                       content_clean  \\\n",
              "0  switchfoot   awww that is a bummer  you should...   \n",
              "1  is upset that he cannot update his facebook by...   \n",
              "2  kenichan i dived many times for the ball manag...   \n",
              "3     my whole body feels itchy and like its on fire   \n",
              "4  nationwideclass no it is not behaving at all i...   \n",
              "\n",
              "                                           tokenized  \\\n",
              "0  [switchfoot, awww, that, is, a, bummer, you, s...   \n",
              "1  [is, upset, that, he, can, not, update, his, f...   \n",
              "2  [kenichan, i, dived, many, times, for, the, ba...   \n",
              "3  [my, whole, body, feels, itchy, and, like, its...   \n",
              "4  [nationwideclass, no, it, is, not, behaving, a...   \n",
              "\n",
              "                                   stopwords_removed  \\\n",
              "0  [switchfoot, awww, bummer, shoulda, got, david...   \n",
              "1  [upset, update, facebook, texting, might, cry,...   \n",
              "2  [kenichan, dived, many, times, ball, managed, ...   \n",
              "3            [whole, body, feels, itchy, like, fire]   \n",
              "4              [nationwideclass, behaving, mad, see]   \n",
              "\n",
              "                                combined_postag_wnet  \\\n",
              "0  [(switchfoot, n), (awww, n), (bummer, n), (sho...   \n",
              "1  [(upset, n), (update, n), (facebook, n), (text...   \n",
              "2  [(kenichan, n), (dived, n), (many, n), (times,...   \n",
              "3  [(whole, a), (body, n), (feels, v), (itchy, n)...   \n",
              "4  [(nationwideclass, n), (behaving, v), (mad, a)...   \n",
              "\n",
              "                               lemmatize_word_wo_pos  \n",
              "0  [switchfoot, awww, bummer, shoulda, got, david...  \n",
              "1  [upset, update, facebook, texting, might, cry,...  \n",
              "2  [kenichan, dived, many, time, ball, managed, s...  \n",
              "3             [whole, body, feel, itchy, like, fire]  \n",
              "4              [nationwideclass, behaving, mad, see]  "
            ],
            "text/html": [
              "\n",
              "  <div id=\"df-10fc8370-bdef-4274-b7e2-c1ab29529630\" class=\"colab-df-container\">\n",
              "    <div>\n",
              "<style scoped>\n",
              "    .dataframe tbody tr th:only-of-type {\n",
              "        vertical-align: middle;\n",
              "    }\n",
              "\n",
              "    .dataframe tbody tr th {\n",
              "        vertical-align: top;\n",
              "    }\n",
              "\n",
              "    .dataframe thead th {\n",
              "        text-align: right;\n",
              "    }\n",
              "</style>\n",
              "<table border=\"1\" class=\"dataframe\">\n",
              "  <thead>\n",
              "    <tr style=\"text-align: right;\">\n",
              "      <th></th>\n",
              "      <th>target</th>\n",
              "      <th>id</th>\n",
              "      <th>posted_at</th>\n",
              "      <th>posted_by</th>\n",
              "      <th>content</th>\n",
              "      <th>content_clean</th>\n",
              "      <th>tokenized</th>\n",
              "      <th>stopwords_removed</th>\n",
              "      <th>combined_postag_wnet</th>\n",
              "      <th>lemmatize_word_wo_pos</th>\n",
              "    </tr>\n",
              "  </thead>\n",
              "  <tbody>\n",
              "    <tr>\n",
              "      <th>0</th>\n",
              "      <td>0</td>\n",
              "      <td>1467810369</td>\n",
              "      <td>2009-04-06 22:19:45-07:00</td>\n",
              "      <td>_TheSpecialOne_</td>\n",
              "      <td>@switchfoot http://twitpic.com/2y1zl - Awww, t...</td>\n",
              "      <td>switchfoot   awww that is a bummer  you should...</td>\n",
              "      <td>[switchfoot, awww, that, is, a, bummer, you, s...</td>\n",
              "      <td>[switchfoot, awww, bummer, shoulda, got, david...</td>\n",
              "      <td>[(switchfoot, n), (awww, n), (bummer, n), (sho...</td>\n",
              "      <td>[switchfoot, awww, bummer, shoulda, got, david...</td>\n",
              "    </tr>\n",
              "    <tr>\n",
              "      <th>1</th>\n",
              "      <td>0</td>\n",
              "      <td>1467810672</td>\n",
              "      <td>2009-04-06 22:19:49-07:00</td>\n",
              "      <td>scotthamilton</td>\n",
              "      <td>is upset that he can't update his Facebook by ...</td>\n",
              "      <td>is upset that he cannot update his facebook by...</td>\n",
              "      <td>[is, upset, that, he, can, not, update, his, f...</td>\n",
              "      <td>[upset, update, facebook, texting, might, cry,...</td>\n",
              "      <td>[(upset, n), (update, n), (facebook, n), (text...</td>\n",
              "      <td>[upset, update, facebook, texting, might, cry,...</td>\n",
              "    </tr>\n",
              "    <tr>\n",
              "      <th>2</th>\n",
              "      <td>0</td>\n",
              "      <td>1467810917</td>\n",
              "      <td>2009-04-06 22:19:53-07:00</td>\n",
              "      <td>mattycus</td>\n",
              "      <td>@Kenichan I dived many times for the ball. Man...</td>\n",
              "      <td>kenichan i dived many times for the ball manag...</td>\n",
              "      <td>[kenichan, i, dived, many, times, for, the, ba...</td>\n",
              "      <td>[kenichan, dived, many, times, ball, managed, ...</td>\n",
              "      <td>[(kenichan, n), (dived, n), (many, n), (times,...</td>\n",
              "      <td>[kenichan, dived, many, time, ball, managed, s...</td>\n",
              "    </tr>\n",
              "    <tr>\n",
              "      <th>3</th>\n",
              "      <td>0</td>\n",
              "      <td>1467811184</td>\n",
              "      <td>2009-04-06 22:19:57-07:00</td>\n",
              "      <td>ElleCTF</td>\n",
              "      <td>my whole body feels itchy and like its on fire</td>\n",
              "      <td>my whole body feels itchy and like its on fire</td>\n",
              "      <td>[my, whole, body, feels, itchy, and, like, its...</td>\n",
              "      <td>[whole, body, feels, itchy, like, fire]</td>\n",
              "      <td>[(whole, a), (body, n), (feels, v), (itchy, n)...</td>\n",
              "      <td>[whole, body, feel, itchy, like, fire]</td>\n",
              "    </tr>\n",
              "    <tr>\n",
              "      <th>4</th>\n",
              "      <td>0</td>\n",
              "      <td>1467811193</td>\n",
              "      <td>2009-04-06 22:19:57-07:00</td>\n",
              "      <td>Karoli</td>\n",
              "      <td>@nationwideclass no, it's not behaving at all....</td>\n",
              "      <td>nationwideclass no it is not behaving at all i...</td>\n",
              "      <td>[nationwideclass, no, it, is, not, behaving, a...</td>\n",
              "      <td>[nationwideclass, behaving, mad, see]</td>\n",
              "      <td>[(nationwideclass, n), (behaving, v), (mad, a)...</td>\n",
              "      <td>[nationwideclass, behaving, mad, see]</td>\n",
              "    </tr>\n",
              "  </tbody>\n",
              "</table>\n",
              "</div>\n",
              "    <div class=\"colab-df-buttons\">\n",
              "\n",
              "  <div class=\"colab-df-container\">\n",
              "    <button class=\"colab-df-convert\" onclick=\"convertToInteractive('df-10fc8370-bdef-4274-b7e2-c1ab29529630')\"\n",
              "            title=\"Convert this dataframe to an interactive table.\"\n",
              "            style=\"display:none;\">\n",
              "\n",
              "  <svg xmlns=\"http://www.w3.org/2000/svg\" height=\"24px\" viewBox=\"0 -960 960 960\">\n",
              "    <path d=\"M120-120v-720h720v720H120Zm60-500h600v-160H180v160Zm220 220h160v-160H400v160Zm0 220h160v-160H400v160ZM180-400h160v-160H180v160Zm440 0h160v-160H620v160ZM180-180h160v-160H180v160Zm440 0h160v-160H620v160Z\"/>\n",
              "  </svg>\n",
              "    </button>\n",
              "\n",
              "  <style>\n",
              "    .colab-df-container {\n",
              "      display:flex;\n",
              "      gap: 12px;\n",
              "    }\n",
              "\n",
              "    .colab-df-convert {\n",
              "      background-color: #E8F0FE;\n",
              "      border: none;\n",
              "      border-radius: 50%;\n",
              "      cursor: pointer;\n",
              "      display: none;\n",
              "      fill: #1967D2;\n",
              "      height: 32px;\n",
              "      padding: 0 0 0 0;\n",
              "      width: 32px;\n",
              "    }\n",
              "\n",
              "    .colab-df-convert:hover {\n",
              "      background-color: #E2EBFA;\n",
              "      box-shadow: 0px 1px 2px rgba(60, 64, 67, 0.3), 0px 1px 3px 1px rgba(60, 64, 67, 0.15);\n",
              "      fill: #174EA6;\n",
              "    }\n",
              "\n",
              "    .colab-df-buttons div {\n",
              "      margin-bottom: 4px;\n",
              "    }\n",
              "\n",
              "    [theme=dark] .colab-df-convert {\n",
              "      background-color: #3B4455;\n",
              "      fill: #D2E3FC;\n",
              "    }\n",
              "\n",
              "    [theme=dark] .colab-df-convert:hover {\n",
              "      background-color: #434B5C;\n",
              "      box-shadow: 0px 1px 3px 1px rgba(0, 0, 0, 0.15);\n",
              "      filter: drop-shadow(0px 1px 2px rgba(0, 0, 0, 0.3));\n",
              "      fill: #FFFFFF;\n",
              "    }\n",
              "  </style>\n",
              "\n",
              "    <script>\n",
              "      const buttonEl =\n",
              "        document.querySelector('#df-10fc8370-bdef-4274-b7e2-c1ab29529630 button.colab-df-convert');\n",
              "      buttonEl.style.display =\n",
              "        google.colab.kernel.accessAllowed ? 'block' : 'none';\n",
              "\n",
              "      async function convertToInteractive(key) {\n",
              "        const element = document.querySelector('#df-10fc8370-bdef-4274-b7e2-c1ab29529630');\n",
              "        const dataTable =\n",
              "          await google.colab.kernel.invokeFunction('convertToInteractive',\n",
              "                                                    [key], {});\n",
              "        if (!dataTable) return;\n",
              "\n",
              "        const docLinkHtml = 'Like what you see? Visit the ' +\n",
              "          '<a target=\"_blank\" href=https://colab.research.google.com/notebooks/data_table.ipynb>data table notebook</a>'\n",
              "          + ' to learn more about interactive tables.';\n",
              "        element.innerHTML = '';\n",
              "        dataTable['output_type'] = 'display_data';\n",
              "        await google.colab.output.renderOutput(dataTable, element);\n",
              "        const docLink = document.createElement('div');\n",
              "        docLink.innerHTML = docLinkHtml;\n",
              "        element.appendChild(docLink);\n",
              "      }\n",
              "    </script>\n",
              "  </div>\n",
              "\n",
              "\n",
              "    <div id=\"df-20f48cb4-0ae2-4757-8267-98c26263fddc\">\n",
              "      <button class=\"colab-df-quickchart\" onclick=\"quickchart('df-20f48cb4-0ae2-4757-8267-98c26263fddc')\"\n",
              "                title=\"Suggest charts\"\n",
              "                style=\"display:none;\">\n",
              "\n",
              "<svg xmlns=\"http://www.w3.org/2000/svg\" height=\"24px\"viewBox=\"0 0 24 24\"\n",
              "     width=\"24px\">\n",
              "    <g>\n",
              "        <path d=\"M19 3H5c-1.1 0-2 .9-2 2v14c0 1.1.9 2 2 2h14c1.1 0 2-.9 2-2V5c0-1.1-.9-2-2-2zM9 17H7v-7h2v7zm4 0h-2V7h2v10zm4 0h-2v-4h2v4z\"/>\n",
              "    </g>\n",
              "</svg>\n",
              "      </button>\n",
              "\n",
              "<style>\n",
              "  .colab-df-quickchart {\n",
              "      --bg-color: #E8F0FE;\n",
              "      --fill-color: #1967D2;\n",
              "      --hover-bg-color: #E2EBFA;\n",
              "      --hover-fill-color: #174EA6;\n",
              "      --disabled-fill-color: #AAA;\n",
              "      --disabled-bg-color: #DDD;\n",
              "  }\n",
              "\n",
              "  [theme=dark] .colab-df-quickchart {\n",
              "      --bg-color: #3B4455;\n",
              "      --fill-color: #D2E3FC;\n",
              "      --hover-bg-color: #434B5C;\n",
              "      --hover-fill-color: #FFFFFF;\n",
              "      --disabled-bg-color: #3B4455;\n",
              "      --disabled-fill-color: #666;\n",
              "  }\n",
              "\n",
              "  .colab-df-quickchart {\n",
              "    background-color: var(--bg-color);\n",
              "    border: none;\n",
              "    border-radius: 50%;\n",
              "    cursor: pointer;\n",
              "    display: none;\n",
              "    fill: var(--fill-color);\n",
              "    height: 32px;\n",
              "    padding: 0;\n",
              "    width: 32px;\n",
              "  }\n",
              "\n",
              "  .colab-df-quickchart:hover {\n",
              "    background-color: var(--hover-bg-color);\n",
              "    box-shadow: 0 1px 2px rgba(60, 64, 67, 0.3), 0 1px 3px 1px rgba(60, 64, 67, 0.15);\n",
              "    fill: var(--button-hover-fill-color);\n",
              "  }\n",
              "\n",
              "  .colab-df-quickchart-complete:disabled,\n",
              "  .colab-df-quickchart-complete:disabled:hover {\n",
              "    background-color: var(--disabled-bg-color);\n",
              "    fill: var(--disabled-fill-color);\n",
              "    box-shadow: none;\n",
              "  }\n",
              "\n",
              "  .colab-df-spinner {\n",
              "    border: 2px solid var(--fill-color);\n",
              "    border-color: transparent;\n",
              "    border-bottom-color: var(--fill-color);\n",
              "    animation:\n",
              "      spin 1s steps(1) infinite;\n",
              "  }\n",
              "\n",
              "  @keyframes spin {\n",
              "    0% {\n",
              "      border-color: transparent;\n",
              "      border-bottom-color: var(--fill-color);\n",
              "      border-left-color: var(--fill-color);\n",
              "    }\n",
              "    20% {\n",
              "      border-color: transparent;\n",
              "      border-left-color: var(--fill-color);\n",
              "      border-top-color: var(--fill-color);\n",
              "    }\n",
              "    30% {\n",
              "      border-color: transparent;\n",
              "      border-left-color: var(--fill-color);\n",
              "      border-top-color: var(--fill-color);\n",
              "      border-right-color: var(--fill-color);\n",
              "    }\n",
              "    40% {\n",
              "      border-color: transparent;\n",
              "      border-right-color: var(--fill-color);\n",
              "      border-top-color: var(--fill-color);\n",
              "    }\n",
              "    60% {\n",
              "      border-color: transparent;\n",
              "      border-right-color: var(--fill-color);\n",
              "    }\n",
              "    80% {\n",
              "      border-color: transparent;\n",
              "      border-right-color: var(--fill-color);\n",
              "      border-bottom-color: var(--fill-color);\n",
              "    }\n",
              "    90% {\n",
              "      border-color: transparent;\n",
              "      border-bottom-color: var(--fill-color);\n",
              "    }\n",
              "  }\n",
              "</style>\n",
              "\n",
              "      <script>\n",
              "        async function quickchart(key) {\n",
              "          const quickchartButtonEl =\n",
              "            document.querySelector('#' + key + ' button');\n",
              "          quickchartButtonEl.disabled = true;  // To prevent multiple clicks.\n",
              "          quickchartButtonEl.classList.add('colab-df-spinner');\n",
              "          try {\n",
              "            const charts = await google.colab.kernel.invokeFunction(\n",
              "                'suggestCharts', [key], {});\n",
              "          } catch (error) {\n",
              "            console.error('Error during call to suggestCharts:', error);\n",
              "          }\n",
              "          quickchartButtonEl.classList.remove('colab-df-spinner');\n",
              "          quickchartButtonEl.classList.add('colab-df-quickchart-complete');\n",
              "        }\n",
              "        (() => {\n",
              "          let quickchartButtonEl =\n",
              "            document.querySelector('#df-20f48cb4-0ae2-4757-8267-98c26263fddc button');\n",
              "          quickchartButtonEl.style.display =\n",
              "            google.colab.kernel.accessAllowed ? 'block' : 'none';\n",
              "        })();\n",
              "      </script>\n",
              "    </div>\n",
              "\n",
              "    </div>\n",
              "  </div>\n"
            ],
            "application/vnd.google.colaboratory.intrinsic+json": {
              "type": "dataframe",
              "summary": "{\n  \"name\": \"get_ipython()\",\n  \"rows\": 5,\n  \"fields\": [\n    {\n      \"column\": \"target\",\n      \"properties\": {\n        \"dtype\": \"number\",\n        \"std\": 0,\n        \"min\": 0,\n        \"max\": 0,\n        \"num_unique_values\": 1,\n        \"samples\": [\n          0\n        ],\n        \"semantic_type\": \"\",\n        \"description\": \"\"\n      }\n    },\n    {\n      \"column\": \"id\",\n      \"properties\": {\n        \"dtype\": \"number\",\n        \"std\": 351,\n        \"min\": 1467810369,\n        \"max\": 1467811193,\n        \"num_unique_values\": 5,\n        \"samples\": [\n          1467810672\n        ],\n        \"semantic_type\": \"\",\n        \"description\": \"\"\n      }\n    },\n    {\n      \"column\": \"posted_at\",\n      \"properties\": {\n        \"dtype\": \"date\",\n        \"min\": \"2009-04-06 22:19:45-07:00\",\n        \"max\": \"2009-04-06 22:19:57-07:00\",\n        \"num_unique_values\": 4,\n        \"samples\": [\n          \"2009-04-06 22:19:49-07:00\"\n        ],\n        \"semantic_type\": \"\",\n        \"description\": \"\"\n      }\n    },\n    {\n      \"column\": \"posted_by\",\n      \"properties\": {\n        \"dtype\": \"string\",\n        \"num_unique_values\": 5,\n        \"samples\": [\n          \"scotthamilton\"\n        ],\n        \"semantic_type\": \"\",\n        \"description\": \"\"\n      }\n    },\n    {\n      \"column\": \"content\",\n      \"properties\": {\n        \"dtype\": \"string\",\n        \"num_unique_values\": 5,\n        \"samples\": [\n          \"is upset that he can't update his Facebook by texting it... and might cry as a result  School today also. Blah!\"\n        ],\n        \"semantic_type\": \"\",\n        \"description\": \"\"\n      }\n    },\n    {\n      \"column\": \"content_clean\",\n      \"properties\": {\n        \"dtype\": \"string\",\n        \"num_unique_values\": 5,\n        \"samples\": [\n          \"is upset that he cannot update his facebook by texting it and might cry as a result  school today also blah\"\n        ],\n        \"semantic_type\": \"\",\n        \"description\": \"\"\n      }\n    },\n    {\n      \"column\": \"tokenized\",\n      \"properties\": {\n        \"dtype\": \"object\",\n        \"semantic_type\": \"\",\n        \"description\": \"\"\n      }\n    },\n    {\n      \"column\": \"stopwords_removed\",\n      \"properties\": {\n        \"dtype\": \"object\",\n        \"semantic_type\": \"\",\n        \"description\": \"\"\n      }\n    },\n    {\n      \"column\": \"combined_postag_wnet\",\n      \"properties\": {\n        \"dtype\": \"object\",\n        \"semantic_type\": \"\",\n        \"description\": \"\"\n      }\n    },\n    {\n      \"column\": \"lemmatize_word_wo_pos\",\n      \"properties\": {\n        \"dtype\": \"object\",\n        \"semantic_type\": \"\",\n        \"description\": \"\"\n      }\n    }\n  ]\n}"
            }
          },
          "metadata": {},
          "execution_count": 51
        }
      ],
      "source": [
        "%%time\n",
        "lemmatizer = WordNetLemmatizer()\n",
        "\n",
        "tweets_df['lemmatize_word_wo_pos'] = tweets_df['stopwords_removed'].apply(lambda x: [lemmatizer.lemmatize(word) for word in x])\n",
        "tweets_df.head()"
      ]
    },
    {
      "cell_type": "code",
      "execution_count": 52,
      "metadata": {
        "execution": {
          "iopub.execute_input": "2020-08-26T20:59:50.684271Z",
          "iopub.status.busy": "2020-08-26T20:59:50.683165Z",
          "iopub.status.idle": "2020-08-26T20:59:50.688194Z",
          "shell.execute_reply": "2020-08-26T20:59:50.687101Z"
        },
        "papermill": {
          "duration": 0.044418,
          "end_time": "2020-08-26T20:59:50.688323",
          "exception": false,
          "start_time": "2020-08-26T20:59:50.643905",
          "status": "completed"
        },
        "scrolled": true,
        "tags": [],
        "colab": {
          "base_uri": "https://localhost:8080/"
        },
        "id": "GJ1kvp6h0QtA",
        "outputId": "b3d9ec7d-045e-4545-a526-3c30f5c9c3a2"
      },
      "outputs": [
        {
          "output_type": "stream",
          "name": "stdout",
          "text": [
            "[('meh', 'n'), ('almost', 'r'), ('lover', 'n'), ('exception', 'n'), ('track', 'n'), ('gets', 'v'), ('depressed', 'n'), ('every', 'n'), ('time', 'n')]\n",
            "['meh', 'almost', 'lover', 'exception', 'track', 'get', 'depressed', 'every', 'time']\n"
          ]
        }
      ],
      "source": [
        "print(tweets_df[\"combined_postag_wnet\"][29])\n",
        "print(tweets_df[\"lemmatize_word_wo_pos\"][29])"
      ]
    },
    {
      "cell_type": "markdown",
      "metadata": {
        "papermill": {
          "duration": 0.033049,
          "end_time": "2020-08-26T20:59:50.755268",
          "exception": false,
          "start_time": "2020-08-26T20:59:50.722219",
          "status": "completed"
        },
        "tags": [],
        "id": "9yHkM90q0QtA"
      },
      "source": [
        "### Lemmatization avec POS Tagging:"
      ]
    },
    {
      "cell_type": "code",
      "execution_count": 53,
      "metadata": {
        "execution": {
          "iopub.execute_input": "2020-08-26T20:59:50.844382Z",
          "iopub.status.busy": "2020-08-26T20:59:50.830191Z",
          "iopub.status.idle": "2020-08-26T20:59:51.477838Z",
          "shell.execute_reply": "2020-08-26T20:59:51.477130Z"
        },
        "papermill": {
          "duration": 0.689579,
          "end_time": "2020-08-26T20:59:51.477965",
          "exception": false,
          "start_time": "2020-08-26T20:59:50.788386",
          "status": "completed"
        },
        "tags": [],
        "colab": {
          "base_uri": "https://localhost:8080/",
          "height": 471
        },
        "id": "NaKQ_B_r0QtA",
        "outputId": "f7c2b176-9d32-459f-c518-a6db5087e7d1"
      },
      "outputs": [
        {
          "output_type": "stream",
          "name": "stdout",
          "text": [
            "CPU times: user 44.5 s, sys: 1.35 s, total: 45.8 s\n",
            "Wall time: 45.7 s\n"
          ]
        },
        {
          "output_type": "execute_result",
          "data": {
            "text/plain": [
              "   target          id                 posted_at        posted_by  \\\n",
              "0       0  1467810369 2009-04-06 22:19:45-07:00  _TheSpecialOne_   \n",
              "1       0  1467810672 2009-04-06 22:19:49-07:00    scotthamilton   \n",
              "2       0  1467810917 2009-04-06 22:19:53-07:00         mattycus   \n",
              "3       0  1467811184 2009-04-06 22:19:57-07:00          ElleCTF   \n",
              "4       0  1467811193 2009-04-06 22:19:57-07:00           Karoli   \n",
              "\n",
              "                                             content  \\\n",
              "0  @switchfoot http://twitpic.com/2y1zl - Awww, t...   \n",
              "1  is upset that he can't update his Facebook by ...   \n",
              "2  @Kenichan I dived many times for the ball. Man...   \n",
              "3    my whole body feels itchy and like its on fire    \n",
              "4  @nationwideclass no, it's not behaving at all....   \n",
              "\n",
              "                                       content_clean  \\\n",
              "0  switchfoot   awww that is a bummer  you should...   \n",
              "1  is upset that he cannot update his facebook by...   \n",
              "2  kenichan i dived many times for the ball manag...   \n",
              "3     my whole body feels itchy and like its on fire   \n",
              "4  nationwideclass no it is not behaving at all i...   \n",
              "\n",
              "                                           tokenized  \\\n",
              "0  [switchfoot, awww, that, is, a, bummer, you, s...   \n",
              "1  [is, upset, that, he, can, not, update, his, f...   \n",
              "2  [kenichan, i, dived, many, times, for, the, ba...   \n",
              "3  [my, whole, body, feels, itchy, and, like, its...   \n",
              "4  [nationwideclass, no, it, is, not, behaving, a...   \n",
              "\n",
              "                                   stopwords_removed  \\\n",
              "0  [switchfoot, awww, bummer, shoulda, got, david...   \n",
              "1  [upset, update, facebook, texting, might, cry,...   \n",
              "2  [kenichan, dived, many, times, ball, managed, ...   \n",
              "3            [whole, body, feels, itchy, like, fire]   \n",
              "4              [nationwideclass, behaving, mad, see]   \n",
              "\n",
              "                                combined_postag_wnet  \\\n",
              "0  [(switchfoot, n), (awww, n), (bummer, n), (sho...   \n",
              "1  [(upset, n), (update, n), (facebook, n), (text...   \n",
              "2  [(kenichan, n), (dived, n), (many, n), (times,...   \n",
              "3  [(whole, a), (body, n), (feels, v), (itchy, n)...   \n",
              "4  [(nationwideclass, n), (behaving, v), (mad, a)...   \n",
              "\n",
              "                               lemmatize_word_wo_pos  \\\n",
              "0  [switchfoot, awww, bummer, shoulda, got, david...   \n",
              "1  [upset, update, facebook, texting, might, cry,...   \n",
              "2  [kenichan, dived, many, time, ball, managed, s...   \n",
              "3             [whole, body, feel, itchy, like, fire]   \n",
              "4              [nationwideclass, behaving, mad, see]   \n",
              "\n",
              "                                lemmatize_word_w_pos  \\\n",
              "0  [switchfoot, awww, bummer, shoulda, get, david...   \n",
              "1  [upset, update, facebook, texting, might, cry,...   \n",
              "2  [kenichan, dived, many, time, ball, manage, sa...   \n",
              "3             [whole, body, feel, itchy, like, fire]   \n",
              "4                [nationwideclass, behave, mad, see]   \n",
              "\n",
              "                                      lemmatize_text  \n",
              "0  switchfoot awww bummer shoulda get david carr ...  \n",
              "1  upset update facebook texting might cry result...  \n",
              "2  kenichan dived many time ball manage save rest...  \n",
              "3                    whole body feel itchy like fire  \n",
              "4                     nationwideclass behave mad see  "
            ],
            "text/html": [
              "\n",
              "  <div id=\"df-3b1eec2a-d625-4054-9f17-afd78058a9d3\" class=\"colab-df-container\">\n",
              "    <div>\n",
              "<style scoped>\n",
              "    .dataframe tbody tr th:only-of-type {\n",
              "        vertical-align: middle;\n",
              "    }\n",
              "\n",
              "    .dataframe tbody tr th {\n",
              "        vertical-align: top;\n",
              "    }\n",
              "\n",
              "    .dataframe thead th {\n",
              "        text-align: right;\n",
              "    }\n",
              "</style>\n",
              "<table border=\"1\" class=\"dataframe\">\n",
              "  <thead>\n",
              "    <tr style=\"text-align: right;\">\n",
              "      <th></th>\n",
              "      <th>target</th>\n",
              "      <th>id</th>\n",
              "      <th>posted_at</th>\n",
              "      <th>posted_by</th>\n",
              "      <th>content</th>\n",
              "      <th>content_clean</th>\n",
              "      <th>tokenized</th>\n",
              "      <th>stopwords_removed</th>\n",
              "      <th>combined_postag_wnet</th>\n",
              "      <th>lemmatize_word_wo_pos</th>\n",
              "      <th>lemmatize_word_w_pos</th>\n",
              "      <th>lemmatize_text</th>\n",
              "    </tr>\n",
              "  </thead>\n",
              "  <tbody>\n",
              "    <tr>\n",
              "      <th>0</th>\n",
              "      <td>0</td>\n",
              "      <td>1467810369</td>\n",
              "      <td>2009-04-06 22:19:45-07:00</td>\n",
              "      <td>_TheSpecialOne_</td>\n",
              "      <td>@switchfoot http://twitpic.com/2y1zl - Awww, t...</td>\n",
              "      <td>switchfoot   awww that is a bummer  you should...</td>\n",
              "      <td>[switchfoot, awww, that, is, a, bummer, you, s...</td>\n",
              "      <td>[switchfoot, awww, bummer, shoulda, got, david...</td>\n",
              "      <td>[(switchfoot, n), (awww, n), (bummer, n), (sho...</td>\n",
              "      <td>[switchfoot, awww, bummer, shoulda, got, david...</td>\n",
              "      <td>[switchfoot, awww, bummer, shoulda, get, david...</td>\n",
              "      <td>switchfoot awww bummer shoulda get david carr ...</td>\n",
              "    </tr>\n",
              "    <tr>\n",
              "      <th>1</th>\n",
              "      <td>0</td>\n",
              "      <td>1467810672</td>\n",
              "      <td>2009-04-06 22:19:49-07:00</td>\n",
              "      <td>scotthamilton</td>\n",
              "      <td>is upset that he can't update his Facebook by ...</td>\n",
              "      <td>is upset that he cannot update his facebook by...</td>\n",
              "      <td>[is, upset, that, he, can, not, update, his, f...</td>\n",
              "      <td>[upset, update, facebook, texting, might, cry,...</td>\n",
              "      <td>[(upset, n), (update, n), (facebook, n), (text...</td>\n",
              "      <td>[upset, update, facebook, texting, might, cry,...</td>\n",
              "      <td>[upset, update, facebook, texting, might, cry,...</td>\n",
              "      <td>upset update facebook texting might cry result...</td>\n",
              "    </tr>\n",
              "    <tr>\n",
              "      <th>2</th>\n",
              "      <td>0</td>\n",
              "      <td>1467810917</td>\n",
              "      <td>2009-04-06 22:19:53-07:00</td>\n",
              "      <td>mattycus</td>\n",
              "      <td>@Kenichan I dived many times for the ball. Man...</td>\n",
              "      <td>kenichan i dived many times for the ball manag...</td>\n",
              "      <td>[kenichan, i, dived, many, times, for, the, ba...</td>\n",
              "      <td>[kenichan, dived, many, times, ball, managed, ...</td>\n",
              "      <td>[(kenichan, n), (dived, n), (many, n), (times,...</td>\n",
              "      <td>[kenichan, dived, many, time, ball, managed, s...</td>\n",
              "      <td>[kenichan, dived, many, time, ball, manage, sa...</td>\n",
              "      <td>kenichan dived many time ball manage save rest...</td>\n",
              "    </tr>\n",
              "    <tr>\n",
              "      <th>3</th>\n",
              "      <td>0</td>\n",
              "      <td>1467811184</td>\n",
              "      <td>2009-04-06 22:19:57-07:00</td>\n",
              "      <td>ElleCTF</td>\n",
              "      <td>my whole body feels itchy and like its on fire</td>\n",
              "      <td>my whole body feels itchy and like its on fire</td>\n",
              "      <td>[my, whole, body, feels, itchy, and, like, its...</td>\n",
              "      <td>[whole, body, feels, itchy, like, fire]</td>\n",
              "      <td>[(whole, a), (body, n), (feels, v), (itchy, n)...</td>\n",
              "      <td>[whole, body, feel, itchy, like, fire]</td>\n",
              "      <td>[whole, body, feel, itchy, like, fire]</td>\n",
              "      <td>whole body feel itchy like fire</td>\n",
              "    </tr>\n",
              "    <tr>\n",
              "      <th>4</th>\n",
              "      <td>0</td>\n",
              "      <td>1467811193</td>\n",
              "      <td>2009-04-06 22:19:57-07:00</td>\n",
              "      <td>Karoli</td>\n",
              "      <td>@nationwideclass no, it's not behaving at all....</td>\n",
              "      <td>nationwideclass no it is not behaving at all i...</td>\n",
              "      <td>[nationwideclass, no, it, is, not, behaving, a...</td>\n",
              "      <td>[nationwideclass, behaving, mad, see]</td>\n",
              "      <td>[(nationwideclass, n), (behaving, v), (mad, a)...</td>\n",
              "      <td>[nationwideclass, behaving, mad, see]</td>\n",
              "      <td>[nationwideclass, behave, mad, see]</td>\n",
              "      <td>nationwideclass behave mad see</td>\n",
              "    </tr>\n",
              "  </tbody>\n",
              "</table>\n",
              "</div>\n",
              "    <div class=\"colab-df-buttons\">\n",
              "\n",
              "  <div class=\"colab-df-container\">\n",
              "    <button class=\"colab-df-convert\" onclick=\"convertToInteractive('df-3b1eec2a-d625-4054-9f17-afd78058a9d3')\"\n",
              "            title=\"Convert this dataframe to an interactive table.\"\n",
              "            style=\"display:none;\">\n",
              "\n",
              "  <svg xmlns=\"http://www.w3.org/2000/svg\" height=\"24px\" viewBox=\"0 -960 960 960\">\n",
              "    <path d=\"M120-120v-720h720v720H120Zm60-500h600v-160H180v160Zm220 220h160v-160H400v160Zm0 220h160v-160H400v160ZM180-400h160v-160H180v160Zm440 0h160v-160H620v160ZM180-180h160v-160H180v160Zm440 0h160v-160H620v160Z\"/>\n",
              "  </svg>\n",
              "    </button>\n",
              "\n",
              "  <style>\n",
              "    .colab-df-container {\n",
              "      display:flex;\n",
              "      gap: 12px;\n",
              "    }\n",
              "\n",
              "    .colab-df-convert {\n",
              "      background-color: #E8F0FE;\n",
              "      border: none;\n",
              "      border-radius: 50%;\n",
              "      cursor: pointer;\n",
              "      display: none;\n",
              "      fill: #1967D2;\n",
              "      height: 32px;\n",
              "      padding: 0 0 0 0;\n",
              "      width: 32px;\n",
              "    }\n",
              "\n",
              "    .colab-df-convert:hover {\n",
              "      background-color: #E2EBFA;\n",
              "      box-shadow: 0px 1px 2px rgba(60, 64, 67, 0.3), 0px 1px 3px 1px rgba(60, 64, 67, 0.15);\n",
              "      fill: #174EA6;\n",
              "    }\n",
              "\n",
              "    .colab-df-buttons div {\n",
              "      margin-bottom: 4px;\n",
              "    }\n",
              "\n",
              "    [theme=dark] .colab-df-convert {\n",
              "      background-color: #3B4455;\n",
              "      fill: #D2E3FC;\n",
              "    }\n",
              "\n",
              "    [theme=dark] .colab-df-convert:hover {\n",
              "      background-color: #434B5C;\n",
              "      box-shadow: 0px 1px 3px 1px rgba(0, 0, 0, 0.15);\n",
              "      filter: drop-shadow(0px 1px 2px rgba(0, 0, 0, 0.3));\n",
              "      fill: #FFFFFF;\n",
              "    }\n",
              "  </style>\n",
              "\n",
              "    <script>\n",
              "      const buttonEl =\n",
              "        document.querySelector('#df-3b1eec2a-d625-4054-9f17-afd78058a9d3 button.colab-df-convert');\n",
              "      buttonEl.style.display =\n",
              "        google.colab.kernel.accessAllowed ? 'block' : 'none';\n",
              "\n",
              "      async function convertToInteractive(key) {\n",
              "        const element = document.querySelector('#df-3b1eec2a-d625-4054-9f17-afd78058a9d3');\n",
              "        const dataTable =\n",
              "          await google.colab.kernel.invokeFunction('convertToInteractive',\n",
              "                                                    [key], {});\n",
              "        if (!dataTable) return;\n",
              "\n",
              "        const docLinkHtml = 'Like what you see? Visit the ' +\n",
              "          '<a target=\"_blank\" href=https://colab.research.google.com/notebooks/data_table.ipynb>data table notebook</a>'\n",
              "          + ' to learn more about interactive tables.';\n",
              "        element.innerHTML = '';\n",
              "        dataTable['output_type'] = 'display_data';\n",
              "        await google.colab.output.renderOutput(dataTable, element);\n",
              "        const docLink = document.createElement('div');\n",
              "        docLink.innerHTML = docLinkHtml;\n",
              "        element.appendChild(docLink);\n",
              "      }\n",
              "    </script>\n",
              "  </div>\n",
              "\n",
              "\n",
              "    <div id=\"df-f0a9b586-cb7f-4992-93c2-b85994e4b878\">\n",
              "      <button class=\"colab-df-quickchart\" onclick=\"quickchart('df-f0a9b586-cb7f-4992-93c2-b85994e4b878')\"\n",
              "                title=\"Suggest charts\"\n",
              "                style=\"display:none;\">\n",
              "\n",
              "<svg xmlns=\"http://www.w3.org/2000/svg\" height=\"24px\"viewBox=\"0 0 24 24\"\n",
              "     width=\"24px\">\n",
              "    <g>\n",
              "        <path d=\"M19 3H5c-1.1 0-2 .9-2 2v14c0 1.1.9 2 2 2h14c1.1 0 2-.9 2-2V5c0-1.1-.9-2-2-2zM9 17H7v-7h2v7zm4 0h-2V7h2v10zm4 0h-2v-4h2v4z\"/>\n",
              "    </g>\n",
              "</svg>\n",
              "      </button>\n",
              "\n",
              "<style>\n",
              "  .colab-df-quickchart {\n",
              "      --bg-color: #E8F0FE;\n",
              "      --fill-color: #1967D2;\n",
              "      --hover-bg-color: #E2EBFA;\n",
              "      --hover-fill-color: #174EA6;\n",
              "      --disabled-fill-color: #AAA;\n",
              "      --disabled-bg-color: #DDD;\n",
              "  }\n",
              "\n",
              "  [theme=dark] .colab-df-quickchart {\n",
              "      --bg-color: #3B4455;\n",
              "      --fill-color: #D2E3FC;\n",
              "      --hover-bg-color: #434B5C;\n",
              "      --hover-fill-color: #FFFFFF;\n",
              "      --disabled-bg-color: #3B4455;\n",
              "      --disabled-fill-color: #666;\n",
              "  }\n",
              "\n",
              "  .colab-df-quickchart {\n",
              "    background-color: var(--bg-color);\n",
              "    border: none;\n",
              "    border-radius: 50%;\n",
              "    cursor: pointer;\n",
              "    display: none;\n",
              "    fill: var(--fill-color);\n",
              "    height: 32px;\n",
              "    padding: 0;\n",
              "    width: 32px;\n",
              "  }\n",
              "\n",
              "  .colab-df-quickchart:hover {\n",
              "    background-color: var(--hover-bg-color);\n",
              "    box-shadow: 0 1px 2px rgba(60, 64, 67, 0.3), 0 1px 3px 1px rgba(60, 64, 67, 0.15);\n",
              "    fill: var(--button-hover-fill-color);\n",
              "  }\n",
              "\n",
              "  .colab-df-quickchart-complete:disabled,\n",
              "  .colab-df-quickchart-complete:disabled:hover {\n",
              "    background-color: var(--disabled-bg-color);\n",
              "    fill: var(--disabled-fill-color);\n",
              "    box-shadow: none;\n",
              "  }\n",
              "\n",
              "  .colab-df-spinner {\n",
              "    border: 2px solid var(--fill-color);\n",
              "    border-color: transparent;\n",
              "    border-bottom-color: var(--fill-color);\n",
              "    animation:\n",
              "      spin 1s steps(1) infinite;\n",
              "  }\n",
              "\n",
              "  @keyframes spin {\n",
              "    0% {\n",
              "      border-color: transparent;\n",
              "      border-bottom-color: var(--fill-color);\n",
              "      border-left-color: var(--fill-color);\n",
              "    }\n",
              "    20% {\n",
              "      border-color: transparent;\n",
              "      border-left-color: var(--fill-color);\n",
              "      border-top-color: var(--fill-color);\n",
              "    }\n",
              "    30% {\n",
              "      border-color: transparent;\n",
              "      border-left-color: var(--fill-color);\n",
              "      border-top-color: var(--fill-color);\n",
              "      border-right-color: var(--fill-color);\n",
              "    }\n",
              "    40% {\n",
              "      border-color: transparent;\n",
              "      border-right-color: var(--fill-color);\n",
              "      border-top-color: var(--fill-color);\n",
              "    }\n",
              "    60% {\n",
              "      border-color: transparent;\n",
              "      border-right-color: var(--fill-color);\n",
              "    }\n",
              "    80% {\n",
              "      border-color: transparent;\n",
              "      border-right-color: var(--fill-color);\n",
              "      border-bottom-color: var(--fill-color);\n",
              "    }\n",
              "    90% {\n",
              "      border-color: transparent;\n",
              "      border-bottom-color: var(--fill-color);\n",
              "    }\n",
              "  }\n",
              "</style>\n",
              "\n",
              "      <script>\n",
              "        async function quickchart(key) {\n",
              "          const quickchartButtonEl =\n",
              "            document.querySelector('#' + key + ' button');\n",
              "          quickchartButtonEl.disabled = true;  // To prevent multiple clicks.\n",
              "          quickchartButtonEl.classList.add('colab-df-spinner');\n",
              "          try {\n",
              "            const charts = await google.colab.kernel.invokeFunction(\n",
              "                'suggestCharts', [key], {});\n",
              "          } catch (error) {\n",
              "            console.error('Error during call to suggestCharts:', error);\n",
              "          }\n",
              "          quickchartButtonEl.classList.remove('colab-df-spinner');\n",
              "          quickchartButtonEl.classList.add('colab-df-quickchart-complete');\n",
              "        }\n",
              "        (() => {\n",
              "          let quickchartButtonEl =\n",
              "            document.querySelector('#df-f0a9b586-cb7f-4992-93c2-b85994e4b878 button');\n",
              "          quickchartButtonEl.style.display =\n",
              "            google.colab.kernel.accessAllowed ? 'block' : 'none';\n",
              "        })();\n",
              "      </script>\n",
              "    </div>\n",
              "\n",
              "    </div>\n",
              "  </div>\n"
            ],
            "application/vnd.google.colaboratory.intrinsic+json": {
              "type": "dataframe",
              "summary": "{\n  \"name\": \"get_ipython()\",\n  \"rows\": 5,\n  \"fields\": [\n    {\n      \"column\": \"target\",\n      \"properties\": {\n        \"dtype\": \"number\",\n        \"std\": 0,\n        \"min\": 0,\n        \"max\": 0,\n        \"num_unique_values\": 1,\n        \"samples\": [\n          0\n        ],\n        \"semantic_type\": \"\",\n        \"description\": \"\"\n      }\n    },\n    {\n      \"column\": \"id\",\n      \"properties\": {\n        \"dtype\": \"number\",\n        \"std\": 351,\n        \"min\": 1467810369,\n        \"max\": 1467811193,\n        \"num_unique_values\": 5,\n        \"samples\": [\n          1467810672\n        ],\n        \"semantic_type\": \"\",\n        \"description\": \"\"\n      }\n    },\n    {\n      \"column\": \"posted_at\",\n      \"properties\": {\n        \"dtype\": \"date\",\n        \"min\": \"2009-04-06 22:19:45-07:00\",\n        \"max\": \"2009-04-06 22:19:57-07:00\",\n        \"num_unique_values\": 4,\n        \"samples\": [\n          \"2009-04-06 22:19:49-07:00\"\n        ],\n        \"semantic_type\": \"\",\n        \"description\": \"\"\n      }\n    },\n    {\n      \"column\": \"posted_by\",\n      \"properties\": {\n        \"dtype\": \"string\",\n        \"num_unique_values\": 5,\n        \"samples\": [\n          \"scotthamilton\"\n        ],\n        \"semantic_type\": \"\",\n        \"description\": \"\"\n      }\n    },\n    {\n      \"column\": \"content\",\n      \"properties\": {\n        \"dtype\": \"string\",\n        \"num_unique_values\": 5,\n        \"samples\": [\n          \"is upset that he can't update his Facebook by texting it... and might cry as a result  School today also. Blah!\"\n        ],\n        \"semantic_type\": \"\",\n        \"description\": \"\"\n      }\n    },\n    {\n      \"column\": \"content_clean\",\n      \"properties\": {\n        \"dtype\": \"string\",\n        \"num_unique_values\": 5,\n        \"samples\": [\n          \"is upset that he cannot update his facebook by texting it and might cry as a result  school today also blah\"\n        ],\n        \"semantic_type\": \"\",\n        \"description\": \"\"\n      }\n    },\n    {\n      \"column\": \"tokenized\",\n      \"properties\": {\n        \"dtype\": \"object\",\n        \"semantic_type\": \"\",\n        \"description\": \"\"\n      }\n    },\n    {\n      \"column\": \"stopwords_removed\",\n      \"properties\": {\n        \"dtype\": \"object\",\n        \"semantic_type\": \"\",\n        \"description\": \"\"\n      }\n    },\n    {\n      \"column\": \"combined_postag_wnet\",\n      \"properties\": {\n        \"dtype\": \"object\",\n        \"semantic_type\": \"\",\n        \"description\": \"\"\n      }\n    },\n    {\n      \"column\": \"lemmatize_word_wo_pos\",\n      \"properties\": {\n        \"dtype\": \"object\",\n        \"semantic_type\": \"\",\n        \"description\": \"\"\n      }\n    },\n    {\n      \"column\": \"lemmatize_word_w_pos\",\n      \"properties\": {\n        \"dtype\": \"object\",\n        \"semantic_type\": \"\",\n        \"description\": \"\"\n      }\n    },\n    {\n      \"column\": \"lemmatize_text\",\n      \"properties\": {\n        \"dtype\": \"string\",\n        \"num_unique_values\": 5,\n        \"samples\": [\n          \"upset update facebook texting might cry result school today also blah\"\n        ],\n        \"semantic_type\": \"\",\n        \"description\": \"\"\n      }\n    }\n  ]\n}"
            }
          },
          "metadata": {},
          "execution_count": 53
        }
      ],
      "source": [
        "%%time\n",
        "lemmatizer = WordNetLemmatizer()\n",
        "\n",
        "tweets_df['lemmatize_word_w_pos'] = tweets_df['combined_postag_wnet'].apply(lambda x: lemmatize_word(x))\n",
        "tweets_df['lemmatize_text'] = [' '.join(map(str, l)) for l in tweets_df['lemmatize_word_w_pos']]\n",
        "tweets_df.head()"
      ]
    },
    {
      "cell_type": "code",
      "execution_count": 54,
      "metadata": {
        "execution": {
          "iopub.execute_input": "2020-08-26T20:59:51.621662Z",
          "iopub.status.busy": "2020-08-26T20:59:51.620730Z",
          "iopub.status.idle": "2020-08-26T20:59:51.625895Z",
          "shell.execute_reply": "2020-08-26T20:59:51.625054Z"
        },
        "papermill": {
          "duration": 0.046845,
          "end_time": "2020-08-26T20:59:51.626059",
          "exception": false,
          "start_time": "2020-08-26T20:59:51.579214",
          "status": "completed"
        },
        "tags": [],
        "colab": {
          "base_uri": "https://localhost:8080/"
        },
        "id": "eR1R1pMT0QtB",
        "outputId": "b2897bac-e965-49f0-d91d-dfcdae57c99f"
      },
      "outputs": [
        {
          "output_type": "stream",
          "name": "stdout",
          "text": [
            "@Tatiana_K nope they didn't have it \n",
            "[('tatianak', 'n'), ('nope', 'n')]\n",
            "['tatianak', 'nope']\n",
            "['tatianak', 'nope']\n"
          ]
        }
      ],
      "source": [
        "print(tweets_df[\"content\"][8])\n",
        "print(tweets_df[\"combined_postag_wnet\"][8])\n",
        "print(tweets_df[\"lemmatize_word_wo_pos\"][8])\n",
        "print(tweets_df[\"lemmatize_word_w_pos\"][8])"
      ]
    },
    {
      "cell_type": "markdown",
      "metadata": {
        "papermill": {
          "duration": 0.03355,
          "end_time": "2020-08-26T20:59:51.694091",
          "exception": false,
          "start_time": "2020-08-26T20:59:51.660541",
          "status": "completed"
        },
        "tags": [],
        "id": "phJW6SOR0QtB"
      },
      "source": [
        "Comparison between original text and the lammatized text:"
      ]
    },
    {
      "cell_type": "code",
      "execution_count": 55,
      "metadata": {
        "execution": {
          "iopub.execute_input": "2020-08-26T20:59:51.772881Z",
          "iopub.status.busy": "2020-08-26T20:59:51.771976Z",
          "iopub.status.idle": "2020-08-26T20:59:51.791431Z",
          "shell.execute_reply": "2020-08-26T20:59:51.790716Z"
        },
        "papermill": {
          "duration": 0.061663,
          "end_time": "2020-08-26T20:59:51.791558",
          "exception": false,
          "start_time": "2020-08-26T20:59:51.729895",
          "status": "completed"
        },
        "tags": [],
        "colab": {
          "base_uri": "https://localhost:8080/",
          "height": 54
        },
        "id": "i-nO0lFE0QtB",
        "outputId": "6cb2bf80-957a-4e9a-dc51-6c303737d3b1"
      },
      "outputs": [
        {
          "output_type": "display_data",
          "data": {
            "text/plain": [
              "\"@switchfoot http://twitpic.com/2y1zl - Awww, that's a bummer.  You shoulda got David Carr of Third Day to do it. ;D\""
            ],
            "application/vnd.google.colaboratory.intrinsic+json": {
              "type": "string"
            }
          },
          "metadata": {}
        },
        {
          "output_type": "display_data",
          "data": {
            "text/plain": [
              "'switchfoot awww bummer shoulda get david carr third day'"
            ],
            "application/vnd.google.colaboratory.intrinsic+json": {
              "type": "string"
            }
          },
          "metadata": {}
        }
      ],
      "source": [
        "display(tweets_df[\"content\"][0], tweets_df[\"lemmatize_text\"][0])"
      ]
    },
    {
      "cell_type": "markdown",
      "source": [
        "\n",
        "\n",
        "> Most frequent words\n",
        "\n"
      ],
      "metadata": {
        "id": "LHWrAGL6Gvme"
      }
    },
    {
      "cell_type": "code",
      "source": [
        "tokens = tweets_df[\"lemmatize_text\"].str.split()\n",
        "all_words = [word for sublist in tokens for word in sublist]\n",
        "\n",
        "word_counts = Counter(all_words)\n",
        "\n",
        "top_n = 20\n",
        "most_common_words = word_counts.most_common(top_n)\n",
        "\n",
        "words, counts = zip(*most_common_words)"
      ],
      "metadata": {
        "id": "--wvxFv3Ehcd"
      },
      "execution_count": 56,
      "outputs": []
    },
    {
      "cell_type": "code",
      "source": [
        "plt.figure(figsize=(18, 6))\n",
        "plt.bar(words, counts)\n",
        "plt.xticks(rotation=45)\n",
        "plt.title(f\"Top {top_n} words\")\n",
        "plt.xlabel(\"Words\")\n",
        "plt.ylabel(\"Frequency\")\n",
        "plt.tight_layout()\n",
        "plt.show()"
      ],
      "metadata": {
        "colab": {
          "base_uri": "https://localhost:8080/",
          "height": 497
        },
        "id": "bzEB5-xfH5tJ",
        "outputId": "32431c26-f0a7-4223-af2b-a5ed73e2b805"
      },
      "execution_count": 57,
      "outputs": [
        {
          "output_type": "display_data",
          "data": {
            "text/plain": [
              "<Figure size 1800x600 with 1 Axes>"
            ],
            "image/png": "[encoded data removed]"
          },
          "metadata": {}
        }
      ]
    },
    {
      "cell_type": "markdown",
      "metadata": {
        "papermill": {
          "duration": 0.052555,
          "end_time": "2020-08-26T21:02:08.495911",
          "exception": false,
          "start_time": "2020-08-26T21:02:08.443356",
          "status": "completed"
        },
        "tags": [],
        "id": "ab_k8sVZ0QtC"
      },
      "source": [
        "# Extraction des Features texte\n",
        "\n"
      ]
    },
    {
      "cell_type": "markdown",
      "source": [
        "## BOW - CountVectorizer"
      ],
      "metadata": {
        "id": "43s8xPU7wG-F"
      }
    },
    {
      "cell_type": "code",
      "execution_count": 58,
      "metadata": {
        "execution": {
          "iopub.execute_input": "2020-08-26T21:02:08.611153Z",
          "iopub.status.busy": "2020-08-26T21:02:08.610433Z",
          "iopub.status.idle": "2020-08-26T21:02:08.614145Z",
          "shell.execute_reply": "2020-08-26T21:02:08.613462Z"
        },
        "papermill": {
          "duration": 0.065048,
          "end_time": "2020-08-26T21:02:08.614268",
          "exception": false,
          "start_time": "2020-08-26T21:02:08.549220",
          "status": "completed"
        },
        "scrolled": true,
        "tags": [],
        "id": "cPOultBv0QtC"
      },
      "outputs": [],
      "source": [
        "def cv(data, ngram = 1, MAX_NB_WORDS = 5000):\n",
        "    count_vectorizer = CountVectorizer(ngram_range = (ngram, ngram), max_features = MAX_NB_WORDS)\n",
        "    emb = count_vectorizer.fit_transform(data)\n",
        "    print(\"count vectorize with\", emb.shape[1], \"features\")\n",
        "    return emb, count_vectorizer"
      ]
    },
    {
      "cell_type": "code",
      "execution_count": 59,
      "metadata": {
        "execution": {
          "iopub.execute_input": "2020-08-26T21:02:08.731407Z",
          "iopub.status.busy": "2020-08-26T21:02:08.730612Z",
          "iopub.status.idle": "2020-08-26T21:02:08.734107Z",
          "shell.execute_reply": "2020-08-26T21:02:08.733351Z"
        },
        "papermill": {
          "duration": 0.066357,
          "end_time": "2020-08-26T21:02:08.734232",
          "exception": false,
          "start_time": "2020-08-26T21:02:08.667875",
          "status": "completed"
        },
        "tags": [],
        "id": "J26dGdBr0QtC"
      },
      "outputs": [],
      "source": [
        "def print_out(emb, feat, ngram, compared_sentence=0):\n",
        "    print(ngram,\"bag-of-words: \")\n",
        "    print(feat.get_feature_names_out(), \"\\n\")\n",
        "    print(ngram,\"bag-of-feature: \")\n",
        "    print(test_cv_1gram.vocabulary_, \"\\n\")\n",
        "    print(\"BoW matrix:\")\n",
        "    print(pd.DataFrame(emb.transpose(), index = feat.get_feature_names_out()).head(), \"\\n\")\n",
        "    print(ngram,\"vector example:\")\n",
        "    print(tweets_df[\"lemmatize_text\"][compared_sentence])\n",
        "    print(emb[compared_sentence], \"\\n\")"
      ]
    },
    {
      "cell_type": "code",
      "execution_count": 60,
      "metadata": {
        "execution": {
          "iopub.execute_input": "2020-08-26T21:02:08.860262Z",
          "iopub.status.busy": "2020-08-26T21:02:08.859481Z",
          "iopub.status.idle": "2020-08-26T21:02:08.864360Z",
          "shell.execute_reply": "2020-08-26T21:02:08.862958Z"
        },
        "papermill": {
          "duration": 0.077238,
          "end_time": "2020-08-26T21:02:08.864571",
          "exception": false,
          "start_time": "2020-08-26T21:02:08.787333",
          "status": "completed"
        },
        "tags": [],
        "colab": {
          "base_uri": "https://localhost:8080/"
        },
        "id": "e8emoBF80QtD",
        "outputId": "98385b89-9bc6-407e-d4dd-2bdd95239e1a"
      },
      "outputs": [
        {
          "output_type": "stream",
          "name": "stdout",
          "text": [
            "The test corpus:  ['switchfoot awww bummer shoulda get david carr third day', 'upset update facebook texting might cry result school today also blah', 'kenichan dived many time ball manage save rest go bound', 'whole body feel itchy like fire', 'nationwideclass behave mad see'] \n",
            "\n",
            "count vectorize with 40 features\n",
            "Uni-gram bag-of-words: \n",
            "['also' 'awww' 'ball' 'behave' 'blah' 'body' 'bound' 'bummer' 'carr' 'cry'\n",
            " 'david' 'day' 'dived' 'facebook' 'feel' 'fire' 'get' 'go' 'itchy'\n",
            " 'kenichan' 'like' 'mad' 'manage' 'many' 'might' 'nationwideclass' 'rest'\n",
            " 'result' 'save' 'school' 'see' 'shoulda' 'switchfoot' 'texting' 'third'\n",
            " 'time' 'today' 'update' 'upset' 'whole'] \n",
            "\n",
            "Uni-gram bag-of-feature: \n",
            "{'switchfoot': 32, 'awww': 1, 'bummer': 7, 'shoulda': 31, 'get': 16, 'david': 10, 'carr': 8, 'third': 34, 'day': 11, 'upset': 38, 'update': 37, 'facebook': 13, 'texting': 33, 'might': 24, 'cry': 9, 'result': 27, 'school': 29, 'today': 36, 'also': 0, 'blah': 4, 'kenichan': 19, 'dived': 12, 'many': 23, 'time': 35, 'ball': 2, 'manage': 22, 'save': 28, 'rest': 26, 'go': 17, 'bound': 6, 'whole': 39, 'body': 5, 'feel': 14, 'itchy': 18, 'like': 20, 'fire': 15, 'nationwideclass': 25, 'behave': 3, 'mad': 21, 'see': 30} \n",
            "\n",
            "BoW matrix:\n",
            "                  0\n",
            "also      (0, 1)\\t1\n",
            "awww      (0, 0)\\t1\n",
            "ball      (0, 2)\\t1\n",
            "behave    (0, 4)\\t1\n",
            "blah      (0, 1)\\t1 \n",
            "\n",
            "Uni-gram vector example:\n",
            "switchfoot awww bummer shoulda get david carr third day\n",
            "  (0, 32)\t1\n",
            "  (0, 1)\t1\n",
            "  (0, 7)\t1\n",
            "  (0, 31)\t1\n",
            "  (0, 16)\t1\n",
            "  (0, 10)\t1\n",
            "  (0, 8)\t1\n",
            "  (0, 34)\t1\n",
            "  (0, 11)\t1 \n",
            "\n"
          ]
        }
      ],
      "source": [
        "test_corpus = tweets_df[\"lemmatize_text\"][:5].tolist()\n",
        "print(\"The test corpus: \", test_corpus, \"\\n\")\n",
        "\n",
        "test_cv_em_1gram, test_cv_1gram = cv(test_corpus, ngram=1)\n",
        "print_out(test_cv_em_1gram, test_cv_1gram, ngram=\"Uni-gram\")"
      ]
    },
    {
      "cell_type": "code",
      "execution_count": 61,
      "metadata": {
        "execution": {
          "iopub.execute_input": "2020-08-26T21:02:08.982614Z",
          "iopub.status.busy": "2020-08-26T21:02:08.977919Z",
          "iopub.status.idle": "2020-08-26T21:02:08.989102Z",
          "shell.execute_reply": "2020-08-26T21:02:08.988184Z"
        },
        "papermill": {
          "duration": 0.070954,
          "end_time": "2020-08-26T21:02:08.989286",
          "exception": false,
          "start_time": "2020-08-26T21:02:08.918332",
          "status": "completed"
        },
        "tags": [],
        "colab": {
          "base_uri": "https://localhost:8080/"
        },
        "id": "Qr406kTd0QtD",
        "outputId": "d3b5aa87-26dc-4534-c39f-23ef1e53c0b8"
      },
      "outputs": [
        {
          "output_type": "stream",
          "name": "stdout",
          "text": [
            "count vectorize with 35 features\n",
            "Bi-gram bag-of-words: \n",
            "['also blah' 'awww bummer' 'ball manage' 'behave mad' 'body feel'\n",
            " 'bummer shoulda' 'carr third' 'cry result' 'david carr' 'dived many'\n",
            " 'facebook texting' 'feel itchy' 'get david' 'go bound' 'itchy like'\n",
            " 'kenichan dived' 'like fire' 'mad see' 'manage save' 'many time'\n",
            " 'might cry' 'nationwideclass behave' 'rest go' 'result school'\n",
            " 'save rest' 'school today' 'shoulda get' 'switchfoot awww'\n",
            " 'texting might' 'third day' 'time ball' 'today also' 'update facebook'\n",
            " 'upset update' 'whole body'] \n",
            "\n",
            "Bi-gram bag-of-feature: \n",
            "{'switchfoot': 32, 'awww': 1, 'bummer': 7, 'shoulda': 31, 'get': 16, 'david': 10, 'carr': 8, 'third': 34, 'day': 11, 'upset': 38, 'update': 37, 'facebook': 13, 'texting': 33, 'might': 24, 'cry': 9, 'result': 27, 'school': 29, 'today': 36, 'also': 0, 'blah': 4, 'kenichan': 19, 'dived': 12, 'many': 23, 'time': 35, 'ball': 2, 'manage': 22, 'save': 28, 'rest': 26, 'go': 17, 'bound': 6, 'whole': 39, 'body': 5, 'feel': 14, 'itchy': 18, 'like': 20, 'fire': 15, 'nationwideclass': 25, 'behave': 3, 'mad': 21, 'see': 30} \n",
            "\n",
            "BoW matrix:\n",
            "                       0\n",
            "also blah      (0, 1)\\t1\n",
            "awww bummer    (0, 0)\\t1\n",
            "ball manage    (0, 2)\\t1\n",
            "behave mad     (0, 4)\\t1\n",
            "body feel      (0, 3)\\t1 \n",
            "\n",
            "Bi-gram vector example:\n",
            "switchfoot awww bummer shoulda get david carr third day\n",
            "  (0, 27)\t1\n",
            "  (0, 1)\t1\n",
            "  (0, 5)\t1\n",
            "  (0, 26)\t1\n",
            "  (0, 12)\t1\n",
            "  (0, 8)\t1\n",
            "  (0, 6)\t1\n",
            "  (0, 29)\t1 \n",
            "\n"
          ]
        }
      ],
      "source": [
        "test_cv_em_2gram, test_cv_2gram = cv(test_corpus, ngram=2)\n",
        "print_out(test_cv_em_2gram, test_cv_2gram, ngram=\"Bi-gram\")"
      ]
    },
    {
      "cell_type": "code",
      "execution_count": 62,
      "metadata": {
        "execution": {
          "iopub.execute_input": "2020-08-26T21:02:09.108709Z",
          "iopub.status.busy": "2020-08-26T21:02:09.107799Z",
          "iopub.status.idle": "2020-08-26T21:02:09.113114Z",
          "shell.execute_reply": "2020-08-26T21:02:09.111755Z"
        },
        "papermill": {
          "duration": 0.070342,
          "end_time": "2020-08-26T21:02:09.113297",
          "exception": false,
          "start_time": "2020-08-26T21:02:09.042955",
          "status": "completed"
        },
        "tags": [],
        "colab": {
          "base_uri": "https://localhost:8080/"
        },
        "id": "3QxXTd6F0QtD",
        "outputId": "d1e04ba1-efdd-4860-d8d3-b1196051fdb4"
      },
      "outputs": [
        {
          "output_type": "stream",
          "name": "stdout",
          "text": [
            "count vectorize with 30 features\n",
            "Tri-gram bag-of-words: \n",
            "['also blah' 'awww bummer' 'ball manage' 'behave mad' 'body feel'\n",
            " 'bummer shoulda' 'carr third' 'cry result' 'david carr' 'dived many'\n",
            " 'facebook texting' 'feel itchy' 'get david' 'go bound' 'itchy like'\n",
            " 'kenichan dived' 'like fire' 'mad see' 'manage save' 'many time'\n",
            " 'might cry' 'nationwideclass behave' 'rest go' 'result school'\n",
            " 'save rest' 'school today' 'shoulda get' 'switchfoot awww'\n",
            " 'texting might' 'third day' 'time ball' 'today also' 'update facebook'\n",
            " 'upset update' 'whole body'] \n",
            "\n",
            "Tri-gram bag-of-feature: \n",
            "{'switchfoot': 32, 'awww': 1, 'bummer': 7, 'shoulda': 31, 'get': 16, 'david': 10, 'carr': 8, 'third': 34, 'day': 11, 'upset': 38, 'update': 37, 'facebook': 13, 'texting': 33, 'might': 24, 'cry': 9, 'result': 27, 'school': 29, 'today': 36, 'also': 0, 'blah': 4, 'kenichan': 19, 'dived': 12, 'many': 23, 'time': 35, 'ball': 2, 'manage': 22, 'save': 28, 'rest': 26, 'go': 17, 'bound': 6, 'whole': 39, 'body': 5, 'feel': 14, 'itchy': 18, 'like': 20, 'fire': 15, 'nationwideclass': 25, 'behave': 3, 'mad': 21, 'see': 30} \n",
            "\n",
            "BoW matrix:\n",
            "                       0\n",
            "also blah      (0, 1)\\t1\n",
            "awww bummer    (0, 0)\\t1\n",
            "ball manage    (0, 2)\\t1\n",
            "behave mad     (0, 4)\\t1\n",
            "body feel      (0, 3)\\t1 \n",
            "\n",
            "Tri-gram vector example:\n",
            "switchfoot awww bummer shoulda get david carr third day\n",
            "  (0, 27)\t1\n",
            "  (0, 1)\t1\n",
            "  (0, 5)\t1\n",
            "  (0, 26)\t1\n",
            "  (0, 12)\t1\n",
            "  (0, 8)\t1\n",
            "  (0, 6)\t1\n",
            "  (0, 29)\t1 \n",
            "\n"
          ]
        }
      ],
      "source": [
        "test_cv_em_3gram, test_cv_3gram = cv(test_corpus, ngram=3)\n",
        "print_out(test_cv_em_2gram, test_cv_2gram, ngram=\"Tri-gram\")"
      ]
    },
    {
      "cell_type": "markdown",
      "source": [
        "\n",
        "\n",
        "> **implementation dans tous le dataset**\n",
        "\n"
      ],
      "metadata": {
        "id": "aq04HdJrw-XW"
      }
    },
    {
      "cell_type": "code",
      "execution_count": 63,
      "metadata": {
        "execution": {
          "iopub.execute_input": "2020-08-26T21:02:09.239045Z",
          "iopub.status.busy": "2020-08-26T21:02:09.233848Z",
          "iopub.status.idle": "2020-08-26T21:02:14.965474Z",
          "shell.execute_reply": "2020-08-26T21:02:14.966268Z"
        },
        "papermill": {
          "duration": 5.798687,
          "end_time": "2020-08-26T21:02:14.966512",
          "exception": false,
          "start_time": "2020-08-26T21:02:09.167825",
          "status": "completed"
        },
        "scrolled": true,
        "tags": [],
        "colab": {
          "base_uri": "https://localhost:8080/"
        },
        "id": "LwnmwpUA0QtD",
        "outputId": "ffd2cae7-66cc-4e9e-93e5-92e7253b6f45"
      },
      "outputs": [
        {
          "output_type": "stream",
          "name": "stdout",
          "text": [
            "count vectorize with 695610 features\n",
            "count vectorize with 695643 features\n",
            "1593071\n",
            "(1593071, 695610)\n",
            "(1593071, 695643)\n",
            "CPU times: user 52.4 s, sys: 4.12 s, total: 56.5 s\n",
            "Wall time: 56.1 s\n"
          ]
        }
      ],
      "source": [
        "%%time\n",
        "tweets_df_corpus = tweets_df[\"lemmatize_text\"]\n",
        "tweets_df_em_1gram, vc_1gram = cv(tweets_df_corpus, 1, MAX_NB_WORDS=len(word_counts))\n",
        "tweets_df_em_2gram, vc_2gram = cv(tweets_df_corpus, 2 , MAX_NB_WORDS=len(word_counts))\n",
        "\n",
        "print(len(tweets_df_corpus))\n",
        "print(tweets_df_em_1gram.shape)\n",
        "print(tweets_df_em_2gram.shape)"
      ]
    },
    {
      "cell_type": "code",
      "source": [
        "np.save(f\"{path}/tweets_df_em_1gram.npy\", tweets_df_em_1gram)\n",
        "np.save(f\"{path}/tweets_df_em_2gram.npy\", tweets_df_em_2gram)"
      ],
      "metadata": {
        "id": "_eddjJH6-TEx"
      },
      "execution_count": 64,
      "outputs": []
    },
    {
      "cell_type": "markdown",
      "metadata": {
        "papermill": {
          "duration": 0.053796,
          "end_time": "2020-08-26T21:02:15.238106",
          "exception": false,
          "start_time": "2020-08-26T21:02:15.184310",
          "status": "completed"
        },
        "tags": [],
        "id": "pBko8zb70QtD"
      },
      "source": [
        "## Term Frequency-Inverse Document Frequency (TF-IDF)"
      ]
    },
    {
      "cell_type": "code",
      "execution_count": 65,
      "metadata": {
        "execution": {
          "iopub.execute_input": "2020-08-26T21:02:15.380341Z",
          "iopub.status.busy": "2020-08-26T21:02:15.379160Z",
          "iopub.status.idle": "2020-08-26T21:02:15.388886Z",
          "shell.execute_reply": "2020-08-26T21:02:15.387964Z"
        },
        "papermill": {
          "duration": 0.086785,
          "end_time": "2020-08-26T21:02:15.389068",
          "exception": false,
          "start_time": "2020-08-26T21:02:15.302283",
          "status": "completed"
        },
        "scrolled": true,
        "tags": [],
        "id": "st157Cql0QtE"
      },
      "outputs": [],
      "source": [
        "from sklearn.feature_extraction.text import TfidfVectorizer\n",
        "\n",
        "def TFIDF(data, ngram = 1, MAX_NB_WORDS = 75000):\n",
        "    tfidf_x = TfidfVectorizer(ngram_range = (ngram, ngram), max_features = MAX_NB_WORDS)\n",
        "    emb = tfidf_x.fit_transform(data)\n",
        "    print(\"tf-idf with\", emb.shape[1], \"features\")\n",
        "    return emb, tfidf_x"
      ]
    },
    {
      "cell_type": "code",
      "execution_count": 66,
      "metadata": {
        "execution": {
          "iopub.execute_input": "2020-08-26T21:02:15.519784Z",
          "iopub.status.busy": "2020-08-26T21:02:15.513571Z",
          "iopub.status.idle": "2020-08-26T21:02:15.532409Z",
          "shell.execute_reply": "2020-08-26T21:02:15.533348Z"
        },
        "papermill": {
          "duration": 0.081297,
          "end_time": "2020-08-26T21:02:15.533559",
          "exception": false,
          "start_time": "2020-08-26T21:02:15.452262",
          "status": "completed"
        },
        "tags": [],
        "colab": {
          "base_uri": "https://localhost:8080/"
        },
        "id": "pKEPKEQO0QtE",
        "outputId": "17114624-18da-493d-a556-332f0ffe5638"
      },
      "outputs": [
        {
          "output_type": "stream",
          "name": "stdout",
          "text": [
            "The test corpus:  ['switchfoot awww bummer shoulda get david carr third day', 'upset update facebook texting might cry result school today also blah', 'kenichan dived many time ball manage save rest go bound', 'whole body feel itchy like fire', 'nationwideclass behave mad see'] \n",
            "\n",
            "tf-idf with 40 features\n",
            "Uni-gram bag-of-words: \n",
            "['also' 'awww' 'ball' 'behave' 'blah' 'body' 'bound' 'bummer' 'carr' 'cry'\n",
            " 'david' 'day' 'dived' 'facebook' 'feel' 'fire' 'get' 'go' 'itchy'\n",
            " 'kenichan' 'like' 'mad' 'manage' 'many' 'might' 'nationwideclass' 'rest'\n",
            " 'result' 'save' 'school' 'see' 'shoulda' 'switchfoot' 'texting' 'third'\n",
            " 'time' 'today' 'update' 'upset' 'whole'] \n",
            "\n",
            "Uni-gram bag-of-feature: \n",
            "{'switchfoot': 32, 'awww': 1, 'bummer': 7, 'shoulda': 31, 'get': 16, 'david': 10, 'carr': 8, 'third': 34, 'day': 11, 'upset': 38, 'update': 37, 'facebook': 13, 'texting': 33, 'might': 24, 'cry': 9, 'result': 27, 'school': 29, 'today': 36, 'also': 0, 'blah': 4, 'kenichan': 19, 'dived': 12, 'many': 23, 'time': 35, 'ball': 2, 'manage': 22, 'save': 28, 'rest': 26, 'go': 17, 'bound': 6, 'whole': 39, 'body': 5, 'feel': 14, 'itchy': 18, 'like': 20, 'fire': 15, 'nationwideclass': 25, 'behave': 3, 'mad': 21, 'see': 30} \n",
            "\n",
            "BoW matrix:\n",
            "                                   0\n",
            "also      (0, 1)\\t0.3015113445777636\n",
            "awww      (0, 0)\\t0.3333333333333333\n",
            "ball      (0, 2)\\t0.3162277660168379\n",
            "behave                   (0, 4)\\t0.5\n",
            "blah      (0, 1)\\t0.3015113445777636 \n",
            "\n",
            "Uni-gram vector example:\n",
            "switchfoot awww bummer shoulda get david carr third day\n",
            "  (0, 32)\t0.3333333333333333\n",
            "  (0, 1)\t0.3333333333333333\n",
            "  (0, 7)\t0.3333333333333333\n",
            "  (0, 31)\t0.3333333333333333\n",
            "  (0, 16)\t0.3333333333333333\n",
            "  (0, 10)\t0.3333333333333333\n",
            "  (0, 8)\t0.3333333333333333\n",
            "  (0, 34)\t0.3333333333333333\n",
            "  (0, 11)\t0.3333333333333333 \n",
            "\n"
          ]
        }
      ],
      "source": [
        "test_corpus = tweets_df[\"lemmatize_text\"][:5].tolist()\n",
        "print(\"The test corpus: \", test_corpus, \"\\n\")\n",
        "\n",
        "test_tfidf_em_1gram, test_tfidf_1gram = TFIDF(test_corpus, ngram=1)\n",
        "print_out(test_tfidf_em_1gram, test_tfidf_1gram, ngram=\"Uni-gram\")"
      ]
    },
    {
      "cell_type": "code",
      "execution_count": 67,
      "metadata": {
        "execution": {
          "iopub.execute_input": "2020-08-26T21:02:15.657063Z",
          "iopub.status.busy": "2020-08-26T21:02:15.656288Z",
          "iopub.status.idle": "2020-08-26T21:02:15.665188Z",
          "shell.execute_reply": "2020-08-26T21:02:15.664552Z"
        },
        "papermill": {
          "duration": 0.07682,
          "end_time": "2020-08-26T21:02:15.665328",
          "exception": false,
          "start_time": "2020-08-26T21:02:15.588508",
          "status": "completed"
        },
        "tags": [],
        "colab": {
          "base_uri": "https://localhost:8080/"
        },
        "id": "_wRSn7SG0QtE",
        "outputId": "168e492f-9be9-48ac-99a4-fc2af070d204"
      },
      "outputs": [
        {
          "output_type": "stream",
          "name": "stdout",
          "text": [
            "tf-idf with 35 features\n",
            "Bi-gram bag-of-words: \n",
            "['also blah' 'awww bummer' 'ball manage' 'behave mad' 'body feel'\n",
            " 'bummer shoulda' 'carr third' 'cry result' 'david carr' 'dived many'\n",
            " 'facebook texting' 'feel itchy' 'get david' 'go bound' 'itchy like'\n",
            " 'kenichan dived' 'like fire' 'mad see' 'manage save' 'many time'\n",
            " 'might cry' 'nationwideclass behave' 'rest go' 'result school'\n",
            " 'save rest' 'school today' 'shoulda get' 'switchfoot awww'\n",
            " 'texting might' 'third day' 'time ball' 'today also' 'update facebook'\n",
            " 'upset update' 'whole body'] \n",
            "\n",
            "Bi-gram bag-of-feature: \n",
            "{'switchfoot': 32, 'awww': 1, 'bummer': 7, 'shoulda': 31, 'get': 16, 'david': 10, 'carr': 8, 'third': 34, 'day': 11, 'upset': 38, 'update': 37, 'facebook': 13, 'texting': 33, 'might': 24, 'cry': 9, 'result': 27, 'school': 29, 'today': 36, 'also': 0, 'blah': 4, 'kenichan': 19, 'dived': 12, 'many': 23, 'time': 35, 'ball': 2, 'manage': 22, 'save': 28, 'rest': 26, 'go': 17, 'bound': 6, 'whole': 39, 'body': 5, 'feel': 14, 'itchy': 18, 'like': 20, 'fire': 15, 'nationwideclass': 25, 'behave': 3, 'mad': 21, 'see': 30} \n",
            "\n",
            "BoW matrix:\n",
            "                                         0\n",
            "also blah       (0, 1)\\t0.3162277660168379\n",
            "awww bummer    (0, 0)\\t0.35355339059327373\n",
            "ball manage     (0, 2)\\t0.3333333333333333\n",
            "behave mad      (0, 4)\\t0.5773502691896258\n",
            "body feel       (0, 3)\\t0.4472135954999579 \n",
            "\n",
            "Bi-gram vector example:\n",
            "switchfoot awww bummer shoulda get david carr third day\n",
            "  (0, 27)\t0.35355339059327373\n",
            "  (0, 1)\t0.35355339059327373\n",
            "  (0, 5)\t0.35355339059327373\n",
            "  (0, 26)\t0.35355339059327373\n",
            "  (0, 12)\t0.35355339059327373\n",
            "  (0, 8)\t0.35355339059327373\n",
            "  (0, 6)\t0.35355339059327373\n",
            "  (0, 29)\t0.35355339059327373 \n",
            "\n"
          ]
        }
      ],
      "source": [
        "test_tfidf_em_2gram, test_tfidf_2gram = TFIDF(test_corpus, ngram=2)\n",
        "print_out(test_tfidf_em_2gram, test_tfidf_2gram, ngram=\"Bi-gram\")"
      ]
    },
    {
      "cell_type": "code",
      "execution_count": 68,
      "metadata": {
        "execution": {
          "iopub.execute_input": "2020-08-26T21:02:15.788716Z",
          "iopub.status.busy": "2020-08-26T21:02:15.787668Z",
          "iopub.status.idle": "2020-08-26T21:02:15.792085Z",
          "shell.execute_reply": "2020-08-26T21:02:15.792960Z"
        },
        "papermill": {
          "duration": 0.073328,
          "end_time": "2020-08-26T21:02:15.793184",
          "exception": false,
          "start_time": "2020-08-26T21:02:15.719856",
          "status": "completed"
        },
        "tags": [],
        "colab": {
          "base_uri": "https://localhost:8080/"
        },
        "id": "fLsASzHj0QtE",
        "outputId": "86715997-8876-450c-9b78-71718524e291"
      },
      "outputs": [
        {
          "output_type": "stream",
          "name": "stdout",
          "text": [
            "tf-idf with 30 features\n",
            "Tri-gram bag-of-words: \n",
            "['awww bummer shoulda' 'ball manage save' 'behave mad see'\n",
            " 'body feel itchy' 'bummer shoulda get' 'carr third day'\n",
            " 'cry result school' 'david carr third' 'dived many time'\n",
            " 'facebook texting might' 'feel itchy like' 'get david carr'\n",
            " 'itchy like fire' 'kenichan dived many' 'manage save rest'\n",
            " 'many time ball' 'might cry result' 'nationwideclass behave mad'\n",
            " 'rest go bound' 'result school today' 'save rest go' 'school today also'\n",
            " 'shoulda get david' 'switchfoot awww bummer' 'texting might cry'\n",
            " 'time ball manage' 'today also blah' 'update facebook texting'\n",
            " 'upset update facebook' 'whole body feel'] \n",
            "\n",
            "Tri-gram bag-of-feature: \n",
            "{'switchfoot': 32, 'awww': 1, 'bummer': 7, 'shoulda': 31, 'get': 16, 'david': 10, 'carr': 8, 'third': 34, 'day': 11, 'upset': 38, 'update': 37, 'facebook': 13, 'texting': 33, 'might': 24, 'cry': 9, 'result': 27, 'school': 29, 'today': 36, 'also': 0, 'blah': 4, 'kenichan': 19, 'dived': 12, 'many': 23, 'time': 35, 'ball': 2, 'manage': 22, 'save': 28, 'rest': 26, 'go': 17, 'bound': 6, 'whole': 39, 'body': 5, 'feel': 14, 'itchy': 18, 'like': 20, 'fire': 15, 'nationwideclass': 25, 'behave': 3, 'mad': 21, 'see': 30} \n",
            "\n",
            "BoW matrix:\n",
            "                                                 0\n",
            "awww bummer shoulda     (0, 0)\\t0.3779644730092272\n",
            "ball manage save       (0, 2)\\t0.35355339059327373\n",
            "behave mad see          (0, 4)\\t0.7071067811865475\n",
            "body feel itchy                        (0, 3)\\t0.5\n",
            "bummer shoulda get      (0, 0)\\t0.3779644730092272 \n",
            "\n",
            "Tri-gram vector example:\n",
            "switchfoot awww bummer shoulda get david carr third day\n",
            "  (0, 23)\t0.3779644730092272\n",
            "  (0, 0)\t0.3779644730092272\n",
            "  (0, 4)\t0.3779644730092272\n",
            "  (0, 22)\t0.3779644730092272\n",
            "  (0, 11)\t0.3779644730092272\n",
            "  (0, 7)\t0.3779644730092272\n",
            "  (0, 5)\t0.3779644730092272 \n",
            "\n"
          ]
        }
      ],
      "source": [
        "test_tfidf_em_3gram, test_tfidf_3gram = TFIDF(test_corpus, ngram=3)\n",
        "print_out(test_tfidf_em_3gram, test_tfidf_3gram, ngram=\"Tri-gram\")"
      ]
    },
    {
      "cell_type": "markdown",
      "source": [
        "> implementation sur l'ensemble du dataset\n"
      ],
      "metadata": {
        "id": "weOC-v-v-4WD"
      }
    },
    {
      "cell_type": "code",
      "execution_count": 69,
      "metadata": {
        "execution": {
          "iopub.execute_input": "2020-08-26T21:02:15.924180Z",
          "iopub.status.busy": "2020-08-26T21:02:15.917210Z",
          "iopub.status.idle": "2020-08-26T21:02:21.443169Z",
          "shell.execute_reply": "2020-08-26T21:02:21.444246Z"
        },
        "papermill": {
          "duration": 5.593389,
          "end_time": "2020-08-26T21:02:21.444443",
          "exception": false,
          "start_time": "2020-08-26T21:02:15.851054",
          "status": "completed"
        },
        "scrolled": true,
        "tags": [],
        "colab": {
          "base_uri": "https://localhost:8080/"
        },
        "id": "WKLKkF9H0QtE",
        "outputId": "f948b832-ac10-4a38-a102-0de9237b6a1b"
      },
      "outputs": [
        {
          "output_type": "stream",
          "name": "stdout",
          "text": [
            "tf-idf with 695610 features\n",
            "(1593071, 695610)\n",
            "CPU times: user 13.9 s, sys: 651 ms, total: 14.5 s\n",
            "Wall time: 14.5 s\n"
          ]
        }
      ],
      "source": [
        "%%time\n",
        "tweets_df_corpus = tweets_df[\"lemmatize_text\"].tolist()\n",
        "tweets_df_tfidf_1gram, tfidf_1gram = TFIDF(tweets_df_corpus, 1, MAX_NB_WORDS=len(word_counts))\n",
        "\n",
        "print(tweets_df_tfidf_1gram.shape)"
      ]
    },
    {
      "cell_type": "markdown",
      "source": [
        "> Sauvegarde des features tf-idf"
      ],
      "metadata": {
        "id": "duLNovV9_InL"
      }
    },
    {
      "cell_type": "code",
      "source": [
        "np.save(f\"{path}/tweets_df_tfidf_1gram.npy\", tweets_df_tfidf_1gram)"
      ],
      "metadata": {
        "id": "k4KSBS57_G-J"
      },
      "execution_count": 70,
      "outputs": []
    },
    {
      "cell_type": "markdown",
      "metadata": {
        "papermill": {
          "duration": 0.054799,
          "end_time": "2020-08-26T21:02:21.720069",
          "exception": false,
          "start_time": "2020-08-26T21:02:21.665270",
          "status": "completed"
        },
        "tags": [],
        "id": "8fTGq3zK0QtF"
      },
      "source": [
        "## Plongement de mots"
      ]
    },
    {
      "cell_type": "code",
      "source": [
        "%%time\n",
        "tokenized_texts = tweets_df.lemmatize_text.apply(lambda x: x.split())"
      ],
      "metadata": {
        "id": "xO6zxggW7Xn0",
        "outputId": "402b362a-2b01-4971-fa02-44ede71b656f",
        "colab": {
          "base_uri": "https://localhost:8080/"
        }
      },
      "execution_count": 71,
      "outputs": [
        {
          "output_type": "stream",
          "name": "stdout",
          "text": [
            "CPU times: user 7.13 s, sys: 1.75 s, total: 8.88 s\n",
            "Wall time: 8.74 s\n"
          ]
        }
      ]
    },
    {
      "cell_type": "markdown",
      "source": [
        "#### Word2Vec"
      ],
      "metadata": {
        "id": "za2OIoj72arw"
      }
    },
    {
      "cell_type": "code",
      "execution_count": 72,
      "metadata": {
        "execution": {
          "iopub.execute_input": "2020-08-26T21:02:24.963633Z",
          "iopub.status.busy": "2020-08-26T21:02:24.959849Z",
          "iopub.status.idle": "2020-08-26T21:02:24.967105Z",
          "shell.execute_reply": "2020-08-26T21:02:24.966410Z"
        },
        "papermill": {
          "duration": 0.072005,
          "end_time": "2020-08-26T21:02:24.967228",
          "exception": false,
          "start_time": "2020-08-26T21:02:24.895223",
          "status": "completed"
        },
        "scrolled": true,
        "tags": [],
        "id": "Nj8WwLSa0QtF"
      },
      "outputs": [],
      "source": [
        "def get_average_vec(tokens_list, vector, generate_missing=False, k=300):\n",
        "    \"\"\"\n",
        "        Calculate average embedding value of sentence from each word vector\n",
        "    \"\"\"\n",
        "\n",
        "    if len(tokens_list)<1:\n",
        "        return np.zeros(k)\n",
        "\n",
        "    if generate_missing:\n",
        "        vectorized = [vector.wv[word] if word in vector.wv else np.random.rand(k) for word in tokens_list]\n",
        "    else:\n",
        "        vectorized = [vector.wv[word] if word in vector.wv else np.zeros(k) for word in tokens_list]\n",
        "\n",
        "    length = len(vectorized)\n",
        "    summed = np.sum(vectorized, axis=0)\n",
        "    averaged = np.divide(summed, length)\n",
        "    return averaged\n",
        "\n",
        "def get_embeddings(vectors, text, generate_missing=False, k=300):\n",
        "    \"\"\"\n",
        "        create the sentence embedding\n",
        "    \"\"\"\n",
        "    embeddings = text.apply(lambda x: get_average_vec(x, vectors, generate_missing=generate_missing, k=k))\n",
        "    return list(embeddings)"
      ]
    },
    {
      "cell_type": "code",
      "execution_count": 73,
      "metadata": {
        "execution": {
          "iopub.execute_input": "2020-08-26T21:02:21.839807Z",
          "iopub.status.busy": "2020-08-26T21:02:21.838848Z",
          "iopub.status.idle": "2020-08-26T21:02:24.605009Z",
          "shell.execute_reply": "2020-08-26T21:02:24.604167Z"
        },
        "papermill": {
          "duration": 2.829854,
          "end_time": "2020-08-26T21:02:24.605143",
          "exception": false,
          "start_time": "2020-08-26T21:02:21.775289",
          "status": "completed"
        },
        "scrolled": true,
        "tags": [],
        "colab": {
          "base_uri": "https://localhost:8080/"
        },
        "id": "qegrQ9NE0QtF",
        "outputId": "045bf5db-ff95-48c8-d9f5-ee78c3c15bc3"
      },
      "outputs": [
        {
          "output_type": "stream",
          "name": "stdout",
          "text": [
            "CPU times: user 4min 31s, sys: 6.05 s, total: 4min 37s\n",
            "Wall time: 1min 42s\n"
          ]
        }
      ],
      "source": [
        "%%time\n",
        "word2vec_model = Word2Vec(tokenized_texts, min_count=1,\n",
        "                                vector_size=300, window=5)"
      ]
    },
    {
      "cell_type": "code",
      "execution_count": 74,
      "metadata": {
        "execution": {
          "iopub.execute_input": "2020-08-26T21:02:25.092224Z",
          "iopub.status.busy": "2020-08-26T21:02:25.090867Z",
          "iopub.status.idle": "2020-08-26T21:02:27.040119Z",
          "shell.execute_reply": "2020-08-26T21:02:27.039222Z"
        },
        "papermill": {
          "duration": 2.016192,
          "end_time": "2020-08-26T21:02:27.040294",
          "exception": false,
          "start_time": "2020-08-26T21:02:25.024102",
          "status": "completed"
        },
        "tags": [],
        "colab": {
          "base_uri": "https://localhost:8080/"
        },
        "id": "5UNpfpg80QtF",
        "outputId": "14044d0d-1e8b-4063-8fd2-6534f99f6460"
      },
      "outputs": [
        {
          "output_type": "stream",
          "name": "stdout",
          "text": [
            "Embedding matrix size 1593071 300\n",
            "The sentence: \"switchfoot awww bummer shoulda get david carr third day\" got embedding values: \n",
            "[-1.65195037e-02  5.29266596e-01  4.40941527e-02  6.83416188e-01\n",
            " -1.32978618e-01 -5.04247427e-01  1.53470948e-01  9.12674606e-01\n",
            "  6.03233576e-02 -2.41359055e-01  1.46484673e-01 -4.73486066e-01\n",
            "  3.34454924e-01  1.21673018e-01 -1.32267699e-01 -1.57755613e-01\n",
            " -2.28853330e-01 -6.57112062e-01  8.73717964e-02 -4.40319538e-01\n",
            " -6.32332504e-01  1.25014829e-02 -2.32256308e-01 -1.11527458e-01\n",
            "  3.45248103e-01 -3.41874629e-01 -4.63710904e-01  1.77806064e-01\n",
            " -8.43148708e-01 -9.80340615e-02  6.97928369e-01 -2.99219668e-01\n",
            "  7.54214823e-02 -3.18422914e-03 -1.41901284e-01 -2.75364786e-01\n",
            "  3.70433003e-01  2.01899096e-01  3.18980157e-01  4.62913364e-02\n",
            " -1.31632328e-01  9.95534360e-02  3.47048305e-02 -5.99115074e-01\n",
            "  4.62973803e-01  2.11137891e-01  1.29545638e-02  5.37823021e-01\n",
            "  3.90156102e-03  5.32894254e-01  1.06216026e-02 -9.81672574e-03\n",
            " -2.46597871e-01  4.14905965e-01 -2.68387999e-02  1.15751587e-01\n",
            "  1.52571872e-01  8.78380537e-02  2.03628629e-01  4.24474515e-02\n",
            " -6.30206883e-01 -2.47927368e-01 -3.22207399e-02 -4.48225647e-01\n",
            "  5.91348767e-01 -1.17854953e-01  1.87332109e-01 -9.24558416e-02\n",
            "  6.70769066e-02  3.31108435e-03 -2.87704729e-02  1.61179692e-01\n",
            "  3.16827670e-02  5.05369455e-02 -5.67652397e-02  9.46390256e-02\n",
            " -4.42630410e-01  7.16890767e-02 -2.45998695e-01 -1.28757775e-01\n",
            " -1.04335062e-01 -1.73145056e-01  1.02408856e-01  7.08789527e-01\n",
            "  1.43414110e-01 -6.39422983e-02 -1.86063215e-01  1.67695079e-02\n",
            "  1.78888619e-01  1.62390366e-01 -9.22635347e-02 -1.72735423e-01\n",
            "  1.87727958e-01  3.37655962e-01  5.28532743e-01  4.76920195e-02\n",
            "  1.26745567e-01 -1.35548636e-01  5.74419880e-03  1.56932965e-01\n",
            "  1.47291347e-01 -7.70010576e-02  3.41116518e-01  2.15205876e-03\n",
            "  4.90464158e-02 -1.15679968e-02  6.48929626e-02  2.67561555e-01\n",
            " -1.44608080e-01  1.75282374e-01 -4.09862161e-01  1.56320497e-01\n",
            "  2.76383281e-01  3.70117754e-01  4.81696755e-01  5.65399714e-02\n",
            "  9.70959291e-02  9.09191556e-03  1.85404681e-02  9.83958095e-02\n",
            "  1.04384005e-01  6.02072477e-01  1.24013357e-01  1.28824944e-02\n",
            "  2.22092539e-01  3.94015044e-01  3.39314997e-01 -4.39402103e-01\n",
            "  4.86392863e-02  1.69255212e-01 -1.73397064e-01  1.46073505e-01\n",
            "  6.72304809e-01  2.91679632e-02  1.94324419e-01  3.63239534e-02\n",
            " -2.34870166e-01 -2.93714732e-01 -5.59761226e-01 -7.14770854e-02\n",
            " -1.98436230e-01 -8.00231755e-01 -2.56657869e-01  1.49831757e-01\n",
            "  2.19686985e-01  8.19583051e-03  1.89327076e-01  7.25995842e-03\n",
            " -2.58022755e-01 -3.52824658e-01 -2.94256657e-01 -4.29547668e-01\n",
            " -2.73432702e-01 -1.66557387e-01  4.19328243e-01 -2.24901542e-01\n",
            " -5.37643850e-01 -1.32461250e-01  3.81476343e-01  6.72075510e-01\n",
            "  3.13872248e-02  1.86638892e-01 -4.91425395e-01 -2.45269071e-02\n",
            " -9.83002633e-02  3.40584278e-01 -5.93166538e-02 -2.26656944e-01\n",
            "  2.12453708e-01  7.63529062e-01 -5.05972058e-02 -3.27028632e-01\n",
            " -2.40411282e-01 -4.11614090e-01 -3.62853050e-01 -2.01349333e-02\n",
            "  3.48462462e-01 -2.27454022e-01 -1.06791537e-02 -7.14698583e-02\n",
            " -2.21862033e-01 -1.76128615e-02  6.33239523e-02 -2.08269224e-01\n",
            " -3.48047942e-01  3.51430327e-02 -7.12066218e-02 -3.95319819e-01\n",
            "  2.10756242e-01 -5.31557024e-01 -2.44368583e-01 -7.72591084e-02\n",
            " -4.61918563e-01 -2.06425916e-02  1.51214272e-01  9.47435200e-02\n",
            "  1.56651482e-01 -5.66180646e-01  3.99242520e-01  1.24726690e-01\n",
            " -6.61971331e-01  3.81675243e-01 -2.62674615e-02 -3.49891216e-01\n",
            " -3.89448613e-01  6.15637712e-02 -3.30601096e-01  3.77818227e-01\n",
            "  2.68454924e-02  7.36127272e-02  3.54895175e-01  1.71828404e-01\n",
            "  1.73393324e-01  3.07514310e-01  1.15498476e-01 -4.99276996e-01\n",
            " -5.56080602e-02 -2.31596634e-01 -5.22393286e-01  1.91209853e-01\n",
            " -2.95471370e-01 -2.00442553e-01  3.27632576e-02 -4.38318610e-01\n",
            " -9.70321000e-02 -6.79892302e-02 -3.03590894e-02  2.67038941e-01\n",
            "  1.45299524e-01  4.57084715e-01  1.44697055e-01 -1.79560125e-01\n",
            " -2.10549057e-01  1.17135525e-01  3.36975753e-01 -8.19123983e-02\n",
            "  2.11756408e-01  2.79330969e-01  2.66020354e-02 -5.65634668e-01\n",
            "  3.13166785e-03 -1.56762242e-01 -5.08499444e-01  2.18326282e-02\n",
            "  1.64158968e-03 -1.36159837e-01 -1.12212859e-01  9.93326753e-02\n",
            " -1.84948385e-01  3.20314348e-01  3.91691774e-01  3.71884227e-01\n",
            " -1.38019204e-01  3.47812027e-01  5.70284538e-02 -9.92211848e-02\n",
            "  3.04718763e-01 -6.55698404e-02 -4.39394236e-01 -5.07595181e-01\n",
            "  5.48101664e-01  2.39368677e-01 -1.60462990e-01 -9.25710440e-01\n",
            " -1.40651688e-01  1.77897155e-01  3.20546031e-01  1.56460077e-01\n",
            " -3.84625375e-01  2.70148158e-01  6.41942993e-02  2.71672517e-01\n",
            " -3.37688960e-02 -3.19507927e-01  8.90536845e-01  2.36742556e-01\n",
            " -2.54170895e-02  6.52656406e-02 -2.39055738e-01  2.25848511e-01\n",
            "  2.05626503e-01 -3.04800898e-01 -9.53730643e-02  1.65003121e-01\n",
            "  1.67211086e-01 -2.63351381e-01 -2.83704132e-01  4.42529410e-01\n",
            "  1.65237427e-01  6.89815998e-01 -5.14692743e-04  4.93134826e-01\n",
            "  1.61606729e-01 -2.62010515e-01  5.51975608e-01 -8.26620907e-02\n",
            " -1.28717393e-01 -1.19601078e-01 -8.22488442e-02 -2.83240438e-01]\n",
            "CPU times: user 38.9 s, sys: 5.47 s, total: 44.4 s\n",
            "Wall time: 44.3 s\n"
          ]
        }
      ],
      "source": [
        "%%time\n",
        "embeddings_word2vec = get_embeddings(word2vec_model, tokenized_texts, k=300)\n",
        "\n",
        "print(\"Embedding matrix size\", len(embeddings_word2vec), len(embeddings_word2vec[0]))\n",
        "print(\"The sentence: \\\"%s\\\" got embedding values: \" % tweets_df[\"lemmatize_text\"][0])\n",
        "print(embeddings_word2vec[0])"
      ]
    },
    {
      "cell_type": "markdown",
      "source": [
        "> Sauvegarde des features word2vec"
      ],
      "metadata": {
        "id": "ICnfgesF3PTq"
      }
    },
    {
      "cell_type": "code",
      "source": [
        "pickle.dump(embeddings_word2vec, open(f\"{path}/embeddings_word2vec.pkl\", \"wb\"))"
      ],
      "metadata": {
        "id": "_eJRZDpcJJrt"
      },
      "execution_count": 75,
      "outputs": []
    },
    {
      "cell_type": "markdown",
      "metadata": {
        "papermill": {
          "duration": 0.05537,
          "end_time": "2020-08-26T21:02:27.282356",
          "exception": false,
          "start_time": "2020-08-26T21:02:27.226986",
          "status": "completed"
        },
        "tags": [],
        "id": "5ykkFsxQ0QtG"
      },
      "source": [
        "#### FastText"
      ]
    },
    {
      "cell_type": "code",
      "execution_count": 76,
      "metadata": {
        "execution": {
          "iopub.execute_input": "2020-08-26T21:02:27.403192Z",
          "iopub.status.busy": "2020-08-26T21:02:27.402410Z",
          "iopub.status.idle": "2020-08-26T21:04:25.586507Z",
          "shell.execute_reply": "2020-08-26T21:04:25.585637Z"
        },
        "papermill": {
          "duration": 118.248598,
          "end_time": "2020-08-26T21:04:25.586649",
          "exception": false,
          "start_time": "2020-08-26T21:02:27.338051",
          "status": "completed"
        },
        "scrolled": true,
        "tags": [],
        "colab": {
          "base_uri": "https://localhost:8080/"
        },
        "id": "WcT_4xhg0QtG",
        "outputId": "f46019f4-81d2-4435-b47f-a3766145bc08"
      },
      "outputs": [
        {
          "output_type": "stream",
          "name": "stdout",
          "text": [
            "CPU times: user 9min 1s, sys: 3.13 s, total: 9min 4s\n",
            "Wall time: 3min 57s\n"
          ]
        }
      ],
      "source": [
        "%%time\n",
        "fasttext_model = FastText(tokenized_texts, window=5, min_count=1)"
      ]
    },
    {
      "cell_type": "code",
      "execution_count": 77,
      "metadata": {
        "execution": {
          "iopub.execute_input": "2020-08-26T21:04:25.947945Z",
          "iopub.status.busy": "2020-08-26T21:04:25.946549Z",
          "iopub.status.idle": "2020-08-26T21:04:27.919277Z",
          "shell.execute_reply": "2020-08-26T21:04:27.917686Z"
        },
        "papermill": {
          "duration": 2.041385,
          "end_time": "2020-08-26T21:04:27.919481",
          "exception": false,
          "start_time": "2020-08-26T21:04:25.878096",
          "status": "completed"
        },
        "tags": [],
        "colab": {
          "base_uri": "https://localhost:8080/"
        },
        "id": "x1GcqKad0QtG",
        "outputId": "542dfe2c-872f-41b4-a766-d625fb6622ba"
      },
      "outputs": [
        {
          "output_type": "stream",
          "name": "stdout",
          "text": [
            "Embedding matrix size 1593071 100\n",
            "The sentence: \"switchfoot awww bummer shoulda get david carr third day\" got embedding values: \n",
            "[-1.0233709   1.2854544  -0.9723427   0.4005531   2.1016052  -0.76692426\n",
            "  0.12030239 -1.3718193  -0.5847217  -1.5386069   1.1584105  -1.3925321\n",
            "  0.44179654  0.5374105  -0.18712422 -0.0708024  -0.5731978   1.1031057\n",
            " -0.8405793  -0.8186016   1.0260534   1.2157187   0.79568875  0.8174203\n",
            " -0.11534385 -0.9890759  -0.05402507 -0.51505333 -0.1169264   0.1452508\n",
            "  0.69112426  0.542607   -0.26269206 -0.6229765  -1.8404028   1.2473257\n",
            "  0.8763364  -2.949408   -0.42016113  1.0586048   2.5025206   0.7506966\n",
            " -0.67028207 -0.5087156   0.12624478  1.2716391   0.2055026  -0.0911221\n",
            "  1.7506169   0.67480075  0.8100112  -0.84353614  2.059121    0.883549\n",
            " -0.14786972  2.156383    2.296094    0.6964715  -0.3756464   1.77088\n",
            "  0.18183452  0.88212323  0.22164379 -0.27073368  0.86086774 -0.24366304\n",
            "  0.2887033  -0.55689603 -0.20693873  0.46807924 -0.42435288 -1.2143055\n",
            " -1.1344283  -0.5322363  -0.00758627  0.31202745  0.7706443  -1.4050672\n",
            "  0.7761597   0.44737393 -0.7748163  -0.4355604   0.74138075  1.4384418\n",
            " -1.4417663   1.0186019  -0.349076   -0.10304064 -0.05680104  0.35272536\n",
            " -0.2577894  -0.82842433  0.720242   -0.18504044 -0.44582134  0.8369442\n",
            "  0.9731147   0.7221684   0.07699461 -1.2447476 ]\n",
            "CPU times: user 38.3 s, sys: 3.22 s, total: 41.6 s\n",
            "Wall time: 41.5 s\n"
          ]
        }
      ],
      "source": [
        "%%time\n",
        "embeddings_fasttext = get_embeddings(fasttext_model, tokenized_texts, k=300)\n",
        "\n",
        "print(\"Embedding matrix size\", len(embeddings_fasttext), len(embeddings_fasttext[0]))\n",
        "print(\"The sentence: \\\"%s\\\" got embedding values: \" % tweets_df[\"lemmatize_text\"][0])\n",
        "print(embeddings_fasttext[0])"
      ]
    },
    {
      "cell_type": "markdown",
      "source": [
        "> Sauvegarde des features fastText"
      ],
      "metadata": {
        "id": "Vx360LTq3c_L"
      }
    },
    {
      "cell_type": "code",
      "source": [
        "pickle.dump(embeddings_fasttext, open(f\"{path}/embeddings_fasttext.pkl\", \"wb\"))"
      ],
      "metadata": {
        "id": "UUUnxjksJlLh"
      },
      "execution_count": 78,
      "outputs": []
    },
    {
      "cell_type": "markdown",
      "metadata": {
        "papermill": {
          "duration": 0.057593,
          "end_time": "2020-08-26T21:06:23.853803",
          "exception": false,
          "start_time": "2020-08-26T21:06:23.796210",
          "status": "completed"
        },
        "tags": [],
        "id": "WhVqALuP0QtI"
      },
      "source": [
        "#### Bidirectional Encoder Representations from Transformers (BERT)\n"
      ]
    },
    {
      "cell_type": "code",
      "execution_count": 79,
      "metadata": {
        "execution": {
          "iopub.execute_input": "2020-08-26T21:06:23.978892Z",
          "iopub.status.busy": "2020-08-26T21:06:23.978095Z",
          "iopub.status.idle": "2020-08-26T21:06:31.667775Z",
          "shell.execute_reply": "2020-08-26T21:06:31.666992Z"
        },
        "papermill": {
          "duration": 7.756564,
          "end_time": "2020-08-26T21:06:31.667901",
          "exception": false,
          "start_time": "2020-08-26T21:06:23.911337",
          "status": "completed"
        },
        "scrolled": true,
        "tags": [],
        "colab": {
          "base_uri": "https://localhost:8080/"
        },
        "id": "g07-0liL0QtI",
        "outputId": "211370ce-7615-4d36-abc3-2a2c67495fcf"
      },
      "outputs": [
        {
          "output_type": "stream",
          "name": "stdout",
          "text": [
            "CPU times: user 9.72 s, sys: 3.45 s, total: 13.2 s\n",
            "Wall time: 22 s\n"
          ]
        }
      ],
      "source": [
        "%%time\n",
        "tfhub_handle_encoder = \"https://tfhub.dev/tensorflow/small_bert/bert_en_uncased_L-12_H-768_A-12/1\"\n",
        "tfhub_handle_preprocess = \"https://tfhub.dev/tensorflow/bert_en_uncased_preprocess/3\"\n",
        "\n",
        "bert_preprocess = hub.KerasLayer(\n",
        "    tfhub_handle_preprocess,\n",
        "    trainable=False, name=\"preprocess\"\n",
        ")\n",
        "bert_encoder = hub.KerasLayer(\n",
        "    tfhub_handle_encoder,\n",
        "    trainable=True, name=\"encoder\"\n",
        ")"
      ]
    },
    {
      "cell_type": "markdown",
      "source": [
        "\n",
        "\n",
        "> Test bert preprocessing\n",
        "\n"
      ],
      "metadata": {
        "id": "zAmDVLIYNvu7"
      }
    },
    {
      "cell_type": "code",
      "source": [
        "text_test = ['this is such an amazing movie!']\n",
        "text_preprocessed = bert_preprocess(text_test)\n",
        "\n",
        "print(f'Keys       : {list(text_preprocessed.keys())}')\n",
        "print(f'Shape      : {text_preprocessed[\"input_word_ids\"].shape}')\n",
        "print(f'Word Ids   : {text_preprocessed[\"input_word_ids\"][0, :12]}')\n",
        "print(f'Input Mask : {text_preprocessed[\"input_mask\"][0, :12]}')\n",
        "print(f'Type Ids   : {text_preprocessed[\"input_type_ids\"][0, :12]}')"
      ],
      "metadata": {
        "id": "YTmbOor0N7j2",
        "outputId": "2d654691-3884-4621-9c71-aaa149d4dd8d",
        "colab": {
          "base_uri": "https://localhost:8080/"
        }
      },
      "execution_count": 80,
      "outputs": [
        {
          "output_type": "stream",
          "name": "stdout",
          "text": [
            "Keys       : ['input_type_ids', 'input_mask', 'input_word_ids']\n",
            "Shape      : (1, 128)\n",
            "Word Ids   : [ 101 2023 2003 2107 2019 6429 3185  999  102    0    0    0]\n",
            "Input Mask : [1 1 1 1 1 1 1 1 1 0 0 0]\n",
            "Type Ids   : [0 0 0 0 0 0 0 0 0 0 0 0]\n"
          ]
        }
      ]
    },
    {
      "cell_type": "markdown",
      "source": [
        "> Test bert enconding"
      ],
      "metadata": {
        "id": "WQ7tNZkXOJNY"
      }
    },
    {
      "cell_type": "code",
      "source": [
        "bert_results = bert_encoder(text_preprocessed)\n",
        "\n",
        "print(f'Loaded BERT: {tfhub_handle_encoder}')\n",
        "print(f'Pooled Outputs Shape:{bert_results[\"pooled_output\"].shape}')\n",
        "print(f'Pooled Outputs Values:{bert_results[\"pooled_output\"][0, :12]}')\n",
        "print(f'Sequence Outputs Shape:{bert_results[\"sequence_output\"].shape}')\n",
        "print(f'Sequence Outputs Values:{bert_results[\"sequence_output\"][0, :12]}')"
      ],
      "metadata": {
        "id": "g1JwhAeDOOqk",
        "outputId": "3dbd9055-e249-497e-f70b-d5f6a78d7353",
        "colab": {
          "base_uri": "https://localhost:8080/"
        }
      },
      "execution_count": 81,
      "outputs": [
        {
          "output_type": "stream",
          "name": "stdout",
          "text": [
            "Loaded BERT: https://tfhub.dev/tensorflow/small_bert/bert_en_uncased_L-12_H-768_A-12/1\n",
            "Pooled Outputs Shape:(1, 768)\n",
            "Pooled Outputs Values:[ 0.1788362  -0.23532821  0.9570173  -0.39067608 -0.20859718 -0.99966097\n",
            "  0.18750408  0.5010721  -0.43959388 -0.20681769  0.47851366 -0.47998765]\n",
            "Sequence Outputs Shape:(1, 128, 768)\n",
            "Sequence Outputs Values:[[ 0.2316349   0.37881228  0.20612077 ... -0.16753703  0.31791148\n",
            "  -0.0559496 ]\n",
            " [ 0.71144724  0.05240272  0.4039933  ... -0.23849712  0.06221136\n",
            "  -0.11749871]\n",
            " [ 0.31278363 -0.20193692  0.31673133 ...  0.22400208  0.68846744\n",
            "  -0.67951286]\n",
            " ...\n",
            " [ 0.19328623  0.3724367   0.57984746 ... -0.25043368 -0.15593146\n",
            "   0.2765646 ]\n",
            " [ 0.26625976  0.23777674  0.54345405 ... -0.14922866 -0.2386093\n",
            "   0.2457992 ]\n",
            " [ 0.11941037  0.5005053   0.36981526 ... -0.18295774 -0.08711515\n",
            "   0.33573133]]\n"
          ]
        }
      ]
    },
    {
      "cell_type": "code",
      "source": [
        "def create_pooled_output_dataset(texts, batch_size=32):\n",
        "    ds = tf.data.Dataset.from_tensor_slices(texts)\n",
        "    ds = ds.batch(batch_size)\n",
        "\n",
        "    # prétraitement\n",
        "    ds = ds.map(lambda x: bert_preprocess(x),\n",
        "                num_parallel_calls=tf.data.AUTOTUNE)\n",
        "\n",
        "    # encodage -> pooled_output\n",
        "    ds = ds.map(lambda x: bert_encoder(x)['pooled_output'],\n",
        "                num_parallel_calls=tf.data.AUTOTUNE)\n",
        "\n",
        "    ds = ds.prefetch(tf.data.AUTOTUNE)\n",
        "    return ds\n",
        "\n",
        "def extract_all_embeddings(texts, batch_size=32):\n",
        "    dataset = create_pooled_output_dataset(texts, batch_size=batch_size)\n",
        "    embeddings = []\n",
        "    for batch in tqdm(dataset, desc=\"Generating BERT embeddings\"):\n",
        "        embeddings.append(batch.numpy())\n",
        "    return np.vstack(embeddings)"
      ],
      "metadata": {
        "id": "7tXlR3HUNWbR"
      },
      "execution_count": 82,
      "outputs": []
    },
    {
      "cell_type": "code",
      "source": [
        "%%time\n",
        "embeddings_bert = extract_all_embeddings(tweets_df.lemmatize_text[:10000])\n",
        "\n",
        "print(\"Shape des embeddings:\", embeddings_bert.shape)  # (N, 768)"
      ],
      "metadata": {
        "id": "Nn8AMbIjT4Mq",
        "outputId": "c808c93f-9935-4d3f-e231-e7597229a559",
        "colab": {
          "base_uri": "https://localhost:8080/"
        }
      },
      "execution_count": 83,
      "outputs": [
        {
          "output_type": "stream",
          "name": "stderr",
          "text": [
            "Generating BERT embeddings: 100%|██████████| 313/313 [12:14<00:00,  2.35s/it]"
          ]
        },
        {
          "output_type": "stream",
          "name": "stdout",
          "text": [
            "Shape des embeddings: (10000, 768)\n",
            "CPU times: user 1h 30min 42s, sys: 3min 36s, total: 1h 34min 18s\n",
            "Wall time: 12min 15s\n"
          ]
        },
        {
          "output_type": "stream",
          "name": "stderr",
          "text": [
            "\n"
          ]
        }
      ]
    },
    {
      "cell_type": "code",
      "execution_count": 84,
      "metadata": {
        "execution": {
          "iopub.execute_input": "2020-08-26T21:07:11.162448Z",
          "iopub.status.busy": "2020-08-26T21:07:11.161561Z",
          "iopub.status.idle": "2020-08-26T21:07:18.525305Z",
          "shell.execute_reply": "2020-08-26T21:07:18.525920Z"
        },
        "papermill": {
          "duration": 7.433166,
          "end_time": "2020-08-26T21:07:18.526094",
          "exception": false,
          "start_time": "2020-08-26T21:07:11.092928",
          "status": "completed"
        },
        "tags": [],
        "id": "LKzSVrIU0QtI",
        "outputId": "ad77c446-3125-421d-8b28-9cdb42d139fb",
        "colab": {
          "base_uri": "https://localhost:8080/"
        }
      },
      "outputs": [
        {
          "output_type": "stream",
          "name": "stdout",
          "text": [
            "Loaded BERT: https://tfhub.dev/tensorflow/small_bert/bert_en_uncased_L-12_H-768_A-12/1\n",
            "Pooled Outputs Shape:(10000, 768)\n",
            "Pooled Outputs Values:[-0.03516729 -0.04330144  0.934831   -0.26250058  0.02496504  0.9993337\n",
            " -0.12736808  0.85533583 -0.02469626 -0.15586057  0.3689517  -0.90029013]\n",
            "CPU times: user 555 µs, sys: 978 µs, total: 1.53 ms\n",
            "Wall time: 426 µs\n"
          ]
        }
      ],
      "source": [
        "%%time\n",
        "print(f'Loaded BERT: {tfhub_handle_encoder}')\n",
        "print(f'Pooled Outputs Shape:{embeddings_bert.shape}')\n",
        "print(f'Pooled Outputs Values:{embeddings_bert[0, :12]}')"
      ]
    },
    {
      "cell_type": "code",
      "source": [
        "np.save(f\"{path}/embeddings_bert.npy\", embeddings_bert)"
      ],
      "metadata": {
        "id": "PweENTx7epIW"
      },
      "execution_count": 85,
      "outputs": []
    },
    {
      "cell_type": "code",
      "source": [
        "# Sauvegarder les targets et les contents\n",
        "np.save(f\"{path}/targets.npy\", tweets_df.target.values)\n",
        "np.save(f\"{path}/contents.npy\", tweets_df.content)"
      ],
      "metadata": {
        "id": "thXzIJ69WlRI"
      },
      "execution_count": 88,
      "outputs": []
    },
    {
      "cell_type": "code",
      "source": [
        "end_time = time.time()\n",
        "print(f\"Execution time={end_time-init_time} seconds\")"
      ],
      "metadata": {
        "id": "cUH9M9mpxsvW",
        "outputId": "7b8a99e7-5510-43a5-d8e9-7bd93accca69",
        "colab": {
          "base_uri": "https://localhost:8080/"
        }
      },
      "execution_count": 86,
      "outputs": [
        {
          "output_type": "stream",
          "name": "stdout",
          "text": [
            "Execution time=1647.0867309570312 seconds\n"
          ]
        }
      ]
    },
    {
      "cell_type": "markdown",
      "source": [
        "# FIN"
      ],
      "metadata": {
        "id": "Uefoo63yxugP"
      }
    }
  ],
  "metadata": {
    "kernelspec": {
      "display_name": "Python 3 (ipykernel)",
      "language": "python",
      "name": "python3"
    },
    "language_info": {
      "codemirror_mode": {
        "name": "ipython",
        "version": 3
      },
      "file_extension": ".py",
      "mimetype": "text/x-python",
      "name": "python",
      "nbconvert_exporter": "python",
      "pygments_lexer": "ipython3",
      "version": "3.13.2"
    },
    "papermill": {
      "duration": 500.435762,
      "end_time": "2020-08-26T21:07:20.093709",
      "environment_variables": {},
      "exception": null,
      "input_path": "__notebook__.ipynb",
      "output_path": "__notebook__.ipynb",
      "parameters": {},
      "start_time": "2020-08-26T20:58:59.657947",
      "version": "2.1.0"
    },
    "colab": {
      "provenance": [],
      "toc_visible": true,
      "machine_shape": "hm"
    }
  },
  "nbformat": 4,
  "nbformat_minor": 0
}